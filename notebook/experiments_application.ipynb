{
 "cells": [
  {
   "cell_type": "markdown",
   "metadata": {},
   "source": [
    "# Experiments"
   ]
  },
  {
   "cell_type": "code",
   "execution_count": null,
   "metadata": {},
   "outputs": [],
   "source": [
    "#!pip install matplotlib\n",
    "#!pip install pandas\n",
    "#!pip install tqdm\n",
    "\n",
    "# code for importing from src\n",
    "import os\n",
    "os.chdir('../') # change working directory to the root of the project\n",
    "!pip install -e . # install package in editable mode\n",
    "os.chdir('src') # change working directory back to src"
   ]
  },
  {
   "cell_type": "code",
   "execution_count": 1,
   "metadata": {},
   "outputs": [],
   "source": [
    "# Import.\n",
    "import os\n",
    "\n",
    "import numpy as np\n",
    "import matplotlib.pyplot as plt\n",
    "import pandas as pd\n",
    "\n",
    "from models.principal_rbm_alpha import RBM\n",
    "from models.principal_dbn_alpha import DBN\n",
    "from models.principal_dnn_mnist import DNN\n",
    "from utils import (\n",
    "    load_mnist,\n",
    "    load_alphadigit,\n",
    "    read_alpha_digit,\n",
    "    plot_characters_alphadigit,\n",
    "    plot_original_and_generated_images\n",
    ")"
   ]
  },
  {
   "cell_type": "code",
   "execution_count": 2,
   "metadata": {},
   "outputs": [],
   "source": [
    "DATA_FOLDER = \"../data/\"\n",
    "ALPHA_DIGIT_PATH = os.path.join(DATA_FOLDER, \"binaryalphadigs.mat\")\n",
    "MNIST_PATH = os.path.join(DATA_FOLDER, \"mnist_all.mat\")\n",
    "\n",
    "for path in [ALPHA_DIGIT_PATH, MNIST_PATH]:\n",
    "    if not os.path.exists(path):\n",
    "        raise FileNotFoundError(f\"The file {path} does not exist.\")\n",
    "\n",
    "SEED = 42"
   ]
  },
  {
   "cell_type": "markdown",
   "metadata": {},
   "source": [
    "## 1. Study on BinaryAlphaDigit"
   ]
  },
  {
   "cell_type": "code",
   "execution_count": 3,
   "metadata": {},
   "outputs": [
    {
     "data": {
      "image/png": "[encoded data removed]",
      "text/plain": [
       "<Figure size 400x200 with 2 Axes>"
      ]
     },
     "metadata": {},
     "output_type": "display_data"
    },
    {
     "data": {
      "image/png": "[encoded data removed]",
      "text/plain": [
       "<Figure size 800x200 with 4 Axes>"
      ]
     },
     "metadata": {},
     "output_type": "display_data"
    },
    {
     "name": "stdout",
     "output_type": "stream",
     "text": [
      "Original data: (36, 39)\n",
      "Original data (unstack samples -> flatten images): (1365, 320)\n",
      "Subset (1 character) data  (39, 320)\n",
      "Subset (4 characters) data  (156, 320)\n"
     ]
    }
   ],
   "source": [
    "alphadigit = load_alphadigit(ALPHA_DIGIT_PATH)\n",
    "\n",
    "chars_1 = [8]\n",
    "chars_2 = chars_1 + [\"Y\"]\n",
    "chars_3 = chars_2 + [\"L\"]\n",
    "chars_4 = chars_3 + [\"H\"]\n",
    "data_alpha_1 = read_alpha_digit(chars_1, data=alphadigit, use_data=True)\n",
    "data_alpha_2 = read_alpha_digit(chars_2, data=alphadigit, use_data=True)\n",
    "data_alpha_3 = read_alpha_digit(chars_3, data=alphadigit, use_data=True)\n",
    "data_alpha_4 = read_alpha_digit(chars_4, data=alphadigit, use_data=True)\n",
    "\n",
    "all_chars = np.arange(0, 35).tolist()\n",
    "alphadigit_data = read_alpha_digit(all_chars, data=alphadigit, use_data=True) # read all characters\n",
    "\n",
    "plot_characters_alphadigit(chars_1, data_alpha_1)\n",
    "plot_characters_alphadigit(chars_4, data_alpha_4)\n",
    "\n",
    "print(\"Original data:\", alphadigit.shape)\n",
    "print(\"Original data (unstack samples -> flatten images):\", alphadigit_data.shape)\n",
    "print(f\"Subset ({len(chars_1)} character) data \", data_alpha_1.shape)\n",
    "print(f\"Subset ({len(chars_4)} characters) data \", data_alpha_4.shape)"
   ]
  },
  {
   "cell_type": "markdown",
   "metadata": {},
   "source": [
    "### RBM"
   ]
  },
  {
   "cell_type": "code",
   "execution_count": 4,
   "metadata": {},
   "outputs": [
    {
     "name": "stdout",
     "output_type": "stream",
     "text": [
      "RBM(n_visible=320, n_hidden=200)\n"
     ]
    },
    {
     "name": "stderr",
     "output_type": "stream",
     "text": [
      "Epoch 0: 100%|██████████| 5/5 [00:00<00:00, 714.36it/s]\n",
      "Epoch 1: 100%|██████████| 5/5 [00:00<00:00, 555.71it/s]\n",
      "Epoch 2: 100%|██████████| 5/5 [00:00<00:00, 625.16it/s]\n"
     ]
    },
    {
     "name": "stderr",
     "output_type": "stream",
     "text": [
      "Epoch 3: 100%|██████████| 5/5 [00:00<00:00, 499.99it/s]\n",
      "Epoch 4: 100%|██████████| 5/5 [00:00<00:00, 555.73it/s]\n",
      "Epoch 5: 100%|██████████| 5/5 [00:00<00:00, 454.35it/s]\n",
      "Epoch 6: 100%|██████████| 5/5 [00:00<00:00, 500.33it/s]\n",
      "Epoch 7: 100%|██████████| 5/5 [00:00<00:00, 555.63it/s]\n",
      "Epoch 8: 100%|██████████| 5/5 [00:00<00:00, 499.96it/s]\n",
      "Epoch 9: 100%|██████████| 5/5 [00:00<00:00, 499.86it/s]\n",
      "Epoch 10: 100%|██████████| 5/5 [00:00<00:00, 554.90it/s]\n",
      "Epoch 11: 100%|██████████| 5/5 [00:00<00:00, 625.16it/s]\n",
      "Epoch 12: 100%|██████████| 5/5 [00:00<00:00, 555.80it/s]\n",
      "Epoch 13: 100%|██████████| 5/5 [00:00<00:00, 555.49it/s]\n",
      "Epoch 14: 100%|██████████| 5/5 [00:00<00:00, 625.19it/s]\n",
      "Epoch 15: 100%|██████████| 5/5 [00:00<00:00, 625.01it/s]\n",
      "Epoch 16: 100%|██████████| 5/5 [00:00<00:00, 555.65it/s]\n",
      "Epoch 17: 100%|██████████| 5/5 [00:00<00:00, 625.12it/s]\n",
      "Epoch 18: 100%|██████████| 5/5 [00:00<00:00, 555.98it/s]\n",
      "Epoch 19: 100%|██████████| 5/5 [00:00<00:00, 500.02it/s]\n",
      "Epoch 20: 100%|██████████| 5/5 [00:00<00:00, 416.63it/s]\n",
      "Epoch 21: 100%|██████████| 5/5 [00:00<00:00, 454.53it/s]\n",
      "Epoch 22: 100%|██████████| 5/5 [00:00<00:00, 555.58it/s]\n",
      "Epoch 23: 100%|██████████| 5/5 [00:00<00:00, 500.02it/s]\n",
      "Epoch 24: 100%|██████████| 5/5 [00:00<00:00, 555.70it/s]\n",
      "Epoch 25: 100%|██████████| 5/5 [00:00<00:00, 454.53it/s]\n",
      "Epoch 26: 100%|██████████| 5/5 [00:00<00:00, 714.43it/s]\n",
      "Epoch 27: 100%|██████████| 5/5 [00:00<00:00, 624.93it/s]\n",
      "Epoch 28: 100%|██████████| 5/5 [00:00<00:00, 416.09it/s]\n",
      "Epoch 29: 100%|██████████| 5/5 [00:00<00:00, 454.36it/s]\n",
      "Epoch 30: 100%|██████████| 5/5 [00:00<00:00, 454.34it/s]\n",
      "Epoch 31: 100%|██████████| 5/5 [00:00<00:00, 555.48it/s]\n",
      "Epoch 32: 100%|██████████| 5/5 [00:00<00:00, 714.56it/s]\n",
      "Epoch 33: 100%|██████████| 5/5 [00:00<00:00, 625.21it/s]\n",
      "Epoch 34: 100%|██████████| 5/5 [00:00<00:00, 714.26it/s]\n",
      "Epoch 35: 100%|██████████| 5/5 [00:00<00:00, 624.99it/s]\n",
      "Epoch 36: 100%|██████████| 5/5 [00:00<00:00, 500.10it/s]\n",
      "Epoch 37: 100%|██████████| 5/5 [00:00<00:00, 555.65it/s]\n",
      "Epoch 38: 100%|██████████| 5/5 [00:00<00:00, 454.59it/s]\n",
      "Epoch 39: 100%|██████████| 5/5 [00:00<00:00, 555.32it/s]\n",
      "Epoch 40: 100%|██████████| 5/5 [00:00<00:00, 555.57it/s]\n",
      "Epoch 41: 100%|██████████| 5/5 [00:00<00:00, 624.91it/s]\n",
      "Epoch 42: 100%|██████████| 5/5 [00:00<00:00, 555.76it/s]\n",
      "Epoch 43: 100%|██████████| 5/5 [00:00<00:00, 500.05it/s]\n",
      "Epoch 44: 100%|██████████| 5/5 [00:00<00:00, 500.17it/s]\n",
      "Epoch 45: 100%|██████████| 5/5 [00:00<00:00, 556.24it/s]\n",
      "Epoch 46: 100%|██████████| 5/5 [00:00<00:00, 625.01it/s]\n",
      "Epoch 47: 100%|██████████| 5/5 [00:00<00:00, 555.77it/s]\n",
      "Epoch 48: 100%|██████████| 5/5 [00:00<00:00, 624.99it/s]\n",
      "Epoch 49: 100%|██████████| 5/5 [00:00<00:00, 625.23it/s]\n",
      "Epoch 50: 100%|██████████| 5/5 [00:00<00:00, 624.86it/s]\n",
      "Epoch 51: 100%|██████████| 5/5 [00:00<00:00, 714.53it/s]\n",
      "Epoch 52: 100%|██████████| 5/5 [00:00<00:00, 624.60it/s]\n",
      "Epoch 53: 100%|██████████| 5/5 [00:00<00:00, 625.03it/s]\n",
      "Epoch 54: 100%|██████████| 5/5 [00:00<00:00, 714.12it/s]\n",
      "Epoch 55: 100%|██████████| 5/5 [00:00<00:00, 714.43it/s]\n",
      "Epoch 56: 100%|██████████| 5/5 [00:00<00:00, 625.27it/s]\n",
      "Epoch 57: 100%|██████████| 5/5 [00:00<00:00, 714.51it/s]\n",
      "Epoch 58: 100%|██████████| 5/5 [00:00<00:00, 714.39it/s]\n",
      "Epoch 59: 100%|██████████| 5/5 [00:00<00:00, 714.65it/s]\n",
      "Epoch 60: 100%|██████████| 5/5 [00:00<00:00, 714.56it/s]\n",
      "Epoch 61: 100%|██████████| 5/5 [00:00<00:00, 714.51it/s]\n",
      "Epoch 62: 100%|██████████| 5/5 [00:00<00:00, 499.87it/s]\n",
      "Epoch 63: 100%|██████████| 5/5 [00:00<00:00, 625.18it/s]\n",
      "Epoch 64: 100%|██████████| 5/5 [00:00<00:00, 714.48it/s]\n",
      "Epoch 65: 100%|██████████| 5/5 [00:00<00:00, 714.58it/s]\n",
      "Epoch 66: 100%|██████████| 5/5 [00:00<00:00, 833.13it/s]\n",
      "Epoch 67: 100%|██████████| 5/5 [00:00<00:00, 833.39it/s]\n",
      "Epoch 68: 100%|██████████| 5/5 [00:00<00:00, 714.09it/s]\n",
      "Epoch 69: 100%|██████████| 5/5 [00:00<00:00, 833.59it/s]\n",
      "Epoch 70: 100%|██████████| 5/5 [00:00<00:00, 833.33it/s]\n",
      "Epoch 71: 100%|██████████| 5/5 [00:00<00:00, 833.36it/s]\n",
      "Epoch 72: 100%|██████████| 5/5 [00:00<00:00, 833.10it/s]\n",
      "Epoch 73: 100%|██████████| 5/5 [00:00<00:00, 555.54it/s]\n",
      "Epoch 74: 100%|██████████| 5/5 [00:00<00:00, 833.43it/s]\n",
      "Epoch 75: 100%|██████████| 5/5 [00:00<00:00, 714.12it/s]\n",
      "Epoch 76: 100%|██████████| 5/5 [00:00<00:00, 624.78it/s]\n",
      "Epoch 77: 100%|██████████| 5/5 [00:00<00:00, 714.39it/s]\n",
      "Epoch 78: 100%|██████████| 5/5 [00:00<00:00, 714.36it/s]\n",
      "Epoch 79: 100%|██████████| 5/5 [00:00<00:00, 833.26it/s]\n",
      "Epoch 80: 100%|██████████| 5/5 [00:00<00:00, 625.16it/s]\n",
      "Epoch 81: 100%|██████████| 5/5 [00:00<00:00, 714.43it/s]\n",
      "Epoch 82: 100%|██████████| 5/5 [00:00<00:00, 714.34it/s]\n",
      "Epoch 83: 100%|██████████| 5/5 [00:00<00:00, 714.43it/s]\n",
      "Epoch 84: 100%|██████████| 5/5 [00:00<00:00, 714.51it/s]\n",
      "Epoch 85: 100%|██████████| 5/5 [00:00<00:00, 833.03it/s]\n",
      "Epoch 86: 100%|██████████| 5/5 [00:00<00:00, 624.97it/s]\n",
      "Epoch 87: 100%|██████████| 5/5 [00:00<00:00, 833.92it/s]\n",
      "Epoch 88: 100%|██████████| 5/5 [00:00<00:00, 714.56it/s]\n",
      "Epoch 89: 100%|██████████| 5/5 [00:00<00:00, 624.97it/s]\n",
      "Epoch 90: 100%|██████████| 5/5 [00:00<00:00, 714.46it/s]\n",
      "Epoch 91: 100%|██████████| 5/5 [00:00<00:00, 714.51it/s]\n",
      "Epoch 92: 100%|██████████| 5/5 [00:00<00:00, 714.31it/s]\n",
      "Epoch 93: 100%|██████████| 5/5 [00:00<00:00, 714.17it/s]\n",
      "Epoch 94: 100%|██████████| 5/5 [00:00<00:00, 714.36it/s]\n",
      "Epoch 95: 100%|██████████| 5/5 [00:00<00:00, 714.34it/s]\n",
      "Epoch 96: 100%|██████████| 5/5 [00:00<00:00, 833.03it/s]\n",
      "Epoch 97: 100%|██████████| 5/5 [00:00<00:00, 714.22it/s]\n",
      "Epoch 98: 100%|██████████| 5/5 [00:00<00:00, 714.39it/s]\n",
      "Epoch 99: 100%|██████████| 5/5 [00:00<00:00, 833.29it/s]\n"
     ]
    },
    {
     "data": {
      "text/plain": [
       "RBM(n_visible=320, n_hidden=200)"
      ]
     },
     "execution_count": 4,
     "metadata": {},
     "output_type": "execute_result"
    }
   ],
   "source": [
    "data_alpha = data_alpha_1\n",
    "n_chars = data_alpha.shape[0] / 39\n",
    "\n",
    "# Parameters\n",
    "n_visible = data_alpha.shape[1]  # Number of visible units (size of each image)\n",
    "n_hidden = 200  # Number of hidden units (hyperparameter)\n",
    "learning_rate = 0.1\n",
    "n_epochs = 100\n",
    "batch_size = int(8 * n_chars)\n",
    "\n",
    "# Initialize RBM\n",
    "rbm = RBM(n_visible=n_visible, n_hidden=n_hidden, random_state=SEED)\n",
    "print(rbm)\n",
    "\n",
    "# Train RBM\n",
    "rbm.train(data_alpha, learning_rate=learning_rate, n_epochs=n_epochs, batch_size=batch_size)"
   ]
  },
  {
   "cell_type": "code",
   "execution_count": 5,
   "metadata": {},
   "outputs": [
    {
     "data": {
      "image/png": "[encoded data removed]",
      "text/plain": [
       "<Figure size 1200x600 with 20 Axes>"
      ]
     },
     "metadata": {},
     "output_type": "display_data"
    }
   ],
   "source": [
    "# Generate samples\n",
    "generated_samples = rbm.generate_image(n_samples=10, n_gibbs_steps=1)\n",
    "\n",
    "plot_original_and_generated_images(data_alpha, generated_samples, **{\"cmap\":None})"
   ]
  },
  {
   "cell_type": "markdown",
   "metadata": {},
   "source": [
    "### DBN"
   ]
  },
  {
   "cell_type": "code",
   "execution_count": 6,
   "metadata": {},
   "outputs": [
    {
     "name": "stderr",
     "output_type": "stream",
     "text": [
      "Epoch 0: 100%|██████████| 5/5 [00:00<00:00, 499.94it/s]yer/s]\n",
      "Epoch 1: 100%|██████████| 5/5 [00:00<00:00, 624.97it/s]\n",
      "Epoch 2: 100%|██████████| 5/5 [00:00<00:00, 714.53it/s]\n",
      "Epoch 3: 100%|██████████| 5/5 [00:00<00:00, 454.66it/s]\n",
      "Epoch 4: 100%|██████████| 5/5 [00:00<00:00, 713.92it/s]\n",
      "Epoch 5: 100%|██████████| 5/5 [00:00<00:00, 625.03it/s]\n",
      "Epoch 6: 100%|██████████| 5/5 [00:00<00:00, 714.41it/s]\n",
      "Epoch 7: 100%|██████████| 5/5 [00:00<00:00, 833.89it/s]\n",
      "Epoch 8: 100%|██████████| 5/5 [00:00<00:00, 714.73it/s]\n",
      "Epoch 9: 100%|██████████| 5/5 [00:00<00:00, 625.21it/s]\n",
      "Epoch 10: 100%|██████████| 5/5 [00:00<00:00, 714.53it/s]\n",
      "Epoch 11: 100%|██████████| 5/5 [00:00<00:00, 714.39it/s]\n",
      "Epoch 12: 100%|██████████| 5/5 [00:00<00:00, 714.39it/s]\n",
      "Epoch 13: 100%|██████████| 5/5 [00:00<00:00, 833.49it/s]\n",
      "Epoch 14: 100%|██████████| 5/5 [00:00<00:00, 714.56it/s]\n",
      "Epoch 15: 100%|██████████| 5/5 [00:00<00:00, 714.24it/s]\n",
      "Epoch 16: 100%|██████████| 5/5 [00:00<00:00, 714.36it/s]\n",
      "Epoch 17: 100%|██████████| 5/5 [00:00<00:00, 714.58it/s]\n",
      "Epoch 18: 100%|██████████| 5/5 [00:00<00:00, 714.58it/s]\n",
      "Epoch 19: 100%|██████████| 5/5 [00:00<00:00, 714.22it/s]\n",
      "Epoch 20: 100%|██████████| 5/5 [00:00<00:00, 714.05it/s]\n",
      "Epoch 21: 100%|██████████| 5/5 [00:00<00:00, 714.26it/s]\n",
      "Epoch 22: 100%|██████████| 5/5 [00:00<00:00, 624.97it/s]\n",
      "Epoch 23: 100%|██████████| 5/5 [00:00<00:00, 714.53it/s]\n",
      "Epoch 24: 100%|██████████| 5/5 [00:00<00:00, 624.97it/s]\n",
      "Epoch 25: 100%|██████████| 5/5 [00:00<00:00, 625.14it/s]\n",
      "Epoch 26: 100%|██████████| 5/5 [00:00<00:00, 714.43it/s]\n",
      "Epoch 27: 100%|██████████| 5/5 [00:00<00:00, 624.82it/s]\n",
      "Epoch 28: 100%|██████████| 5/5 [00:00<00:00, 624.90it/s]\n",
      "Epoch 29: 100%|██████████| 5/5 [00:00<00:00, 555.64it/s]\n",
      "Epoch 30: 100%|██████████| 5/5 [00:00<00:00, 714.24it/s]\n",
      "Epoch 31: 100%|██████████| 5/5 [00:00<00:00, 714.34it/s]\n",
      "Epoch 32: 100%|██████████| 5/5 [00:00<00:00, 714.19it/s]\n",
      "Epoch 33: 100%|██████████| 5/5 [00:00<00:00, 714.24it/s]\n",
      "Epoch 34: 100%|██████████| 5/5 [00:00<00:00, 714.34it/s]\n",
      "Epoch 35: 100%|██████████| 5/5 [00:00<00:00, 713.95it/s]\n",
      "Epoch 36: 100%|██████████| 5/5 [00:00<00:00, 624.99it/s]\n",
      "Epoch 37: 100%|██████████| 5/5 [00:00<00:00, 714.17it/s]\n",
      "Epoch 38: 100%|██████████| 5/5 [00:00<00:00, 714.48it/s]\n",
      "Epoch 39: 100%|██████████| 5/5 [00:00<00:00, 714.34it/s]\n",
      "Epoch 40: 100%|██████████| 5/5 [00:00<00:00, 625.01it/s]\n",
      "Epoch 41: 100%|██████████| 5/5 [00:00<00:00, 624.75it/s]\n",
      "Epoch 42: 100%|██████████| 5/5 [00:00<00:00, 714.36it/s]\n",
      "Epoch 43: 100%|██████████| 5/5 [00:00<00:00, 714.53it/s]\n",
      "Epoch 44: 100%|██████████| 5/5 [00:00<00:00, 625.23it/s]\n",
      "Epoch 45: 100%|██████████| 5/5 [00:00<00:00, 625.05it/s]\n",
      "Epoch 46: 100%|██████████| 5/5 [00:00<00:00, 714.46it/s]\n",
      "Epoch 47: 100%|██████████| 5/5 [00:00<00:00, 624.80it/s]\n",
      "Epoch 48: 100%|██████████| 5/5 [00:00<00:00, 624.97it/s]\n",
      "Epoch 49: 100%|██████████| 5/5 [00:00<00:00, 625.03it/s]\n",
      "Epoch 50: 100%|██████████| 5/5 [00:00<00:00, 625.51it/s]\n",
      "Epoch 51: 100%|██████████| 5/5 [00:00<00:00, 624.19it/s]\n",
      "Epoch 52: 100%|██████████| 5/5 [00:00<00:00, 625.19it/s]\n",
      "Epoch 53: 100%|██████████| 5/5 [00:00<00:00, 624.90it/s]\n",
      "Epoch 54: 100%|██████████| 5/5 [00:00<00:00, 500.17it/s]\n",
      "Epoch 55: 100%|██████████| 5/5 [00:00<00:00, 714.51it/s]\n",
      "Epoch 56: 100%|██████████| 5/5 [00:00<00:00, 625.01it/s]\n",
      "Epoch 57: 100%|██████████| 5/5 [00:00<00:00, 454.50it/s]\n",
      "Epoch 58: 100%|██████████| 5/5 [00:00<00:00, 625.12it/s]\n",
      "Epoch 59: 100%|██████████| 5/5 [00:00<00:00, 714.14it/s]\n",
      "Epoch 60: 100%|██████████| 5/5 [00:00<00:00, 714.53it/s]\n",
      "Epoch 61: 100%|██████████| 5/5 [00:00<00:00, 714.09it/s]\n",
      "Epoch 62: 100%|██████████| 5/5 [00:00<00:00, 714.34it/s]\n",
      "Epoch 63: 100%|██████████| 5/5 [00:00<00:00, 714.07it/s]\n",
      "Epoch 64: 100%|██████████| 5/5 [00:00<00:00, 714.53it/s]\n",
      "Epoch 65: 100%|██████████| 5/5 [00:00<00:00, 625.01it/s]\n",
      "Epoch 66: 100%|██████████| 5/5 [00:00<00:00, 555.20it/s]\n",
      "Epoch 67: 100%|██████████| 5/5 [00:00<00:00, 625.25it/s]\n",
      "Epoch 68: 100%|██████████| 5/5 [00:00<00:00, 714.22it/s]\n",
      "Epoch 69: 100%|██████████| 5/5 [00:00<00:00, 714.26it/s]\n",
      "Epoch 70: 100%|██████████| 5/5 [00:00<00:00, 625.12it/s]\n",
      "Epoch 71: 100%|██████████| 5/5 [00:00<00:00, 714.26it/s]\n",
      "Epoch 72: 100%|██████████| 5/5 [00:00<00:00, 714.26it/s]\n",
      "Epoch 73: 100%|██████████| 5/5 [00:00<00:00, 624.95it/s]\n",
      "Epoch 74: 100%|██████████| 5/5 [00:00<00:00, 625.01it/s]\n",
      "Epoch 75: 100%|██████████| 5/5 [00:00<00:00, 555.26it/s]\n",
      "Epoch 76: 100%|██████████| 5/5 [00:00<00:00, 625.27it/s]\n",
      "Epoch 77: 100%|██████████| 5/5 [00:00<00:00, 625.12it/s]\n",
      "Epoch 78: 100%|██████████| 5/5 [00:00<00:00, 625.08it/s]\n",
      "Epoch 79: 100%|██████████| 5/5 [00:00<00:00, 625.38it/s]\n",
      "Epoch 80: 100%|██████████| 5/5 [00:00<00:00, 625.03it/s]\n",
      "Epoch 81: 100%|██████████| 5/5 [00:00<00:00, 625.21it/s]\n",
      "Epoch 82: 100%|██████████| 5/5 [00:00<00:00, 625.23it/s]\n",
      "Epoch 83: 100%|██████████| 5/5 [00:00<00:00, 625.05it/s]\n",
      "Epoch 84: 100%|██████████| 5/5 [00:00<00:00, 624.95it/s]\n",
      "Epoch 85: 100%|██████████| 5/5 [00:00<00:00, 555.40it/s]\n",
      "Epoch 86: 100%|██████████| 5/5 [00:00<00:00, 714.41it/s]\n",
      "Epoch 87: 100%|██████████| 5/5 [00:00<00:00, 625.12it/s]\n",
      "Epoch 88: 100%|██████████| 5/5 [00:00<00:00, 625.44it/s]\n",
      "Epoch 89: 100%|██████████| 5/5 [00:00<00:00, 555.40it/s]\n",
      "Epoch 90: 100%|██████████| 5/5 [00:00<00:00, 499.52it/s]\n",
      "Epoch 91: 100%|██████████| 5/5 [00:00<00:00, 555.65it/s]\n",
      "Epoch 92: 100%|██████████| 5/5 [00:00<00:00, 714.39it/s]\n",
      "Epoch 93: 100%|██████████| 5/5 [00:00<00:00, 714.24it/s]\n",
      "Epoch 94: 100%|██████████| 5/5 [00:00<00:00, 833.13it/s]\n",
      "Epoch 95: 100%|██████████| 5/5 [00:00<00:00, 833.23it/s]\n",
      "Epoch 96: 100%|██████████| 5/5 [00:00<00:00, 714.43it/s]\n",
      "Epoch 97: 100%|██████████| 5/5 [00:00<00:00, 714.36it/s]\n",
      "Epoch 98: 100%|██████████| 5/5 [00:00<00:00, 714.68it/s]\n",
      "Epoch 99: 100%|██████████| 5/5 [00:00<00:00, 713.95it/s]\n",
      "Epoch 0: 100%|██████████| 5/5 [00:00<00:00, 833.56it/s]  1.16s/layer]\n",
      "Epoch 1: 100%|██████████| 5/5 [00:00<00:00, 833.26it/s]\n",
      "Epoch 2: 100%|██████████| 5/5 [00:00<00:00, 714.56it/s]\n",
      "Epoch 3: 100%|██████████| 5/5 [00:00<00:00, 34.01it/s]\n",
      "Epoch 4: 100%|██████████| 5/5 [00:00<00:00, 500.02it/s]\n",
      "Epoch 5: 100%|██████████| 5/5 [00:00<00:00, 714.68it/s]\n",
      "Epoch 6: 100%|██████████| 5/5 [00:00<00:00, 555.51it/s]\n",
      "Epoch 7: 100%|██████████| 5/5 [00:00<00:00, 555.71it/s]\n",
      "Epoch 8: 100%|██████████| 5/5 [00:00<00:00, 714.26it/s]\n",
      "Epoch 9: 100%|██████████| 5/5 [00:00<00:00, 833.16it/s]\n",
      "Epoch 10: 100%|██████████| 5/5 [00:00<00:00, 714.29it/s]\n",
      "Epoch 11: 100%|██████████| 5/5 [00:00<00:00, 624.97it/s]\n",
      "Epoch 12: 100%|██████████| 5/5 [00:00<00:00, 714.24it/s]\n",
      "Epoch 13: 100%|██████████| 5/5 [00:00<00:00, 714.80it/s]\n",
      "Epoch 14: 100%|██████████| 5/5 [00:00<00:00, 714.14it/s]\n",
      "Epoch 15: 100%|██████████| 5/5 [00:00<00:00, 833.23it/s]\n",
      "Epoch 16: 100%|██████████| 5/5 [00:00<00:00, 833.36it/s]\n",
      "Epoch 17: 100%|██████████| 5/5 [00:00<00:00, 625.05it/s]\n",
      "Epoch 18: 100%|██████████| 5/5 [00:00<00:00, 833.66it/s]\n",
      "Epoch 19: 100%|██████████| 5/5 [00:00<00:00, 833.63it/s]\n",
      "Epoch 20: 100%|██████████| 5/5 [00:00<00:00, 714.58it/s]\n",
      "Epoch 21: 100%|██████████| 5/5 [00:00<00:00, 1000.26it/s]\n",
      "Epoch 22: 100%|██████████| 5/5 [00:00<00:00, 1000.07it/s]\n",
      "Epoch 23: 100%|██████████| 5/5 [00:00<00:00, 714.19it/s]\n",
      "Epoch 24: 100%|██████████| 5/5 [00:00<00:00, 833.49it/s]\n",
      "Epoch 25: 100%|██████████| 5/5 [00:00<00:00, 714.43it/s]\n",
      "Epoch 26: 100%|██████████| 5/5 [00:00<00:00, 625.06it/s]\n",
      "Epoch 27: 100%|██████████| 5/5 [00:00<00:00, 500.13it/s]\n",
      "Epoch 28: 100%|██████████| 5/5 [00:00<00:00, 613.60it/s]\n",
      "Epoch 29: 100%|██████████| 5/5 [00:00<00:00, 616.14it/s]\n",
      "Epoch 30: 100%|██████████| 5/5 [00:00<00:00, 628.79it/s]\n",
      "Epoch 31: 100%|██████████| 5/5 [00:00<00:00, 672.79it/s]\n",
      "Epoch 32: 100%|██████████| 5/5 [00:00<00:00, 728.23it/s]\n",
      "Epoch 33: 100%|██████████| 5/5 [00:00<00:00, 652.34it/s]\n",
      "Epoch 34: 100%|██████████| 5/5 [00:00<00:00, 728.63it/s]\n",
      "Epoch 35: 100%|██████████| 5/5 [00:00<00:00, 722.01it/s]\n",
      "Epoch 36: 100%|██████████| 5/5 [00:00<00:00, 706.30it/s]\n",
      "Epoch 37: 100%|██████████| 5/5 [00:00<00:00, 783.37it/s]\n",
      "Epoch 38: 100%|██████████| 5/5 [00:00<00:00, 748.15it/s]\n",
      "Epoch 39: 100%|██████████| 5/5 [00:00<00:00, 727.04it/s]\n",
      "Epoch 40: 100%|██████████| 5/5 [00:00<00:00, 773.40it/s]\n",
      "Epoch 41: 100%|██████████| 5/5 [00:00<00:00, 800.87it/s]\n",
      "Epoch 42: 100%|██████████| 5/5 [00:00<00:00, 714.36it/s]\n",
      "Epoch 43: 100%|██████████| 5/5 [00:00<00:00, 833.39it/s]\n",
      "Epoch 44: 100%|██████████| 5/5 [00:00<00:00, 714.19it/s]\n",
      "Epoch 45: 100%|██████████| 5/5 [00:00<00:00, 833.43it/s]\n",
      "Epoch 46: 100%|██████████| 5/5 [00:00<00:00, 714.58it/s]\n",
      "Epoch 47: 100%|██████████| 5/5 [00:00<00:00, 833.43it/s]\n",
      "Epoch 48: 100%|██████████| 5/5 [00:00<00:00, 714.19it/s]\n",
      "Epoch 49: 100%|██████████| 5/5 [00:00<00:00, 833.29it/s]\n",
      "Epoch 50: 100%|██████████| 5/5 [00:00<00:00, 833.63it/s]\n",
      "Epoch 51: 100%|██████████| 5/5 [00:00<00:00, 1000.31it/s]\n",
      "Epoch 52: 100%|██████████| 5/5 [00:00<00:00, 833.49it/s]\n",
      "Epoch 53: 100%|██████████| 5/5 [00:00<00:00, 833.10it/s]\n",
      "Epoch 54: 100%|██████████| 5/5 [00:00<00:00, 833.53it/s]\n",
      "Epoch 55: 100%|██████████| 5/5 [00:00<00:00, 833.03it/s]\n",
      "Epoch 56: 100%|██████████| 5/5 [00:00<00:00, 833.46it/s]\n",
      "Epoch 57: 100%|██████████| 5/5 [00:00<00:00, 1000.84it/s]\n",
      "Epoch 58: 100%|██████████| 5/5 [00:00<00:00, 833.03it/s]\n",
      "Epoch 59: 100%|██████████| 5/5 [00:00<00:00, 833.10it/s]\n",
      "Epoch 60: 100%|██████████| 5/5 [00:00<00:00, 714.43it/s]\n",
      "Epoch 61: 100%|██████████| 5/5 [00:00<00:00, 833.43it/s]\n",
      "Epoch 62: 100%|██████████| 5/5 [00:00<00:00, 833.56it/s]\n",
      "Epoch 63: 100%|██████████| 5/5 [00:00<00:00, 714.17it/s]\n",
      "Epoch 64: 100%|██████████| 5/5 [00:00<00:00, 833.59it/s]\n",
      "Epoch 65: 100%|██████████| 5/5 [00:00<00:00, 714.26it/s]\n",
      "Epoch 66: 100%|██████████| 5/5 [00:00<00:00, 833.49it/s]\n",
      "Epoch 67: 100%|██████████| 5/5 [00:00<00:00, 833.33it/s]\n",
      "Epoch 68: 100%|██████████| 5/5 [00:00<00:00, 833.53it/s]\n",
      "Epoch 69: 100%|██████████| 5/5 [00:00<00:00, 555.70it/s]\n",
      "Epoch 70: 100%|██████████| 5/5 [00:00<00:00, 624.88it/s]\n",
      "Epoch 71: 100%|██████████| 5/5 [00:00<00:00, 714.61it/s]\n",
      "Epoch 72: 100%|██████████| 5/5 [00:00<00:00, 833.63it/s]\n",
      "Epoch 73: 100%|██████████| 5/5 [00:00<00:00, 833.76it/s]\n",
      "Epoch 74: 100%|██████████| 5/5 [00:00<00:00, 833.53it/s]\n",
      "Epoch 75: 100%|██████████| 5/5 [00:00<00:00, 1000.74it/s]\n",
      "Epoch 76: 100%|██████████| 5/5 [00:00<00:00, 833.59it/s]\n",
      "Epoch 77: 100%|██████████| 5/5 [00:00<00:00, 833.20it/s]\n",
      "Epoch 78: 100%|██████████| 5/5 [00:00<00:00, 833.39it/s]\n",
      "Epoch 79: 100%|██████████| 5/5 [00:00<00:00, 714.17it/s]\n",
      "Epoch 80: 100%|██████████| 5/5 [00:00<00:00, 833.66it/s]\n",
      "Epoch 81: 100%|██████████| 5/5 [00:00<00:00, 833.43it/s]\n",
      "Epoch 82: 100%|██████████| 5/5 [00:00<00:00, 833.69it/s]\n",
      "Epoch 83: 100%|██████████| 5/5 [00:00<00:00, 714.61it/s]\n",
      "Epoch 84: 100%|██████████| 5/5 [00:00<00:00, 833.36it/s]\n",
      "Epoch 85: 100%|██████████| 5/5 [00:00<00:00, 714.14it/s]\n",
      "Epoch 86: 100%|██████████| 5/5 [00:00<00:00, 833.76it/s]\n",
      "Epoch 87: 100%|██████████| 5/5 [00:00<00:00, 833.29it/s]\n",
      "Epoch 88: 100%|██████████| 5/5 [00:00<00:00, 833.13it/s]\n",
      "Epoch 89: 100%|██████████| 5/5 [00:00<00:00, 833.99it/s]\n",
      "Epoch 90: 100%|██████████| 5/5 [00:00<00:00, 833.53it/s]\n",
      "Epoch 91: 100%|██████████| 5/5 [00:00<00:00, 833.26it/s]\n",
      "Epoch 92: 100%|██████████| 5/5 [00:00<00:00, 833.39it/s]\n",
      "Epoch 93: 100%|██████████| 5/5 [00:00<00:00, 833.73it/s]\n",
      "Epoch 94: 100%|██████████| 5/5 [00:00<00:00, 999.79it/s]\n",
      "Epoch 95: 100%|██████████| 5/5 [00:00<00:00, 833.53it/s]\n",
      "Epoch 96: 100%|██████████| 5/5 [00:00<00:00, 833.99it/s]\n",
      "Epoch 97: 100%|██████████| 5/5 [00:00<00:00, 833.39it/s]\n",
      "Epoch 98: 100%|██████████| 5/5 [00:00<00:00, 834.22it/s]\n",
      "Epoch 99: 100%|██████████| 5/5 [00:00<00:00, 833.23it/s]\n",
      "Epoch 0: 100%|██████████| 5/5 [00:00<00:00, 833.43it/s]  1.21s/layer]\n",
      "Epoch 1: 100%|██████████| 5/5 [00:00<00:00, 833.73it/s]\n",
      "Epoch 2: 100%|██████████| 5/5 [00:00<00:00, 833.23it/s]\n",
      "Epoch 3: 100%|██████████| 5/5 [00:00<00:00, 833.29it/s]\n",
      "Epoch 4: 100%|██████████| 5/5 [00:00<00:00, 45.87it/s]\n",
      "Epoch 5: 100%|██████████| 5/5 [00:00<00:00, 199.99it/s]\n",
      "Epoch 6: 100%|██████████| 5/5 [00:00<00:00, 217.41it/s]\n",
      "Epoch 7: 100%|██████████| 5/5 [00:00<00:00, 833.20it/s]\n",
      "Epoch 8: 100%|██████████| 5/5 [00:00<00:00, 624.95it/s]\n",
      "Epoch 9: 100%|██████████| 5/5 [00:00<00:00, 624.97it/s]\n",
      "Epoch 10: 100%|██████████| 5/5 [00:00<00:00, 625.16it/s]\n",
      "Epoch 11: 100%|██████████| 5/5 [00:00<00:00, 625.01it/s]\n",
      "Epoch 12: 100%|██████████| 5/5 [00:00<00:00, 625.18it/s]\n",
      "Epoch 13: 100%|██████████| 5/5 [00:00<00:00, 833.73it/s]\n",
      "Epoch 14: 100%|██████████| 5/5 [00:00<00:00, 500.05it/s]\n",
      "Epoch 15: 100%|██████████| 5/5 [00:00<00:00, 714.17it/s]\n",
      "Epoch 16: 100%|██████████| 5/5 [00:00<00:00, 833.36it/s]\n",
      "Epoch 17: 100%|██████████| 5/5 [00:00<00:00, 625.18it/s]\n",
      "Epoch 18: 100%|██████████| 5/5 [00:00<00:00, 714.46it/s]\n",
      "Epoch 19: 100%|██████████| 5/5 [00:00<00:00, 833.92it/s]\n",
      "Epoch 20: 100%|██████████| 5/5 [00:00<00:00, 833.59it/s]\n",
      "Epoch 21: 100%|██████████| 5/5 [00:00<00:00, 714.34it/s]\n",
      "Epoch 22: 100%|██████████| 5/5 [00:00<00:00, 714.31it/s]\n",
      "Epoch 23: 100%|██████████| 5/5 [00:00<00:00, 833.26it/s]\n",
      "Epoch 24: 100%|██████████| 5/5 [00:00<00:00, 714.31it/s]\n",
      "Epoch 25: 100%|██████████| 5/5 [00:00<00:00, 833.39it/s]\n",
      "Epoch 26: 100%|██████████| 5/5 [00:00<00:00, 833.86it/s]\n",
      "Epoch 27: 100%|██████████| 5/5 [00:00<00:00, 833.39it/s]\n",
      "Epoch 28: 100%|██████████| 5/5 [00:00<00:00, 714.41it/s]\n",
      "Epoch 29: 100%|██████████| 5/5 [00:00<00:00, 714.43it/s]\n",
      "Epoch 30: 100%|██████████| 5/5 [00:00<00:00, 714.22it/s]\n",
      "Epoch 31: 100%|██████████| 5/5 [00:00<00:00, 714.34it/s]\n",
      "Epoch 32: 100%|██████████| 5/5 [00:00<00:00, 833.53it/s]\n",
      "Epoch 33: 100%|██████████| 5/5 [00:00<00:00, 833.29it/s]\n",
      "Epoch 34: 100%|██████████| 5/5 [00:00<00:00, 833.59it/s]\n",
      "Epoch 35: 100%|██████████| 5/5 [00:00<00:00, 833.26it/s]\n",
      "Epoch 36: 100%|██████████| 5/5 [00:00<00:00, 832.93it/s]\n",
      "Epoch 37: 100%|██████████| 5/5 [00:00<00:00, 714.31it/s]\n",
      "Epoch 38: 100%|██████████| 5/5 [00:00<00:00, 833.69it/s]\n",
      "Epoch 39: 100%|██████████| 5/5 [00:00<00:00, 714.43it/s]\n",
      "Epoch 40: 100%|██████████| 5/5 [00:00<00:00, 833.56it/s]\n",
      "Epoch 41: 100%|██████████| 5/5 [00:00<00:00, 714.29it/s]\n",
      "Epoch 42: 100%|██████████| 5/5 [00:00<00:00, 833.76it/s]\n",
      "Epoch 43: 100%|██████████| 5/5 [00:00<00:00, 833.49it/s]\n",
      "Epoch 44: 100%|██████████| 5/5 [00:00<00:00, 833.33it/s]\n",
      "Epoch 45: 100%|██████████| 5/5 [00:00<00:00, 833.20it/s]\n",
      "Epoch 46: 100%|██████████| 5/5 [00:00<00:00, 833.26it/s]\n",
      "Epoch 47: 100%|██████████| 5/5 [00:00<00:00, 833.49it/s]\n",
      "Epoch 48: 100%|██████████| 5/5 [00:00<00:00, 624.86it/s]\n",
      "Epoch 49: 100%|██████████| 5/5 [00:00<00:00, 714.63it/s]\n",
      "Epoch 50: 100%|██████████| 5/5 [00:00<00:00, 714.17it/s]\n",
      "Epoch 51: 100%|██████████| 5/5 [00:00<00:00, 714.31it/s]\n",
      "Epoch 52: 100%|██████████| 5/5 [00:00<00:00, 714.29it/s]\n",
      "Epoch 53: 100%|██████████| 5/5 [00:00<00:00, 833.53it/s]\n",
      "Epoch 54: 100%|██████████| 5/5 [00:00<00:00, 714.39it/s]\n",
      "Epoch 55: 100%|██████████| 5/5 [00:00<00:00, 833.03it/s]\n",
      "Epoch 56: 100%|██████████| 5/5 [00:00<00:00, 833.23it/s]\n",
      "Epoch 57: 100%|██████████| 5/5 [00:00<00:00, 833.39it/s]\n",
      "Epoch 58: 100%|██████████| 5/5 [00:00<00:00, 833.69it/s]\n",
      "Epoch 59: 100%|██████████| 5/5 [00:00<00:00, 833.66it/s]\n",
      "Epoch 60: 100%|██████████| 5/5 [00:00<00:00, 833.76it/s]\n",
      "Epoch 61: 100%|██████████| 5/5 [00:00<00:00, 714.26it/s]\n",
      "Epoch 62: 100%|██████████| 5/5 [00:00<00:00, 833.33it/s]\n",
      "Epoch 63: 100%|██████████| 5/5 [00:00<00:00, 833.66it/s]\n",
      "Epoch 64: 100%|██████████| 5/5 [00:00<00:00, 833.63it/s]\n",
      "Epoch 65: 100%|██████████| 5/5 [00:00<00:00, 833.76it/s]\n",
      "Epoch 66: 100%|██████████| 5/5 [00:00<00:00, 833.06it/s]\n",
      "Epoch 67: 100%|██████████| 5/5 [00:00<00:00, 714.09it/s]\n",
      "Epoch 68: 100%|██████████| 5/5 [00:00<00:00, 833.63it/s]\n",
      "Epoch 69: 100%|██████████| 5/5 [00:00<00:00, 833.59it/s]\n",
      "Epoch 70: 100%|██████████| 5/5 [00:00<00:00, 714.39it/s]\n",
      "Epoch 71: 100%|██████████| 5/5 [00:00<00:00, 624.78it/s]\n",
      "Epoch 72: 100%|██████████| 5/5 [00:00<00:00, 714.29it/s]\n",
      "Epoch 73: 100%|██████████| 5/5 [00:00<00:00, 833.56it/s]\n",
      "Epoch 74: 100%|██████████| 5/5 [00:00<00:00, 833.56it/s]\n",
      "Epoch 75: 100%|██████████| 5/5 [00:00<00:00, 833.49it/s]\n",
      "Epoch 76: 100%|██████████| 5/5 [00:00<00:00, 999.64it/s]\n",
      "Epoch 77: 100%|██████████| 5/5 [00:00<00:00, 833.00it/s]\n",
      "Epoch 78: 100%|██████████| 5/5 [00:00<00:00, 833.92it/s]\n",
      "Epoch 79: 100%|██████████| 5/5 [00:00<00:00, 833.73it/s]\n",
      "Epoch 80: 100%|██████████| 5/5 [00:00<00:00, 714.36it/s]\n",
      "Epoch 81: 100%|██████████| 5/5 [00:00<00:00, 833.23it/s]\n",
      "Epoch 82: 100%|██████████| 5/5 [00:00<00:00, 714.58it/s]\n",
      "Epoch 83: 100%|██████████| 5/5 [00:00<00:00, 833.20it/s]\n",
      "Epoch 84: 100%|██████████| 5/5 [00:00<00:00, 833.76it/s]\n",
      "Epoch 85: 100%|██████████| 5/5 [00:00<00:00, 833.76it/s]\n",
      "Epoch 86: 100%|██████████| 5/5 [00:00<00:00, 833.46it/s]\n",
      "Epoch 87: 100%|██████████| 5/5 [00:00<00:00, 833.99it/s]\n",
      "Epoch 88: 100%|██████████| 5/5 [00:00<00:00, 833.66it/s]\n",
      "Epoch 89: 100%|██████████| 5/5 [00:00<00:00, 833.36it/s]\n",
      "Epoch 90: 100%|██████████| 5/5 [00:00<00:00, 833.56it/s]\n",
      "Epoch 91: 100%|██████████| 5/5 [00:00<00:00, 833.20it/s]\n",
      "Epoch 92: 100%|██████████| 5/5 [00:00<00:00, 30.68it/s]\n",
      "Epoch 93: 100%|██████████| 5/5 [00:00<00:00, 625.18it/s]\n",
      "Epoch 94: 100%|██████████| 5/5 [00:00<00:00, 713.95it/s]\n",
      "Epoch 95: 100%|██████████| 5/5 [00:00<00:00, 624.86it/s]\n",
      "Epoch 96: 100%|██████████| 5/5 [00:00<00:00, 454.50it/s]\n",
      "Epoch 97: 100%|██████████| 5/5 [00:00<00:00, 833.82it/s]\n",
      "Epoch 98: 100%|██████████| 5/5 [00:00<00:00, 833.39it/s]\n",
      "Epoch 99: 100%|██████████| 5/5 [00:00<00:00, 555.60it/s]\n",
      "Training RBM layers: 100%|██████████| 3/3 [00:03<00:00,  1.25s/layer]\n"
     ]
    },
    {
     "data": {
      "text/plain": [
       "DBN([\n",
       " RBM(n_visible=320, n_hidden=200),\n",
       " RBM(n_visible=200, n_hidden=200),\n",
       " RBM(n_visible=200, n_hidden=200)\n",
       "])"
      ]
     },
     "execution_count": 6,
     "metadata": {},
     "output_type": "execute_result"
    }
   ],
   "source": [
    "data_alpha = data_alpha_1\n",
    "n_chars = data_alpha.shape[0] / 39\n",
    "\n",
    "# Parameters\n",
    "n_visible = data_alpha.shape[1]  # Number of visible units (size of each image)\n",
    "n_hidden = 200  # Number of hidden units (hyperparameter)\n",
    "hidden_layer_sizes = [200, 200, 200]\n",
    "\n",
    "learning_rate = 0.1\n",
    "n_epochs = 100\n",
    "batch_size = int(8 * n_chars)\n",
    "\n",
    "dbn = DBN(n_visible=n_visible, hidden_layer_sizes=hidden_layer_sizes, random_state=SEED)\n",
    "dbn.train(data_alpha, learning_rate=learning_rate, n_epochs=n_epochs, batch_size=batch_size)"
   ]
  },
  {
   "cell_type": "code",
   "execution_count": 7,
   "metadata": {},
   "outputs": [
    {
     "data": {
      "image/png": "[encoded data removed]",
      "text/plain": [
       "<Figure size 1200x600 with 20 Axes>"
      ]
     },
     "metadata": {},
     "output_type": "display_data"
    }
   ],
   "source": [
    "# # Generate images\n",
    "generated_images = dbn.generate_image(n_samples=10, n_gibbs_steps=1)\n",
    "\n",
    "# Display generated images\n",
    "plot_original_and_generated_images(data_alpha, generated_images, **{\"cmap\":None})"
   ]
  },
  {
   "cell_type": "markdown",
   "metadata": {},
   "source": [
    "### MNIST"
   ]
  },
  {
   "cell_type": "code",
   "execution_count": 8,
   "metadata": {},
   "outputs": [],
   "source": [
    "import scipy.io"
   ]
  },
  {
   "cell_type": "code",
   "execution_count": 9,
   "metadata": {},
   "outputs": [
    {
     "data": {
      "text/plain": [
       "[(60000, 784), (60000, 10), (10000, 784), (10000, 10)]"
      ]
     },
     "execution_count": 9,
     "metadata": {},
     "output_type": "execute_result"
    }
   ],
   "source": [
    "def load_mnist(mnist_path, mnist_dict=None, use_dict=False):\n",
    "    if not use_dict:\n",
    "        mnist_dict = scipy.io.loadmat(mnist_path)\n",
    "    \n",
    "    X_train = np.concatenate([mnist_dict[f\"train{i}\"] for i in range(10)], axis=0)\n",
    "    X_test = np.concatenate([mnist_dict[f\"test{i}\"] for i in range(10)], axis=0)\n",
    "    \n",
    "    y_train = np.concatenate([np.eye(10)[[i]*mnist_dict[f\"train{i}\"].shape[0]] for i in range(10)], axis=0)\n",
    "    y_test = np.concatenate([np.eye(10)[[i]*mnist_dict[f\"test{i}\"].shape[0]] for i in range(10)], axis=0)\n",
    "\n",
    "    return X_train, y_train, X_test, y_test\n",
    "\n",
    "\n",
    "def sample_indices(data_size: int, sample_size: int, random_state=None) -> np.ndarray:\n",
    "    \"\"\"\n",
    "    Randomly sample indices from the range [0, data_size) without replacement.\n",
    "\n",
    "    Parameters:\n",
    "        data_size (int): Total number of indices available.\n",
    "        sample_size (int): Number of indices to sample.\n",
    "        random_state: Random seed for reproducibility.\n",
    "\n",
    "    Returns:\n",
    "        numpy.ndarray: Array of sampled indices.\n",
    "    \"\"\"\n",
    "    rng = np.random.default_rng(random_state)\n",
    "    if sample_size >= data_size:\n",
    "        return np.arange(data_size)\n",
    "\n",
    "    sampled_indices = rng.choice(data_size, size=sample_size, replace=False)\n",
    "    return sampled_indices\n",
    "\n",
    "def sample_mnist(X_train: np.ndarray, y_train: np.ndarray, sample_size: int, random_state=None) -> tuple:\n",
    "    \"\"\"\n",
    "    Randomly sample a subset of samples from the MNIST dataset.\n",
    "\n",
    "    Parameters:\n",
    "        X_train (numpy.ndarray): Training data.\n",
    "        y_train (numpy.ndarray): Training labels.\n",
    "        sample_size (int): Number of samples to sample.\n",
    "        random_state: Random seed for reproducibility.\n",
    "\n",
    "    Returns:\n",
    "        tuple: Sampled subset of training data and labels.\n",
    "    \"\"\"\n",
    "    # Sample indices\n",
    "    indices = sample_indices(len(X_train), sample_size, random_state=random_state)\n",
    "    \n",
    "    # Sample data and labels\n",
    "    sampled_X_train = X_train[indices]\n",
    "    sampled_y_train = y_train[indices]\n",
    "    \n",
    "    return sampled_X_train, sampled_y_train\n",
    "\n",
    "\n",
    "def binarize_images(images):\n",
    "    threshold = 127\n",
    "    binary_images = np.where(images > threshold, 1, 0)\n",
    "    return binary_images\n",
    "\n",
    "mnist_train, mnist_train_labels, mnist_test, mnist_test_labels = (\n",
    "    load_mnist(MNIST_PATH)\n",
    ")\n",
    "\n",
    "\n",
    "# Binarize the images\n",
    "binary_mnist_train = binarize_images(mnist_train)\n",
    "binary_mnist_test = binarize_images(mnist_test)\n",
    "\n",
    "\n",
    "[mnist.shape for mnist in (mnist_train, mnist_train_labels, mnist_test, mnist_test_labels)]"
   ]
  },
  {
   "cell_type": "code",
   "execution_count": 10,
   "metadata": {},
   "outputs": [
    {
     "data": {
      "text/plain": [
       "((30000, 784), (30000, 10))"
      ]
     },
     "execution_count": 10,
     "metadata": {},
     "output_type": "execute_result"
    }
   ],
   "source": [
    "mnist_train_30000, mnist_train_labels_30000 = sample_mnist(mnist_train, mnist_train_labels, 30_000, 42)\n",
    "mnist_train_30000.shape, mnist_train_labels_30000.shape"
   ]
  },
  {
   "cell_type": "code",
   "execution_count": 11,
   "metadata": {},
   "outputs": [
    {
     "name": "stdout",
     "output_type": "stream",
     "text": [
      "255 1\n"
     ]
    }
   ],
   "source": [
    "print(mnist_train.max(), binary_mnist_train.max())"
   ]
  },
  {
   "cell_type": "code",
   "execution_count": 12,
   "metadata": {},
   "outputs": [
    {
     "name": "stdout",
     "output_type": "stream",
     "text": [
      "MNIST (60000, 28, 28)\n"
     ]
    },
    {
     "data": {
      "image/png": "[encoded data removed]",
      "text/plain": [
       "<Figure size 1500x300 with 5 Axes>"
      ]
     },
     "metadata": {},
     "output_type": "display_data"
    }
   ],
   "source": [
    "# Reshape mnist_train to its original shape\n",
    "image_height = 28\n",
    "image_width = 28\n",
    "num_samples = binary_mnist_train.shape[0]\n",
    "binary_mnist_train_images = binary_mnist_train.reshape(num_samples, image_height, image_width)\n",
    "print(\"MNIST\", binary_mnist_train_images.shape)\n",
    "\n",
    "# Plot some images from mnist_train\n",
    "num_images_to_plot = 5\n",
    "fig, axes = plt.subplots(1, num_images_to_plot, figsize=(15, 3))\n",
    "for i in range(num_images_to_plot):\n",
    "    axes[i].imshow(binary_mnist_train_images[i], cmap='gray')\n",
    "    axes[i].set_title(f\"Image {i+1}\")\n",
    "    axes[i].axis('off')\n",
    "\n",
    "plt.tight_layout()\n",
    "plt.show()"
   ]
  },
  {
   "cell_type": "code",
   "execution_count": 13,
   "metadata": {},
   "outputs": [
    {
     "name": "stdout",
     "output_type": "stream",
     "text": [
      "Help on class DNN in module models.principal_dnn_mnist:\n",
      "\n",
      "class DNN(models.principal_dbn_alpha.DBN)\n",
      " |  DNN(input_dim: int, output_dim: int, hidden_layer_sizes: List[int], random_state=None)\n",
      " |  \n",
      " |  Method resolution order:\n",
      " |      DNN\n",
      " |      models.principal_dbn_alpha.DBN\n",
      " |      builtins.object\n",
      " |  \n",
      " |  Methods defined here:\n",
      " |  \n",
      " |  __getitem__(self, key)\n",
      " |  \n",
      " |  __init__(self, input_dim: int, output_dim: int, hidden_layer_sizes: List[int], random_state=None)\n",
      " |      Initialize the Deep Neural Network (DNN).\n",
      " |      \n",
      " |      Parameters:\n",
      " |      - input_dim (int): Dimension of the input.\n",
      " |      - output_dim (int): Dimension of the output.\n",
      " |      - hidden_layer_sizes (List[int]): List of sizes for each hidden layer.\n",
      " |      - random_state: Random seed for reproducibility.\n",
      " |  \n",
      " |  __len__(self)\n",
      " |  \n",
      " |  __repr__(self)\n",
      " |      Return a string representation of the DBN object.\n",
      " |  \n",
      " |  backpropagation(self, input_data: numpy.ndarray, labels: numpy.ndarray, n_epochs: int = 100, learning_rate: float = 0.1, batch_size: int = 10, eps: float = 1e-15) -> 'DNN'\n",
      " |      Estimate the weights/biases of the network using backpropagation algorithm.\n",
      " |      \n",
      " |      Parameters:\n",
      " |      - input_data (numpy.ndarray): Input data, shape (n_samples, n_visible).\n",
      " |      - labels (numpy.ndarray): Labels for the input data, shape\n",
      " |          (n_samples, n_classes).\n",
      " |      - n_epochs (int): Number of training epochs.\n",
      " |      - learning_rate (float): Learning rate for gradient descent.\n",
      " |      - batch_size (int): Size of mini-batches.\n",
      " |      - eps (float): Small value to avoid numerical instability in logarithm\n",
      " |          calculation. Default is 1e-15.\n",
      " |      \n",
      " |      Returns:\n",
      " |      - DNN: Updated DNN instance.\n",
      " |  \n",
      " |  input_output_network(self, input_data: numpy.ndarray) -> List[numpy.ndarray]\n",
      " |      Get the outputs on each layer of the DNN and the softmax probabilities on the output layer.\n",
      " |      \n",
      " |      Parameters:\n",
      " |      - input_data (numpy.ndarray): Input data, shape (n_samples, n_visible).\n",
      " |      \n",
      " |      Returns:\n",
      " |      - List[np.ndarray]: Input data, outputs on each layer and softmax probabilities.\n",
      " |  \n",
      " |  pretrain(self, n_epochs: int, learning_rate: float, batch_size: int, data: numpy.ndarray, print_each=20, verbose=False) -> 'DNN'\n",
      " |      Pretrain the hidden layers of the DNN using the DBN training method.\n",
      " |      \n",
      " |      Parameters:\n",
      " |      - n_epochs (int): Number of training epochs.\n",
      " |      - learning_rate (float): Learning rate for gradient descent.\n",
      " |      - batch_size (int): Size of mini-batches.\n",
      " |      - data (numpy.ndarray): Input data, shape (n_samples, n_visible).\n",
      " |      \n",
      " |      Returns:\n",
      " |      - DNN: Pretrained DNN instance.\n",
      " |  \n",
      " |  test(self, test_data: numpy.ndarray, true_labels: numpy.ndarray) -> float\n",
      " |      Test the performance of the trained DNN on a test dataset.\n",
      " |      \n",
      " |      Parameters:\n",
      " |      - test_data (numpy.ndarray): Test data, shape (n_samples, n_visible).\n",
      " |      - true_labels (numpy.ndarray): True labels for the test data,\n",
      " |          shape (n_samples, n_classes).\n",
      " |      \n",
      " |      Returns:\n",
      " |      - float: Classification error rate.\n",
      " |  \n",
      " |  update(self, dZ_lead: numpy.ndarray, dW_lead: numpy.ndarray, layer_outputs: List[numpy.ndarray], id_layer: int, batch_size: int, learning_rate: int) -> Tuple[numpy.ndarray, numpy.ndarray]\n",
      " |      Update the weights and biases of a layer.\n",
      " |      \n",
      " |      Parameters:\n",
      " |      - dZ_lead (numpy.ndarray): Gradient with respect to the layer's output.\n",
      " |      - dW_lead (numpy.ndarray): Gradient with respect to the layer's weights.\n",
      " |      - layer_outputs (List[np.ndarray]): Outputs of each layer.\n",
      " |      - id_layer (int): Index of the layer.\n",
      " |      - batch_size (int): Size of mini-batches.\n",
      " |      - learning_rate (int): Learning rate.\n",
      " |      \n",
      " |      Returns:\n",
      " |      - Tuple[np.ndarray, np.ndarray]: Updated gradient with respect to the\n",
      " |          layer's output and weights.\n",
      " |  \n",
      " |  ----------------------------------------------------------------------\n",
      " |  Methods inherited from models.principal_dbn_alpha.DBN:\n",
      " |  \n",
      " |  generate_image(self, n_samples: int = 1, n_gibbs_steps: int = 1) -> numpy.ndarray\n",
      " |      Generate samples from the DBN using Gibbs sampling.\n",
      " |      \n",
      " |      Parameters:\n",
      " |      - n_samples (int): Number of samples to generate. Default is 1.\n",
      " |      - n_gibbs_steps (int): Number of Gibbs sampling steps. Default is 100.\n",
      " |      \n",
      " |      Returns:\n",
      " |      - numpy.ndarray: Generated samples, shape (n_samples, n_visible).\n",
      " |  \n",
      " |  train(self, data: numpy.ndarray, learning_rate: float = 0.1, n_epochs: int = 10, batch_size: int = 10, print_each: int = 10, verbose=False) -> 'DBN'\n",
      " |      Train the DBN using Greedy layer-wise procedure.\n",
      " |      \n",
      " |      Parameters:\n",
      " |      - data (numpy.ndarray): Input data, shape (n_samples, n_visible).\n",
      " |      - learning_rate (float): Learning rate for gradient descent. Default is 0.1.\n",
      " |      - n_epochs (int): Number of training epochs. Default is 10.\n",
      " |      - batch_size (int): Size of mini-batches. Default is 10.\n",
      " |      - print_each: Print reconstruction error each `print_each` epochs.\n",
      " |      \n",
      " |      Returns:\n",
      " |      - DBN: Trained DBN instance.\n",
      " |  \n",
      " |  ----------------------------------------------------------------------\n",
      " |  Data descriptors inherited from models.principal_dbn_alpha.DBN:\n",
      " |  \n",
      " |  __dict__\n",
      " |      dictionary for instance variables (if defined)\n",
      " |  \n",
      " |  __weakref__\n",
      " |      list of weak references to the object (if defined)\n",
      "\n"
     ]
    }
   ],
   "source": [
    "help(DNN)"
   ]
  },
  {
   "cell_type": "code",
   "execution_count": 14,
   "metadata": {},
   "outputs": [],
   "source": [
    "from copy import copy, deepcopy"
   ]
  },
  {
   "cell_type": "code",
   "execution_count": 15,
   "metadata": {},
   "outputs": [],
   "source": [
    "from typing import Tuple\n",
    "\n",
    "def run_experiment_dnn(\n",
    "    # data\n",
    "    train_data,\n",
    "    train_labels,\n",
    "    test_data,\n",
    "    test_labels,\n",
    "    # initialization\n",
    "    input_dim,\n",
    "    output_dim,\n",
    "    hidden_layer_sizes,\n",
    "    # training\n",
    "    batch_size=64,\n",
    "    n_epochs_pretrain=100,\n",
    "    n_epochs_backprop=200,\n",
    "    learning_rate=0.1,\n",
    "    eps=1e-15,\n",
    "    print_each=20,\n",
    "    verbose=True,\n",
    "    random_state=42,     \n",
    ") -> Tuple[float, float]:\n",
    "    \"\"\"\n",
    "    Run an experiment with Deep Neural Networks (DNNs).\n",
    "\n",
    "    Parameters:\n",
    "        train_data (numpy.ndarray): Training data.\n",
    "        train_labels (numpy.ndarray): Training labels.\n",
    "        test_data (numpy.ndarray): Test data.\n",
    "        test_labels (numpy.ndarray): Test labels.\n",
    "        input_dim (int): Dimensionality of input data.\n",
    "        output_dim (int): Dimensionality of output data.\n",
    "        hidden_layer_sizes (list): List of sizes of hidden layers.\n",
    "        random_state (int): Random seed for reproducibility. Default is 42.\n",
    "        n_epochs_pretrain (int): Number of epochs for pretraining. Default is 100.\n",
    "        n_epochs_backprop (int): Number of epochs for backpropagation. Default is 200.\n",
    "        learning_rate (float): Learning rate for training. Default is 0.1.\n",
    "        batch_size (int): Batch size for training. Default is 64.\n",
    "        print_each (int): Frequency of printing progress. Default is 20.\n",
    "        verbose (bool): Whether to print progress. Default is True.\n",
    "        eps (float): Small value to avoid division by zero. Default is 1e-15.\n",
    "\n",
    "    Returns:\n",
    "        Tuple[float, float]: Error rates for random initialization and pretrained models.\n",
    "    \"\"\"\n",
    "    # 1. Intialization.\n",
    "    dnn = DNN(\n",
    "            input_dim=input_dim, \n",
    "            output_dim=output_dim, \n",
    "            hidden_layer_sizes=hidden_layer_sizes,\n",
    "            random_state=random_state\n",
    "    )\n",
    "\n",
    "    ## 1.1 Initialized random weights DNN.\n",
    "    dnn_random_init = deepcopy(dnn)\n",
    "    \n",
    "    ## 1.2.1 Pretrain DBN component.\n",
    "    print(\"\\n--------- PRETRAINING PHASE --------\\n\")\n",
    "    dnn.pretrain(\n",
    "            n_epochs=n_epochs_pretrain,\n",
    "            learning_rate=learning_rate,\n",
    "            batch_size=batch_size,\n",
    "            data=train_data,\n",
    "            # print_each=print_each,\n",
    "            # verbose=verbose\n",
    "    )\n",
    "    ## 1.2.2 Initialized pre-trained DNN.                \n",
    "    dnn_pretrained = deepcopy(dnn)\n",
    "\n",
    "    # 2. Training phase (backpropagation).\n",
    "    backprop_params = {\n",
    "            \"input_data\": train_data, \n",
    "            \"labels\": train_labels, \n",
    "            \"n_epochs\": n_epochs_backprop, \n",
    "            \"learning_rate\": learning_rate,\n",
    "            \"batch_size\": batch_size,\n",
    "            # \"print_each\": print_each,\n",
    "            # \"verbose\": verbose, \n",
    "            \"eps\": eps\n",
    "    }\n",
    "    print(\"\\n\\n--------- BACKPROPAGATION --------\")\n",
    "    dnn_random_init.backpropagation(**backprop_params)\n",
    "    dnn_pretrained.backpropagation(**backprop_params)\n",
    "\n",
    "    # 3. Evaluation phase.\n",
    "    train_params = {\"test_data\": train_data, \"true_labels\": train_labels}\n",
    "    train_error_random_init = dnn_random_init.test(**train_params)\n",
    "    train_error_pretrained = dnn_pretrained.test(**train_params)\n",
    "    \n",
    "    test_params = {\"test_data\": train_data, \"true_labels\": train_labels}\n",
    "    test_error_random_init = dnn_random_init.test(**test_params)\n",
    "    test_error_pretrained = dnn_pretrained.test(**test_params)\n",
    "\n",
    "    return train_error_random_init, train_error_pretrained, test_error_random_init, test_error_pretrained\n",
    "\n",
    "\n",
    "import pickle\n",
    "\n",
    "def save_object(obj, file_path):\n",
    "    \"\"\"\n",
    "    Save an object to a file using pickle.\n",
    "\n",
    "    Parameters:\n",
    "        obj: The object to save.\n",
    "        file_path (str): The path to the file where the object will be saved.\n",
    "    \"\"\"\n",
    "    with open(file_path, 'wb') as file:\n",
    "        pickle.dump(obj, file)\n",
    "\n",
    "\n",
    "\n",
    "import os\n",
    "\n",
    "def save_results(error_rates, experiment_type, parameter_value, hidden_layer_sizes, train_size, save_dir):\n",
    "    \"\"\"\n",
    "    Save experiment results to a file.\n",
    "\n",
    "    Parameters:\n",
    "        error_rate_random_init (float): Error rate for randomly initialized networks.\n",
    "        error_rate_pretrained (float): Error rate for pretrained networks.\n",
    "        experiment_type (str): Type of experiment ('layers', 'neurons', 'train_size').\n",
    "        parameter_value: Value of the parameter being varied.\n",
    "        hidden_layer_sizes (list): Sizes of hidden layers.\n",
    "        train_size (int): Number of training data points.\n",
    "        save_dir (str): Directory to save the results.\n",
    "    \"\"\"\n",
    "    # Create directory if it does not exist\n",
    "    if not os.path.exists(save_dir):\n",
    "        os.makedirs(save_dir)\n",
    "\n",
    "    # Construct filename\n",
    "    filename = f\"error_rates_{experiment_type}_{parameter_value}_{len(hidden_layer_sizes)}layers_{'_'.join(map(str, hidden_layer_sizes))}_{train_size}.txt\"\n",
    "    filepath = os.path.join(save_dir, filename)\n",
    "\n",
    "    # Save results to file\n",
    "    with open(filepath, 'w') as file:\n",
    "        file.write(\"Error Rate for Random Initialization [Train]:\\n\")\n",
    "        file.write(f\"{error_rates[0]}\\n\")\n",
    "\n",
    "        file.write(\"Error Rate for Pretrained Network:\\n\")\n",
    "        file.write(f\"{error_rates[1]}\\n\")\n",
    "\n",
    "        file.write(\"Error Rate for Random Initialization [Test]:\\n\")\n",
    "        file.write(f\"{error_rates[2]}\\n\")\n",
    "\n",
    "        file.write(\"Error Rate for Pretrained Network [Test]:\\n\")\n",
    "        file.write(f\"{error_rates[3]}\\n\")\n",
    "\n",
    "    print(f\"Results saved to: {filepath}\")\n",
    "\n"
   ]
  },
  {
   "cell_type": "code",
   "execution_count": 16,
   "metadata": {},
   "outputs": [],
   "source": [
    "from joblib import Parallel, delayed"
   ]
  },
  {
   "cell_type": "code",
   "execution_count": 21,
   "metadata": {},
   "outputs": [],
   "source": [
    "def experiment_layers(train_data, train_labels, test_data, test_labels, save_dir):\n",
    "    num_layers = [2, 3, 4, 5]  # Number of layers\n",
    "    error_rates_dict = {}\n",
    "\n",
    "    for num_layer in num_layers:\n",
    "        hidden_layer_sizes = [200] * num_layer\n",
    "        error_rates = run_experiment_dnn(\n",
    "            train_data=train_data,\n",
    "            train_labels=train_labels,\n",
    "            test_data=test_data,\n",
    "            test_labels=test_labels,\n",
    "            input_dim=train_data.shape[1],\n",
    "            output_dim=train_labels.shape[1],\n",
    "            hidden_layer_sizes=hidden_layer_sizes,\n",
    "        )\n",
    "        error_rates_dict[num_layer] = error_rates\n",
    "        save_results(error_rates, 'layers', num_layer, hidden_layer_sizes,\n",
    "                     train_data.shape[0], save_dir)\n",
    "        \n",
    "    return error_rates_dict\n",
    "\n",
    "def experiment_neurons(train_data, train_labels, test_data, test_labels, save_dir, layer_sizes=[200, 300, 400, 500]):\n",
    "    error_rates_random_init = []\n",
    "    error_rates_pretrained = []\n",
    "    \n",
    "    for layer_size in layer_sizes:\n",
    "        hidden_layer_sizes = [layer_size] * 2  # Using 2 layers of the specified size\n",
    "        \n",
    "        print(f\"Running experiment with hidden layers of sizes: {hidden_layer_sizes}\")\n",
    "\n",
    "        # Run the experiment with the DNN\n",
    "        train_error_random_init, train_error_pretrained, test_error_random_init, test_error_pretrained = run_experiment_dnn(\n",
    "            train_data=train_data,\n",
    "            train_labels=train_labels,\n",
    "            test_data=test_data,\n",
    "            test_labels=test_labels,\n",
    "            input_dim=train_data.shape[1],\n",
    "            output_dim=train_labels.shape[1],\n",
    "            hidden_layer_sizes=hidden_layer_sizes,\n",
    "        )\n",
    "\n",
    "        # Append the error rates for analysis\n",
    "        error_rates_random_init.append((train_error_random_init, test_error_random_init))\n",
    "        error_rates_pretrained.append((train_error_pretrained, test_error_pretrained))\n",
    "\n",
    "        # Save the results after each iteration to avoid data loss in case of interruption\n",
    "        save_results(\n",
    "            (train_error_random_init, train_error_pretrained, test_error_random_init, test_error_pretrained),\n",
    "            'neurons', layer_size, hidden_layer_sizes, train_data.shape[0], save_dir\n",
    "        )\n",
    "        \n",
    "    return error_rates_random_init, error_rates_pretrained\n",
    "\n",
    "\n",
    "def experiment_train_size(\n",
    "        train_data,\n",
    "        train_labels,\n",
    "        test_data,\n",
    "        test_labels,\n",
    "        save_dir, \n",
    "        train_sizes=[1000, 3000, 7000, 10000, 30000, 60000]\n",
    "    ):\n",
    "    error_rates_random_init = []\n",
    "    error_rates_pretrained = []\n",
    "\n",
    "    for train_size in train_sizes:\n",
    "        print(f\"Running experiment with training size: {train_size}\")\n",
    "        sampled_train_data, sampled_train_labels = sample_mnist(train_data, train_labels, train_size)\n",
    "        \n",
    "        train_error_random_init, train_error_pretrained, test_error_random_init, test_error_pretrained = run_experiment_dnn(\n",
    "            train_data=sampled_train_data,\n",
    "            train_labels=sampled_train_labels,\n",
    "            test_data=test_data,\n",
    "            test_labels=test_labels,\n",
    "            input_dim=sampled_train_data.shape[1],\n",
    "            output_dim=train_labels.shape[1],\n",
    "            hidden_layer_sizes=[200, 200],  # Fixed to 2 layers of 200 neurons\n",
    "        )\n",
    "\n",
    "        # Append both training and testing error rates for random initialization and pretrained models\n",
    "        error_rates_random_init.append((train_error_random_init, test_error_random_init))\n",
    "        error_rates_pretrained.append((train_error_pretrained, test_error_pretrained))\n",
    "\n",
    "        # Save the results after each train size experiment\n",
    "        save_results(\n",
    "            (train_error_random_init, train_error_pretrained, test_error_random_init, test_error_pretrained),\n",
    "            'train_size', train_size, [200, 200], train_size, save_dir\n",
    "        )\n",
    "\n",
    "    return error_rates_random_init, error_rates_pretrained\n"
   ]
  },
  {
   "cell_type": "code",
   "execution_count": 17,
   "metadata": {},
   "outputs": [],
   "source": [
    "data = mnist_train.copy()\n",
    "n_samples, n_visible = data.shape # n_samples, n_features\n",
    "n_visible = data.shape[1]\n",
    "hidden_layer_sizes = [100, 50, 25]\n",
    "n_classes = mnist_test_labels.shape[1]\n",
    "\n",
    "dnn = DNN(input_dim=n_visible, output_dim=n_classes, hidden_layer_sizes=hidden_layer_sizes, random_state=42)\n",
    "\n",
    "# dnn.train(data, learning_rate=0.1, n_epochs=10, batch_size=10)\n"
   ]
  },
  {
   "cell_type": "code",
   "execution_count": 18,
   "metadata": {},
   "outputs": [],
   "source": [
    "# dnn.backpropagation(mnist_train, labels=mnist_train_labels)"
   ]
  },
  {
   "cell_type": "code",
   "execution_count": 18,
   "metadata": {},
   "outputs": [
    {
     "data": {
      "text/plain": [
       "(1000, 784)"
      ]
     },
     "execution_count": 18,
     "metadata": {},
     "output_type": "execute_result"
    }
   ],
   "source": [
    "train_1000, train_1000_labels = sample_mnist(binary_mnist_train, mnist_train_labels, 1_000, random_state=SEED)\n",
    "train_1000.shape"
   ]
  },
  {
   "cell_type": "code",
   "execution_count": 20,
   "metadata": {},
   "outputs": [
    {
     "name": "stdout",
     "output_type": "stream",
     "text": [
      "\n",
      "--------- PRETRAINING PHASE --------\n",
      "\n"
     ]
    },
    {
     "name": "stderr",
     "output_type": "stream",
     "text": [
      "Epoch 0: 100%|██████████| 8/8 [00:00<00:00, 76.19it/s]ayer/s]\n",
      "Epoch 1: 100%|██████████| 8/8 [00:00<00:00, 80.00it/s]\n",
      "Epoch 2: 100%|██████████| 8/8 [00:00<00:00, 105.26it/s]\n",
      "Epoch 3: 100%|██████████| 8/8 [00:00<00:00, 98.76it/s]\n",
      "Epoch 4: 100%|██████████| 8/8 [00:00<00:00, 96.38it/s]\n",
      "Epoch 5: 100%|██████████| 8/8 [00:00<00:00, 80.81it/s]\n",
      "Epoch 6: 100%|██████████| 8/8 [00:00<00:00, 102.56it/s]\n",
      "Epoch 7: 100%|██████████| 8/8 [00:00<00:00, 102.56it/s]\n",
      "Epoch 8: 100%|██████████| 8/8 [00:00<00:00, 105.26it/s]\n",
      "Epoch 9: 100%|██████████| 8/8 [00:00<00:00, 96.39it/s]\n",
      "Epoch 10: 100%|██████████| 8/8 [00:00<00:00, 89.13it/s]\n",
      "Epoch 11: 100%|██████████| 8/8 [00:00<00:00, 97.64it/s]\n",
      "Epoch 12: 100%|██████████| 8/8 [00:00<00:00, 111.87it/s]\n",
      "Epoch 13: 100%|██████████| 8/8 [00:00<00:00, 115.95it/s]\n",
      "Epoch 14: 100%|██████████| 8/8 [00:00<00:00, 115.95it/s]\n",
      "Epoch 15: 100%|██████████| 8/8 [00:00<00:00, 108.11it/s]\n",
      "Epoch 16: 100%|██████████| 8/8 [00:00<00:00, 103.89it/s]\n",
      "Epoch 17: 100%|██████████| 8/8 [00:00<00:00, 100.00it/s]\n",
      "Epoch 18: 100%|██████████| 8/8 [00:00<00:00, 108.11it/s]\n",
      "Epoch 19: 100%|██████████| 8/8 [00:00<00:00, 117.65it/s]\n",
      "Epoch 20: 100%|██████████| 8/8 [00:00<00:00, 112.67it/s]\n",
      "Epoch 21: 100%|██████████| 8/8 [00:00<00:00, 115.94it/s]\n",
      "Epoch 22: 100%|██████████| 8/8 [00:00<00:00, 112.66it/s]\n",
      "Epoch 23: 100%|██████████| 8/8 [00:00<00:00, 100.00it/s]\n",
      "Epoch 24: 100%|██████████| 8/8 [00:00<00:00, 103.90it/s]\n",
      "Epoch 25: 100%|██████████| 8/8 [00:00<00:00, 103.90it/s]\n",
      "Epoch 26: 100%|██████████| 8/8 [00:00<00:00, 102.57it/s]\n",
      "Epoch 27: 100%|██████████| 8/8 [00:00<00:00, 98.77it/s]\n",
      "Epoch 28: 100%|██████████| 8/8 [00:00<00:00, 97.56it/s]\n",
      "Epoch 29: 100%|██████████| 8/8 [00:00<00:00, 63.49it/s]\n",
      "Epoch 30: 100%|██████████| 8/8 [00:00<00:00, 89.89it/s]\n",
      "Epoch 31: 100%|██████████| 8/8 [00:00<00:00, 103.90it/s]\n",
      "Epoch 32: 100%|██████████| 8/8 [00:00<00:00, 102.57it/s]\n",
      "Epoch 33: 100%|██████████| 8/8 [00:00<00:00, 100.00it/s]\n",
      "Epoch 34: 100%|██████████| 8/8 [00:00<00:00, 97.56it/s]\n",
      "Epoch 35: 100%|██████████| 8/8 [00:00<00:00, 98.77it/s]\n",
      "Epoch 36: 100%|██████████| 8/8 [00:00<00:00, 73.74it/s]\n",
      "Epoch 37: 100%|██████████| 8/8 [00:00<00:00, 88.32it/s]\n",
      "Epoch 38: 100%|██████████| 8/8 [00:00<00:00, 95.25it/s]\n",
      "Epoch 39: 100%|██████████| 8/8 [00:00<00:00, 89.89it/s]\n",
      "Epoch 40: 100%|██████████| 8/8 [00:00<00:00, 89.90it/s]\n",
      "Epoch 41: 100%|██████████| 8/8 [00:00<00:00, 100.00it/s]\n",
      "Epoch 42: 100%|██████████| 8/8 [00:00<00:00, 106.67it/s]\n",
      "Epoch 43: 100%|██████████| 8/8 [00:00<00:00, 103.90it/s]\n",
      "Epoch 44: 100%|██████████| 8/8 [00:00<00:00, 115.94it/s]\n",
      "Epoch 45: 100%|██████████| 8/8 [00:00<00:00, 109.59it/s]\n",
      "Epoch 46: 100%|██████████| 8/8 [00:00<00:00, 114.29it/s]\n",
      "Epoch 47: 100%|██████████| 8/8 [00:00<00:00, 114.28it/s]\n",
      "Epoch 48: 100%|██████████| 8/8 [00:00<00:00, 109.59it/s]\n",
      "Epoch 49: 100%|██████████| 8/8 [00:00<00:00, 98.76it/s]\n",
      "Epoch 50: 100%|██████████| 8/8 [00:00<00:00, 100.00it/s]\n",
      "Epoch 51: 100%|██████████| 8/8 [00:00<00:00, 88.89it/s]\n",
      "Epoch 52: 100%|██████████| 8/8 [00:00<00:00, 80.00it/s]\n",
      "Epoch 53: 100%|██████████| 8/8 [00:00<00:00, 99.99it/s]\n",
      "Epoch 54: 100%|██████████| 8/8 [00:00<00:00, 101.25it/s]\n",
      "Epoch 55: 100%|██████████| 8/8 [00:00<00:00, 102.57it/s]\n",
      "Epoch 56: 100%|██████████| 8/8 [00:00<00:00, 105.26it/s]\n",
      "Epoch 57: 100%|██████████| 8/8 [00:00<00:00, 99.99it/s]\n",
      "Epoch 58: 100%|██████████| 8/8 [00:00<00:00, 105.26it/s]\n",
      "Epoch 59: 100%|██████████| 8/8 [00:00<00:00, 105.27it/s]\n",
      "Epoch 60: 100%|██████████| 8/8 [00:00<00:00, 106.67it/s]\n",
      "Epoch 61: 100%|██████████| 8/8 [00:00<00:00, 101.27it/s]\n",
      "Epoch 62: 100%|██████████| 8/8 [00:00<00:00, 87.91it/s]\n",
      "Epoch 63: 100%|██████████| 8/8 [00:00<00:00, 80.07it/s]\n",
      "Epoch 64: 100%|██████████| 8/8 [00:00<00:00, 77.15it/s]\n",
      "Epoch 65: 100%|██████████| 8/8 [00:00<00:00, 98.67it/s]\n",
      "Epoch 66: 100%|██████████| 8/8 [00:00<00:00, 102.56it/s]\n",
      "Epoch 67: 100%|██████████| 8/8 [00:00<00:00, 108.11it/s]\n",
      "Epoch 68: 100%|██████████| 8/8 [00:00<00:00, 103.90it/s]\n",
      "Epoch 69: 100%|██████████| 8/8 [00:00<00:00, 105.26it/s]\n",
      "Epoch 70: 100%|██████████| 8/8 [00:00<00:00, 106.68it/s]\n",
      "Epoch 71: 100%|██████████| 8/8 [00:00<00:00, 108.10it/s]\n",
      "Epoch 72: 100%|██████████| 8/8 [00:00<00:00, 105.26it/s]\n",
      "Epoch 73: 100%|██████████| 8/8 [00:00<00:00, 102.56it/s]\n",
      "Epoch 74: 100%|██████████| 8/8 [00:00<00:00, 93.02it/s]\n",
      "Epoch 75: 100%|██████████| 8/8 [00:00<00:00, 27.78it/s]\n",
      "Epoch 76: 100%|██████████| 8/8 [00:00<00:00, 76.19it/s]\n",
      "Epoch 77: 100%|██████████| 8/8 [00:00<00:00, 93.03it/s]\n",
      "Epoch 78: 100%|██████████| 8/8 [00:00<00:00, 106.67it/s]\n",
      "Epoch 79: 100%|██████████| 8/8 [00:00<00:00, 103.90it/s]\n",
      "Epoch 80: 100%|██████████| 8/8 [00:00<00:00, 100.00it/s]\n",
      "Epoch 81: 100%|██████████| 8/8 [00:00<00:00, 105.26it/s]\n",
      "Epoch 82: 100%|██████████| 8/8 [00:00<00:00, 96.38it/s]\n",
      "Epoch 83: 100%|██████████| 8/8 [00:00<00:00, 93.02it/s]\n",
      "Epoch 84: 100%|██████████| 8/8 [00:00<00:00, 96.39it/s]\n",
      "Epoch 85: 100%|██████████| 8/8 [00:00<00:00, 101.27it/s]\n",
      "Epoch 86: 100%|██████████| 8/8 [00:00<00:00, 85.16it/s]\n",
      "Epoch 87: 100%|██████████| 8/8 [00:00<00:00, 83.81it/s]\n",
      "Epoch 88: 100%|██████████| 8/8 [00:00<00:00, 89.98it/s]\n",
      "Epoch 89: 100%|██████████| 8/8 [00:00<00:00, 100.00it/s]\n",
      "Epoch 90: 100%|██████████| 8/8 [00:00<00:00, 83.34it/s]\n",
      "Epoch 91: 100%|██████████| 8/8 [00:00<00:00, 105.26it/s]\n",
      "Epoch 92: 100%|██████████| 8/8 [00:00<00:00, 101.27it/s]\n",
      "Epoch 93: 100%|██████████| 8/8 [00:00<00:00, 91.95it/s]\n",
      "Epoch 94: 100%|██████████| 8/8 [00:00<00:00, 91.96it/s]\n",
      "Epoch 95: 100%|██████████| 8/8 [00:00<00:00, 82.47it/s]\n",
      "Epoch 96: 100%|██████████| 8/8 [00:00<00:00, 102.57it/s]\n",
      "Epoch 97: 100%|██████████| 8/8 [00:00<00:00, 106.67it/s]\n",
      "Epoch 98: 100%|██████████| 8/8 [00:00<00:00, 106.67it/s]\n",
      "Epoch 99: 100%|██████████| 8/8 [00:00<00:00, 101.27it/s]\n",
      "Training RBM layers: 100%|██████████| 1/1 [00:08<00:00,  9.00s/layer]\n"
     ]
    },
    {
     "name": "stdout",
     "output_type": "stream",
     "text": [
      "\n",
      "\n",
      "--------- BACKPROPAGATION --------\n"
     ]
    },
    {
     "name": "stderr",
     "output_type": "stream",
     "text": [
      "Training:   3%|▎         | 6/200 [00:00<00:03, 52.63epoch/s]"
     ]
    },
    {
     "name": "stdout",
     "output_type": "stream",
     "text": [
      "Epoch 1/200, Cross Entropy: 2.2863620255975663\n",
      "Epoch 2/200, Cross Entropy: 2.2795997110457806\n",
      "Epoch 3/200, Cross Entropy: 2.2775048581972386\n",
      "Epoch 4/200, Cross Entropy: 2.276741967403284\n",
      "Epoch 5/200, Cross Entropy: 2.276441913721445\n",
      "Epoch 6/200, Cross Entropy: 2.276318975197376\n",
      "Epoch 7/200, Cross Entropy: 2.2762673004406553\n",
      "Epoch 8/200, Cross Entropy: 2.2762451741317364\n",
      "Epoch 9/200, Cross Entropy: 2.2762355565026207\n"
     ]
    },
    {
     "name": "stderr",
     "output_type": "stream",
     "text": [
      "Training:   3%|▎         | 6/200 [00:00<00:03, 52.63epoch/s]"
     ]
    },
    {
     "name": "stdout",
     "output_type": "stream",
     "text": [
      "Epoch 10/200, Cross Entropy: 2.2762313186075787\n"
     ]
    },
    {
     "name": "stderr",
     "output_type": "stream",
     "text": [
      "Training:   9%|▉         | 18/200 [00:00<00:03, 53.21epoch/s]"
     ]
    },
    {
     "name": "stdout",
     "output_type": "stream",
     "text": [
      "Epoch 11/200, Cross Entropy: 2.2762294241066083\n",
      "Epoch 12/200, Cross Entropy: 2.2762285611610262\n",
      "Epoch 13/200, Cross Entropy: 2.27622815627367\n",
      "Epoch 14/200, Cross Entropy: 2.2762279562517076\n",
      "Epoch 15/200, Cross Entropy: 2.276227848394944\n",
      "Epoch 16/200, Cross Entropy: 2.2762277821987023\n",
      "Epoch 17/200, Cross Entropy: 2.2762277349050186\n",
      "Epoch 18/200, Cross Entropy: 2.2762276962132613\n",
      "Epoch 19/200, Cross Entropy: 2.276227661444755\n"
     ]
    },
    {
     "name": "stderr",
     "output_type": "stream",
     "text": [
      "Training:   9%|▉         | 18/200 [00:00<00:03, 53.21epoch/s]"
     ]
    },
    {
     "name": "stdout",
     "output_type": "stream",
     "text": [
      "Epoch 20/200, Cross Entropy: 2.2762276284685683\n"
     ]
    },
    {
     "name": "stderr",
     "output_type": "stream",
     "text": [
      "Training:  12%|█▏        | 24/200 [00:00<00:03, 52.07epoch/s]"
     ]
    },
    {
     "name": "stdout",
     "output_type": "stream",
     "text": [
      "Epoch 21/200, Cross Entropy: 2.276227596312142\n",
      "Epoch 22/200, Cross Entropy: 2.27622756453093\n",
      "Epoch 23/200, Cross Entropy: 2.276227532921522\n",
      "Epoch 24/200, Cross Entropy: 2.2762275013907853\n",
      "Epoch 25/200, Cross Entropy: 2.2762274698960665\n",
      "Epoch 26/200, Cross Entropy: 2.27622743841783\n",
      "Epoch 27/200, Cross Entropy: 2.276227406947132\n",
      "Epoch 28/200, Cross Entropy: 2.2762273754798787\n"
     ]
    },
    {
     "name": "stderr",
     "output_type": "stream",
     "text": [
      "Training:  12%|█▏        | 24/200 [00:00<00:03, 52.07epoch/s]"
     ]
    },
    {
     "name": "stdout",
     "output_type": "stream",
     "text": [
      "Epoch 29/200, Cross Entropy: 2.276227344014198\n"
     ]
    },
    {
     "name": "stderr",
     "output_type": "stream",
     "text": [
      "Training:  15%|█▌        | 30/200 [00:00<00:03, 51.46epoch/s]"
     ]
    },
    {
     "name": "stdout",
     "output_type": "stream",
     "text": [
      "Epoch 30/200, Cross Entropy: 2.276227312549235\n",
      "Epoch 31/200, Cross Entropy: 2.276227281084599\n"
     ]
    },
    {
     "name": "stderr",
     "output_type": "stream",
     "text": [
      "Training:  18%|█▊        | 36/200 [00:00<00:05, 31.69epoch/s]"
     ]
    },
    {
     "name": "stdout",
     "output_type": "stream",
     "text": [
      "Epoch 32/200, Cross Entropy: 2.276227249620113\n",
      "Epoch 33/200, Cross Entropy: 2.276227218155695\n",
      "Epoch 34/200, Cross Entropy: 2.276227186691309\n",
      "Epoch 35/200, Cross Entropy: 2.276227155226938\n",
      "Epoch 36/200, Cross Entropy: 2.2762271237625744\n",
      "Epoch 37/200, Cross Entropy: 2.276227092298215\n",
      "Epoch 38/200, Cross Entropy: 2.2762270608338584\n",
      "Epoch 39/200, Cross Entropy: 2.2762270293695037\n"
     ]
    },
    {
     "name": "stderr",
     "output_type": "stream",
     "text": [
      "Training:  23%|██▎       | 46/200 [00:01<00:04, 35.15epoch/s]"
     ]
    },
    {
     "name": "stdout",
     "output_type": "stream",
     "text": [
      "Epoch 40/200, Cross Entropy: 2.2762269979051504\n",
      "Epoch 41/200, Cross Entropy: 2.2762269664407984\n",
      "Epoch 42/200, Cross Entropy: 2.2762269349764486\n",
      "Epoch 43/200, Cross Entropy: 2.2762269035120997\n",
      "Epoch 44/200, Cross Entropy: 2.2762268720477516\n",
      "Epoch 45/200, Cross Entropy: 2.276226840583406\n",
      "Epoch 46/200, Cross Entropy: 2.2762268091190614\n",
      "Epoch 47/200, Cross Entropy: 2.276226777654718\n"
     ]
    },
    {
     "name": "stderr",
     "output_type": "stream",
     "text": [
      "                                                             \r"
     ]
    },
    {
     "name": "stdout",
     "output_type": "stream",
     "text": [
      "Epoch 48/200, Cross Entropy: 2.2762267461903756\n",
      "Epoch 49/200, Cross Entropy: 2.2762267147260355\n",
      "Epoch 50/200, Cross Entropy: 2.276226683261697\n",
      "Epoch 51/200, Cross Entropy: 2.2762266517973586\n",
      "Epoch 52/200, Cross Entropy: 2.276226620333022\n"
     ]
    },
    {
     "name": "stderr",
     "output_type": "stream",
     "text": [
      "Training:  28%|██▊       | 56/200 [00:01<00:04, 29.91epoch/s]"
     ]
    },
    {
     "name": "stdout",
     "output_type": "stream",
     "text": [
      "Epoch 53/200, Cross Entropy: 2.2762265888686875\n",
      "Epoch 54/200, Cross Entropy: 2.276226557404354\n",
      "Epoch 55/200, Cross Entropy: 2.276226525940022\n",
      "Epoch 56/200, Cross Entropy: 2.276226494475691\n",
      "Epoch 57/200, Cross Entropy: 2.2762264630113616\n"
     ]
    },
    {
     "name": "stderr",
     "output_type": "stream",
     "text": [
      "Training:  30%|███       | 60/200 [00:01<00:04, 30.35epoch/s]"
     ]
    },
    {
     "name": "stdout",
     "output_type": "stream",
     "text": [
      "Epoch 58/200, Cross Entropy: 2.2762264315470335\n",
      "Epoch 59/200, Cross Entropy: 2.276226400082707\n",
      "Epoch 60/200, Cross Entropy: 2.276226368618382\n",
      "Epoch 61/200, Cross Entropy: 2.276226337154058\n",
      "Epoch 62/200, Cross Entropy: 2.276226305689735\n",
      "Epoch 63/200, Cross Entropy: 2.2762262742254142\n",
      "Epoch 64/200, Cross Entropy: 2.2762262427610946\n"
     ]
    },
    {
     "name": "stderr",
     "output_type": "stream",
     "text": [
      "Training:  35%|███▌      | 70/200 [00:01<00:03, 36.87epoch/s]"
     ]
    },
    {
     "name": "stdout",
     "output_type": "stream",
     "text": [
      "Epoch 65/200, Cross Entropy: 2.2762262112967764\n",
      "Epoch 66/200, Cross Entropy: 2.2762261798324595\n",
      "Epoch 67/200, Cross Entropy: 2.276226148368144\n",
      "Epoch 68/200, Cross Entropy: 2.27622611690383\n",
      "Epoch 69/200, Cross Entropy: 2.276226085439517\n",
      "Epoch 70/200, Cross Entropy: 2.2762260539752055\n",
      "Epoch 71/200, Cross Entropy: 2.2762260225108957\n",
      "Epoch 72/200, Cross Entropy: 2.276225991046587\n",
      "Epoch 73/200, Cross Entropy: 2.27622595958228\n"
     ]
    },
    {
     "name": "stderr",
     "output_type": "stream",
     "text": [
      "Training:  41%|████      | 82/200 [00:02<00:02, 43.88epoch/s]"
     ]
    },
    {
     "name": "stdout",
     "output_type": "stream",
     "text": [
      "Epoch 74/200, Cross Entropy: 2.276225928117974\n",
      "Epoch 75/200, Cross Entropy: 2.27622589665367\n",
      "Epoch 76/200, Cross Entropy: 2.276225865189367\n",
      "Epoch 77/200, Cross Entropy: 2.276225833725065\n",
      "Epoch 78/200, Cross Entropy: 2.276225802260765\n",
      "Epoch 79/200, Cross Entropy: 2.276225770796466\n",
      "Epoch 80/200, Cross Entropy: 2.2762257393321685\n",
      "Epoch 81/200, Cross Entropy: 2.2762257078678725\n",
      "Epoch 82/200, Cross Entropy: 2.276225676403578\n"
     ]
    },
    {
     "name": "stderr",
     "output_type": "stream",
     "text": [
      "Training:  44%|████▎     | 87/200 [00:02<00:03, 31.20epoch/s]"
     ]
    },
    {
     "name": "stdout",
     "output_type": "stream",
     "text": [
      "Epoch 83/200, Cross Entropy: 2.276225644939285\n",
      "Epoch 84/200, Cross Entropy: 2.2762256134749927\n",
      "Epoch 85/200, Cross Entropy: 2.2762255820107025\n",
      "Epoch 86/200, Cross Entropy: 2.276225550546413\n",
      "Epoch 87/200, Cross Entropy: 2.2762255190821254\n",
      "Epoch 88/200, Cross Entropy: 2.276225487617839\n",
      "Epoch 89/200, Cross Entropy: 2.276225456153554\n",
      "Epoch 90/200, Cross Entropy: 2.2762254246892706\n",
      "Epoch 91/200, Cross Entropy: 2.2762253932249883\n"
     ]
    },
    {
     "name": "stderr",
     "output_type": "stream",
     "text": [
      "Training:  49%|████▉     | 98/200 [00:02<00:02, 38.39epoch/s]"
     ]
    },
    {
     "name": "stdout",
     "output_type": "stream",
     "text": [
      "Epoch 92/200, Cross Entropy: 2.2762253617607078\n",
      "Epoch 93/200, Cross Entropy: 2.276225330296428\n",
      "Epoch 94/200, Cross Entropy: 2.2762252988321503\n",
      "Epoch 95/200, Cross Entropy: 2.2762252673678733\n",
      "Epoch 96/200, Cross Entropy: 2.276225235903598\n",
      "Epoch 97/200, Cross Entropy: 2.2762252044393247\n",
      "Epoch 98/200, Cross Entropy: 2.2762251729750522\n",
      "Epoch 99/200, Cross Entropy: 2.276225141510781\n",
      "Epoch 100/200, Cross Entropy: 2.276225110046511\n",
      "Epoch 101/200, Cross Entropy: 2.276225078582243\n"
     ]
    },
    {
     "name": "stderr",
     "output_type": "stream",
     "text": [
      "Training:  56%|█████▌    | 111/200 [00:02<00:01, 48.17epoch/s]"
     ]
    },
    {
     "name": "stdout",
     "output_type": "stream",
     "text": [
      "Epoch 102/200, Cross Entropy: 2.2762250471179764\n",
      "Epoch 103/200, Cross Entropy: 2.276225015653711\n",
      "Epoch 104/200, Cross Entropy: 2.2762249841894464\n",
      "Epoch 105/200, Cross Entropy: 2.2762249527251837\n",
      "Epoch 106/200, Cross Entropy: 2.2762249212609222\n",
      "Epoch 107/200, Cross Entropy: 2.2762248897966626\n",
      "Epoch 108/200, Cross Entropy: 2.2762248583324043\n",
      "Epoch 109/200, Cross Entropy: 2.276224826868147\n",
      "Epoch 110/200, Cross Entropy: 2.276224795403891\n",
      "Epoch 111/200, Cross Entropy: 2.2762247639396365\n",
      "Epoch 112/200, Cross Entropy: 2.2762247324753835\n",
      "Epoch 113/200, Cross Entropy: 2.276224701011132\n"
     ]
    },
    {
     "name": "stderr",
     "output_type": "stream",
     "text": [
      "Training:  62%|██████▎   | 125/200 [00:03<00:01, 55.87epoch/s]"
     ]
    },
    {
     "name": "stdout",
     "output_type": "stream",
     "text": [
      "Epoch 114/200, Cross Entropy: 2.276224669546882\n",
      "Epoch 115/200, Cross Entropy: 2.276224638082633\n",
      "Epoch 116/200, Cross Entropy: 2.2762246066183853\n",
      "Epoch 117/200, Cross Entropy: 2.2762245751541395\n",
      "Epoch 118/200, Cross Entropy: 2.276224543689895\n",
      "Epoch 119/200, Cross Entropy: 2.2762245122256513\n",
      "Epoch 120/200, Cross Entropy: 2.27622448076141\n",
      "Epoch 121/200, Cross Entropy: 2.276224449297169\n",
      "Epoch 122/200, Cross Entropy: 2.27622441783293\n",
      "Epoch 123/200, Cross Entropy: 2.276224386368692\n",
      "Epoch 124/200, Cross Entropy: 2.276224354904456\n",
      "Epoch 125/200, Cross Entropy: 2.276224323440221\n"
     ]
    },
    {
     "name": "stderr",
     "output_type": "stream",
     "text": [
      "Training:  66%|██████▌   | 132/200 [00:03<00:01, 57.80epoch/s]"
     ]
    },
    {
     "name": "stdout",
     "output_type": "stream",
     "text": [
      "Epoch 126/200, Cross Entropy: 2.2762242919759874\n",
      "Epoch 127/200, Cross Entropy: 2.2762242605117553\n",
      "Epoch 128/200, Cross Entropy: 2.2762242290475245\n",
      "Epoch 129/200, Cross Entropy: 2.276224197583295\n",
      "Epoch 130/200, Cross Entropy: 2.276224166119067\n",
      "Epoch 131/200, Cross Entropy: 2.2762241346548406\n",
      "Epoch 132/200, Cross Entropy: 2.276224103190615\n",
      "Epoch 133/200, Cross Entropy: 2.2762240717263915\n",
      "Epoch 134/200, Cross Entropy: 2.2762240402621687\n",
      "Epoch 135/200, Cross Entropy: 2.276224008797948\n",
      "Epoch 136/200, Cross Entropy: 2.276223977333728\n",
      "Epoch 137/200, Cross Entropy: 2.27622394586951\n"
     ]
    },
    {
     "name": "stderr",
     "output_type": "stream",
     "text": [
      "Training:  73%|███████▎  | 146/200 [00:03<00:00, 57.77epoch/s]"
     ]
    },
    {
     "name": "stdout",
     "output_type": "stream",
     "text": [
      "Epoch 138/200, Cross Entropy: 2.276223914405293\n",
      "Epoch 139/200, Cross Entropy: 2.2762238829410775\n",
      "Epoch 140/200, Cross Entropy: 2.2762238514768636\n",
      "Epoch 141/200, Cross Entropy: 2.2762238200126506\n",
      "Epoch 142/200, Cross Entropy: 2.2762237885484393\n",
      "Epoch 143/200, Cross Entropy: 2.2762237570842294\n",
      "Epoch 144/200, Cross Entropy: 2.2762237256200204\n",
      "Epoch 145/200, Cross Entropy: 2.2762236941558136\n",
      "Epoch 146/200, Cross Entropy: 2.2762236626916077\n",
      "Epoch 147/200, Cross Entropy: 2.2762236312274036\n"
     ]
    },
    {
     "name": "stderr",
     "output_type": "stream",
     "text": [
      "Training:  76%|███████▌  | 152/200 [00:03<00:00, 50.55epoch/s]"
     ]
    },
    {
     "name": "stdout",
     "output_type": "stream",
     "text": [
      "Epoch 148/200, Cross Entropy: 2.2762235997632\n",
      "Epoch 149/200, Cross Entropy: 2.276223568298999\n",
      "Epoch 150/200, Cross Entropy: 2.2762235368347987\n",
      "Epoch 151/200, Cross Entropy: 2.2762235053706\n",
      "Epoch 152/200, Cross Entropy: 2.2762234739064025\n"
     ]
    },
    {
     "name": "stderr",
     "output_type": "stream",
     "text": [
      "Training:  82%|████████▏ | 164/200 [00:03<00:00, 45.75epoch/s]"
     ]
    },
    {
     "name": "stdout",
     "output_type": "stream",
     "text": [
      "Epoch 153/200, Cross Entropy: 2.2762234424422063\n",
      "Epoch 154/200, Cross Entropy: 2.2762234109780115\n",
      "Epoch 155/200, Cross Entropy: 2.2762233795138185\n",
      "Epoch 156/200, Cross Entropy: 2.2762233480496263\n",
      "Epoch 157/200, Cross Entropy: 2.276223316585436\n",
      "Epoch 158/200, Cross Entropy: 2.276223285121247\n",
      "Epoch 159/200, Cross Entropy: 2.276223253657059\n",
      "Epoch 160/200, Cross Entropy: 2.276223222192873\n",
      "Epoch 161/200, Cross Entropy: 2.276223190728688\n",
      "Epoch 162/200, Cross Entropy: 2.276223159264504\n",
      "Epoch 163/200, Cross Entropy: 2.2762231278003218\n",
      "Epoch 164/200, Cross Entropy: 2.276223096336141\n"
     ]
    },
    {
     "name": "stderr",
     "output_type": "stream",
     "text": [
      "Training:  86%|████████▌ | 172/200 [00:04<00:00, 52.28epoch/s]"
     ]
    },
    {
     "name": "stdout",
     "output_type": "stream",
     "text": [
      "Epoch 165/200, Cross Entropy: 2.276223064871962\n",
      "Epoch 166/200, Cross Entropy: 2.276223033407784\n",
      "Epoch 167/200, Cross Entropy: 2.2762230019436074\n",
      "Epoch 168/200, Cross Entropy: 2.2762229704794317\n",
      "Epoch 169/200, Cross Entropy: 2.276222939015258\n",
      "Epoch 170/200, Cross Entropy: 2.2762229075510856\n",
      "Epoch 171/200, Cross Entropy: 2.2762228760869148\n",
      "Epoch 172/200, Cross Entropy: 2.276222844622745\n",
      "Epoch 173/200, Cross Entropy: 2.2762228131585767\n",
      "Epoch 174/200, Cross Entropy: 2.2762227816944103\n",
      "Epoch 175/200, Cross Entropy: 2.2762227502302443\n",
      "Epoch 176/200, Cross Entropy: 2.27622271876608\n",
      "Epoch 177/200, Cross Entropy: 2.276222687301918\n"
     ]
    },
    {
     "name": "stderr",
     "output_type": "stream",
     "text": [
      "Training:  94%|█████████▎| 187/200 [00:04<00:00, 59.24epoch/s]"
     ]
    },
    {
     "name": "stdout",
     "output_type": "stream",
     "text": [
      "Epoch 178/200, Cross Entropy: 2.2762226558377563\n",
      "Epoch 179/200, Cross Entropy: 2.276222624373596\n",
      "Epoch 180/200, Cross Entropy: 2.2762225929094377\n",
      "Epoch 181/200, Cross Entropy: 2.2762225614452807\n",
      "Epoch 182/200, Cross Entropy: 2.2762225299811245\n",
      "Epoch 183/200, Cross Entropy: 2.27622249851697\n",
      "Epoch 184/200, Cross Entropy: 2.2762224670528175\n",
      "Epoch 185/200, Cross Entropy: 2.2762224355886653\n",
      "Epoch 186/200, Cross Entropy: 2.2762224041245154\n",
      "Epoch 187/200, Cross Entropy: 2.2762223726603668\n",
      "Epoch 188/200, Cross Entropy: 2.2762223411962195\n",
      "Epoch 189/200, Cross Entropy: 2.276222309732073\n",
      "Epoch 190/200, Cross Entropy: 2.2762222782679284\n"
     ]
    },
    {
     "name": "stderr",
     "output_type": "stream",
     "text": [
      "Training: 100%|██████████| 200/200 [00:04<00:00, 45.65epoch/s]\n"
     ]
    },
    {
     "name": "stdout",
     "output_type": "stream",
     "text": [
      "Epoch 191/200, Cross Entropy: 2.276222246803785\n",
      "Epoch 192/200, Cross Entropy: 2.276222215339643\n",
      "Epoch 193/200, Cross Entropy: 2.276222183875503\n",
      "Epoch 194/200, Cross Entropy: 2.2762221524113637\n",
      "Epoch 195/200, Cross Entropy: 2.276222120947226\n",
      "Epoch 196/200, Cross Entropy: 2.2762220894830896\n",
      "Epoch 197/200, Cross Entropy: 2.2762220580189547\n",
      "Epoch 198/200, Cross Entropy: 2.276222026554821\n",
      "Epoch 199/200, Cross Entropy: 2.276221995090689\n",
      "Epoch 200/200, Cross Entropy: 2.276221963626558\n"
     ]
    },
    {
     "name": "stderr",
     "output_type": "stream",
     "text": [
      "                                                    \r"
     ]
    },
    {
     "name": "stdout",
     "output_type": "stream",
     "text": [
      "Epoch 1/200, Cross Entropy: 2.1392976192789006\n",
      "Epoch 2/200, Cross Entropy: 2.0420868647885944\n"
     ]
    },
    {
     "name": "stderr",
     "output_type": "stream",
     "text": [
      "Training:   4%|▎         | 7/200 [00:00<00:03, 61.95epoch/s]"
     ]
    },
    {
     "name": "stdout",
     "output_type": "stream",
     "text": [
      "Epoch 3/200, Cross Entropy: 1.9794611016530523\n",
      "Epoch 4/200, Cross Entropy: 1.9359872584569244\n",
      "Epoch 5/200, Cross Entropy: 1.905087015978639\n",
      "Epoch 6/200, Cross Entropy: 1.8826522619139041\n",
      "Epoch 7/200, Cross Entropy: 1.8660151553732454\n",
      "Epoch 8/200, Cross Entropy: 1.8534339849314552\n",
      "Epoch 9/200, Cross Entropy: 1.8437552846283862\n",
      "Epoch 10/200, Cross Entropy: 1.8361987954641417\n",
      "Epoch 11/200, Cross Entropy: 1.8302243152619833\n",
      "Epoch 12/200, Cross Entropy: 1.8254493778095413\n"
     ]
    },
    {
     "name": "stderr",
     "output_type": "stream",
     "text": [
      "Training:   8%|▊         | 15/200 [00:00<00:02, 67.50epoch/s]"
     ]
    },
    {
     "name": "stdout",
     "output_type": "stream",
     "text": [
      "Epoch 13/200, Cross Entropy: 1.8215976279396835\n",
      "Epoch 14/200, Cross Entropy: 1.818465745876657\n",
      "Epoch 15/200, Cross Entropy: 1.8159017512382063\n"
     ]
    },
    {
     "name": "stderr",
     "output_type": "stream",
     "text": [
      "Training:  11%|█         | 22/200 [00:00<00:04, 37.47epoch/s]"
     ]
    },
    {
     "name": "stdout",
     "output_type": "stream",
     "text": [
      "Epoch 16/200, Cross Entropy: 1.8137904394160338\n",
      "Epoch 17/200, Cross Entropy: 1.812043393587079\n",
      "Epoch 18/200, Cross Entropy: 1.8105920000885225\n",
      "Epoch 19/200, Cross Entropy: 1.8093824779664822\n",
      "Epoch 20/200, Cross Entropy: 1.8083722862321456\n",
      "Epoch 21/200, Cross Entropy: 1.8075274905417642\n",
      "Epoch 22/200, Cross Entropy: 1.8068208089544506\n",
      "Epoch 23/200, Cross Entropy: 1.8062301454472791\n",
      "Epoch 24/200, Cross Entropy: 1.8057374784416458\n",
      "Epoch 25/200, Cross Entropy: 1.8053280108278253\n",
      "Epoch 26/200, Cross Entropy: 1.8049895146906965\n"
     ]
    },
    {
     "name": "stderr",
     "output_type": "stream",
     "text": [
      "Training:  18%|█▊        | 35/200 [00:00<00:03, 45.80epoch/s]"
     ]
    },
    {
     "name": "stdout",
     "output_type": "stream",
     "text": [
      "Epoch 27/200, Cross Entropy: 1.804711822413097\n",
      "Epoch 28/200, Cross Entropy: 1.8044864287902922\n",
      "Epoch 29/200, Cross Entropy: 1.8043061779976968\n",
      "Epoch 30/200, Cross Entropy: 1.804165015879295\n",
      "Epoch 31/200, Cross Entropy: 1.8040577928449655\n",
      "Epoch 32/200, Cross Entropy: 1.8039801062093304\n",
      "Epoch 33/200, Cross Entropy: 1.8039281734355508\n",
      "Epoch 34/200, Cross Entropy: 1.8038987297171103\n",
      "Epoch 35/200, Cross Entropy: 1.8038889448167994\n",
      "Epoch 36/200, Cross Entropy: 1.803896355211427\n"
     ]
    },
    {
     "name": "stderr",
     "output_type": "stream",
     "text": [
      "Training:  20%|██        | 41/200 [00:00<00:03, 48.47epoch/s]"
     ]
    },
    {
     "name": "stdout",
     "output_type": "stream",
     "text": [
      "Epoch 37/200, Cross Entropy: 1.803918808454386\n",
      "Epoch 38/200, Cross Entropy: 1.803954417332388\n",
      "Epoch 39/200, Cross Entropy: 1.8040015219061631\n",
      "Epoch 40/200, Cross Entropy: 1.8040586579237103\n",
      "Epoch 41/200, Cross Entropy: 1.8041245304057791\n",
      "Epoch 42/200, Cross Entropy: 1.8041979914468698\n",
      "Epoch 43/200, Cross Entropy: 1.8042780214664995\n",
      "Epoch 44/200, Cross Entropy: 1.8043637132964945\n",
      "Epoch 45/200, Cross Entropy: 1.8044542586095622\n",
      "Epoch 46/200, Cross Entropy: 1.804548936289245\n",
      "Epoch 47/200, Cross Entropy: 1.8046471024168609\n"
     ]
    },
    {
     "name": "stderr",
     "output_type": "stream",
     "text": [
      "Training:  27%|██▋       | 54/200 [00:01<00:02, 53.82epoch/s]"
     ]
    },
    {
     "name": "stdout",
     "output_type": "stream",
     "text": [
      "Epoch 48/200, Cross Entropy: 1.804748181611372\n",
      "Epoch 49/200, Cross Entropy: 1.8048516595064055\n",
      "Epoch 50/200, Cross Entropy: 1.8049570761874896\n",
      "Epoch 51/200, Cross Entropy: 1.805064020443809\n",
      "Epoch 52/200, Cross Entropy: 1.805172124714093\n",
      "Epoch 53/200, Cross Entropy: 1.8052810606267207\n",
      "Epoch 54/200, Cross Entropy: 1.8053905350508024\n",
      "Epoch 55/200, Cross Entropy: 1.8055002865886018\n",
      "Epoch 56/200, Cross Entropy: 1.805610082450778\n",
      "Epoch 57/200, Cross Entropy: 1.805719715665081\n",
      "Epoch 58/200, Cross Entropy: 1.8058290025766726\n"
     ]
    },
    {
     "name": "stderr",
     "output_type": "stream",
     "text": [
      "Training:  34%|███▎      | 67/200 [00:01<00:02, 54.71epoch/s]"
     ]
    },
    {
     "name": "stdout",
     "output_type": "stream",
     "text": [
      "Epoch 59/200, Cross Entropy: 1.805937780604461\n",
      "Epoch 60/200, Cross Entropy: 1.806045906223029\n",
      "Epoch 61/200, Cross Entropy: 1.8061532531440276\n",
      "Epoch 62/200, Cross Entropy: 1.806259710674533\n",
      "Epoch 63/200, Cross Entropy: 1.8063651822328666\n",
      "Epoch 64/200, Cross Entropy: 1.806469584004955\n",
      "Epoch 65/200, Cross Entropy: 1.8065728437264401\n",
      "Epoch 66/200, Cross Entropy: 1.8066748995776054\n",
      "Epoch 67/200, Cross Entropy: 1.8067756991797377\n",
      "Epoch 68/200, Cross Entropy: 1.8068751986828842\n",
      "Epoch 69/200, Cross Entropy: 1.8069733619361226\n"
     ]
    },
    {
     "name": "stderr",
     "output_type": "stream",
     "text": [
      "Training:  36%|███▋      | 73/200 [00:01<00:02, 53.71epoch/s]"
     ]
    },
    {
     "name": "stdout",
     "output_type": "stream",
     "text": [
      "Epoch 70/200, Cross Entropy: 1.8070701597324506\n",
      "Epoch 71/200, Cross Entropy: 1.8071655691212751\n",
      "Epoch 72/200, Cross Entropy: 1.8072595727822156\n",
      "Epoch 73/200, Cross Entropy: 1.8073521584546053\n",
      "Epoch 74/200, Cross Entropy: 1.8074433184176448\n",
      "Epoch 75/200, Cross Entropy: 1.8075330490166666\n",
      "Epoch 76/200, Cross Entropy: 1.807621350231417\n",
      "Epoch 77/200, Cross Entropy: 1.8077082252826533\n",
      "Epoch 78/200, Cross Entropy: 1.807793680273718\n"
     ]
    },
    {
     "name": "stderr",
     "output_type": "stream",
     "text": [
      "Training:  42%|████▎     | 85/200 [00:01<00:02, 42.72epoch/s]"
     ]
    },
    {
     "name": "stdout",
     "output_type": "stream",
     "text": [
      "Epoch 79/200, Cross Entropy: 1.8078777238640418\n",
      "Epoch 80/200, Cross Entropy: 1.8079603669718314\n",
      "Epoch 81/200, Cross Entropy: 1.808041622503434\n",
      "Epoch 82/200, Cross Entropy: 1.808121505107094\n",
      "Epoch 83/200, Cross Entropy: 1.8082000309490285\n",
      "Epoch 84/200, Cross Entropy: 1.8082772175099266\n",
      "Epoch 85/200, Cross Entropy: 1.8083530834001378\n",
      "Epoch 86/200, Cross Entropy: 1.8084276481919683\n",
      "Epoch 87/200, Cross Entropy: 1.8085009322676446\n",
      "Epoch 88/200, Cross Entropy: 1.8085729566816129\n",
      "Epoch 89/200, Cross Entropy: 1.8086437430359665\n"
     ]
    },
    {
     "name": "stderr",
     "output_type": "stream",
     "text": [
      "Training:  48%|████▊     | 97/200 [00:02<00:02, 49.05epoch/s]"
     ]
    },
    {
     "name": "stdout",
     "output_type": "stream",
     "text": [
      "Epoch 90/200, Cross Entropy: 1.8087133133678917\n",
      "Epoch 91/200, Cross Entropy: 1.8087816900481108\n",
      "Epoch 92/200, Cross Entropy: 1.8088488956893929\n",
      "Epoch 93/200, Cross Entropy: 1.8089149530642745\n",
      "Epoch 94/200, Cross Entropy: 1.8089798850312062\n",
      "Epoch 95/200, Cross Entropy: 1.8090437144684017\n",
      "Epoch 96/200, Cross Entropy: 1.8091064642147343\n",
      "Epoch 97/200, Cross Entropy: 1.8091681570170632\n",
      "Epoch 98/200, Cross Entropy: 1.8092288154834455\n",
      "Epoch 99/200, Cross Entropy: 1.8092884620417078\n",
      "Epoch 100/200, Cross Entropy: 1.8093471189029187\n"
     ]
    },
    {
     "name": "stderr",
     "output_type": "stream",
     "text": [
      "Training:  55%|█████▍    | 109/200 [00:02<00:01, 46.71epoch/s]"
     ]
    },
    {
     "name": "stdout",
     "output_type": "stream",
     "text": [
      "Epoch 101/200, Cross Entropy: 1.8094048080293246\n",
      "Epoch 102/200, Cross Entropy: 1.8094615511063528\n",
      "Epoch 103/200, Cross Entropy: 1.809517369518321\n",
      "Epoch 104/200, Cross Entropy: 1.8095722843275128\n",
      "Epoch 105/200, Cross Entropy: 1.8096263162563218\n",
      "Epoch 106/200, Cross Entropy: 1.8096794856721727\n",
      "Epoch 107/200, Cross Entropy: 1.8097318125749666\n",
      "Epoch 108/200, Cross Entropy: 1.8097833165868118\n",
      "Epoch 109/200, Cross Entropy: 1.809834016943824\n"
     ]
    },
    {
     "name": "stderr",
     "output_type": "stream",
     "text": [
      "Training:  57%|█████▊    | 115/200 [00:02<00:01, 48.22epoch/s]"
     ]
    },
    {
     "name": "stdout",
     "output_type": "stream",
     "text": [
      "Epoch 110/200, Cross Entropy: 1.8098839324897928\n",
      "Epoch 111/200, Cross Entropy: 1.8099330816715342\n",
      "Epoch 112/200, Cross Entropy: 1.8099814825357616\n",
      "Epoch 113/200, Cross Entropy: 1.8100291527273205\n",
      "Epoch 114/200, Cross Entropy: 1.810076109488644\n",
      "Epoch 115/200, Cross Entropy: 1.8101223696603057\n",
      "Epoch 116/200, Cross Entropy: 1.8101679496825478\n",
      "Epoch 117/200, Cross Entropy: 1.8102128655976755\n",
      "Epoch 118/200, Cross Entropy: 1.8102571330532244\n",
      "Epoch 119/200, Cross Entropy: 1.8103007673058056\n",
      "Epoch 120/200, Cross Entropy: 1.8103437832255482\n"
     ]
    },
    {
     "name": "stderr",
     "output_type": "stream",
     "text": [
      "                                                              "
     ]
    },
    {
     "name": "stdout",
     "output_type": "stream",
     "text": [
      "Epoch 121/200, Cross Entropy: 1.8103861953010663\n",
      "Epoch 122/200, Cross Entropy: 1.8104280176448755\n",
      "Epoch 123/200, Cross Entropy: 1.8104692639992084\n",
      "Epoch 124/200, Cross Entropy: 1.810509947742157\n",
      "Epoch 125/200, Cross Entropy: 1.8105500818941063\n",
      "Epoch 126/200, Cross Entropy: 1.8105896791243974\n",
      "Epoch 127/200, Cross Entropy: 1.8106287517581932\n",
      "Epoch 128/200, Cross Entropy: 1.8106673117834928\n",
      "Epoch 129/200, Cross Entropy: 1.810705370858272\n",
      "Epoch 130/200, Cross Entropy: 1.8107429403177104\n",
      "Epoch 131/200, Cross Entropy: 1.8107800311814832\n"
     ]
    },
    {
     "name": "stderr",
     "output_type": "stream",
     "text": [
      "Training:  71%|███████   | 142/200 [00:02<00:00, 58.64epoch/s]"
     ]
    },
    {
     "name": "stdout",
     "output_type": "stream",
     "text": [
      "Epoch 132/200, Cross Entropy: 1.8108166541610875\n",
      "Epoch 133/200, Cross Entropy: 1.8108528196671823\n",
      "Epoch 134/200, Cross Entropy: 1.810888537816921\n",
      "Epoch 135/200, Cross Entropy: 1.8109238184412608\n",
      "Epoch 136/200, Cross Entropy: 1.8109586710922276\n",
      "Epoch 137/200, Cross Entropy: 1.8109931050501256\n",
      "Epoch 138/200, Cross Entropy: 1.8110271293306803\n",
      "Epoch 139/200, Cross Entropy: 1.811060752692099\n",
      "Epoch 140/200, Cross Entropy: 1.8110939836420423\n",
      "Epoch 141/200, Cross Entropy: 1.8111268304444983\n",
      "Epoch 142/200, Cross Entropy: 1.8111593011265474\n",
      "Epoch 143/200, Cross Entropy: 1.8111914034850198\n"
     ]
    },
    {
     "name": "stderr",
     "output_type": "stream",
     "text": [
      "Training:  71%|███████   | 142/200 [00:02<00:00, 58.64epoch/s]"
     ]
    },
    {
     "name": "stdout",
     "output_type": "stream",
     "text": [
      "Epoch 144/200, Cross Entropy: 1.8112231450930334\n",
      "Epoch 145/200, Cross Entropy: 1.8112545333064058\n"
     ]
    },
    {
     "name": "stderr",
     "output_type": "stream",
     "text": [
      "Training:  77%|███████▋  | 154/200 [00:03<00:01, 43.56epoch/s]"
     ]
    },
    {
     "name": "stdout",
     "output_type": "stream",
     "text": [
      "Epoch 146/200, Cross Entropy: 1.8112855752699477\n",
      "Epoch 147/200, Cross Entropy: 1.811316277923621\n",
      "Epoch 148/200, Cross Entropy: 1.811346648008569\n",
      "Epoch 149/200, Cross Entropy: 1.8113766920730137\n",
      "Epoch 150/200, Cross Entropy: 1.8114064164780166\n",
      "Epoch 151/200, Cross Entropy: 1.8114358274031064\n",
      "Epoch 152/200, Cross Entropy: 1.8114649308517723\n",
      "Epoch 153/200, Cross Entropy: 1.8114937326568183\n",
      "Epoch 154/200, Cross Entropy: 1.8115222384855858\n",
      "Epoch 155/200, Cross Entropy: 1.8115504538450424\n"
     ]
    },
    {
     "name": "stderr",
     "output_type": "stream",
     "text": [
      "Training:  80%|████████  | 160/200 [00:03<00:00, 45.85epoch/s]"
     ]
    },
    {
     "name": "stdout",
     "output_type": "stream",
     "text": [
      "Epoch 156/200, Cross Entropy: 1.8115783840867334\n",
      "Epoch 157/200, Cross Entropy: 1.8116060344116076\n",
      "Epoch 158/200, Cross Entropy: 1.8116334098747058\n",
      "Epoch 159/200, Cross Entropy: 1.8116605153897252\n",
      "Epoch 160/200, Cross Entropy: 1.8116873557334545\n",
      "Epoch 161/200, Cross Entropy: 1.8117139355500844\n",
      "Epoch 162/200, Cross Entropy: 1.8117402593553946\n",
      "Epoch 163/200, Cross Entropy: 1.8117663315408186\n",
      "Epoch 164/200, Cross Entropy: 1.8117921563773929\n",
      "Epoch 165/200, Cross Entropy: 1.8118177380195857\n",
      "Epoch 166/200, Cross Entropy: 1.8118430805090155\n"
     ]
    },
    {
     "name": "stderr",
     "output_type": "stream",
     "text": [
      "Training:  86%|████████▋ | 173/200 [00:03<00:00, 52.92epoch/s]"
     ]
    },
    {
     "name": "stdout",
     "output_type": "stream",
     "text": [
      "Epoch 167/200, Cross Entropy: 1.8118681877780527\n",
      "Epoch 168/200, Cross Entropy: 1.811893063653317\n",
      "Epoch 169/200, Cross Entropy: 1.8119177118590648\n",
      "Epoch 170/200, Cross Entropy: 1.8119421360204742\n",
      "Epoch 171/200, Cross Entropy: 1.811966339666826\n",
      "Epoch 172/200, Cross Entropy: 1.811990326234589\n",
      "Epoch 173/200, Cross Entropy: 1.8120140990704015\n",
      "Epoch 174/200, Cross Entropy: 1.812037661433967\n",
      "Epoch 175/200, Cross Entropy: 1.8120610165008524\n",
      "Epoch 176/200, Cross Entropy: 1.8120841673651973\n",
      "Epoch 177/200, Cross Entropy: 1.8121071170423373\n"
     ]
    },
    {
     "name": "stderr",
     "output_type": "stream",
     "text": [
      "Training:  92%|█████████▎| 185/200 [00:03<00:00, 52.87epoch/s]"
     ]
    },
    {
     "name": "stdout",
     "output_type": "stream",
     "text": [
      "Epoch 178/200, Cross Entropy: 1.8121298684713432\n",
      "Epoch 179/200, Cross Entropy: 1.8121524245174767\n",
      "Epoch 180/200, Cross Entropy: 1.812174787974566\n",
      "Epoch 181/200, Cross Entropy: 1.8121969615673044\n",
      "Epoch 182/200, Cross Entropy: 1.8122189479534723\n",
      "Epoch 183/200, Cross Entropy: 1.812240749726089\n",
      "Epoch 184/200, Cross Entropy: 1.8122623694154887\n",
      "Epoch 185/200, Cross Entropy: 1.8122838094913312\n",
      "Epoch 186/200, Cross Entropy: 1.812305072364544\n",
      "Epoch 187/200, Cross Entropy: 1.812326160389202\n"
     ]
    },
    {
     "name": "stderr",
     "output_type": "stream",
     "text": [
      "Training:  99%|█████████▉| 198/200 [00:03<00:00, 58.56epoch/s]"
     ]
    },
    {
     "name": "stdout",
     "output_type": "stream",
     "text": [
      "Epoch 188/200, Cross Entropy: 1.8123470758643383\n",
      "Epoch 189/200, Cross Entropy: 1.8123678210357037\n",
      "Epoch 190/200, Cross Entropy: 1.812388398097456\n",
      "Epoch 191/200, Cross Entropy: 1.8124088091938022\n",
      "Epoch 192/200, Cross Entropy: 1.8124290564205776\n",
      "Epoch 193/200, Cross Entropy: 1.8124491418267783\n",
      "Epoch 194/200, Cross Entropy: 1.812469067416033\n",
      "Epoch 195/200, Cross Entropy: 1.8124888351480346\n",
      "Epoch 196/200, Cross Entropy: 1.812508446939916\n",
      "Epoch 197/200, Cross Entropy: 1.8125279046675802\n",
      "Epoch 198/200, Cross Entropy: 1.8125472101669873\n",
      "Epoch 199/200, Cross Entropy: 1.8125663652353958\n"
     ]
    },
    {
     "name": "stderr",
     "output_type": "stream",
     "text": [
      "Training: 100%|██████████| 200/200 [00:03<00:00, 50.32epoch/s]\n"
     ]
    },
    {
     "name": "stdout",
     "output_type": "stream",
     "text": [
      "Epoch 200/200, Cross Entropy: 1.8125853716325615\n"
     ]
    },
    {
     "data": {
      "text/plain": [
       "(0.876, 0.5780000000000001, 0.876, 0.5780000000000001)"
      ]
     },
     "execution_count": 20,
     "metadata": {},
     "output_type": "execute_result"
    }
   ],
   "source": [
    "train, train_labels = train_1000, train_1000_labels\n",
    "n_classes = train_1000_labels.shape[1]\n",
    "\n",
    "run_experiment_dnn(\n",
    "    # data\n",
    "    train_data=train,\n",
    "    train_labels=train_labels,\n",
    "    test_data=mnist_test,\n",
    "    test_labels=mnist_test_labels,\n",
    "    # initialization\n",
    "    input_dim=train.shape[1],\n",
    "    output_dim=n_classes,\n",
    "    hidden_layer_sizes=[200],\n",
    "    # training\n",
    "    batch_size=128,\n",
    "    n_epochs_pretrain=100,\n",
    "    n_epochs_backprop=200,\n",
    "    learning_rate=0.1,\n",
    "    eps=1e-15,\n",
    "    print_each=20,\n",
    "    verbose=True,\n",
    "    random_state=42\n",
    ")"
   ]
  },
  {
   "cell_type": "code",
   "execution_count": 19,
   "metadata": {},
   "outputs": [
    {
     "name": "stdout",
     "output_type": "stream",
     "text": [
      "../results/layers/\n"
     ]
    }
   ],
   "source": [
    "RESULTS_PATH = \"../results/\"\n",
    "RESULTS_LAYERS_PATH = RESULTS_PATH + \"layers/\"\n",
    "\n",
    "print(RESULTS_LAYERS_PATH)"
   ]
  },
  {
   "cell_type": "code",
   "execution_count": 24,
   "metadata": {},
   "outputs": [
    {
     "name": "stdout",
     "output_type": "stream",
     "text": [
      "\n",
      "--------- PRETRAINING PHASE --------\n",
      "\n"
     ]
    },
    {
     "name": "stderr",
     "output_type": "stream",
     "text": [
      "Epoch 0: 100%|██████████| 16/16 [00:00<00:00, 54.98it/s] r/s]\n",
      "Epoch 1: 100%|██████████| 16/16 [00:00<00:00, 142.86it/s]\n",
      "Epoch 2: 100%|██████████| 16/16 [00:00<00:00, 148.15it/s]\n",
      "Epoch 3: 100%|██████████| 16/16 [00:00<00:00, 186.05it/s]\n",
      "Epoch 4: 100%|██████████| 16/16 [00:00<00:00, 161.62it/s]\n",
      "Epoch 5: 100%|██████████| 16/16 [00:00<00:00, 170.22it/s]\n",
      "Epoch 6: 100%|██████████| 16/16 [00:00<00:00, 141.59it/s]\n",
      "Epoch 7: 100%|██████████| 16/16 [00:00<00:00, 137.93it/s]\n",
      "Epoch 8: 100%|██████████| 16/16 [00:00<00:00, 179.78it/s]\n",
      "Epoch 9: 100%|██████████| 16/16 [00:00<00:00, 177.78it/s]\n",
      "Epoch 10: 100%|██████████| 16/16 [00:00<00:00, 173.92it/s]\n",
      "Epoch 11: 100%|██████████| 16/16 [00:00<00:00, 153.15it/s]\n",
      "Epoch 12: 100%|██████████| 16/16 [00:00<00:00, 141.36it/s]\n",
      "Epoch 13: 100%|██████████| 16/16 [00:00<00:00, 140.35it/s]\n",
      "Epoch 14: 100%|██████████| 16/16 [00:00<00:00, 153.85it/s]\n",
      "Epoch 15: 100%|██████████| 16/16 [00:00<00:00, 161.62it/s]\n",
      "Epoch 16: 100%|██████████| 16/16 [00:00<00:00, 163.26it/s]\n",
      "Epoch 17: 100%|██████████| 16/16 [00:00<00:00, 153.85it/s]\n",
      "Epoch 18: 100%|██████████| 16/16 [00:00<00:00, 160.00it/s]\n",
      "Epoch 19: 100%|██████████| 16/16 [00:00<00:00, 150.94it/s]\n",
      "Epoch 20: 100%|██████████| 16/16 [00:00<00:00, 163.27it/s]\n",
      "Epoch 21: 100%|██████████| 16/16 [00:00<00:00, 152.38it/s]\n",
      "Epoch 22: 100%|██████████| 16/16 [00:00<00:00, 145.46it/s]\n",
      "Epoch 23: 100%|██████████| 16/16 [00:00<00:00, 133.33it/s]\n",
      "Epoch 24: 100%|██████████| 16/16 [00:00<00:00, 163.26it/s]\n",
      "Epoch 25: 100%|██████████| 16/16 [00:00<00:00, 168.42it/s]\n",
      "Epoch 26: 100%|██████████| 16/16 [00:00<00:00, 166.68it/s]\n",
      "Epoch 27: 100%|██████████| 16/16 [00:00<00:00, 153.84it/s]\n",
      "Epoch 28: 100%|██████████| 16/16 [00:00<00:00, 158.42it/s]\n",
      "Epoch 29: 100%|██████████| 16/16 [00:00<00:00, 152.38it/s]\n",
      "Epoch 30: 100%|██████████| 16/16 [00:00<00:00, 140.34it/s]\n",
      "Epoch 31: 100%|██████████| 16/16 [00:00<00:00, 150.94it/s]\n",
      "Epoch 32: 100%|██████████| 16/16 [00:00<00:00, 123.61it/s]\n",
      "Epoch 33: 100%|██████████| 16/16 [00:00<00:00, 139.61it/s]\n",
      "Epoch 34: 100%|██████████| 16/16 [00:00<00:00, 166.67it/s]\n",
      "Epoch 35: 100%|██████████| 16/16 [00:00<00:00, 146.79it/s]\n",
      "Epoch 36: 100%|██████████| 16/16 [00:00<00:00, 136.75it/s]\n",
      "Epoch 37: 100%|██████████| 16/16 [00:00<00:00, 145.45it/s]\n",
      "Epoch 38: 100%|██████████| 16/16 [00:00<00:00, 150.95it/s]\n",
      "Epoch 39: 100%|██████████| 16/16 [00:00<00:00, 145.46it/s]\n",
      "Epoch 40: 100%|██████████| 16/16 [00:00<00:00, 140.35it/s]\n",
      "Epoch 41: 100%|██████████| 16/16 [00:00<00:00, 149.53it/s]\n",
      "Epoch 42: 100%|██████████| 16/16 [00:00<00:00, 161.61it/s]\n",
      "Epoch 43: 100%|██████████| 16/16 [00:00<00:00, 140.35it/s]\n",
      "Epoch 44: 100%|██████████| 16/16 [00:00<00:00, 108.84it/s]\n",
      "Epoch 45: 100%|██████████| 16/16 [00:00<00:00, 139.13it/s]\n",
      "Epoch 46: 100%|██████████| 16/16 [00:00<00:00, 140.35it/s]\n",
      "Epoch 47: 100%|██████████| 16/16 [00:00<00:00, 132.23it/s]\n",
      "Epoch 48: 100%|██████████| 16/16 [00:00<00:00, 133.34it/s]\n",
      "Epoch 49: 100%|██████████| 16/16 [00:00<00:00, 142.86it/s]\n",
      "Epoch 50: 100%|██████████| 16/16 [00:00<00:00, 150.95it/s]\n",
      "Epoch 51: 100%|██████████| 16/16 [00:00<00:00, 135.13it/s]\n",
      "Epoch 52: 100%|██████████| 16/16 [00:00<00:00, 133.63it/s]\n",
      "Epoch 53: 100%|██████████| 16/16 [00:00<00:00, 150.96it/s]\n",
      "Epoch 54: 100%|██████████| 16/16 [00:00<00:00, 166.67it/s]\n",
      "Epoch 55: 100%|██████████| 16/16 [00:00<00:00, 156.86it/s]\n",
      "Epoch 56: 100%|██████████| 16/16 [00:00<00:00, 132.23it/s]\n",
      "Epoch 57: 100%|██████████| 16/16 [00:00<00:00, 103.23it/s]\n",
      "Epoch 58: 100%|██████████| 16/16 [00:00<00:00, 89.38it/s]\n",
      "Epoch 59: 100%|██████████| 16/16 [00:00<00:00, 105.97it/s]\n",
      "Epoch 60: 100%|██████████| 16/16 [00:00<00:00, 107.38it/s]\n",
      "Epoch 61: 100%|██████████| 16/16 [00:00<00:00, 125.97it/s]\n",
      "Epoch 62: 100%|██████████| 16/16 [00:00<00:00, 123.06it/s]\n",
      "Epoch 63: 100%|██████████| 16/16 [00:00<00:00, 145.45it/s]\n",
      "Epoch 64: 100%|██████████| 16/16 [00:00<00:00, 136.75it/s]\n",
      "Epoch 65: 100%|██████████| 16/16 [00:00<00:00, 116.79it/s]\n",
      "Epoch 66: 100%|██████████| 16/16 [00:00<00:00, 129.03it/s]\n",
      "Epoch 67: 100%|██████████| 16/16 [00:00<00:00, 115.11it/s]\n",
      "Epoch 68: 100%|██████████| 16/16 [00:00<00:00, 103.37it/s]\n",
      "Epoch 69: 100%|██████████| 16/16 [00:00<00:00, 105.88it/s]\n",
      "Epoch 70: 100%|██████████| 16/16 [00:00<00:00, 107.38it/s]\n",
      "Epoch 71: 100%|██████████| 16/16 [00:00<00:00, 129.04it/s]\n",
      "Epoch 72: 100%|██████████| 16/16 [00:00<00:00, 155.34it/s]\n",
      "Epoch 73: 100%|██████████| 16/16 [00:00<00:00, 163.26it/s]\n",
      "Epoch 74: 100%|██████████| 16/16 [00:00<00:00, 153.85it/s]\n",
      "Epoch 75: 100%|██████████| 16/16 [00:00<00:00, 150.94it/s]\n",
      "Epoch 76: 100%|██████████| 16/16 [00:00<00:00, 152.38it/s]\n",
      "Epoch 77: 100%|██████████| 16/16 [00:00<00:00, 98.77it/s]\n",
      "Epoch 78: 100%|██████████| 16/16 [00:00<00:00, 139.13it/s]\n",
      "Epoch 79: 100%|██████████| 16/16 [00:00<00:00, 114.29it/s]\n",
      "Epoch 80: 100%|██████████| 16/16 [00:00<00:00, 114.29it/s]\n",
      "Epoch 81: 100%|██████████| 16/16 [00:00<00:00, 129.03it/s]\n",
      "Epoch 82: 100%|██████████| 16/16 [00:00<00:00, 117.64it/s]\n",
      "Epoch 83: 100%|██████████| 16/16 [00:00<00:00, 110.35it/s]\n",
      "Epoch 84: 100%|██████████| 16/16 [00:00<00:00, 146.79it/s]\n",
      "Epoch 85: 100%|██████████| 16/16 [00:00<00:00, 46.70it/s]\n",
      "Epoch 86: 100%|██████████| 16/16 [00:00<00:00, 105.23it/s]\n",
      "Epoch 87: 100%|██████████| 16/16 [00:00<00:00, 161.62it/s]\n",
      "Epoch 88: 100%|██████████| 16/16 [00:00<00:00, 66.80it/s]\n",
      "Epoch 89: 100%|██████████| 16/16 [00:00<00:00, 71.11it/s]\n",
      "Epoch 90: 100%|██████████| 16/16 [00:00<00:00, 97.56it/s]\n",
      "Epoch 91: 100%|██████████| 16/16 [00:00<00:00, 115.94it/s]\n",
      "Epoch 92: 100%|██████████| 16/16 [00:00<00:00, 74.77it/s]\n",
      "Epoch 93: 100%|██████████| 16/16 [00:00<00:00, 73.39it/s]\n",
      "Epoch 94: 100%|██████████| 16/16 [00:00<00:00, 104.57it/s]\n",
      "Epoch 95: 100%|██████████| 16/16 [00:00<00:00, 122.13it/s]\n",
      "Epoch 96: 100%|██████████| 16/16 [00:00<00:00, 145.46it/s]\n",
      "Epoch 97: 100%|██████████| 16/16 [00:00<00:00, 150.94it/s]\n",
      "Epoch 98: 100%|██████████| 16/16 [00:00<00:00, 148.14it/s]\n",
      "Epoch 99: 100%|██████████| 16/16 [00:00<00:00, 134.21it/s]\n",
      "Epoch 0: 100%|██████████| 16/16 [00:00<00:00, 516.52it/s]3.13s/layer]\n",
      "Epoch 1: 100%|██████████| 16/16 [00:00<00:00, 475.79it/s]\n",
      "Epoch 2: 100%|██████████| 16/16 [00:00<00:00, 666.64it/s]\n",
      "Epoch 3: 100%|██████████| 16/16 [00:00<00:00, 592.60it/s]\n",
      "Epoch 4: 100%|██████████| 16/16 [00:00<00:00, 571.44it/s]\n",
      "Epoch 5: 100%|██████████| 16/16 [00:00<00:00, 571.42it/s]\n",
      "Epoch 6: 100%|██████████| 16/16 [00:00<00:00, 639.92it/s]\n",
      "Epoch 7: 100%|██████████| 16/16 [00:00<00:00, 421.09it/s]\n",
      "Epoch 8: 100%|██████████| 16/16 [00:00<00:00, 571.45it/s]\n",
      "Epoch 9: 100%|██████████| 16/16 [00:00<00:00, 499.98it/s]\n",
      "Epoch 10: 100%|██████████| 16/16 [00:00<00:00, 551.80it/s]\n",
      "Epoch 11: 100%|██████████| 16/16 [00:00<00:00, 500.01it/s]\n",
      "Epoch 12: 100%|██████████| 16/16 [00:00<00:00, 516.16it/s]\n",
      "Epoch 13: 100%|██████████| 16/16 [00:00<00:00, 571.41it/s]\n",
      "Epoch 14: 100%|██████████| 16/16 [00:00<00:00, 571.43it/s]\n",
      "Epoch 15: 100%|██████████| 16/16 [00:00<00:00, 571.45it/s]\n",
      "Epoch 16: 100%|██████████| 16/16 [00:00<00:00, 533.33it/s]\n",
      "Epoch 17: 100%|██████████| 16/16 [00:00<00:00, 551.85it/s]\n",
      "Epoch 18: 100%|██████████| 16/16 [00:00<00:00, 500.07it/s]\n",
      "Epoch 19: 100%|██████████| 16/16 [00:00<00:00, 499.97it/s]\n",
      "Epoch 20: 100%|██████████| 16/16 [00:00<00:00, 410.27it/s]\n",
      "Epoch 21: 100%|██████████| 16/16 [00:00<00:00, 400.03it/s]\n",
      "Epoch 22: 100%|██████████| 16/16 [00:00<00:00, 444.48it/s]\n",
      "Epoch 23: 100%|██████████| 16/16 [00:00<00:00, 516.13it/s]\n",
      "Epoch 24: 100%|██████████| 16/16 [00:00<00:00, 444.44it/s]\n",
      "Epoch 25: 100%|██████████| 16/16 [00:00<00:00, 484.86it/s]\n",
      "Epoch 26: 100%|██████████| 16/16 [00:00<00:00, 516.17it/s]\n",
      "Epoch 27: 100%|██████████| 16/16 [00:00<00:00, 457.10it/s]\n",
      "Epoch 28: 100%|██████████| 16/16 [00:00<00:00, 457.14it/s]\n",
      "Epoch 29: 100%|██████████| 16/16 [00:00<00:00, 457.10it/s]\n",
      "Epoch 30: 100%|██████████| 16/16 [00:00<00:00, 500.06it/s]\n",
      "Epoch 31: 100%|██████████| 16/16 [00:00<00:00, 533.27it/s]\n",
      "Epoch 32: 100%|██████████| 16/16 [00:00<00:00, 457.11it/s]\n",
      "Epoch 33: 100%|██████████| 16/16 [00:00<00:00, 63.49it/s]\n",
      "Epoch 34: 100%|██████████| 16/16 [00:00<00:00, 444.45it/s]\n",
      "Epoch 35: 100%|██████████| 16/16 [00:00<00:00, 499.98it/s]\n",
      "Epoch 36: 100%|██████████| 16/16 [00:00<00:00, 432.43it/s]\n",
      "Epoch 37: 100%|██████████| 16/16 [00:00<00:00, 432.45it/s]\n",
      "Epoch 38: 100%|██████████| 16/16 [00:00<00:00, 470.60it/s]\n",
      "Epoch 39: 100%|██████████| 16/16 [00:00<00:00, 484.83it/s]\n",
      "Epoch 40: 100%|██████████| 16/16 [00:00<00:00, 326.52it/s]\n",
      "Epoch 41: 100%|██████████| 16/16 [00:00<00:00, 340.43it/s]\n",
      "Epoch 42: 100%|██████████| 16/16 [00:00<00:00, 355.53it/s]\n",
      "Epoch 43: 100%|██████████| 16/16 [00:00<00:00, 400.05it/s]\n",
      "Epoch 44: 100%|██████████| 16/16 [00:00<00:00, 421.08it/s]\n",
      "Epoch 45: 100%|██████████| 16/16 [00:00<00:00, 484.97it/s]\n",
      "Epoch 46: 100%|██████████| 16/16 [00:00<00:00, 516.13it/s]\n",
      "Epoch 47: 100%|██████████| 16/16 [00:00<00:00, 457.12it/s]\n",
      "Epoch 48: 100%|██████████| 16/16 [00:00<00:00, 457.12it/s]\n",
      "Epoch 49: 100%|██████████| 16/16 [00:00<00:00, 414.18it/s]\n",
      "Epoch 50: 100%|██████████| 16/16 [00:00<00:00, 514.60it/s]\n",
      "Epoch 51: 100%|██████████| 16/16 [00:00<00:00, 571.37it/s]\n",
      "Epoch 52: 100%|██████████| 16/16 [00:00<00:00, 592.61it/s]\n",
      "Epoch 53: 100%|██████████| 16/16 [00:00<00:00, 378.55it/s]\n",
      "Epoch 54: 100%|██████████| 16/16 [00:00<00:00, 615.39it/s]\n",
      "Epoch 55: 100%|██████████| 16/16 [00:00<00:00, 615.38it/s]\n",
      "Epoch 56: 100%|██████████| 16/16 [00:00<00:00, 592.58it/s]\n",
      "Epoch 57: 100%|██████████| 16/16 [00:00<00:00, 592.62it/s]\n",
      "Epoch 58: 100%|██████████| 16/16 [00:00<00:00, 533.33it/s]\n",
      "Epoch 59: 100%|██████████| 16/16 [00:00<00:00, 516.13it/s]\n",
      "Epoch 60: 100%|██████████| 16/16 [00:00<00:00, 484.80it/s]\n",
      "Epoch 61: 100%|██████████| 16/16 [00:00<00:00, 571.44it/s]\n",
      "Epoch 62: 100%|██████████| 16/16 [00:00<00:00, 533.32it/s]\n",
      "Epoch 63: 100%|██████████| 16/16 [00:00<00:00, 551.76it/s]\n",
      "Epoch 64: 100%|██████████| 16/16 [00:00<00:00, 592.56it/s]\n",
      "Epoch 65: 100%|██████████| 16/16 [00:00<00:00, 499.96it/s]\n",
      "Epoch 66: 100%|██████████| 16/16 [00:00<00:00, 444.43it/s]\n",
      "Epoch 67: 100%|██████████| 16/16 [00:00<00:00, 516.17it/s]\n",
      "Epoch 68: 100%|██████████| 16/16 [00:00<00:00, 533.36it/s]\n",
      "Epoch 69: 100%|██████████| 16/16 [00:00<00:00, 571.42it/s]\n",
      "Epoch 70: 100%|██████████| 16/16 [00:00<00:00, 571.40it/s]\n",
      "Epoch 71: 100%|██████████| 16/16 [00:00<00:00, 421.07it/s]\n",
      "Epoch 72: 100%|██████████| 16/16 [00:00<00:00, 444.44it/s]\n",
      "Epoch 73: 100%|██████████| 16/16 [00:00<00:00, 571.40it/s]\n",
      "Epoch 74: 100%|██████████| 16/16 [00:00<00:00, 571.41it/s]\n",
      "Epoch 75: 100%|██████████| 16/16 [00:00<00:00, 615.39it/s]\n",
      "Epoch 76: 100%|██████████| 16/16 [00:00<00:00, 571.47it/s]\n",
      "Epoch 77: 100%|██████████| 16/16 [00:00<00:00, 592.52it/s]\n",
      "Epoch 78: 100%|██████████| 16/16 [00:00<00:00, 571.46it/s]\n",
      "Epoch 79: 100%|██████████| 16/16 [00:00<00:00, 571.45it/s]\n",
      "Epoch 80: 100%|██████████| 16/16 [00:00<00:00, 571.39it/s]\n",
      "Epoch 81: 100%|██████████| 16/16 [00:00<00:00, 615.41it/s]\n",
      "Epoch 82: 100%|██████████| 16/16 [00:00<00:00, 551.71it/s]\n",
      "Epoch 83: 100%|██████████| 16/16 [00:00<00:00, 592.57it/s]\n",
      "Epoch 84: 100%|██████████| 16/16 [00:00<00:00, 551.70it/s]\n",
      "Epoch 85: 100%|██████████| 16/16 [00:00<00:00, 592.63it/s]\n",
      "Epoch 86: 100%|██████████| 16/16 [00:00<00:00, 533.31it/s]\n",
      "Epoch 87: 100%|██████████| 16/16 [00:00<00:00, 516.08it/s]\n",
      "Epoch 88: 100%|██████████| 16/16 [00:00<00:00, 592.64it/s]\n",
      "Epoch 89: 100%|██████████| 16/16 [00:00<00:00, 592.60it/s]\n",
      "Epoch 90: 100%|██████████| 16/16 [00:00<00:00, 571.41it/s]\n",
      "Epoch 91: 100%|██████████| 16/16 [00:00<00:00, 533.38it/s]\n",
      "Epoch 92: 100%|██████████| 16/16 [00:00<00:00, 571.42it/s]\n",
      "Epoch 93: 100%|██████████| 16/16 [00:00<00:00, 571.35it/s]\n",
      "Epoch 94: 100%|██████████| 16/16 [00:00<00:00, 533.37it/s]\n",
      "Epoch 95: 100%|██████████| 16/16 [00:00<00:00, 484.88it/s]\n",
      "Epoch 96: 100%|██████████| 16/16 [00:00<00:00, 372.09it/s]\n",
      "Epoch 97: 100%|██████████| 16/16 [00:00<00:00, 499.97it/s]\n",
      "Epoch 98: 100%|██████████| 16/16 [00:00<00:00, 551.70it/s]\n",
      "Epoch 99: 100%|██████████| 16/16 [00:00<00:00, 592.56it/s]\n",
      "Training RBM layers: 100%|██████████| 2/2 [00:17<00:00,  8.53s/layer]\n"
     ]
    },
    {
     "name": "stdout",
     "output_type": "stream",
     "text": [
      "\n",
      "\n",
      "--------- BACKPROPAGATION --------\n"
     ]
    },
    {
     "name": "stderr",
     "output_type": "stream",
     "text": [
      "Training:   2%|▎         | 5/200 [00:00<00:04, 47.62epoch/s]"
     ]
    },
    {
     "name": "stdout",
     "output_type": "stream",
     "text": [
      "Epoch 1/200, Cross Entropy: 2.279017632708526\n",
      "Epoch 2/200, Cross Entropy: 2.2756476153346448\n",
      "Epoch 3/200, Cross Entropy: 2.27518896707562\n",
      "Epoch 4/200, Cross Entropy: 2.275112735974465\n",
      "Epoch 5/200, Cross Entropy: 2.275098424452851\n",
      "Epoch 6/200, Cross Entropy: 2.27509548361095\n",
      "Epoch 7/200, Cross Entropy: 2.2750948389823202\n",
      "Epoch 8/200, Cross Entropy: 2.2750946914286496\n"
     ]
    },
    {
     "name": "stderr",
     "output_type": "stream",
     "text": [
      "Training:   2%|▎         | 5/200 [00:00<00:04, 47.62epoch/s]"
     ]
    },
    {
     "name": "stdout",
     "output_type": "stream",
     "text": [
      "Epoch 9/200, Cross Entropy: 2.27509465670068\n"
     ]
    },
    {
     "name": "stderr",
     "output_type": "stream",
     "text": [
      "Training:   6%|▌         | 11/200 [00:00<00:03, 48.10epoch/s]"
     ]
    },
    {
     "name": "stdout",
     "output_type": "stream",
     "text": [
      "Epoch 10/200, Cross Entropy: 2.2750946483812604\n",
      "Epoch 11/200, Cross Entropy: 2.275094646365371\n"
     ]
    },
    {
     "name": "stderr",
     "output_type": "stream",
     "text": [
      "Training:   8%|▊         | 16/200 [00:00<00:07, 25.82epoch/s]"
     ]
    },
    {
     "name": "stdout",
     "output_type": "stream",
     "text": [
      "Epoch 12/200, Cross Entropy: 2.275094645873149\n",
      "Epoch 13/200, Cross Entropy: 2.2750946457523114\n",
      "Epoch 14/200, Cross Entropy: 2.2750946457225245\n",
      "Epoch 15/200, Cross Entropy: 2.275094645715155\n",
      "Epoch 16/200, Cross Entropy: 2.275094645713323\n",
      "Epoch 17/200, Cross Entropy: 2.275094645712862\n",
      "Epoch 18/200, Cross Entropy: 2.2750946457127417\n"
     ]
    },
    {
     "name": "stderr",
     "output_type": "stream",
     "text": [
      "Training:  12%|█▏        | 24/200 [00:00<00:05, 30.20epoch/s]"
     ]
    },
    {
     "name": "stdout",
     "output_type": "stream",
     "text": [
      "Epoch 19/200, Cross Entropy: 2.2750946457127057\n",
      "Epoch 20/200, Cross Entropy: 2.2750946457126906\n",
      "Epoch 21/200, Cross Entropy: 2.2750946457126817\n",
      "Epoch 22/200, Cross Entropy: 2.2750946457126733\n",
      "Epoch 23/200, Cross Entropy: 2.2750946457126653\n",
      "Epoch 24/200, Cross Entropy: 2.275094645712658\n",
      "Epoch 25/200, Cross Entropy: 2.27509464571265\n"
     ]
    },
    {
     "name": "stderr",
     "output_type": "stream",
     "text": [
      "Training:  14%|█▍        | 28/200 [00:01<00:05, 29.52epoch/s]"
     ]
    },
    {
     "name": "stdout",
     "output_type": "stream",
     "text": [
      "Epoch 26/200, Cross Entropy: 2.2750946457126426\n",
      "Epoch 27/200, Cross Entropy: 2.2750946457126346\n",
      "Epoch 28/200, Cross Entropy: 2.275094645712627\n",
      "Epoch 29/200, Cross Entropy: 2.2750946457126195\n",
      "Epoch 30/200, Cross Entropy: 2.275094645712612\n",
      "Epoch 31/200, Cross Entropy: 2.275094645712604\n"
     ]
    },
    {
     "name": "stderr",
     "output_type": "stream",
     "text": [
      "Training:  18%|█▊        | 36/200 [00:01<00:05, 31.09epoch/s]"
     ]
    },
    {
     "name": "stdout",
     "output_type": "stream",
     "text": [
      "Epoch 32/200, Cross Entropy: 2.2750946457125965\n",
      "Epoch 33/200, Cross Entropy: 2.275094645712589\n",
      "Epoch 34/200, Cross Entropy: 2.275094645712581\n",
      "Epoch 35/200, Cross Entropy: 2.2750946457125734\n",
      "Epoch 36/200, Cross Entropy: 2.275094645712566\n",
      "Epoch 37/200, Cross Entropy: 2.2750946457125583\n",
      "Epoch 38/200, Cross Entropy: 2.2750946457125503\n"
     ]
    },
    {
     "name": "stderr",
     "output_type": "stream",
     "text": [
      "Training:  22%|██▏       | 44/200 [00:01<00:06, 22.86epoch/s]"
     ]
    },
    {
     "name": "stdout",
     "output_type": "stream",
     "text": [
      "Epoch 39/200, Cross Entropy: 2.2750946457125427\n",
      "Epoch 40/200, Cross Entropy: 2.275094645712535\n",
      "Epoch 41/200, Cross Entropy: 2.275094645712527\n",
      "Epoch 42/200, Cross Entropy: 2.2750946457125196\n",
      "Epoch 43/200, Cross Entropy: 2.275094645712512\n",
      "Epoch 44/200, Cross Entropy: 2.275094645712504\n"
     ]
    },
    {
     "name": "stderr",
     "output_type": "stream",
     "text": [
      "Training:  25%|██▌       | 50/200 [00:01<00:06, 24.83epoch/s]"
     ]
    },
    {
     "name": "stdout",
     "output_type": "stream",
     "text": [
      "Epoch 45/200, Cross Entropy: 2.2750946457124965\n",
      "Epoch 46/200, Cross Entropy: 2.275094645712489\n",
      "Epoch 47/200, Cross Entropy: 2.275094645712481\n",
      "Epoch 48/200, Cross Entropy: 2.2750946457124734\n",
      "Epoch 49/200, Cross Entropy: 2.275094645712466\n",
      "Epoch 50/200, Cross Entropy: 2.275094645712458\n"
     ]
    },
    {
     "name": "stderr",
     "output_type": "stream",
     "text": [
      "Training:  26%|██▋       | 53/200 [00:02<00:06, 24.46epoch/s]"
     ]
    },
    {
     "name": "stdout",
     "output_type": "stream",
     "text": [
      "Epoch 51/200, Cross Entropy: 2.275094645712451\n",
      "Epoch 52/200, Cross Entropy: 2.275094645712443\n",
      "Epoch 53/200, Cross Entropy: 2.275094645712435\n",
      "Epoch 54/200, Cross Entropy: 2.2750946457124277\n",
      "Epoch 55/200, Cross Entropy: 2.27509464571242\n"
     ]
    },
    {
     "name": "stderr",
     "output_type": "stream",
     "text": [
      "Training:  30%|███       | 60/200 [00:02<00:05, 27.13epoch/s]"
     ]
    },
    {
     "name": "stdout",
     "output_type": "stream",
     "text": [
      "Epoch 56/200, Cross Entropy: 2.275094645712412\n",
      "Epoch 57/200, Cross Entropy: 2.2750946457124046\n",
      "Epoch 58/200, Cross Entropy: 2.275094645712397\n",
      "Epoch 59/200, Cross Entropy: 2.2750946457123886\n",
      "Epoch 60/200, Cross Entropy: 2.2750946457123815\n",
      "Epoch 61/200, Cross Entropy: 2.275094645712374\n"
     ]
    },
    {
     "name": "stderr",
     "output_type": "stream",
     "text": [
      "Training:  32%|███▏      | 64/200 [00:02<00:04, 29.37epoch/s]"
     ]
    },
    {
     "name": "stdout",
     "output_type": "stream",
     "text": [
      "Epoch 62/200, Cross Entropy: 2.275094645712366\n",
      "Epoch 63/200, Cross Entropy: 2.2750946457123584\n",
      "Epoch 64/200, Cross Entropy: 2.2750946457123504\n",
      "Epoch 65/200, Cross Entropy: 2.2750946457123424\n"
     ]
    },
    {
     "name": "stderr",
     "output_type": "stream",
     "text": [
      "Training:  34%|███▍      | 68/200 [00:02<00:06, 20.08epoch/s]"
     ]
    },
    {
     "name": "stdout",
     "output_type": "stream",
     "text": [
      "Epoch 66/200, Cross Entropy: 2.2750946457123353\n",
      "Epoch 67/200, Cross Entropy: 2.275094645712328\n",
      "Epoch 68/200, Cross Entropy: 2.27509464571232\n",
      "Epoch 69/200, Cross Entropy: 2.2750946457123122\n",
      "Epoch 70/200, Cross Entropy: 2.2750946457123047\n"
     ]
    },
    {
     "name": "stderr",
     "output_type": "stream",
     "text": [
      "Training:  37%|███▋      | 74/200 [00:02<00:05, 22.61epoch/s]"
     ]
    },
    {
     "name": "stdout",
     "output_type": "stream",
     "text": [
      "Epoch 71/200, Cross Entropy: 2.2750946457122967\n",
      "Epoch 72/200, Cross Entropy: 2.275094645712289\n",
      "Epoch 73/200, Cross Entropy: 2.2750946457122816\n",
      "Epoch 74/200, Cross Entropy: 2.2750946457122736\n",
      "Epoch 75/200, Cross Entropy: 2.275094645712266\n"
     ]
    },
    {
     "name": "stderr",
     "output_type": "stream",
     "text": [
      "Training:  40%|████      | 81/200 [00:03<00:04, 26.24epoch/s]"
     ]
    },
    {
     "name": "stdout",
     "output_type": "stream",
     "text": [
      "Epoch 76/200, Cross Entropy: 2.2750946457122585\n",
      "Epoch 77/200, Cross Entropy: 2.275094645712251\n",
      "Epoch 78/200, Cross Entropy: 2.275094645712243\n",
      "Epoch 79/200, Cross Entropy: 2.2750946457122354\n",
      "Epoch 80/200, Cross Entropy: 2.275094645712228\n",
      "Epoch 81/200, Cross Entropy: 2.27509464571222\n",
      "Epoch 82/200, Cross Entropy: 2.2750946457122128\n"
     ]
    },
    {
     "name": "stderr",
     "output_type": "stream",
     "text": [
      "Training:  44%|████▍     | 89/200 [00:03<00:03, 30.00epoch/s]"
     ]
    },
    {
     "name": "stdout",
     "output_type": "stream",
     "text": [
      "Epoch 83/200, Cross Entropy: 2.2750946457122048\n",
      "Epoch 84/200, Cross Entropy: 2.2750946457121968\n",
      "Epoch 85/200, Cross Entropy: 2.2750946457121892\n",
      "Epoch 86/200, Cross Entropy: 2.2750946457121812\n",
      "Epoch 87/200, Cross Entropy: 2.2750946457121737\n",
      "Epoch 88/200, Cross Entropy: 2.2750946457121666\n",
      "Epoch 89/200, Cross Entropy: 2.2750946457121586\n"
     ]
    },
    {
     "name": "stderr",
     "output_type": "stream",
     "text": [
      "Training:  44%|████▍     | 89/200 [00:03<00:03, 30.00epoch/s]"
     ]
    },
    {
     "name": "stdout",
     "output_type": "stream",
     "text": [
      "Epoch 90/200, Cross Entropy: 2.275094645712151\n"
     ]
    },
    {
     "name": "stderr",
     "output_type": "stream",
     "text": [
      "Training:  46%|████▋     | 93/200 [00:03<00:05, 19.55epoch/s]"
     ]
    },
    {
     "name": "stdout",
     "output_type": "stream",
     "text": [
      "Epoch 91/200, Cross Entropy: 2.2750946457121435\n",
      "Epoch 92/200, Cross Entropy: 2.275094645712136\n",
      "Epoch 93/200, Cross Entropy: 2.275094645712128\n",
      "Epoch 94/200, Cross Entropy: 2.2750946457121204\n",
      "Epoch 95/200, Cross Entropy: 2.2750946457121124\n"
     ]
    },
    {
     "name": "stderr",
     "output_type": "stream",
     "text": [
      "Training:  50%|████▉     | 99/200 [00:04<00:05, 19.65epoch/s]"
     ]
    },
    {
     "name": "stdout",
     "output_type": "stream",
     "text": [
      "Epoch 96/200, Cross Entropy: 2.2750946457121044\n",
      "Epoch 97/200, Cross Entropy: 2.2750946457120973\n",
      "Epoch 98/200, Cross Entropy: 2.2750946457120893\n",
      "Epoch 99/200, Cross Entropy: 2.2750946457120818\n"
     ]
    },
    {
     "name": "stderr",
     "output_type": "stream",
     "text": [
      "Training:  51%|█████     | 102/200 [00:04<00:04, 20.45epoch/s]"
     ]
    },
    {
     "name": "stdout",
     "output_type": "stream",
     "text": [
      "Epoch 100/200, Cross Entropy: 2.275094645712074\n",
      "Epoch 101/200, Cross Entropy: 2.275094645712066\n",
      "Epoch 102/200, Cross Entropy: 2.275094645712058\n",
      "Epoch 103/200, Cross Entropy: 2.275094645712051\n",
      "Epoch 104/200, Cross Entropy: 2.2750946457120436\n"
     ]
    },
    {
     "name": "stderr",
     "output_type": "stream",
     "text": [
      "Training:  52%|█████▎    | 105/200 [00:04<00:04, 22.37epoch/s]"
     ]
    },
    {
     "name": "stdout",
     "output_type": "stream",
     "text": [
      "Epoch 105/200, Cross Entropy: 2.2750946457120356\n",
      "Epoch 106/200, Cross Entropy: 2.275094645712028\n",
      "Epoch 107/200, Cross Entropy: 2.2750946457120205\n",
      "Epoch 108/200, Cross Entropy: 2.275094645712013\n"
     ]
    },
    {
     "name": "stderr",
     "output_type": "stream",
     "text": [
      "Training:  56%|█████▌    | 112/200 [00:04<00:04, 18.67epoch/s]"
     ]
    },
    {
     "name": "stdout",
     "output_type": "stream",
     "text": [
      "Epoch 109/200, Cross Entropy: 2.275094645712005\n",
      "Epoch 110/200, Cross Entropy: 2.2750946457119974\n",
      "Epoch 111/200, Cross Entropy: 2.2750946457119894\n",
      "Epoch 112/200, Cross Entropy: 2.275094645711982\n",
      "Epoch 113/200, Cross Entropy: 2.2750946457119743\n",
      "Epoch 114/200, Cross Entropy: 2.2750946457119667\n"
     ]
    },
    {
     "name": "stderr",
     "output_type": "stream",
     "text": [
      "Training:  60%|██████    | 120/200 [00:04<00:03, 24.86epoch/s]"
     ]
    },
    {
     "name": "stdout",
     "output_type": "stream",
     "text": [
      "Epoch 115/200, Cross Entropy: 2.2750946457119587\n",
      "Epoch 116/200, Cross Entropy: 2.275094645711951\n",
      "Epoch 117/200, Cross Entropy: 2.275094645711943\n",
      "Epoch 118/200, Cross Entropy: 2.275094645711936\n",
      "Epoch 119/200, Cross Entropy: 2.275094645711928\n",
      "Epoch 120/200, Cross Entropy: 2.27509464571192\n",
      "Epoch 121/200, Cross Entropy: 2.2750946457119126\n"
     ]
    },
    {
     "name": "stderr",
     "output_type": "stream",
     "text": [
      "Training:  62%|██████▏   | 124/200 [00:05<00:02, 27.53epoch/s]"
     ]
    },
    {
     "name": "stdout",
     "output_type": "stream",
     "text": [
      "Epoch 122/200, Cross Entropy: 2.275094645711905\n",
      "Epoch 123/200, Cross Entropy: 2.2750946457118975\n",
      "Epoch 124/200, Cross Entropy: 2.27509464571189\n",
      "Epoch 125/200, Cross Entropy: 2.2750946457118824\n",
      "Epoch 126/200, Cross Entropy: 2.2750946457118744\n",
      "Epoch 127/200, Cross Entropy: 2.275094645711867\n"
     ]
    },
    {
     "name": "stderr",
     "output_type": "stream",
     "text": [
      "Training:  66%|██████▌   | 132/200 [00:05<00:02, 28.81epoch/s]"
     ]
    },
    {
     "name": "stdout",
     "output_type": "stream",
     "text": [
      "Epoch 128/200, Cross Entropy: 2.275094645711859\n",
      "Epoch 129/200, Cross Entropy: 2.2750946457118513\n",
      "Epoch 130/200, Cross Entropy: 2.2750946457118437\n",
      "Epoch 131/200, Cross Entropy: 2.275094645711836\n",
      "Epoch 132/200, Cross Entropy: 2.275094645711828\n",
      "Epoch 133/200, Cross Entropy: 2.2750946457118206\n",
      "Epoch 134/200, Cross Entropy: 2.275094645711813\n"
     ]
    },
    {
     "name": "stderr",
     "output_type": "stream",
     "text": [
      "Training:  68%|██████▊   | 136/200 [00:05<00:02, 30.98epoch/s]"
     ]
    },
    {
     "name": "stdout",
     "output_type": "stream",
     "text": [
      "Epoch 135/200, Cross Entropy: 2.2750946457118055\n",
      "Epoch 136/200, Cross Entropy: 2.2750946457117975\n",
      "Epoch 137/200, Cross Entropy: 2.27509464571179\n"
     ]
    },
    {
     "name": "stderr",
     "output_type": "stream",
     "text": [
      "Training:  72%|███████▏  | 143/200 [00:05<00:02, 22.88epoch/s]"
     ]
    },
    {
     "name": "stdout",
     "output_type": "stream",
     "text": [
      "Epoch 138/200, Cross Entropy: 2.275094645711782\n",
      "Epoch 139/200, Cross Entropy: 2.2750946457117744\n",
      "Epoch 140/200, Cross Entropy: 2.275094645711767\n",
      "Epoch 141/200, Cross Entropy: 2.2750946457117593\n",
      "Epoch 142/200, Cross Entropy: 2.2750946457117514\n",
      "Epoch 143/200, Cross Entropy: 2.275094645711744\n"
     ]
    },
    {
     "name": "stderr",
     "output_type": "stream",
     "text": [
      "Training:  74%|███████▎  | 147/200 [00:06<00:02, 26.38epoch/s]"
     ]
    },
    {
     "name": "stdout",
     "output_type": "stream",
     "text": [
      "Epoch 144/200, Cross Entropy: 2.275094645711736\n",
      "Epoch 145/200, Cross Entropy: 2.2750946457117283\n",
      "Epoch 146/200, Cross Entropy: 2.2750946457117207\n",
      "Epoch 147/200, Cross Entropy: 2.275094645711713\n",
      "Epoch 148/200, Cross Entropy: 2.2750946457117056\n",
      "Epoch 149/200, Cross Entropy: 2.2750946457116976\n",
      "Epoch 150/200, Cross Entropy: 2.2750946457116905\n"
     ]
    },
    {
     "name": "stderr",
     "output_type": "stream",
     "text": [
      "Training:  78%|███████▊  | 155/200 [00:06<00:01, 31.61epoch/s]"
     ]
    },
    {
     "name": "stdout",
     "output_type": "stream",
     "text": [
      "Epoch 151/200, Cross Entropy: 2.2750946457116825\n",
      "Epoch 152/200, Cross Entropy: 2.2750946457116745\n",
      "Epoch 153/200, Cross Entropy: 2.275094645711667\n",
      "Epoch 154/200, Cross Entropy: 2.275094645711659\n",
      "Epoch 155/200, Cross Entropy: 2.2750946457116514\n",
      "Epoch 156/200, Cross Entropy: 2.2750946457116443\n",
      "Epoch 157/200, Cross Entropy: 2.2750946457116363\n",
      "Epoch 158/200, Cross Entropy: 2.2750946457116283\n"
     ]
    },
    {
     "name": "stderr",
     "output_type": "stream",
     "text": [
      "Training:  82%|████████▏ | 164/200 [00:06<00:00, 36.46epoch/s]"
     ]
    },
    {
     "name": "stdout",
     "output_type": "stream",
     "text": [
      "Epoch 159/200, Cross Entropy: 2.2750946457116212\n",
      "Epoch 160/200, Cross Entropy: 2.2750946457116132\n",
      "Epoch 161/200, Cross Entropy: 2.2750946457116057\n",
      "Epoch 162/200, Cross Entropy: 2.275094645711598\n",
      "Epoch 163/200, Cross Entropy: 2.27509464571159\n",
      "Epoch 164/200, Cross Entropy: 2.2750946457115826\n",
      "Epoch 165/200, Cross Entropy: 2.2750946457115746\n"
     ]
    },
    {
     "name": "stderr",
     "output_type": "stream",
     "text": [
      "Training:  84%|████████▍ | 168/200 [00:06<00:00, 33.82epoch/s]"
     ]
    },
    {
     "name": "stdout",
     "output_type": "stream",
     "text": [
      "Epoch 166/200, Cross Entropy: 2.2750946457115675\n",
      "Epoch 167/200, Cross Entropy: 2.2750946457115595\n",
      "Epoch 168/200, Cross Entropy: 2.275094645711552\n",
      "Epoch 169/200, Cross Entropy: 2.275094645711544\n",
      "Epoch 170/200, Cross Entropy: 2.2750946457115364\n"
     ]
    },
    {
     "name": "stderr",
     "output_type": "stream",
     "text": [
      "Training:  88%|████████▊ | 176/200 [00:06<00:01, 23.56epoch/s]"
     ]
    },
    {
     "name": "stdout",
     "output_type": "stream",
     "text": [
      "Epoch 171/200, Cross Entropy: 2.275094645711529\n",
      "Epoch 172/200, Cross Entropy: 2.275094645711521\n",
      "Epoch 173/200, Cross Entropy: 2.2750946457115133\n",
      "Epoch 174/200, Cross Entropy: 2.2750946457115058\n",
      "Epoch 175/200, Cross Entropy: 2.2750946457114978\n",
      "Epoch 176/200, Cross Entropy: 2.2750946457114902\n"
     ]
    },
    {
     "name": "stderr",
     "output_type": "stream",
     "text": [
      "Training:  92%|█████████▏| 184/200 [00:07<00:00, 29.02epoch/s]"
     ]
    },
    {
     "name": "stdout",
     "output_type": "stream",
     "text": [
      "Epoch 177/200, Cross Entropy: 2.2750946457114827\n",
      "Epoch 178/200, Cross Entropy: 2.275094645711475\n",
      "Epoch 179/200, Cross Entropy: 2.275094645711467\n",
      "Epoch 180/200, Cross Entropy: 2.2750946457114596\n",
      "Epoch 181/200, Cross Entropy: 2.275094645711452\n",
      "Epoch 182/200, Cross Entropy: 2.275094645711444\n",
      "Epoch 183/200, Cross Entropy: 2.2750946457114365\n",
      "Epoch 184/200, Cross Entropy: 2.275094645711429\n"
     ]
    },
    {
     "name": "stderr",
     "output_type": "stream",
     "text": [
      "Training:  94%|█████████▍| 188/200 [00:07<00:00, 30.81epoch/s]"
     ]
    },
    {
     "name": "stdout",
     "output_type": "stream",
     "text": [
      "Epoch 185/200, Cross Entropy: 2.2750946457114214\n",
      "Epoch 186/200, Cross Entropy: 2.2750946457114134\n",
      "Epoch 187/200, Cross Entropy: 2.2750946457114063\n",
      "Epoch 188/200, Cross Entropy: 2.275094645711398\n",
      "Epoch 189/200, Cross Entropy: 2.2750946457113903\n",
      "Epoch 190/200, Cross Entropy: 2.2750946457113828\n",
      "Epoch 191/200, Cross Entropy: 2.275094645711375\n"
     ]
    },
    {
     "name": "stderr",
     "output_type": "stream",
     "text": [
      "Training:  98%|█████████▊| 196/200 [00:07<00:00, 30.47epoch/s]"
     ]
    },
    {
     "name": "stdout",
     "output_type": "stream",
     "text": [
      "Epoch 192/200, Cross Entropy: 2.2750946457113677\n",
      "Epoch 193/200, Cross Entropy: 2.27509464571136\n",
      "Epoch 194/200, Cross Entropy: 2.275094645711352\n",
      "Epoch 195/200, Cross Entropy: 2.275094645711344\n",
      "Epoch 196/200, Cross Entropy: 2.2750946457113366\n",
      "Epoch 197/200, Cross Entropy: 2.275094645711329\n"
     ]
    },
    {
     "name": "stderr",
     "output_type": "stream",
     "text": [
      "Training: 100%|██████████| 200/200 [00:07<00:00, 25.92epoch/s]\n"
     ]
    },
    {
     "name": "stdout",
     "output_type": "stream",
     "text": [
      "Epoch 198/200, Cross Entropy: 2.275094645711321\n",
      "Epoch 199/200, Cross Entropy: 2.275094645711314\n",
      "Epoch 200/200, Cross Entropy: 2.275094645711306\n"
     ]
    },
    {
     "name": "stderr",
     "output_type": "stream",
     "text": [
      "Training:   2%|▏         | 3/200 [00:00<00:07, 27.52epoch/s]"
     ]
    },
    {
     "name": "stdout",
     "output_type": "stream",
     "text": [
      "Epoch 1/200, Cross Entropy: 2.0593348732920504\n",
      "Epoch 2/200, Cross Entropy: 1.943053231682557\n",
      "Epoch 3/200, Cross Entropy: 1.891084389702532\n"
     ]
    },
    {
     "name": "stderr",
     "output_type": "stream",
     "text": [
      "Training:   3%|▎         | 6/200 [00:00<00:15, 12.28epoch/s]"
     ]
    },
    {
     "name": "stdout",
     "output_type": "stream",
     "text": [
      "Epoch 4/200, Cross Entropy: 1.8639779527573914\n",
      "Epoch 5/200, Cross Entropy: 1.8480339086567654\n",
      "Epoch 6/200, Cross Entropy: 1.8377760944062616\n",
      "Epoch 7/200, Cross Entropy: 1.8307232875149375\n",
      "Epoch 8/200, Cross Entropy: 1.8256251527253942\n"
     ]
    },
    {
     "name": "stderr",
     "output_type": "stream",
     "text": [
      "Training:   6%|▋         | 13/200 [00:00<00:09, 20.61epoch/s]"
     ]
    },
    {
     "name": "stdout",
     "output_type": "stream",
     "text": [
      "Epoch 9/200, Cross Entropy: 1.8217949686939146\n",
      "Epoch 10/200, Cross Entropy: 1.8188290795415862\n",
      "Epoch 11/200, Cross Entropy: 1.8164770297516952\n",
      "Epoch 12/200, Cross Entropy: 1.8145763198082485\n",
      "Epoch 13/200, Cross Entropy: 1.8130173944181984\n",
      "Epoch 14/200, Cross Entropy: 1.8117238516219298\n",
      "Epoch 15/200, Cross Entropy: 1.8106407777096056\n"
     ]
    },
    {
     "name": "stderr",
     "output_type": "stream",
     "text": [
      "Training:  10%|█         | 21/200 [00:00<00:06, 26.38epoch/s]"
     ]
    },
    {
     "name": "stdout",
     "output_type": "stream",
     "text": [
      "Epoch 16/200, Cross Entropy: 1.8097276253147996\n",
      "Epoch 17/200, Cross Entropy: 1.8089537282689387\n",
      "Epoch 18/200, Cross Entropy: 1.8082953959940589\n",
      "Epoch 19/200, Cross Entropy: 1.8077339811506206\n",
      "Epoch 20/200, Cross Entropy: 1.8072545627522956\n",
      "Epoch 21/200, Cross Entropy: 1.8068450280979333\n"
     ]
    },
    {
     "name": "stderr",
     "output_type": "stream",
     "text": [
      "Training:  12%|█▎        | 25/200 [00:01<00:06, 27.87epoch/s]"
     ]
    },
    {
     "name": "stdout",
     "output_type": "stream",
     "text": [
      "Epoch 22/200, Cross Entropy: 1.8064954191469347\n",
      "Epoch 23/200, Cross Entropy: 1.8061974580721123\n",
      "Epoch 24/200, Cross Entropy: 1.8059441966939587\n",
      "Epoch 25/200, Cross Entropy: 1.8057297531853886\n",
      "Epoch 26/200, Cross Entropy: 1.8055491113287139\n",
      "Epoch 27/200, Cross Entropy: 1.8053979653281207\n"
     ]
    },
    {
     "name": "stderr",
     "output_type": "stream",
     "text": [
      "Training:  16%|█▋        | 33/200 [00:01<00:05, 31.08epoch/s]"
     ]
    },
    {
     "name": "stdout",
     "output_type": "stream",
     "text": [
      "Epoch 28/200, Cross Entropy: 1.8052725982902924\n",
      "Epoch 29/200, Cross Entropy: 1.8051697859279254\n",
      "Epoch 30/200, Cross Entropy: 1.805086719398993\n",
      "Epoch 31/200, Cross Entropy: 1.80502094283544\n",
      "Epoch 32/200, Cross Entropy: 1.8049703022733028\n",
      "Epoch 33/200, Cross Entropy: 1.8049329035248092\n",
      "Epoch 34/200, Cross Entropy: 1.804907077133059\n"
     ]
    },
    {
     "name": "stderr",
     "output_type": "stream",
     "text": [
      "Training:  18%|█▊        | 37/200 [00:01<00:05, 31.13epoch/s]"
     ]
    },
    {
     "name": "stdout",
     "output_type": "stream",
     "text": [
      "Epoch 35/200, Cross Entropy: 1.8048913489893383\n",
      "Epoch 36/200, Cross Entropy: 1.8048844155184072\n",
      "Epoch 37/200, Cross Entropy: 1.804885122580226\n",
      "Epoch 38/200, Cross Entropy: 1.8048924474200043\n"
     ]
    },
    {
     "name": "stderr",
     "output_type": "stream",
     "text": [
      "Training:  20%|██        | 41/200 [00:01<00:08, 19.75epoch/s]"
     ]
    },
    {
     "name": "stdout",
     "output_type": "stream",
     "text": [
      "Epoch 39/200, Cross Entropy: 1.804905483138017\n",
      "Epoch 40/200, Cross Entropy: 1.8049234252576958\n",
      "Epoch 41/200, Cross Entropy: 1.8049455600533193\n",
      "Epoch 42/200, Cross Entropy: 1.8049712543630854\n",
      "Epoch 43/200, Cross Entropy: 1.8049999466639615\n"
     ]
    },
    {
     "name": "stderr",
     "output_type": "stream",
     "text": [
      "Training:  24%|██▎       | 47/200 [00:02<00:07, 20.63epoch/s]"
     ]
    },
    {
     "name": "stdout",
     "output_type": "stream",
     "text": [
      "Epoch 44/200, Cross Entropy: 1.805031139224689\n",
      "Epoch 45/200, Cross Entropy: 1.8050643911850994\n",
      "Epoch 46/200, Cross Entropy: 1.8050993124353532\n",
      "Epoch 47/200, Cross Entropy: 1.8051355581892388\n",
      "Epoch 48/200, Cross Entropy: 1.8051728241622746\n"
     ]
    },
    {
     "name": "stderr",
     "output_type": "stream",
     "text": [
      "Training:  25%|██▌       | 50/200 [00:02<00:07, 21.07epoch/s]"
     ]
    },
    {
     "name": "stdout",
     "output_type": "stream",
     "text": [
      "Epoch 49/200, Cross Entropy: 1.8052108422789641\n",
      "Epoch 50/200, Cross Entropy: 1.805249376844656\n",
      "Epoch 51/200, Cross Entropy: 1.8052882211267174\n",
      "Epoch 52/200, Cross Entropy: 1.8053271942973388\n"
     ]
    },
    {
     "name": "stderr",
     "output_type": "stream",
     "text": [
      "Training:  28%|██▊       | 56/200 [00:02<00:06, 22.41epoch/s]"
     ]
    },
    {
     "name": "stdout",
     "output_type": "stream",
     "text": [
      "Epoch 53/200, Cross Entropy: 1.8053661386967204\n",
      "Epoch 54/200, Cross Entropy: 1.8054049173807472\n",
      "Epoch 55/200, Cross Entropy: 1.8054434119218494\n",
      "Epoch 56/200, Cross Entropy: 1.8054815204355712\n",
      "Epoch 57/200, Cross Entropy: 1.8055191558087273\n",
      "Epoch 58/200, Cross Entropy: 1.805556244107843\n"
     ]
    },
    {
     "name": "stderr",
     "output_type": "stream",
     "text": [
      "Training:  32%|███▏      | 64/200 [00:02<00:04, 27.72epoch/s]"
     ]
    },
    {
     "name": "stdout",
     "output_type": "stream",
     "text": [
      "Epoch 59/200, Cross Entropy: 1.8055927231490465\n",
      "Epoch 60/200, Cross Entropy: 1.8056285412127167\n",
      "Epoch 61/200, Cross Entropy: 1.8056636558880228\n",
      "Epoch 62/200, Cross Entropy: 1.805698033034158\n",
      "Epoch 63/200, Cross Entropy: 1.8057316458464487\n",
      "Epoch 64/200, Cross Entropy: 1.8057644740168093\n",
      "Epoch 65/200, Cross Entropy: 1.805796502979104\n"
     ]
    },
    {
     "name": "stderr",
     "output_type": "stream",
     "text": [
      "Training:  34%|███▍      | 68/200 [00:02<00:04, 29.39epoch/s]"
     ]
    },
    {
     "name": "stdout",
     "output_type": "stream",
     "text": [
      "Epoch 66/200, Cross Entropy: 1.8058277232309634\n",
      "Epoch 67/200, Cross Entropy: 1.8058581297244651\n",
      "Epoch 68/200, Cross Entropy: 1.8058877213188769\n"
     ]
    },
    {
     "name": "stderr",
     "output_type": "stream",
     "text": [
      "                                                             "
     ]
    },
    {
     "name": "stdout",
     "output_type": "stream",
     "text": [
      "Epoch 69/200, Cross Entropy: 1.80591650028934\n",
      "Epoch 70/200, Cross Entropy: 1.80594447188598\n",
      "Epoch 71/200, Cross Entropy: 1.8059716439384992\n"
     ]
    },
    {
     "name": "stderr",
     "output_type": "stream",
     "text": [
      "Training:  38%|███▊      | 75/200 [00:03<00:06, 18.02epoch/s]"
     ]
    },
    {
     "name": "stdout",
     "output_type": "stream",
     "text": [
      "Epoch 72/200, Cross Entropy: 1.805998026501782\n",
      "Epoch 73/200, Cross Entropy: 1.806023631538499\n",
      "Epoch 74/200, Cross Entropy: 1.8060484726350723\n",
      "Epoch 75/200, Cross Entropy: 1.8060725647477447\n"
     ]
    },
    {
     "name": "stderr",
     "output_type": "stream",
     "text": [
      "Training:  40%|███▉      | 79/200 [00:03<00:05, 21.11epoch/s]"
     ]
    },
    {
     "name": "stdout",
     "output_type": "stream",
     "text": [
      "Epoch 76/200, Cross Entropy: 1.806095923975795\n",
      "Epoch 77/200, Cross Entropy: 1.8061185673592395\n",
      "Epoch 78/200, Cross Entropy: 1.8061405126986116\n",
      "Epoch 79/200, Cross Entropy: 1.8061617783946537\n",
      "Epoch 80/200, Cross Entropy: 1.8061823833059563\n",
      "Epoch 81/200, Cross Entropy: 1.8062023466227692\n",
      "Epoch 82/200, Cross Entropy: 1.8062216877553943\n"
     ]
    },
    {
     "name": "stderr",
     "output_type": "stream",
     "text": [
      "Training:  44%|████▎     | 87/200 [00:03<00:04, 26.01epoch/s]"
     ]
    },
    {
     "name": "stdout",
     "output_type": "stream",
     "text": [
      "Epoch 83/200, Cross Entropy: 1.806240426235696\n",
      "Epoch 84/200, Cross Entropy: 1.8062585816304377\n",
      "Epoch 85/200, Cross Entropy: 1.8062761734652486\n",
      "Epoch 86/200, Cross Entropy: 1.8062932211581597\n",
      "Epoch 87/200, Cross Entropy: 1.806309743961738\n",
      "Epoch 88/200, Cross Entropy: 1.8063257609129455\n"
     ]
    },
    {
     "name": "stderr",
     "output_type": "stream",
     "text": [
      "Training:  46%|████▋     | 93/200 [00:03<00:03, 27.48epoch/s]"
     ]
    },
    {
     "name": "stdout",
     "output_type": "stream",
     "text": [
      "Epoch 89/200, Cross Entropy: 1.8063412907899363\n",
      "Epoch 90/200, Cross Entropy: 1.8063563520750692\n",
      "Epoch 91/200, Cross Entropy: 1.8063709629234985\n",
      "Epoch 92/200, Cross Entropy: 1.806385141136755\n",
      "Epoch 93/200, Cross Entropy: 1.8063989041407893\n",
      "Epoch 94/200, Cross Entropy: 1.8064122689680004\n"
     ]
    },
    {
     "name": "stderr",
     "output_type": "stream",
     "text": [
      "                                                             "
     ]
    },
    {
     "name": "stdout",
     "output_type": "stream",
     "text": [
      "Epoch 95/200, Cross Entropy: 1.8064252522428208\n",
      "Epoch 96/200, Cross Entropy: 1.8064378701704658\n",
      "Epoch 97/200, Cross Entropy: 1.8064501385284983\n",
      "Epoch 98/200, Cross Entropy: 1.80646207266089\n",
      "Epoch 99/200, Cross Entropy: 1.8064736874742935\n",
      "Epoch 100/200, Cross Entropy: 1.8064849974362631\n"
     ]
    },
    {
     "name": "stderr",
     "output_type": "stream",
     "text": [
      "Training:  50%|█████     | 101/200 [00:04<00:03, 30.52epoch/s]"
     ]
    },
    {
     "name": "stdout",
     "output_type": "stream",
     "text": [
      "Epoch 101/200, Cross Entropy: 1.806496016575202\n",
      "Epoch 102/200, Cross Entropy: 1.8065067584818109\n",
      "Epoch 103/200, Cross Entropy: 1.8065172363118607\n"
     ]
    },
    {
     "name": "stderr",
     "output_type": "stream",
     "text": [
      "Training:  52%|█████▎    | 105/200 [00:04<00:05, 17.84epoch/s]"
     ]
    },
    {
     "name": "stdout",
     "output_type": "stream",
     "text": [
      "Epoch 104/200, Cross Entropy: 1.8065274627901136\n",
      "Epoch 105/200, Cross Entropy: 1.8065374502152423\n",
      "Epoch 106/200, Cross Entropy: 1.8065472104656077\n",
      "Epoch 107/200, Cross Entropy: 1.8065567550057675\n"
     ]
    },
    {
     "name": "stderr",
     "output_type": "stream",
     "text": [
      "Training:  56%|█████▌    | 111/200 [00:04<00:04, 20.30epoch/s]"
     ]
    },
    {
     "name": "stdout",
     "output_type": "stream",
     "text": [
      "Epoch 108/200, Cross Entropy: 1.806566094893618\n",
      "Epoch 109/200, Cross Entropy: 1.8065752407880524\n",
      "Epoch 110/200, Cross Entropy: 1.8065842029570607\n",
      "Epoch 111/200, Cross Entropy: 1.8065929912861827\n",
      "Epoch 112/200, Cross Entropy: 1.8066016152872493\n",
      "Epoch 113/200, Cross Entropy: 1.806610084107343\n"
     ]
    },
    {
     "name": "stderr",
     "output_type": "stream",
     "text": [
      "Training:  58%|█████▊    | 117/200 [00:05<00:03, 23.63epoch/s]"
     ]
    },
    {
     "name": "stdout",
     "output_type": "stream",
     "text": [
      "Epoch 114/200, Cross Entropy: 1.8066184065379258\n",
      "Epoch 115/200, Cross Entropy: 1.806626591024083\n",
      "Epoch 116/200, Cross Entropy: 1.8066346456738382\n",
      "Epoch 117/200, Cross Entropy: 1.8066425782675002\n",
      "Epoch 118/200, Cross Entropy: 1.8066503962670062\n",
      "Epoch 119/200, Cross Entropy: 1.8066581068252372\n"
     ]
    },
    {
     "name": "stderr",
     "output_type": "stream",
     "text": [
      "Training:  62%|██████▎   | 125/200 [00:05<00:02, 28.21epoch/s]"
     ]
    },
    {
     "name": "stdout",
     "output_type": "stream",
     "text": [
      "Epoch 120/200, Cross Entropy: 1.8066657167952669\n",
      "Epoch 121/200, Cross Entropy: 1.8066732327395354\n",
      "Epoch 122/200, Cross Entropy: 1.8066806609389148\n",
      "Epoch 123/200, Cross Entropy: 1.8066880074016587\n",
      "Epoch 124/200, Cross Entropy: 1.8066952778722154\n",
      "Epoch 125/200, Cross Entropy: 1.8067024778398952\n"
     ]
    },
    {
     "name": "stderr",
     "output_type": "stream",
     "text": [
      "Training:  64%|██████▍   | 129/200 [00:05<00:02, 29.12epoch/s]"
     ]
    },
    {
     "name": "stdout",
     "output_type": "stream",
     "text": [
      "Epoch 126/200, Cross Entropy: 1.8067096125473754\n",
      "Epoch 127/200, Cross Entropy: 1.8067166869990459\n",
      "Epoch 128/200, Cross Entropy: 1.8067237059691739\n",
      "Epoch 129/200, Cross Entropy: 1.8067306740098927\n",
      "Epoch 130/200, Cross Entropy: 1.8067375954590061\n",
      "Epoch 131/200, Cross Entropy: 1.8067444744476036\n"
     ]
    },
    {
     "name": "stderr",
     "output_type": "stream",
     "text": [
      "Training:  66%|██████▋   | 133/200 [00:05<00:02, 29.08epoch/s]"
     ]
    },
    {
     "name": "stdout",
     "output_type": "stream",
     "text": [
      "Epoch 132/200, Cross Entropy: 1.806751314907483\n",
      "Epoch 133/200, Cross Entropy: 1.8067581205783896\n"
     ]
    },
    {
     "name": "stderr",
     "output_type": "stream",
     "text": [
      "Training:  68%|██████▊   | 137/200 [00:05<00:03, 20.05epoch/s]"
     ]
    },
    {
     "name": "stdout",
     "output_type": "stream",
     "text": [
      "Epoch 134/200, Cross Entropy: 1.8067648950150557\n",
      "Epoch 135/200, Cross Entropy: 1.806771641594048\n",
      "Epoch 136/200, Cross Entropy: 1.8067783635204293\n",
      "Epoch 137/200, Cross Entropy: 1.806785063834224\n",
      "Epoch 138/200, Cross Entropy: 1.8067917454166953\n"
     ]
    },
    {
     "name": "stderr",
     "output_type": "stream",
     "text": [
      "Training:  72%|███████▏  | 143/200 [00:06<00:02, 22.16epoch/s]"
     ]
    },
    {
     "name": "stdout",
     "output_type": "stream",
     "text": [
      "Epoch 139/200, Cross Entropy: 1.8067984109964392\n",
      "Epoch 140/200, Cross Entropy: 1.8068050631552914\n",
      "Epoch 141/200, Cross Entropy: 1.8068117043340508\n",
      "Epoch 142/200, Cross Entropy: 1.8068183368380275\n",
      "Epoch 143/200, Cross Entropy: 1.8068249628424145\n"
     ]
    },
    {
     "name": "stderr",
     "output_type": "stream",
     "text": [
      "Training:  73%|███████▎  | 146/200 [00:06<00:02, 23.40epoch/s]"
     ]
    },
    {
     "name": "stdout",
     "output_type": "stream",
     "text": [
      "Epoch 144/200, Cross Entropy: 1.8068315843974851\n",
      "Epoch 145/200, Cross Entropy: 1.8068382034336228\n",
      "Epoch 146/200, Cross Entropy: 1.8068448217661868\n",
      "Epoch 147/200, Cross Entropy: 1.8068514411002135\n",
      "Epoch 148/200, Cross Entropy: 1.8068580630349635\n",
      "Epoch 149/200, Cross Entropy: 1.8068646890683138\n"
     ]
    },
    {
     "name": "stderr",
     "output_type": "stream",
     "text": [
      "Training:  77%|███████▋  | 154/200 [00:06<00:01, 27.67epoch/s]"
     ]
    },
    {
     "name": "stdout",
     "output_type": "stream",
     "text": [
      "Epoch 150/200, Cross Entropy: 1.806871320600995\n",
      "Epoch 151/200, Cross Entropy: 1.806877958940691\n",
      "Epoch 152/200, Cross Entropy: 1.80688460530599\n",
      "Epoch 153/200, Cross Entropy: 1.806891260830199\n",
      "Epoch 154/200, Cross Entropy: 1.8068979265650236\n"
     ]
    },
    {
     "name": "stderr",
     "output_type": "stream",
     "text": [
      "Training:  78%|███████▊  | 157/200 [00:06<00:02, 17.81epoch/s]"
     ]
    },
    {
     "name": "stdout",
     "output_type": "stream",
     "text": [
      "Epoch 155/200, Cross Entropy: 1.8069046034841179\n",
      "Epoch 156/200, Cross Entropy: 1.8069112924865056\n",
      "Epoch 157/200, Cross Entropy: 1.806917994399879\n",
      "Epoch 158/200, Cross Entropy: 1.8069247099837777\n"
     ]
    },
    {
     "name": "stderr",
     "output_type": "stream",
     "text": [
      "Training:  82%|████████▏ | 163/200 [00:07<00:01, 19.90epoch/s]"
     ]
    },
    {
     "name": "stdout",
     "output_type": "stream",
     "text": [
      "Epoch 159/200, Cross Entropy: 1.806931439932654\n",
      "Epoch 160/200, Cross Entropy: 1.8069381848788204\n",
      "Epoch 161/200, Cross Entropy: 1.8069449453952937\n",
      "Epoch 162/200, Cross Entropy: 1.8069517219985305\n",
      "Epoch 163/200, Cross Entropy: 1.80695851515106\n",
      "Epoch 164/200, Cross Entropy: 1.8069653252640223\n"
     ]
    },
    {
     "name": "stderr",
     "output_type": "stream",
     "text": [
      "Training:  86%|████████▌ | 171/200 [00:07<00:01, 26.65epoch/s]"
     ]
    },
    {
     "name": "stdout",
     "output_type": "stream",
     "text": [
      "Epoch 165/200, Cross Entropy: 1.8069721526996034\n",
      "Epoch 166/200, Cross Entropy: 1.8069789977733854\n",
      "Epoch 167/200, Cross Entropy: 1.806985860756604\n",
      "Epoch 168/200, Cross Entropy: 1.8069927418783158\n",
      "Epoch 169/200, Cross Entropy: 1.8069996413274876\n",
      "Epoch 170/200, Cross Entropy: 1.8070065592550022\n",
      "Epoch 171/200, Cross Entropy: 1.8070134957755877\n"
     ]
    },
    {
     "name": "stderr",
     "output_type": "stream",
     "text": [
      "Training:  88%|████████▊ | 175/200 [00:07<00:00, 28.42epoch/s]"
     ]
    },
    {
     "name": "stdout",
     "output_type": "stream",
     "text": [
      "Epoch 172/200, Cross Entropy: 1.8070204509696652\n",
      "Epoch 173/200, Cross Entropy: 1.8070274248851348\n",
      "Epoch 174/200, Cross Entropy: 1.8070344175390793\n",
      "Epoch 175/200, Cross Entropy: 1.807041428919409\n",
      "Epoch 176/200, Cross Entropy: 1.8070484589864357\n",
      "Epoch 177/200, Cross Entropy: 1.8070555076743844\n"
     ]
    },
    {
     "name": "stderr",
     "output_type": "stream",
     "text": [
      "Training:  90%|████████▉ | 179/200 [00:07<00:00, 29.67epoch/s]"
     ]
    },
    {
     "name": "stdout",
     "output_type": "stream",
     "text": [
      "Epoch 178/200, Cross Entropy: 1.8070625748928464\n",
      "Epoch 179/200, Cross Entropy: 1.8070696605281704\n",
      "Epoch 180/200, Cross Entropy: 1.807076764444799\n"
     ]
    },
    {
     "name": "stderr",
     "output_type": "stream",
     "text": [
      "Training:  92%|█████████▏| 183/200 [00:08<00:00, 19.20epoch/s]"
     ]
    },
    {
     "name": "stdout",
     "output_type": "stream",
     "text": [
      "Epoch 181/200, Cross Entropy: 1.807083886486549\n",
      "Epoch 182/200, Cross Entropy: 1.8070910264778377\n",
      "Epoch 183/200, Cross Entropy: 1.8070981842248641\n",
      "Epoch 184/200, Cross Entropy: 1.8071053595167317\n",
      "Epoch 185/200, Cross Entropy: 1.8071125521265343\n"
     ]
    },
    {
     "name": "stderr",
     "output_type": "stream",
     "text": [
      "Training:  94%|█████████▍| 189/200 [00:08<00:00, 21.90epoch/s]"
     ]
    },
    {
     "name": "stdout",
     "output_type": "stream",
     "text": [
      "Epoch 186/200, Cross Entropy: 1.807119761812387\n",
      "Epoch 187/200, Cross Entropy: 1.80712698831842\n",
      "Epoch 188/200, Cross Entropy: 1.8071342313757242\n",
      "Epoch 189/200, Cross Entropy: 1.8071414907032648\n",
      "Epoch 190/200, Cross Entropy: 1.8071487660087429\n",
      "Epoch 191/200, Cross Entropy: 1.8071560569894332\n"
     ]
    },
    {
     "name": "stderr",
     "output_type": "stream",
     "text": [
      "Training:  98%|█████████▊| 195/200 [00:08<00:00, 24.91epoch/s]"
     ]
    },
    {
     "name": "stdout",
     "output_type": "stream",
     "text": [
      "Epoch 192/200, Cross Entropy: 1.8071633633329742\n",
      "Epoch 193/200, Cross Entropy: 1.80717068471813\n",
      "Epoch 194/200, Cross Entropy: 1.8071780208155157\n",
      "Epoch 195/200, Cross Entropy: 1.8071853712882888\n",
      "Epoch 196/200, Cross Entropy: 1.8071927357928146\n",
      "Epoch 197/200, Cross Entropy: 1.8072001139792964\n"
     ]
    },
    {
     "name": "stderr",
     "output_type": "stream",
     "text": [
      "Training: 100%|██████████| 200/200 [00:08<00:00, 23.19epoch/s]\n"
     ]
    },
    {
     "name": "stdout",
     "output_type": "stream",
     "text": [
      "Epoch 198/200, Cross Entropy: 1.807207505492378\n",
      "Epoch 199/200, Cross Entropy: 1.8072149099717212\n",
      "Epoch 200/200, Cross Entropy: 1.807222327052552\n",
      "Results saved to: ../results/layers/error_rates_layers_2_2layers_200_200_1000.txt\n",
      "\n",
      "--------- PRETRAINING PHASE --------\n",
      "\n"
     ]
    },
    {
     "name": "stderr",
     "output_type": "stream",
     "text": [
      "Epoch 0: 100%|██████████| 16/16 [00:00<00:00, 129.03it/s]r/s]\n",
      "Epoch 1: 100%|██████████| 16/16 [00:00<00:00, 36.44it/s]\n",
      "Epoch 2: 100%|██████████| 16/16 [00:00<00:00, 61.01it/s]\n",
      "Epoch 3: 100%|██████████| 16/16 [00:00<00:00, 32.65it/s]\n",
      "Epoch 4: 100%|██████████| 16/16 [00:00<00:00, 49.38it/s]\n",
      "Epoch 5: 100%|██████████| 16/16 [00:00<00:00, 99.38it/s] \n",
      "Epoch 6: 100%|██████████| 16/16 [00:00<00:00, 103.23it/s]\n",
      "Epoch 7: 100%|██████████| 16/16 [00:00<00:00, 103.22it/s]\n",
      "Epoch 8: 100%|██████████| 16/16 [00:00<00:00, 105.96it/s]\n",
      "Epoch 9: 100%|██████████| 16/16 [00:00<00:00, 96.97it/s]\n",
      "Epoch 10: 100%|██████████| 16/16 [00:00<00:00, 136.75it/s]\n",
      "Epoch 11: 100%|██████████| 16/16 [00:00<00:00, 140.36it/s]\n",
      "Epoch 12: 100%|██████████| 16/16 [00:00<00:00, 116.52it/s]\n",
      "Epoch 13: 100%|██████████| 16/16 [00:00<00:00, 121.15it/s]\n",
      "Epoch 14: 100%|██████████| 16/16 [00:00<00:00, 139.31it/s]\n",
      "Epoch 15: 100%|██████████| 16/16 [00:00<00:00, 142.86it/s]\n",
      "Epoch 16: 100%|██████████| 16/16 [00:00<00:00, 145.45it/s]\n",
      "Epoch 17: 100%|██████████| 16/16 [00:00<00:00, 148.15it/s]\n",
      "Epoch 18: 100%|██████████| 16/16 [00:00<00:00, 134.45it/s]\n",
      "Epoch 19: 100%|██████████| 16/16 [00:00<00:00, 125.00it/s]\n",
      "Epoch 20: 100%|██████████| 16/16 [00:00<00:00, 161.62it/s]\n",
      "Epoch 21: 100%|██████████| 16/16 [00:00<00:00, 122.13it/s]\n",
      "Epoch 22: 100%|██████████| 16/16 [00:00<00:00, 175.83it/s]\n",
      "Epoch 23: 100%|██████████| 16/16 [00:00<00:00, 166.67it/s]\n",
      "Epoch 24: 100%|██████████| 16/16 [00:00<00:00, 135.59it/s]\n",
      "Epoch 25: 100%|██████████| 16/16 [00:00<00:00, 129.03it/s]\n",
      "Epoch 26: 100%|██████████| 16/16 [00:00<00:00, 131.15it/s]\n",
      "Epoch 27: 100%|██████████| 16/16 [00:00<00:00, 145.46it/s]\n",
      "Epoch 28: 100%|██████████| 16/16 [00:00<00:00, 161.62it/s]\n",
      "Epoch 29: 100%|██████████| 16/16 [00:00<00:00, 53.87it/s]\n",
      "Epoch 30: 100%|██████████| 16/16 [00:00<00:00, 93.95it/s]\n",
      "Epoch 31: 100%|██████████| 16/16 [00:00<00:00, 134.70it/s]\n",
      "Epoch 32: 100%|██████████| 16/16 [00:00<00:00, 142.86it/s]\n",
      "Epoch 33: 100%|██████████| 16/16 [00:00<00:00, 168.42it/s]\n",
      "Epoch 34: 100%|██████████| 16/16 [00:00<00:00, 166.67it/s]\n",
      "Epoch 35: 100%|██████████| 16/16 [00:00<00:00, 161.62it/s]\n",
      "Epoch 36: 100%|██████████| 16/16 [00:00<00:00, 153.85it/s]\n",
      "Epoch 37: 100%|██████████| 16/16 [00:00<00:00, 163.27it/s]\n",
      "Epoch 38: 100%|██████████| 16/16 [00:00<00:00, 173.91it/s]\n",
      "Epoch 39: 100%|██████████| 16/16 [00:00<00:00, 173.91it/s]\n",
      "Epoch 40: 100%|██████████| 16/16 [00:00<00:00, 158.41it/s]\n",
      "Epoch 41: 100%|██████████| 16/16 [00:00<00:00, 172.04it/s]\n",
      "Epoch 42: 100%|██████████| 16/16 [00:00<00:00, 150.94it/s]\n",
      "Epoch 43: 100%|██████████| 16/16 [00:00<00:00, 135.59it/s]\n",
      "Epoch 44: 100%|██████████| 16/16 [00:00<00:00, 141.59it/s]\n",
      "Epoch 45: 100%|██████████| 16/16 [00:00<00:00, 155.34it/s]\n",
      "Epoch 46: 100%|██████████| 16/16 [00:00<00:00, 164.95it/s]\n",
      "Epoch 47: 100%|██████████| 16/16 [00:00<00:00, 179.77it/s]\n",
      "Epoch 48: 100%|██████████| 16/16 [00:00<00:00, 149.53it/s]\n",
      "Epoch 49: 100%|██████████| 16/16 [00:00<00:00, 140.35it/s]\n",
      "Epoch 50: 100%|██████████| 16/16 [00:00<00:00, 134.74it/s]\n",
      "Epoch 51: 100%|██████████| 16/16 [00:00<00:00, 140.33it/s]\n",
      "Epoch 52: 100%|██████████| 16/16 [00:00<00:00, 130.68it/s]\n",
      "Epoch 53: 100%|██████████| 16/16 [00:00<00:00, 161.61it/s]\n",
      "Epoch 54: 100%|██████████| 16/16 [00:00<00:00, 163.26it/s]\n",
      "Epoch 55: 100%|██████████| 16/16 [00:00<00:00, 155.34it/s]\n",
      "Epoch 56: 100%|██████████| 16/16 [00:00<00:00, 163.27it/s]\n",
      "Epoch 57: 100%|██████████| 16/16 [00:00<00:00, 136.75it/s]\n",
      "Epoch 58: 100%|██████████| 16/16 [00:00<00:00, 140.35it/s]\n",
      "Epoch 59: 100%|██████████| 16/16 [00:00<00:00, 140.35it/s]\n",
      "Epoch 60: 100%|██████████| 16/16 [00:00<00:00, 161.62it/s]\n",
      "Epoch 61: 100%|██████████| 16/16 [00:00<00:00, 152.38it/s]\n",
      "Epoch 62: 100%|██████████| 16/16 [00:00<00:00, 153.85it/s]\n",
      "Epoch 63: 100%|██████████| 16/16 [00:00<00:00, 163.27it/s]\n",
      "Epoch 64: 100%|██████████| 16/16 [00:00<00:00, 163.26it/s]\n",
      "Epoch 65: 100%|██████████| 16/16 [00:00<00:00, 163.27it/s]\n",
      "Epoch 66: 100%|██████████| 16/16 [00:00<00:00, 137.93it/s]\n",
      "Epoch 67: 100%|██████████| 16/16 [00:00<00:00, 135.60it/s]\n",
      "Epoch 68: 100%|██████████| 16/16 [00:00<00:00, 137.93it/s]\n",
      "Epoch 69: 100%|██████████| 16/16 [00:00<00:00, 149.53it/s]\n",
      "Epoch 70: 100%|██████████| 16/16 [00:00<00:00, 137.40it/s]\n",
      "Epoch 71: 100%|██████████| 16/16 [00:00<00:00, 129.97it/s]\n",
      "Epoch 72: 100%|██████████| 16/16 [00:00<00:00, 152.92it/s]\n",
      "Epoch 73: 100%|██████████| 16/16 [00:00<00:00, 135.59it/s]\n",
      "Epoch 74: 100%|██████████| 16/16 [00:00<00:00, 140.34it/s]\n",
      "Epoch 75: 100%|██████████| 16/16 [00:00<00:00, 111.11it/s]\n",
      "Epoch 76: 100%|██████████| 16/16 [00:00<00:00, 149.54it/s]\n",
      "Epoch 77: 100%|██████████| 16/16 [00:00<00:00, 163.26it/s]\n",
      "Epoch 78: 100%|██████████| 16/16 [00:00<00:00, 118.52it/s]\n",
      "Epoch 79: 100%|██████████| 16/16 [00:00<00:00, 172.03it/s]\n",
      "Epoch 80: 100%|██████████| 16/16 [00:00<00:00, 177.78it/s]\n",
      "Epoch 81: 100%|██████████| 16/16 [00:00<00:00, 170.21it/s]\n",
      "Epoch 82: 100%|██████████| 16/16 [00:00<00:00, 133.63it/s]\n",
      "Epoch 83: 100%|██████████| 16/16 [00:00<00:00, 110.21it/s]\n",
      "Epoch 84: 100%|██████████| 16/16 [00:00<00:00, 96.39it/s]\n",
      "Epoch 85: 100%|██████████| 16/16 [00:00<00:00, 122.14it/s]\n",
      "Epoch 86: 100%|██████████| 16/16 [00:00<00:00, 128.36it/s]\n",
      "Epoch 87: 100%|██████████| 16/16 [00:00<00:00, 111.71it/s]\n",
      "Epoch 88: 100%|██████████| 16/16 [00:00<00:00, 87.84it/s]\n",
      "Epoch 89: 100%|██████████| 16/16 [00:00<00:00, 80.98it/s]\n",
      "Epoch 90: 100%|██████████| 16/16 [00:00<00:00, 101.14it/s]\n",
      "Epoch 91: 100%|██████████| 16/16 [00:00<00:00, 140.36it/s]\n",
      "Epoch 92: 100%|██████████| 16/16 [00:00<00:00, 140.96it/s]\n",
      "Epoch 93: 100%|██████████| 16/16 [00:00<00:00, 140.95it/s]\n",
      "Epoch 94: 100%|██████████| 16/16 [00:00<00:00, 150.75it/s]\n",
      "Epoch 95: 100%|██████████| 16/16 [00:00<00:00, 158.41it/s]\n",
      "Epoch 96: 100%|██████████| 16/16 [00:00<00:00, 39.35it/s]\n",
      "Epoch 97: 100%|██████████| 16/16 [00:00<00:00, 85.56it/s]\n",
      "Epoch 98: 100%|██████████| 16/16 [00:00<00:00, 111.11it/s]\n",
      "Epoch 99: 100%|██████████| 16/16 [00:00<00:00, 116.79it/s]\n",
      "Epoch 0: 100%|██████████| 16/16 [00:00<00:00, 470.63it/s]3.94s/layer]\n",
      "Epoch 1: 100%|██████████| 16/16 [00:00<00:00, 533.34it/s]\n",
      "Epoch 2: 100%|██████████| 16/16 [00:00<00:00, 499.95it/s]\n",
      "Epoch 3: 100%|██████████| 16/16 [00:00<00:00, 500.01it/s]\n",
      "Epoch 4: 100%|██████████| 16/16 [00:00<00:00, 533.32it/s]\n",
      "Epoch 5: 100%|██████████| 16/16 [00:00<00:00, 470.54it/s]\n",
      "Epoch 6: 100%|██████████| 16/16 [00:00<00:00, 432.44it/s]\n",
      "Epoch 7: 100%|██████████| 16/16 [00:00<00:00, 457.19it/s]\n",
      "Epoch 8: 100%|██████████| 16/16 [00:00<00:00, 340.43it/s]\n",
      "Epoch 9: 100%|██████████| 16/16 [00:00<00:00, 302.19it/s]\n",
      "Epoch 10: 100%|██████████| 16/16 [00:00<00:00, 307.70it/s]\n",
      "Epoch 11: 100%|██████████| 16/16 [00:00<00:00, 346.59it/s]\n",
      "Epoch 12: 100%|██████████| 16/16 [00:00<00:00, 368.70it/s]\n",
      "Epoch 13: 100%|██████████| 16/16 [00:00<00:00, 371.00it/s]\n",
      "Epoch 14: 100%|██████████| 16/16 [00:00<00:00, 400.03it/s]\n",
      "Epoch 15: 100%|██████████| 16/16 [00:00<00:00, 410.21it/s]\n",
      "Epoch 16: 100%|██████████| 16/16 [00:00<00:00, 444.31it/s]\n",
      "Epoch 17: 100%|██████████| 16/16 [00:00<00:00, 421.05it/s]\n",
      "Epoch 18: 100%|██████████| 16/16 [00:00<00:00, 432.44it/s]\n",
      "Epoch 19: 100%|██████████| 16/16 [00:00<00:00, 444.43it/s]\n",
      "Epoch 20: 100%|██████████| 16/16 [00:00<00:00, 444.45it/s]\n",
      "Epoch 21: 100%|██████████| 16/16 [00:00<00:00, 400.03it/s]\n",
      "Epoch 22: 100%|██████████| 16/16 [00:00<00:00, 390.24it/s]\n",
      "Epoch 23: 100%|██████████| 16/16 [00:00<00:00, 363.63it/s]\n",
      "Epoch 24: 100%|██████████| 16/16 [00:00<00:00, 399.98it/s]\n",
      "Epoch 25: 100%|██████████| 16/16 [00:00<00:00, 470.59it/s]\n",
      "Epoch 26: 100%|██████████| 16/16 [00:00<00:00, 399.97it/s]\n",
      "Epoch 27: 100%|██████████| 16/16 [00:00<00:00, 380.94it/s]\n",
      "Epoch 28: 100%|██████████| 16/16 [00:00<00:00, 444.44it/s]\n",
      "Epoch 29: 100%|██████████| 16/16 [00:00<00:00, 380.92it/s]\n",
      "Epoch 30: 100%|██████████| 16/16 [00:00<00:00, 400.02it/s]\n",
      "Epoch 31: 100%|██████████| 16/16 [00:00<00:00, 457.13it/s]\n",
      "Epoch 32: 100%|██████████| 16/16 [00:00<00:00, 484.85it/s]\n",
      "Epoch 33: 100%|██████████| 16/16 [00:00<00:00, 347.82it/s]\n",
      "Epoch 34: 100%|██████████| 16/16 [00:00<00:00, 457.13it/s]\n",
      "Epoch 35: 100%|██████████| 16/16 [00:00<00:00, 380.92it/s]\n",
      "Epoch 36: 100%|██████████| 16/16 [00:00<00:00, 432.44it/s]\n",
      "Epoch 37: 100%|██████████| 16/16 [00:00<00:00, 444.46it/s]\n",
      "Epoch 38: 100%|██████████| 16/16 [00:00<00:00, 470.60it/s]\n",
      "Epoch 39: 100%|██████████| 16/16 [00:00<00:00, 421.06it/s]\n",
      "Epoch 40: 100%|██████████| 16/16 [00:00<00:00, 410.28it/s]\n",
      "Epoch 41: 100%|██████████| 16/16 [00:00<00:00, 421.03it/s]\n",
      "Epoch 42: 100%|██████████| 16/16 [00:00<00:00, 410.29it/s]\n",
      "Epoch 43: 100%|██████████| 16/16 [00:00<00:00, 484.87it/s]\n",
      "Epoch 44: 100%|██████████| 16/16 [00:00<00:00, 390.25it/s]\n",
      "Epoch 45: 100%|██████████| 16/16 [00:00<00:00, 432.44it/s]\n",
      "Epoch 46: 100%|██████████| 16/16 [00:00<00:00, 400.01it/s]\n",
      "Epoch 47: 100%|██████████| 16/16 [00:00<00:00, 421.05it/s]\n",
      "Epoch 48: 100%|██████████| 16/16 [00:00<00:00, 410.22it/s]\n",
      "Epoch 49: 100%|██████████| 16/16 [00:00<00:00, 421.11it/s]\n",
      "Epoch 50: 100%|██████████| 16/16 [00:00<00:00, 400.01it/s]\n",
      "Epoch 51: 100%|██████████| 16/16 [00:00<00:00, 390.25it/s]\n",
      "Epoch 52: 100%|██████████| 16/16 [00:00<00:00, 79.60it/s]\n",
      "Epoch 53: 100%|██████████| 16/16 [00:00<00:00, 355.57it/s]\n",
      "Epoch 54: 100%|██████████| 16/16 [00:00<00:00, 313.75it/s]\n",
      "Epoch 55: 100%|██████████| 16/16 [00:00<00:00, 266.66it/s]\n",
      "Epoch 56: 100%|██████████| 16/16 [00:00<00:00, 323.08it/s]\n",
      "Epoch 57: 100%|██████████| 16/16 [00:00<00:00, 355.37it/s]\n",
      "Epoch 58: 100%|██████████| 16/16 [00:00<00:00, 379.35it/s]\n",
      "Epoch 59: 100%|██████████| 16/16 [00:00<00:00, 438.13it/s]\n",
      "Epoch 60: 100%|██████████| 16/16 [00:00<00:00, 457.17it/s]\n",
      "Epoch 61: 100%|██████████| 16/16 [00:00<00:00, 444.43it/s]\n",
      "Epoch 62: 100%|██████████| 16/16 [00:00<00:00, 421.05it/s]\n",
      "Epoch 63: 100%|██████████| 16/16 [00:00<00:00, 470.62it/s]\n",
      "Epoch 64: 100%|██████████| 16/16 [00:00<00:00, 470.54it/s]\n",
      "Epoch 65: 100%|██████████| 16/16 [00:00<00:00, 421.02it/s]\n",
      "Epoch 66: 100%|██████████| 16/16 [00:00<00:00, 380.96it/s]\n",
      "Epoch 67: 100%|██████████| 16/16 [00:00<00:00, 410.30it/s]\n",
      "Epoch 68: 100%|██████████| 16/16 [00:00<00:00, 421.10it/s]\n",
      "Epoch 69: 100%|██████████| 16/16 [00:00<00:00, 457.16it/s]\n",
      "Epoch 70: 100%|██████████| 16/16 [00:00<00:00, 500.00it/s]\n",
      "Epoch 71: 100%|██████████| 16/16 [00:00<00:00, 500.03it/s]\n",
      "Epoch 72: 100%|██████████| 16/16 [00:00<00:00, 533.37it/s]\n",
      "Epoch 73: 100%|██████████| 16/16 [00:00<00:00, 551.71it/s]\n",
      "Epoch 74: 100%|██████████| 16/16 [00:00<00:00, 470.60it/s]\n",
      "Epoch 75: 100%|██████████| 16/16 [00:00<00:00, 500.02it/s]\n",
      "Epoch 76: 100%|██████████| 16/16 [00:00<00:00, 500.02it/s]\n",
      "Epoch 77: 100%|██████████| 16/16 [00:00<00:00, 516.08it/s]\n",
      "Epoch 78: 100%|██████████| 16/16 [00:00<00:00, 533.35it/s]\n",
      "Epoch 79: 100%|██████████| 16/16 [00:00<00:00, 592.61it/s]\n",
      "Epoch 80: 100%|██████████| 16/16 [00:00<00:00, 551.75it/s]\n",
      "Epoch 81: 100%|██████████| 16/16 [00:00<00:00, 551.72it/s]\n",
      "Epoch 82: 100%|██████████| 16/16 [00:00<00:00, 516.14it/s]\n",
      "Epoch 83: 100%|██████████| 16/16 [00:00<00:00, 533.34it/s]\n",
      "Epoch 84: 100%|██████████| 16/16 [00:00<00:00, 500.00it/s]\n",
      "Epoch 85: 100%|██████████| 16/16 [00:00<00:00, 592.63it/s]\n",
      "Epoch 86: 100%|██████████| 16/16 [00:00<00:00, 571.39it/s]\n",
      "Epoch 87: 100%|██████████| 16/16 [00:00<00:00, 516.16it/s]\n",
      "Epoch 88: 100%|██████████| 16/16 [00:00<00:00, 457.14it/s]\n",
      "Epoch 89: 100%|██████████| 16/16 [00:00<00:00, 516.08it/s]\n",
      "Epoch 90: 100%|██████████| 16/16 [00:00<00:00, 484.84it/s]\n",
      "Epoch 91: 100%|██████████| 16/16 [00:00<00:00, 484.85it/s]\n",
      "Epoch 92: 100%|██████████| 16/16 [00:00<00:00, 421.08it/s]\n",
      "Epoch 93: 100%|██████████| 16/16 [00:00<00:00, 390.27it/s]\n",
      "Epoch 94: 100%|██████████| 16/16 [00:00<00:00, 470.61it/s]\n",
      "Epoch 95: 100%|██████████| 16/16 [00:00<00:00, 592.61it/s]\n",
      "Epoch 96: 100%|██████████| 16/16 [00:00<00:00, 592.59it/s]\n",
      "Epoch 97: 100%|██████████| 16/16 [00:00<00:00, 533.35it/s]\n",
      "Epoch 98: 100%|██████████| 16/16 [00:00<00:00, 551.78it/s]\n",
      "Epoch 99: 100%|██████████| 16/16 [00:00<00:00, 347.82it/s]\n",
      "Epoch 0: 100%|██████████| 16/16 [00:00<00:00, 457.15it/s]8.38s/layer]\n",
      "Epoch 1: 100%|██████████| 16/16 [00:00<00:00, 470.62it/s]\n",
      "Epoch 2: 100%|██████████| 16/16 [00:00<00:00, 516.14it/s]\n",
      "Epoch 3: 100%|██████████| 16/16 [00:00<00:00, 533.34it/s]\n",
      "Epoch 4: 100%|██████████| 16/16 [00:00<00:00, 516.17it/s]\n",
      "Epoch 5: 100%|██████████| 16/16 [00:00<00:00, 470.57it/s]\n",
      "Epoch 6: 100%|██████████| 16/16 [00:00<00:00, 380.94it/s]\n",
      "Epoch 7: 100%|██████████| 16/16 [00:00<00:00, 399.99it/s]\n",
      "Epoch 8: 100%|██████████| 16/16 [00:00<00:00, 421.08it/s]\n",
      "Epoch 9: 100%|██████████| 16/16 [00:00<00:00, 516.11it/s]\n",
      "Epoch 10: 100%|██████████| 16/16 [00:00<00:00, 533.37it/s]\n",
      "Epoch 11: 100%|██████████| 16/16 [00:00<00:00, 484.87it/s]\n",
      "Epoch 12: 100%|██████████| 16/16 [00:00<00:00, 444.46it/s]\n",
      "Epoch 13: 100%|██████████| 16/16 [00:00<00:00, 399.98it/s]\n",
      "Epoch 14: 100%|██████████| 16/16 [00:00<00:00, 369.32it/s]\n",
      "Epoch 15: 100%|██████████| 16/16 [00:00<00:00, 347.80it/s]\n",
      "Epoch 16: 100%|██████████| 16/16 [00:00<00:00, 369.38it/s]\n",
      "Epoch 17: 100%|██████████| 16/16 [00:00<00:00, 400.04it/s]\n",
      "Epoch 18: 100%|██████████| 16/16 [00:00<00:00, 432.46it/s]\n",
      "Epoch 19: 100%|██████████| 16/16 [00:00<00:00, 457.15it/s]\n",
      "Epoch 20: 100%|██████████| 16/16 [00:00<00:00, 444.50it/s]\n",
      "Epoch 21: 100%|██████████| 16/16 [00:00<00:00, 444.46it/s]\n",
      "Epoch 22: 100%|██████████| 16/16 [00:00<00:00, 421.07it/s]\n",
      "Epoch 23: 100%|██████████| 16/16 [00:00<00:00, 470.58it/s]\n",
      "Epoch 24: 100%|██████████| 16/16 [00:00<00:00, 484.86it/s]\n",
      "Epoch 25: 100%|██████████| 16/16 [00:00<00:00, 551.73it/s]\n",
      "Epoch 26: 100%|██████████| 16/16 [00:00<00:00, 551.65it/s]\n",
      "Epoch 27: 100%|██████████| 16/16 [00:00<00:00, 551.68it/s]\n",
      "Epoch 28: 100%|██████████| 16/16 [00:00<00:00, 571.41it/s]\n",
      "Epoch 29: 100%|██████████| 16/16 [00:00<00:00, 470.57it/s]\n",
      "Epoch 30: 100%|██████████| 16/16 [00:00<00:00, 533.34it/s]\n",
      "Epoch 31: 100%|██████████| 16/16 [00:00<00:00, 484.91it/s]\n",
      "Epoch 32: 100%|██████████| 16/16 [00:00<00:00, 421.04it/s]\n",
      "Epoch 33: 100%|██████████| 16/16 [00:00<00:00, 484.88it/s]\n",
      "Epoch 34: 100%|██████████| 16/16 [00:00<00:00, 516.10it/s]\n",
      "Epoch 35: 100%|██████████| 16/16 [00:00<00:00, 500.04it/s]\n",
      "Epoch 36: 100%|██████████| 16/16 [00:00<00:00, 516.15it/s]\n",
      "Epoch 37: 100%|██████████| 16/16 [00:00<00:00, 484.86it/s]\n",
      "Epoch 38: 100%|██████████| 16/16 [00:00<00:00, 500.02it/s]\n",
      "Epoch 39: 100%|██████████| 16/16 [00:00<00:00, 72.40it/s]\n",
      "Epoch 40: 100%|██████████| 16/16 [00:00<00:00, 380.96it/s]\n",
      "Epoch 41: 100%|██████████| 16/16 [00:00<00:00, 444.42it/s]\n",
      "Epoch 42: 100%|██████████| 16/16 [00:00<00:00, 399.98it/s]\n",
      "Epoch 43: 100%|██████████| 16/16 [00:00<00:00, 399.99it/s]\n",
      "Epoch 44: 100%|██████████| 16/16 [00:00<00:00, 421.04it/s]\n",
      "Epoch 45: 100%|██████████| 16/16 [00:00<00:00, 533.32it/s]\n",
      "Epoch 46: 100%|██████████| 16/16 [00:00<00:00, 470.59it/s]\n",
      "Epoch 47: 100%|██████████| 16/16 [00:00<00:00, 421.03it/s]\n",
      "Epoch 48: 100%|██████████| 16/16 [00:00<00:00, 533.32it/s]\n",
      "Epoch 49: 100%|██████████| 16/16 [00:00<00:00, 551.76it/s]\n",
      "Epoch 50: 100%|██████████| 16/16 [00:00<00:00, 484.82it/s]\n",
      "Epoch 51: 100%|██████████| 16/16 [00:00<00:00, 484.86it/s]\n",
      "Epoch 52: 100%|██████████| 16/16 [00:00<00:00, 457.14it/s]\n",
      "Epoch 53: 100%|██████████| 16/16 [00:00<00:00, 410.23it/s]\n",
      "Epoch 54: 100%|██████████| 16/16 [00:00<00:00, 457.05it/s]\n",
      "Epoch 55: 100%|██████████| 16/16 [00:00<00:00, 444.46it/s]\n",
      "Epoch 56: 100%|██████████| 16/16 [00:00<00:00, 484.87it/s]\n",
      "Epoch 57: 100%|██████████| 16/16 [00:00<00:00, 470.62it/s]\n",
      "Epoch 58: 100%|██████████| 16/16 [00:00<00:00, 470.59it/s]\n",
      "Epoch 59: 100%|██████████| 16/16 [00:00<00:00, 470.55it/s]\n",
      "Epoch 60: 100%|██████████| 16/16 [00:00<00:00, 500.00it/s]\n",
      "Epoch 61: 100%|██████████| 16/16 [00:00<00:00, 457.14it/s]\n",
      "Epoch 62: 100%|██████████| 16/16 [00:00<00:00, 410.24it/s]\n",
      "Epoch 63: 100%|██████████| 16/16 [00:00<00:00, 372.11it/s]\n",
      "Epoch 64: 100%|██████████| 16/16 [00:00<00:00, 396.54it/s]\n",
      "Epoch 65: 100%|██████████| 16/16 [00:00<00:00, 396.30it/s]\n",
      "Epoch 66: 100%|██████████| 16/16 [00:00<00:00, 469.01it/s]\n",
      "Epoch 67: 100%|██████████| 16/16 [00:00<00:00, 432.45it/s]\n",
      "Epoch 68: 100%|██████████| 16/16 [00:00<00:00, 434.58it/s]\n",
      "Epoch 69: 100%|██████████| 16/16 [00:00<00:00, 390.26it/s]\n",
      "Epoch 70: 100%|██████████| 16/16 [00:00<00:00, 444.43it/s]\n",
      "Epoch 71: 100%|██████████| 16/16 [00:00<00:00, 444.45it/s]\n",
      "Epoch 72: 100%|██████████| 16/16 [00:00<00:00, 500.00it/s]\n",
      "Epoch 73: 100%|██████████| 16/16 [00:00<00:00, 457.14it/s]\n",
      "Epoch 74: 100%|██████████| 16/16 [00:00<00:00, 432.41it/s]\n",
      "Epoch 75: 100%|██████████| 16/16 [00:00<00:00, 444.44it/s]\n",
      "Epoch 76: 100%|██████████| 16/16 [00:00<00:00, 432.45it/s]\n",
      "Epoch 77: 100%|██████████| 16/16 [00:00<00:00, 457.17it/s]\n",
      "Epoch 78: 100%|██████████| 16/16 [00:00<00:00, 516.13it/s]\n",
      "Epoch 79: 100%|██████████| 16/16 [00:00<00:00, 432.45it/s]\n",
      "Epoch 80: 100%|██████████| 16/16 [00:00<00:00, 432.46it/s]\n",
      "Epoch 81: 100%|██████████| 16/16 [00:00<00:00, 484.82it/s]\n",
      "Epoch 82: 100%|██████████| 16/16 [00:00<00:00, 457.14it/s]\n",
      "Epoch 83: 100%|██████████| 16/16 [00:00<00:00, 470.58it/s]\n",
      "Epoch 84: 100%|██████████| 16/16 [00:00<00:00, 470.51it/s]\n",
      "Epoch 85: 100%|██████████| 16/16 [00:00<00:00, 457.18it/s]\n",
      "Epoch 86: 100%|██████████| 16/16 [00:00<00:00, 485.13it/s]\n",
      "Epoch 87: 100%|██████████| 16/16 [00:00<00:00, 470.58it/s]\n",
      "Epoch 88: 100%|██████████| 16/16 [00:00<00:00, 516.08it/s]\n",
      "Epoch 89: 100%|██████████| 16/16 [00:00<00:00, 457.14it/s]\n",
      "Epoch 90: 100%|██████████| 16/16 [00:00<00:00, 484.85it/s]\n",
      "Epoch 91: 100%|██████████| 16/16 [00:00<00:00, 484.89it/s]\n",
      "Epoch 92: 100%|██████████| 16/16 [00:00<00:00, 499.99it/s]\n",
      "Epoch 93: 100%|██████████| 16/16 [00:00<00:00, 484.84it/s]\n",
      "Epoch 94: 100%|██████████| 16/16 [00:00<00:00, 484.80it/s]\n",
      "Epoch 95: 100%|██████████| 16/16 [00:00<00:00, 516.16it/s]\n",
      "Epoch 96: 100%|██████████| 16/16 [00:00<00:00, 533.35it/s]\n",
      "Epoch 97: 100%|██████████| 16/16 [00:00<00:00, 551.82it/s]\n",
      "Epoch 98: 100%|██████████| 16/16 [00:00<00:00, 571.42it/s]\n",
      "Epoch 99: 100%|██████████| 16/16 [00:00<00:00, 516.15it/s]\n",
      "Training RBM layers: 100%|██████████| 3/3 [00:22<00:00,  7.55s/layer]\n"
     ]
    },
    {
     "name": "stdout",
     "output_type": "stream",
     "text": [
      "\n",
      "\n",
      "--------- BACKPROPAGATION --------\n"
     ]
    },
    {
     "name": "stderr",
     "output_type": "stream",
     "text": [
      "Training:   2%|▏         | 4/200 [00:00<00:06, 31.01epoch/s]"
     ]
    },
    {
     "name": "stdout",
     "output_type": "stream",
     "text": [
      "Epoch 1/200, Cross Entropy: 2.279020665038632\n",
      "Epoch 2/200, Cross Entropy: 2.275648266974591\n",
      "Epoch 3/200, Cross Entropy: 2.275189121829019\n",
      "Epoch 4/200, Cross Entropy: 2.2751128050081575\n",
      "Epoch 5/200, Cross Entropy: 2.275098481944146\n"
     ]
    },
    {
     "name": "stderr",
     "output_type": "stream",
     "text": [
      "Training:   2%|▏         | 4/200 [00:00<00:06, 31.01epoch/s]"
     ]
    },
    {
     "name": "stdout",
     "output_type": "stream",
     "text": [
      "Epoch 6/200, Cross Entropy: 2.2750955403072175\n"
     ]
    },
    {
     "name": "stderr",
     "output_type": "stream",
     "text": [
      "Training:   4%|▍         | 8/200 [00:00<00:05, 32.49epoch/s]"
     ]
    },
    {
     "name": "stdout",
     "output_type": "stream",
     "text": [
      "Epoch 7/200, Cross Entropy: 2.275094895895987\n",
      "Epoch 8/200, Cross Entropy: 2.2750947484793222\n",
      "Epoch 9/200, Cross Entropy: 2.2750947138024684\n",
      "Epoch 10/200, Cross Entropy: 2.2750947054994115\n",
      "Epoch 11/200, Cross Entropy: 2.27509470348841\n"
     ]
    },
    {
     "name": "stderr",
     "output_type": "stream",
     "text": [
      "Training:   8%|▊         | 15/200 [00:00<00:08, 20.85epoch/s]"
     ]
    },
    {
     "name": "stdout",
     "output_type": "stream",
     "text": [
      "Epoch 12/200, Cross Entropy: 2.2750947029975968\n",
      "Epoch 13/200, Cross Entropy: 2.275094702877161\n",
      "Epoch 14/200, Cross Entropy: 2.27509470284749\n",
      "Epoch 15/200, Cross Entropy: 2.275094702840158\n",
      "Epoch 16/200, Cross Entropy: 2.2750947028383415\n"
     ]
    },
    {
     "name": "stderr",
     "output_type": "stream",
     "text": [
      "Training:  10%|█         | 21/200 [00:00<00:07, 23.04epoch/s]"
     ]
    },
    {
     "name": "stdout",
     "output_type": "stream",
     "text": [
      "Epoch 17/200, Cross Entropy: 2.2750947028378903\n",
      "Epoch 18/200, Cross Entropy: 2.275094702837778\n",
      "Epoch 19/200, Cross Entropy: 2.2750947028377504\n",
      "Epoch 20/200, Cross Entropy: 2.2750947028377433\n",
      "Epoch 21/200, Cross Entropy: 2.275094702837742\n"
     ]
    },
    {
     "name": "stderr",
     "output_type": "stream",
     "text": [
      "Training:  12%|█▏        | 24/200 [00:01<00:07, 23.91epoch/s]"
     ]
    },
    {
     "name": "stdout",
     "output_type": "stream",
     "text": [
      "Epoch 22/200, Cross Entropy: 2.275094702837741\n",
      "Epoch 23/200, Cross Entropy: 2.275094702837741\n",
      "Epoch 24/200, Cross Entropy: 2.275094702837741\n",
      "Epoch 25/200, Cross Entropy: 2.275094702837741\n",
      "Epoch 26/200, Cross Entropy: 2.275094702837741\n",
      "Epoch 27/200, Cross Entropy: 2.275094702837741\n"
     ]
    },
    {
     "name": "stderr",
     "output_type": "stream",
     "text": [
      "Training:  16%|█▌        | 32/200 [00:01<00:05, 28.75epoch/s]"
     ]
    },
    {
     "name": "stdout",
     "output_type": "stream",
     "text": [
      "Epoch 28/200, Cross Entropy: 2.275094702837741\n",
      "Epoch 29/200, Cross Entropy: 2.275094702837741\n",
      "Epoch 30/200, Cross Entropy: 2.275094702837741\n",
      "Epoch 31/200, Cross Entropy: 2.275094702837741\n",
      "Epoch 32/200, Cross Entropy: 2.275094702837741\n",
      "Epoch 33/200, Cross Entropy: 2.275094702837741\n",
      "Epoch 34/200, Cross Entropy: 2.275094702837741\n"
     ]
    },
    {
     "name": "stderr",
     "output_type": "stream",
     "text": [
      "                                                             "
     ]
    },
    {
     "name": "stdout",
     "output_type": "stream",
     "text": [
      "Epoch 35/200, Cross Entropy: 2.275094702837741\n",
      "Epoch 36/200, Cross Entropy: 2.275094702837741\n",
      "Epoch 37/200, Cross Entropy: 2.275094702837741\n",
      "Epoch 38/200, Cross Entropy: 2.275094702837741\n",
      "Epoch 39/200, Cross Entropy: 2.275094702837741\n",
      "Epoch 40/200, Cross Entropy: 2.275094702837741\n"
     ]
    },
    {
     "name": "stderr",
     "output_type": "stream",
     "text": [
      "Training:  22%|██▏       | 44/200 [00:01<00:04, 31.95epoch/s]"
     ]
    },
    {
     "name": "stdout",
     "output_type": "stream",
     "text": [
      "Epoch 41/200, Cross Entropy: 2.275094702837741\n",
      "Epoch 42/200, Cross Entropy: 2.275094702837741\n",
      "Epoch 43/200, Cross Entropy: 2.275094702837741\n",
      "Epoch 44/200, Cross Entropy: 2.275094702837741\n",
      "Epoch 45/200, Cross Entropy: 2.275094702837741\n",
      "Epoch 46/200, Cross Entropy: 2.275094702837741\n",
      "Epoch 47/200, Cross Entropy: 2.275094702837741\n"
     ]
    },
    {
     "name": "stderr",
     "output_type": "stream",
     "text": [
      "Training:  26%|██▌       | 52/200 [00:01<00:04, 32.67epoch/s]"
     ]
    },
    {
     "name": "stdout",
     "output_type": "stream",
     "text": [
      "Epoch 48/200, Cross Entropy: 2.275094702837741\n",
      "Epoch 49/200, Cross Entropy: 2.275094702837741\n",
      "Epoch 50/200, Cross Entropy: 2.275094702837741\n",
      "Epoch 51/200, Cross Entropy: 2.275094702837741\n",
      "Epoch 52/200, Cross Entropy: 2.275094702837741\n",
      "Epoch 53/200, Cross Entropy: 2.275094702837741\n",
      "Epoch 54/200, Cross Entropy: 2.275094702837741\n"
     ]
    },
    {
     "name": "stderr",
     "output_type": "stream",
     "text": [
      "Training:  30%|███       | 60/200 [00:02<00:04, 32.23epoch/s]"
     ]
    },
    {
     "name": "stdout",
     "output_type": "stream",
     "text": [
      "Epoch 55/200, Cross Entropy: 2.275094702837741\n",
      "Epoch 56/200, Cross Entropy: 2.275094702837741\n",
      "Epoch 57/200, Cross Entropy: 2.275094702837741\n",
      "Epoch 58/200, Cross Entropy: 2.275094702837741\n",
      "Epoch 59/200, Cross Entropy: 2.275094702837741\n",
      "Epoch 60/200, Cross Entropy: 2.275094702837741\n"
     ]
    },
    {
     "name": "stderr",
     "output_type": "stream",
     "text": [
      "Training:  32%|███▏      | 64/200 [00:02<00:04, 32.64epoch/s]"
     ]
    },
    {
     "name": "stdout",
     "output_type": "stream",
     "text": [
      "Epoch 61/200, Cross Entropy: 2.275094702837741\n",
      "Epoch 62/200, Cross Entropy: 2.275094702837741\n",
      "Epoch 63/200, Cross Entropy: 2.275094702837741\n",
      "Epoch 64/200, Cross Entropy: 2.275094702837741\n",
      "Epoch 65/200, Cross Entropy: 2.275094702837741\n",
      "Epoch 66/200, Cross Entropy: 2.275094702837741\n",
      "Epoch 67/200, Cross Entropy: 2.275094702837741\n"
     ]
    },
    {
     "name": "stderr",
     "output_type": "stream",
     "text": [
      "                                                             "
     ]
    },
    {
     "name": "stdout",
     "output_type": "stream",
     "text": [
      "Epoch 68/200, Cross Entropy: 2.275094702837741\n",
      "Epoch 69/200, Cross Entropy: 2.275094702837741\n",
      "Epoch 70/200, Cross Entropy: 2.275094702837741\n",
      "Epoch 71/200, Cross Entropy: 2.275094702837741\n",
      "Epoch 72/200, Cross Entropy: 2.275094702837741\n",
      "Epoch 73/200, Cross Entropy: 2.275094702837741\n"
     ]
    },
    {
     "name": "stderr",
     "output_type": "stream",
     "text": [
      "Training:  38%|███▊      | 76/200 [00:02<00:03, 32.10epoch/s]"
     ]
    },
    {
     "name": "stdout",
     "output_type": "stream",
     "text": [
      "Epoch 74/200, Cross Entropy: 2.275094702837741\n",
      "Epoch 75/200, Cross Entropy: 2.275094702837741\n",
      "Epoch 76/200, Cross Entropy: 2.275094702837741\n",
      "Epoch 77/200, Cross Entropy: 2.275094702837741\n",
      "Epoch 78/200, Cross Entropy: 2.275094702837741\n"
     ]
    },
    {
     "name": "stderr",
     "output_type": "stream",
     "text": [
      "Training:  40%|████      | 80/200 [00:02<00:04, 29.58epoch/s]"
     ]
    },
    {
     "name": "stdout",
     "output_type": "stream",
     "text": [
      "Epoch 79/200, Cross Entropy: 2.275094702837741\n",
      "Epoch 80/200, Cross Entropy: 2.275094702837741\n",
      "Epoch 81/200, Cross Entropy: 2.275094702837741\n",
      "Epoch 82/200, Cross Entropy: 2.275094702837741\n",
      "Epoch 83/200, Cross Entropy: 2.275094702837741\n"
     ]
    },
    {
     "name": "stderr",
     "output_type": "stream",
     "text": [
      "Training:  44%|████▍     | 88/200 [00:03<00:03, 28.37epoch/s]"
     ]
    },
    {
     "name": "stdout",
     "output_type": "stream",
     "text": [
      "Epoch 84/200, Cross Entropy: 2.275094702837741\n",
      "Epoch 85/200, Cross Entropy: 2.275094702837741\n",
      "Epoch 86/200, Cross Entropy: 2.275094702837741\n",
      "Epoch 87/200, Cross Entropy: 2.275094702837741\n",
      "Epoch 88/200, Cross Entropy: 2.275094702837741\n",
      "Epoch 89/200, Cross Entropy: 2.275094702837741\n"
     ]
    },
    {
     "name": "stderr",
     "output_type": "stream",
     "text": [
      "Training:  47%|████▋     | 94/200 [00:03<00:03, 28.11epoch/s]"
     ]
    },
    {
     "name": "stdout",
     "output_type": "stream",
     "text": [
      "Epoch 90/200, Cross Entropy: 2.275094702837741\n",
      "Epoch 91/200, Cross Entropy: 2.275094702837741\n",
      "Epoch 92/200, Cross Entropy: 2.275094702837741\n",
      "Epoch 93/200, Cross Entropy: 2.275094702837741\n",
      "Epoch 94/200, Cross Entropy: 2.275094702837741\n",
      "Epoch 95/200, Cross Entropy: 2.275094702837741\n"
     ]
    },
    {
     "name": "stderr",
     "output_type": "stream",
     "text": [
      "Training:  50%|█████     | 100/200 [00:03<00:03, 27.87epoch/s]"
     ]
    },
    {
     "name": "stdout",
     "output_type": "stream",
     "text": [
      "Epoch 96/200, Cross Entropy: 2.275094702837741\n",
      "Epoch 97/200, Cross Entropy: 2.275094702837741\n",
      "Epoch 98/200, Cross Entropy: 2.275094702837741\n",
      "Epoch 99/200, Cross Entropy: 2.275094702837741\n",
      "Epoch 100/200, Cross Entropy: 2.275094702837741\n",
      "Epoch 101/200, Cross Entropy: 2.275094702837741\n"
     ]
    },
    {
     "name": "stderr",
     "output_type": "stream",
     "text": [
      "Training:  54%|█████▍    | 108/200 [00:03<00:02, 31.26epoch/s]"
     ]
    },
    {
     "name": "stdout",
     "output_type": "stream",
     "text": [
      "Epoch 102/200, Cross Entropy: 2.275094702837741\n",
      "Epoch 103/200, Cross Entropy: 2.275094702837741\n",
      "Epoch 104/200, Cross Entropy: 2.275094702837741\n",
      "Epoch 105/200, Cross Entropy: 2.275094702837741\n",
      "Epoch 106/200, Cross Entropy: 2.275094702837741\n",
      "Epoch 107/200, Cross Entropy: 2.275094702837741\n",
      "Epoch 108/200, Cross Entropy: 2.275094702837741\n"
     ]
    },
    {
     "name": "stderr",
     "output_type": "stream",
     "text": [
      "Training:  56%|█████▌    | 112/200 [00:03<00:02, 31.50epoch/s]"
     ]
    },
    {
     "name": "stdout",
     "output_type": "stream",
     "text": [
      "Epoch 109/200, Cross Entropy: 2.275094702837741\n",
      "Epoch 110/200, Cross Entropy: 2.275094702837741\n",
      "Epoch 111/200, Cross Entropy: 2.275094702837741\n",
      "Epoch 112/200, Cross Entropy: 2.275094702837741\n",
      "Epoch 113/200, Cross Entropy: 2.275094702837741\n",
      "Epoch 114/200, Cross Entropy: 2.275094702837741\n"
     ]
    },
    {
     "name": "stderr",
     "output_type": "stream",
     "text": [
      "Training:  60%|██████    | 120/200 [00:04<00:02, 31.81epoch/s]"
     ]
    },
    {
     "name": "stdout",
     "output_type": "stream",
     "text": [
      "Epoch 115/200, Cross Entropy: 2.275094702837741\n",
      "Epoch 116/200, Cross Entropy: 2.275094702837741\n",
      "Epoch 117/200, Cross Entropy: 2.275094702837741\n",
      "Epoch 118/200, Cross Entropy: 2.275094702837741\n",
      "Epoch 119/200, Cross Entropy: 2.275094702837741\n",
      "Epoch 120/200, Cross Entropy: 2.275094702837741\n"
     ]
    },
    {
     "name": "stderr",
     "output_type": "stream",
     "text": [
      "Training:  62%|██████▏   | 124/200 [00:04<00:02, 32.27epoch/s]"
     ]
    },
    {
     "name": "stdout",
     "output_type": "stream",
     "text": [
      "Epoch 121/200, Cross Entropy: 2.275094702837741\n",
      "Epoch 122/200, Cross Entropy: 2.275094702837741\n",
      "Epoch 123/200, Cross Entropy: 2.275094702837741\n",
      "Epoch 124/200, Cross Entropy: 2.275094702837741\n",
      "Epoch 125/200, Cross Entropy: 2.275094702837741\n",
      "Epoch 126/200, Cross Entropy: 2.275094702837741\n",
      "Epoch 127/200, Cross Entropy: 2.275094702837741\n"
     ]
    },
    {
     "name": "stderr",
     "output_type": "stream",
     "text": [
      "                                                              "
     ]
    },
    {
     "name": "stdout",
     "output_type": "stream",
     "text": [
      "Epoch 128/200, Cross Entropy: 2.275094702837741\n",
      "Epoch 129/200, Cross Entropy: 2.275094702837741\n",
      "Epoch 130/200, Cross Entropy: 2.275094702837741\n",
      "Epoch 131/200, Cross Entropy: 2.275094702837741\n",
      "Epoch 132/200, Cross Entropy: 2.275094702837741\n",
      "Epoch 133/200, Cross Entropy: 2.275094702837741\n"
     ]
    },
    {
     "name": "stderr",
     "output_type": "stream",
     "text": [
      "Training:  68%|██████▊   | 136/200 [00:04<00:01, 32.26epoch/s]"
     ]
    },
    {
     "name": "stdout",
     "output_type": "stream",
     "text": [
      "Epoch 134/200, Cross Entropy: 2.275094702837741\n",
      "Epoch 135/200, Cross Entropy: 2.275094702837741\n",
      "Epoch 136/200, Cross Entropy: 2.275094702837741\n",
      "Epoch 137/200, Cross Entropy: 2.275094702837741\n",
      "Epoch 138/200, Cross Entropy: 2.275094702837741\n",
      "Epoch 139/200, Cross Entropy: 2.275094702837741\n"
     ]
    },
    {
     "name": "stderr",
     "output_type": "stream",
     "text": [
      "Training:  72%|███████▏  | 144/200 [00:04<00:01, 31.38epoch/s]"
     ]
    },
    {
     "name": "stdout",
     "output_type": "stream",
     "text": [
      "Epoch 140/200, Cross Entropy: 2.275094702837741\n",
      "Epoch 141/200, Cross Entropy: 2.275094702837741\n",
      "Epoch 142/200, Cross Entropy: 2.275094702837741\n",
      "Epoch 143/200, Cross Entropy: 2.275094702837741\n",
      "Epoch 144/200, Cross Entropy: 2.275094702837741\n",
      "Epoch 145/200, Cross Entropy: 2.275094702837741\n"
     ]
    },
    {
     "name": "stderr",
     "output_type": "stream",
     "text": [
      "Training:  76%|███████▌  | 152/200 [00:05<00:01, 33.19epoch/s]"
     ]
    },
    {
     "name": "stdout",
     "output_type": "stream",
     "text": [
      "Epoch 146/200, Cross Entropy: 2.275094702837741\n",
      "Epoch 147/200, Cross Entropy: 2.275094702837741\n",
      "Epoch 148/200, Cross Entropy: 2.275094702837741\n",
      "Epoch 149/200, Cross Entropy: 2.275094702837741\n",
      "Epoch 150/200, Cross Entropy: 2.275094702837741\n",
      "Epoch 151/200, Cross Entropy: 2.275094702837741\n",
      "Epoch 152/200, Cross Entropy: 2.275094702837741\n"
     ]
    },
    {
     "name": "stderr",
     "output_type": "stream",
     "text": [
      "Training:  78%|███████▊  | 156/200 [00:05<00:01, 33.48epoch/s]"
     ]
    },
    {
     "name": "stdout",
     "output_type": "stream",
     "text": [
      "Epoch 153/200, Cross Entropy: 2.275094702837741\n",
      "Epoch 154/200, Cross Entropy: 2.275094702837741\n",
      "Epoch 155/200, Cross Entropy: 2.275094702837741\n",
      "Epoch 156/200, Cross Entropy: 2.275094702837741\n",
      "Epoch 157/200, Cross Entropy: 2.275094702837741\n",
      "Epoch 158/200, Cross Entropy: 2.275094702837741\n",
      "Epoch 159/200, Cross Entropy: 2.275094702837741\n"
     ]
    },
    {
     "name": "stderr",
     "output_type": "stream",
     "text": [
      "Training:  82%|████████▏ | 164/200 [00:05<00:01, 33.60epoch/s]"
     ]
    },
    {
     "name": "stdout",
     "output_type": "stream",
     "text": [
      "Epoch 160/200, Cross Entropy: 2.275094702837741\n",
      "Epoch 161/200, Cross Entropy: 2.275094702837741\n",
      "Epoch 162/200, Cross Entropy: 2.275094702837741\n",
      "Epoch 163/200, Cross Entropy: 2.275094702837741\n",
      "Epoch 164/200, Cross Entropy: 2.275094702837741\n",
      "Epoch 165/200, Cross Entropy: 2.275094702837741\n"
     ]
    },
    {
     "name": "stderr",
     "output_type": "stream",
     "text": [
      "Training:  86%|████████▌ | 172/200 [00:05<00:00, 34.43epoch/s]"
     ]
    },
    {
     "name": "stdout",
     "output_type": "stream",
     "text": [
      "Epoch 166/200, Cross Entropy: 2.275094702837741\n",
      "Epoch 167/200, Cross Entropy: 2.275094702837741\n",
      "Epoch 168/200, Cross Entropy: 2.275094702837741\n",
      "Epoch 169/200, Cross Entropy: 2.275094702837741\n",
      "Epoch 170/200, Cross Entropy: 2.275094702837741\n",
      "Epoch 171/200, Cross Entropy: 2.275094702837741\n",
      "Epoch 172/200, Cross Entropy: 2.275094702837741\n"
     ]
    },
    {
     "name": "stderr",
     "output_type": "stream",
     "text": [
      "Training:  88%|████████▊ | 176/200 [00:05<00:00, 33.92epoch/s]"
     ]
    },
    {
     "name": "stdout",
     "output_type": "stream",
     "text": [
      "Epoch 173/200, Cross Entropy: 2.275094702837741\n",
      "Epoch 174/200, Cross Entropy: 2.275094702837741\n",
      "Epoch 175/200, Cross Entropy: 2.275094702837741\n",
      "Epoch 176/200, Cross Entropy: 2.275094702837741\n",
      "Epoch 177/200, Cross Entropy: 2.275094702837741\n"
     ]
    },
    {
     "name": "stderr",
     "output_type": "stream",
     "text": [
      "Training:  90%|█████████ | 180/200 [00:06<00:00, 22.44epoch/s]"
     ]
    },
    {
     "name": "stdout",
     "output_type": "stream",
     "text": [
      "Epoch 178/200, Cross Entropy: 2.275094702837741\n",
      "Epoch 179/200, Cross Entropy: 2.275094702837741\n",
      "Epoch 180/200, Cross Entropy: 2.275094702837741\n",
      "Epoch 181/200, Cross Entropy: 2.275094702837741\n",
      "Epoch 182/200, Cross Entropy: 2.275094702837741\n"
     ]
    },
    {
     "name": "stderr",
     "output_type": "stream",
     "text": [
      "Training:  93%|█████████▎| 186/200 [00:06<00:00, 23.96epoch/s]"
     ]
    },
    {
     "name": "stdout",
     "output_type": "stream",
     "text": [
      "Epoch 183/200, Cross Entropy: 2.275094702837741\n",
      "Epoch 184/200, Cross Entropy: 2.275094702837741\n",
      "Epoch 185/200, Cross Entropy: 2.275094702837741\n",
      "Epoch 186/200, Cross Entropy: 2.275094702837741\n",
      "Epoch 187/200, Cross Entropy: 2.275094702837741\n",
      "Epoch 188/200, Cross Entropy: 2.275094702837741\n"
     ]
    },
    {
     "name": "stderr",
     "output_type": "stream",
     "text": [
      "Training:  96%|█████████▋| 193/200 [00:06<00:00, 26.71epoch/s]"
     ]
    },
    {
     "name": "stdout",
     "output_type": "stream",
     "text": [
      "Epoch 189/200, Cross Entropy: 2.275094702837741\n",
      "Epoch 190/200, Cross Entropy: 2.275094702837741\n",
      "Epoch 191/200, Cross Entropy: 2.275094702837741\n",
      "Epoch 192/200, Cross Entropy: 2.275094702837741\n",
      "Epoch 193/200, Cross Entropy: 2.275094702837741\n",
      "Epoch 194/200, Cross Entropy: 2.275094702837741\n"
     ]
    },
    {
     "name": "stderr",
     "output_type": "stream",
     "text": [
      "Training:  98%|█████████▊| 196/200 [00:06<00:00, 25.98epoch/s]"
     ]
    },
    {
     "name": "stdout",
     "output_type": "stream",
     "text": [
      "Epoch 195/200, Cross Entropy: 2.275094702837741\n",
      "Epoch 196/200, Cross Entropy: 2.275094702837741\n",
      "Epoch 197/200, Cross Entropy: 2.275094702837741\n",
      "Epoch 198/200, Cross Entropy: 2.275094702837741\n"
     ]
    },
    {
     "name": "stderr",
     "output_type": "stream",
     "text": [
      "Training: 100%|██████████| 200/200 [00:06<00:00, 28.98epoch/s]\n"
     ]
    },
    {
     "name": "stdout",
     "output_type": "stream",
     "text": [
      "Epoch 199/200, Cross Entropy: 2.275094702837741\n",
      "Epoch 200/200, Cross Entropy: 2.275094702837741\n"
     ]
    },
    {
     "name": "stderr",
     "output_type": "stream",
     "text": [
      "Training:   0%|          | 0/200 [00:00<?, ?epoch/s]"
     ]
    },
    {
     "name": "stdout",
     "output_type": "stream",
     "text": [
      "Epoch 1/200, Cross Entropy: 2.0706080558309536\n"
     ]
    },
    {
     "name": "stderr",
     "output_type": "stream",
     "text": [
      "Training:   2%|▎         | 5/200 [00:00<00:09, 20.87epoch/s]"
     ]
    },
    {
     "name": "stdout",
     "output_type": "stream",
     "text": [
      "Epoch 2/200, Cross Entropy: 1.96208293200365\n",
      "Epoch 3/200, Cross Entropy: 1.9011002593636774\n",
      "Epoch 4/200, Cross Entropy: 1.8652971144770198\n",
      "Epoch 5/200, Cross Entropy: 1.842998464993618\n"
     ]
    },
    {
     "name": "stderr",
     "output_type": "stream",
     "text": [
      "Training:   2%|▎         | 5/200 [00:00<00:09, 20.87epoch/s]"
     ]
    },
    {
     "name": "stdout",
     "output_type": "stream",
     "text": [
      "Epoch 6/200, Cross Entropy: 1.8282361508840688\n"
     ]
    },
    {
     "name": "stderr",
     "output_type": "stream",
     "text": [
      "Training:   6%|▌         | 12/200 [00:00<00:06, 28.24epoch/s]"
     ]
    },
    {
     "name": "stdout",
     "output_type": "stream",
     "text": [
      "Epoch 7/200, Cross Entropy: 1.817948910535317\n",
      "Epoch 8/200, Cross Entropy: 1.8104881014613787\n",
      "Epoch 9/200, Cross Entropy: 1.804909035033237\n",
      "Epoch 10/200, Cross Entropy: 1.8006367122782347\n",
      "Epoch 11/200, Cross Entropy: 1.7973020955776449\n",
      "Epoch 12/200, Cross Entropy: 1.7946576460901162\n"
     ]
    },
    {
     "name": "stderr",
     "output_type": "stream",
     "text": [
      "Training:   6%|▌         | 12/200 [00:00<00:06, 28.24epoch/s]"
     ]
    },
    {
     "name": "stdout",
     "output_type": "stream",
     "text": [
      "Epoch 13/200, Cross Entropy: 1.7925312966008122\n"
     ]
    },
    {
     "name": "stderr",
     "output_type": "stream",
     "text": [
      "Training:   8%|▊         | 16/200 [00:00<00:06, 29.84epoch/s]"
     ]
    },
    {
     "name": "stdout",
     "output_type": "stream",
     "text": [
      "Epoch 14/200, Cross Entropy: 1.7908000028275068\n",
      "Epoch 15/200, Cross Entropy: 1.7893737826448022\n",
      "Epoch 16/200, Cross Entropy: 1.7881856538106262\n",
      "Epoch 17/200, Cross Entropy: 1.7871850437563048\n",
      "Epoch 18/200, Cross Entropy: 1.7863333301849287\n"
     ]
    },
    {
     "name": "stderr",
     "output_type": "stream",
     "text": [
      "Training:   8%|▊         | 16/200 [00:00<00:06, 29.84epoch/s]"
     ]
    },
    {
     "name": "stdout",
     "output_type": "stream",
     "text": [
      "Epoch 19/200, Cross Entropy: 1.7856007392712498\n"
     ]
    },
    {
     "name": "stderr",
     "output_type": "stream",
     "text": [
      "Training:  12%|█▏        | 23/200 [00:00<00:06, 29.06epoch/s]"
     ]
    },
    {
     "name": "stdout",
     "output_type": "stream",
     "text": [
      "Epoch 20/200, Cross Entropy: 1.784964137971177\n",
      "Epoch 21/200, Cross Entropy: 1.784405432450861\n",
      "Epoch 22/200, Cross Entropy: 1.7839103877588252\n",
      "Epoch 23/200, Cross Entropy: 1.7834677465284863\n",
      "Epoch 24/200, Cross Entropy: 1.7830685637933115\n"
     ]
    },
    {
     "name": "stderr",
     "output_type": "stream",
     "text": [
      "Training:  15%|█▌        | 30/200 [00:01<00:05, 29.28epoch/s]"
     ]
    },
    {
     "name": "stdout",
     "output_type": "stream",
     "text": [
      "Epoch 25/200, Cross Entropy: 1.7827057003599003\n",
      "Epoch 26/200, Cross Entropy: 1.7823734339920485\n",
      "Epoch 27/200, Cross Entropy: 1.7820671590649126\n",
      "Epoch 28/200, Cross Entropy: 1.7817831532540602\n",
      "Epoch 29/200, Cross Entropy: 1.7815183954064242\n",
      "Epoch 30/200, Cross Entropy: 1.781270422746028\n"
     ]
    },
    {
     "name": "stderr",
     "output_type": "stream",
     "text": [
      "Training:  17%|█▋        | 34/200 [00:01<00:05, 30.06epoch/s]"
     ]
    },
    {
     "name": "stdout",
     "output_type": "stream",
     "text": [
      "Epoch 31/200, Cross Entropy: 1.7810372184821837\n",
      "Epoch 32/200, Cross Entropy: 1.7808171230343377\n",
      "Epoch 33/200, Cross Entropy: 1.7806087636845498\n",
      "Epoch 34/200, Cross Entropy: 1.7804109986669112\n",
      "Epoch 35/200, Cross Entropy: 1.7802228726092604\n",
      "Epoch 36/200, Cross Entropy: 1.780043580932078\n"
     ]
    },
    {
     "name": "stderr",
     "output_type": "stream",
     "text": [
      "Training:  20%|██        | 41/200 [00:01<00:05, 27.60epoch/s]"
     ]
    },
    {
     "name": "stdout",
     "output_type": "stream",
     "text": [
      "Epoch 37/200, Cross Entropy: 1.7798724413371663\n",
      "Epoch 38/200, Cross Entropy: 1.7797088709246673\n",
      "Epoch 39/200, Cross Entropy: 1.7795523677906382\n",
      "Epoch 40/200, Cross Entropy: 1.7794024962007675\n",
      "Epoch 41/200, Cross Entropy: 1.7792588746253695\n"
     ]
    },
    {
     "name": "stderr",
     "output_type": "stream",
     "text": [
      "Training:  22%|██▏       | 44/200 [00:01<00:05, 26.65epoch/s]"
     ]
    },
    {
     "name": "stdout",
     "output_type": "stream",
     "text": [
      "Epoch 42/200, Cross Entropy: 1.7791211660689192\n",
      "Epoch 43/200, Cross Entropy: 1.7789890702435796\n",
      "Epoch 44/200, Cross Entropy: 1.7788623172275557\n",
      "Epoch 45/200, Cross Entropy: 1.7787406623212185\n",
      "Epoch 46/200, Cross Entropy: 1.7786238818710252\n"
     ]
    },
    {
     "name": "stderr",
     "output_type": "stream",
     "text": [
      "Training:  26%|██▌       | 51/200 [00:01<00:05, 27.81epoch/s]"
     ]
    },
    {
     "name": "stdout",
     "output_type": "stream",
     "text": [
      "Epoch 47/200, Cross Entropy: 1.7785117698765476\n",
      "Epoch 48/200, Cross Entropy: 1.7784041352319604\n",
      "Epoch 49/200, Cross Entropy: 1.7783007994821176\n",
      "Epoch 50/200, Cross Entropy: 1.7782015949963288\n",
      "Epoch 51/200, Cross Entropy: 1.778106363481428\n",
      "Epoch 52/200, Cross Entropy: 1.7780149547705246\n"
     ]
    },
    {
     "name": "stderr",
     "output_type": "stream",
     "text": [
      "Training:  28%|██▊       | 57/200 [00:02<00:05, 27.51epoch/s]"
     ]
    },
    {
     "name": "stdout",
     "output_type": "stream",
     "text": [
      "Epoch 53/200, Cross Entropy: 1.77792722583581\n",
      "Epoch 54/200, Cross Entropy: 1.7778430399834195\n",
      "Epoch 55/200, Cross Entropy: 1.77776226619617\n",
      "Epoch 56/200, Cross Entropy: 1.7776847785963228\n",
      "Epoch 57/200, Cross Entropy: 1.7776104560056578\n"
     ]
    },
    {
     "name": "stderr",
     "output_type": "stream",
     "text": [
      "Training:  30%|███       | 60/200 [00:02<00:05, 27.73epoch/s]"
     ]
    },
    {
     "name": "stdout",
     "output_type": "stream",
     "text": [
      "Epoch 58/200, Cross Entropy: 1.7775391815843413\n",
      "Epoch 59/200, Cross Entropy: 1.7774708425334693\n",
      "Epoch 60/200, Cross Entropy: 1.777405329848954\n",
      "Epoch 61/200, Cross Entropy: 1.7773425381167094\n",
      "Epoch 62/200, Cross Entropy: 1.7772823653409269\n",
      "Epoch 63/200, Cross Entropy: 1.7772247127987817\n"
     ]
    },
    {
     "name": "stderr",
     "output_type": "stream",
     "text": [
      "Training:  34%|███▎      | 67/200 [00:02<00:04, 27.68epoch/s]"
     ]
    },
    {
     "name": "stdout",
     "output_type": "stream",
     "text": [
      "Epoch 64/200, Cross Entropy: 1.7771694849161457\n",
      "Epoch 65/200, Cross Entropy: 1.7771165891599066\n",
      "Epoch 66/200, Cross Entropy: 1.7770659359433374\n",
      "Epoch 67/200, Cross Entropy: 1.777017438541651\n",
      "Epoch 68/200, Cross Entropy: 1.7769710130154248\n"
     ]
    },
    {
     "name": "stderr",
     "output_type": "stream",
     "text": [
      "Training:  36%|███▌      | 71/200 [00:02<00:04, 29.10epoch/s]"
     ]
    },
    {
     "name": "stdout",
     "output_type": "stream",
     "text": [
      "Epoch 69/200, Cross Entropy: 1.7769265781400612\n",
      "Epoch 70/200, Cross Entropy: 1.7768840553398177\n",
      "Epoch 71/200, Cross Entropy: 1.7768433686252514\n",
      "Epoch 72/200, Cross Entropy: 1.7768044445331697\n",
      "Epoch 73/200, Cross Entropy: 1.7767672120684033\n"
     ]
    },
    {
     "name": "stderr",
     "output_type": "stream",
     "text": [
      "Training:  37%|███▋      | 74/200 [00:02<00:04, 26.80epoch/s]"
     ]
    },
    {
     "name": "stdout",
     "output_type": "stream",
     "text": [
      "Epoch 74/200, Cross Entropy: 1.7767316026468556\n",
      "Epoch 75/200, Cross Entropy: 1.776697550039442\n"
     ]
    },
    {
     "name": "stderr",
     "output_type": "stream",
     "text": [
      "Training:  38%|███▊      | 77/200 [00:03<00:09, 12.88epoch/s]"
     ]
    },
    {
     "name": "stdout",
     "output_type": "stream",
     "text": [
      "Epoch 76/200, Cross Entropy: 1.7766649903166307\n",
      "Epoch 77/200, Cross Entropy: 1.776633861793382\n",
      "Epoch 78/200, Cross Entropy: 1.7766041049743535\n"
     ]
    },
    {
     "name": "stderr",
     "output_type": "stream",
     "text": [
      "Training:  42%|████▏     | 84/200 [00:03<00:06, 17.95epoch/s]"
     ]
    },
    {
     "name": "stdout",
     "output_type": "stream",
     "text": [
      "Epoch 79/200, Cross Entropy: 1.7765756624992985\n",
      "Epoch 80/200, Cross Entropy: 1.7765484790886155\n",
      "Epoch 81/200, Cross Entropy: 1.776522501489054\n",
      "Epoch 82/200, Cross Entropy: 1.7764976784195898\n",
      "Epoch 83/200, Cross Entropy: 1.7764739605175155\n",
      "Epoch 84/200, Cross Entropy: 1.776451300284796\n"
     ]
    },
    {
     "name": "stderr",
     "output_type": "stream",
     "text": [
      "Training:  44%|████▍     | 88/200 [00:03<00:05, 21.76epoch/s]"
     ]
    },
    {
     "name": "stdout",
     "output_type": "stream",
     "text": [
      "Epoch 85/200, Cross Entropy: 1.7764296520347496\n",
      "Epoch 86/200, Cross Entropy: 1.7764089718391218\n",
      "Epoch 87/200, Cross Entropy: 1.776389217475613\n",
      "Epoch 88/200, Cross Entropy: 1.7763703483759419\n",
      "Epoch 89/200, Cross Entropy: 1.7763523255744953\n",
      "Epoch 90/200, Cross Entropy: 1.7763351116576402\n",
      "Epoch 91/200, Cross Entropy: 1.7763186707137535\n"
     ]
    },
    {
     "name": "stderr",
     "output_type": "stream",
     "text": [
      "                                                             \r"
     ]
    },
    {
     "name": "stdout",
     "output_type": "stream",
     "text": [
      "Epoch 92/200, Cross Entropy: 1.7763029682840243\n",
      "Epoch 93/200, Cross Entropy: 1.7762879713140869\n",
      "Epoch 94/200, Cross Entropy: 1.7762736481065218\n",
      "Epoch 95/200, Cross Entropy: 1.7762599682742757\n",
      "Epoch 96/200, Cross Entropy: 1.7762469026950327\n",
      "Epoch 97/200, Cross Entropy: 1.776234423466562\n"
     ]
    },
    {
     "name": "stderr",
     "output_type": "stream",
     "text": [
      "Training:  50%|█████     | 100/200 [00:04<00:03, 28.01epoch/s]"
     ]
    },
    {
     "name": "stdout",
     "output_type": "stream",
     "text": [
      "Epoch 98/200, Cross Entropy: 1.7762225038630866\n",
      "Epoch 99/200, Cross Entropy: 1.776211118292673\n",
      "Epoch 100/200, Cross Entropy: 1.7762002422556757\n",
      "Epoch 101/200, Cross Entropy: 1.776189852304244\n",
      "Epoch 102/200, Cross Entropy: 1.7761799260028972\n",
      "Epoch 103/200, Cross Entropy: 1.776170441890183\n"
     ]
    },
    {
     "name": "stderr",
     "output_type": "stream",
     "text": [
      "Training:  54%|█████▍    | 108/200 [00:04<00:03, 28.51epoch/s]"
     ]
    },
    {
     "name": "stdout",
     "output_type": "stream",
     "text": [
      "Epoch 104/200, Cross Entropy: 1.7761613794414068\n",
      "Epoch 105/200, Cross Entropy: 1.776152719032448\n",
      "Epoch 106/200, Cross Entropy: 1.7761444419046448\n",
      "Epoch 107/200, Cross Entropy: 1.77613653013075\n",
      "Epoch 108/200, Cross Entropy: 1.7761289665819415\n",
      "Epoch 109/200, Cross Entropy: 1.7761217348958844\n"
     ]
    },
    {
     "name": "stderr",
     "output_type": "stream",
     "text": [
      "Training:  56%|█████▌    | 112/200 [00:04<00:03, 28.91epoch/s]"
     ]
    },
    {
     "name": "stdout",
     "output_type": "stream",
     "text": [
      "Epoch 110/200, Cross Entropy: 1.7761148194458243\n",
      "Epoch 111/200, Cross Entropy: 1.7761082053107011\n",
      "Epoch 112/200, Cross Entropy: 1.7761018782462656\n",
      "Epoch 113/200, Cross Entropy: 1.7760958246571803\n",
      "Epoch 114/200, Cross Entropy: 1.7760900315700887\n",
      "Epoch 115/200, Cross Entropy: 1.7760844866076286\n"
     ]
    },
    {
     "name": "stderr",
     "output_type": "stream",
     "text": [
      "Training:  60%|█████▉    | 119/200 [00:04<00:02, 28.96epoch/s]"
     ]
    },
    {
     "name": "stdout",
     "output_type": "stream",
     "text": [
      "Epoch 116/200, Cross Entropy: 1.7760791779633727\n",
      "Epoch 117/200, Cross Entropy: 1.7760740943776736\n",
      "Epoch 118/200, Cross Entropy: 1.7760692251143921\n",
      "Epoch 119/200, Cross Entropy: 1.7760645599384866\n",
      "Epoch 120/200, Cross Entropy: 1.7760600890944367\n",
      "Epoch 121/200, Cross Entropy: 1.7760558032854887\n"
     ]
    },
    {
     "name": "stderr",
     "output_type": "stream",
     "text": [
      "Training:  64%|██████▎   | 127/200 [00:04<00:02, 31.82epoch/s]"
     ]
    },
    {
     "name": "stdout",
     "output_type": "stream",
     "text": [
      "Epoch 122/200, Cross Entropy: 1.7760516936536876\n",
      "Epoch 123/200, Cross Entropy: 1.776047751760683\n",
      "Epoch 124/200, Cross Entropy: 1.7760439695692773\n",
      "Epoch 125/200, Cross Entropy: 1.7760403394257036\n",
      "Epoch 126/200, Cross Entropy: 1.7760368540426008\n",
      "Epoch 127/200, Cross Entropy: 1.776033506482669\n",
      "Epoch 128/200, Cross Entropy: 1.7760302901429845\n"
     ]
    },
    {
     "name": "stderr",
     "output_type": "stream",
     "text": [
      "Training:  66%|██████▌   | 131/200 [00:05<00:02, 31.87epoch/s]"
     ]
    },
    {
     "name": "stdout",
     "output_type": "stream",
     "text": [
      "Epoch 129/200, Cross Entropy: 1.776027198739945\n",
      "Epoch 130/200, Cross Entropy: 1.7760242262948336\n",
      "Epoch 131/200, Cross Entropy: 1.7760213671199767\n",
      "Epoch 132/200, Cross Entropy: 1.776018615805468\n",
      "Epoch 133/200, Cross Entropy: 1.7760159672064517\n",
      "Epoch 134/200, Cross Entropy: 1.7760134164309338\n"
     ]
    },
    {
     "name": "stderr",
     "output_type": "stream",
     "text": [
      "Training:  70%|██████▉   | 139/200 [00:05<00:02, 30.09epoch/s]"
     ]
    },
    {
     "name": "stdout",
     "output_type": "stream",
     "text": [
      "Epoch 135/200, Cross Entropy: 1.7760109588281092\n",
      "Epoch 136/200, Cross Entropy: 1.7760085899771823\n",
      "Epoch 137/200, Cross Entropy: 1.7760063056766626\n",
      "Epoch 138/200, Cross Entropy: 1.7760041019341226\n",
      "Epoch 139/200, Cross Entropy: 1.7760019749563913\n",
      "Epoch 140/200, Cross Entropy: 1.7759999211401756\n"
     ]
    },
    {
     "name": "stderr",
     "output_type": "stream",
     "text": [
      "Training:  72%|███████▏  | 143/200 [00:05<00:01, 30.29epoch/s]"
     ]
    },
    {
     "name": "stdout",
     "output_type": "stream",
     "text": [
      "Epoch 141/200, Cross Entropy: 1.775997937063088\n",
      "Epoch 142/200, Cross Entropy: 1.7759960194750684\n",
      "Epoch 143/200, Cross Entropy: 1.7759941652901787\n",
      "Epoch 144/200, Cross Entropy: 1.7759923715787616\n",
      "Epoch 145/200, Cross Entropy: 1.7759906355599462\n",
      "Epoch 146/200, Cross Entropy: 1.7759889545944876\n"
     ]
    },
    {
     "name": "stderr",
     "output_type": "stream",
     "text": [
      "Training:  75%|███████▌  | 150/200 [00:05<00:01, 28.98epoch/s]"
     ]
    },
    {
     "name": "stdout",
     "output_type": "stream",
     "text": [
      "Epoch 147/200, Cross Entropy: 1.775987326177924\n",
      "Epoch 148/200, Cross Entropy: 1.7759857479340446\n",
      "Epoch 149/200, Cross Entropy: 1.7759842176086458\n",
      "Epoch 150/200, Cross Entropy: 1.7759827330635756\n",
      "Epoch 151/200, Cross Entropy: 1.7759812922710452\n",
      "Epoch 152/200, Cross Entropy: 1.7759798933082007\n"
     ]
    },
    {
     "name": "stderr",
     "output_type": "stream",
     "text": [
      "                                                              "
     ]
    },
    {
     "name": "stdout",
     "output_type": "stream",
     "text": [
      "Epoch 153/200, Cross Entropy: 1.7759785343519414\n",
      "Epoch 154/200, Cross Entropy: 1.7759772136739786\n",
      "Epoch 155/200, Cross Entropy: 1.7759759296361204\n",
      "Epoch 156/200, Cross Entropy: 1.7759746806857735\n",
      "Epoch 157/200, Cross Entropy: 1.775973465351657\n"
     ]
    },
    {
     "name": "stderr",
     "output_type": "stream",
     "text": [
      "Training:  80%|████████  | 161/200 [00:06<00:01, 26.95epoch/s]"
     ]
    },
    {
     "name": "stdout",
     "output_type": "stream",
     "text": [
      "Epoch 158/200, Cross Entropy: 1.775972282239713\n",
      "Epoch 159/200, Cross Entropy: 1.7759711300292094\n",
      "Epoch 160/200, Cross Entropy: 1.7759700074690241\n",
      "Epoch 161/200, Cross Entropy: 1.7759689133741077\n",
      "Epoch 162/200, Cross Entropy: 1.775967846622109\n"
     ]
    },
    {
     "name": "stderr",
     "output_type": "stream",
     "text": [
      "Training:  84%|████████▍ | 168/200 [00:06<00:01, 29.04epoch/s]"
     ]
    },
    {
     "name": "stdout",
     "output_type": "stream",
     "text": [
      "Epoch 163/200, Cross Entropy: 1.7759668061501628\n",
      "Epoch 164/200, Cross Entropy: 1.7759657909518303\n",
      "Epoch 165/200, Cross Entropy: 1.7759648000741843\n",
      "Epoch 166/200, Cross Entropy: 1.7759638326150369\n",
      "Epoch 167/200, Cross Entropy: 1.7759628877202958\n",
      "Epoch 168/200, Cross Entropy: 1.7759619645814528\n",
      "Epoch 169/200, Cross Entropy: 1.7759610624331899\n"
     ]
    },
    {
     "name": "stderr",
     "output_type": "stream",
     "text": [
      "Training:  88%|████████▊ | 176/200 [00:06<00:00, 32.87epoch/s]"
     ]
    },
    {
     "name": "stdout",
     "output_type": "stream",
     "text": [
      "Epoch 170/200, Cross Entropy: 1.7759601805511043\n",
      "Epoch 171/200, Cross Entropy: 1.7759593182495448\n",
      "Epoch 172/200, Cross Entropy: 1.7759584748795496\n",
      "Epoch 173/200, Cross Entropy: 1.7759576498268905\n",
      "Epoch 174/200, Cross Entropy: 1.7759568425102104\n",
      "Epoch 175/200, Cross Entropy: 1.775956052379253\n",
      "Epoch 176/200, Cross Entropy: 1.7759552789131825\n"
     ]
    },
    {
     "name": "stderr",
     "output_type": "stream",
     "text": [
      "Training:  88%|████████▊ | 176/200 [00:06<00:00, 32.87epoch/s]"
     ]
    },
    {
     "name": "stdout",
     "output_type": "stream",
     "text": [
      "Epoch 177/200, Cross Entropy: 1.7759545216189836\n",
      "Epoch 178/200, Cross Entropy: 1.775953780029944\n",
      "Epoch 179/200, Cross Entropy: 1.775953053704212\n"
     ]
    },
    {
     "name": "stderr",
     "output_type": "stream",
     "text": [
      "Training:  92%|█████████▏| 183/200 [00:06<00:00, 21.97epoch/s]"
     ]
    },
    {
     "name": "stdout",
     "output_type": "stream",
     "text": [
      "Epoch 180/200, Cross Entropy: 1.7759523422234273\n",
      "Epoch 181/200, Cross Entropy: 1.775951645191419\n",
      "Epoch 182/200, Cross Entropy: 1.7759509622329737\n",
      "Epoch 183/200, Cross Entropy: 1.7759502929926607\n",
      "Epoch 184/200, Cross Entropy: 1.7759496371337236\n"
     ]
    },
    {
     "name": "stderr",
     "output_type": "stream",
     "text": [
      "Training:  94%|█████████▍| 189/200 [00:07<00:00, 22.48epoch/s]"
     ]
    },
    {
     "name": "stdout",
     "output_type": "stream",
     "text": [
      "Epoch 185/200, Cross Entropy: 1.7759489943370235\n",
      "Epoch 186/200, Cross Entropy: 1.7759483643000376\n",
      "Epoch 187/200, Cross Entropy: 1.7759477467359148\n",
      "Epoch 188/200, Cross Entropy: 1.7759471413725727\n",
      "Epoch 189/200, Cross Entropy: 1.7759465479518461\n"
     ]
    },
    {
     "name": "stderr",
     "output_type": "stream",
     "text": [
      "Training:  96%|█████████▌| 192/200 [00:07<00:00, 22.89epoch/s]"
     ]
    },
    {
     "name": "stdout",
     "output_type": "stream",
     "text": [
      "Epoch 190/200, Cross Entropy: 1.77594596622868\n",
      "Epoch 191/200, Cross Entropy: 1.7759453959703653\n",
      "Epoch 192/200, Cross Entropy: 1.7759448369558122\n",
      "Epoch 193/200, Cross Entropy: 1.7759442889748658\n",
      "Epoch 194/200, Cross Entropy: 1.7759437518276553\n"
     ]
    },
    {
     "name": "stderr",
     "output_type": "stream",
     "text": [
      "Training:  99%|█████████▉| 198/200 [00:07<00:00, 24.23epoch/s]"
     ]
    },
    {
     "name": "stdout",
     "output_type": "stream",
     "text": [
      "Epoch 195/200, Cross Entropy: 1.7759432253239809\n",
      "Epoch 196/200, Cross Entropy: 1.775942709282731\n",
      "Epoch 197/200, Cross Entropy: 1.7759422035313321\n",
      "Epoch 198/200, Cross Entropy: 1.7759417079052326\n",
      "Epoch 199/200, Cross Entropy: 1.7759412222474051\n"
     ]
    },
    {
     "name": "stderr",
     "output_type": "stream",
     "text": [
      "Training: 100%|██████████| 200/200 [00:07<00:00, 26.16epoch/s]\n"
     ]
    },
    {
     "name": "stdout",
     "output_type": "stream",
     "text": [
      "Epoch 200/200, Cross Entropy: 1.7759407464078862\n",
      "Results saved to: ../results/layers/error_rates_layers_3_3layers_200_200_200_1000.txt\n",
      "\n",
      "--------- PRETRAINING PHASE --------\n",
      "\n"
     ]
    },
    {
     "name": "stderr",
     "output_type": "stream",
     "text": [
      "Epoch 0: 100%|██████████| 16/16 [00:00<00:00, 101.31it/s]r/s]\n",
      "Epoch 1: 100%|██████████| 16/16 [00:00<00:00, 126.19it/s]\n",
      "Epoch 2: 100%|██████████| 16/16 [00:00<00:00, 146.79it/s]\n",
      "Epoch 3: 100%|██████████| 16/16 [00:00<00:00, 137.93it/s]\n",
      "Epoch 4: 100%|██████████| 16/16 [00:00<00:00, 135.60it/s]\n",
      "Epoch 5: 100%|██████████| 16/16 [00:00<00:00, 142.86it/s]\n",
      "Epoch 6: 100%|██████████| 16/16 [00:00<00:00, 125.98it/s]\n",
      "Epoch 7: 100%|██████████| 16/16 [00:00<00:00, 170.21it/s]\n",
      "Epoch 8: 100%|██████████| 16/16 [00:00<00:00, 155.33it/s]\n",
      "Epoch 9: 100%|██████████| 16/16 [00:00<00:00, 160.01it/s]\n",
      "Epoch 10: 100%|██████████| 16/16 [00:00<00:00, 160.00it/s]\n",
      "Epoch 11: 100%|██████████| 16/16 [00:00<00:00, 140.35it/s]\n",
      "Epoch 12: 100%|██████████| 16/16 [00:00<00:00, 153.85it/s]\n",
      "Epoch 13: 100%|██████████| 16/16 [00:00<00:00, 155.34it/s]\n",
      "Epoch 14: 100%|██████████| 16/16 [00:00<00:00, 149.52it/s]\n",
      "Epoch 15: 100%|██████████| 16/16 [00:00<00:00, 148.14it/s]\n",
      "Epoch 16: 100%|██████████| 16/16 [00:00<00:00, 170.22it/s]\n",
      "Epoch 17: 100%|██████████| 16/16 [00:00<00:00, 163.26it/s]\n",
      "Epoch 18: 100%|██████████| 16/16 [00:00<00:00, 161.62it/s]\n",
      "Epoch 19: 100%|██████████| 16/16 [00:00<00:00, 141.97it/s]\n",
      "Epoch 20: 100%|██████████| 16/16 [00:00<00:00, 141.59it/s]\n",
      "Epoch 21: 100%|██████████| 16/16 [00:00<00:00, 148.93it/s]\n",
      "Epoch 22: 100%|██████████| 16/16 [00:00<00:00, 153.85it/s]\n",
      "Epoch 23: 100%|██████████| 16/16 [00:00<00:00, 149.53it/s]\n",
      "Epoch 24: 100%|██████████| 16/16 [00:00<00:00, 140.36it/s]\n",
      "Epoch 25: 100%|██████████| 16/16 [00:00<00:00, 172.04it/s]\n",
      "Epoch 26: 100%|██████████| 16/16 [00:00<00:00, 168.42it/s]\n",
      "Epoch 27: 100%|██████████| 16/16 [00:00<00:00, 155.34it/s]\n",
      "Epoch 28: 100%|██████████| 16/16 [00:00<00:00, 168.42it/s]\n",
      "Epoch 29: 100%|██████████| 16/16 [00:00<00:00, 148.15it/s]\n",
      "Epoch 30: 100%|██████████| 16/16 [00:00<00:00, 149.54it/s]\n",
      "Epoch 31: 100%|██████████| 16/16 [00:00<00:00, 153.85it/s]\n",
      "Epoch 32: 100%|██████████| 16/16 [00:00<00:00, 146.79it/s]\n",
      "Epoch 33: 100%|██████████| 16/16 [00:00<00:00, 142.86it/s]\n",
      "Epoch 34: 100%|██████████| 16/16 [00:00<00:00, 168.42it/s]\n",
      "Epoch 35: 100%|██████████| 16/16 [00:00<00:00, 173.91it/s]\n",
      "Epoch 36: 100%|██████████| 16/16 [00:00<00:00, 163.26it/s]\n",
      "Epoch 37: 100%|██████████| 16/16 [00:00<00:00, 166.67it/s]\n",
      "Epoch 38: 100%|██████████| 16/16 [00:00<00:00, 150.94it/s]\n",
      "Epoch 39: 100%|██████████| 16/16 [00:00<00:00, 150.95it/s]\n",
      "Epoch 40: 100%|██████████| 16/16 [00:00<00:00, 140.94it/s]\n",
      "Epoch 41: 100%|██████████| 16/16 [00:00<00:00, 138.06it/s]\n",
      "Epoch 42: 100%|██████████| 16/16 [00:00<00:00, 146.79it/s]\n",
      "Epoch 43: 100%|██████████| 16/16 [00:00<00:00, 163.27it/s]\n",
      "Epoch 44: 100%|██████████| 16/16 [00:00<00:00, 144.14it/s]\n",
      "Epoch 45: 100%|██████████| 16/16 [00:00<00:00, 126.98it/s]\n",
      "Epoch 46: 100%|██████████| 16/16 [00:00<00:00, 135.59it/s]\n",
      "Epoch 47: 100%|██████████| 16/16 [00:00<00:00, 117.65it/s]\n",
      "Epoch 48: 100%|██████████| 16/16 [00:00<00:00, 146.79it/s]\n",
      "Epoch 49: 100%|██████████| 16/16 [00:00<00:00, 134.45it/s]\n",
      "Epoch 50: 100%|██████████| 16/16 [00:00<00:00, 116.79it/s]\n",
      "Epoch 51: 100%|██████████| 16/16 [00:00<00:00, 139.13it/s]\n",
      "Epoch 52: 100%|██████████| 16/16 [00:00<00:00, 145.46it/s]\n",
      "Epoch 53: 100%|██████████| 16/16 [00:00<00:00, 43.72it/s] \n",
      "Epoch 54: 100%|██████████| 16/16 [00:00<00:00, 109.59it/s]\n",
      "Epoch 55: 100%|██████████| 16/16 [00:00<00:00, 122.14it/s]\n",
      "Epoch 56: 100%|██████████| 16/16 [00:00<00:00, 121.39it/s]\n",
      "Epoch 57: 100%|██████████| 16/16 [00:00<00:00, 99.68it/s] \n",
      "Epoch 58: 100%|██████████| 16/16 [00:00<00:00, 105.26it/s]\n",
      "Epoch 59: 100%|██████████| 16/16 [00:00<00:00, 82.47it/s]\n",
      "Epoch 60: 100%|██████████| 16/16 [00:00<00:00, 36.28it/s]\n",
      "Epoch 61: 100%|██████████| 16/16 [00:00<00:00, 118.52it/s]\n",
      "Epoch 62: 100%|██████████| 16/16 [00:00<00:00, 115.11it/s]\n",
      "Epoch 63: 100%|██████████| 16/16 [00:00<00:00, 124.03it/s]\n",
      "Epoch 64: 100%|██████████| 16/16 [00:00<00:00, 127.99it/s]\n",
      "Epoch 65: 100%|██████████| 16/16 [00:00<00:00, 116.79it/s]\n",
      "Epoch 66: 100%|██████████| 16/16 [00:00<00:00, 128.00it/s]\n",
      "Epoch 67: 100%|██████████| 16/16 [00:00<00:00, 102.56it/s]\n",
      "Epoch 68: 100%|██████████| 16/16 [00:00<00:00, 126.99it/s]\n",
      "Epoch 69: 100%|██████████| 16/16 [00:00<00:00, 135.01it/s]\n",
      "Epoch 70: 100%|██████████| 16/16 [00:00<00:00, 95.81it/s]\n",
      "Epoch 71: 100%|██████████| 16/16 [00:00<00:00, 122.54it/s]\n",
      "Epoch 72: 100%|██████████| 16/16 [00:00<00:00, 125.00it/s]\n",
      "Epoch 73: 100%|██████████| 16/16 [00:00<00:00, 85.10it/s]\n",
      "Epoch 74: 100%|██████████| 16/16 [00:00<00:00, 125.99it/s]\n",
      "Epoch 75: 100%|██████████| 16/16 [00:00<00:00, 142.86it/s]\n",
      "Epoch 76: 100%|██████████| 16/16 [00:00<00:00, 128.00it/s]\n",
      "Epoch 77: 100%|██████████| 16/16 [00:00<00:00, 110.33it/s]\n",
      "Epoch 78: 100%|██████████| 16/16 [00:00<00:00, 115.94it/s]\n",
      "Epoch 79: 100%|██████████| 16/16 [00:00<00:00, 131.15it/s]\n",
      "Epoch 80: 100%|██████████| 16/16 [00:00<00:00, 110.35it/s]\n",
      "Epoch 81: 100%|██████████| 16/16 [00:00<00:00, 106.67it/s]\n",
      "Epoch 82: 100%|██████████| 16/16 [00:00<00:00, 129.03it/s]\n",
      "Epoch 83: 100%|██████████| 16/16 [00:00<00:00, 120.29it/s]\n",
      "Epoch 84: 100%|██████████| 16/16 [00:00<00:00, 106.66it/s]\n",
      "Epoch 85: 100%|██████████| 16/16 [00:00<00:00, 105.58it/s]\n",
      "Epoch 86: 100%|██████████| 16/16 [00:00<00:00, 98.64it/s]\n",
      "Epoch 87: 100%|██████████| 16/16 [00:00<00:00, 110.35it/s]\n",
      "Epoch 88: 100%|██████████| 16/16 [00:00<00:00, 105.26it/s]\n",
      "Epoch 89: 100%|██████████| 16/16 [00:00<00:00, 105.27it/s]\n",
      "Epoch 90: 100%|██████████| 16/16 [00:00<00:00, 121.21it/s]\n",
      "Epoch 91: 100%|██████████| 16/16 [00:00<00:00, 112.68it/s]\n",
      "Epoch 92: 100%|██████████| 16/16 [00:00<00:00, 114.29it/s]\n",
      "Epoch 93: 100%|██████████| 16/16 [00:00<00:00, 125.01it/s]\n",
      "Epoch 94: 100%|██████████| 16/16 [00:00<00:00, 111.11it/s]\n",
      "Epoch 95: 100%|██████████| 16/16 [00:00<00:00, 104.58it/s]\n",
      "Epoch 96: 100%|██████████| 16/16 [00:00<00:00, 111.89it/s]\n",
      "Epoch 97: 100%|██████████| 16/16 [00:00<00:00, 110.34it/s]\n",
      "Epoch 98: 100%|██████████| 16/16 [00:00<00:00, 119.40it/s]\n",
      "Epoch 99: 100%|██████████| 16/16 [00:00<00:00, 115.94it/s]\n",
      "Epoch 0: 100%|██████████| 16/16 [00:00<00:00, 372.06it/s]3.63s/layer]\n",
      "Epoch 1: 100%|██████████| 16/16 [00:00<00:00, 296.31it/s]\n",
      "Epoch 2: 100%|██████████| 16/16 [00:00<00:00, 230.60it/s]\n",
      "Epoch 3: 100%|██████████| 16/16 [00:00<00:00, 296.29it/s]\n",
      "Epoch 4: 100%|██████████| 16/16 [00:00<00:00, 301.88it/s]\n",
      "Epoch 5: 100%|██████████| 16/16 [00:00<00:00, 297.20it/s]\n",
      "Epoch 6: 100%|██████████| 16/16 [00:00<00:00, 410.25it/s]\n",
      "Epoch 7: 100%|██████████| 16/16 [00:00<00:00, 179.78it/s]\n",
      "Epoch 8: 100%|██████████| 16/16 [00:00<00:00, 146.79it/s]\n",
      "Epoch 9: 100%|██████████| 16/16 [00:00<00:00, 50.63it/s]\n",
      "Epoch 10: 100%|██████████| 16/16 [00:00<00:00, 340.42it/s]\n",
      "Epoch 11: 100%|██████████| 16/16 [00:00<00:00, 470.62it/s]\n",
      "Epoch 12: 100%|██████████| 16/16 [00:00<00:00, 222.22it/s]\n",
      "Epoch 13: 100%|██████████| 16/16 [00:00<00:00, 262.29it/s]\n",
      "Epoch 14: 100%|██████████| 16/16 [00:00<00:00, 457.17it/s]\n",
      "Epoch 15: 100%|██████████| 16/16 [00:00<00:00, 444.40it/s]\n",
      "Epoch 16: 100%|██████████| 16/16 [00:00<00:00, 444.44it/s]\n",
      "Epoch 17: 100%|██████████| 16/16 [00:00<00:00, 484.86it/s]\n",
      "Epoch 18: 100%|██████████| 16/16 [00:00<00:00, 470.61it/s]\n",
      "Epoch 19: 100%|██████████| 16/16 [00:00<00:00, 457.12it/s]\n",
      "Epoch 20: 100%|██████████| 16/16 [00:00<00:00, 457.13it/s]\n",
      "Epoch 21: 100%|██████████| 16/16 [00:00<00:00, 444.33it/s]\n",
      "Epoch 22: 100%|██████████| 16/16 [00:00<00:00, 444.48it/s]\n",
      "Epoch 23: 100%|██████████| 16/16 [00:00<00:00, 355.54it/s]\n",
      "Epoch 24: 100%|██████████| 16/16 [00:00<00:00, 400.01it/s]\n",
      "Epoch 25: 100%|██████████| 16/16 [00:00<00:00, 421.01it/s]\n",
      "Epoch 26: 100%|██████████| 16/16 [00:00<00:00, 340.43it/s]\n",
      "Epoch 27: 100%|██████████| 16/16 [00:00<00:00, 421.06it/s]\n",
      "Epoch 28: 100%|██████████| 16/16 [00:00<00:00, 372.05it/s]\n",
      "Epoch 29: 100%|██████████| 16/16 [00:00<00:00, 410.26it/s]\n",
      "Epoch 30: 100%|██████████| 16/16 [00:00<00:00, 421.08it/s]\n",
      "Epoch 31: 100%|██████████| 16/16 [00:00<00:00, 380.95it/s]\n",
      "Epoch 32: 100%|██████████| 16/16 [00:00<00:00, 372.07it/s]\n",
      "Epoch 33: 100%|██████████| 16/16 [00:00<00:00, 410.30it/s]\n",
      "Epoch 34: 100%|██████████| 16/16 [00:00<00:00, 333.32it/s]\n",
      "Epoch 35: 100%|██████████| 16/16 [00:00<00:00, 363.64it/s]\n",
      "Epoch 36: 100%|██████████| 16/16 [00:00<00:00, 355.57it/s]\n",
      "Epoch 37: 100%|██████████| 16/16 [00:00<00:00, 432.46it/s]\n",
      "Epoch 38: 100%|██████████| 16/16 [00:00<00:00, 432.42it/s]\n",
      "Epoch 39: 100%|██████████| 16/16 [00:00<00:00, 372.08it/s]\n",
      "Epoch 40: 100%|██████████| 16/16 [00:00<00:00, 290.90it/s]\n",
      "Epoch 41: 100%|██████████| 16/16 [00:00<00:00, 317.59it/s]\n",
      "Epoch 42: 100%|██████████| 16/16 [00:00<00:00, 340.46it/s]\n",
      "Epoch 43: 100%|██████████| 16/16 [00:00<00:00, 313.44it/s]\n",
      "Epoch 44: 100%|██████████| 16/16 [00:00<00:00, 291.14it/s]\n",
      "Epoch 45: 100%|██████████| 16/16 [00:00<00:00, 341.80it/s]\n",
      "Epoch 46: 100%|██████████| 16/16 [00:00<00:00, 363.64it/s]\n",
      "Epoch 47: 100%|██████████| 16/16 [00:00<00:00, 355.58it/s]\n",
      "Epoch 48: 100%|██████████| 16/16 [00:00<00:00, 372.09it/s]\n",
      "Epoch 49: 100%|██████████| 16/16 [00:00<00:00, 410.18it/s]\n",
      "Epoch 50: 100%|██████████| 16/16 [00:00<00:00, 355.51it/s]\n",
      "Epoch 51: 100%|██████████| 16/16 [00:00<00:00, 390.24it/s]\n",
      "Epoch 52: 100%|██████████| 16/16 [00:00<00:00, 390.30it/s]\n",
      "Epoch 53: 100%|██████████| 16/16 [00:00<00:00, 400.01it/s]\n",
      "Epoch 54: 100%|██████████| 16/16 [00:00<00:00, 457.12it/s]\n",
      "Epoch 55: 100%|██████████| 16/16 [00:00<00:00, 410.25it/s]\n",
      "Epoch 56: 100%|██████████| 16/16 [00:00<00:00, 390.25it/s]\n",
      "Epoch 57: 100%|██████████| 16/16 [00:00<00:00, 410.24it/s]\n",
      "Epoch 58: 100%|██████████| 16/16 [00:00<00:00, 380.95it/s]\n",
      "Epoch 59: 100%|██████████| 16/16 [00:00<00:00, 372.13it/s]\n",
      "Epoch 60: 100%|██████████| 16/16 [00:00<00:00, 326.52it/s]\n",
      "Epoch 61: 100%|██████████| 16/16 [00:00<00:00, 340.40it/s]\n",
      "Epoch 62: 100%|██████████| 16/16 [00:00<00:00, 432.47it/s]\n",
      "Epoch 63: 100%|██████████| 16/16 [00:00<00:00, 421.07it/s]\n",
      "Epoch 64: 100%|██████████| 16/16 [00:00<00:00, 457.14it/s]\n",
      "Epoch 65: 100%|██████████| 16/16 [00:00<00:00, 421.04it/s]\n",
      "Epoch 66: 100%|██████████| 16/16 [00:00<00:00, 484.85it/s]\n",
      "Epoch 67: 100%|██████████| 16/16 [00:00<00:00, 421.06it/s]\n",
      "Epoch 68: 100%|██████████| 16/16 [00:00<00:00, 432.41it/s]\n",
      "Epoch 69: 100%|██████████| 16/16 [00:00<00:00, 470.61it/s]\n",
      "Epoch 70: 100%|██████████| 16/16 [00:00<00:00, 444.42it/s]\n",
      "Epoch 71: 100%|██████████| 16/16 [00:00<00:00, 470.58it/s]\n",
      "Epoch 72: 100%|██████████| 16/16 [00:00<00:00, 499.92it/s]\n",
      "Epoch 73: 100%|██████████| 16/16 [00:00<00:00, 444.44it/s]\n",
      "Epoch 74: 100%|██████████| 16/16 [00:00<00:00, 444.42it/s]\n",
      "Epoch 75: 100%|██████████| 16/16 [00:00<00:00, 399.99it/s]\n",
      "Epoch 76: 100%|██████████| 16/16 [00:00<00:00, 372.11it/s]\n",
      "Epoch 77: 100%|██████████| 16/16 [00:00<00:00, 363.63it/s]\n",
      "Epoch 78: 100%|██████████| 16/16 [00:00<00:00, 484.81it/s]\n",
      "Epoch 79: 100%|██████████| 16/16 [00:00<00:00, 400.03it/s]\n",
      "Epoch 80: 100%|██████████| 16/16 [00:00<00:00, 470.55it/s]\n",
      "Epoch 81: 100%|██████████| 16/16 [00:00<00:00, 355.54it/s]\n",
      "Epoch 82: 100%|██████████| 16/16 [00:00<00:00, 410.26it/s]\n",
      "Epoch 83: 100%|██████████| 16/16 [00:00<00:00, 333.34it/s]\n",
      "Epoch 84: 100%|██████████| 16/16 [00:00<00:00, 319.96it/s]\n",
      "Epoch 85: 100%|██████████| 16/16 [00:00<00:00, 200.02it/s]\n",
      "Epoch 86: 100%|██████████| 16/16 [00:00<00:00, 290.92it/s]\n",
      "Epoch 87: 100%|██████████| 16/16 [00:00<00:00, 470.59it/s]\n",
      "Epoch 88: 100%|██████████| 16/16 [00:00<00:00, 432.44it/s]\n",
      "Epoch 89: 100%|██████████| 16/16 [00:00<00:00, 382.29it/s]\n",
      "Epoch 90: 100%|██████████| 16/16 [00:00<00:00, 362.48it/s]\n",
      "Epoch 91: 100%|██████████| 16/16 [00:00<00:00, 416.31it/s]\n",
      "Epoch 92: 100%|██████████| 16/16 [00:00<00:00, 378.68it/s]\n",
      "Epoch 93: 100%|██████████| 16/16 [00:00<00:00, 319.43it/s]\n",
      "Epoch 94: 100%|██████████| 16/16 [00:00<00:00, 444.46it/s]\n",
      "Epoch 95: 100%|██████████| 16/16 [00:00<00:00, 477.39it/s]\n",
      "Epoch 96: 100%|██████████| 16/16 [00:00<00:00, 551.72it/s]\n",
      "Epoch 97: 100%|██████████| 16/16 [00:00<00:00, 421.03it/s]\n",
      "Epoch 98: 100%|██████████| 16/16 [00:00<00:00, 432.42it/s]\n",
      "Epoch 99: 100%|██████████| 16/16 [00:00<00:00, 444.45it/s]\n",
      "Epoch 0: 100%|██████████| 16/16 [00:00<00:00, 470.63it/s]8.68s/layer]\n",
      "Epoch 1: 100%|██████████| 16/16 [00:00<00:00, 432.41it/s]\n",
      "Epoch 2: 100%|██████████| 16/16 [00:00<00:00, 421.02it/s]\n",
      "Epoch 3: 100%|██████████| 16/16 [00:00<00:00, 470.63it/s]\n",
      "Epoch 4: 100%|██████████| 16/16 [00:00<00:00, 432.52it/s]\n",
      "Epoch 5: 100%|██████████| 16/16 [00:00<00:00, 432.43it/s]\n",
      "Epoch 6: 100%|██████████| 16/16 [00:00<00:00, 470.57it/s]\n",
      "Epoch 7: 100%|██████████| 16/16 [00:00<00:00, 432.44it/s]\n",
      "Epoch 8: 100%|██████████| 16/16 [00:00<00:00, 470.60it/s]\n",
      "Epoch 9: 100%|██████████| 16/16 [00:00<00:00, 457.15it/s]\n",
      "Epoch 10: 100%|██████████| 16/16 [00:00<00:00, 444.47it/s]\n",
      "Epoch 11: 100%|██████████| 16/16 [00:00<00:00, 470.59it/s]\n",
      "Epoch 12: 100%|██████████| 16/16 [00:00<00:00, 457.15it/s]\n",
      "Epoch 13: 100%|██████████| 16/16 [00:00<00:00, 421.09it/s]\n",
      "Epoch 14: 100%|██████████| 16/16 [00:00<00:00, 59.70it/s]\n",
      "Epoch 15: 100%|██████████| 16/16 [00:00<00:00, 457.17it/s]\n",
      "Epoch 16: 100%|██████████| 16/16 [00:00<00:00, 533.27it/s]\n",
      "Epoch 17: 100%|██████████| 16/16 [00:00<00:00, 470.63it/s]\n",
      "Epoch 18: 100%|██████████| 16/16 [00:00<00:00, 347.80it/s]\n",
      "Epoch 19: 100%|██████████| 16/16 [00:00<00:00, 457.14it/s]\n",
      "Epoch 20: 100%|██████████| 16/16 [00:00<00:00, 516.08it/s]\n",
      "Epoch 21: 100%|██████████| 16/16 [00:00<00:00, 470.61it/s]\n",
      "Epoch 22: 100%|██████████| 16/16 [00:00<00:00, 470.59it/s]\n",
      "Epoch 23: 100%|██████████| 16/16 [00:00<00:00, 470.56it/s]\n",
      "Epoch 24: 100%|██████████| 16/16 [00:00<00:00, 421.13it/s]\n",
      "Epoch 25: 100%|██████████| 16/16 [00:00<00:00, 457.17it/s]\n",
      "Epoch 26: 100%|██████████| 16/16 [00:00<00:00, 457.22it/s]\n",
      "Epoch 27: 100%|██████████| 16/16 [00:00<00:00, 457.19it/s]\n",
      "Epoch 28: 100%|██████████| 16/16 [00:00<00:00, 363.66it/s]\n",
      "Epoch 29: 100%|██████████| 16/16 [00:00<00:00, 410.24it/s]\n",
      "Epoch 30: 100%|██████████| 16/16 [00:00<00:00, 390.23it/s]\n",
      "Epoch 31: 100%|██████████| 16/16 [00:00<00:00, 390.23it/s]\n",
      "Epoch 32: 100%|██████████| 16/16 [00:00<00:00, 421.08it/s]\n",
      "Epoch 33: 100%|██████████| 16/16 [00:00<00:00, 444.50it/s]\n",
      "Epoch 34: 100%|██████████| 16/16 [00:00<00:00, 421.09it/s]\n",
      "Epoch 35: 100%|██████████| 16/16 [00:00<00:00, 242.44it/s]\n",
      "Epoch 36: 100%|██████████| 16/16 [00:00<00:00, 285.37it/s]\n",
      "Epoch 37: 100%|██████████| 16/16 [00:00<00:00, 301.90it/s]\n",
      "Epoch 38: 100%|██████████| 16/16 [00:00<00:00, 299.52it/s]\n",
      "Epoch 39: 100%|██████████| 16/16 [00:00<00:00, 311.00it/s]\n",
      "Epoch 40: 100%|██████████| 16/16 [00:00<00:00, 426.44it/s]\n",
      "Epoch 41: 100%|██████████| 16/16 [00:00<00:00, 421.00it/s]\n",
      "Epoch 42: 100%|██████████| 16/16 [00:00<00:00, 380.97it/s]\n",
      "Epoch 43: 100%|██████████| 16/16 [00:00<00:00, 380.99it/s]\n",
      "Epoch 44: 100%|██████████| 16/16 [00:00<00:00, 410.29it/s]\n",
      "Epoch 45: 100%|██████████| 16/16 [00:00<00:00, 457.09it/s]\n",
      "Epoch 46: 100%|██████████| 16/16 [00:00<00:00, 421.08it/s]\n",
      "Epoch 47: 100%|██████████| 16/16 [00:00<00:00, 432.45it/s]\n",
      "Epoch 48: 100%|██████████| 16/16 [00:00<00:00, 390.24it/s]\n",
      "Epoch 49: 100%|██████████| 16/16 [00:00<00:00, 355.52it/s]\n",
      "Epoch 50: 100%|██████████| 16/16 [00:00<00:00, 380.97it/s]\n",
      "Epoch 51: 100%|██████████| 16/16 [00:00<00:00, 390.24it/s]\n",
      "Epoch 52: 100%|██████████| 16/16 [00:00<00:00, 380.99it/s]\n",
      "Epoch 53: 100%|██████████| 16/16 [00:00<00:00, 444.44it/s]\n",
      "Epoch 54: 100%|██████████| 16/16 [00:00<00:00, 410.27it/s]\n",
      "Epoch 55: 100%|██████████| 16/16 [00:00<00:00, 390.06it/s]\n",
      "Epoch 56: 100%|██████████| 16/16 [00:00<00:00, 399.99it/s]\n",
      "Epoch 57: 100%|██████████| 16/16 [00:00<00:00, 380.97it/s]\n",
      "Epoch 58: 100%|██████████| 16/16 [00:00<00:00, 363.65it/s]\n",
      "Epoch 59: 100%|██████████| 16/16 [00:00<00:00, 410.23it/s]\n",
      "Epoch 60: 100%|██████████| 16/16 [00:00<00:00, 484.86it/s]\n",
      "Epoch 61: 100%|██████████| 16/16 [00:00<00:00, 372.04it/s]\n",
      "Epoch 62: 100%|██████████| 16/16 [00:00<00:00, 340.42it/s]\n",
      "Epoch 63: 100%|██████████| 16/16 [00:00<00:00, 410.30it/s]\n",
      "Epoch 64: 100%|██████████| 16/16 [00:00<00:00, 421.05it/s]\n",
      "Epoch 65: 100%|██████████| 16/16 [00:00<00:00, 380.98it/s]\n",
      "Epoch 66: 100%|██████████| 16/16 [00:00<00:00, 399.99it/s]\n",
      "Epoch 67: 100%|██████████| 16/16 [00:00<00:00, 410.29it/s]\n",
      "Epoch 68: 100%|██████████| 16/16 [00:00<00:00, 421.03it/s]\n",
      "Epoch 69: 100%|██████████| 16/16 [00:00<00:00, 410.27it/s]\n",
      "Epoch 70: 100%|██████████| 16/16 [00:00<00:00, 372.14it/s]\n",
      "Epoch 71: 100%|██████████| 16/16 [00:00<00:00, 399.96it/s]\n",
      "Epoch 72: 100%|██████████| 16/16 [00:00<00:00, 381.03it/s]\n",
      "Epoch 73: 100%|██████████| 16/16 [00:00<00:00, 372.12it/s]\n",
      "Epoch 74: 100%|██████████| 16/16 [00:00<00:00, 470.63it/s]\n",
      "Epoch 75: 100%|██████████| 16/16 [00:00<00:00, 410.27it/s]\n",
      "Epoch 76: 100%|██████████| 16/16 [00:00<00:00, 400.00it/s]\n",
      "Epoch 77: 100%|██████████| 16/16 [00:00<00:00, 421.05it/s]\n",
      "Epoch 78: 100%|██████████| 16/16 [00:00<00:00, 421.08it/s]\n",
      "Epoch 79: 100%|██████████| 16/16 [00:00<00:00, 400.02it/s]\n",
      "Epoch 80: 100%|██████████| 16/16 [00:00<00:00, 380.95it/s]\n",
      "Epoch 81: 100%|██████████| 16/16 [00:00<00:00, 410.28it/s]\n",
      "Epoch 82: 100%|██████████| 16/16 [00:00<00:00, 228.57it/s]\n",
      "Epoch 83: 100%|██████████| 16/16 [00:00<00:00, 355.54it/s]\n",
      "Epoch 84: 100%|██████████| 16/16 [00:00<00:00, 374.49it/s]\n",
      "Epoch 85: 100%|██████████| 16/16 [00:00<00:00, 324.69it/s]\n",
      "Epoch 86: 100%|██████████| 16/16 [00:00<00:00, 356.13it/s]\n",
      "Epoch 87: 100%|██████████| 16/16 [00:00<00:00, 330.37it/s]\n",
      "Epoch 88: 100%|██████████| 16/16 [00:00<00:00, 385.40it/s]\n",
      "Epoch 89: 100%|██████████| 16/16 [00:00<00:00, 421.02it/s]\n",
      "Epoch 90: 100%|██████████| 16/16 [00:00<00:00, 399.99it/s]\n",
      "Epoch 91: 100%|██████████| 16/16 [00:00<00:00, 470.59it/s]\n",
      "Epoch 92: 100%|██████████| 16/16 [00:00<00:00, 533.30it/s]\n",
      "Epoch 93: 100%|██████████| 16/16 [00:00<00:00, 457.09it/s]\n",
      "Epoch 94: 100%|██████████| 16/16 [00:00<00:00, 457.18it/s]\n",
      "Epoch 95: 100%|██████████| 16/16 [00:00<00:00, 470.62it/s]\n",
      "Epoch 96: 100%|██████████| 16/16 [00:00<00:00, 59.04it/s]\n",
      "Epoch 97: 100%|██████████| 16/16 [00:00<00:00, 334.40it/s]\n",
      "Epoch 98: 100%|██████████| 16/16 [00:00<00:00, 444.44it/s]\n",
      "Epoch 99: 100%|██████████| 16/16 [00:00<00:00, 410.26it/s]\n",
      "Epoch 0: 100%|██████████| 16/16 [00:00<00:00, 400.02it/s]7.04s/layer]\n",
      "Epoch 1: 100%|██████████| 16/16 [00:00<00:00, 470.62it/s]\n",
      "Epoch 2: 100%|██████████| 16/16 [00:00<00:00, 533.35it/s]\n",
      "Epoch 3: 100%|██████████| 16/16 [00:00<00:00, 516.13it/s]\n",
      "Epoch 4: 100%|██████████| 16/16 [00:00<00:00, 484.83it/s]\n",
      "Epoch 5: 100%|██████████| 16/16 [00:00<00:00, 410.21it/s]\n",
      "Epoch 6: 100%|██████████| 16/16 [00:00<00:00, 432.36it/s]\n",
      "Epoch 7: 100%|██████████| 16/16 [00:00<00:00, 516.14it/s]\n",
      "Epoch 8: 100%|██████████| 16/16 [00:00<00:00, 500.00it/s]\n",
      "Epoch 9: 100%|██████████| 16/16 [00:00<00:00, 380.96it/s]\n",
      "Epoch 10: 100%|██████████| 16/16 [00:00<00:00, 380.96it/s]\n",
      "Epoch 11: 100%|██████████| 16/16 [00:00<00:00, 399.98it/s]\n",
      "Epoch 12: 100%|██████████| 16/16 [00:00<00:00, 363.65it/s]\n",
      "Epoch 13: 100%|██████████| 16/16 [00:00<00:00, 421.06it/s]\n",
      "Epoch 14: 100%|██████████| 16/16 [00:00<00:00, 421.05it/s]\n",
      "Epoch 15: 100%|██████████| 16/16 [00:00<00:00, 421.08it/s]\n",
      "Epoch 16: 100%|██████████| 16/16 [00:00<00:00, 444.47it/s]\n",
      "Epoch 17: 100%|██████████| 16/16 [00:00<00:00, 380.97it/s]\n",
      "Epoch 18: 100%|██████████| 16/16 [00:00<00:00, 333.35it/s]\n",
      "Epoch 19: 100%|██████████| 16/16 [00:00<00:00, 380.96it/s]\n",
      "Epoch 20: 100%|██████████| 16/16 [00:00<00:00, 444.41it/s]\n",
      "Epoch 21: 100%|██████████| 16/16 [00:00<00:00, 421.04it/s]\n",
      "Epoch 22: 100%|██████████| 16/16 [00:00<00:00, 246.16it/s]\n",
      "Epoch 23: 100%|██████████| 16/16 [00:00<00:00, 421.14it/s]\n",
      "Epoch 24: 100%|██████████| 16/16 [00:00<00:00, 421.07it/s]\n",
      "Epoch 25: 100%|██████████| 16/16 [00:00<00:00, 410.28it/s]\n",
      "Epoch 26: 100%|██████████| 16/16 [00:00<00:00, 457.10it/s]\n",
      "Epoch 27: 100%|██████████| 16/16 [00:00<00:00, 340.42it/s]\n",
      "Epoch 28: 100%|██████████| 16/16 [00:00<00:00, 399.97it/s]\n",
      "Epoch 29: 100%|██████████| 16/16 [00:00<00:00, 347.82it/s]\n",
      "Epoch 30: 100%|██████████| 16/16 [00:00<00:00, 296.35it/s]\n",
      "Epoch 31: 100%|██████████| 16/16 [00:00<00:00, 345.78it/s]\n",
      "Epoch 32: 100%|██████████| 16/16 [00:00<00:00, 370.24it/s]\n",
      "Epoch 33: 100%|██████████| 16/16 [00:00<00:00, 369.73it/s]\n",
      "Epoch 34: 100%|██████████| 16/16 [00:00<00:00, 390.25it/s]\n",
      "Epoch 35: 100%|██████████| 16/16 [00:00<00:00, 484.83it/s]\n",
      "Epoch 36: 100%|██████████| 16/16 [00:00<00:00, 444.49it/s]\n",
      "Epoch 37: 100%|██████████| 16/16 [00:00<00:00, 380.98it/s]\n",
      "Epoch 38: 100%|██████████| 16/16 [00:00<00:00, 410.34it/s]\n",
      "Epoch 39: 100%|██████████| 16/16 [00:00<00:00, 380.92it/s]\n",
      "Epoch 40: 100%|██████████| 16/16 [00:00<00:00, 400.01it/s]\n",
      "Epoch 41: 100%|██████████| 16/16 [00:00<00:00, 444.44it/s]\n",
      "Epoch 42: 100%|██████████| 16/16 [00:00<00:00, 444.48it/s]\n",
      "Epoch 43: 100%|██████████| 16/16 [00:00<00:00, 432.44it/s]\n",
      "Epoch 44: 100%|██████████| 16/16 [00:00<00:00, 432.45it/s]\n",
      "Epoch 45: 100%|██████████| 16/16 [00:00<00:00, 410.25it/s]\n",
      "Epoch 46: 100%|██████████| 16/16 [00:00<00:00, 444.42it/s]\n",
      "Epoch 47: 100%|██████████| 16/16 [00:00<00:00, 457.16it/s]\n",
      "Epoch 48: 100%|██████████| 16/16 [00:00<00:00, 432.42it/s]\n",
      "Epoch 49: 100%|██████████| 16/16 [00:00<00:00, 390.23it/s]\n",
      "Epoch 50: 100%|██████████| 16/16 [00:00<00:00, 399.99it/s]\n",
      "Epoch 51: 100%|██████████| 16/16 [00:00<00:00, 410.26it/s]\n",
      "Epoch 52: 100%|██████████| 16/16 [00:00<00:00, 421.06it/s]\n",
      "Epoch 53: 100%|██████████| 16/16 [00:00<00:00, 470.60it/s]\n",
      "Epoch 54: 100%|██████████| 16/16 [00:00<00:00, 499.97it/s]\n",
      "Epoch 55: 100%|██████████| 16/16 [00:00<00:00, 432.44it/s]\n",
      "Epoch 56: 100%|██████████| 16/16 [00:00<00:00, 432.43it/s]\n",
      "Epoch 57: 100%|██████████| 16/16 [00:00<00:00, 457.14it/s]\n",
      "Epoch 58: 100%|██████████| 16/16 [00:00<00:00, 372.09it/s]\n",
      "Epoch 59: 100%|██████████| 16/16 [00:00<00:00, 390.25it/s]\n",
      "Epoch 60: 100%|██████████| 16/16 [00:00<00:00, 380.96it/s]\n",
      "Epoch 61: 100%|██████████| 16/16 [00:00<00:00, 242.42it/s]\n",
      "Epoch 62: 100%|██████████| 16/16 [00:00<00:00, 301.90it/s]\n",
      "Epoch 63: 100%|██████████| 16/16 [00:00<00:00, 470.56it/s]\n",
      "Epoch 64: 100%|██████████| 16/16 [00:00<00:00, 421.04it/s]\n",
      "Epoch 65: 100%|██████████| 16/16 [00:00<00:00, 61.30it/s]\n",
      "Epoch 66: 100%|██████████| 16/16 [00:00<00:00, 372.11it/s]\n",
      "Epoch 67: 100%|██████████| 16/16 [00:00<00:00, 347.81it/s]\n",
      "Epoch 68: 100%|██████████| 16/16 [00:00<00:00, 372.10it/s]\n",
      "Epoch 69: 100%|██████████| 16/16 [00:00<00:00, 400.00it/s]\n",
      "Epoch 70: 100%|██████████| 16/16 [00:00<00:00, 421.03it/s]\n",
      "Epoch 71: 100%|██████████| 16/16 [00:00<00:00, 410.30it/s]\n",
      "Epoch 72: 100%|██████████| 16/16 [00:00<00:00, 444.52it/s]\n",
      "Epoch 73: 100%|██████████| 16/16 [00:00<00:00, 421.02it/s]\n",
      "Epoch 74: 100%|██████████| 16/16 [00:00<00:00, 340.43it/s]\n",
      "Epoch 75: 100%|██████████| 16/16 [00:00<00:00, 290.73it/s]\n",
      "Epoch 76: 100%|██████████| 16/16 [00:00<00:00, 347.20it/s]\n",
      "Epoch 77: 100%|██████████| 16/16 [00:00<00:00, 429.48it/s]\n",
      "Epoch 78: 100%|██████████| 16/16 [00:00<00:00, 365.82it/s]\n",
      "Epoch 79: 100%|██████████| 16/16 [00:00<00:00, 376.33it/s]\n",
      "Epoch 80: 100%|██████████| 16/16 [00:00<00:00, 457.16it/s]\n",
      "Epoch 81: 100%|██████████| 16/16 [00:00<00:00, 432.46it/s]\n",
      "Epoch 82: 100%|██████████| 16/16 [00:00<00:00, 372.09it/s]\n",
      "Epoch 83: 100%|██████████| 16/16 [00:00<00:00, 470.60it/s]\n",
      "Epoch 84: 100%|██████████| 16/16 [00:00<00:00, 421.04it/s]\n",
      "Epoch 85: 100%|██████████| 16/16 [00:00<00:00, 457.18it/s]\n",
      "Epoch 86: 100%|██████████| 16/16 [00:00<00:00, 444.42it/s]\n",
      "Epoch 87: 100%|██████████| 16/16 [00:00<00:00, 372.11it/s]\n",
      "Epoch 88: 100%|██████████| 16/16 [00:00<00:00, 399.99it/s]\n",
      "Epoch 89: 100%|██████████| 16/16 [00:00<00:00, 421.05it/s]\n",
      "Epoch 90: 100%|██████████| 16/16 [00:00<00:00, 400.02it/s]\n",
      "Epoch 91: 100%|██████████| 16/16 [00:00<00:00, 444.45it/s]\n",
      "Epoch 92: 100%|██████████| 16/16 [00:00<00:00, 410.23it/s]\n",
      "Epoch 93: 100%|██████████| 16/16 [00:00<00:00, 444.48it/s]\n",
      "Epoch 94: 100%|██████████| 16/16 [00:00<00:00, 202.53it/s]\n",
      "Epoch 95: 100%|██████████| 16/16 [00:00<00:00, 457.19it/s]\n",
      "Epoch 96: 100%|██████████| 16/16 [00:00<00:00, 410.26it/s]\n",
      "Epoch 97: 100%|██████████| 16/16 [00:00<00:00, 410.25it/s]\n",
      "Epoch 98: 100%|██████████| 16/16 [00:00<00:00, 363.68it/s]\n",
      "Epoch 99: 100%|██████████| 16/16 [00:00<00:00, 340.43it/s]\n",
      "Training RBM layers: 100%|██████████| 4/4 [00:28<00:00,  7.19s/layer]\n"
     ]
    },
    {
     "name": "stdout",
     "output_type": "stream",
     "text": [
      "\n",
      "\n",
      "--------- BACKPROPAGATION --------\n"
     ]
    },
    {
     "name": "stderr",
     "output_type": "stream",
     "text": [
      "Training:   1%|          | 2/200 [00:00<00:10, 18.02epoch/s]"
     ]
    },
    {
     "name": "stdout",
     "output_type": "stream",
     "text": [
      "Epoch 1/200, Cross Entropy: 2.279020101630368\n",
      "Epoch 2/200, Cross Entropy: 2.2756481659580254\n",
      "Epoch 3/200, Cross Entropy: 2.275189113388776\n"
     ]
    },
    {
     "name": "stderr",
     "output_type": "stream",
     "text": [
      "Training:   1%|          | 2/200 [00:00<00:10, 18.02epoch/s]"
     ]
    },
    {
     "name": "stdout",
     "output_type": "stream",
     "text": [
      "Epoch 4/200, Cross Entropy: 2.2751128100465623\n"
     ]
    },
    {
     "name": "stderr",
     "output_type": "stream",
     "text": [
      "Training:   4%|▎         | 7/200 [00:00<00:10, 18.74epoch/s]"
     ]
    },
    {
     "name": "stdout",
     "output_type": "stream",
     "text": [
      "Epoch 5/200, Cross Entropy: 2.2750984883598817\n",
      "Epoch 6/200, Cross Entropy: 2.2750955467109852\n",
      "Epoch 7/200, Cross Entropy: 2.275094902237641\n"
     ]
    },
    {
     "name": "stderr",
     "output_type": "stream",
     "text": [
      "Training:   6%|▌         | 11/200 [00:00<00:15, 12.10epoch/s]"
     ]
    },
    {
     "name": "stdout",
     "output_type": "stream",
     "text": [
      "Epoch 8/200, Cross Entropy: 2.2750947547962186\n",
      "Epoch 9/200, Cross Entropy: 2.2750947201118352\n",
      "Epoch 10/200, Cross Entropy: 2.275094711806724\n",
      "Epoch 11/200, Cross Entropy: 2.2750947097951935\n"
     ]
    },
    {
     "name": "stderr",
     "output_type": "stream",
     "text": [
      "Training:   8%|▊         | 15/200 [00:01<00:12, 14.58epoch/s]"
     ]
    },
    {
     "name": "stdout",
     "output_type": "stream",
     "text": [
      "Epoch 12/200, Cross Entropy: 2.2750947093042493\n",
      "Epoch 13/200, Cross Entropy: 2.2750947091837816\n",
      "Epoch 14/200, Cross Entropy: 2.2750947091541027\n",
      "Epoch 15/200, Cross Entropy: 2.275094709146769\n"
     ]
    },
    {
     "name": "stderr",
     "output_type": "stream",
     "text": [
      "Training:   8%|▊         | 17/200 [00:01<00:12, 14.78epoch/s]"
     ]
    },
    {
     "name": "stdout",
     "output_type": "stream",
     "text": [
      "Epoch 16/200, Cross Entropy: 2.2750947091449527\n",
      "Epoch 17/200, Cross Entropy: 2.275094709144501\n",
      "Epoch 18/200, Cross Entropy: 2.275094709144389\n"
     ]
    },
    {
     "name": "stderr",
     "output_type": "stream",
     "text": [
      "Training:  10%|█         | 21/200 [00:01<00:11, 15.95epoch/s]"
     ]
    },
    {
     "name": "stdout",
     "output_type": "stream",
     "text": [
      "Epoch 19/200, Cross Entropy: 2.275094709144361\n",
      "Epoch 20/200, Cross Entropy: 2.275094709144354\n",
      "Epoch 21/200, Cross Entropy: 2.2750947091443523\n",
      "Epoch 22/200, Cross Entropy: 2.275094709144352\n"
     ]
    },
    {
     "name": "stderr",
     "output_type": "stream",
     "text": [
      "Training:  12%|█▎        | 25/200 [00:01<00:10, 17.06epoch/s]"
     ]
    },
    {
     "name": "stdout",
     "output_type": "stream",
     "text": [
      "Epoch 23/200, Cross Entropy: 2.2750947091443514\n",
      "Epoch 24/200, Cross Entropy: 2.2750947091443514\n",
      "Epoch 25/200, Cross Entropy: 2.2750947091443514\n",
      "Epoch 26/200, Cross Entropy: 2.275094709144352\n"
     ]
    },
    {
     "name": "stderr",
     "output_type": "stream",
     "text": [
      "Training:  14%|█▍        | 28/200 [00:01<00:09, 17.77epoch/s]"
     ]
    },
    {
     "name": "stdout",
     "output_type": "stream",
     "text": [
      "Epoch 27/200, Cross Entropy: 2.2750947091443514\n",
      "Epoch 28/200, Cross Entropy: 2.2750947091443514\n"
     ]
    },
    {
     "name": "stderr",
     "output_type": "stream",
     "text": [
      "Training:  15%|█▌        | 30/200 [00:02<00:14, 11.40epoch/s]"
     ]
    },
    {
     "name": "stdout",
     "output_type": "stream",
     "text": [
      "Epoch 29/200, Cross Entropy: 2.275094709144352\n",
      "Epoch 30/200, Cross Entropy: 2.2750947091443514\n",
      "Epoch 31/200, Cross Entropy: 2.2750947091443514\n"
     ]
    },
    {
     "name": "stderr",
     "output_type": "stream",
     "text": [
      "Training:  17%|█▋        | 34/200 [00:02<00:12, 13.52epoch/s]"
     ]
    },
    {
     "name": "stdout",
     "output_type": "stream",
     "text": [
      "Epoch 32/200, Cross Entropy: 2.2750947091443514\n",
      "Epoch 33/200, Cross Entropy: 2.2750947091443514\n",
      "Epoch 34/200, Cross Entropy: 2.2750947091443514\n",
      "Epoch 35/200, Cross Entropy: 2.2750947091443514\n"
     ]
    },
    {
     "name": "stderr",
     "output_type": "stream",
     "text": [
      "Training:  18%|█▊        | 37/200 [00:02<00:10, 15.63epoch/s]"
     ]
    },
    {
     "name": "stdout",
     "output_type": "stream",
     "text": [
      "Epoch 36/200, Cross Entropy: 2.2750947091443514\n",
      "Epoch 37/200, Cross Entropy: 2.2750947091443514\n",
      "Epoch 38/200, Cross Entropy: 2.2750947091443514\n"
     ]
    },
    {
     "name": "stderr",
     "output_type": "stream",
     "text": [
      "Training:  20%|██        | 41/200 [00:02<00:09, 16.17epoch/s]"
     ]
    },
    {
     "name": "stdout",
     "output_type": "stream",
     "text": [
      "Epoch 39/200, Cross Entropy: 2.2750947091443514\n",
      "Epoch 40/200, Cross Entropy: 2.2750947091443514\n",
      "Epoch 41/200, Cross Entropy: 2.2750947091443514\n",
      "Epoch 42/200, Cross Entropy: 2.2750947091443514\n"
     ]
    },
    {
     "name": "stderr",
     "output_type": "stream",
     "text": [
      "Training:  22%|██▎       | 45/200 [00:03<00:08, 17.71epoch/s]"
     ]
    },
    {
     "name": "stdout",
     "output_type": "stream",
     "text": [
      "Epoch 43/200, Cross Entropy: 2.2750947091443514\n",
      "Epoch 44/200, Cross Entropy: 2.2750947091443514\n",
      "Epoch 45/200, Cross Entropy: 2.2750947091443514\n",
      "Epoch 46/200, Cross Entropy: 2.2750947091443514\n"
     ]
    },
    {
     "name": "stderr",
     "output_type": "stream",
     "text": [
      "Training:  24%|██▍       | 49/200 [00:03<00:08, 18.17epoch/s]"
     ]
    },
    {
     "name": "stdout",
     "output_type": "stream",
     "text": [
      "Epoch 47/200, Cross Entropy: 2.2750947091443514\n",
      "Epoch 48/200, Cross Entropy: 2.2750947091443514\n",
      "Epoch 49/200, Cross Entropy: 2.2750947091443514\n",
      "Epoch 50/200, Cross Entropy: 2.2750947091443514\n"
     ]
    },
    {
     "name": "stderr",
     "output_type": "stream",
     "text": [
      "Training:  26%|██▋       | 53/200 [00:03<00:12, 11.48epoch/s]"
     ]
    },
    {
     "name": "stdout",
     "output_type": "stream",
     "text": [
      "Epoch 51/200, Cross Entropy: 2.2750947091443514\n",
      "Epoch 52/200, Cross Entropy: 2.2750947091443514\n",
      "Epoch 53/200, Cross Entropy: 2.2750947091443514\n"
     ]
    },
    {
     "name": "stderr",
     "output_type": "stream",
     "text": [
      "Training:  28%|██▊       | 57/200 [00:03<00:10, 14.11epoch/s]"
     ]
    },
    {
     "name": "stdout",
     "output_type": "stream",
     "text": [
      "Epoch 54/200, Cross Entropy: 2.2750947091443514\n",
      "Epoch 55/200, Cross Entropy: 2.2750947091443514\n",
      "Epoch 56/200, Cross Entropy: 2.2750947091443514\n",
      "Epoch 57/200, Cross Entropy: 2.2750947091443514\n"
     ]
    },
    {
     "name": "stderr",
     "output_type": "stream",
     "text": [
      "Training:  30%|███       | 61/200 [00:04<00:08, 16.07epoch/s]"
     ]
    },
    {
     "name": "stdout",
     "output_type": "stream",
     "text": [
      "Epoch 58/200, Cross Entropy: 2.2750947091443514\n",
      "Epoch 59/200, Cross Entropy: 2.2750947091443514\n",
      "Epoch 60/200, Cross Entropy: 2.2750947091443514\n",
      "Epoch 61/200, Cross Entropy: 2.2750947091443514\n"
     ]
    },
    {
     "name": "stderr",
     "output_type": "stream",
     "text": [
      "Training:  32%|███▏      | 63/200 [00:04<00:08, 17.03epoch/s]"
     ]
    },
    {
     "name": "stdout",
     "output_type": "stream",
     "text": [
      "Epoch 62/200, Cross Entropy: 2.2750947091443514\n",
      "Epoch 63/200, Cross Entropy: 2.2750947091443514\n",
      "Epoch 64/200, Cross Entropy: 2.2750947091443514\n",
      "Epoch 65/200, Cross Entropy: 2.2750947091443514\n"
     ]
    },
    {
     "name": "stderr",
     "output_type": "stream",
     "text": [
      "Training:  34%|███▍      | 68/200 [00:04<00:07, 18.11epoch/s]"
     ]
    },
    {
     "name": "stdout",
     "output_type": "stream",
     "text": [
      "Epoch 66/200, Cross Entropy: 2.2750947091443514\n",
      "Epoch 67/200, Cross Entropy: 2.2750947091443514\n",
      "Epoch 68/200, Cross Entropy: 2.2750947091443514\n",
      "Epoch 69/200, Cross Entropy: 2.275094709144352\n"
     ]
    },
    {
     "name": "stderr",
     "output_type": "stream",
     "text": [
      "Training:  36%|███▌      | 71/200 [00:04<00:06, 18.89epoch/s]"
     ]
    },
    {
     "name": "stdout",
     "output_type": "stream",
     "text": [
      "Epoch 70/200, Cross Entropy: 2.2750947091443514\n",
      "Epoch 71/200, Cross Entropy: 2.2750947091443514\n",
      "Epoch 72/200, Cross Entropy: 2.2750947091443514\n"
     ]
    },
    {
     "name": "stderr",
     "output_type": "stream",
     "text": [
      "Training:  38%|███▊      | 75/200 [00:05<00:10, 12.40epoch/s]"
     ]
    },
    {
     "name": "stdout",
     "output_type": "stream",
     "text": [
      "Epoch 73/200, Cross Entropy: 2.2750947091443514\n",
      "Epoch 74/200, Cross Entropy: 2.2750947091443514\n",
      "Epoch 75/200, Cross Entropy: 2.2750947091443514\n"
     ]
    },
    {
     "name": "stderr",
     "output_type": "stream",
     "text": [
      "Training:  40%|███▉      | 79/200 [00:05<00:08, 14.52epoch/s]"
     ]
    },
    {
     "name": "stdout",
     "output_type": "stream",
     "text": [
      "Epoch 76/200, Cross Entropy: 2.2750947091443514\n",
      "Epoch 77/200, Cross Entropy: 2.2750947091443514\n",
      "Epoch 78/200, Cross Entropy: 2.2750947091443514\n",
      "Epoch 79/200, Cross Entropy: 2.2750947091443514\n"
     ]
    },
    {
     "name": "stderr",
     "output_type": "stream",
     "text": [
      "Training:  42%|████▏     | 83/200 [00:05<00:07, 16.08epoch/s]"
     ]
    },
    {
     "name": "stdout",
     "output_type": "stream",
     "text": [
      "Epoch 80/200, Cross Entropy: 2.2750947091443514\n",
      "Epoch 81/200, Cross Entropy: 2.2750947091443514\n",
      "Epoch 82/200, Cross Entropy: 2.2750947091443514\n",
      "Epoch 83/200, Cross Entropy: 2.275094709144352\n"
     ]
    },
    {
     "name": "stderr",
     "output_type": "stream",
     "text": [
      "Training:  43%|████▎     | 86/200 [00:05<00:06, 17.43epoch/s]"
     ]
    },
    {
     "name": "stdout",
     "output_type": "stream",
     "text": [
      "Epoch 84/200, Cross Entropy: 2.2750947091443514\n",
      "Epoch 85/200, Cross Entropy: 2.2750947091443514\n",
      "Epoch 86/200, Cross Entropy: 2.2750947091443514\n",
      "Epoch 87/200, Cross Entropy: 2.2750947091443514\n",
      "Epoch 88/200, Cross Entropy: 2.2750947091443514\n"
     ]
    },
    {
     "name": "stderr",
     "output_type": "stream",
     "text": [
      "Training:  46%|████▌     | 91/200 [00:06<00:06, 17.77epoch/s]"
     ]
    },
    {
     "name": "stdout",
     "output_type": "stream",
     "text": [
      "Epoch 89/200, Cross Entropy: 2.2750947091443514\n",
      "Epoch 90/200, Cross Entropy: 2.2750947091443514\n",
      "Epoch 91/200, Cross Entropy: 2.2750947091443514\n",
      "Epoch 92/200, Cross Entropy: 2.2750947091443514\n"
     ]
    },
    {
     "name": "stderr",
     "output_type": "stream",
     "text": [
      "Training:  47%|████▋     | 94/200 [00:06<00:05, 18.54epoch/s]"
     ]
    },
    {
     "name": "stdout",
     "output_type": "stream",
     "text": [
      "Epoch 93/200, Cross Entropy: 2.2750947091443514\n",
      "Epoch 94/200, Cross Entropy: 2.2750947091443514\n"
     ]
    },
    {
     "name": "stderr",
     "output_type": "stream",
     "text": [
      "Training:  48%|████▊     | 96/200 [00:06<00:08, 12.67epoch/s]"
     ]
    },
    {
     "name": "stdout",
     "output_type": "stream",
     "text": [
      "Epoch 95/200, Cross Entropy: 2.2750947091443514\n",
      "Epoch 96/200, Cross Entropy: 2.2750947091443514\n",
      "Epoch 97/200, Cross Entropy: 2.2750947091443514\n",
      "Epoch 98/200, Cross Entropy: 2.2750947091443514\n"
     ]
    },
    {
     "name": "stderr",
     "output_type": "stream",
     "text": [
      "Training:  51%|█████     | 102/200 [00:06<00:05, 16.46epoch/s]"
     ]
    },
    {
     "name": "stdout",
     "output_type": "stream",
     "text": [
      "Epoch 99/200, Cross Entropy: 2.2750947091443514\n",
      "Epoch 100/200, Cross Entropy: 2.2750947091443514\n",
      "Epoch 101/200, Cross Entropy: 2.2750947091443514\n",
      "Epoch 102/200, Cross Entropy: 2.2750947091443514\n",
      "Epoch 103/200, Cross Entropy: 2.2750947091443514\n"
     ]
    },
    {
     "name": "stderr",
     "output_type": "stream",
     "text": [
      "Training:  52%|█████▎    | 105/200 [00:06<00:05, 17.96epoch/s]"
     ]
    },
    {
     "name": "stdout",
     "output_type": "stream",
     "text": [
      "Epoch 104/200, Cross Entropy: 2.2750947091443514\n",
      "Epoch 105/200, Cross Entropy: 2.2750947091443514\n",
      "Epoch 106/200, Cross Entropy: 2.2750947091443514\n",
      "Epoch 107/200, Cross Entropy: 2.2750947091443514\n"
     ]
    },
    {
     "name": "stderr",
     "output_type": "stream",
     "text": [
      "Training:  56%|█████▌    | 111/200 [00:07<00:04, 19.77epoch/s]"
     ]
    },
    {
     "name": "stdout",
     "output_type": "stream",
     "text": [
      "Epoch 108/200, Cross Entropy: 2.2750947091443514\n",
      "Epoch 109/200, Cross Entropy: 2.2750947091443514\n",
      "Epoch 110/200, Cross Entropy: 2.2750947091443514\n",
      "Epoch 111/200, Cross Entropy: 2.2750947091443514\n"
     ]
    },
    {
     "name": "stderr",
     "output_type": "stream",
     "text": [
      "Training:  57%|█████▋    | 114/200 [00:07<00:04, 19.03epoch/s]"
     ]
    },
    {
     "name": "stdout",
     "output_type": "stream",
     "text": [
      "Epoch 112/200, Cross Entropy: 2.2750947091443514\n",
      "Epoch 113/200, Cross Entropy: 2.2750947091443514\n",
      "Epoch 114/200, Cross Entropy: 2.2750947091443514\n",
      "Epoch 115/200, Cross Entropy: 2.2750947091443514\n",
      "Epoch 116/200, Cross Entropy: 2.2750947091443514\n"
     ]
    },
    {
     "name": "stderr",
     "output_type": "stream",
     "text": [
      "Training:  58%|█████▊    | 117/200 [00:07<00:03, 20.83epoch/s]"
     ]
    },
    {
     "name": "stdout",
     "output_type": "stream",
     "text": [
      "Epoch 117/200, Cross Entropy: 2.2750947091443514\n",
      "Epoch 118/200, Cross Entropy: 2.2750947091443514\n",
      "Epoch 119/200, Cross Entropy: 2.2750947091443514\n"
     ]
    },
    {
     "name": "stderr",
     "output_type": "stream",
     "text": [
      "Training:  62%|██████▏   | 123/200 [00:07<00:04, 16.02epoch/s]"
     ]
    },
    {
     "name": "stdout",
     "output_type": "stream",
     "text": [
      "Epoch 120/200, Cross Entropy: 2.2750947091443514\n",
      "Epoch 121/200, Cross Entropy: 2.2750947091443514\n",
      "Epoch 122/200, Cross Entropy: 2.2750947091443514\n",
      "Epoch 123/200, Cross Entropy: 2.2750947091443514\n"
     ]
    },
    {
     "name": "stderr",
     "output_type": "stream",
     "text": [
      "Training:  64%|██████▎   | 127/200 [00:08<00:04, 17.05epoch/s]"
     ]
    },
    {
     "name": "stdout",
     "output_type": "stream",
     "text": [
      "Epoch 124/200, Cross Entropy: 2.2750947091443514\n",
      "Epoch 125/200, Cross Entropy: 2.2750947091443514\n",
      "Epoch 126/200, Cross Entropy: 2.2750947091443514\n",
      "Epoch 127/200, Cross Entropy: 2.2750947091443514\n"
     ]
    },
    {
     "name": "stderr",
     "output_type": "stream",
     "text": [
      "Training:  64%|██████▍   | 129/200 [00:08<00:04, 17.69epoch/s]"
     ]
    },
    {
     "name": "stdout",
     "output_type": "stream",
     "text": [
      "Epoch 128/200, Cross Entropy: 2.2750947091443514\n",
      "Epoch 129/200, Cross Entropy: 2.2750947091443514\n",
      "Epoch 130/200, Cross Entropy: 2.2750947091443514\n",
      "Epoch 131/200, Cross Entropy: 2.2750947091443514\n"
     ]
    },
    {
     "name": "stderr",
     "output_type": "stream",
     "text": [
      "Training:  68%|██████▊   | 135/200 [00:08<00:03, 20.15epoch/s]"
     ]
    },
    {
     "name": "stdout",
     "output_type": "stream",
     "text": [
      "Epoch 132/200, Cross Entropy: 2.2750947091443514\n",
      "Epoch 133/200, Cross Entropy: 2.2750947091443514\n",
      "Epoch 134/200, Cross Entropy: 2.2750947091443514\n",
      "Epoch 135/200, Cross Entropy: 2.2750947091443514\n",
      "Epoch 136/200, Cross Entropy: 2.2750947091443514\n"
     ]
    },
    {
     "name": "stderr",
     "output_type": "stream",
     "text": [
      "Training:  70%|███████   | 141/200 [00:08<00:02, 21.81epoch/s]"
     ]
    },
    {
     "name": "stdout",
     "output_type": "stream",
     "text": [
      "Epoch 137/200, Cross Entropy: 2.2750947091443514\n",
      "Epoch 138/200, Cross Entropy: 2.2750947091443514\n",
      "Epoch 139/200, Cross Entropy: 2.2750947091443514\n",
      "Epoch 140/200, Cross Entropy: 2.2750947091443514\n",
      "Epoch 141/200, Cross Entropy: 2.2750947091443514\n"
     ]
    },
    {
     "name": "stderr",
     "output_type": "stream",
     "text": [
      "Training:  72%|███████▏  | 144/200 [00:08<00:02, 21.07epoch/s]"
     ]
    },
    {
     "name": "stdout",
     "output_type": "stream",
     "text": [
      "Epoch 142/200, Cross Entropy: 2.2750947091443514\n",
      "Epoch 143/200, Cross Entropy: 2.2750947091443514\n",
      "Epoch 144/200, Cross Entropy: 2.2750947091443514\n"
     ]
    },
    {
     "name": "stderr",
     "output_type": "stream",
     "text": [
      "Training:  74%|███████▎  | 147/200 [00:09<00:03, 13.46epoch/s]"
     ]
    },
    {
     "name": "stdout",
     "output_type": "stream",
     "text": [
      "Epoch 145/200, Cross Entropy: 2.2750947091443514\n",
      "Epoch 146/200, Cross Entropy: 2.2750947091443514\n",
      "Epoch 147/200, Cross Entropy: 2.2750947091443514\n",
      "Epoch 148/200, Cross Entropy: 2.2750947091443514\n"
     ]
    },
    {
     "name": "stderr",
     "output_type": "stream",
     "text": [
      "Training:  76%|███████▋  | 153/200 [00:09<00:02, 17.30epoch/s]"
     ]
    },
    {
     "name": "stdout",
     "output_type": "stream",
     "text": [
      "Epoch 149/200, Cross Entropy: 2.2750947091443514\n",
      "Epoch 150/200, Cross Entropy: 2.2750947091443514\n",
      "Epoch 151/200, Cross Entropy: 2.2750947091443514\n",
      "Epoch 152/200, Cross Entropy: 2.2750947091443514\n",
      "Epoch 153/200, Cross Entropy: 2.2750947091443514\n"
     ]
    },
    {
     "name": "stderr",
     "output_type": "stream",
     "text": [
      "Training:  78%|███████▊  | 156/200 [00:09<00:02, 17.62epoch/s]"
     ]
    },
    {
     "name": "stdout",
     "output_type": "stream",
     "text": [
      "Epoch 154/200, Cross Entropy: 2.2750947091443514\n",
      "Epoch 155/200, Cross Entropy: 2.2750947091443514\n",
      "Epoch 156/200, Cross Entropy: 2.2750947091443514\n",
      "Epoch 157/200, Cross Entropy: 2.2750947091443514\n"
     ]
    },
    {
     "name": "stderr",
     "output_type": "stream",
     "text": [
      "Training:  80%|███████▉  | 159/200 [00:10<00:02, 18.55epoch/s]"
     ]
    },
    {
     "name": "stdout",
     "output_type": "stream",
     "text": [
      "Epoch 158/200, Cross Entropy: 2.2750947091443514\n",
      "Epoch 159/200, Cross Entropy: 2.2750947091443514\n",
      "Epoch 160/200, Cross Entropy: 2.2750947091443514\n",
      "Epoch 161/200, Cross Entropy: 2.2750947091443514\n"
     ]
    },
    {
     "name": "stderr",
     "output_type": "stream",
     "text": [
      "Training:  82%|████████▏ | 164/200 [00:10<00:01, 18.41epoch/s]"
     ]
    },
    {
     "name": "stdout",
     "output_type": "stream",
     "text": [
      "Epoch 162/200, Cross Entropy: 2.2750947091443514\n",
      "Epoch 163/200, Cross Entropy: 2.2750947091443514\n",
      "Epoch 164/200, Cross Entropy: 2.2750947091443514\n",
      "Epoch 165/200, Cross Entropy: 2.2750947091443514\n"
     ]
    },
    {
     "name": "stderr",
     "output_type": "stream",
     "text": [
      "Training:  84%|████████▎ | 167/200 [00:10<00:01, 19.57epoch/s]"
     ]
    },
    {
     "name": "stdout",
     "output_type": "stream",
     "text": [
      "Epoch 166/200, Cross Entropy: 2.2750947091443514\n",
      "Epoch 167/200, Cross Entropy: 2.2750947091443514\n"
     ]
    },
    {
     "name": "stderr",
     "output_type": "stream",
     "text": [
      "Training:  85%|████████▌ | 170/200 [00:10<00:02, 12.97epoch/s]"
     ]
    },
    {
     "name": "stdout",
     "output_type": "stream",
     "text": [
      "Epoch 168/200, Cross Entropy: 2.2750947091443514\n",
      "Epoch 169/200, Cross Entropy: 2.2750947091443514\n",
      "Epoch 170/200, Cross Entropy: 2.2750947091443514\n"
     ]
    },
    {
     "name": "stderr",
     "output_type": "stream",
     "text": [
      "Training:  86%|████████▌ | 172/200 [00:10<00:02, 13.41epoch/s]"
     ]
    },
    {
     "name": "stdout",
     "output_type": "stream",
     "text": [
      "Epoch 171/200, Cross Entropy: 2.2750947091443514\n",
      "Epoch 172/200, Cross Entropy: 2.2750947091443514\n",
      "Epoch 173/200, Cross Entropy: 2.2750947091443514\n",
      "Epoch 174/200, Cross Entropy: 2.2750947091443514\n"
     ]
    },
    {
     "name": "stderr",
     "output_type": "stream",
     "text": [
      "Training:  88%|████████▊ | 177/200 [00:11<00:01, 16.11epoch/s]"
     ]
    },
    {
     "name": "stdout",
     "output_type": "stream",
     "text": [
      "Epoch 175/200, Cross Entropy: 2.2750947091443514\n",
      "Epoch 176/200, Cross Entropy: 2.2750947091443514\n",
      "Epoch 177/200, Cross Entropy: 2.2750947091443514\n",
      "Epoch 178/200, Cross Entropy: 2.2750947091443514\n"
     ]
    },
    {
     "name": "stderr",
     "output_type": "stream",
     "text": [
      "Training:  90%|█████████ | 180/200 [00:11<00:01, 17.60epoch/s]"
     ]
    },
    {
     "name": "stdout",
     "output_type": "stream",
     "text": [
      "Epoch 179/200, Cross Entropy: 2.2750947091443514\n",
      "Epoch 180/200, Cross Entropy: 2.2750947091443514\n",
      "Epoch 181/200, Cross Entropy: 2.2750947091443514\n",
      "Epoch 182/200, Cross Entropy: 2.2750947091443514\n"
     ]
    },
    {
     "name": "stderr",
     "output_type": "stream",
     "text": [
      "Training:  93%|█████████▎| 186/200 [00:11<00:00, 19.62epoch/s]"
     ]
    },
    {
     "name": "stdout",
     "output_type": "stream",
     "text": [
      "Epoch 183/200, Cross Entropy: 2.2750947091443514\n",
      "Epoch 184/200, Cross Entropy: 2.2750947091443514\n",
      "Epoch 185/200, Cross Entropy: 2.2750947091443514\n",
      "Epoch 186/200, Cross Entropy: 2.2750947091443514\n"
     ]
    },
    {
     "name": "stderr",
     "output_type": "stream",
     "text": [
      "Training:  93%|█████████▎| 186/200 [00:11<00:00, 19.62epoch/s]"
     ]
    },
    {
     "name": "stdout",
     "output_type": "stream",
     "text": [
      "Epoch 187/200, Cross Entropy: 2.2750947091443514\n"
     ]
    },
    {
     "name": "stderr",
     "output_type": "stream",
     "text": [
      "                                                              \r"
     ]
    },
    {
     "name": "stdout",
     "output_type": "stream",
     "text": [
      "Epoch 188/200, Cross Entropy: 2.2750947091443514\n",
      "Epoch 189/200, Cross Entropy: 2.2750947091443514\n",
      "Epoch 190/200, Cross Entropy: 2.2750947091443514\n"
     ]
    },
    {
     "name": "stderr",
     "output_type": "stream",
     "text": [
      "Training:  96%|█████████▋| 193/200 [00:12<00:00, 14.67epoch/s]"
     ]
    },
    {
     "name": "stdout",
     "output_type": "stream",
     "text": [
      "Epoch 191/200, Cross Entropy: 2.2750947091443514\n",
      "Epoch 192/200, Cross Entropy: 2.2750947091443514\n",
      "Epoch 193/200, Cross Entropy: 2.2750947091443514\n",
      "Epoch 194/200, Cross Entropy: 2.2750947091443514\n"
     ]
    },
    {
     "name": "stderr",
     "output_type": "stream",
     "text": [
      "                                                              \r"
     ]
    },
    {
     "name": "stdout",
     "output_type": "stream",
     "text": [
      "Epoch 195/200, Cross Entropy: 2.2750947091443514\n",
      "Epoch 196/200, Cross Entropy: 2.2750947091443514\n",
      "Epoch 197/200, Cross Entropy: 2.2750947091443514\n",
      "Epoch 198/200, Cross Entropy: 2.2750947091443514\n"
     ]
    },
    {
     "name": "stderr",
     "output_type": "stream",
     "text": [
      "Training: 100%|██████████| 200/200 [00:12<00:00, 16.06epoch/s]\n"
     ]
    },
    {
     "name": "stdout",
     "output_type": "stream",
     "text": [
      "Epoch 199/200, Cross Entropy: 2.2750947091443514\n",
      "Epoch 200/200, Cross Entropy: 2.2750947091443514\n"
     ]
    },
    {
     "name": "stderr",
     "output_type": "stream",
     "text": [
      "Training:   0%|          | 0/200 [00:00<?, ?epoch/s]"
     ]
    },
    {
     "name": "stdout",
     "output_type": "stream",
     "text": [
      "Epoch 1/200, Cross Entropy: 2.07076479350357\n",
      "Epoch 2/200, Cross Entropy: 1.9535055137488577\n"
     ]
    },
    {
     "name": "stderr",
     "output_type": "stream",
     "text": [
      "Training:   2%|▏         | 3/200 [00:00<00:09, 21.43epoch/s]"
     ]
    },
    {
     "name": "stdout",
     "output_type": "stream",
     "text": [
      "Epoch 3/200, Cross Entropy: 1.8993930933386278\n",
      "Epoch 4/200, Cross Entropy: 1.8708388970363905\n"
     ]
    },
    {
     "name": "stderr",
     "output_type": "stream",
     "text": [
      "Training:   3%|▎         | 6/200 [00:00<00:08, 22.97epoch/s]"
     ]
    },
    {
     "name": "stdout",
     "output_type": "stream",
     "text": [
      "Epoch 5/200, Cross Entropy: 1.8540125968909642\n",
      "Epoch 6/200, Cross Entropy: 1.8432232023937971\n",
      "Epoch 7/200, Cross Entropy: 1.8358498830718006\n"
     ]
    },
    {
     "name": "stderr",
     "output_type": "stream",
     "text": [
      "Training:   3%|▎         | 6/200 [00:00<00:08, 22.97epoch/s]"
     ]
    },
    {
     "name": "stdout",
     "output_type": "stream",
     "text": [
      "Epoch 8/200, Cross Entropy: 1.8305624247103807\n"
     ]
    },
    {
     "name": "stderr",
     "output_type": "stream",
     "text": [
      "Training:   4%|▍         | 9/200 [00:00<00:08, 21.30epoch/s]"
     ]
    },
    {
     "name": "stdout",
     "output_type": "stream",
     "text": [
      "Epoch 9/200, Cross Entropy: 1.8266294376580228\n",
      "Epoch 10/200, Cross Entropy: 1.8236217266533798\n",
      "Epoch 11/200, Cross Entropy: 1.8212732651500645\n"
     ]
    },
    {
     "name": "stderr",
     "output_type": "stream",
     "text": [
      "Training:   6%|▌         | 12/200 [00:00<00:09, 20.06epoch/s]"
     ]
    },
    {
     "name": "stdout",
     "output_type": "stream",
     "text": [
      "Epoch 12/200, Cross Entropy: 1.819411032813873\n"
     ]
    },
    {
     "name": "stderr",
     "output_type": "stream",
     "text": [
      "Training:   8%|▊         | 15/200 [00:01<00:14, 13.01epoch/s]"
     ]
    },
    {
     "name": "stdout",
     "output_type": "stream",
     "text": [
      "Epoch 13/200, Cross Entropy: 1.8179175028594023\n",
      "Epoch 14/200, Cross Entropy: 1.8167096687634277\n",
      "Epoch 15/200, Cross Entropy: 1.8157268782506257\n",
      "Epoch 16/200, Cross Entropy: 1.8149235345954267\n"
     ]
    },
    {
     "name": "stderr",
     "output_type": "stream",
     "text": [
      "Training:  10%|█         | 21/200 [00:01<00:10, 17.77epoch/s]"
     ]
    },
    {
     "name": "stdout",
     "output_type": "stream",
     "text": [
      "Epoch 17/200, Cross Entropy: 1.8142645678182183\n",
      "Epoch 18/200, Cross Entropy: 1.8137225237746535\n",
      "Epoch 19/200, Cross Entropy: 1.8132756233878045\n",
      "Epoch 20/200, Cross Entropy: 1.8129064204988918\n",
      "Epoch 21/200, Cross Entropy: 1.812600841045537\n"
     ]
    },
    {
     "name": "stderr",
     "output_type": "stream",
     "text": [
      "Training:  12%|█▏        | 24/200 [00:01<00:08, 19.82epoch/s]"
     ]
    },
    {
     "name": "stdout",
     "output_type": "stream",
     "text": [
      "Epoch 22/200, Cross Entropy: 1.81234747371698\n",
      "Epoch 23/200, Cross Entropy: 1.8121370325204151\n",
      "Epoch 24/200, Cross Entropy: 1.8119619410592587\n",
      "Epoch 25/200, Cross Entropy: 1.8118160057903736\n",
      "Epoch 26/200, Cross Entropy: 1.811694156149486\n"
     ]
    },
    {
     "name": "stderr",
     "output_type": "stream",
     "text": [
      "Training:  15%|█▌        | 30/200 [00:01<00:07, 22.21epoch/s]"
     ]
    },
    {
     "name": "stdout",
     "output_type": "stream",
     "text": [
      "Epoch 27/200, Cross Entropy: 1.8115922360702421\n",
      "Epoch 28/200, Cross Entropy: 1.8115068357001853\n",
      "Epoch 29/200, Cross Entropy: 1.8114351549714562\n",
      "Epoch 30/200, Cross Entropy: 1.8113748926579292\n",
      "Epoch 31/200, Cross Entropy: 1.811324155963339\n"
     ]
    },
    {
     "name": "stderr",
     "output_type": "stream",
     "text": [
      "Training:  18%|█▊        | 36/200 [00:01<00:07, 23.01epoch/s]"
     ]
    },
    {
     "name": "stdout",
     "output_type": "stream",
     "text": [
      "Epoch 32/200, Cross Entropy: 1.811281386727974\n",
      "Epoch 33/200, Cross Entropy: 1.811245301132013\n",
      "Epoch 34/200, Cross Entropy: 1.8112148403854236\n",
      "Epoch 35/200, Cross Entropy: 1.8111891303755043\n",
      "Epoch 36/200, Cross Entropy: 1.811167448626131\n"
     ]
    },
    {
     "name": "stderr",
     "output_type": "stream",
     "text": [
      "Training:  20%|█▉        | 39/200 [00:01<00:06, 23.30epoch/s]"
     ]
    },
    {
     "name": "stdout",
     "output_type": "stream",
     "text": [
      "Epoch 37/200, Cross Entropy: 1.8111491972300953\n",
      "Epoch 38/200, Cross Entropy: 1.8111338806641022\n",
      "Epoch 39/200, Cross Entropy: 1.8111210875970873\n",
      "Epoch 40/200, Cross Entropy: 1.8111104759660268\n",
      "Epoch 41/200, Cross Entropy: 1.8111017607264899\n"
     ]
    },
    {
     "name": "stderr",
     "output_type": "stream",
     "text": [
      "Training:  22%|██▎       | 45/200 [00:02<00:06, 23.20epoch/s]"
     ]
    },
    {
     "name": "stdout",
     "output_type": "stream",
     "text": [
      "Epoch 42/200, Cross Entropy: 1.8110947037936718\n",
      "Epoch 43/200, Cross Entropy: 1.8110891057781457\n",
      "Epoch 44/200, Cross Entropy: 1.8110847991927757\n",
      "Epoch 45/200, Cross Entropy: 1.8110816428661765\n"
     ]
    },
    {
     "name": "stderr",
     "output_type": "stream",
     "text": [
      "Training:  24%|██▍       | 48/200 [00:02<00:07, 20.17epoch/s]"
     ]
    },
    {
     "name": "stdout",
     "output_type": "stream",
     "text": [
      "Epoch 46/200, Cross Entropy: 1.8110795173462528\n",
      "Epoch 47/200, Cross Entropy: 1.81107832111663\n",
      "Epoch 48/200, Cross Entropy: 1.8110779674809052\n"
     ]
    },
    {
     "name": "stderr",
     "output_type": "stream",
     "text": [
      "Training:  26%|██▌       | 51/200 [00:02<00:07, 20.20epoch/s]"
     ]
    },
    {
     "name": "stdout",
     "output_type": "stream",
     "text": [
      "Epoch 49/200, Cross Entropy: 1.8110783819958773\n",
      "Epoch 50/200, Cross Entropy: 1.8110795003563371\n",
      "Epoch 51/200, Cross Entropy: 1.8110812666515304\n",
      "Epoch 52/200, Cross Entropy: 1.8110836319277197\n"
     ]
    },
    {
     "name": "stderr",
     "output_type": "stream",
     "text": [
      "Training:  27%|██▋       | 54/200 [00:02<00:07, 18.39epoch/s]"
     ]
    },
    {
     "name": "stdout",
     "output_type": "stream",
     "text": [
      "Epoch 53/200, Cross Entropy: 1.8110865530030122\n",
      "Epoch 54/200, Cross Entropy: 1.81108999149019\n",
      "Epoch 55/200, Cross Entropy: 1.8110939129911663\n",
      "Epoch 56/200, Cross Entropy: 1.8110982864331\n"
     ]
    },
    {
     "name": "stderr",
     "output_type": "stream",
     "text": [
      "Training:  30%|███       | 60/200 [00:02<00:06, 20.18epoch/s]"
     ]
    },
    {
     "name": "stdout",
     "output_type": "stream",
     "text": [
      "Epoch 57/200, Cross Entropy: 1.8111030835215007\n",
      "Epoch 58/200, Cross Entropy: 1.8111082782899857\n",
      "Epoch 59/200, Cross Entropy: 1.8111138467299\n",
      "Epoch 60/200, Cross Entropy: 1.8111197664859482\n"
     ]
    },
    {
     "name": "stderr",
     "output_type": "stream",
     "text": [
      "Training:  32%|███▏      | 63/200 [00:03<00:07, 18.95epoch/s]"
     ]
    },
    {
     "name": "stdout",
     "output_type": "stream",
     "text": [
      "Epoch 61/200, Cross Entropy: 1.8111260166063796\n",
      "Epoch 62/200, Cross Entropy: 1.811132577338259\n",
      "Epoch 63/200, Cross Entropy: 1.8111394299599808\n",
      "Epoch 64/200, Cross Entropy: 1.811146556644538\n"
     ]
    },
    {
     "name": "stderr",
     "output_type": "stream",
     "text": [
      "Training:  34%|███▍      | 68/200 [00:03<00:06, 19.77epoch/s]"
     ]
    },
    {
     "name": "stdout",
     "output_type": "stream",
     "text": [
      "Epoch 65/200, Cross Entropy: 1.8111539403481571\n",
      "Epoch 66/200, Cross Entropy: 1.8111615647198491\n",
      "Epoch 67/200, Cross Entropy: 1.81116941402816\n",
      "Epoch 68/200, Cross Entropy: 1.8111774731020602\n",
      "Epoch 69/200, Cross Entropy: 1.8111857272834189\n"
     ]
    },
    {
     "name": "stderr",
     "output_type": "stream",
     "text": [
      "Training:  36%|███▌      | 71/200 [00:03<00:06, 21.31epoch/s]"
     ]
    },
    {
     "name": "stdout",
     "output_type": "stream",
     "text": [
      "Epoch 70/200, Cross Entropy: 1.8111941623889436\n",
      "Epoch 71/200, Cross Entropy: 1.811202764679831\n",
      "Epoch 72/200, Cross Entropy: 1.8112115208376707\n",
      "Epoch 73/200, Cross Entropy: 1.811220417945388\n"
     ]
    },
    {
     "name": "stderr",
     "output_type": "stream",
     "text": [
      "Training:  38%|███▊      | 77/200 [00:03<00:05, 21.60epoch/s]"
     ]
    },
    {
     "name": "stdout",
     "output_type": "stream",
     "text": [
      "Epoch 74/200, Cross Entropy: 1.8112294434722327\n",
      "Epoch 75/200, Cross Entropy: 1.811238585261973\n",
      "Epoch 76/200, Cross Entropy: 1.811247831523621\n",
      "Epoch 77/200, Cross Entropy: 1.8112571708241147\n",
      "Epoch 78/200, Cross Entropy: 1.811266592082498\n"
     ]
    },
    {
     "name": "stderr",
     "output_type": "stream",
     "text": [
      "Training:  42%|████▏     | 83/200 [00:04<00:04, 23.70epoch/s]"
     ]
    },
    {
     "name": "stdout",
     "output_type": "stream",
     "text": [
      "Epoch 79/200, Cross Entropy: 1.811276084565219\n",
      "Epoch 80/200, Cross Entropy: 1.8112856378822269\n",
      "Epoch 81/200, Cross Entropy: 1.8112952419836261\n",
      "Epoch 82/200, Cross Entropy: 1.8113048871566781\n",
      "Epoch 83/200, Cross Entropy: 1.8113145640229866\n"
     ]
    },
    {
     "name": "stderr",
     "output_type": "stream",
     "text": [
      "Training:  43%|████▎     | 86/200 [00:04<00:04, 23.68epoch/s]"
     ]
    },
    {
     "name": "stdout",
     "output_type": "stream",
     "text": [
      "Epoch 84/200, Cross Entropy: 1.8113242635357423\n",
      "Epoch 85/200, Cross Entropy: 1.811333976976923\n",
      "Epoch 86/200, Cross Entropy: 1.8113436959543712\n",
      "Epoch 87/200, Cross Entropy: 1.8113534123986939\n",
      "Epoch 88/200, Cross Entropy: 1.811363118559942\n"
     ]
    },
    {
     "name": "stderr",
     "output_type": "stream",
     "text": [
      "Training:  46%|████▌     | 92/200 [00:04<00:04, 23.85epoch/s]"
     ]
    },
    {
     "name": "stdout",
     "output_type": "stream",
     "text": [
      "Epoch 89/200, Cross Entropy: 1.811372807004041\n",
      "Epoch 90/200, Cross Entropy: 1.8113824706089532\n",
      "Epoch 91/200, Cross Entropy: 1.8113921025605664\n",
      "Epoch 92/200, Cross Entropy: 1.811401696348306\n",
      "Epoch 93/200, Cross Entropy: 1.8114112457604754\n"
     ]
    },
    {
     "name": "stderr",
     "output_type": "stream",
     "text": [
      "Training:  49%|████▉     | 98/200 [00:04<00:04, 25.20epoch/s]"
     ]
    },
    {
     "name": "stdout",
     "output_type": "stream",
     "text": [
      "Epoch 94/200, Cross Entropy: 1.8114207448793302\n",
      "Epoch 95/200, Cross Entropy: 1.8114301880759034\n",
      "Epoch 96/200, Cross Entropy: 1.811439570004596\n",
      "Epoch 97/200, Cross Entropy: 1.8114488855975464\n",
      "Epoch 98/200, Cross Entropy: 1.8114581300588\n"
     ]
    },
    {
     "name": "stderr",
     "output_type": "stream",
     "text": [
      "Training:  50%|█████     | 101/200 [00:04<00:03, 25.26epoch/s]"
     ]
    },
    {
     "name": "stdout",
     "output_type": "stream",
     "text": [
      "Epoch 99/200, Cross Entropy: 1.811467298858301\n",
      "Epoch 100/200, Cross Entropy: 1.8114763877257212\n",
      "Epoch 101/200, Cross Entropy: 1.8114853926441477\n",
      "Epoch 102/200, Cross Entropy: 1.8114943098436562\n",
      "Epoch 103/200, Cross Entropy: 1.8115031357947793\n"
     ]
    },
    {
     "name": "stderr",
     "output_type": "stream",
     "text": [
      "Training:  54%|█████▎    | 107/200 [00:05<00:03, 25.34epoch/s]"
     ]
    },
    {
     "name": "stdout",
     "output_type": "stream",
     "text": [
      "Epoch 104/200, Cross Entropy: 1.8115118672018944\n",
      "Epoch 105/200, Cross Entropy: 1.8115205009965556\n",
      "Epoch 106/200, Cross Entropy: 1.811529034330777\n",
      "Epoch 107/200, Cross Entropy: 1.8115374645702935\n",
      "Epoch 108/200, Cross Entropy: 1.8115457892878095\n"
     ]
    },
    {
     "name": "stderr",
     "output_type": "stream",
     "text": [
      "Training:  56%|█████▋    | 113/200 [00:05<00:03, 24.27epoch/s]"
     ]
    },
    {
     "name": "stdout",
     "output_type": "stream",
     "text": [
      "Epoch 109/200, Cross Entropy: 1.8115540062562563\n",
      "Epoch 110/200, Cross Entropy: 1.811562113442071\n",
      "Epoch 111/200, Cross Entropy: 1.8115701089985077\n",
      "Epoch 112/200, Cross Entropy: 1.8115779912589975\n",
      "Epoch 113/200, Cross Entropy: 1.8115857587305686\n"
     ]
    },
    {
     "name": "stderr",
     "output_type": "stream",
     "text": [
      "Training:  58%|█████▊    | 116/200 [00:05<00:03, 23.09epoch/s]"
     ]
    },
    {
     "name": "stdout",
     "output_type": "stream",
     "text": [
      "Epoch 114/200, Cross Entropy: 1.8115934100873368\n",
      "Epoch 115/200, Cross Entropy: 1.8116009441640735\n",
      "Epoch 116/200, Cross Entropy: 1.8116083599498651\n",
      "Epoch 117/200, Cross Entropy: 1.8116156565818717\n"
     ]
    },
    {
     "name": "stderr",
     "output_type": "stream",
     "text": [
      "Training:  60%|█████▉    | 119/200 [00:05<00:03, 22.92epoch/s]"
     ]
    },
    {
     "name": "stdout",
     "output_type": "stream",
     "text": [
      "Epoch 118/200, Cross Entropy: 1.8116228333391864\n",
      "Epoch 119/200, Cross Entropy: 1.8116298896368097\n",
      "Epoch 120/200, Cross Entropy: 1.8116368250197386\n",
      "Epoch 121/200, Cross Entropy: 1.8116436391571795\n"
     ]
    },
    {
     "name": "stderr",
     "output_type": "stream",
     "text": [
      "Training:  61%|██████    | 122/200 [00:05<00:03, 22.50epoch/s]"
     ]
    },
    {
     "name": "stdout",
     "output_type": "stream",
     "text": [
      "Epoch 122/200, Cross Entropy: 1.81165033183689\n"
     ]
    },
    {
     "name": "stderr",
     "output_type": "stream",
     "text": [
      "Training:  62%|██████▎   | 125/200 [00:06<00:05, 14.53epoch/s]"
     ]
    },
    {
     "name": "stdout",
     "output_type": "stream",
     "text": [
      "Epoch 123/200, Cross Entropy: 1.811656902959643\n",
      "Epoch 124/200, Cross Entropy: 1.8116633525338361\n",
      "Epoch 125/200, Cross Entropy: 1.811669680670228\n",
      "Epoch 126/200, Cross Entropy: 1.8116758875768166\n"
     ]
    },
    {
     "name": "stderr",
     "output_type": "stream",
     "text": [
      "Training:  66%|██████▌   | 131/200 [00:06<00:03, 18.28epoch/s]"
     ]
    },
    {
     "name": "stdout",
     "output_type": "stream",
     "text": [
      "Epoch 127/200, Cross Entropy: 1.8116819735538563\n",
      "Epoch 128/200, Cross Entropy: 1.8116879389890173\n",
      "Epoch 129/200, Cross Entropy: 1.8116937843526835\n",
      "Epoch 130/200, Cross Entropy: 1.8116995101933935\n",
      "Epoch 131/200, Cross Entropy: 1.811705117133424\n"
     ]
    },
    {
     "name": "stderr",
     "output_type": "stream",
     "text": [
      "Training:  67%|██████▋   | 134/200 [00:06<00:03, 19.96epoch/s]"
     ]
    },
    {
     "name": "stdout",
     "output_type": "stream",
     "text": [
      "Epoch 132/200, Cross Entropy: 1.8117106058645114\n",
      "Epoch 133/200, Cross Entropy: 1.811715977143716\n",
      "Epoch 134/200, Cross Entropy: 1.8117212317894218\n",
      "Epoch 135/200, Cross Entropy: 1.811726370677477\n",
      "Epoch 136/200, Cross Entropy: 1.8117313947374698\n"
     ]
    },
    {
     "name": "stderr",
     "output_type": "stream",
     "text": [
      "Training:  70%|███████   | 140/200 [00:06<00:02, 22.28epoch/s]"
     ]
    },
    {
     "name": "stdout",
     "output_type": "stream",
     "text": [
      "Epoch 137/200, Cross Entropy: 1.8117363049491353\n",
      "Epoch 138/200, Cross Entropy: 1.8117411023388978\n",
      "Epoch 139/200, Cross Entropy: 1.811745787976541\n",
      "Epoch 140/200, Cross Entropy: 1.8117503629720084\n",
      "Epoch 141/200, Cross Entropy: 1.811754828472322\n"
     ]
    },
    {
     "name": "stderr",
     "output_type": "stream",
     "text": [
      "Training:  73%|███████▎  | 146/200 [00:06<00:02, 24.25epoch/s]"
     ]
    },
    {
     "name": "stdout",
     "output_type": "stream",
     "text": [
      "Epoch 142/200, Cross Entropy: 1.8117591856586337\n",
      "Epoch 143/200, Cross Entropy: 1.8117634357433865\n",
      "Epoch 144/200, Cross Entropy: 1.8117675799676\n",
      "Epoch 145/200, Cross Entropy: 1.8117716195982658\n",
      "Epoch 146/200, Cross Entropy: 1.8117755559258577\n"
     ]
    },
    {
     "name": "stderr",
     "output_type": "stream",
     "text": [
      "Training:  74%|███████▍  | 149/200 [00:07<00:02, 25.02epoch/s]"
     ]
    },
    {
     "name": "stdout",
     "output_type": "stream",
     "text": [
      "Epoch 147/200, Cross Entropy: 1.8117793902619463\n",
      "Epoch 148/200, Cross Entropy: 1.8117831239369244\n",
      "Epoch 149/200, Cross Entropy: 1.81178675829783\n",
      "Epoch 150/200, Cross Entropy: 1.8117902947062732\n",
      "Epoch 151/200, Cross Entropy: 1.8117937345364559\n"
     ]
    },
    {
     "name": "stderr",
     "output_type": "stream",
     "text": [
      "                                                              "
     ]
    },
    {
     "name": "stdout",
     "output_type": "stream",
     "text": [
      "Epoch 152/200, Cross Entropy: 1.8117970791732922\n",
      "Epoch 153/200, Cross Entropy: 1.8118003300106096\n",
      "Epoch 154/200, Cross Entropy: 1.811803488449447\n",
      "Epoch 155/200, Cross Entropy: 1.8118065558964336\n",
      "Epoch 156/200, Cross Entropy: 1.8118095337622535\n"
     ]
    },
    {
     "name": "stderr",
     "output_type": "stream",
     "text": [
      "Training:  80%|████████  | 161/200 [00:07<00:01, 26.24epoch/s]"
     ]
    },
    {
     "name": "stdout",
     "output_type": "stream",
     "text": [
      "Epoch 157/200, Cross Entropy: 1.8118124234601833\n",
      "Epoch 158/200, Cross Entropy: 1.8118152264047154\n",
      "Epoch 159/200, Cross Entropy: 1.8118179440102478\n",
      "Epoch 160/200, Cross Entropy: 1.8118205776898493\n",
      "Epoch 161/200, Cross Entropy: 1.8118231288540918\n"
     ]
    },
    {
     "name": "stderr",
     "output_type": "stream",
     "text": [
      "Training:  82%|████████▏ | 164/200 [00:07<00:01, 24.98epoch/s]"
     ]
    },
    {
     "name": "stdout",
     "output_type": "stream",
     "text": [
      "Epoch 162/200, Cross Entropy: 1.8118255989099517\n",
      "Epoch 163/200, Cross Entropy: 1.8118279892597684\n",
      "Epoch 164/200, Cross Entropy: 1.8118303013002734\n",
      "Epoch 165/200, Cross Entropy: 1.8118325364216694\n",
      "Epoch 166/200, Cross Entropy: 1.8118346960067733\n"
     ]
    },
    {
     "name": "stderr",
     "output_type": "stream",
     "text": [
      "Training:  85%|████████▌ | 170/200 [00:07<00:01, 25.36epoch/s]"
     ]
    },
    {
     "name": "stdout",
     "output_type": "stream",
     "text": [
      "Epoch 167/200, Cross Entropy: 1.8118367814302068\n",
      "Epoch 168/200, Cross Entropy: 1.8118387940576433\n",
      "Epoch 169/200, Cross Entropy: 1.8118407352451058\n",
      "Epoch 170/200, Cross Entropy: 1.8118426063383075\n",
      "Epoch 171/200, Cross Entropy: 1.8118444086720438\n"
     ]
    },
    {
     "name": "stderr",
     "output_type": "stream",
     "text": [
      "Training:  88%|████████▊ | 176/200 [00:08<00:00, 26.20epoch/s]"
     ]
    },
    {
     "name": "stdout",
     "output_type": "stream",
     "text": [
      "Epoch 172/200, Cross Entropy: 1.811846143569623\n",
      "Epoch 173/200, Cross Entropy: 1.8118478123423436\n",
      "Epoch 174/200, Cross Entropy: 1.8118494162890084\n",
      "Epoch 175/200, Cross Entropy: 1.8118509566954786\n",
      "Epoch 176/200, Cross Entropy: 1.8118524348342633\n",
      "Epoch 177/200, Cross Entropy: 1.8118538519641454\n"
     ]
    },
    {
     "name": "stderr",
     "output_type": "stream",
     "text": [
      "Training:  91%|█████████ | 182/200 [00:08<00:00, 25.95epoch/s]"
     ]
    },
    {
     "name": "stdout",
     "output_type": "stream",
     "text": [
      "Epoch 178/200, Cross Entropy: 1.8118552093298377\n",
      "Epoch 179/200, Cross Entropy: 1.811856508161675\n",
      "Epoch 180/200, Cross Entropy: 1.8118577496753345\n",
      "Epoch 181/200, Cross Entropy: 1.8118589350715824\n",
      "Epoch 182/200, Cross Entropy: 1.811860065536051\n"
     ]
    },
    {
     "name": "stderr",
     "output_type": "stream",
     "text": [
      "Training:  92%|█████████▎| 185/200 [00:08<00:00, 26.06epoch/s]"
     ]
    },
    {
     "name": "stdout",
     "output_type": "stream",
     "text": [
      "Epoch 183/200, Cross Entropy: 1.8118611422390423\n",
      "Epoch 184/200, Cross Entropy: 1.8118621663353536\n",
      "Epoch 185/200, Cross Entropy: 1.811863138964128\n",
      "Epoch 186/200, Cross Entropy: 1.8118640612487287\n",
      "Epoch 187/200, Cross Entropy: 1.8118649342966289\n"
     ]
    },
    {
     "name": "stderr",
     "output_type": "stream",
     "text": [
      "Training:  96%|█████████▌| 191/200 [00:08<00:00, 26.08epoch/s]"
     ]
    },
    {
     "name": "stdout",
     "output_type": "stream",
     "text": [
      "Epoch 188/200, Cross Entropy: 1.8118657591993306\n",
      "Epoch 189/200, Cross Entropy: 1.8118665370322926\n",
      "Epoch 190/200, Cross Entropy: 1.8118672688548862\n",
      "Epoch 191/200, Cross Entropy: 1.8118679557103572\n",
      "Epoch 192/200, Cross Entropy: 1.8118685986258138\n"
     ]
    },
    {
     "name": "stderr",
     "output_type": "stream",
     "text": [
      "Training:  98%|█████████▊| 197/200 [00:08<00:00, 26.30epoch/s]"
     ]
    },
    {
     "name": "stdout",
     "output_type": "stream",
     "text": [
      "Epoch 193/200, Cross Entropy: 1.811869198612224\n",
      "Epoch 194/200, Cross Entropy: 1.8118697566644264\n",
      "Epoch 195/200, Cross Entropy: 1.8118702737611607\n",
      "Epoch 196/200, Cross Entropy: 1.8118707508651029\n",
      "Epoch 197/200, Cross Entropy: 1.8118711889229169\n"
     ]
    },
    {
     "name": "stderr",
     "output_type": "stream",
     "text": [
      "Training: 100%|██████████| 200/200 [00:08<00:00, 22.36epoch/s]\n"
     ]
    },
    {
     "name": "stdout",
     "output_type": "stream",
     "text": [
      "Epoch 198/200, Cross Entropy: 1.811871588865318\n",
      "Epoch 199/200, Cross Entropy: 1.8118719516071438\n",
      "Epoch 200/200, Cross Entropy: 1.8118722780474361\n",
      "Results saved to: ../results/layers/error_rates_layers_4_4layers_200_200_200_200_1000.txt\n",
      "\n",
      "--------- PRETRAINING PHASE --------\n",
      "\n"
     ]
    },
    {
     "name": "stderr",
     "output_type": "stream",
     "text": [
      "Epoch 0: 100%|██████████| 16/16 [00:00<00:00, 152.38it/s]r/s]\n",
      "Epoch 1: 100%|██████████| 16/16 [00:00<00:00, 177.77it/s]\n",
      "Epoch 2: 100%|██████████| 16/16 [00:00<00:00, 179.78it/s]\n",
      "Epoch 3: 100%|██████████| 16/16 [00:00<00:00, 175.82it/s]\n",
      "Epoch 4: 100%|██████████| 16/16 [00:00<00:00, 155.33it/s]\n",
      "Epoch 5: 100%|██████████| 16/16 [00:00<00:00, 149.53it/s]\n",
      "Epoch 6: 100%|██████████| 16/16 [00:00<00:00, 148.42it/s]\n",
      "Epoch 7: 100%|██████████| 16/16 [00:00<00:00, 154.58it/s]\n",
      "Epoch 8: 100%|██████████| 16/16 [00:00<00:00, 174.83it/s]\n",
      "Epoch 9: 100%|██████████| 16/16 [00:00<00:00, 168.42it/s]\n",
      "Epoch 10: 100%|██████████| 16/16 [00:00<00:00, 139.14it/s]\n",
      "Epoch 11: 100%|██████████| 16/16 [00:00<00:00, 111.89it/s]\n",
      "Epoch 12: 100%|██████████| 16/16 [00:00<00:00, 136.75it/s]\n",
      "Epoch 13: 100%|██████████| 16/16 [00:00<00:00, 134.45it/s]\n",
      "Epoch 14: 100%|██████████| 16/16 [00:00<00:00, 148.15it/s]\n",
      "Epoch 15: 100%|██████████| 16/16 [00:00<00:00, 152.38it/s]\n",
      "Epoch 16: 100%|██████████| 16/16 [00:00<00:00, 149.53it/s]\n",
      "Epoch 17: 100%|██████████| 16/16 [00:00<00:00, 149.53it/s]\n",
      "Epoch 18: 100%|██████████| 16/16 [00:00<00:00, 146.79it/s]\n",
      "Epoch 19: 100%|██████████| 16/16 [00:00<00:00, 134.45it/s]\n",
      "Epoch 20: 100%|██████████| 16/16 [00:00<00:00, 150.94it/s]\n",
      "Epoch 21: 100%|██████████| 16/16 [00:00<00:00, 141.60it/s]\n",
      "Epoch 22: 100%|██████████| 16/16 [00:00<00:00, 136.75it/s]\n",
      "Epoch 23: 100%|██████████| 16/16 [00:00<00:00, 153.84it/s]\n",
      "Epoch 24: 100%|██████████| 16/16 [00:00<00:00, 135.59it/s]\n",
      "Epoch 25: 100%|██████████| 16/16 [00:00<00:00, 122.14it/s]\n",
      "Epoch 26: 100%|██████████| 16/16 [00:00<00:00, 130.47it/s]\n",
      "Epoch 27: 100%|██████████| 16/16 [00:00<00:00, 135.92it/s]\n",
      "Epoch 28: 100%|██████████| 16/16 [00:00<00:00, 145.45it/s]\n",
      "Epoch 29: 100%|██████████| 16/16 [00:00<00:00, 136.75it/s]\n",
      "Epoch 30: 100%|██████████| 16/16 [00:00<00:00, 125.01it/s]\n",
      "Epoch 31: 100%|██████████| 16/16 [00:00<00:00, 148.15it/s]\n",
      "Epoch 32: 100%|██████████| 16/16 [00:00<00:00, 133.33it/s]\n",
      "Epoch 33: 100%|██████████| 16/16 [00:00<00:00, 131.15it/s]\n",
      "Epoch 34: 100%|██████████| 16/16 [00:00<00:00, 134.45it/s]\n",
      "Epoch 35: 100%|██████████| 16/16 [00:00<00:00, 134.45it/s]\n",
      "Epoch 36: 100%|██████████| 16/16 [00:00<00:00, 144.14it/s]\n",
      "Epoch 37: 100%|██████████| 16/16 [00:00<00:00, 119.40it/s]\n",
      "Epoch 38: 100%|██████████| 16/16 [00:00<00:00, 89.89it/s] \n",
      "Epoch 39: 100%|██████████| 16/16 [00:00<00:00, 134.45it/s]\n",
      "Epoch 40: 100%|██████████| 16/16 [00:00<00:00, 103.22it/s]\n",
      "Epoch 41: 100%|██████████| 16/16 [00:00<00:00, 40.92it/s] \n",
      "Epoch 42: 100%|██████████| 16/16 [00:00<00:00, 55.56it/s]\n",
      "Epoch 43: 100%|██████████| 16/16 [00:00<00:00, 108.84it/s]\n",
      "Epoch 44: 100%|██████████| 16/16 [00:00<00:00, 113.47it/s]\n",
      "Epoch 45: 100%|██████████| 16/16 [00:00<00:00, 140.35it/s]\n",
      "Epoch 46: 100%|██████████| 16/16 [00:00<00:00, 137.94it/s]\n",
      "Epoch 47: 100%|██████████| 16/16 [00:00<00:00, 137.93it/s]\n",
      "Epoch 48: 100%|██████████| 16/16 [00:00<00:00, 149.53it/s]\n",
      "Epoch 49: 100%|██████████| 16/16 [00:00<00:00, 133.33it/s]\n",
      "Epoch 50: 100%|██████████| 16/16 [00:00<00:00, 125.99it/s]\n",
      "Epoch 51: 100%|██████████| 16/16 [00:00<00:00, 119.40it/s]\n",
      "Epoch 52: 100%|██████████| 16/16 [00:00<00:00, 119.40it/s]\n",
      "Epoch 53: 100%|██████████| 16/16 [00:00<00:00, 113.48it/s]\n",
      "Epoch 54: 100%|██████████| 16/16 [00:00<00:00, 128.00it/s]\n",
      "Epoch 55: 100%|██████████| 16/16 [00:00<00:00, 119.41it/s]\n",
      "Epoch 56: 100%|██████████| 16/16 [00:00<00:00, 105.26it/s]\n",
      "Epoch 57: 100%|██████████| 16/16 [00:00<00:00, 106.67it/s]\n",
      "Epoch 58: 100%|██████████| 16/16 [00:00<00:00, 99.84it/s] \n",
      "Epoch 59: 100%|██████████| 16/16 [00:00<00:00, 106.78it/s]\n",
      "Epoch 60: 100%|██████████| 16/16 [00:00<00:00, 111.89it/s]\n",
      "Epoch 61: 100%|██████████| 16/16 [00:00<00:00, 107.38it/s]\n",
      "Epoch 62: 100%|██████████| 16/16 [00:00<00:00, 106.67it/s]\n",
      "Epoch 63: 100%|██████████| 16/16 [00:00<00:00, 94.67it/s]\n",
      "Epoch 64: 100%|██████████| 16/16 [00:00<00:00, 120.30it/s]\n",
      "Epoch 65: 100%|██████████| 16/16 [00:00<00:00, 117.65it/s]\n",
      "Epoch 66: 100%|██████████| 16/16 [00:00<00:00, 119.40it/s]\n",
      "Epoch 67: 100%|██████████| 16/16 [00:00<00:00, 92.48it/s] \n",
      "Epoch 68: 100%|██████████| 16/16 [00:00<00:00, 105.26it/s]\n",
      "Epoch 69: 100%|██████████| 16/16 [00:00<00:00, 105.96it/s]\n",
      "Epoch 70: 100%|██████████| 16/16 [00:00<00:00, 133.33it/s]\n",
      "Epoch 71: 100%|██████████| 16/16 [00:00<00:00, 117.65it/s]\n",
      "Epoch 72: 100%|██████████| 16/16 [00:00<00:00, 117.65it/s]\n",
      "Epoch 73: 100%|██████████| 16/16 [00:00<00:00, 90.10it/s]\n",
      "Epoch 74: 100%|██████████| 16/16 [00:00<00:00, 105.00it/s]\n",
      "Epoch 75: 100%|██████████| 16/16 [00:00<00:00, 41.34it/s] \n",
      "Epoch 76: 100%|██████████| 16/16 [00:00<00:00, 100.00it/s]\n",
      "Epoch 77: 100%|██████████| 16/16 [00:00<00:00, 111.11it/s]\n",
      "Epoch 78: 100%|██████████| 16/16 [00:00<00:00, 130.08it/s]\n",
      "Epoch 79: 100%|██████████| 16/16 [00:00<00:00, 134.45it/s]\n",
      "Epoch 80: 100%|██████████| 16/16 [00:00<00:00, 117.65it/s]\n",
      "Epoch 81: 100%|██████████| 16/16 [00:00<00:00, 109.59it/s]\n",
      "Epoch 82: 100%|██████████| 16/16 [00:00<00:00, 137.93it/s]\n",
      "Epoch 83: 100%|██████████| 16/16 [00:00<00:00, 153.85it/s]\n",
      "Epoch 84: 100%|██████████| 16/16 [00:00<00:00, 129.03it/s]\n",
      "Epoch 85: 100%|██████████| 16/16 [00:00<00:00, 134.45it/s]\n",
      "Epoch 86: 100%|██████████| 16/16 [00:00<00:00, 142.86it/s]\n",
      "Epoch 87: 100%|██████████| 16/16 [00:00<00:00, 135.60it/s]\n",
      "Epoch 88: 100%|██████████| 16/16 [00:00<00:00, 91.98it/s]\n",
      "Epoch 89: 100%|██████████| 16/16 [00:00<00:00, 114.75it/s]\n",
      "Epoch 90: 100%|██████████| 16/16 [00:00<00:00, 119.40it/s]\n",
      "Epoch 91: 100%|██████████| 16/16 [00:00<00:00, 135.59it/s]\n",
      "Epoch 92: 100%|██████████| 16/16 [00:00<00:00, 105.96it/s]\n",
      "Epoch 93: 100%|██████████| 16/16 [00:00<00:00, 122.15it/s]\n",
      "Epoch 94: 100%|██████████| 16/16 [00:00<00:00, 130.08it/s]\n",
      "Epoch 95: 100%|██████████| 16/16 [00:00<00:00, 140.35it/s]\n",
      "Epoch 96: 100%|██████████| 16/16 [00:00<00:00, 107.38it/s]\n",
      "Epoch 97: 100%|██████████| 16/16 [00:00<00:00, 146.79it/s]\n",
      "Epoch 98: 100%|██████████| 16/16 [00:00<00:00, 155.34it/s]\n",
      "Epoch 99: 100%|██████████| 16/16 [00:00<00:00, 135.59it/s]\n",
      "Epoch 0: 100%|██████████| 16/16 [00:00<00:00, 499.98it/s]4.00s/layer]\n",
      "Epoch 1: 100%|██████████| 16/16 [00:00<00:00, 533.36it/s]\n",
      "Epoch 2: 100%|██████████| 16/16 [00:00<00:00, 571.43it/s]\n",
      "Epoch 3: 100%|██████████| 16/16 [00:00<00:00, 551.73it/s]\n",
      "Epoch 4: 100%|██████████| 16/16 [00:00<00:00, 500.01it/s]\n",
      "Epoch 5: 100%|██████████| 16/16 [00:00<00:00, 551.69it/s]\n",
      "Epoch 6: 100%|██████████| 16/16 [00:00<00:00, 484.82it/s]\n",
      "Epoch 7: 100%|██████████| 16/16 [00:00<00:00, 516.13it/s]\n",
      "Epoch 8: 100%|██████████| 16/16 [00:00<00:00, 592.68it/s]\n",
      "Epoch 9: 100%|██████████| 16/16 [00:00<00:00, 533.34it/s]\n",
      "Epoch 10: 100%|██████████| 16/16 [00:00<00:00, 571.43it/s]\n",
      "Epoch 11: 100%|██████████| 16/16 [00:00<00:00, 500.00it/s]\n",
      "Epoch 12: 100%|██████████| 16/16 [00:00<00:00, 457.12it/s]\n",
      "Epoch 13: 100%|██████████| 16/16 [00:00<00:00, 347.84it/s]\n",
      "Epoch 14: 100%|██████████| 16/16 [00:00<00:00, 444.51it/s]\n",
      "Epoch 15: 100%|██████████| 16/16 [00:00<00:00, 444.41it/s]\n",
      "Epoch 16: 100%|██████████| 16/16 [00:00<00:00, 484.84it/s]\n",
      "Epoch 17: 100%|██████████| 16/16 [00:00<00:00, 399.98it/s]\n",
      "Epoch 18: 100%|██████████| 16/16 [00:00<00:00, 385.36it/s]\n",
      "Epoch 19: 100%|██████████| 16/16 [00:00<00:00, 423.70it/s]\n",
      "Epoch 20: 100%|██████████| 16/16 [00:00<00:00, 432.43it/s]\n",
      "Epoch 21: 100%|██████████| 16/16 [00:00<00:00, 421.01it/s]\n",
      "Epoch 22: 100%|██████████| 16/16 [00:00<00:00, 394.35it/s]\n",
      "Epoch 23: 100%|██████████| 16/16 [00:00<00:00, 484.80it/s]\n",
      "Epoch 24: 100%|██████████| 16/16 [00:00<00:00, 457.14it/s]\n",
      "Epoch 25: 100%|██████████| 16/16 [00:00<00:00, 432.44it/s]\n",
      "Epoch 26: 100%|██████████| 16/16 [00:00<00:00, 470.58it/s]\n",
      "Epoch 27: 100%|██████████| 16/16 [00:00<00:00, 444.43it/s]\n",
      "Epoch 28: 100%|██████████| 16/16 [00:00<00:00, 484.84it/s]\n",
      "Epoch 29: 100%|██████████| 16/16 [00:00<00:00, 432.42it/s]\n",
      "Epoch 30: 100%|██████████| 16/16 [00:00<00:00, 470.60it/s]\n",
      "Epoch 31: 100%|██████████| 16/16 [00:00<00:00, 444.46it/s]\n",
      "Epoch 32: 100%|██████████| 16/16 [00:00<00:00, 470.61it/s]\n",
      "Epoch 33: 100%|██████████| 16/16 [00:00<00:00, 470.60it/s]\n",
      "Epoch 34: 100%|██████████| 16/16 [00:00<00:00, 500.17it/s]\n",
      "Epoch 35: 100%|██████████| 16/16 [00:00<00:00, 421.03it/s]\n",
      "Epoch 36: 100%|██████████| 16/16 [00:00<00:00, 500.00it/s]\n",
      "Epoch 37: 100%|██████████| 16/16 [00:00<00:00, 533.33it/s]\n",
      "Epoch 38: 100%|██████████| 16/16 [00:00<00:00, 500.06it/s]\n",
      "Epoch 39: 100%|██████████| 16/16 [00:00<00:00, 484.85it/s]\n",
      "Epoch 40: 100%|██████████| 16/16 [00:00<00:00, 499.94it/s]\n",
      "Epoch 41: 100%|██████████| 16/16 [00:00<00:00, 571.40it/s]\n",
      "Epoch 42: 100%|██████████| 16/16 [00:00<00:00, 484.87it/s]\n",
      "Epoch 43: 100%|██████████| 16/16 [00:00<00:00, 516.16it/s]\n",
      "Epoch 44: 100%|██████████| 16/16 [00:00<00:00, 516.09it/s]\n",
      "Epoch 45: 100%|██████████| 16/16 [00:00<00:00, 457.12it/s]\n",
      "Epoch 46: 100%|██████████| 16/16 [00:00<00:00, 444.44it/s]\n",
      "Epoch 47: 100%|██████████| 16/16 [00:00<00:00, 516.12it/s]\n",
      "Epoch 48: 100%|██████████| 16/16 [00:00<00:00, 533.40it/s]\n",
      "Epoch 49: 100%|██████████| 16/16 [00:00<00:00, 70.47it/s]\n",
      "Epoch 50: 100%|██████████| 16/16 [00:00<00:00, 355.57it/s]\n",
      "Epoch 51: 100%|██████████| 16/16 [00:00<00:00, 399.94it/s]\n",
      "Epoch 52: 100%|██████████| 16/16 [00:00<00:00, 380.86it/s]\n",
      "Epoch 53: 100%|██████████| 16/16 [00:00<00:00, 421.01it/s]\n",
      "Epoch 54: 100%|██████████| 16/16 [00:00<00:00, 484.87it/s]\n",
      "Epoch 55: 100%|██████████| 16/16 [00:00<00:00, 499.95it/s]\n",
      "Epoch 56: 100%|██████████| 16/16 [00:00<00:00, 484.90it/s]\n",
      "Epoch 57: 100%|██████████| 16/16 [00:00<00:00, 533.35it/s]\n",
      "Epoch 58: 100%|██████████| 16/16 [00:00<00:00, 484.86it/s]\n",
      "Epoch 59: 100%|██████████| 16/16 [00:00<00:00, 516.12it/s]\n",
      "Epoch 60: 100%|██████████| 16/16 [00:00<00:00, 499.93it/s]\n",
      "Epoch 61: 100%|██████████| 16/16 [00:00<00:00, 551.78it/s]\n",
      "Epoch 62: 100%|██████████| 16/16 [00:00<00:00, 444.48it/s]\n",
      "Epoch 63: 100%|██████████| 16/16 [00:00<00:00, 551.69it/s]\n",
      "Epoch 64: 100%|██████████| 16/16 [00:00<00:00, 516.14it/s]\n",
      "Epoch 65: 100%|██████████| 16/16 [00:00<00:00, 516.19it/s]\n",
      "Epoch 66: 100%|██████████| 16/16 [00:00<00:00, 516.11it/s]\n",
      "Epoch 67: 100%|██████████| 16/16 [00:00<00:00, 499.99it/s]\n",
      "Epoch 68: 100%|██████████| 16/16 [00:00<00:00, 500.00it/s]\n",
      "Epoch 69: 100%|██████████| 16/16 [00:00<00:00, 457.14it/s]\n",
      "Epoch 70: 100%|██████████| 16/16 [00:00<00:00, 420.22it/s]\n",
      "Epoch 71: 100%|██████████| 16/16 [00:00<00:00, 449.00it/s]\n",
      "Epoch 72: 100%|██████████| 16/16 [00:00<00:00, 432.12it/s]\n",
      "Epoch 73: 100%|██████████| 16/16 [00:00<00:00, 407.67it/s]\n",
      "Epoch 74: 100%|██████████| 16/16 [00:00<00:00, 461.31it/s]\n",
      "Epoch 75: 100%|██████████| 16/16 [00:00<00:00, 484.85it/s]\n",
      "Epoch 76: 100%|██████████| 16/16 [00:00<00:00, 533.34it/s]\n",
      "Epoch 77: 100%|██████████| 16/16 [00:00<00:00, 499.98it/s]\n",
      "Epoch 78: 100%|██████████| 16/16 [00:00<00:00, 484.84it/s]\n",
      "Epoch 79: 100%|██████████| 16/16 [00:00<00:00, 500.01it/s]\n",
      "Epoch 80: 100%|██████████| 16/16 [00:00<00:00, 421.05it/s]\n",
      "Epoch 81: 100%|██████████| 16/16 [00:00<00:00, 421.07it/s]\n",
      "Epoch 82: 100%|██████████| 16/16 [00:00<00:00, 355.58it/s]\n",
      "Epoch 83: 100%|██████████| 16/16 [00:00<00:00, 432.43it/s]\n",
      "Epoch 84: 100%|██████████| 16/16 [00:00<00:00, 499.94it/s]\n",
      "Epoch 85: 100%|██████████| 16/16 [00:00<00:00, 470.58it/s]\n",
      "Epoch 86: 100%|██████████| 16/16 [00:00<00:00, 499.97it/s]\n",
      "Epoch 87: 100%|██████████| 16/16 [00:00<00:00, 516.15it/s]\n",
      "Epoch 88: 100%|██████████| 16/16 [00:00<00:00, 516.15it/s]\n",
      "Epoch 89: 100%|██████████| 16/16 [00:00<00:00, 551.77it/s]\n",
      "Epoch 90: 100%|██████████| 16/16 [00:00<00:00, 533.36it/s]\n",
      "Epoch 91: 100%|██████████| 16/16 [00:00<00:00, 470.50it/s]\n",
      "Epoch 92: 100%|██████████| 16/16 [00:00<00:00, 533.35it/s]\n",
      "Epoch 93: 100%|██████████| 16/16 [00:00<00:00, 457.12it/s]\n",
      "Epoch 94: 100%|██████████| 16/16 [00:00<00:00, 500.00it/s]\n",
      "Epoch 95: 100%|██████████| 16/16 [00:00<00:00, 470.57it/s]\n",
      "Epoch 96: 100%|██████████| 16/16 [00:00<00:00, 484.86it/s]\n",
      "Epoch 97: 100%|██████████| 16/16 [00:00<00:00, 499.99it/s]\n",
      "Epoch 98: 100%|██████████| 16/16 [00:00<00:00, 533.29it/s]\n",
      "Epoch 99: 100%|██████████| 16/16 [00:00<00:00, 516.09it/s]\n",
      "Epoch 0: 100%|██████████| 16/16 [00:00<00:00, 470.64it/s]8.20s/layer]\n",
      "Epoch 1: 100%|██████████| 16/16 [00:00<00:00, 484.84it/s]\n",
      "Epoch 2: 100%|██████████| 16/16 [00:00<00:00, 533.29it/s]\n",
      "Epoch 3: 100%|██████████| 16/16 [00:00<00:00, 533.34it/s]\n",
      "Epoch 4: 100%|██████████| 16/16 [00:00<00:00, 499.98it/s]\n",
      "Epoch 5: 100%|██████████| 16/16 [00:00<00:00, 533.28it/s]\n",
      "Epoch 6: 100%|██████████| 16/16 [00:00<00:00, 390.22it/s]\n",
      "Epoch 7: 100%|██████████| 16/16 [00:00<00:00, 380.96it/s]\n",
      "Epoch 8: 100%|██████████| 16/16 [00:00<00:00, 326.54it/s]\n",
      "Epoch 9: 100%|██████████| 16/16 [00:00<00:00, 432.41it/s]\n",
      "Epoch 10: 100%|██████████| 16/16 [00:00<00:00, 381.00it/s]\n",
      "Epoch 11: 100%|██████████| 16/16 [00:00<00:00, 410.24it/s]\n",
      "Epoch 12: 100%|██████████| 16/16 [00:00<00:00, 432.51it/s]\n",
      "Epoch 13: 100%|██████████| 16/16 [00:00<00:00, 457.14it/s]\n",
      "Epoch 14: 100%|██████████| 16/16 [00:00<00:00, 484.82it/s]\n",
      "Epoch 15: 100%|██████████| 16/16 [00:00<00:00, 500.09it/s]\n",
      "Epoch 16: 100%|██████████| 16/16 [00:00<00:00, 484.85it/s]\n",
      "Epoch 17: 100%|██████████| 16/16 [00:00<00:00, 516.23it/s]\n",
      "Epoch 18: 100%|██████████| 16/16 [00:00<00:00, 533.39it/s]\n",
      "Epoch 19: 100%|██████████| 16/16 [00:00<00:00, 399.97it/s]\n",
      "Epoch 20: 100%|██████████| 16/16 [00:00<00:00, 410.26it/s]\n",
      "Epoch 21: 100%|██████████| 16/16 [00:00<00:00, 444.44it/s]\n",
      "Epoch 22: 100%|██████████| 16/16 [00:00<00:00, 250.01it/s]\n",
      "Epoch 23: 100%|██████████| 16/16 [00:00<00:00, 444.45it/s]\n",
      "Epoch 24: 100%|██████████| 16/16 [00:00<00:00, 355.54it/s]\n",
      "Epoch 25: 100%|██████████| 16/16 [00:00<00:00, 297.13it/s]\n",
      "Epoch 26: 100%|██████████| 16/16 [00:00<00:00, 285.52it/s]\n",
      "Epoch 27: 100%|██████████| 16/16 [00:00<00:00, 355.55it/s]\n",
      "Epoch 28: 100%|██████████| 16/16 [00:00<00:00, 276.60it/s]\n",
      "Epoch 29: 100%|██████████| 16/16 [00:00<00:00, 313.74it/s]\n",
      "Epoch 30: 100%|██████████| 16/16 [00:00<00:00, 372.10it/s]\n",
      "Epoch 31: 100%|██████████| 16/16 [00:00<00:00, 410.26it/s]\n",
      "Epoch 32: 100%|██████████| 16/16 [00:00<00:00, 390.25it/s]\n",
      "Epoch 33: 100%|██████████| 16/16 [00:00<00:00, 484.84it/s]\n",
      "Epoch 34: 100%|██████████| 16/16 [00:00<00:00, 484.80it/s]\n",
      "Epoch 35: 100%|██████████| 16/16 [00:00<00:00, 516.13it/s]\n",
      "Epoch 36: 100%|██████████| 16/16 [00:00<00:00, 516.19it/s]\n",
      "Epoch 37: 100%|██████████| 16/16 [00:00<00:00, 533.18it/s]\n",
      "Epoch 38: 100%|██████████| 16/16 [00:00<00:00, 484.83it/s]\n",
      "Epoch 39: 100%|██████████| 16/16 [00:00<00:00, 421.06it/s]\n",
      "Epoch 40: 100%|██████████| 16/16 [00:00<00:00, 390.25it/s]\n",
      "Epoch 41: 100%|██████████| 16/16 [00:00<00:00, 457.15it/s]\n",
      "Epoch 42: 100%|██████████| 16/16 [00:00<00:00, 470.61it/s]\n",
      "Epoch 43: 100%|██████████| 16/16 [00:00<00:00, 516.11it/s]\n",
      "Epoch 44: 100%|██████████| 16/16 [00:00<00:00, 499.95it/s]\n",
      "Epoch 45: 100%|██████████| 16/16 [00:00<00:00, 410.24it/s]\n",
      "Epoch 46: 100%|██████████| 16/16 [00:00<00:00, 85.56it/s]\n",
      "Epoch 47: 100%|██████████| 16/16 [00:00<00:00, 125.98it/s]\n",
      "Epoch 48: 100%|██████████| 16/16 [00:00<00:00, 333.35it/s]\n",
      "Epoch 49: 100%|██████████| 16/16 [00:00<00:00, 457.14it/s]\n",
      "Epoch 50: 100%|██████████| 16/16 [00:00<00:00, 390.25it/s]\n",
      "Epoch 51: 100%|██████████| 16/16 [00:00<00:00, 444.47it/s]\n",
      "Epoch 52: 100%|██████████| 16/16 [00:00<00:00, 551.72it/s]\n",
      "Epoch 53: 100%|██████████| 16/16 [00:00<00:00, 571.42it/s]\n",
      "Epoch 54: 100%|██████████| 16/16 [00:00<00:00, 551.76it/s]\n",
      "Epoch 55: 100%|██████████| 16/16 [00:00<00:00, 571.46it/s]\n",
      "Epoch 56: 100%|██████████| 16/16 [00:00<00:00, 551.65it/s]\n",
      "Epoch 57: 100%|██████████| 16/16 [00:00<00:00, 432.42it/s]\n",
      "Epoch 58: 100%|██████████| 16/16 [00:00<00:00, 516.09it/s]\n",
      "Epoch 59: 100%|██████████| 16/16 [00:00<00:00, 533.33it/s]\n",
      "Epoch 60: 100%|██████████| 16/16 [00:00<00:00, 444.36it/s]\n",
      "Epoch 61: 100%|██████████| 16/16 [00:00<00:00, 444.51it/s]\n",
      "Epoch 62: 100%|██████████| 16/16 [00:00<00:00, 457.15it/s]\n",
      "Epoch 63: 100%|██████████| 16/16 [00:00<00:00, 444.52it/s]\n",
      "Epoch 64: 100%|██████████| 16/16 [00:00<00:00, 457.16it/s]\n",
      "Epoch 65: 100%|██████████| 16/16 [00:00<00:00, 484.83it/s]\n",
      "Epoch 66: 100%|██████████| 16/16 [00:00<00:00, 500.02it/s]\n",
      "Epoch 67: 100%|██████████| 16/16 [00:00<00:00, 499.98it/s]\n",
      "Epoch 68: 100%|██████████| 16/16 [00:00<00:00, 444.38it/s]\n",
      "Epoch 69: 100%|██████████| 16/16 [00:00<00:00, 390.24it/s]\n",
      "Epoch 70: 100%|██████████| 16/16 [00:00<00:00, 444.42it/s]\n",
      "Epoch 71: 100%|██████████| 16/16 [00:00<00:00, 444.44it/s]\n",
      "Epoch 72: 100%|██████████| 16/16 [00:00<00:00, 484.82it/s]\n",
      "Epoch 73: 100%|██████████| 16/16 [00:00<00:00, 372.09it/s]\n",
      "Epoch 74: 100%|██████████| 16/16 [00:00<00:00, 376.23it/s]\n",
      "Epoch 75: 100%|██████████| 16/16 [00:00<00:00, 312.95it/s]\n",
      "Epoch 76: 100%|██████████| 16/16 [00:00<00:00, 394.29it/s]\n",
      "Epoch 77: 100%|██████████| 16/16 [00:00<00:00, 409.12it/s]\n",
      "Epoch 78: 100%|██████████| 16/16 [00:00<00:00, 439.89it/s]\n",
      "Epoch 79: 100%|██████████| 16/16 [00:00<00:00, 551.72it/s]\n",
      "Epoch 80: 100%|██████████| 16/16 [00:00<00:00, 551.71it/s]\n",
      "Epoch 81: 100%|██████████| 16/16 [00:00<00:00, 484.92it/s]\n",
      "Epoch 82: 100%|██████████| 16/16 [00:00<00:00, 533.24it/s]\n",
      "Epoch 83: 100%|██████████| 16/16 [00:00<00:00, 470.55it/s]\n",
      "Epoch 84: 100%|██████████| 16/16 [00:00<00:00, 400.01it/s]\n",
      "Epoch 85: 100%|██████████| 16/16 [00:00<00:00, 410.27it/s]\n",
      "Epoch 86: 100%|██████████| 16/16 [00:00<00:00, 399.96it/s]\n",
      "Epoch 87: 100%|██████████| 16/16 [00:00<00:00, 399.99it/s]\n",
      "Epoch 88: 100%|██████████| 16/16 [00:00<00:00, 400.00it/s]\n",
      "Epoch 89: 100%|██████████| 16/16 [00:00<00:00, 390.25it/s]\n",
      "Epoch 90: 100%|██████████| 16/16 [00:00<00:00, 421.06it/s]\n",
      "Epoch 91: 100%|██████████| 16/16 [00:00<00:00, 363.62it/s]\n",
      "Epoch 92: 100%|██████████| 16/16 [00:00<00:00, 484.85it/s]\n",
      "Epoch 93: 100%|██████████| 16/16 [00:00<00:00, 457.14it/s]\n",
      "Epoch 94: 100%|██████████| 16/16 [00:00<00:00, 432.36it/s]\n",
      "Epoch 95: 100%|██████████| 16/16 [00:00<00:00, 432.37it/s]\n",
      "Epoch 96: 100%|██████████| 16/16 [00:00<00:00, 432.37it/s]\n",
      "Epoch 97: 100%|██████████| 16/16 [00:00<00:00, 432.38it/s]\n",
      "Epoch 98: 100%|██████████| 16/16 [00:00<00:00, 457.13it/s]\n",
      "Epoch 99: 100%|██████████| 16/16 [00:00<00:00, 444.47it/s]\n",
      "Epoch 0: 100%|██████████| 16/16 [00:00<00:00, 533.40it/s]6.52s/layer]\n",
      "Epoch 1: 100%|██████████| 16/16 [00:00<00:00, 484.83it/s]\n",
      "Epoch 2: 100%|██████████| 16/16 [00:00<00:00, 500.01it/s]\n",
      "Epoch 3: 100%|██████████| 16/16 [00:00<00:00, 470.58it/s]\n",
      "Epoch 4: 100%|██████████| 16/16 [00:00<00:00, 499.97it/s]\n",
      "Epoch 5: 100%|██████████| 16/16 [00:00<00:00, 484.84it/s]\n",
      "Epoch 6: 100%|██████████| 16/16 [00:00<00:00, 470.58it/s]\n",
      "Epoch 7: 100%|██████████| 16/16 [00:00<00:00, 484.82it/s]\n",
      "Epoch 8: 100%|██████████| 16/16 [00:00<00:00, 484.84it/s]\n",
      "Epoch 9: 100%|██████████| 16/16 [00:00<00:00, 457.05it/s]\n",
      "Epoch 10: 100%|██████████| 16/16 [00:00<00:00, 516.14it/s]\n",
      "Epoch 11: 100%|██████████| 16/16 [00:00<00:00, 500.05it/s]\n",
      "Epoch 12: 100%|██████████| 16/16 [00:00<00:00, 499.99it/s]\n",
      "Epoch 13: 100%|██████████| 16/16 [00:00<00:00, 470.57it/s]\n",
      "Epoch 14: 100%|██████████| 16/16 [00:00<00:00, 71.75it/s]\n",
      "Epoch 15: 100%|██████████| 16/16 [00:00<00:00, 301.94it/s]\n",
      "Epoch 16: 100%|██████████| 16/16 [00:00<00:00, 380.93it/s]\n",
      "Epoch 17: 100%|██████████| 16/16 [00:00<00:00, 280.69it/s]\n",
      "Epoch 18: 100%|██████████| 16/16 [00:00<00:00, 347.82it/s]\n",
      "Epoch 19: 100%|██████████| 16/16 [00:00<00:00, 432.44it/s]\n",
      "Epoch 20: 100%|██████████| 16/16 [00:00<00:00, 380.95it/s]\n",
      "Epoch 21: 100%|██████████| 16/16 [00:00<00:00, 372.09it/s]\n",
      "Epoch 22: 100%|██████████| 16/16 [00:00<00:00, 333.31it/s]\n",
      "Epoch 23: 100%|██████████| 16/16 [00:00<00:00, 355.56it/s]\n",
      "Epoch 24: 100%|██████████| 16/16 [00:00<00:00, 355.54it/s]\n",
      "Epoch 25: 100%|██████████| 16/16 [00:00<00:00, 382.15it/s]\n",
      "Epoch 26: 100%|██████████| 16/16 [00:00<00:00, 444.44it/s]\n",
      "Epoch 27: 100%|██████████| 16/16 [00:00<00:00, 410.24it/s]\n",
      "Epoch 28: 100%|██████████| 16/16 [00:00<00:00, 399.98it/s]\n",
      "Epoch 29: 100%|██████████| 16/16 [00:00<00:00, 421.07it/s]\n",
      "Epoch 30: 100%|██████████| 16/16 [00:00<00:00, 444.45it/s]\n",
      "Epoch 31: 100%|██████████| 16/16 [00:00<00:00, 421.06it/s]\n",
      "Epoch 32: 100%|██████████| 16/16 [00:00<00:00, 390.22it/s]\n",
      "Epoch 33: 100%|██████████| 16/16 [00:00<00:00, 470.56it/s]\n",
      "Epoch 34: 100%|██████████| 16/16 [00:00<00:00, 484.84it/s]\n",
      "Epoch 35: 100%|██████████| 16/16 [00:00<00:00, 432.42it/s]\n",
      "Epoch 36: 100%|██████████| 16/16 [00:00<00:00, 457.15it/s]\n",
      "Epoch 37: 100%|██████████| 16/16 [00:00<00:00, 410.26it/s]\n",
      "Epoch 38: 100%|██████████| 16/16 [00:00<00:00, 421.07it/s]\n",
      "Epoch 39: 100%|██████████| 16/16 [00:00<00:00, 432.42it/s]\n",
      "Epoch 40: 100%|██████████| 16/16 [00:00<00:00, 457.14it/s]\n",
      "Epoch 41: 100%|██████████| 16/16 [00:00<00:00, 484.86it/s]\n",
      "Epoch 42: 100%|██████████| 16/16 [00:00<00:00, 470.57it/s]\n",
      "Epoch 43: 100%|██████████| 16/16 [00:00<00:00, 410.26it/s]\n",
      "Epoch 44: 100%|██████████| 16/16 [00:00<00:00, 484.76it/s]\n",
      "Epoch 45: 100%|██████████| 16/16 [00:00<00:00, 421.03it/s]\n",
      "Epoch 46: 100%|██████████| 16/16 [00:00<00:00, 484.89it/s]\n",
      "Epoch 47: 100%|██████████| 16/16 [00:00<00:00, 484.87it/s]\n",
      "Epoch 48: 100%|██████████| 16/16 [00:00<00:00, 457.18it/s]\n",
      "Epoch 49: 100%|██████████| 16/16 [00:00<00:00, 432.37it/s]\n",
      "Epoch 50: 100%|██████████| 16/16 [00:00<00:00, 457.14it/s]\n",
      "Epoch 51: 100%|██████████| 16/16 [00:00<00:00, 484.82it/s]\n",
      "Epoch 52: 100%|██████████| 16/16 [00:00<00:00, 571.38it/s]\n",
      "Epoch 53: 100%|██████████| 16/16 [00:00<00:00, 533.24it/s]\n",
      "Epoch 54: 100%|██████████| 16/16 [00:00<00:00, 470.57it/s]\n",
      "Epoch 55: 100%|██████████| 16/16 [00:00<00:00, 484.75it/s]\n",
      "Epoch 56: 100%|██████████| 16/16 [00:00<00:00, 500.04it/s]\n",
      "Epoch 57: 100%|██████████| 16/16 [00:00<00:00, 516.15it/s]\n",
      "Epoch 58: 100%|██████████| 16/16 [00:00<00:00, 410.26it/s]\n",
      "Epoch 59: 100%|██████████| 16/16 [00:00<00:00, 410.28it/s]\n",
      "Epoch 60: 100%|██████████| 16/16 [00:00<00:00, 410.26it/s]\n",
      "Epoch 61: 100%|██████████| 16/16 [00:00<00:00, 500.04it/s]\n",
      "Epoch 62: 100%|██████████| 16/16 [00:00<00:00, 499.97it/s]\n",
      "Epoch 63: 100%|██████████| 16/16 [00:00<00:00, 500.07it/s]\n",
      "Epoch 64: 100%|██████████| 16/16 [00:00<00:00, 533.32it/s]\n",
      "Epoch 65: 100%|██████████| 16/16 [00:00<00:00, 500.04it/s]\n",
      "Epoch 66: 100%|██████████| 16/16 [00:00<00:00, 457.15it/s]\n",
      "Epoch 67: 100%|██████████| 16/16 [00:00<00:00, 551.72it/s]\n",
      "Epoch 68: 100%|██████████| 16/16 [00:00<00:00, 457.15it/s]\n",
      "Epoch 69: 100%|██████████| 16/16 [00:00<00:00, 484.82it/s]\n",
      "Epoch 70: 100%|██████████| 16/16 [00:00<00:00, 516.17it/s]\n",
      "Epoch 71: 100%|██████████| 16/16 [00:00<00:00, 516.09it/s]\n",
      "Epoch 72: 100%|██████████| 16/16 [00:00<00:00, 444.45it/s]\n",
      "Epoch 73: 100%|██████████| 16/16 [00:00<00:00, 500.00it/s]\n",
      "Epoch 74: 100%|██████████| 16/16 [00:00<00:00, 67.10it/s]\n",
      "Epoch 75: 100%|██████████| 16/16 [00:00<00:00, 283.19it/s]\n",
      "Epoch 76: 100%|██████████| 16/16 [00:00<00:00, 342.56it/s]\n",
      "Epoch 77: 100%|██████████| 16/16 [00:00<00:00, 275.31it/s]\n",
      "Epoch 78: 100%|██████████| 16/16 [00:00<00:00, 339.59it/s]\n",
      "Epoch 79: 100%|██████████| 16/16 [00:00<00:00, 470.58it/s]\n",
      "Epoch 80: 100%|██████████| 16/16 [00:00<00:00, 484.80it/s]\n",
      "Epoch 81: 100%|██████████| 16/16 [00:00<00:00, 372.11it/s]\n",
      "Epoch 82: 100%|██████████| 16/16 [00:00<00:00, 421.08it/s]\n",
      "Epoch 83: 100%|██████████| 16/16 [00:00<00:00, 533.34it/s]\n",
      "Epoch 84: 100%|██████████| 16/16 [00:00<00:00, 470.58it/s]\n",
      "Epoch 85: 100%|██████████| 16/16 [00:00<00:00, 421.04it/s]\n",
      "Epoch 86: 100%|██████████| 16/16 [00:00<00:00, 421.05it/s]\n",
      "Epoch 87: 100%|██████████| 16/16 [00:00<00:00, 499.98it/s]\n",
      "Epoch 88: 100%|██████████| 16/16 [00:00<00:00, 484.82it/s]\n",
      "Epoch 89: 100%|██████████| 16/16 [00:00<00:00, 533.33it/s]\n",
      "Epoch 90: 100%|██████████| 16/16 [00:00<00:00, 457.19it/s]\n",
      "Epoch 91: 100%|██████████| 16/16 [00:00<00:00, 499.99it/s]\n",
      "Epoch 92: 100%|██████████| 16/16 [00:00<00:00, 410.27it/s]\n",
      "Epoch 93: 100%|██████████| 16/16 [00:00<00:00, 355.58it/s]\n",
      "Epoch 94: 100%|██████████| 16/16 [00:00<00:00, 410.33it/s]\n",
      "Epoch 95: 100%|██████████| 16/16 [00:00<00:00, 400.00it/s]\n",
      "Epoch 96: 100%|██████████| 16/16 [00:00<00:00, 410.27it/s]\n",
      "Epoch 97: 100%|██████████| 16/16 [00:00<00:00, 410.32it/s]\n",
      "Epoch 98: 100%|██████████| 16/16 [00:00<00:00, 390.24it/s]\n",
      "Epoch 99: 100%|██████████| 16/16 [00:00<00:00, 421.05it/s]\n",
      "Epoch 0: 100%|██████████| 16/16 [00:00<00:00, 400.01it/s]5.80s/layer]\n",
      "Epoch 1: 100%|██████████| 16/16 [00:00<00:00, 333.30it/s]\n",
      "Epoch 2: 100%|██████████| 16/16 [00:00<00:00, 421.04it/s]\n",
      "Epoch 3: 100%|██████████| 16/16 [00:00<00:00, 399.98it/s]\n",
      "Epoch 4: 100%|██████████| 16/16 [00:00<00:00, 347.81it/s]\n",
      "Epoch 5: 100%|██████████| 16/16 [00:00<00:00, 228.55it/s]\n",
      "Epoch 6: 100%|██████████| 16/16 [00:00<00:00, 246.16it/s]\n",
      "Epoch 7: 100%|██████████| 16/16 [00:00<00:00, 249.99it/s]\n",
      "Epoch 8: 100%|██████████| 16/16 [00:00<00:00, 258.08it/s]\n",
      "Epoch 9: 100%|██████████| 16/16 [00:00<00:00, 262.29it/s]\n",
      "Epoch 10: 100%|██████████| 16/16 [00:00<00:00, 355.55it/s]\n",
      "Epoch 11: 100%|██████████| 16/16 [00:00<00:00, 363.61it/s]\n",
      "Epoch 12: 100%|██████████| 16/16 [00:00<00:00, 410.32it/s]\n",
      "Epoch 13: 100%|██████████| 16/16 [00:00<00:00, 421.05it/s]\n",
      "Epoch 14: 100%|██████████| 16/16 [00:00<00:00, 421.04it/s]\n",
      "Epoch 15: 100%|██████████| 16/16 [00:00<00:00, 410.28it/s]\n",
      "Epoch 16: 100%|██████████| 16/16 [00:00<00:00, 399.99it/s]\n",
      "Epoch 17: 100%|██████████| 16/16 [00:00<00:00, 399.94it/s]\n",
      "Epoch 18: 100%|██████████| 16/16 [00:00<00:00, 333.30it/s]\n",
      "Epoch 19: 100%|██████████| 16/16 [00:00<00:00, 390.26it/s]\n",
      "Epoch 20: 100%|██████████| 16/16 [00:00<00:00, 390.22it/s]\n",
      "Epoch 21: 100%|██████████| 16/16 [00:00<00:00, 367.70it/s]\n",
      "Epoch 22: 100%|██████████| 16/16 [00:00<00:00, 374.91it/s]\n",
      "Epoch 23: 100%|██████████| 16/16 [00:00<00:00, 340.98it/s]\n",
      "Epoch 24: 100%|██████████| 16/16 [00:00<00:00, 417.73it/s]\n",
      "Epoch 25: 100%|██████████| 16/16 [00:00<00:00, 438.18it/s]\n",
      "Epoch 26: 100%|██████████| 16/16 [00:00<00:00, 470.59it/s]\n",
      "Epoch 27: 100%|██████████| 16/16 [00:00<00:00, 410.31it/s]\n",
      "Epoch 28: 100%|██████████| 16/16 [00:00<00:00, 457.14it/s]\n",
      "Epoch 29: 100%|██████████| 16/16 [00:00<00:00, 484.80it/s]\n",
      "Epoch 30: 100%|██████████| 16/16 [00:00<00:00, 470.60it/s]\n",
      "Epoch 31: 100%|██████████| 16/16 [00:00<00:00, 444.58it/s]\n",
      "Epoch 32: 100%|██████████| 16/16 [00:00<00:00, 432.44it/s]\n",
      "Epoch 33: 100%|██████████| 16/16 [00:00<00:00, 60.38it/s]\n",
      "Epoch 34: 100%|██████████| 16/16 [00:00<00:00, 470.60it/s]\n",
      "Epoch 35: 100%|██████████| 16/16 [00:00<00:00, 355.56it/s]\n",
      "Epoch 36: 100%|██████████| 16/16 [00:00<00:00, 421.05it/s]\n",
      "Epoch 37: 100%|██████████| 16/16 [00:00<00:00, 340.43it/s]\n",
      "Epoch 38: 100%|██████████| 16/16 [00:00<00:00, 410.23it/s]\n",
      "Epoch 39: 100%|██████████| 16/16 [00:00<00:00, 484.87it/s]\n",
      "Epoch 40: 100%|██████████| 16/16 [00:00<00:00, 410.23it/s]\n",
      "Epoch 41: 100%|██████████| 16/16 [00:00<00:00, 421.08it/s]\n",
      "Epoch 42: 100%|██████████| 16/16 [00:00<00:00, 444.44it/s]\n",
      "Epoch 43: 100%|██████████| 16/16 [00:00<00:00, 457.15it/s]\n",
      "Epoch 44: 100%|██████████| 16/16 [00:00<00:00, 444.42it/s]\n",
      "Epoch 45: 100%|██████████| 16/16 [00:00<00:00, 484.86it/s]\n",
      "Epoch 46: 100%|██████████| 16/16 [00:00<00:00, 457.19it/s]\n",
      "Epoch 47: 100%|██████████| 16/16 [00:00<00:00, 457.15it/s]\n",
      "Epoch 48: 100%|██████████| 16/16 [00:00<00:00, 470.58it/s]\n",
      "Epoch 49: 100%|██████████| 16/16 [00:00<00:00, 457.11it/s]\n",
      "Epoch 50: 100%|██████████| 16/16 [00:00<00:00, 421.09it/s]\n",
      "Epoch 51: 100%|██████████| 16/16 [00:00<00:00, 484.89it/s]\n",
      "Epoch 52: 100%|██████████| 16/16 [00:00<00:00, 444.43it/s]\n",
      "Epoch 53: 100%|██████████| 16/16 [00:00<00:00, 457.19it/s]\n",
      "Epoch 54: 100%|██████████| 16/16 [00:00<00:00, 470.74it/s]\n",
      "Epoch 55: 100%|██████████| 16/16 [00:00<00:00, 444.43it/s]\n",
      "Epoch 56: 100%|██████████| 16/16 [00:00<00:00, 470.56it/s]\n",
      "Epoch 57: 100%|██████████| 16/16 [00:00<00:00, 457.13it/s]\n",
      "Epoch 58: 100%|██████████| 16/16 [00:00<00:00, 457.20it/s]\n",
      "Epoch 59: 100%|██████████| 16/16 [00:00<00:00, 421.11it/s]\n",
      "Epoch 60: 100%|██████████| 16/16 [00:00<00:00, 444.47it/s]\n",
      "Epoch 61: 100%|██████████| 16/16 [00:00<00:00, 444.46it/s]\n",
      "Epoch 62: 100%|██████████| 16/16 [00:00<00:00, 470.57it/s]\n",
      "Epoch 63: 100%|██████████| 16/16 [00:00<00:00, 470.62it/s]\n",
      "Epoch 64: 100%|██████████| 16/16 [00:00<00:00, 484.94it/s]\n",
      "Epoch 65: 100%|██████████| 16/16 [00:00<00:00, 410.20it/s]\n",
      "Epoch 66: 100%|██████████| 16/16 [00:00<00:00, 484.89it/s]\n",
      "Epoch 67: 100%|██████████| 16/16 [00:00<00:00, 457.11it/s]\n",
      "Epoch 68: 100%|██████████| 16/16 [00:00<00:00, 380.95it/s]\n",
      "Epoch 69: 100%|██████████| 16/16 [00:00<00:00, 398.63it/s]\n",
      "Epoch 70: 100%|██████████| 16/16 [00:00<00:00, 357.03it/s]\n",
      "Epoch 71: 100%|██████████| 16/16 [00:00<00:00, 391.72it/s]\n",
      "Epoch 72: 100%|██████████| 16/16 [00:00<00:00, 428.61it/s]\n",
      "Epoch 73: 100%|██████████| 16/16 [00:00<00:00, 457.17it/s]\n",
      "Epoch 74: 100%|██████████| 16/16 [00:00<00:00, 470.59it/s]\n",
      "Epoch 75: 100%|██████████| 16/16 [00:00<00:00, 444.49it/s]\n",
      "Epoch 76: 100%|██████████| 16/16 [00:00<00:00, 484.86it/s]\n",
      "Epoch 77: 100%|██████████| 16/16 [00:00<00:00, 470.56it/s]\n",
      "Epoch 78: 100%|██████████| 16/16 [00:00<00:00, 470.62it/s]\n",
      "Epoch 79: 100%|██████████| 16/16 [00:00<00:00, 410.26it/s]\n",
      "Epoch 80: 100%|██████████| 16/16 [00:00<00:00, 444.45it/s]\n",
      "Epoch 81: 100%|██████████| 16/16 [00:00<00:00, 57.55it/s]\n",
      "Epoch 82: 100%|██████████| 16/16 [00:00<00:00, 296.29it/s]\n",
      "Epoch 83: 100%|██████████| 16/16 [00:00<00:00, 399.95it/s]\n",
      "Epoch 84: 100%|██████████| 16/16 [00:00<00:00, 290.90it/s]\n",
      "Epoch 85: 100%|██████████| 16/16 [00:00<00:00, 340.45it/s]\n",
      "Epoch 86: 100%|██████████| 16/16 [00:00<00:00, 399.96it/s]\n",
      "Epoch 87: 100%|██████████| 16/16 [00:00<00:00, 380.95it/s]\n",
      "Epoch 88: 100%|██████████| 16/16 [00:00<00:00, 372.06it/s]\n",
      "Epoch 89: 100%|██████████| 16/16 [00:00<00:00, 340.43it/s]\n",
      "Epoch 90: 100%|██████████| 16/16 [00:00<00:00, 421.02it/s]\n",
      "Epoch 91: 100%|██████████| 16/16 [00:00<00:00, 372.11it/s]\n",
      "Epoch 92: 100%|██████████| 16/16 [00:00<00:00, 410.23it/s]\n",
      "Epoch 93: 100%|██████████| 16/16 [00:00<00:00, 432.47it/s]\n",
      "Epoch 94: 100%|██████████| 16/16 [00:00<00:00, 421.02it/s]\n",
      "Epoch 95: 100%|██████████| 16/16 [00:00<00:00, 410.26it/s]\n",
      "Epoch 96: 100%|██████████| 16/16 [00:00<00:00, 400.00it/s]\n",
      "Epoch 97: 100%|██████████| 16/16 [00:00<00:00, 432.43it/s]\n",
      "Epoch 98: 100%|██████████| 16/16 [00:00<00:00, 400.02it/s]\n",
      "Epoch 99: 100%|██████████| 16/16 [00:00<00:00, 400.03it/s]\n",
      "Training RBM layers: 100%|██████████| 5/5 [00:32<00:00,  6.49s/layer]\n"
     ]
    },
    {
     "name": "stdout",
     "output_type": "stream",
     "text": [
      "\n",
      "\n",
      "--------- BACKPROPAGATION --------\n"
     ]
    },
    {
     "name": "stderr",
     "output_type": "stream",
     "text": [
      "Training:   1%|          | 2/200 [00:00<00:11, 16.95epoch/s]"
     ]
    },
    {
     "name": "stdout",
     "output_type": "stream",
     "text": [
      "Epoch 1/200, Cross Entropy: 2.2790166579827256\n",
      "Epoch 2/200, Cross Entropy: 2.2756476008978135\n",
      "Epoch 3/200, Cross Entropy: 2.275188997894884\n"
     ]
    },
    {
     "name": "stderr",
     "output_type": "stream",
     "text": [
      "Training:   2%|▏         | 4/200 [00:00<00:11, 17.29epoch/s]"
     ]
    },
    {
     "name": "stdout",
     "output_type": "stream",
     "text": [
      "Epoch 4/200, Cross Entropy: 2.2751127623122818\n"
     ]
    },
    {
     "name": "stderr",
     "output_type": "stream",
     "text": [
      "Training:   3%|▎         | 6/200 [00:00<00:13, 14.33epoch/s]"
     ]
    },
    {
     "name": "stdout",
     "output_type": "stream",
     "text": [
      "Epoch 5/200, Cross Entropy: 2.275098449524327\n",
      "Epoch 6/200, Cross Entropy: 2.2750955086582985\n"
     ]
    },
    {
     "name": "stderr",
     "output_type": "stream",
     "text": [
      "Training:   3%|▎         | 6/200 [00:00<00:13, 14.33epoch/s]"
     ]
    },
    {
     "name": "stdout",
     "output_type": "stream",
     "text": [
      "Epoch 7/200, Cross Entropy: 2.2750948641174844\n"
     ]
    },
    {
     "name": "stderr",
     "output_type": "stream",
     "text": [
      "Training:   4%|▍         | 8/200 [00:00<00:14, 12.86epoch/s]"
     ]
    },
    {
     "name": "stdout",
     "output_type": "stream",
     "text": [
      "Epoch 8/200, Cross Entropy: 2.2750947166091415\n",
      "Epoch 9/200, Cross Entropy: 2.275094681897981\n"
     ]
    },
    {
     "name": "stderr",
     "output_type": "stream",
     "text": [
      "Training:   5%|▌         | 10/200 [00:00<00:13, 13.97epoch/s]"
     ]
    },
    {
     "name": "stdout",
     "output_type": "stream",
     "text": [
      "Epoch 10/200, Cross Entropy: 2.275094673584042\n",
      "Epoch 11/200, Cross Entropy: 2.2750946715698275\n"
     ]
    },
    {
     "name": "stderr",
     "output_type": "stream",
     "text": [
      "Training:   6%|▌         | 12/200 [00:00<00:13, 13.61epoch/s]"
     ]
    },
    {
     "name": "stdout",
     "output_type": "stream",
     "text": [
      "Epoch 12/200, Cross Entropy: 2.2750946710781017\n"
     ]
    },
    {
     "name": "stderr",
     "output_type": "stream",
     "text": [
      "Training:   7%|▋         | 14/200 [00:01<00:12, 14.51epoch/s]"
     ]
    },
    {
     "name": "stdout",
     "output_type": "stream",
     "text": [
      "Epoch 13/200, Cross Entropy: 2.275094670957412\n",
      "Epoch 14/200, Cross Entropy: 2.2750946709276714\n",
      "Epoch 15/200, Cross Entropy: 2.2750946709203204\n"
     ]
    },
    {
     "name": "stderr",
     "output_type": "stream",
     "text": [
      "Training:   8%|▊         | 16/200 [00:01<00:11, 15.78epoch/s]"
     ]
    },
    {
     "name": "stdout",
     "output_type": "stream",
     "text": [
      "Epoch 16/200, Cross Entropy: 2.2750946709184987\n"
     ]
    },
    {
     "name": "stderr",
     "output_type": "stream",
     "text": [
      "Training:   9%|▉         | 18/200 [00:01<00:11, 15.58epoch/s]"
     ]
    },
    {
     "name": "stdout",
     "output_type": "stream",
     "text": [
      "Epoch 17/200, Cross Entropy: 2.2750946709180466\n",
      "Epoch 18/200, Cross Entropy: 2.2750946709179343\n"
     ]
    },
    {
     "name": "stderr",
     "output_type": "stream",
     "text": [
      "Training:   9%|▉         | 18/200 [00:01<00:11, 15.58epoch/s]"
     ]
    },
    {
     "name": "stdout",
     "output_type": "stream",
     "text": [
      "Epoch 19/200, Cross Entropy: 2.275094670917906\n"
     ]
    },
    {
     "name": "stderr",
     "output_type": "stream",
     "text": [
      "Training:  11%|█         | 22/200 [00:01<00:14, 12.00epoch/s]"
     ]
    },
    {
     "name": "stdout",
     "output_type": "stream",
     "text": [
      "Epoch 20/200, Cross Entropy: 2.2750946709178987\n",
      "Epoch 21/200, Cross Entropy: 2.2750946709178974\n",
      "Epoch 22/200, Cross Entropy: 2.275094670917897\n",
      "Epoch 23/200, Cross Entropy: 2.2750946709178965\n"
     ]
    },
    {
     "name": "stderr",
     "output_type": "stream",
     "text": [
      "Training:  14%|█▍        | 28/200 [00:01<00:10, 16.77epoch/s]"
     ]
    },
    {
     "name": "stdout",
     "output_type": "stream",
     "text": [
      "Epoch 24/200, Cross Entropy: 2.275094670917897\n",
      "Epoch 25/200, Cross Entropy: 2.275094670917897\n",
      "Epoch 26/200, Cross Entropy: 2.275094670917897\n",
      "Epoch 27/200, Cross Entropy: 2.275094670917897\n",
      "Epoch 28/200, Cross Entropy: 2.275094670917897\n"
     ]
    },
    {
     "name": "stderr",
     "output_type": "stream",
     "text": [
      "Training:  16%|█▌        | 31/200 [00:02<00:09, 17.89epoch/s]"
     ]
    },
    {
     "name": "stdout",
     "output_type": "stream",
     "text": [
      "Epoch 29/200, Cross Entropy: 2.275094670917897\n",
      "Epoch 30/200, Cross Entropy: 2.275094670917897\n",
      "Epoch 31/200, Cross Entropy: 2.275094670917897\n",
      "Epoch 32/200, Cross Entropy: 2.275094670917897\n"
     ]
    },
    {
     "name": "stderr",
     "output_type": "stream",
     "text": [
      "Training:  18%|█▊        | 37/200 [00:02<00:07, 20.50epoch/s]"
     ]
    },
    {
     "name": "stdout",
     "output_type": "stream",
     "text": [
      "Epoch 33/200, Cross Entropy: 2.275094670917897\n",
      "Epoch 34/200, Cross Entropy: 2.275094670917897\n",
      "Epoch 35/200, Cross Entropy: 2.275094670917897\n",
      "Epoch 36/200, Cross Entropy: 2.275094670917897\n",
      "Epoch 37/200, Cross Entropy: 2.275094670917897\n"
     ]
    },
    {
     "name": "stderr",
     "output_type": "stream",
     "text": [
      "Training:  20%|██        | 40/200 [00:02<00:07, 21.19epoch/s]"
     ]
    },
    {
     "name": "stdout",
     "output_type": "stream",
     "text": [
      "Epoch 38/200, Cross Entropy: 2.275094670917897\n",
      "Epoch 39/200, Cross Entropy: 2.275094670917897\n",
      "Epoch 40/200, Cross Entropy: 2.275094670917897\n",
      "Epoch 41/200, Cross Entropy: 2.275094670917897\n",
      "Epoch 42/200, Cross Entropy: 2.275094670917897\n"
     ]
    },
    {
     "name": "stderr",
     "output_type": "stream",
     "text": [
      "Training:  23%|██▎       | 46/200 [00:02<00:06, 22.15epoch/s]"
     ]
    },
    {
     "name": "stdout",
     "output_type": "stream",
     "text": [
      "Epoch 43/200, Cross Entropy: 2.275094670917897\n",
      "Epoch 44/200, Cross Entropy: 2.275094670917897\n",
      "Epoch 45/200, Cross Entropy: 2.275094670917897\n",
      "Epoch 46/200, Cross Entropy: 2.275094670917897\n",
      "Epoch 47/200, Cross Entropy: 2.275094670917897\n"
     ]
    },
    {
     "name": "stderr",
     "output_type": "stream",
     "text": [
      "Training:  24%|██▍       | 49/200 [00:02<00:06, 22.42epoch/s]"
     ]
    },
    {
     "name": "stdout",
     "output_type": "stream",
     "text": [
      "Epoch 48/200, Cross Entropy: 2.275094670917897\n",
      "Epoch 49/200, Cross Entropy: 2.275094670917897\n",
      "Epoch 50/200, Cross Entropy: 2.275094670917897\n",
      "Epoch 51/200, Cross Entropy: 2.275094670917897\n"
     ]
    },
    {
     "name": "stderr",
     "output_type": "stream",
     "text": [
      "Training:  28%|██▊       | 55/200 [00:03<00:06, 21.45epoch/s]"
     ]
    },
    {
     "name": "stdout",
     "output_type": "stream",
     "text": [
      "Epoch 52/200, Cross Entropy: 2.275094670917897\n",
      "Epoch 53/200, Cross Entropy: 2.275094670917897\n",
      "Epoch 54/200, Cross Entropy: 2.275094670917897\n",
      "Epoch 55/200, Cross Entropy: 2.275094670917897\n"
     ]
    },
    {
     "name": "stderr",
     "output_type": "stream",
     "text": [
      "Training:  29%|██▉       | 58/200 [00:03<00:06, 21.87epoch/s]"
     ]
    },
    {
     "name": "stdout",
     "output_type": "stream",
     "text": [
      "Epoch 56/200, Cross Entropy: 2.275094670917897\n",
      "Epoch 57/200, Cross Entropy: 2.275094670917897\n",
      "Epoch 58/200, Cross Entropy: 2.275094670917897\n",
      "Epoch 59/200, Cross Entropy: 2.275094670917897\n",
      "Epoch 60/200, Cross Entropy: 2.275094670917897\n"
     ]
    },
    {
     "name": "stderr",
     "output_type": "stream",
     "text": [
      "Training:  32%|███▏      | 64/200 [00:03<00:06, 21.94epoch/s]"
     ]
    },
    {
     "name": "stdout",
     "output_type": "stream",
     "text": [
      "Epoch 61/200, Cross Entropy: 2.275094670917897\n",
      "Epoch 62/200, Cross Entropy: 2.275094670917897\n",
      "Epoch 63/200, Cross Entropy: 2.275094670917897\n",
      "Epoch 64/200, Cross Entropy: 2.275094670917897\n"
     ]
    },
    {
     "name": "stderr",
     "output_type": "stream",
     "text": [
      "Training:  34%|███▎      | 67/200 [00:03<00:06, 22.02epoch/s]"
     ]
    },
    {
     "name": "stdout",
     "output_type": "stream",
     "text": [
      "Epoch 65/200, Cross Entropy: 2.275094670917897\n",
      "Epoch 66/200, Cross Entropy: 2.275094670917897\n",
      "Epoch 67/200, Cross Entropy: 2.275094670917897\n",
      "Epoch 68/200, Cross Entropy: 2.275094670917897\n",
      "Epoch 69/200, Cross Entropy: 2.275094670917897\n"
     ]
    },
    {
     "name": "stderr",
     "output_type": "stream",
     "text": [
      "Training:  36%|███▋      | 73/200 [00:03<00:05, 21.43epoch/s]"
     ]
    },
    {
     "name": "stdout",
     "output_type": "stream",
     "text": [
      "Epoch 70/200, Cross Entropy: 2.275094670917897\n",
      "Epoch 71/200, Cross Entropy: 2.275094670917897\n",
      "Epoch 72/200, Cross Entropy: 2.275094670917897\n",
      "Epoch 73/200, Cross Entropy: 2.275094670917897\n"
     ]
    },
    {
     "name": "stderr",
     "output_type": "stream",
     "text": [
      "Training:  38%|███▊      | 76/200 [00:04<00:05, 21.43epoch/s]"
     ]
    },
    {
     "name": "stdout",
     "output_type": "stream",
     "text": [
      "Epoch 74/200, Cross Entropy: 2.275094670917897\n",
      "Epoch 75/200, Cross Entropy: 2.275094670917897\n",
      "Epoch 76/200, Cross Entropy: 2.275094670917897\n",
      "Epoch 77/200, Cross Entropy: 2.275094670917897\n",
      "Epoch 78/200, Cross Entropy: 2.275094670917897\n"
     ]
    },
    {
     "name": "stderr",
     "output_type": "stream",
     "text": [
      "Training:  41%|████      | 82/200 [00:04<00:05, 21.39epoch/s]"
     ]
    },
    {
     "name": "stdout",
     "output_type": "stream",
     "text": [
      "Epoch 79/200, Cross Entropy: 2.275094670917897\n",
      "Epoch 80/200, Cross Entropy: 2.275094670917897\n",
      "Epoch 81/200, Cross Entropy: 2.275094670917897\n",
      "Epoch 82/200, Cross Entropy: 2.275094670917897\n"
     ]
    },
    {
     "name": "stderr",
     "output_type": "stream",
     "text": [
      "Training:  42%|████▎     | 85/200 [00:04<00:05, 20.74epoch/s]"
     ]
    },
    {
     "name": "stdout",
     "output_type": "stream",
     "text": [
      "Epoch 83/200, Cross Entropy: 2.275094670917897\n",
      "Epoch 84/200, Cross Entropy: 2.275094670917897\n",
      "Epoch 85/200, Cross Entropy: 2.275094670917897\n",
      "Epoch 86/200, Cross Entropy: 2.275094670917897\n"
     ]
    },
    {
     "name": "stderr",
     "output_type": "stream",
     "text": [
      "Training:  44%|████▍     | 88/200 [00:04<00:05, 21.16epoch/s]"
     ]
    },
    {
     "name": "stdout",
     "output_type": "stream",
     "text": [
      "Epoch 87/200, Cross Entropy: 2.275094670917897\n",
      "Epoch 88/200, Cross Entropy: 2.275094670917897\n",
      "Epoch 89/200, Cross Entropy: 2.275094670917897\n",
      "Epoch 90/200, Cross Entropy: 2.275094670917897\n"
     ]
    },
    {
     "name": "stderr",
     "output_type": "stream",
     "text": [
      "Training:  47%|████▋     | 94/200 [00:04<00:04, 21.65epoch/s]"
     ]
    },
    {
     "name": "stdout",
     "output_type": "stream",
     "text": [
      "Epoch 91/200, Cross Entropy: 2.275094670917897\n",
      "Epoch 92/200, Cross Entropy: 2.275094670917897\n",
      "Epoch 93/200, Cross Entropy: 2.275094670917897\n",
      "Epoch 94/200, Cross Entropy: 2.275094670917897\n",
      "Epoch 95/200, Cross Entropy: 2.275094670917897\n"
     ]
    },
    {
     "name": "stderr",
     "output_type": "stream",
     "text": [
      "Training:  48%|████▊     | 97/200 [00:05<00:04, 20.69epoch/s]"
     ]
    },
    {
     "name": "stdout",
     "output_type": "stream",
     "text": [
      "Epoch 96/200, Cross Entropy: 2.275094670917897\n",
      "Epoch 97/200, Cross Entropy: 2.275094670917897\n",
      "Epoch 98/200, Cross Entropy: 2.275094670917897\n"
     ]
    },
    {
     "name": "stderr",
     "output_type": "stream",
     "text": [
      "Training:  51%|█████     | 102/200 [00:05<00:07, 13.93epoch/s]"
     ]
    },
    {
     "name": "stdout",
     "output_type": "stream",
     "text": [
      "Epoch 99/200, Cross Entropy: 2.275094670917897\n",
      "Epoch 100/200, Cross Entropy: 2.2750946709178965\n",
      "Epoch 101/200, Cross Entropy: 2.275094670917897\n",
      "Epoch 102/200, Cross Entropy: 2.275094670917897\n"
     ]
    },
    {
     "name": "stderr",
     "output_type": "stream",
     "text": [
      "Training:  52%|█████▎    | 105/200 [00:05<00:06, 15.62epoch/s]"
     ]
    },
    {
     "name": "stdout",
     "output_type": "stream",
     "text": [
      "Epoch 103/200, Cross Entropy: 2.275094670917897\n",
      "Epoch 104/200, Cross Entropy: 2.275094670917897\n",
      "Epoch 105/200, Cross Entropy: 2.275094670917897\n",
      "Epoch 106/200, Cross Entropy: 2.275094670917897\n"
     ]
    },
    {
     "name": "stderr",
     "output_type": "stream",
     "text": [
      "Training:  54%|█████▍    | 108/200 [00:06<00:05, 16.96epoch/s]"
     ]
    },
    {
     "name": "stdout",
     "output_type": "stream",
     "text": [
      "Epoch 107/200, Cross Entropy: 2.275094670917897\n",
      "Epoch 108/200, Cross Entropy: 2.275094670917897\n",
      "Epoch 109/200, Cross Entropy: 2.275094670917897\n",
      "Epoch 110/200, Cross Entropy: 2.275094670917897\n"
     ]
    },
    {
     "name": "stderr",
     "output_type": "stream",
     "text": [
      "Training:  57%|█████▋    | 114/200 [00:06<00:04, 19.06epoch/s]"
     ]
    },
    {
     "name": "stdout",
     "output_type": "stream",
     "text": [
      "Epoch 111/200, Cross Entropy: 2.275094670917897\n",
      "Epoch 112/200, Cross Entropy: 2.275094670917897\n",
      "Epoch 113/200, Cross Entropy: 2.275094670917897\n",
      "Epoch 114/200, Cross Entropy: 2.275094670917897\n"
     ]
    },
    {
     "name": "stderr",
     "output_type": "stream",
     "text": [
      "Training:  58%|█████▊    | 117/200 [00:06<00:04, 19.73epoch/s]"
     ]
    },
    {
     "name": "stdout",
     "output_type": "stream",
     "text": [
      "Epoch 115/200, Cross Entropy: 2.275094670917897\n",
      "Epoch 116/200, Cross Entropy: 2.275094670917897\n",
      "Epoch 117/200, Cross Entropy: 2.275094670917897\n",
      "Epoch 118/200, Cross Entropy: 2.275094670917897\n"
     ]
    },
    {
     "name": "stderr",
     "output_type": "stream",
     "text": [
      "Training:  60%|██████    | 120/200 [00:06<00:04, 19.23epoch/s]"
     ]
    },
    {
     "name": "stdout",
     "output_type": "stream",
     "text": [
      "Epoch 119/200, Cross Entropy: 2.275094670917897\n",
      "Epoch 120/200, Cross Entropy: 2.275094670917897\n",
      "Epoch 121/200, Cross Entropy: 2.275094670917897\n",
      "Epoch 122/200, Cross Entropy: 2.275094670917897\n"
     ]
    },
    {
     "name": "stderr",
     "output_type": "stream",
     "text": [
      "Training:  62%|██████▎   | 125/200 [00:06<00:03, 19.31epoch/s]"
     ]
    },
    {
     "name": "stdout",
     "output_type": "stream",
     "text": [
      "Epoch 123/200, Cross Entropy: 2.275094670917897\n",
      "Epoch 124/200, Cross Entropy: 2.275094670917897\n",
      "Epoch 125/200, Cross Entropy: 2.275094670917897\n",
      "Epoch 126/200, Cross Entropy: 2.275094670917897\n"
     ]
    },
    {
     "name": "stderr",
     "output_type": "stream",
     "text": [
      "Training:  64%|██████▍   | 128/200 [00:06<00:04, 17.97epoch/s]"
     ]
    },
    {
     "name": "stdout",
     "output_type": "stream",
     "text": [
      "Epoch 127/200, Cross Entropy: 2.275094670917897\n",
      "Epoch 128/200, Cross Entropy: 2.275094670917897\n"
     ]
    },
    {
     "name": "stderr",
     "output_type": "stream",
     "text": [
      "Training:  65%|██████▌   | 130/200 [00:07<00:04, 15.13epoch/s]"
     ]
    },
    {
     "name": "stdout",
     "output_type": "stream",
     "text": [
      "Epoch 129/200, Cross Entropy: 2.275094670917897\n",
      "Epoch 130/200, Cross Entropy: 2.275094670917897\n",
      "Epoch 131/200, Cross Entropy: 2.275094670917897\n",
      "Epoch 132/200, Cross Entropy: 2.275094670917897\n"
     ]
    },
    {
     "name": "stderr",
     "output_type": "stream",
     "text": [
      "Training:  68%|██████▊   | 135/200 [00:07<00:03, 17.48epoch/s]"
     ]
    },
    {
     "name": "stdout",
     "output_type": "stream",
     "text": [
      "Epoch 133/200, Cross Entropy: 2.275094670917897\n",
      "Epoch 134/200, Cross Entropy: 2.275094670917897\n",
      "Epoch 135/200, Cross Entropy: 2.275094670917897\n",
      "Epoch 136/200, Cross Entropy: 2.275094670917897\n"
     ]
    },
    {
     "name": "stderr",
     "output_type": "stream",
     "text": [
      "Training:  69%|██████▉   | 138/200 [00:07<00:03, 18.78epoch/s]"
     ]
    },
    {
     "name": "stdout",
     "output_type": "stream",
     "text": [
      "Epoch 137/200, Cross Entropy: 2.275094670917897\n",
      "Epoch 138/200, Cross Entropy: 2.275094670917897\n",
      "Epoch 139/200, Cross Entropy: 2.275094670917897\n",
      "Epoch 140/200, Cross Entropy: 2.275094670917897\n"
     ]
    },
    {
     "name": "stderr",
     "output_type": "stream",
     "text": [
      "Training:  70%|███████   | 141/200 [00:07<00:03, 19.24epoch/s]"
     ]
    },
    {
     "name": "stdout",
     "output_type": "stream",
     "text": [
      "Epoch 141/200, Cross Entropy: 2.275094670917897\n",
      "Epoch 142/200, Cross Entropy: 2.275094670917897\n"
     ]
    },
    {
     "name": "stderr",
     "output_type": "stream",
     "text": [
      "                                                              "
     ]
    },
    {
     "name": "stdout",
     "output_type": "stream",
     "text": [
      "Epoch 143/200, Cross Entropy: 2.275094670917897\n",
      "Epoch 144/200, Cross Entropy: 2.275094670917897\n",
      "Epoch 145/200, Cross Entropy: 2.275094670917897\n",
      "Epoch 146/200, Cross Entropy: 2.275094670917897\n"
     ]
    },
    {
     "name": "stderr",
     "output_type": "stream",
     "text": [
      "                                                              "
     ]
    },
    {
     "name": "stdout",
     "output_type": "stream",
     "text": [
      "Epoch 147/200, Cross Entropy: 2.275094670917897\n",
      "Epoch 148/200, Cross Entropy: 2.275094670917897\n",
      "Epoch 149/200, Cross Entropy: 2.275094670917897\n",
      "Epoch 150/200, Cross Entropy: 2.275094670917897\n"
     ]
    },
    {
     "name": "stderr",
     "output_type": "stream",
     "text": [
      "Training:  76%|███████▌  | 152/200 [00:08<00:02, 18.33epoch/s]"
     ]
    },
    {
     "name": "stdout",
     "output_type": "stream",
     "text": [
      "Epoch 151/200, Cross Entropy: 2.275094670917897\n",
      "Epoch 152/200, Cross Entropy: 2.275094670917897\n",
      "Epoch 153/200, Cross Entropy: 2.275094670917897\n"
     ]
    },
    {
     "name": "stderr",
     "output_type": "stream",
     "text": [
      "Training:  78%|███████▊  | 156/200 [00:08<00:03, 14.04epoch/s]"
     ]
    },
    {
     "name": "stdout",
     "output_type": "stream",
     "text": [
      "Epoch 154/200, Cross Entropy: 2.275094670917897\n",
      "Epoch 155/200, Cross Entropy: 2.275094670917897\n",
      "Epoch 156/200, Cross Entropy: 2.275094670917897\n"
     ]
    },
    {
     "name": "stderr",
     "output_type": "stream",
     "text": [
      "Training:  79%|███████▉  | 158/200 [00:08<00:02, 14.61epoch/s]"
     ]
    },
    {
     "name": "stdout",
     "output_type": "stream",
     "text": [
      "Epoch 157/200, Cross Entropy: 2.2750946709178965\n",
      "Epoch 158/200, Cross Entropy: 2.275094670917897\n",
      "Epoch 159/200, Cross Entropy: 2.275094670917897\n",
      "Epoch 160/200, Cross Entropy: 2.275094670917897\n"
     ]
    },
    {
     "name": "stderr",
     "output_type": "stream",
     "text": [
      "Training:  82%|████████▏ | 163/200 [00:09<00:02, 16.85epoch/s]"
     ]
    },
    {
     "name": "stdout",
     "output_type": "stream",
     "text": [
      "Epoch 161/200, Cross Entropy: 2.275094670917897\n",
      "Epoch 162/200, Cross Entropy: 2.275094670917897\n",
      "Epoch 163/200, Cross Entropy: 2.275094670917897\n",
      "Epoch 164/200, Cross Entropy: 2.275094670917897\n"
     ]
    },
    {
     "name": "stderr",
     "output_type": "stream",
     "text": [
      "Training:  84%|████████▍ | 169/200 [00:09<00:01, 19.97epoch/s]"
     ]
    },
    {
     "name": "stdout",
     "output_type": "stream",
     "text": [
      "Epoch 165/200, Cross Entropy: 2.275094670917897\n",
      "Epoch 166/200, Cross Entropy: 2.275094670917897\n",
      "Epoch 167/200, Cross Entropy: 2.275094670917897\n",
      "Epoch 168/200, Cross Entropy: 2.275094670917897\n",
      "Epoch 169/200, Cross Entropy: 2.275094670917897\n"
     ]
    },
    {
     "name": "stderr",
     "output_type": "stream",
     "text": [
      "                                                              \r"
     ]
    },
    {
     "name": "stdout",
     "output_type": "stream",
     "text": [
      "Epoch 170/200, Cross Entropy: 2.275094670917897\n",
      "Epoch 171/200, Cross Entropy: 2.275094670917897\n",
      "Epoch 172/200, Cross Entropy: 2.275094670917897\n",
      "Epoch 173/200, Cross Entropy: 2.275094670917897\n"
     ]
    },
    {
     "name": "stderr",
     "output_type": "stream",
     "text": [
      "Training:  89%|████████▉ | 178/200 [00:09<00:01, 21.76epoch/s]"
     ]
    },
    {
     "name": "stdout",
     "output_type": "stream",
     "text": [
      "Epoch 174/200, Cross Entropy: 2.275094670917897\n",
      "Epoch 175/200, Cross Entropy: 2.275094670917897\n",
      "Epoch 176/200, Cross Entropy: 2.275094670917897\n",
      "Epoch 177/200, Cross Entropy: 2.275094670917897\n",
      "Epoch 178/200, Cross Entropy: 2.275094670917897\n"
     ]
    },
    {
     "name": "stderr",
     "output_type": "stream",
     "text": [
      "Training:  90%|█████████ | 181/200 [00:09<00:00, 21.46epoch/s]"
     ]
    },
    {
     "name": "stdout",
     "output_type": "stream",
     "text": [
      "Epoch 179/200, Cross Entropy: 2.275094670917897\n",
      "Epoch 180/200, Cross Entropy: 2.275094670917897\n",
      "Epoch 181/200, Cross Entropy: 2.275094670917897\n",
      "Epoch 182/200, Cross Entropy: 2.275094670917897\n"
     ]
    },
    {
     "name": "stderr",
     "output_type": "stream",
     "text": [
      "Training:  92%|█████████▏| 184/200 [00:10<00:00, 20.42epoch/s]"
     ]
    },
    {
     "name": "stdout",
     "output_type": "stream",
     "text": [
      "Epoch 183/200, Cross Entropy: 2.275094670917897\n",
      "Epoch 184/200, Cross Entropy: 2.275094670917897\n"
     ]
    },
    {
     "name": "stderr",
     "output_type": "stream",
     "text": [
      "Training:  94%|█████████▎| 187/200 [00:10<00:00, 14.74epoch/s]"
     ]
    },
    {
     "name": "stdout",
     "output_type": "stream",
     "text": [
      "Epoch 185/200, Cross Entropy: 2.275094670917897\n",
      "Epoch 186/200, Cross Entropy: 2.275094670917897\n",
      "Epoch 187/200, Cross Entropy: 2.275094670917897\n",
      "Epoch 188/200, Cross Entropy: 2.275094670917897\n"
     ]
    },
    {
     "name": "stderr",
     "output_type": "stream",
     "text": [
      "Training:  96%|█████████▋| 193/200 [00:10<00:00, 18.37epoch/s]"
     ]
    },
    {
     "name": "stdout",
     "output_type": "stream",
     "text": [
      "Epoch 189/200, Cross Entropy: 2.275094670917897\n",
      "Epoch 190/200, Cross Entropy: 2.275094670917897\n",
      "Epoch 191/200, Cross Entropy: 2.275094670917897\n",
      "Epoch 192/200, Cross Entropy: 2.275094670917897\n",
      "Epoch 193/200, Cross Entropy: 2.275094670917897\n"
     ]
    },
    {
     "name": "stderr",
     "output_type": "stream",
     "text": [
      "Training:  98%|█████████▊| 196/200 [00:10<00:00, 19.62epoch/s]"
     ]
    },
    {
     "name": "stdout",
     "output_type": "stream",
     "text": [
      "Epoch 194/200, Cross Entropy: 2.275094670917897\n",
      "Epoch 195/200, Cross Entropy: 2.275094670917897\n",
      "Epoch 196/200, Cross Entropy: 2.275094670917897\n",
      "Epoch 197/200, Cross Entropy: 2.275094670917897\n",
      "Epoch 198/200, Cross Entropy: 2.275094670917897\n"
     ]
    },
    {
     "name": "stderr",
     "output_type": "stream",
     "text": [
      "Training: 100%|██████████| 200/200 [00:10<00:00, 18.25epoch/s]\n"
     ]
    },
    {
     "name": "stdout",
     "output_type": "stream",
     "text": [
      "Epoch 199/200, Cross Entropy: 2.275094670917897\n",
      "Epoch 200/200, Cross Entropy: 2.275094670917897\n"
     ]
    },
    {
     "name": "stderr",
     "output_type": "stream",
     "text": [
      "Training:   2%|▏         | 3/200 [00:00<00:08, 22.90epoch/s]"
     ]
    },
    {
     "name": "stdout",
     "output_type": "stream",
     "text": [
      "Epoch 1/200, Cross Entropy: 2.087911915707133\n",
      "Epoch 2/200, Cross Entropy: 1.9829753472033034\n",
      "Epoch 3/200, Cross Entropy: 1.917265164082817\n"
     ]
    },
    {
     "name": "stderr",
     "output_type": "stream",
     "text": [
      "Training:   2%|▏         | 3/200 [00:00<00:08, 22.90epoch/s]"
     ]
    },
    {
     "name": "stdout",
     "output_type": "stream",
     "text": [
      "Epoch 4/200, Cross Entropy: 1.875362071091795\n",
      "Epoch 5/200, Cross Entropy: 1.8479853712779828\n"
     ]
    },
    {
     "name": "stderr",
     "output_type": "stream",
     "text": [
      "Training:   3%|▎         | 6/200 [00:00<00:08, 23.73epoch/s]"
     ]
    },
    {
     "name": "stdout",
     "output_type": "stream",
     "text": [
      "Epoch 6/200, Cross Entropy: 1.8294387397864482\n",
      "Epoch 7/200, Cross Entropy: 1.8163850229058938\n",
      "Epoch 8/200, Cross Entropy: 1.8068685227181809\n"
     ]
    },
    {
     "name": "stderr",
     "output_type": "stream",
     "text": [
      "Training:   4%|▍         | 9/200 [00:00<00:08, 23.45epoch/s]"
     ]
    },
    {
     "name": "stdout",
     "output_type": "stream",
     "text": [
      "Epoch 9/200, Cross Entropy: 1.7997150884560589\n",
      "Epoch 10/200, Cross Entropy: 1.7941966442901376\n"
     ]
    },
    {
     "name": "stderr",
     "output_type": "stream",
     "text": [
      "Training:   6%|▌         | 12/200 [00:00<00:08, 23.37epoch/s]"
     ]
    },
    {
     "name": "stdout",
     "output_type": "stream",
     "text": [
      "Epoch 11/200, Cross Entropy: 1.7898463165255003\n",
      "Epoch 12/200, Cross Entropy: 1.786354946247966\n",
      "Epoch 13/200, Cross Entropy: 1.7835115886929347\n"
     ]
    },
    {
     "name": "stderr",
     "output_type": "stream",
     "text": [
      "Training:   8%|▊         | 15/200 [00:00<00:07, 23.53epoch/s]"
     ]
    },
    {
     "name": "stdout",
     "output_type": "stream",
     "text": [
      "Epoch 14/200, Cross Entropy: 1.7811682697017996\n",
      "Epoch 15/200, Cross Entropy: 1.7792184926450054\n"
     ]
    },
    {
     "name": "stderr",
     "output_type": "stream",
     "text": [
      "Training:   9%|▉         | 18/200 [00:00<00:07, 23.62epoch/s]"
     ]
    },
    {
     "name": "stdout",
     "output_type": "stream",
     "text": [
      "Epoch 16/200, Cross Entropy: 1.7775837715351828\n",
      "Epoch 17/200, Cross Entropy: 1.776204983015348\n",
      "Epoch 18/200, Cross Entropy: 1.7750366872461911\n"
     ]
    },
    {
     "name": "stderr",
     "output_type": "stream",
     "text": [
      "Training:   9%|▉         | 18/200 [00:00<00:07, 23.62epoch/s]"
     ]
    },
    {
     "name": "stdout",
     "output_type": "stream",
     "text": [
      "Epoch 19/200, Cross Entropy: 1.774043320655689\n",
      "Epoch 20/200, Cross Entropy: 1.7731965934166538\n"
     ]
    },
    {
     "name": "stderr",
     "output_type": "stream",
     "text": [
      "Training:  10%|█         | 21/200 [00:00<00:07, 23.44epoch/s]"
     ]
    },
    {
     "name": "stdout",
     "output_type": "stream",
     "text": [
      "Epoch 21/200, Cross Entropy: 1.7724736768126228\n",
      "Epoch 22/200, Cross Entropy: 1.7718559174489728\n"
     ]
    },
    {
     "name": "stderr",
     "output_type": "stream",
     "text": [
      "Training:  12%|█▏        | 24/200 [00:01<00:08, 21.61epoch/s]"
     ]
    },
    {
     "name": "stdout",
     "output_type": "stream",
     "text": [
      "Epoch 23/200, Cross Entropy: 1.771327908619061\n",
      "Epoch 24/200, Cross Entropy: 1.770876807647026\n"
     ]
    },
    {
     "name": "stderr",
     "output_type": "stream",
     "text": [
      "Training:  12%|█▏        | 24/200 [00:01<00:08, 21.61epoch/s]"
     ]
    },
    {
     "name": "stdout",
     "output_type": "stream",
     "text": [
      "Epoch 25/200, Cross Entropy: 1.7704918253128192\n",
      "Epoch 26/200, Cross Entropy: 1.7701638375699655\n"
     ]
    },
    {
     "name": "stderr",
     "output_type": "stream",
     "text": [
      "Training:  14%|█▎        | 27/200 [00:01<00:07, 21.95epoch/s]"
     ]
    },
    {
     "name": "stdout",
     "output_type": "stream",
     "text": [
      "Epoch 27/200, Cross Entropy: 1.7698850855562753\n",
      "Epoch 28/200, Cross Entropy: 1.7696489403671378\n"
     ]
    },
    {
     "name": "stderr",
     "output_type": "stream",
     "text": [
      "Training:  15%|█▌        | 30/200 [00:01<00:08, 21.17epoch/s]"
     ]
    },
    {
     "name": "stdout",
     "output_type": "stream",
     "text": [
      "Epoch 29/200, Cross Entropy: 1.7694497160839688\n",
      "Epoch 30/200, Cross Entropy: 1.7692825193155675\n"
     ]
    },
    {
     "name": "stderr",
     "output_type": "stream",
     "text": [
      "Training:  15%|█▌        | 30/200 [00:01<00:08, 21.17epoch/s]"
     ]
    },
    {
     "name": "stdout",
     "output_type": "stream",
     "text": [
      "Epoch 31/200, Cross Entropy: 1.7691431267807616\n"
     ]
    },
    {
     "name": "stderr",
     "output_type": "stream",
     "text": [
      "Training:  16%|█▋        | 33/200 [00:01<00:08, 18.72epoch/s]"
     ]
    },
    {
     "name": "stdout",
     "output_type": "stream",
     "text": [
      "Epoch 32/200, Cross Entropy: 1.7690278847319767\n",
      "Epoch 33/200, Cross Entropy: 1.7689336256158033\n"
     ]
    },
    {
     "name": "stderr",
     "output_type": "stream",
     "text": [
      "Training:  16%|█▋        | 33/200 [00:01<00:08, 18.72epoch/s]"
     ]
    },
    {
     "name": "stdout",
     "output_type": "stream",
     "text": [
      "Epoch 34/200, Cross Entropy: 1.7688575985027821\n"
     ]
    },
    {
     "name": "stderr",
     "output_type": "stream",
     "text": [
      "Training:  18%|█▊        | 37/200 [00:01<00:09, 18.04epoch/s]"
     ]
    },
    {
     "name": "stdout",
     "output_type": "stream",
     "text": [
      "Epoch 35/200, Cross Entropy: 1.7687974106376863\n",
      "Epoch 36/200, Cross Entropy: 1.7687509780598156\n",
      "Epoch 37/200, Cross Entropy: 1.768716483685656\n"
     ]
    },
    {
     "name": "stderr",
     "output_type": "stream",
     "text": [
      "Training:  18%|█▊        | 37/200 [00:01<00:09, 18.04epoch/s]"
     ]
    },
    {
     "name": "stdout",
     "output_type": "stream",
     "text": [
      "Epoch 38/200, Cross Entropy: 1.7686923415784688\n"
     ]
    },
    {
     "name": "stderr",
     "output_type": "stream",
     "text": [
      "Training:  20%|█▉        | 39/200 [00:01<00:08, 17.91epoch/s]"
     ]
    },
    {
     "name": "stdout",
     "output_type": "stream",
     "text": [
      "Epoch 39/200, Cross Entropy: 1.7686771663818477\n",
      "Epoch 40/200, Cross Entropy: 1.7686697470887194\n",
      "Epoch 41/200, Cross Entropy: 1.768669024468729\n"
     ]
    },
    {
     "name": "stderr",
     "output_type": "stream",
     "text": [
      "Training:  21%|██        | 42/200 [00:02<00:08, 18.56epoch/s]"
     ]
    },
    {
     "name": "stdout",
     "output_type": "stream",
     "text": [
      "Epoch 42/200, Cross Entropy: 1.768674071596429\n"
     ]
    },
    {
     "name": "stderr",
     "output_type": "stream",
     "text": [
      "Training:  22%|██▏       | 44/200 [00:02<00:08, 18.42epoch/s]"
     ]
    },
    {
     "name": "stdout",
     "output_type": "stream",
     "text": [
      "Epoch 43/200, Cross Entropy: 1.7686840770178602\n",
      "Epoch 44/200, Cross Entropy: 1.768698330169722\n",
      "Epoch 45/200, Cross Entropy: 1.768716208727513\n"
     ]
    },
    {
     "name": "stderr",
     "output_type": "stream",
     "text": [
      "Training:  23%|██▎       | 46/200 [00:02<00:08, 18.72epoch/s]"
     ]
    },
    {
     "name": "stdout",
     "output_type": "stream",
     "text": [
      "Epoch 46/200, Cross Entropy: 1.7687371676099217\n"
     ]
    },
    {
     "name": "stderr",
     "output_type": "stream",
     "text": [
      "Training:  24%|██▍       | 48/200 [00:02<00:08, 18.71epoch/s]"
     ]
    },
    {
     "name": "stdout",
     "output_type": "stream",
     "text": [
      "Epoch 47/200, Cross Entropy: 1.7687607294087122\n",
      "Epoch 48/200, Cross Entropy: 1.7687864760481105\n",
      "Epoch 49/200, Cross Entropy: 1.7688140415067533\n"
     ]
    },
    {
     "name": "stderr",
     "output_type": "stream",
     "text": [
      "Training:  25%|██▌       | 50/200 [00:02<00:07, 19.01epoch/s]"
     ]
    },
    {
     "name": "stdout",
     "output_type": "stream",
     "text": [
      "Epoch 50/200, Cross Entropy: 1.768843105459542\n"
     ]
    },
    {
     "name": "stderr",
     "output_type": "stream",
     "text": [
      "Training:  25%|██▌       | 50/200 [00:02<00:07, 19.01epoch/s]"
     ]
    },
    {
     "name": "stdout",
     "output_type": "stream",
     "text": [
      "Epoch 51/200, Cross Entropy: 1.7688733877172242\n"
     ]
    },
    {
     "name": "stderr",
     "output_type": "stream",
     "text": [
      "Training:  27%|██▋       | 54/200 [00:02<00:11, 12.54epoch/s]"
     ]
    },
    {
     "name": "stdout",
     "output_type": "stream",
     "text": [
      "Epoch 52/200, Cross Entropy: 1.7689046433588165\n",
      "Epoch 53/200, Cross Entropy: 1.7689366584666195\n",
      "Epoch 54/200, Cross Entropy: 1.7689692463860447\n"
     ]
    },
    {
     "name": "stderr",
     "output_type": "stream",
     "text": [
      "Training:  28%|██▊       | 56/200 [00:03<00:10, 13.37epoch/s]"
     ]
    },
    {
     "name": "stdout",
     "output_type": "stream",
     "text": [
      "Epoch 55/200, Cross Entropy: 1.7690022444430802\n",
      "Epoch 56/200, Cross Entropy: 1.7690355110612992\n",
      "Epoch 57/200, Cross Entropy: 1.7690689232280732\n"
     ]
    },
    {
     "name": "stderr",
     "output_type": "stream",
     "text": [
      "Training:  30%|███       | 60/200 [00:03<00:09, 15.07epoch/s]"
     ]
    },
    {
     "name": "stdout",
     "output_type": "stream",
     "text": [
      "Epoch 58/200, Cross Entropy: 1.76910237426633\n",
      "Epoch 59/200, Cross Entropy: 1.7691357718739043\n",
      "Epoch 60/200, Cross Entropy: 1.7691690363974815\n",
      "Epoch 61/200, Cross Entropy: 1.769202099312377\n"
     ]
    },
    {
     "name": "stderr",
     "output_type": "stream",
     "text": [
      "Training:  32%|███▏      | 64/200 [00:03<00:08, 16.03epoch/s]"
     ]
    },
    {
     "name": "stdout",
     "output_type": "stream",
     "text": [
      "Epoch 62/200, Cross Entropy: 1.7692349018830726\n",
      "Epoch 63/200, Cross Entropy: 1.7692673939826087\n",
      "Epoch 64/200, Cross Entropy: 1.769299533051693\n"
     ]
    },
    {
     "name": "stderr",
     "output_type": "stream",
     "text": [
      "Training:  33%|███▎      | 66/200 [00:03<00:08, 16.53epoch/s]"
     ]
    },
    {
     "name": "stdout",
     "output_type": "stream",
     "text": [
      "Epoch 65/200, Cross Entropy: 1.7693312831807666\n",
      "Epoch 66/200, Cross Entropy: 1.769362614300358\n",
      "Epoch 67/200, Cross Entropy: 1.7693935014668405\n"
     ]
    },
    {
     "name": "stderr",
     "output_type": "stream",
     "text": [
      "Training:  35%|███▌      | 70/200 [00:03<00:08, 15.68epoch/s]"
     ]
    },
    {
     "name": "stdout",
     "output_type": "stream",
     "text": [
      "Epoch 68/200, Cross Entropy: 1.7694239242323129\n",
      "Epoch 69/200, Cross Entropy: 1.7694538660886707\n",
      "Epoch 70/200, Cross Entropy: 1.7694833139771358\n"
     ]
    },
    {
     "name": "stderr",
     "output_type": "stream",
     "text": [
      "Training:  37%|███▋      | 74/200 [00:04<00:07, 16.73epoch/s]"
     ]
    },
    {
     "name": "stdout",
     "output_type": "stream",
     "text": [
      "Epoch 71/200, Cross Entropy: 1.7695122578555762\n",
      "Epoch 72/200, Cross Entropy: 1.7695406903168476\n",
      "Epoch 73/200, Cross Entropy: 1.7695686062521994\n",
      "Epoch 74/200, Cross Entropy: 1.7695960025544886\n"
     ]
    },
    {
     "name": "stderr",
     "output_type": "stream",
     "text": [
      "Training:  38%|███▊      | 76/200 [00:04<00:07, 17.19epoch/s]"
     ]
    },
    {
     "name": "stdout",
     "output_type": "stream",
     "text": [
      "Epoch 75/200, Cross Entropy: 1.7696228778565632\n",
      "Epoch 76/200, Cross Entropy: 1.7696492323007298\n",
      "Epoch 77/200, Cross Entropy: 1.7696750673356765\n",
      "Epoch 78/200, Cross Entropy: 1.7697003855376685\n"
     ]
    },
    {
     "name": "stderr",
     "output_type": "stream",
     "text": [
      "Training:  40%|████      | 81/200 [00:04<00:06, 18.62epoch/s]"
     ]
    },
    {
     "name": "stdout",
     "output_type": "stream",
     "text": [
      "Epoch 79/200, Cross Entropy: 1.7697251904531854\n",
      "Epoch 80/200, Cross Entropy: 1.7697494864605035\n",
      "Epoch 81/200, Cross Entropy: 1.7697732786480125\n",
      "Epoch 82/200, Cross Entropy: 1.7697965727073186\n"
     ]
    },
    {
     "name": "stderr",
     "output_type": "stream",
     "text": [
      "Training:  42%|████▎     | 85/200 [00:04<00:06, 18.97epoch/s]"
     ]
    },
    {
     "name": "stdout",
     "output_type": "stream",
     "text": [
      "Epoch 83/200, Cross Entropy: 1.7698193748393947\n",
      "Epoch 84/200, Cross Entropy: 1.7698416916722546\n",
      "Epoch 85/200, Cross Entropy: 1.769863530188791\n",
      "Epoch 86/200, Cross Entropy: 1.769884897663585\n"
     ]
    },
    {
     "name": "stderr",
     "output_type": "stream",
     "text": [
      "Training:  45%|████▌     | 90/200 [00:04<00:05, 19.23epoch/s]"
     ]
    },
    {
     "name": "stdout",
     "output_type": "stream",
     "text": [
      "Epoch 87/200, Cross Entropy: 1.7699058016076186\n",
      "Epoch 88/200, Cross Entropy: 1.7699262497199562\n",
      "Epoch 89/200, Cross Entropy: 1.7699462498455614\n",
      "Epoch 90/200, Cross Entropy: 1.769965809938519\n"
     ]
    },
    {
     "name": "stderr",
     "output_type": "stream",
     "text": [
      "Training:  47%|████▋     | 94/200 [00:05<00:05, 19.10epoch/s]"
     ]
    },
    {
     "name": "stdout",
     "output_type": "stream",
     "text": [
      "Epoch 91/200, Cross Entropy: 1.7699849380300052\n",
      "Epoch 92/200, Cross Entropy: 1.7700036422004382\n",
      "Epoch 93/200, Cross Entropy: 1.7700219305552978\n",
      "Epoch 94/200, Cross Entropy: 1.7700398112041675\n"
     ]
    },
    {
     "name": "stderr",
     "output_type": "stream",
     "text": [
      "Training:  48%|████▊     | 96/200 [00:05<00:05, 19.19epoch/s]"
     ]
    },
    {
     "name": "stdout",
     "output_type": "stream",
     "text": [
      "Epoch 95/200, Cross Entropy: 1.770057292242604\n",
      "Epoch 96/200, Cross Entropy: 1.77007438173648\n",
      "Epoch 97/200, Cross Entropy: 1.7700910877085\n",
      "Epoch 98/200, Cross Entropy: 1.770107418126613\n"
     ]
    },
    {
     "name": "stderr",
     "output_type": "stream",
     "text": [
      "Training:  50%|█████     | 101/200 [00:05<00:05, 19.68epoch/s]"
     ]
    },
    {
     "name": "stdout",
     "output_type": "stream",
     "text": [
      "Epoch 99/200, Cross Entropy: 1.7701233808940817\n",
      "Epoch 100/200, Cross Entropy: 1.7701389838410067\n",
      "Epoch 101/200, Cross Entropy: 1.7701542347171064\n",
      "Epoch 102/200, Cross Entropy: 1.7701691411856089\n"
     ]
    },
    {
     "name": "stderr",
     "output_type": "stream",
     "text": [
      "Training:  53%|█████▎    | 106/200 [00:05<00:04, 18.94epoch/s]"
     ]
    },
    {
     "name": "stdout",
     "output_type": "stream",
     "text": [
      "Epoch 103/200, Cross Entropy: 1.7701837108180942\n",
      "Epoch 104/200, Cross Entropy: 1.770197951090179\n",
      "Epoch 105/200, Cross Entropy: 1.7702118693779223\n",
      "Epoch 106/200, Cross Entropy: 1.7702254729548657\n"
     ]
    },
    {
     "name": "stderr",
     "output_type": "stream",
     "text": [
      "Training:  54%|█████▍    | 108/200 [00:05<00:04, 18.64epoch/s]"
     ]
    },
    {
     "name": "stdout",
     "output_type": "stream",
     "text": [
      "Epoch 107/200, Cross Entropy: 1.7702387689896177\n",
      "Epoch 108/200, Cross Entropy: 1.7702517645439144\n",
      "Epoch 109/200, Cross Entropy: 1.7702644665710892\n"
     ]
    },
    {
     "name": "stderr",
     "output_type": "stream",
     "text": [
      "Training:  56%|█████▌    | 112/200 [00:06<00:05, 16.36epoch/s]"
     ]
    },
    {
     "name": "stdout",
     "output_type": "stream",
     "text": [
      "Epoch 110/200, Cross Entropy: 1.770276881914904\n",
      "Epoch 111/200, Cross Entropy: 1.77028901730868\n",
      "Epoch 112/200, Cross Entropy: 1.770300879374704\n"
     ]
    },
    {
     "name": "stderr",
     "output_type": "stream",
     "text": [
      "Training:  58%|█████▊    | 116/200 [00:06<00:05, 16.39epoch/s]"
     ]
    },
    {
     "name": "stdout",
     "output_type": "stream",
     "text": [
      "Epoch 113/200, Cross Entropy: 1.7703124746238594\n",
      "Epoch 114/200, Cross Entropy: 1.7703238094554614\n",
      "Epoch 115/200, Cross Entropy: 1.770334890157261\n",
      "Epoch 116/200, Cross Entropy: 1.770345722905604\n"
     ]
    },
    {
     "name": "stderr",
     "output_type": "stream",
     "text": [
      "Training:  60%|██████    | 120/200 [00:06<00:04, 17.18epoch/s]"
     ]
    },
    {
     "name": "stdout",
     "output_type": "stream",
     "text": [
      "Epoch 117/200, Cross Entropy: 1.770356313765717\n",
      "Epoch 118/200, Cross Entropy: 1.7703666686921031\n",
      "Epoch 119/200, Cross Entropy: 1.7703767935290458\n",
      "Epoch 120/200, Cross Entropy: 1.7703866940111888\n"
     ]
    },
    {
     "name": "stderr",
     "output_type": "stream",
     "text": [
      "Training:  62%|██████▏   | 124/200 [00:06<00:04, 17.54epoch/s]"
     ]
    },
    {
     "name": "stdout",
     "output_type": "stream",
     "text": [
      "Epoch 121/200, Cross Entropy: 1.7703963757641958\n",
      "Epoch 122/200, Cross Entropy: 1.770405844305476\n",
      "Epoch 123/200, Cross Entropy: 1.7704151050449677\n",
      "Epoch 124/200, Cross Entropy: 1.7704241632859727\n"
     ]
    },
    {
     "name": "stderr",
     "output_type": "stream",
     "text": [
      "Training:  63%|██████▎   | 126/200 [00:07<00:04, 17.45epoch/s]"
     ]
    },
    {
     "name": "stdout",
     "output_type": "stream",
     "text": [
      "Epoch 125/200, Cross Entropy: 1.7704330242260364\n",
      "Epoch 126/200, Cross Entropy: 1.77044169295787\n",
      "Epoch 127/200, Cross Entropy: 1.7704501744703087\n"
     ]
    },
    {
     "name": "stderr",
     "output_type": "stream",
     "text": [
      "Training:  65%|██████▌   | 130/200 [00:07<00:05, 11.67epoch/s]"
     ]
    },
    {
     "name": "stdout",
     "output_type": "stream",
     "text": [
      "Epoch 128/200, Cross Entropy: 1.7704584736493039\n",
      "Epoch 129/200, Cross Entropy: 1.7704665952789433\n",
      "Epoch 130/200, Cross Entropy: 1.770474544042503\n"
     ]
    },
    {
     "name": "stderr",
     "output_type": "stream",
     "text": [
      "Training:  66%|██████▌   | 132/200 [00:07<00:06, 11.19epoch/s]"
     ]
    },
    {
     "name": "stdout",
     "output_type": "stream",
     "text": [
      "Epoch 131/200, Cross Entropy: 1.7704823245235175\n",
      "Epoch 132/200, Cross Entropy: 1.7704899412068837\n",
      "Epoch 133/200, Cross Entropy: 1.7704973984799737\n"
     ]
    },
    {
     "name": "stderr",
     "output_type": "stream",
     "text": [
      "Training:  68%|██████▊   | 136/200 [00:07<00:04, 13.98epoch/s]"
     ]
    },
    {
     "name": "stdout",
     "output_type": "stream",
     "text": [
      "Epoch 134/200, Cross Entropy: 1.7705047006337764\n",
      "Epoch 135/200, Cross Entropy: 1.770511851864055\n",
      "Epoch 136/200, Cross Entropy: 1.7705188562725191\n",
      "Epoch 137/200, Cross Entropy: 1.7705257178680172\n"
     ]
    },
    {
     "name": "stderr",
     "output_type": "stream",
     "text": [
      "Training:  70%|███████   | 140/200 [00:08<00:03, 15.71epoch/s]"
     ]
    },
    {
     "name": "stdout",
     "output_type": "stream",
     "text": [
      "Epoch 138/200, Cross Entropy: 1.770532440567737\n",
      "Epoch 139/200, Cross Entropy: 1.770539028198428\n",
      "Epoch 140/200, Cross Entropy: 1.7705454844976274\n",
      "Epoch 141/200, Cross Entropy: 1.7705518131149056\n"
     ]
    },
    {
     "name": "stderr",
     "output_type": "stream",
     "text": [
      "Training:  72%|███████▏  | 144/200 [00:08<00:03, 17.03epoch/s]"
     ]
    },
    {
     "name": "stdout",
     "output_type": "stream",
     "text": [
      "Epoch 142/200, Cross Entropy: 1.7705580176131144\n",
      "Epoch 143/200, Cross Entropy: 1.7705641014696512\n",
      "Epoch 144/200, Cross Entropy: 1.770570068077729\n",
      "Epoch 145/200, Cross Entropy: 1.7705759207476526\n"
     ]
    },
    {
     "name": "stderr",
     "output_type": "stream",
     "text": [
      "Training:  74%|███████▍  | 148/200 [00:08<00:02, 17.91epoch/s]"
     ]
    },
    {
     "name": "stdout",
     "output_type": "stream",
     "text": [
      "Epoch 146/200, Cross Entropy: 1.770581662708104\n",
      "Epoch 147/200, Cross Entropy: 1.7705872971074303\n",
      "Epoch 148/200, Cross Entropy: 1.7705928270149414\n",
      "Epoch 149/200, Cross Entropy: 1.7705982554222044\n"
     ]
    },
    {
     "name": "stderr",
     "output_type": "stream",
     "text": [
      "Training:  76%|███████▌  | 151/200 [00:08<00:02, 19.29epoch/s]"
     ]
    },
    {
     "name": "stdout",
     "output_type": "stream",
     "text": [
      "Epoch 150/200, Cross Entropy: 1.7706035852443478\n",
      "Epoch 151/200, Cross Entropy: 1.7706088193213632\n",
      "Epoch 152/200, Cross Entropy: 1.7706139604194093\n",
      "Epoch 153/200, Cross Entropy: 1.7706190112321174\n"
     ]
    },
    {
     "name": "stderr",
     "output_type": "stream",
     "text": [
      "Training:  78%|███████▊  | 157/200 [00:08<00:02, 20.46epoch/s]"
     ]
    },
    {
     "name": "stdout",
     "output_type": "stream",
     "text": [
      "Epoch 154/200, Cross Entropy: 1.7706239743818926\n",
      "Epoch 155/200, Cross Entropy: 1.7706288524212188\n",
      "Epoch 156/200, Cross Entropy: 1.7706336478339537\n",
      "Epoch 157/200, Cross Entropy: 1.7706383630366305\n"
     ]
    },
    {
     "name": "stderr",
     "output_type": "stream",
     "text": [
      "Training:  80%|████████  | 160/200 [00:09<00:01, 20.54epoch/s]"
     ]
    },
    {
     "name": "stdout",
     "output_type": "stream",
     "text": [
      "Epoch 158/200, Cross Entropy: 1.7706430003797435\n",
      "Epoch 159/200, Cross Entropy: 1.7706475621490412\n",
      "Epoch 160/200, Cross Entropy: 1.7706520505668035\n",
      "Epoch 161/200, Cross Entropy: 1.770656467793117\n"
     ]
    },
    {
     "name": "stderr",
     "output_type": "stream",
     "text": [
      "Training:  82%|████████▏ | 163/200 [00:09<00:01, 20.54epoch/s]"
     ]
    },
    {
     "name": "stdout",
     "output_type": "stream",
     "text": [
      "Epoch 162/200, Cross Entropy: 1.7706608159271433\n",
      "Epoch 163/200, Cross Entropy: 1.770665097008378\n",
      "Epoch 164/200, Cross Entropy: 1.7706693130179023\n",
      "Epoch 165/200, Cross Entropy: 1.7706734658796237\n"
     ]
    },
    {
     "name": "stderr",
     "output_type": "stream",
     "text": [
      "Training:  84%|████████▍ | 169/200 [00:09<00:01, 20.49epoch/s]"
     ]
    },
    {
     "name": "stdout",
     "output_type": "stream",
     "text": [
      "Epoch 166/200, Cross Entropy: 1.770677557461508\n",
      "Epoch 167/200, Cross Entropy: 1.7706815895767996\n",
      "Epoch 168/200, Cross Entropy: 1.7706855639852335\n",
      "Epoch 169/200, Cross Entropy: 1.7706894823942314\n"
     ]
    },
    {
     "name": "stderr",
     "output_type": "stream",
     "text": [
      "Training:  86%|████████▌ | 172/200 [00:09<00:01, 20.68epoch/s]"
     ]
    },
    {
     "name": "stdout",
     "output_type": "stream",
     "text": [
      "Epoch 170/200, Cross Entropy: 1.7706933464600894\n",
      "Epoch 171/200, Cross Entropy: 1.7706971577891502\n",
      "Epoch 172/200, Cross Entropy: 1.770700917938965\n",
      "Epoch 173/200, Cross Entropy: 1.7707046284194383\n"
     ]
    },
    {
     "name": "stderr",
     "output_type": "stream",
     "text": [
      "Training:  89%|████████▉ | 178/200 [00:09<00:01, 21.72epoch/s]"
     ]
    },
    {
     "name": "stdout",
     "output_type": "stream",
     "text": [
      "Epoch 174/200, Cross Entropy: 1.770708290693964\n",
      "Epoch 175/200, Cross Entropy: 1.7707119061805379\n",
      "Epoch 176/200, Cross Entropy: 1.7707154762528703\n",
      "Epoch 177/200, Cross Entropy: 1.7707190022414665\n",
      "Epoch 178/200, Cross Entropy: 1.7707224854347046\n"
     ]
    },
    {
     "name": "stderr",
     "output_type": "stream",
     "text": [
      "                                                              "
     ]
    },
    {
     "name": "stdout",
     "output_type": "stream",
     "text": [
      "Epoch 179/200, Cross Entropy: 1.7707259270798936\n",
      "Epoch 180/200, Cross Entropy: 1.7707293283843133\n",
      "Epoch 181/200, Cross Entropy: 1.7707326905162433\n",
      "Epoch 182/200, Cross Entropy: 1.7707360146059714\n"
     ]
    },
    {
     "name": "stderr",
     "output_type": "stream",
     "text": [
      "Training:  94%|█████████▎| 187/200 [00:10<00:00, 22.76epoch/s]"
     ]
    },
    {
     "name": "stdout",
     "output_type": "stream",
     "text": [
      "Epoch 183/200, Cross Entropy: 1.7707393017467872\n",
      "Epoch 184/200, Cross Entropy: 1.770742552995961\n",
      "Epoch 185/200, Cross Entropy: 1.770745769375702\n",
      "Epoch 186/200, Cross Entropy: 1.7707489518741046\n",
      "Epoch 187/200, Cross Entropy: 1.7707521014460745\n"
     ]
    },
    {
     "name": "stderr",
     "output_type": "stream",
     "text": [
      "Training:  95%|█████████▌| 190/200 [00:10<00:00, 23.50epoch/s]"
     ]
    },
    {
     "name": "stdout",
     "output_type": "stream",
     "text": [
      "Epoch 188/200, Cross Entropy: 1.7707552190142386\n",
      "Epoch 189/200, Cross Entropy: 1.7707583054698417\n",
      "Epoch 190/200, Cross Entropy: 1.770761361673618\n",
      "Epoch 191/200, Cross Entropy: 1.7707643884566557\n",
      "Epoch 192/200, Cross Entropy: 1.7707673866212381\n"
     ]
    },
    {
     "name": "stderr",
     "output_type": "stream",
     "text": [
      "Training:  98%|█████████▊| 196/200 [00:10<00:00, 23.37epoch/s]"
     ]
    },
    {
     "name": "stdout",
     "output_type": "stream",
     "text": [
      "Epoch 193/200, Cross Entropy: 1.7707703569416702\n",
      "Epoch 194/200, Cross Entropy: 1.7707733001650887\n",
      "Epoch 195/200, Cross Entropy: 1.7707762170122543\n",
      "Epoch 196/200, Cross Entropy: 1.7707791081783277\n",
      "Epoch 197/200, Cross Entropy: 1.7707819743336324\n"
     ]
    },
    {
     "name": "stderr",
     "output_type": "stream",
     "text": [
      "Training: 100%|██████████| 200/200 [00:10<00:00, 18.39epoch/s]\n"
     ]
    },
    {
     "name": "stdout",
     "output_type": "stream",
     "text": [
      "Epoch 198/200, Cross Entropy: 1.7707848161243944\n",
      "Epoch 199/200, Cross Entropy: 1.7707876341734714\n",
      "Epoch 200/200, Cross Entropy: 1.7707904290810645\n",
      "Results saved to: ../results/layers/error_rates_layers_5_5layers_200_200_200_200_200_1000.txt\n"
     ]
    },
    {
     "data": {
      "text/plain": [
       "{2: (0.876, 0.617, 0.876, 0.617),\n",
       " 3: (0.876, 0.641, 0.876, 0.641),\n",
       " 4: (0.876, 0.615, 0.876, 0.615),\n",
       " 5: (0.876, 0.633, 0.876, 0.633)}"
      ]
     },
     "execution_count": 24,
     "metadata": {},
     "output_type": "execute_result"
    }
   ],
   "source": [
    "experiment_layers(train_1000, train_1000_labels, binary_mnist_test, mnist_train_labels, save_dir=RESULTS_LAYERS_PATH)"
   ]
  },
  {
   "cell_type": "code",
   "execution_count": 25,
   "metadata": {},
   "outputs": [],
   "source": [
    "# experiment_layers(binary_mnist_train, mnist_train_labels, binary_mnist_test, mnist_train_labels, save_dir=RESULTS_LAYERS_PATH)"
   ]
  },
  {
   "cell_type": "code",
   "execution_count": null,
   "metadata": {},
   "outputs": [],
   "source": [
    "save_dir = \"results\"\n",
    "\n",
    "train_1000, train_1000_labels = sample_mnist(binary_mnist_train, mnist_train_labels, 1_000, random_state=SEED)\n",
    "test_1000, test_1000_labels = sample_mnist(binary_mnist_test, mnist_test_labels, 1_000, random_state=SEED)\n",
    "\n",
    "experiment_train_size(\n",
    "        binary_mnist_train,\n",
    "        mnist_train_labels,\n",
    "        binary_mnist_test,\n",
    "        mnist_test_labels,\n",
    "        save_dir,\n",
    "        train_sizes = [1000, 3000, 7000, 10000, 30000, 60000]\n",
    "    )"
   ]
  },
  {
   "cell_type": "code",
   "execution_count": null,
   "metadata": {},
   "outputs": [],
   "source": [
    "save_dir = \"results\"\n",
    "\n",
    "train_1000, train_1000_labels = sample_mnist(binary_mnist_train, mnist_train_labels, 1_000, random_state=SEED)\n",
    "test_1000, test_1000_labels = sample_mnist(binary_mnist_test, mnist_test_labels, 1_000, random_state=SEED)\n",
    "\n",
    "experiment_neurons(\n",
    "        train_1000,\n",
    "        train_1000_labels,\n",
    "        binary_mnist_test,\n",
    "        mnist_test_labels,\n",
    "        save_dir,\n",
    "        layer_sizes = [200,300,400,500,600]\n",
    "    )"
   ]
  },
  {
   "cell_type": "markdown",
   "metadata": {},
   "source": [
    "# Figures "
   ]
  },
  {
   "cell_type": "markdown",
   "metadata": {},
   "source": [
    "definition of function for figures"
   ]
  },
  {
   "cell_type": "code",
   "execution_count": null,
   "metadata": {},
   "outputs": [],
   "source": [
    "import matplotlib.pyplot as plt\n",
    "\n",
    "def plot_error_rates(x_values, error_rates_random_init, error_rates_pretrained, title, x_label):\n",
    "    # Unpacking the error rates\n",
    "    train_errors_random, test_errors_random = zip(*error_rates_random_init)\n",
    "    train_errors_pretrained, test_errors_pretrained = zip(*error_rates_pretrained)\n",
    "\n",
    "    plt.figure(figsize=(10, 6))\n",
    "\n",
    "    # Plotting training and test error rates for randomly initialized networks\n",
    "    plt.plot(x_values, train_errors_random, marker='o', linestyle='-', color='blue', label='Random Init - Train')\n",
    "    plt.plot(x_values, test_errors_random, marker='s', linestyle='--', color='blue', label='Random Init - Test')\n",
    "\n",
    "    # Plotting training and test error rates for pretrained networks\n",
    "    plt.plot(x_values, train_errors_pretrained, marker='o', linestyle='-', color='green', label='Pretrained - Train')\n",
    "    plt.plot(x_values, test_errors_pretrained, marker='s', linestyle='--', color='green', label='Pretrained - Test')\n",
    "\n",
    "    plt.title(title)\n",
    "    plt.xlabel(x_label)\n",
    "    plt.ylabel('Error Rate')\n",
    "    plt.legend()\n",
    "    plt.grid(False)\n",
    "    plt.show()\n"
   ]
  },
  {
   "cell_type": "markdown",
   "metadata": {},
   "source": [
    "# Number of Layers"
   ]
  },
  {
   "cell_type": "code",
   "execution_count": null,
   "metadata": {},
   "outputs": [
    {
     "data": {
      "image/png": "[encoded data removed]",
      "text/plain": [
       "<Figure size 1000x600 with 1 Axes>"
      ]
     },
     "metadata": {},
     "output_type": "display_data"
    }
   ],
   "source": [
    "# Example data for plotting\n",
    "layer_sizes = [2, 3, 4]\n",
    "# Adding two more sets of error rates to match the number of layer sizes\n",
    "error_rates_random_init_layers = [(0.89, 0.71), (0.87, 0.70), (0.86, 0.60)]  # (Train, Test) for random init\n",
    "error_rates_pretrained_layers = [(0.88, 0.71), (0.87, 0.70), (0.85, 0.60)]  # (Train, Test) for pretrained\n",
    "\n",
    "# Now let's plot these error rates\n",
    "plot_error_rates(layer_sizes, error_rates_random_init_layers, error_rates_pretrained_layers, \n",
    "                 \"Error Rates vs Number of Neurons per Layer\", \"Number of Neurons per Layer\")\n"
   ]
  },
  {
   "cell_type": "markdown",
   "metadata": {},
   "source": [
    "# Number of Neurons"
   ]
  },
  {
   "cell_type": "code",
   "execution_count": null,
   "metadata": {},
   "outputs": [
    {
     "data": {
      "image/png": "[encoded data removed]",
      "text/plain": [
       "<Figure size 1000x600 with 1 Axes>"
      ]
     },
     "metadata": {},
     "output_type": "display_data"
    }
   ],
   "source": [
    "# Example data for the number of neurons per layer\n",
    "neuron_sizes = [100, 200, 300, 400, 500, 600]\n",
    "error_rates_random_init_neurons = [(0.30, 0.33), (0.28, 0.31), (0.26, 0.29), (0.25, 0.28), (0.24, 0.27), (0.23, 0.26)]  # (Train, Test) for random init\n",
    "error_rates_pretrained_neurons = [(0.25, 0.28), (0.23, 0.26), (0.21, 0.24), (0.20, 0.23), (0.19, 0.22), (0.18, 0.21)]  # (Train, Test) for pretrained\n",
    "\n",
    "# Plot for neurons\n",
    "plot_error_rates(neuron_sizes, error_rates_random_init_neurons, error_rates_pretrained_neurons, \n",
    "                 \"Error Rates vs Number of Neurons per Layer\", \"Number of Neurons per Layer\")\n"
   ]
  },
  {
   "cell_type": "markdown",
   "metadata": {},
   "source": [
    "# Number of training data"
   ]
  },
  {
   "cell_type": "code",
   "execution_count": null,
   "metadata": {},
   "outputs": [
    {
     "data": {
      "image/png": "[encoded data removed]",
      "text/plain": [
       "<Figure size 1000x600 with 1 Axes>"
      ]
     },
     "metadata": {},
     "output_type": "display_data"
    }
   ],
   "source": [
    "# Example data for the training set size\n",
    "train_sizes = [1000, 3000, 7000, 10000, 30000, 60000]\n",
    "\n",
    "epsilon  = 0.01 # for visual purpose\n",
    "error_rates_random_init = [\n",
    "    (0.877 + epsilon, 0.602 + epsilon),  # Train and Test error for 1000 training size (Random Init)\n",
    "    (0.892 + epsilon, 0.6906666666666667 + epsilon),  # For 3000\n",
    "    (0.8912857142857142 + epsilon, 0.7068571428571429 + epsilon),  # For 7000\n",
    "    (0.8847 + epsilon, 0.7171000000000001 + epsilon),  # For 10000\n",
    "    (0.8990333333333334 + epsilon, 0.7237666666666667 + epsilon),  # For 30000\n",
    "    (0.8955833333333333 + epsilon, 0.7155333333333334 + epsilon)  # For 60000\n",
    "]\n",
    "\n",
    "error_rates_pretrained = [\n",
    "    (0.877, 0.602 ),  # Train and Test error for 1000 training size (Pretrained)\n",
    "    (0.892, 0.6906666666666667),  # For 3000\n",
    "    (0.8912857142857142, 0.7068571428571429),  # For 7000\n",
    "    (0.8847, 0.7171000000000001),  # For 10000\n",
    "    (0.8990333333333334, 0.7237666666666667),  # For 30000\n",
    "    (0.8955833333333333, 0.7155333333333334)  # For 60000\n",
    "]\n",
    "\n",
    "# Plot for training set size\n",
    "plot_error_rates(train_sizes, error_rates_random_init, error_rates_pretrained, \n",
    "                 \"Error Rates vs Training Set Size\", \"Training Set Size\")\n"
   ]
  }
 ],
 "metadata": {
  "kernelspec": {
   "display_name": ".venv",
   "language": "python",
   "name": "python3"
  },
  "language_info": {
   "codemirror_mode": {
    "name": "ipython",
    "version": 3
   },
   "file_extension": ".py",
   "mimetype": "text/x-python",
   "name": "python",
   "nbconvert_exporter": "python",
   "pygments_lexer": "ipython3",
   "version": "3.10.11"
  }
 },
 "nbformat": 4,
 "nbformat_minor": 2
}
