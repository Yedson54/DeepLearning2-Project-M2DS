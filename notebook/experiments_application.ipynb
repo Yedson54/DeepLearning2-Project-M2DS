{
 "cells": [
  {
   "cell_type": "markdown",
   "metadata": {},
   "source": [
    "# Experiments"
   ]
  },
  {
   "cell_type": "code",
   "execution_count": 1,
   "metadata": {},
   "outputs": [
    {
     "name": "stdout",
     "output_type": "stream",
     "text": [
      "Obtaining file:///C:/Users/choho/Desktop/Master%20DS/Deep%20learning%20II/github/DeepLearning2-Project-M2DS\n",
      "  Installing build dependencies: started\n",
      "  Installing build dependencies: finished with status 'done'\n",
      "  Checking if build backend supports build_editable: started\n",
      "  Checking if build backend supports build_editable: finished with status 'done'\n",
      "  Getting requirements to build editable: started\n",
      "  Getting requirements to build editable: finished with status 'done'\n",
      "  Installing backend dependencies: started\n",
      "  Installing backend dependencies: finished with status 'done'\n",
      "  Preparing editable metadata (pyproject.toml): started\n",
      "  Preparing editable metadata (pyproject.toml): finished with status 'done'\n",
      "Building wheels for collected packages: generative_model\n",
      "  Building editable for generative_model (pyproject.toml): started\n",
      "  Building editable for generative_model (pyproject.toml): finished with status 'done'\n",
      "  Created wheel for generative_model: filename=generative_model-0.1-0.editable-py3-none-any.whl size=13944 sha256=3a062fca1c7bbb080d1da386fce80319042a4d2eef99c82c052d922f3ba95d4a\n",
      "  Stored in directory: C:\\Users\\choho\\AppData\\Local\\Temp\\pip-ephem-wheel-cache-nrb838_a\\wheels\\01\\d4\\53\\df1e644a772df8fb014fe243642f4c565ab30c602af6122b77\n",
      "Successfully built generative_model\n",
      "Installing collected packages: generative_model\n",
      "  Attempting uninstall: generative_model\n",
      "    Found existing installation: generative_model 0.1\n",
      "    Uninstalling generative_model-0.1:\n",
      "      Successfully uninstalled generative_model-0.1\n",
      "Successfully installed generative_model-0.1\n"
     ]
    }
   ],
   "source": [
    "#!pip install matplotlib\n",
    "#!pip install pandas\n",
    "#!pip install tqdm\n",
    "\n",
    "# code for importing from src\n",
    "import os\n",
    "os.chdir('../') # change working directory to the root of the project\n",
    "# install package in editable mode\n",
    "!pip install -e . \n",
    "os.chdir('src') # change working directory back to src"
   ]
  },
  {
   "cell_type": "code",
   "execution_count": 2,
   "metadata": {},
   "outputs": [],
   "source": [
    "# Import.\n",
    "import os\n",
    "\n",
    "import numpy as np\n",
    "import matplotlib.pyplot as plt\n",
    "import pandas as pd\n",
    "\n",
    "from models.rbm import RBM\n",
    "from models.dbn import DBN\n",
    "from models.dnn import DNN\n",
    "from utils import (\n",
    "    load_mnist,\n",
    "    load_alphadigit,\n",
    "    read_alpha_digit,\n",
    "    plot_characters_alphadigit,\n",
    "    plot_generated_images\n",
    ")"
   ]
  },
  {
   "cell_type": "code",
   "execution_count": 3,
   "metadata": {},
   "outputs": [],
   "source": [
    "DATA_FOLDER = \"../data/\"\n",
    "ALPHA_DIGIT_PATH = os.path.join(DATA_FOLDER, \"binaryalphadigs.mat\")\n",
    "MNIST_PATH = os.path.join(DATA_FOLDER, \"mnist_all.mat\")\n",
    "\n",
    "for path in [ALPHA_DIGIT_PATH, MNIST_PATH]:\n",
    "    if not os.path.exists(path):\n",
    "        raise FileNotFoundError(f\"The file {path} does not exist.\")\n",
    "\n",
    "SEED = 42"
   ]
  },
  {
   "cell_type": "markdown",
   "metadata": {},
   "source": [
    "## 1. Study on BinaryAlphaDigit"
   ]
  },
  {
   "cell_type": "code",
   "execution_count": 4,
   "metadata": {},
   "outputs": [
    {
     "data": {
      "image/png": "[encoded data removed]",
      "text/plain": [
       "<Figure size 400x200 with 2 Axes>"
      ]
     },
     "metadata": {},
     "output_type": "display_data"
    },
    {
     "data": {
      "image/png": "[encoded data removed]",
      "text/plain": [
       "<Figure size 800x200 with 4 Axes>"
      ]
     },
     "metadata": {},
     "output_type": "display_data"
    },
    {
     "name": "stdout",
     "output_type": "stream",
     "text": [
      "Original data: (36, 39)\n",
      "Original data (unstack samples -> flatten images): (1365, 320)\n",
      "Subset (1 character) data  (39, 320)\n",
      "Subset (4 characters) data  (156, 320)\n"
     ]
    }
   ],
   "source": [
    "alphadigit = load_alphadigit(ALPHA_DIGIT_PATH)\n",
    "\n",
    "chars_1 = [8]\n",
    "chars_2 = chars_1 + [\"Y\"]\n",
    "chars_3 = chars_2 + [\"L\"]\n",
    "chars_4 = chars_3 + [\"H\"]\n",
    "data_alpha_1 = read_alpha_digit(chars_1, data=alphadigit, use_data=True)\n",
    "data_alpha_2 = read_alpha_digit(chars_2, data=alphadigit, use_data=True)\n",
    "data_alpha_3 = read_alpha_digit(chars_3, data=alphadigit, use_data=True)\n",
    "data_alpha_4 = read_alpha_digit(chars_4, data=alphadigit, use_data=True)\n",
    "\n",
    "all_chars = np.arange(0, 35).tolist()\n",
    "alphadigit_data = read_alpha_digit(all_chars, data=alphadigit, use_data=True) # read all characters\n",
    "\n",
    "plot_characters_alphadigit(chars_1, data_alpha_1)\n",
    "plot_characters_alphadigit(chars_4, data_alpha_4)\n",
    "\n",
    "print(\"Original data:\", alphadigit.shape)\n",
    "print(\"Original data (unstack samples -> flatten images):\", alphadigit_data.shape)\n",
    "print(f\"Subset ({len(chars_1)} character) data \", data_alpha_1.shape)\n",
    "print(f\"Subset ({len(chars_4)} characters) data \", data_alpha_4.shape)"
   ]
  },
  {
   "cell_type": "markdown",
   "metadata": {},
   "source": [
    "### RBM"
   ]
  },
  {
   "cell_type": "code",
   "execution_count": 5,
   "metadata": {},
   "outputs": [
    {
     "name": "stdout",
     "output_type": "stream",
     "text": [
      "RBM(n_visible=320, n_hidden=200)\n"
     ]
    },
    {
     "data": {
      "text/plain": [
       "[0.2288,\n",
       " 0.2056,\n",
       " 0.2133,\n",
       " 0.1863,\n",
       " 0.184,\n",
       " 0.1968,\n",
       " 0.1862,\n",
       " 0.1958,\n",
       " 0.1735,\n",
       " 0.1743,\n",
       " 0.1879,\n",
       " 0.1706,\n",
       " 0.1564,\n",
       " 0.1766,\n",
       " 0.2011,\n",
       " 0.158,\n",
       " 0.199,\n",
       " 0.1701,\n",
       " 0.1641,\n",
       " 0.2054,\n",
       " 0.1746,\n",
       " 0.1632,\n",
       " 0.1348,\n",
       " 0.1765,\n",
       " 0.1417,\n",
       " 0.1458,\n",
       " 0.1404,\n",
       " 0.1551,\n",
       " 0.1345,\n",
       " 0.1524,\n",
       " 0.1437,\n",
       " 0.1504,\n",
       " 0.1596,\n",
       " 0.1386,\n",
       " 0.1311,\n",
       " 0.1637,\n",
       " 0.1363,\n",
       " 0.1458,\n",
       " 0.1603,\n",
       " 0.1189,\n",
       " 0.1173,\n",
       " 0.1593,\n",
       " 0.139,\n",
       " 0.1317,\n",
       " 0.1056,\n",
       " 0.1481,\n",
       " 0.1592,\n",
       " 0.1063,\n",
       " 0.1248,\n",
       " 0.1268,\n",
       " 0.1116,\n",
       " 0.1078,\n",
       " 0.1205,\n",
       " 0.1015,\n",
       " 0.1327,\n",
       " 0.1222,\n",
       " 0.1075,\n",
       " 0.1284,\n",
       " 0.1265,\n",
       " 0.1534,\n",
       " 0.0935,\n",
       " 0.1138,\n",
       " 0.1276,\n",
       " 0.1299,\n",
       " 0.1148,\n",
       " 0.1249,\n",
       " 0.1166,\n",
       " 0.1173,\n",
       " 0.1166,\n",
       " 0.0965,\n",
       " 0.1311,\n",
       " 0.0987,\n",
       " 0.109,\n",
       " 0.1126,\n",
       " 0.0896,\n",
       " 0.1041,\n",
       " 0.1231,\n",
       " 0.1066,\n",
       " 0.1022,\n",
       " 0.1061,\n",
       " 0.1104,\n",
       " 0.1105,\n",
       " 0.1055,\n",
       " 0.1173,\n",
       " 0.1136,\n",
       " 0.1335,\n",
       " 0.1006,\n",
       " 0.1049,\n",
       " 0.1133,\n",
       " 0.1184,\n",
       " 0.1014,\n",
       " 0.1317,\n",
       " 0.1081,\n",
       " 0.0904,\n",
       " 0.1172,\n",
       " 0.085,\n",
       " 0.1171,\n",
       " 0.1191,\n",
       " 0.1051,\n",
       " 0.1293]"
      ]
     },
     "execution_count": 5,
     "metadata": {},
     "output_type": "execute_result"
    }
   ],
   "source": [
    "data_alpha = data_alpha_1\n",
    "n_chars = data_alpha.shape[0] / 39\n",
    "\n",
    "# Parameters\n",
    "n_visible = data_alpha.shape[1]  # Number of visible units (size of each image)\n",
    "n_hidden = 200  # Number of hidden units (hyperparameter)\n",
    "learning_rate = 0.1\n",
    "n_epochs = 100\n",
    "batch_size = int(8 * n_chars)\n",
    "\n",
    "# Initialize RBM\n",
    "rbm = RBM(n_visible=n_visible, n_hidden=n_hidden, random_state=SEED)\n",
    "print(rbm)\n",
    "\n",
    "# Train RBM\n",
    "rbm.train(data_alpha, learning_rate=learning_rate, n_epochs=n_epochs, batch_size=batch_size)"
   ]
  },
  {
   "cell_type": "code",
   "execution_count": 6,
   "metadata": {},
   "outputs": [
    {
     "data": {
      "image/png": "[encoded data removed]",
      "text/plain": [
       "<Figure size 2000x200 with 10 Axes>"
      ]
     },
     "metadata": {},
     "output_type": "display_data"
    }
   ],
   "source": [
    "# Generate samples\n",
    "generated_samples = rbm.generate_image(n_samples=10, n_gibbs_steps=1)\n",
    "\n",
    "plot_generated_images(generated_samples, **{\"cmap\":None})"
   ]
  },
  {
   "cell_type": "markdown",
   "metadata": {},
   "source": [
    "### DBN"
   ]
  },
  {
   "cell_type": "code",
   "execution_count": 7,
   "metadata": {},
   "outputs": [
    {
     "name": "stderr",
     "output_type": "stream",
     "text": [
      "Training RBM layers: 100%|██████████| 3/3 [00:02<00:00,  1.07layer/s]\n"
     ]
    },
    {
     "data": {
      "text/plain": [
       "([0.2288,\n",
       "  0.2056,\n",
       "  0.2133,\n",
       "  0.1863,\n",
       "  0.184,\n",
       "  0.1968,\n",
       "  0.1862,\n",
       "  0.1958,\n",
       "  0.1735,\n",
       "  0.1743,\n",
       "  0.1879,\n",
       "  0.1706,\n",
       "  0.1564,\n",
       "  0.1766,\n",
       "  0.2011,\n",
       "  0.158,\n",
       "  0.199,\n",
       "  0.1701,\n",
       "  0.1641,\n",
       "  0.2054,\n",
       "  0.1746,\n",
       "  0.1632,\n",
       "  0.1348,\n",
       "  0.1765,\n",
       "  0.1417,\n",
       "  0.1458,\n",
       "  0.1404,\n",
       "  0.1551,\n",
       "  0.1345,\n",
       "  0.1524,\n",
       "  0.1437,\n",
       "  0.1504,\n",
       "  0.1596,\n",
       "  0.1386,\n",
       "  0.1311,\n",
       "  0.1637,\n",
       "  0.1363,\n",
       "  0.1458,\n",
       "  0.1603,\n",
       "  0.1189,\n",
       "  0.1173,\n",
       "  0.1593,\n",
       "  0.139,\n",
       "  0.1317,\n",
       "  0.1056,\n",
       "  0.1481,\n",
       "  0.1592,\n",
       "  0.1063,\n",
       "  0.1248,\n",
       "  0.1268,\n",
       "  0.1116,\n",
       "  0.1078,\n",
       "  0.1205,\n",
       "  0.1015,\n",
       "  0.1327,\n",
       "  0.1222,\n",
       "  0.1075,\n",
       "  0.1284,\n",
       "  0.1265,\n",
       "  0.1534,\n",
       "  0.0935,\n",
       "  0.1138,\n",
       "  0.1276,\n",
       "  0.1299,\n",
       "  0.1148,\n",
       "  0.1249,\n",
       "  0.1166,\n",
       "  0.1173,\n",
       "  0.1166,\n",
       "  0.0965,\n",
       "  0.1311,\n",
       "  0.0987,\n",
       "  0.109,\n",
       "  0.1126,\n",
       "  0.0896,\n",
       "  0.1041,\n",
       "  0.1231,\n",
       "  0.1066,\n",
       "  0.1022,\n",
       "  0.1061,\n",
       "  0.1104,\n",
       "  0.1105,\n",
       "  0.1055,\n",
       "  0.1173,\n",
       "  0.1136,\n",
       "  0.1335,\n",
       "  0.1006,\n",
       "  0.1049,\n",
       "  0.1133,\n",
       "  0.1184,\n",
       "  0.1014,\n",
       "  0.1317,\n",
       "  0.1081,\n",
       "  0.0904,\n",
       "  0.1172,\n",
       "  0.085,\n",
       "  0.1171,\n",
       "  0.1191,\n",
       "  0.1051,\n",
       "  0.1293,\n",
       "  0.008,\n",
       "  0.0154,\n",
       "  0.0114,\n",
       "  0.019,\n",
       "  0.0128,\n",
       "  0.0084,\n",
       "  0.0088,\n",
       "  0.0081,\n",
       "  0.0116,\n",
       "  0.0091,\n",
       "  0.0084,\n",
       "  0.0086,\n",
       "  0.0115,\n",
       "  0.0091,\n",
       "  0.0101,\n",
       "  0.0063,\n",
       "  0.0103,\n",
       "  0.0078,\n",
       "  0.0084,\n",
       "  0.0083,\n",
       "  0.0068,\n",
       "  0.0069,\n",
       "  0.0061,\n",
       "  0.0081,\n",
       "  0.0062,\n",
       "  0.0069,\n",
       "  0.0072,\n",
       "  0.0054,\n",
       "  0.0067,\n",
       "  0.006,\n",
       "  0.0089,\n",
       "  0.0077,\n",
       "  0.006,\n",
       "  0.007,\n",
       "  0.0093,\n",
       "  0.0094,\n",
       "  0.0064,\n",
       "  0.0055,\n",
       "  0.0076,\n",
       "  0.0059,\n",
       "  0.0059,\n",
       "  0.0043,\n",
       "  0.0071,\n",
       "  0.0049,\n",
       "  0.0054,\n",
       "  0.0051,\n",
       "  0.0066,\n",
       "  0.0071,\n",
       "  0.0047,\n",
       "  0.0077,\n",
       "  0.0043,\n",
       "  0.005,\n",
       "  0.0067,\n",
       "  0.0069,\n",
       "  0.0057,\n",
       "  0.006,\n",
       "  0.0036,\n",
       "  0.0061,\n",
       "  0.0047,\n",
       "  0.0054,\n",
       "  0.0054,\n",
       "  0.0053,\n",
       "  0.0052,\n",
       "  0.0063,\n",
       "  0.004,\n",
       "  0.0044,\n",
       "  0.0061,\n",
       "  0.003,\n",
       "  0.0046,\n",
       "  0.0045,\n",
       "  0.0044,\n",
       "  0.0054,\n",
       "  0.0037,\n",
       "  0.0028,\n",
       "  0.0039,\n",
       "  0.0025,\n",
       "  0.0062,\n",
       "  0.003,\n",
       "  0.0019,\n",
       "  0.0028,\n",
       "  0.0068,\n",
       "  0.0073,\n",
       "  0.0064,\n",
       "  0.0038,\n",
       "  0.006,\n",
       "  0.0044,\n",
       "  0.0045,\n",
       "  0.006,\n",
       "  0.0024,\n",
       "  0.0064,\n",
       "  0.0044,\n",
       "  0.0037,\n",
       "  0.004,\n",
       "  0.0033,\n",
       "  0.0046,\n",
       "  0.0034,\n",
       "  0.0024,\n",
       "  0.0048,\n",
       "  0.0049,\n",
       "  0.0053,\n",
       "  0.1802,\n",
       "  0.1517,\n",
       "  0.1528,\n",
       "  0.1361,\n",
       "  0.143,\n",
       "  0.147,\n",
       "  0.12,\n",
       "  0.1061,\n",
       "  0.1021,\n",
       "  0.0969,\n",
       "  0.0712,\n",
       "  0.0825,\n",
       "  0.0709,\n",
       "  0.0767,\n",
       "  0.0613,\n",
       "  0.0632,\n",
       "  0.0252,\n",
       "  0.0518,\n",
       "  0.0477,\n",
       "  0.0635,\n",
       "  0.0456,\n",
       "  0.0231,\n",
       "  0.0409,\n",
       "  0.039,\n",
       "  0.0241,\n",
       "  0.0185,\n",
       "  0.0152,\n",
       "  0.012,\n",
       "  0.0393,\n",
       "  0.0125,\n",
       "  0.0135,\n",
       "  0.0216,\n",
       "  0.0268,\n",
       "  0.0155,\n",
       "  0.0105,\n",
       "  0.0086,\n",
       "  0.015,\n",
       "  0.014,\n",
       "  0.0083,\n",
       "  0.008,\n",
       "  0.0094,\n",
       "  0.0132,\n",
       "  0.0188,\n",
       "  0.0136,\n",
       "  0.0138,\n",
       "  0.0062,\n",
       "  0.005,\n",
       "  0.0083,\n",
       "  0.0046,\n",
       "  0.0094,\n",
       "  0.0091,\n",
       "  0.0061,\n",
       "  0.0068,\n",
       "  0.0046,\n",
       "  0.0059,\n",
       "  0.0051,\n",
       "  0.004,\n",
       "  0.0041,\n",
       "  0.0044,\n",
       "  0.0042,\n",
       "  0.0061,\n",
       "  0.0042,\n",
       "  0.0065,\n",
       "  0.005,\n",
       "  0.0022,\n",
       "  0.0047,\n",
       "  0.0031,\n",
       "  0.0035,\n",
       "  0.0027,\n",
       "  0.0028,\n",
       "  0.0032,\n",
       "  0.0022,\n",
       "  0.0015,\n",
       "  0.0025,\n",
       "  0.0014,\n",
       "  0.0024,\n",
       "  0.0016,\n",
       "  0.002,\n",
       "  0.0013,\n",
       "  0.0008,\n",
       "  0.0016,\n",
       "  0.0024,\n",
       "  0.0028,\n",
       "  0.0019,\n",
       "  0.0026,\n",
       "  0.0012,\n",
       "  0.0008,\n",
       "  0.0011,\n",
       "  0.001,\n",
       "  0.0009,\n",
       "  0.0008,\n",
       "  0.002,\n",
       "  0.0016,\n",
       "  0.001,\n",
       "  0.0008,\n",
       "  0.001,\n",
       "  0.0018,\n",
       "  0.0008,\n",
       "  0.0006,\n",
       "  0.001],\n",
       " [0.1293, 0.0053, 0.001])"
      ]
     },
     "execution_count": 7,
     "metadata": {},
     "output_type": "execute_result"
    }
   ],
   "source": [
    "data_alpha = data_alpha_1\n",
    "n_chars = data_alpha.shape[0] / 39\n",
    "\n",
    "# Parameters\n",
    "n_visible = data_alpha.shape[1]  # Number of visible units (size of each image)\n",
    "n_hidden = 200  # Number of hidden units (hyperparameter)\n",
    "hidden_layer_sizes = [200, 200, 200]\n",
    "\n",
    "learning_rate = 0.1\n",
    "n_epochs = 100\n",
    "batch_size = int(8 * n_chars)\n",
    "\n",
    "dbn = DBN(n_visible=n_visible, hidden_layer_sizes=hidden_layer_sizes, random_state=SEED)\n",
    "dbn.train(data_alpha, learning_rate=learning_rate, n_epochs=n_epochs, batch_size=batch_size)"
   ]
  },
  {
   "cell_type": "code",
   "execution_count": 8,
   "metadata": {},
   "outputs": [
    {
     "data": {
      "image/png": "[encoded data removed]",
      "text/plain": [
       "<Figure size 2000x200 with 10 Axes>"
      ]
     },
     "metadata": {},
     "output_type": "display_data"
    }
   ],
   "source": [
    "# # Generate images\n",
    "generated_images = dbn.generate_image(n_samples=10, n_gibbs_steps=1)\n",
    "\n",
    "# Display generated images\n",
    "plot_generated_images(generated_images, **{\"cmap\":None})"
   ]
  },
  {
   "cell_type": "markdown",
   "metadata": {},
   "source": [
    "### MNIST"
   ]
  },
  {
   "cell_type": "code",
   "execution_count": 9,
   "metadata": {},
   "outputs": [],
   "source": [
    "import scipy.io"
   ]
  },
  {
   "cell_type": "code",
   "execution_count": 10,
   "metadata": {},
   "outputs": [
    {
     "data": {
      "text/plain": [
       "[(60000, 784), (60000, 10), (10000, 784), (10000, 10)]"
      ]
     },
     "execution_count": 10,
     "metadata": {},
     "output_type": "execute_result"
    }
   ],
   "source": [
    "def load_mnist(mnist_path, mnist_dict=None, use_dict=False):\n",
    "    if not use_dict:\n",
    "        mnist_dict = scipy.io.loadmat(mnist_path)\n",
    "    \n",
    "    X_train = np.concatenate([mnist_dict[f\"train{i}\"] for i in range(10)], axis=0)\n",
    "    X_test = np.concatenate([mnist_dict[f\"test{i}\"] for i in range(10)], axis=0)\n",
    "    \n",
    "    y_train = np.concatenate([np.eye(10)[[i]*mnist_dict[f\"train{i}\"].shape[0]] for i in range(10)], axis=0)\n",
    "    y_test = np.concatenate([np.eye(10)[[i]*mnist_dict[f\"test{i}\"].shape[0]] for i in range(10)], axis=0)\n",
    "\n",
    "    return X_train, y_train, X_test, y_test\n",
    "\n",
    "\n",
    "def sample_indices(data_size: int, sample_size: int, random_state=None) -> np.ndarray:\n",
    "    \"\"\"\n",
    "    Randomly sample indices from the range [0, data_size) without replacement.\n",
    "\n",
    "    Parameters:\n",
    "        data_size (int): Total number of indices available.\n",
    "        sample_size (int): Number of indices to sample.\n",
    "        random_state: Random seed for reproducibility.\n",
    "\n",
    "    Returns:\n",
    "        numpy.ndarray: Array of sampled indices.\n",
    "    \"\"\"\n",
    "    rng = np.random.default_rng(random_state)\n",
    "    if sample_size >= data_size:\n",
    "        return np.arange(data_size)\n",
    "\n",
    "    sampled_indices = rng.choice(data_size, size=sample_size, replace=False)\n",
    "    return sampled_indices\n",
    "\n",
    "def sample_mnist(X_train: np.ndarray, y_train: np.ndarray, sample_size: int, random_state=None) -> tuple:\n",
    "    \"\"\"\n",
    "    Randomly sample a subset of samples from the MNIST dataset.\n",
    "\n",
    "    Parameters:\n",
    "        X_train (numpy.ndarray): Training data.\n",
    "        y_train (numpy.ndarray): Training labels.\n",
    "        sample_size (int): Number of samples to sample.\n",
    "        random_state: Random seed for reproducibility.\n",
    "\n",
    "    Returns:\n",
    "        tuple: Sampled subset of training data and labels.\n",
    "    \"\"\"\n",
    "    # Sample indices\n",
    "    indices = sample_indices(len(X_train), sample_size, random_state=random_state)\n",
    "    \n",
    "    # Sample data and labels\n",
    "    sampled_X_train = X_train[indices]\n",
    "    sampled_y_train = y_train[indices]\n",
    "    \n",
    "    return sampled_X_train, sampled_y_train\n",
    "\n",
    "\n",
    "def binarize_images(images):\n",
    "    threshold = 127\n",
    "    binary_images = np.where(images > threshold, 1, 0)\n",
    "    return binary_images\n",
    "\n",
    "mnist_train, mnist_train_labels, mnist_test, mnist_test_labels = (\n",
    "    load_mnist(MNIST_PATH)\n",
    ")\n",
    "\n",
    "\n",
    "# Binarize the images\n",
    "binary_mnist_train = binarize_images(mnist_train)\n",
    "binary_mnist_test = binarize_images(mnist_test)\n",
    "\n",
    "\n",
    "[mnist.shape for mnist in (mnist_train, mnist_train_labels, mnist_test, mnist_test_labels)]"
   ]
  },
  {
   "cell_type": "code",
   "execution_count": 11,
   "metadata": {},
   "outputs": [
    {
     "data": {
      "text/plain": [
       "((30000, 784), (30000, 10))"
      ]
     },
     "execution_count": 11,
     "metadata": {},
     "output_type": "execute_result"
    }
   ],
   "source": [
    "mnist_train_30000, mnist_train_labels_30000 = sample_mnist(mnist_train, mnist_train_labels, 30_000, 42)\n",
    "mnist_train_30000.shape, mnist_train_labels_30000.shape"
   ]
  },
  {
   "cell_type": "code",
   "execution_count": 12,
   "metadata": {},
   "outputs": [
    {
     "name": "stdout",
     "output_type": "stream",
     "text": [
      "255 1\n"
     ]
    }
   ],
   "source": [
    "print(mnist_train.max(), binary_mnist_train.max())"
   ]
  },
  {
   "cell_type": "code",
   "execution_count": 13,
   "metadata": {},
   "outputs": [
    {
     "name": "stdout",
     "output_type": "stream",
     "text": [
      "MNIST (60000, 28, 28)\n"
     ]
    },
    {
     "data": {
      "image/png": "[encoded data removed]",
      "text/plain": [
       "<Figure size 1500x300 with 5 Axes>"
      ]
     },
     "metadata": {},
     "output_type": "display_data"
    }
   ],
   "source": [
    "# Reshape mnist_train to its original shape\n",
    "image_height = 28\n",
    "image_width = 28\n",
    "num_samples = binary_mnist_train.shape[0]\n",
    "binary_mnist_train_images = binary_mnist_train.reshape(num_samples, image_height, image_width)\n",
    "print(\"MNIST\", binary_mnist_train_images.shape)\n",
    "\n",
    "# Plot some images from mnist_train\n",
    "num_images_to_plot = 5\n",
    "fig, axes = plt.subplots(1, num_images_to_plot, figsize=(15, 3))\n",
    "for i in range(num_images_to_plot):\n",
    "    axes[i].imshow(binary_mnist_train_images[i], cmap='gray')\n",
    "    axes[i].set_title(f\"Image {i+1}\")\n",
    "    axes[i].axis('off')\n",
    "\n",
    "plt.tight_layout()\n",
    "plt.show()"
   ]
  },
  {
   "cell_type": "code",
   "execution_count": 14,
   "metadata": {},
   "outputs": [
    {
     "name": "stdout",
     "output_type": "stream",
     "text": [
      "Help on class DNN in module models.dnn:\n",
      "\n",
      "class DNN(models.dbn.DBN)\n",
      " |  DNN(input_dim: int, output_dim: int, hidden_layer_sizes: List[int], random_state=None)\n",
      " |  \n",
      " |  Method resolution order:\n",
      " |      DNN\n",
      " |      models.dbn.DBN\n",
      " |      builtins.object\n",
      " |  \n",
      " |  Methods defined here:\n",
      " |  \n",
      " |  __getitem__(self, key)\n",
      " |  \n",
      " |  __init__(self, input_dim: int, output_dim: int, hidden_layer_sizes: List[int], random_state=None)\n",
      " |      Initialize the Deep Neural Network (DNN).\n",
      " |      \n",
      " |      Parameters:\n",
      " |      - input_dim (int): Dimension of the input.\n",
      " |      - output_dim (int): Dimension of the output.\n",
      " |      - hidden_layer_sizes (List[int]): List of sizes for each hidden layer.\n",
      " |      - random_state: Random seed for reproducibility.\n",
      " |  \n",
      " |  __len__(self)\n",
      " |  \n",
      " |  __repr__(self)\n",
      " |      Return a string representation of the DBN object.\n",
      " |  \n",
      " |  backpropagation(self, input_data: numpy.ndarray, labels: numpy.ndarray, n_epochs: int = 100, learning_rate: float = 0.1, batch_size: int = 10, eps: float = 1e-15) -> 'DNN'\n",
      " |      Estimate the weights/biases of the network using backpropagation algorithm.\n",
      " |      \n",
      " |      Parameters:\n",
      " |      - input_data (numpy.ndarray): Input data, shape (n_samples, n_visible).\n",
      " |      - labels (numpy.ndarray): Labels for the input data, shape\n",
      " |          (n_samples, n_classes).\n",
      " |      - n_epochs (int): Number of training epochs.\n",
      " |      - learning_rate (float): Learning rate for gradient descent.\n",
      " |      - batch_size (int): Size of mini-batches.\n",
      " |      - eps (float): Small value to avoid numerical instability in logarithm\n",
      " |          calculation. Default is 1e-15.\n",
      " |      \n",
      " |      Returns:\n",
      " |      - DNN: Updated DNN instance.\n",
      " |  \n",
      " |  input_output_network(self, input_data: numpy.ndarray) -> List[numpy.ndarray]\n",
      " |      Get the outputs on each layer of the DNN and the softmax probabilities on the output layer.\n",
      " |      \n",
      " |      Parameters:\n",
      " |      - input_data (numpy.ndarray): Input data, shape (n_samples, n_visible).\n",
      " |      \n",
      " |      Returns:\n",
      " |      - List[np.ndarray]: Input data, outputs on each layer and softmax probabilities.\n",
      " |  \n",
      " |  pretrain(self, n_epochs: int, learning_rate: float, batch_size: int, data: numpy.ndarray, print_each=20, verbose=False) -> 'DNN'\n",
      " |      Pretrain the hidden layers of the DNN using the DBN training method.\n",
      " |      \n",
      " |      Parameters:\n",
      " |      - n_epochs (int): Number of training epochs.\n",
      " |      - learning_rate (float): Learning rate for gradient descent.\n",
      " |      - batch_size (int): Size of mini-batches.\n",
      " |      - data (numpy.ndarray): Input data, shape (n_samples, n_visible).\n",
      " |      \n",
      " |      Returns:\n",
      " |      - DNN: Pretrained DNN instance.\n",
      " |  \n",
      " |  test(self, test_data: numpy.ndarray, true_labels: numpy.ndarray) -> float\n",
      " |      Test the performance of the trained DNN on a test dataset.\n",
      " |      \n",
      " |      Parameters:\n",
      " |      - test_data (numpy.ndarray): Test data, shape (n_samples, n_visible).\n",
      " |      - true_labels (numpy.ndarray): True labels for the test data,\n",
      " |          shape (n_samples, n_classes).\n",
      " |      \n",
      " |      Returns:\n",
      " |      - float: Classification error rate.\n",
      " |  \n",
      " |  update(self, dZ_lead: numpy.ndarray, dW_lead: numpy.ndarray, layer_outputs: List[numpy.ndarray], id_layer: int, batch_size: int, learning_rate: float) -> Tuple[numpy.ndarray, numpy.ndarray]\n",
      " |      Update the weights and biases of a layer.\n",
      " |      \n",
      " |      Parameters:\n",
      " |      - dZ_lead (numpy.ndarray): Gradient with respect to the layer's output.\n",
      " |      - dW_lead (numpy.ndarray): Gradient with respect to the layer's weights.\n",
      " |      - layer_outputs (List[np.ndarray]): Outputs of each layer.\n",
      " |      - id_layer (int): Index of the layer.\n",
      " |      - batch_size (int): Size of mini-batches.\n",
      " |      - learning_rate (float): Learning rate.\n",
      " |      \n",
      " |      Returns:\n",
      " |      - Tuple[np.ndarray, np.ndarray]: Updated gradient with respect to the\n",
      " |          layer's output and weights.\n",
      " |  \n",
      " |  ----------------------------------------------------------------------\n",
      " |  Methods inherited from models.dbn.DBN:\n",
      " |  \n",
      " |  generate_image(self, n_samples: int = 1, n_gibbs_steps: int = 100) -> numpy.ndarray\n",
      " |      Generate samples from the DBN using Gibbs sampling.\n",
      " |      \n",
      " |      Parameters:\n",
      " |      - n_samples (int): Number of samples to generate. Default is 1.\n",
      " |      - n_gibbs_steps (int): Number of Gibbs sampling steps. Default is 100.\n",
      " |      \n",
      " |      Returns:\n",
      " |      - numpy.ndarray: Generated samples, shape (n_samples, n_visible).\n",
      " |  \n",
      " |  train(self, data: numpy.ndarray, learning_rate: float = 0.1, n_epochs: int = 10, batch_size: int = 10, print_each: int = 10, verbose=False, **kwargs) -> 'DBN'\n",
      " |      Train the DBN using Greedy layer-wise procedure.\n",
      " |      \n",
      " |      Parameters:\n",
      " |      - data (numpy.ndarray): Input data, shape (n_samples, n_visible).\n",
      " |      - learning_rate (float): Learning rate for gradient descent. Default is 0.1.\n",
      " |      - n_epochs (int): Number of training epochs. Default is 10.\n",
      " |      - batch_size (int): Size of mini-batches. Default is 10.\n",
      " |      - print_each: Print reconstruction error each `print_each` epochs.\n",
      " |      - verbose (bool): Whether to print training progress. Default is False.\n",
      " |      - **kwargs: Additional arguments to be passed to RBM.train().\n",
      " |      \n",
      " |      Returns:\n",
      " |      - DBN: Trained DBN instance.\n",
      " |  \n",
      " |  ----------------------------------------------------------------------\n",
      " |  Data descriptors inherited from models.dbn.DBN:\n",
      " |  \n",
      " |  __dict__\n",
      " |      dictionary for instance variables (if defined)\n",
      " |  \n",
      " |  __weakref__\n",
      " |      list of weak references to the object (if defined)\n",
      "\n"
     ]
    }
   ],
   "source": [
    "help(DNN)"
   ]
  },
  {
   "cell_type": "markdown",
   "metadata": {},
   "source": [
    "# 0.Verify that DNN work well"
   ]
  },
  {
   "cell_type": "code",
   "execution_count": 15,
   "metadata": {},
   "outputs": [
    {
     "name": "stderr",
     "output_type": "stream",
     "text": [
      "Training:   1%|          | 1/100 [00:04<06:43,  4.08s/epoch]"
     ]
    },
    {
     "name": "stdout",
     "output_type": "stream",
     "text": [
      "Epoch 1/100, Cross Entropy: 1.8801176847831995\n"
     ]
    },
    {
     "name": "stderr",
     "output_type": "stream",
     "text": [
      "Training:   2%|▏         | 2/100 [00:08<06:35,  4.03s/epoch]"
     ]
    },
    {
     "name": "stdout",
     "output_type": "stream",
     "text": [
      "Epoch 2/100, Cross Entropy: 1.3738578301393412\n"
     ]
    },
    {
     "name": "stderr",
     "output_type": "stream",
     "text": [
      "Training:   3%|▎         | 3/100 [00:11<06:20,  3.93s/epoch]"
     ]
    },
    {
     "name": "stdout",
     "output_type": "stream",
     "text": [
      "Epoch 3/100, Cross Entropy: 1.2445853939108107\n"
     ]
    },
    {
     "name": "stderr",
     "output_type": "stream",
     "text": [
      "Training:   4%|▍         | 4/100 [00:16<06:26,  4.03s/epoch]"
     ]
    },
    {
     "name": "stdout",
     "output_type": "stream",
     "text": [
      "Epoch 4/100, Cross Entropy: 1.1968095759522615\n"
     ]
    },
    {
     "name": "stderr",
     "output_type": "stream",
     "text": [
      "Training:   5%|▌         | 5/100 [00:19<06:13,  3.94s/epoch]"
     ]
    },
    {
     "name": "stdout",
     "output_type": "stream",
     "text": [
      "Epoch 5/100, Cross Entropy: 1.1737903659902986\n"
     ]
    },
    {
     "name": "stderr",
     "output_type": "stream",
     "text": [
      "Training:   6%|▌         | 6/100 [00:23<06:16,  4.00s/epoch]"
     ]
    },
    {
     "name": "stdout",
     "output_type": "stream",
     "text": [
      "Epoch 6/100, Cross Entropy: 1.163332031301917\n"
     ]
    },
    {
     "name": "stderr",
     "output_type": "stream",
     "text": [
      "Training:   7%|▋         | 7/100 [00:27<06:04,  3.92s/epoch]"
     ]
    },
    {
     "name": "stdout",
     "output_type": "stream",
     "text": [
      "Epoch 7/100, Cross Entropy: 1.1495484192888554\n"
     ]
    },
    {
     "name": "stderr",
     "output_type": "stream",
     "text": [
      "Training:   8%|▊         | 8/100 [00:30<05:41,  3.71s/epoch]"
     ]
    },
    {
     "name": "stdout",
     "output_type": "stream",
     "text": [
      "Epoch 8/100, Cross Entropy: 1.1416592395775602\n"
     ]
    },
    {
     "name": "stderr",
     "output_type": "stream",
     "text": [
      "Training:   9%|▉         | 9/100 [00:34<05:30,  3.63s/epoch]"
     ]
    },
    {
     "name": "stdout",
     "output_type": "stream",
     "text": [
      "Epoch 9/100, Cross Entropy: 1.1442286821416654\n"
     ]
    },
    {
     "name": "stderr",
     "output_type": "stream",
     "text": [
      "Training:  10%|█         | 10/100 [00:38<05:37,  3.75s/epoch]"
     ]
    },
    {
     "name": "stdout",
     "output_type": "stream",
     "text": [
      "Epoch 10/100, Cross Entropy: 1.126230294364031\n"
     ]
    },
    {
     "name": "stderr",
     "output_type": "stream",
     "text": [
      "Training:  11%|█         | 11/100 [00:42<05:36,  3.78s/epoch]"
     ]
    },
    {
     "name": "stdout",
     "output_type": "stream",
     "text": [
      "Epoch 11/100, Cross Entropy: 1.1419021970936944\n"
     ]
    },
    {
     "name": "stderr",
     "output_type": "stream",
     "text": [
      "Training:  12%|█▏        | 12/100 [00:46<05:38,  3.85s/epoch]"
     ]
    },
    {
     "name": "stdout",
     "output_type": "stream",
     "text": [
      "Epoch 12/100, Cross Entropy: 1.13627647233082\n"
     ]
    },
    {
     "name": "stderr",
     "output_type": "stream",
     "text": [
      "Training:  13%|█▎        | 13/100 [00:50<05:44,  3.96s/epoch]"
     ]
    },
    {
     "name": "stdout",
     "output_type": "stream",
     "text": [
      "Epoch 13/100, Cross Entropy: 1.133585783303416\n"
     ]
    },
    {
     "name": "stderr",
     "output_type": "stream",
     "text": [
      "Training:  14%|█▍        | 14/100 [00:54<05:47,  4.04s/epoch]"
     ]
    },
    {
     "name": "stdout",
     "output_type": "stream",
     "text": [
      "Epoch 14/100, Cross Entropy: 1.1297739088148484\n"
     ]
    },
    {
     "name": "stderr",
     "output_type": "stream",
     "text": [
      "Training:  15%|█▌        | 15/100 [00:58<05:36,  3.96s/epoch]"
     ]
    },
    {
     "name": "stdout",
     "output_type": "stream",
     "text": [
      "Epoch 15/100, Cross Entropy: 1.1296877854081169\n"
     ]
    },
    {
     "name": "stderr",
     "output_type": "stream",
     "text": [
      "Training:  16%|█▌        | 16/100 [01:01<05:15,  3.76s/epoch]"
     ]
    },
    {
     "name": "stdout",
     "output_type": "stream",
     "text": [
      "Epoch 16/100, Cross Entropy: 1.1343510644633403\n"
     ]
    },
    {
     "name": "stderr",
     "output_type": "stream",
     "text": [
      "Training:  17%|█▋        | 17/100 [01:05<05:11,  3.75s/epoch]"
     ]
    },
    {
     "name": "stdout",
     "output_type": "stream",
     "text": [
      "Epoch 17/100, Cross Entropy: 1.1318655577297536\n"
     ]
    },
    {
     "name": "stderr",
     "output_type": "stream",
     "text": [
      "Training:  18%|█▊        | 18/100 [01:09<05:00,  3.67s/epoch]"
     ]
    },
    {
     "name": "stdout",
     "output_type": "stream",
     "text": [
      "Epoch 18/100, Cross Entropy: 1.1371842260573966\n"
     ]
    },
    {
     "name": "stderr",
     "output_type": "stream",
     "text": [
      "Training:  19%|█▉        | 19/100 [01:12<04:46,  3.54s/epoch]"
     ]
    },
    {
     "name": "stdout",
     "output_type": "stream",
     "text": [
      "Epoch 19/100, Cross Entropy: 1.1374307819537386\n"
     ]
    },
    {
     "name": "stderr",
     "output_type": "stream",
     "text": [
      "Training:  20%|██        | 20/100 [01:15<04:39,  3.49s/epoch]"
     ]
    },
    {
     "name": "stdout",
     "output_type": "stream",
     "text": [
      "Epoch 20/100, Cross Entropy: 1.1381971091326284\n"
     ]
    },
    {
     "name": "stderr",
     "output_type": "stream",
     "text": [
      "Training:  21%|██        | 21/100 [01:19<04:33,  3.46s/epoch]"
     ]
    },
    {
     "name": "stdout",
     "output_type": "stream",
     "text": [
      "Epoch 21/100, Cross Entropy: 1.1386446380594508\n"
     ]
    },
    {
     "name": "stderr",
     "output_type": "stream",
     "text": [
      "Training:  22%|██▏       | 22/100 [01:22<04:25,  3.41s/epoch]"
     ]
    },
    {
     "name": "stdout",
     "output_type": "stream",
     "text": [
      "Epoch 22/100, Cross Entropy: 1.1331187352400633\n"
     ]
    },
    {
     "name": "stderr",
     "output_type": "stream",
     "text": [
      "Training:  23%|██▎       | 23/100 [01:25<04:18,  3.35s/epoch]"
     ]
    },
    {
     "name": "stdout",
     "output_type": "stream",
     "text": [
      "Epoch 23/100, Cross Entropy: 1.1449536021588598\n"
     ]
    },
    {
     "name": "stderr",
     "output_type": "stream",
     "text": [
      "Training:  24%|██▍       | 24/100 [01:28<04:13,  3.33s/epoch]"
     ]
    },
    {
     "name": "stdout",
     "output_type": "stream",
     "text": [
      "Epoch 24/100, Cross Entropy: 1.1405061058906756\n"
     ]
    },
    {
     "name": "stderr",
     "output_type": "stream",
     "text": [
      "Training:  25%|██▌       | 25/100 [01:31<04:06,  3.29s/epoch]"
     ]
    },
    {
     "name": "stdout",
     "output_type": "stream",
     "text": [
      "Epoch 25/100, Cross Entropy: 1.1341592430613427\n"
     ]
    },
    {
     "name": "stderr",
     "output_type": "stream",
     "text": [
      "Training:  26%|██▌       | 26/100 [01:35<04:00,  3.25s/epoch]"
     ]
    },
    {
     "name": "stdout",
     "output_type": "stream",
     "text": [
      "Epoch 26/100, Cross Entropy: 1.133915929600394\n"
     ]
    },
    {
     "name": "stderr",
     "output_type": "stream",
     "text": [
      "Training:  27%|██▋       | 27/100 [01:38<03:52,  3.19s/epoch]"
     ]
    },
    {
     "name": "stdout",
     "output_type": "stream",
     "text": [
      "Epoch 27/100, Cross Entropy: 1.1336933681735013\n"
     ]
    },
    {
     "name": "stderr",
     "output_type": "stream",
     "text": [
      "Training:  28%|██▊       | 28/100 [01:41<03:45,  3.13s/epoch]"
     ]
    },
    {
     "name": "stdout",
     "output_type": "stream",
     "text": [
      "Epoch 28/100, Cross Entropy: 1.129855135930918\n"
     ]
    },
    {
     "name": "stderr",
     "output_type": "stream",
     "text": [
      "Training:  29%|██▉       | 29/100 [01:44<03:43,  3.15s/epoch]"
     ]
    },
    {
     "name": "stdout",
     "output_type": "stream",
     "text": [
      "Epoch 29/100, Cross Entropy: 1.1350859025842606\n"
     ]
    },
    {
     "name": "stderr",
     "output_type": "stream",
     "text": [
      "Training:  30%|███       | 30/100 [01:47<03:42,  3.18s/epoch]"
     ]
    },
    {
     "name": "stdout",
     "output_type": "stream",
     "text": [
      "Epoch 30/100, Cross Entropy: 1.1338423272459854\n"
     ]
    },
    {
     "name": "stderr",
     "output_type": "stream",
     "text": [
      "Training:  31%|███       | 31/100 [01:51<03:45,  3.27s/epoch]"
     ]
    },
    {
     "name": "stdout",
     "output_type": "stream",
     "text": [
      "Epoch 31/100, Cross Entropy: 1.1369841816543633\n"
     ]
    },
    {
     "name": "stderr",
     "output_type": "stream",
     "text": [
      "Training:  32%|███▏      | 32/100 [01:54<03:38,  3.22s/epoch]"
     ]
    },
    {
     "name": "stdout",
     "output_type": "stream",
     "text": [
      "Epoch 32/100, Cross Entropy: 1.133190787994968\n"
     ]
    },
    {
     "name": "stderr",
     "output_type": "stream",
     "text": [
      "Training:  33%|███▎      | 33/100 [01:57<03:40,  3.29s/epoch]"
     ]
    },
    {
     "name": "stdout",
     "output_type": "stream",
     "text": [
      "Epoch 33/100, Cross Entropy: 1.1358275507613036\n"
     ]
    },
    {
     "name": "stderr",
     "output_type": "stream",
     "text": [
      "Training:  34%|███▍      | 34/100 [02:00<03:36,  3.28s/epoch]"
     ]
    },
    {
     "name": "stdout",
     "output_type": "stream",
     "text": [
      "Epoch 34/100, Cross Entropy: 1.1334566028634567\n"
     ]
    },
    {
     "name": "stderr",
     "output_type": "stream",
     "text": [
      "Training:  35%|███▌      | 35/100 [02:04<03:37,  3.35s/epoch]"
     ]
    },
    {
     "name": "stdout",
     "output_type": "stream",
     "text": [
      "Epoch 35/100, Cross Entropy: 1.1353948180366413\n"
     ]
    },
    {
     "name": "stderr",
     "output_type": "stream",
     "text": [
      "Training:  36%|███▌      | 36/100 [02:07<03:33,  3.33s/epoch]"
     ]
    },
    {
     "name": "stdout",
     "output_type": "stream",
     "text": [
      "Epoch 36/100, Cross Entropy: 1.136642715960676\n"
     ]
    },
    {
     "name": "stderr",
     "output_type": "stream",
     "text": [
      "Training:  37%|███▋      | 37/100 [02:10<03:27,  3.29s/epoch]"
     ]
    },
    {
     "name": "stdout",
     "output_type": "stream",
     "text": [
      "Epoch 37/100, Cross Entropy: 1.1294191100239244\n"
     ]
    },
    {
     "name": "stderr",
     "output_type": "stream",
     "text": [
      "Training:  38%|███▊      | 38/100 [02:13<03:19,  3.22s/epoch]"
     ]
    },
    {
     "name": "stdout",
     "output_type": "stream",
     "text": [
      "Epoch 38/100, Cross Entropy: 1.1321053354470116\n"
     ]
    },
    {
     "name": "stderr",
     "output_type": "stream",
     "text": [
      "Training:  39%|███▉      | 39/100 [02:17<03:13,  3.18s/epoch]"
     ]
    },
    {
     "name": "stdout",
     "output_type": "stream",
     "text": [
      "Epoch 39/100, Cross Entropy: 1.1317211282542772\n"
     ]
    },
    {
     "name": "stderr",
     "output_type": "stream",
     "text": [
      "Training:  40%|████      | 40/100 [02:20<03:08,  3.14s/epoch]"
     ]
    },
    {
     "name": "stdout",
     "output_type": "stream",
     "text": [
      "Epoch 40/100, Cross Entropy: 1.1381604049949876\n"
     ]
    },
    {
     "name": "stderr",
     "output_type": "stream",
     "text": [
      "Training:  41%|████      | 41/100 [02:23<03:04,  3.13s/epoch]"
     ]
    },
    {
     "name": "stdout",
     "output_type": "stream",
     "text": [
      "Epoch 41/100, Cross Entropy: 1.1383711688570128\n"
     ]
    },
    {
     "name": "stderr",
     "output_type": "stream",
     "text": [
      "Training:  42%|████▏     | 42/100 [02:26<02:55,  3.02s/epoch]"
     ]
    },
    {
     "name": "stdout",
     "output_type": "stream",
     "text": [
      "Epoch 42/100, Cross Entropy: 1.1344704208396703\n"
     ]
    },
    {
     "name": "stderr",
     "output_type": "stream",
     "text": [
      "Training:  43%|████▎     | 43/100 [02:28<02:50,  3.00s/epoch]"
     ]
    },
    {
     "name": "stdout",
     "output_type": "stream",
     "text": [
      "Epoch 43/100, Cross Entropy: 1.1363711089009758\n"
     ]
    },
    {
     "name": "stderr",
     "output_type": "stream",
     "text": [
      "Training:  44%|████▍     | 44/100 [02:32<02:50,  3.05s/epoch]"
     ]
    },
    {
     "name": "stdout",
     "output_type": "stream",
     "text": [
      "Epoch 44/100, Cross Entropy: 1.1389682082507184\n"
     ]
    },
    {
     "name": "stderr",
     "output_type": "stream",
     "text": [
      "Training:  45%|████▌     | 45/100 [02:35<02:50,  3.11s/epoch]"
     ]
    },
    {
     "name": "stdout",
     "output_type": "stream",
     "text": [
      "Epoch 45/100, Cross Entropy: 1.1341327841461262\n"
     ]
    },
    {
     "name": "stderr",
     "output_type": "stream",
     "text": [
      "Training:  46%|████▌     | 46/100 [02:38<02:46,  3.08s/epoch]"
     ]
    },
    {
     "name": "stdout",
     "output_type": "stream",
     "text": [
      "Epoch 46/100, Cross Entropy: 1.1378993980550103\n"
     ]
    },
    {
     "name": "stderr",
     "output_type": "stream",
     "text": [
      "Training:  47%|████▋     | 47/100 [02:41<02:48,  3.19s/epoch]"
     ]
    },
    {
     "name": "stdout",
     "output_type": "stream",
     "text": [
      "Epoch 47/100, Cross Entropy: 1.1392799354716372\n"
     ]
    },
    {
     "name": "stderr",
     "output_type": "stream",
     "text": [
      "Training:  48%|████▊     | 48/100 [02:45<02:55,  3.37s/epoch]"
     ]
    },
    {
     "name": "stdout",
     "output_type": "stream",
     "text": [
      "Epoch 48/100, Cross Entropy: 1.130932487285503\n"
     ]
    },
    {
     "name": "stderr",
     "output_type": "stream",
     "text": [
      "Training:  49%|████▉     | 49/100 [02:49<02:58,  3.50s/epoch]"
     ]
    },
    {
     "name": "stdout",
     "output_type": "stream",
     "text": [
      "Epoch 49/100, Cross Entropy: 1.135030940629755\n"
     ]
    },
    {
     "name": "stderr",
     "output_type": "stream",
     "text": [
      "Training:  50%|█████     | 50/100 [02:52<02:52,  3.45s/epoch]"
     ]
    },
    {
     "name": "stdout",
     "output_type": "stream",
     "text": [
      "Epoch 50/100, Cross Entropy: 1.134460706844424\n"
     ]
    },
    {
     "name": "stderr",
     "output_type": "stream",
     "text": [
      "Training:  51%|█████     | 51/100 [02:56<02:49,  3.47s/epoch]"
     ]
    },
    {
     "name": "stdout",
     "output_type": "stream",
     "text": [
      "Epoch 51/100, Cross Entropy: 1.138790384786377\n"
     ]
    },
    {
     "name": "stderr",
     "output_type": "stream",
     "text": [
      "Training:  52%|█████▏    | 52/100 [02:59<02:46,  3.47s/epoch]"
     ]
    },
    {
     "name": "stdout",
     "output_type": "stream",
     "text": [
      "Epoch 52/100, Cross Entropy: 1.1289587718805048\n"
     ]
    },
    {
     "name": "stderr",
     "output_type": "stream",
     "text": [
      "Training:  53%|█████▎    | 53/100 [03:02<02:39,  3.39s/epoch]"
     ]
    },
    {
     "name": "stdout",
     "output_type": "stream",
     "text": [
      "Epoch 53/100, Cross Entropy: 1.1313112157228542\n"
     ]
    },
    {
     "name": "stderr",
     "output_type": "stream",
     "text": [
      "Training:  54%|█████▍    | 54/100 [03:06<02:35,  3.38s/epoch]"
     ]
    },
    {
     "name": "stdout",
     "output_type": "stream",
     "text": [
      "Epoch 54/100, Cross Entropy: 1.1359013218356735\n"
     ]
    },
    {
     "name": "stderr",
     "output_type": "stream",
     "text": [
      "Training:  55%|█████▌    | 55/100 [03:10<02:36,  3.49s/epoch]"
     ]
    },
    {
     "name": "stdout",
     "output_type": "stream",
     "text": [
      "Epoch 55/100, Cross Entropy: 1.1361320618772448\n"
     ]
    },
    {
     "name": "stderr",
     "output_type": "stream",
     "text": [
      "Training:  56%|█████▌    | 56/100 [03:14<02:43,  3.72s/epoch]"
     ]
    },
    {
     "name": "stdout",
     "output_type": "stream",
     "text": [
      "Epoch 56/100, Cross Entropy: 1.1384966214773036\n"
     ]
    },
    {
     "name": "stderr",
     "output_type": "stream",
     "text": [
      "Training:  57%|█████▋    | 57/100 [03:18<02:47,  3.89s/epoch]"
     ]
    },
    {
     "name": "stdout",
     "output_type": "stream",
     "text": [
      "Epoch 57/100, Cross Entropy: 1.13565234903598\n"
     ]
    },
    {
     "name": "stderr",
     "output_type": "stream",
     "text": [
      "Training:  58%|█████▊    | 58/100 [03:22<02:42,  3.88s/epoch]"
     ]
    },
    {
     "name": "stdout",
     "output_type": "stream",
     "text": [
      "Epoch 58/100, Cross Entropy: 1.1336598499497081\n"
     ]
    },
    {
     "name": "stderr",
     "output_type": "stream",
     "text": [
      "Training:  59%|█████▉    | 59/100 [03:26<02:39,  3.89s/epoch]"
     ]
    },
    {
     "name": "stdout",
     "output_type": "stream",
     "text": [
      "Epoch 59/100, Cross Entropy: 1.1393550178019851\n"
     ]
    },
    {
     "name": "stderr",
     "output_type": "stream",
     "text": [
      "Training:  60%|██████    | 60/100 [03:30<02:32,  3.82s/epoch]"
     ]
    },
    {
     "name": "stdout",
     "output_type": "stream",
     "text": [
      "Epoch 60/100, Cross Entropy: 1.1321863067884068\n"
     ]
    },
    {
     "name": "stderr",
     "output_type": "stream",
     "text": [
      "Training:  61%|██████    | 61/100 [03:33<02:30,  3.87s/epoch]"
     ]
    },
    {
     "name": "stdout",
     "output_type": "stream",
     "text": [
      "Epoch 61/100, Cross Entropy: 1.1326987529999812\n"
     ]
    },
    {
     "name": "stderr",
     "output_type": "stream",
     "text": [
      "Training:  62%|██████▏   | 62/100 [03:37<02:25,  3.83s/epoch]"
     ]
    },
    {
     "name": "stdout",
     "output_type": "stream",
     "text": [
      "Epoch 62/100, Cross Entropy: 1.129810181254043\n"
     ]
    },
    {
     "name": "stderr",
     "output_type": "stream",
     "text": [
      "Training:  63%|██████▎   | 63/100 [03:41<02:22,  3.85s/epoch]"
     ]
    },
    {
     "name": "stdout",
     "output_type": "stream",
     "text": [
      "Epoch 63/100, Cross Entropy: 1.1302585837565586\n"
     ]
    },
    {
     "name": "stderr",
     "output_type": "stream",
     "text": [
      "Training:  64%|██████▍   | 64/100 [03:45<02:20,  3.91s/epoch]"
     ]
    },
    {
     "name": "stdout",
     "output_type": "stream",
     "text": [
      "Epoch 64/100, Cross Entropy: 1.1366577800356439\n"
     ]
    },
    {
     "name": "stderr",
     "output_type": "stream",
     "text": [
      "Training:  65%|██████▌   | 65/100 [03:49<02:15,  3.86s/epoch]"
     ]
    },
    {
     "name": "stdout",
     "output_type": "stream",
     "text": [
      "Epoch 65/100, Cross Entropy: 1.1328186790027415\n"
     ]
    },
    {
     "name": "stderr",
     "output_type": "stream",
     "text": [
      "Training:  66%|██████▌   | 66/100 [03:53<02:13,  3.92s/epoch]"
     ]
    },
    {
     "name": "stdout",
     "output_type": "stream",
     "text": [
      "Epoch 66/100, Cross Entropy: 1.1338998578474995\n"
     ]
    },
    {
     "name": "stderr",
     "output_type": "stream",
     "text": [
      "Training:  67%|██████▋   | 67/100 [03:57<02:10,  3.96s/epoch]"
     ]
    },
    {
     "name": "stdout",
     "output_type": "stream",
     "text": [
      "Epoch 67/100, Cross Entropy: 1.1319500679659094\n"
     ]
    },
    {
     "name": "stderr",
     "output_type": "stream",
     "text": [
      "Training:  68%|██████▊   | 68/100 [04:01<02:05,  3.93s/epoch]"
     ]
    },
    {
     "name": "stdout",
     "output_type": "stream",
     "text": [
      "Epoch 68/100, Cross Entropy: 1.1323551699902379\n"
     ]
    },
    {
     "name": "stderr",
     "output_type": "stream",
     "text": [
      "Training:  69%|██████▉   | 69/100 [04:05<02:02,  3.96s/epoch]"
     ]
    },
    {
     "name": "stdout",
     "output_type": "stream",
     "text": [
      "Epoch 69/100, Cross Entropy: 1.1348439594366673\n"
     ]
    },
    {
     "name": "stderr",
     "output_type": "stream",
     "text": [
      "Training:  70%|███████   | 70/100 [04:09<01:57,  3.91s/epoch]"
     ]
    },
    {
     "name": "stdout",
     "output_type": "stream",
     "text": [
      "Epoch 70/100, Cross Entropy: 1.1378946568105213\n"
     ]
    },
    {
     "name": "stderr",
     "output_type": "stream",
     "text": [
      "Training:  71%|███████   | 71/100 [04:13<01:54,  3.95s/epoch]"
     ]
    },
    {
     "name": "stdout",
     "output_type": "stream",
     "text": [
      "Epoch 71/100, Cross Entropy: 1.1339843018776294\n"
     ]
    },
    {
     "name": "stderr",
     "output_type": "stream",
     "text": [
      "Training:  72%|███████▏  | 72/100 [04:17<01:49,  3.90s/epoch]"
     ]
    },
    {
     "name": "stdout",
     "output_type": "stream",
     "text": [
      "Epoch 72/100, Cross Entropy: 1.1345837437334203\n"
     ]
    },
    {
     "name": "stderr",
     "output_type": "stream",
     "text": [
      "Training:  73%|███████▎  | 73/100 [04:20<01:45,  3.91s/epoch]"
     ]
    },
    {
     "name": "stdout",
     "output_type": "stream",
     "text": [
      "Epoch 73/100, Cross Entropy: 1.133070951436432\n"
     ]
    },
    {
     "name": "stderr",
     "output_type": "stream",
     "text": [
      "Training:  74%|███████▍  | 74/100 [04:24<01:41,  3.90s/epoch]"
     ]
    },
    {
     "name": "stdout",
     "output_type": "stream",
     "text": [
      "Epoch 74/100, Cross Entropy: 1.1319710983925773\n"
     ]
    },
    {
     "name": "stderr",
     "output_type": "stream",
     "text": [
      "Training:  75%|███████▌  | 75/100 [04:28<01:37,  3.90s/epoch]"
     ]
    },
    {
     "name": "stdout",
     "output_type": "stream",
     "text": [
      "Epoch 75/100, Cross Entropy: 1.1331387034791975\n"
     ]
    },
    {
     "name": "stderr",
     "output_type": "stream",
     "text": [
      "Training:  76%|███████▌  | 76/100 [04:32<01:34,  3.94s/epoch]"
     ]
    },
    {
     "name": "stdout",
     "output_type": "stream",
     "text": [
      "Epoch 76/100, Cross Entropy: 1.137435099300768\n"
     ]
    },
    {
     "name": "stderr",
     "output_type": "stream",
     "text": [
      "Training:  77%|███████▋  | 77/100 [04:36<01:30,  3.95s/epoch]"
     ]
    },
    {
     "name": "stdout",
     "output_type": "stream",
     "text": [
      "Epoch 77/100, Cross Entropy: 1.1426091421430573\n"
     ]
    },
    {
     "name": "stderr",
     "output_type": "stream",
     "text": [
      "Training:  78%|███████▊  | 78/100 [04:40<01:26,  3.94s/epoch]"
     ]
    },
    {
     "name": "stdout",
     "output_type": "stream",
     "text": [
      "Epoch 78/100, Cross Entropy: 1.133141547699185\n"
     ]
    },
    {
     "name": "stderr",
     "output_type": "stream",
     "text": [
      "Training:  79%|███████▉  | 79/100 [04:44<01:22,  3.94s/epoch]"
     ]
    },
    {
     "name": "stdout",
     "output_type": "stream",
     "text": [
      "Epoch 79/100, Cross Entropy: 1.1399302455577496\n"
     ]
    },
    {
     "name": "stderr",
     "output_type": "stream",
     "text": [
      "Training:  80%|████████  | 80/100 [04:48<01:18,  3.92s/epoch]"
     ]
    },
    {
     "name": "stdout",
     "output_type": "stream",
     "text": [
      "Epoch 80/100, Cross Entropy: 1.1295414788029228\n"
     ]
    },
    {
     "name": "stderr",
     "output_type": "stream",
     "text": [
      "Training:  81%|████████  | 81/100 [04:52<01:15,  3.96s/epoch]"
     ]
    },
    {
     "name": "stdout",
     "output_type": "stream",
     "text": [
      "Epoch 81/100, Cross Entropy: 1.1336280951108078\n"
     ]
    },
    {
     "name": "stderr",
     "output_type": "stream",
     "text": [
      "Training:  82%|████████▏ | 82/100 [04:56<01:10,  3.91s/epoch]"
     ]
    },
    {
     "name": "stdout",
     "output_type": "stream",
     "text": [
      "Epoch 82/100, Cross Entropy: 1.134941731901634\n"
     ]
    },
    {
     "name": "stderr",
     "output_type": "stream",
     "text": [
      "Training:  83%|████████▎ | 83/100 [05:00<01:06,  3.91s/epoch]"
     ]
    },
    {
     "name": "stdout",
     "output_type": "stream",
     "text": [
      "Epoch 83/100, Cross Entropy: 1.130255856566189\n"
     ]
    },
    {
     "name": "stderr",
     "output_type": "stream",
     "text": [
      "Training:  84%|████████▍ | 84/100 [05:04<01:02,  3.92s/epoch]"
     ]
    },
    {
     "name": "stdout",
     "output_type": "stream",
     "text": [
      "Epoch 84/100, Cross Entropy: 1.1335878230848366\n"
     ]
    },
    {
     "name": "stderr",
     "output_type": "stream",
     "text": [
      "Training:  85%|████████▌ | 85/100 [05:08<00:59,  3.94s/epoch]"
     ]
    },
    {
     "name": "stdout",
     "output_type": "stream",
     "text": [
      "Epoch 85/100, Cross Entropy: 1.1320508475965674\n"
     ]
    },
    {
     "name": "stderr",
     "output_type": "stream",
     "text": [
      "Training:  86%|████████▌ | 86/100 [05:12<00:55,  3.93s/epoch]"
     ]
    },
    {
     "name": "stdout",
     "output_type": "stream",
     "text": [
      "Epoch 86/100, Cross Entropy: 1.1348537053508596\n"
     ]
    },
    {
     "name": "stderr",
     "output_type": "stream",
     "text": [
      "Training:  87%|████████▋ | 87/100 [05:16<00:51,  3.93s/epoch]"
     ]
    },
    {
     "name": "stdout",
     "output_type": "stream",
     "text": [
      "Epoch 87/100, Cross Entropy: 1.1300201972016979\n"
     ]
    },
    {
     "name": "stderr",
     "output_type": "stream",
     "text": [
      "Training:  88%|████████▊ | 88/100 [05:19<00:47,  3.94s/epoch]"
     ]
    },
    {
     "name": "stdout",
     "output_type": "stream",
     "text": [
      "Epoch 88/100, Cross Entropy: 1.1291717232322789\n"
     ]
    },
    {
     "name": "stderr",
     "output_type": "stream",
     "text": [
      "Training:  89%|████████▉ | 89/100 [05:23<00:43,  3.97s/epoch]"
     ]
    },
    {
     "name": "stdout",
     "output_type": "stream",
     "text": [
      "Epoch 89/100, Cross Entropy: 1.1340501637108011\n"
     ]
    },
    {
     "name": "stderr",
     "output_type": "stream",
     "text": [
      "Training:  90%|█████████ | 90/100 [05:27<00:38,  3.87s/epoch]"
     ]
    },
    {
     "name": "stdout",
     "output_type": "stream",
     "text": [
      "Epoch 90/100, Cross Entropy: 1.1380786601789787\n"
     ]
    },
    {
     "name": "stderr",
     "output_type": "stream",
     "text": [
      "Training:  91%|█████████ | 91/100 [05:31<00:35,  3.92s/epoch]"
     ]
    },
    {
     "name": "stdout",
     "output_type": "stream",
     "text": [
      "Epoch 91/100, Cross Entropy: 1.1315332889305971\n"
     ]
    },
    {
     "name": "stderr",
     "output_type": "stream",
     "text": [
      "Training:  92%|█████████▏| 92/100 [05:35<00:30,  3.87s/epoch]"
     ]
    },
    {
     "name": "stdout",
     "output_type": "stream",
     "text": [
      "Epoch 92/100, Cross Entropy: 1.1321783651497224\n"
     ]
    },
    {
     "name": "stderr",
     "output_type": "stream",
     "text": [
      "Training:  93%|█████████▎| 93/100 [05:39<00:27,  3.95s/epoch]"
     ]
    },
    {
     "name": "stdout",
     "output_type": "stream",
     "text": [
      "Epoch 93/100, Cross Entropy: 1.1319658603038272\n"
     ]
    },
    {
     "name": "stderr",
     "output_type": "stream",
     "text": [
      "Training:  94%|█████████▍| 94/100 [05:43<00:23,  3.95s/epoch]"
     ]
    },
    {
     "name": "stdout",
     "output_type": "stream",
     "text": [
      "Epoch 94/100, Cross Entropy: 1.12822841646024\n"
     ]
    },
    {
     "name": "stderr",
     "output_type": "stream",
     "text": [
      "Training:  95%|█████████▌| 95/100 [05:47<00:19,  3.96s/epoch]"
     ]
    },
    {
     "name": "stdout",
     "output_type": "stream",
     "text": [
      "Epoch 95/100, Cross Entropy: 1.1310460319363869\n"
     ]
    },
    {
     "name": "stderr",
     "output_type": "stream",
     "text": [
      "Training:  96%|█████████▌| 96/100 [05:51<00:15,  3.97s/epoch]"
     ]
    },
    {
     "name": "stdout",
     "output_type": "stream",
     "text": [
      "Epoch 96/100, Cross Entropy: 1.1322208953501345\n"
     ]
    },
    {
     "name": "stderr",
     "output_type": "stream",
     "text": [
      "Training:  97%|█████████▋| 97/100 [05:55<00:11,  3.98s/epoch]"
     ]
    },
    {
     "name": "stdout",
     "output_type": "stream",
     "text": [
      "Epoch 97/100, Cross Entropy: 1.1348550862720086\n"
     ]
    },
    {
     "name": "stderr",
     "output_type": "stream",
     "text": [
      "Training:  98%|█████████▊| 98/100 [05:59<00:07,  3.95s/epoch]"
     ]
    },
    {
     "name": "stdout",
     "output_type": "stream",
     "text": [
      "Epoch 98/100, Cross Entropy: 1.1304606780164823\n"
     ]
    },
    {
     "name": "stderr",
     "output_type": "stream",
     "text": [
      "Training:  99%|█████████▉| 99/100 [06:04<00:04,  4.16s/epoch]"
     ]
    },
    {
     "name": "stdout",
     "output_type": "stream",
     "text": [
      "Epoch 99/100, Cross Entropy: 1.1337746867934928\n"
     ]
    },
    {
     "name": "stderr",
     "output_type": "stream",
     "text": [
      "Training: 100%|██████████| 100/100 [06:07<00:00,  3.68s/epoch]\n"
     ]
    },
    {
     "name": "stdout",
     "output_type": "stream",
     "text": [
      "Epoch 100/100, Cross Entropy: 1.1341972677424734\n"
     ]
    },
    {
     "name": "stderr",
     "output_type": "stream",
     "text": [
      "c:\\Users\\choho\\Desktop\\Master DS\\Deep learning II\\github\\DeepLearning2-Project-M2DS\\src\\functionals.py:17: RuntimeWarning: overflow encountered in exp\n",
      "  return 1 / (1 + np.exp(-x))\n"
     ]
    },
    {
     "name": "stdout",
     "output_type": "stream",
     "text": [
      "(0.20430000000000004, array([[1., 0., 0., ..., 0., 0., 0.],\n",
      "       [1., 0., 0., ..., 0., 0., 0.],\n",
      "       [1., 0., 0., ..., 0., 0., 0.],\n",
      "       ...,\n",
      "       [0., 0., 0., ..., 0., 0., 1.],\n",
      "       [0., 0., 0., ..., 0., 0., 1.],\n",
      "       [0., 0., 0., ..., 0., 0., 0.]]))\n"
     ]
    },
    {
     "data": {
      "image/png": "[encoded data removed]",
      "text/plain": [
       "<Figure size 640x480 with 1 Axes>"
      ]
     },
     "metadata": {},
     "output_type": "display_data"
    }
   ],
   "source": [
    "from copy import copy, deepcopy\n",
    "\n",
    "data = mnist_train.copy()\n",
    "n_samples, n_visible = data.shape # n_samples, n_features\n",
    "n_visible = data.shape[1]\n",
    "hidden_layer_sizes = [250]\n",
    "n_classes = mnist_test_labels.shape[1]\n",
    "\n",
    "dnn = DNN(input_dim=n_visible, output_dim=n_classes, hidden_layer_sizes=hidden_layer_sizes, random_state=42)\n",
    "\n",
    "losses_100 = dnn.backpropagation(binary_mnist_train, labels=mnist_train_labels, n_epochs=100, learning_rate=3e-4, batch_size=512)\n",
    "\n",
    "\n",
    "print(dnn.test(binary_mnist_test, mnist_test_labels))\n",
    "\n",
    "#plotter la loss à partir d'une liste de loss\n",
    "plt.plot(losses_100)\n",
    "plt.title(\"Loss\")   \n",
    "plt.xlabel(\"Epoch\")\n",
    "plt.ylabel(\"Loss\")\n",
    "plt.show()"
   ]
  },
  {
   "cell_type": "code",
   "execution_count": 16,
   "metadata": {},
   "outputs": [
    {
     "name": "stdout",
     "output_type": "stream",
     "text": [
      "(0.37470000000000003, array([[1., 0., 0., ..., 0., 0., 0.],\n",
      "       [0., 0., 0., ..., 0., 0., 0.],\n",
      "       [1., 0., 0., ..., 0., 0., 0.],\n",
      "       ...,\n",
      "       [0., 0., 0., ..., 0., 0., 0.],\n",
      "       [0., 0., 0., ..., 0., 0., 1.],\n",
      "       [0., 0., 0., ..., 0., 0., 0.]]))\n"
     ]
    }
   ],
   "source": [
    "print(dnn.test(binary_mnist_test, mnist_test_labels))\n"
   ]
  },
  {
   "cell_type": "markdown",
   "metadata": {},
   "source": [
    "# 1. Error rate according to varying layers numbers"
   ]
  },
  {
   "cell_type": "code",
   "execution_count": 18,
   "metadata": {},
   "outputs": [],
   "source": [
    "import matplotlib.pyplot as plt\n",
    "import pickle\n",
    "import numpy as np\n",
    "\n",
    "\n",
    "def save_object(obj, filename, output_dir):\n",
    "    \"\"\"\n",
    "    Save a Python object to a file using pickle.\n",
    "\n",
    "    Parameters:\n",
    "    - obj: The Python object to save.\n",
    "    - filename (str): The name of the file to save the object to.\n",
    "    - output_dir (str): The directory where to save the file.\n",
    "    \"\"\"\n",
    "    os.makedirs(output_dir, exist_ok=True)\n",
    "    filepath = os.path.join(output_dir, filename)\n",
    "    with open(filepath, 'wb') as f:\n",
    "        pickle.dump(obj, f)\n",
    "\n",
    "def load_object(filename, output_dir):\n",
    "    \"\"\"\n",
    "    Load a Python object from a file using pickle.\n",
    "\n",
    "    Parameters:\n",
    "    - filename (str): The name of the file to load the object from.\n",
    "    - output_dir (str): The directory where the file is located.\n",
    "\n",
    "    Returns:\n",
    "    - The Python object loaded from the file.\n",
    "    \"\"\"\n",
    "    filepath = os.path.join(output_dir, filename)\n",
    "    with open(filepath, 'rb') as f:\n",
    "        return pickle.load(f)"
   ]
  },
  {
   "cell_type": "markdown",
   "metadata": {},
   "source": [
    "## 1.1. Without pretraining"
   ]
  },
  {
   "cell_type": "code",
   "execution_count": 20,
   "metadata": {},
   "outputs": [
    {
     "name": "stderr",
     "output_type": "stream",
     "text": [
      "Training:   0%|          | 0/100 [00:00<?, ?epoch/s]"
     ]
    },
    {
     "name": "stderr",
     "output_type": "stream",
     "text": [
      "Training:   1%|          | 1/100 [00:03<05:33,  3.37s/epoch]"
     ]
    },
    {
     "name": "stdout",
     "output_type": "stream",
     "text": [
      "Epoch 1/100, Cross Entropy: 1.8894495130492934\n"
     ]
    },
    {
     "name": "stderr",
     "output_type": "stream",
     "text": [
      "Training:   2%|▏         | 2/100 [00:06<05:34,  3.41s/epoch]"
     ]
    },
    {
     "name": "stdout",
     "output_type": "stream",
     "text": [
      "Epoch 2/100, Cross Entropy: 1.3622334863334205\n"
     ]
    },
    {
     "name": "stderr",
     "output_type": "stream",
     "text": [
      "Training:   3%|▎         | 3/100 [00:11<06:10,  3.82s/epoch]"
     ]
    },
    {
     "name": "stdout",
     "output_type": "stream",
     "text": [
      "Epoch 3/100, Cross Entropy: 1.2261330035747475\n"
     ]
    },
    {
     "name": "stderr",
     "output_type": "stream",
     "text": [
      "Training:   4%|▍         | 4/100 [00:14<06:05,  3.81s/epoch]"
     ]
    },
    {
     "name": "stdout",
     "output_type": "stream",
     "text": [
      "Epoch 4/100, Cross Entropy: 1.1810666422878717\n"
     ]
    },
    {
     "name": "stderr",
     "output_type": "stream",
     "text": [
      "Training:   5%|▌         | 5/100 [00:18<05:50,  3.69s/epoch]"
     ]
    },
    {
     "name": "stdout",
     "output_type": "stream",
     "text": [
      "Epoch 5/100, Cross Entropy: 1.1525038487495025\n"
     ]
    },
    {
     "name": "stderr",
     "output_type": "stream",
     "text": [
      "Training:   6%|▌         | 6/100 [00:21<05:43,  3.66s/epoch]"
     ]
    },
    {
     "name": "stdout",
     "output_type": "stream",
     "text": [
      "Epoch 6/100, Cross Entropy: 1.1451010907015398\n"
     ]
    },
    {
     "name": "stderr",
     "output_type": "stream",
     "text": [
      "Training:   7%|▋         | 7/100 [00:26<05:54,  3.81s/epoch]"
     ]
    },
    {
     "name": "stdout",
     "output_type": "stream",
     "text": [
      "Epoch 7/100, Cross Entropy: 1.1241728928470616\n"
     ]
    },
    {
     "name": "stderr",
     "output_type": "stream",
     "text": [
      "Training:   8%|▊         | 8/100 [00:29<05:44,  3.74s/epoch]"
     ]
    },
    {
     "name": "stdout",
     "output_type": "stream",
     "text": [
      "Epoch 8/100, Cross Entropy: 1.1297777638636135\n"
     ]
    },
    {
     "name": "stderr",
     "output_type": "stream",
     "text": [
      "Training:   9%|▉         | 9/100 [00:33<05:54,  3.89s/epoch]"
     ]
    },
    {
     "name": "stdout",
     "output_type": "stream",
     "text": [
      "Epoch 9/100, Cross Entropy: 1.1256656737570856\n"
     ]
    },
    {
     "name": "stderr",
     "output_type": "stream",
     "text": [
      "Training:  10%|█         | 10/100 [00:37<05:37,  3.75s/epoch]"
     ]
    },
    {
     "name": "stdout",
     "output_type": "stream",
     "text": [
      "Epoch 10/100, Cross Entropy: 1.1179058233789605\n"
     ]
    },
    {
     "name": "stderr",
     "output_type": "stream",
     "text": [
      "Training:  11%|█         | 11/100 [00:40<05:20,  3.60s/epoch]"
     ]
    },
    {
     "name": "stdout",
     "output_type": "stream",
     "text": [
      "Epoch 11/100, Cross Entropy: 1.123186789084615\n"
     ]
    },
    {
     "name": "stderr",
     "output_type": "stream",
     "text": [
      "Training:  12%|█▏        | 12/100 [00:44<05:15,  3.59s/epoch]"
     ]
    },
    {
     "name": "stdout",
     "output_type": "stream",
     "text": [
      "Epoch 12/100, Cross Entropy: 1.1252553041850064\n"
     ]
    },
    {
     "name": "stderr",
     "output_type": "stream",
     "text": [
      "Training:  13%|█▎        | 13/100 [00:47<05:16,  3.63s/epoch]"
     ]
    },
    {
     "name": "stdout",
     "output_type": "stream",
     "text": [
      "Epoch 13/100, Cross Entropy: 1.1229895217989136\n"
     ]
    },
    {
     "name": "stderr",
     "output_type": "stream",
     "text": [
      "Training:  14%|█▍        | 14/100 [00:51<05:20,  3.73s/epoch]"
     ]
    },
    {
     "name": "stdout",
     "output_type": "stream",
     "text": [
      "Epoch 14/100, Cross Entropy: 1.1193475053717734\n"
     ]
    },
    {
     "name": "stderr",
     "output_type": "stream",
     "text": [
      "Training:  15%|█▌        | 15/100 [00:55<05:16,  3.72s/epoch]"
     ]
    },
    {
     "name": "stdout",
     "output_type": "stream",
     "text": [
      "Epoch 15/100, Cross Entropy: 1.1232542396966028\n"
     ]
    },
    {
     "name": "stderr",
     "output_type": "stream",
     "text": [
      "Training:  16%|█▌        | 16/100 [00:59<05:15,  3.76s/epoch]"
     ]
    },
    {
     "name": "stdout",
     "output_type": "stream",
     "text": [
      "Epoch 16/100, Cross Entropy: 1.1208535687113863\n"
     ]
    },
    {
     "name": "stderr",
     "output_type": "stream",
     "text": [
      "Training:  17%|█▋        | 17/100 [01:02<05:05,  3.67s/epoch]"
     ]
    },
    {
     "name": "stdout",
     "output_type": "stream",
     "text": [
      "Epoch 17/100, Cross Entropy: 1.115237174640047\n"
     ]
    },
    {
     "name": "stderr",
     "output_type": "stream",
     "text": [
      "Training:  18%|█▊        | 18/100 [01:06<04:52,  3.57s/epoch]"
     ]
    },
    {
     "name": "stdout",
     "output_type": "stream",
     "text": [
      "Epoch 18/100, Cross Entropy: 1.1151606885520429\n"
     ]
    },
    {
     "name": "stderr",
     "output_type": "stream",
     "text": [
      "Training:  19%|█▉        | 19/100 [01:09<04:38,  3.44s/epoch]"
     ]
    },
    {
     "name": "stdout",
     "output_type": "stream",
     "text": [
      "Epoch 19/100, Cross Entropy: 1.1168953673416866\n"
     ]
    },
    {
     "name": "stderr",
     "output_type": "stream",
     "text": [
      "Training:  20%|██        | 20/100 [01:12<04:27,  3.35s/epoch]"
     ]
    },
    {
     "name": "stdout",
     "output_type": "stream",
     "text": [
      "Epoch 20/100, Cross Entropy: 1.1097935536700043\n"
     ]
    },
    {
     "name": "stderr",
     "output_type": "stream",
     "text": [
      "Training:  21%|██        | 21/100 [01:15<04:21,  3.30s/epoch]"
     ]
    },
    {
     "name": "stdout",
     "output_type": "stream",
     "text": [
      "Epoch 21/100, Cross Entropy: 1.1225009536842032\n"
     ]
    },
    {
     "name": "stderr",
     "output_type": "stream",
     "text": [
      "Training:  22%|██▏       | 22/100 [01:18<04:12,  3.24s/epoch]"
     ]
    },
    {
     "name": "stdout",
     "output_type": "stream",
     "text": [
      "Epoch 22/100, Cross Entropy: 1.1193339997472114\n"
     ]
    },
    {
     "name": "stderr",
     "output_type": "stream",
     "text": [
      "Training:  23%|██▎       | 23/100 [01:21<04:06,  3.20s/epoch]"
     ]
    },
    {
     "name": "stdout",
     "output_type": "stream",
     "text": [
      "Epoch 23/100, Cross Entropy: 1.1187991022920825\n"
     ]
    },
    {
     "name": "stderr",
     "output_type": "stream",
     "text": [
      "Training:  24%|██▍       | 24/100 [01:25<04:01,  3.18s/epoch]"
     ]
    },
    {
     "name": "stdout",
     "output_type": "stream",
     "text": [
      "Epoch 24/100, Cross Entropy: 1.1168383571063638\n"
     ]
    },
    {
     "name": "stderr",
     "output_type": "stream",
     "text": [
      "Training:  25%|██▌       | 25/100 [01:28<03:58,  3.18s/epoch]"
     ]
    },
    {
     "name": "stdout",
     "output_type": "stream",
     "text": [
      "Epoch 25/100, Cross Entropy: 1.1140288666137286\n"
     ]
    },
    {
     "name": "stderr",
     "output_type": "stream",
     "text": [
      "Training:  26%|██▌       | 26/100 [01:31<03:56,  3.20s/epoch]"
     ]
    },
    {
     "name": "stdout",
     "output_type": "stream",
     "text": [
      "Epoch 26/100, Cross Entropy: 1.1101725950812449\n"
     ]
    },
    {
     "name": "stderr",
     "output_type": "stream",
     "text": [
      "Training:  27%|██▋       | 27/100 [01:34<04:00,  3.29s/epoch]"
     ]
    },
    {
     "name": "stdout",
     "output_type": "stream",
     "text": [
      "Epoch 27/100, Cross Entropy: 1.1145642079059963\n"
     ]
    },
    {
     "name": "stderr",
     "output_type": "stream",
     "text": [
      "Training:  28%|██▊       | 28/100 [01:38<03:56,  3.29s/epoch]"
     ]
    },
    {
     "name": "stdout",
     "output_type": "stream",
     "text": [
      "Epoch 28/100, Cross Entropy: 1.1207814756496581\n"
     ]
    },
    {
     "name": "stderr",
     "output_type": "stream",
     "text": [
      "Training:  29%|██▉       | 29/100 [01:41<03:54,  3.30s/epoch]"
     ]
    },
    {
     "name": "stdout",
     "output_type": "stream",
     "text": [
      "Epoch 29/100, Cross Entropy: 1.1173797015637201\n"
     ]
    },
    {
     "name": "stderr",
     "output_type": "stream",
     "text": [
      "Training:  30%|███       | 30/100 [01:44<03:49,  3.27s/epoch]"
     ]
    },
    {
     "name": "stdout",
     "output_type": "stream",
     "text": [
      "Epoch 30/100, Cross Entropy: 1.1123287909322659\n"
     ]
    },
    {
     "name": "stderr",
     "output_type": "stream",
     "text": [
      "Training:  31%|███       | 31/100 [01:47<03:43,  3.24s/epoch]"
     ]
    },
    {
     "name": "stdout",
     "output_type": "stream",
     "text": [
      "Epoch 31/100, Cross Entropy: 1.1151494621734528\n"
     ]
    },
    {
     "name": "stderr",
     "output_type": "stream",
     "text": [
      "Training:  32%|███▏      | 32/100 [01:51<03:37,  3.20s/epoch]"
     ]
    },
    {
     "name": "stdout",
     "output_type": "stream",
     "text": [
      "Epoch 32/100, Cross Entropy: 1.1177344176694213\n"
     ]
    },
    {
     "name": "stderr",
     "output_type": "stream",
     "text": [
      "Training:  33%|███▎      | 33/100 [01:54<03:34,  3.19s/epoch]"
     ]
    },
    {
     "name": "stdout",
     "output_type": "stream",
     "text": [
      "Epoch 33/100, Cross Entropy: 1.119265573385496\n"
     ]
    },
    {
     "name": "stderr",
     "output_type": "stream",
     "text": [
      "Training:  34%|███▍      | 34/100 [01:57<03:30,  3.19s/epoch]"
     ]
    },
    {
     "name": "stdout",
     "output_type": "stream",
     "text": [
      "Epoch 34/100, Cross Entropy: 1.1184772784642887\n"
     ]
    },
    {
     "name": "stderr",
     "output_type": "stream",
     "text": [
      "Training:  35%|███▌      | 35/100 [02:00<03:28,  3.21s/epoch]"
     ]
    },
    {
     "name": "stdout",
     "output_type": "stream",
     "text": [
      "Epoch 35/100, Cross Entropy: 1.1193698883748855\n"
     ]
    },
    {
     "name": "stderr",
     "output_type": "stream",
     "text": [
      "Training:  36%|███▌      | 36/100 [02:03<03:25,  3.21s/epoch]"
     ]
    },
    {
     "name": "stdout",
     "output_type": "stream",
     "text": [
      "Epoch 36/100, Cross Entropy: 1.1165316627848643\n"
     ]
    },
    {
     "name": "stderr",
     "output_type": "stream",
     "text": [
      "Training:  37%|███▋      | 37/100 [02:07<03:23,  3.23s/epoch]"
     ]
    },
    {
     "name": "stdout",
     "output_type": "stream",
     "text": [
      "Epoch 37/100, Cross Entropy: 1.1158557630318806\n"
     ]
    },
    {
     "name": "stderr",
     "output_type": "stream",
     "text": [
      "Training:  38%|███▊      | 38/100 [02:10<03:24,  3.29s/epoch]"
     ]
    },
    {
     "name": "stdout",
     "output_type": "stream",
     "text": [
      "Epoch 38/100, Cross Entropy: 1.1165783485032341\n"
     ]
    },
    {
     "name": "stderr",
     "output_type": "stream",
     "text": [
      "Training:  39%|███▉      | 39/100 [02:13<03:18,  3.26s/epoch]"
     ]
    },
    {
     "name": "stdout",
     "output_type": "stream",
     "text": [
      "Epoch 39/100, Cross Entropy: 1.1153346418781245\n"
     ]
    },
    {
     "name": "stderr",
     "output_type": "stream",
     "text": [
      "Training:  40%|████      | 40/100 [02:16<03:14,  3.24s/epoch]"
     ]
    },
    {
     "name": "stdout",
     "output_type": "stream",
     "text": [
      "Epoch 40/100, Cross Entropy: 1.1192346182211876\n"
     ]
    },
    {
     "name": "stderr",
     "output_type": "stream",
     "text": [
      "Training:  41%|████      | 41/100 [02:20<03:09,  3.22s/epoch]"
     ]
    },
    {
     "name": "stdout",
     "output_type": "stream",
     "text": [
      "Epoch 41/100, Cross Entropy: 1.1123421592687488\n"
     ]
    },
    {
     "name": "stderr",
     "output_type": "stream",
     "text": [
      "Training:  42%|████▏     | 42/100 [02:23<03:06,  3.22s/epoch]"
     ]
    },
    {
     "name": "stdout",
     "output_type": "stream",
     "text": [
      "Epoch 42/100, Cross Entropy: 1.1156124899651056\n"
     ]
    },
    {
     "name": "stderr",
     "output_type": "stream",
     "text": [
      "Training:  43%|████▎     | 43/100 [02:26<03:05,  3.26s/epoch]"
     ]
    },
    {
     "name": "stdout",
     "output_type": "stream",
     "text": [
      "Epoch 43/100, Cross Entropy: 1.113658178148151\n"
     ]
    },
    {
     "name": "stderr",
     "output_type": "stream",
     "text": [
      "Training:  44%|████▍     | 44/100 [02:29<02:59,  3.21s/epoch]"
     ]
    },
    {
     "name": "stdout",
     "output_type": "stream",
     "text": [
      "Epoch 44/100, Cross Entropy: 1.1156014924751567\n"
     ]
    },
    {
     "name": "stderr",
     "output_type": "stream",
     "text": [
      "Training:  45%|████▌     | 45/100 [02:32<02:55,  3.19s/epoch]"
     ]
    },
    {
     "name": "stdout",
     "output_type": "stream",
     "text": [
      "Epoch 45/100, Cross Entropy: 1.1160015299357742\n"
     ]
    },
    {
     "name": "stderr",
     "output_type": "stream",
     "text": [
      "Training:  46%|████▌     | 46/100 [02:36<02:51,  3.18s/epoch]"
     ]
    },
    {
     "name": "stdout",
     "output_type": "stream",
     "text": [
      "Epoch 46/100, Cross Entropy: 1.108570208309051\n"
     ]
    },
    {
     "name": "stderr",
     "output_type": "stream",
     "text": [
      "Training:  47%|████▋     | 47/100 [02:39<02:46,  3.15s/epoch]"
     ]
    },
    {
     "name": "stdout",
     "output_type": "stream",
     "text": [
      "Epoch 47/100, Cross Entropy: 1.1208186900245278\n"
     ]
    },
    {
     "name": "stderr",
     "output_type": "stream",
     "text": [
      "Training:  48%|████▊     | 48/100 [02:42<02:42,  3.13s/epoch]"
     ]
    },
    {
     "name": "stdout",
     "output_type": "stream",
     "text": [
      "Epoch 48/100, Cross Entropy: 1.1194865226979764\n"
     ]
    },
    {
     "name": "stderr",
     "output_type": "stream",
     "text": [
      "Training:  49%|████▉     | 49/100 [02:45<02:41,  3.16s/epoch]"
     ]
    },
    {
     "name": "stdout",
     "output_type": "stream",
     "text": [
      "Epoch 49/100, Cross Entropy: 1.1189989433151288\n"
     ]
    },
    {
     "name": "stderr",
     "output_type": "stream",
     "text": [
      "Training:  50%|█████     | 50/100 [02:48<02:38,  3.17s/epoch]"
     ]
    },
    {
     "name": "stdout",
     "output_type": "stream",
     "text": [
      "Epoch 50/100, Cross Entropy: 1.1187089301714628\n"
     ]
    },
    {
     "name": "stderr",
     "output_type": "stream",
     "text": [
      "Training:  51%|█████     | 51/100 [02:51<02:34,  3.15s/epoch]"
     ]
    },
    {
     "name": "stdout",
     "output_type": "stream",
     "text": [
      "Epoch 51/100, Cross Entropy: 1.1206230176490464\n"
     ]
    },
    {
     "name": "stderr",
     "output_type": "stream",
     "text": [
      "Training:  52%|█████▏    | 52/100 [02:54<02:29,  3.12s/epoch]"
     ]
    },
    {
     "name": "stdout",
     "output_type": "stream",
     "text": [
      "Epoch 52/100, Cross Entropy: 1.112905124527376\n"
     ]
    },
    {
     "name": "stderr",
     "output_type": "stream",
     "text": [
      "Training:  53%|█████▎    | 53/100 [02:58<02:27,  3.15s/epoch]"
     ]
    },
    {
     "name": "stdout",
     "output_type": "stream",
     "text": [
      "Epoch 53/100, Cross Entropy: 1.1190821849959138\n"
     ]
    },
    {
     "name": "stderr",
     "output_type": "stream",
     "text": [
      "Training:  54%|█████▍    | 54/100 [03:01<02:24,  3.14s/epoch]"
     ]
    },
    {
     "name": "stdout",
     "output_type": "stream",
     "text": [
      "Epoch 54/100, Cross Entropy: 1.1116873432952412\n"
     ]
    },
    {
     "name": "stderr",
     "output_type": "stream",
     "text": [
      "Training:  55%|█████▌    | 55/100 [03:04<02:20,  3.13s/epoch]"
     ]
    },
    {
     "name": "stdout",
     "output_type": "stream",
     "text": [
      "Epoch 55/100, Cross Entropy: 1.114063882001985\n"
     ]
    },
    {
     "name": "stderr",
     "output_type": "stream",
     "text": [
      "Training:  56%|█████▌    | 56/100 [03:07<02:16,  3.11s/epoch]"
     ]
    },
    {
     "name": "stdout",
     "output_type": "stream",
     "text": [
      "Epoch 56/100, Cross Entropy: 1.1192117342318078\n"
     ]
    },
    {
     "name": "stderr",
     "output_type": "stream",
     "text": [
      "Training:  57%|█████▋    | 57/100 [03:10<02:16,  3.18s/epoch]"
     ]
    },
    {
     "name": "stdout",
     "output_type": "stream",
     "text": [
      "Epoch 57/100, Cross Entropy: 1.1161844290503211\n"
     ]
    },
    {
     "name": "stderr",
     "output_type": "stream",
     "text": [
      "Training:  58%|█████▊    | 58/100 [03:13<02:12,  3.16s/epoch]"
     ]
    },
    {
     "name": "stdout",
     "output_type": "stream",
     "text": [
      "Epoch 58/100, Cross Entropy: 1.1204397863323203\n"
     ]
    },
    {
     "name": "stderr",
     "output_type": "stream",
     "text": [
      "Training:  59%|█████▉    | 59/100 [03:17<02:12,  3.22s/epoch]"
     ]
    },
    {
     "name": "stdout",
     "output_type": "stream",
     "text": [
      "Epoch 59/100, Cross Entropy: 1.1189318267131332\n"
     ]
    },
    {
     "name": "stderr",
     "output_type": "stream",
     "text": [
      "Training:  60%|██████    | 60/100 [03:20<02:08,  3.21s/epoch]"
     ]
    },
    {
     "name": "stdout",
     "output_type": "stream",
     "text": [
      "Epoch 60/100, Cross Entropy: 1.1176005057778289\n"
     ]
    },
    {
     "name": "stderr",
     "output_type": "stream",
     "text": [
      "Training:  61%|██████    | 61/100 [03:23<02:05,  3.23s/epoch]"
     ]
    },
    {
     "name": "stdout",
     "output_type": "stream",
     "text": [
      "Epoch 61/100, Cross Entropy: 1.116676369725429\n"
     ]
    },
    {
     "name": "stderr",
     "output_type": "stream",
     "text": [
      "Training:  62%|██████▏   | 62/100 [03:27<02:05,  3.30s/epoch]"
     ]
    },
    {
     "name": "stdout",
     "output_type": "stream",
     "text": [
      "Epoch 62/100, Cross Entropy: 1.121176347928897\n"
     ]
    },
    {
     "name": "stderr",
     "output_type": "stream",
     "text": [
      "Training:  63%|██████▎   | 63/100 [03:30<02:01,  3.29s/epoch]"
     ]
    },
    {
     "name": "stdout",
     "output_type": "stream",
     "text": [
      "Epoch 63/100, Cross Entropy: 1.1140078919799314\n"
     ]
    },
    {
     "name": "stderr",
     "output_type": "stream",
     "text": [
      "Training:  64%|██████▍   | 64/100 [03:33<02:00,  3.36s/epoch]"
     ]
    },
    {
     "name": "stdout",
     "output_type": "stream",
     "text": [
      "Epoch 64/100, Cross Entropy: 1.1188178458861735\n"
     ]
    },
    {
     "name": "stderr",
     "output_type": "stream",
     "text": [
      "Training:  65%|██████▌   | 65/100 [03:38<02:06,  3.62s/epoch]"
     ]
    },
    {
     "name": "stdout",
     "output_type": "stream",
     "text": [
      "Epoch 65/100, Cross Entropy: 1.115295551818676\n"
     ]
    },
    {
     "name": "stderr",
     "output_type": "stream",
     "text": [
      "Training:  66%|██████▌   | 66/100 [03:41<02:01,  3.57s/epoch]"
     ]
    },
    {
     "name": "stdout",
     "output_type": "stream",
     "text": [
      "Epoch 66/100, Cross Entropy: 1.112268710872094\n"
     ]
    },
    {
     "name": "stderr",
     "output_type": "stream",
     "text": [
      "Training:  67%|██████▋   | 67/100 [03:44<01:55,  3.51s/epoch]"
     ]
    },
    {
     "name": "stdout",
     "output_type": "stream",
     "text": [
      "Epoch 67/100, Cross Entropy: 1.1170759196940718\n"
     ]
    },
    {
     "name": "stderr",
     "output_type": "stream",
     "text": [
      "Training:  68%|██████▊   | 68/100 [03:48<01:49,  3.43s/epoch]"
     ]
    },
    {
     "name": "stdout",
     "output_type": "stream",
     "text": [
      "Epoch 68/100, Cross Entropy: 1.1173693571455896\n"
     ]
    },
    {
     "name": "stderr",
     "output_type": "stream",
     "text": [
      "Training:  69%|██████▉   | 69/100 [03:51<01:46,  3.42s/epoch]"
     ]
    },
    {
     "name": "stdout",
     "output_type": "stream",
     "text": [
      "Epoch 69/100, Cross Entropy: 1.1159039031404954\n"
     ]
    },
    {
     "name": "stderr",
     "output_type": "stream",
     "text": [
      "Training:  70%|███████   | 70/100 [03:54<01:41,  3.39s/epoch]"
     ]
    },
    {
     "name": "stdout",
     "output_type": "stream",
     "text": [
      "Epoch 70/100, Cross Entropy: 1.1171443866450173\n"
     ]
    },
    {
     "name": "stderr",
     "output_type": "stream",
     "text": [
      "Training:  71%|███████   | 71/100 [03:58<01:39,  3.42s/epoch]"
     ]
    },
    {
     "name": "stdout",
     "output_type": "stream",
     "text": [
      "Epoch 71/100, Cross Entropy: 1.1221074509906044\n"
     ]
    },
    {
     "name": "stderr",
     "output_type": "stream",
     "text": [
      "Training:  72%|███████▏  | 72/100 [04:02<01:38,  3.50s/epoch]"
     ]
    },
    {
     "name": "stdout",
     "output_type": "stream",
     "text": [
      "Epoch 72/100, Cross Entropy: 1.1193813682805245\n"
     ]
    },
    {
     "name": "stderr",
     "output_type": "stream",
     "text": [
      "Training:  73%|███████▎  | 73/100 [04:05<01:33,  3.47s/epoch]"
     ]
    },
    {
     "name": "stdout",
     "output_type": "stream",
     "text": [
      "Epoch 73/100, Cross Entropy: 1.1211890577613188\n"
     ]
    },
    {
     "name": "stderr",
     "output_type": "stream",
     "text": [
      "Training:  74%|███████▍  | 74/100 [04:09<01:30,  3.50s/epoch]"
     ]
    },
    {
     "name": "stdout",
     "output_type": "stream",
     "text": [
      "Epoch 74/100, Cross Entropy: 1.120059886385198\n"
     ]
    },
    {
     "name": "stderr",
     "output_type": "stream",
     "text": [
      "Training:  75%|███████▌  | 75/100 [04:12<01:25,  3.42s/epoch]"
     ]
    },
    {
     "name": "stdout",
     "output_type": "stream",
     "text": [
      "Epoch 75/100, Cross Entropy: 1.1200193406641172\n"
     ]
    },
    {
     "name": "stderr",
     "output_type": "stream",
     "text": [
      "Training:  76%|███████▌  | 76/100 [04:15<01:20,  3.34s/epoch]"
     ]
    },
    {
     "name": "stdout",
     "output_type": "stream",
     "text": [
      "Epoch 76/100, Cross Entropy: 1.1113434642059699\n"
     ]
    },
    {
     "name": "stderr",
     "output_type": "stream",
     "text": [
      "Training:  77%|███████▋  | 77/100 [04:18<01:15,  3.29s/epoch]"
     ]
    },
    {
     "name": "stdout",
     "output_type": "stream",
     "text": [
      "Epoch 77/100, Cross Entropy: 1.1174074646184815\n"
     ]
    },
    {
     "name": "stderr",
     "output_type": "stream",
     "text": [
      "Training:  78%|███████▊  | 78/100 [04:21<01:12,  3.31s/epoch]"
     ]
    },
    {
     "name": "stdout",
     "output_type": "stream",
     "text": [
      "Epoch 78/100, Cross Entropy: 1.1232067740409426\n"
     ]
    },
    {
     "name": "stderr",
     "output_type": "stream",
     "text": [
      "Training:  79%|███████▉  | 79/100 [04:25<01:10,  3.35s/epoch]"
     ]
    },
    {
     "name": "stdout",
     "output_type": "stream",
     "text": [
      "Epoch 79/100, Cross Entropy: 1.117665790782189\n"
     ]
    },
    {
     "name": "stderr",
     "output_type": "stream",
     "text": [
      "Training:  80%|████████  | 80/100 [04:28<01:08,  3.41s/epoch]"
     ]
    },
    {
     "name": "stdout",
     "output_type": "stream",
     "text": [
      "Epoch 80/100, Cross Entropy: 1.1163002257140593\n"
     ]
    },
    {
     "name": "stderr",
     "output_type": "stream",
     "text": [
      "Training:  81%|████████  | 81/100 [04:32<01:05,  3.44s/epoch]"
     ]
    },
    {
     "name": "stdout",
     "output_type": "stream",
     "text": [
      "Epoch 81/100, Cross Entropy: 1.1202168973668631\n"
     ]
    },
    {
     "name": "stderr",
     "output_type": "stream",
     "text": [
      "Training:  82%|████████▏ | 82/100 [04:36<01:02,  3.49s/epoch]"
     ]
    },
    {
     "name": "stdout",
     "output_type": "stream",
     "text": [
      "Epoch 82/100, Cross Entropy: 1.1224551688377464\n"
     ]
    },
    {
     "name": "stderr",
     "output_type": "stream",
     "text": [
      "Training:  83%|████████▎ | 83/100 [04:39<00:59,  3.50s/epoch]"
     ]
    },
    {
     "name": "stdout",
     "output_type": "stream",
     "text": [
      "Epoch 83/100, Cross Entropy: 1.1125767202904846\n"
     ]
    },
    {
     "name": "stderr",
     "output_type": "stream",
     "text": [
      "Training:  84%|████████▍ | 84/100 [04:43<00:55,  3.48s/epoch]"
     ]
    },
    {
     "name": "stdout",
     "output_type": "stream",
     "text": [
      "Epoch 84/100, Cross Entropy: 1.115952428920982\n"
     ]
    },
    {
     "name": "stderr",
     "output_type": "stream",
     "text": [
      "Training:  85%|████████▌ | 85/100 [04:46<00:51,  3.41s/epoch]"
     ]
    },
    {
     "name": "stdout",
     "output_type": "stream",
     "text": [
      "Epoch 85/100, Cross Entropy: 1.1178196981712243\n"
     ]
    },
    {
     "name": "stderr",
     "output_type": "stream",
     "text": [
      "Training:  86%|████████▌ | 86/100 [04:49<00:46,  3.36s/epoch]"
     ]
    },
    {
     "name": "stdout",
     "output_type": "stream",
     "text": [
      "Epoch 86/100, Cross Entropy: 1.1139932138009017\n"
     ]
    },
    {
     "name": "stderr",
     "output_type": "stream",
     "text": [
      "Training:  87%|████████▋ | 87/100 [04:52<00:43,  3.35s/epoch]"
     ]
    },
    {
     "name": "stdout",
     "output_type": "stream",
     "text": [
      "Epoch 87/100, Cross Entropy: 1.1112717351575498\n"
     ]
    },
    {
     "name": "stderr",
     "output_type": "stream",
     "text": [
      "Training:  88%|████████▊ | 88/100 [04:56<00:40,  3.35s/epoch]"
     ]
    },
    {
     "name": "stdout",
     "output_type": "stream",
     "text": [
      "Epoch 88/100, Cross Entropy: 1.1202030006908903\n"
     ]
    },
    {
     "name": "stderr",
     "output_type": "stream",
     "text": [
      "Training:  89%|████████▉ | 89/100 [04:59<00:36,  3.35s/epoch]"
     ]
    },
    {
     "name": "stdout",
     "output_type": "stream",
     "text": [
      "Epoch 89/100, Cross Entropy: 1.1185074744944712\n"
     ]
    },
    {
     "name": "stderr",
     "output_type": "stream",
     "text": [
      "Training:  90%|█████████ | 90/100 [05:02<00:32,  3.29s/epoch]"
     ]
    },
    {
     "name": "stdout",
     "output_type": "stream",
     "text": [
      "Epoch 90/100, Cross Entropy: 1.1233901655816767\n"
     ]
    },
    {
     "name": "stderr",
     "output_type": "stream",
     "text": [
      "Training:  91%|█████████ | 91/100 [05:06<00:29,  3.31s/epoch]"
     ]
    },
    {
     "name": "stdout",
     "output_type": "stream",
     "text": [
      "Epoch 91/100, Cross Entropy: 1.1137203363482049\n"
     ]
    },
    {
     "name": "stderr",
     "output_type": "stream",
     "text": [
      "Training:  92%|█████████▏| 92/100 [05:09<00:26,  3.26s/epoch]"
     ]
    },
    {
     "name": "stdout",
     "output_type": "stream",
     "text": [
      "Epoch 92/100, Cross Entropy: 1.1113301075254278\n"
     ]
    },
    {
     "name": "stderr",
     "output_type": "stream",
     "text": [
      "Training:  93%|█████████▎| 93/100 [05:12<00:22,  3.26s/epoch]"
     ]
    },
    {
     "name": "stdout",
     "output_type": "stream",
     "text": [
      "Epoch 93/100, Cross Entropy: 1.117259254604408\n"
     ]
    },
    {
     "name": "stderr",
     "output_type": "stream",
     "text": [
      "Training:  94%|█████████▍| 94/100 [05:15<00:19,  3.27s/epoch]"
     ]
    },
    {
     "name": "stdout",
     "output_type": "stream",
     "text": [
      "Epoch 94/100, Cross Entropy: 1.1174313253433954\n"
     ]
    },
    {
     "name": "stderr",
     "output_type": "stream",
     "text": [
      "Training:  95%|█████████▌| 95/100 [05:18<00:16,  3.23s/epoch]"
     ]
    },
    {
     "name": "stdout",
     "output_type": "stream",
     "text": [
      "Epoch 95/100, Cross Entropy: 1.1182719344096763\n"
     ]
    },
    {
     "name": "stderr",
     "output_type": "stream",
     "text": [
      "Training:  96%|█████████▌| 96/100 [05:22<00:12,  3.21s/epoch]"
     ]
    },
    {
     "name": "stdout",
     "output_type": "stream",
     "text": [
      "Epoch 96/100, Cross Entropy: 1.122635099138483\n"
     ]
    },
    {
     "name": "stderr",
     "output_type": "stream",
     "text": [
      "Training:  97%|█████████▋| 97/100 [05:25<00:09,  3.19s/epoch]"
     ]
    },
    {
     "name": "stdout",
     "output_type": "stream",
     "text": [
      "Epoch 97/100, Cross Entropy: 1.115106887691493\n"
     ]
    },
    {
     "name": "stderr",
     "output_type": "stream",
     "text": [
      "Training:  98%|█████████▊| 98/100 [05:28<00:06,  3.20s/epoch]"
     ]
    },
    {
     "name": "stdout",
     "output_type": "stream",
     "text": [
      "Epoch 98/100, Cross Entropy: 1.1183665825672986\n"
     ]
    },
    {
     "name": "stderr",
     "output_type": "stream",
     "text": [
      "Training:  99%|█████████▉| 99/100 [05:31<00:03,  3.13s/epoch]"
     ]
    },
    {
     "name": "stdout",
     "output_type": "stream",
     "text": [
      "Epoch 99/100, Cross Entropy: 1.1146287591666846\n"
     ]
    },
    {
     "name": "stderr",
     "output_type": "stream",
     "text": [
      "Training: 100%|██████████| 100/100 [05:34<00:00,  3.34s/epoch]\n"
     ]
    },
    {
     "name": "stdout",
     "output_type": "stream",
     "text": [
      "Epoch 100/100, Cross Entropy: 1.1159461350066078\n"
     ]
    },
    {
     "name": "stderr",
     "output_type": "stream",
     "text": [
      "Training:   1%|          | 1/100 [00:04<07:26,  4.51s/epoch]"
     ]
    },
    {
     "name": "stdout",
     "output_type": "stream",
     "text": [
      "Epoch 1/100, Cross Entropy: 2.392917777888298\n"
     ]
    },
    {
     "name": "stderr",
     "output_type": "stream",
     "text": [
      "Training:   2%|▏         | 2/100 [00:09<07:55,  4.85s/epoch]"
     ]
    },
    {
     "name": "stdout",
     "output_type": "stream",
     "text": [
      "Epoch 2/100, Cross Entropy: 2.2114637105292756\n"
     ]
    },
    {
     "name": "stderr",
     "output_type": "stream",
     "text": [
      "Training:   3%|▎         | 3/100 [00:14<07:50,  4.85s/epoch]"
     ]
    },
    {
     "name": "stdout",
     "output_type": "stream",
     "text": [
      "Epoch 3/100, Cross Entropy: 2.1438502810424156\n"
     ]
    },
    {
     "name": "stderr",
     "output_type": "stream",
     "text": [
      "Training:   4%|▍         | 4/100 [00:19<07:49,  4.89s/epoch]"
     ]
    },
    {
     "name": "stdout",
     "output_type": "stream",
     "text": [
      "Epoch 4/100, Cross Entropy: 2.108366821411852\n"
     ]
    },
    {
     "name": "stderr",
     "output_type": "stream",
     "text": [
      "Training:   5%|▌         | 5/100 [00:24<07:47,  4.92s/epoch]"
     ]
    },
    {
     "name": "stdout",
     "output_type": "stream",
     "text": [
      "Epoch 5/100, Cross Entropy: 2.094224263364985\n"
     ]
    },
    {
     "name": "stderr",
     "output_type": "stream",
     "text": [
      "Training:   6%|▌         | 6/100 [00:29<07:52,  5.03s/epoch]"
     ]
    },
    {
     "name": "stdout",
     "output_type": "stream",
     "text": [
      "Epoch 6/100, Cross Entropy: 2.091301714436028\n"
     ]
    },
    {
     "name": "stderr",
     "output_type": "stream",
     "text": [
      "Training:   7%|▋         | 7/100 [00:34<07:55,  5.11s/epoch]"
     ]
    },
    {
     "name": "stdout",
     "output_type": "stream",
     "text": [
      "Epoch 7/100, Cross Entropy: 2.0861923483398326\n"
     ]
    },
    {
     "name": "stderr",
     "output_type": "stream",
     "text": [
      "Training:   8%|▊         | 8/100 [00:40<07:50,  5.12s/epoch]"
     ]
    },
    {
     "name": "stdout",
     "output_type": "stream",
     "text": [
      "Epoch 8/100, Cross Entropy: 2.085387004591194\n"
     ]
    },
    {
     "name": "stderr",
     "output_type": "stream",
     "text": [
      "Training:   9%|▉         | 9/100 [00:44<07:37,  5.03s/epoch]"
     ]
    },
    {
     "name": "stdout",
     "output_type": "stream",
     "text": [
      "Epoch 9/100, Cross Entropy: 2.0829823925254307\n"
     ]
    },
    {
     "name": "stderr",
     "output_type": "stream",
     "text": [
      "Training:  10%|█         | 10/100 [00:49<07:32,  5.03s/epoch]"
     ]
    },
    {
     "name": "stdout",
     "output_type": "stream",
     "text": [
      "Epoch 10/100, Cross Entropy: 2.086827593093157\n"
     ]
    },
    {
     "name": "stderr",
     "output_type": "stream",
     "text": [
      "Training:  11%|█         | 11/100 [00:55<07:29,  5.06s/epoch]"
     ]
    },
    {
     "name": "stdout",
     "output_type": "stream",
     "text": [
      "Epoch 11/100, Cross Entropy: 2.086338196262045\n"
     ]
    },
    {
     "name": "stderr",
     "output_type": "stream",
     "text": [
      "Training:  12%|█▏        | 12/100 [01:00<07:29,  5.11s/epoch]"
     ]
    },
    {
     "name": "stdout",
     "output_type": "stream",
     "text": [
      "Epoch 12/100, Cross Entropy: 2.083607971387996\n"
     ]
    },
    {
     "name": "stderr",
     "output_type": "stream",
     "text": [
      "Training:  13%|█▎        | 13/100 [01:04<07:14,  5.00s/epoch]"
     ]
    },
    {
     "name": "stdout",
     "output_type": "stream",
     "text": [
      "Epoch 13/100, Cross Entropy: 2.0851414418971603\n"
     ]
    },
    {
     "name": "stderr",
     "output_type": "stream",
     "text": [
      "Training:  14%|█▍        | 14/100 [01:09<07:08,  4.98s/epoch]"
     ]
    },
    {
     "name": "stdout",
     "output_type": "stream",
     "text": [
      "Epoch 14/100, Cross Entropy: 2.082415352323276\n"
     ]
    },
    {
     "name": "stderr",
     "output_type": "stream",
     "text": [
      "Training:  15%|█▌        | 15/100 [01:14<07:03,  4.98s/epoch]"
     ]
    },
    {
     "name": "stdout",
     "output_type": "stream",
     "text": [
      "Epoch 15/100, Cross Entropy: 2.0806942608894303\n"
     ]
    },
    {
     "name": "stderr",
     "output_type": "stream",
     "text": [
      "Training:  16%|█▌        | 16/100 [01:19<07:01,  5.02s/epoch]"
     ]
    },
    {
     "name": "stdout",
     "output_type": "stream",
     "text": [
      "Epoch 16/100, Cross Entropy: 2.08745045252577\n"
     ]
    },
    {
     "name": "stderr",
     "output_type": "stream",
     "text": [
      "Training:  17%|█▋        | 17/100 [01:25<06:56,  5.02s/epoch]"
     ]
    },
    {
     "name": "stdout",
     "output_type": "stream",
     "text": [
      "Epoch 17/100, Cross Entropy: 2.0827416299694224\n"
     ]
    },
    {
     "name": "stderr",
     "output_type": "stream",
     "text": [
      "Training:  18%|█▊        | 18/100 [01:29<06:46,  4.96s/epoch]"
     ]
    },
    {
     "name": "stdout",
     "output_type": "stream",
     "text": [
      "Epoch 18/100, Cross Entropy: 2.082396483633067\n"
     ]
    },
    {
     "name": "stderr",
     "output_type": "stream",
     "text": [
      "Training:  19%|█▉        | 19/100 [01:34<06:39,  4.93s/epoch]"
     ]
    },
    {
     "name": "stdout",
     "output_type": "stream",
     "text": [
      "Epoch 19/100, Cross Entropy: 2.0837345093688158\n"
     ]
    },
    {
     "name": "stderr",
     "output_type": "stream",
     "text": [
      "Training:  20%|██        | 20/100 [01:39<06:31,  4.90s/epoch]"
     ]
    },
    {
     "name": "stdout",
     "output_type": "stream",
     "text": [
      "Epoch 20/100, Cross Entropy: 2.0831683631980753\n"
     ]
    },
    {
     "name": "stderr",
     "output_type": "stream",
     "text": [
      "Training:  21%|██        | 21/100 [01:44<06:19,  4.80s/epoch]"
     ]
    },
    {
     "name": "stdout",
     "output_type": "stream",
     "text": [
      "Epoch 21/100, Cross Entropy: 2.0840172298841337\n"
     ]
    },
    {
     "name": "stderr",
     "output_type": "stream",
     "text": [
      "Training:  22%|██▏       | 22/100 [01:48<06:09,  4.74s/epoch]"
     ]
    },
    {
     "name": "stdout",
     "output_type": "stream",
     "text": [
      "Epoch 22/100, Cross Entropy: 2.0830731684052592\n"
     ]
    },
    {
     "name": "stderr",
     "output_type": "stream",
     "text": [
      "Training:  23%|██▎       | 23/100 [01:53<06:07,  4.77s/epoch]"
     ]
    },
    {
     "name": "stdout",
     "output_type": "stream",
     "text": [
      "Epoch 23/100, Cross Entropy: 2.0857772351931994\n"
     ]
    },
    {
     "name": "stderr",
     "output_type": "stream",
     "text": [
      "Training:  24%|██▍       | 24/100 [01:58<06:02,  4.77s/epoch]"
     ]
    },
    {
     "name": "stdout",
     "output_type": "stream",
     "text": [
      "Epoch 24/100, Cross Entropy: 2.086716481510962\n"
     ]
    },
    {
     "name": "stderr",
     "output_type": "stream",
     "text": [
      "Training:  25%|██▌       | 25/100 [02:03<05:58,  4.78s/epoch]"
     ]
    },
    {
     "name": "stdout",
     "output_type": "stream",
     "text": [
      "Epoch 25/100, Cross Entropy: 2.0804112968293658\n"
     ]
    },
    {
     "name": "stderr",
     "output_type": "stream",
     "text": [
      "Training:  26%|██▌       | 26/100 [02:08<06:00,  4.87s/epoch]"
     ]
    },
    {
     "name": "stdout",
     "output_type": "stream",
     "text": [
      "Epoch 26/100, Cross Entropy: 2.083130428683545\n"
     ]
    },
    {
     "name": "stderr",
     "output_type": "stream",
     "text": [
      "Training:  27%|██▋       | 27/100 [02:13<05:58,  4.91s/epoch]"
     ]
    },
    {
     "name": "stdout",
     "output_type": "stream",
     "text": [
      "Epoch 27/100, Cross Entropy: 2.0858087463981723\n"
     ]
    },
    {
     "name": "stderr",
     "output_type": "stream",
     "text": [
      "Training:  28%|██▊       | 28/100 [02:18<05:51,  4.89s/epoch]"
     ]
    },
    {
     "name": "stdout",
     "output_type": "stream",
     "text": [
      "Epoch 28/100, Cross Entropy: 2.081437219754673\n"
     ]
    },
    {
     "name": "stderr",
     "output_type": "stream",
     "text": [
      "Training:  29%|██▉       | 29/100 [02:22<05:45,  4.87s/epoch]"
     ]
    },
    {
     "name": "stdout",
     "output_type": "stream",
     "text": [
      "Epoch 29/100, Cross Entropy: 2.0820190606469757\n"
     ]
    },
    {
     "name": "stderr",
     "output_type": "stream",
     "text": [
      "Training:  30%|███       | 30/100 [02:27<05:42,  4.89s/epoch]"
     ]
    },
    {
     "name": "stdout",
     "output_type": "stream",
     "text": [
      "Epoch 30/100, Cross Entropy: 2.0844971289398297\n"
     ]
    },
    {
     "name": "stderr",
     "output_type": "stream",
     "text": [
      "Training:  31%|███       | 31/100 [02:32<05:33,  4.83s/epoch]"
     ]
    },
    {
     "name": "stdout",
     "output_type": "stream",
     "text": [
      "Epoch 31/100, Cross Entropy: 2.084426154949836\n"
     ]
    },
    {
     "name": "stderr",
     "output_type": "stream",
     "text": [
      "Training:  32%|███▏      | 32/100 [02:37<05:24,  4.77s/epoch]"
     ]
    },
    {
     "name": "stdout",
     "output_type": "stream",
     "text": [
      "Epoch 32/100, Cross Entropy: 2.089230309960596\n"
     ]
    },
    {
     "name": "stderr",
     "output_type": "stream",
     "text": [
      "Training:  33%|███▎      | 33/100 [02:41<05:14,  4.69s/epoch]"
     ]
    },
    {
     "name": "stdout",
     "output_type": "stream",
     "text": [
      "Epoch 33/100, Cross Entropy: 2.082577126122465\n"
     ]
    },
    {
     "name": "stderr",
     "output_type": "stream",
     "text": [
      "Training:  34%|███▍      | 34/100 [02:46<05:06,  4.65s/epoch]"
     ]
    },
    {
     "name": "stdout",
     "output_type": "stream",
     "text": [
      "Epoch 34/100, Cross Entropy: 2.0857082725883247\n"
     ]
    },
    {
     "name": "stderr",
     "output_type": "stream",
     "text": [
      "Training:  35%|███▌      | 35/100 [02:50<05:01,  4.65s/epoch]"
     ]
    },
    {
     "name": "stdout",
     "output_type": "stream",
     "text": [
      "Epoch 35/100, Cross Entropy: 2.0880667053977118\n"
     ]
    },
    {
     "name": "stderr",
     "output_type": "stream",
     "text": [
      "Training:  36%|███▌      | 36/100 [02:55<04:59,  4.68s/epoch]"
     ]
    },
    {
     "name": "stdout",
     "output_type": "stream",
     "text": [
      "Epoch 36/100, Cross Entropy: 2.0827623331673717\n"
     ]
    },
    {
     "name": "stderr",
     "output_type": "stream",
     "text": [
      "Training:  37%|███▋      | 37/100 [03:00<04:51,  4.62s/epoch]"
     ]
    },
    {
     "name": "stdout",
     "output_type": "stream",
     "text": [
      "Epoch 37/100, Cross Entropy: 2.087157748770621\n"
     ]
    },
    {
     "name": "stderr",
     "output_type": "stream",
     "text": [
      "Training:  38%|███▊      | 38/100 [03:04<04:48,  4.66s/epoch]"
     ]
    },
    {
     "name": "stdout",
     "output_type": "stream",
     "text": [
      "Epoch 38/100, Cross Entropy: 2.08306064100924\n"
     ]
    },
    {
     "name": "stderr",
     "output_type": "stream",
     "text": [
      "Training:  39%|███▉      | 39/100 [03:09<04:48,  4.72s/epoch]"
     ]
    },
    {
     "name": "stdout",
     "output_type": "stream",
     "text": [
      "Epoch 39/100, Cross Entropy: 2.085303217760576\n"
     ]
    },
    {
     "name": "stderr",
     "output_type": "stream",
     "text": [
      "Training:  40%|████      | 40/100 [03:14<04:44,  4.74s/epoch]"
     ]
    },
    {
     "name": "stdout",
     "output_type": "stream",
     "text": [
      "Epoch 40/100, Cross Entropy: 2.0816072110744037\n"
     ]
    },
    {
     "name": "stderr",
     "output_type": "stream",
     "text": [
      "Training:  41%|████      | 41/100 [03:19<04:45,  4.83s/epoch]"
     ]
    },
    {
     "name": "stdout",
     "output_type": "stream",
     "text": [
      "Epoch 41/100, Cross Entropy: 2.0837876371987996\n"
     ]
    },
    {
     "name": "stderr",
     "output_type": "stream",
     "text": [
      "Training:  42%|████▏     | 42/100 [03:24<04:45,  4.93s/epoch]"
     ]
    },
    {
     "name": "stdout",
     "output_type": "stream",
     "text": [
      "Epoch 42/100, Cross Entropy: 2.080972503438467\n"
     ]
    },
    {
     "name": "stderr",
     "output_type": "stream",
     "text": [
      "Training:  43%|████▎     | 43/100 [03:29<04:41,  4.95s/epoch]"
     ]
    },
    {
     "name": "stdout",
     "output_type": "stream",
     "text": [
      "Epoch 43/100, Cross Entropy: 2.081724225043244\n"
     ]
    },
    {
     "name": "stderr",
     "output_type": "stream",
     "text": [
      "Training:  44%|████▍     | 44/100 [03:34<04:41,  5.03s/epoch]"
     ]
    },
    {
     "name": "stdout",
     "output_type": "stream",
     "text": [
      "Epoch 44/100, Cross Entropy: 2.0844456535849503\n"
     ]
    },
    {
     "name": "stderr",
     "output_type": "stream",
     "text": [
      "Training:  45%|████▌     | 45/100 [03:39<04:32,  4.96s/epoch]"
     ]
    },
    {
     "name": "stdout",
     "output_type": "stream",
     "text": [
      "Epoch 45/100, Cross Entropy: 2.0863989125985163\n"
     ]
    },
    {
     "name": "stderr",
     "output_type": "stream",
     "text": [
      "Training:  46%|████▌     | 46/100 [03:44<04:29,  4.98s/epoch]"
     ]
    },
    {
     "name": "stdout",
     "output_type": "stream",
     "text": [
      "Epoch 46/100, Cross Entropy: 2.081819066475589\n"
     ]
    },
    {
     "name": "stderr",
     "output_type": "stream",
     "text": [
      "Training:  47%|████▋     | 47/100 [03:49<04:21,  4.93s/epoch]"
     ]
    },
    {
     "name": "stdout",
     "output_type": "stream",
     "text": [
      "Epoch 47/100, Cross Entropy: 2.0818250173105333\n"
     ]
    }
   ],
   "source": [
    "n_samples, n_visible = mnist_train.shape # n_samples, n_features\n",
    "n_classes = mnist_test_labels.shape[1]\n",
    "\n",
    "layer_loss = []\n",
    "layer_error_rate_train = []\n",
    "layer_error_rate_test = []\n",
    "for n_layers in [1, 2, 3, 4, 5]:\n",
    "    hidden_layer_sizes = [256] * n_layers\n",
    "    dnn = DNN(input_dim=n_visible, output_dim=n_classes, hidden_layer_sizes=hidden_layer_sizes, random_state=42)\n",
    "    loss = dnn.backpropagation(binary_mnist_train, labels=mnist_train_labels, n_epochs=100, learning_rate=3e-4, batch_size=512)\n",
    "    layer_loss.append(loss)\n",
    "    \n",
    "    error_rate_train, _ = dnn.test(test_data=binary_mnist_train, true_labels=mnist_train_labels)\n",
    "    layer_error_rate_train.append(error_rate_train)  # Assurez-vous que error_rate_train est un scalaire\n",
    "\n",
    "    error_rate_test, _ = dnn.test(test_data=binary_mnist_test, true_labels=mnist_test_labels)\n",
    "    layer_error_rate_test.append(error_rate_test)  # Assurez-vous que error_rate_test est un scalaire\n",
    "\n",
    "    # Save the lists with losses and error rates\n",
    "    save_object(layer_loss, \"layer_loss_\" + str(n_layers) + \".pkl\", output_dir=\"../results/experiments_mnist\")\n",
    "    save_object(layer_error_rate_train, \"layer_error_rate_train_\" + str(n_layers) + \".pkl\",output_dir=\"../results/experiments_mnist\")\n",
    "    save_object(layer_error_rate_test, \"layer_error_rate_test_\" + str(n_layers) + \".pkl\",output_dir=\"../results/experiments_mnist\")\n"
   ]
  },
  {
   "cell_type": "code",
   "execution_count": 35,
   "metadata": {},
   "outputs": [],
   "source": [
    "a,b = dnn.test(mnist_test,mnist_test_labels)"
   ]
  },
  {
   "cell_type": "code",
   "execution_count": 36,
   "metadata": {},
   "outputs": [
    {
     "data": {
      "text/plain": [
       "array([[0., 0., 0., ..., 1., 0., 0.],\n",
       "       [0., 0., 0., ..., 1., 0., 0.],\n",
       "       [0., 0., 0., ..., 1., 0., 0.],\n",
       "       ...,\n",
       "       [0., 0., 0., ..., 1., 0., 0.],\n",
       "       [0., 0., 0., ..., 1., 0., 0.],\n",
       "       [0., 0., 0., ..., 1., 0., 0.]])"
      ]
     },
     "execution_count": 36,
     "metadata": {},
     "output_type": "execute_result"
    }
   ],
   "source": [
    "b"
   ]
  },
  {
   "cell_type": "code",
   "execution_count": 19,
   "metadata": {},
   "outputs": [
    {
     "data": {
      "image/png": "[encoded data removed]",
      "text/plain": [
       "<Figure size 1000x600 with 1 Axes>"
      ]
     },
     "metadata": {},
     "output_type": "display_data"
    }
   ],
   "source": [
    "import matplotlib.pyplot as plt\n",
    "\n",
    "# Load the error rates for each number of layers\n",
    "num_layers = [1, 2, 3, 4, 5]\n",
    "train_error_rates = []\n",
    "test_error_rates = []\n",
    "\n",
    "for n_layers in num_layers:\n",
    "    train_error_rate_layer = load_object(\"layer_error_rate_train_\" + str(n_layers) + \".pkl\",\"../results/experiments_mnist\")\n",
    "    test_error_rate_layer = load_object(\"layer_error_rate_test_\" + str(n_layers) + \".pkl\",\"../results/experiments_mnist\")\n",
    "    \n",
    "# Plotting the error rates\n",
    "plt.figure(figsize=(10, 6))\n",
    "plt.plot(num_layers, train_error_rate_layer, label='Training Error Rate', marker='o')\n",
    "plt.plot(num_layers, test_error_rate_layer, label='Test Error Rate', marker='o')\n",
    "\n",
    "plt.xlabel('Number of Layers')\n",
    "plt.ylabel('Error Rate')\n",
    "plt.title('Error Rate vs. Number of Layers')\n",
    "plt.legend()\n",
    "plt.grid(True)\n",
    "plt.show()\n"
   ]
  },
  {
   "cell_type": "markdown",
   "metadata": {},
   "source": [
    "## 1.2. With pretraining"
   ]
  },
  {
   "cell_type": "code",
   "execution_count": 38,
   "metadata": {},
   "outputs": [
    {
     "name": "stderr",
     "output_type": "stream",
     "text": [
      "Training RBM layers: 100%|██████████| 1/1 [00:54<00:00, 54.65s/layer]\n",
      "Training:  10%|█         | 1/10 [00:01<00:16,  1.85s/epoch]"
     ]
    },
    {
     "name": "stdout",
     "output_type": "stream",
     "text": [
      "Epoch 1/10, Cross Entropy: 0.8996979715742415\n"
     ]
    },
    {
     "name": "stderr",
     "output_type": "stream",
     "text": [
      "Training:  20%|██        | 2/10 [00:03<00:15,  1.90s/epoch]"
     ]
    },
    {
     "name": "stdout",
     "output_type": "stream",
     "text": [
      "Epoch 2/10, Cross Entropy: 0.48527957869559246\n"
     ]
    },
    {
     "name": "stderr",
     "output_type": "stream",
     "text": [
      "Training:  30%|███       | 3/10 [00:05<00:13,  1.94s/epoch]"
     ]
    },
    {
     "name": "stdout",
     "output_type": "stream",
     "text": [
      "Epoch 3/10, Cross Entropy: 0.42390226865752856\n"
     ]
    },
    {
     "name": "stderr",
     "output_type": "stream",
     "text": [
      "Training:  40%|████      | 4/10 [00:07<00:11,  1.96s/epoch]"
     ]
    },
    {
     "name": "stdout",
     "output_type": "stream",
     "text": [
      "Epoch 4/10, Cross Entropy: 0.3961222321730684\n"
     ]
    },
    {
     "name": "stderr",
     "output_type": "stream",
     "text": [
      "Training:  50%|█████     | 5/10 [00:09<00:10,  2.01s/epoch]"
     ]
    },
    {
     "name": "stdout",
     "output_type": "stream",
     "text": [
      "Epoch 5/10, Cross Entropy: 0.37709963405282226\n"
     ]
    },
    {
     "name": "stderr",
     "output_type": "stream",
     "text": [
      "Training:  60%|██████    | 6/10 [00:11<00:08,  2.00s/epoch]"
     ]
    },
    {
     "name": "stdout",
     "output_type": "stream",
     "text": [
      "Epoch 6/10, Cross Entropy: 0.36399149947840953\n"
     ]
    },
    {
     "name": "stderr",
     "output_type": "stream",
     "text": [
      "Training:  70%|███████   | 7/10 [00:13<00:05,  1.98s/epoch]"
     ]
    },
    {
     "name": "stdout",
     "output_type": "stream",
     "text": [
      "Epoch 7/10, Cross Entropy: 0.35414625043590553\n"
     ]
    },
    {
     "name": "stderr",
     "output_type": "stream",
     "text": [
      "Training:  80%|████████  | 8/10 [00:15<00:03,  1.98s/epoch]"
     ]
    },
    {
     "name": "stdout",
     "output_type": "stream",
     "text": [
      "Epoch 8/10, Cross Entropy: 0.34725681231602895\n"
     ]
    },
    {
     "name": "stderr",
     "output_type": "stream",
     "text": [
      "Training:  90%|█████████ | 9/10 [00:17<00:01,  1.99s/epoch]"
     ]
    },
    {
     "name": "stdout",
     "output_type": "stream",
     "text": [
      "Epoch 9/10, Cross Entropy: 0.3423693295663131\n"
     ]
    },
    {
     "name": "stderr",
     "output_type": "stream",
     "text": [
      "Training: 100%|██████████| 10/10 [00:19<00:00,  1.97s/epoch]\n"
     ]
    },
    {
     "name": "stdout",
     "output_type": "stream",
     "text": [
      "Epoch 10/10, Cross Entropy: 0.336632307994012\n"
     ]
    },
    {
     "name": "stderr",
     "output_type": "stream",
     "text": [
      "Training RBM layers: 100%|██████████| 2/2 [01:19<00:00, 39.83s/layer]\n",
      "Training:  10%|█         | 1/10 [00:02<00:24,  2.67s/epoch]"
     ]
    },
    {
     "name": "stdout",
     "output_type": "stream",
     "text": [
      "Epoch 1/10, Cross Entropy: 0.8772214460175016\n"
     ]
    },
    {
     "name": "stderr",
     "output_type": "stream",
     "text": [
      "Training:  20%|██        | 2/10 [00:05<00:21,  2.67s/epoch]"
     ]
    },
    {
     "name": "stdout",
     "output_type": "stream",
     "text": [
      "Epoch 2/10, Cross Entropy: 0.5243530106954507\n"
     ]
    },
    {
     "name": "stderr",
     "output_type": "stream",
     "text": [
      "Training:  30%|███       | 3/10 [00:07<00:18,  2.65s/epoch]"
     ]
    },
    {
     "name": "stdout",
     "output_type": "stream",
     "text": [
      "Epoch 3/10, Cross Entropy: 0.4710981109955882\n"
     ]
    },
    {
     "name": "stderr",
     "output_type": "stream",
     "text": [
      "Training:  40%|████      | 4/10 [00:10<00:15,  2.65s/epoch]"
     ]
    },
    {
     "name": "stdout",
     "output_type": "stream",
     "text": [
      "Epoch 4/10, Cross Entropy: 0.44509033307132284\n"
     ]
    },
    {
     "name": "stderr",
     "output_type": "stream",
     "text": [
      "Training:  50%|█████     | 5/10 [00:13<00:13,  2.65s/epoch]"
     ]
    },
    {
     "name": "stdout",
     "output_type": "stream",
     "text": [
      "Epoch 5/10, Cross Entropy: 0.4308405808627851\n"
     ]
    },
    {
     "name": "stderr",
     "output_type": "stream",
     "text": [
      "Training:  60%|██████    | 6/10 [00:15<00:10,  2.66s/epoch]"
     ]
    },
    {
     "name": "stdout",
     "output_type": "stream",
     "text": [
      "Epoch 6/10, Cross Entropy: 0.4192357373497189\n"
     ]
    },
    {
     "name": "stderr",
     "output_type": "stream",
     "text": [
      "Training:  70%|███████   | 7/10 [00:18<00:08,  2.68s/epoch]"
     ]
    },
    {
     "name": "stdout",
     "output_type": "stream",
     "text": [
      "Epoch 7/10, Cross Entropy: 0.4111889973269151\n"
     ]
    },
    {
     "name": "stderr",
     "output_type": "stream",
     "text": [
      "Training:  80%|████████  | 8/10 [00:21<00:05,  2.66s/epoch]"
     ]
    },
    {
     "name": "stdout",
     "output_type": "stream",
     "text": [
      "Epoch 8/10, Cross Entropy: 0.4063615499146549\n"
     ]
    },
    {
     "name": "stderr",
     "output_type": "stream",
     "text": [
      "Training:  90%|█████████ | 9/10 [00:23<00:02,  2.66s/epoch]"
     ]
    },
    {
     "name": "stdout",
     "output_type": "stream",
     "text": [
      "Epoch 9/10, Cross Entropy: 0.4020119168730995\n"
     ]
    },
    {
     "name": "stderr",
     "output_type": "stream",
     "text": [
      "Training: 100%|██████████| 10/10 [00:26<00:00,  2.66s/epoch]\n"
     ]
    },
    {
     "name": "stdout",
     "output_type": "stream",
     "text": [
      "Epoch 10/10, Cross Entropy: 0.39691786509293847\n"
     ]
    },
    {
     "name": "stderr",
     "output_type": "stream",
     "text": [
      "Training RBM layers: 100%|██████████| 3/3 [01:43<00:00, 34.65s/layer]\n",
      "Training:  10%|█         | 1/10 [00:03<00:29,  3.32s/epoch]"
     ]
    },
    {
     "name": "stdout",
     "output_type": "stream",
     "text": [
      "Epoch 1/10, Cross Entropy: 0.9257598644102446\n"
     ]
    },
    {
     "name": "stderr",
     "output_type": "stream",
     "text": [
      "Training:  20%|██        | 2/10 [00:06<00:26,  3.35s/epoch]"
     ]
    },
    {
     "name": "stdout",
     "output_type": "stream",
     "text": [
      "Epoch 2/10, Cross Entropy: 0.5572708822339725\n"
     ]
    },
    {
     "name": "stderr",
     "output_type": "stream",
     "text": [
      "Training:  30%|███       | 3/10 [00:10<00:23,  3.34s/epoch]"
     ]
    },
    {
     "name": "stdout",
     "output_type": "stream",
     "text": [
      "Epoch 3/10, Cross Entropy: 0.507145797558574\n"
     ]
    },
    {
     "name": "stderr",
     "output_type": "stream",
     "text": [
      "Training:  40%|████      | 4/10 [00:13<00:20,  3.37s/epoch]"
     ]
    },
    {
     "name": "stdout",
     "output_type": "stream",
     "text": [
      "Epoch 4/10, Cross Entropy: 0.48832218318093434\n"
     ]
    },
    {
     "name": "stderr",
     "output_type": "stream",
     "text": [
      "Training:  50%|█████     | 5/10 [00:16<00:16,  3.36s/epoch]"
     ]
    },
    {
     "name": "stdout",
     "output_type": "stream",
     "text": [
      "Epoch 5/10, Cross Entropy: 0.4719037612587107\n"
     ]
    },
    {
     "name": "stderr",
     "output_type": "stream",
     "text": [
      "Training:  60%|██████    | 6/10 [00:20<00:13,  3.36s/epoch]"
     ]
    },
    {
     "name": "stdout",
     "output_type": "stream",
     "text": [
      "Epoch 6/10, Cross Entropy: 0.46553016286893156\n"
     ]
    },
    {
     "name": "stderr",
     "output_type": "stream",
     "text": [
      "Training:  70%|███████   | 7/10 [00:23<00:10,  3.35s/epoch]"
     ]
    },
    {
     "name": "stdout",
     "output_type": "stream",
     "text": [
      "Epoch 7/10, Cross Entropy: 0.45666163431663\n"
     ]
    },
    {
     "name": "stderr",
     "output_type": "stream",
     "text": [
      "Training:  80%|████████  | 8/10 [00:26<00:06,  3.38s/epoch]"
     ]
    },
    {
     "name": "stdout",
     "output_type": "stream",
     "text": [
      "Epoch 8/10, Cross Entropy: 0.45154204175731266\n"
     ]
    },
    {
     "name": "stderr",
     "output_type": "stream",
     "text": [
      "Training:  90%|█████████ | 9/10 [00:30<00:03,  3.35s/epoch]"
     ]
    },
    {
     "name": "stdout",
     "output_type": "stream",
     "text": [
      "Epoch 9/10, Cross Entropy: 0.4497041537729812\n"
     ]
    },
    {
     "name": "stderr",
     "output_type": "stream",
     "text": [
      "Training: 100%|██████████| 10/10 [00:33<00:00,  3.36s/epoch]\n"
     ]
    },
    {
     "name": "stdout",
     "output_type": "stream",
     "text": [
      "Epoch 10/10, Cross Entropy: 0.44547399396409443\n"
     ]
    },
    {
     "name": "stderr",
     "output_type": "stream",
     "text": [
      "Training RBM layers: 100%|██████████| 4/4 [02:08<00:00, 32.21s/layer]\n",
      "Training:  10%|█         | 1/10 [00:03<00:35,  3.98s/epoch]"
     ]
    },
    {
     "name": "stdout",
     "output_type": "stream",
     "text": [
      "Epoch 1/10, Cross Entropy: 0.9336685816817912\n"
     ]
    },
    {
     "name": "stderr",
     "output_type": "stream",
     "text": [
      "Training:  20%|██        | 2/10 [00:08<00:32,  4.02s/epoch]"
     ]
    },
    {
     "name": "stdout",
     "output_type": "stream",
     "text": [
      "Epoch 2/10, Cross Entropy: 0.5996470331715051\n"
     ]
    },
    {
     "name": "stderr",
     "output_type": "stream",
     "text": [
      "Training:  30%|███       | 3/10 [00:12<00:28,  4.04s/epoch]"
     ]
    },
    {
     "name": "stdout",
     "output_type": "stream",
     "text": [
      "Epoch 3/10, Cross Entropy: 0.5561807072933681\n"
     ]
    },
    {
     "name": "stderr",
     "output_type": "stream",
     "text": [
      "Training:  40%|████      | 4/10 [00:16<00:24,  4.07s/epoch]"
     ]
    },
    {
     "name": "stdout",
     "output_type": "stream",
     "text": [
      "Epoch 4/10, Cross Entropy: 0.5358623589608048\n"
     ]
    },
    {
     "name": "stderr",
     "output_type": "stream",
     "text": [
      "Training:  50%|█████     | 5/10 [00:20<00:20,  4.09s/epoch]"
     ]
    },
    {
     "name": "stdout",
     "output_type": "stream",
     "text": [
      "Epoch 5/10, Cross Entropy: 0.5238229912621307\n"
     ]
    },
    {
     "name": "stderr",
     "output_type": "stream",
     "text": [
      "Training:  60%|██████    | 6/10 [00:24<00:16,  4.12s/epoch]"
     ]
    },
    {
     "name": "stdout",
     "output_type": "stream",
     "text": [
      "Epoch 6/10, Cross Entropy: 0.5153888560664395\n"
     ]
    },
    {
     "name": "stderr",
     "output_type": "stream",
     "text": [
      "Training:  70%|███████   | 7/10 [00:28<00:12,  4.09s/epoch]"
     ]
    },
    {
     "name": "stdout",
     "output_type": "stream",
     "text": [
      "Epoch 7/10, Cross Entropy: 0.5099022383199918\n"
     ]
    },
    {
     "name": "stderr",
     "output_type": "stream",
     "text": [
      "Training:  80%|████████  | 8/10 [00:32<00:08,  4.10s/epoch]"
     ]
    },
    {
     "name": "stdout",
     "output_type": "stream",
     "text": [
      "Epoch 8/10, Cross Entropy: 0.5071362549827441\n"
     ]
    },
    {
     "name": "stderr",
     "output_type": "stream",
     "text": [
      "Training:  90%|█████████ | 9/10 [00:36<00:04,  4.09s/epoch]"
     ]
    },
    {
     "name": "stdout",
     "output_type": "stream",
     "text": [
      "Epoch 9/10, Cross Entropy: 0.5027790553395112\n"
     ]
    },
    {
     "name": "stderr",
     "output_type": "stream",
     "text": [
      "Training: 100%|██████████| 10/10 [00:40<00:00,  4.09s/epoch]\n"
     ]
    },
    {
     "name": "stdout",
     "output_type": "stream",
     "text": [
      "Epoch 10/10, Cross Entropy: 0.4984448647183984\n"
     ]
    },
    {
     "name": "stderr",
     "output_type": "stream",
     "text": [
      "Training RBM layers: 100%|██████████| 5/5 [02:32<00:00, 30.54s/layer]\n",
      "Training:  10%|█         | 1/10 [00:04<00:42,  4.69s/epoch]"
     ]
    },
    {
     "name": "stdout",
     "output_type": "stream",
     "text": [
      "Epoch 1/10, Cross Entropy: 0.9853921329982708\n"
     ]
    },
    {
     "name": "stderr",
     "output_type": "stream",
     "text": [
      "Training:  20%|██        | 2/10 [00:09<00:38,  4.79s/epoch]"
     ]
    },
    {
     "name": "stdout",
     "output_type": "stream",
     "text": [
      "Epoch 2/10, Cross Entropy: 0.6413244259100349\n"
     ]
    },
    {
     "name": "stderr",
     "output_type": "stream",
     "text": [
      "Training:  30%|███       | 3/10 [00:14<00:33,  4.82s/epoch]"
     ]
    },
    {
     "name": "stdout",
     "output_type": "stream",
     "text": [
      "Epoch 3/10, Cross Entropy: 0.59724939322297\n"
     ]
    },
    {
     "name": "stderr",
     "output_type": "stream",
     "text": [
      "Training:  40%|████      | 4/10 [00:19<00:28,  4.81s/epoch]"
     ]
    },
    {
     "name": "stdout",
     "output_type": "stream",
     "text": [
      "Epoch 4/10, Cross Entropy: 0.5802085722745923\n"
     ]
    },
    {
     "name": "stderr",
     "output_type": "stream",
     "text": [
      "Training:  50%|█████     | 5/10 [00:24<00:24,  4.82s/epoch]"
     ]
    },
    {
     "name": "stdout",
     "output_type": "stream",
     "text": [
      "Epoch 5/10, Cross Entropy: 0.5668357000177884\n"
     ]
    },
    {
     "name": "stderr",
     "output_type": "stream",
     "text": [
      "Training:  60%|██████    | 6/10 [00:28<00:19,  4.79s/epoch]"
     ]
    },
    {
     "name": "stdout",
     "output_type": "stream",
     "text": [
      "Epoch 6/10, Cross Entropy: 0.5606343399849427\n"
     ]
    },
    {
     "name": "stderr",
     "output_type": "stream",
     "text": [
      "Training:  70%|███████   | 7/10 [00:33<00:14,  4.80s/epoch]"
     ]
    },
    {
     "name": "stdout",
     "output_type": "stream",
     "text": [
      "Epoch 7/10, Cross Entropy: 0.5569267592640995\n"
     ]
    },
    {
     "name": "stderr",
     "output_type": "stream",
     "text": [
      "Training:  80%|████████  | 8/10 [00:38<00:09,  4.81s/epoch]"
     ]
    },
    {
     "name": "stdout",
     "output_type": "stream",
     "text": [
      "Epoch 8/10, Cross Entropy: 0.5555312556217282\n"
     ]
    },
    {
     "name": "stderr",
     "output_type": "stream",
     "text": [
      "Training:  90%|█████████ | 9/10 [00:43<00:04,  4.79s/epoch]"
     ]
    },
    {
     "name": "stdout",
     "output_type": "stream",
     "text": [
      "Epoch 9/10, Cross Entropy: 0.5490421347170815\n"
     ]
    },
    {
     "name": "stderr",
     "output_type": "stream",
     "text": [
      "Training: 100%|██████████| 10/10 [00:47<00:00,  4.79s/epoch]\n"
     ]
    },
    {
     "name": "stdout",
     "output_type": "stream",
     "text": [
      "Epoch 10/10, Cross Entropy: 0.5441831907899091\n"
     ]
    }
   ],
   "source": [
    "n_samples, n_visible = mnist_train.shape # n_samples, n_features\n",
    "n_classes = mnist_test_labels.shape[1]\n",
    "\n",
    "layer_loss = []\n",
    "layer_error_rate_train = []\n",
    "layer_error_rate_test = []\n",
    "for n_layers in [1, 2, 3, 4, 5]:\n",
    "    hidden_layer_sizes = [200] * n_layers\n",
    "    dnn = DNN(input_dim=n_visible, output_dim=n_classes, hidden_layer_sizes=hidden_layer_sizes, random_state=42)\n",
    "    # pretrain\n",
    "    dnn.train(binary_mnist_train, n_epochs=10, learning_rate=3e-4, batch_size=512)\n",
    "\n",
    "    loss = dnn.backpropagation(binary_mnist_train, labels=mnist_train_labels, n_epochs=10, learning_rate=3e-4, batch_size=512)\n",
    "    layer_loss.append(loss)\n",
    "    \n",
    "    error_rate_train, _ = dnn.test(test_data=binary_mnist_train, true_labels=mnist_train_labels)\n",
    "    layer_error_rate_train.append(error_rate_train)  # Assurez-vous que error_rate_train est un scalaire\n",
    "\n",
    "    error_rate_test, _ = dnn.test(test_data=binary_mnist_test, true_labels=mnist_test_labels)\n",
    "    layer_error_rate_test.append(error_rate_test)  # Assurez-vous que error_rate_test est un scalaire\n",
    "\n",
    "    # Save the lists with losses and error rates\n",
    "    save_object(layer_loss, \"pretrain_layer_loss_\" + str(n_layers) + \".pkl\",\"../results/experiments_mnist\")\n",
    "    save_object(layer_error_rate_train, \"pretrain_layer_error_rate_train_\" + str(n_layers) + \".pkl\",\"../results/experiments_mnist\")\n",
    "    save_object(layer_error_rate_test, \"pretrain_layer_error_rate_test_\" + str(n_layers) + \".pkl\",\"../results/experiments_mnist\")\n"
   ]
  },
  {
   "cell_type": "code",
   "execution_count": 39,
   "metadata": {},
   "outputs": [
    {
     "data": {
      "image/png": "[encoded data removed]",
      "text/plain": [
       "<Figure size 1000x600 with 1 Axes>"
      ]
     },
     "metadata": {},
     "output_type": "display_data"
    }
   ],
   "source": [
    "import matplotlib.pyplot as plt\n",
    "\n",
    "# Load the error rates for each number of layers\n",
    "num_layers = [1, 2, 3, 4, 5]\n",
    "train_error_rates = []\n",
    "test_error_rates = []\n",
    "\n",
    "for n_layers in num_layers:\n",
    "    train_error_rate_layer = load_object(\"pretrain_layer_error_rate_train_\" + str(n_layers) + \".pkl\",\"../results/experiments_mnist\")\n",
    "    test_error_rate_layer = load_object(\"pretrain_layer_error_rate_test_\" + str(n_layers) + \".pkl\",\"../results/experiments_mnist\")\n",
    "    \n",
    "# Plotting the error rates\n",
    "plt.figure(figsize=(10, 6))\n",
    "plt.plot(num_layers, train_error_rate_layer, label='Training Error Rate', marker='o')\n",
    "plt.plot(num_layers, test_error_rate_layer, label='Test Error Rate', marker='o')\n",
    "\n",
    "plt.xlabel('Number of Layers')\n",
    "plt.ylabel('Error Rate')\n",
    "plt.title('Error Rate vs. Number of Layers')\n",
    "plt.legend()\n",
    "plt.grid(True)\n",
    "plt.show()\n"
   ]
  },
  {
   "cell_type": "markdown",
   "metadata": {},
   "source": [
    "# 2.  number of neurons per layers"
   ]
  },
  {
   "cell_type": "markdown",
   "metadata": {},
   "source": [
    "## 2.1. Without pretraining"
   ]
  },
  {
   "cell_type": "code",
   "execution_count": 41,
   "metadata": {},
   "outputs": [
    {
     "name": "stderr",
     "output_type": "stream",
     "text": [
      "Training:  10%|█         | 1/10 [00:01<00:16,  1.86s/epoch]"
     ]
    },
    {
     "name": "stdout",
     "output_type": "stream",
     "text": [
      "Epoch 1/10, Cross Entropy: 2.362480259194659\n"
     ]
    },
    {
     "name": "stderr",
     "output_type": "stream",
     "text": [
      "Training:  20%|██        | 2/10 [00:03<00:15,  1.88s/epoch]"
     ]
    },
    {
     "name": "stdout",
     "output_type": "stream",
     "text": [
      "Epoch 2/10, Cross Entropy: 2.303130348354594\n"
     ]
    },
    {
     "name": "stderr",
     "output_type": "stream",
     "text": [
      "Training:  30%|███       | 3/10 [00:05<00:12,  1.84s/epoch]"
     ]
    },
    {
     "name": "stdout",
     "output_type": "stream",
     "text": [
      "Epoch 3/10, Cross Entropy: 2.277005887986886\n"
     ]
    },
    {
     "name": "stderr",
     "output_type": "stream",
     "text": [
      "Training:  40%|████      | 4/10 [00:07<00:11,  1.86s/epoch]"
     ]
    },
    {
     "name": "stdout",
     "output_type": "stream",
     "text": [
      "Epoch 4/10, Cross Entropy: 2.266685608902804\n"
     ]
    },
    {
     "name": "stderr",
     "output_type": "stream",
     "text": [
      "Training:  50%|█████     | 5/10 [00:09<00:09,  1.86s/epoch]"
     ]
    },
    {
     "name": "stdout",
     "output_type": "stream",
     "text": [
      "Epoch 5/10, Cross Entropy: 2.262026109459971\n"
     ]
    },
    {
     "name": "stderr",
     "output_type": "stream",
     "text": [
      "Training:  60%|██████    | 6/10 [00:11<00:07,  1.88s/epoch]"
     ]
    },
    {
     "name": "stdout",
     "output_type": "stream",
     "text": [
      "Epoch 6/10, Cross Entropy: 2.2599482845098797\n"
     ]
    },
    {
     "name": "stderr",
     "output_type": "stream",
     "text": [
      "Training:  70%|███████   | 7/10 [00:13<00:05,  1.86s/epoch]"
     ]
    },
    {
     "name": "stdout",
     "output_type": "stream",
     "text": [
      "Epoch 7/10, Cross Entropy: 2.2585363383455683\n"
     ]
    },
    {
     "name": "stderr",
     "output_type": "stream",
     "text": [
      "Training:  80%|████████  | 8/10 [00:15<00:03,  1.98s/epoch]"
     ]
    },
    {
     "name": "stdout",
     "output_type": "stream",
     "text": [
      "Epoch 8/10, Cross Entropy: 2.260722772450352\n"
     ]
    },
    {
     "name": "stderr",
     "output_type": "stream",
     "text": [
      "Training:  90%|█████████ | 9/10 [00:17<00:02,  2.03s/epoch]"
     ]
    },
    {
     "name": "stdout",
     "output_type": "stream",
     "text": [
      "Epoch 9/10, Cross Entropy: 2.2582668628161477\n"
     ]
    },
    {
     "name": "stderr",
     "output_type": "stream",
     "text": [
      "Training: 100%|██████████| 10/10 [00:19<00:00,  1.92s/epoch]\n"
     ]
    },
    {
     "name": "stdout",
     "output_type": "stream",
     "text": [
      "Epoch 10/10, Cross Entropy: 2.258815821474395\n"
     ]
    },
    {
     "name": "stderr",
     "output_type": "stream",
     "text": [
      "Training:  10%|█         | 1/10 [00:03<00:30,  3.43s/epoch]"
     ]
    },
    {
     "name": "stdout",
     "output_type": "stream",
     "text": [
      "Epoch 1/10, Cross Entropy: 2.4143874928280322\n"
     ]
    },
    {
     "name": "stderr",
     "output_type": "stream",
     "text": [
      "Training:  20%|██        | 2/10 [00:07<00:28,  3.53s/epoch]"
     ]
    },
    {
     "name": "stdout",
     "output_type": "stream",
     "text": [
      "Epoch 2/10, Cross Entropy: 2.187025970617257\n"
     ]
    },
    {
     "name": "stderr",
     "output_type": "stream",
     "text": [
      "Training:  30%|███       | 3/10 [00:10<00:24,  3.46s/epoch]"
     ]
    },
    {
     "name": "stdout",
     "output_type": "stream",
     "text": [
      "Epoch 3/10, Cross Entropy: 2.0982624775412027\n"
     ]
    },
    {
     "name": "stderr",
     "output_type": "stream",
     "text": [
      "Training:  40%|████      | 4/10 [00:13<00:20,  3.47s/epoch]"
     ]
    },
    {
     "name": "stdout",
     "output_type": "stream",
     "text": [
      "Epoch 4/10, Cross Entropy: 2.0580216983697595\n"
     ]
    },
    {
     "name": "stderr",
     "output_type": "stream",
     "text": [
      "Training:  50%|█████     | 5/10 [00:17<00:17,  3.46s/epoch]"
     ]
    },
    {
     "name": "stdout",
     "output_type": "stream",
     "text": [
      "Epoch 5/10, Cross Entropy: 2.0447232992053945\n"
     ]
    },
    {
     "name": "stderr",
     "output_type": "stream",
     "text": [
      "Training:  60%|██████    | 6/10 [00:20<00:13,  3.46s/epoch]"
     ]
    },
    {
     "name": "stdout",
     "output_type": "stream",
     "text": [
      "Epoch 6/10, Cross Entropy: 2.037631272986506\n"
     ]
    },
    {
     "name": "stderr",
     "output_type": "stream",
     "text": [
      "Training:  70%|███████   | 7/10 [00:24<00:10,  3.50s/epoch]"
     ]
    },
    {
     "name": "stdout",
     "output_type": "stream",
     "text": [
      "Epoch 7/10, Cross Entropy: 2.028953330193732\n"
     ]
    },
    {
     "name": "stderr",
     "output_type": "stream",
     "text": [
      "Training:  80%|████████  | 8/10 [00:28<00:07,  3.55s/epoch]"
     ]
    },
    {
     "name": "stdout",
     "output_type": "stream",
     "text": [
      "Epoch 8/10, Cross Entropy: 2.027270791225791\n"
     ]
    },
    {
     "name": "stderr",
     "output_type": "stream",
     "text": [
      "Training:  90%|█████████ | 9/10 [00:31<00:03,  3.49s/epoch]"
     ]
    },
    {
     "name": "stdout",
     "output_type": "stream",
     "text": [
      "Epoch 9/10, Cross Entropy: 2.0284196674494464\n"
     ]
    },
    {
     "name": "stderr",
     "output_type": "stream",
     "text": [
      "Training: 100%|██████████| 10/10 [00:34<00:00,  3.49s/epoch]\n"
     ]
    },
    {
     "name": "stdout",
     "output_type": "stream",
     "text": [
      "Epoch 10/10, Cross Entropy: 2.0227113804360632\n"
     ]
    },
    {
     "name": "stderr",
     "output_type": "stream",
     "text": [
      "Training:  10%|█         | 1/10 [00:04<00:43,  4.85s/epoch]"
     ]
    },
    {
     "name": "stdout",
     "output_type": "stream",
     "text": [
      "Epoch 1/10, Cross Entropy: 2.548518678417946\n"
     ]
    },
    {
     "name": "stderr",
     "output_type": "stream",
     "text": [
      "Training:  20%|██        | 2/10 [00:09<00:39,  4.95s/epoch]"
     ]
    },
    {
     "name": "stdout",
     "output_type": "stream",
     "text": [
      "Epoch 2/10, Cross Entropy: 2.153764256674477\n"
     ]
    },
    {
     "name": "stderr",
     "output_type": "stream",
     "text": [
      "Training:  30%|███       | 3/10 [00:14<00:34,  4.89s/epoch]"
     ]
    },
    {
     "name": "stdout",
     "output_type": "stream",
     "text": [
      "Epoch 3/10, Cross Entropy: 2.018097533308627\n"
     ]
    },
    {
     "name": "stderr",
     "output_type": "stream",
     "text": [
      "Training:  40%|████      | 4/10 [00:19<00:29,  4.91s/epoch]"
     ]
    },
    {
     "name": "stdout",
     "output_type": "stream",
     "text": [
      "Epoch 4/10, Cross Entropy: 1.91894261346049\n"
     ]
    },
    {
     "name": "stderr",
     "output_type": "stream",
     "text": [
      "Training:  50%|█████     | 5/10 [00:24<00:24,  4.92s/epoch]"
     ]
    },
    {
     "name": "stdout",
     "output_type": "stream",
     "text": [
      "Epoch 5/10, Cross Entropy: 1.8777400787846241\n"
     ]
    },
    {
     "name": "stderr",
     "output_type": "stream",
     "text": [
      "Training:  60%|██████    | 6/10 [00:29<00:19,  4.98s/epoch]"
     ]
    },
    {
     "name": "stdout",
     "output_type": "stream",
     "text": [
      "Epoch 6/10, Cross Entropy: 1.8714117026356836\n"
     ]
    },
    {
     "name": "stderr",
     "output_type": "stream",
     "text": [
      "Training:  70%|███████   | 7/10 [00:34<00:14,  4.94s/epoch]"
     ]
    },
    {
     "name": "stdout",
     "output_type": "stream",
     "text": [
      "Epoch 7/10, Cross Entropy: 1.8584894976612996\n"
     ]
    },
    {
     "name": "stderr",
     "output_type": "stream",
     "text": [
      "Training:  80%|████████  | 8/10 [00:39<00:09,  4.96s/epoch]"
     ]
    },
    {
     "name": "stdout",
     "output_type": "stream",
     "text": [
      "Epoch 8/10, Cross Entropy: 1.8459948004974387\n"
     ]
    },
    {
     "name": "stderr",
     "output_type": "stream",
     "text": [
      "Training:  90%|█████████ | 9/10 [00:44<00:04,  4.96s/epoch]"
     ]
    },
    {
     "name": "stdout",
     "output_type": "stream",
     "text": [
      "Epoch 9/10, Cross Entropy: 1.855550568395963\n"
     ]
    },
    {
     "name": "stderr",
     "output_type": "stream",
     "text": [
      "Training: 100%|██████████| 10/10 [00:49<00:00,  4.95s/epoch]\n"
     ]
    },
    {
     "name": "stdout",
     "output_type": "stream",
     "text": [
      "Epoch 10/10, Cross Entropy: 1.8345885692292536\n"
     ]
    },
    {
     "name": "stderr",
     "output_type": "stream",
     "text": [
      "Training:  10%|█         | 1/10 [00:06<00:57,  6.40s/epoch]"
     ]
    },
    {
     "name": "stdout",
     "output_type": "stream",
     "text": [
      "Epoch 1/10, Cross Entropy: 3.1222682959608195\n"
     ]
    },
    {
     "name": "stderr",
     "output_type": "stream",
     "text": [
      "Training:  20%|██        | 2/10 [00:12<00:51,  6.41s/epoch]"
     ]
    },
    {
     "name": "stdout",
     "output_type": "stream",
     "text": [
      "Epoch 2/10, Cross Entropy: 2.4196410109480353\n"
     ]
    },
    {
     "name": "stderr",
     "output_type": "stream",
     "text": [
      "Training:  30%|███       | 3/10 [00:19<00:44,  6.40s/epoch]"
     ]
    },
    {
     "name": "stdout",
     "output_type": "stream",
     "text": [
      "Epoch 3/10, Cross Entropy: 2.188166383141175\n"
     ]
    },
    {
     "name": "stderr",
     "output_type": "stream",
     "text": [
      "Training:  40%|████      | 4/10 [00:25<00:38,  6.40s/epoch]"
     ]
    },
    {
     "name": "stdout",
     "output_type": "stream",
     "text": [
      "Epoch 4/10, Cross Entropy: 2.023151241910357\n"
     ]
    },
    {
     "name": "stderr",
     "output_type": "stream",
     "text": [
      "Training:  50%|█████     | 5/10 [00:31<00:31,  6.39s/epoch]"
     ]
    },
    {
     "name": "stdout",
     "output_type": "stream",
     "text": [
      "Epoch 5/10, Cross Entropy: 1.96458846852894\n"
     ]
    },
    {
     "name": "stderr",
     "output_type": "stream",
     "text": [
      "Training:  60%|██████    | 6/10 [00:38<00:25,  6.39s/epoch]"
     ]
    },
    {
     "name": "stdout",
     "output_type": "stream",
     "text": [
      "Epoch 6/10, Cross Entropy: 1.887072706892094\n"
     ]
    },
    {
     "name": "stderr",
     "output_type": "stream",
     "text": [
      "Training:  70%|███████   | 7/10 [00:44<00:19,  6.39s/epoch]"
     ]
    },
    {
     "name": "stdout",
     "output_type": "stream",
     "text": [
      "Epoch 7/10, Cross Entropy: 1.8653320011184717\n"
     ]
    },
    {
     "name": "stderr",
     "output_type": "stream",
     "text": [
      "Training:  80%|████████  | 8/10 [00:51<00:12,  6.35s/epoch]"
     ]
    },
    {
     "name": "stdout",
     "output_type": "stream",
     "text": [
      "Epoch 8/10, Cross Entropy: 1.8681710574539567\n"
     ]
    },
    {
     "name": "stderr",
     "output_type": "stream",
     "text": [
      "Training:  90%|█████████ | 9/10 [00:57<00:06,  6.40s/epoch]"
     ]
    },
    {
     "name": "stdout",
     "output_type": "stream",
     "text": [
      "Epoch 9/10, Cross Entropy: 1.870900700612856\n"
     ]
    },
    {
     "name": "stderr",
     "output_type": "stream",
     "text": [
      "Training: 100%|██████████| 10/10 [01:03<00:00,  6.40s/epoch]"
     ]
    },
    {
     "name": "stdout",
     "output_type": "stream",
     "text": [
      "Epoch 10/10, Cross Entropy: 1.8589448976182728\n"
     ]
    },
    {
     "name": "stderr",
     "output_type": "stream",
     "text": [
      "\n"
     ]
    }
   ],
   "source": [
    "n_samples, n_visible = mnist_train.shape # n_samples, n_features\n",
    "n_classes = mnist_test_labels.shape[1]\n",
    "\n",
    "neurons_per_layer = [100, 300, 500, 700]\n",
    "layer_loss_neurons = []\n",
    "layer_error_rate_train_neurons = []\n",
    "layer_error_rate_test_neurons = []\n",
    "\n",
    "for n_neurons in neurons_per_layer:\n",
    "    hidden_layer_sizes = [n_neurons] * 2  # Fixer le nombre de couches à 2\n",
    "    dnn = DNN(input_dim=n_visible, output_dim=n_classes, hidden_layer_sizes=hidden_layer_sizes, random_state=42)\n",
    "    loss = dnn.backpropagation(binary_mnist_train, labels=mnist_train_labels, n_epochs=10, learning_rate=3e-4, batch_size=512)\n",
    "    layer_loss_neurons.append(loss)\n",
    "    \n",
    "    error_rate_train, _ = dnn.test(test_data=binary_mnist_train, true_labels=mnist_train_labels)\n",
    "    layer_error_rate_train_neurons.append(error_rate_train)  # Assurez-vous que error_rate_train est un scalaire\n",
    "\n",
    "    error_rate_test, _ = dnn.test(test_data=binary_mnist_test, true_labels=mnist_test_labels)\n",
    "    layer_error_rate_test_neurons.append(error_rate_test)  # Assurez-vous que error_rate_test est un scalaire\n",
    "\n",
    "    # Save the lists with losses and error rates\n",
    "    save_object(layer_loss_neurons, \"layer_loss_neurons_\" + str(n_neurons) + \".pkl\",\"../results/experiments_mnist\")\n",
    "    save_object(layer_error_rate_train_neurons, \"layer_error_rate_train_neurons_\" + str(n_neurons) + \".pkl\",\"../results/experiments_mnist\")\n",
    "    save_object(layer_error_rate_test_neurons, \"layer_error_rate_test_neurons_\" + str(n_neurons) + \".pkl\",\"../results/experiments_mnist\")\n"
   ]
  },
  {
   "cell_type": "code",
   "execution_count": 42,
   "metadata": {},
   "outputs": [
    {
     "data": {
      "image/png": "[encoded data removed]",
      "text/plain": [
       "<Figure size 1000x600 with 1 Axes>"
      ]
     },
     "metadata": {},
     "output_type": "display_data"
    }
   ],
   "source": [
    "import matplotlib.pyplot as plt\n",
    "\n",
    "# Load the error rates for each number of neurons per layer\n",
    "neurons_per_layer = [100, 300, 500, 700]\n",
    "train_error_rates_neurons = []\n",
    "test_error_rates_neurons = []\n",
    "\n",
    "for n_neurons in neurons_per_layer:\n",
    "    train_error_rates_neurons = load_object(\"layer_error_rate_train_neurons_\" + str(n_neurons) + \".pkl\",\"../results/experiments_mnist\")\n",
    "    test_error_rates_neurons = load_object(\"layer_error_rate_test_neurons_\" + str(n_neurons) + \".pkl\",\"../results/experiments_mnist\")\n",
    "    \n",
    "\n",
    "# Plotting the error rates for different numbers of neurons per layer\n",
    "plt.figure(figsize=(10, 6))\n",
    "plt.plot(neurons_per_layer, train_error_rates_neurons, label='Training Error Rate', marker='o')\n",
    "plt.plot(neurons_per_layer, test_error_rates_neurons, label='Test Error Rate', marker='o')\n",
    "\n",
    "plt.xlabel('Number of Neurons per Layer')\n",
    "plt.ylabel('Error Rate')\n",
    "plt.title('Error Rate vs. Number of Neurons per Layer')\n",
    "plt.legend()\n",
    "plt.grid(True)\n",
    "plt.show()\n"
   ]
  },
  {
   "cell_type": "markdown",
   "metadata": {},
   "source": [
    "## 2.2. With pretraining"
   ]
  },
  {
   "cell_type": "code",
   "execution_count": 43,
   "metadata": {},
   "outputs": [
    {
     "name": "stderr",
     "output_type": "stream",
     "text": [
      "Training RBM layers:   0%|          | 0/2 [00:00<?, ?layer/s]c:\\Users\\choho\\Desktop\\Master DS\\Deep learning II\\github\\DeepLearning2-Project-M2DS\\src\\functionals.py:17: RuntimeWarning: overflow encountered in exp\n",
      "  return 1 / (1 + np.exp(-x))\n",
      "Training RBM layers: 100%|██████████| 2/2 [01:03<00:00, 31.80s/layer]\n",
      "Training:  10%|█         | 1/10 [00:01<00:15,  1.72s/epoch]"
     ]
    },
    {
     "name": "stdout",
     "output_type": "stream",
     "text": [
      "Epoch 1/10, Cross Entropy: 2.3336797611999724\n"
     ]
    },
    {
     "name": "stderr",
     "output_type": "stream",
     "text": [
      "Training:  20%|██        | 2/10 [00:03<00:13,  1.75s/epoch]"
     ]
    },
    {
     "name": "stdout",
     "output_type": "stream",
     "text": [
      "Epoch 2/10, Cross Entropy: 2.323047757946269\n"
     ]
    },
    {
     "name": "stderr",
     "output_type": "stream",
     "text": [
      "Training:  30%|███       | 3/10 [00:05<00:12,  1.73s/epoch]"
     ]
    },
    {
     "name": "stdout",
     "output_type": "stream",
     "text": [
      "Epoch 3/10, Cross Entropy: 2.3246958989758366\n"
     ]
    },
    {
     "name": "stderr",
     "output_type": "stream",
     "text": [
      "Training:  40%|████      | 4/10 [00:07<00:10,  1.78s/epoch]"
     ]
    },
    {
     "name": "stdout",
     "output_type": "stream",
     "text": [
      "Epoch 4/10, Cross Entropy: 2.322452362700704\n"
     ]
    },
    {
     "name": "stderr",
     "output_type": "stream",
     "text": [
      "Training:  50%|█████     | 5/10 [00:08<00:08,  1.79s/epoch]"
     ]
    },
    {
     "name": "stdout",
     "output_type": "stream",
     "text": [
      "Epoch 5/10, Cross Entropy: 2.3204846571553204\n"
     ]
    },
    {
     "name": "stderr",
     "output_type": "stream",
     "text": [
      "Training:  60%|██████    | 6/10 [00:10<00:07,  1.82s/epoch]"
     ]
    },
    {
     "name": "stdout",
     "output_type": "stream",
     "text": [
      "Epoch 6/10, Cross Entropy: 2.319820097466143\n"
     ]
    },
    {
     "name": "stderr",
     "output_type": "stream",
     "text": [
      "Training:  70%|███████   | 7/10 [00:12<00:05,  1.77s/epoch]"
     ]
    },
    {
     "name": "stdout",
     "output_type": "stream",
     "text": [
      "Epoch 7/10, Cross Entropy: 2.3208194733682275\n"
     ]
    },
    {
     "name": "stderr",
     "output_type": "stream",
     "text": [
      "Training:  80%|████████  | 8/10 [00:14<00:03,  1.79s/epoch]"
     ]
    },
    {
     "name": "stdout",
     "output_type": "stream",
     "text": [
      "Epoch 8/10, Cross Entropy: 2.3215832318765135\n"
     ]
    },
    {
     "name": "stderr",
     "output_type": "stream",
     "text": [
      "Training:  90%|█████████ | 9/10 [00:15<00:01,  1.78s/epoch]"
     ]
    },
    {
     "name": "stdout",
     "output_type": "stream",
     "text": [
      "Epoch 9/10, Cross Entropy: 2.3245205880140416\n"
     ]
    },
    {
     "name": "stderr",
     "output_type": "stream",
     "text": [
      "Training: 100%|██████████| 10/10 [00:17<00:00,  1.79s/epoch]\n"
     ]
    },
    {
     "name": "stdout",
     "output_type": "stream",
     "text": [
      "Epoch 10/10, Cross Entropy: 2.3233198484585134\n"
     ]
    },
    {
     "name": "stderr",
     "output_type": "stream",
     "text": [
      "Training RBM layers: 100%|██████████| 2/2 [01:38<00:00, 49.29s/layer]\n",
      "Training:  10%|█         | 1/10 [00:03<00:27,  3.05s/epoch]"
     ]
    },
    {
     "name": "stdout",
     "output_type": "stream",
     "text": [
      "Epoch 1/10, Cross Entropy: 4.044568282055888\n"
     ]
    },
    {
     "name": "stderr",
     "output_type": "stream",
     "text": [
      "Training:  20%|██        | 2/10 [00:06<00:24,  3.11s/epoch]"
     ]
    },
    {
     "name": "stdout",
     "output_type": "stream",
     "text": [
      "Epoch 2/10, Cross Entropy: 4.115989077057136\n"
     ]
    },
    {
     "name": "stderr",
     "output_type": "stream",
     "text": [
      "Training:  30%|███       | 3/10 [00:09<00:21,  3.10s/epoch]"
     ]
    },
    {
     "name": "stdout",
     "output_type": "stream",
     "text": [
      "Epoch 3/10, Cross Entropy: 4.3047569686825575\n"
     ]
    },
    {
     "name": "stderr",
     "output_type": "stream",
     "text": [
      "Training:  40%|████      | 4/10 [00:12<00:18,  3.13s/epoch]"
     ]
    },
    {
     "name": "stdout",
     "output_type": "stream",
     "text": [
      "Epoch 4/10, Cross Entropy: 4.23439198786972\n"
     ]
    },
    {
     "name": "stderr",
     "output_type": "stream",
     "text": [
      "Training:  50%|█████     | 5/10 [00:15<00:15,  3.16s/epoch]"
     ]
    },
    {
     "name": "stdout",
     "output_type": "stream",
     "text": [
      "Epoch 5/10, Cross Entropy: 4.132031220931409\n"
     ]
    },
    {
     "name": "stderr",
     "output_type": "stream",
     "text": [
      "Training:  60%|██████    | 6/10 [00:18<00:12,  3.14s/epoch]"
     ]
    },
    {
     "name": "stdout",
     "output_type": "stream",
     "text": [
      "Epoch 6/10, Cross Entropy: 4.033934706508113\n"
     ]
    },
    {
     "name": "stderr",
     "output_type": "stream",
     "text": [
      "Training:  70%|███████   | 7/10 [00:21<00:09,  3.16s/epoch]"
     ]
    },
    {
     "name": "stdout",
     "output_type": "stream",
     "text": [
      "Epoch 7/10, Cross Entropy: 4.081790063070603\n"
     ]
    },
    {
     "name": "stderr",
     "output_type": "stream",
     "text": [
      "Training:  80%|████████  | 8/10 [00:25<00:06,  3.14s/epoch]"
     ]
    },
    {
     "name": "stdout",
     "output_type": "stream",
     "text": [
      "Epoch 8/10, Cross Entropy: 4.173525541327632\n"
     ]
    },
    {
     "name": "stderr",
     "output_type": "stream",
     "text": [
      "Training:  90%|█████████ | 9/10 [00:28<00:03,  3.16s/epoch]"
     ]
    },
    {
     "name": "stdout",
     "output_type": "stream",
     "text": [
      "Epoch 9/10, Cross Entropy: 4.179385378684917\n"
     ]
    },
    {
     "name": "stderr",
     "output_type": "stream",
     "text": [
      "Training: 100%|██████████| 10/10 [00:31<00:00,  3.13s/epoch]\n"
     ]
    },
    {
     "name": "stdout",
     "output_type": "stream",
     "text": [
      "Epoch 10/10, Cross Entropy: 4.096481771765875\n"
     ]
    },
    {
     "name": "stderr",
     "output_type": "stream",
     "text": [
      "Training RBM layers: 100%|██████████| 2/2 [02:22<00:00, 71.49s/layer]\n",
      "Training:  10%|█         | 1/10 [00:04<00:41,  4.63s/epoch]"
     ]
    },
    {
     "name": "stdout",
     "output_type": "stream",
     "text": [
      "Epoch 1/10, Cross Entropy: 12.196672508967689\n"
     ]
    },
    {
     "name": "stderr",
     "output_type": "stream",
     "text": [
      "Training:  20%|██        | 2/10 [00:09<00:37,  4.74s/epoch]"
     ]
    },
    {
     "name": "stdout",
     "output_type": "stream",
     "text": [
      "Epoch 2/10, Cross Entropy: 12.713913230304893\n"
     ]
    },
    {
     "name": "stderr",
     "output_type": "stream",
     "text": [
      "Training:  30%|███       | 3/10 [00:14<00:32,  4.70s/epoch]"
     ]
    },
    {
     "name": "stdout",
     "output_type": "stream",
     "text": [
      "Epoch 3/10, Cross Entropy: 12.0329605389928\n"
     ]
    },
    {
     "name": "stderr",
     "output_type": "stream",
     "text": [
      "Training:  40%|████      | 4/10 [00:18<00:28,  4.72s/epoch]"
     ]
    },
    {
     "name": "stdout",
     "output_type": "stream",
     "text": [
      "Epoch 4/10, Cross Entropy: 11.49412207863624\n"
     ]
    },
    {
     "name": "stderr",
     "output_type": "stream",
     "text": [
      "Training:  50%|█████     | 5/10 [00:23<00:23,  4.67s/epoch]"
     ]
    },
    {
     "name": "stdout",
     "output_type": "stream",
     "text": [
      "Epoch 5/10, Cross Entropy: 12.737555997362447\n"
     ]
    },
    {
     "name": "stderr",
     "output_type": "stream",
     "text": [
      "Training:  60%|██████    | 6/10 [00:28<00:18,  4.70s/epoch]"
     ]
    },
    {
     "name": "stdout",
     "output_type": "stream",
     "text": [
      "Epoch 6/10, Cross Entropy: 12.684297068504105\n"
     ]
    },
    {
     "name": "stderr",
     "output_type": "stream",
     "text": [
      "Training:  70%|███████   | 7/10 [00:32<00:14,  4.68s/epoch]"
     ]
    },
    {
     "name": "stdout",
     "output_type": "stream",
     "text": [
      "Epoch 7/10, Cross Entropy: 11.922505365980843\n"
     ]
    },
    {
     "name": "stderr",
     "output_type": "stream",
     "text": [
      "Training:  80%|████████  | 8/10 [00:37<00:09,  4.69s/epoch]"
     ]
    },
    {
     "name": "stdout",
     "output_type": "stream",
     "text": [
      "Epoch 8/10, Cross Entropy: 12.631387271725298\n"
     ]
    },
    {
     "name": "stderr",
     "output_type": "stream",
     "text": [
      "Training:  90%|█████████ | 9/10 [00:42<00:04,  4.65s/epoch]"
     ]
    },
    {
     "name": "stdout",
     "output_type": "stream",
     "text": [
      "Epoch 9/10, Cross Entropy: 12.599451229458998\n"
     ]
    },
    {
     "name": "stderr",
     "output_type": "stream",
     "text": [
      "Training: 100%|██████████| 10/10 [00:46<00:00,  4.69s/epoch]\n"
     ]
    },
    {
     "name": "stdout",
     "output_type": "stream",
     "text": [
      "Epoch 10/10, Cross Entropy: 11.927951757440264\n"
     ]
    },
    {
     "name": "stderr",
     "output_type": "stream",
     "text": [
      "Training RBM layers: 100%|██████████| 2/2 [03:16<00:00, 98.05s/layer] \n",
      "Training:  10%|█         | 1/10 [00:05<00:51,  5.76s/epoch]"
     ]
    },
    {
     "name": "stdout",
     "output_type": "stream",
     "text": [
      "Epoch 1/10, Cross Entropy: 18.94345144646524\n"
     ]
    },
    {
     "name": "stderr",
     "output_type": "stream",
     "text": [
      "Training:  20%|██        | 2/10 [00:11<00:47,  5.92s/epoch]"
     ]
    },
    {
     "name": "stdout",
     "output_type": "stream",
     "text": [
      "Epoch 2/10, Cross Entropy: 17.763659813448204\n"
     ]
    },
    {
     "name": "stderr",
     "output_type": "stream",
     "text": [
      "Training:  30%|███       | 3/10 [00:17<00:41,  5.92s/epoch]"
     ]
    },
    {
     "name": "stdout",
     "output_type": "stream",
     "text": [
      "Epoch 3/10, Cross Entropy: 19.596010957857626\n"
     ]
    },
    {
     "name": "stderr",
     "output_type": "stream",
     "text": [
      "Training:  40%|████      | 4/10 [00:23<00:35,  5.95s/epoch]"
     ]
    },
    {
     "name": "stdout",
     "output_type": "stream",
     "text": [
      "Epoch 4/10, Cross Entropy: 18.283209546369978\n"
     ]
    },
    {
     "name": "stderr",
     "output_type": "stream",
     "text": [
      "Training:  50%|█████     | 5/10 [00:29<00:29,  5.95s/epoch]"
     ]
    },
    {
     "name": "stdout",
     "output_type": "stream",
     "text": [
      "Epoch 5/10, Cross Entropy: 19.08526179855331\n"
     ]
    },
    {
     "name": "stderr",
     "output_type": "stream",
     "text": [
      "Training:  60%|██████    | 6/10 [00:35<00:24,  6.02s/epoch]"
     ]
    },
    {
     "name": "stdout",
     "output_type": "stream",
     "text": [
      "Epoch 6/10, Cross Entropy: 18.106080104576908\n"
     ]
    },
    {
     "name": "stderr",
     "output_type": "stream",
     "text": [
      "Training:  70%|███████   | 7/10 [00:41<00:17,  5.99s/epoch]"
     ]
    },
    {
     "name": "stdout",
     "output_type": "stream",
     "text": [
      "Epoch 7/10, Cross Entropy: 18.73488785252841\n"
     ]
    },
    {
     "name": "stderr",
     "output_type": "stream",
     "text": [
      "Training:  80%|████████  | 8/10 [00:47<00:12,  6.03s/epoch]"
     ]
    },
    {
     "name": "stdout",
     "output_type": "stream",
     "text": [
      "Epoch 8/10, Cross Entropy: 19.15761055531007\n"
     ]
    },
    {
     "name": "stderr",
     "output_type": "stream",
     "text": [
      "Training:  90%|█████████ | 9/10 [00:53<00:06,  6.00s/epoch]"
     ]
    },
    {
     "name": "stdout",
     "output_type": "stream",
     "text": [
      "Epoch 9/10, Cross Entropy: 18.597885971594707\n"
     ]
    },
    {
     "name": "stderr",
     "output_type": "stream",
     "text": [
      "Training: 100%|██████████| 10/10 [00:59<00:00,  6.00s/epoch]\n"
     ]
    },
    {
     "name": "stdout",
     "output_type": "stream",
     "text": [
      "Epoch 10/10, Cross Entropy: 19.96200808477518\n"
     ]
    }
   ],
   "source": [
    "n_samples, n_visible = mnist_train.shape # n_samples, n_features\n",
    "n_classes = mnist_test_labels.shape[1]\n",
    "\n",
    "neurons_per_layer = [100, 300, 500, 700]\n",
    "layer_loss_neurons = []\n",
    "layer_error_rate_train_neurons = []\n",
    "layer_error_rate_test_neurons = []\n",
    "\n",
    "for n_neurons in neurons_per_layer:\n",
    "    hidden_layer_sizes = [n_neurons] * 2  # Fixer le nombre de couches à 2\n",
    "    dnn = DNN(input_dim=n_visible, output_dim=n_classes, hidden_layer_sizes=hidden_layer_sizes, random_state=42)\n",
    "    \n",
    "    # pretrain\n",
    "    dnn.train(mnist_train, n_epochs=10, learning_rate=3e-4, batch_size=512)\n",
    "    \n",
    "    loss = dnn.backpropagation(binary_mnist_train, labels=mnist_train_labels, n_epochs=10, learning_rate=3e-4, batch_size=512)\n",
    "    layer_loss_neurons.append(loss)\n",
    "    \n",
    "    error_rate_train, _ = dnn.test(test_data=binary_mnist_train, true_labels=mnist_train_labels)\n",
    "    layer_error_rate_train_neurons.append(error_rate_train)  # Assurez-vous que error_rate_train est un scalaire\n",
    "\n",
    "    error_rate_test, _ = dnn.test(test_data=binary_mnist_test, true_labels=mnist_test_labels)\n",
    "    layer_error_rate_test_neurons.append(error_rate_test)  # Assurez-vous que error_rate_test est un scalaire\n",
    "\n",
    "    # Save the lists with losses and error rates\n",
    "    save_object(layer_loss_neurons, \"pretrain_layer_loss_neurons_\" + str(n_neurons) + \".pkl\",\"../results/experiments_mnist\")\n",
    "    save_object(layer_error_rate_train_neurons, \"pretrain_layer_error_rate_train_neurons_\" + str(n_neurons) + \".pkl\",\"../results/experiments_mnist\")\n",
    "    save_object(layer_error_rate_test_neurons, \"pretrain_layer_error_rate_test_neurons_\" + str(n_neurons) + \".pkl\",\"../results/experiments_mnist\")\n"
   ]
  },
  {
   "cell_type": "code",
   "execution_count": 44,
   "metadata": {},
   "outputs": [
    {
     "data": {
      "image/png": "[encoded data removed]",
      "text/plain": [
       "<Figure size 1000x600 with 1 Axes>"
      ]
     },
     "metadata": {},
     "output_type": "display_data"
    }
   ],
   "source": [
    "import matplotlib.pyplot as plt\n",
    "\n",
    "# Load the error rates for each number of neurons per layer\n",
    "neurons_per_layer = [100, 300, 500, 700]\n",
    "train_error_rates_neurons = []\n",
    "test_error_rates_neurons = []\n",
    "\n",
    "for n_neurons in neurons_per_layer:\n",
    "    train_error_rates_neurons = load_object(\"pretrain_layer_error_rate_train_neurons_\" + str(n_neurons) + \".pkl\",\"../results/experiments_mnist\")\n",
    "    test_error_rates_neurons = load_object(\"pretrain_layer_error_rate_test_neurons_\" + str(n_neurons) + \".pkl\",\"../results/experiments_mnist\")\n",
    "    \n",
    "\n",
    "# Plotting the error rates for different numbers of neurons per layer\n",
    "plt.figure(figsize=(10, 6))\n",
    "plt.plot(neurons_per_layer, train_error_rates_neurons, label='Training Error Rate', marker='o')\n",
    "plt.plot(neurons_per_layer, test_error_rates_neurons, label='Test Error Rate', marker='o')\n",
    "\n",
    "plt.xlabel('Number of Neurons per Layer')\n",
    "plt.ylabel('Error Rate')\n",
    "plt.title('Error Rate vs. Number of Neurons per Layer')\n",
    "plt.legend()\n",
    "plt.grid(True)\n",
    "plt.show()\n"
   ]
  },
  {
   "cell_type": "code",
   "execution_count": 45,
   "metadata": {},
   "outputs": [
    {
     "data": {
      "text/plain": [
       "(0.9018,\n",
       " array([[0., 0., 0., ..., 0., 0., 0.],\n",
       "        [0., 0., 0., ..., 0., 0., 0.],\n",
       "        [0., 0., 0., ..., 0., 0., 0.],\n",
       "        ...,\n",
       "        [0., 0., 0., ..., 0., 0., 0.],\n",
       "        [0., 0., 0., ..., 0., 0., 0.],\n",
       "        [0., 0., 0., ..., 0., 0., 0.]]))"
      ]
     },
     "execution_count": 45,
     "metadata": {},
     "output_type": "execute_result"
    }
   ],
   "source": [
    "dnn.test(binary_mnist_test, mnist_test_labels)"
   ]
  },
  {
   "cell_type": "markdown",
   "metadata": {},
   "source": [
    "# 3.  As a function of the number of data trains "
   ]
  },
  {
   "cell_type": "markdown",
   "metadata": {},
   "source": [
    "## 3.1. Without pretraining"
   ]
  },
  {
   "cell_type": "code",
   "execution_count": 47,
   "metadata": {},
   "outputs": [],
   "source": [
    "import numpy as np\n",
    "import pickle\n",
    "import matplotlib.pyplot as plt\n",
    "from tqdm import tqdm\n",
    "\n",
    "\n",
    "\n",
    "def create_stratified_subset(data, labels, num_samples_per_class):\n",
    "    \"\"\"\n",
    "    Create a stratified subset of the dataset ensuring each class is represented equally.\n",
    "\n",
    "    Parameters:\n",
    "    - data (np.ndarray): The dataset.\n",
    "    - labels (np.ndarray): The labels for the dataset.\n",
    "    - num_samples_per_class (int): Number of samples per class.\n",
    "\n",
    "    Returns:\n",
    "    - subset_data (np.ndarray): Stratified subset of the dataset.\n",
    "    - subset_labels (np.ndarray): Labels for the stratified subset.\n",
    "    \"\"\"\n",
    "    unique_classes = np.unique(labels)\n",
    "    subset_data = []\n",
    "    subset_labels = []\n",
    "\n",
    "    for cls in unique_classes:\n",
    "        class_indices = np.where(labels == cls)[0]\n",
    "        selected_indices = class_indices[:num_samples_per_class]\n",
    "        subset_data.append(data[selected_indices])\n",
    "        subset_labels.append(labels[selected_indices])\n",
    "\n",
    "    subset_data = np.concatenate(subset_data, axis=0)\n",
    "    subset_labels = np.concatenate(subset_labels, axis=0)\n",
    "\n",
    "    return subset_data, subset_labels\n"
   ]
  },
  {
   "cell_type": "code",
   "execution_count": 48,
   "metadata": {},
   "outputs": [
    {
     "name": "stderr",
     "output_type": "stream",
     "text": [
      "Training:  50%|█████     | 5/10 [00:00<00:00, 22.50epoch/s]"
     ]
    },
    {
     "name": "stdout",
     "output_type": "stream",
     "text": [
      "Epoch 1/10, Cross Entropy: 1.7666896694481529\n",
      "Epoch 2/10, Cross Entropy: 0.0027883054114978345\n",
      "Epoch 3/10, Cross Entropy: 0.0027252581521652695\n",
      "Epoch 4/10, Cross Entropy: 0.0025955230205314565\n",
      "Epoch 5/10, Cross Entropy: 0.0024723290462020063\n"
     ]
    },
    {
     "name": "stderr",
     "output_type": "stream",
     "text": [
      "Training: 100%|██████████| 10/10 [00:00<00:00, 23.14epoch/s]\n"
     ]
    },
    {
     "name": "stdout",
     "output_type": "stream",
     "text": [
      "Epoch 6/10, Cross Entropy: 0.002356637336748873\n",
      "Epoch 7/10, Cross Entropy: 0.0022423199699246536\n",
      "Epoch 8/10, Cross Entropy: 0.002229973853257036\n",
      "Epoch 9/10, Cross Entropy: 0.002038006929015805\n",
      "Epoch 10/10, Cross Entropy: 0.002053268087986075\n"
     ]
    },
    {
     "name": "stderr",
     "output_type": "stream",
     "text": [
      "Training:  20%|██        | 2/10 [00:00<00:00,  9.07epoch/s]"
     ]
    },
    {
     "name": "stdout",
     "output_type": "stream",
     "text": [
      "Epoch 1/10, Cross Entropy: 0.828207569876666\n",
      "Epoch 2/10, Cross Entropy: 0.006069981526832577\n"
     ]
    },
    {
     "name": "stderr",
     "output_type": "stream",
     "text": [
      "Training:  40%|████      | 4/10 [00:00<00:00,  7.57epoch/s]"
     ]
    },
    {
     "name": "stdout",
     "output_type": "stream",
     "text": [
      "Epoch 3/10, Cross Entropy: 0.004520534432657311\n",
      "Epoch 4/10, Cross Entropy: 0.003669057039663009\n"
     ]
    },
    {
     "name": "stderr",
     "output_type": "stream",
     "text": [
      "Training:  60%|██████    | 6/10 [00:00<00:00,  8.22epoch/s]"
     ]
    },
    {
     "name": "stdout",
     "output_type": "stream",
     "text": [
      "Epoch 5/10, Cross Entropy: 0.0030799041288766186\n",
      "Epoch 6/10, Cross Entropy: 0.0026550991751551965\n"
     ]
    },
    {
     "name": "stderr",
     "output_type": "stream",
     "text": [
      "Training:  80%|████████  | 8/10 [00:00<00:00,  8.52epoch/s]"
     ]
    },
    {
     "name": "stdout",
     "output_type": "stream",
     "text": [
      "Epoch 7/10, Cross Entropy: 0.002323278112452075\n",
      "Epoch 8/10, Cross Entropy: 0.0020084591412159332\n"
     ]
    },
    {
     "name": "stderr",
     "output_type": "stream",
     "text": [
      "Training: 100%|██████████| 10/10 [00:01<00:00,  8.34epoch/s]\n"
     ]
    },
    {
     "name": "stdout",
     "output_type": "stream",
     "text": [
      "Epoch 9/10, Cross Entropy: 0.0018481275071579963\n",
      "Epoch 10/10, Cross Entropy: 0.0015840833802827218\n"
     ]
    },
    {
     "name": "stderr",
     "output_type": "stream",
     "text": [
      "Training:  10%|█         | 1/10 [00:00<00:02,  3.52epoch/s]"
     ]
    },
    {
     "name": "stdout",
     "output_type": "stream",
     "text": [
      "Epoch 1/10, Cross Entropy: 0.17244033236258086\n"
     ]
    },
    {
     "name": "stderr",
     "output_type": "stream",
     "text": [
      "Training:  20%|██        | 2/10 [00:00<00:02,  3.75epoch/s]"
     ]
    },
    {
     "name": "stdout",
     "output_type": "stream",
     "text": [
      "Epoch 2/10, Cross Entropy: 0.0018122748072046486\n"
     ]
    },
    {
     "name": "stderr",
     "output_type": "stream",
     "text": [
      "Training:  30%|███       | 3/10 [00:00<00:01,  3.84epoch/s]"
     ]
    },
    {
     "name": "stdout",
     "output_type": "stream",
     "text": [
      "Epoch 3/10, Cross Entropy: 0.001524275399639011\n"
     ]
    },
    {
     "name": "stderr",
     "output_type": "stream",
     "text": [
      "Training:  40%|████      | 4/10 [00:01<00:01,  3.85epoch/s]"
     ]
    },
    {
     "name": "stdout",
     "output_type": "stream",
     "text": [
      "Epoch 4/10, Cross Entropy: 0.0012441673117740781\n"
     ]
    },
    {
     "name": "stderr",
     "output_type": "stream",
     "text": [
      "Training:  50%|█████     | 5/10 [00:01<00:01,  3.88epoch/s]"
     ]
    },
    {
     "name": "stdout",
     "output_type": "stream",
     "text": [
      "Epoch 5/10, Cross Entropy: 0.0010876657440413943\n"
     ]
    },
    {
     "name": "stderr",
     "output_type": "stream",
     "text": [
      "Training:  60%|██████    | 6/10 [00:01<00:01,  3.97epoch/s]"
     ]
    },
    {
     "name": "stdout",
     "output_type": "stream",
     "text": [
      "Epoch 6/10, Cross Entropy: 0.0009771038578328137\n"
     ]
    },
    {
     "name": "stderr",
     "output_type": "stream",
     "text": [
      "Training:  70%|███████   | 7/10 [00:01<00:00,  3.97epoch/s]"
     ]
    },
    {
     "name": "stdout",
     "output_type": "stream",
     "text": [
      "Epoch 7/10, Cross Entropy: 0.00087233692650461\n"
     ]
    },
    {
     "name": "stderr",
     "output_type": "stream",
     "text": [
      "Training:  80%|████████  | 8/10 [00:02<00:00,  3.95epoch/s]"
     ]
    },
    {
     "name": "stdout",
     "output_type": "stream",
     "text": [
      "Epoch 8/10, Cross Entropy: 0.000783453403154823\n"
     ]
    },
    {
     "name": "stderr",
     "output_type": "stream",
     "text": [
      "Training:  90%|█████████ | 9/10 [00:02<00:00,  3.77epoch/s]"
     ]
    },
    {
     "name": "stdout",
     "output_type": "stream",
     "text": [
      "Epoch 9/10, Cross Entropy: 0.0007312770095096625\n"
     ]
    },
    {
     "name": "stderr",
     "output_type": "stream",
     "text": [
      "Training: 100%|██████████| 10/10 [00:02<00:00,  3.84epoch/s]\n"
     ]
    },
    {
     "name": "stdout",
     "output_type": "stream",
     "text": [
      "Epoch 10/10, Cross Entropy: 0.0006482532482865844\n"
     ]
    },
    {
     "name": "stderr",
     "output_type": "stream",
     "text": [
      "Training:  10%|█         | 1/10 [00:00<00:03,  2.68epoch/s]"
     ]
    },
    {
     "name": "stdout",
     "output_type": "stream",
     "text": [
      "Epoch 1/10, Cross Entropy: 0.0710653782442018\n"
     ]
    },
    {
     "name": "stderr",
     "output_type": "stream",
     "text": [
      "Training:  20%|██        | 2/10 [00:00<00:02,  2.68epoch/s]"
     ]
    },
    {
     "name": "stdout",
     "output_type": "stream",
     "text": [
      "Epoch 2/10, Cross Entropy: 0.0020616204296808574\n"
     ]
    },
    {
     "name": "stderr",
     "output_type": "stream",
     "text": [
      "Training:  30%|███       | 3/10 [00:01<00:02,  2.73epoch/s]"
     ]
    },
    {
     "name": "stdout",
     "output_type": "stream",
     "text": [
      "Epoch 3/10, Cross Entropy: 0.0014710010076154842\n"
     ]
    },
    {
     "name": "stderr",
     "output_type": "stream",
     "text": [
      "Training:  40%|████      | 4/10 [00:01<00:02,  2.68epoch/s]"
     ]
    },
    {
     "name": "stdout",
     "output_type": "stream",
     "text": [
      "Epoch 4/10, Cross Entropy: 0.0011961785910237774\n"
     ]
    },
    {
     "name": "stderr",
     "output_type": "stream",
     "text": [
      "Training:  50%|█████     | 5/10 [00:01<00:01,  2.70epoch/s]"
     ]
    },
    {
     "name": "stdout",
     "output_type": "stream",
     "text": [
      "Epoch 5/10, Cross Entropy: 0.0009964270372915974\n"
     ]
    },
    {
     "name": "stderr",
     "output_type": "stream",
     "text": [
      "Training:  60%|██████    | 6/10 [00:02<00:01,  2.75epoch/s]"
     ]
    },
    {
     "name": "stdout",
     "output_type": "stream",
     "text": [
      "Epoch 6/10, Cross Entropy: 0.0008308718755056206\n"
     ]
    },
    {
     "name": "stderr",
     "output_type": "stream",
     "text": [
      "Training:  70%|███████   | 7/10 [00:02<00:01,  2.66epoch/s]"
     ]
    },
    {
     "name": "stdout",
     "output_type": "stream",
     "text": [
      "Epoch 7/10, Cross Entropy: 0.0007434132577743004\n"
     ]
    },
    {
     "name": "stderr",
     "output_type": "stream",
     "text": [
      "Training:  80%|████████  | 8/10 [00:03<00:00,  2.58epoch/s]"
     ]
    },
    {
     "name": "stdout",
     "output_type": "stream",
     "text": [
      "Epoch 8/10, Cross Entropy: 0.0006406131551621244\n"
     ]
    },
    {
     "name": "stderr",
     "output_type": "stream",
     "text": [
      "Training:  90%|█████████ | 9/10 [00:03<00:00,  2.64epoch/s]"
     ]
    },
    {
     "name": "stdout",
     "output_type": "stream",
     "text": [
      "Epoch 9/10, Cross Entropy: 0.0005874577079824331\n"
     ]
    },
    {
     "name": "stderr",
     "output_type": "stream",
     "text": [
      "Training: 100%|██████████| 10/10 [00:03<00:00,  2.64epoch/s]\n"
     ]
    },
    {
     "name": "stdout",
     "output_type": "stream",
     "text": [
      "Epoch 10/10, Cross Entropy: 0.0005229344415146368\n"
     ]
    },
    {
     "name": "stderr",
     "output_type": "stream",
     "text": [
      "Training:  10%|█         | 1/10 [00:01<00:09,  1.07s/epoch]"
     ]
    },
    {
     "name": "stdout",
     "output_type": "stream",
     "text": [
      "Epoch 1/10, Cross Entropy: 0.9834786564024465\n"
     ]
    },
    {
     "name": "stderr",
     "output_type": "stream",
     "text": [
      "Training:  20%|██        | 2/10 [00:02<00:08,  1.06s/epoch]"
     ]
    },
    {
     "name": "stdout",
     "output_type": "stream",
     "text": [
      "Epoch 2/10, Cross Entropy: 0.8146198129702926\n"
     ]
    },
    {
     "name": "stderr",
     "output_type": "stream",
     "text": [
      "Training:  30%|███       | 3/10 [00:03<00:07,  1.08s/epoch]"
     ]
    },
    {
     "name": "stdout",
     "output_type": "stream",
     "text": [
      "Epoch 3/10, Cross Entropy: 0.7435477408439323\n"
     ]
    },
    {
     "name": "stderr",
     "output_type": "stream",
     "text": [
      "Training:  40%|████      | 4/10 [00:04<00:06,  1.05s/epoch]"
     ]
    },
    {
     "name": "stdout",
     "output_type": "stream",
     "text": [
      "Epoch 4/10, Cross Entropy: 0.6742723856557442\n"
     ]
    },
    {
     "name": "stderr",
     "output_type": "stream",
     "text": [
      "Training:  50%|█████     | 5/10 [00:05<00:05,  1.05s/epoch]"
     ]
    },
    {
     "name": "stdout",
     "output_type": "stream",
     "text": [
      "Epoch 5/10, Cross Entropy: 0.6787308079657267\n"
     ]
    },
    {
     "name": "stderr",
     "output_type": "stream",
     "text": [
      "Training:  60%|██████    | 6/10 [00:06<00:04,  1.04s/epoch]"
     ]
    },
    {
     "name": "stdout",
     "output_type": "stream",
     "text": [
      "Epoch 6/10, Cross Entropy: 0.6661325816368681\n"
     ]
    },
    {
     "name": "stderr",
     "output_type": "stream",
     "text": [
      "Training:  70%|███████   | 7/10 [00:07<00:03,  1.05s/epoch]"
     ]
    },
    {
     "name": "stdout",
     "output_type": "stream",
     "text": [
      "Epoch 7/10, Cross Entropy: 0.6678136593970901\n"
     ]
    },
    {
     "name": "stderr",
     "output_type": "stream",
     "text": [
      "Training:  80%|████████  | 8/10 [00:08<00:02,  1.05s/epoch]"
     ]
    },
    {
     "name": "stdout",
     "output_type": "stream",
     "text": [
      "Epoch 8/10, Cross Entropy: 0.684099296900581\n"
     ]
    },
    {
     "name": "stderr",
     "output_type": "stream",
     "text": [
      "Training:  90%|█████████ | 9/10 [00:09<00:01,  1.06s/epoch]"
     ]
    },
    {
     "name": "stdout",
     "output_type": "stream",
     "text": [
      "Epoch 9/10, Cross Entropy: 0.6665007922808507\n"
     ]
    },
    {
     "name": "stderr",
     "output_type": "stream",
     "text": [
      "Training: 100%|██████████| 10/10 [00:10<00:00,  1.06s/epoch]\n"
     ]
    },
    {
     "name": "stdout",
     "output_type": "stream",
     "text": [
      "Epoch 10/10, Cross Entropy: 0.6736987552015408\n"
     ]
    },
    {
     "name": "stderr",
     "output_type": "stream",
     "text": [
      "Training:  10%|█         | 1/10 [00:02<00:18,  2.08s/epoch]"
     ]
    },
    {
     "name": "stdout",
     "output_type": "stream",
     "text": [
      "Epoch 1/10, Cross Entropy: 1.4208254183670967\n"
     ]
    },
    {
     "name": "stderr",
     "output_type": "stream",
     "text": [
      "Training:  20%|██        | 2/10 [00:04<00:16,  2.07s/epoch]"
     ]
    },
    {
     "name": "stdout",
     "output_type": "stream",
     "text": [
      "Epoch 2/10, Cross Entropy: 1.2123885830277488\n"
     ]
    },
    {
     "name": "stderr",
     "output_type": "stream",
     "text": [
      "Training:  30%|███       | 3/10 [00:06<00:14,  2.07s/epoch]"
     ]
    },
    {
     "name": "stdout",
     "output_type": "stream",
     "text": [
      "Epoch 3/10, Cross Entropy: 1.13055033556808\n"
     ]
    },
    {
     "name": "stderr",
     "output_type": "stream",
     "text": [
      "Training:  40%|████      | 4/10 [00:08<00:12,  2.04s/epoch]"
     ]
    },
    {
     "name": "stdout",
     "output_type": "stream",
     "text": [
      "Epoch 4/10, Cross Entropy: 1.1028243753607183\n"
     ]
    },
    {
     "name": "stderr",
     "output_type": "stream",
     "text": [
      "Training:  50%|█████     | 5/10 [00:10<00:10,  2.05s/epoch]"
     ]
    },
    {
     "name": "stdout",
     "output_type": "stream",
     "text": [
      "Epoch 5/10, Cross Entropy: 1.121000060820997\n"
     ]
    },
    {
     "name": "stderr",
     "output_type": "stream",
     "text": [
      "Training:  60%|██████    | 6/10 [00:12<00:08,  2.04s/epoch]"
     ]
    },
    {
     "name": "stdout",
     "output_type": "stream",
     "text": [
      "Epoch 6/10, Cross Entropy: 1.1177891263215318\n"
     ]
    },
    {
     "name": "stderr",
     "output_type": "stream",
     "text": [
      "Training:  70%|███████   | 7/10 [00:14<00:06,  2.05s/epoch]"
     ]
    },
    {
     "name": "stdout",
     "output_type": "stream",
     "text": [
      "Epoch 7/10, Cross Entropy: 1.1055548090676433\n"
     ]
    },
    {
     "name": "stderr",
     "output_type": "stream",
     "text": [
      "Training:  80%|████████  | 8/10 [00:16<00:04,  2.05s/epoch]"
     ]
    },
    {
     "name": "stdout",
     "output_type": "stream",
     "text": [
      "Epoch 8/10, Cross Entropy: 1.0957841427821533\n"
     ]
    },
    {
     "name": "stderr",
     "output_type": "stream",
     "text": [
      "Training:  90%|█████████ | 9/10 [00:18<00:02,  2.09s/epoch]"
     ]
    },
    {
     "name": "stdout",
     "output_type": "stream",
     "text": [
      "Epoch 9/10, Cross Entropy: 1.1148256721549052\n"
     ]
    },
    {
     "name": "stderr",
     "output_type": "stream",
     "text": [
      "Training: 100%|██████████| 10/10 [00:20<00:00,  2.08s/epoch]\n"
     ]
    },
    {
     "name": "stdout",
     "output_type": "stream",
     "text": [
      "Epoch 10/10, Cross Entropy: 1.1138767851342757\n"
     ]
    }
   ],
   "source": [
    "n_samples, n_visible = mnist_train.shape  # n_samples, n_features\n",
    "n_classes = mnist_test_labels.shape[1]\n",
    "\n",
    "# Defining different sizes for the subsets ensuring equal representation for each class\n",
    "data_sizes = [1000, 3000, 7000, 10000, 30000, 60000]\n",
    "num_classes = len(np.unique(mnist_train_labels))\n",
    "layer_loss_data = []\n",
    "layer_error_rate_train_data = []\n",
    "layer_error_rate_test_data = []\n",
    "\n",
    "for data_size in data_sizes:\n",
    "    num_samples_per_class = data_size // num_classes\n",
    "    subset_train_data, subset_train_labels = create_stratified_subset(binary_mnist_train, mnist_train_labels, num_samples_per_class)\n",
    "    \n",
    "    hidden_layer_sizes = [200] * 2  # Fixer le nombre de couches à 2 avec 200 neurones chacune\n",
    "    dnn = DNN(input_dim=n_visible, output_dim=n_classes, hidden_layer_sizes=hidden_layer_sizes, random_state=42)\n",
    "    loss = dnn.backpropagation(subset_train_data, labels=subset_train_labels, n_epochs=10, learning_rate=3e-4, batch_size=512)\n",
    "    layer_loss_data.append(loss)\n",
    "    \n",
    "    error_rate_train, _ = dnn.test(test_data=subset_train_data, true_labels=subset_train_labels)\n",
    "    layer_error_rate_train_data.append(error_rate_train)  # Assurez-vous que error_rate_train est un scalaire\n",
    "\n",
    "    error_rate_test, _ = dnn.test(test_data=binary_mnist_test, true_labels=mnist_test_labels)\n",
    "    layer_error_rate_test_data.append(error_rate_test)  # Assurez-vous que error_rate_test est un scalaire\n",
    "\n",
    "    # Save the lists with losses and error rates\n",
    "    save_object(layer_loss_data, \"number_loss_data_\" + str(data_size) + \".pkl\",\"../results/experiments_mnist\")\n",
    "    save_object(layer_error_rate_train_data, \"number_error_rate_train_data_\" + str(data_size) + \".pkl\",\"../results/experiments_mnist\")\n",
    "    save_object(layer_error_rate_test_data, \"number_error_rate_test_data_\" + str(data_size) + \".pkl\",\"../results/experiments_mnist\")\n"
   ]
  },
  {
   "cell_type": "code",
   "execution_count": 49,
   "metadata": {},
   "outputs": [
    {
     "data": {
      "image/png": "[encoded data removed]",
      "text/plain": [
       "<Figure size 1000x600 with 1 Axes>"
      ]
     },
     "metadata": {},
     "output_type": "display_data"
    }
   ],
   "source": [
    "# Load the error rates for each data size\n",
    "data_sizes = [1000, 3000, 7000, 10000, 30000, 60000]\n",
    "train_error_rates_data = []\n",
    "test_error_rates_data = []\n",
    "\n",
    "for data_size in data_sizes:\n",
    "    train_error_rates_data = load_object(\"number_error_rate_train_data_\" + str(data_size) + \".pkl\",\"../results/experiments_mnist\")\n",
    "    test_error_rates_data = load_object(\"number_error_rate_test_data_\" + str(data_size) + \".pkl\",\"../results/experiments_mnist\")\n",
    "    \n",
    "# Plotting the error rates for different numbers of training data\n",
    "plt.figure(figsize=(10, 6))\n",
    "plt.plot(data_sizes, train_error_rates_data, label='Training Error Rate', marker='o')\n",
    "plt.plot(data_sizes, test_error_rates_data, label='Test Error Rate', marker='o')\n",
    "\n",
    "plt.xlabel('Number of Training Data')\n",
    "plt.ylabel('Error Rate')\n",
    "plt.title('Error Rate vs. Number of Training Data')\n",
    "plt.legend()\n",
    "plt.grid(True)\n",
    "plt.show()\n"
   ]
  },
  {
   "cell_type": "markdown",
   "metadata": {},
   "source": [
    "## 3.2. With pretraining"
   ]
  },
  {
   "cell_type": "code",
   "execution_count": null,
   "metadata": {},
   "outputs": [
    {
     "name": "stderr",
     "output_type": "stream",
     "text": [
      "Training RBM layers:   0%|          | 0/2 [00:00<?, ?layer/s]c:\\Users\\choho\\Desktop\\Master DS\\Deep learning II\\github\\DeepLearning2-Project-M2DS\\src\\functionals.py:17: RuntimeWarning: overflow encountered in exp\n",
      "  return 1 / (1 + np.exp(-x))\n",
      "Training RBM layers: 100%|██████████| 2/2 [00:19<00:00,  9.73s/layer]\n",
      "Training: 100%|██████████| 2/2 [00:00<00:00, 32.09epoch/s]\n"
     ]
    },
    {
     "name": "stdout",
     "output_type": "stream",
     "text": [
      "Epoch 1/2, Cross Entropy: 1.7431534944897862\n",
      "Epoch 2/2, Cross Entropy: 2.816259136315084e-10\n"
     ]
    },
    {
     "name": "stderr",
     "output_type": "stream",
     "text": [
      "Training RBM layers: 100%|██████████| 2/2 [00:18<00:00,  9.28s/layer]\n",
      "Training: 100%|██████████| 2/2 [00:00<00:00, 10.47epoch/s]\n"
     ]
    },
    {
     "name": "stdout",
     "output_type": "stream",
     "text": [
      "Epoch 1/2, Cross Entropy: 0.5628737306218816\n",
      "Epoch 2/2, Cross Entropy: 1.6347324565810695e-10\n"
     ]
    },
    {
     "name": "stderr",
     "output_type": "stream",
     "text": [
      "Training RBM layers: 100%|██████████| 2/2 [00:19<00:00,  9.94s/layer]\n",
      "Training:  50%|█████     | 1/2 [00:00<00:00,  4.27epoch/s]"
     ]
    },
    {
     "name": "stdout",
     "output_type": "stream",
     "text": [
      "Epoch 1/2, Cross Entropy: 0.1504961329616406\n"
     ]
    },
    {
     "name": "stderr",
     "output_type": "stream",
     "text": [
      "Training: 100%|██████████| 2/2 [00:00<00:00,  4.40epoch/s]\n"
     ]
    },
    {
     "name": "stdout",
     "output_type": "stream",
     "text": [
      "Epoch 2/2, Cross Entropy: 5.332633198436142e-10\n"
     ]
    },
    {
     "name": "stderr",
     "output_type": "stream",
     "text": [
      "Training RBM layers: 100%|██████████| 2/2 [00:20<00:00, 10.28s/layer]\n",
      "Training:  50%|█████     | 1/2 [00:00<00:00,  3.13epoch/s]"
     ]
    },
    {
     "name": "stdout",
     "output_type": "stream",
     "text": [
      "Epoch 1/2, Cross Entropy: 0.11700404710500936\n"
     ]
    },
    {
     "name": "stderr",
     "output_type": "stream",
     "text": [
      "Training: 100%|██████████| 2/2 [00:00<00:00,  3.10epoch/s]\n"
     ]
    },
    {
     "name": "stdout",
     "output_type": "stream",
     "text": [
      "Epoch 2/2, Cross Entropy: 3.967729347698922e-10\n"
     ]
    },
    {
     "name": "stderr",
     "output_type": "stream",
     "text": [
      "Training RBM layers: 100%|██████████| 2/2 [00:21<00:00, 10.96s/layer]\n",
      "Training:  50%|█████     | 1/2 [00:01<00:01,  1.07s/epoch]"
     ]
    },
    {
     "name": "stdout",
     "output_type": "stream",
     "text": [
      "Epoch 1/2, Cross Entropy: 4.792119086608687\n"
     ]
    },
    {
     "name": "stderr",
     "output_type": "stream",
     "text": [
      "Training: 100%|██████████| 2/2 [00:02<00:00,  1.09s/epoch]\n"
     ]
    },
    {
     "name": "stdout",
     "output_type": "stream",
     "text": [
      "Epoch 2/2, Cross Entropy: 4.427701403990591\n"
     ]
    },
    {
     "name": "stderr",
     "output_type": "stream",
     "text": [
      "Training RBM layers: 100%|██████████| 2/2 [00:22<00:00, 11.20s/layer]\n",
      "Training:  50%|█████     | 1/2 [00:02<00:02,  2.10s/epoch]"
     ]
    },
    {
     "name": "stdout",
     "output_type": "stream",
     "text": [
      "Epoch 1/2, Cross Entropy: 4.924126432877398\n"
     ]
    },
    {
     "name": "stderr",
     "output_type": "stream",
     "text": [
      "Training: 100%|██████████| 2/2 [00:04<00:00,  2.06s/epoch]\n"
     ]
    },
    {
     "name": "stdout",
     "output_type": "stream",
     "text": [
      "Epoch 2/2, Cross Entropy: 4.3343469536504236\n"
     ]
    }
   ],
   "source": [
    "n_samples, n_visible = mnist_train.shape  # n_samples, n_features\n",
    "n_classes = mnist_test_labels.shape[1]\n",
    "\n",
    "# Defining different sizes for the subsets ensuring equal representation for each class\n",
    "data_sizes = [1000, 3000, 7000, 10000, 30000, 60000]\n",
    "num_classes = len(np.unique(mnist_train_labels))\n",
    "layer_loss_data = []\n",
    "layer_error_rate_train_data = []\n",
    "layer_error_rate_test_data = []\n",
    "\n",
    "for data_size in data_sizes:\n",
    "    num_samples_per_class = data_size // num_classes\n",
    "    subset_train_data, subset_train_labels = create_stratified_subset(binary_mnist_train, mnist_train_labels, num_samples_per_class)\n",
    "    \n",
    "    hidden_layer_sizes = [200] * 2  # Fixer le nombre de couches à 2 avec 200 neurones chacune\n",
    "    dnn = DNN(input_dim=n_visible, output_dim=n_classes, hidden_layer_sizes=hidden_layer_sizes, random_state=42)\n",
    "\n",
    "    # pretrain\n",
    "    dnn.train(binary_mnist_train, n_epochs=500, learning_rate=3e-4, batch_size=512)\n",
    "\n",
    "    loss = dnn.backpropagation(subset_train_data, labels=subset_train_labels, n_epochs=100, learning_rate=3e-4, batch_size=512)\n",
    "    layer_loss_data.append(loss)\n",
    "    \n",
    "    error_rate_train, _ = dnn.test(test_data=subset_train_data, true_labels=subset_train_labels)\n",
    "    layer_error_rate_train_data.append(error_rate_train)  # Assurez-vous que error_rate_train est un scalaire\n",
    "\n",
    "    error_rate_test, _ = dnn.test(test_data=binary_mnist_test, true_labels=mnist_test_labels)\n",
    "    layer_error_rate_test_data.append(error_rate_test)  # Assurez-vous que error_rate_test est un scalaire\n",
    "\n",
    "    # Save the lists with losses and error rates\n",
    "    save_object(layer_loss_data, \"pretrain_number_loss_data_\" + str(data_size) + \".pkl\",\"../results/experiments_mnist\")\n",
    "    save_object(layer_error_rate_train_data, \"pretrain_number_error_rate_train_data_\" + str(data_size) + \".pkl\",\"../results/experiments_mnist\")\n",
    "    save_object(layer_error_rate_test_data, \"pretrain_number_error_rate_test_data_\" + str(data_size) + \".pkl\",\"../results/experiments_mnist\")\n"
   ]
  },
  {
   "cell_type": "code",
   "execution_count": null,
   "metadata": {},
   "outputs": [
    {
     "data": {
      "image/png": "[encoded data removed]",
      "text/plain": [
       "<Figure size 1000x600 with 1 Axes>"
      ]
     },
     "metadata": {},
     "output_type": "display_data"
    }
   ],
   "source": [
    "# Load the error rates for each data size\n",
    "data_sizes = [1000, 3000, 7000, 10000, 30000, 60000]\n",
    "train_error_rates_data = []\n",
    "test_error_rates_data = []\n",
    "\n",
    "for data_size in data_sizes:\n",
    "    train_error_rates_data = load_object(\"pretrain_number_error_rate_train_data_\" + str(data_size) + \".pkl\", \"../results/experiments_mnist\")\n",
    "    test_error_rates_data = load_object(\"pretrain_number_error_rate_test_data_\" + str(data_size) + \".pkl\", \"../results/experiments_mnist\")\n",
    "    \n",
    "# Plotting the error rates for different numbers of training data\n",
    "plt.figure(figsize=(10, 6))\n",
    "plt.plot(data_sizes, train_error_rates_data, label='Training Error Rate', marker='o')\n",
    "plt.plot(data_sizes, test_error_rates_data, label='Test Error Rate', marker='o')\n",
    "\n",
    "plt.xlabel('Number of Training Data')\n",
    "plt.ylabel('Error Rate')\n",
    "plt.title('Error Rate vs. Number of Training Data')\n",
    "plt.legend()\n",
    "plt.grid(True)\n",
    "plt.show()\n"
   ]
  }
 ],
 "metadata": {
  "kernelspec": {
   "display_name": ".venv",
   "language": "python",
   "name": "python3"
  },
  "language_info": {
   "codemirror_mode": {
    "name": "ipython",
    "version": 3
   },
   "file_extension": ".py",
   "mimetype": "text/x-python",
   "name": "python",
   "nbconvert_exporter": "python",
   "pygments_lexer": "ipython3",
   "version": "3.10.11"
  }
 },
 "nbformat": 4,
 "nbformat_minor": 2
}
