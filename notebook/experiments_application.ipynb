{
 "cells": [
  {
   "cell_type": "markdown",
   "metadata": {},
   "source": [
    "# Experiments"
   ]
  },
  {
   "cell_type": "code",
   "execution_count": 3,
   "metadata": {},
   "outputs": [
    {
     "name": "stdout",
     "output_type": "stream",
     "text": [
      "Obtaining file:///C:/Users/choho/Desktop/Master%20DS/Deep%20learning%20II/github/DeepLearning2-Project-M2DS\n",
      "  Installing build dependencies: started\n",
      "  Installing build dependencies: finished with status 'done'\n",
      "  Checking if build backend supports build_editable: started\n",
      "  Checking if build backend supports build_editable: finished with status 'done'\n",
      "  Getting requirements to build editable: started\n",
      "  Getting requirements to build editable: finished with status 'done'\n",
      "  Installing backend dependencies: started\n",
      "  Installing backend dependencies: finished with status 'done'\n",
      "  Preparing editable metadata (pyproject.toml): started\n",
      "  Preparing editable metadata (pyproject.toml): finished with status 'done'\n",
      "Building wheels for collected packages: generative_model\n",
      "  Building editable for generative_model (pyproject.toml): started\n",
      "  Building editable for generative_model (pyproject.toml): finished with status 'done'\n",
      "  Created wheel for generative_model: filename=generative_model-0.1-0.editable-py3-none-any.whl size=13944 sha256=32852f18bdf7559e8721a878a2ebb0cf5c25d3eaa3747d72b8b958007bd6de97\n",
      "  Stored in directory: C:\\Users\\choho\\AppData\\Local\\Temp\\pip-ephem-wheel-cache-0zh7oghl\\wheels\\01\\d4\\53\\df1e644a772df8fb014fe243642f4c565ab30c602af6122b77\n",
      "Successfully built generative_model\n",
      "Installing collected packages: generative_model\n",
      "  Attempting uninstall: generative_model\n",
      "    Found existing installation: generative_model 0.1\n",
      "    Uninstalling generative_model-0.1:\n",
      "      Successfully uninstalled generative_model-0.1\n",
      "Successfully installed generative_model-0.1\n"
     ]
    }
   ],
   "source": [
    "#!pip install matplotlib\n",
    "#!pip install pandas\n",
    "#!pip install tqdm\n",
    "\n",
    "# code for importing from src\n",
    "import os\n",
    "os.chdir('../') # change working directory to the root of the project\n",
    "# install package in editable mode\n",
    "!pip install -e . \n",
    "os.chdir('src') # change working directory back to src"
   ]
  },
  {
   "cell_type": "code",
   "execution_count": 4,
   "metadata": {},
   "outputs": [],
   "source": [
    "# Import.\n",
    "import os\n",
    "\n",
    "import numpy as np\n",
    "import matplotlib.pyplot as plt\n",
    "import pandas as pd\n",
    "\n",
    "from models.rbm import RBM\n",
    "from models.dbn import DBN\n",
    "from models.dnn import DNN\n",
    "from utils import (\n",
    "    load_mnist,\n",
    "    load_alphadigit,\n",
    "    read_alpha_digit,\n",
    "    plot_characters_alphadigit,\n",
    "    plot_generated_images\n",
    ")"
   ]
  },
  {
   "cell_type": "code",
   "execution_count": 5,
   "metadata": {},
   "outputs": [],
   "source": [
    "DATA_FOLDER = \"../data/\"\n",
    "ALPHA_DIGIT_PATH = os.path.join(DATA_FOLDER, \"binaryalphadigs.mat\")\n",
    "MNIST_PATH = os.path.join(DATA_FOLDER, \"mnist_all.mat\")\n",
    "\n",
    "for path in [ALPHA_DIGIT_PATH, MNIST_PATH]:\n",
    "    if not os.path.exists(path):\n",
    "        raise FileNotFoundError(f\"The file {path} does not exist.\")\n",
    "\n",
    "SEED = 42"
   ]
  },
  {
   "cell_type": "markdown",
   "metadata": {},
   "source": [
    "## 1. Study on BinaryAlphaDigit"
   ]
  },
  {
   "cell_type": "code",
   "execution_count": 6,
   "metadata": {},
   "outputs": [
    {
     "data": {
      "image/png": "[encoded data removed]",
      "text/plain": [
       "<Figure size 400x200 with 2 Axes>"
      ]
     },
     "metadata": {},
     "output_type": "display_data"
    },
    {
     "data": {
      "image/png": "[encoded data removed]",
      "text/plain": [
       "<Figure size 800x200 with 4 Axes>"
      ]
     },
     "metadata": {},
     "output_type": "display_data"
    },
    {
     "name": "stdout",
     "output_type": "stream",
     "text": [
      "Original data: (36, 39)\n",
      "Original data (unstack samples -> flatten images): (1365, 320)\n",
      "Subset (1 character) data  (39, 320)\n",
      "Subset (4 characters) data  (156, 320)\n"
     ]
    }
   ],
   "source": [
    "alphadigit = load_alphadigit(ALPHA_DIGIT_PATH)\n",
    "\n",
    "chars_1 = [8]\n",
    "chars_2 = chars_1 + [\"Y\"]\n",
    "chars_3 = chars_2 + [\"L\"]\n",
    "chars_4 = chars_3 + [\"H\"]\n",
    "data_alpha_1 = read_alpha_digit(chars_1, data=alphadigit, use_data=True)\n",
    "data_alpha_2 = read_alpha_digit(chars_2, data=alphadigit, use_data=True)\n",
    "data_alpha_3 = read_alpha_digit(chars_3, data=alphadigit, use_data=True)\n",
    "data_alpha_4 = read_alpha_digit(chars_4, data=alphadigit, use_data=True)\n",
    "\n",
    "all_chars = np.arange(0, 35).tolist()\n",
    "alphadigit_data = read_alpha_digit(all_chars, data=alphadigit, use_data=True) # read all characters\n",
    "\n",
    "plot_characters_alphadigit(chars_1, data_alpha_1)\n",
    "plot_characters_alphadigit(chars_4, data_alpha_4)\n",
    "\n",
    "print(\"Original data:\", alphadigit.shape)\n",
    "print(\"Original data (unstack samples -> flatten images):\", alphadigit_data.shape)\n",
    "print(f\"Subset ({len(chars_1)} character) data \", data_alpha_1.shape)\n",
    "print(f\"Subset ({len(chars_4)} characters) data \", data_alpha_4.shape)"
   ]
  },
  {
   "cell_type": "markdown",
   "metadata": {},
   "source": [
    "### RBM"
   ]
  },
  {
   "cell_type": "code",
   "execution_count": 7,
   "metadata": {},
   "outputs": [
    {
     "name": "stdout",
     "output_type": "stream",
     "text": [
      "RBM(n_visible=320, n_hidden=200)\n"
     ]
    },
    {
     "data": {
      "text/plain": [
       "[0.2288,\n",
       " 0.2056,\n",
       " 0.2133,\n",
       " 0.1863,\n",
       " 0.184,\n",
       " 0.1968,\n",
       " 0.1862,\n",
       " 0.1958,\n",
       " 0.1735,\n",
       " 0.1743,\n",
       " 0.1879,\n",
       " 0.1706,\n",
       " 0.1564,\n",
       " 0.1766,\n",
       " 0.2011,\n",
       " 0.158,\n",
       " 0.199,\n",
       " 0.1701,\n",
       " 0.1641,\n",
       " 0.2054,\n",
       " 0.1746,\n",
       " 0.1632,\n",
       " 0.1348,\n",
       " 0.1765,\n",
       " 0.1417,\n",
       " 0.1458,\n",
       " 0.1404,\n",
       " 0.1551,\n",
       " 0.1345,\n",
       " 0.1524,\n",
       " 0.1437,\n",
       " 0.1504,\n",
       " 0.1596,\n",
       " 0.1386,\n",
       " 0.1311,\n",
       " 0.1637,\n",
       " 0.1363,\n",
       " 0.1458,\n",
       " 0.1603,\n",
       " 0.1189,\n",
       " 0.1173,\n",
       " 0.1593,\n",
       " 0.139,\n",
       " 0.1317,\n",
       " 0.1056,\n",
       " 0.1481,\n",
       " 0.1592,\n",
       " 0.1063,\n",
       " 0.1248,\n",
       " 0.1268,\n",
       " 0.1116,\n",
       " 0.1078,\n",
       " 0.1205,\n",
       " 0.1015,\n",
       " 0.1327,\n",
       " 0.1222,\n",
       " 0.1075,\n",
       " 0.1284,\n",
       " 0.1265,\n",
       " 0.1534,\n",
       " 0.0935,\n",
       " 0.1138,\n",
       " 0.1276,\n",
       " 0.1299,\n",
       " 0.1148,\n",
       " 0.1249,\n",
       " 0.1166,\n",
       " 0.1173,\n",
       " 0.1166,\n",
       " 0.0965,\n",
       " 0.1311,\n",
       " 0.0987,\n",
       " 0.109,\n",
       " 0.1126,\n",
       " 0.0896,\n",
       " 0.1041,\n",
       " 0.1231,\n",
       " 0.1066,\n",
       " 0.1022,\n",
       " 0.1061,\n",
       " 0.1104,\n",
       " 0.1105,\n",
       " 0.1055,\n",
       " 0.1173,\n",
       " 0.1136,\n",
       " 0.1335,\n",
       " 0.1006,\n",
       " 0.1049,\n",
       " 0.1133,\n",
       " 0.1184,\n",
       " 0.1014,\n",
       " 0.1317,\n",
       " 0.1081,\n",
       " 0.0904,\n",
       " 0.1172,\n",
       " 0.085,\n",
       " 0.1171,\n",
       " 0.1191,\n",
       " 0.1051,\n",
       " 0.1293]"
      ]
     },
     "execution_count": 7,
     "metadata": {},
     "output_type": "execute_result"
    }
   ],
   "source": [
    "data_alpha = data_alpha_1\n",
    "n_chars = data_alpha.shape[0] / 39\n",
    "\n",
    "# Parameters\n",
    "n_visible = data_alpha.shape[1]  # Number of visible units (size of each image)\n",
    "n_hidden = 200  # Number of hidden units (hyperparameter)\n",
    "learning_rate = 0.1\n",
    "n_epochs = 100\n",
    "batch_size = int(8 * n_chars)\n",
    "\n",
    "# Initialize RBM\n",
    "rbm = RBM(n_visible=n_visible, n_hidden=n_hidden, random_state=SEED)\n",
    "print(rbm)\n",
    "\n",
    "# Train RBM\n",
    "rbm.train(data_alpha, learning_rate=learning_rate, n_epochs=n_epochs, batch_size=batch_size)"
   ]
  },
  {
   "cell_type": "code",
   "execution_count": 8,
   "metadata": {},
   "outputs": [
    {
     "data": {
      "image/png": "[encoded data removed]",
      "text/plain": [
       "<Figure size 2000x200 with 10 Axes>"
      ]
     },
     "metadata": {},
     "output_type": "display_data"
    }
   ],
   "source": [
    "# Generate samples\n",
    "generated_samples = rbm.generate_image(n_samples=10, n_gibbs_steps=1)\n",
    "\n",
    "plot_generated_images(generated_samples, **{\"cmap\":None})"
   ]
  },
  {
   "cell_type": "markdown",
   "metadata": {},
   "source": [
    "### DBN"
   ]
  },
  {
   "cell_type": "code",
   "execution_count": 9,
   "metadata": {},
   "outputs": [
    {
     "name": "stderr",
     "output_type": "stream",
     "text": [
      "Training RBM layers: 100%|██████████| 3/3 [00:01<00:00,  2.11layer/s]\n"
     ]
    },
    {
     "data": {
      "text/plain": [
       "([0.2288,\n",
       "  0.2056,\n",
       "  0.2133,\n",
       "  0.1863,\n",
       "  0.184,\n",
       "  0.1968,\n",
       "  0.1862,\n",
       "  0.1958,\n",
       "  0.1735,\n",
       "  0.1743,\n",
       "  0.1879,\n",
       "  0.1706,\n",
       "  0.1564,\n",
       "  0.1766,\n",
       "  0.2011,\n",
       "  0.158,\n",
       "  0.199,\n",
       "  0.1701,\n",
       "  0.1641,\n",
       "  0.2054,\n",
       "  0.1746,\n",
       "  0.1632,\n",
       "  0.1348,\n",
       "  0.1765,\n",
       "  0.1417,\n",
       "  0.1458,\n",
       "  0.1404,\n",
       "  0.1551,\n",
       "  0.1345,\n",
       "  0.1524,\n",
       "  0.1437,\n",
       "  0.1504,\n",
       "  0.1596,\n",
       "  0.1386,\n",
       "  0.1311,\n",
       "  0.1637,\n",
       "  0.1363,\n",
       "  0.1458,\n",
       "  0.1603,\n",
       "  0.1189,\n",
       "  0.1173,\n",
       "  0.1593,\n",
       "  0.139,\n",
       "  0.1317,\n",
       "  0.1056,\n",
       "  0.1481,\n",
       "  0.1592,\n",
       "  0.1063,\n",
       "  0.1248,\n",
       "  0.1268,\n",
       "  0.1116,\n",
       "  0.1078,\n",
       "  0.1205,\n",
       "  0.1015,\n",
       "  0.1327,\n",
       "  0.1222,\n",
       "  0.1075,\n",
       "  0.1284,\n",
       "  0.1265,\n",
       "  0.1534,\n",
       "  0.0935,\n",
       "  0.1138,\n",
       "  0.1276,\n",
       "  0.1299,\n",
       "  0.1148,\n",
       "  0.1249,\n",
       "  0.1166,\n",
       "  0.1173,\n",
       "  0.1166,\n",
       "  0.0965,\n",
       "  0.1311,\n",
       "  0.0987,\n",
       "  0.109,\n",
       "  0.1126,\n",
       "  0.0896,\n",
       "  0.1041,\n",
       "  0.1231,\n",
       "  0.1066,\n",
       "  0.1022,\n",
       "  0.1061,\n",
       "  0.1104,\n",
       "  0.1105,\n",
       "  0.1055,\n",
       "  0.1173,\n",
       "  0.1136,\n",
       "  0.1335,\n",
       "  0.1006,\n",
       "  0.1049,\n",
       "  0.1133,\n",
       "  0.1184,\n",
       "  0.1014,\n",
       "  0.1317,\n",
       "  0.1081,\n",
       "  0.0904,\n",
       "  0.1172,\n",
       "  0.085,\n",
       "  0.1171,\n",
       "  0.1191,\n",
       "  0.1051,\n",
       "  0.1293,\n",
       "  0.008,\n",
       "  0.0154,\n",
       "  0.0114,\n",
       "  0.019,\n",
       "  0.0128,\n",
       "  0.0084,\n",
       "  0.0088,\n",
       "  0.0081,\n",
       "  0.0116,\n",
       "  0.0091,\n",
       "  0.0084,\n",
       "  0.0086,\n",
       "  0.0115,\n",
       "  0.0091,\n",
       "  0.0101,\n",
       "  0.0063,\n",
       "  0.0103,\n",
       "  0.0078,\n",
       "  0.0084,\n",
       "  0.0083,\n",
       "  0.0068,\n",
       "  0.0069,\n",
       "  0.0061,\n",
       "  0.0081,\n",
       "  0.0062,\n",
       "  0.0069,\n",
       "  0.0072,\n",
       "  0.0054,\n",
       "  0.0067,\n",
       "  0.006,\n",
       "  0.0089,\n",
       "  0.0077,\n",
       "  0.006,\n",
       "  0.007,\n",
       "  0.0093,\n",
       "  0.0094,\n",
       "  0.0064,\n",
       "  0.0055,\n",
       "  0.0076,\n",
       "  0.0059,\n",
       "  0.0059,\n",
       "  0.0043,\n",
       "  0.0071,\n",
       "  0.0049,\n",
       "  0.0054,\n",
       "  0.0051,\n",
       "  0.0066,\n",
       "  0.0071,\n",
       "  0.0047,\n",
       "  0.0077,\n",
       "  0.0043,\n",
       "  0.005,\n",
       "  0.0067,\n",
       "  0.0069,\n",
       "  0.0057,\n",
       "  0.006,\n",
       "  0.0036,\n",
       "  0.0061,\n",
       "  0.0047,\n",
       "  0.0054,\n",
       "  0.0054,\n",
       "  0.0053,\n",
       "  0.0052,\n",
       "  0.0063,\n",
       "  0.004,\n",
       "  0.0044,\n",
       "  0.0061,\n",
       "  0.003,\n",
       "  0.0046,\n",
       "  0.0045,\n",
       "  0.0044,\n",
       "  0.0054,\n",
       "  0.0037,\n",
       "  0.0028,\n",
       "  0.0039,\n",
       "  0.0025,\n",
       "  0.0062,\n",
       "  0.003,\n",
       "  0.0019,\n",
       "  0.0028,\n",
       "  0.0068,\n",
       "  0.0073,\n",
       "  0.0064,\n",
       "  0.0038,\n",
       "  0.006,\n",
       "  0.0044,\n",
       "  0.0045,\n",
       "  0.006,\n",
       "  0.0024,\n",
       "  0.0064,\n",
       "  0.0044,\n",
       "  0.0037,\n",
       "  0.004,\n",
       "  0.0033,\n",
       "  0.0046,\n",
       "  0.0034,\n",
       "  0.0024,\n",
       "  0.0048,\n",
       "  0.0049,\n",
       "  0.0053,\n",
       "  0.1802,\n",
       "  0.1517,\n",
       "  0.1528,\n",
       "  0.1361,\n",
       "  0.143,\n",
       "  0.147,\n",
       "  0.12,\n",
       "  0.1061,\n",
       "  0.1021,\n",
       "  0.0969,\n",
       "  0.0712,\n",
       "  0.0825,\n",
       "  0.0709,\n",
       "  0.0767,\n",
       "  0.0613,\n",
       "  0.0632,\n",
       "  0.0252,\n",
       "  0.0518,\n",
       "  0.0477,\n",
       "  0.0635,\n",
       "  0.0456,\n",
       "  0.0231,\n",
       "  0.0409,\n",
       "  0.039,\n",
       "  0.0241,\n",
       "  0.0185,\n",
       "  0.0152,\n",
       "  0.012,\n",
       "  0.0393,\n",
       "  0.0125,\n",
       "  0.0135,\n",
       "  0.0216,\n",
       "  0.0268,\n",
       "  0.0155,\n",
       "  0.0105,\n",
       "  0.0086,\n",
       "  0.015,\n",
       "  0.014,\n",
       "  0.0083,\n",
       "  0.008,\n",
       "  0.0094,\n",
       "  0.0132,\n",
       "  0.0188,\n",
       "  0.0136,\n",
       "  0.0138,\n",
       "  0.0062,\n",
       "  0.005,\n",
       "  0.0083,\n",
       "  0.0046,\n",
       "  0.0094,\n",
       "  0.0091,\n",
       "  0.0061,\n",
       "  0.0068,\n",
       "  0.0046,\n",
       "  0.0059,\n",
       "  0.0051,\n",
       "  0.004,\n",
       "  0.0041,\n",
       "  0.0044,\n",
       "  0.0042,\n",
       "  0.0061,\n",
       "  0.0042,\n",
       "  0.0065,\n",
       "  0.005,\n",
       "  0.0022,\n",
       "  0.0047,\n",
       "  0.0031,\n",
       "  0.0035,\n",
       "  0.0027,\n",
       "  0.0028,\n",
       "  0.0032,\n",
       "  0.0022,\n",
       "  0.0015,\n",
       "  0.0025,\n",
       "  0.0014,\n",
       "  0.0024,\n",
       "  0.0016,\n",
       "  0.002,\n",
       "  0.0013,\n",
       "  0.0008,\n",
       "  0.0016,\n",
       "  0.0024,\n",
       "  0.0028,\n",
       "  0.0019,\n",
       "  0.0026,\n",
       "  0.0012,\n",
       "  0.0008,\n",
       "  0.0011,\n",
       "  0.001,\n",
       "  0.0009,\n",
       "  0.0008,\n",
       "  0.002,\n",
       "  0.0016,\n",
       "  0.001,\n",
       "  0.0008,\n",
       "  0.001,\n",
       "  0.0018,\n",
       "  0.0008,\n",
       "  0.0006,\n",
       "  0.001],\n",
       " [0.1293, 0.0053, 0.001])"
      ]
     },
     "execution_count": 9,
     "metadata": {},
     "output_type": "execute_result"
    }
   ],
   "source": [
    "data_alpha = data_alpha_1\n",
    "n_chars = data_alpha.shape[0] / 39\n",
    "\n",
    "# Parameters\n",
    "n_visible = data_alpha.shape[1]  # Number of visible units (size of each image)\n",
    "n_hidden = 200  # Number of hidden units (hyperparameter)\n",
    "hidden_layer_sizes = [200, 200, 200]\n",
    "\n",
    "learning_rate = 0.1\n",
    "n_epochs = 100\n",
    "batch_size = int(8 * n_chars)\n",
    "\n",
    "dbn = DBN(n_visible=n_visible, hidden_layer_sizes=hidden_layer_sizes, random_state=SEED)\n",
    "dbn.train(data_alpha, learning_rate=learning_rate, n_epochs=n_epochs, batch_size=batch_size)"
   ]
  },
  {
   "cell_type": "code",
   "execution_count": 10,
   "metadata": {},
   "outputs": [
    {
     "data": {
      "image/png": "[encoded data removed]",
      "text/plain": [
       "<Figure size 2000x200 with 10 Axes>"
      ]
     },
     "metadata": {},
     "output_type": "display_data"
    }
   ],
   "source": [
    "# # Generate images\n",
    "generated_images = dbn.generate_image(n_samples=10, n_gibbs_steps=1)\n",
    "\n",
    "# Display generated images\n",
    "plot_generated_images(generated_images, **{\"cmap\":None})"
   ]
  },
  {
   "cell_type": "markdown",
   "metadata": {},
   "source": [
    "### MNIST"
   ]
  },
  {
   "cell_type": "code",
   "execution_count": 11,
   "metadata": {},
   "outputs": [],
   "source": [
    "import scipy.io"
   ]
  },
  {
   "cell_type": "code",
   "execution_count": 12,
   "metadata": {},
   "outputs": [
    {
     "data": {
      "text/plain": [
       "[(60000, 784), (60000, 10), (10000, 784), (10000, 10)]"
      ]
     },
     "execution_count": 12,
     "metadata": {},
     "output_type": "execute_result"
    }
   ],
   "source": [
    "def load_mnist(mnist_path, mnist_dict=None, use_dict=False):\n",
    "    if not use_dict:\n",
    "        mnist_dict = scipy.io.loadmat(mnist_path)\n",
    "    \n",
    "    X_train = np.concatenate([mnist_dict[f\"train{i}\"] for i in range(10)], axis=0)\n",
    "    X_test = np.concatenate([mnist_dict[f\"test{i}\"] for i in range(10)], axis=0)\n",
    "    \n",
    "    y_train = np.concatenate([np.eye(10)[[i]*mnist_dict[f\"train{i}\"].shape[0]] for i in range(10)], axis=0)\n",
    "    y_test = np.concatenate([np.eye(10)[[i]*mnist_dict[f\"test{i}\"].shape[0]] for i in range(10)], axis=0)\n",
    "\n",
    "    return X_train, y_train, X_test, y_test\n",
    "\n",
    "\n",
    "def sample_indices(data_size: int, sample_size: int, random_state=None) -> np.ndarray:\n",
    "    \"\"\"\n",
    "    Randomly sample indices from the range [0, data_size) without replacement.\n",
    "\n",
    "    Parameters:\n",
    "        data_size (int): Total number of indices available.\n",
    "        sample_size (int): Number of indices to sample.\n",
    "        random_state: Random seed for reproducibility.\n",
    "\n",
    "    Returns:\n",
    "        numpy.ndarray: Array of sampled indices.\n",
    "    \"\"\"\n",
    "    rng = np.random.default_rng(random_state)\n",
    "    if sample_size >= data_size:\n",
    "        return np.arange(data_size)\n",
    "\n",
    "    sampled_indices = rng.choice(data_size, size=sample_size, replace=False)\n",
    "    return sampled_indices\n",
    "\n",
    "def sample_mnist(X_train: np.ndarray, y_train: np.ndarray, sample_size: int, random_state=None) -> tuple:\n",
    "    \"\"\"\n",
    "    Randomly sample a subset of samples from the MNIST dataset.\n",
    "\n",
    "    Parameters:\n",
    "        X_train (numpy.ndarray): Training data.\n",
    "        y_train (numpy.ndarray): Training labels.\n",
    "        sample_size (int): Number of samples to sample.\n",
    "        random_state: Random seed for reproducibility.\n",
    "\n",
    "    Returns:\n",
    "        tuple: Sampled subset of training data and labels.\n",
    "    \"\"\"\n",
    "    # Sample indices\n",
    "    indices = sample_indices(len(X_train), sample_size, random_state=random_state)\n",
    "    \n",
    "    # Sample data and labels\n",
    "    sampled_X_train = X_train[indices]\n",
    "    sampled_y_train = y_train[indices]\n",
    "    \n",
    "    return sampled_X_train, sampled_y_train\n",
    "\n",
    "\n",
    "def binarize_images(images):\n",
    "    threshold = 127\n",
    "    binary_images = np.where(images > threshold, 1, 0)\n",
    "    return binary_images\n",
    "\n",
    "mnist_train, mnist_train_labels, mnist_test, mnist_test_labels = (\n",
    "    load_mnist(MNIST_PATH)\n",
    ")\n",
    "\n",
    "\n",
    "# Binarize the images\n",
    "binary_mnist_train = binarize_images(mnist_train)\n",
    "binary_mnist_test = binarize_images(mnist_test)\n",
    "\n",
    "\n",
    "[mnist.shape for mnist in (mnist_train, mnist_train_labels, mnist_test, mnist_test_labels)]"
   ]
  },
  {
   "cell_type": "code",
   "execution_count": 13,
   "metadata": {},
   "outputs": [
    {
     "data": {
      "text/plain": [
       "((30000, 784), (30000, 10))"
      ]
     },
     "execution_count": 13,
     "metadata": {},
     "output_type": "execute_result"
    }
   ],
   "source": [
    "mnist_train_30000, mnist_train_labels_30000 = sample_mnist(mnist_train, mnist_train_labels, 30_000, 42)\n",
    "mnist_train_30000.shape, mnist_train_labels_30000.shape"
   ]
  },
  {
   "cell_type": "code",
   "execution_count": 14,
   "metadata": {},
   "outputs": [
    {
     "name": "stdout",
     "output_type": "stream",
     "text": [
      "255 1\n"
     ]
    }
   ],
   "source": [
    "print(mnist_train.max(), binary_mnist_train.max())"
   ]
  },
  {
   "cell_type": "code",
   "execution_count": 15,
   "metadata": {},
   "outputs": [
    {
     "name": "stdout",
     "output_type": "stream",
     "text": [
      "MNIST (60000, 28, 28)\n"
     ]
    },
    {
     "data": {
      "image/png": "[encoded data removed]",
      "text/plain": [
       "<Figure size 1500x300 with 5 Axes>"
      ]
     },
     "metadata": {},
     "output_type": "display_data"
    }
   ],
   "source": [
    "# Reshape mnist_train to its original shape\n",
    "image_height = 28\n",
    "image_width = 28\n",
    "num_samples = binary_mnist_train.shape[0]\n",
    "binary_mnist_train_images = binary_mnist_train.reshape(num_samples, image_height, image_width)\n",
    "print(\"MNIST\", binary_mnist_train_images.shape)\n",
    "\n",
    "# Plot some images from mnist_train\n",
    "num_images_to_plot = 5\n",
    "fig, axes = plt.subplots(1, num_images_to_plot, figsize=(15, 3))\n",
    "for i in range(num_images_to_plot):\n",
    "    axes[i].imshow(binary_mnist_train_images[i], cmap='gray')\n",
    "    axes[i].set_title(f\"Image {i+1}\")\n",
    "    axes[i].axis('off')\n",
    "\n",
    "plt.tight_layout()\n",
    "plt.show()"
   ]
  },
  {
   "cell_type": "code",
   "execution_count": 16,
   "metadata": {},
   "outputs": [
    {
     "name": "stdout",
     "output_type": "stream",
     "text": [
      "Help on class DNN in module models.dnn:\n",
      "\n",
      "class DNN(models.dbn.DBN)\n",
      " |  DNN(input_dim: int, output_dim: int, hidden_layer_sizes: List[int], random_state=None)\n",
      " |  \n",
      " |  Method resolution order:\n",
      " |      DNN\n",
      " |      models.dbn.DBN\n",
      " |      builtins.object\n",
      " |  \n",
      " |  Methods defined here:\n",
      " |  \n",
      " |  __getitem__(self, key)\n",
      " |  \n",
      " |  __init__(self, input_dim: int, output_dim: int, hidden_layer_sizes: List[int], random_state=None)\n",
      " |      Initialize the Deep Neural Network (DNN).\n",
      " |      \n",
      " |      Parameters:\n",
      " |      - input_dim (int): Dimension of the input.\n",
      " |      - output_dim (int): Dimension of the output.\n",
      " |      - hidden_layer_sizes (List[int]): List of sizes for each hidden layer.\n",
      " |      - random_state: Random seed for reproducibility.\n",
      " |  \n",
      " |  __len__(self)\n",
      " |  \n",
      " |  __repr__(self)\n",
      " |      Return a string representation of the DBN object.\n",
      " |  \n",
      " |  backpropagation(self, input_data: numpy.ndarray, labels: numpy.ndarray, n_epochs: int = 100, learning_rate: float = 0.1, batch_size: int = 10, eps: float = 1e-15) -> 'DNN'\n",
      " |      Estimate the weights/biases of the network using backpropagation algorithm.\n",
      " |      \n",
      " |      Parameters:\n",
      " |      - input_data (numpy.ndarray): Input data, shape (n_samples, n_visible).\n",
      " |      - labels (numpy.ndarray): Labels for the input data, shape\n",
      " |          (n_samples, n_classes).\n",
      " |      - n_epochs (int): Number of training epochs.\n",
      " |      - learning_rate (float): Learning rate for gradient descent.\n",
      " |      - batch_size (int): Size of mini-batches.\n",
      " |      - eps (float): Small value to avoid numerical instability in logarithm\n",
      " |          calculation. Default is 1e-15.\n",
      " |      \n",
      " |      Returns:\n",
      " |      - DNN: Updated DNN instance.\n",
      " |  \n",
      " |  input_output_network(self, input_data: numpy.ndarray) -> List[numpy.ndarray]\n",
      " |      Get the outputs on each layer of the DNN and the softmax probabilities on the output layer.\n",
      " |      \n",
      " |      Parameters:\n",
      " |      - input_data (numpy.ndarray): Input data, shape (n_samples, n_visible).\n",
      " |      \n",
      " |      Returns:\n",
      " |      - List[np.ndarray]: Input data, outputs on each layer and softmax probabilities.\n",
      " |  \n",
      " |  pretrain(self, n_epochs: int, learning_rate: float, batch_size: int, data: numpy.ndarray, print_each=20, verbose=False) -> 'DNN'\n",
      " |      Pretrain the hidden layers of the DNN using the DBN training method.\n",
      " |      \n",
      " |      Parameters:\n",
      " |      - n_epochs (int): Number of training epochs.\n",
      " |      - learning_rate (float): Learning rate for gradient descent.\n",
      " |      - batch_size (int): Size of mini-batches.\n",
      " |      - data (numpy.ndarray): Input data, shape (n_samples, n_visible).\n",
      " |      \n",
      " |      Returns:\n",
      " |      - DNN: Pretrained DNN instance.\n",
      " |  \n",
      " |  test(self, test_data: numpy.ndarray, true_labels: numpy.ndarray) -> float\n",
      " |      Test the performance of the trained DNN on a test dataset.\n",
      " |      \n",
      " |      Parameters:\n",
      " |      - test_data (numpy.ndarray): Test data, shape (n_samples, n_visible).\n",
      " |      - true_labels (numpy.ndarray): True labels for the test data,\n",
      " |          shape (n_samples, n_classes).\n",
      " |      \n",
      " |      Returns:\n",
      " |      - float: Classification error rate.\n",
      " |  \n",
      " |  update(self, dZ_lead: numpy.ndarray, dW_lead: numpy.ndarray, layer_outputs: List[numpy.ndarray], id_layer: int, batch_size: int, learning_rate: float) -> Tuple[numpy.ndarray, numpy.ndarray]\n",
      " |      Update the weights and biases of a layer.\n",
      " |      \n",
      " |      Parameters:\n",
      " |      - dZ_lead (numpy.ndarray): Gradient with respect to the layer's output.\n",
      " |      - dW_lead (numpy.ndarray): Gradient with respect to the layer's weights.\n",
      " |      - layer_outputs (List[np.ndarray]): Outputs of each layer.\n",
      " |      - id_layer (int): Index of the layer.\n",
      " |      - batch_size (int): Size of mini-batches.\n",
      " |      - learning_rate (float): Learning rate.\n",
      " |      \n",
      " |      Returns:\n",
      " |      - Tuple[np.ndarray, np.ndarray]: Updated gradient with respect to the\n",
      " |          layer's output and weights.\n",
      " |  \n",
      " |  ----------------------------------------------------------------------\n",
      " |  Methods inherited from models.dbn.DBN:\n",
      " |  \n",
      " |  generate_image(self, n_samples: int = 1, n_gibbs_steps: int = 100) -> numpy.ndarray\n",
      " |      Generate samples from the DBN using Gibbs sampling.\n",
      " |      \n",
      " |      Parameters:\n",
      " |      - n_samples (int): Number of samples to generate. Default is 1.\n",
      " |      - n_gibbs_steps (int): Number of Gibbs sampling steps. Default is 100.\n",
      " |      \n",
      " |      Returns:\n",
      " |      - numpy.ndarray: Generated samples, shape (n_samples, n_visible).\n",
      " |  \n",
      " |  train(self, data: numpy.ndarray, learning_rate: float = 0.1, n_epochs: int = 10, batch_size: int = 10, print_each: int = 10, verbose=False, **kwargs) -> 'DBN'\n",
      " |      Train the DBN using Greedy layer-wise procedure.\n",
      " |      \n",
      " |      Parameters:\n",
      " |      - data (numpy.ndarray): Input data, shape (n_samples, n_visible).\n",
      " |      - learning_rate (float): Learning rate for gradient descent. Default is 0.1.\n",
      " |      - n_epochs (int): Number of training epochs. Default is 10.\n",
      " |      - batch_size (int): Size of mini-batches. Default is 10.\n",
      " |      - print_each: Print reconstruction error each `print_each` epochs.\n",
      " |      - verbose (bool): Whether to print training progress. Default is False.\n",
      " |      - **kwargs: Additional arguments to be passed to RBM.train().\n",
      " |      \n",
      " |      Returns:\n",
      " |      - DBN: Trained DBN instance.\n",
      " |  \n",
      " |  ----------------------------------------------------------------------\n",
      " |  Data descriptors inherited from models.dbn.DBN:\n",
      " |  \n",
      " |  __dict__\n",
      " |      dictionary for instance variables (if defined)\n",
      " |  \n",
      " |  __weakref__\n",
      " |      list of weak references to the object (if defined)\n",
      "\n"
     ]
    }
   ],
   "source": [
    "help(DNN)"
   ]
  },
  {
   "cell_type": "markdown",
   "metadata": {},
   "source": [
    "# 0.Verify that DNN work well"
   ]
  },
  {
   "cell_type": "code",
   "execution_count": 17,
   "metadata": {},
   "outputs": [
    {
     "name": "stderr",
     "output_type": "stream",
     "text": [
      "Training:   0%|          | 0/10 [00:00<?, ?epoch/s]c:\\Users\\choho\\Desktop\\Master DS\\Deep learning II\\github\\DeepLearning2-Project-M2DS\\src\\functionals.py:17: RuntimeWarning: overflow encountered in exp\n",
      "  return 1 / (1 + np.exp(-x))\n",
      "Training:  10%|█         | 1/10 [00:01<00:17,  1.90s/epoch]"
     ]
    },
    {
     "name": "stdout",
     "output_type": "stream",
     "text": [
      "Epoch 1/10, Cross Entropy: 1.0874392436468723\n"
     ]
    },
    {
     "name": "stderr",
     "output_type": "stream",
     "text": [
      "Training:  20%|██        | 2/10 [00:03<00:15,  1.94s/epoch]"
     ]
    },
    {
     "name": "stdout",
     "output_type": "stream",
     "text": [
      "Epoch 2/10, Cross Entropy: 0.6118673648638904\n"
     ]
    },
    {
     "name": "stderr",
     "output_type": "stream",
     "text": [
      "Training:  30%|███       | 3/10 [00:05<00:13,  1.97s/epoch]"
     ]
    },
    {
     "name": "stdout",
     "output_type": "stream",
     "text": [
      "Epoch 3/10, Cross Entropy: 0.5298274516917304\n"
     ]
    },
    {
     "name": "stderr",
     "output_type": "stream",
     "text": [
      "Training:  40%|████      | 4/10 [00:07<00:11,  1.95s/epoch]"
     ]
    },
    {
     "name": "stdout",
     "output_type": "stream",
     "text": [
      "Epoch 4/10, Cross Entropy: 0.4900865356133322\n"
     ]
    },
    {
     "name": "stderr",
     "output_type": "stream",
     "text": [
      "Training:  50%|█████     | 5/10 [00:09<00:09,  1.94s/epoch]"
     ]
    },
    {
     "name": "stdout",
     "output_type": "stream",
     "text": [
      "Epoch 5/10, Cross Entropy: 0.4647103292606406\n"
     ]
    },
    {
     "name": "stderr",
     "output_type": "stream",
     "text": [
      "Training:  60%|██████    | 6/10 [00:11<00:07,  1.93s/epoch]"
     ]
    },
    {
     "name": "stdout",
     "output_type": "stream",
     "text": [
      "Epoch 6/10, Cross Entropy: 0.4481325718561858\n"
     ]
    },
    {
     "name": "stderr",
     "output_type": "stream",
     "text": [
      "Training:  70%|███████   | 7/10 [00:14<00:06,  2.26s/epoch]"
     ]
    },
    {
     "name": "stdout",
     "output_type": "stream",
     "text": [
      "Epoch 7/10, Cross Entropy: 0.435018831221805\n"
     ]
    },
    {
     "name": "stderr",
     "output_type": "stream",
     "text": [
      "Training:  80%|████████  | 8/10 [00:16<00:04,  2.12s/epoch]"
     ]
    },
    {
     "name": "stdout",
     "output_type": "stream",
     "text": [
      "Epoch 8/10, Cross Entropy: 0.42521362900421916\n"
     ]
    },
    {
     "name": "stderr",
     "output_type": "stream",
     "text": [
      "Training:  90%|█████████ | 9/10 [00:18<00:02,  2.03s/epoch]"
     ]
    },
    {
     "name": "stdout",
     "output_type": "stream",
     "text": [
      "Epoch 9/10, Cross Entropy: 0.416988949939121\n"
     ]
    },
    {
     "name": "stderr",
     "output_type": "stream",
     "text": [
      "Training: 100%|██████████| 10/10 [00:19<00:00,  1.99s/epoch]\n"
     ]
    },
    {
     "name": "stdout",
     "output_type": "stream",
     "text": [
      "Epoch 10/10, Cross Entropy: 0.4099370605648107\n",
      "(0.11539999999999995, array([[1., 0., 0., ..., 0., 0., 0.],\n",
      "       [1., 0., 0., ..., 0., 0., 0.],\n",
      "       [1., 0., 0., ..., 0., 0., 0.],\n",
      "       ...,\n",
      "       [0., 0., 0., ..., 0., 0., 1.],\n",
      "       [0., 0., 0., ..., 0., 0., 1.],\n",
      "       [0., 0., 0., ..., 0., 0., 0.]]))\n"
     ]
    },
    {
     "data": {
      "image/png": "[encoded data removed]",
      "text/plain": [
       "<Figure size 640x480 with 1 Axes>"
      ]
     },
     "metadata": {},
     "output_type": "display_data"
    }
   ],
   "source": [
    "from copy import copy, deepcopy\n",
    "\n",
    "data = mnist_train.copy()\n",
    "n_samples, n_visible = data.shape # n_samples, n_features\n",
    "n_visible = data.shape[1]\n",
    "hidden_layer_sizes = [250]\n",
    "n_classes = mnist_test_labels.shape[1]\n",
    "\n",
    "dnn = DNN(input_dim=n_visible, output_dim=n_classes, hidden_layer_sizes=hidden_layer_sizes, random_state=42)\n",
    "\n",
    "losses_100 = dnn.backpropagation(mnist_train, labels=mnist_train_labels, n_epochs=10, learning_rate=3e-4, batch_size=512)\n",
    "\n",
    "\n",
    "print(dnn.test(mnist_test, mnist_test_labels))\n",
    "\n",
    "#plotter la loss à partir d'une liste de loss\n",
    "plt.plot(losses_100)\n",
    "plt.title(\"Loss\")   \n",
    "plt.xlabel(\"Epoch\")\n",
    "plt.ylabel(\"Loss\")\n",
    "plt.show()"
   ]
  },
  {
   "cell_type": "markdown",
   "metadata": {},
   "source": [
    "# 1. Error rate according to varying layers numbers"
   ]
  },
  {
   "cell_type": "code",
   "execution_count": 18,
   "metadata": {},
   "outputs": [],
   "source": [
    "import matplotlib.pyplot as plt\n",
    "import pickle\n",
    "import numpy as np\n",
    "\n",
    "\n",
    "def save_object(obj, filename, output_dir):\n",
    "    \"\"\"\n",
    "    Save a Python object to a file using pickle.\n",
    "\n",
    "    Parameters:\n",
    "    - obj: The Python object to save.\n",
    "    - filename (str): The name of the file to save the object to.\n",
    "    - output_dir (str): The directory where to save the file.\n",
    "    \"\"\"\n",
    "    os.makedirs(output_dir, exist_ok=True)\n",
    "    filepath = os.path.join(output_dir, filename)\n",
    "    with open(filepath, 'wb') as f:\n",
    "        pickle.dump(obj, f)\n",
    "\n",
    "def load_object(filename, output_dir):\n",
    "    \"\"\"\n",
    "    Load a Python object from a file using pickle.\n",
    "\n",
    "    Parameters:\n",
    "    - filename (str): The name of the file to load the object from.\n",
    "    - output_dir (str): The directory where the file is located.\n",
    "\n",
    "    Returns:\n",
    "    - The Python object loaded from the file.\n",
    "    \"\"\"\n",
    "    filepath = os.path.join(output_dir, filename)\n",
    "    with open(filepath, 'rb') as f:\n",
    "        return pickle.load(f)"
   ]
  },
  {
   "cell_type": "markdown",
   "metadata": {},
   "source": [
    "## 1.1. Without pretraining"
   ]
  },
  {
   "cell_type": "code",
   "execution_count": 19,
   "metadata": {},
   "outputs": [
    {
     "name": "stderr",
     "output_type": "stream",
     "text": [
      "Training:   0%|          | 0/2 [00:00<?, ?epoch/s]"
     ]
    },
    {
     "name": "stderr",
     "output_type": "stream",
     "text": [
      "Training:  50%|█████     | 1/2 [00:01<00:01,  1.70s/epoch]"
     ]
    },
    {
     "name": "stdout",
     "output_type": "stream",
     "text": [
      "Epoch 1/2, Cross Entropy: 1.1578098905466743\n"
     ]
    },
    {
     "name": "stderr",
     "output_type": "stream",
     "text": [
      "Training: 100%|██████████| 2/2 [00:03<00:00,  1.76s/epoch]\n"
     ]
    },
    {
     "name": "stdout",
     "output_type": "stream",
     "text": [
      "Epoch 2/2, Cross Entropy: 0.6689965681294122\n"
     ]
    },
    {
     "name": "stderr",
     "output_type": "stream",
     "text": [
      "Training:  50%|█████     | 1/2 [00:02<00:02,  2.71s/epoch]"
     ]
    },
    {
     "name": "stdout",
     "output_type": "stream",
     "text": [
      "Epoch 1/2, Cross Entropy: 2.1436015949186022\n"
     ]
    },
    {
     "name": "stderr",
     "output_type": "stream",
     "text": [
      "Training: 100%|██████████| 2/2 [00:05<00:00,  2.67s/epoch]\n"
     ]
    },
    {
     "name": "stdout",
     "output_type": "stream",
     "text": [
      "Epoch 2/2, Cross Entropy: 1.8221916117747803\n"
     ]
    },
    {
     "name": "stderr",
     "output_type": "stream",
     "text": [
      "Training:  50%|█████     | 1/2 [00:03<00:03,  3.38s/epoch]"
     ]
    },
    {
     "name": "stdout",
     "output_type": "stream",
     "text": [
      "Epoch 1/2, Cross Entropy: 2.4175798446788126\n"
     ]
    },
    {
     "name": "stderr",
     "output_type": "stream",
     "text": [
      "Training: 100%|██████████| 2/2 [00:06<00:00,  3.40s/epoch]\n"
     ]
    },
    {
     "name": "stdout",
     "output_type": "stream",
     "text": [
      "Epoch 2/2, Cross Entropy: 2.3092874749036842\n"
     ]
    },
    {
     "name": "stderr",
     "output_type": "stream",
     "text": [
      "Training:  50%|█████     | 1/2 [00:04<00:04,  4.32s/epoch]"
     ]
    },
    {
     "name": "stdout",
     "output_type": "stream",
     "text": [
      "Epoch 1/2, Cross Entropy: 2.443887943672204\n"
     ]
    },
    {
     "name": "stderr",
     "output_type": "stream",
     "text": [
      "Training: 100%|██████████| 2/2 [00:08<00:00,  4.36s/epoch]\n"
     ]
    },
    {
     "name": "stdout",
     "output_type": "stream",
     "text": [
      "Epoch 2/2, Cross Entropy: 2.3661523279839947\n"
     ]
    },
    {
     "name": "stderr",
     "output_type": "stream",
     "text": [
      "Training:  50%|█████     | 1/2 [00:04<00:04,  4.85s/epoch]"
     ]
    },
    {
     "name": "stdout",
     "output_type": "stream",
     "text": [
      "Epoch 1/2, Cross Entropy: 2.449102080555478\n"
     ]
    },
    {
     "name": "stderr",
     "output_type": "stream",
     "text": [
      "Training: 100%|██████████| 2/2 [00:09<00:00,  4.85s/epoch]\n"
     ]
    },
    {
     "name": "stdout",
     "output_type": "stream",
     "text": [
      "Epoch 2/2, Cross Entropy: 2.3711368027139605\n"
     ]
    }
   ],
   "source": [
    "n_samples, n_visible = mnist_train.shape # n_samples, n_features\n",
    "n_classes = mnist_test_labels.shape[1]\n",
    "\n",
    "layer_loss = []\n",
    "layer_error_rate_train = []\n",
    "layer_error_rate_test = []\n",
    "for n_layers in [1, 2, 3, 4, 5]:\n",
    "    hidden_layer_sizes = [200] * n_layers\n",
    "    dnn = DNN(input_dim=n_visible, output_dim=n_classes, hidden_layer_sizes=hidden_layer_sizes, random_state=42)\n",
    "    loss = dnn.backpropagation(mnist_train, labels=mnist_train_labels, n_epochs=2, learning_rate=3e-4, batch_size=512)\n",
    "    layer_loss.append(loss)\n",
    "    \n",
    "    error_rate_train, _ = dnn.test(test_data=mnist_train, true_labels=mnist_train_labels)\n",
    "    layer_error_rate_train.append(error_rate_train)  # Assurez-vous que error_rate_train est un scalaire\n",
    "\n",
    "    error_rate_test, _ = dnn.test(test_data=mnist_test, true_labels=mnist_test_labels)\n",
    "    layer_error_rate_test.append(error_rate_test)  # Assurez-vous que error_rate_test est un scalaire\n",
    "\n",
    "    # Save the lists with losses and error rates\n",
    "    save_object(layer_loss, \"layer_loss_\" + str(n_layers) + \".pkl\", output_dir=\"../results/experiments_mnist\")\n",
    "    save_object(layer_error_rate_train, \"layer_error_rate_train_\" + str(n_layers) + \".pkl\",output_dir=\"../results/experiments_mnist\")\n",
    "    save_object(layer_error_rate_test, \"layer_error_rate_test_\" + str(n_layers) + \".pkl\",output_dir=\"../results/experiments_mnist\")\n"
   ]
  },
  {
   "cell_type": "code",
   "execution_count": 20,
   "metadata": {},
   "outputs": [
    {
     "data": {
      "image/png": "[encoded data removed]",
      "text/plain": [
       "<Figure size 1000x600 with 1 Axes>"
      ]
     },
     "metadata": {},
     "output_type": "display_data"
    }
   ],
   "source": [
    "import matplotlib.pyplot as plt\n",
    "\n",
    "# Load the error rates for each number of layers\n",
    "num_layers = [1, 2, 3, 4, 5]\n",
    "train_error_rates = []\n",
    "test_error_rates = []\n",
    "\n",
    "for n_layers in num_layers:\n",
    "    train_error_rate_layer = load_object(\"layer_error_rate_train_\" + str(n_layers) + \".pkl\",\"../results/experiments_mnist\")\n",
    "    test_error_rate_layer = load_object(\"layer_error_rate_test_\" + str(n_layers) + \".pkl\",\"../results/experiments_mnist\")\n",
    "    \n",
    "# Plotting the error rates\n",
    "plt.figure(figsize=(10, 6))\n",
    "plt.plot(num_layers, train_error_rate_layer, label='Training Error Rate', marker='o')\n",
    "plt.plot(num_layers, test_error_rate_layer, label='Test Error Rate', marker='o')\n",
    "\n",
    "plt.xlabel('Number of Layers')\n",
    "plt.ylabel('Error Rate')\n",
    "plt.title('Error Rate vs. Number of Layers')\n",
    "plt.legend()\n",
    "plt.grid(True)\n",
    "plt.show()\n"
   ]
  },
  {
   "cell_type": "markdown",
   "metadata": {},
   "source": [
    "## 1.2. With pretraining"
   ]
  },
  {
   "cell_type": "code",
   "execution_count": 21,
   "metadata": {},
   "outputs": [
    {
     "name": "stderr",
     "output_type": "stream",
     "text": [
      "Training RBM layers: 100%|██████████| 1/1 [00:14<00:00, 14.36s/layer]\n",
      "Training:  50%|█████     | 1/2 [00:01<00:01,  1.72s/epoch]"
     ]
    },
    {
     "name": "stdout",
     "output_type": "stream",
     "text": [
      "Epoch 1/2, Cross Entropy: 3.5391317383037246\n"
     ]
    },
    {
     "name": "stderr",
     "output_type": "stream",
     "text": [
      "Training: 100%|██████████| 2/2 [00:03<00:00,  1.69s/epoch]\n"
     ]
    },
    {
     "name": "stdout",
     "output_type": "stream",
     "text": [
      "Epoch 2/2, Cross Entropy: 3.6121986290450576\n"
     ]
    },
    {
     "name": "stderr",
     "output_type": "stream",
     "text": [
      "Training RBM layers: 100%|██████████| 2/2 [00:19<00:00,  9.89s/layer]\n",
      "Training:  50%|█████     | 1/2 [00:02<00:02,  2.63s/epoch]"
     ]
    },
    {
     "name": "stdout",
     "output_type": "stream",
     "text": [
      "Epoch 1/2, Cross Entropy: 2.62437219961888\n"
     ]
    },
    {
     "name": "stderr",
     "output_type": "stream",
     "text": [
      "Training: 100%|██████████| 2/2 [00:05<00:00,  2.67s/epoch]\n"
     ]
    },
    {
     "name": "stdout",
     "output_type": "stream",
     "text": [
      "Epoch 2/2, Cross Entropy: 2.6088117491896763\n"
     ]
    },
    {
     "name": "stderr",
     "output_type": "stream",
     "text": [
      "Training RBM layers: 100%|██████████| 3/3 [00:25<00:00,  8.42s/layer]\n",
      "Training:  50%|█████     | 1/2 [00:03<00:03,  3.32s/epoch]"
     ]
    },
    {
     "name": "stdout",
     "output_type": "stream",
     "text": [
      "Epoch 1/2, Cross Entropy: 2.3569984310950707\n"
     ]
    },
    {
     "name": "stderr",
     "output_type": "stream",
     "text": [
      "Training: 100%|██████████| 2/2 [00:06<00:00,  3.49s/epoch]\n"
     ]
    },
    {
     "name": "stdout",
     "output_type": "stream",
     "text": [
      "Epoch 2/2, Cross Entropy: 2.3510129317798154\n"
     ]
    },
    {
     "name": "stderr",
     "output_type": "stream",
     "text": [
      "Training RBM layers: 100%|██████████| 4/4 [00:31<00:00,  7.81s/layer]\n",
      "Training:  50%|█████     | 1/2 [00:03<00:03,  3.88s/epoch]"
     ]
    },
    {
     "name": "stdout",
     "output_type": "stream",
     "text": [
      "Epoch 1/2, Cross Entropy: 2.431576822467332\n"
     ]
    },
    {
     "name": "stderr",
     "output_type": "stream",
     "text": [
      "Training: 100%|██████████| 2/2 [00:07<00:00,  3.85s/epoch]\n"
     ]
    },
    {
     "name": "stdout",
     "output_type": "stream",
     "text": [
      "Epoch 2/2, Cross Entropy: 2.4112187067172055\n"
     ]
    },
    {
     "name": "stderr",
     "output_type": "stream",
     "text": [
      "Training RBM layers: 100%|██████████| 5/5 [00:36<00:00,  7.26s/layer]\n",
      "Training:  50%|█████     | 1/2 [00:04<00:04,  4.42s/epoch]"
     ]
    },
    {
     "name": "stdout",
     "output_type": "stream",
     "text": [
      "Epoch 1/2, Cross Entropy: 2.335585387525162\n"
     ]
    },
    {
     "name": "stderr",
     "output_type": "stream",
     "text": [
      "Training: 100%|██████████| 2/2 [00:09<00:00,  4.57s/epoch]\n"
     ]
    },
    {
     "name": "stdout",
     "output_type": "stream",
     "text": [
      "Epoch 2/2, Cross Entropy: 2.330617603833882\n"
     ]
    }
   ],
   "source": [
    "n_samples, n_visible = mnist_train.shape # n_samples, n_features\n",
    "n_classes = mnist_test_labels.shape[1]\n",
    "\n",
    "layer_loss = []\n",
    "layer_error_rate_train = []\n",
    "layer_error_rate_test = []\n",
    "for n_layers in [1, 2, 3, 4, 5]:\n",
    "    hidden_layer_sizes = [200] * n_layers\n",
    "    dnn = DNN(input_dim=n_visible, output_dim=n_classes, hidden_layer_sizes=hidden_layer_sizes, random_state=42)\n",
    "    # pretrain\n",
    "    dnn.train(mnist_train, n_epochs=10, learning_rate=3e-4, batch_size=512)\n",
    "\n",
    "    loss = dnn.backpropagation(mnist_train, labels=mnist_train_labels, n_epochs=10, learning_rate=3e-4, batch_size=512)\n",
    "    layer_loss.append(loss)\n",
    "    \n",
    "    error_rate_train, _ = dnn.test(test_data=mnist_train, true_labels=mnist_train_labels)\n",
    "    layer_error_rate_train.append(error_rate_train)  # Assurez-vous que error_rate_train est un scalaire\n",
    "\n",
    "    error_rate_test, _ = dnn.test(test_data=mnist_test, true_labels=mnist_test_labels)\n",
    "    layer_error_rate_test.append(error_rate_test)  # Assurez-vous que error_rate_test est un scalaire\n",
    "\n",
    "    # Save the lists with losses and error rates\n",
    "    save_object(layer_loss, \"pretrain_layer_loss_\" + str(n_layers) + \".pkl\",\"../results/experiments_mnist\")\n",
    "    save_object(layer_error_rate_train, \"pretrain_layer_error_rate_train_\" + str(n_layers) + \".pkl\",\"../results/experiments_mnist\")\n",
    "    save_object(layer_error_rate_test, \"pretrain_layer_error_rate_test_\" + str(n_layers) + \".pkl\",\"../results/experiments_mnist\")\n"
   ]
  },
  {
   "cell_type": "code",
   "execution_count": 22,
   "metadata": {},
   "outputs": [
    {
     "data": {
      "image/png": "[encoded data removed]",
      "text/plain": [
       "<Figure size 1000x600 with 1 Axes>"
      ]
     },
     "metadata": {},
     "output_type": "display_data"
    }
   ],
   "source": [
    "import matplotlib.pyplot as plt\n",
    "\n",
    "# Load the error rates for each number of layers\n",
    "num_layers = [1, 2, 3, 4, 5]\n",
    "train_error_rates = []\n",
    "test_error_rates = []\n",
    "\n",
    "for n_layers in num_layers:\n",
    "    train_error_rate_layer = load_object(\"pretrain_layer_error_rate_train_\" + str(n_layers) + \".pkl\",\"../results/experiments_mnist\")\n",
    "    test_error_rate_layer = load_object(\"pretrain_layer_error_rate_test_\" + str(n_layers) + \".pkl\",\"../results/experiments_mnist\")\n",
    "    \n",
    "# Plotting the error rates\n",
    "plt.figure(figsize=(10, 6))\n",
    "plt.plot(num_layers, train_error_rate_layer, label='Training Error Rate', marker='o')\n",
    "plt.plot(num_layers, test_error_rate_layer, label='Test Error Rate', marker='o')\n",
    "\n",
    "plt.xlabel('Number of Layers')\n",
    "plt.ylabel('Error Rate')\n",
    "plt.title('Error Rate vs. Number of Layers')\n",
    "plt.legend()\n",
    "plt.grid(True)\n",
    "plt.show()\n"
   ]
  },
  {
   "cell_type": "markdown",
   "metadata": {},
   "source": [
    "# 2.  number of neurons per layers"
   ]
  },
  {
   "cell_type": "markdown",
   "metadata": {},
   "source": [
    "## 2.1. Without pretraining"
   ]
  },
  {
   "cell_type": "code",
   "execution_count": 23,
   "metadata": {},
   "outputs": [
    {
     "name": "stderr",
     "output_type": "stream",
     "text": [
      "Training:  50%|█████     | 1/2 [00:01<00:01,  1.66s/epoch]"
     ]
    },
    {
     "name": "stdout",
     "output_type": "stream",
     "text": [
      "Epoch 1/2, Cross Entropy: 2.2934490563635324\n"
     ]
    },
    {
     "name": "stderr",
     "output_type": "stream",
     "text": [
      "Training: 100%|██████████| 2/2 [00:03<00:00,  1.76s/epoch]\n"
     ]
    },
    {
     "name": "stdout",
     "output_type": "stream",
     "text": [
      "Epoch 2/2, Cross Entropy: 2.163189489087291\n"
     ]
    },
    {
     "name": "stderr",
     "output_type": "stream",
     "text": [
      "Training:  50%|█████     | 1/2 [00:03<00:03,  3.34s/epoch]"
     ]
    },
    {
     "name": "stdout",
     "output_type": "stream",
     "text": [
      "Epoch 1/2, Cross Entropy: 2.075215787869704\n"
     ]
    },
    {
     "name": "stderr",
     "output_type": "stream",
     "text": [
      "Training: 100%|██████████| 2/2 [00:06<00:00,  3.32s/epoch]\n"
     ]
    },
    {
     "name": "stdout",
     "output_type": "stream",
     "text": [
      "Epoch 2/2, Cross Entropy: 1.5947505600682368\n"
     ]
    },
    {
     "name": "stderr",
     "output_type": "stream",
     "text": [
      "Training:  50%|█████     | 1/2 [00:04<00:04,  4.71s/epoch]"
     ]
    },
    {
     "name": "stdout",
     "output_type": "stream",
     "text": [
      "Epoch 1/2, Cross Entropy: 1.9089188112183635\n"
     ]
    },
    {
     "name": "stderr",
     "output_type": "stream",
     "text": [
      "Training: 100%|██████████| 2/2 [00:09<00:00,  4.80s/epoch]\n"
     ]
    },
    {
     "name": "stdout",
     "output_type": "stream",
     "text": [
      "Epoch 2/2, Cross Entropy: 1.2462273260859738\n"
     ]
    },
    {
     "name": "stderr",
     "output_type": "stream",
     "text": [
      "Training:  50%|█████     | 1/2 [00:07<00:07,  7.11s/epoch]"
     ]
    },
    {
     "name": "stdout",
     "output_type": "stream",
     "text": [
      "Epoch 1/2, Cross Entropy: 2.0318674804922146\n"
     ]
    },
    {
     "name": "stderr",
     "output_type": "stream",
     "text": [
      "Training: 100%|██████████| 2/2 [00:14<00:00,  7.35s/epoch]\n"
     ]
    },
    {
     "name": "stdout",
     "output_type": "stream",
     "text": [
      "Epoch 2/2, Cross Entropy: 1.1057437127727447\n"
     ]
    }
   ],
   "source": [
    "n_samples, n_visible = mnist_train.shape # n_samples, n_features\n",
    "n_classes = mnist_test_labels.shape[1]\n",
    "\n",
    "neurons_per_layer = [100, 300, 500, 700]\n",
    "layer_loss_neurons = []\n",
    "layer_error_rate_train_neurons = []\n",
    "layer_error_rate_test_neurons = []\n",
    "\n",
    "for n_neurons in neurons_per_layer:\n",
    "    hidden_layer_sizes = [n_neurons] * 2  # Fixer le nombre de couches à 2\n",
    "    dnn = DNN(input_dim=n_visible, output_dim=n_classes, hidden_layer_sizes=hidden_layer_sizes, random_state=42)\n",
    "    loss = dnn.backpropagation(mnist_train, labels=mnist_train_labels, n_epochs=2, learning_rate=3e-4, batch_size=512)\n",
    "    layer_loss_neurons.append(loss)\n",
    "    \n",
    "    error_rate_train, _ = dnn.test(test_data=mnist_train, true_labels=mnist_train_labels)\n",
    "    layer_error_rate_train_neurons.append(error_rate_train)  # Assurez-vous que error_rate_train est un scalaire\n",
    "\n",
    "    error_rate_test, _ = dnn.test(test_data=mnist_test, true_labels=mnist_test_labels)\n",
    "    layer_error_rate_test_neurons.append(error_rate_test)  # Assurez-vous que error_rate_test est un scalaire\n",
    "\n",
    "    # Save the lists with losses and error rates\n",
    "    save_object(layer_loss_neurons, \"layer_loss_neurons_\" + str(n_neurons) + \".pkl\",\"../results/experiments_mnist\")\n",
    "    save_object(layer_error_rate_train_neurons, \"layer_error_rate_train_neurons_\" + str(n_neurons) + \".pkl\",\"../results/experiments_mnist\")\n",
    "    save_object(layer_error_rate_test_neurons, \"layer_error_rate_test_neurons_\" + str(n_neurons) + \".pkl\",\"../results/experiments_mnist\")\n"
   ]
  },
  {
   "cell_type": "code",
   "execution_count": 24,
   "metadata": {},
   "outputs": [
    {
     "data": {
      "image/png": "[encoded data removed]",
      "text/plain": [
       "<Figure size 1000x600 with 1 Axes>"
      ]
     },
     "metadata": {},
     "output_type": "display_data"
    }
   ],
   "source": [
    "import matplotlib.pyplot as plt\n",
    "\n",
    "# Load the error rates for each number of neurons per layer\n",
    "neurons_per_layer = [100, 300, 500, 700]\n",
    "train_error_rates_neurons = []\n",
    "test_error_rates_neurons = []\n",
    "\n",
    "for n_neurons in neurons_per_layer:\n",
    "    train_error_rates_neurons = load_object(\"layer_error_rate_train_neurons_\" + str(n_neurons) + \".pkl\",\"../results/experiments_mnist\")\n",
    "    test_error_rates_neurons = load_object(\"layer_error_rate_test_neurons_\" + str(n_neurons) + \".pkl\",\"../results/experiments_mnist\")\n",
    "    \n",
    "\n",
    "# Plotting the error rates for different numbers of neurons per layer\n",
    "plt.figure(figsize=(10, 6))\n",
    "plt.plot(neurons_per_layer, train_error_rates_neurons, label='Training Error Rate', marker='o')\n",
    "plt.plot(neurons_per_layer, test_error_rates_neurons, label='Test Error Rate', marker='o')\n",
    "\n",
    "plt.xlabel('Number of Neurons per Layer')\n",
    "plt.ylabel('Error Rate')\n",
    "plt.title('Error Rate vs. Number of Neurons per Layer')\n",
    "plt.legend()\n",
    "plt.grid(True)\n",
    "plt.show()\n"
   ]
  },
  {
   "cell_type": "markdown",
   "metadata": {},
   "source": [
    "## 2.2. With pretraining"
   ]
  },
  {
   "cell_type": "code",
   "execution_count": 25,
   "metadata": {},
   "outputs": [
    {
     "name": "stderr",
     "output_type": "stream",
     "text": [
      "Training RBM layers: 100%|██████████| 2/2 [00:14<00:00,  7.33s/layer]\n",
      "Training:  50%|█████     | 1/2 [00:01<00:01,  1.81s/epoch]"
     ]
    },
    {
     "name": "stdout",
     "output_type": "stream",
     "text": [
      "Epoch 1/2, Cross Entropy: 2.3321274941232217\n"
     ]
    },
    {
     "name": "stderr",
     "output_type": "stream",
     "text": [
      "Training: 100%|██████████| 2/2 [00:03<00:00,  1.76s/epoch]\n"
     ]
    },
    {
     "name": "stdout",
     "output_type": "stream",
     "text": [
      "Epoch 2/2, Cross Entropy: 2.322655270057912\n"
     ]
    },
    {
     "name": "stderr",
     "output_type": "stream",
     "text": [
      "Training RBM layers: 100%|██████████| 2/2 [00:25<00:00, 12.94s/layer]\n",
      "Training:  50%|█████     | 1/2 [00:03<00:03,  3.25s/epoch]"
     ]
    },
    {
     "name": "stdout",
     "output_type": "stream",
     "text": [
      "Epoch 1/2, Cross Entropy: 3.9370556493949866\n"
     ]
    },
    {
     "name": "stderr",
     "output_type": "stream",
     "text": [
      "Training: 100%|██████████| 2/2 [00:06<00:00,  3.28s/epoch]\n"
     ]
    },
    {
     "name": "stdout",
     "output_type": "stream",
     "text": [
      "Epoch 2/2, Cross Entropy: 4.269076426849542\n"
     ]
    },
    {
     "name": "stderr",
     "output_type": "stream",
     "text": [
      "Training RBM layers: 100%|██████████| 2/2 [00:38<00:00, 19.23s/layer]\n",
      "Training:  50%|█████     | 1/2 [00:04<00:04,  4.58s/epoch]"
     ]
    },
    {
     "name": "stdout",
     "output_type": "stream",
     "text": [
      "Epoch 1/2, Cross Entropy: 11.910068177039246\n"
     ]
    },
    {
     "name": "stderr",
     "output_type": "stream",
     "text": [
      "Training: 100%|██████████| 2/2 [00:09<00:00,  4.64s/epoch]\n"
     ]
    },
    {
     "name": "stdout",
     "output_type": "stream",
     "text": [
      "Epoch 2/2, Cross Entropy: 12.601909704684934\n"
     ]
    },
    {
     "name": "stderr",
     "output_type": "stream",
     "text": [
      "Training RBM layers: 100%|██████████| 2/2 [00:50<00:00, 25.38s/layer]\n",
      "Training:  50%|█████     | 1/2 [00:06<00:06,  6.05s/epoch]"
     ]
    },
    {
     "name": "stdout",
     "output_type": "stream",
     "text": [
      "Epoch 1/2, Cross Entropy: 19.293317846660784\n"
     ]
    },
    {
     "name": "stderr",
     "output_type": "stream",
     "text": [
      "Training: 100%|██████████| 2/2 [00:12<00:00,  6.20s/epoch]\n"
     ]
    },
    {
     "name": "stdout",
     "output_type": "stream",
     "text": [
      "Epoch 2/2, Cross Entropy: 19.757696637009378\n"
     ]
    }
   ],
   "source": [
    "n_samples, n_visible = mnist_train.shape # n_samples, n_features\n",
    "n_classes = mnist_test_labels.shape[1]\n",
    "\n",
    "neurons_per_layer = [100, 300, 500, 700]\n",
    "layer_loss_neurons = []\n",
    "layer_error_rate_train_neurons = []\n",
    "layer_error_rate_test_neurons = []\n",
    "\n",
    "for n_neurons in neurons_per_layer:\n",
    "    hidden_layer_sizes = [n_neurons] * 2  # Fixer le nombre de couches à 2\n",
    "    dnn = DNN(input_dim=n_visible, output_dim=n_classes, hidden_layer_sizes=hidden_layer_sizes, random_state=42)\n",
    "    \n",
    "    # pretrain\n",
    "    dnn.train(mnist_train, n_epochs=2, learning_rate=3e-4, batch_size=512)\n",
    "    \n",
    "    loss = dnn.backpropagation(mnist_train, labels=mnist_train_labels, n_epochs=2, learning_rate=3e-4, batch_size=512)\n",
    "    layer_loss_neurons.append(loss)\n",
    "    \n",
    "    error_rate_train, _ = dnn.test(test_data=mnist_train, true_labels=mnist_train_labels)\n",
    "    layer_error_rate_train_neurons.append(error_rate_train)  # Assurez-vous que error_rate_train est un scalaire\n",
    "\n",
    "    error_rate_test, _ = dnn.test(test_data=mnist_test, true_labels=mnist_test_labels)\n",
    "    layer_error_rate_test_neurons.append(error_rate_test)  # Assurez-vous que error_rate_test est un scalaire\n",
    "\n",
    "    # Save the lists with losses and error rates\n",
    "    save_object(layer_loss_neurons, \"pretrain_layer_loss_neurons_\" + str(n_neurons) + \".pkl\",\"../results/experiments_mnist\")\n",
    "    save_object(layer_error_rate_train_neurons, \"pretrain_layer_error_rate_train_neurons_\" + str(n_neurons) + \".pkl\",\"../results/experiments_mnist\")\n",
    "    save_object(layer_error_rate_test_neurons, \"pretrain_layer_error_rate_test_neurons_\" + str(n_neurons) + \".pkl\",\"../results/experiments_mnist\")\n"
   ]
  },
  {
   "cell_type": "code",
   "execution_count": 26,
   "metadata": {},
   "outputs": [
    {
     "data": {
      "image/png": "[encoded data removed]",
      "text/plain": [
       "<Figure size 1000x600 with 1 Axes>"
      ]
     },
     "metadata": {},
     "output_type": "display_data"
    }
   ],
   "source": [
    "import matplotlib.pyplot as plt\n",
    "\n",
    "# Load the error rates for each number of neurons per layer\n",
    "neurons_per_layer = [100, 300, 500, 700]\n",
    "train_error_rates_neurons = []\n",
    "test_error_rates_neurons = []\n",
    "\n",
    "for n_neurons in neurons_per_layer:\n",
    "    train_error_rates_neurons = load_object(\"pretrain_layer_error_rate_train_neurons_\" + str(n_neurons) + \".pkl\",\"../results/experiments_mnist\")\n",
    "    test_error_rates_neurons = load_object(\"pretrain_layer_error_rate_test_neurons_\" + str(n_neurons) + \".pkl\",\"../results/experiments_mnist\")\n",
    "    \n",
    "\n",
    "# Plotting the error rates for different numbers of neurons per layer\n",
    "plt.figure(figsize=(10, 6))\n",
    "plt.plot(neurons_per_layer, train_error_rates_neurons, label='Training Error Rate', marker='o')\n",
    "plt.plot(neurons_per_layer, test_error_rates_neurons, label='Test Error Rate', marker='o')\n",
    "\n",
    "plt.xlabel('Number of Neurons per Layer')\n",
    "plt.ylabel('Error Rate')\n",
    "plt.title('Error Rate vs. Number of Neurons per Layer')\n",
    "plt.legend()\n",
    "plt.grid(True)\n",
    "plt.show()\n"
   ]
  },
  {
   "cell_type": "markdown",
   "metadata": {},
   "source": [
    "# 3.  As a function of the number of data trains "
   ]
  },
  {
   "cell_type": "markdown",
   "metadata": {},
   "source": [
    "## 3.1. Without pretraining"
   ]
  },
  {
   "cell_type": "code",
   "execution_count": 27,
   "metadata": {},
   "outputs": [],
   "source": [
    "import numpy as np\n",
    "import pickle\n",
    "import matplotlib.pyplot as plt\n",
    "from tqdm import tqdm\n",
    "\n",
    "\n",
    "\n",
    "def create_stratified_subset(data, labels, num_samples_per_class):\n",
    "    \"\"\"\n",
    "    Create a stratified subset of the dataset ensuring each class is represented equally.\n",
    "\n",
    "    Parameters:\n",
    "    - data (np.ndarray): The dataset.\n",
    "    - labels (np.ndarray): The labels for the dataset.\n",
    "    - num_samples_per_class (int): Number of samples per class.\n",
    "\n",
    "    Returns:\n",
    "    - subset_data (np.ndarray): Stratified subset of the dataset.\n",
    "    - subset_labels (np.ndarray): Labels for the stratified subset.\n",
    "    \"\"\"\n",
    "    unique_classes = np.unique(labels)\n",
    "    subset_data = []\n",
    "    subset_labels = []\n",
    "\n",
    "    for cls in unique_classes:\n",
    "        class_indices = np.where(labels == cls)[0]\n",
    "        selected_indices = class_indices[:num_samples_per_class]\n",
    "        subset_data.append(data[selected_indices])\n",
    "        subset_labels.append(labels[selected_indices])\n",
    "\n",
    "    subset_data = np.concatenate(subset_data, axis=0)\n",
    "    subset_labels = np.concatenate(subset_labels, axis=0)\n",
    "\n",
    "    return subset_data, subset_labels\n"
   ]
  },
  {
   "cell_type": "code",
   "execution_count": 28,
   "metadata": {},
   "outputs": [
    {
     "name": "stderr",
     "output_type": "stream",
     "text": [
      "Training: 100%|██████████| 2/2 [00:00<00:00, 27.02epoch/s]\n"
     ]
    },
    {
     "name": "stdout",
     "output_type": "stream",
     "text": [
      "Epoch 1/2, Cross Entropy: 1.3903528113937849\n",
      "Epoch 2/2, Cross Entropy: 0.002839574623460753\n"
     ]
    },
    {
     "name": "stderr",
     "output_type": "stream",
     "text": [
      "Training: 100%|██████████| 2/2 [00:00<00:00, 10.43epoch/s]\n"
     ]
    },
    {
     "name": "stdout",
     "output_type": "stream",
     "text": [
      "Epoch 1/2, Cross Entropy: 0.5028734893056696\n",
      "Epoch 2/2, Cross Entropy: 0.0026174947267324686\n"
     ]
    },
    {
     "name": "stderr",
     "output_type": "stream",
     "text": [
      "Training:  50%|█████     | 1/2 [00:00<00:00,  4.87epoch/s]"
     ]
    },
    {
     "name": "stdout",
     "output_type": "stream",
     "text": [
      "Epoch 1/2, Cross Entropy: 0.19659827259348991\n"
     ]
    },
    {
     "name": "stderr",
     "output_type": "stream",
     "text": [
      "Training: 100%|██████████| 2/2 [00:00<00:00,  5.06epoch/s]\n"
     ]
    },
    {
     "name": "stdout",
     "output_type": "stream",
     "text": [
      "Epoch 2/2, Cross Entropy: 0.0018021379632817615\n"
     ]
    },
    {
     "name": "stderr",
     "output_type": "stream",
     "text": [
      "Training:  50%|█████     | 1/2 [00:00<00:00,  2.95epoch/s]"
     ]
    },
    {
     "name": "stdout",
     "output_type": "stream",
     "text": [
      "Epoch 1/2, Cross Entropy: 0.1666515202035789\n"
     ]
    },
    {
     "name": "stderr",
     "output_type": "stream",
     "text": [
      "Training: 100%|██████████| 2/2 [00:00<00:00,  3.03epoch/s]\n"
     ]
    },
    {
     "name": "stdout",
     "output_type": "stream",
     "text": [
      "Epoch 2/2, Cross Entropy: 0.0019195756460300836\n"
     ]
    },
    {
     "name": "stderr",
     "output_type": "stream",
     "text": [
      "Training:  50%|█████     | 1/2 [00:00<00:00,  1.05epoch/s]"
     ]
    },
    {
     "name": "stdout",
     "output_type": "stream",
     "text": [
      "Epoch 1/2, Cross Entropy: 0.6991920126592572\n"
     ]
    },
    {
     "name": "stderr",
     "output_type": "stream",
     "text": [
      "Training: 100%|██████████| 2/2 [00:02<00:00,  1.01s/epoch]\n"
     ]
    },
    {
     "name": "stdout",
     "output_type": "stream",
     "text": [
      "Epoch 2/2, Cross Entropy: 0.41316509351718045\n"
     ]
    },
    {
     "name": "stderr",
     "output_type": "stream",
     "text": [
      "Training:  50%|█████     | 1/2 [00:01<00:01,  1.80s/epoch]"
     ]
    },
    {
     "name": "stdout",
     "output_type": "stream",
     "text": [
      "Epoch 1/2, Cross Entropy: 1.055920495957309\n"
     ]
    },
    {
     "name": "stderr",
     "output_type": "stream",
     "text": [
      "Training: 100%|██████████| 2/2 [00:03<00:00,  1.81s/epoch]\n"
     ]
    },
    {
     "name": "stdout",
     "output_type": "stream",
     "text": [
      "Epoch 2/2, Cross Entropy: 0.7987436079747866\n"
     ]
    }
   ],
   "source": [
    "n_samples, n_visible = mnist_train.shape  # n_samples, n_features\n",
    "n_classes = mnist_test_labels.shape[1]\n",
    "\n",
    "# Defining different sizes for the subsets ensuring equal representation for each class\n",
    "data_sizes = [1000, 3000, 7000, 10000, 30000, 60000]\n",
    "num_classes = len(np.unique(mnist_train_labels))\n",
    "layer_loss_data = []\n",
    "layer_error_rate_train_data = []\n",
    "layer_error_rate_test_data = []\n",
    "\n",
    "for data_size in data_sizes:\n",
    "    num_samples_per_class = data_size // num_classes\n",
    "    subset_train_data, subset_train_labels = create_stratified_subset(mnist_train, mnist_train_labels, num_samples_per_class)\n",
    "    \n",
    "    hidden_layer_sizes = [200] * 2  # Fixer le nombre de couches à 2 avec 200 neurones chacune\n",
    "    dnn = DNN(input_dim=n_visible, output_dim=n_classes, hidden_layer_sizes=hidden_layer_sizes, random_state=42)\n",
    "    loss = dnn.backpropagation(subset_train_data, labels=subset_train_labels, n_epochs=2, learning_rate=3e-4, batch_size=512)\n",
    "    layer_loss_data.append(loss)\n",
    "    \n",
    "    error_rate_train, _ = dnn.test(test_data=subset_train_data, true_labels=subset_train_labels)\n",
    "    layer_error_rate_train_data.append(error_rate_train)  # Assurez-vous que error_rate_train est un scalaire\n",
    "\n",
    "    error_rate_test, _ = dnn.test(test_data=mnist_test, true_labels=mnist_test_labels)\n",
    "    layer_error_rate_test_data.append(error_rate_test)  # Assurez-vous que error_rate_test est un scalaire\n",
    "\n",
    "    # Save the lists with losses and error rates\n",
    "    save_object(layer_loss_data, \"number_loss_data_\" + str(data_size) + \".pkl\",\"../results/experiments_mnist\")\n",
    "    save_object(layer_error_rate_train_data, \"number_error_rate_train_data_\" + str(data_size) + \".pkl\",\"../results/experiments_mnist\")\n",
    "    save_object(layer_error_rate_test_data, \"number_error_rate_test_data_\" + str(data_size) + \".pkl\",\"../results/experiments_mnist\")\n"
   ]
  },
  {
   "cell_type": "code",
   "execution_count": 30,
   "metadata": {},
   "outputs": [
    {
     "data": {
      "image/png": "[encoded data removed]",
      "text/plain": [
       "<Figure size 1000x600 with 1 Axes>"
      ]
     },
     "metadata": {},
     "output_type": "display_data"
    }
   ],
   "source": [
    "# Load the error rates for each data size\n",
    "data_sizes = [1000, 3000, 7000, 10000, 30000, 60000]\n",
    "train_error_rates_data = []\n",
    "test_error_rates_data = []\n",
    "\n",
    "for data_size in data_sizes:\n",
    "    train_error_rates_data = load_object(\"number_error_rate_train_data_\" + str(data_size) + \".pkl\",\"../results/experiments_mnist\")\n",
    "    test_error_rates_data = load_object(\"number_error_rate_test_data_\" + str(data_size) + \".pkl\",\"../results/experiments_mnist\")\n",
    "    \n",
    "# Plotting the error rates for different numbers of training data\n",
    "plt.figure(figsize=(10, 6))\n",
    "plt.plot(data_sizes, train_error_rates_data, label='Training Error Rate', marker='o')\n",
    "plt.plot(data_sizes, test_error_rates_data, label='Test Error Rate', marker='o')\n",
    "\n",
    "plt.xlabel('Number of Training Data')\n",
    "plt.ylabel('Error Rate')\n",
    "plt.title('Error Rate vs. Number of Training Data')\n",
    "plt.legend()\n",
    "plt.grid(True)\n",
    "plt.show()\n"
   ]
  },
  {
   "cell_type": "markdown",
   "metadata": {},
   "source": [
    "## 3.2. With pretraining"
   ]
  },
  {
   "cell_type": "code",
   "execution_count": 31,
   "metadata": {},
   "outputs": [
    {
     "name": "stderr",
     "output_type": "stream",
     "text": [
      "Training RBM layers:   0%|          | 0/2 [00:00<?, ?layer/s]c:\\Users\\choho\\Desktop\\Master DS\\Deep learning II\\github\\DeepLearning2-Project-M2DS\\src\\functionals.py:17: RuntimeWarning: overflow encountered in exp\n",
      "  return 1 / (1 + np.exp(-x))\n",
      "Training RBM layers: 100%|██████████| 2/2 [00:19<00:00,  9.73s/layer]\n",
      "Training: 100%|██████████| 2/2 [00:00<00:00, 32.09epoch/s]\n"
     ]
    },
    {
     "name": "stdout",
     "output_type": "stream",
     "text": [
      "Epoch 1/2, Cross Entropy: 1.7431534944897862\n",
      "Epoch 2/2, Cross Entropy: 2.816259136315084e-10\n"
     ]
    },
    {
     "name": "stderr",
     "output_type": "stream",
     "text": [
      "Training RBM layers: 100%|██████████| 2/2 [00:18<00:00,  9.28s/layer]\n",
      "Training: 100%|██████████| 2/2 [00:00<00:00, 10.47epoch/s]\n"
     ]
    },
    {
     "name": "stdout",
     "output_type": "stream",
     "text": [
      "Epoch 1/2, Cross Entropy: 0.5628737306218816\n",
      "Epoch 2/2, Cross Entropy: 1.6347324565810695e-10\n"
     ]
    },
    {
     "name": "stderr",
     "output_type": "stream",
     "text": [
      "Training RBM layers: 100%|██████████| 2/2 [00:19<00:00,  9.94s/layer]\n",
      "Training:  50%|█████     | 1/2 [00:00<00:00,  4.27epoch/s]"
     ]
    },
    {
     "name": "stdout",
     "output_type": "stream",
     "text": [
      "Epoch 1/2, Cross Entropy: 0.1504961329616406\n"
     ]
    },
    {
     "name": "stderr",
     "output_type": "stream",
     "text": [
      "Training: 100%|██████████| 2/2 [00:00<00:00,  4.40epoch/s]\n"
     ]
    },
    {
     "name": "stdout",
     "output_type": "stream",
     "text": [
      "Epoch 2/2, Cross Entropy: 5.332633198436142e-10\n"
     ]
    },
    {
     "name": "stderr",
     "output_type": "stream",
     "text": [
      "Training RBM layers: 100%|██████████| 2/2 [00:20<00:00, 10.28s/layer]\n",
      "Training:  50%|█████     | 1/2 [00:00<00:00,  3.13epoch/s]"
     ]
    },
    {
     "name": "stdout",
     "output_type": "stream",
     "text": [
      "Epoch 1/2, Cross Entropy: 0.11700404710500936\n"
     ]
    },
    {
     "name": "stderr",
     "output_type": "stream",
     "text": [
      "Training: 100%|██████████| 2/2 [00:00<00:00,  3.10epoch/s]\n"
     ]
    },
    {
     "name": "stdout",
     "output_type": "stream",
     "text": [
      "Epoch 2/2, Cross Entropy: 3.967729347698922e-10\n"
     ]
    },
    {
     "name": "stderr",
     "output_type": "stream",
     "text": [
      "Training RBM layers: 100%|██████████| 2/2 [00:21<00:00, 10.96s/layer]\n",
      "Training:  50%|█████     | 1/2 [00:01<00:01,  1.07s/epoch]"
     ]
    },
    {
     "name": "stdout",
     "output_type": "stream",
     "text": [
      "Epoch 1/2, Cross Entropy: 4.792119086608687\n"
     ]
    },
    {
     "name": "stderr",
     "output_type": "stream",
     "text": [
      "Training: 100%|██████████| 2/2 [00:02<00:00,  1.09s/epoch]\n"
     ]
    },
    {
     "name": "stdout",
     "output_type": "stream",
     "text": [
      "Epoch 2/2, Cross Entropy: 4.427701403990591\n"
     ]
    },
    {
     "name": "stderr",
     "output_type": "stream",
     "text": [
      "Training RBM layers: 100%|██████████| 2/2 [00:22<00:00, 11.20s/layer]\n",
      "Training:  50%|█████     | 1/2 [00:02<00:02,  2.10s/epoch]"
     ]
    },
    {
     "name": "stdout",
     "output_type": "stream",
     "text": [
      "Epoch 1/2, Cross Entropy: 4.924126432877398\n"
     ]
    },
    {
     "name": "stderr",
     "output_type": "stream",
     "text": [
      "Training: 100%|██████████| 2/2 [00:04<00:00,  2.06s/epoch]\n"
     ]
    },
    {
     "name": "stdout",
     "output_type": "stream",
     "text": [
      "Epoch 2/2, Cross Entropy: 4.3343469536504236\n"
     ]
    }
   ],
   "source": [
    "n_samples, n_visible = mnist_train.shape  # n_samples, n_features\n",
    "n_classes = mnist_test_labels.shape[1]\n",
    "\n",
    "# Defining different sizes for the subsets ensuring equal representation for each class\n",
    "data_sizes = [1000, 3000, 7000, 10000, 30000, 60000]\n",
    "num_classes = len(np.unique(mnist_train_labels))\n",
    "layer_loss_data = []\n",
    "layer_error_rate_train_data = []\n",
    "layer_error_rate_test_data = []\n",
    "\n",
    "for data_size in data_sizes:\n",
    "    num_samples_per_class = data_size // num_classes\n",
    "    subset_train_data, subset_train_labels = create_stratified_subset(mnist_train, mnist_train_labels, num_samples_per_class)\n",
    "    \n",
    "    hidden_layer_sizes = [200] * 2  # Fixer le nombre de couches à 2 avec 200 neurones chacune\n",
    "    dnn = DNN(input_dim=n_visible, output_dim=n_classes, hidden_layer_sizes=hidden_layer_sizes, random_state=42)\n",
    "\n",
    "    # pretrain\n",
    "    dnn.train(mnist_train, n_epochs=2, learning_rate=3e-4, batch_size=512)\n",
    "\n",
    "    loss = dnn.backpropagation(subset_train_data, labels=subset_train_labels, n_epochs=2, learning_rate=3e-4, batch_size=512)\n",
    "    layer_loss_data.append(loss)\n",
    "    \n",
    "    error_rate_train, _ = dnn.test(test_data=subset_train_data, true_labels=subset_train_labels)\n",
    "    layer_error_rate_train_data.append(error_rate_train)  # Assurez-vous que error_rate_train est un scalaire\n",
    "\n",
    "    error_rate_test, _ = dnn.test(test_data=mnist_test, true_labels=mnist_test_labels)\n",
    "    layer_error_rate_test_data.append(error_rate_test)  # Assurez-vous que error_rate_test est un scalaire\n",
    "\n",
    "    # Save the lists with losses and error rates\n",
    "    save_object(layer_loss_data, \"pretrain_number_loss_data_\" + str(data_size) + \".pkl\",\"../results/experiments_mnist\")\n",
    "    save_object(layer_error_rate_train_data, \"pretrain_number_error_rate_train_data_\" + str(data_size) + \".pkl\",\"../results/experiments_mnist\")\n",
    "    save_object(layer_error_rate_test_data, \"pretrain_number_error_rate_test_data_\" + str(data_size) + \".pkl\",\"../results/experiments_mnist\")\n"
   ]
  },
  {
   "cell_type": "code",
   "execution_count": 32,
   "metadata": {},
   "outputs": [
    {
     "data": {
      "image/png": "[encoded data removed]",
      "text/plain": [
       "<Figure size 1000x600 with 1 Axes>"
      ]
     },
     "metadata": {},
     "output_type": "display_data"
    }
   ],
   "source": [
    "# Load the error rates for each data size\n",
    "data_sizes = [1000, 3000, 7000, 10000, 30000, 60000]\n",
    "train_error_rates_data = []\n",
    "test_error_rates_data = []\n",
    "\n",
    "for data_size in data_sizes:\n",
    "    train_error_rates_data = load_object(\"pretrain_number_error_rate_train_data_\" + str(data_size) + \".pkl\", \"../results/experiments_mnist\")\n",
    "    test_error_rates_data = load_object(\"pretrain_number_error_rate_test_data_\" + str(data_size) + \".pkl\", \"../results/experiments_mnist\")\n",
    "    \n",
    "# Plotting the error rates for different numbers of training data\n",
    "plt.figure(figsize=(10, 6))\n",
    "plt.plot(data_sizes, train_error_rates_data, label='Training Error Rate', marker='o')\n",
    "plt.plot(data_sizes, test_error_rates_data, label='Test Error Rate', marker='o')\n",
    "\n",
    "plt.xlabel('Number of Training Data')\n",
    "plt.ylabel('Error Rate')\n",
    "plt.title('Error Rate vs. Number of Training Data')\n",
    "plt.legend()\n",
    "plt.grid(True)\n",
    "plt.show()\n"
   ]
  }
 ],
 "metadata": {
  "kernelspec": {
   "display_name": ".venv",
   "language": "python",
   "name": "python3"
  },
  "language_info": {
   "codemirror_mode": {
    "name": "ipython",
    "version": 3
   },
   "file_extension": ".py",
   "mimetype": "text/x-python",
   "name": "python",
   "nbconvert_exporter": "python",
   "pygments_lexer": "ipython3",
   "version": "3.10.11"
  }
 },
 "nbformat": 4,
 "nbformat_minor": 2
}
