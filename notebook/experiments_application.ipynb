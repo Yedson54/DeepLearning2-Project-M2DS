{
 "cells": [
  {
   "cell_type": "markdown",
   "metadata": {},
   "source": [
    "# Experiments"
   ]
  },
  {
   "cell_type": "code",
   "execution_count": 1,
   "metadata": {},
   "outputs": [],
   "source": [
    "# Import.\n",
    "import os\n",
    "\n",
    "import numpy as np\n",
    "import matplotlib.pyplot as plt\n",
    "import pandas as pd\n",
    "\n",
    "from models.principal_rbm_alpha import RBM\n",
    "from models.principal_dbn_alpha import DBN\n",
    "from models.principal_dnn_mnist import DNN\n",
    "from utils import (\n",
    "    load_mnist,\n",
    "    load_alphadigit,\n",
    "    read_alpha_digit,\n",
    "    plot_characters_alphadigit,\n",
    "    plot_original_and_generated_images\n",
    ")"
   ]
  },
  {
   "cell_type": "code",
   "execution_count": 2,
   "metadata": {},
   "outputs": [],
   "source": [
    "DATA_FOLDER = \"../data/\"\n",
    "ALPHA_DIGIT_PATH = os.path.join(DATA_FOLDER, \"binaryalphadigs.mat\")\n",
    "MNIST_PATH = os.path.join(DATA_FOLDER, \"mnist_all.mat\")\n",
    "\n",
    "for path in [ALPHA_DIGIT_PATH, MNIST_PATH]:\n",
    "    if not os.path.exists(path):\n",
    "        raise FileNotFoundError(f\"The file {path} does not exist.\")\n",
    "\n",
    "SEED = 42"
   ]
  },
  {
   "cell_type": "markdown",
   "metadata": {},
   "source": [
    "## 1. Study on BinaryAlphaDigit"
   ]
  },
  {
   "cell_type": "code",
   "execution_count": 3,
   "metadata": {},
   "outputs": [
    {
     "data": {
      "image/png": "[encoded data removed]",
      "text/plain": [
       "<Figure size 400x200 with 2 Axes>"
      ]
     },
     "metadata": {},
     "output_type": "display_data"
    },
    {
     "data": {
      "image/png": "[encoded data removed]",
      "text/plain": [
       "<Figure size 800x200 with 4 Axes>"
      ]
     },
     "metadata": {},
     "output_type": "display_data"
    },
    {
     "name": "stdout",
     "output_type": "stream",
     "text": [
      "Original data: (36, 39)\n",
      "Original data (unstack samples -> flatten images): (1365, 320)\n",
      "Subset (1 character) data  (39, 320)\n",
      "Subset (4 characters) data  (156, 320)\n"
     ]
    }
   ],
   "source": [
    "alphadigit = load_alphadigit(ALPHA_DIGIT_PATH)\n",
    "\n",
    "chars_1 = [8]\n",
    "chars_2 = chars_1 + [\"Y\"]\n",
    "chars_3 = chars_2 + [\"L\"]\n",
    "chars_4 = chars_3 + [\"H\"]\n",
    "data_alpha_1 = read_alpha_digit(chars_1, data=alphadigit, use_data=True)\n",
    "data_alpha_2 = read_alpha_digit(chars_2, data=alphadigit, use_data=True)\n",
    "data_alpha_3 = read_alpha_digit(chars_3, data=alphadigit, use_data=True)\n",
    "data_alpha_4 = read_alpha_digit(chars_4, data=alphadigit, use_data=True)\n",
    "\n",
    "all_chars = np.arange(0, 35).tolist()\n",
    "alphadigit_data = read_alpha_digit(all_chars, data=alphadigit, use_data=True) # read all characters\n",
    "\n",
    "plot_characters_alphadigit(chars_1, data_alpha_1)\n",
    "plot_characters_alphadigit(chars_4, data_alpha_4)\n",
    "\n",
    "print(\"Original data:\", alphadigit.shape)\n",
    "print(\"Original data (unstack samples -> flatten images):\", alphadigit_data.shape)\n",
    "print(f\"Subset ({len(chars_1)} character) data \", data_alpha_1.shape)\n",
    "print(f\"Subset ({len(chars_4)} characters) data \", data_alpha_4.shape)"
   ]
  },
  {
   "cell_type": "markdown",
   "metadata": {},
   "source": [
    "### RBM"
   ]
  },
  {
   "cell_type": "code",
   "execution_count": 4,
   "metadata": {},
   "outputs": [
    {
     "name": "stdout",
     "output_type": "stream",
     "text": [
      "RBM(n_visible=320, n_hidden=200)\n"
     ]
    },
    {
     "name": "stderr",
     "output_type": "stream",
     "text": [
      "Epoch 0: 100%|██████████| 5/5 [00:00<00:00, 384.64it/s]\n"
     ]
    },
    {
     "name": "stderr",
     "output_type": "stream",
     "text": [
      "Epoch 1: 100%|██████████| 5/5 [00:00<00:00, 416.77it/s]\n",
      "Epoch 2: 100%|██████████| 5/5 [00:00<00:00, 312.52it/s]\n",
      "Epoch 3: 100%|██████████| 5/5 [00:00<00:00, 357.10it/s]\n",
      "Epoch 4: 100%|██████████| 5/5 [00:00<00:00, 454.50it/s]\n",
      "Epoch 5: 100%|██████████| 5/5 [00:00<00:00, 625.32it/s]\n",
      "Epoch 6: 100%|██████████| 5/5 [00:00<00:00, 625.25it/s]\n",
      "Epoch 7: 100%|██████████| 5/5 [00:00<00:00, 555.32it/s]\n",
      "Epoch 8: 100%|██████████| 5/5 [00:00<00:00, 555.86it/s]\n",
      "Epoch 9: 100%|██████████| 5/5 [00:00<00:00, 624.97it/s]\n",
      "Epoch 10: 100%|██████████| 5/5 [00:00<00:00, 625.14it/s]\n",
      "Epoch 11: 100%|██████████| 5/5 [00:00<00:00, 714.00it/s]\n",
      "Epoch 12: 100%|██████████| 5/5 [00:00<00:00, 625.19it/s]\n",
      "Epoch 13: 100%|██████████| 5/5 [00:00<00:00, 625.40it/s]\n",
      "Epoch 14: 100%|██████████| 5/5 [00:00<00:00, 714.48it/s]\n",
      "Epoch 15: 100%|██████████| 5/5 [00:00<00:00, 625.08it/s]\n",
      "Epoch 16: 100%|██████████| 5/5 [00:00<00:00, 714.29it/s]\n",
      "Epoch 17: 100%|██████████| 5/5 [00:00<00:00, 714.63it/s]\n",
      "Epoch 18: 100%|██████████| 5/5 [00:00<00:00, 833.56it/s]\n",
      "Epoch 19: 100%|██████████| 5/5 [00:00<00:00, 714.31it/s]\n",
      "Epoch 20: 100%|██████████| 5/5 [00:00<00:00, 555.48it/s]\n",
      "Epoch 21: 100%|██████████| 5/5 [00:00<00:00, 624.93it/s]\n",
      "Epoch 22: 100%|██████████| 5/5 [00:00<00:00, 21.01it/s]\n",
      "Epoch 23: 100%|██████████| 5/5 [00:00<00:00, 384.61it/s]\n",
      "Epoch 24: 100%|██████████| 5/5 [00:00<00:00, 192.28it/s]\n",
      "Epoch 25: 100%|██████████| 5/5 [00:00<00:00, 263.54it/s]\n",
      "Epoch 26: 100%|██████████| 5/5 [00:00<00:00, 357.07it/s]\n",
      "Epoch 27: 100%|██████████| 5/5 [00:00<00:00, 624.99it/s]\n",
      "Epoch 28: 100%|██████████| 5/5 [00:00<00:00, 277.76it/s]\n",
      "Epoch 29: 100%|██████████| 5/5 [00:00<00:00, 263.20it/s]\n",
      "Epoch 30: 100%|██████████| 5/5 [00:00<00:00, 333.44it/s]\n",
      "Epoch 31: 100%|██████████| 5/5 [00:00<00:00, 312.33it/s]\n",
      "Epoch 32: 100%|██████████| 5/5 [00:00<00:00, 454.60it/s]\n",
      "Epoch 33: 100%|██████████| 5/5 [00:00<00:00, 454.63it/s]\n",
      "Epoch 34: 100%|██████████| 5/5 [00:00<00:00, 499.88it/s]\n",
      "Epoch 35: 100%|██████████| 5/5 [00:00<00:00, 555.86it/s]\n",
      "Epoch 36: 100%|██████████| 5/5 [00:00<00:00, 625.92it/s]\n",
      "Epoch 37: 100%|██████████| 5/5 [00:00<00:00, 625.01it/s]\n",
      "Epoch 38: 100%|██████████| 5/5 [00:00<00:00, 625.27it/s]\n",
      "Epoch 39: 100%|██████████| 5/5 [00:00<00:00, 624.91it/s]\n",
      "Epoch 40: 100%|██████████| 5/5 [00:00<00:00, 624.99it/s]\n",
      "Epoch 41: 100%|██████████| 5/5 [00:00<00:00, 625.51it/s]\n",
      "Epoch 42: 100%|██████████| 5/5 [00:00<00:00, 625.18it/s]\n",
      "Epoch 43: 100%|██████████| 5/5 [00:00<00:00, 714.36it/s]\n",
      "Epoch 44: 100%|██████████| 5/5 [00:00<00:00, 714.22it/s]\n",
      "Epoch 45: 100%|██████████| 5/5 [00:00<00:00, 625.08it/s]\n",
      "Epoch 46: 100%|██████████| 5/5 [00:00<00:00, 714.36it/s]\n",
      "Epoch 47: 100%|██████████| 5/5 [00:00<00:00, 714.36it/s]\n",
      "Epoch 48: 100%|██████████| 5/5 [00:00<00:00, 714.31it/s]\n",
      "Epoch 49: 100%|██████████| 5/5 [00:00<00:00, 714.31it/s]\n",
      "Epoch 50: 100%|██████████| 5/5 [00:00<00:00, 625.21it/s]\n",
      "Epoch 51: 100%|██████████| 5/5 [00:00<00:00, 625.08it/s]\n",
      "Epoch 52: 100%|██████████| 5/5 [00:00<00:00, 624.97it/s]\n",
      "Epoch 53: 100%|██████████| 5/5 [00:00<00:00, 625.06it/s]\n",
      "Epoch 54: 100%|██████████| 5/5 [00:00<00:00, 500.00it/s]\n",
      "Epoch 55: 100%|██████████| 5/5 [00:00<00:00, 714.24it/s]\n",
      "Epoch 56: 100%|██████████| 5/5 [00:00<00:00, 714.34it/s]\n",
      "Epoch 57: 100%|██████████| 5/5 [00:00<00:00, 624.56it/s]\n",
      "Epoch 58: 100%|██████████| 5/5 [00:00<00:00, 500.05it/s]\n",
      "Epoch 59: 100%|██████████| 5/5 [00:00<00:00, 500.12it/s]\n",
      "Epoch 60: 100%|██████████| 5/5 [00:00<00:00, 625.18it/s]\n",
      "Epoch 61: 100%|██████████| 5/5 [00:00<00:00, 603.48it/s]\n",
      "Epoch 62: 100%|██████████| 5/5 [00:00<00:00, 494.89it/s]\n",
      "Epoch 63: 100%|██████████| 5/5 [00:00<00:00, 601.75it/s]\n",
      "Epoch 64: 100%|██████████| 5/5 [00:00<00:00, 624.80it/s]\n",
      "Epoch 65: 100%|██████████| 5/5 [00:00<00:00, 625.08it/s]\n",
      "Epoch 66: 100%|██████████| 5/5 [00:00<00:00, 625.34it/s]\n",
      "Epoch 67: 100%|██████████| 5/5 [00:00<00:00, 658.32it/s]\n",
      "Epoch 68: 100%|██████████| 5/5 [00:00<00:00, 534.40it/s]\n",
      "Epoch 69: 100%|██████████| 5/5 [00:00<00:00, 557.74it/s]\n",
      "Epoch 70: 100%|██████████| 5/5 [00:00<00:00, 500.07it/s]\n",
      "Epoch 71: 100%|██████████| 5/5 [00:00<00:00, 555.60it/s]\n",
      "Epoch 72: 100%|██████████| 5/5 [00:00<00:00, 500.02it/s]\n",
      "Epoch 73: 100%|██████████| 5/5 [00:00<00:00, 384.66it/s]\n",
      "Epoch 74: 100%|██████████| 5/5 [00:00<00:00, 465.82it/s]\n",
      "Epoch 75: 100%|██████████| 5/5 [00:00<00:00, 379.61it/s]\n",
      "Epoch 76: 100%|██████████| 5/5 [00:00<00:00, 555.67it/s]\n",
      "Epoch 77: 100%|██████████| 5/5 [00:00<00:00, 555.61it/s]\n",
      "Epoch 78: 100%|██████████| 5/5 [00:00<00:00, 555.55it/s]\n",
      "Epoch 79: 100%|██████████| 5/5 [00:00<00:00, 499.76it/s]\n",
      "Epoch 80: 100%|██████████| 5/5 [00:00<00:00, 625.05it/s]\n",
      "Epoch 81: 100%|██████████| 5/5 [00:00<00:00, 499.94it/s]\n",
      "Epoch 82: 100%|██████████| 5/5 [00:00<00:00, 625.46it/s]\n",
      "Epoch 83: 100%|██████████| 5/5 [00:00<00:00, 555.33it/s]\n",
      "Epoch 84: 100%|██████████| 5/5 [00:00<00:00, 500.01it/s]\n",
      "Epoch 85: 100%|██████████| 5/5 [00:00<00:00, 714.14it/s]\n",
      "Epoch 86: 100%|██████████| 5/5 [00:00<00:00, 555.55it/s]\n",
      "Epoch 87: 100%|██████████| 5/5 [00:00<00:00, 555.82it/s]\n",
      "Epoch 88: 100%|██████████| 5/5 [00:00<00:00, 500.16it/s]\n",
      "Epoch 89: 100%|██████████| 5/5 [00:00<00:00, 624.99it/s]\n",
      "Epoch 90: 100%|██████████| 5/5 [00:00<00:00, 500.14it/s]\n",
      "Epoch 91: 100%|██████████| 5/5 [00:00<00:00, 555.36it/s]\n",
      "Epoch 92: 100%|██████████| 5/5 [00:00<00:00, 624.88it/s]\n",
      "Epoch 93: 100%|██████████| 5/5 [00:00<00:00, 624.90it/s]\n",
      "Epoch 94: 100%|██████████| 5/5 [00:00<00:00, 500.18it/s]\n",
      "Epoch 95: 100%|██████████| 5/5 [00:00<00:00, 555.48it/s]\n",
      "Epoch 96: 100%|██████████| 5/5 [00:00<00:00, 555.43it/s]\n",
      "Epoch 97: 100%|██████████| 5/5 [00:00<00:00, 500.25it/s]\n",
      "Epoch 98: 100%|██████████| 5/5 [00:00<00:00, 555.65it/s]\n",
      "Epoch 99: 100%|██████████| 5/5 [00:00<00:00, 416.60it/s]\n"
     ]
    },
    {
     "data": {
      "text/plain": [
       "RBM(n_visible=320, n_hidden=200)"
      ]
     },
     "execution_count": 4,
     "metadata": {},
     "output_type": "execute_result"
    }
   ],
   "source": [
    "data_alpha = data_alpha_1\n",
    "n_chars = data_alpha.shape[0] / 39\n",
    "\n",
    "# Parameters\n",
    "n_visible = data_alpha.shape[1]  # Number of visible units (size of each image)\n",
    "n_hidden = 200  # Number of hidden units (hyperparameter)\n",
    "learning_rate = 0.1\n",
    "n_epochs = 100\n",
    "batch_size = int(8 * n_chars)\n",
    "\n",
    "# Initialize RBM\n",
    "rbm = RBM(n_visible=n_visible, n_hidden=n_hidden, random_state=SEED)\n",
    "print(rbm)\n",
    "\n",
    "# Train RBM\n",
    "rbm.train(data_alpha, learning_rate=learning_rate, n_epochs=n_epochs, batch_size=batch_size)"
   ]
  },
  {
   "cell_type": "code",
   "execution_count": 5,
   "metadata": {},
   "outputs": [
    {
     "data": {
      "image/png": "[encoded data removed]",
      "text/plain": [
       "<Figure size 1200x600 with 20 Axes>"
      ]
     },
     "metadata": {},
     "output_type": "display_data"
    }
   ],
   "source": [
    "# Generate samples\n",
    "generated_samples = rbm.generate_image(n_samples=10, n_gibbs_steps=1)\n",
    "\n",
    "plot_original_and_generated_images(data_alpha, generated_samples, **{\"cmap\":None})"
   ]
  },
  {
   "cell_type": "markdown",
   "metadata": {},
   "source": [
    "### DBN"
   ]
  },
  {
   "cell_type": "code",
   "execution_count": 6,
   "metadata": {},
   "outputs": [
    {
     "name": "stderr",
     "output_type": "stream",
     "text": [
      "Epoch 0: 100%|██████████| 5/5 [00:00<00:00, 500.08it/s]yer/s]\n",
      "Epoch 1: 100%|██████████| 5/5 [00:00<00:00, 384.66it/s]\n",
      "Epoch 2: 100%|██████████| 5/5 [00:00<00:00, 384.89it/s]\n",
      "Epoch 3: 100%|██████████| 5/5 [00:00<00:00, 357.19it/s]\n",
      "Epoch 4: 100%|██████████| 5/5 [00:00<00:00, 357.17it/s]\n",
      "Epoch 5: 100%|██████████| 5/5 [00:00<00:00, 333.29it/s]\n",
      "Epoch 6: 100%|██████████| 5/5 [00:00<00:00, 384.66it/s]\n",
      "Epoch 7: 100%|██████████| 5/5 [00:00<00:00, 384.67it/s]\n",
      "Epoch 8: 100%|██████████| 5/5 [00:00<00:00, 416.71it/s]\n",
      "Epoch 9: 100%|██████████| 5/5 [00:00<00:00, 357.16it/s]\n",
      "Epoch 10: 100%|██████████| 5/5 [00:00<00:00, 384.62it/s]\n",
      "Epoch 11: 100%|██████████| 5/5 [00:00<00:00, 384.61it/s]\n",
      "Epoch 12: 100%|██████████| 5/5 [00:00<00:00, 384.58it/s]\n",
      "Epoch 13: 100%|██████████| 5/5 [00:00<00:00, 312.49it/s]\n",
      "Epoch 14: 100%|██████████| 5/5 [00:00<00:00, 357.19it/s]\n",
      "Epoch 15: 100%|██████████| 5/5 [00:00<00:00, 384.58it/s]\n",
      "Epoch 16: 100%|██████████| 5/5 [00:00<00:00, 333.23it/s]\n",
      "Epoch 17: 100%|██████████| 5/5 [00:00<00:00, 416.71it/s]\n",
      "Epoch 18: 100%|██████████| 5/5 [00:00<00:00, 333.32it/s]\n",
      "Epoch 19: 100%|██████████| 5/5 [00:00<00:00, 312.47it/s]\n",
      "Epoch 20: 100%|██████████| 5/5 [00:00<00:00, 384.72it/s]\n",
      "Epoch 21: 100%|██████████| 5/5 [00:00<00:00, 67.57it/s]\n",
      "Epoch 22: 100%|██████████| 5/5 [00:00<00:00, 36.77it/s]\n",
      "Epoch 23: 100%|██████████| 5/5 [00:00<00:00, 416.58it/s]\n",
      "Epoch 24: 100%|██████████| 5/5 [00:00<00:00, 131.58it/s]\n",
      "Epoch 25: 100%|██████████| 5/5 [00:00<00:00, 384.57it/s]\n",
      "Epoch 26: 100%|██████████| 5/5 [00:00<00:00, 333.29it/s]\n",
      "Epoch 27: 100%|██████████| 5/5 [00:00<00:00, 294.07it/s]\n",
      "Epoch 28: 100%|██████████| 5/5 [00:00<00:00, 454.51it/s]\n",
      "Epoch 29: 100%|██████████| 5/5 [00:00<00:00, 555.49it/s]\n",
      "Epoch 30: 100%|██████████| 5/5 [00:00<00:00, 499.66it/s]\n",
      "Epoch 31: 100%|██████████| 5/5 [00:00<00:00, 454.52it/s]\n",
      "Epoch 32: 100%|██████████| 5/5 [00:00<00:00, 499.99it/s]\n",
      "Epoch 33: 100%|██████████| 5/5 [00:00<00:00, 625.01it/s]\n",
      "Epoch 34: 100%|██████████| 5/5 [00:00<00:00, 624.73it/s]\n",
      "Epoch 35: 100%|██████████| 5/5 [00:00<00:00, 500.02it/s]\n",
      "Epoch 36: 100%|██████████| 5/5 [00:00<00:00, 625.36it/s]\n",
      "Epoch 37: 100%|██████████| 5/5 [00:00<00:00, 555.48it/s]\n",
      "Epoch 38: 100%|██████████| 5/5 [00:00<00:00, 555.74it/s]\n",
      "Epoch 39: 100%|██████████| 5/5 [00:00<00:00, 416.74it/s]\n",
      "Epoch 40: 100%|██████████| 5/5 [00:00<00:00, 416.96it/s]\n",
      "Epoch 41: 100%|██████████| 5/5 [00:00<00:00, 555.46it/s]\n",
      "Epoch 42: 100%|██████████| 5/5 [00:00<00:00, 462.02it/s]\n",
      "Epoch 43: 100%|██████████| 5/5 [00:00<00:00, 385.10it/s]\n",
      "Epoch 44: 100%|██████████| 5/5 [00:00<00:00, 587.21it/s]\n",
      "Epoch 45: 100%|██████████| 5/5 [00:00<00:00, 466.74it/s]\n",
      "Epoch 46: 100%|██████████| 5/5 [00:00<00:00, 468.17it/s]\n",
      "Epoch 47: 100%|██████████| 5/5 [00:00<00:00, 488.57it/s]\n",
      "Epoch 48: 100%|██████████| 5/5 [00:00<00:00, 432.95it/s]\n",
      "Epoch 49: 100%|██████████| 5/5 [00:00<00:00, 512.93it/s]\n",
      "Epoch 50: 100%|██████████| 5/5 [00:00<00:00, 446.48it/s]\n",
      "Epoch 51: 100%|██████████| 5/5 [00:00<00:00, 520.99it/s]\n",
      "Epoch 52: 100%|██████████| 5/5 [00:00<00:00, 544.81it/s]\n",
      "Epoch 53: 100%|██████████| 5/5 [00:00<00:00, 625.51it/s]\n",
      "Epoch 54: 100%|██████████| 5/5 [00:00<00:00, 500.13it/s]\n",
      "Epoch 55: 100%|██████████| 5/5 [00:00<00:00, 714.09it/s]\n",
      "Epoch 56: 100%|██████████| 5/5 [00:00<00:00, 624.91it/s]\n",
      "Epoch 57: 100%|██████████| 5/5 [00:00<00:00, 555.61it/s]\n",
      "Epoch 58: 100%|██████████| 5/5 [00:00<00:00, 625.29it/s]\n",
      "Epoch 59: 100%|██████████| 5/5 [00:00<00:00, 625.27it/s]\n",
      "Epoch 60: 100%|██████████| 5/5 [00:00<00:00, 714.14it/s]\n",
      "Epoch 61: 100%|██████████| 5/5 [00:00<00:00, 714.24it/s]\n",
      "Epoch 62: 100%|██████████| 5/5 [00:00<00:00, 714.65it/s]\n",
      "Epoch 63: 100%|██████████| 5/5 [00:00<00:00, 714.29it/s]\n",
      "Epoch 64: 100%|██████████| 5/5 [00:00<00:00, 416.48it/s]\n",
      "Epoch 65: 100%|██████████| 5/5 [00:00<00:00, 625.16it/s]\n",
      "Epoch 66: 100%|██████████| 5/5 [00:00<00:00, 624.90it/s]\n",
      "Epoch 67: 100%|██████████| 5/5 [00:00<00:00, 624.93it/s]\n",
      "Epoch 68: 100%|██████████| 5/5 [00:00<00:00, 714.36it/s]\n",
      "Epoch 69: 100%|██████████| 5/5 [00:00<00:00, 833.66it/s]\n",
      "Epoch 70: 100%|██████████| 5/5 [00:00<00:00, 624.99it/s]\n",
      "Epoch 71: 100%|██████████| 5/5 [00:00<00:00, 625.14it/s]\n",
      "Epoch 72: 100%|██████████| 5/5 [00:00<00:00, 555.55it/s]\n",
      "Epoch 73: 100%|██████████| 5/5 [00:00<00:00, 499.96it/s]\n",
      "Epoch 74: 100%|██████████| 5/5 [00:00<00:00, 555.63it/s]\n",
      "Epoch 75: 100%|██████████| 5/5 [00:00<00:00, 555.36it/s]\n",
      "Epoch 76: 100%|██████████| 5/5 [00:00<00:00, 555.45it/s]\n",
      "Epoch 77: 100%|██████████| 5/5 [00:00<00:00, 500.10it/s]\n",
      "Epoch 78: 100%|██████████| 5/5 [00:00<00:00, 624.99it/s]\n",
      "Epoch 79: 100%|██████████| 5/5 [00:00<00:00, 249.98it/s]\n",
      "Epoch 80: 100%|██████████| 5/5 [00:00<00:00, 624.95it/s]\n",
      "Epoch 81: 100%|██████████| 5/5 [00:00<00:00, 499.85it/s]\n",
      "Epoch 82: 100%|██████████| 5/5 [00:00<00:00, 555.48it/s]\n",
      "Epoch 83: 100%|██████████| 5/5 [00:00<00:00, 555.26it/s]\n",
      "Epoch 84: 100%|██████████| 5/5 [00:00<00:00, 625.16it/s]\n",
      "Epoch 85: 100%|██████████| 5/5 [00:00<00:00, 714.26it/s]\n",
      "Epoch 86: 100%|██████████| 5/5 [00:00<00:00, 714.73it/s]\n",
      "Epoch 87: 100%|██████████| 5/5 [00:00<00:00, 714.34it/s]\n",
      "Epoch 88: 100%|██████████| 5/5 [00:00<00:00, 625.03it/s]\n",
      "Epoch 89: 100%|██████████| 5/5 [00:00<00:00, 625.10it/s]\n",
      "Epoch 90: 100%|██████████| 5/5 [00:00<00:00, 625.05it/s]\n",
      "Epoch 91: 100%|██████████| 5/5 [00:00<00:00, 714.41it/s]\n",
      "Epoch 92: 100%|██████████| 5/5 [00:00<00:00, 714.43it/s]\n",
      "Epoch 93: 100%|██████████| 5/5 [00:00<00:00, 555.49it/s]\n",
      "Epoch 94: 100%|██████████| 5/5 [00:00<00:00, 625.10it/s]\n",
      "Epoch 95: 100%|██████████| 5/5 [00:00<00:00, 714.36it/s]\n",
      "Epoch 96: 100%|██████████| 5/5 [00:00<00:00, 714.46it/s]\n",
      "Epoch 97: 100%|██████████| 5/5 [00:00<00:00, 833.33it/s]\n",
      "Epoch 98: 100%|██████████| 5/5 [00:00<00:00, 714.65it/s]\n",
      "Epoch 99: 100%|██████████| 5/5 [00:00<00:00, 714.46it/s]\n",
      "Epoch 0: 100%|██████████| 5/5 [00:00<00:00, 833.26it/s]  1.75s/layer]\n",
      "Epoch 1: 100%|██████████| 5/5 [00:00<00:00, 833.96it/s]\n",
      "Epoch 2: 100%|██████████| 5/5 [00:00<00:00, 833.16it/s]\n",
      "Epoch 3: 100%|██████████| 5/5 [00:00<00:00, 1000.74it/s]\n",
      "Epoch 4: 100%|██████████| 5/5 [00:00<00:00, 833.59it/s]\n",
      "Epoch 5: 100%|██████████| 5/5 [00:00<00:00, 833.36it/s]\n",
      "Epoch 6: 100%|██████████| 5/5 [00:00<00:00, 833.49it/s]\n",
      "Epoch 7: 100%|██████████| 5/5 [00:00<00:00, 833.29it/s]\n",
      "Epoch 8: 100%|██████████| 5/5 [00:00<00:00, 714.17it/s]\n",
      "Epoch 9: 100%|██████████| 5/5 [00:00<00:00, 714.34it/s]\n",
      "Epoch 10: 100%|██████████| 5/5 [00:00<00:00, 833.46it/s]\n",
      "Epoch 11: 100%|██████████| 5/5 [00:00<00:00, 999.36it/s]\n",
      "Epoch 12: 100%|██████████| 5/5 [00:00<00:00, 833.26it/s]\n",
      "Epoch 13: 100%|██████████| 5/5 [00:00<00:00, 714.31it/s]\n",
      "Epoch 14: 100%|██████████| 5/5 [00:00<00:00, 833.49it/s]\n",
      "Epoch 15: 100%|██████████| 5/5 [00:00<00:00, 833.20it/s]\n",
      "Epoch 16: 100%|██████████| 5/5 [00:00<00:00, 834.12it/s]\n",
      "Epoch 17: 100%|██████████| 5/5 [00:00<00:00, 833.39it/s]\n",
      "Epoch 18: 100%|██████████| 5/5 [00:00<00:00, 833.16it/s]\n",
      "Epoch 19: 100%|██████████| 5/5 [00:00<00:00, 714.41it/s]\n",
      "Epoch 20: 100%|██████████| 5/5 [00:00<00:00, 833.46it/s]\n",
      "Epoch 21: 100%|██████████| 5/5 [00:00<00:00, 833.06it/s]\n",
      "Epoch 22: 100%|██████████| 5/5 [00:00<00:00, 833.33it/s]\n",
      "Epoch 23: 100%|██████████| 5/5 [00:00<00:00, 714.39it/s]\n",
      "Epoch 24: 100%|██████████| 5/5 [00:00<00:00, 833.36it/s]\n",
      "Epoch 25: 100%|██████████| 5/5 [00:00<00:00, 833.23it/s]\n",
      "Epoch 26: 100%|██████████| 5/5 [00:00<00:00, 714.34it/s]\n",
      "Epoch 27: 100%|██████████| 5/5 [00:00<00:00, 833.53it/s]\n",
      "Epoch 28: 100%|██████████| 5/5 [00:00<00:00, 833.79it/s]\n",
      "Epoch 29: 100%|██████████| 5/5 [00:00<00:00, 714.34it/s]\n",
      "Epoch 30: 100%|██████████| 5/5 [00:00<00:00, 833.89it/s]\n",
      "Epoch 31: 100%|██████████| 5/5 [00:00<00:00, 833.53it/s]\n",
      "Epoch 32: 100%|██████████| 5/5 [00:00<00:00, 833.39it/s]\n",
      "Epoch 33: 100%|██████████| 5/5 [00:00<00:00, 1000.26it/s]\n",
      "Epoch 34: 100%|██████████| 5/5 [00:00<00:00, 833.06it/s]\n",
      "Epoch 35: 100%|██████████| 5/5 [00:00<00:00, 832.96it/s]\n",
      "Epoch 36: 100%|██████████| 5/5 [00:00<00:00, 833.49it/s]\n",
      "Epoch 37: 100%|██████████| 5/5 [00:00<00:00, 833.06it/s]\n",
      "Epoch 38: 100%|██████████| 5/5 [00:00<00:00, 833.29it/s]\n",
      "Epoch 39: 100%|██████████| 5/5 [00:00<00:00, 833.73it/s]\n",
      "Epoch 40: 100%|██████████| 5/5 [00:00<00:00, 714.34it/s]\n",
      "Epoch 41: 100%|██████████| 5/5 [00:00<00:00, 834.49it/s]\n",
      "Epoch 42: 100%|██████████| 5/5 [00:00<00:00, 833.39it/s]\n",
      "Epoch 43: 100%|██████████| 5/5 [00:00<00:00, 833.16it/s]\n",
      "Epoch 44: 100%|██████████| 5/5 [00:00<00:00, 833.33it/s]\n",
      "Epoch 45: 100%|██████████| 5/5 [00:00<00:00, 714.41it/s]\n",
      "Epoch 46: 100%|██████████| 5/5 [00:00<00:00, 833.23it/s]\n",
      "Epoch 47: 100%|██████████| 5/5 [00:00<00:00, 714.07it/s]\n",
      "Epoch 48: 100%|██████████| 5/5 [00:00<00:00, 624.60it/s]\n",
      "Epoch 49: 100%|██████████| 5/5 [00:00<00:00, 833.33it/s]\n",
      "Epoch 50: 100%|██████████| 5/5 [00:00<00:00, 714.26it/s]\n",
      "Epoch 51: 100%|██████████| 5/5 [00:00<00:00, 714.31it/s]\n",
      "Epoch 52: 100%|██████████| 5/5 [00:00<00:00, 833.26it/s]\n",
      "Epoch 53: 100%|██████████| 5/5 [00:00<00:00, 999.74it/s]\n",
      "Epoch 54: 100%|██████████| 5/5 [00:00<00:00, 714.26it/s]\n",
      "Epoch 55: 100%|██████████| 5/5 [00:00<00:00, 1002.18it/s]\n",
      "Epoch 56: 100%|██████████| 5/5 [00:00<00:00, 833.36it/s]\n",
      "Epoch 57: 100%|██████████| 5/5 [00:00<00:00, 624.77it/s]\n",
      "Epoch 58: 100%|██████████| 5/5 [00:00<00:00, 625.05it/s]\n",
      "Epoch 59: 100%|██████████| 5/5 [00:00<00:00, 714.34it/s]\n",
      "Epoch 60: 100%|██████████| 5/5 [00:00<00:00, 27.17it/s]\n",
      "Epoch 61: 100%|██████████| 5/5 [00:00<00:00, 714.31it/s]\n",
      "Epoch 62: 100%|██████████| 5/5 [00:00<00:00, 625.03it/s]\n",
      "Epoch 63: 100%|██████████| 5/5 [00:00<00:00, 357.15it/s]\n",
      "Epoch 64: 100%|██████████| 5/5 [00:00<00:00, 555.43it/s]\n",
      "Epoch 65: 100%|██████████| 5/5 [00:00<00:00, 714.68it/s]\n",
      "Epoch 66: 100%|██████████| 5/5 [00:00<00:00, 833.56it/s]\n",
      "Epoch 67: 100%|██████████| 5/5 [00:00<00:00, 555.45it/s]\n",
      "Epoch 68: 100%|██████████| 5/5 [00:00<00:00, 714.53it/s]\n",
      "Epoch 69: 100%|██████████| 5/5 [00:00<00:00, 555.63it/s]\n",
      "Epoch 70: 100%|██████████| 5/5 [00:00<00:00, 624.84it/s]\n",
      "Epoch 71: 100%|██████████| 5/5 [00:00<00:00, 714.39it/s]\n",
      "Epoch 72: 100%|██████████| 5/5 [00:00<00:00, 500.16it/s]\n",
      "Epoch 73: 100%|██████████| 5/5 [00:00<00:00, 714.00it/s]\n",
      "Epoch 74: 100%|██████████| 5/5 [00:00<00:00, 714.39it/s]\n",
      "Epoch 75: 100%|██████████| 5/5 [00:00<00:00, 714.36it/s]\n",
      "Epoch 76: 100%|██████████| 5/5 [00:00<00:00, 834.12it/s]\n",
      "Epoch 77: 100%|██████████| 5/5 [00:00<00:00, 833.39it/s]\n",
      "Epoch 78: 100%|██████████| 5/5 [00:00<00:00, 833.06it/s]\n",
      "Epoch 79: 100%|██████████| 5/5 [00:00<00:00, 833.33it/s]\n",
      "Epoch 80: 100%|██████████| 5/5 [00:00<00:00, 714.29it/s]\n",
      "Epoch 81: 100%|██████████| 5/5 [00:00<00:00, 833.13it/s]\n",
      "Epoch 82: 100%|██████████| 5/5 [00:00<00:00, 832.90it/s]\n",
      "Epoch 83: 100%|██████████| 5/5 [00:00<00:00, 833.10it/s]\n",
      "Epoch 84: 100%|██████████| 5/5 [00:00<00:00, 1000.31it/s]\n",
      "Epoch 85: 100%|██████████| 5/5 [00:00<00:00, 833.43it/s]\n",
      "Epoch 86: 100%|██████████| 5/5 [00:00<00:00, 833.16it/s]\n",
      "Epoch 87: 100%|██████████| 5/5 [00:00<00:00, 833.03it/s]\n",
      "Epoch 88: 100%|██████████| 5/5 [00:00<00:00, 714.36it/s]\n",
      "Epoch 89: 100%|██████████| 5/5 [00:00<00:00, 714.39it/s]\n",
      "Epoch 90: 100%|██████████| 5/5 [00:00<00:00, 714.26it/s]\n",
      "Epoch 91: 100%|██████████| 5/5 [00:00<00:00, 714.51it/s]\n",
      "Epoch 92: 100%|██████████| 5/5 [00:00<00:00, 833.10it/s]\n",
      "Epoch 93: 100%|██████████| 5/5 [00:00<00:00, 714.39it/s]\n",
      "Epoch 94: 100%|██████████| 5/5 [00:00<00:00, 833.33it/s]\n",
      "Epoch 95: 100%|██████████| 5/5 [00:00<00:00, 833.39it/s]\n",
      "Epoch 96: 100%|██████████| 5/5 [00:00<00:00, 714.36it/s]\n",
      "Epoch 97: 100%|██████████| 5/5 [00:00<00:00, 714.51it/s]\n",
      "Epoch 98: 100%|██████████| 5/5 [00:00<00:00, 714.24it/s]\n",
      "Epoch 99: 100%|██████████| 5/5 [00:00<00:00, 833.16it/s]\n",
      "Epoch 0: 100%|██████████| 5/5 [00:00<00:00, 833.53it/s]  1.45s/layer]\n",
      "Epoch 1: 100%|██████████| 5/5 [00:00<00:00, 714.39it/s]\n",
      "Epoch 2: 100%|██████████| 5/5 [00:00<00:00, 714.63it/s]\n",
      "Epoch 3: 100%|██████████| 5/5 [00:00<00:00, 832.34it/s]\n",
      "Epoch 4: 100%|██████████| 5/5 [00:00<00:00, 833.29it/s]\n",
      "Epoch 5: 100%|██████████| 5/5 [00:00<00:00, 832.50it/s]\n",
      "Epoch 6: 100%|██████████| 5/5 [00:00<00:00, 833.16it/s]\n",
      "Epoch 7: 100%|██████████| 5/5 [00:00<00:00, 714.26it/s]\n",
      "Epoch 8: 100%|██████████| 5/5 [00:00<00:00, 714.43it/s]\n",
      "Epoch 9: 100%|██████████| 5/5 [00:00<00:00, 833.26it/s]\n",
      "Epoch 10: 100%|██████████| 5/5 [00:00<00:00, 624.77it/s]\n",
      "Epoch 11: 100%|██████████| 5/5 [00:00<00:00, 714.41it/s]\n",
      "Epoch 12: 100%|██████████| 5/5 [00:00<00:00, 833.53it/s]\n",
      "Epoch 13: 100%|██████████| 5/5 [00:00<00:00, 833.33it/s]\n",
      "Epoch 14: 100%|██████████| 5/5 [00:00<00:00, 714.29it/s]\n",
      "Epoch 15: 100%|██████████| 5/5 [00:00<00:00, 714.24it/s]\n",
      "Epoch 16: 100%|██████████| 5/5 [00:00<00:00, 625.14it/s]\n",
      "Epoch 17: 100%|██████████| 5/5 [00:00<00:00, 625.03it/s]\n",
      "Epoch 18: 100%|██████████| 5/5 [00:00<00:00, 555.52it/s]\n",
      "Epoch 19: 100%|██████████| 5/5 [00:00<00:00, 555.67it/s]\n",
      "Epoch 20: 100%|██████████| 5/5 [00:00<00:00, 499.99it/s]\n",
      "Epoch 21: 100%|██████████| 5/5 [00:00<00:00, 555.52it/s]\n",
      "Epoch 22: 100%|██████████| 5/5 [00:00<00:00, 615.33it/s]\n",
      "Epoch 23: 100%|██████████| 5/5 [00:00<00:00, 501.26it/s]\n",
      "Epoch 24: 100%|██████████| 5/5 [00:00<00:00, 665.57it/s]\n",
      "Epoch 25: 100%|██████████| 5/5 [00:00<00:00, 625.10it/s]\n",
      "Epoch 26: 100%|██████████| 5/5 [00:00<00:00, 650.46it/s]\n",
      "Epoch 27: 100%|██████████| 5/5 [00:00<00:00, 732.66it/s]\n",
      "Epoch 28: 100%|██████████| 5/5 [00:00<00:00, 833.49it/s]\n",
      "Epoch 29: 100%|██████████| 5/5 [00:00<00:00, 714.36it/s]\n",
      "Epoch 30: 100%|██████████| 5/5 [00:00<00:00, 714.43it/s]\n",
      "Epoch 31: 100%|██████████| 5/5 [00:00<00:00, 625.44it/s]\n",
      "Epoch 32: 100%|██████████| 5/5 [00:00<00:00, 714.26it/s]\n",
      "Epoch 33: 100%|██████████| 5/5 [00:00<00:00, 833.66it/s]\n",
      "Epoch 34: 100%|██████████| 5/5 [00:00<00:00, 739.58it/s]\n",
      "Epoch 35: 100%|██████████| 5/5 [00:00<00:00, 584.56it/s]\n",
      "Epoch 36: 100%|██████████| 5/5 [00:00<00:00, 714.65it/s]\n",
      "Epoch 37: 100%|██████████| 5/5 [00:00<00:00, 714.41it/s]\n",
      "Epoch 38: 100%|██████████| 5/5 [00:00<00:00, 714.48it/s]\n",
      "Epoch 39: 100%|██████████| 5/5 [00:00<00:00, 624.77it/s]\n",
      "Epoch 40: 100%|██████████| 5/5 [00:00<00:00, 714.65it/s]\n",
      "Epoch 41: 100%|██████████| 5/5 [00:00<00:00, 714.41it/s]\n",
      "Epoch 42: 100%|██████████| 5/5 [00:00<00:00, 714.26it/s]\n",
      "Epoch 43: 100%|██████████| 5/5 [00:00<00:00, 833.33it/s]\n",
      "Epoch 44: 100%|██████████| 5/5 [00:00<00:00, 833.46it/s]\n",
      "Epoch 45: 100%|██████████| 5/5 [00:00<00:00, 833.46it/s]\n",
      "Epoch 46: 100%|██████████| 5/5 [00:00<00:00, 832.83it/s]\n",
      "Epoch 47: 100%|██████████| 5/5 [00:00<00:00, 833.49it/s]\n",
      "Epoch 48: 100%|██████████| 5/5 [00:00<00:00, 714.51it/s]\n",
      "Epoch 49: 100%|██████████| 5/5 [00:00<00:00, 833.26it/s]\n",
      "Epoch 50: 100%|██████████| 5/5 [00:00<00:00, 714.14it/s]\n",
      "Epoch 51: 100%|██████████| 5/5 [00:00<00:00, 714.05it/s]\n",
      "Epoch 52: 100%|██████████| 5/5 [00:00<00:00, 833.49it/s]\n",
      "Epoch 53: 100%|██████████| 5/5 [00:00<00:00, 833.63it/s]\n",
      "Epoch 54: 100%|██████████| 5/5 [00:00<00:00, 714.34it/s]\n",
      "Epoch 55: 100%|██████████| 5/5 [00:00<00:00, 833.49it/s]\n",
      "Epoch 56: 100%|██████████| 5/5 [00:00<00:00, 28.25it/s]\n",
      "Epoch 57: 100%|██████████| 5/5 [00:00<00:00, 714.31it/s]\n",
      "Epoch 58: 100%|██████████| 5/5 [00:00<00:00, 625.18it/s]\n",
      "Epoch 59: 100%|██████████| 5/5 [00:00<00:00, 555.61it/s]\n",
      "Epoch 60: 100%|██████████| 5/5 [00:00<00:00, 714.41it/s]\n",
      "Epoch 61: 100%|██████████| 5/5 [00:00<00:00, 714.58it/s]\n",
      "Epoch 62: 100%|██████████| 5/5 [00:00<00:00, 555.49it/s]\n",
      "Epoch 63: 100%|██████████| 5/5 [00:00<00:00, 454.54it/s]\n",
      "Epoch 64: 100%|██████████| 5/5 [00:00<00:00, 624.84it/s]\n",
      "Epoch 65: 100%|██████████| 5/5 [00:00<00:00, 714.36it/s]\n",
      "Epoch 66: 100%|██████████| 5/5 [00:00<00:00, 714.31it/s]\n",
      "Epoch 67: 100%|██████████| 5/5 [00:00<00:00, 714.51it/s]\n",
      "Epoch 68: 100%|██████████| 5/5 [00:00<00:00, 714.05it/s]\n",
      "Epoch 69: 100%|██████████| 5/5 [00:00<00:00, 833.33it/s]\n",
      "Epoch 70: 100%|██████████| 5/5 [00:00<00:00, 714.29it/s]\n",
      "Epoch 71: 100%|██████████| 5/5 [00:00<00:00, 833.23it/s]\n",
      "Epoch 72: 100%|██████████| 5/5 [00:00<00:00, 833.89it/s]\n",
      "Epoch 73: 100%|██████████| 5/5 [00:00<00:00, 714.48it/s]\n",
      "Epoch 74: 100%|██████████| 5/5 [00:00<00:00, 833.69it/s]\n",
      "Epoch 75: 100%|██████████| 5/5 [00:00<00:00, 714.24it/s]\n",
      "Epoch 76: 100%|██████████| 5/5 [00:00<00:00, 833.20it/s]\n",
      "Epoch 77: 100%|██████████| 5/5 [00:00<00:00, 833.36it/s]\n",
      "Epoch 78: 100%|██████████| 5/5 [00:00<00:00, 714.36it/s]\n",
      "Epoch 79: 100%|██████████| 5/5 [00:00<00:00, 714.63it/s]\n",
      "Epoch 80: 100%|██████████| 5/5 [00:00<00:00, 833.43it/s]\n",
      "Epoch 81: 100%|██████████| 5/5 [00:00<00:00, 833.29it/s]\n",
      "Epoch 82: 100%|██████████| 5/5 [00:00<00:00, 1000.41it/s]\n",
      "Epoch 83: 100%|██████████| 5/5 [00:00<00:00, 1000.02it/s]\n",
      "Epoch 84: 100%|██████████| 5/5 [00:00<00:00, 714.22it/s]\n",
      "Epoch 85: 100%|██████████| 5/5 [00:00<00:00, 714.12it/s]\n",
      "Epoch 86: 100%|██████████| 5/5 [00:00<00:00, 833.16it/s]\n",
      "Epoch 87: 100%|██████████| 5/5 [00:00<00:00, 833.53it/s]\n",
      "Epoch 88: 100%|██████████| 5/5 [00:00<00:00, 833.33it/s]\n",
      "Epoch 89: 100%|██████████| 5/5 [00:00<00:00, 714.36it/s]\n",
      "Epoch 90: 100%|██████████| 5/5 [00:00<00:00, 833.46it/s]\n",
      "Epoch 91: 100%|██████████| 5/5 [00:00<00:00, 833.43it/s]\n",
      "Epoch 92: 100%|██████████| 5/5 [00:00<00:00, 833.56it/s]\n",
      "Epoch 93: 100%|██████████| 5/5 [00:00<00:00, 833.39it/s]\n",
      "Epoch 94: 100%|██████████| 5/5 [00:00<00:00, 714.34it/s]\n",
      "Epoch 95: 100%|██████████| 5/5 [00:00<00:00, 833.82it/s]\n",
      "Epoch 96: 100%|██████████| 5/5 [00:00<00:00, 714.31it/s]\n",
      "Epoch 97: 100%|██████████| 5/5 [00:00<00:00, 714.39it/s]\n",
      "Epoch 98: 100%|██████████| 5/5 [00:00<00:00, 714.29it/s]\n",
      "Epoch 99: 100%|██████████| 5/5 [00:00<00:00, 833.20it/s]\n",
      "Training RBM layers: 100%|██████████| 3/3 [00:04<00:00,  1.42s/layer]\n"
     ]
    },
    {
     "data": {
      "text/plain": [
       "DBN([\n",
       " RBM(n_visible=320, n_hidden=200),\n",
       " RBM(n_visible=200, n_hidden=200),\n",
       " RBM(n_visible=200, n_hidden=200)\n",
       "])"
      ]
     },
     "execution_count": 6,
     "metadata": {},
     "output_type": "execute_result"
    }
   ],
   "source": [
    "data_alpha = data_alpha_1\n",
    "n_chars = data_alpha.shape[0] / 39\n",
    "\n",
    "# Parameters\n",
    "n_visible = data_alpha.shape[1]  # Number of visible units (size of each image)\n",
    "n_hidden = 200  # Number of hidden units (hyperparameter)\n",
    "hidden_layer_sizes = [200, 200, 200]\n",
    "\n",
    "learning_rate = 0.1\n",
    "n_epochs = 100\n",
    "batch_size = int(8 * n_chars)\n",
    "\n",
    "dbn = DBN(n_visible=n_visible, hidden_layer_sizes=hidden_layer_sizes, random_state=SEED)\n",
    "dbn.train(data_alpha, learning_rate=learning_rate, n_epochs=n_epochs, batch_size=batch_size)"
   ]
  },
  {
   "cell_type": "code",
   "execution_count": 7,
   "metadata": {},
   "outputs": [
    {
     "data": {
      "image/png": "[encoded data removed]",
      "text/plain": [
       "<Figure size 1200x600 with 20 Axes>"
      ]
     },
     "metadata": {},
     "output_type": "display_data"
    }
   ],
   "source": [
    "# # Generate images\n",
    "generated_images = dbn.generate_image(n_samples=10, n_gibbs_steps=1)\n",
    "\n",
    "# Display generated images\n",
    "plot_original_and_generated_images(data_alpha, generated_images, **{\"cmap\":None})"
   ]
  },
  {
   "cell_type": "markdown",
   "metadata": {},
   "source": [
    "### MNIST"
   ]
  },
  {
   "cell_type": "code",
   "execution_count": 8,
   "metadata": {},
   "outputs": [],
   "source": [
    "import scipy.io"
   ]
  },
  {
   "cell_type": "code",
   "execution_count": 9,
   "metadata": {},
   "outputs": [
    {
     "data": {
      "text/plain": [
       "[(60000, 784), (60000, 10), (10000, 784), (10000, 10)]"
      ]
     },
     "execution_count": 9,
     "metadata": {},
     "output_type": "execute_result"
    }
   ],
   "source": [
    "def load_mnist(mnist_path, mnist_dict=None, use_dict=False):\n",
    "    if not use_dict:\n",
    "        mnist_dict = scipy.io.loadmat(mnist_path)\n",
    "    \n",
    "    X_train = np.concatenate([mnist_dict[f\"train{i}\"] for i in range(10)], axis=0)\n",
    "    X_test = np.concatenate([mnist_dict[f\"test{i}\"] for i in range(10)], axis=0)\n",
    "    \n",
    "    y_train = np.concatenate([np.eye(10)[[i]*mnist_dict[f\"train{i}\"].shape[0]] for i in range(10)], axis=0)\n",
    "    y_test = np.concatenate([np.eye(10)[[i]*mnist_dict[f\"test{i}\"].shape[0]] for i in range(10)], axis=0)\n",
    "\n",
    "    return X_train, y_train, X_test, y_test\n",
    "\n",
    "\n",
    "def sample_indices(data_size: int, sample_size: int, random_state=None) -> np.ndarray:\n",
    "    \"\"\"\n",
    "    Randomly sample indices from the range [0, data_size) without replacement.\n",
    "\n",
    "    Parameters:\n",
    "        data_size (int): Total number of indices available.\n",
    "        sample_size (int): Number of indices to sample.\n",
    "        random_state: Random seed for reproducibility.\n",
    "\n",
    "    Returns:\n",
    "        numpy.ndarray: Array of sampled indices.\n",
    "    \"\"\"\n",
    "    rng = np.random.default_rng(random_state)\n",
    "    if sample_size >= data_size:\n",
    "        return np.arange(data_size)\n",
    "\n",
    "    sampled_indices = rng.choice(data_size, size=sample_size, replace=False)\n",
    "    return sampled_indices\n",
    "\n",
    "def sample_mnist(X_train: np.ndarray, y_train: np.ndarray, sample_size: int, random_state=None) -> tuple:\n",
    "    \"\"\"\n",
    "    Randomly sample a subset of samples from the MNIST dataset.\n",
    "\n",
    "    Parameters:\n",
    "        X_train (numpy.ndarray): Training data.\n",
    "        y_train (numpy.ndarray): Training labels.\n",
    "        sample_size (int): Number of samples to sample.\n",
    "        random_state: Random seed for reproducibility.\n",
    "\n",
    "    Returns:\n",
    "        tuple: Sampled subset of training data and labels.\n",
    "    \"\"\"\n",
    "    # Sample indices\n",
    "    indices = sample_indices(len(X_train), sample_size, random_state=random_state)\n",
    "    \n",
    "    # Sample data and labels\n",
    "    sampled_X_train = X_train[indices]\n",
    "    sampled_y_train = y_train[indices]\n",
    "    \n",
    "    return sampled_X_train, sampled_y_train\n",
    "\n",
    "\n",
    "def binarize_images(images):\n",
    "    threshold = 127\n",
    "    binary_images = np.where(images > threshold, 1, 0)\n",
    "    return binary_images\n",
    "\n",
    "mnist_train, mnist_train_labels, mnist_test, mnist_test_labels = (\n",
    "    load_mnist(MNIST_PATH)\n",
    ")\n",
    "\n",
    "\n",
    "# Binarize the images\n",
    "binary_mnist_train = binarize_images(mnist_train)\n",
    "binary_mnist_test = binarize_images(mnist_test)\n",
    "\n",
    "\n",
    "[mnist.shape for mnist in (mnist_train, mnist_train_labels, mnist_test, mnist_test_labels)]"
   ]
  },
  {
   "cell_type": "code",
   "execution_count": 10,
   "metadata": {},
   "outputs": [
    {
     "data": {
      "text/plain": [
       "((30000, 784), (30000, 10))"
      ]
     },
     "execution_count": 10,
     "metadata": {},
     "output_type": "execute_result"
    }
   ],
   "source": [
    "mnist_train_30000, mnist_train_labels_30000 = sample_mnist(mnist_train, mnist_train_labels, 30_000, 42)\n",
    "mnist_train_30000.shape, mnist_train_labels_30000.shape"
   ]
  },
  {
   "cell_type": "code",
   "execution_count": 11,
   "metadata": {},
   "outputs": [
    {
     "name": "stdout",
     "output_type": "stream",
     "text": [
      "255 1\n"
     ]
    }
   ],
   "source": [
    "print(mnist_train.max(), binary_mnist_train.max())"
   ]
  },
  {
   "cell_type": "code",
   "execution_count": 12,
   "metadata": {},
   "outputs": [
    {
     "name": "stdout",
     "output_type": "stream",
     "text": [
      "MNIST (60000, 28, 28)\n"
     ]
    },
    {
     "data": {
      "image/png": "[encoded data removed]",
      "text/plain": [
       "<Figure size 1500x300 with 5 Axes>"
      ]
     },
     "metadata": {},
     "output_type": "display_data"
    }
   ],
   "source": [
    "# Reshape mnist_train to its original shape\n",
    "image_height = 28\n",
    "image_width = 28\n",
    "num_samples = binary_mnist_train.shape[0]\n",
    "binary_mnist_train_images = binary_mnist_train.reshape(num_samples, image_height, image_width)\n",
    "print(\"MNIST\", binary_mnist_train_images.shape)\n",
    "\n",
    "# Plot some images from mnist_train\n",
    "num_images_to_plot = 5\n",
    "fig, axes = plt.subplots(1, num_images_to_plot, figsize=(15, 3))\n",
    "for i in range(num_images_to_plot):\n",
    "    axes[i].imshow(binary_mnist_train_images[i], cmap='gray')\n",
    "    axes[i].set_title(f\"Image {i+1}\")\n",
    "    axes[i].axis('off')\n",
    "\n",
    "plt.tight_layout()\n",
    "plt.show()"
   ]
  },
  {
   "cell_type": "code",
   "execution_count": 13,
   "metadata": {},
   "outputs": [
    {
     "name": "stdout",
     "output_type": "stream",
     "text": [
      "Help on class DNN in module models.principal_dnn_mnist:\n",
      "\n",
      "class DNN(models.principal_dbn_alpha.DBN)\n",
      " |  DNN(input_dim: int, output_dim: int, hidden_layer_sizes: List[int], random_state=None)\n",
      " |  \n",
      " |  Method resolution order:\n",
      " |      DNN\n",
      " |      models.principal_dbn_alpha.DBN\n",
      " |      builtins.object\n",
      " |  \n",
      " |  Methods defined here:\n",
      " |  \n",
      " |  __getitem__(self, key)\n",
      " |  \n",
      " |  __init__(self, input_dim: int, output_dim: int, hidden_layer_sizes: List[int], random_state=None)\n",
      " |      Initialize the Deep Neural Network (DNN).\n",
      " |      \n",
      " |      Parameters:\n",
      " |      - input_dim (int): Dimension of the input.\n",
      " |      - output_dim (int): Dimension of the output.\n",
      " |      - hidden_layer_sizes (List[int]): List of sizes for each hidden layer.\n",
      " |      - random_state: Random seed for reproducibility.\n",
      " |  \n",
      " |  __len__(self)\n",
      " |  \n",
      " |  __repr__(self)\n",
      " |      Return a string representation of the DBN object.\n",
      " |  \n",
      " |  backpropagation(self, input_data: numpy.ndarray, labels: numpy.ndarray, n_epochs: int = 100, learning_rate: float = 0.1, batch_size: int = 10, eps: float = 1e-15) -> 'DNN'\n",
      " |      Estimate the weights/biases of the network using backpropagation algorithm.\n",
      " |      \n",
      " |      Parameters:\n",
      " |      - input_data (numpy.ndarray): Input data, shape (n_samples, n_visible).\n",
      " |      - labels (numpy.ndarray): Labels for the input data, shape\n",
      " |          (n_samples, n_classes).\n",
      " |      - n_epochs (int): Number of training epochs.\n",
      " |      - learning_rate (float): Learning rate for gradient descent.\n",
      " |      - batch_size (int): Size of mini-batches.\n",
      " |      - eps (float): Small value to avoid numerical instability in logarithm\n",
      " |          calculation. Default is 1e-15.\n",
      " |      \n",
      " |      Returns:\n",
      " |      - DNN: Updated DNN instance.\n",
      " |  \n",
      " |  input_output_network(self, input_data: numpy.ndarray) -> List[numpy.ndarray]\n",
      " |      Get the outputs on each layer of the DNN and the softmax probabilities on the output layer.\n",
      " |      \n",
      " |      Parameters:\n",
      " |      - input_data (numpy.ndarray): Input data, shape (n_samples, n_visible).\n",
      " |      \n",
      " |      Returns:\n",
      " |      - List[np.ndarray]: Input data, outputs on each layer and softmax probabilities.\n",
      " |  \n",
      " |  pretrain(self, n_epochs: int, learning_rate: float, batch_size: int, data: numpy.ndarray, print_each=20, verbose=False) -> 'DNN'\n",
      " |      Pretrain the hidden layers of the DNN using the DBN training method.\n",
      " |      \n",
      " |      Parameters:\n",
      " |      - n_epochs (int): Number of training epochs.\n",
      " |      - learning_rate (float): Learning rate for gradient descent.\n",
      " |      - batch_size (int): Size of mini-batches.\n",
      " |      - data (numpy.ndarray): Input data, shape (n_samples, n_visible).\n",
      " |      \n",
      " |      Returns:\n",
      " |      - DNN: Pretrained DNN instance.\n",
      " |  \n",
      " |  test(self, test_data: numpy.ndarray, true_labels: numpy.ndarray) -> float\n",
      " |      Test the performance of the trained DNN on a test dataset.\n",
      " |      \n",
      " |      Parameters:\n",
      " |      - test_data (numpy.ndarray): Test data, shape (n_samples, n_visible).\n",
      " |      - true_labels (numpy.ndarray): True labels for the test data,\n",
      " |          shape (n_samples, n_classes).\n",
      " |      \n",
      " |      Returns:\n",
      " |      - float: Classification error rate.\n",
      " |  \n",
      " |  update(self, dZ_lead: numpy.ndarray, dW_lead: numpy.ndarray, layer_outputs: List[numpy.ndarray], id_layer: int, batch_size: int, learning_rate: int) -> Tuple[numpy.ndarray, numpy.ndarray]\n",
      " |      Update the weights and biases of a layer.\n",
      " |      \n",
      " |      Parameters:\n",
      " |      - dZ_lead (numpy.ndarray): Gradient with respect to the layer's output.\n",
      " |      - dW_lead (numpy.ndarray): Gradient with respect to the layer's weights.\n",
      " |      - layer_outputs (List[np.ndarray]): Outputs of each layer.\n",
      " |      - id_layer (int): Index of the layer.\n",
      " |      - batch_size (int): Size of mini-batches.\n",
      " |      - learning_rate (int): Learning rate.\n",
      " |      \n",
      " |      Returns:\n",
      " |      - Tuple[np.ndarray, np.ndarray]: Updated gradient with respect to the\n",
      " |          layer's output and weights.\n",
      " |  \n",
      " |  ----------------------------------------------------------------------\n",
      " |  Methods inherited from models.principal_dbn_alpha.DBN:\n",
      " |  \n",
      " |  generate_image(self, n_samples: int = 1, n_gibbs_steps: int = 1) -> numpy.ndarray\n",
      " |      Generate samples from the DBN using Gibbs sampling.\n",
      " |      \n",
      " |      Parameters:\n",
      " |      - n_samples (int): Number of samples to generate. Default is 1.\n",
      " |      - n_gibbs_steps (int): Number of Gibbs sampling steps. Default is 100.\n",
      " |      \n",
      " |      Returns:\n",
      " |      - numpy.ndarray: Generated samples, shape (n_samples, n_visible).\n",
      " |  \n",
      " |  train(self, data: numpy.ndarray, learning_rate: float = 0.1, n_epochs: int = 10, batch_size: int = 10, print_each: int = 10, verbose=False) -> 'DBN'\n",
      " |      Train the DBN using Greedy layer-wise procedure.\n",
      " |      \n",
      " |      Parameters:\n",
      " |      - data (numpy.ndarray): Input data, shape (n_samples, n_visible).\n",
      " |      - learning_rate (float): Learning rate for gradient descent. Default is 0.1.\n",
      " |      - n_epochs (int): Number of training epochs. Default is 10.\n",
      " |      - batch_size (int): Size of mini-batches. Default is 10.\n",
      " |      - print_each: Print reconstruction error each `print_each` epochs.\n",
      " |      \n",
      " |      Returns:\n",
      " |      - DBN: Trained DBN instance.\n",
      " |  \n",
      " |  ----------------------------------------------------------------------\n",
      " |  Data descriptors inherited from models.principal_dbn_alpha.DBN:\n",
      " |  \n",
      " |  __dict__\n",
      " |      dictionary for instance variables (if defined)\n",
      " |  \n",
      " |  __weakref__\n",
      " |      list of weak references to the object (if defined)\n",
      "\n"
     ]
    }
   ],
   "source": [
    "help(DNN)"
   ]
  },
  {
   "cell_type": "code",
   "execution_count": 14,
   "metadata": {},
   "outputs": [],
   "source": [
    "from copy import copy, deepcopy"
   ]
  },
  {
   "cell_type": "code",
   "execution_count": 15,
   "metadata": {},
   "outputs": [],
   "source": [
    "from typing import Tuple\n",
    "\n",
    "def run_experiment_dnn(\n",
    "    # data\n",
    "    train_data,\n",
    "    train_labels,\n",
    "    test_data,\n",
    "    test_labels,\n",
    "    # initialization\n",
    "    input_dim,\n",
    "    output_dim,\n",
    "    hidden_layer_sizes,\n",
    "    # training\n",
    "    batch_size=64,\n",
    "    n_epochs_pretrain=100,\n",
    "    n_epochs_backprop=200,\n",
    "    learning_rate=0.1,\n",
    "    eps=1e-15,\n",
    "    print_each=20,\n",
    "    verbose=True,\n",
    "    random_state=42,     \n",
    ") -> Tuple[float, float]:\n",
    "    \"\"\"\n",
    "    Run an experiment with Deep Neural Networks (DNNs).\n",
    "\n",
    "    Parameters:\n",
    "        train_data (numpy.ndarray): Training data.\n",
    "        train_labels (numpy.ndarray): Training labels.\n",
    "        test_data (numpy.ndarray): Test data.\n",
    "        test_labels (numpy.ndarray): Test labels.\n",
    "        input_dim (int): Dimensionality of input data.\n",
    "        output_dim (int): Dimensionality of output data.\n",
    "        hidden_layer_sizes (list): List of sizes of hidden layers.\n",
    "        random_state (int): Random seed for reproducibility. Default is 42.\n",
    "        n_epochs_pretrain (int): Number of epochs for pretraining. Default is 100.\n",
    "        n_epochs_backprop (int): Number of epochs for backpropagation. Default is 200.\n",
    "        learning_rate (float): Learning rate for training. Default is 0.1.\n",
    "        batch_size (int): Batch size for training. Default is 64.\n",
    "        print_each (int): Frequency of printing progress. Default is 20.\n",
    "        verbose (bool): Whether to print progress. Default is True.\n",
    "        eps (float): Small value to avoid division by zero. Default is 1e-15.\n",
    "\n",
    "    Returns:\n",
    "        Tuple[float, float]: Error rates for random initialization and pretrained models.\n",
    "    \"\"\"\n",
    "    # 1. Intialization.\n",
    "    dnn = DNN(\n",
    "            input_dim=input_dim, \n",
    "            output_dim=output_dim, \n",
    "            hidden_layer_sizes=hidden_layer_sizes,\n",
    "            random_state=random_state\n",
    "    )\n",
    "\n",
    "    ## 1.1 Initialized random weights DNN.\n",
    "    dnn_random_init = deepcopy(dnn)\n",
    "    \n",
    "    ## 1.2.1 Pretrain DBN component.\n",
    "    print(\"\\n--------- PRETRAINING PHASE --------\\n\")\n",
    "    dnn.pretrain(\n",
    "            n_epochs=n_epochs_pretrain,\n",
    "            learning_rate=learning_rate,\n",
    "            batch_size=batch_size,\n",
    "            data=train_data,\n",
    "            # print_each=print_each,\n",
    "            # verbose=verbose\n",
    "    )\n",
    "    ## 1.2.2 Initialized pre-trained DNN.                \n",
    "    dnn_pretrained = deepcopy(dnn)\n",
    "\n",
    "    # 2. Training phase (backpropagation).\n",
    "    backprop_params = {\n",
    "            \"input_data\": train_data, \n",
    "            \"labels\": train_labels, \n",
    "            \"n_epochs\": n_epochs_backprop, \n",
    "            \"learning_rate\": learning_rate,\n",
    "            \"batch_size\": batch_size,\n",
    "            # \"print_each\": print_each,\n",
    "            # \"verbose\": verbose, \n",
    "            \"eps\": eps\n",
    "    }\n",
    "    print(\"\\n\\n--------- BACKPROPAGATION --------\")\n",
    "    dnn_random_init.backpropagation(**backprop_params)\n",
    "    dnn_pretrained.backpropagation(**backprop_params)\n",
    "\n",
    "    # 3. Evaluation phase.\n",
    "    train_params = {\"test_data\": train_data, \"true_labels\": train_labels}\n",
    "    train_error_random_init = dnn_random_init.test(**train_params)\n",
    "    train_error_pretrained = dnn_pretrained.test(**train_params)\n",
    "    \n",
    "    test_params = {\"test_data\": train_data, \"true_labels\": train_labels}\n",
    "    test_error_random_init = dnn_random_init.test(**test_params)\n",
    "    test_error_pretrained = dnn_pretrained.test(**test_params)\n",
    "\n",
    "    return train_error_random_init, train_error_pretrained, test_error_random_init, test_error_pretrained\n",
    "\n",
    "\n",
    "import pickle\n",
    "\n",
    "def save_object(obj, file_path):\n",
    "    \"\"\"\n",
    "    Save an object to a file using pickle.\n",
    "\n",
    "    Parameters:\n",
    "        obj: The object to save.\n",
    "        file_path (str): The path to the file where the object will be saved.\n",
    "    \"\"\"\n",
    "    with open(file_path, 'wb') as file:\n",
    "        pickle.dump(obj, file)\n",
    "\n",
    "\n",
    "\n",
    "import os\n",
    "\n",
    "def save_results(error_rates, experiment_type, parameter_value, hidden_layer_sizes, train_size, save_dir):\n",
    "    \"\"\"\n",
    "    Save experiment results to a file.\n",
    "\n",
    "    Parameters:\n",
    "        error_rate_random_init (float): Error rate for randomly initialized networks.\n",
    "        error_rate_pretrained (float): Error rate for pretrained networks.\n",
    "        experiment_type (str): Type of experiment ('layers', 'neurons', 'train_size').\n",
    "        parameter_value: Value of the parameter being varied.\n",
    "        hidden_layer_sizes (list): Sizes of hidden layers.\n",
    "        train_size (int): Number of training data points.\n",
    "        save_dir (str): Directory to save the results.\n",
    "    \"\"\"\n",
    "    # Create directory if it does not exist\n",
    "    if not os.path.exists(save_dir):\n",
    "        os.makedirs(save_dir)\n",
    "\n",
    "    # Construct filename\n",
    "    filename = f\"error_rates_{experiment_type}_{parameter_value}_{len(hidden_layer_sizes)}layers_{'_'.join(map(str, hidden_layer_sizes))}_{train_size}.txt\"\n",
    "    filepath = os.path.join(save_dir, filename)\n",
    "\n",
    "    # Save results to file\n",
    "    with open(filepath, 'w') as file:\n",
    "        file.write(\"Error Rate for Random Initialization [Train]:\\n\")\n",
    "        file.write(f\"{error_rates[0]}\\n\")\n",
    "\n",
    "        file.write(\"Error Rate for Pretrained Network:\\n\")\n",
    "        file.write(f\"{error_rates[1]}\\n\")\n",
    "\n",
    "        file.write(\"Error Rate for Random Initialization [Test]:\\n\")\n",
    "        file.write(f\"{error_rates[2]}\\n\")\n",
    "\n",
    "        file.write(\"Error Rate for Pretrained Network [Test]:\\n\")\n",
    "        file.write(f\"{error_rates[3]}\\n\")\n",
    "\n",
    "    print(f\"Results saved to: {filepath}\")\n",
    "\n"
   ]
  },
  {
   "cell_type": "code",
   "execution_count": 16,
   "metadata": {},
   "outputs": [],
   "source": [
    "def experiment_layers(train_data, train_labels, test_data, test_labels, save_dir):\n",
    "    num_layers = [2, 3, 4, 5]  # Number of layers\n",
    "    error_rates_dict = {}\n",
    "\n",
    "    for num_layer in num_layers:\n",
    "        hidden_layer_sizes = [200] * num_layer\n",
    "        error_rates = run_experiment_dnn(\n",
    "            train_data=train_data,\n",
    "            train_labels=train_labels,\n",
    "            test_data=test_data,\n",
    "            test_labels=test_labels,\n",
    "            input_dim=train_data.shape[1],\n",
    "            output_dim=train_labels.shape[1],\n",
    "            hidden_layer_sizes=hidden_layer_sizes,\n",
    "        )\n",
    "        error_rates_dict[num_layer] = error_rates\n",
    "        save_results(error_rates, 'layers', num_layer, hidden_layer_sizes,\n",
    "                     train_data.shape[0], save_dir)\n",
    "        \n",
    "    return error_rates_dict\n",
    "\n",
    "\n",
    "def experiment_neurons(\n",
    "        train_data,\n",
    "        train_labels,\n",
    "        test_data,\n",
    "        test_labels,\n",
    "        save_dir,\n",
    "        layer_sizes = [200, 300, 400, 500]\n",
    "    ):\n",
    "    error_rates_random_init = []\n",
    "    error_rates_pretrained = []\n",
    "\n",
    "    for layer_size in layer_sizes:\n",
    "        hidden_layer_sizes = [layer_size] * 2  # Fixed to 2 layers\n",
    "        error_rate_random_init, error_rate_pretrained = run_experiment_dnn(\n",
    "            train_data=train_data, train_labels=train_labels,\n",
    "            test_data=test_data, test_labels=test_labels,\n",
    "            input_dim=train_data.shape[1], output_dim=len(np.unique(train_labels)),\n",
    "            hidden_layer_sizes=hidden_layer_sizes,\n",
    "        )\n",
    "        error_rates_random_init.append(error_rate_random_init)\n",
    "        error_rates_pretrained.append(error_rate_pretrained)\n",
    "        save_results(error_rates_random_init, error_rates_pretrained,\n",
    "                     'neurons', layer_size, hidden_layer_sizes, train_data.shape[0], save_dir)\n",
    "        \n",
    "\n",
    "    return error_rates_random_init, error_rates_pretrained\n",
    "\n",
    "\n",
    "def experiment_train_size(\n",
    "        train_data,\n",
    "        train_labels,\n",
    "        test_data,\n",
    "        test_labels,\n",
    "        save_dir,\n",
    "        train_sizes = [1000, 3000, 7000, 10000, 30000, 60000]\n",
    "    ):\n",
    "      # Number of training data points\n",
    "    error_rates_random_init = []\n",
    "    error_rates_pretrained = []\n",
    "\n",
    "    for train_size in train_sizes:\n",
    "        sampled_train_data, sampled_train_labels = sample_mnist(train_data, train_labels, train_size)\n",
    "        error_rate_random_init, error_rate_pretrained = run_experiment_dnn(\n",
    "            train_data=sampled_train_data, train_labels=sampled_train_labels,\n",
    "            test_data=test_data, test_labels=test_labels,\n",
    "            input_dim=sampled_train_data.shape[1], output_dim=len(np.unique(train_labels)),\n",
    "            hidden_layer_sizes=[200, 200],  # Fixed to 2 layers of 200 neurons\n",
    "        )\n",
    "        error_rates_random_init.append(error_rate_random_init)\n",
    "        error_rates_pretrained.append(error_rate_pretrained)\n",
    "        save_results(error_rates_random_init, error_rates_pretrained,\n",
    "                     'train_size', train_size, [200, 200], train_data.shape[0], save_dir)\n",
    "\n",
    "    return error_rates_random_init, error_rates_pretrained\n",
    "\n"
   ]
  },
  {
   "cell_type": "code",
   "execution_count": 17,
   "metadata": {},
   "outputs": [],
   "source": [
    "data = mnist_train.copy()\n",
    "n_samples, n_visible = data.shape # n_samples, n_features\n",
    "n_visible = data.shape[1]\n",
    "hidden_layer_sizes = [100, 50, 25]\n",
    "n_classes = mnist_test_labels.shape[1]\n",
    "\n",
    "dnn = DNN(input_dim=n_visible, output_dim=n_classes, hidden_layer_sizes=hidden_layer_sizes, random_state=42)\n",
    "\n",
    "# dnn.train(data, learning_rate=0.1, n_epochs=10, batch_size=10)\n"
   ]
  },
  {
   "cell_type": "code",
   "execution_count": 18,
   "metadata": {},
   "outputs": [],
   "source": [
    "# dnn.backpropagation(mnist_train, labels=mnist_train_labels)"
   ]
  },
  {
   "cell_type": "code",
   "execution_count": 19,
   "metadata": {},
   "outputs": [
    {
     "data": {
      "text/plain": [
       "(1000, 784)"
      ]
     },
     "execution_count": 19,
     "metadata": {},
     "output_type": "execute_result"
    }
   ],
   "source": [
    "train_1000, train_1000_labels = sample_mnist(binary_mnist_train, mnist_train_labels, 1_000, random_state=SEED)\n",
    "train_1000.shape"
   ]
  },
  {
   "cell_type": "code",
   "execution_count": 20,
   "metadata": {},
   "outputs": [
    {
     "name": "stdout",
     "output_type": "stream",
     "text": [
      "\n",
      "--------- PRETRAINING PHASE --------\n",
      "\n"
     ]
    },
    {
     "name": "stderr",
     "output_type": "stream",
     "text": [
      "Epoch 0: 100%|██████████| 8/8 [00:00<00:00, 76.19it/s]ayer/s]\n",
      "Epoch 1: 100%|██████████| 8/8 [00:00<00:00, 80.00it/s]\n",
      "Epoch 2: 100%|██████████| 8/8 [00:00<00:00, 105.26it/s]\n",
      "Epoch 3: 100%|██████████| 8/8 [00:00<00:00, 98.76it/s]\n",
      "Epoch 4: 100%|██████████| 8/8 [00:00<00:00, 96.38it/s]\n",
      "Epoch 5: 100%|██████████| 8/8 [00:00<00:00, 80.81it/s]\n",
      "Epoch 6: 100%|██████████| 8/8 [00:00<00:00, 102.56it/s]\n",
      "Epoch 7: 100%|██████████| 8/8 [00:00<00:00, 102.56it/s]\n",
      "Epoch 8: 100%|██████████| 8/8 [00:00<00:00, 105.26it/s]\n",
      "Epoch 9: 100%|██████████| 8/8 [00:00<00:00, 96.39it/s]\n",
      "Epoch 10: 100%|██████████| 8/8 [00:00<00:00, 89.13it/s]\n",
      "Epoch 11: 100%|██████████| 8/8 [00:00<00:00, 97.64it/s]\n",
      "Epoch 12: 100%|██████████| 8/8 [00:00<00:00, 111.87it/s]\n",
      "Epoch 13: 100%|██████████| 8/8 [00:00<00:00, 115.95it/s]\n",
      "Epoch 14: 100%|██████████| 8/8 [00:00<00:00, 115.95it/s]\n",
      "Epoch 15: 100%|██████████| 8/8 [00:00<00:00, 108.11it/s]\n",
      "Epoch 16: 100%|██████████| 8/8 [00:00<00:00, 103.89it/s]\n",
      "Epoch 17: 100%|██████████| 8/8 [00:00<00:00, 100.00it/s]\n",
      "Epoch 18: 100%|██████████| 8/8 [00:00<00:00, 108.11it/s]\n",
      "Epoch 19: 100%|██████████| 8/8 [00:00<00:00, 117.65it/s]\n",
      "Epoch 20: 100%|██████████| 8/8 [00:00<00:00, 112.67it/s]\n",
      "Epoch 21: 100%|██████████| 8/8 [00:00<00:00, 115.94it/s]\n",
      "Epoch 22: 100%|██████████| 8/8 [00:00<00:00, 112.66it/s]\n",
      "Epoch 23: 100%|██████████| 8/8 [00:00<00:00, 100.00it/s]\n",
      "Epoch 24: 100%|██████████| 8/8 [00:00<00:00, 103.90it/s]\n",
      "Epoch 25: 100%|██████████| 8/8 [00:00<00:00, 103.90it/s]\n",
      "Epoch 26: 100%|██████████| 8/8 [00:00<00:00, 102.57it/s]\n",
      "Epoch 27: 100%|██████████| 8/8 [00:00<00:00, 98.77it/s]\n",
      "Epoch 28: 100%|██████████| 8/8 [00:00<00:00, 97.56it/s]\n",
      "Epoch 29: 100%|██████████| 8/8 [00:00<00:00, 63.49it/s]\n",
      "Epoch 30: 100%|██████████| 8/8 [00:00<00:00, 89.89it/s]\n",
      "Epoch 31: 100%|██████████| 8/8 [00:00<00:00, 103.90it/s]\n",
      "Epoch 32: 100%|██████████| 8/8 [00:00<00:00, 102.57it/s]\n",
      "Epoch 33: 100%|██████████| 8/8 [00:00<00:00, 100.00it/s]\n",
      "Epoch 34: 100%|██████████| 8/8 [00:00<00:00, 97.56it/s]\n",
      "Epoch 35: 100%|██████████| 8/8 [00:00<00:00, 98.77it/s]\n",
      "Epoch 36: 100%|██████████| 8/8 [00:00<00:00, 73.74it/s]\n",
      "Epoch 37: 100%|██████████| 8/8 [00:00<00:00, 88.32it/s]\n",
      "Epoch 38: 100%|██████████| 8/8 [00:00<00:00, 95.25it/s]\n",
      "Epoch 39: 100%|██████████| 8/8 [00:00<00:00, 89.89it/s]\n",
      "Epoch 40: 100%|██████████| 8/8 [00:00<00:00, 89.90it/s]\n",
      "Epoch 41: 100%|██████████| 8/8 [00:00<00:00, 100.00it/s]\n",
      "Epoch 42: 100%|██████████| 8/8 [00:00<00:00, 106.67it/s]\n",
      "Epoch 43: 100%|██████████| 8/8 [00:00<00:00, 103.90it/s]\n",
      "Epoch 44: 100%|██████████| 8/8 [00:00<00:00, 115.94it/s]\n",
      "Epoch 45: 100%|██████████| 8/8 [00:00<00:00, 109.59it/s]\n",
      "Epoch 46: 100%|██████████| 8/8 [00:00<00:00, 114.29it/s]\n",
      "Epoch 47: 100%|██████████| 8/8 [00:00<00:00, 114.28it/s]\n",
      "Epoch 48: 100%|██████████| 8/8 [00:00<00:00, 109.59it/s]\n",
      "Epoch 49: 100%|██████████| 8/8 [00:00<00:00, 98.76it/s]\n",
      "Epoch 50: 100%|██████████| 8/8 [00:00<00:00, 100.00it/s]\n",
      "Epoch 51: 100%|██████████| 8/8 [00:00<00:00, 88.89it/s]\n",
      "Epoch 52: 100%|██████████| 8/8 [00:00<00:00, 80.00it/s]\n",
      "Epoch 53: 100%|██████████| 8/8 [00:00<00:00, 99.99it/s]\n",
      "Epoch 54: 100%|██████████| 8/8 [00:00<00:00, 101.25it/s]\n",
      "Epoch 55: 100%|██████████| 8/8 [00:00<00:00, 102.57it/s]\n",
      "Epoch 56: 100%|██████████| 8/8 [00:00<00:00, 105.26it/s]\n",
      "Epoch 57: 100%|██████████| 8/8 [00:00<00:00, 99.99it/s]\n",
      "Epoch 58: 100%|██████████| 8/8 [00:00<00:00, 105.26it/s]\n",
      "Epoch 59: 100%|██████████| 8/8 [00:00<00:00, 105.27it/s]\n",
      "Epoch 60: 100%|██████████| 8/8 [00:00<00:00, 106.67it/s]\n",
      "Epoch 61: 100%|██████████| 8/8 [00:00<00:00, 101.27it/s]\n",
      "Epoch 62: 100%|██████████| 8/8 [00:00<00:00, 87.91it/s]\n",
      "Epoch 63: 100%|██████████| 8/8 [00:00<00:00, 80.07it/s]\n",
      "Epoch 64: 100%|██████████| 8/8 [00:00<00:00, 77.15it/s]\n",
      "Epoch 65: 100%|██████████| 8/8 [00:00<00:00, 98.67it/s]\n",
      "Epoch 66: 100%|██████████| 8/8 [00:00<00:00, 102.56it/s]\n",
      "Epoch 67: 100%|██████████| 8/8 [00:00<00:00, 108.11it/s]\n",
      "Epoch 68: 100%|██████████| 8/8 [00:00<00:00, 103.90it/s]\n",
      "Epoch 69: 100%|██████████| 8/8 [00:00<00:00, 105.26it/s]\n",
      "Epoch 70: 100%|██████████| 8/8 [00:00<00:00, 106.68it/s]\n",
      "Epoch 71: 100%|██████████| 8/8 [00:00<00:00, 108.10it/s]\n",
      "Epoch 72: 100%|██████████| 8/8 [00:00<00:00, 105.26it/s]\n",
      "Epoch 73: 100%|██████████| 8/8 [00:00<00:00, 102.56it/s]\n",
      "Epoch 74: 100%|██████████| 8/8 [00:00<00:00, 93.02it/s]\n",
      "Epoch 75: 100%|██████████| 8/8 [00:00<00:00, 27.78it/s]\n",
      "Epoch 76: 100%|██████████| 8/8 [00:00<00:00, 76.19it/s]\n",
      "Epoch 77: 100%|██████████| 8/8 [00:00<00:00, 93.03it/s]\n",
      "Epoch 78: 100%|██████████| 8/8 [00:00<00:00, 106.67it/s]\n",
      "Epoch 79: 100%|██████████| 8/8 [00:00<00:00, 103.90it/s]\n",
      "Epoch 80: 100%|██████████| 8/8 [00:00<00:00, 100.00it/s]\n",
      "Epoch 81: 100%|██████████| 8/8 [00:00<00:00, 105.26it/s]\n",
      "Epoch 82: 100%|██████████| 8/8 [00:00<00:00, 96.38it/s]\n",
      "Epoch 83: 100%|██████████| 8/8 [00:00<00:00, 93.02it/s]\n",
      "Epoch 84: 100%|██████████| 8/8 [00:00<00:00, 96.39it/s]\n",
      "Epoch 85: 100%|██████████| 8/8 [00:00<00:00, 101.27it/s]\n",
      "Epoch 86: 100%|██████████| 8/8 [00:00<00:00, 85.16it/s]\n",
      "Epoch 87: 100%|██████████| 8/8 [00:00<00:00, 83.81it/s]\n",
      "Epoch 88: 100%|██████████| 8/8 [00:00<00:00, 89.98it/s]\n",
      "Epoch 89: 100%|██████████| 8/8 [00:00<00:00, 100.00it/s]\n",
      "Epoch 90: 100%|██████████| 8/8 [00:00<00:00, 83.34it/s]\n",
      "Epoch 91: 100%|██████████| 8/8 [00:00<00:00, 105.26it/s]\n",
      "Epoch 92: 100%|██████████| 8/8 [00:00<00:00, 101.27it/s]\n",
      "Epoch 93: 100%|██████████| 8/8 [00:00<00:00, 91.95it/s]\n",
      "Epoch 94: 100%|██████████| 8/8 [00:00<00:00, 91.96it/s]\n",
      "Epoch 95: 100%|██████████| 8/8 [00:00<00:00, 82.47it/s]\n",
      "Epoch 96: 100%|██████████| 8/8 [00:00<00:00, 102.57it/s]\n",
      "Epoch 97: 100%|██████████| 8/8 [00:00<00:00, 106.67it/s]\n",
      "Epoch 98: 100%|██████████| 8/8 [00:00<00:00, 106.67it/s]\n",
      "Epoch 99: 100%|██████████| 8/8 [00:00<00:00, 101.27it/s]\n",
      "Training RBM layers: 100%|██████████| 1/1 [00:08<00:00,  9.00s/layer]\n"
     ]
    },
    {
     "name": "stdout",
     "output_type": "stream",
     "text": [
      "\n",
      "\n",
      "--------- BACKPROPAGATION --------\n"
     ]
    },
    {
     "name": "stderr",
     "output_type": "stream",
     "text": [
      "Training:   3%|▎         | 6/200 [00:00<00:03, 52.63epoch/s]"
     ]
    },
    {
     "name": "stdout",
     "output_type": "stream",
     "text": [
      "Epoch 1/200, Cross Entropy: 2.2863620255975663\n",
      "Epoch 2/200, Cross Entropy: 2.2795997110457806\n",
      "Epoch 3/200, Cross Entropy: 2.2775048581972386\n",
      "Epoch 4/200, Cross Entropy: 2.276741967403284\n",
      "Epoch 5/200, Cross Entropy: 2.276441913721445\n",
      "Epoch 6/200, Cross Entropy: 2.276318975197376\n",
      "Epoch 7/200, Cross Entropy: 2.2762673004406553\n",
      "Epoch 8/200, Cross Entropy: 2.2762451741317364\n",
      "Epoch 9/200, Cross Entropy: 2.2762355565026207\n"
     ]
    },
    {
     "name": "stderr",
     "output_type": "stream",
     "text": [
      "Training:   3%|▎         | 6/200 [00:00<00:03, 52.63epoch/s]"
     ]
    },
    {
     "name": "stdout",
     "output_type": "stream",
     "text": [
      "Epoch 10/200, Cross Entropy: 2.2762313186075787\n"
     ]
    },
    {
     "name": "stderr",
     "output_type": "stream",
     "text": [
      "Training:   9%|▉         | 18/200 [00:00<00:03, 53.21epoch/s]"
     ]
    },
    {
     "name": "stdout",
     "output_type": "stream",
     "text": [
      "Epoch 11/200, Cross Entropy: 2.2762294241066083\n",
      "Epoch 12/200, Cross Entropy: 2.2762285611610262\n",
      "Epoch 13/200, Cross Entropy: 2.27622815627367\n",
      "Epoch 14/200, Cross Entropy: 2.2762279562517076\n",
      "Epoch 15/200, Cross Entropy: 2.276227848394944\n",
      "Epoch 16/200, Cross Entropy: 2.2762277821987023\n",
      "Epoch 17/200, Cross Entropy: 2.2762277349050186\n",
      "Epoch 18/200, Cross Entropy: 2.2762276962132613\n",
      "Epoch 19/200, Cross Entropy: 2.276227661444755\n"
     ]
    },
    {
     "name": "stderr",
     "output_type": "stream",
     "text": [
      "Training:   9%|▉         | 18/200 [00:00<00:03, 53.21epoch/s]"
     ]
    },
    {
     "name": "stdout",
     "output_type": "stream",
     "text": [
      "Epoch 20/200, Cross Entropy: 2.2762276284685683\n"
     ]
    },
    {
     "name": "stderr",
     "output_type": "stream",
     "text": [
      "Training:  12%|█▏        | 24/200 [00:00<00:03, 52.07epoch/s]"
     ]
    },
    {
     "name": "stdout",
     "output_type": "stream",
     "text": [
      "Epoch 21/200, Cross Entropy: 2.276227596312142\n",
      "Epoch 22/200, Cross Entropy: 2.27622756453093\n",
      "Epoch 23/200, Cross Entropy: 2.276227532921522\n",
      "Epoch 24/200, Cross Entropy: 2.2762275013907853\n",
      "Epoch 25/200, Cross Entropy: 2.2762274698960665\n",
      "Epoch 26/200, Cross Entropy: 2.27622743841783\n",
      "Epoch 27/200, Cross Entropy: 2.276227406947132\n",
      "Epoch 28/200, Cross Entropy: 2.2762273754798787\n"
     ]
    },
    {
     "name": "stderr",
     "output_type": "stream",
     "text": [
      "Training:  12%|█▏        | 24/200 [00:00<00:03, 52.07epoch/s]"
     ]
    },
    {
     "name": "stdout",
     "output_type": "stream",
     "text": [
      "Epoch 29/200, Cross Entropy: 2.276227344014198\n"
     ]
    },
    {
     "name": "stderr",
     "output_type": "stream",
     "text": [
      "Training:  15%|█▌        | 30/200 [00:00<00:03, 51.46epoch/s]"
     ]
    },
    {
     "name": "stdout",
     "output_type": "stream",
     "text": [
      "Epoch 30/200, Cross Entropy: 2.276227312549235\n",
      "Epoch 31/200, Cross Entropy: 2.276227281084599\n"
     ]
    },
    {
     "name": "stderr",
     "output_type": "stream",
     "text": [
      "Training:  18%|█▊        | 36/200 [00:00<00:05, 31.69epoch/s]"
     ]
    },
    {
     "name": "stdout",
     "output_type": "stream",
     "text": [
      "Epoch 32/200, Cross Entropy: 2.276227249620113\n",
      "Epoch 33/200, Cross Entropy: 2.276227218155695\n",
      "Epoch 34/200, Cross Entropy: 2.276227186691309\n",
      "Epoch 35/200, Cross Entropy: 2.276227155226938\n",
      "Epoch 36/200, Cross Entropy: 2.2762271237625744\n",
      "Epoch 37/200, Cross Entropy: 2.276227092298215\n",
      "Epoch 38/200, Cross Entropy: 2.2762270608338584\n",
      "Epoch 39/200, Cross Entropy: 2.2762270293695037\n"
     ]
    },
    {
     "name": "stderr",
     "output_type": "stream",
     "text": [
      "Training:  23%|██▎       | 46/200 [00:01<00:04, 35.15epoch/s]"
     ]
    },
    {
     "name": "stdout",
     "output_type": "stream",
     "text": [
      "Epoch 40/200, Cross Entropy: 2.2762269979051504\n",
      "Epoch 41/200, Cross Entropy: 2.2762269664407984\n",
      "Epoch 42/200, Cross Entropy: 2.2762269349764486\n",
      "Epoch 43/200, Cross Entropy: 2.2762269035120997\n",
      "Epoch 44/200, Cross Entropy: 2.2762268720477516\n",
      "Epoch 45/200, Cross Entropy: 2.276226840583406\n",
      "Epoch 46/200, Cross Entropy: 2.2762268091190614\n",
      "Epoch 47/200, Cross Entropy: 2.276226777654718\n"
     ]
    },
    {
     "name": "stderr",
     "output_type": "stream",
     "text": [
      "                                                             \r"
     ]
    },
    {
     "name": "stdout",
     "output_type": "stream",
     "text": [
      "Epoch 48/200, Cross Entropy: 2.2762267461903756\n",
      "Epoch 49/200, Cross Entropy: 2.2762267147260355\n",
      "Epoch 50/200, Cross Entropy: 2.276226683261697\n",
      "Epoch 51/200, Cross Entropy: 2.2762266517973586\n",
      "Epoch 52/200, Cross Entropy: 2.276226620333022\n"
     ]
    },
    {
     "name": "stderr",
     "output_type": "stream",
     "text": [
      "Training:  28%|██▊       | 56/200 [00:01<00:04, 29.91epoch/s]"
     ]
    },
    {
     "name": "stdout",
     "output_type": "stream",
     "text": [
      "Epoch 53/200, Cross Entropy: 2.2762265888686875\n",
      "Epoch 54/200, Cross Entropy: 2.276226557404354\n",
      "Epoch 55/200, Cross Entropy: 2.276226525940022\n",
      "Epoch 56/200, Cross Entropy: 2.276226494475691\n",
      "Epoch 57/200, Cross Entropy: 2.2762264630113616\n"
     ]
    },
    {
     "name": "stderr",
     "output_type": "stream",
     "text": [
      "Training:  30%|███       | 60/200 [00:01<00:04, 30.35epoch/s]"
     ]
    },
    {
     "name": "stdout",
     "output_type": "stream",
     "text": [
      "Epoch 58/200, Cross Entropy: 2.2762264315470335\n",
      "Epoch 59/200, Cross Entropy: 2.276226400082707\n",
      "Epoch 60/200, Cross Entropy: 2.276226368618382\n",
      "Epoch 61/200, Cross Entropy: 2.276226337154058\n",
      "Epoch 62/200, Cross Entropy: 2.276226305689735\n",
      "Epoch 63/200, Cross Entropy: 2.2762262742254142\n",
      "Epoch 64/200, Cross Entropy: 2.2762262427610946\n"
     ]
    },
    {
     "name": "stderr",
     "output_type": "stream",
     "text": [
      "Training:  35%|███▌      | 70/200 [00:01<00:03, 36.87epoch/s]"
     ]
    },
    {
     "name": "stdout",
     "output_type": "stream",
     "text": [
      "Epoch 65/200, Cross Entropy: 2.2762262112967764\n",
      "Epoch 66/200, Cross Entropy: 2.2762261798324595\n",
      "Epoch 67/200, Cross Entropy: 2.276226148368144\n",
      "Epoch 68/200, Cross Entropy: 2.27622611690383\n",
      "Epoch 69/200, Cross Entropy: 2.276226085439517\n",
      "Epoch 70/200, Cross Entropy: 2.2762260539752055\n",
      "Epoch 71/200, Cross Entropy: 2.2762260225108957\n",
      "Epoch 72/200, Cross Entropy: 2.276225991046587\n",
      "Epoch 73/200, Cross Entropy: 2.27622595958228\n"
     ]
    },
    {
     "name": "stderr",
     "output_type": "stream",
     "text": [
      "Training:  41%|████      | 82/200 [00:02<00:02, 43.88epoch/s]"
     ]
    },
    {
     "name": "stdout",
     "output_type": "stream",
     "text": [
      "Epoch 74/200, Cross Entropy: 2.276225928117974\n",
      "Epoch 75/200, Cross Entropy: 2.27622589665367\n",
      "Epoch 76/200, Cross Entropy: 2.276225865189367\n",
      "Epoch 77/200, Cross Entropy: 2.276225833725065\n",
      "Epoch 78/200, Cross Entropy: 2.276225802260765\n",
      "Epoch 79/200, Cross Entropy: 2.276225770796466\n",
      "Epoch 80/200, Cross Entropy: 2.2762257393321685\n",
      "Epoch 81/200, Cross Entropy: 2.2762257078678725\n",
      "Epoch 82/200, Cross Entropy: 2.276225676403578\n"
     ]
    },
    {
     "name": "stderr",
     "output_type": "stream",
     "text": [
      "Training:  44%|████▎     | 87/200 [00:02<00:03, 31.20epoch/s]"
     ]
    },
    {
     "name": "stdout",
     "output_type": "stream",
     "text": [
      "Epoch 83/200, Cross Entropy: 2.276225644939285\n",
      "Epoch 84/200, Cross Entropy: 2.2762256134749927\n",
      "Epoch 85/200, Cross Entropy: 2.2762255820107025\n",
      "Epoch 86/200, Cross Entropy: 2.276225550546413\n",
      "Epoch 87/200, Cross Entropy: 2.2762255190821254\n",
      "Epoch 88/200, Cross Entropy: 2.276225487617839\n",
      "Epoch 89/200, Cross Entropy: 2.276225456153554\n",
      "Epoch 90/200, Cross Entropy: 2.2762254246892706\n",
      "Epoch 91/200, Cross Entropy: 2.2762253932249883\n"
     ]
    },
    {
     "name": "stderr",
     "output_type": "stream",
     "text": [
      "Training:  49%|████▉     | 98/200 [00:02<00:02, 38.39epoch/s]"
     ]
    },
    {
     "name": "stdout",
     "output_type": "stream",
     "text": [
      "Epoch 92/200, Cross Entropy: 2.2762253617607078\n",
      "Epoch 93/200, Cross Entropy: 2.276225330296428\n",
      "Epoch 94/200, Cross Entropy: 2.2762252988321503\n",
      "Epoch 95/200, Cross Entropy: 2.2762252673678733\n",
      "Epoch 96/200, Cross Entropy: 2.276225235903598\n",
      "Epoch 97/200, Cross Entropy: 2.2762252044393247\n",
      "Epoch 98/200, Cross Entropy: 2.2762251729750522\n",
      "Epoch 99/200, Cross Entropy: 2.276225141510781\n",
      "Epoch 100/200, Cross Entropy: 2.276225110046511\n",
      "Epoch 101/200, Cross Entropy: 2.276225078582243\n"
     ]
    },
    {
     "name": "stderr",
     "output_type": "stream",
     "text": [
      "Training:  56%|█████▌    | 111/200 [00:02<00:01, 48.17epoch/s]"
     ]
    },
    {
     "name": "stdout",
     "output_type": "stream",
     "text": [
      "Epoch 102/200, Cross Entropy: 2.2762250471179764\n",
      "Epoch 103/200, Cross Entropy: 2.276225015653711\n",
      "Epoch 104/200, Cross Entropy: 2.2762249841894464\n",
      "Epoch 105/200, Cross Entropy: 2.2762249527251837\n",
      "Epoch 106/200, Cross Entropy: 2.2762249212609222\n",
      "Epoch 107/200, Cross Entropy: 2.2762248897966626\n",
      "Epoch 108/200, Cross Entropy: 2.2762248583324043\n",
      "Epoch 109/200, Cross Entropy: 2.276224826868147\n",
      "Epoch 110/200, Cross Entropy: 2.276224795403891\n",
      "Epoch 111/200, Cross Entropy: 2.2762247639396365\n",
      "Epoch 112/200, Cross Entropy: 2.2762247324753835\n",
      "Epoch 113/200, Cross Entropy: 2.276224701011132\n"
     ]
    },
    {
     "name": "stderr",
     "output_type": "stream",
     "text": [
      "Training:  62%|██████▎   | 125/200 [00:03<00:01, 55.87epoch/s]"
     ]
    },
    {
     "name": "stdout",
     "output_type": "stream",
     "text": [
      "Epoch 114/200, Cross Entropy: 2.276224669546882\n",
      "Epoch 115/200, Cross Entropy: 2.276224638082633\n",
      "Epoch 116/200, Cross Entropy: 2.2762246066183853\n",
      "Epoch 117/200, Cross Entropy: 2.2762245751541395\n",
      "Epoch 118/200, Cross Entropy: 2.276224543689895\n",
      "Epoch 119/200, Cross Entropy: 2.2762245122256513\n",
      "Epoch 120/200, Cross Entropy: 2.27622448076141\n",
      "Epoch 121/200, Cross Entropy: 2.276224449297169\n",
      "Epoch 122/200, Cross Entropy: 2.27622441783293\n",
      "Epoch 123/200, Cross Entropy: 2.276224386368692\n",
      "Epoch 124/200, Cross Entropy: 2.276224354904456\n",
      "Epoch 125/200, Cross Entropy: 2.276224323440221\n"
     ]
    },
    {
     "name": "stderr",
     "output_type": "stream",
     "text": [
      "Training:  66%|██████▌   | 132/200 [00:03<00:01, 57.80epoch/s]"
     ]
    },
    {
     "name": "stdout",
     "output_type": "stream",
     "text": [
      "Epoch 126/200, Cross Entropy: 2.2762242919759874\n",
      "Epoch 127/200, Cross Entropy: 2.2762242605117553\n",
      "Epoch 128/200, Cross Entropy: 2.2762242290475245\n",
      "Epoch 129/200, Cross Entropy: 2.276224197583295\n",
      "Epoch 130/200, Cross Entropy: 2.276224166119067\n",
      "Epoch 131/200, Cross Entropy: 2.2762241346548406\n",
      "Epoch 132/200, Cross Entropy: 2.276224103190615\n",
      "Epoch 133/200, Cross Entropy: 2.2762240717263915\n",
      "Epoch 134/200, Cross Entropy: 2.2762240402621687\n",
      "Epoch 135/200, Cross Entropy: 2.276224008797948\n",
      "Epoch 136/200, Cross Entropy: 2.276223977333728\n",
      "Epoch 137/200, Cross Entropy: 2.27622394586951\n"
     ]
    },
    {
     "name": "stderr",
     "output_type": "stream",
     "text": [
      "Training:  73%|███████▎  | 146/200 [00:03<00:00, 57.77epoch/s]"
     ]
    },
    {
     "name": "stdout",
     "output_type": "stream",
     "text": [
      "Epoch 138/200, Cross Entropy: 2.276223914405293\n",
      "Epoch 139/200, Cross Entropy: 2.2762238829410775\n",
      "Epoch 140/200, Cross Entropy: 2.2762238514768636\n",
      "Epoch 141/200, Cross Entropy: 2.2762238200126506\n",
      "Epoch 142/200, Cross Entropy: 2.2762237885484393\n",
      "Epoch 143/200, Cross Entropy: 2.2762237570842294\n",
      "Epoch 144/200, Cross Entropy: 2.2762237256200204\n",
      "Epoch 145/200, Cross Entropy: 2.2762236941558136\n",
      "Epoch 146/200, Cross Entropy: 2.2762236626916077\n",
      "Epoch 147/200, Cross Entropy: 2.2762236312274036\n"
     ]
    },
    {
     "name": "stderr",
     "output_type": "stream",
     "text": [
      "Training:  76%|███████▌  | 152/200 [00:03<00:00, 50.55epoch/s]"
     ]
    },
    {
     "name": "stdout",
     "output_type": "stream",
     "text": [
      "Epoch 148/200, Cross Entropy: 2.2762235997632\n",
      "Epoch 149/200, Cross Entropy: 2.276223568298999\n",
      "Epoch 150/200, Cross Entropy: 2.2762235368347987\n",
      "Epoch 151/200, Cross Entropy: 2.2762235053706\n",
      "Epoch 152/200, Cross Entropy: 2.2762234739064025\n"
     ]
    },
    {
     "name": "stderr",
     "output_type": "stream",
     "text": [
      "Training:  82%|████████▏ | 164/200 [00:03<00:00, 45.75epoch/s]"
     ]
    },
    {
     "name": "stdout",
     "output_type": "stream",
     "text": [
      "Epoch 153/200, Cross Entropy: 2.2762234424422063\n",
      "Epoch 154/200, Cross Entropy: 2.2762234109780115\n",
      "Epoch 155/200, Cross Entropy: 2.2762233795138185\n",
      "Epoch 156/200, Cross Entropy: 2.2762233480496263\n",
      "Epoch 157/200, Cross Entropy: 2.276223316585436\n",
      "Epoch 158/200, Cross Entropy: 2.276223285121247\n",
      "Epoch 159/200, Cross Entropy: 2.276223253657059\n",
      "Epoch 160/200, Cross Entropy: 2.276223222192873\n",
      "Epoch 161/200, Cross Entropy: 2.276223190728688\n",
      "Epoch 162/200, Cross Entropy: 2.276223159264504\n",
      "Epoch 163/200, Cross Entropy: 2.2762231278003218\n",
      "Epoch 164/200, Cross Entropy: 2.276223096336141\n"
     ]
    },
    {
     "name": "stderr",
     "output_type": "stream",
     "text": [
      "Training:  86%|████████▌ | 172/200 [00:04<00:00, 52.28epoch/s]"
     ]
    },
    {
     "name": "stdout",
     "output_type": "stream",
     "text": [
      "Epoch 165/200, Cross Entropy: 2.276223064871962\n",
      "Epoch 166/200, Cross Entropy: 2.276223033407784\n",
      "Epoch 167/200, Cross Entropy: 2.2762230019436074\n",
      "Epoch 168/200, Cross Entropy: 2.2762229704794317\n",
      "Epoch 169/200, Cross Entropy: 2.276222939015258\n",
      "Epoch 170/200, Cross Entropy: 2.2762229075510856\n",
      "Epoch 171/200, Cross Entropy: 2.2762228760869148\n",
      "Epoch 172/200, Cross Entropy: 2.276222844622745\n",
      "Epoch 173/200, Cross Entropy: 2.2762228131585767\n",
      "Epoch 174/200, Cross Entropy: 2.2762227816944103\n",
      "Epoch 175/200, Cross Entropy: 2.2762227502302443\n",
      "Epoch 176/200, Cross Entropy: 2.27622271876608\n",
      "Epoch 177/200, Cross Entropy: 2.276222687301918\n"
     ]
    },
    {
     "name": "stderr",
     "output_type": "stream",
     "text": [
      "Training:  94%|█████████▎| 187/200 [00:04<00:00, 59.24epoch/s]"
     ]
    },
    {
     "name": "stdout",
     "output_type": "stream",
     "text": [
      "Epoch 178/200, Cross Entropy: 2.2762226558377563\n",
      "Epoch 179/200, Cross Entropy: 2.276222624373596\n",
      "Epoch 180/200, Cross Entropy: 2.2762225929094377\n",
      "Epoch 181/200, Cross Entropy: 2.2762225614452807\n",
      "Epoch 182/200, Cross Entropy: 2.2762225299811245\n",
      "Epoch 183/200, Cross Entropy: 2.27622249851697\n",
      "Epoch 184/200, Cross Entropy: 2.2762224670528175\n",
      "Epoch 185/200, Cross Entropy: 2.2762224355886653\n",
      "Epoch 186/200, Cross Entropy: 2.2762224041245154\n",
      "Epoch 187/200, Cross Entropy: 2.2762223726603668\n",
      "Epoch 188/200, Cross Entropy: 2.2762223411962195\n",
      "Epoch 189/200, Cross Entropy: 2.276222309732073\n",
      "Epoch 190/200, Cross Entropy: 2.2762222782679284\n"
     ]
    },
    {
     "name": "stderr",
     "output_type": "stream",
     "text": [
      "Training: 100%|██████████| 200/200 [00:04<00:00, 45.65epoch/s]\n"
     ]
    },
    {
     "name": "stdout",
     "output_type": "stream",
     "text": [
      "Epoch 191/200, Cross Entropy: 2.276222246803785\n",
      "Epoch 192/200, Cross Entropy: 2.276222215339643\n",
      "Epoch 193/200, Cross Entropy: 2.276222183875503\n",
      "Epoch 194/200, Cross Entropy: 2.2762221524113637\n",
      "Epoch 195/200, Cross Entropy: 2.276222120947226\n",
      "Epoch 196/200, Cross Entropy: 2.2762220894830896\n",
      "Epoch 197/200, Cross Entropy: 2.2762220580189547\n",
      "Epoch 198/200, Cross Entropy: 2.276222026554821\n",
      "Epoch 199/200, Cross Entropy: 2.276221995090689\n",
      "Epoch 200/200, Cross Entropy: 2.276221963626558\n"
     ]
    },
    {
     "name": "stderr",
     "output_type": "stream",
     "text": [
      "                                                    \r"
     ]
    },
    {
     "name": "stdout",
     "output_type": "stream",
     "text": [
      "Epoch 1/200, Cross Entropy: 2.1392976192789006\n",
      "Epoch 2/200, Cross Entropy: 2.0420868647885944\n"
     ]
    },
    {
     "name": "stderr",
     "output_type": "stream",
     "text": [
      "Training:   4%|▎         | 7/200 [00:00<00:03, 61.95epoch/s]"
     ]
    },
    {
     "name": "stdout",
     "output_type": "stream",
     "text": [
      "Epoch 3/200, Cross Entropy: 1.9794611016530523\n",
      "Epoch 4/200, Cross Entropy: 1.9359872584569244\n",
      "Epoch 5/200, Cross Entropy: 1.905087015978639\n",
      "Epoch 6/200, Cross Entropy: 1.8826522619139041\n",
      "Epoch 7/200, Cross Entropy: 1.8660151553732454\n",
      "Epoch 8/200, Cross Entropy: 1.8534339849314552\n",
      "Epoch 9/200, Cross Entropy: 1.8437552846283862\n",
      "Epoch 10/200, Cross Entropy: 1.8361987954641417\n",
      "Epoch 11/200, Cross Entropy: 1.8302243152619833\n",
      "Epoch 12/200, Cross Entropy: 1.8254493778095413\n"
     ]
    },
    {
     "name": "stderr",
     "output_type": "stream",
     "text": [
      "Training:   8%|▊         | 15/200 [00:00<00:02, 67.50epoch/s]"
     ]
    },
    {
     "name": "stdout",
     "output_type": "stream",
     "text": [
      "Epoch 13/200, Cross Entropy: 1.8215976279396835\n",
      "Epoch 14/200, Cross Entropy: 1.818465745876657\n",
      "Epoch 15/200, Cross Entropy: 1.8159017512382063\n"
     ]
    },
    {
     "name": "stderr",
     "output_type": "stream",
     "text": [
      "Training:  11%|█         | 22/200 [00:00<00:04, 37.47epoch/s]"
     ]
    },
    {
     "name": "stdout",
     "output_type": "stream",
     "text": [
      "Epoch 16/200, Cross Entropy: 1.8137904394160338\n",
      "Epoch 17/200, Cross Entropy: 1.812043393587079\n",
      "Epoch 18/200, Cross Entropy: 1.8105920000885225\n",
      "Epoch 19/200, Cross Entropy: 1.8093824779664822\n",
      "Epoch 20/200, Cross Entropy: 1.8083722862321456\n",
      "Epoch 21/200, Cross Entropy: 1.8075274905417642\n",
      "Epoch 22/200, Cross Entropy: 1.8068208089544506\n",
      "Epoch 23/200, Cross Entropy: 1.8062301454472791\n",
      "Epoch 24/200, Cross Entropy: 1.8057374784416458\n",
      "Epoch 25/200, Cross Entropy: 1.8053280108278253\n",
      "Epoch 26/200, Cross Entropy: 1.8049895146906965\n"
     ]
    },
    {
     "name": "stderr",
     "output_type": "stream",
     "text": [
      "Training:  18%|█▊        | 35/200 [00:00<00:03, 45.80epoch/s]"
     ]
    },
    {
     "name": "stdout",
     "output_type": "stream",
     "text": [
      "Epoch 27/200, Cross Entropy: 1.804711822413097\n",
      "Epoch 28/200, Cross Entropy: 1.8044864287902922\n",
      "Epoch 29/200, Cross Entropy: 1.8043061779976968\n",
      "Epoch 30/200, Cross Entropy: 1.804165015879295\n",
      "Epoch 31/200, Cross Entropy: 1.8040577928449655\n",
      "Epoch 32/200, Cross Entropy: 1.8039801062093304\n",
      "Epoch 33/200, Cross Entropy: 1.8039281734355508\n",
      "Epoch 34/200, Cross Entropy: 1.8038987297171103\n",
      "Epoch 35/200, Cross Entropy: 1.8038889448167994\n",
      "Epoch 36/200, Cross Entropy: 1.803896355211427\n"
     ]
    },
    {
     "name": "stderr",
     "output_type": "stream",
     "text": [
      "Training:  20%|██        | 41/200 [00:00<00:03, 48.47epoch/s]"
     ]
    },
    {
     "name": "stdout",
     "output_type": "stream",
     "text": [
      "Epoch 37/200, Cross Entropy: 1.803918808454386\n",
      "Epoch 38/200, Cross Entropy: 1.803954417332388\n",
      "Epoch 39/200, Cross Entropy: 1.8040015219061631\n",
      "Epoch 40/200, Cross Entropy: 1.8040586579237103\n",
      "Epoch 41/200, Cross Entropy: 1.8041245304057791\n",
      "Epoch 42/200, Cross Entropy: 1.8041979914468698\n",
      "Epoch 43/200, Cross Entropy: 1.8042780214664995\n",
      "Epoch 44/200, Cross Entropy: 1.8043637132964945\n",
      "Epoch 45/200, Cross Entropy: 1.8044542586095622\n",
      "Epoch 46/200, Cross Entropy: 1.804548936289245\n",
      "Epoch 47/200, Cross Entropy: 1.8046471024168609\n"
     ]
    },
    {
     "name": "stderr",
     "output_type": "stream",
     "text": [
      "Training:  27%|██▋       | 54/200 [00:01<00:02, 53.82epoch/s]"
     ]
    },
    {
     "name": "stdout",
     "output_type": "stream",
     "text": [
      "Epoch 48/200, Cross Entropy: 1.804748181611372\n",
      "Epoch 49/200, Cross Entropy: 1.8048516595064055\n",
      "Epoch 50/200, Cross Entropy: 1.8049570761874896\n",
      "Epoch 51/200, Cross Entropy: 1.805064020443809\n",
      "Epoch 52/200, Cross Entropy: 1.805172124714093\n",
      "Epoch 53/200, Cross Entropy: 1.8052810606267207\n",
      "Epoch 54/200, Cross Entropy: 1.8053905350508024\n",
      "Epoch 55/200, Cross Entropy: 1.8055002865886018\n",
      "Epoch 56/200, Cross Entropy: 1.805610082450778\n",
      "Epoch 57/200, Cross Entropy: 1.805719715665081\n",
      "Epoch 58/200, Cross Entropy: 1.8058290025766726\n"
     ]
    },
    {
     "name": "stderr",
     "output_type": "stream",
     "text": [
      "Training:  34%|███▎      | 67/200 [00:01<00:02, 54.71epoch/s]"
     ]
    },
    {
     "name": "stdout",
     "output_type": "stream",
     "text": [
      "Epoch 59/200, Cross Entropy: 1.805937780604461\n",
      "Epoch 60/200, Cross Entropy: 1.806045906223029\n",
      "Epoch 61/200, Cross Entropy: 1.8061532531440276\n",
      "Epoch 62/200, Cross Entropy: 1.806259710674533\n",
      "Epoch 63/200, Cross Entropy: 1.8063651822328666\n",
      "Epoch 64/200, Cross Entropy: 1.806469584004955\n",
      "Epoch 65/200, Cross Entropy: 1.8065728437264401\n",
      "Epoch 66/200, Cross Entropy: 1.8066748995776054\n",
      "Epoch 67/200, Cross Entropy: 1.8067756991797377\n",
      "Epoch 68/200, Cross Entropy: 1.8068751986828842\n",
      "Epoch 69/200, Cross Entropy: 1.8069733619361226\n"
     ]
    },
    {
     "name": "stderr",
     "output_type": "stream",
     "text": [
      "Training:  36%|███▋      | 73/200 [00:01<00:02, 53.71epoch/s]"
     ]
    },
    {
     "name": "stdout",
     "output_type": "stream",
     "text": [
      "Epoch 70/200, Cross Entropy: 1.8070701597324506\n",
      "Epoch 71/200, Cross Entropy: 1.8071655691212751\n",
      "Epoch 72/200, Cross Entropy: 1.8072595727822156\n",
      "Epoch 73/200, Cross Entropy: 1.8073521584546053\n",
      "Epoch 74/200, Cross Entropy: 1.8074433184176448\n",
      "Epoch 75/200, Cross Entropy: 1.8075330490166666\n",
      "Epoch 76/200, Cross Entropy: 1.807621350231417\n",
      "Epoch 77/200, Cross Entropy: 1.8077082252826533\n",
      "Epoch 78/200, Cross Entropy: 1.807793680273718\n"
     ]
    },
    {
     "name": "stderr",
     "output_type": "stream",
     "text": [
      "Training:  42%|████▎     | 85/200 [00:01<00:02, 42.72epoch/s]"
     ]
    },
    {
     "name": "stdout",
     "output_type": "stream",
     "text": [
      "Epoch 79/200, Cross Entropy: 1.8078777238640418\n",
      "Epoch 80/200, Cross Entropy: 1.8079603669718314\n",
      "Epoch 81/200, Cross Entropy: 1.808041622503434\n",
      "Epoch 82/200, Cross Entropy: 1.808121505107094\n",
      "Epoch 83/200, Cross Entropy: 1.8082000309490285\n",
      "Epoch 84/200, Cross Entropy: 1.8082772175099266\n",
      "Epoch 85/200, Cross Entropy: 1.8083530834001378\n",
      "Epoch 86/200, Cross Entropy: 1.8084276481919683\n",
      "Epoch 87/200, Cross Entropy: 1.8085009322676446\n",
      "Epoch 88/200, Cross Entropy: 1.8085729566816129\n",
      "Epoch 89/200, Cross Entropy: 1.8086437430359665\n"
     ]
    },
    {
     "name": "stderr",
     "output_type": "stream",
     "text": [
      "Training:  48%|████▊     | 97/200 [00:02<00:02, 49.05epoch/s]"
     ]
    },
    {
     "name": "stdout",
     "output_type": "stream",
     "text": [
      "Epoch 90/200, Cross Entropy: 1.8087133133678917\n",
      "Epoch 91/200, Cross Entropy: 1.8087816900481108\n",
      "Epoch 92/200, Cross Entropy: 1.8088488956893929\n",
      "Epoch 93/200, Cross Entropy: 1.8089149530642745\n",
      "Epoch 94/200, Cross Entropy: 1.8089798850312062\n",
      "Epoch 95/200, Cross Entropy: 1.8090437144684017\n",
      "Epoch 96/200, Cross Entropy: 1.8091064642147343\n",
      "Epoch 97/200, Cross Entropy: 1.8091681570170632\n",
      "Epoch 98/200, Cross Entropy: 1.8092288154834455\n",
      "Epoch 99/200, Cross Entropy: 1.8092884620417078\n",
      "Epoch 100/200, Cross Entropy: 1.8093471189029187\n"
     ]
    },
    {
     "name": "stderr",
     "output_type": "stream",
     "text": [
      "Training:  55%|█████▍    | 109/200 [00:02<00:01, 46.71epoch/s]"
     ]
    },
    {
     "name": "stdout",
     "output_type": "stream",
     "text": [
      "Epoch 101/200, Cross Entropy: 1.8094048080293246\n",
      "Epoch 102/200, Cross Entropy: 1.8094615511063528\n",
      "Epoch 103/200, Cross Entropy: 1.809517369518321\n",
      "Epoch 104/200, Cross Entropy: 1.8095722843275128\n",
      "Epoch 105/200, Cross Entropy: 1.8096263162563218\n",
      "Epoch 106/200, Cross Entropy: 1.8096794856721727\n",
      "Epoch 107/200, Cross Entropy: 1.8097318125749666\n",
      "Epoch 108/200, Cross Entropy: 1.8097833165868118\n",
      "Epoch 109/200, Cross Entropy: 1.809834016943824\n"
     ]
    },
    {
     "name": "stderr",
     "output_type": "stream",
     "text": [
      "Training:  57%|█████▊    | 115/200 [00:02<00:01, 48.22epoch/s]"
     ]
    },
    {
     "name": "stdout",
     "output_type": "stream",
     "text": [
      "Epoch 110/200, Cross Entropy: 1.8098839324897928\n",
      "Epoch 111/200, Cross Entropy: 1.8099330816715342\n",
      "Epoch 112/200, Cross Entropy: 1.8099814825357616\n",
      "Epoch 113/200, Cross Entropy: 1.8100291527273205\n",
      "Epoch 114/200, Cross Entropy: 1.810076109488644\n",
      "Epoch 115/200, Cross Entropy: 1.8101223696603057\n",
      "Epoch 116/200, Cross Entropy: 1.8101679496825478\n",
      "Epoch 117/200, Cross Entropy: 1.8102128655976755\n",
      "Epoch 118/200, Cross Entropy: 1.8102571330532244\n",
      "Epoch 119/200, Cross Entropy: 1.8103007673058056\n",
      "Epoch 120/200, Cross Entropy: 1.8103437832255482\n"
     ]
    },
    {
     "name": "stderr",
     "output_type": "stream",
     "text": [
      "                                                              "
     ]
    },
    {
     "name": "stdout",
     "output_type": "stream",
     "text": [
      "Epoch 121/200, Cross Entropy: 1.8103861953010663\n",
      "Epoch 122/200, Cross Entropy: 1.8104280176448755\n",
      "Epoch 123/200, Cross Entropy: 1.8104692639992084\n",
      "Epoch 124/200, Cross Entropy: 1.810509947742157\n",
      "Epoch 125/200, Cross Entropy: 1.8105500818941063\n",
      "Epoch 126/200, Cross Entropy: 1.8105896791243974\n",
      "Epoch 127/200, Cross Entropy: 1.8106287517581932\n",
      "Epoch 128/200, Cross Entropy: 1.8106673117834928\n",
      "Epoch 129/200, Cross Entropy: 1.810705370858272\n",
      "Epoch 130/200, Cross Entropy: 1.8107429403177104\n",
      "Epoch 131/200, Cross Entropy: 1.8107800311814832\n"
     ]
    },
    {
     "name": "stderr",
     "output_type": "stream",
     "text": [
      "Training:  71%|███████   | 142/200 [00:02<00:00, 58.64epoch/s]"
     ]
    },
    {
     "name": "stdout",
     "output_type": "stream",
     "text": [
      "Epoch 132/200, Cross Entropy: 1.8108166541610875\n",
      "Epoch 133/200, Cross Entropy: 1.8108528196671823\n",
      "Epoch 134/200, Cross Entropy: 1.810888537816921\n",
      "Epoch 135/200, Cross Entropy: 1.8109238184412608\n",
      "Epoch 136/200, Cross Entropy: 1.8109586710922276\n",
      "Epoch 137/200, Cross Entropy: 1.8109931050501256\n",
      "Epoch 138/200, Cross Entropy: 1.8110271293306803\n",
      "Epoch 139/200, Cross Entropy: 1.811060752692099\n",
      "Epoch 140/200, Cross Entropy: 1.8110939836420423\n",
      "Epoch 141/200, Cross Entropy: 1.8111268304444983\n",
      "Epoch 142/200, Cross Entropy: 1.8111593011265474\n",
      "Epoch 143/200, Cross Entropy: 1.8111914034850198\n"
     ]
    },
    {
     "name": "stderr",
     "output_type": "stream",
     "text": [
      "Training:  71%|███████   | 142/200 [00:02<00:00, 58.64epoch/s]"
     ]
    },
    {
     "name": "stdout",
     "output_type": "stream",
     "text": [
      "Epoch 144/200, Cross Entropy: 1.8112231450930334\n",
      "Epoch 145/200, Cross Entropy: 1.8112545333064058\n"
     ]
    },
    {
     "name": "stderr",
     "output_type": "stream",
     "text": [
      "Training:  77%|███████▋  | 154/200 [00:03<00:01, 43.56epoch/s]"
     ]
    },
    {
     "name": "stdout",
     "output_type": "stream",
     "text": [
      "Epoch 146/200, Cross Entropy: 1.8112855752699477\n",
      "Epoch 147/200, Cross Entropy: 1.811316277923621\n",
      "Epoch 148/200, Cross Entropy: 1.811346648008569\n",
      "Epoch 149/200, Cross Entropy: 1.8113766920730137\n",
      "Epoch 150/200, Cross Entropy: 1.8114064164780166\n",
      "Epoch 151/200, Cross Entropy: 1.8114358274031064\n",
      "Epoch 152/200, Cross Entropy: 1.8114649308517723\n",
      "Epoch 153/200, Cross Entropy: 1.8114937326568183\n",
      "Epoch 154/200, Cross Entropy: 1.8115222384855858\n",
      "Epoch 155/200, Cross Entropy: 1.8115504538450424\n"
     ]
    },
    {
     "name": "stderr",
     "output_type": "stream",
     "text": [
      "Training:  80%|████████  | 160/200 [00:03<00:00, 45.85epoch/s]"
     ]
    },
    {
     "name": "stdout",
     "output_type": "stream",
     "text": [
      "Epoch 156/200, Cross Entropy: 1.8115783840867334\n",
      "Epoch 157/200, Cross Entropy: 1.8116060344116076\n",
      "Epoch 158/200, Cross Entropy: 1.8116334098747058\n",
      "Epoch 159/200, Cross Entropy: 1.8116605153897252\n",
      "Epoch 160/200, Cross Entropy: 1.8116873557334545\n",
      "Epoch 161/200, Cross Entropy: 1.8117139355500844\n",
      "Epoch 162/200, Cross Entropy: 1.8117402593553946\n",
      "Epoch 163/200, Cross Entropy: 1.8117663315408186\n",
      "Epoch 164/200, Cross Entropy: 1.8117921563773929\n",
      "Epoch 165/200, Cross Entropy: 1.8118177380195857\n",
      "Epoch 166/200, Cross Entropy: 1.8118430805090155\n"
     ]
    },
    {
     "name": "stderr",
     "output_type": "stream",
     "text": [
      "Training:  86%|████████▋ | 173/200 [00:03<00:00, 52.92epoch/s]"
     ]
    },
    {
     "name": "stdout",
     "output_type": "stream",
     "text": [
      "Epoch 167/200, Cross Entropy: 1.8118681877780527\n",
      "Epoch 168/200, Cross Entropy: 1.811893063653317\n",
      "Epoch 169/200, Cross Entropy: 1.8119177118590648\n",
      "Epoch 170/200, Cross Entropy: 1.8119421360204742\n",
      "Epoch 171/200, Cross Entropy: 1.811966339666826\n",
      "Epoch 172/200, Cross Entropy: 1.811990326234589\n",
      "Epoch 173/200, Cross Entropy: 1.8120140990704015\n",
      "Epoch 174/200, Cross Entropy: 1.812037661433967\n",
      "Epoch 175/200, Cross Entropy: 1.8120610165008524\n",
      "Epoch 176/200, Cross Entropy: 1.8120841673651973\n",
      "Epoch 177/200, Cross Entropy: 1.8121071170423373\n"
     ]
    },
    {
     "name": "stderr",
     "output_type": "stream",
     "text": [
      "Training:  92%|█████████▎| 185/200 [00:03<00:00, 52.87epoch/s]"
     ]
    },
    {
     "name": "stdout",
     "output_type": "stream",
     "text": [
      "Epoch 178/200, Cross Entropy: 1.8121298684713432\n",
      "Epoch 179/200, Cross Entropy: 1.8121524245174767\n",
      "Epoch 180/200, Cross Entropy: 1.812174787974566\n",
      "Epoch 181/200, Cross Entropy: 1.8121969615673044\n",
      "Epoch 182/200, Cross Entropy: 1.8122189479534723\n",
      "Epoch 183/200, Cross Entropy: 1.812240749726089\n",
      "Epoch 184/200, Cross Entropy: 1.8122623694154887\n",
      "Epoch 185/200, Cross Entropy: 1.8122838094913312\n",
      "Epoch 186/200, Cross Entropy: 1.812305072364544\n",
      "Epoch 187/200, Cross Entropy: 1.812326160389202\n"
     ]
    },
    {
     "name": "stderr",
     "output_type": "stream",
     "text": [
      "Training:  99%|█████████▉| 198/200 [00:03<00:00, 58.56epoch/s]"
     ]
    },
    {
     "name": "stdout",
     "output_type": "stream",
     "text": [
      "Epoch 188/200, Cross Entropy: 1.8123470758643383\n",
      "Epoch 189/200, Cross Entropy: 1.8123678210357037\n",
      "Epoch 190/200, Cross Entropy: 1.812388398097456\n",
      "Epoch 191/200, Cross Entropy: 1.8124088091938022\n",
      "Epoch 192/200, Cross Entropy: 1.8124290564205776\n",
      "Epoch 193/200, Cross Entropy: 1.8124491418267783\n",
      "Epoch 194/200, Cross Entropy: 1.812469067416033\n",
      "Epoch 195/200, Cross Entropy: 1.8124888351480346\n",
      "Epoch 196/200, Cross Entropy: 1.812508446939916\n",
      "Epoch 197/200, Cross Entropy: 1.8125279046675802\n",
      "Epoch 198/200, Cross Entropy: 1.8125472101669873\n",
      "Epoch 199/200, Cross Entropy: 1.8125663652353958\n"
     ]
    },
    {
     "name": "stderr",
     "output_type": "stream",
     "text": [
      "Training: 100%|██████████| 200/200 [00:03<00:00, 50.32epoch/s]\n"
     ]
    },
    {
     "name": "stdout",
     "output_type": "stream",
     "text": [
      "Epoch 200/200, Cross Entropy: 1.8125853716325615\n"
     ]
    },
    {
     "data": {
      "text/plain": [
       "(0.876, 0.5780000000000001, 0.876, 0.5780000000000001)"
      ]
     },
     "execution_count": 20,
     "metadata": {},
     "output_type": "execute_result"
    }
   ],
   "source": [
    "train, train_labels = train_1000, train_1000_labels\n",
    "n_classes = train_1000_labels.shape[1]\n",
    "\n",
    "run_experiment_dnn(\n",
    "    # data\n",
    "    train_data=train,\n",
    "    train_labels=train_labels,\n",
    "    test_data=mnist_test,\n",
    "    test_labels=mnist_test_labels,\n",
    "    # initialization\n",
    "    input_dim=train.shape[1],\n",
    "    output_dim=n_classes,\n",
    "    hidden_layer_sizes=[200],\n",
    "    # training\n",
    "    batch_size=128,\n",
    "    n_epochs_pretrain=100,\n",
    "    n_epochs_backprop=200,\n",
    "    learning_rate=0.1,\n",
    "    eps=1e-15,\n",
    "    print_each=20,\n",
    "    verbose=True,\n",
    "    random_state=42\n",
    ")"
   ]
  },
  {
   "cell_type": "code",
   "execution_count": 21,
   "metadata": {},
   "outputs": [
    {
     "name": "stdout",
     "output_type": "stream",
     "text": [
      "../results/layers/\n"
     ]
    }
   ],
   "source": [
    "RESULTS_PATH = \"../results/\"\n",
    "RESULTS_LAYERS_PATH = RESULTS_PATH + \"layers/\"\n",
    "\n",
    "print(RESULTS_LAYERS_PATH)"
   ]
  },
  {
   "cell_type": "code",
   "execution_count": 23,
   "metadata": {},
   "outputs": [
    {
     "name": "stdout",
     "output_type": "stream",
     "text": [
      "\n",
      "--------- PRETRAINING PHASE --------\n",
      "\n"
     ]
    },
    {
     "name": "stderr",
     "output_type": "stream",
     "text": [
      "Epoch 0: 100%|██████████| 16/16 [00:00<00:00, 131.15it/s]r/s]\n",
      "Epoch 1: 100%|██████████| 16/16 [00:00<00:00, 155.34it/s]\n",
      "Epoch 2: 100%|██████████| 16/16 [00:00<00:00, 172.04it/s]\n",
      "Epoch 3: 100%|██████████| 16/16 [00:00<00:00, 186.05it/s]\n",
      "Epoch 4: 100%|██████████| 16/16 [00:00<00:00, 188.23it/s]\n",
      "Epoch 5: 100%|██████████| 16/16 [00:00<00:00, 181.81it/s]\n",
      "Epoch 6: 100%|██████████| 16/16 [00:00<00:00, 177.78it/s]\n",
      "Epoch 7: 100%|██████████| 16/16 [00:00<00:00, 170.21it/s]\n",
      "Epoch 8: 100%|██████████| 16/16 [00:00<00:00, 170.21it/s]\n",
      "Epoch 9: 100%|██████████| 16/16 [00:00<00:00, 177.78it/s]\n",
      "Epoch 10: 100%|██████████| 16/16 [00:00<00:00, 163.27it/s]\n",
      "Epoch 11: 100%|██████████| 16/16 [00:00<00:00, 172.04it/s]\n",
      "Epoch 12: 100%|██████████| 16/16 [00:00<00:00, 153.84it/s]\n",
      "Epoch 13: 100%|██████████| 16/16 [00:00<00:00, 142.86it/s]\n",
      "Epoch 14: 100%|██████████| 16/16 [00:00<00:00, 120.25it/s]\n",
      "Epoch 15: 100%|██████████| 16/16 [00:00<00:00, 125.71it/s]\n",
      "Epoch 16: 100%|██████████| 16/16 [00:00<00:00, 144.56it/s]\n",
      "Epoch 17: 100%|██████████| 16/16 [00:00<00:00, 144.78it/s]\n",
      "Epoch 18: 100%|██████████| 16/16 [00:00<00:00, 120.30it/s]\n",
      "Epoch 19: 100%|██████████| 16/16 [00:00<00:00, 105.27it/s]\n",
      "Epoch 20: 100%|██████████| 16/16 [00:00<00:00, 110.35it/s]\n",
      "Epoch 21: 100%|██████████| 16/16 [00:00<00:00, 123.08it/s]\n",
      "Epoch 22: 100%|██████████| 16/16 [00:00<00:00, 114.28it/s]\n",
      "Epoch 23: 100%|██████████| 16/16 [00:00<00:00, 117.65it/s]\n",
      "Epoch 24: 100%|██████████| 16/16 [00:00<00:00, 137.94it/s]\n",
      "Epoch 25: 100%|██████████| 16/16 [00:00<00:00, 146.79it/s]\n",
      "Epoch 26: 100%|██████████| 16/16 [00:00<00:00, 148.15it/s]\n",
      "Epoch 27: 100%|██████████| 16/16 [00:00<00:00, 155.34it/s]\n",
      "Epoch 28: 100%|██████████| 16/16 [00:00<00:00, 141.59it/s]\n",
      "Epoch 29: 100%|██████████| 16/16 [00:00<00:00, 150.94it/s]\n",
      "Epoch 30: 100%|██████████| 16/16 [00:00<00:00, 163.26it/s]\n",
      "Epoch 31: 100%|██████████| 16/16 [00:00<00:00, 163.32it/s]\n",
      "Epoch 32: 100%|██████████| 16/16 [00:00<00:00, 153.89it/s]\n",
      "Epoch 33: 100%|██████████| 16/16 [00:00<00:00, 140.16it/s]\n",
      "Epoch 34: 100%|██████████| 16/16 [00:00<00:00, 153.74it/s]\n",
      "Epoch 35: 100%|██████████| 16/16 [00:00<00:00, 146.79it/s]\n",
      "Epoch 36: 100%|██████████| 16/16 [00:00<00:00, 139.14it/s]\n",
      "Epoch 37: 100%|██████████| 16/16 [00:00<00:00, 152.38it/s]\n",
      "Epoch 38: 100%|██████████| 16/16 [00:00<00:00, 49.54it/s]\n",
      "Epoch 39: 100%|██████████| 16/16 [00:00<00:00, 113.48it/s]\n",
      "Epoch 40: 100%|██████████| 16/16 [00:00<00:00, 150.94it/s]\n",
      "Epoch 41: 100%|██████████| 16/16 [00:00<00:00, 146.79it/s]\n",
      "Epoch 42: 100%|██████████| 16/16 [00:00<00:00, 149.53it/s]\n",
      "Epoch 43: 100%|██████████| 16/16 [00:00<00:00, 78.82it/s] \n",
      "Epoch 44: 100%|██████████| 16/16 [00:00<00:00, 132.24it/s]\n",
      "Epoch 45: 100%|██████████| 16/16 [00:00<00:00, 141.59it/s]\n",
      "Epoch 46: 100%|██████████| 16/16 [00:00<00:00, 133.34it/s]\n",
      "Epoch 47: 100%|██████████| 16/16 [00:00<00:00, 137.93it/s]\n",
      "Epoch 48: 100%|██████████| 16/16 [00:00<00:00, 131.15it/s]\n",
      "Epoch 49: 100%|██████████| 16/16 [00:00<00:00, 125.91it/s]\n",
      "Epoch 50: 100%|██████████| 16/16 [00:00<00:00, 124.86it/s]\n",
      "Epoch 51: 100%|██████████| 16/16 [00:00<00:00, 153.85it/s]\n",
      "Epoch 52: 100%|██████████| 16/16 [00:00<00:00, 150.95it/s]\n",
      "Epoch 53: 100%|██████████| 16/16 [00:00<00:00, 149.54it/s]\n",
      "Epoch 54: 100%|██████████| 16/16 [00:00<00:00, 141.59it/s]\n",
      "Epoch 55: 100%|██████████| 16/16 [00:00<00:00, 146.79it/s]\n",
      "Epoch 56: 100%|██████████| 16/16 [00:00<00:00, 144.15it/s]\n",
      "Epoch 57: 100%|██████████| 16/16 [00:00<00:00, 146.79it/s]\n",
      "Epoch 58: 100%|██████████| 16/16 [00:00<00:00, 142.86it/s]\n",
      "Epoch 59: 100%|██████████| 16/16 [00:00<00:00, 148.15it/s]\n",
      "Epoch 60: 100%|██████████| 16/16 [00:00<00:00, 145.45it/s]\n",
      "Epoch 61: 100%|██████████| 16/16 [00:00<00:00, 140.35it/s]\n",
      "Epoch 62: 100%|██████████| 16/16 [00:00<00:00, 152.38it/s]\n",
      "Epoch 63: 100%|██████████| 16/16 [00:00<00:00, 148.15it/s]\n",
      "Epoch 64: 100%|██████████| 16/16 [00:00<00:00, 141.59it/s]\n",
      "Epoch 65: 100%|██████████| 16/16 [00:00<00:00, 148.14it/s]\n",
      "Epoch 66: 100%|██████████| 16/16 [00:00<00:00, 153.85it/s]\n",
      "Epoch 67: 100%|██████████| 16/16 [00:00<00:00, 131.15it/s]\n",
      "Epoch 68: 100%|██████████| 16/16 [00:00<00:00, 109.69it/s]\n",
      "Epoch 69: 100%|██████████| 16/16 [00:00<00:00, 99.16it/s]\n",
      "Epoch 70: 100%|██████████| 16/16 [00:00<00:00, 165.76it/s]\n",
      "Epoch 71: 100%|██████████| 16/16 [00:00<00:00, 172.05it/s]\n",
      "Epoch 72: 100%|██████████| 16/16 [00:00<00:00, 166.67it/s]\n",
      "Epoch 73: 100%|██████████| 16/16 [00:00<00:00, 168.42it/s]\n",
      "Epoch 74: 100%|██████████| 16/16 [00:00<00:00, 148.15it/s]\n",
      "Epoch 75: 100%|██████████| 16/16 [00:00<00:00, 95.81it/s]\n",
      "Epoch 76: 100%|██████████| 16/16 [00:00<00:00, 164.95it/s]\n",
      "Epoch 77: 100%|██████████| 16/16 [00:00<00:00, 183.91it/s]\n",
      "Epoch 78: 100%|██████████| 16/16 [00:00<00:00, 179.75it/s]\n",
      "Epoch 79: 100%|██████████| 16/16 [00:00<00:00, 181.82it/s]\n",
      "Epoch 80: 100%|██████████| 16/16 [00:00<00:00, 183.91it/s]\n",
      "Epoch 81: 100%|██████████| 16/16 [00:00<00:00, 190.46it/s]\n",
      "Epoch 82: 100%|██████████| 16/16 [00:00<00:00, 144.14it/s]\n",
      "Epoch 83: 100%|██████████| 16/16 [00:00<00:00, 136.76it/s]\n",
      "Epoch 84: 100%|██████████| 16/16 [00:00<00:00, 183.91it/s]\n",
      "Epoch 85: 100%|██████████| 16/16 [00:00<00:00, 173.91it/s]\n",
      "Epoch 86: 100%|██████████| 16/16 [00:00<00:00, 179.78it/s]\n",
      "Epoch 87: 100%|██████████| 16/16 [00:00<00:00, 173.92it/s]\n",
      "Epoch 88: 100%|██████████| 16/16 [00:00<00:00, 149.53it/s]\n",
      "Epoch 89: 100%|██████████| 16/16 [00:00<00:00, 139.74it/s]\n",
      "Epoch 90: 100%|██████████| 16/16 [00:00<00:00, 138.23it/s]\n",
      "Epoch 91: 100%|██████████| 16/16 [00:00<00:00, 153.69it/s]\n",
      "Epoch 92: 100%|██████████| 16/16 [00:00<00:00, 161.62it/s]\n",
      "Epoch 93: 100%|██████████| 16/16 [00:00<00:00, 148.15it/s]\n",
      "Epoch 94: 100%|██████████| 16/16 [00:00<00:00, 135.59it/s]\n",
      "Epoch 95: 100%|██████████| 16/16 [00:00<00:00, 153.85it/s]\n",
      "Epoch 96: 100%|██████████| 16/16 [00:00<00:00, 150.94it/s]\n",
      "Epoch 97: 100%|██████████| 16/16 [00:00<00:00, 152.38it/s]\n",
      "Epoch 98: 100%|██████████| 16/16 [00:00<00:00, 144.14it/s]\n",
      "Epoch 99: 100%|██████████| 16/16 [00:00<00:00, 145.45it/s]\n",
      "Epoch 0: 100%|██████████| 16/16 [00:00<00:00, 516.06it/s]1.84s/layer]\n",
      "Epoch 1: 100%|██████████| 16/16 [00:00<00:00, 615.37it/s]\n",
      "Epoch 2: 100%|██████████| 16/16 [00:00<00:00, 326.52it/s]\n",
      "Epoch 3: 100%|██████████| 16/16 [00:00<00:00, 551.72it/s]\n",
      "Epoch 4: 100%|██████████| 16/16 [00:00<00:00, 516.13it/s]\n",
      "Epoch 5: 100%|██████████| 16/16 [00:00<00:00, 516.11it/s]\n",
      "Epoch 6: 100%|██████████| 16/16 [00:00<00:00, 551.72it/s]\n",
      "Epoch 7: 100%|██████████| 16/16 [00:00<00:00, 592.59it/s]\n",
      "Epoch 8: 100%|██████████| 16/16 [00:00<00:00, 551.72it/s]\n",
      "Epoch 9: 100%|██████████| 16/16 [00:00<00:00, 533.20it/s]\n",
      "Epoch 10: 100%|██████████| 16/16 [00:00<00:00, 470.59it/s]\n",
      "Epoch 11: 100%|██████████| 16/16 [00:00<00:00, 516.13it/s]\n",
      "Epoch 12: 100%|██████████| 16/16 [00:00<00:00, 551.71it/s]\n",
      "Epoch 13: 100%|██████████| 16/16 [00:00<00:00, 533.27it/s]\n",
      "Epoch 14: 100%|██████████| 16/16 [00:00<00:00, 571.42it/s]\n",
      "Epoch 15: 100%|██████████| 16/16 [00:00<00:00, 571.44it/s]\n",
      "Epoch 16: 100%|██████████| 16/16 [00:00<00:00, 484.92it/s]\n",
      "Epoch 17: 100%|██████████| 16/16 [00:00<00:00, 571.47it/s]\n",
      "Epoch 18: 100%|██████████| 16/16 [00:00<00:00, 484.84it/s]\n",
      "Epoch 19: 100%|██████████| 16/16 [00:00<00:00, 551.71it/s]\n",
      "Epoch 20: 100%|██████████| 16/16 [00:00<00:00, 533.33it/s]\n",
      "Epoch 21: 100%|██████████| 16/16 [00:00<00:00, 592.59it/s]\n",
      "Epoch 22: 100%|██████████| 16/16 [00:00<00:00, 516.13it/s]\n",
      "Epoch 23: 100%|██████████| 16/16 [00:00<00:00, 571.41it/s]\n",
      "Epoch 24: 100%|██████████| 16/16 [00:00<00:00, 533.37it/s]\n",
      "Epoch 25: 100%|██████████| 16/16 [00:00<00:00, 533.33it/s]\n",
      "Epoch 26: 100%|██████████| 16/16 [00:00<00:00, 516.07it/s]\n",
      "Epoch 27: 100%|██████████| 16/16 [00:00<00:00, 83.33it/s]\n",
      "Epoch 28: 100%|██████████| 16/16 [00:00<00:00, 300.07it/s]\n",
      "Epoch 29: 100%|██████████| 16/16 [00:00<00:00, 390.47it/s]\n",
      "Epoch 30: 100%|██████████| 16/16 [00:00<00:00, 277.03it/s]\n",
      "Epoch 31: 100%|██████████| 16/16 [00:00<00:00, 429.29it/s]\n",
      "Epoch 32: 100%|██████████| 16/16 [00:00<00:00, 615.63it/s]\n",
      "Epoch 33: 100%|██████████| 16/16 [00:00<00:00, 592.59it/s]\n",
      "Epoch 34: 100%|██████████| 16/16 [00:00<00:00, 571.45it/s]\n",
      "Epoch 35: 100%|██████████| 16/16 [00:00<00:00, 615.38it/s]\n",
      "Epoch 36: 100%|██████████| 16/16 [00:00<00:00, 571.45it/s]\n",
      "Epoch 37: 100%|██████████| 16/16 [00:00<00:00, 615.38it/s]\n",
      "Epoch 38: 100%|██████████| 16/16 [00:00<00:00, 592.59it/s]\n",
      "Epoch 39: 100%|██████████| 16/16 [00:00<00:00, 551.68it/s]\n",
      "Epoch 40: 100%|██████████| 16/16 [00:00<00:00, 592.60it/s]\n",
      "Epoch 41: 100%|██████████| 16/16 [00:00<00:00, 592.65it/s]\n",
      "Epoch 42: 100%|██████████| 16/16 [00:00<00:00, 592.64it/s]\n",
      "Epoch 43: 100%|██████████| 16/16 [00:00<00:00, 571.44it/s]\n",
      "Epoch 44: 100%|██████████| 16/16 [00:00<00:00, 516.14it/s]\n",
      "Epoch 45: 100%|██████████| 16/16 [00:00<00:00, 571.42it/s]\n",
      "Epoch 46: 100%|██████████| 16/16 [00:00<00:00, 639.95it/s]\n",
      "Epoch 47: 100%|██████████| 16/16 [00:00<00:00, 319.99it/s]\n",
      "Epoch 48: 100%|██████████| 16/16 [00:00<00:00, 592.55it/s]\n",
      "Epoch 49: 100%|██████████| 16/16 [00:00<00:00, 571.47it/s]\n",
      "Epoch 50: 100%|██████████| 16/16 [00:00<00:00, 571.42it/s]\n",
      "Epoch 51: 100%|██████████| 16/16 [00:00<00:00, 615.37it/s]\n",
      "Epoch 52: 100%|██████████| 16/16 [00:00<00:00, 551.68it/s]\n",
      "Epoch 53: 100%|██████████| 16/16 [00:00<00:00, 571.39it/s]\n",
      "Epoch 54: 100%|██████████| 16/16 [00:00<00:00, 592.58it/s]\n",
      "Epoch 55: 100%|██████████| 16/16 [00:00<00:00, 551.76it/s]\n",
      "Epoch 56: 100%|██████████| 16/16 [00:00<00:00, 615.42it/s]\n",
      "Epoch 57: 100%|██████████| 16/16 [00:00<00:00, 571.45it/s]\n",
      "Epoch 58: 100%|██████████| 16/16 [00:00<00:00, 639.96it/s]\n",
      "Epoch 59: 100%|██████████| 16/16 [00:00<00:00, 551.73it/s]\n",
      "Epoch 60: 100%|██████████| 16/16 [00:00<00:00, 592.60it/s]\n",
      "Epoch 61: 100%|██████████| 16/16 [00:00<00:00, 551.71it/s]\n",
      "Epoch 62: 100%|██████████| 16/16 [00:00<00:00, 551.79it/s]\n",
      "Epoch 63: 100%|██████████| 16/16 [00:00<00:00, 615.36it/s]\n",
      "Epoch 64: 100%|██████████| 16/16 [00:00<00:00, 592.52it/s]\n",
      "Epoch 65: 100%|██████████| 16/16 [00:00<00:00, 551.71it/s]\n",
      "Epoch 66: 100%|██████████| 16/16 [00:00<00:00, 592.59it/s]\n",
      "Epoch 67: 100%|██████████| 16/16 [00:00<00:00, 592.58it/s]\n",
      "Epoch 68: 100%|██████████| 16/16 [00:00<00:00, 551.75it/s]\n",
      "Epoch 69: 100%|██████████| 16/16 [00:00<00:00, 592.56it/s]\n",
      "Epoch 70: 100%|██████████| 16/16 [00:00<00:00, 615.41it/s]\n",
      "Epoch 71: 100%|██████████| 16/16 [00:00<00:00, 516.13it/s]\n",
      "Epoch 72: 100%|██████████| 16/16 [00:00<00:00, 571.42it/s]\n",
      "Epoch 73: 100%|██████████| 16/16 [00:00<00:00, 592.60it/s]\n",
      "Epoch 74: 100%|██████████| 16/16 [00:00<00:00, 551.76it/s]\n",
      "Epoch 75: 100%|██████████| 16/16 [00:00<00:00, 571.28it/s]\n",
      "Epoch 76: 100%|██████████| 16/16 [00:00<00:00, 571.40it/s]\n",
      "Epoch 77: 100%|██████████| 16/16 [00:00<00:00, 516.15it/s]\n",
      "Epoch 78: 100%|██████████| 16/16 [00:00<00:00, 615.37it/s]\n",
      "Epoch 79: 100%|██████████| 16/16 [00:00<00:00, 615.37it/s]\n",
      "Epoch 80: 100%|██████████| 16/16 [00:00<00:00, 592.64it/s]\n",
      "Epoch 81: 100%|██████████| 16/16 [00:00<00:00, 592.61it/s]\n",
      "Epoch 82: 100%|██████████| 16/16 [00:00<00:00, 571.45it/s]\n",
      "Epoch 83: 100%|██████████| 16/16 [00:00<00:00, 533.33it/s]\n",
      "Epoch 84: 100%|██████████| 16/16 [00:00<00:00, 551.70it/s]\n",
      "Epoch 85: 100%|██████████| 16/16 [00:00<00:00, 592.59it/s]\n",
      "Epoch 86: 100%|██████████| 16/16 [00:00<00:00, 533.34it/s]\n",
      "Epoch 87: 100%|██████████| 16/16 [00:00<00:00, 592.61it/s]\n",
      "Epoch 88: 100%|██████████| 16/16 [00:00<00:00, 571.47it/s]\n",
      "Epoch 89: 100%|██████████| 16/16 [00:00<00:00, 571.49it/s]\n",
      "Epoch 90: 100%|██████████| 16/16 [00:00<00:00, 347.84it/s]\n",
      "Epoch 91: 100%|██████████| 16/16 [00:00<00:00, 533.33it/s]\n",
      "Epoch 92: 100%|██████████| 16/16 [00:00<00:00, 421.08it/s]\n",
      "Epoch 93: 100%|██████████| 16/16 [00:00<00:00, 492.44it/s]\n",
      "Epoch 94: 100%|██████████| 16/16 [00:00<00:00, 481.43it/s]\n",
      "Epoch 95: 100%|██████████| 16/16 [00:00<00:00, 525.64it/s]\n",
      "Epoch 96: 100%|██████████| 16/16 [00:00<00:00, 557.67it/s]\n",
      "Epoch 97: 100%|██████████| 16/16 [00:00<00:00, 536.93it/s]\n",
      "Epoch 98: 100%|██████████| 16/16 [00:00<00:00, 592.66it/s]\n",
      "Epoch 99: 100%|██████████| 16/16 [00:00<00:00, 592.59it/s]\n",
      "Training RBM layers: 100%|██████████| 2/2 [00:15<00:00,  7.76s/layer]\n"
     ]
    },
    {
     "name": "stdout",
     "output_type": "stream",
     "text": [
      "\n",
      "\n",
      "--------- BACKPROPAGATION --------\n"
     ]
    },
    {
     "name": "stderr",
     "output_type": "stream",
     "text": [
      "Training:   2%|▏         | 4/200 [00:00<00:05, 38.46epoch/s]"
     ]
    },
    {
     "name": "stdout",
     "output_type": "stream",
     "text": [
      "Epoch 1/200, Cross Entropy: 2.279015963847422\n",
      "Epoch 2/200, Cross Entropy: 2.275647539268479\n",
      "Epoch 3/200, Cross Entropy: 2.2751890027256225\n",
      "Epoch 4/200, Cross Entropy: 2.275112789866225\n",
      "Epoch 5/200, Cross Entropy: 2.2750984857372583\n",
      "Epoch 6/200, Cross Entropy: 2.2750955477996264\n",
      "Epoch 7/200, Cross Entropy: 2.2750949041662794\n"
     ]
    },
    {
     "name": "stderr",
     "output_type": "stream",
     "text": [
      "Training:   2%|▏         | 4/200 [00:00<00:05, 38.46epoch/s]"
     ]
    },
    {
     "name": "stdout",
     "output_type": "stream",
     "text": [
      "Epoch 8/200, Cross Entropy: 2.275094756924472\n"
     ]
    },
    {
     "name": "stderr",
     "output_type": "stream",
     "text": [
      "Training:   4%|▍         | 9/200 [00:00<00:04, 42.90epoch/s]"
     ]
    },
    {
     "name": "stdout",
     "output_type": "stream",
     "text": [
      "Epoch 9/200, Cross Entropy: 2.2750947222890368\n",
      "Epoch 10/200, Cross Entropy: 2.275094713996152\n"
     ]
    },
    {
     "name": "stderr",
     "output_type": "stream",
     "text": [
      "Training:   7%|▋         | 14/200 [00:00<00:08, 22.78epoch/s]"
     ]
    },
    {
     "name": "stdout",
     "output_type": "stream",
     "text": [
      "Epoch 11/200, Cross Entropy: 2.275094711987703\n",
      "Epoch 12/200, Cross Entropy: 2.275094711497536\n",
      "Epoch 13/200, Cross Entropy: 2.2750947113772604\n",
      "Epoch 14/200, Cross Entropy: 2.275094711347625\n",
      "Epoch 15/200, Cross Entropy: 2.2750947113402966\n",
      "Epoch 16/200, Cross Entropy: 2.2750947113384754\n"
     ]
    },
    {
     "name": "stderr",
     "output_type": "stream",
     "text": [
      "Training:  12%|█▏        | 23/200 [00:00<00:05, 30.32epoch/s]"
     ]
    },
    {
     "name": "stdout",
     "output_type": "stream",
     "text": [
      "Epoch 17/200, Cross Entropy: 2.2750947113380176\n",
      "Epoch 18/200, Cross Entropy: 2.275094711337898\n",
      "Epoch 19/200, Cross Entropy: 2.275094711337862\n",
      "Epoch 20/200, Cross Entropy: 2.2750947113378475\n",
      "Epoch 21/200, Cross Entropy: 2.275094711337838\n",
      "Epoch 22/200, Cross Entropy: 2.27509471133783\n",
      "Epoch 23/200, Cross Entropy: 2.2750947113378226\n",
      "Epoch 24/200, Cross Entropy: 2.2750947113378146\n"
     ]
    },
    {
     "name": "stderr",
     "output_type": "stream",
     "text": [
      "Training:  16%|█▋        | 33/200 [00:01<00:04, 37.04epoch/s]"
     ]
    },
    {
     "name": "stdout",
     "output_type": "stream",
     "text": [
      "Epoch 25/200, Cross Entropy: 2.2750947113378066\n",
      "Epoch 26/200, Cross Entropy: 2.275094711337799\n",
      "Epoch 27/200, Cross Entropy: 2.2750947113377915\n",
      "Epoch 28/200, Cross Entropy: 2.275094711337784\n",
      "Epoch 29/200, Cross Entropy: 2.2750947113377764\n",
      "Epoch 30/200, Cross Entropy: 2.2750947113377684\n",
      "Epoch 31/200, Cross Entropy: 2.275094711337761\n",
      "Epoch 32/200, Cross Entropy: 2.2750947113377533\n",
      "Epoch 33/200, Cross Entropy: 2.2750947113377458\n"
     ]
    },
    {
     "name": "stderr",
     "output_type": "stream",
     "text": [
      "Training:  19%|█▉        | 38/200 [00:01<00:04, 38.52epoch/s]"
     ]
    },
    {
     "name": "stdout",
     "output_type": "stream",
     "text": [
      "Epoch 34/200, Cross Entropy: 2.2750947113377378\n",
      "Epoch 35/200, Cross Entropy: 2.2750947113377302\n",
      "Epoch 36/200, Cross Entropy: 2.2750947113377222\n",
      "Epoch 37/200, Cross Entropy: 2.2750947113377142\n",
      "Epoch 38/200, Cross Entropy: 2.275094711337707\n",
      "Epoch 39/200, Cross Entropy: 2.2750947113376996\n",
      "Epoch 40/200, Cross Entropy: 2.2750947113376916\n",
      "Epoch 41/200, Cross Entropy: 2.275094711337684\n"
     ]
    },
    {
     "name": "stderr",
     "output_type": "stream",
     "text": [
      "Training:  24%|██▍       | 48/200 [00:01<00:03, 40.21epoch/s]"
     ]
    },
    {
     "name": "stdout",
     "output_type": "stream",
     "text": [
      "Epoch 42/200, Cross Entropy: 2.2750947113376765\n",
      "Epoch 43/200, Cross Entropy: 2.275094711337669\n",
      "Epoch 44/200, Cross Entropy: 2.275094711337661\n",
      "Epoch 45/200, Cross Entropy: 2.2750947113376534\n",
      "Epoch 46/200, Cross Entropy: 2.2750947113376454\n",
      "Epoch 47/200, Cross Entropy: 2.275094711337638\n",
      "Epoch 48/200, Cross Entropy: 2.2750947113376303\n",
      "Epoch 49/200, Cross Entropy: 2.2750947113376228\n"
     ]
    },
    {
     "name": "stderr",
     "output_type": "stream",
     "text": [
      "                                                             "
     ]
    },
    {
     "name": "stdout",
     "output_type": "stream",
     "text": [
      "Epoch 50/200, Cross Entropy: 2.2750947113376148\n",
      "Epoch 51/200, Cross Entropy: 2.275094711337607\n",
      "Epoch 52/200, Cross Entropy: 2.275094711337599\n",
      "Epoch 53/200, Cross Entropy: 2.2750947113375917\n",
      "Epoch 54/200, Cross Entropy: 2.2750947113375846\n",
      "Epoch 55/200, Cross Entropy: 2.2750947113375766\n",
      "Epoch 56/200, Cross Entropy: 2.2750947113375686\n",
      "Epoch 57/200, Cross Entropy: 2.2750947113375615\n"
     ]
    },
    {
     "name": "stderr",
     "output_type": "stream",
     "text": [
      "Training:  32%|███▏      | 63/200 [00:01<00:03, 42.15epoch/s]"
     ]
    },
    {
     "name": "stdout",
     "output_type": "stream",
     "text": [
      "Epoch 58/200, Cross Entropy: 2.2750947113375535\n",
      "Epoch 59/200, Cross Entropy: 2.275094711337546\n",
      "Epoch 60/200, Cross Entropy: 2.2750947113375384\n",
      "Epoch 61/200, Cross Entropy: 2.2750947113375304\n",
      "Epoch 62/200, Cross Entropy: 2.2750947113375224\n",
      "Epoch 63/200, Cross Entropy: 2.275094711337515\n",
      "Epoch 64/200, Cross Entropy: 2.2750947113375077\n",
      "Epoch 65/200, Cross Entropy: 2.2750947113374993\n"
     ]
    },
    {
     "name": "stderr",
     "output_type": "stream",
     "text": [
      "Training:  36%|███▋      | 73/200 [00:01<00:03, 41.10epoch/s]"
     ]
    },
    {
     "name": "stdout",
     "output_type": "stream",
     "text": [
      "Epoch 66/200, Cross Entropy: 2.275094711337492\n",
      "Epoch 67/200, Cross Entropy: 2.275094711337484\n",
      "Epoch 68/200, Cross Entropy: 2.2750947113374766\n",
      "Epoch 69/200, Cross Entropy: 2.275094711337469\n",
      "Epoch 70/200, Cross Entropy: 2.275094711337461\n",
      "Epoch 71/200, Cross Entropy: 2.2750947113374536\n",
      "Epoch 72/200, Cross Entropy: 2.275094711337446\n",
      "Epoch 73/200, Cross Entropy: 2.2750947113374385\n"
     ]
    },
    {
     "name": "stderr",
     "output_type": "stream",
     "text": [
      "Training:  39%|███▉      | 78/200 [00:02<00:03, 38.94epoch/s]"
     ]
    },
    {
     "name": "stdout",
     "output_type": "stream",
     "text": [
      "Epoch 74/200, Cross Entropy: 2.2750947113374305\n",
      "Epoch 75/200, Cross Entropy: 2.275094711337423\n",
      "Epoch 76/200, Cross Entropy: 2.2750947113374154\n",
      "Epoch 77/200, Cross Entropy: 2.2750947113374074\n",
      "Epoch 78/200, Cross Entropy: 2.2750947113374\n"
     ]
    },
    {
     "name": "stderr",
     "output_type": "stream",
     "text": [
      "Training:  41%|████      | 82/200 [00:02<00:04, 27.14epoch/s]"
     ]
    },
    {
     "name": "stdout",
     "output_type": "stream",
     "text": [
      "Epoch 79/200, Cross Entropy: 2.2750947113373923\n",
      "Epoch 80/200, Cross Entropy: 2.2750947113373847\n",
      "Epoch 81/200, Cross Entropy: 2.2750947113373767\n",
      "Epoch 82/200, Cross Entropy: 2.275094711337369\n",
      "Epoch 83/200, Cross Entropy: 2.275094711337361\n",
      "Epoch 84/200, Cross Entropy: 2.2750947113373536\n",
      "Epoch 85/200, Cross Entropy: 2.275094711337346\n"
     ]
    },
    {
     "name": "stderr",
     "output_type": "stream",
     "text": [
      "Training:  45%|████▌     | 90/200 [00:02<00:03, 31.13epoch/s]"
     ]
    },
    {
     "name": "stdout",
     "output_type": "stream",
     "text": [
      "Epoch 86/200, Cross Entropy: 2.275094711337338\n",
      "Epoch 87/200, Cross Entropy: 2.2750947113373305\n",
      "Epoch 88/200, Cross Entropy: 2.275094711337323\n",
      "Epoch 89/200, Cross Entropy: 2.2750947113373154\n",
      "Epoch 90/200, Cross Entropy: 2.2750947113373075\n",
      "Epoch 91/200, Cross Entropy: 2.2750947113373003\n",
      "Epoch 92/200, Cross Entropy: 2.2750947113372924\n"
     ]
    },
    {
     "name": "stderr",
     "output_type": "stream",
     "text": [
      "Training:  50%|█████     | 100/200 [00:02<00:02, 36.27epoch/s]"
     ]
    },
    {
     "name": "stdout",
     "output_type": "stream",
     "text": [
      "Epoch 93/200, Cross Entropy: 2.275094711337285\n",
      "Epoch 94/200, Cross Entropy: 2.2750947113372773\n",
      "Epoch 95/200, Cross Entropy: 2.2750947113372693\n",
      "Epoch 96/200, Cross Entropy: 2.2750947113372613\n",
      "Epoch 97/200, Cross Entropy: 2.275094711337254\n",
      "Epoch 98/200, Cross Entropy: 2.275094711337246\n",
      "Epoch 99/200, Cross Entropy: 2.275094711337238\n",
      "Epoch 100/200, Cross Entropy: 2.2750947113372306\n"
     ]
    },
    {
     "name": "stderr",
     "output_type": "stream",
     "text": [
      "Training:  52%|█████▎    | 105/200 [00:03<00:02, 38.26epoch/s]"
     ]
    },
    {
     "name": "stdout",
     "output_type": "stream",
     "text": [
      "Epoch 101/200, Cross Entropy: 2.275094711337223\n",
      "Epoch 102/200, Cross Entropy: 2.2750947113372155\n",
      "Epoch 103/200, Cross Entropy: 2.275094711337208\n",
      "Epoch 104/200, Cross Entropy: 2.2750947113372\n",
      "Epoch 105/200, Cross Entropy: 2.2750947113371924\n",
      "Epoch 106/200, Cross Entropy: 2.275094711337185\n",
      "Epoch 107/200, Cross Entropy: 2.2750947113371773\n",
      "Epoch 108/200, Cross Entropy: 2.2750947113371693\n",
      "Epoch 109/200, Cross Entropy: 2.275094711337162\n"
     ]
    },
    {
     "name": "stderr",
     "output_type": "stream",
     "text": [
      "Training:  57%|█████▊    | 115/200 [00:03<00:02, 40.71epoch/s]"
     ]
    },
    {
     "name": "stdout",
     "output_type": "stream",
     "text": [
      "Epoch 110/200, Cross Entropy: 2.275094711337154\n",
      "Epoch 111/200, Cross Entropy: 2.2750947113371462\n",
      "Epoch 112/200, Cross Entropy: 2.2750947113371387\n",
      "Epoch 113/200, Cross Entropy: 2.275094711337131\n",
      "Epoch 114/200, Cross Entropy: 2.275094711337123\n",
      "Epoch 115/200, Cross Entropy: 2.2750947113371156\n",
      "Epoch 116/200, Cross Entropy: 2.2750947113371076\n",
      "Epoch 117/200, Cross Entropy: 2.2750947113371005\n"
     ]
    },
    {
     "name": "stderr",
     "output_type": "stream",
     "text": [
      "Training:  62%|██████▎   | 125/200 [00:03<00:01, 41.73epoch/s]"
     ]
    },
    {
     "name": "stdout",
     "output_type": "stream",
     "text": [
      "Epoch 118/200, Cross Entropy: 2.2750947113370925\n",
      "Epoch 119/200, Cross Entropy: 2.2750947113370854\n",
      "Epoch 120/200, Cross Entropy: 2.275094711337077\n",
      "Epoch 121/200, Cross Entropy: 2.2750947113370694\n",
      "Epoch 122/200, Cross Entropy: 2.275094711337062\n",
      "Epoch 123/200, Cross Entropy: 2.2750947113370543\n",
      "Epoch 124/200, Cross Entropy: 2.2750947113370463\n",
      "Epoch 125/200, Cross Entropy: 2.2750947113370388\n"
     ]
    },
    {
     "name": "stderr",
     "output_type": "stream",
     "text": [
      "Training:  65%|██████▌   | 130/200 [00:03<00:01, 41.92epoch/s]"
     ]
    },
    {
     "name": "stdout",
     "output_type": "stream",
     "text": [
      "Epoch 126/200, Cross Entropy: 2.2750947113370312\n",
      "Epoch 127/200, Cross Entropy: 2.2750947113370232\n",
      "Epoch 128/200, Cross Entropy: 2.275094711337016\n",
      "Epoch 129/200, Cross Entropy: 2.275094711337008\n",
      "Epoch 130/200, Cross Entropy: 2.2750947113370006\n",
      "Epoch 131/200, Cross Entropy: 2.2750947113369926\n",
      "Epoch 132/200, Cross Entropy: 2.275094711336985\n",
      "Epoch 133/200, Cross Entropy: 2.2750947113369775\n"
     ]
    },
    {
     "name": "stderr",
     "output_type": "stream",
     "text": [
      "Training:  70%|███████   | 140/200 [00:03<00:01, 42.24epoch/s]"
     ]
    },
    {
     "name": "stdout",
     "output_type": "stream",
     "text": [
      "Epoch 134/200, Cross Entropy: 2.27509471133697\n",
      "Epoch 135/200, Cross Entropy: 2.2750947113369624\n",
      "Epoch 136/200, Cross Entropy: 2.275094711336955\n",
      "Epoch 137/200, Cross Entropy: 2.2750947113369464\n",
      "Epoch 138/200, Cross Entropy: 2.275094711336939\n",
      "Epoch 139/200, Cross Entropy: 2.275094711336931\n",
      "Epoch 140/200, Cross Entropy: 2.2750947113369238\n",
      "Epoch 141/200, Cross Entropy: 2.2750947113369158\n"
     ]
    },
    {
     "name": "stderr",
     "output_type": "stream",
     "text": [
      "Training:  72%|███████▎  | 145/200 [00:03<00:01, 41.43epoch/s]"
     ]
    },
    {
     "name": "stdout",
     "output_type": "stream",
     "text": [
      "Epoch 142/200, Cross Entropy: 2.2750947113369078\n",
      "Epoch 143/200, Cross Entropy: 2.2750947113369007\n",
      "Epoch 144/200, Cross Entropy: 2.275094711336893\n",
      "Epoch 145/200, Cross Entropy: 2.275094711336885\n",
      "Epoch 146/200, Cross Entropy: 2.2750947113368776\n",
      "Epoch 147/200, Cross Entropy: 2.2750947113368696\n",
      "Epoch 148/200, Cross Entropy: 2.275094711336862\n",
      "Epoch 149/200, Cross Entropy: 2.2750947113368545\n"
     ]
    },
    {
     "name": "stderr",
     "output_type": "stream",
     "text": [
      "Training:  77%|███████▋  | 154/200 [00:04<00:01, 29.69epoch/s]"
     ]
    },
    {
     "name": "stdout",
     "output_type": "stream",
     "text": [
      "Epoch 150/200, Cross Entropy: 2.275094711336847\n",
      "Epoch 151/200, Cross Entropy: 2.2750947113368394\n",
      "Epoch 152/200, Cross Entropy: 2.2750947113368314\n",
      "Epoch 153/200, Cross Entropy: 2.2750947113368243\n",
      "Epoch 154/200, Cross Entropy: 2.2750947113368163\n",
      "Epoch 155/200, Cross Entropy: 2.2750947113368083\n"
     ]
    },
    {
     "name": "stderr",
     "output_type": "stream",
     "text": [
      "Training:  81%|████████  | 162/200 [00:04<00:01, 32.29epoch/s]"
     ]
    },
    {
     "name": "stdout",
     "output_type": "stream",
     "text": [
      "Epoch 156/200, Cross Entropy: 2.275094711336801\n",
      "Epoch 157/200, Cross Entropy: 2.2750947113367928\n",
      "Epoch 158/200, Cross Entropy: 2.275094711336785\n",
      "Epoch 159/200, Cross Entropy: 2.2750947113367777\n",
      "Epoch 160/200, Cross Entropy: 2.27509471133677\n",
      "Epoch 161/200, Cross Entropy: 2.275094711336762\n",
      "Epoch 162/200, Cross Entropy: 2.2750947113367546\n"
     ]
    },
    {
     "name": "stderr",
     "output_type": "stream",
     "text": [
      "Training:  83%|████████▎ | 166/200 [00:04<00:01, 33.24epoch/s]"
     ]
    },
    {
     "name": "stdout",
     "output_type": "stream",
     "text": [
      "Epoch 163/200, Cross Entropy: 2.2750947113367466\n",
      "Epoch 164/200, Cross Entropy: 2.2750947113367395\n",
      "Epoch 165/200, Cross Entropy: 2.275094711336732\n",
      "Epoch 166/200, Cross Entropy: 2.275094711336724\n",
      "Epoch 167/200, Cross Entropy: 2.275094711336716\n",
      "Epoch 168/200, Cross Entropy: 2.275094711336709\n",
      "Epoch 169/200, Cross Entropy: 2.2750947113367013\n",
      "Epoch 170/200, Cross Entropy: 2.2750947113366933\n"
     ]
    },
    {
     "name": "stderr",
     "output_type": "stream",
     "text": [
      "Training:  88%|████████▊ | 176/200 [00:04<00:00, 38.02epoch/s]"
     ]
    },
    {
     "name": "stdout",
     "output_type": "stream",
     "text": [
      "Epoch 171/200, Cross Entropy: 2.2750947113366857\n",
      "Epoch 172/200, Cross Entropy: 2.2750947113366777\n",
      "Epoch 173/200, Cross Entropy: 2.2750947113366697\n",
      "Epoch 174/200, Cross Entropy: 2.2750947113366626\n",
      "Epoch 175/200, Cross Entropy: 2.275094711336655\n",
      "Epoch 176/200, Cross Entropy: 2.275094711336647\n",
      "Epoch 177/200, Cross Entropy: 2.2750947113366395\n",
      "Epoch 178/200, Cross Entropy: 2.2750947113366315\n"
     ]
    },
    {
     "name": "stderr",
     "output_type": "stream",
     "text": [
      "Training:  93%|█████████▎| 186/200 [00:05<00:00, 39.54epoch/s]"
     ]
    },
    {
     "name": "stdout",
     "output_type": "stream",
     "text": [
      "Epoch 179/200, Cross Entropy: 2.2750947113366244\n",
      "Epoch 180/200, Cross Entropy: 2.2750947113366164\n",
      "Epoch 181/200, Cross Entropy: 2.275094711336609\n",
      "Epoch 182/200, Cross Entropy: 2.275094711336601\n",
      "Epoch 183/200, Cross Entropy: 2.2750947113365934\n",
      "Epoch 184/200, Cross Entropy: 2.275094711336586\n",
      "Epoch 185/200, Cross Entropy: 2.2750947113365783\n",
      "Epoch 186/200, Cross Entropy: 2.2750947113365703\n"
     ]
    },
    {
     "name": "stderr",
     "output_type": "stream",
     "text": [
      "Training:  96%|█████████▌| 191/200 [00:05<00:00, 39.97epoch/s]"
     ]
    },
    {
     "name": "stdout",
     "output_type": "stream",
     "text": [
      "Epoch 187/200, Cross Entropy: 2.2750947113365627\n",
      "Epoch 188/200, Cross Entropy: 2.2750947113365547\n",
      "Epoch 189/200, Cross Entropy: 2.275094711336547\n",
      "Epoch 190/200, Cross Entropy: 2.27509471133654\n",
      "Epoch 191/200, Cross Entropy: 2.275094711336532\n",
      "Epoch 192/200, Cross Entropy: 2.275094711336524\n",
      "Epoch 193/200, Cross Entropy: 2.2750947113365165\n",
      "Epoch 194/200, Cross Entropy: 2.2750947113365085\n"
     ]
    },
    {
     "name": "stderr",
     "output_type": "stream",
     "text": [
      "Training: 100%|██████████| 200/200 [00:05<00:00, 36.66epoch/s]\n"
     ]
    },
    {
     "name": "stdout",
     "output_type": "stream",
     "text": [
      "Epoch 195/200, Cross Entropy: 2.275094711336501\n",
      "Epoch 196/200, Cross Entropy: 2.2750947113364934\n",
      "Epoch 197/200, Cross Entropy: 2.275094711336486\n",
      "Epoch 198/200, Cross Entropy: 2.275094711336478\n",
      "Epoch 199/200, Cross Entropy: 2.275094711336471\n",
      "Epoch 200/200, Cross Entropy: 2.275094711336463\n"
     ]
    },
    {
     "name": "stderr",
     "output_type": "stream",
     "text": [
      "Training:   0%|          | 0/200 [00:00<?, ?epoch/s]"
     ]
    },
    {
     "name": "stdout",
     "output_type": "stream",
     "text": [
      "Epoch 1/200, Cross Entropy: 2.0593839758314885\n"
     ]
    },
    {
     "name": "stderr",
     "output_type": "stream",
     "text": [
      "Training:   2%|▏         | 4/200 [00:00<00:06, 30.30epoch/s]"
     ]
    },
    {
     "name": "stdout",
     "output_type": "stream",
     "text": [
      "Epoch 2/200, Cross Entropy: 1.9431192361796612\n",
      "Epoch 3/200, Cross Entropy: 1.8911516662384187\n",
      "Epoch 4/200, Cross Entropy: 1.8640406091154893\n",
      "Epoch 5/200, Cross Entropy: 1.8480906178022387\n",
      "Epoch 6/200, Cross Entropy: 1.8378271329435667\n",
      "Epoch 7/200, Cross Entropy: 1.8307693647576866\n"
     ]
    },
    {
     "name": "stderr",
     "output_type": "stream",
     "text": [
      "                                                            "
     ]
    },
    {
     "name": "stdout",
     "output_type": "stream",
     "text": [
      "Epoch 8/200, Cross Entropy: 1.8256670103561192\n"
     ]
    },
    {
     "name": "stderr",
     "output_type": "stream",
     "text": [
      "Training:   4%|▍         | 9/200 [00:00<00:05, 36.04epoch/s]"
     ]
    },
    {
     "name": "stdout",
     "output_type": "stream",
     "text": [
      "Epoch 9/200, Cross Entropy: 1.821833262518171\n"
     ]
    },
    {
     "name": "stderr",
     "output_type": "stream",
     "text": [
      "Training:   6%|▋         | 13/200 [00:00<00:08, 21.33epoch/s]"
     ]
    },
    {
     "name": "stdout",
     "output_type": "stream",
     "text": [
      "Epoch 10/200, Cross Entropy: 1.8188643577353063\n",
      "Epoch 11/200, Cross Entropy: 1.8165097413989848\n",
      "Epoch 12/200, Cross Entropy: 1.8146068308215828\n",
      "Epoch 13/200, Cross Entropy: 1.8130460033007119\n",
      "Epoch 14/200, Cross Entropy: 1.8117508029381184\n",
      "Epoch 15/200, Cross Entropy: 1.8106662729856304\n",
      "Epoch 16/200, Cross Entropy: 1.809751831668796\n"
     ]
    },
    {
     "name": "stderr",
     "output_type": "stream",
     "text": [
      "Training:  11%|█         | 22/200 [00:00<00:06, 28.88epoch/s]"
     ]
    },
    {
     "name": "stdout",
     "output_type": "stream",
     "text": [
      "Epoch 17/200, Cross Entropy: 1.808976785195788\n",
      "Epoch 18/200, Cross Entropy: 1.8083174207000958\n",
      "Epoch 19/200, Cross Entropy: 1.8077550727637604\n",
      "Epoch 20/200, Cross Entropy: 1.8072748056620107\n",
      "Epoch 21/200, Cross Entropy: 1.8068644946197245\n",
      "Epoch 22/200, Cross Entropy: 1.806514171659194\n",
      "Epoch 23/200, Cross Entropy: 1.8062155507380062\n",
      "Epoch 24/200, Cross Entropy: 1.8059616768546434\n"
     ]
    },
    {
     "name": "stderr",
     "output_type": "stream",
     "text": [
      "Training:  16%|█▌        | 32/200 [00:01<00:04, 35.49epoch/s]"
     ]
    },
    {
     "name": "stdout",
     "output_type": "stream",
     "text": [
      "Epoch 25/200, Cross Entropy: 1.8057466624913008\n",
      "Epoch 26/200, Cross Entropy: 1.8055654866610482\n",
      "Epoch 27/200, Cross Entropy: 1.8054138395515054\n",
      "Epoch 28/200, Cross Entropy: 1.8052880008692298\n",
      "Epoch 29/200, Cross Entropy: 1.805184743432985\n",
      "Epoch 30/200, Cross Entropy: 1.8051012559236184\n",
      "Epoch 31/200, Cross Entropy: 1.8050350803401627\n",
      "Epoch 32/200, Cross Entropy: 1.8049840608709218\n"
     ]
    },
    {
     "name": "stderr",
     "output_type": "stream",
     "text": [
      "Training:  18%|█▊        | 36/200 [00:01<00:04, 36.28epoch/s]"
     ]
    },
    {
     "name": "stdout",
     "output_type": "stream",
     "text": [
      "Epoch 33/200, Cross Entropy: 1.8049463017175014\n",
      "Epoch 34/200, Cross Entropy: 1.804920132010297\n",
      "Epoch 35/200, Cross Entropy: 1.804904076393807\n",
      "Epoch 36/200, Cross Entropy: 1.80489683018575\n",
      "Epoch 37/200, Cross Entropy: 1.8048972382573478\n",
      "Epoch 38/200, Cross Entropy: 1.8049042769657646\n",
      "Epoch 39/200, Cross Entropy: 1.8049170386094242\n"
     ]
    },
    {
     "name": "stderr",
     "output_type": "stream",
     "text": [
      "Training:  22%|██▏       | 44/200 [00:01<00:04, 35.39epoch/s]"
     ]
    },
    {
     "name": "stdout",
     "output_type": "stream",
     "text": [
      "Epoch 40/200, Cross Entropy: 1.8049347179841377\n",
      "Epoch 41/200, Cross Entropy: 1.8049566007008686\n",
      "Epoch 42/200, Cross Entropy: 1.8049820529905616\n",
      "Epoch 43/200, Cross Entropy: 1.8050105127721054\n",
      "Epoch 44/200, Cross Entropy: 1.8050414817995546\n",
      "Epoch 45/200, Cross Entropy: 1.8050745187365755\n",
      "Epoch 46/200, Cross Entropy: 1.8051092330315526\n"
     ]
    },
    {
     "name": "stderr",
     "output_type": "stream",
     "text": [
      "Training:  26%|██▋       | 53/200 [00:01<00:03, 38.61epoch/s]"
     ]
    },
    {
     "name": "stdout",
     "output_type": "stream",
     "text": [
      "Epoch 47/200, Cross Entropy: 1.805145279487362\n",
      "Epoch 48/200, Cross Entropy: 1.8051823534364537\n",
      "Epoch 49/200, Cross Entropy: 1.805220186445495\n",
      "Epoch 50/200, Cross Entropy: 1.8052585424849699\n",
      "Epoch 51/200, Cross Entropy: 1.8052972145083686\n",
      "Epoch 52/200, Cross Entropy: 1.8053360213932532\n",
      "Epoch 53/200, Cross Entropy: 1.8053748052029026\n",
      "Epoch 54/200, Cross Entropy: 1.8054134287326224\n"
     ]
    },
    {
     "name": "stderr",
     "output_type": "stream",
     "text": [
      "Training:  31%|███       | 62/200 [00:01<00:03, 40.42epoch/s]"
     ]
    },
    {
     "name": "stdout",
     "output_type": "stream",
     "text": [
      "Epoch 55/200, Cross Entropy: 1.805451773309375\n",
      "Epoch 56/200, Cross Entropy: 1.8054897368172476\n",
      "Epoch 57/200, Cross Entropy: 1.8055272319246143\n",
      "Epoch 58/200, Cross Entropy: 1.8055641844916728\n",
      "Epoch 59/200, Cross Entropy: 1.8056005321395143\n",
      "Epoch 60/200, Cross Entropy: 1.8056362229640164\n",
      "Epoch 61/200, Cross Entropy: 1.8056712143796965\n",
      "Epoch 62/200, Cross Entropy: 1.8057054720803076\n"
     ]
    },
    {
     "name": "stderr",
     "output_type": "stream",
     "text": [
      "Training:  34%|███▎      | 67/200 [00:01<00:03, 40.39epoch/s]"
     ]
    },
    {
     "name": "stdout",
     "output_type": "stream",
     "text": [
      "Epoch 63/200, Cross Entropy: 1.805738969104365\n",
      "Epoch 64/200, Cross Entropy: 1.805771684995058\n",
      "Epoch 65/200, Cross Entropy: 1.805803605045114\n",
      "Epoch 66/200, Cross Entropy: 1.8058347196181461\n",
      "Epoch 67/200, Cross Entropy: 1.805865023538908\n",
      "Epoch 68/200, Cross Entropy: 1.8058945155456327\n",
      "Epoch 69/200, Cross Entropy: 1.8059231977983436\n",
      "Epoch 70/200, Cross Entropy: 1.8059510754376156\n"
     ]
    },
    {
     "name": "stderr",
     "output_type": "stream",
     "text": [
      "Training:  36%|███▌      | 72/200 [00:02<00:03, 41.42epoch/s]"
     ]
    },
    {
     "name": "stdout",
     "output_type": "stream",
     "text": [
      "Epoch 71/200, Cross Entropy: 1.8059781561888457\n",
      "Epoch 72/200, Cross Entropy: 1.8060044500075545\n"
     ]
    },
    {
     "name": "stderr",
     "output_type": "stream",
     "text": [
      "                                                             "
     ]
    },
    {
     "name": "stdout",
     "output_type": "stream",
     "text": [
      "Epoch 73/200, Cross Entropy: 1.8060299687617067\n",
      "Epoch 74/200, Cross Entropy: 1.8060547259474125\n",
      "Epoch 75/200, Cross Entropy: 1.8060787364347497\n",
      "Epoch 76/200, Cross Entropy: 1.806102016240748\n",
      "Epoch 77/200, Cross Entropy: 1.806124582326873\n",
      "Epoch 78/200, Cross Entropy: 1.806146452418605\n"
     ]
    },
    {
     "name": "stderr",
     "output_type": "stream",
     "text": [
      "Training:  43%|████▎     | 86/200 [00:02<00:03, 31.99epoch/s]"
     ]
    },
    {
     "name": "stdout",
     "output_type": "stream",
     "text": [
      "Epoch 79/200, Cross Entropy: 1.8061676448449382\n",
      "Epoch 80/200, Cross Entropy: 1.806188178395844\n",
      "Epoch 81/200, Cross Entropy: 1.8062080721959162\n",
      "Epoch 82/200, Cross Entropy: 1.8062273455926037\n",
      "Epoch 83/200, Cross Entropy: 1.806246018057577\n",
      "Epoch 84/200, Cross Entropy: 1.8062641090999256\n",
      "Epoch 85/200, Cross Entropy: 1.8062816381899978\n",
      "Epoch 86/200, Cross Entropy: 1.80629862469281\n"
     ]
    },
    {
     "name": "stderr",
     "output_type": "stream",
     "text": [
      "Training:  45%|████▌     | 90/200 [00:02<00:03, 32.34epoch/s]"
     ]
    },
    {
     "name": "stdout",
     "output_type": "stream",
     "text": [
      "Epoch 87/200, Cross Entropy: 1.8063150878100722\n",
      "Epoch 88/200, Cross Entropy: 1.8063310465299351\n",
      "Epoch 89/200, Cross Entropy: 1.8063465195836883\n",
      "Epoch 90/200, Cross Entropy: 1.806361525408677\n",
      "Epoch 91/200, Cross Entropy: 1.8063760821168038\n",
      "Epoch 92/200, Cross Entropy: 1.806390207468025\n",
      "Epoch 93/200, Cross Entropy: 1.806403918848313\n"
     ]
    },
    {
     "name": "stderr",
     "output_type": "stream",
     "text": [
      "Training:  50%|████▉     | 99/200 [00:02<00:02, 36.40epoch/s]"
     ]
    },
    {
     "name": "stdout",
     "output_type": "stream",
     "text": [
      "Epoch 94/200, Cross Entropy: 1.8064172332516109\n",
      "Epoch 95/200, Cross Entropy: 1.806430167265347\n",
      "Epoch 96/200, Cross Entropy: 1.8064427370591176\n",
      "Epoch 97/200, Cross Entropy: 1.8064549583761873\n",
      "Epoch 98/200, Cross Entropy: 1.8064668465274913\n",
      "Epoch 99/200, Cross Entropy: 1.8064784163878496\n",
      "Epoch 100/200, Cross Entropy: 1.8064896823941397\n",
      "Epoch 101/200, Cross Entropy: 1.8065006585451844\n"
     ]
    },
    {
     "name": "stderr",
     "output_type": "stream",
     "text": [
      "Training:  55%|█████▍    | 109/200 [00:03<00:02, 39.72epoch/s]"
     ]
    },
    {
     "name": "stdout",
     "output_type": "stream",
     "text": [
      "Epoch 102/200, Cross Entropy: 1.8065113584031607\n",
      "Epoch 103/200, Cross Entropy: 1.806521795096323\n",
      "Epoch 104/200, Cross Entropy: 1.8065319813228826\n",
      "Epoch 105/200, Cross Entropy: 1.8065419293558862\n",
      "Epoch 106/200, Cross Entropy: 1.8065516510489517\n",
      "Epoch 107/200, Cross Entropy: 1.8065611578427467\n",
      "Epoch 108/200, Cross Entropy: 1.8065704607720903\n",
      "Epoch 109/200, Cross Entropy: 1.8065795704735783\n"
     ]
    },
    {
     "name": "stderr",
     "output_type": "stream",
     "text": [
      "Training:  57%|█████▋    | 114/200 [00:03<00:02, 39.71epoch/s]"
     ]
    },
    {
     "name": "stdout",
     "output_type": "stream",
     "text": [
      "Epoch 110/200, Cross Entropy: 1.8065884971936548\n",
      "Epoch 111/200, Cross Entropy: 1.8065972507970323\n",
      "Epoch 112/200, Cross Entropy: 1.8066058407754055\n",
      "Epoch 113/200, Cross Entropy: 1.8066142762563842\n",
      "Epoch 114/200, Cross Entropy: 1.8066225660125972\n",
      "Epoch 115/200, Cross Entropy: 1.8066307184709096\n",
      "Epoch 116/200, Cross Entropy: 1.806638741721713\n",
      "Epoch 117/200, Cross Entropy: 1.806646643528253\n"
     ]
    },
    {
     "name": "stderr",
     "output_type": "stream",
     "text": [
      "Training:  60%|█████▉    | 119/200 [00:03<00:02, 40.39epoch/s]"
     ]
    },
    {
     "name": "stdout",
     "output_type": "stream",
     "text": [
      "Epoch 118/200, Cross Entropy: 1.8066544313359512\n",
      "Epoch 119/200, Cross Entropy: 1.806662112281694\n",
      "Epoch 120/200, Cross Entropy: 1.8066696932030708\n",
      "Epoch 121/200, Cross Entropy: 1.806677180647523\n",
      "Epoch 122/200, Cross Entropy: 1.806684580881394\n",
      "Epoch 123/200, Cross Entropy: 1.8066918998988606\n"
     ]
    },
    {
     "name": "stderr",
     "output_type": "stream",
     "text": [
      "                                                              "
     ]
    },
    {
     "name": "stdout",
     "output_type": "stream",
     "text": [
      "Epoch 124/200, Cross Entropy: 1.8066991434307311\n",
      "Epoch 125/200, Cross Entropy: 1.8067063169530932\n",
      "Epoch 126/200, Cross Entropy: 1.8067134256958126\n",
      "Epoch 127/200, Cross Entropy: 1.806720474650854\n",
      "Epoch 128/200, Cross Entropy: 1.8067274685804384\n",
      "Epoch 129/200, Cross Entropy: 1.8067344120250177\n"
     ]
    },
    {
     "name": "stderr",
     "output_type": "stream",
     "text": [
      "Training:  68%|██████▊   | 137/200 [00:03<00:01, 36.98epoch/s]"
     ]
    },
    {
     "name": "stdout",
     "output_type": "stream",
     "text": [
      "Epoch 130/200, Cross Entropy: 1.8067413093110645\n",
      "Epoch 131/200, Cross Entropy: 1.806748164558676\n",
      "Epoch 132/200, Cross Entropy: 1.8067549816889883\n",
      "Epoch 133/200, Cross Entropy: 1.8067617644313991\n",
      "Epoch 134/200, Cross Entropy: 1.8067685163305989\n",
      "Epoch 135/200, Cross Entropy: 1.8067752407534101\n",
      "Epoch 136/200, Cross Entropy: 1.8067819408954349\n",
      "Epoch 137/200, Cross Entropy: 1.8067886197875134\n"
     ]
    },
    {
     "name": "stderr",
     "output_type": "stream",
     "text": [
      "Training:  68%|██████▊   | 137/200 [00:04<00:01, 36.98epoch/s]"
     ]
    },
    {
     "name": "stdout",
     "output_type": "stream",
     "text": [
      "Epoch 138/200, Cross Entropy: 1.8067952803019924\n",
      "Epoch 139/200, Cross Entropy: 1.8068019251588097\n",
      "Epoch 140/200, Cross Entropy: 1.8068085569313905\n"
     ]
    },
    {
     "name": "stderr",
     "output_type": "stream",
     "text": [
      "Training:  72%|███████▎  | 145/200 [00:04<00:02, 27.41epoch/s]"
     ]
    },
    {
     "name": "stdout",
     "output_type": "stream",
     "text": [
      "Epoch 141/200, Cross Entropy: 1.8068151780523667\n",
      "Epoch 142/200, Cross Entropy: 1.806821790819115\n",
      "Epoch 143/200, Cross Entropy: 1.8068283973991204\n",
      "Epoch 144/200, Cross Entropy: 1.8068349998351665\n",
      "Epoch 145/200, Cross Entropy: 1.8068416000503604\n",
      "Epoch 146/200, Cross Entropy: 1.8068481998529884\n"
     ]
    },
    {
     "name": "stderr",
     "output_type": "stream",
     "text": [
      "Training:  77%|███████▋  | 154/200 [00:04<00:01, 33.30epoch/s]"
     ]
    },
    {
     "name": "stdout",
     "output_type": "stream",
     "text": [
      "Epoch 147/200, Cross Entropy: 1.8068548009412146\n",
      "Epoch 148/200, Cross Entropy: 1.8068614049076186\n",
      "Epoch 149/200, Cross Entropy: 1.8068680132435802\n",
      "Epoch 150/200, Cross Entropy: 1.8068746273435174\n",
      "Epoch 151/200, Cross Entropy: 1.8068812485089745\n",
      "Epoch 152/200, Cross Entropy: 1.8068878779525683\n",
      "Epoch 153/200, Cross Entropy: 1.8068945168018005\n",
      "Epoch 154/200, Cross Entropy: 1.806901166102729\n"
     ]
    },
    {
     "name": "stderr",
     "output_type": "stream",
     "text": [
      "Training:  79%|███████▉  | 158/200 [00:04<00:01, 34.84epoch/s]"
     ]
    },
    {
     "name": "stdout",
     "output_type": "stream",
     "text": [
      "Epoch 155/200, Cross Entropy: 1.8069078268235148\n",
      "Epoch 156/200, Cross Entropy: 1.8069144998578381\n",
      "Epoch 157/200, Cross Entropy: 1.8069211860281928\n",
      "Epoch 158/200, Cross Entropy: 1.8069278860890612\n",
      "Epoch 159/200, Cross Entropy: 1.8069346007299725\n",
      "Epoch 160/200, Cross Entropy: 1.80694133057845\n",
      "Epoch 161/200, Cross Entropy: 1.8069480762028491\n",
      "Epoch 162/200, Cross Entropy: 1.806954838115089\n"
     ]
    },
    {
     "name": "stderr",
     "output_type": "stream",
     "text": [
      "Training:  84%|████████▍ | 168/200 [00:04<00:00, 39.34epoch/s]"
     ]
    },
    {
     "name": "stdout",
     "output_type": "stream",
     "text": [
      "Epoch 163/200, Cross Entropy: 1.8069616167732832\n",
      "Epoch 164/200, Cross Entropy: 1.8069684125842715\n",
      "Epoch 165/200, Cross Entropy: 1.806975225906055\n",
      "Epoch 166/200, Cross Entropy: 1.8069820570501403\n",
      "Epoch 167/200, Cross Entropy: 1.8069889062837934\n",
      "Epoch 168/200, Cross Entropy: 1.8069957738322067\n",
      "Epoch 169/200, Cross Entropy: 1.807002659880584\n",
      "Epoch 170/200, Cross Entropy: 1.8070095645761413\n",
      "Epoch 171/200, Cross Entropy: 1.8070164880300346\n"
     ]
    },
    {
     "name": "stderr",
     "output_type": "stream",
     "text": [
      "Training:  89%|████████▉ | 178/200 [00:05<00:00, 42.79epoch/s]"
     ]
    },
    {
     "name": "stdout",
     "output_type": "stream",
     "text": [
      "Epoch 172/200, Cross Entropy: 1.8070234303192094\n",
      "Epoch 173/200, Cross Entropy: 1.807030391488174\n",
      "Epoch 174/200, Cross Entropy: 1.8070373715507109\n",
      "Epoch 175/200, Cross Entropy: 1.807044370491512\n",
      "Epoch 176/200, Cross Entropy: 1.8070513882677535\n",
      "Epoch 177/200, Cross Entropy: 1.8070584248106059\n",
      "Epoch 178/200, Cross Entropy: 1.8070654800266812\n",
      "Epoch 179/200, Cross Entropy: 1.8070725537994268\n",
      "Epoch 180/200, Cross Entropy: 1.8070796459904543\n"
     ]
    },
    {
     "name": "stderr",
     "output_type": "stream",
     "text": [
      "Training:  94%|█████████▍| 188/200 [00:05<00:00, 42.37epoch/s]"
     ]
    },
    {
     "name": "stdout",
     "output_type": "stream",
     "text": [
      "Epoch 181/200, Cross Entropy: 1.8070867564408217\n",
      "Epoch 182/200, Cross Entropy: 1.807093884972258\n",
      "Epoch 183/200, Cross Entropy: 1.807101031388339\n",
      "Epoch 184/200, Cross Entropy: 1.807108195475612\n",
      "Epoch 185/200, Cross Entropy: 1.8071153770046766\n",
      "Epoch 186/200, Cross Entropy: 1.8071225757312157\n",
      "Epoch 187/200, Cross Entropy: 1.807129791396988\n",
      "Epoch 188/200, Cross Entropy: 1.8071370237307705\n"
     ]
    },
    {
     "name": "stderr",
     "output_type": "stream",
     "text": [
      "Training:  96%|█████████▋| 193/200 [00:05<00:00, 41.62epoch/s]"
     ]
    },
    {
     "name": "stdout",
     "output_type": "stream",
     "text": [
      "Epoch 189/200, Cross Entropy: 1.8071442724492708\n",
      "Epoch 190/200, Cross Entropy: 1.8071515372579896\n",
      "Epoch 191/200, Cross Entropy: 1.8071588178520521\n",
      "Epoch 192/200, Cross Entropy: 1.8071661139170003\n",
      "Epoch 193/200, Cross Entropy: 1.8071734251295546\n",
      "Epoch 194/200, Cross Entropy: 1.8071807511583313\n",
      "Epoch 195/200, Cross Entropy: 1.8071880916645413\n",
      "Epoch 196/200, Cross Entropy: 1.8071954463026487\n"
     ]
    },
    {
     "name": "stderr",
     "output_type": "stream",
     "text": [
      "Training: 100%|██████████| 200/200 [00:05<00:00, 35.44epoch/s]\n"
     ]
    },
    {
     "name": "stdout",
     "output_type": "stream",
     "text": [
      "Epoch 197/200, Cross Entropy: 1.8072028147209989\n",
      "Epoch 198/200, Cross Entropy: 1.8072101965624252\n",
      "Epoch 199/200, Cross Entropy: 1.8072175914648199\n",
      "Epoch 200/200, Cross Entropy: 1.8072249990616815\n",
      "Results saved to: ../results/layers/error_rates_layers_2_2layers_200_200_1000.txt\n",
      "\n",
      "--------- PRETRAINING PHASE --------\n",
      "\n"
     ]
    },
    {
     "name": "stderr",
     "output_type": "stream",
     "text": [
      "Epoch 0: 100%|██████████| 16/16 [00:00<00:00, 127.35it/s]r/s]\n",
      "Epoch 1: 100%|██████████| 16/16 [00:00<00:00, 57.00it/s]\n",
      "Epoch 2: 100%|██████████| 16/16 [00:00<00:00, 122.14it/s]\n",
      "Epoch 3: 100%|██████████| 16/16 [00:00<00:00, 173.91it/s]\n",
      "Epoch 4: 100%|██████████| 16/16 [00:00<00:00, 177.77it/s]\n",
      "Epoch 5: 100%|██████████| 16/16 [00:00<00:00, 168.42it/s]\n",
      "Epoch 6: 100%|██████████| 16/16 [00:00<00:00, 186.05it/s]\n",
      "Epoch 7: 100%|██████████| 16/16 [00:00<00:00, 177.78it/s]\n",
      "Epoch 8: 100%|██████████| 16/16 [00:00<00:00, 135.59it/s]\n",
      "Epoch 9: 100%|██████████| 16/16 [00:00<00:00, 145.46it/s]\n",
      "Epoch 10: 100%|██████████| 16/16 [00:00<00:00, 163.26it/s]\n",
      "Epoch 11: 100%|██████████| 16/16 [00:00<00:00, 173.91it/s]\n",
      "Epoch 12: 100%|██████████| 16/16 [00:00<00:00, 149.53it/s]\n",
      "Epoch 13: 100%|██████████| 16/16 [00:00<00:00, 172.04it/s]\n",
      "Epoch 14: 100%|██████████| 16/16 [00:00<00:00, 170.21it/s]\n",
      "Epoch 15: 100%|██████████| 16/16 [00:00<00:00, 170.21it/s]\n",
      "Epoch 16: 100%|██████████| 16/16 [00:00<00:00, 197.53it/s]\n",
      "Epoch 17: 100%|██████████| 16/16 [00:00<00:00, 183.91it/s]\n",
      "Epoch 18: 100%|██████████| 16/16 [00:00<00:00, 195.12it/s]\n",
      "Epoch 19: 100%|██████████| 16/16 [00:00<00:00, 175.82it/s]\n",
      "Epoch 20: 100%|██████████| 16/16 [00:00<00:00, 175.83it/s]\n",
      "Epoch 21: 100%|██████████| 16/16 [00:00<00:00, 140.35it/s]\n",
      "Epoch 22: 100%|██████████| 16/16 [00:00<00:00, 131.98it/s]\n",
      "Epoch 23: 100%|██████████| 16/16 [00:00<00:00, 152.16it/s]\n",
      "Epoch 24: 100%|██████████| 16/16 [00:00<00:00, 170.21it/s]\n",
      "Epoch 25: 100%|██████████| 16/16 [00:00<00:00, 166.67it/s]\n",
      "Epoch 26: 100%|██████████| 16/16 [00:00<00:00, 166.66it/s]\n",
      "Epoch 27: 100%|██████████| 16/16 [00:00<00:00, 173.91it/s]\n",
      "Epoch 28: 100%|██████████| 16/16 [00:00<00:00, 197.53it/s]\n",
      "Epoch 29: 100%|██████████| 16/16 [00:00<00:00, 192.78it/s]\n",
      "Epoch 30: 100%|██████████| 16/16 [00:00<00:00, 190.47it/s]\n",
      "Epoch 31: 100%|██████████| 16/16 [00:00<00:00, 188.24it/s]\n",
      "Epoch 32: 100%|██████████| 16/16 [00:00<00:00, 197.53it/s]\n",
      "Epoch 33: 100%|██████████| 16/16 [00:00<00:00, 219.17it/s]\n",
      "Epoch 34: 100%|██████████| 16/16 [00:00<00:00, 210.53it/s]\n",
      "Epoch 35: 100%|██████████| 16/16 [00:00<00:00, 205.13it/s]\n",
      "Epoch 36: 100%|██████████| 16/16 [00:00<00:00, 190.48it/s]\n",
      "Epoch 37: 100%|██████████| 16/16 [00:00<00:00, 186.05it/s]\n",
      "Epoch 38: 100%|██████████| 16/16 [00:00<00:00, 197.52it/s]\n",
      "Epoch 39: 100%|██████████| 16/16 [00:00<00:00, 192.77it/s]\n",
      "Epoch 40: 100%|██████████| 16/16 [00:00<00:00, 192.77it/s]\n",
      "Epoch 41: 100%|██████████| 16/16 [00:00<00:00, 188.23it/s]\n",
      "Epoch 42: 100%|██████████| 16/16 [00:00<00:00, 200.00it/s]\n",
      "Epoch 43: 100%|██████████| 16/16 [00:00<00:00, 152.43it/s]\n",
      "Epoch 44: 100%|██████████| 16/16 [00:00<00:00, 185.97it/s]\n",
      "Epoch 45: 100%|██████████| 16/16 [00:00<00:00, 186.06it/s]\n",
      "Epoch 46: 100%|██████████| 16/16 [00:00<00:00, 173.75it/s]\n",
      "Epoch 47: 100%|██████████| 16/16 [00:00<00:00, 176.54it/s]\n",
      "Epoch 48: 100%|██████████| 16/16 [00:00<00:00, 190.48it/s]\n",
      "Epoch 49: 100%|██████████| 16/16 [00:00<00:00, 192.78it/s]\n",
      "Epoch 50: 100%|██████████| 16/16 [00:00<00:00, 179.77it/s]\n",
      "Epoch 51: 100%|██████████| 16/16 [00:00<00:00, 195.12it/s]\n",
      "Epoch 52: 100%|██████████| 16/16 [00:00<00:00, 186.04it/s]\n",
      "Epoch 53: 100%|██████████| 16/16 [00:00<00:00, 175.83it/s]\n",
      "Epoch 54: 100%|██████████| 16/16 [00:00<00:00, 179.77it/s]\n",
      "Epoch 55: 100%|██████████| 16/16 [00:00<00:00, 149.53it/s]\n",
      "Epoch 56: 100%|██████████| 16/16 [00:00<00:00, 177.78it/s]\n",
      "Epoch 57: 100%|██████████| 16/16 [00:00<00:00, 181.82it/s]\n",
      "Epoch 58: 100%|██████████| 16/16 [00:00<00:00, 166.67it/s]\n",
      "Epoch 59: 100%|██████████| 16/16 [00:00<00:00, 172.04it/s]\n",
      "Epoch 60: 100%|██████████| 16/16 [00:00<00:00, 173.91it/s]\n",
      "Epoch 61: 100%|██████████| 16/16 [00:00<00:00, 170.21it/s]\n",
      "Epoch 62: 100%|██████████| 16/16 [00:00<00:00, 170.21it/s]\n",
      "Epoch 63: 100%|██████████| 16/16 [00:00<00:00, 195.12it/s]\n",
      "Epoch 64: 100%|██████████| 16/16 [00:00<00:00, 183.91it/s]\n",
      "Epoch 65: 100%|██████████| 16/16 [00:00<00:00, 195.12it/s]\n",
      "Epoch 66: 100%|██████████| 16/16 [00:00<00:00, 200.00it/s]\n",
      "Epoch 67: 100%|██████████| 16/16 [00:00<00:00, 192.77it/s]\n",
      "Epoch 68: 100%|██████████| 16/16 [00:00<00:00, 181.82it/s]\n",
      "Epoch 69: 100%|██████████| 16/16 [00:00<00:00, 179.77it/s]\n",
      "Epoch 70: 100%|██████████| 16/16 [00:00<00:00, 172.54it/s]\n",
      "Epoch 71: 100%|██████████| 16/16 [00:00<00:00, 170.42it/s]\n",
      "Epoch 72: 100%|██████████| 16/16 [00:00<00:00, 199.99it/s]\n",
      "Epoch 73: 100%|██████████| 16/16 [00:00<00:00, 195.12it/s]\n",
      "Epoch 74: 100%|██████████| 16/16 [00:00<00:00, 192.77it/s]\n",
      "Epoch 75: 100%|██████████| 16/16 [00:00<00:00, 190.48it/s]\n",
      "Epoch 76: 100%|██████████| 16/16 [00:00<00:00, 200.00it/s]\n",
      "Epoch 77: 100%|██████████| 16/16 [00:00<00:00, 173.91it/s]\n",
      "Epoch 78: 100%|██████████| 16/16 [00:00<00:00, 192.77it/s]\n",
      "Epoch 79: 100%|██████████| 16/16 [00:00<00:00, 190.48it/s]\n",
      "Epoch 80: 100%|██████████| 16/16 [00:00<00:00, 183.91it/s]\n",
      "Epoch 81: 100%|██████████| 16/16 [00:00<00:00, 188.24it/s]\n",
      "Epoch 82: 100%|██████████| 16/16 [00:00<00:00, 179.78it/s]\n",
      "Epoch 83: 100%|██████████| 16/16 [00:00<00:00, 195.12it/s]\n",
      "Epoch 84: 100%|██████████| 16/16 [00:00<00:00, 192.77it/s]\n",
      "Epoch 85: 100%|██████████| 16/16 [00:00<00:00, 195.12it/s]\n",
      "Epoch 86: 100%|██████████| 16/16 [00:00<00:00, 188.23it/s]\n",
      "Epoch 87: 100%|██████████| 16/16 [00:00<00:00, 188.23it/s]\n",
      "Epoch 88: 100%|██████████| 16/16 [00:00<00:00, 175.82it/s]\n",
      "Epoch 89: 100%|██████████| 16/16 [00:00<00:00, 181.82it/s]\n",
      "Epoch 90: 100%|██████████| 16/16 [00:00<00:00, 166.66it/s]\n",
      "Epoch 91: 100%|██████████| 16/16 [00:00<00:00, 175.83it/s]\n",
      "Epoch 92: 100%|██████████| 16/16 [00:00<00:00, 166.67it/s]\n",
      "Epoch 93: 100%|██████████| 16/16 [00:00<00:00, 170.22it/s]\n",
      "Epoch 94: 100%|██████████| 16/16 [00:00<00:00, 134.38it/s]\n",
      "Epoch 95: 100%|██████████| 16/16 [00:00<00:00, 129.98it/s]\n",
      "Epoch 96: 100%|██████████| 16/16 [00:00<00:00, 170.22it/s]\n",
      "Epoch 97: 100%|██████████| 16/16 [00:00<00:00, 170.21it/s]\n",
      "Epoch 98: 100%|██████████| 16/16 [00:00<00:00, 186.05it/s]\n",
      "Epoch 99: 100%|██████████| 16/16 [00:00<00:00, 195.12it/s]\n",
      "Epoch 0: 100%|██████████| 16/16 [00:00<00:00, 571.36it/s]9.77s/layer]\n",
      "Epoch 1: 100%|██████████| 16/16 [00:00<00:00, 615.40it/s]\n",
      "Epoch 2: 100%|██████████| 16/16 [00:00<00:00, 640.02it/s]\n",
      "Epoch 3: 100%|██████████| 16/16 [00:00<00:00, 533.32it/s]\n",
      "Epoch 4: 100%|██████████| 16/16 [00:00<00:00, 551.75it/s]\n",
      "Epoch 5: 100%|██████████| 16/16 [00:00<00:00, 615.41it/s]\n",
      "Epoch 6: 100%|██████████| 16/16 [00:00<00:00, 640.01it/s]\n",
      "Epoch 7: 100%|██████████| 16/16 [00:00<00:00, 615.36it/s]\n",
      "Epoch 8: 100%|██████████| 16/16 [00:00<00:00, 615.41it/s]\n",
      "Epoch 9: 100%|██████████| 16/16 [00:00<00:00, 571.39it/s]\n",
      "Epoch 10: 100%|██████████| 16/16 [00:00<00:00, 571.41it/s]\n",
      "Epoch 11: 100%|██████████| 16/16 [00:00<00:00, 615.41it/s]\n",
      "Epoch 12: 100%|██████████| 16/16 [00:00<00:00, 639.99it/s]\n",
      "Epoch 13: 100%|██████████| 16/16 [00:00<00:00, 615.33it/s]\n",
      "Epoch 14: 100%|██████████| 16/16 [00:00<00:00, 615.41it/s]\n",
      "Epoch 15: 100%|██████████| 16/16 [00:00<00:00, 615.38it/s]\n",
      "Epoch 16: 100%|██████████| 16/16 [00:00<00:00, 666.68it/s]\n",
      "Epoch 17: 100%|██████████| 16/16 [00:00<00:00, 639.96it/s]\n",
      "Epoch 18: 100%|██████████| 16/16 [00:00<00:00, 592.56it/s]\n",
      "Epoch 19: 100%|██████████| 16/16 [00:00<00:00, 640.01it/s]\n",
      "Epoch 20: 100%|██████████| 16/16 [00:00<00:00, 615.38it/s]\n",
      "Epoch 21: 100%|██████████| 16/16 [00:00<00:00, 615.42it/s]\n",
      "Epoch 22: 100%|██████████| 16/16 [00:00<00:00, 615.37it/s]\n",
      "Epoch 23: 100%|██████████| 16/16 [00:00<00:00, 592.59it/s]\n",
      "Epoch 24: 100%|██████████| 16/16 [00:00<00:00, 640.09it/s]\n",
      "Epoch 25: 100%|██████████| 16/16 [00:00<00:00, 592.60it/s]\n",
      "Epoch 26: 100%|██████████| 16/16 [00:00<00:00, 592.62it/s]\n",
      "Epoch 27: 100%|██████████| 16/16 [00:00<00:00, 421.09it/s]\n",
      "Epoch 28: 100%|██████████| 16/16 [00:00<00:00, 639.92it/s]\n",
      "Epoch 29: 100%|██████████| 16/16 [00:00<00:00, 640.00it/s]\n",
      "Epoch 30: 100%|██████████| 16/16 [00:00<00:00, 615.40it/s]\n",
      "Epoch 31: 100%|██████████| 16/16 [00:00<00:00, 592.63it/s]\n",
      "Epoch 32: 100%|██████████| 16/16 [00:00<00:00, 640.05it/s]\n",
      "Epoch 33: 100%|██████████| 16/16 [00:00<00:00, 457.15it/s]\n",
      "Epoch 34: 100%|██████████| 16/16 [00:00<00:00, 592.56it/s]\n",
      "Epoch 35: 100%|██████████| 16/16 [00:00<00:00, 639.97it/s]\n",
      "Epoch 36: 100%|██████████| 16/16 [00:00<00:00, 592.64it/s]\n",
      "Epoch 37: 100%|██████████| 16/16 [00:00<00:00, 639.95it/s]\n",
      "Epoch 38: 100%|██████████| 16/16 [00:00<00:00, 615.38it/s]\n",
      "Epoch 39: 100%|██████████| 16/16 [00:00<00:00, 592.61it/s]\n",
      "Epoch 40: 100%|██████████| 16/16 [00:00<00:00, 87.43it/s]\n",
      "Epoch 41: 100%|██████████| 16/16 [00:00<00:00, 516.16it/s]\n",
      "Epoch 42: 100%|██████████| 16/16 [00:00<00:00, 457.10it/s]\n",
      "Epoch 43: 100%|██████████| 16/16 [00:00<00:00, 380.94it/s]\n",
      "Epoch 44: 100%|██████████| 16/16 [00:00<00:00, 444.45it/s]\n",
      "Epoch 45: 100%|██████████| 16/16 [00:00<00:00, 571.40it/s]\n",
      "Epoch 46: 100%|██████████| 16/16 [00:00<00:00, 484.90it/s]\n",
      "Epoch 47: 100%|██████████| 16/16 [00:00<00:00, 502.99it/s]\n",
      "Epoch 48: 100%|██████████| 16/16 [00:00<00:00, 551.76it/s]\n",
      "Epoch 49: 100%|██████████| 16/16 [00:00<00:00, 506.52it/s]\n",
      "Epoch 50: 100%|██████████| 16/16 [00:00<00:00, 500.19it/s]\n",
      "Epoch 51: 100%|██████████| 16/16 [00:00<00:00, 639.98it/s]\n",
      "Epoch 52: 100%|██████████| 16/16 [00:00<00:00, 592.61it/s]\n",
      "Epoch 53: 100%|██████████| 16/16 [00:00<00:00, 533.31it/s]\n",
      "Epoch 54: 100%|██████████| 16/16 [00:00<00:00, 615.40it/s]\n",
      "Epoch 55: 100%|██████████| 16/16 [00:00<00:00, 551.63it/s]\n",
      "Epoch 56: 100%|██████████| 16/16 [00:00<00:00, 551.71it/s]\n",
      "Epoch 57: 100%|██████████| 16/16 [00:00<00:00, 551.71it/s]\n",
      "Epoch 58: 100%|██████████| 16/16 [00:00<00:00, 666.49it/s]\n",
      "Epoch 59: 100%|██████████| 16/16 [00:00<00:00, 516.06it/s]\n",
      "Epoch 60: 100%|██████████| 16/16 [00:00<00:00, 592.62it/s]\n",
      "Epoch 61: 100%|██████████| 16/16 [00:00<00:00, 592.60it/s]\n",
      "Epoch 62: 100%|██████████| 16/16 [00:00<00:00, 571.38it/s]\n",
      "Epoch 63: 100%|██████████| 16/16 [00:00<00:00, 551.71it/s]\n",
      "Epoch 64: 100%|██████████| 16/16 [00:00<00:00, 551.77it/s]\n",
      "Epoch 65: 100%|██████████| 16/16 [00:00<00:00, 615.46it/s]\n",
      "Epoch 66: 100%|██████████| 16/16 [00:00<00:00, 571.34it/s]\n",
      "Epoch 67: 100%|██████████| 16/16 [00:00<00:00, 592.59it/s]\n",
      "Epoch 68: 100%|██████████| 16/16 [00:00<00:00, 500.01it/s]\n",
      "Epoch 69: 100%|██████████| 16/16 [00:00<00:00, 615.40it/s]\n",
      "Epoch 70: 100%|██████████| 16/16 [00:00<00:00, 592.58it/s]\n",
      "Epoch 71: 100%|██████████| 16/16 [00:00<00:00, 500.01it/s]\n",
      "Epoch 72: 100%|██████████| 16/16 [00:00<00:00, 592.58it/s]\n",
      "Epoch 73: 100%|██████████| 16/16 [00:00<00:00, 592.55it/s]\n",
      "Epoch 74: 100%|██████████| 16/16 [00:00<00:00, 571.42it/s]\n",
      "Epoch 75: 100%|██████████| 16/16 [00:00<00:00, 571.48it/s]\n",
      "Epoch 76: 100%|██████████| 16/16 [00:00<00:00, 592.63it/s]\n",
      "Epoch 77: 100%|██████████| 16/16 [00:00<00:00, 571.47it/s]\n",
      "Epoch 78: 100%|██████████| 16/16 [00:00<00:00, 390.31it/s]\n",
      "Epoch 79: 100%|██████████| 16/16 [00:00<00:00, 533.33it/s]\n",
      "Epoch 80: 100%|██████████| 16/16 [00:00<00:00, 639.96it/s]\n",
      "Epoch 81: 100%|██████████| 16/16 [00:00<00:00, 571.45it/s]\n",
      "Epoch 82: 100%|██████████| 16/16 [00:00<00:00, 533.24it/s]\n",
      "Epoch 83: 100%|██████████| 16/16 [00:00<00:00, 592.58it/s]\n",
      "Epoch 84: 100%|██████████| 16/16 [00:00<00:00, 639.99it/s]\n",
      "Epoch 85: 100%|██████████| 16/16 [00:00<00:00, 615.35it/s]\n",
      "Epoch 86: 100%|██████████| 16/16 [00:00<00:00, 615.36it/s]\n",
      "Epoch 87: 100%|██████████| 16/16 [00:00<00:00, 615.42it/s]\n",
      "Epoch 88: 100%|██████████| 16/16 [00:00<00:00, 639.99it/s]\n",
      "Epoch 89: 100%|██████████| 16/16 [00:00<00:00, 640.08it/s]\n",
      "Epoch 90: 100%|██████████| 16/16 [00:00<00:00, 551.71it/s]\n",
      "Epoch 91: 100%|██████████| 16/16 [00:00<00:00, 615.45it/s]\n",
      "Epoch 92: 100%|██████████| 16/16 [00:00<00:00, 615.33it/s]\n",
      "Epoch 93: 100%|██████████| 16/16 [00:00<00:00, 551.75it/s]\n",
      "Epoch 94: 100%|██████████| 16/16 [00:00<00:00, 615.38it/s]\n",
      "Epoch 95: 100%|██████████| 16/16 [00:00<00:00, 640.02it/s]\n",
      "Epoch 96: 100%|██████████| 16/16 [00:00<00:00, 592.60it/s]\n",
      "Epoch 97: 100%|██████████| 16/16 [00:00<00:00, 666.68it/s]\n",
      "Epoch 98: 100%|██████████| 16/16 [00:00<00:00, 592.58it/s]\n",
      "Epoch 99: 100%|██████████| 16/16 [00:00<00:00, 571.41it/s]\n",
      "Epoch 0: 100%|██████████| 16/16 [00:00<00:00, 571.42it/s]6.08s/layer]\n",
      "Epoch 1: 100%|██████████| 16/16 [00:00<00:00, 639.95it/s]\n",
      "Epoch 2: 100%|██████████| 16/16 [00:00<00:00, 592.56it/s]\n",
      "Epoch 3: 100%|██████████| 16/16 [00:00<00:00, 615.38it/s]\n",
      "Epoch 4: 100%|██████████| 16/16 [00:00<00:00, 615.40it/s]\n",
      "Epoch 5: 100%|██████████| 16/16 [00:00<00:00, 615.36it/s]\n",
      "Epoch 6: 100%|██████████| 16/16 [00:00<00:00, 639.98it/s]\n",
      "Epoch 7: 100%|██████████| 16/16 [00:00<00:00, 592.65it/s]\n",
      "Epoch 8: 100%|██████████| 16/16 [00:00<00:00, 592.58it/s]\n",
      "Epoch 9: 100%|██████████| 16/16 [00:00<00:00, 615.37it/s]\n",
      "Epoch 10: 100%|██████████| 16/16 [00:00<00:00, 640.05it/s]\n",
      "Epoch 11: 100%|██████████| 16/16 [00:00<00:00, 533.40it/s]\n",
      "Epoch 12: 100%|██████████| 16/16 [00:00<00:00, 554.66it/s]\n",
      "Epoch 13: 100%|██████████| 16/16 [00:00<00:00, 533.22it/s]\n",
      "Epoch 14: 100%|██████████| 16/16 [00:00<00:00, 527.20it/s]\n",
      "Epoch 15: 100%|██████████| 16/16 [00:00<00:00, 506.78it/s]\n",
      "Epoch 16: 100%|██████████| 16/16 [00:00<00:00, 617.60it/s]\n",
      "Epoch 17: 100%|██████████| 16/16 [00:00<00:00, 317.09it/s]\n",
      "Epoch 18: 100%|██████████| 16/16 [00:00<00:00, 695.70it/s]\n",
      "Epoch 19: 100%|██████████| 16/16 [00:00<00:00, 592.65it/s]\n",
      "Epoch 20: 100%|██████████| 16/16 [00:00<00:00, 615.37it/s]\n",
      "Epoch 21: 100%|██████████| 16/16 [00:00<00:00, 571.43it/s]\n",
      "Epoch 22: 100%|██████████| 16/16 [00:00<00:00, 666.68it/s]\n",
      "Epoch 23: 100%|██████████| 16/16 [00:00<00:00, 666.70it/s]\n",
      "Epoch 24: 100%|██████████| 16/16 [00:00<00:00, 615.38it/s]\n",
      "Epoch 25: 100%|██████████| 16/16 [00:00<00:00, 592.58it/s]\n",
      "Epoch 26: 100%|██████████| 16/16 [00:00<00:00, 615.43it/s]\n",
      "Epoch 27: 100%|██████████| 16/16 [00:00<00:00, 615.45it/s]\n",
      "Epoch 28: 100%|██████████| 16/16 [00:00<00:00, 666.69it/s]\n",
      "Epoch 29: 100%|██████████| 16/16 [00:00<00:00, 695.71it/s]\n",
      "Epoch 30: 100%|██████████| 16/16 [00:00<00:00, 615.38it/s]\n",
      "Epoch 31: 100%|██████████| 16/16 [00:00<00:00, 639.99it/s]\n",
      "Epoch 32: 100%|██████████| 16/16 [00:00<00:00, 592.61it/s]\n",
      "Epoch 33: 100%|██████████| 16/16 [00:00<00:00, 592.57it/s]\n",
      "Epoch 34: 100%|██████████| 16/16 [00:00<00:00, 80.00it/s]\n",
      "Epoch 35: 100%|██████████| 16/16 [00:00<00:00, 571.45it/s]\n",
      "Epoch 36: 100%|██████████| 16/16 [00:00<00:00, 515.99it/s]\n",
      "Epoch 37: 100%|██████████| 16/16 [00:00<00:00, 484.85it/s]\n",
      "Epoch 38: 100%|██████████| 16/16 [00:00<00:00, 571.47it/s]\n",
      "Epoch 39: 100%|██████████| 16/16 [00:00<00:00, 615.38it/s]\n",
      "Epoch 40: 100%|██████████| 16/16 [00:00<00:00, 640.02it/s]\n",
      "Epoch 41: 100%|██████████| 16/16 [00:00<00:00, 639.99it/s]\n",
      "Epoch 42: 100%|██████████| 16/16 [00:00<00:00, 592.58it/s]\n",
      "Epoch 43: 100%|██████████| 16/16 [00:00<00:00, 516.12it/s]\n",
      "Epoch 44: 100%|██████████| 16/16 [00:00<00:00, 640.02it/s]\n",
      "Epoch 45: 100%|██████████| 16/16 [00:00<00:00, 639.99it/s]\n",
      "Epoch 46: 100%|██████████| 16/16 [00:00<00:00, 640.13it/s]\n",
      "Epoch 47: 100%|██████████| 16/16 [00:00<00:00, 363.63it/s]\n",
      "Epoch 48: 100%|██████████| 16/16 [00:00<00:00, 592.59it/s]\n",
      "Epoch 49: 100%|██████████| 16/16 [00:00<00:00, 615.40it/s]\n",
      "Epoch 50: 100%|██████████| 16/16 [00:00<00:00, 639.89it/s]\n",
      "Epoch 51: 100%|██████████| 16/16 [00:00<00:00, 639.92it/s]\n",
      "Epoch 52: 100%|██████████| 16/16 [00:00<00:00, 516.11it/s]\n",
      "Epoch 53: 100%|██████████| 16/16 [00:00<00:00, 639.97it/s]\n",
      "Epoch 54: 100%|██████████| 16/16 [00:00<00:00, 571.42it/s]\n",
      "Epoch 55: 100%|██████████| 16/16 [00:00<00:00, 639.97it/s]\n",
      "Epoch 56: 100%|██████████| 16/16 [00:00<00:00, 571.43it/s]\n",
      "Epoch 57: 100%|██████████| 16/16 [00:00<00:00, 666.60it/s]\n",
      "Epoch 58: 100%|██████████| 16/16 [00:00<00:00, 533.34it/s]\n",
      "Epoch 59: 100%|██████████| 16/16 [00:00<00:00, 639.99it/s]\n",
      "Epoch 60: 100%|██████████| 16/16 [00:00<00:00, 571.48it/s]\n",
      "Epoch 61: 100%|██████████| 16/16 [00:00<00:00, 615.42it/s]\n",
      "Epoch 62: 100%|██████████| 16/16 [00:00<00:00, 640.00it/s]\n",
      "Epoch 63: 100%|██████████| 16/16 [00:00<00:00, 695.67it/s]\n",
      "Epoch 64: 100%|██████████| 16/16 [00:00<00:00, 571.43it/s]\n",
      "Epoch 65: 100%|██████████| 16/16 [00:00<00:00, 592.60it/s]\n",
      "Epoch 66: 100%|██████████| 16/16 [00:00<00:00, 640.01it/s]\n",
      "Epoch 67: 100%|██████████| 16/16 [00:00<00:00, 640.00it/s]\n",
      "Epoch 68: 100%|██████████| 16/16 [00:00<00:00, 639.99it/s]\n",
      "Epoch 69: 100%|██████████| 16/16 [00:00<00:00, 571.40it/s]\n",
      "Epoch 70: 100%|██████████| 16/16 [00:00<00:00, 571.44it/s]\n",
      "Epoch 71: 100%|██████████| 16/16 [00:00<00:00, 640.10it/s]\n",
      "Epoch 72: 100%|██████████| 16/16 [00:00<00:00, 571.41it/s]\n",
      "Epoch 73: 100%|██████████| 16/16 [00:00<00:00, 666.68it/s]\n",
      "Epoch 74: 100%|██████████| 16/16 [00:00<00:00, 592.58it/s]\n",
      "Epoch 75: 100%|██████████| 16/16 [00:00<00:00, 571.40it/s]\n",
      "Epoch 76: 100%|██████████| 16/16 [00:00<00:00, 592.57it/s]\n",
      "Epoch 77: 100%|██████████| 16/16 [00:00<00:00, 342.01it/s]\n",
      "Epoch 78: 100%|██████████| 16/16 [00:00<00:00, 509.39it/s]\n",
      "Epoch 79: 100%|██████████| 16/16 [00:00<00:00, 571.43it/s]\n",
      "Epoch 80: 100%|██████████| 16/16 [00:00<00:00, 571.42it/s]\n",
      "Epoch 81: 100%|██████████| 16/16 [00:00<00:00, 522.59it/s]\n",
      "Epoch 82: 100%|██████████| 16/16 [00:00<00:00, 615.35it/s]\n",
      "Epoch 83: 100%|██████████| 16/16 [00:00<00:00, 592.54it/s]\n",
      "Epoch 84: 100%|██████████| 16/16 [00:00<00:00, 666.69it/s]\n",
      "Epoch 85: 100%|██████████| 16/16 [00:00<00:00, 727.30it/s]\n",
      "Epoch 86: 100%|██████████| 16/16 [00:00<00:00, 640.02it/s]\n",
      "Epoch 87: 100%|██████████| 16/16 [00:00<00:00, 639.98it/s]\n",
      "Epoch 88: 100%|██████████| 16/16 [00:00<00:00, 639.99it/s]\n",
      "Epoch 89: 100%|██████████| 16/16 [00:00<00:00, 666.68it/s]\n",
      "Epoch 90: 100%|██████████| 16/16 [00:00<00:00, 666.64it/s]\n",
      "Epoch 91: 100%|██████████| 16/16 [00:00<00:00, 666.72it/s]\n",
      "Epoch 92: 100%|██████████| 16/16 [00:00<00:00, 666.70it/s]\n",
      "Epoch 93: 100%|██████████| 16/16 [00:00<00:00, 666.63it/s]\n",
      "Epoch 94: 100%|██████████| 16/16 [00:00<00:00, 666.67it/s]\n",
      "Epoch 95: 100%|██████████| 16/16 [00:00<00:00, 615.37it/s]\n",
      "Epoch 96: 100%|██████████| 16/16 [00:00<00:00, 571.32it/s]\n",
      "Epoch 97: 100%|██████████| 16/16 [00:00<00:00, 615.39it/s]\n",
      "Epoch 98: 100%|██████████| 16/16 [00:00<00:00, 615.34it/s]\n",
      "Epoch 99: 100%|██████████| 16/16 [00:00<00:00, 640.00it/s]\n",
      "Training RBM layers: 100%|██████████| 3/3 [00:16<00:00,  5.54s/layer]\n"
     ]
    },
    {
     "name": "stdout",
     "output_type": "stream",
     "text": [
      "\n",
      "\n",
      "--------- BACKPROPAGATION --------\n"
     ]
    },
    {
     "name": "stderr",
     "output_type": "stream",
     "text": [
      "Training:   0%|          | 0/200 [00:00<?, ?epoch/s]"
     ]
    },
    {
     "name": "stdout",
     "output_type": "stream",
     "text": [
      "Epoch 1/200, Cross Entropy: 2.2790163929851017\n"
     ]
    },
    {
     "name": "stderr",
     "output_type": "stream",
     "text": [
      "Training:   2%|▎         | 5/200 [00:00<00:13, 14.44epoch/s]"
     ]
    },
    {
     "name": "stdout",
     "output_type": "stream",
     "text": [
      "Epoch 2/200, Cross Entropy: 2.275647719016871\n",
      "Epoch 3/200, Cross Entropy: 2.2751890586749974\n",
      "Epoch 4/200, Cross Entropy: 2.275112807747463\n",
      "Epoch 5/200, Cross Entropy: 2.275098493596242\n",
      "Epoch 6/200, Cross Entropy: 2.275095553154628\n"
     ]
    },
    {
     "name": "stderr",
     "output_type": "stream",
     "text": [
      "Training:   4%|▍         | 9/200 [00:00<00:09, 20.33epoch/s]"
     ]
    },
    {
     "name": "stdout",
     "output_type": "stream",
     "text": [
      "Epoch 7/200, Cross Entropy: 2.27509490890562\n",
      "Epoch 8/200, Cross Entropy: 2.2750947615128085\n",
      "Epoch 9/200, Cross Entropy: 2.275094726840264\n",
      "Epoch 10/200, Cross Entropy: 2.275094718538238\n",
      "Epoch 11/200, Cross Entropy: 2.275094716527536\n",
      "Epoch 12/200, Cross Entropy: 2.2750947160368176\n"
     ]
    },
    {
     "name": "stderr",
     "output_type": "stream",
     "text": [
      "Training:   8%|▊         | 16/200 [00:00<00:06, 26.72epoch/s]"
     ]
    },
    {
     "name": "stdout",
     "output_type": "stream",
     "text": [
      "Epoch 13/200, Cross Entropy: 2.2750947159164108\n",
      "Epoch 14/200, Cross Entropy: 2.275094715886749\n",
      "Epoch 15/200, Cross Entropy: 2.2750947158794195\n",
      "Epoch 16/200, Cross Entropy: 2.2750947158776036\n",
      "Epoch 17/200, Cross Entropy: 2.2750947158771533\n",
      "Epoch 18/200, Cross Entropy: 2.275094715877041\n",
      "Epoch 19/200, Cross Entropy: 2.275094715877013\n"
     ]
    },
    {
     "name": "stderr",
     "output_type": "stream",
     "text": [
      "Training:  12%|█▏        | 24/200 [00:01<00:05, 30.62epoch/s]"
     ]
    },
    {
     "name": "stdout",
     "output_type": "stream",
     "text": [
      "Epoch 20/200, Cross Entropy: 2.275094715877006\n",
      "Epoch 21/200, Cross Entropy: 2.275094715877004\n",
      "Epoch 22/200, Cross Entropy: 2.275094715877004\n",
      "Epoch 23/200, Cross Entropy: 2.275094715877004\n",
      "Epoch 24/200, Cross Entropy: 2.275094715877004\n",
      "Epoch 25/200, Cross Entropy: 2.275094715877004\n",
      "Epoch 26/200, Cross Entropy: 2.275094715877004\n"
     ]
    },
    {
     "name": "stderr",
     "output_type": "stream",
     "text": [
      "Training:  16%|█▋        | 33/200 [00:01<00:04, 34.18epoch/s]"
     ]
    },
    {
     "name": "stdout",
     "output_type": "stream",
     "text": [
      "Epoch 27/200, Cross Entropy: 2.275094715877004\n",
      "Epoch 28/200, Cross Entropy: 2.275094715877004\n",
      "Epoch 29/200, Cross Entropy: 2.275094715877004\n",
      "Epoch 30/200, Cross Entropy: 2.275094715877004\n",
      "Epoch 31/200, Cross Entropy: 2.275094715877004\n",
      "Epoch 32/200, Cross Entropy: 2.275094715877004\n",
      "Epoch 33/200, Cross Entropy: 2.275094715877004\n",
      "Epoch 34/200, Cross Entropy: 2.275094715877004\n"
     ]
    },
    {
     "name": "stderr",
     "output_type": "stream",
     "text": [
      "Training:  21%|██        | 42/200 [00:01<00:04, 37.19epoch/s]"
     ]
    },
    {
     "name": "stdout",
     "output_type": "stream",
     "text": [
      "Epoch 35/200, Cross Entropy: 2.275094715877004\n",
      "Epoch 36/200, Cross Entropy: 2.275094715877004\n",
      "Epoch 37/200, Cross Entropy: 2.275094715877004\n",
      "Epoch 38/200, Cross Entropy: 2.275094715877004\n",
      "Epoch 39/200, Cross Entropy: 2.275094715877004\n",
      "Epoch 40/200, Cross Entropy: 2.275094715877004\n",
      "Epoch 41/200, Cross Entropy: 2.275094715877004\n",
      "Epoch 42/200, Cross Entropy: 2.275094715877004\n"
     ]
    },
    {
     "name": "stderr",
     "output_type": "stream",
     "text": [
      "Training:  23%|██▎       | 46/200 [00:01<00:04, 36.47epoch/s]"
     ]
    },
    {
     "name": "stdout",
     "output_type": "stream",
     "text": [
      "Epoch 43/200, Cross Entropy: 2.275094715877004\n",
      "Epoch 44/200, Cross Entropy: 2.275094715877004\n",
      "Epoch 45/200, Cross Entropy: 2.275094715877004\n",
      "Epoch 46/200, Cross Entropy: 2.275094715877004\n",
      "Epoch 47/200, Cross Entropy: 2.275094715877004\n",
      "Epoch 48/200, Cross Entropy: 2.275094715877004\n",
      "Epoch 49/200, Cross Entropy: 2.275094715877004\n"
     ]
    },
    {
     "name": "stderr",
     "output_type": "stream",
     "text": [
      "Training:  27%|██▋       | 54/200 [00:01<00:04, 36.04epoch/s]"
     ]
    },
    {
     "name": "stdout",
     "output_type": "stream",
     "text": [
      "Epoch 50/200, Cross Entropy: 2.275094715877004\n",
      "Epoch 51/200, Cross Entropy: 2.275094715877004\n",
      "Epoch 52/200, Cross Entropy: 2.275094715877004\n",
      "Epoch 53/200, Cross Entropy: 2.275094715877004\n",
      "Epoch 54/200, Cross Entropy: 2.275094715877004\n",
      "Epoch 55/200, Cross Entropy: 2.275094715877004\n",
      "Epoch 56/200, Cross Entropy: 2.275094715877004\n",
      "Epoch 57/200, Cross Entropy: 2.275094715877004\n"
     ]
    },
    {
     "name": "stderr",
     "output_type": "stream",
     "text": [
      "Training:  29%|██▉       | 58/200 [00:01<00:03, 36.82epoch/s]"
     ]
    },
    {
     "name": "stdout",
     "output_type": "stream",
     "text": [
      "Epoch 58/200, Cross Entropy: 2.275094715877004\n",
      "Epoch 59/200, Cross Entropy: 2.275094715877004\n"
     ]
    },
    {
     "name": "stderr",
     "output_type": "stream",
     "text": [
      "Training:  31%|███       | 62/200 [00:02<00:06, 22.77epoch/s]"
     ]
    },
    {
     "name": "stdout",
     "output_type": "stream",
     "text": [
      "Epoch 60/200, Cross Entropy: 2.275094715877004\n",
      "Epoch 61/200, Cross Entropy: 2.275094715877004\n",
      "Epoch 62/200, Cross Entropy: 2.275094715877004\n",
      "Epoch 63/200, Cross Entropy: 2.275094715877004\n"
     ]
    },
    {
     "name": "stderr",
     "output_type": "stream",
     "text": [
      "Training:  34%|███▍      | 69/200 [00:02<00:05, 25.72epoch/s]"
     ]
    },
    {
     "name": "stdout",
     "output_type": "stream",
     "text": [
      "Epoch 64/200, Cross Entropy: 2.275094715877004\n",
      "Epoch 65/200, Cross Entropy: 2.275094715877004\n",
      "Epoch 66/200, Cross Entropy: 2.275094715877004\n",
      "Epoch 67/200, Cross Entropy: 2.275094715877004\n",
      "Epoch 68/200, Cross Entropy: 2.275094715877004\n",
      "Epoch 69/200, Cross Entropy: 2.275094715877004\n",
      "Epoch 70/200, Cross Entropy: 2.275094715877004\n"
     ]
    },
    {
     "name": "stderr",
     "output_type": "stream",
     "text": [
      "Training:  38%|███▊      | 77/200 [00:02<00:04, 29.75epoch/s]"
     ]
    },
    {
     "name": "stdout",
     "output_type": "stream",
     "text": [
      "Epoch 71/200, Cross Entropy: 2.275094715877004\n",
      "Epoch 72/200, Cross Entropy: 2.275094715877004\n",
      "Epoch 73/200, Cross Entropy: 2.275094715877004\n",
      "Epoch 74/200, Cross Entropy: 2.275094715877004\n",
      "Epoch 75/200, Cross Entropy: 2.275094715877004\n",
      "Epoch 76/200, Cross Entropy: 2.275094715877004\n",
      "Epoch 77/200, Cross Entropy: 2.275094715877004\n"
     ]
    },
    {
     "name": "stderr",
     "output_type": "stream",
     "text": [
      "Training:  40%|████      | 81/200 [00:02<00:03, 30.47epoch/s]"
     ]
    },
    {
     "name": "stdout",
     "output_type": "stream",
     "text": [
      "Epoch 78/200, Cross Entropy: 2.275094715877004\n",
      "Epoch 79/200, Cross Entropy: 2.275094715877004\n",
      "Epoch 80/200, Cross Entropy: 2.275094715877004\n",
      "Epoch 81/200, Cross Entropy: 2.275094715877004\n",
      "Epoch 82/200, Cross Entropy: 2.275094715877004\n",
      "Epoch 83/200, Cross Entropy: 2.275094715877004\n"
     ]
    },
    {
     "name": "stderr",
     "output_type": "stream",
     "text": [
      "Training:  44%|████▍     | 89/200 [00:03<00:03, 32.18epoch/s]"
     ]
    },
    {
     "name": "stdout",
     "output_type": "stream",
     "text": [
      "Epoch 84/200, Cross Entropy: 2.275094715877004\n",
      "Epoch 85/200, Cross Entropy: 2.275094715877004\n",
      "Epoch 86/200, Cross Entropy: 2.275094715877004\n",
      "Epoch 87/200, Cross Entropy: 2.275094715877004\n",
      "Epoch 88/200, Cross Entropy: 2.275094715877004\n",
      "Epoch 89/200, Cross Entropy: 2.275094715877004\n",
      "Epoch 90/200, Cross Entropy: 2.275094715877004\n"
     ]
    },
    {
     "name": "stderr",
     "output_type": "stream",
     "text": [
      "Training:  48%|████▊     | 97/200 [00:03<00:03, 33.15epoch/s]"
     ]
    },
    {
     "name": "stdout",
     "output_type": "stream",
     "text": [
      "Epoch 91/200, Cross Entropy: 2.275094715877004\n",
      "Epoch 92/200, Cross Entropy: 2.275094715877004\n",
      "Epoch 93/200, Cross Entropy: 2.275094715877004\n",
      "Epoch 94/200, Cross Entropy: 2.275094715877004\n",
      "Epoch 95/200, Cross Entropy: 2.275094715877004\n",
      "Epoch 96/200, Cross Entropy: 2.275094715877004\n",
      "Epoch 97/200, Cross Entropy: 2.275094715877004\n"
     ]
    },
    {
     "name": "stderr",
     "output_type": "stream",
     "text": [
      "Training:  50%|█████     | 101/200 [00:03<00:03, 32.72epoch/s]"
     ]
    },
    {
     "name": "stdout",
     "output_type": "stream",
     "text": [
      "Epoch 98/200, Cross Entropy: 2.275094715877004\n",
      "Epoch 99/200, Cross Entropy: 2.275094715877004\n",
      "Epoch 100/200, Cross Entropy: 2.275094715877004\n",
      "Epoch 101/200, Cross Entropy: 2.275094715877004\n",
      "Epoch 102/200, Cross Entropy: 2.275094715877004\n",
      "Epoch 103/200, Cross Entropy: 2.275094715877004\n"
     ]
    },
    {
     "name": "stderr",
     "output_type": "stream",
     "text": [
      "Training:  55%|█████▍    | 109/200 [00:03<00:02, 33.21epoch/s]"
     ]
    },
    {
     "name": "stdout",
     "output_type": "stream",
     "text": [
      "Epoch 104/200, Cross Entropy: 2.275094715877004\n",
      "Epoch 105/200, Cross Entropy: 2.275094715877004\n",
      "Epoch 106/200, Cross Entropy: 2.275094715877004\n",
      "Epoch 107/200, Cross Entropy: 2.275094715877004\n",
      "Epoch 108/200, Cross Entropy: 2.275094715877004\n",
      "Epoch 109/200, Cross Entropy: 2.275094715877004\n",
      "Epoch 110/200, Cross Entropy: 2.275094715877004\n"
     ]
    },
    {
     "name": "stderr",
     "output_type": "stream",
     "text": [
      "                                                              "
     ]
    },
    {
     "name": "stdout",
     "output_type": "stream",
     "text": [
      "Epoch 111/200, Cross Entropy: 2.275094715877004\n",
      "Epoch 112/200, Cross Entropy: 2.275094715877004\n",
      "Epoch 113/200, Cross Entropy: 2.275094715877004\n",
      "Epoch 114/200, Cross Entropy: 2.275094715877004\n",
      "Epoch 115/200, Cross Entropy: 2.275094715877004\n"
     ]
    },
    {
     "name": "stderr",
     "output_type": "stream",
     "text": [
      "Training:  56%|█████▋    | 113/200 [00:03<00:02, 32.52epoch/s]"
     ]
    },
    {
     "name": "stdout",
     "output_type": "stream",
     "text": [
      "Epoch 116/200, Cross Entropy: 2.275094715877004\n"
     ]
    },
    {
     "name": "stderr",
     "output_type": "stream",
     "text": [
      "Training:  60%|██████    | 120/200 [00:04<00:03, 21.79epoch/s]"
     ]
    },
    {
     "name": "stdout",
     "output_type": "stream",
     "text": [
      "Epoch 117/200, Cross Entropy: 2.275094715877004\n",
      "Epoch 118/200, Cross Entropy: 2.275094715877004\n",
      "Epoch 119/200, Cross Entropy: 2.275094715877004\n",
      "Epoch 120/200, Cross Entropy: 2.275094715877004\n",
      "Epoch 121/200, Cross Entropy: 2.275094715877004\n"
     ]
    },
    {
     "name": "stderr",
     "output_type": "stream",
     "text": [
      "Training:  64%|██████▎   | 127/200 [00:04<00:02, 25.42epoch/s]"
     ]
    },
    {
     "name": "stdout",
     "output_type": "stream",
     "text": [
      "Epoch 122/200, Cross Entropy: 2.275094715877004\n",
      "Epoch 123/200, Cross Entropy: 2.275094715877004\n",
      "Epoch 124/200, Cross Entropy: 2.275094715877004\n",
      "Epoch 125/200, Cross Entropy: 2.275094715877004\n",
      "Epoch 126/200, Cross Entropy: 2.275094715877004\n",
      "Epoch 127/200, Cross Entropy: 2.275094715877004\n"
     ]
    },
    {
     "name": "stderr",
     "output_type": "stream",
     "text": [
      "Training:  66%|██████▌   | 131/200 [00:04<00:02, 27.09epoch/s]"
     ]
    },
    {
     "name": "stdout",
     "output_type": "stream",
     "text": [
      "Epoch 128/200, Cross Entropy: 2.275094715877004\n",
      "Epoch 129/200, Cross Entropy: 2.275094715877004\n",
      "Epoch 130/200, Cross Entropy: 2.275094715877004\n",
      "Epoch 131/200, Cross Entropy: 2.275094715877004\n",
      "Epoch 132/200, Cross Entropy: 2.275094715877004\n",
      "Epoch 133/200, Cross Entropy: 2.275094715877004\n",
      "Epoch 134/200, Cross Entropy: 2.275094715877004\n"
     ]
    },
    {
     "name": "stderr",
     "output_type": "stream",
     "text": [
      "Training:  70%|██████▉   | 139/200 [00:04<00:02, 29.99epoch/s]"
     ]
    },
    {
     "name": "stdout",
     "output_type": "stream",
     "text": [
      "Epoch 135/200, Cross Entropy: 2.275094715877004\n",
      "Epoch 136/200, Cross Entropy: 2.275094715877004\n",
      "Epoch 137/200, Cross Entropy: 2.275094715877004\n",
      "Epoch 138/200, Cross Entropy: 2.275094715877004\n",
      "Epoch 139/200, Cross Entropy: 2.275094715877004\n",
      "Epoch 140/200, Cross Entropy: 2.275094715877004\n"
     ]
    },
    {
     "name": "stderr",
     "output_type": "stream",
     "text": [
      "Training:  72%|███████▏  | 143/200 [00:05<00:01, 30.37epoch/s]"
     ]
    },
    {
     "name": "stdout",
     "output_type": "stream",
     "text": [
      "Epoch 141/200, Cross Entropy: 2.275094715877004\n",
      "Epoch 142/200, Cross Entropy: 2.275094715877004\n",
      "Epoch 143/200, Cross Entropy: 2.275094715877004\n",
      "Epoch 144/200, Cross Entropy: 2.275094715877004\n",
      "Epoch 145/200, Cross Entropy: 2.275094715877004\n",
      "Epoch 146/200, Cross Entropy: 2.275094715877004\n",
      "Epoch 147/200, Cross Entropy: 2.275094715877004\n"
     ]
    },
    {
     "name": "stderr",
     "output_type": "stream",
     "text": [
      "Training:  76%|███████▌  | 151/200 [00:05<00:01, 31.85epoch/s]"
     ]
    },
    {
     "name": "stdout",
     "output_type": "stream",
     "text": [
      "Epoch 148/200, Cross Entropy: 2.275094715877004\n",
      "Epoch 149/200, Cross Entropy: 2.275094715877004\n",
      "Epoch 150/200, Cross Entropy: 2.275094715877004\n",
      "Epoch 151/200, Cross Entropy: 2.275094715877004\n",
      "Epoch 152/200, Cross Entropy: 2.275094715877004\n",
      "Epoch 153/200, Cross Entropy: 2.275094715877004\n"
     ]
    },
    {
     "name": "stderr",
     "output_type": "stream",
     "text": [
      "Training:  80%|███████▉  | 159/200 [00:05<00:01, 33.26epoch/s]"
     ]
    },
    {
     "name": "stdout",
     "output_type": "stream",
     "text": [
      "Epoch 154/200, Cross Entropy: 2.275094715877004\n",
      "Epoch 155/200, Cross Entropy: 2.275094715877004\n",
      "Epoch 156/200, Cross Entropy: 2.275094715877004\n",
      "Epoch 157/200, Cross Entropy: 2.275094715877004\n",
      "Epoch 158/200, Cross Entropy: 2.275094715877004\n",
      "Epoch 159/200, Cross Entropy: 2.275094715877004\n",
      "Epoch 160/200, Cross Entropy: 2.275094715877004\n"
     ]
    },
    {
     "name": "stderr",
     "output_type": "stream",
     "text": [
      "Training:  84%|████████▎ | 167/200 [00:05<00:00, 33.76epoch/s]"
     ]
    },
    {
     "name": "stdout",
     "output_type": "stream",
     "text": [
      "Epoch 161/200, Cross Entropy: 2.275094715877004\n",
      "Epoch 162/200, Cross Entropy: 2.275094715877004\n",
      "Epoch 163/200, Cross Entropy: 2.275094715877004\n",
      "Epoch 164/200, Cross Entropy: 2.275094715877004\n",
      "Epoch 165/200, Cross Entropy: 2.275094715877004\n",
      "Epoch 166/200, Cross Entropy: 2.275094715877004\n",
      "Epoch 167/200, Cross Entropy: 2.275094715877004\n"
     ]
    },
    {
     "name": "stderr",
     "output_type": "stream",
     "text": [
      "                                                              \r"
     ]
    },
    {
     "name": "stdout",
     "output_type": "stream",
     "text": [
      "Epoch 168/200, Cross Entropy: 2.275094715877004\n",
      "Epoch 169/200, Cross Entropy: 2.275094715877004\n",
      "Epoch 170/200, Cross Entropy: 2.275094715877004\n",
      "Epoch 171/200, Cross Entropy: 2.275094715877004\n",
      "Epoch 172/200, Cross Entropy: 2.275094715877004\n",
      "Epoch 173/200, Cross Entropy: 2.275094715877004\n"
     ]
    },
    {
     "name": "stderr",
     "output_type": "stream",
     "text": [
      "Training:  88%|████████▊ | 175/200 [00:05<00:00, 34.28epoch/s]"
     ]
    },
    {
     "name": "stdout",
     "output_type": "stream",
     "text": [
      "Epoch 174/200, Cross Entropy: 2.275094715877004\n",
      "Epoch 175/200, Cross Entropy: 2.275094715877004\n"
     ]
    },
    {
     "name": "stderr",
     "output_type": "stream",
     "text": [
      "Training:  90%|████████▉ | 179/200 [00:06<00:00, 22.02epoch/s]"
     ]
    },
    {
     "name": "stdout",
     "output_type": "stream",
     "text": [
      "Epoch 176/200, Cross Entropy: 2.275094715877004\n",
      "Epoch 177/200, Cross Entropy: 2.275094715877004\n",
      "Epoch 178/200, Cross Entropy: 2.275094715877004\n",
      "Epoch 179/200, Cross Entropy: 2.275094715877004\n",
      "Epoch 180/200, Cross Entropy: 2.275094715877004\n"
     ]
    },
    {
     "name": "stderr",
     "output_type": "stream",
     "text": [
      "                                                              "
     ]
    },
    {
     "name": "stdout",
     "output_type": "stream",
     "text": [
      "Epoch 181/200, Cross Entropy: 2.275094715877004\n",
      "Epoch 182/200, Cross Entropy: 2.275094715877004\n",
      "Epoch 183/200, Cross Entropy: 2.275094715877004\n",
      "Epoch 184/200, Cross Entropy: 2.275094715877004\n",
      "Epoch 185/200, Cross Entropy: 2.275094715877004\n"
     ]
    },
    {
     "name": "stderr",
     "output_type": "stream",
     "text": [
      "Training:  94%|█████████▍| 189/200 [00:06<00:00, 26.37epoch/s]"
     ]
    },
    {
     "name": "stdout",
     "output_type": "stream",
     "text": [
      "Epoch 186/200, Cross Entropy: 2.275094715877004\n",
      "Epoch 187/200, Cross Entropy: 2.275094715877004\n",
      "Epoch 188/200, Cross Entropy: 2.275094715877004\n",
      "Epoch 189/200, Cross Entropy: 2.275094715877004\n",
      "Epoch 190/200, Cross Entropy: 2.275094715877004\n",
      "Epoch 191/200, Cross Entropy: 2.275094715877004\n",
      "Epoch 192/200, Cross Entropy: 2.275094715877004\n"
     ]
    },
    {
     "name": "stderr",
     "output_type": "stream",
     "text": [
      "Training:  98%|█████████▊| 197/200 [00:06<00:00, 29.77epoch/s]"
     ]
    },
    {
     "name": "stdout",
     "output_type": "stream",
     "text": [
      "Epoch 193/200, Cross Entropy: 2.275094715877004\n",
      "Epoch 194/200, Cross Entropy: 2.275094715877004\n",
      "Epoch 195/200, Cross Entropy: 2.275094715877004\n",
      "Epoch 196/200, Cross Entropy: 2.275094715877004\n",
      "Epoch 197/200, Cross Entropy: 2.275094715877004\n",
      "Epoch 198/200, Cross Entropy: 2.275094715877004\n"
     ]
    },
    {
     "name": "stderr",
     "output_type": "stream",
     "text": [
      "Training: 100%|██████████| 200/200 [00:06<00:00, 29.00epoch/s]\n"
     ]
    },
    {
     "name": "stdout",
     "output_type": "stream",
     "text": [
      "Epoch 199/200, Cross Entropy: 2.275094715877004\n",
      "Epoch 200/200, Cross Entropy: 2.275094715877004\n"
     ]
    },
    {
     "name": "stderr",
     "output_type": "stream",
     "text": [
      "Training:   2%|▏         | 3/200 [00:00<00:06, 29.41epoch/s]"
     ]
    },
    {
     "name": "stdout",
     "output_type": "stream",
     "text": [
      "Epoch 1/200, Cross Entropy: 2.07057966722668\n",
      "Epoch 2/200, Cross Entropy: 1.962080592885447\n",
      "Epoch 3/200, Cross Entropy: 1.9011053367257453\n",
      "Epoch 4/200, Cross Entropy: 1.865303797101602\n"
     ]
    },
    {
     "name": "stderr",
     "output_type": "stream",
     "text": [
      "Training:   2%|▏         | 3/200 [00:00<00:06, 29.41epoch/s]"
     ]
    },
    {
     "name": "stdout",
     "output_type": "stream",
     "text": [
      "Epoch 5/200, Cross Entropy: 1.843004889019897\n",
      "Epoch 6/200, Cross Entropy: 1.8282417720867898\n"
     ]
    },
    {
     "name": "stderr",
     "output_type": "stream",
     "text": [
      "Training:   4%|▎         | 7/200 [00:00<00:06, 30.90epoch/s]"
     ]
    },
    {
     "name": "stdout",
     "output_type": "stream",
     "text": [
      "Epoch 7/200, Cross Entropy: 1.8179536236778844\n",
      "Epoch 8/200, Cross Entropy: 1.8104919499254641\n",
      "Epoch 9/200, Cross Entropy: 1.8049121106276824\n",
      "Epoch 10/200, Cross Entropy: 1.8006391176972802\n"
     ]
    },
    {
     "name": "stderr",
     "output_type": "stream",
     "text": [
      "Training:   6%|▌         | 11/200 [00:00<00:05, 32.16epoch/s]"
     ]
    },
    {
     "name": "stdout",
     "output_type": "stream",
     "text": [
      "Epoch 11/200, Cross Entropy: 1.7973039295546045\n",
      "Epoch 12/200, Cross Entropy: 1.7946589977851324\n"
     ]
    },
    {
     "name": "stderr",
     "output_type": "stream",
     "text": [
      "Training:   8%|▊         | 15/200 [00:00<00:05, 31.17epoch/s]"
     ]
    },
    {
     "name": "stdout",
     "output_type": "stream",
     "text": [
      "Epoch 13/200, Cross Entropy: 1.7925322440582512\n",
      "Epoch 14/200, Cross Entropy: 1.7908006132495662\n",
      "Epoch 15/200, Cross Entropy: 1.7893741134153385\n",
      "Epoch 16/200, Cross Entropy: 1.7881857537527939\n"
     ]
    },
    {
     "name": "stderr",
     "output_type": "stream",
     "text": [
      "Training:   8%|▊         | 15/200 [00:00<00:05, 31.17epoch/s]"
     ]
    },
    {
     "name": "stdout",
     "output_type": "stream",
     "text": [
      "Epoch 17/200, Cross Entropy: 1.7871849543804808\n"
     ]
    },
    {
     "name": "stderr",
     "output_type": "stream",
     "text": [
      "Training:  11%|█         | 22/200 [00:00<00:08, 22.02epoch/s]"
     ]
    },
    {
     "name": "stdout",
     "output_type": "stream",
     "text": [
      "Epoch 18/200, Cross Entropy: 1.786333086821853\n",
      "Epoch 19/200, Cross Entropy: 1.785600372054768\n",
      "Epoch 20/200, Cross Entropy: 1.784963672668508\n",
      "Epoch 21/200, Cross Entropy: 1.7844048911532517\n",
      "Epoch 22/200, Cross Entropy: 1.783909789450928\n"
     ]
    },
    {
     "name": "stderr",
     "output_type": "stream",
     "text": [
      "Training:  14%|█▍        | 29/200 [00:01<00:06, 26.97epoch/s]"
     ]
    },
    {
     "name": "stdout",
     "output_type": "stream",
     "text": [
      "Epoch 23/200, Cross Entropy: 1.7834671075556563\n",
      "Epoch 24/200, Cross Entropy: 1.783067898244704\n",
      "Epoch 25/200, Cross Entropy: 1.782705020383079\n",
      "Epoch 26/200, Cross Entropy: 1.7823727500524267\n",
      "Epoch 27/200, Cross Entropy: 1.7820664801610522\n",
      "Epoch 28/200, Cross Entropy: 1.7817824870977852\n",
      "Epoch 29/200, Cross Entropy: 1.781517748574942\n"
     ]
    },
    {
     "name": "stderr",
     "output_type": "stream",
     "text": [
      "Training:  16%|█▌        | 32/200 [00:01<00:06, 27.67epoch/s]"
     ]
    },
    {
     "name": "stdout",
     "output_type": "stream",
     "text": [
      "Epoch 30/200, Cross Entropy: 1.7812698008117518\n",
      "Epoch 31/200, Cross Entropy: 1.7810366261247261\n",
      "Epoch 32/200, Cross Entropy: 1.7808165641381628\n",
      "Epoch 33/200, Cross Entropy: 1.780608241424979\n",
      "Epoch 34/200, Cross Entropy: 1.7804105155865557\n",
      "Epoch 35/200, Cross Entropy: 1.780222430686483\n"
     ]
    },
    {
     "name": "stderr",
     "output_type": "stream",
     "text": [
      "Training:  20%|██        | 40/200 [00:01<00:05, 30.33epoch/s]"
     ]
    },
    {
     "name": "stdout",
     "output_type": "stream",
     "text": [
      "Epoch 36/200, Cross Entropy: 1.7800431816426971\n",
      "Epoch 37/200, Cross Entropy: 1.7798720857103585\n",
      "Epoch 38/200, Cross Entropy: 1.7797085595937872\n",
      "Epoch 39/200, Cross Entropy: 1.7795521010395312\n",
      "Epoch 40/200, Cross Entropy: 1.779402274006035\n",
      "Epoch 41/200, Cross Entropy: 1.7792586966949417\n"
     ]
    },
    {
     "name": "stderr",
     "output_type": "stream",
     "text": [
      "                                                             \r"
     ]
    },
    {
     "name": "stdout",
     "output_type": "stream",
     "text": [
      "Epoch 42/200, Cross Entropy: 1.779121031877257\n",
      "Epoch 43/200, Cross Entropy: 1.7789889790637567\n",
      "Epoch 44/200, Cross Entropy: 1.7788622681604491\n",
      "Epoch 45/200, Cross Entropy: 1.7787406543220157\n",
      "Epoch 46/200, Cross Entropy: 1.7786239137732323\n"
     ]
    },
    {
     "name": "stderr",
     "output_type": "stream",
     "text": [
      "Training:  24%|██▍       | 48/200 [00:01<00:05, 29.73epoch/s]"
     ]
    },
    {
     "name": "stdout",
     "output_type": "stream",
     "text": [
      "Epoch 47/200, Cross Entropy: 1.7785118404136706\n",
      "Epoch 48/200, Cross Entropy: 1.7784042430570275\n",
      "Epoch 49/200, Cross Entropy: 1.7783009431851888\n",
      "Epoch 50/200, Cross Entropy: 1.7782017731201516\n",
      "Epoch 51/200, Cross Entropy: 1.7781065745353666\n",
      "Epoch 52/200, Cross Entropy: 1.7780151972429032\n"
     ]
    },
    {
     "name": "stderr",
     "output_type": "stream",
     "text": [
      "Training:  28%|██▊       | 56/200 [00:02<00:04, 29.57epoch/s]"
     ]
    },
    {
     "name": "stdout",
     "output_type": "stream",
     "text": [
      "Epoch 53/200, Cross Entropy: 1.7779274982047995\n",
      "Epoch 54/200, Cross Entropy: 1.7778433407265837\n",
      "Epoch 55/200, Cross Entropy: 1.7777625937987858\n",
      "Epoch 56/200, Cross Entropy: 1.7776851315585873\n",
      "Epoch 57/200, Cross Entropy: 1.7776108328488789\n",
      "Epoch 58/200, Cross Entropy: 1.7775395808562096\n"
     ]
    },
    {
     "name": "stderr",
     "output_type": "stream",
     "text": [
      "Training:  32%|███▏      | 64/200 [00:02<00:04, 30.95epoch/s]"
     ]
    },
    {
     "name": "stdout",
     "output_type": "stream",
     "text": [
      "Epoch 59/200, Cross Entropy: 1.7774712628124973\n",
      "Epoch 60/200, Cross Entropy: 1.777405769748173\n",
      "Epoch 61/200, Cross Entropy: 1.7773429962866913\n",
      "Epoch 62/200, Cross Entropy: 1.7772828404722083\n",
      "Epoch 63/200, Cross Entropy: 1.7772252036237526\n",
      "Epoch 64/200, Cross Entropy: 1.7771699902104665\n"
     ]
    },
    {
     "name": "stderr",
     "output_type": "stream",
     "text": [
      "Training:  34%|███▍      | 68/200 [00:02<00:04, 31.26epoch/s]"
     ]
    },
    {
     "name": "stdout",
     "output_type": "stream",
     "text": [
      "Epoch 65/200, Cross Entropy: 1.7771171077435028\n",
      "Epoch 66/200, Cross Entropy: 1.7770664666810312\n",
      "Epoch 67/200, Cross Entropy: 1.777017980343463\n",
      "Epoch 68/200, Cross Entropy: 1.7769715648366002\n",
      "Epoch 69/200, Cross Entropy: 1.7769271389808523\n",
      "Epoch 70/200, Cross Entropy: 1.7768846242450533\n"
     ]
    },
    {
     "name": "stderr",
     "output_type": "stream",
     "text": [
      "Training:  36%|███▌      | 72/200 [00:02<00:03, 32.17epoch/s]"
     ]
    },
    {
     "name": "stdout",
     "output_type": "stream",
     "text": [
      "Epoch 71/200, Cross Entropy: 1.7768439446837285\n",
      "Epoch 72/200, Cross Entropy: 1.776805026876898\n"
     ]
    },
    {
     "name": "stderr",
     "output_type": "stream",
     "text": [
      "Training:  38%|███▊      | 76/200 [00:02<00:05, 22.30epoch/s]"
     ]
    },
    {
     "name": "stdout",
     "output_type": "stream",
     "text": [
      "Epoch 73/200, Cross Entropy: 1.7767677998717168\n",
      "Epoch 74/200, Cross Entropy: 1.7767321951254242\n",
      "Epoch 75/200, Cross Entropy: 1.7766981464491949\n",
      "Epoch 76/200, Cross Entropy: 1.7766655899526147\n",
      "Epoch 77/200, Cross Entropy: 1.7766344639885638\n"
     ]
    },
    {
     "name": "stderr",
     "output_type": "stream",
     "text": [
      "Training:  42%|████▏     | 83/200 [00:03<00:04, 25.96epoch/s]"
     ]
    },
    {
     "name": "stdout",
     "output_type": "stream",
     "text": [
      "Epoch 78/200, Cross Entropy: 1.7766047090983867\n",
      "Epoch 79/200, Cross Entropy: 1.7765762679572614\n",
      "Epoch 80/200, Cross Entropy: 1.7765490853197328\n",
      "Epoch 81/200, Cross Entropy: 1.7765231079654107\n",
      "Epoch 82/200, Cross Entropy: 1.7764982846448465\n",
      "Epoch 83/200, Cross Entropy: 1.776474566025628\n",
      "Epoch 84/200, Cross Entropy: 1.7764519046387512\n"
     ]
    },
    {
     "name": "stderr",
     "output_type": "stream",
     "text": [
      "Training:  44%|████▎     | 87/200 [00:03<00:04, 28.19epoch/s]"
     ]
    },
    {
     "name": "stdout",
     "output_type": "stream",
     "text": [
      "Epoch 85/200, Cross Entropy: 1.776430254825317\n",
      "Epoch 86/200, Cross Entropy: 1.7764095726836238\n",
      "Epoch 87/200, Cross Entropy: 1.7763898160167286\n",
      "Epoch 88/200, Cross Entropy: 1.77637094428053\n",
      "Epoch 89/200, Cross Entropy: 1.776352918532453\n",
      "Epoch 90/200, Cross Entropy: 1.7763357013807919\n"
     ]
    },
    {
     "name": "stderr",
     "output_type": "stream",
     "text": [
      "Training:  48%|████▊     | 95/200 [00:03<00:03, 30.06epoch/s]"
     ]
    },
    {
     "name": "stdout",
     "output_type": "stream",
     "text": [
      "Epoch 91/200, Cross Entropy: 1.7763192569347726\n",
      "Epoch 92/200, Cross Entropy: 1.776303550755393\n",
      "Epoch 93/200, Cross Entropy: 1.7762885498070848\n",
      "Epoch 94/200, Cross Entropy: 1.7762742224102575\n",
      "Epoch 95/200, Cross Entropy: 1.7762605381947494\n",
      "Epoch 96/200, Cross Entropy: 1.776247468054234\n"
     ]
    },
    {
     "name": "stderr",
     "output_type": "stream",
     "text": [
      "Training:  50%|████▉     | 99/200 [00:03<00:03, 29.93epoch/s]"
     ]
    },
    {
     "name": "stdout",
     "output_type": "stream",
     "text": [
      "Epoch 97/200, Cross Entropy: 1.7762349841016078\n",
      "Epoch 98/200, Cross Entropy: 1.7762230596253894\n",
      "Epoch 99/200, Cross Entropy: 1.7762116690471454\n",
      "Epoch 100/200, Cross Entropy: 1.7762007878799715\n",
      "Epoch 101/200, Cross Entropy: 1.7761903926880265\n",
      "Epoch 102/200, Cross Entropy: 1.7761804610471477\n"
     ]
    },
    {
     "name": "stderr",
     "output_type": "stream",
     "text": [
      "Training:  54%|█████▎    | 107/200 [00:03<00:02, 31.49epoch/s]"
     ]
    },
    {
     "name": "stdout",
     "output_type": "stream",
     "text": [
      "Epoch 103/200, Cross Entropy: 1.7761709715065332\n",
      "Epoch 104/200, Cross Entropy: 1.7761619035515088\n",
      "Epoch 105/200, Cross Entropy: 1.7761532375673699\n",
      "Epoch 106/200, Cross Entropy: 1.7761449548042954\n",
      "Epoch 107/200, Cross Entropy: 1.7761370373433336\n",
      "Epoch 108/200, Cross Entropy: 1.7761294680634379\n",
      "Epoch 109/200, Cross Entropy: 1.776122230609555\n"
     ]
    },
    {
     "name": "stderr",
     "output_type": "stream",
     "text": [
      "Training:  56%|█████▌    | 111/200 [00:04<00:02, 32.18epoch/s]"
     ]
    },
    {
     "name": "stdout",
     "output_type": "stream",
     "text": [
      "Epoch 110/200, Cross Entropy: 1.7761153093617437\n",
      "Epoch 111/200, Cross Entropy: 1.7761086894053135\n",
      "Epoch 112/200, Cross Entropy: 1.776102356501962\n",
      "Epoch 113/200, Cross Entropy: 1.7760962970618999\n",
      "Epoch 114/200, Cross Entropy: 1.7760904981169396\n",
      "Epoch 115/200, Cross Entropy: 1.7760849472945306\n"
     ]
    },
    {
     "name": "stderr",
     "output_type": "stream",
     "text": [
      "Training:  60%|█████▉    | 119/200 [00:04<00:02, 30.14epoch/s]"
     ]
    },
    {
     "name": "stdout",
     "output_type": "stream",
     "text": [
      "Epoch 116/200, Cross Entropy: 1.7760796327927184\n",
      "Epoch 117/200, Cross Entropy: 1.7760745433560097\n",
      "Epoch 118/200, Cross Entropy: 1.7760696682521158\n",
      "Epoch 119/200, Cross Entropy: 1.7760649972495597\n",
      "Epoch 120/200, Cross Entropy: 1.776060520596117\n",
      "Epoch 121/200, Cross Entropy: 1.7760562289980761\n"
     ]
    },
    {
     "name": "stderr",
     "output_type": "stream",
     "text": [
      "Training:  62%|██████▏   | 123/200 [00:04<00:02, 31.40epoch/s]"
     ]
    },
    {
     "name": "stdout",
     "output_type": "stream",
     "text": [
      "Epoch 122/200, Cross Entropy: 1.7760521136002843\n",
      "Epoch 123/200, Cross Entropy: 1.7760481659669671\n"
     ]
    },
    {
     "name": "stderr",
     "output_type": "stream",
     "text": [
      "Training:  64%|██████▎   | 127/200 [00:04<00:03, 22.24epoch/s]"
     ]
    },
    {
     "name": "stdout",
     "output_type": "stream",
     "text": [
      "Epoch 124/200, Cross Entropy: 1.7760443780632926\n",
      "Epoch 125/200, Cross Entropy: 1.7760407422376574\n",
      "Epoch 126/200, Cross Entropy: 1.7760372512046783\n",
      "Epoch 127/200, Cross Entropy: 1.7760338980288553\n",
      "Epoch 128/200, Cross Entropy: 1.7760306761088978\n"
     ]
    },
    {
     "name": "stderr",
     "output_type": "stream",
     "text": [
      "Training:  67%|██████▋   | 134/200 [00:04<00:02, 25.61epoch/s]"
     ]
    },
    {
     "name": "stdout",
     "output_type": "stream",
     "text": [
      "Epoch 129/200, Cross Entropy: 1.7760275791626832\n",
      "Epoch 130/200, Cross Entropy: 1.7760246012128285\n",
      "Epoch 131/200, Cross Entropy: 1.7760217365728548\n",
      "Epoch 132/200, Cross Entropy: 1.7760189798339236\n",
      "Epoch 133/200, Cross Entropy: 1.7760163258521278\n",
      "Epoch 134/200, Cross Entropy: 1.7760137697363088\n"
     ]
    },
    {
     "name": "stderr",
     "output_type": "stream",
     "text": [
      "Training:  69%|██████▉   | 138/200 [00:05<00:02, 27.54epoch/s]"
     ]
    },
    {
     "name": "stdout",
     "output_type": "stream",
     "text": [
      "Epoch 135/200, Cross Entropy: 1.7760113068363927\n",
      "Epoch 136/200, Cross Entropy: 1.776008932732217\n",
      "Epoch 137/200, Cross Entropy: 1.7760066432228339\n",
      "Epoch 138/200, Cross Entropy: 1.7760044343162709\n",
      "Epoch 139/200, Cross Entropy: 1.776002302219735\n",
      "Epoch 140/200, Cross Entropy: 1.7760002433302375\n",
      "Epoch 141/200, Cross Entropy: 1.775998254225626\n"
     ]
    },
    {
     "name": "stderr",
     "output_type": "stream",
     "text": [
      "                                                              \r"
     ]
    },
    {
     "name": "stdout",
     "output_type": "stream",
     "text": [
      "Epoch 142/200, Cross Entropy: 1.7759963316560115\n",
      "Epoch 143/200, Cross Entropy: 1.7759944725355687\n",
      "Epoch 144/200, Cross Entropy: 1.775992673934698\n",
      "Epoch 145/200, Cross Entropy: 1.7759909330725367\n",
      "Epoch 146/200, Cross Entropy: 1.7759892473097998\n",
      "Epoch 147/200, Cross Entropy: 1.7759876141419446\n"
     ]
    },
    {
     "name": "stderr",
     "output_type": "stream",
     "text": [
      "Training:  77%|███████▋  | 154/200 [00:05<00:01, 31.97epoch/s]"
     ]
    },
    {
     "name": "stdout",
     "output_type": "stream",
     "text": [
      "Epoch 148/200, Cross Entropy: 1.7759860311926363\n",
      "Epoch 149/200, Cross Entropy: 1.7759844962075142\n",
      "Epoch 150/200, Cross Entropy: 1.7759830070482352\n",
      "Epoch 151/200, Cross Entropy: 1.7759815616867876\n",
      "Epoch 152/200, Cross Entropy: 1.7759801582000683\n",
      "Epoch 153/200, Cross Entropy: 1.7759787947647006\n",
      "Epoch 154/200, Cross Entropy: 1.7759774696520974\n"
     ]
    },
    {
     "name": "stderr",
     "output_type": "stream",
     "text": [
      "Training:  79%|███████▉  | 158/200 [00:05<00:01, 31.82epoch/s]"
     ]
    },
    {
     "name": "stdout",
     "output_type": "stream",
     "text": [
      "Epoch 155/200, Cross Entropy: 1.7759761812237471\n",
      "Epoch 156/200, Cross Entropy: 1.775974927926719\n",
      "Epoch 157/200, Cross Entropy: 1.7759737082893772\n",
      "Epoch 158/200, Cross Entropy: 1.7759725209172934\n",
      "Epoch 159/200, Cross Entropy: 1.7759713644893516\n",
      "Epoch 160/200, Cross Entropy: 1.7759702377540356\n"
     ]
    },
    {
     "name": "stderr",
     "output_type": "stream",
     "text": [
      "Training:  83%|████████▎ | 166/200 [00:05<00:01, 32.65epoch/s]"
     ]
    },
    {
     "name": "stdout",
     "output_type": "stream",
     "text": [
      "Epoch 161/200, Cross Entropy: 1.7759691395258894\n",
      "Epoch 162/200, Cross Entropy: 1.7759680686821473\n",
      "Epoch 163/200, Cross Entropy: 1.775967024159521\n",
      "Epoch 164/200, Cross Entropy: 1.7759660049511432\n",
      "Epoch 165/200, Cross Entropy: 1.7759650101036524\n",
      "Epoch 166/200, Cross Entropy: 1.7759640387144209\n",
      "Epoch 167/200, Cross Entropy: 1.7759630899289145\n"
     ]
    },
    {
     "name": "stderr",
     "output_type": "stream",
     "text": [
      "Training:  85%|████████▌ | 170/200 [00:05<00:00, 32.37epoch/s]"
     ]
    },
    {
     "name": "stdout",
     "output_type": "stream",
     "text": [
      "Epoch 168/200, Cross Entropy: 1.775962162938179\n",
      "Epoch 169/200, Cross Entropy: 1.77596125697645\n",
      "Epoch 170/200, Cross Entropy: 1.7759603713188767\n",
      "Epoch 171/200, Cross Entropy: 1.7759595052793589\n",
      "Epoch 172/200, Cross Entropy: 1.7759586582084872\n",
      "Epoch 173/200, Cross Entropy: 1.7759578294915848\n"
     ]
    },
    {
     "name": "stderr",
     "output_type": "stream",
     "text": [
      "Training:  89%|████████▉ | 178/200 [00:06<00:00, 33.06epoch/s]"
     ]
    },
    {
     "name": "stdout",
     "output_type": "stream",
     "text": [
      "Epoch 174/200, Cross Entropy: 1.7759570185468498\n",
      "Epoch 175/200, Cross Entropy: 1.7759562248235816\n",
      "Epoch 176/200, Cross Entropy: 1.7759554478005022\n",
      "Epoch 177/200, Cross Entropy: 1.7759546869841571\n",
      "Epoch 178/200, Cross Entropy: 1.7759539419073984\n",
      "Epoch 179/200, Cross Entropy: 1.7759532121279413\n"
     ]
    },
    {
     "name": "stderr",
     "output_type": "stream",
     "text": [
      "Training:  91%|█████████ | 182/200 [00:06<00:00, 20.76epoch/s]"
     ]
    },
    {
     "name": "stdout",
     "output_type": "stream",
     "text": [
      "Epoch 180/200, Cross Entropy: 1.775952497226997\n",
      "Epoch 181/200, Cross Entropy: 1.7759517968079706\n",
      "Epoch 182/200, Cross Entropy: 1.7759511104952264\n",
      "Epoch 183/200, Cross Entropy: 1.7759504379329196\n"
     ]
    },
    {
     "name": "stderr",
     "output_type": "stream",
     "text": [
      "Training:  94%|█████████▍| 189/200 [00:06<00:00, 24.13epoch/s]"
     ]
    },
    {
     "name": "stdout",
     "output_type": "stream",
     "text": [
      "Epoch 184/200, Cross Entropy: 1.7759497787838825\n",
      "Epoch 185/200, Cross Entropy: 1.775949132728568\n",
      "Epoch 186/200, Cross Entropy: 1.7759484994640544\n",
      "Epoch 187/200, Cross Entropy: 1.775947878703093\n",
      "Epoch 188/200, Cross Entropy: 1.7759472701732115\n",
      "Epoch 189/200, Cross Entropy: 1.7759466736158582\n"
     ]
    },
    {
     "name": "stderr",
     "output_type": "stream",
     "text": [
      "Training:  96%|█████████▋| 193/200 [00:06<00:00, 25.06epoch/s]"
     ]
    },
    {
     "name": "stdout",
     "output_type": "stream",
     "text": [
      "Epoch 190/200, Cross Entropy: 1.7759460887855998\n",
      "Epoch 191/200, Cross Entropy: 1.7759455154493515\n",
      "Epoch 192/200, Cross Entropy: 1.7759449533856546\n",
      "Epoch 193/200, Cross Entropy: 1.7759444023839923\n",
      "Epoch 194/200, Cross Entropy: 1.775943862244135\n",
      "Epoch 195/200, Cross Entropy: 1.7759433327755318\n"
     ]
    },
    {
     "name": "stderr",
     "output_type": "stream",
     "text": [
      "Training: 100%|██████████| 200/200 [00:07<00:00, 28.22epoch/s]\n"
     ]
    },
    {
     "name": "stdout",
     "output_type": "stream",
     "text": [
      "Epoch 196/200, Cross Entropy: 1.7759428137967248\n",
      "Epoch 197/200, Cross Entropy: 1.775942305134801\n",
      "Epoch 198/200, Cross Entropy: 1.7759418066248718\n",
      "Epoch 199/200, Cross Entropy: 1.775941318109582\n",
      "Epoch 200/200, Cross Entropy: 1.7759408394386456\n",
      "Results saved to: ../results/layers/error_rates_layers_3_3layers_200_200_200_1000.txt\n",
      "\n",
      "--------- PRETRAINING PHASE --------\n",
      "\n"
     ]
    },
    {
     "name": "stderr",
     "output_type": "stream",
     "text": [
      "Epoch 0: 100%|██████████| 16/16 [00:00<00:00, 150.95it/s]r/s]\n",
      "Epoch 1: 100%|██████████| 16/16 [00:00<00:00, 156.86it/s]\n",
      "Epoch 2: 100%|██████████| 16/16 [00:00<00:00, 177.77it/s]\n",
      "Epoch 3: 100%|██████████| 16/16 [00:00<00:00, 156.86it/s]\n",
      "Epoch 4: 100%|██████████| 16/16 [00:00<00:00, 150.94it/s]\n",
      "Epoch 5: 100%|██████████| 16/16 [00:00<00:00, 177.78it/s]\n",
      "Epoch 6: 100%|██████████| 16/16 [00:00<00:00, 172.04it/s]\n",
      "Epoch 7: 100%|██████████| 16/16 [00:00<00:00, 172.04it/s]\n",
      "Epoch 8: 100%|██████████| 16/16 [00:00<00:00, 173.91it/s]\n",
      "Epoch 9: 100%|██████████| 16/16 [00:00<00:00, 179.77it/s]\n",
      "Epoch 10: 100%|██████████| 16/16 [00:00<00:00, 153.84it/s]\n",
      "Epoch 11: 100%|██████████| 16/16 [00:00<00:00, 137.93it/s]\n",
      "Epoch 12: 100%|██████████| 16/16 [00:00<00:00, 153.85it/s]\n",
      "Epoch 13: 100%|██████████| 16/16 [00:00<00:00, 138.44it/s]\n",
      "Epoch 14: 100%|██████████| 16/16 [00:00<00:00, 138.66it/s]\n",
      "Epoch 15: 100%|██████████| 16/16 [00:00<00:00, 162.36it/s]\n",
      "Epoch 16: 100%|██████████| 16/16 [00:00<00:00, 170.21it/s]\n",
      "Epoch 17: 100%|██████████| 16/16 [00:00<00:00, 170.21it/s]\n",
      "Epoch 18: 100%|██████████| 16/16 [00:00<00:00, 164.95it/s]\n",
      "Epoch 19: 100%|██████████| 16/16 [00:00<00:00, 142.86it/s]\n",
      "Epoch 20: 100%|██████████| 16/16 [00:00<00:00, 134.45it/s]\n",
      "Epoch 21: 100%|██████████| 16/16 [00:00<00:00, 168.43it/s]\n",
      "Epoch 22: 100%|██████████| 16/16 [00:00<00:00, 192.77it/s]\n",
      "Epoch 23: 100%|██████████| 16/16 [00:00<00:00, 183.91it/s]\n",
      "Epoch 24: 100%|██████████| 16/16 [00:00<00:00, 179.01it/s]\n",
      "Epoch 25: 100%|██████████| 16/16 [00:00<00:00, 191.92it/s]\n",
      "Epoch 26: 100%|██████████| 16/16 [00:00<00:00, 181.75it/s]\n",
      "Epoch 27: 100%|██████████| 16/16 [00:00<00:00, 190.39it/s]\n",
      "Epoch 28: 100%|██████████| 16/16 [00:00<00:00, 192.77it/s]\n",
      "Epoch 29: 100%|██████████| 16/16 [00:00<00:00, 183.84it/s]\n",
      "Epoch 30: 100%|██████████| 16/16 [00:00<00:00, 179.77it/s]\n",
      "Epoch 31: 100%|██████████| 16/16 [00:00<00:00, 183.90it/s]\n",
      "Epoch 32: 100%|██████████| 16/16 [00:00<00:00, 181.82it/s]\n",
      "Epoch 33: 100%|██████████| 16/16 [00:00<00:00, 188.24it/s]\n",
      "Epoch 34: 100%|██████████| 16/16 [00:00<00:00, 179.78it/s]\n",
      "Epoch 35: 100%|██████████| 16/16 [00:00<00:00, 190.48it/s]\n",
      "Epoch 36: 100%|██████████| 16/16 [00:00<00:00, 157.30it/s]\n",
      "Epoch 37: 100%|██████████| 16/16 [00:00<00:00, 162.71it/s]\n",
      "Epoch 38: 100%|██████████| 16/16 [00:00<00:00, 174.07it/s]\n",
      "Epoch 39: 100%|██████████| 16/16 [00:00<00:00, 190.48it/s]\n",
      "Epoch 40: 100%|██████████| 16/16 [00:00<00:00, 172.04it/s]\n",
      "Epoch 41: 100%|██████████| 16/16 [00:00<00:00, 170.21it/s]\n",
      "Epoch 42: 100%|██████████| 16/16 [00:00<00:00, 164.95it/s]\n",
      "Epoch 43: 100%|██████████| 16/16 [00:00<00:00, 111.12it/s]\n",
      "Epoch 44: 100%|██████████| 16/16 [00:00<00:00, 142.87it/s]\n",
      "Epoch 45: 100%|██████████| 16/16 [00:00<00:00, 164.95it/s]\n",
      "Epoch 46: 100%|██████████| 16/16 [00:00<00:00, 166.68it/s]\n",
      "Epoch 47: 100%|██████████| 16/16 [00:00<00:00, 172.05it/s]\n",
      "Epoch 48: 100%|██████████| 16/16 [00:00<00:00, 166.67it/s]\n",
      "Epoch 49: 100%|██████████| 16/16 [00:00<00:00, 175.82it/s]\n",
      "Epoch 50: 100%|██████████| 16/16 [00:00<00:00, 170.21it/s]\n",
      "Epoch 51: 100%|██████████| 16/16 [00:00<00:00, 172.04it/s]\n",
      "Epoch 52: 100%|██████████| 16/16 [00:00<00:00, 175.82it/s]\n",
      "Epoch 53: 100%|██████████| 16/16 [00:00<00:00, 175.82it/s]\n",
      "Epoch 54: 100%|██████████| 16/16 [00:00<00:00, 175.82it/s]\n",
      "Epoch 55: 100%|██████████| 16/16 [00:00<00:00, 170.21it/s]\n",
      "Epoch 56: 100%|██████████| 16/16 [00:00<00:00, 177.78it/s]\n",
      "Epoch 57: 100%|██████████| 16/16 [00:00<00:00, 177.78it/s]\n",
      "Epoch 58: 100%|██████████| 16/16 [00:00<00:00, 161.61it/s]\n",
      "Epoch 59: 100%|██████████| 16/16 [00:00<00:00, 143.19it/s]\n",
      "Epoch 60: 100%|██████████| 16/16 [00:00<00:00, 129.15it/s]\n",
      "Epoch 61: 100%|██████████| 16/16 [00:00<00:00, 175.83it/s]\n",
      "Epoch 62: 100%|██████████| 16/16 [00:00<00:00, 175.82it/s]\n",
      "Epoch 63: 100%|██████████| 16/16 [00:00<00:00, 195.12it/s]\n",
      "Epoch 64: 100%|██████████| 16/16 [00:00<00:00, 183.91it/s]\n",
      "Epoch 65: 100%|██████████| 16/16 [00:00<00:00, 172.04it/s]\n",
      "Epoch 66: 100%|██████████| 16/16 [00:00<00:00, 195.12it/s]\n",
      "Epoch 67: 100%|██████████| 16/16 [00:00<00:00, 177.78it/s]\n",
      "Epoch 68: 100%|██████████| 16/16 [00:00<00:00, 202.53it/s]\n",
      "Epoch 69: 100%|██████████| 16/16 [00:00<00:00, 186.05it/s]\n",
      "Epoch 70: 100%|██████████| 16/16 [00:00<00:00, 195.12it/s]\n",
      "Epoch 71: 100%|██████████| 16/16 [00:00<00:00, 175.82it/s]\n",
      "Epoch 72: 100%|██████████| 16/16 [00:00<00:00, 55.56it/s]\n",
      "Epoch 73: 100%|██████████| 16/16 [00:00<00:00, 150.95it/s]\n",
      "Epoch 74: 100%|██████████| 16/16 [00:00<00:00, 202.54it/s]\n",
      "Epoch 75: 100%|██████████| 16/16 [00:00<00:00, 188.16it/s]\n",
      "Epoch 76: 100%|██████████| 16/16 [00:00<00:00, 183.91it/s]\n",
      "Epoch 77: 100%|██████████| 16/16 [00:00<00:00, 179.70it/s]\n",
      "Epoch 78: 100%|██████████| 16/16 [00:00<00:00, 190.40it/s]\n",
      "Epoch 79: 100%|██████████| 16/16 [00:00<00:00, 170.27it/s]\n",
      "Epoch 80: 100%|██████████| 16/16 [00:00<00:00, 149.90it/s]\n",
      "Epoch 81: 100%|██████████| 16/16 [00:00<00:00, 142.58it/s]\n",
      "Epoch 82: 100%|██████████| 16/16 [00:00<00:00, 119.38it/s]\n",
      "Epoch 83: 100%|██████████| 16/16 [00:00<00:00, 168.43it/s]\n",
      "Epoch 84: 100%|██████████| 16/16 [00:00<00:00, 172.04it/s]\n",
      "Epoch 85: 100%|██████████| 16/16 [00:00<00:00, 168.42it/s]\n",
      "Epoch 86: 100%|██████████| 16/16 [00:00<00:00, 170.21it/s]\n",
      "Epoch 87: 100%|██████████| 16/16 [00:00<00:00, 168.42it/s]\n",
      "Epoch 88: 100%|██████████| 16/16 [00:00<00:00, 170.21it/s]\n",
      "Epoch 89: 100%|██████████| 16/16 [00:00<00:00, 164.95it/s]\n",
      "Epoch 90: 100%|██████████| 16/16 [00:00<00:00, 170.22it/s]\n",
      "Epoch 91: 100%|██████████| 16/16 [00:00<00:00, 155.34it/s]\n",
      "Epoch 92: 100%|██████████| 16/16 [00:00<00:00, 160.00it/s]\n",
      "Epoch 93: 100%|██████████| 16/16 [00:00<00:00, 170.21it/s]\n",
      "Epoch 94: 100%|██████████| 16/16 [00:00<00:00, 166.67it/s]\n",
      "Epoch 95: 100%|██████████| 16/16 [00:00<00:00, 163.27it/s]\n",
      "Epoch 96: 100%|██████████| 16/16 [00:00<00:00, 166.67it/s]\n",
      "Epoch 97: 100%|██████████| 16/16 [00:00<00:00, 166.66it/s]\n",
      "Epoch 98: 100%|██████████| 16/16 [00:00<00:00, 166.67it/s]\n",
      "Epoch 99: 100%|██████████| 16/16 [00:00<00:00, 140.35it/s]\n",
      "Epoch 0: 100%|██████████| 16/16 [00:00<00:00, 516.12it/s]0.25s/layer]\n",
      "Epoch 1: 100%|██████████| 16/16 [00:00<00:00, 551.71it/s]\n",
      "Epoch 2: 100%|██████████| 16/16 [00:00<00:00, 592.58it/s]\n",
      "Epoch 3: 100%|██████████| 16/16 [00:00<00:00, 571.36it/s]\n",
      "Epoch 4: 100%|██████████| 16/16 [00:00<00:00, 551.71it/s]\n",
      "Epoch 5: 100%|██████████| 16/16 [00:00<00:00, 615.39it/s]\n",
      "Epoch 6: 100%|██████████| 16/16 [00:00<00:00, 421.03it/s]\n",
      "Epoch 7: 100%|██████████| 16/16 [00:00<00:00, 508.06it/s]\n",
      "Epoch 8: 100%|██████████| 16/16 [00:00<00:00, 459.91it/s]\n",
      "Epoch 9: 100%|██████████| 16/16 [00:00<00:00, 533.37it/s]\n",
      "Epoch 10: 100%|██████████| 16/16 [00:00<00:00, 410.09it/s]\n",
      "Epoch 11: 100%|██████████| 16/16 [00:00<00:00, 486.63it/s]\n",
      "Epoch 12: 100%|██████████| 16/16 [00:00<00:00, 533.32it/s]\n",
      "Epoch 13: 100%|██████████| 16/16 [00:00<00:00, 470.61it/s]\n",
      "Epoch 14: 100%|██████████| 16/16 [00:00<00:00, 340.44it/s]\n",
      "Epoch 15: 100%|██████████| 16/16 [00:00<00:00, 470.59it/s]\n",
      "Epoch 16: 100%|██████████| 16/16 [00:00<00:00, 592.56it/s]\n",
      "Epoch 17: 100%|██████████| 16/16 [00:00<00:00, 640.02it/s]\n",
      "Epoch 18: 100%|██████████| 16/16 [00:00<00:00, 470.59it/s]\n",
      "Epoch 19: 100%|██████████| 16/16 [00:00<00:00, 571.41it/s]\n",
      "Epoch 20: 100%|██████████| 16/16 [00:00<00:00, 516.17it/s]\n",
      "Epoch 21: 100%|██████████| 16/16 [00:00<00:00, 551.71it/s]\n",
      "Epoch 22: 100%|██████████| 16/16 [00:00<00:00, 592.59it/s]\n",
      "Epoch 23: 100%|██████████| 16/16 [00:00<00:00, 444.39it/s]\n",
      "Epoch 24: 100%|██████████| 16/16 [00:00<00:00, 571.44it/s]\n",
      "Epoch 25: 100%|██████████| 16/16 [00:00<00:00, 551.71it/s]\n",
      "Epoch 26: 100%|██████████| 16/16 [00:00<00:00, 592.54it/s]\n",
      "Epoch 27: 100%|██████████| 16/16 [00:00<00:00, 533.33it/s]\n",
      "Epoch 28: 100%|██████████| 16/16 [00:00<00:00, 615.38it/s]\n",
      "Epoch 29: 100%|██████████| 16/16 [00:00<00:00, 500.02it/s]\n",
      "Epoch 30: 100%|██████████| 16/16 [00:00<00:00, 551.70it/s]\n",
      "Epoch 31: 100%|██████████| 16/16 [00:00<00:00, 571.49it/s]\n",
      "Epoch 32: 100%|██████████| 16/16 [00:00<00:00, 533.32it/s]\n",
      "Epoch 33: 100%|██████████| 16/16 [00:00<00:00, 592.65it/s]\n",
      "Epoch 34: 100%|██████████| 16/16 [00:00<00:00, 592.58it/s]\n",
      "Epoch 35: 100%|██████████| 16/16 [00:00<00:00, 551.71it/s]\n",
      "Epoch 36: 100%|██████████| 16/16 [00:00<00:00, 615.41it/s]\n",
      "Epoch 37: 100%|██████████| 16/16 [00:00<00:00, 571.43it/s]\n",
      "Epoch 38: 100%|██████████| 16/16 [00:00<00:00, 533.30it/s]\n",
      "Epoch 39: 100%|██████████| 16/16 [00:00<00:00, 615.41it/s]\n",
      "Epoch 40: 100%|██████████| 16/16 [00:00<00:00, 571.41it/s]\n",
      "Epoch 41: 100%|██████████| 16/16 [00:00<00:00, 551.69it/s]\n",
      "Epoch 42: 100%|██████████| 16/16 [00:00<00:00, 516.15it/s]\n",
      "Epoch 43: 100%|██████████| 16/16 [00:00<00:00, 615.36it/s]\n",
      "Epoch 44: 100%|██████████| 16/16 [00:00<00:00, 516.09it/s]\n",
      "Epoch 45: 100%|██████████| 16/16 [00:00<00:00, 592.59it/s]\n",
      "Epoch 46: 100%|██████████| 16/16 [00:00<00:00, 571.41it/s]\n",
      "Epoch 47: 100%|██████████| 16/16 [00:00<00:00, 533.33it/s]\n",
      "Epoch 48: 100%|██████████| 16/16 [00:00<00:00, 592.61it/s]\n",
      "Epoch 49: 100%|██████████| 16/16 [00:00<00:00, 571.42it/s]\n",
      "Epoch 50: 100%|██████████| 16/16 [00:00<00:00, 571.41it/s]\n",
      "Epoch 51: 100%|██████████| 16/16 [00:00<00:00, 592.55it/s]\n",
      "Epoch 52: 100%|██████████| 16/16 [00:00<00:00, 615.50it/s]\n",
      "Epoch 53: 100%|██████████| 16/16 [00:00<00:00, 457.15it/s]\n",
      "Epoch 54: 100%|██████████| 16/16 [00:00<00:00, 516.15it/s]\n",
      "Epoch 55: 100%|██████████| 16/16 [00:00<00:00, 615.42it/s]\n",
      "Epoch 56: 100%|██████████| 16/16 [00:00<00:00, 551.70it/s]\n",
      "Epoch 57: 100%|██████████| 16/16 [00:00<00:00, 533.30it/s]\n",
      "Epoch 58: 100%|██████████| 16/16 [00:00<00:00, 571.45it/s]\n",
      "Epoch 59: 100%|██████████| 16/16 [00:00<00:00, 592.58it/s]\n",
      "Epoch 60: 100%|██████████| 16/16 [00:00<00:00, 551.74it/s]\n",
      "Epoch 61: 100%|██████████| 16/16 [00:00<00:00, 615.50it/s]\n",
      "Epoch 62: 100%|██████████| 16/16 [00:00<00:00, 551.72it/s]\n",
      "Epoch 63: 100%|██████████| 16/16 [00:00<00:00, 500.00it/s]\n",
      "Epoch 64: 100%|██████████| 16/16 [00:00<00:00, 516.13it/s]\n",
      "Epoch 65: 100%|██████████| 16/16 [00:00<00:00, 639.92it/s]\n",
      "Epoch 66: 100%|██████████| 16/16 [00:00<00:00, 533.34it/s]\n",
      "Epoch 67: 100%|██████████| 16/16 [00:00<00:00, 551.79it/s]\n",
      "Epoch 68: 100%|██████████| 16/16 [00:00<00:00, 615.37it/s]\n",
      "Epoch 69: 100%|██████████| 16/16 [00:00<00:00, 516.12it/s]\n",
      "Epoch 70: 100%|██████████| 16/16 [00:00<00:00, 444.43it/s]\n",
      "Epoch 71: 100%|██████████| 16/16 [00:00<00:00, 387.36it/s]\n",
      "Epoch 72: 100%|██████████| 16/16 [00:00<00:00, 470.59it/s]\n",
      "Epoch 73: 100%|██████████| 16/16 [00:00<00:00, 571.43it/s]\n",
      "Epoch 74: 100%|██████████| 16/16 [00:00<00:00, 500.00it/s]\n",
      "Epoch 75: 100%|██████████| 16/16 [00:00<00:00, 432.43it/s]\n",
      "Epoch 76: 100%|██████████| 16/16 [00:00<00:00, 557.17it/s]\n",
      "Epoch 77: 100%|██████████| 16/16 [00:00<00:00, 551.76it/s]\n",
      "Epoch 78: 100%|██████████| 16/16 [00:00<00:00, 571.45it/s]\n",
      "Epoch 79: 100%|██████████| 16/16 [00:00<00:00, 551.68it/s]\n",
      "Epoch 80: 100%|██████████| 16/16 [00:00<00:00, 457.18it/s]\n",
      "Epoch 81: 100%|██████████| 16/16 [00:00<00:00, 432.42it/s]\n",
      "Epoch 82: 100%|██████████| 16/16 [00:00<00:00, 81.63it/s]\n",
      "Epoch 83: 100%|██████████| 16/16 [00:00<00:00, 399.97it/s]\n",
      "Epoch 84: 100%|██████████| 16/16 [00:00<00:00, 515.92it/s]\n",
      "Epoch 85: 100%|██████████| 16/16 [00:00<00:00, 399.97it/s]\n",
      "Epoch 86: 100%|██████████| 16/16 [00:00<00:00, 410.31it/s]\n",
      "Epoch 87: 100%|██████████| 16/16 [00:00<00:00, 499.97it/s]\n",
      "Epoch 88: 100%|██████████| 16/16 [00:00<00:00, 639.99it/s]\n",
      "Epoch 89: 100%|██████████| 16/16 [00:00<00:00, 551.71it/s]\n",
      "Epoch 90: 100%|██████████| 16/16 [00:00<00:00, 551.71it/s]\n",
      "Epoch 91: 100%|██████████| 16/16 [00:00<00:00, 571.11it/s]\n",
      "Epoch 92: 100%|██████████| 16/16 [00:00<00:00, 551.71it/s]\n",
      "Epoch 93: 100%|██████████| 16/16 [00:00<00:00, 533.35it/s]\n",
      "Epoch 94: 100%|██████████| 16/16 [00:00<00:00, 615.01it/s]\n",
      "Epoch 95: 100%|██████████| 16/16 [00:00<00:00, 592.45it/s]\n",
      "Epoch 96: 100%|██████████| 16/16 [00:00<00:00, 571.41it/s]\n",
      "Epoch 97: 100%|██████████| 16/16 [00:00<00:00, 551.77it/s]\n",
      "Epoch 98: 100%|██████████| 16/16 [00:00<00:00, 551.79it/s]\n",
      "Epoch 99: 100%|██████████| 16/16 [00:00<00:00, 516.14it/s]\n",
      "Epoch 0: 100%|██████████| 16/16 [00:00<00:00, 571.41it/s]6.42s/layer]\n",
      "Epoch 1: 100%|██████████| 16/16 [00:00<00:00, 592.62it/s]\n",
      "Epoch 2: 100%|██████████| 16/16 [00:00<00:00, 516.15it/s]\n",
      "Epoch 3: 100%|██████████| 16/16 [00:00<00:00, 571.42it/s]\n",
      "Epoch 4: 100%|██████████| 16/16 [00:00<00:00, 571.43it/s]\n",
      "Epoch 5: 100%|██████████| 16/16 [00:00<00:00, 571.41it/s]\n",
      "Epoch 6: 100%|██████████| 16/16 [00:00<00:00, 615.36it/s]\n",
      "Epoch 7: 100%|██████████| 16/16 [00:00<00:00, 592.48it/s]\n",
      "Epoch 8: 100%|██████████| 16/16 [00:00<00:00, 551.92it/s]\n",
      "Epoch 9: 100%|██████████| 16/16 [00:00<00:00, 320.00it/s]\n",
      "Epoch 10: 100%|██████████| 16/16 [00:00<00:00, 571.53it/s]\n",
      "Epoch 11: 100%|██████████| 16/16 [00:00<00:00, 516.15it/s]\n",
      "Epoch 12: 100%|██████████| 16/16 [00:00<00:00, 592.59it/s]\n",
      "Epoch 13: 100%|██████████| 16/16 [00:00<00:00, 615.45it/s]\n",
      "Epoch 14: 100%|██████████| 16/16 [00:00<00:00, 551.74it/s]\n",
      "Epoch 15: 100%|██████████| 16/16 [00:00<00:00, 592.63it/s]\n",
      "Epoch 16: 100%|██████████| 16/16 [00:00<00:00, 533.32it/s]\n",
      "Epoch 17: 100%|██████████| 16/16 [00:00<00:00, 516.16it/s]\n",
      "Epoch 18: 100%|██████████| 16/16 [00:00<00:00, 533.38it/s]\n",
      "Epoch 19: 100%|██████████| 16/16 [00:00<00:00, 592.65it/s]\n",
      "Epoch 20: 100%|██████████| 16/16 [00:00<00:00, 552.07it/s]\n",
      "Epoch 21: 100%|██████████| 16/16 [00:00<00:00, 533.03it/s]\n",
      "Epoch 22: 100%|██████████| 16/16 [00:00<00:00, 533.31it/s]\n",
      "Epoch 23: 100%|██████████| 16/16 [00:00<00:00, 571.55it/s]\n",
      "Epoch 24: 100%|██████████| 16/16 [00:00<00:00, 615.34it/s]\n",
      "Epoch 25: 100%|██████████| 16/16 [00:00<00:00, 500.00it/s]\n",
      "Epoch 26: 100%|██████████| 16/16 [00:00<00:00, 500.00it/s]\n",
      "Epoch 27: 100%|██████████| 16/16 [00:00<00:00, 571.45it/s]\n",
      "Epoch 28: 100%|██████████| 16/16 [00:00<00:00, 484.93it/s]\n",
      "Epoch 29: 100%|██████████| 16/16 [00:00<00:00, 551.71it/s]\n",
      "Epoch 30: 100%|██████████| 16/16 [00:00<00:00, 389.46it/s]\n",
      "Epoch 31: 100%|██████████| 16/16 [00:00<00:00, 513.45it/s]\n",
      "Epoch 32: 100%|██████████| 16/16 [00:00<00:00, 400.83it/s]\n",
      "Epoch 33: 100%|██████████| 16/16 [00:00<00:00, 484.88it/s]\n",
      "Epoch 34: 100%|██████████| 16/16 [00:00<00:00, 513.91it/s]\n",
      "Epoch 35: 100%|██████████| 16/16 [00:00<00:00, 615.46it/s]\n",
      "Epoch 36: 100%|██████████| 16/16 [00:00<00:00, 500.00it/s]\n",
      "Epoch 37: 100%|██████████| 16/16 [00:00<00:00, 615.38it/s]\n",
      "Epoch 38: 100%|██████████| 16/16 [00:00<00:00, 592.58it/s]\n",
      "Epoch 39: 100%|██████████| 16/16 [00:00<00:00, 516.10it/s]\n",
      "Epoch 40: 100%|██████████| 16/16 [00:00<00:00, 551.72it/s]\n",
      "Epoch 41: 100%|██████████| 16/16 [00:00<00:00, 301.91it/s]\n",
      "Epoch 42: 100%|██████████| 16/16 [00:00<00:00, 592.57it/s]\n",
      "Epoch 43: 100%|██████████| 16/16 [00:00<00:00, 571.43it/s]\n",
      "Epoch 44: 100%|██████████| 16/16 [00:00<00:00, 571.42it/s]\n",
      "Epoch 45: 100%|██████████| 16/16 [00:00<00:00, 615.40it/s]\n",
      "Epoch 46: 100%|██████████| 16/16 [00:00<00:00, 615.37it/s]\n",
      "Epoch 47: 100%|██████████| 16/16 [00:00<00:00, 571.41it/s]\n",
      "Epoch 48: 100%|██████████| 16/16 [00:00<00:00, 615.39it/s]\n",
      "Epoch 49: 100%|██████████| 16/16 [00:00<00:00, 500.01it/s]\n",
      "Epoch 50: 100%|██████████| 16/16 [00:00<00:00, 551.68it/s]\n",
      "Epoch 51: 100%|██████████| 16/16 [00:00<00:00, 571.41it/s]\n",
      "Epoch 52: 100%|██████████| 16/16 [00:00<00:00, 551.77it/s]\n",
      "Epoch 53: 100%|██████████| 16/16 [00:00<00:00, 592.50it/s]\n",
      "Epoch 54: 100%|██████████| 16/16 [00:00<00:00, 592.57it/s]\n",
      "Epoch 55: 100%|██████████| 16/16 [00:00<00:00, 533.40it/s]\n",
      "Epoch 56: 100%|██████████| 16/16 [00:00<00:00, 551.74it/s]\n",
      "Epoch 57: 100%|██████████| 16/16 [00:00<00:00, 571.44it/s]\n",
      "Epoch 58: 100%|██████████| 16/16 [00:00<00:00, 615.33it/s]\n",
      "Epoch 59: 100%|██████████| 16/16 [00:00<00:00, 571.42it/s]\n",
      "Epoch 60: 100%|██████████| 16/16 [00:00<00:00, 500.05it/s]\n",
      "Epoch 61: 100%|██████████| 16/16 [00:00<00:00, 500.00it/s]\n",
      "Epoch 62: 100%|██████████| 16/16 [00:00<00:00, 571.40it/s]\n",
      "Epoch 63: 100%|██████████| 16/16 [00:00<00:00, 81.22it/s]\n",
      "Epoch 64: 100%|██████████| 16/16 [00:00<00:00, 444.47it/s]\n",
      "Epoch 65: 100%|██████████| 16/16 [00:00<00:00, 592.55it/s]\n",
      "Epoch 66: 100%|██████████| 16/16 [00:00<00:00, 390.22it/s]\n",
      "Epoch 67: 100%|██████████| 16/16 [00:00<00:00, 421.05it/s]\n",
      "Epoch 68: 100%|██████████| 16/16 [00:00<00:00, 571.50it/s]\n",
      "Epoch 69: 100%|██████████| 16/16 [00:00<00:00, 551.69it/s]\n",
      "Epoch 70: 100%|██████████| 16/16 [00:00<00:00, 533.36it/s]\n",
      "Epoch 71: 100%|██████████| 16/16 [00:00<00:00, 533.32it/s]\n",
      "Epoch 72: 100%|██████████| 16/16 [00:00<00:00, 516.15it/s]\n",
      "Epoch 73: 100%|██████████| 16/16 [00:00<00:00, 533.34it/s]\n",
      "Epoch 74: 100%|██████████| 16/16 [00:00<00:00, 551.76it/s]\n",
      "Epoch 75: 100%|██████████| 16/16 [00:00<00:00, 319.99it/s]\n",
      "Epoch 76: 100%|██████████| 16/16 [00:00<00:00, 533.36it/s]\n",
      "Epoch 77: 100%|██████████| 16/16 [00:00<00:00, 571.47it/s]\n",
      "Epoch 78: 100%|██████████| 16/16 [00:00<00:00, 551.70it/s]\n",
      "Epoch 79: 100%|██████████| 16/16 [00:00<00:00, 551.71it/s]\n",
      "Epoch 80: 100%|██████████| 16/16 [00:00<00:00, 571.45it/s]\n",
      "Epoch 81: 100%|██████████| 16/16 [00:00<00:00, 533.36it/s]\n",
      "Epoch 82: 100%|██████████| 16/16 [00:00<00:00, 533.33it/s]\n",
      "Epoch 83: 100%|██████████| 16/16 [00:00<00:00, 592.60it/s]\n",
      "Epoch 84: 100%|██████████| 16/16 [00:00<00:00, 484.84it/s]\n",
      "Epoch 85: 100%|██████████| 16/16 [00:00<00:00, 615.42it/s]\n",
      "Epoch 86: 100%|██████████| 16/16 [00:00<00:00, 470.61it/s]\n",
      "Epoch 87: 100%|██████████| 16/16 [00:00<00:00, 499.83it/s]\n",
      "Epoch 88: 100%|██████████| 16/16 [00:00<00:00, 491.48it/s]\n",
      "Epoch 89: 100%|██████████| 16/16 [00:00<00:00, 458.25it/s]\n",
      "Epoch 90: 100%|██████████| 16/16 [00:00<00:00, 498.63it/s]\n",
      "Epoch 91: 100%|██████████| 16/16 [00:00<00:00, 551.77it/s]\n",
      "Epoch 92: 100%|██████████| 16/16 [00:00<00:00, 465.19it/s]\n",
      "Epoch 93: 100%|██████████| 16/16 [00:00<00:00, 551.76it/s]\n",
      "Epoch 94: 100%|██████████| 16/16 [00:00<00:00, 516.17it/s]\n",
      "Epoch 95: 100%|██████████| 16/16 [00:00<00:00, 571.47it/s]\n",
      "Epoch 96: 100%|██████████| 16/16 [00:00<00:00, 571.47it/s]\n",
      "Epoch 97: 100%|██████████| 16/16 [00:00<00:00, 500.03it/s]\n",
      "Epoch 98: 100%|██████████| 16/16 [00:00<00:00, 484.87it/s]\n",
      "Epoch 99: 100%|██████████| 16/16 [00:00<00:00, 666.70it/s]\n",
      "Epoch 0: 100%|██████████| 16/16 [00:00<00:00, 533.33it/s]5.21s/layer]\n",
      "Epoch 1: 100%|██████████| 16/16 [00:00<00:00, 484.80it/s]\n",
      "Epoch 2: 100%|██████████| 16/16 [00:00<00:00, 516.19it/s]\n",
      "Epoch 3: 100%|██████████| 16/16 [00:00<00:00, 615.43it/s]\n",
      "Epoch 4: 100%|██████████| 16/16 [00:00<00:00, 571.43it/s]\n",
      "Epoch 5: 100%|██████████| 16/16 [00:00<00:00, 333.33it/s]\n",
      "Epoch 6: 100%|██████████| 16/16 [00:00<00:00, 500.05it/s]\n",
      "Epoch 7: 100%|██████████| 16/16 [00:00<00:00, 592.64it/s]\n",
      "Epoch 8: 100%|██████████| 16/16 [00:00<00:00, 551.71it/s]\n",
      "Epoch 9: 100%|██████████| 16/16 [00:00<00:00, 516.09it/s]\n",
      "Epoch 10: 100%|██████████| 16/16 [00:00<00:00, 516.17it/s]\n",
      "Epoch 11: 100%|██████████| 16/16 [00:00<00:00, 592.58it/s]\n",
      "Epoch 12: 100%|██████████| 16/16 [00:00<00:00, 516.13it/s]\n",
      "Epoch 13: 100%|██████████| 16/16 [00:00<00:00, 457.15it/s]\n",
      "Epoch 14: 100%|██████████| 16/16 [00:00<00:00, 484.85it/s]\n",
      "Epoch 15: 100%|██████████| 16/16 [00:00<00:00, 457.16it/s]\n",
      "Epoch 16: 100%|██████████| 16/16 [00:00<00:00, 571.53it/s]\n",
      "Epoch 17: 100%|██████████| 16/16 [00:00<00:00, 470.47it/s]\n",
      "Epoch 18: 100%|██████████| 16/16 [00:00<00:00, 551.72it/s]\n",
      "Epoch 19: 100%|██████████| 16/16 [00:00<00:00, 516.12it/s]\n",
      "Epoch 20: 100%|██████████| 16/16 [00:00<00:00, 551.67it/s]\n",
      "Epoch 21: 100%|██████████| 16/16 [00:00<00:00, 500.01it/s]\n",
      "Epoch 22: 100%|██████████| 16/16 [00:00<00:00, 484.86it/s]\n",
      "Epoch 23: 100%|██████████| 16/16 [00:00<00:00, 592.61it/s]\n",
      "Epoch 24: 100%|██████████| 16/16 [00:00<00:00, 551.81it/s]\n",
      "Epoch 25: 100%|██████████| 16/16 [00:00<00:00, 551.76it/s]\n",
      "Epoch 26: 100%|██████████| 16/16 [00:00<00:00, 91.43it/s]\n",
      "Epoch 27: 100%|██████████| 16/16 [00:00<00:00, 246.14it/s]\n",
      "Epoch 28: 100%|██████████| 16/16 [00:00<00:00, 551.69it/s]\n",
      "Epoch 29: 100%|██████████| 16/16 [00:00<00:00, 390.24it/s]\n",
      "Epoch 30: 100%|██████████| 16/16 [00:00<00:00, 410.19it/s]\n",
      "Epoch 31: 100%|██████████| 16/16 [00:00<00:00, 533.33it/s]\n",
      "Epoch 32: 100%|██████████| 16/16 [00:00<00:00, 355.55it/s]\n",
      "Epoch 33: 100%|██████████| 16/16 [00:00<00:00, 500.02it/s]\n",
      "Epoch 34: 100%|██████████| 16/16 [00:00<00:00, 571.42it/s]\n",
      "Epoch 35: 100%|██████████| 16/16 [00:00<00:00, 571.40it/s]\n",
      "Epoch 36: 100%|██████████| 16/16 [00:00<00:00, 592.62it/s]\n",
      "Epoch 37: 100%|██████████| 16/16 [00:00<00:00, 533.30it/s]\n",
      "Epoch 38: 100%|██████████| 16/16 [00:00<00:00, 533.84it/s]\n",
      "Epoch 39: 100%|██████████| 16/16 [00:00<00:00, 571.47it/s]\n",
      "Epoch 40: 100%|██████████| 16/16 [00:00<00:00, 551.88it/s]\n",
      "Epoch 41: 100%|██████████| 16/16 [00:00<00:00, 592.60it/s]\n",
      "Epoch 42: 100%|██████████| 16/16 [00:00<00:00, 484.81it/s]\n",
      "Epoch 43: 100%|██████████| 16/16 [00:00<00:00, 410.26it/s]\n",
      "Epoch 44: 100%|██████████| 16/16 [00:00<00:00, 483.17it/s]\n",
      "Epoch 45: 100%|██████████| 16/16 [00:00<00:00, 497.11it/s]\n",
      "Epoch 46: 100%|██████████| 16/16 [00:00<00:00, 437.75it/s]\n",
      "Epoch 47: 100%|██████████| 16/16 [00:00<00:00, 462.62it/s]\n",
      "Epoch 48: 100%|██████████| 16/16 [00:00<00:00, 416.65it/s]\n",
      "Epoch 49: 100%|██████████| 16/16 [00:00<00:00, 592.57it/s]\n",
      "Epoch 50: 100%|██████████| 16/16 [00:00<00:00, 551.74it/s]\n",
      "Epoch 51: 100%|██████████| 16/16 [00:00<00:00, 533.23it/s]\n",
      "Epoch 52: 100%|██████████| 16/16 [00:00<00:00, 500.00it/s]\n",
      "Epoch 53: 100%|██████████| 16/16 [00:00<00:00, 380.95it/s]\n",
      "Epoch 54: 100%|██████████| 16/16 [00:00<00:00, 444.45it/s]\n",
      "Epoch 55: 100%|██████████| 16/16 [00:00<00:00, 592.65it/s]\n",
      "Epoch 56: 100%|██████████| 16/16 [00:00<00:00, 533.26it/s]\n",
      "Epoch 57: 100%|██████████| 16/16 [00:00<00:00, 355.55it/s]\n",
      "Epoch 58: 100%|██████████| 16/16 [00:00<00:00, 500.01it/s]\n",
      "Epoch 59: 100%|██████████| 16/16 [00:00<00:00, 551.70it/s]\n",
      "Epoch 60: 100%|██████████| 16/16 [00:00<00:00, 355.56it/s]\n",
      "Epoch 61: 100%|██████████| 16/16 [00:00<00:00, 592.57it/s]\n",
      "Epoch 62: 100%|██████████| 16/16 [00:00<00:00, 551.61it/s]\n",
      "Epoch 63: 100%|██████████| 16/16 [00:00<00:00, 484.82it/s]\n",
      "Epoch 64: 100%|██████████| 16/16 [00:00<00:00, 571.47it/s]\n",
      "Epoch 65: 100%|██████████| 16/16 [00:00<00:00, 571.39it/s]\n",
      "Epoch 66: 100%|██████████| 16/16 [00:00<00:00, 516.09it/s]\n",
      "Epoch 67: 100%|██████████| 16/16 [00:00<00:00, 499.91it/s]\n",
      "Epoch 68: 100%|██████████| 16/16 [00:00<00:00, 470.57it/s]\n",
      "Epoch 69: 100%|██████████| 16/16 [00:00<00:00, 390.26it/s]\n",
      "Epoch 70: 100%|██████████| 16/16 [00:00<00:00, 551.80it/s]\n",
      "Epoch 71: 100%|██████████| 16/16 [00:00<00:00, 533.33it/s]\n",
      "Epoch 72: 100%|██████████| 16/16 [00:00<00:00, 571.40it/s]\n",
      "Epoch 73: 100%|██████████| 16/16 [00:00<00:00, 571.47it/s]\n",
      "Epoch 74: 100%|██████████| 16/16 [00:00<00:00, 571.38it/s]\n",
      "Epoch 75: 100%|██████████| 16/16 [00:00<00:00, 551.72it/s]\n",
      "Epoch 76: 100%|██████████| 16/16 [00:00<00:00, 571.41it/s]\n",
      "Epoch 77: 100%|██████████| 16/16 [00:00<00:00, 592.71it/s]\n",
      "Epoch 78: 100%|██████████| 16/16 [00:00<00:00, 533.28it/s]\n",
      "Epoch 79: 100%|██████████| 16/16 [00:00<00:00, 83.77it/s]\n",
      "Epoch 80: 100%|██████████| 16/16 [00:00<00:00, 470.64it/s]\n",
      "Epoch 81: 100%|██████████| 16/16 [00:00<00:00, 484.80it/s]\n",
      "Epoch 82: 100%|██████████| 16/16 [00:00<00:00, 347.85it/s]\n",
      "Epoch 83: 100%|██████████| 16/16 [00:00<00:00, 285.73it/s]\n",
      "Epoch 84: 100%|██████████| 16/16 [00:00<00:00, 457.09it/s]\n",
      "Epoch 85: 100%|██████████| 16/16 [00:00<00:00, 499.97it/s]\n",
      "Epoch 86: 100%|██████████| 16/16 [00:00<00:00, 500.04it/s]\n",
      "Epoch 87: 100%|██████████| 16/16 [00:00<00:00, 551.78it/s]\n",
      "Epoch 88: 100%|██████████| 16/16 [00:00<00:00, 533.37it/s]\n",
      "Epoch 89: 100%|██████████| 16/16 [00:00<00:00, 571.43it/s]\n",
      "Epoch 90: 100%|██████████| 16/16 [00:00<00:00, 516.18it/s]\n",
      "Epoch 91: 100%|██████████| 16/16 [00:00<00:00, 516.12it/s]\n",
      "Epoch 92: 100%|██████████| 16/16 [00:00<00:00, 551.74it/s]\n",
      "Epoch 93: 100%|██████████| 16/16 [00:00<00:00, 571.43it/s]\n",
      "Epoch 94: 100%|██████████| 16/16 [00:00<00:00, 592.61it/s]\n",
      "Epoch 95: 100%|██████████| 16/16 [00:00<00:00, 457.16it/s]\n",
      "Epoch 96: 100%|██████████| 16/16 [00:00<00:00, 516.19it/s]\n",
      "Epoch 97: 100%|██████████| 16/16 [00:00<00:00, 571.41it/s]\n",
      "Epoch 98: 100%|██████████| 16/16 [00:00<00:00, 470.56it/s]\n",
      "Epoch 99: 100%|██████████| 16/16 [00:00<00:00, 533.33it/s]\n",
      "Training RBM layers: 100%|██████████| 4/4 [00:21<00:00,  5.47s/layer]\n"
     ]
    },
    {
     "name": "stdout",
     "output_type": "stream",
     "text": [
      "\n",
      "\n",
      "--------- BACKPROPAGATION --------\n"
     ]
    },
    {
     "name": "stderr",
     "output_type": "stream",
     "text": [
      "Training:   1%|          | 2/200 [00:00<00:10, 18.71epoch/s]"
     ]
    },
    {
     "name": "stdout",
     "output_type": "stream",
     "text": [
      "Epoch 1/200, Cross Entropy: 2.279020237140757\n",
      "Epoch 2/200, Cross Entropy: 2.2756480915098245\n",
      "Epoch 3/200, Cross Entropy: 2.275189069910879\n"
     ]
    },
    {
     "name": "stderr",
     "output_type": "stream",
     "text": [
      "Training:   2%|▎         | 5/200 [00:00<00:08, 23.29epoch/s]"
     ]
    },
    {
     "name": "stdout",
     "output_type": "stream",
     "text": [
      "Epoch 4/200, Cross Entropy: 2.275112789214492\n",
      "Epoch 5/200, Cross Entropy: 2.2750984749583063\n"
     ]
    },
    {
     "name": "stderr",
     "output_type": "stream",
     "text": [
      "Training:   4%|▍         | 8/200 [00:00<00:08, 23.54epoch/s]"
     ]
    },
    {
     "name": "stdout",
     "output_type": "stream",
     "text": [
      "Epoch 6/200, Cross Entropy: 2.2750955353603866\n",
      "Epoch 7/200, Cross Entropy: 2.2750948914184383\n",
      "Epoch 8/200, Cross Entropy: 2.2750947441108718\n"
     ]
    },
    {
     "name": "stderr",
     "output_type": "stream",
     "text": [
      "Training:   4%|▍         | 8/200 [00:00<00:08, 23.54epoch/s]"
     ]
    },
    {
     "name": "stdout",
     "output_type": "stream",
     "text": [
      "Epoch 9/200, Cross Entropy: 2.2750947094597196\n",
      "Epoch 10/200, Cross Entropy: 2.2750947011627876\n"
     ]
    },
    {
     "name": "stderr",
     "output_type": "stream",
     "text": [
      "Training:   6%|▌         | 11/200 [00:00<00:07, 24.53epoch/s]"
     ]
    },
    {
     "name": "stdout",
     "output_type": "stream",
     "text": [
      "Epoch 11/200, Cross Entropy: 2.275094699153258\n",
      "Epoch 12/200, Cross Entropy: 2.2750946986628007\n",
      "Epoch 13/200, Cross Entropy: 2.275094698542451\n"
     ]
    },
    {
     "name": "stderr",
     "output_type": "stream",
     "text": [
      "Training:   7%|▋         | 14/200 [00:00<00:07, 25.01epoch/s]"
     ]
    },
    {
     "name": "stdout",
     "output_type": "stream",
     "text": [
      "Epoch 14/200, Cross Entropy: 2.2750946985128015\n"
     ]
    },
    {
     "name": "stderr",
     "output_type": "stream",
     "text": [
      "Training:   7%|▋         | 14/200 [00:00<00:07, 25.01epoch/s]"
     ]
    },
    {
     "name": "stdout",
     "output_type": "stream",
     "text": [
      "Epoch 15/200, Cross Entropy: 2.275094698505474\n"
     ]
    },
    {
     "name": "stderr",
     "output_type": "stream",
     "text": [
      "                                                             \r"
     ]
    },
    {
     "name": "stdout",
     "output_type": "stream",
     "text": [
      "Epoch 16/200, Cross Entropy: 2.275094698503659\n",
      "Epoch 17/200, Cross Entropy: 2.2750946985032083\n"
     ]
    },
    {
     "name": "stderr",
     "output_type": "stream",
     "text": [
      "Training:  10%|▉         | 19/200 [00:00<00:10, 17.09epoch/s]"
     ]
    },
    {
     "name": "stdout",
     "output_type": "stream",
     "text": [
      "Epoch 18/200, Cross Entropy: 2.2750946985030964\n",
      "Epoch 19/200, Cross Entropy: 2.2750946985030684\n"
     ]
    },
    {
     "name": "stderr",
     "output_type": "stream",
     "text": [
      "Training:  10%|▉         | 19/200 [00:01<00:10, 17.09epoch/s]"
     ]
    },
    {
     "name": "stdout",
     "output_type": "stream",
     "text": [
      "Epoch 20/200, Cross Entropy: 2.275094698503062\n",
      "Epoch 21/200, Cross Entropy: 2.27509469850306\n"
     ]
    },
    {
     "name": "stderr",
     "output_type": "stream",
     "text": [
      "Training:  11%|█         | 22/200 [00:01<00:09, 18.58epoch/s]"
     ]
    },
    {
     "name": "stdout",
     "output_type": "stream",
     "text": [
      "Epoch 22/200, Cross Entropy: 2.275094698503059\n",
      "Epoch 23/200, Cross Entropy: 2.275094698503059\n",
      "Epoch 24/200, Cross Entropy: 2.2750946985030596\n"
     ]
    },
    {
     "name": "stderr",
     "output_type": "stream",
     "text": [
      "Training:  12%|█▎        | 25/200 [00:01<00:08, 20.72epoch/s]"
     ]
    },
    {
     "name": "stdout",
     "output_type": "stream",
     "text": [
      "Epoch 25/200, Cross Entropy: 2.2750946985030596\n",
      "Epoch 26/200, Cross Entropy: 2.2750946985030596\n",
      "Epoch 27/200, Cross Entropy: 2.2750946985030596\n"
     ]
    },
    {
     "name": "stderr",
     "output_type": "stream",
     "text": [
      "Training:  14%|█▍        | 28/200 [00:01<00:07, 22.46epoch/s]"
     ]
    },
    {
     "name": "stdout",
     "output_type": "stream",
     "text": [
      "Epoch 28/200, Cross Entropy: 2.2750946985030596\n",
      "Epoch 29/200, Cross Entropy: 2.2750946985030596\n"
     ]
    },
    {
     "name": "stderr",
     "output_type": "stream",
     "text": [
      "Training:  16%|█▌        | 31/200 [00:01<00:07, 22.92epoch/s]"
     ]
    },
    {
     "name": "stdout",
     "output_type": "stream",
     "text": [
      "Epoch 30/200, Cross Entropy: 2.2750946985030596\n",
      "Epoch 31/200, Cross Entropy: 2.2750946985030596\n",
      "Epoch 32/200, Cross Entropy: 2.2750946985030596\n"
     ]
    },
    {
     "name": "stderr",
     "output_type": "stream",
     "text": [
      "Training:  17%|█▋        | 34/200 [00:01<00:07, 23.53epoch/s]"
     ]
    },
    {
     "name": "stdout",
     "output_type": "stream",
     "text": [
      "Epoch 33/200, Cross Entropy: 2.2750946985030596\n",
      "Epoch 34/200, Cross Entropy: 2.2750946985030596\n"
     ]
    },
    {
     "name": "stderr",
     "output_type": "stream",
     "text": [
      "Training:  18%|█▊        | 37/200 [00:01<00:07, 22.84epoch/s]"
     ]
    },
    {
     "name": "stdout",
     "output_type": "stream",
     "text": [
      "Epoch 35/200, Cross Entropy: 2.2750946985030596\n",
      "Epoch 36/200, Cross Entropy: 2.2750946985030596\n",
      "Epoch 37/200, Cross Entropy: 2.2750946985030596\n"
     ]
    },
    {
     "name": "stderr",
     "output_type": "stream",
     "text": [
      "Training:  18%|█▊        | 37/200 [00:01<00:07, 22.84epoch/s]"
     ]
    },
    {
     "name": "stdout",
     "output_type": "stream",
     "text": [
      "Epoch 38/200, Cross Entropy: 2.2750946985030596\n",
      "Epoch 39/200, Cross Entropy: 2.2750946985030596\n"
     ]
    },
    {
     "name": "stderr",
     "output_type": "stream",
     "text": [
      "Training:  22%|██▏       | 43/200 [00:02<00:08, 17.96epoch/s]"
     ]
    },
    {
     "name": "stdout",
     "output_type": "stream",
     "text": [
      "Epoch 40/200, Cross Entropy: 2.2750946985030596\n",
      "Epoch 41/200, Cross Entropy: 2.2750946985030596\n",
      "Epoch 42/200, Cross Entropy: 2.2750946985030596\n",
      "Epoch 43/200, Cross Entropy: 2.2750946985030596\n"
     ]
    },
    {
     "name": "stderr",
     "output_type": "stream",
     "text": [
      "Training:  23%|██▎       | 46/200 [00:02<00:08, 18.72epoch/s]"
     ]
    },
    {
     "name": "stdout",
     "output_type": "stream",
     "text": [
      "Epoch 44/200, Cross Entropy: 2.2750946985030596\n",
      "Epoch 45/200, Cross Entropy: 2.2750946985030596\n",
      "Epoch 46/200, Cross Entropy: 2.2750946985030596\n",
      "Epoch 47/200, Cross Entropy: 2.2750946985030596\n",
      "Epoch 48/200, Cross Entropy: 2.2750946985030596\n"
     ]
    },
    {
     "name": "stderr",
     "output_type": "stream",
     "text": [
      "Training:  26%|██▌       | 52/200 [00:02<00:06, 21.42epoch/s]"
     ]
    },
    {
     "name": "stdout",
     "output_type": "stream",
     "text": [
      "Epoch 49/200, Cross Entropy: 2.2750946985030596\n",
      "Epoch 50/200, Cross Entropy: 2.2750946985030596\n",
      "Epoch 51/200, Cross Entropy: 2.2750946985030596\n",
      "Epoch 52/200, Cross Entropy: 2.2750946985030596\n",
      "Epoch 53/200, Cross Entropy: 2.2750946985030596\n"
     ]
    },
    {
     "name": "stderr",
     "output_type": "stream",
     "text": [
      "Training:  28%|██▊       | 56/200 [00:02<00:05, 24.09epoch/s]"
     ]
    },
    {
     "name": "stdout",
     "output_type": "stream",
     "text": [
      "Epoch 54/200, Cross Entropy: 2.2750946985030596\n",
      "Epoch 55/200, Cross Entropy: 2.2750946985030596\n",
      "Epoch 56/200, Cross Entropy: 2.2750946985030596\n",
      "Epoch 57/200, Cross Entropy: 2.2750946985030596\n",
      "Epoch 58/200, Cross Entropy: 2.2750946985030596\n",
      "Epoch 59/200, Cross Entropy: 2.2750946985030596\n"
     ]
    },
    {
     "name": "stderr",
     "output_type": "stream",
     "text": [
      "Training:  32%|███▏      | 63/200 [00:02<00:05, 27.01epoch/s]"
     ]
    },
    {
     "name": "stdout",
     "output_type": "stream",
     "text": [
      "Epoch 60/200, Cross Entropy: 2.2750946985030596\n",
      "Epoch 61/200, Cross Entropy: 2.2750946985030596\n",
      "Epoch 62/200, Cross Entropy: 2.2750946985030596\n",
      "Epoch 63/200, Cross Entropy: 2.2750946985030596\n",
      "Epoch 64/200, Cross Entropy: 2.2750946985030596\n",
      "Epoch 65/200, Cross Entropy: 2.2750946985030596\n"
     ]
    },
    {
     "name": "stderr",
     "output_type": "stream",
     "text": [
      "Training:  35%|███▌      | 70/200 [00:03<00:04, 28.36epoch/s]"
     ]
    },
    {
     "name": "stdout",
     "output_type": "stream",
     "text": [
      "Epoch 66/200, Cross Entropy: 2.2750946985030596\n",
      "Epoch 67/200, Cross Entropy: 2.2750946985030596\n",
      "Epoch 68/200, Cross Entropy: 2.2750946985030596\n",
      "Epoch 69/200, Cross Entropy: 2.2750946985030596\n",
      "Epoch 70/200, Cross Entropy: 2.2750946985030596\n",
      "Epoch 71/200, Cross Entropy: 2.2750946985030596\n"
     ]
    },
    {
     "name": "stderr",
     "output_type": "stream",
     "text": [
      "Training:  37%|███▋      | 74/200 [00:03<00:04, 29.13epoch/s]"
     ]
    },
    {
     "name": "stdout",
     "output_type": "stream",
     "text": [
      "Epoch 72/200, Cross Entropy: 2.2750946985030596\n",
      "Epoch 73/200, Cross Entropy: 2.2750946985030596\n",
      "Epoch 74/200, Cross Entropy: 2.2750946985030596\n",
      "Epoch 75/200, Cross Entropy: 2.2750946985030596\n",
      "Epoch 76/200, Cross Entropy: 2.2750946985030596\n",
      "Epoch 77/200, Cross Entropy: 2.2750946985030596\n"
     ]
    },
    {
     "name": "stderr",
     "output_type": "stream",
     "text": [
      "Training:  41%|████      | 82/200 [00:03<00:03, 30.93epoch/s]"
     ]
    },
    {
     "name": "stdout",
     "output_type": "stream",
     "text": [
      "Epoch 78/200, Cross Entropy: 2.2750946985030596\n",
      "Epoch 79/200, Cross Entropy: 2.2750946985030596\n",
      "Epoch 80/200, Cross Entropy: 2.2750946985030596\n",
      "Epoch 81/200, Cross Entropy: 2.2750946985030596\n",
      "Epoch 82/200, Cross Entropy: 2.2750946985030596\n",
      "Epoch 83/200, Cross Entropy: 2.2750946985030596\n",
      "Epoch 84/200, Cross Entropy: 2.2750946985030596\n"
     ]
    },
    {
     "name": "stderr",
     "output_type": "stream",
     "text": [
      "Training:  43%|████▎     | 86/200 [00:03<00:03, 30.81epoch/s]"
     ]
    },
    {
     "name": "stdout",
     "output_type": "stream",
     "text": [
      "Epoch 85/200, Cross Entropy: 2.2750946985030596\n",
      "Epoch 86/200, Cross Entropy: 2.2750946985030596\n"
     ]
    },
    {
     "name": "stderr",
     "output_type": "stream",
     "text": [
      "Training:  45%|████▌     | 90/200 [00:03<00:05, 21.23epoch/s]"
     ]
    },
    {
     "name": "stdout",
     "output_type": "stream",
     "text": [
      "Epoch 87/200, Cross Entropy: 2.2750946985030596\n",
      "Epoch 88/200, Cross Entropy: 2.2750946985030596\n",
      "Epoch 89/200, Cross Entropy: 2.2750946985030596\n",
      "Epoch 90/200, Cross Entropy: 2.2750946985030596\n",
      "Epoch 91/200, Cross Entropy: 2.2750946985030596\n"
     ]
    },
    {
     "name": "stderr",
     "output_type": "stream",
     "text": [
      "Training:  47%|████▋     | 94/200 [00:04<00:04, 23.04epoch/s]"
     ]
    },
    {
     "name": "stdout",
     "output_type": "stream",
     "text": [
      "Epoch 92/200, Cross Entropy: 2.2750946985030596\n",
      "Epoch 93/200, Cross Entropy: 2.2750946985030596\n",
      "Epoch 94/200, Cross Entropy: 2.2750946985030596\n",
      "Epoch 95/200, Cross Entropy: 2.2750946985030596\n",
      "Epoch 96/200, Cross Entropy: 2.2750946985030596\n",
      "Epoch 97/200, Cross Entropy: 2.2750946985030596\n"
     ]
    },
    {
     "name": "stderr",
     "output_type": "stream",
     "text": [
      "Training:  50%|█████     | 101/200 [00:04<00:03, 26.32epoch/s]"
     ]
    },
    {
     "name": "stdout",
     "output_type": "stream",
     "text": [
      "Epoch 98/200, Cross Entropy: 2.275094698503059\n",
      "Epoch 99/200, Cross Entropy: 2.2750946985030596\n",
      "Epoch 100/200, Cross Entropy: 2.2750946985030596\n",
      "Epoch 101/200, Cross Entropy: 2.2750946985030596\n",
      "Epoch 102/200, Cross Entropy: 2.2750946985030596\n",
      "Epoch 103/200, Cross Entropy: 2.2750946985030596\n"
     ]
    },
    {
     "name": "stderr",
     "output_type": "stream",
     "text": [
      "Training:  54%|█████▍    | 108/200 [00:04<00:03, 26.67epoch/s]"
     ]
    },
    {
     "name": "stdout",
     "output_type": "stream",
     "text": [
      "Epoch 104/200, Cross Entropy: 2.2750946985030596\n",
      "Epoch 105/200, Cross Entropy: 2.2750946985030596\n",
      "Epoch 106/200, Cross Entropy: 2.2750946985030596\n",
      "Epoch 107/200, Cross Entropy: 2.2750946985030596\n",
      "Epoch 108/200, Cross Entropy: 2.2750946985030596\n"
     ]
    },
    {
     "name": "stderr",
     "output_type": "stream",
     "text": [
      "Training:  56%|█████▌    | 111/200 [00:04<00:03, 24.81epoch/s]"
     ]
    },
    {
     "name": "stdout",
     "output_type": "stream",
     "text": [
      "Epoch 109/200, Cross Entropy: 2.2750946985030596\n",
      "Epoch 110/200, Cross Entropy: 2.2750946985030596\n",
      "Epoch 111/200, Cross Entropy: 2.2750946985030596\n",
      "Epoch 112/200, Cross Entropy: 2.2750946985030596\n",
      "Epoch 113/200, Cross Entropy: 2.2750946985030596\n"
     ]
    },
    {
     "name": "stderr",
     "output_type": "stream",
     "text": [
      "Training:  59%|█████▉    | 118/200 [00:04<00:03, 26.01epoch/s]"
     ]
    },
    {
     "name": "stdout",
     "output_type": "stream",
     "text": [
      "Epoch 114/200, Cross Entropy: 2.2750946985030596\n",
      "Epoch 115/200, Cross Entropy: 2.2750946985030596\n",
      "Epoch 116/200, Cross Entropy: 2.2750946985030596\n",
      "Epoch 117/200, Cross Entropy: 2.2750946985030596\n",
      "Epoch 118/200, Cross Entropy: 2.2750946985030596\n"
     ]
    },
    {
     "name": "stderr",
     "output_type": "stream",
     "text": [
      "Training:  60%|██████    | 121/200 [00:05<00:03, 25.91epoch/s]"
     ]
    },
    {
     "name": "stdout",
     "output_type": "stream",
     "text": [
      "Epoch 119/200, Cross Entropy: 2.275094698503059\n",
      "Epoch 120/200, Cross Entropy: 2.2750946985030596\n",
      "Epoch 121/200, Cross Entropy: 2.2750946985030596\n",
      "Epoch 122/200, Cross Entropy: 2.2750946985030596\n",
      "Epoch 123/200, Cross Entropy: 2.2750946985030596\n"
     ]
    },
    {
     "name": "stderr",
     "output_type": "stream",
     "text": [
      "Training:  62%|██████▏   | 124/200 [00:05<00:03, 24.14epoch/s]"
     ]
    },
    {
     "name": "stdout",
     "output_type": "stream",
     "text": [
      "Epoch 124/200, Cross Entropy: 2.2750946985030596\n",
      "Epoch 125/200, Cross Entropy: 2.2750946985030596\n"
     ]
    },
    {
     "name": "stderr",
     "output_type": "stream",
     "text": [
      "Training:  64%|██████▎   | 127/200 [00:05<00:03, 18.61epoch/s]"
     ]
    },
    {
     "name": "stdout",
     "output_type": "stream",
     "text": [
      "Epoch 126/200, Cross Entropy: 2.2750946985030596\n",
      "Epoch 127/200, Cross Entropy: 2.2750946985030596\n"
     ]
    },
    {
     "name": "stderr",
     "output_type": "stream",
     "text": [
      "Training:  65%|██████▌   | 130/200 [00:05<00:04, 14.33epoch/s]"
     ]
    },
    {
     "name": "stdout",
     "output_type": "stream",
     "text": [
      "Epoch 128/200, Cross Entropy: 2.2750946985030596\n",
      "Epoch 129/200, Cross Entropy: 2.2750946985030596\n",
      "Epoch 130/200, Cross Entropy: 2.2750946985030596\n",
      "Epoch 131/200, Cross Entropy: 2.2750946985030596\n"
     ]
    },
    {
     "name": "stderr",
     "output_type": "stream",
     "text": [
      "Training:  68%|██████▊   | 136/200 [00:06<00:03, 18.51epoch/s]"
     ]
    },
    {
     "name": "stdout",
     "output_type": "stream",
     "text": [
      "Epoch 132/200, Cross Entropy: 2.2750946985030596\n",
      "Epoch 133/200, Cross Entropy: 2.2750946985030596\n",
      "Epoch 134/200, Cross Entropy: 2.2750946985030596\n",
      "Epoch 135/200, Cross Entropy: 2.2750946985030596\n",
      "Epoch 136/200, Cross Entropy: 2.2750946985030596\n"
     ]
    },
    {
     "name": "stderr",
     "output_type": "stream",
     "text": [
      "Training:  71%|███████   | 142/200 [00:06<00:02, 22.36epoch/s]"
     ]
    },
    {
     "name": "stdout",
     "output_type": "stream",
     "text": [
      "Epoch 137/200, Cross Entropy: 2.2750946985030596\n",
      "Epoch 138/200, Cross Entropy: 2.2750946985030596\n",
      "Epoch 139/200, Cross Entropy: 2.2750946985030596\n",
      "Epoch 140/200, Cross Entropy: 2.2750946985030596\n",
      "Epoch 141/200, Cross Entropy: 2.2750946985030596\n",
      "Epoch 142/200, Cross Entropy: 2.2750946985030596\n"
     ]
    },
    {
     "name": "stderr",
     "output_type": "stream",
     "text": [
      "Training:  72%|███████▎  | 145/200 [00:06<00:02, 23.25epoch/s]"
     ]
    },
    {
     "name": "stdout",
     "output_type": "stream",
     "text": [
      "Epoch 143/200, Cross Entropy: 2.2750946985030596\n",
      "Epoch 144/200, Cross Entropy: 2.2750946985030596\n",
      "Epoch 145/200, Cross Entropy: 2.2750946985030596\n",
      "Epoch 146/200, Cross Entropy: 2.2750946985030596\n",
      "Epoch 147/200, Cross Entropy: 2.2750946985030596\n"
     ]
    },
    {
     "name": "stderr",
     "output_type": "stream",
     "text": [
      "                                                              "
     ]
    },
    {
     "name": "stdout",
     "output_type": "stream",
     "text": [
      "Epoch 148/200, Cross Entropy: 2.2750946985030596\n",
      "Epoch 149/200, Cross Entropy: 2.2750946985030596\n",
      "Epoch 150/200, Cross Entropy: 2.2750946985030596\n",
      "Epoch 151/200, Cross Entropy: 2.2750946985030596\n",
      "Epoch 152/200, Cross Entropy: 2.2750946985030596\n"
     ]
    },
    {
     "name": "stderr",
     "output_type": "stream",
     "text": [
      "Training:  78%|███████▊  | 157/200 [00:06<00:01, 26.46epoch/s]"
     ]
    },
    {
     "name": "stdout",
     "output_type": "stream",
     "text": [
      "Epoch 153/200, Cross Entropy: 2.2750946985030596\n",
      "Epoch 154/200, Cross Entropy: 2.2750946985030596\n",
      "Epoch 155/200, Cross Entropy: 2.2750946985030596\n",
      "Epoch 156/200, Cross Entropy: 2.2750946985030596\n",
      "Epoch 157/200, Cross Entropy: 2.2750946985030596\n"
     ]
    },
    {
     "name": "stderr",
     "output_type": "stream",
     "text": [
      "Training:  80%|████████  | 160/200 [00:07<00:01, 25.04epoch/s]"
     ]
    },
    {
     "name": "stdout",
     "output_type": "stream",
     "text": [
      "Epoch 158/200, Cross Entropy: 2.2750946985030596\n",
      "Epoch 159/200, Cross Entropy: 2.2750946985030596\n",
      "Epoch 160/200, Cross Entropy: 2.2750946985030596\n",
      "Epoch 161/200, Cross Entropy: 2.2750946985030596\n",
      "Epoch 162/200, Cross Entropy: 2.2750946985030596\n"
     ]
    },
    {
     "name": "stderr",
     "output_type": "stream",
     "text": [
      "Training:  83%|████████▎ | 166/200 [00:07<00:01, 25.59epoch/s]"
     ]
    },
    {
     "name": "stdout",
     "output_type": "stream",
     "text": [
      "Epoch 163/200, Cross Entropy: 2.2750946985030596\n",
      "Epoch 164/200, Cross Entropy: 2.2750946985030596\n",
      "Epoch 165/200, Cross Entropy: 2.2750946985030596\n",
      "Epoch 166/200, Cross Entropy: 2.2750946985030596\n",
      "Epoch 167/200, Cross Entropy: 2.2750946985030596\n"
     ]
    },
    {
     "name": "stderr",
     "output_type": "stream",
     "text": [
      "Training:  84%|████████▍ | 169/200 [00:07<00:01, 26.62epoch/s]"
     ]
    },
    {
     "name": "stdout",
     "output_type": "stream",
     "text": [
      "Epoch 168/200, Cross Entropy: 2.2750946985030596\n",
      "Epoch 169/200, Cross Entropy: 2.2750946985030596\n"
     ]
    },
    {
     "name": "stderr",
     "output_type": "stream",
     "text": [
      "Training:  86%|████████▌ | 172/200 [00:07<00:01, 17.89epoch/s]"
     ]
    },
    {
     "name": "stdout",
     "output_type": "stream",
     "text": [
      "Epoch 170/200, Cross Entropy: 2.2750946985030596\n",
      "Epoch 171/200, Cross Entropy: 2.2750946985030596\n",
      "Epoch 172/200, Cross Entropy: 2.2750946985030596\n",
      "Epoch 173/200, Cross Entropy: 2.2750946985030596\n"
     ]
    },
    {
     "name": "stderr",
     "output_type": "stream",
     "text": [
      "Training:  89%|████████▉ | 178/200 [00:07<00:01, 21.09epoch/s]"
     ]
    },
    {
     "name": "stdout",
     "output_type": "stream",
     "text": [
      "Epoch 174/200, Cross Entropy: 2.2750946985030596\n",
      "Epoch 175/200, Cross Entropy: 2.2750946985030596\n",
      "Epoch 176/200, Cross Entropy: 2.2750946985030596\n",
      "Epoch 177/200, Cross Entropy: 2.2750946985030596\n",
      "Epoch 178/200, Cross Entropy: 2.2750946985030596\n"
     ]
    },
    {
     "name": "stderr",
     "output_type": "stream",
     "text": [
      "Training:  90%|█████████ | 181/200 [00:08<00:00, 22.22epoch/s]"
     ]
    },
    {
     "name": "stdout",
     "output_type": "stream",
     "text": [
      "Epoch 179/200, Cross Entropy: 2.2750946985030596\n",
      "Epoch 180/200, Cross Entropy: 2.2750946985030596\n",
      "Epoch 181/200, Cross Entropy: 2.2750946985030596\n",
      "Epoch 182/200, Cross Entropy: 2.2750946985030596\n",
      "Epoch 183/200, Cross Entropy: 2.2750946985030596\n",
      "Epoch 184/200, Cross Entropy: 2.2750946985030596\n"
     ]
    },
    {
     "name": "stderr",
     "output_type": "stream",
     "text": [
      "Training:  94%|█████████▍| 188/200 [00:08<00:00, 25.09epoch/s]"
     ]
    },
    {
     "name": "stdout",
     "output_type": "stream",
     "text": [
      "Epoch 185/200, Cross Entropy: 2.2750946985030596\n",
      "Epoch 186/200, Cross Entropy: 2.2750946985030596\n",
      "Epoch 187/200, Cross Entropy: 2.2750946985030596\n",
      "Epoch 188/200, Cross Entropy: 2.2750946985030596\n",
      "Epoch 189/200, Cross Entropy: 2.2750946985030596\n"
     ]
    },
    {
     "name": "stderr",
     "output_type": "stream",
     "text": [
      "Training:  97%|█████████▋| 194/200 [00:08<00:00, 25.79epoch/s]"
     ]
    },
    {
     "name": "stdout",
     "output_type": "stream",
     "text": [
      "Epoch 190/200, Cross Entropy: 2.2750946985030596\n",
      "Epoch 191/200, Cross Entropy: 2.2750946985030596\n",
      "Epoch 192/200, Cross Entropy: 2.2750946985030596\n",
      "Epoch 193/200, Cross Entropy: 2.2750946985030596\n",
      "Epoch 194/200, Cross Entropy: 2.2750946985030596\n"
     ]
    },
    {
     "name": "stderr",
     "output_type": "stream",
     "text": [
      "Training: 100%|██████████| 200/200 [00:08<00:00, 27.05epoch/s]"
     ]
    },
    {
     "name": "stdout",
     "output_type": "stream",
     "text": [
      "Epoch 195/200, Cross Entropy: 2.2750946985030596\n",
      "Epoch 196/200, Cross Entropy: 2.2750946985030596\n",
      "Epoch 197/200, Cross Entropy: 2.2750946985030596\n",
      "Epoch 198/200, Cross Entropy: 2.2750946985030596\n",
      "Epoch 199/200, Cross Entropy: 2.2750946985030596\n",
      "Epoch 200/200, Cross Entropy: 2.2750946985030596\n"
     ]
    },
    {
     "name": "stderr",
     "output_type": "stream",
     "text": [
      "Training: 100%|██████████| 200/200 [00:08<00:00, 23.26epoch/s]\n",
      "Training:   2%|▏         | 3/200 [00:00<00:07, 26.09epoch/s]"
     ]
    },
    {
     "name": "stdout",
     "output_type": "stream",
     "text": [
      "Epoch 1/200, Cross Entropy: 2.07075227867455\n",
      "Epoch 2/200, Cross Entropy: 1.953498444050871\n",
      "Epoch 3/200, Cross Entropy: 1.89939012411069\n",
      "Epoch 4/200, Cross Entropy: 1.870837786298015\n",
      "Epoch 5/200, Cross Entropy: 1.8540122417054197\n",
      "Epoch 6/200, Cross Entropy: 1.8432231392609957\n"
     ]
    },
    {
     "name": "stderr",
     "output_type": "stream",
     "text": [
      "Training:   5%|▌         | 10/200 [00:00<00:06, 27.70epoch/s]"
     ]
    },
    {
     "name": "stdout",
     "output_type": "stream",
     "text": [
      "Epoch 7/200, Cross Entropy: 1.8358499164825743\n",
      "Epoch 8/200, Cross Entropy: 1.8305624660501159\n",
      "Epoch 9/200, Cross Entropy: 1.8266294438917072\n",
      "Epoch 10/200, Cross Entropy: 1.8236216771862708\n",
      "Epoch 11/200, Cross Entropy: 1.8212731521867773\n",
      "Epoch 12/200, Cross Entropy: 1.8194108564566154\n"
     ]
    },
    {
     "name": "stderr",
     "output_type": "stream",
     "text": [
      "Training:   8%|▊         | 16/200 [00:00<00:07, 25.20epoch/s]"
     ]
    },
    {
     "name": "stdout",
     "output_type": "stream",
     "text": [
      "Epoch 13/200, Cross Entropy: 1.8179172680555886\n",
      "Epoch 14/200, Cross Entropy: 1.816709383186425\n",
      "Epoch 15/200, Cross Entropy: 1.8157265508012386\n",
      "Epoch 16/200, Cross Entropy: 1.8149231743761605\n"
     ]
    },
    {
     "name": "stderr",
     "output_type": "stream",
     "text": [
      "Training:   8%|▊         | 16/200 [00:00<00:07, 25.20epoch/s]"
     ]
    },
    {
     "name": "stdout",
     "output_type": "stream",
     "text": [
      "Epoch 17/200, Cross Entropy: 1.814264183473695\n",
      "Epoch 18/200, Cross Entropy: 1.8137221231068392\n"
     ]
    },
    {
     "name": "stderr",
     "output_type": "stream",
     "text": [
      "Training:  11%|█         | 22/200 [00:01<00:09, 18.88epoch/s]"
     ]
    },
    {
     "name": "stdout",
     "output_type": "stream",
     "text": [
      "Epoch 19/200, Cross Entropy: 1.8132752131682317\n",
      "Epoch 20/200, Cross Entropy: 1.8129060064149307\n",
      "Epoch 21/200, Cross Entropy: 1.8126004277324719\n",
      "Epoch 22/200, Cross Entropy: 1.8123470648406397\n",
      "Epoch 23/200, Cross Entropy: 1.8121366308857092\n"
     ]
    },
    {
     "name": "stderr",
     "output_type": "stream",
     "text": [
      "Training:  14%|█▍        | 29/200 [00:01<00:07, 24.06epoch/s]"
     ]
    },
    {
     "name": "stdout",
     "output_type": "stream",
     "text": [
      "Epoch 24/200, Cross Entropy: 1.8119615487281238\n",
      "Epoch 25/200, Cross Entropy: 1.8118156241986216\n",
      "Epoch 26/200, Cross Entropy: 1.811693786216317\n",
      "Epoch 27/200, Cross Entropy: 1.811591878297071\n",
      "Epoch 28/200, Cross Entropy: 1.8115064902573956\n",
      "Epoch 29/200, Cross Entropy: 1.8114348217729006\n"
     ]
    },
    {
     "name": "stderr",
     "output_type": "stream",
     "text": [
      "Training:  16%|█▋        | 33/200 [00:01<00:06, 25.86epoch/s]"
     ]
    },
    {
     "name": "stdout",
     "output_type": "stream",
     "text": [
      "Epoch 30/200, Cross Entropy: 1.8113745714237546\n",
      "Epoch 31/200, Cross Entropy: 1.8113238462721228\n",
      "Epoch 32/200, Cross Entropy: 1.8112810880593408\n",
      "Epoch 33/200, Cross Entropy: 1.8112450129009758\n",
      "Epoch 34/200, Cross Entropy: 1.8112145619696278\n",
      "Epoch 35/200, Cross Entropy: 1.8111888611365015\n"
     ]
    },
    {
     "name": "stderr",
     "output_type": "stream",
     "text": [
      "Training:  20%|██        | 41/200 [00:01<00:05, 28.99epoch/s]"
     ]
    },
    {
     "name": "stdout",
     "output_type": "stream",
     "text": [
      "Epoch 36/200, Cross Entropy: 1.8111671879256679\n",
      "Epoch 37/200, Cross Entropy: 1.8111489444423179\n",
      "Epoch 38/200, Cross Entropy: 1.8111336351844223\n",
      "Epoch 39/200, Cross Entropy: 1.8111208488483768\n",
      "Epoch 40/200, Cross Entropy: 1.8111102434026836\n",
      "Epoch 41/200, Cross Entropy: 1.8111015338368326\n"
     ]
    },
    {
     "name": "stderr",
     "output_type": "stream",
     "text": [
      "Training:  22%|██▎       | 45/200 [00:01<00:05, 29.12epoch/s]"
     ]
    },
    {
     "name": "stdout",
     "output_type": "stream",
     "text": [
      "Epoch 42/200, Cross Entropy: 1.8110944821010477\n",
      "Epoch 43/200, Cross Entropy: 1.8110888888410581\n",
      "Epoch 44/200, Cross Entropy: 1.8110845866042815\n",
      "Epoch 45/200, Cross Entropy: 1.8110814342527608\n",
      "Epoch 46/200, Cross Entropy: 1.8110793123663336\n",
      "Epoch 47/200, Cross Entropy: 1.8110781194588257\n"
     ]
    },
    {
     "name": "stderr",
     "output_type": "stream",
     "text": [
      "Training:  26%|██▋       | 53/200 [00:02<00:04, 30.30epoch/s]"
     ]
    },
    {
     "name": "stdout",
     "output_type": "stream",
     "text": [
      "Epoch 48/200, Cross Entropy: 1.8110777688621595\n",
      "Epoch 49/200, Cross Entropy: 1.8110781861595207\n",
      "Epoch 50/200, Cross Entropy: 1.8110793070701383\n",
      "Epoch 51/200, Cross Entropy: 1.811081075705778\n",
      "Epoch 52/200, Cross Entropy: 1.811083443133373\n",
      "Epoch 53/200, Cross Entropy: 1.81108636618993\n"
     ]
    },
    {
     "name": "stderr",
     "output_type": "stream",
     "text": [
      "Training:  28%|██▊       | 57/200 [00:02<00:04, 29.89epoch/s]"
     ]
    },
    {
     "name": "stdout",
     "output_type": "stream",
     "text": [
      "Epoch 54/200, Cross Entropy: 1.8110898065054606\n",
      "Epoch 55/200, Cross Entropy: 1.811093729697543\n",
      "Epoch 56/200, Cross Entropy: 1.811098104707542\n",
      "Epoch 57/200, Cross Entropy: 1.8111029032538277\n",
      "Epoch 58/200, Cross Entropy: 1.8111080993816373\n",
      "Epoch 59/200, Cross Entropy: 1.8111136690927983\n"
     ]
    },
    {
     "name": "stderr",
     "output_type": "stream",
     "text": [
      "Training:  32%|███▎      | 65/200 [00:02<00:04, 30.27epoch/s]"
     ]
    },
    {
     "name": "stdout",
     "output_type": "stream",
     "text": [
      "Epoch 60/200, Cross Entropy: 1.8111195900414607\n",
      "Epoch 61/200, Cross Entropy: 1.8111258412843747\n",
      "Epoch 62/200, Cross Entropy: 1.8111324030762463\n",
      "Epoch 63/200, Cross Entropy: 1.8111392567023372\n",
      "Epoch 64/200, Cross Entropy: 1.8111463843418014\n",
      "Epoch 65/200, Cross Entropy: 1.8111537689563957\n"
     ]
    },
    {
     "name": "stderr",
     "output_type": "stream",
     "text": [
      "Training:  32%|███▎      | 65/200 [00:02<00:04, 30.27epoch/s]"
     ]
    },
    {
     "name": "stdout",
     "output_type": "stream",
     "text": [
      "Epoch 66/200, Cross Entropy: 1.811161394200088\n",
      "Epoch 67/200, Cross Entropy: 1.8111692443458676\n",
      "Epoch 68/200, Cross Entropy: 1.8111773042266877\n"
     ]
    },
    {
     "name": "stderr",
     "output_type": "stream",
     "text": [
      "Training:  36%|███▌      | 72/200 [00:02<00:05, 22.55epoch/s]"
     ]
    },
    {
     "name": "stdout",
     "output_type": "stream",
     "text": [
      "Epoch 69/200, Cross Entropy: 1.8111855591879813\n",
      "Epoch 70/200, Cross Entropy: 1.8111939950496505\n",
      "Epoch 71/200, Cross Entropy: 1.81120259807575\n",
      "Epoch 72/200, Cross Entropy: 1.811211354950427\n"
     ]
    },
    {
     "name": "stderr",
     "output_type": "stream",
     "text": [
      "Training:  38%|███▊      | 75/200 [00:03<00:05, 22.05epoch/s]"
     ]
    },
    {
     "name": "stdout",
     "output_type": "stream",
     "text": [
      "Epoch 73/200, Cross Entropy: 1.8112202527588956\n",
      "Epoch 74/200, Cross Entropy: 1.8112292789724527\n",
      "Epoch 75/200, Cross Entropy: 1.811238421436697\n",
      "Epoch 76/200, Cross Entropy: 1.811247668362275\n",
      "Epoch 77/200, Cross Entropy: 1.8112570083175856\n"
     ]
    },
    {
     "name": "stderr",
     "output_type": "stream",
     "text": [
      "Training:  40%|████      | 81/200 [00:03<00:05, 23.47epoch/s]"
     ]
    },
    {
     "name": "stdout",
     "output_type": "stream",
     "text": [
      "Epoch 78/200, Cross Entropy: 1.8112664302229775\n",
      "Epoch 79/200, Cross Entropy: 1.81127592334606\n",
      "Epoch 80/200, Cross Entropy: 1.8112854772978177\n",
      "Epoch 81/200, Cross Entropy: 1.811295082029276\n",
      "Epoch 82/200, Cross Entropy: 1.8113047278285141\n"
     ]
    },
    {
     "name": "stderr",
     "output_type": "stream",
     "text": [
      "Training:  44%|████▎     | 87/200 [00:03<00:04, 24.80epoch/s]"
     ]
    },
    {
     "name": "stdout",
     "output_type": "stream",
     "text": [
      "Epoch 83/200, Cross Entropy: 1.81131440531786\n",
      "Epoch 84/200, Cross Entropy: 1.811324105451145\n",
      "Epoch 85/200, Cross Entropy: 1.8113338195109108\n",
      "Epoch 86/200, Cross Entropy: 1.8113435391054948\n",
      "Epoch 87/200, Cross Entropy: 1.8113532561659373\n"
     ]
    },
    {
     "name": "stderr",
     "output_type": "stream",
     "text": [
      "Training:  45%|████▌     | 90/200 [00:03<00:04, 25.48epoch/s]"
     ]
    },
    {
     "name": "stdout",
     "output_type": "stream",
     "text": [
      "Epoch 88/200, Cross Entropy: 1.8113629629426646\n",
      "Epoch 89/200, Cross Entropy: 1.811372652001926\n",
      "Epoch 90/200, Cross Entropy: 1.8113823162219602\n",
      "Epoch 91/200, Cross Entropy: 1.8113919487888896\n",
      "Epoch 92/200, Cross Entropy: 1.811401543192335\n"
     ]
    },
    {
     "name": "stderr",
     "output_type": "stream",
     "text": [
      "Training:  48%|████▊     | 96/200 [00:03<00:04, 25.91epoch/s]"
     ]
    },
    {
     "name": "stdout",
     "output_type": "stream",
     "text": [
      "Epoch 93/200, Cross Entropy: 1.811411093220757\n",
      "Epoch 94/200, Cross Entropy: 1.8114205929565386\n",
      "Epoch 95/200, Cross Entropy: 1.811430036770809\n",
      "Epoch 96/200, Cross Entropy: 1.8114394193180376\n",
      "Epoch 97/200, Cross Entropy: 1.8114487355304063\n"
     ]
    },
    {
     "name": "stderr",
     "output_type": "stream",
     "text": [
      "Training:  51%|█████     | 102/200 [00:04<00:03, 27.36epoch/s]"
     ]
    },
    {
     "name": "stdout",
     "output_type": "stream",
     "text": [
      "Epoch 98/200, Cross Entropy: 1.8114579806119822\n",
      "Epoch 99/200, Cross Entropy: 1.8114671500327073\n",
      "Epoch 100/200, Cross Entropy: 1.8114762395222335\n",
      "Epoch 101/200, Cross Entropy: 1.8114852450636114\n",
      "Epoch 102/200, Cross Entropy: 1.8114941628868622\n",
      "Epoch 103/200, Cross Entropy: 1.8115029894624477\n"
     ]
    },
    {
     "name": "stderr",
     "output_type": "stream",
     "text": [
      "Training:  53%|█████▎    | 106/200 [00:04<00:03, 28.73epoch/s]"
     ]
    },
    {
     "name": "stdout",
     "output_type": "stream",
     "text": [
      "Epoch 104/200, Cross Entropy: 1.8115117214946643\n",
      "Epoch 105/200, Cross Entropy: 1.811520355914972\n",
      "Epoch 106/200, Cross Entropy: 1.8115288898752773\n",
      "Epoch 107/200, Cross Entropy: 1.811537320741199\n",
      "Epoch 108/200, Cross Entropy: 1.8115456460853157\n",
      "Epoch 109/200, Cross Entropy: 1.8115538636804254\n"
     ]
    },
    {
     "name": "stderr",
     "output_type": "stream",
     "text": [
      "Training:  55%|█████▌    | 110/200 [00:04<00:03, 29.69epoch/s]"
     ]
    },
    {
     "name": "stdout",
     "output_type": "stream",
     "text": [
      "Epoch 110/200, Cross Entropy: 1.8115619714928228\n",
      "Epoch 111/200, Cross Entropy: 1.8115699676756147\n"
     ]
    },
    {
     "name": "stderr",
     "output_type": "stream",
     "text": [
      "Training:  58%|█████▊    | 116/200 [00:04<00:04, 20.93epoch/s]"
     ]
    },
    {
     "name": "stdout",
     "output_type": "stream",
     "text": [
      "Epoch 112/200, Cross Entropy: 1.8115778505620774\n",
      "Epoch 113/200, Cross Entropy: 1.811585618659081\n",
      "Epoch 114/200, Cross Entropy: 1.8115932706405764\n",
      "Epoch 115/200, Cross Entropy: 1.8116008053411683\n",
      "Epoch 116/200, Cross Entropy: 1.811608221749772\n",
      "Epoch 117/200, Cross Entropy: 1.8116155190033745\n"
     ]
    },
    {
     "name": "stderr",
     "output_type": "stream",
     "text": [
      "Training:  60%|██████    | 120/200 [00:04<00:03, 23.72epoch/s]"
     ]
    },
    {
     "name": "stdout",
     "output_type": "stream",
     "text": [
      "Epoch 118/200, Cross Entropy: 1.8116226963808928\n",
      "Epoch 119/200, Cross Entropy: 1.8116297532971508\n",
      "Epoch 120/200, Cross Entropy: 1.8116366892969673\n",
      "Epoch 121/200, Cross Entropy: 1.8116435040493701\n",
      "Epoch 122/200, Cross Entropy: 1.8116501973419368\n",
      "Epoch 123/200, Cross Entropy: 1.8116567690752625\n"
     ]
    },
    {
     "name": "stderr",
     "output_type": "stream",
     "text": [
      "Training:  64%|██████▎   | 127/200 [00:05<00:02, 27.14epoch/s]"
     ]
    },
    {
     "name": "stdout",
     "output_type": "stream",
     "text": [
      "Epoch 124/200, Cross Entropy: 1.8116632192575657\n",
      "Epoch 125/200, Cross Entropy: 1.8116695479994285\n",
      "Epoch 126/200, Cross Entropy: 1.811675755508671\n",
      "Epoch 127/200, Cross Entropy: 1.8116818420853746\n",
      "Epoch 128/200, Cross Entropy: 1.811687808117037\n",
      "Epoch 129/200, Cross Entropy: 1.8116936540738693\n"
     ]
    },
    {
     "name": "stderr",
     "output_type": "stream",
     "text": [
      "Training:  67%|██████▋   | 134/200 [00:05<00:02, 27.89epoch/s]"
     ]
    },
    {
     "name": "stdout",
     "output_type": "stream",
     "text": [
      "Epoch 130/200, Cross Entropy: 1.8116993805042445\n",
      "Epoch 131/200, Cross Entropy: 1.8117049880302722\n",
      "Epoch 132/200, Cross Entropy: 1.8117104773435273\n",
      "Epoch 133/200, Cross Entropy: 1.8117158492009096\n",
      "Epoch 134/200, Cross Entropy: 1.8117211044206472\n"
     ]
    },
    {
     "name": "stderr",
     "output_type": "stream",
     "text": [
      "Training:  68%|██████▊   | 137/200 [00:05<00:02, 26.10epoch/s]"
     ]
    },
    {
     "name": "stdout",
     "output_type": "stream",
     "text": [
      "Epoch 135/200, Cross Entropy: 1.8117262438784358\n",
      "Epoch 136/200, Cross Entropy: 1.8117312685037141\n",
      "Epoch 137/200, Cross Entropy: 1.8117361792760711\n",
      "Epoch 138/200, Cross Entropy: 1.8117409772217907\n",
      "Epoch 139/200, Cross Entropy: 1.8117456634105185\n"
     ]
    },
    {
     "name": "stderr",
     "output_type": "stream",
     "text": [
      "Training:  72%|███████▏  | 143/200 [00:05<00:02, 27.30epoch/s]"
     ]
    },
    {
     "name": "stdout",
     "output_type": "stream",
     "text": [
      "Epoch 140/200, Cross Entropy: 1.811750238952063\n",
      "Epoch 141/200, Cross Entropy: 1.8117547049933194\n",
      "Epoch 142/200, Cross Entropy: 1.8117590627153124\n",
      "Epoch 143/200, Cross Entropy: 1.8117633133303648\n",
      "Epoch 144/200, Cross Entropy: 1.8117674580793803\n",
      "Epoch 145/200, Cross Entropy: 1.811771498229239\n"
     ]
    },
    {
     "name": "stderr",
     "output_type": "stream",
     "text": [
      "Training:  75%|███████▌  | 150/200 [00:05<00:01, 29.05epoch/s]"
     ]
    },
    {
     "name": "stdout",
     "output_type": "stream",
     "text": [
      "Epoch 146/200, Cross Entropy: 1.8117754350703053\n",
      "Epoch 147/200, Cross Entropy: 1.8117792699140487\n",
      "Epoch 148/200, Cross Entropy: 1.8117830040907617\n",
      "Epoch 149/200, Cross Entropy: 1.8117866389473896\n",
      "Epoch 150/200, Cross Entropy: 1.8117901758454529\n",
      "Epoch 151/200, Cross Entropy: 1.811793616159069\n"
     ]
    },
    {
     "name": "stderr",
     "output_type": "stream",
     "text": [
      "Training:  77%|███████▋  | 154/200 [00:06<00:01, 29.02epoch/s]"
     ]
    },
    {
     "name": "stdout",
     "output_type": "stream",
     "text": [
      "Epoch 152/200, Cross Entropy: 1.811796961273071\n",
      "Epoch 153/200, Cross Entropy: 1.8118002125812105\n",
      "Epoch 154/200, Cross Entropy: 1.811803371484455\n",
      "Epoch 155/200, Cross Entropy: 1.811806439389367\n",
      "Epoch 156/200, Cross Entropy: 1.8118094177065671\n",
      "Epoch 157/200, Cross Entropy: 1.8118123078492758\n"
     ]
    },
    {
     "name": "stderr",
     "output_type": "stream",
     "text": [
      "Training:  79%|███████▉  | 158/200 [00:06<00:01, 30.09epoch/s]"
     ]
    },
    {
     "name": "stdout",
     "output_type": "stream",
     "text": [
      "Epoch 158/200, Cross Entropy: 1.8118151112319296\n",
      "Epoch 159/200, Cross Entropy: 1.8118178292688776\n"
     ]
    },
    {
     "name": "stderr",
     "output_type": "stream",
     "text": [
      "Training:  81%|████████  | 162/200 [00:06<00:01, 21.47epoch/s]"
     ]
    },
    {
     "name": "stdout",
     "output_type": "stream",
     "text": [
      "Epoch 160/200, Cross Entropy: 1.811820463373143\n",
      "Epoch 161/200, Cross Entropy: 1.8118230149552574\n",
      "Epoch 162/200, Cross Entropy: 1.8118254854221583\n",
      "Epoch 163/200, Cross Entropy: 1.8118278761761537\n",
      "Epoch 164/200, Cross Entropy: 1.8118301886139456\n"
     ]
    },
    {
     "name": "stderr",
     "output_type": "stream",
     "text": [
      "Training:  84%|████████▍ | 168/200 [00:06<00:01, 23.17epoch/s]"
     ]
    },
    {
     "name": "stdout",
     "output_type": "stream",
     "text": [
      "Epoch 165/200, Cross Entropy: 1.8118324241257113\n",
      "Epoch 166/200, Cross Entropy: 1.8118345840942454\n",
      "Epoch 167/200, Cross Entropy: 1.8118366698941528\n",
      "Epoch 168/200, Cross Entropy: 1.8118386828910935\n",
      "Epoch 169/200, Cross Entropy: 1.8118406244410792\n",
      "Epoch 170/200, Cross Entropy: 1.8118424958898167\n"
     ]
    },
    {
     "name": "stderr",
     "output_type": "stream",
     "text": [
      "Training:  88%|████████▊ | 175/200 [00:06<00:00, 26.67epoch/s]"
     ]
    },
    {
     "name": "stdout",
     "output_type": "stream",
     "text": [
      "Epoch 171/200, Cross Entropy: 1.8118442985720982\n",
      "Epoch 172/200, Cross Entropy: 1.8118460338112314\n",
      "Epoch 173/200, Cross Entropy: 1.8118477029185187\n",
      "Epoch 174/200, Cross Entropy: 1.8118493071927688\n",
      "Epoch 175/200, Cross Entropy: 1.8118508479198525\n",
      "Epoch 176/200, Cross Entropy: 1.811852326372292\n"
     ]
    },
    {
     "name": "stderr",
     "output_type": "stream",
     "text": [
      "Training:  90%|█████████ | 181/200 [00:07<00:00, 27.20epoch/s]"
     ]
    },
    {
     "name": "stdout",
     "output_type": "stream",
     "text": [
      "Epoch 177/200, Cross Entropy: 1.811853743808885\n",
      "Epoch 178/200, Cross Entropy: 1.8118551014743631\n",
      "Epoch 179/200, Cross Entropy: 1.8118564005990827\n",
      "Epoch 180/200, Cross Entropy: 1.8118576423987434\n",
      "Epoch 181/200, Cross Entropy: 1.8118588280741392\n"
     ]
    },
    {
     "name": "stderr",
     "output_type": "stream",
     "text": [
      "Training:  92%|█████████▏| 184/200 [00:07<00:00, 25.49epoch/s]"
     ]
    },
    {
     "name": "stdout",
     "output_type": "stream",
     "text": [
      "Epoch 182/200, Cross Entropy: 1.8118599588109308\n",
      "Epoch 183/200, Cross Entropy: 1.8118610357794522\n",
      "Epoch 184/200, Cross Entropy: 1.811862060134534\n",
      "Epoch 185/200, Cross Entropy: 1.8118630330153558\n",
      "Epoch 186/200, Cross Entropy: 1.8118639555453175\n"
     ]
    },
    {
     "name": "stderr",
     "output_type": "stream",
     "text": [
      "Training:  95%|█████████▌| 190/200 [00:07<00:00, 24.73epoch/s]"
     ]
    },
    {
     "name": "stdout",
     "output_type": "stream",
     "text": [
      "Epoch 187/200, Cross Entropy: 1.8118648288319346\n",
      "Epoch 188/200, Cross Entropy: 1.8118656539667506\n",
      "Epoch 189/200, Cross Entropy: 1.811866432025269\n",
      "Epoch 190/200, Cross Entropy: 1.811867164066907\n",
      "Epoch 191/200, Cross Entropy: 1.8118678511349582\n"
     ]
    },
    {
     "name": "stderr",
     "output_type": "stream",
     "text": [
      "Training:  98%|█████████▊| 196/200 [00:07<00:00, 24.21epoch/s]"
     ]
    },
    {
     "name": "stdout",
     "output_type": "stream",
     "text": [
      "Epoch 192/200, Cross Entropy: 1.8118684942565815\n",
      "Epoch 193/200, Cross Entropy: 1.8118690944427946\n",
      "Epoch 194/200, Cross Entropy: 1.811869652688491\n",
      "Epoch 195/200, Cross Entropy: 1.811870169972464\n",
      "Epoch 196/200, Cross Entropy: 1.8118706472574453\n"
     ]
    },
    {
     "name": "stderr",
     "output_type": "stream",
     "text": [
      "Training: 100%|██████████| 200/200 [00:07<00:00, 25.55epoch/s]\n"
     ]
    },
    {
     "name": "stdout",
     "output_type": "stream",
     "text": [
      "Epoch 197/200, Cross Entropy: 1.811871085490156\n",
      "Epoch 198/200, Cross Entropy: 1.8118714856013711\n",
      "Epoch 199/200, Cross Entropy: 1.8118718485059866\n",
      "Epoch 200/200, Cross Entropy: 1.811872175103106\n",
      "Results saved to: ../results/layers/error_rates_layers_4_4layers_200_200_200_200_1000.txt\n",
      "\n",
      "--------- PRETRAINING PHASE --------\n",
      "\n"
     ]
    },
    {
     "name": "stderr",
     "output_type": "stream",
     "text": [
      "Epoch 0: 100%|██████████| 16/16 [00:00<00:00, 58.61it/s]er/s]\n",
      "Epoch 1: 100%|██████████| 16/16 [00:00<00:00, 136.76it/s]\n",
      "Epoch 2: 100%|██████████| 16/16 [00:00<00:00, 188.24it/s]\n",
      "Epoch 3: 100%|██████████| 16/16 [00:00<00:00, 195.13it/s]\n",
      "Epoch 4: 100%|██████████| 16/16 [00:00<00:00, 190.48it/s]\n",
      "Epoch 5: 100%|██████████| 16/16 [00:00<00:00, 202.53it/s]\n",
      "Epoch 6: 100%|██████████| 16/16 [00:00<00:00, 200.00it/s]\n",
      "Epoch 7: 100%|██████████| 16/16 [00:00<00:00, 195.12it/s]\n",
      "Epoch 8: 100%|██████████| 16/16 [00:00<00:00, 186.05it/s]\n",
      "Epoch 9: 100%|██████████| 16/16 [00:00<00:00, 181.81it/s]\n",
      "Epoch 10: 100%|██████████| 16/16 [00:00<00:00, 133.33it/s]\n",
      "Epoch 11: 100%|██████████| 16/16 [00:00<00:00, 164.96it/s]\n",
      "Epoch 12: 100%|██████████| 16/16 [00:00<00:00, 175.83it/s]\n",
      "Epoch 13: 100%|██████████| 16/16 [00:00<00:00, 177.78it/s]\n",
      "Epoch 14: 100%|██████████| 16/16 [00:00<00:00, 192.78it/s]\n",
      "Epoch 15: 100%|██████████| 16/16 [00:00<00:00, 188.23it/s]\n",
      "Epoch 16: 100%|██████████| 16/16 [00:00<00:00, 149.23it/s]\n",
      "Epoch 17: 100%|██████████| 16/16 [00:00<00:00, 151.94it/s]\n",
      "Epoch 18: 100%|██████████| 16/16 [00:00<00:00, 145.45it/s]\n",
      "Epoch 19: 100%|██████████| 16/16 [00:00<00:00, 170.21it/s]\n",
      "Epoch 20: 100%|██████████| 16/16 [00:00<00:00, 172.04it/s]\n",
      "Epoch 21: 100%|██████████| 16/16 [00:00<00:00, 175.82it/s]\n",
      "Epoch 22: 100%|██████████| 16/16 [00:00<00:00, 170.21it/s]\n",
      "Epoch 23: 100%|██████████| 16/16 [00:00<00:00, 177.78it/s]\n",
      "Epoch 24: 100%|██████████| 16/16 [00:00<00:00, 175.83it/s]\n",
      "Epoch 25: 100%|██████████| 16/16 [00:00<00:00, 177.78it/s]\n",
      "Epoch 26: 100%|██████████| 16/16 [00:00<00:00, 172.04it/s]\n",
      "Epoch 27: 100%|██████████| 16/16 [00:00<00:00, 168.42it/s]\n",
      "Epoch 28: 100%|██████████| 16/16 [00:00<00:00, 170.21it/s]\n",
      "Epoch 29: 100%|██████████| 16/16 [00:00<00:00, 172.04it/s]\n",
      "Epoch 30: 100%|██████████| 16/16 [00:00<00:00, 170.22it/s]\n",
      "Epoch 31: 100%|██████████| 16/16 [00:00<00:00, 168.42it/s]\n",
      "Epoch 32: 100%|██████████| 16/16 [00:00<00:00, 161.62it/s]\n",
      "Epoch 33: 100%|██████████| 16/16 [00:00<00:00, 173.91it/s]\n",
      "Epoch 34: 100%|██████████| 16/16 [00:00<00:00, 172.04it/s]\n",
      "Epoch 35: 100%|██████████| 16/16 [00:00<00:00, 173.91it/s]\n",
      "Epoch 36: 100%|██████████| 16/16 [00:00<00:00, 170.22it/s]\n",
      "Epoch 37: 100%|██████████| 16/16 [00:00<00:00, 173.92it/s]\n",
      "Epoch 38: 100%|██████████| 16/16 [00:00<00:00, 139.10it/s]\n",
      "Epoch 39: 100%|██████████| 16/16 [00:00<00:00, 144.94it/s]\n",
      "Epoch 40: 100%|██████████| 16/16 [00:00<00:00, 142.22it/s]\n",
      "Epoch 41: 100%|██████████| 16/16 [00:00<00:00, 161.63it/s]\n",
      "Epoch 42: 100%|██████████| 16/16 [00:00<00:00, 172.04it/s]\n",
      "Epoch 43: 100%|██████████| 16/16 [00:00<00:00, 175.82it/s]\n",
      "Epoch 44: 100%|██████████| 16/16 [00:00<00:00, 173.91it/s]\n",
      "Epoch 45: 100%|██████████| 16/16 [00:00<00:00, 172.04it/s]\n",
      "Epoch 46: 100%|██████████| 16/16 [00:00<00:00, 173.91it/s]\n",
      "Epoch 47: 100%|██████████| 16/16 [00:00<00:00, 161.62it/s]\n",
      "Epoch 48: 100%|██████████| 16/16 [00:00<00:00, 173.91it/s]\n",
      "Epoch 49: 100%|██████████| 16/16 [00:00<00:00, 166.67it/s]\n",
      "Epoch 50: 100%|██████████| 16/16 [00:00<00:00, 164.95it/s]\n",
      "Epoch 51: 100%|██████████| 16/16 [00:00<00:00, 160.00it/s]\n",
      "Epoch 52: 100%|██████████| 16/16 [00:00<00:00, 135.59it/s]\n",
      "Epoch 53: 100%|██████████| 16/16 [00:00<00:00, 141.59it/s]\n",
      "Epoch 54: 100%|██████████| 16/16 [00:00<00:00, 150.95it/s]\n",
      "Epoch 55: 100%|██████████| 16/16 [00:00<00:00, 153.85it/s]\n",
      "Epoch 56: 100%|██████████| 16/16 [00:00<00:00, 142.86it/s]\n",
      "Epoch 57: 100%|██████████| 16/16 [00:00<00:00, 140.35it/s]\n",
      "Epoch 58: 100%|██████████| 16/16 [00:00<00:00, 141.59it/s]\n",
      "Epoch 59: 100%|██████████| 16/16 [00:00<00:00, 115.72it/s]\n",
      "Epoch 60: 100%|██████████| 16/16 [00:00<00:00, 122.79it/s]\n",
      "Epoch 61: 100%|██████████| 16/16 [00:00<00:00, 131.67it/s]\n",
      "Epoch 62: 100%|██████████| 16/16 [00:00<00:00, 160.00it/s]\n",
      "Epoch 63: 100%|██████████| 16/16 [00:00<00:00, 164.95it/s]\n",
      "Epoch 64: 100%|██████████| 16/16 [00:00<00:00, 168.42it/s]\n",
      "Epoch 65: 100%|██████████| 16/16 [00:00<00:00, 170.21it/s]\n",
      "Epoch 66: 100%|██████████| 16/16 [00:00<00:00, 173.91it/s]\n",
      "Epoch 67: 100%|██████████| 16/16 [00:00<00:00, 175.82it/s]\n",
      "Epoch 68: 100%|██████████| 16/16 [00:00<00:00, 164.94it/s]\n",
      "Epoch 69: 100%|██████████| 16/16 [00:00<00:00, 148.15it/s]\n",
      "Epoch 70: 100%|██████████| 16/16 [00:00<00:00, 142.86it/s]\n",
      "Epoch 71: 100%|██████████| 16/16 [00:00<00:00, 153.85it/s]\n",
      "Epoch 72: 100%|██████████| 16/16 [00:00<00:00, 170.21it/s]\n",
      "Epoch 73: 100%|██████████| 16/16 [00:00<00:00, 181.82it/s]\n",
      "Epoch 74: 100%|██████████| 16/16 [00:00<00:00, 188.23it/s]\n",
      "Epoch 75: 100%|██████████| 16/16 [00:00<00:00, 175.83it/s]\n",
      "Epoch 76: 100%|██████████| 16/16 [00:00<00:00, 197.53it/s]\n",
      "Epoch 77: 100%|██████████| 16/16 [00:00<00:00, 190.48it/s]\n",
      "Epoch 78: 100%|██████████| 16/16 [00:00<00:00, 199.90it/s]\n",
      "Epoch 79: 100%|██████████| 16/16 [00:00<00:00, 166.66it/s]\n",
      "Epoch 80: 100%|██████████| 16/16 [00:00<00:00, 166.67it/s]\n",
      "Epoch 81: 100%|██████████| 16/16 [00:00<00:00, 167.41it/s]\n",
      "Epoch 82: 100%|██████████| 16/16 [00:00<00:00, 160.86it/s]\n",
      "Epoch 83: 100%|██████████| 16/16 [00:00<00:00, 183.32it/s]\n",
      "Epoch 84: 100%|██████████| 16/16 [00:00<00:00, 190.40it/s]\n",
      "Epoch 85: 100%|██████████| 16/16 [00:00<00:00, 188.15it/s]\n",
      "Epoch 86: 100%|██████████| 16/16 [00:00<00:00, 181.75it/s]\n",
      "Epoch 87: 100%|██████████| 16/16 [00:00<00:00, 188.16it/s]\n",
      "Epoch 88: 100%|██████████| 16/16 [00:00<00:00, 179.71it/s]\n",
      "Epoch 89: 100%|██████████| 16/16 [00:00<00:00, 177.78it/s]\n",
      "Epoch 90: 100%|██████████| 16/16 [00:00<00:00, 168.42it/s]\n",
      "Epoch 91: 100%|██████████| 16/16 [00:00<00:00, 173.91it/s]\n",
      "Epoch 92: 100%|██████████| 16/16 [00:00<00:00, 146.79it/s]\n",
      "Epoch 93: 100%|██████████| 16/16 [00:00<00:00, 186.05it/s]\n",
      "Epoch 94: 100%|██████████| 16/16 [00:00<00:00, 188.17it/s]\n",
      "Epoch 95: 100%|██████████| 16/16 [00:00<00:00, 200.08it/s]\n",
      "Epoch 96: 100%|██████████| 16/16 [00:00<00:00, 173.91it/s]\n",
      "Epoch 97: 100%|██████████| 16/16 [00:00<00:00, 172.04it/s]\n",
      "Epoch 98: 100%|██████████| 16/16 [00:00<00:00, 172.04it/s]\n",
      "Epoch 99: 100%|██████████| 16/16 [00:00<00:00, 170.23it/s]\n",
      "Epoch 0: 100%|██████████| 16/16 [00:00<00:00, 470.56it/s]0.31s/layer]\n",
      "Epoch 1: 100%|██████████| 16/16 [00:00<00:00, 571.45it/s]\n",
      "Epoch 2: 100%|██████████| 16/16 [00:00<00:00, 571.41it/s]\n",
      "Epoch 3: 100%|██████████| 16/16 [00:00<00:00, 484.88it/s]\n",
      "Epoch 4: 100%|██████████| 16/16 [00:00<00:00, 615.46it/s]\n",
      "Epoch 5: 100%|██████████| 16/16 [00:00<00:00, 615.34it/s]\n",
      "Epoch 6: 100%|██████████| 16/16 [00:00<00:00, 516.08it/s]\n",
      "Epoch 7: 100%|██████████| 16/16 [00:00<00:00, 615.44it/s]\n",
      "Epoch 8: 100%|██████████| 16/16 [00:00<00:00, 516.13it/s]\n",
      "Epoch 9: 100%|██████████| 16/16 [00:00<00:00, 592.56it/s]\n",
      "Epoch 10: 100%|██████████| 16/16 [00:00<00:00, 551.73it/s]\n",
      "Epoch 11: 100%|██████████| 16/16 [00:00<00:00, 592.63it/s]\n",
      "Epoch 12: 100%|██████████| 16/16 [00:00<00:00, 470.55it/s]\n",
      "Epoch 13: 100%|██████████| 16/16 [00:00<00:00, 571.42it/s]\n",
      "Epoch 14: 100%|██████████| 16/16 [00:00<00:00, 477.36it/s]\n",
      "Epoch 15: 100%|██████████| 16/16 [00:00<00:00, 552.64it/s]\n",
      "Epoch 16: 100%|██████████| 16/16 [00:00<00:00, 481.52it/s]\n",
      "Epoch 17: 100%|██████████| 16/16 [00:00<00:00, 471.56it/s]\n",
      "Epoch 18: 100%|██████████| 16/16 [00:00<00:00, 571.39it/s]\n",
      "Epoch 19: 100%|██████████| 16/16 [00:00<00:00, 533.37it/s]\n",
      "Epoch 20: 100%|██████████| 16/16 [00:00<00:00, 500.00it/s]\n",
      "Epoch 21: 100%|██████████| 16/16 [00:00<00:00, 639.94it/s]\n",
      "Epoch 22: 100%|██████████| 16/16 [00:00<00:00, 592.69it/s]\n",
      "Epoch 23: 100%|██████████| 16/16 [00:00<00:00, 551.82it/s]\n",
      "Epoch 24: 100%|██████████| 16/16 [00:00<00:00, 592.59it/s]\n",
      "Epoch 25: 100%|██████████| 16/16 [00:00<00:00, 571.43it/s]\n",
      "Epoch 26: 100%|██████████| 16/16 [00:00<00:00, 551.69it/s]\n",
      "Epoch 27: 100%|██████████| 16/16 [00:00<00:00, 592.58it/s]\n",
      "Epoch 28: 100%|██████████| 16/16 [00:00<00:00, 533.39it/s]\n",
      "Epoch 29: 100%|██████████| 16/16 [00:00<00:00, 533.39it/s]\n",
      "Epoch 30: 100%|██████████| 16/16 [00:00<00:00, 74.42it/s]\n",
      "Epoch 31: 100%|██████████| 16/16 [00:00<00:00, 500.02it/s]\n",
      "Epoch 32: 100%|██████████| 16/16 [00:00<00:00, 470.61it/s]\n",
      "Epoch 33: 100%|██████████| 16/16 [00:00<00:00, 432.42it/s]\n",
      "Epoch 34: 100%|██████████| 16/16 [00:00<00:00, 432.45it/s]\n",
      "Epoch 35: 100%|██████████| 16/16 [00:00<00:00, 551.72it/s]\n",
      "Epoch 36: 100%|██████████| 16/16 [00:00<00:00, 640.17it/s]\n",
      "Epoch 37: 100%|██████████| 16/16 [00:00<00:00, 470.60it/s]\n",
      "Epoch 38: 100%|██████████| 16/16 [00:00<00:00, 571.40it/s]\n",
      "Epoch 39: 100%|██████████| 16/16 [00:00<00:00, 500.10it/s]\n",
      "Epoch 40: 100%|██████████| 16/16 [00:00<00:00, 592.53it/s]\n",
      "Epoch 41: 100%|██████████| 16/16 [00:00<00:00, 551.79it/s]\n",
      "Epoch 42: 100%|██████████| 16/16 [00:00<00:00, 592.60it/s]\n",
      "Epoch 43: 100%|██████████| 16/16 [00:00<00:00, 640.13it/s]\n",
      "Epoch 44: 100%|██████████| 16/16 [00:00<00:00, 615.43it/s]\n",
      "Epoch 45: 100%|██████████| 16/16 [00:00<00:00, 516.12it/s]\n",
      "Epoch 46: 100%|██████████| 16/16 [00:00<00:00, 551.80it/s]\n",
      "Epoch 47: 100%|██████████| 16/16 [00:00<00:00, 666.71it/s]\n",
      "Epoch 48: 100%|██████████| 16/16 [00:00<00:00, 640.00it/s]\n",
      "Epoch 49: 100%|██████████| 16/16 [00:00<00:00, 615.43it/s]\n",
      "Epoch 50: 100%|██████████| 16/16 [00:00<00:00, 592.66it/s]\n",
      "Epoch 51: 100%|██████████| 16/16 [00:00<00:00, 640.01it/s]\n",
      "Epoch 52: 100%|██████████| 16/16 [00:00<00:00, 533.29it/s]\n",
      "Epoch 53: 100%|██████████| 16/16 [00:00<00:00, 615.41it/s]\n",
      "Epoch 54: 100%|██████████| 16/16 [00:00<00:00, 615.38it/s]\n",
      "Epoch 55: 100%|██████████| 16/16 [00:00<00:00, 551.71it/s]\n",
      "Epoch 56: 100%|██████████| 16/16 [00:00<00:00, 666.69it/s]\n",
      "Epoch 57: 100%|██████████| 16/16 [00:00<00:00, 695.57it/s]\n",
      "Epoch 58: 100%|██████████| 16/16 [00:00<00:00, 592.51it/s]\n",
      "Epoch 59: 100%|██████████| 16/16 [00:00<00:00, 615.29it/s]\n",
      "Epoch 60: 100%|██████████| 16/16 [00:00<00:00, 640.03it/s]\n",
      "Epoch 61: 100%|██████████| 16/16 [00:00<00:00, 615.41it/s]\n",
      "Epoch 62: 100%|██████████| 16/16 [00:00<00:00, 640.05it/s]\n",
      "Epoch 63: 100%|██████████| 16/16 [00:00<00:00, 640.03it/s]\n",
      "Epoch 64: 100%|██████████| 16/16 [00:00<00:00, 666.75it/s]\n",
      "Epoch 65: 100%|██████████| 16/16 [00:00<00:00, 666.62it/s]\n",
      "Epoch 66: 100%|██████████| 16/16 [00:00<00:00, 615.39it/s]\n",
      "Epoch 67: 100%|██████████| 16/16 [00:00<00:00, 639.99it/s]\n",
      "Epoch 68: 100%|██████████| 16/16 [00:00<00:00, 666.69it/s]\n",
      "Epoch 69: 100%|██████████| 16/16 [00:00<00:00, 571.42it/s]\n",
      "Epoch 70: 100%|██████████| 16/16 [00:00<00:00, 615.37it/s]\n",
      "Epoch 71: 100%|██████████| 16/16 [00:00<00:00, 571.35it/s]\n",
      "Epoch 72: 100%|██████████| 16/16 [00:00<00:00, 592.60it/s]\n",
      "Epoch 73: 100%|██████████| 16/16 [00:00<00:00, 500.00it/s]\n",
      "Epoch 74: 100%|██████████| 16/16 [00:00<00:00, 330.09it/s]\n",
      "Epoch 75: 100%|██████████| 16/16 [00:00<00:00, 432.78it/s]\n",
      "Epoch 76: 100%|██████████| 16/16 [00:00<00:00, 396.55it/s]\n",
      "Epoch 77: 100%|██████████| 16/16 [00:00<00:00, 441.19it/s]\n",
      "Epoch 78: 100%|██████████| 16/16 [00:00<00:00, 498.04it/s]\n",
      "Epoch 79: 100%|██████████| 16/16 [00:00<00:00, 516.15it/s]\n",
      "Epoch 80: 100%|██████████| 16/16 [00:00<00:00, 457.17it/s]\n",
      "Epoch 81: 100%|██████████| 16/16 [00:00<00:00, 457.14it/s]\n",
      "Epoch 82: 100%|██████████| 16/16 [00:00<00:00, 500.04it/s]\n",
      "Epoch 83: 100%|██████████| 16/16 [00:00<00:00, 516.11it/s]\n",
      "Epoch 84: 100%|██████████| 16/16 [00:00<00:00, 571.43it/s]\n",
      "Epoch 85: 100%|██████████| 16/16 [00:00<00:00, 326.53it/s]\n",
      "Epoch 86: 100%|██████████| 16/16 [00:00<00:00, 571.44it/s]\n",
      "Epoch 87: 100%|██████████| 16/16 [00:00<00:00, 551.76it/s]\n",
      "Epoch 88: 100%|██████████| 16/16 [00:00<00:00, 533.33it/s]\n",
      "Epoch 89: 100%|██████████| 16/16 [00:00<00:00, 516.14it/s]\n",
      "Epoch 90: 100%|██████████| 16/16 [00:00<00:00, 551.76it/s]\n",
      "Epoch 91: 100%|██████████| 16/16 [00:00<00:00, 571.44it/s]\n",
      "Epoch 92: 100%|██████████| 16/16 [00:00<00:00, 533.36it/s]\n",
      "Epoch 93: 100%|██████████| 16/16 [00:00<00:00, 484.87it/s]\n",
      "Epoch 94: 100%|██████████| 16/16 [00:00<00:00, 571.44it/s]\n",
      "Epoch 95: 100%|██████████| 16/16 [00:00<00:00, 516.10it/s]\n",
      "Epoch 96: 100%|██████████| 16/16 [00:00<00:00, 571.48it/s]\n",
      "Epoch 97: 100%|██████████| 16/16 [00:00<00:00, 571.40it/s]\n",
      "Epoch 98: 100%|██████████| 16/16 [00:00<00:00, 571.39it/s]\n",
      "Epoch 99: 100%|██████████| 16/16 [00:00<00:00, 571.43it/s]\n",
      "Epoch 0: 100%|██████████| 16/16 [00:00<00:00, 499.99it/s]6.41s/layer]\n",
      "Epoch 1: 100%|██████████| 16/16 [00:00<00:00, 551.75it/s]\n",
      "Epoch 2: 100%|██████████| 16/16 [00:00<00:00, 571.36it/s]\n",
      "Epoch 3: 100%|██████████| 16/16 [00:00<00:00, 470.57it/s]\n",
      "Epoch 4: 100%|██████████| 16/16 [00:00<00:00, 421.05it/s]\n",
      "Epoch 5: 100%|██████████| 16/16 [00:00<00:00, 380.89it/s]\n",
      "Epoch 6: 100%|██████████| 16/16 [00:00<00:00, 380.96it/s]\n",
      "Epoch 7: 100%|██████████| 16/16 [00:00<00:00, 410.25it/s]\n",
      "Epoch 8: 100%|██████████| 16/16 [00:00<00:00, 484.90it/s]\n",
      "Epoch 9: 100%|██████████| 16/16 [00:00<00:00, 421.01it/s]\n",
      "Epoch 10: 100%|██████████| 16/16 [00:00<00:00, 372.08it/s]\n",
      "Epoch 11: 100%|██████████| 16/16 [00:00<00:00, 499.99it/s]\n",
      "Epoch 12: 100%|██████████| 16/16 [00:00<00:00, 372.07it/s]\n",
      "Epoch 13: 100%|██████████| 16/16 [00:00<00:00, 347.84it/s]\n",
      "Epoch 14: 100%|██████████| 16/16 [00:00<00:00, 390.24it/s]\n",
      "Epoch 15: 100%|██████████| 16/16 [00:00<00:00, 444.44it/s]\n",
      "Epoch 16: 100%|██████████| 16/16 [00:00<00:00, 100.00it/s]\n",
      "Epoch 17: 100%|██████████| 16/16 [00:00<00:00, 444.45it/s]\n",
      "Epoch 18: 100%|██████████| 16/16 [00:00<00:00, 457.11it/s]\n",
      "Epoch 19: 100%|██████████| 16/16 [00:00<00:00, 399.96it/s]\n",
      "Epoch 20: 100%|██████████| 16/16 [00:00<00:00, 444.51it/s]\n",
      "Epoch 21: 100%|██████████| 16/16 [00:00<00:00, 484.87it/s]\n",
      "Epoch 22: 100%|██████████| 16/16 [00:00<00:00, 372.08it/s]\n",
      "Epoch 23: 100%|██████████| 16/16 [00:00<00:00, 444.51it/s]\n",
      "Epoch 24: 100%|██████████| 16/16 [00:00<00:00, 380.96it/s]\n",
      "Epoch 25: 100%|██████████| 16/16 [00:00<00:00, 320.00it/s]\n",
      "Epoch 26: 100%|██████████| 16/16 [00:00<00:00, 311.29it/s]\n",
      "Epoch 27: 100%|██████████| 16/16 [00:00<00:00, 253.19it/s]\n",
      "Epoch 28: 100%|██████████| 16/16 [00:00<00:00, 254.01it/s]\n",
      "Epoch 29: 100%|██████████| 16/16 [00:00<00:00, 380.34it/s]\n",
      "Epoch 30: 100%|██████████| 16/16 [00:00<00:00, 444.45it/s]\n",
      "Epoch 31: 100%|██████████| 16/16 [00:00<00:00, 444.44it/s]\n",
      "Epoch 32: 100%|██████████| 16/16 [00:00<00:00, 400.00it/s]\n",
      "Epoch 33: 100%|██████████| 16/16 [00:00<00:00, 444.45it/s]\n",
      "Epoch 34: 100%|██████████| 16/16 [00:00<00:00, 399.98it/s]\n",
      "Epoch 35: 100%|██████████| 16/16 [00:00<00:00, 421.06it/s]\n",
      "Epoch 36: 100%|██████████| 16/16 [00:00<00:00, 484.83it/s]\n",
      "Epoch 37: 100%|██████████| 16/16 [00:00<00:00, 380.97it/s]\n",
      "Epoch 38: 100%|██████████| 16/16 [00:00<00:00, 457.21it/s]\n",
      "Epoch 39: 100%|██████████| 16/16 [00:00<00:00, 457.17it/s]\n",
      "Epoch 40: 100%|██████████| 16/16 [00:00<00:00, 432.41it/s]\n",
      "Epoch 41: 100%|██████████| 16/16 [00:00<00:00, 432.45it/s]\n",
      "Epoch 42: 100%|██████████| 16/16 [00:00<00:00, 432.39it/s]\n",
      "Epoch 43: 100%|██████████| 16/16 [00:00<00:00, 485.07it/s]\n",
      "Epoch 44: 100%|██████████| 16/16 [00:00<00:00, 500.08it/s]\n",
      "Epoch 45: 100%|██████████| 16/16 [00:00<00:00, 470.55it/s]\n",
      "Epoch 46: 100%|██████████| 16/16 [00:00<00:00, 533.32it/s]\n",
      "Epoch 47: 100%|██████████| 16/16 [00:00<00:00, 457.05it/s]\n",
      "Epoch 48: 100%|██████████| 16/16 [00:00<00:00, 457.16it/s]\n",
      "Epoch 49: 100%|██████████| 16/16 [00:00<00:00, 533.32it/s]\n",
      "Epoch 50: 100%|██████████| 16/16 [00:00<00:00, 470.57it/s]\n",
      "Epoch 51: 100%|██████████| 16/16 [00:00<00:00, 533.34it/s]\n",
      "Epoch 52: 100%|██████████| 16/16 [00:00<00:00, 500.05it/s]\n",
      "Epoch 53: 100%|██████████| 16/16 [00:00<00:00, 484.72it/s]\n",
      "Epoch 54: 100%|██████████| 16/16 [00:00<00:00, 533.32it/s]\n",
      "Epoch 55: 100%|██████████| 16/16 [00:00<00:00, 516.15it/s]\n",
      "Epoch 56: 100%|██████████| 16/16 [00:00<00:00, 571.46it/s]\n",
      "Epoch 57: 100%|██████████| 16/16 [00:00<00:00, 516.09it/s]\n",
      "Epoch 58: 100%|██████████| 16/16 [00:00<00:00, 484.84it/s]\n",
      "Epoch 59: 100%|██████████| 16/16 [00:00<00:00, 533.28it/s]\n",
      "Epoch 60: 100%|██████████| 16/16 [00:00<00:00, 484.85it/s]\n",
      "Epoch 61: 100%|██████████| 16/16 [00:00<00:00, 470.59it/s]\n",
      "Epoch 62: 100%|██████████| 16/16 [00:00<00:00, 410.31it/s]\n",
      "Epoch 63: 100%|██████████| 16/16 [00:00<00:00, 484.83it/s]\n",
      "Epoch 64: 100%|██████████| 16/16 [00:00<00:00, 363.64it/s]\n",
      "Epoch 65: 100%|██████████| 16/16 [00:00<00:00, 390.27it/s]\n",
      "Epoch 66: 100%|██████████| 16/16 [00:00<00:00, 457.14it/s]\n",
      "Epoch 67: 100%|██████████| 16/16 [00:00<00:00, 500.03it/s]\n",
      "Epoch 68: 100%|██████████| 16/16 [00:00<00:00, 516.09it/s]\n",
      "Epoch 69: 100%|██████████| 16/16 [00:00<00:00, 516.10it/s]\n",
      "Epoch 70: 100%|██████████| 16/16 [00:00<00:00, 516.14it/s]\n",
      "Epoch 71: 100%|██████████| 16/16 [00:00<00:00, 516.10it/s]\n",
      "Epoch 72: 100%|██████████| 16/16 [00:00<00:00, 516.16it/s]\n",
      "Epoch 73: 100%|██████████| 16/16 [00:00<00:00, 470.62it/s]\n",
      "Epoch 74: 100%|██████████| 16/16 [00:00<00:00, 533.41it/s]\n",
      "Epoch 75: 100%|██████████| 16/16 [00:00<00:00, 73.06it/s]\n",
      "Epoch 76: 100%|██████████| 16/16 [00:00<00:00, 315.23it/s]\n",
      "Epoch 77: 100%|██████████| 16/16 [00:00<00:00, 425.51it/s]\n",
      "Epoch 78: 100%|██████████| 16/16 [00:00<00:00, 257.50it/s]\n",
      "Epoch 79: 100%|██████████| 16/16 [00:00<00:00, 308.50it/s]\n",
      "Epoch 80: 100%|██████████| 16/16 [00:00<00:00, 430.93it/s]\n",
      "Epoch 81: 100%|██████████| 16/16 [00:00<00:00, 533.33it/s]\n",
      "Epoch 82: 100%|██████████| 16/16 [00:00<00:00, 499.92it/s]\n",
      "Epoch 83: 100%|██████████| 16/16 [00:00<00:00, 516.14it/s]\n",
      "Epoch 84: 100%|██████████| 16/16 [00:00<00:00, 470.62it/s]\n",
      "Epoch 85: 100%|██████████| 16/16 [00:00<00:00, 470.62it/s]\n",
      "Epoch 86: 100%|██████████| 16/16 [00:00<00:00, 500.04it/s]\n",
      "Epoch 87: 100%|██████████| 16/16 [00:00<00:00, 500.03it/s]\n",
      "Epoch 88: 100%|██████████| 16/16 [00:00<00:00, 484.86it/s]\n",
      "Epoch 89: 100%|██████████| 16/16 [00:00<00:00, 421.00it/s]\n",
      "Epoch 90: 100%|██████████| 16/16 [00:00<00:00, 484.81it/s]\n",
      "Epoch 91: 100%|██████████| 16/16 [00:00<00:00, 484.80it/s]\n",
      "Epoch 92: 100%|██████████| 16/16 [00:00<00:00, 400.06it/s]\n",
      "Epoch 93: 100%|██████████| 16/16 [00:00<00:00, 432.35it/s]\n",
      "Epoch 94: 100%|██████████| 16/16 [00:00<00:00, 484.89it/s]\n",
      "Epoch 95: 100%|██████████| 16/16 [00:00<00:00, 457.16it/s]\n",
      "Epoch 96: 100%|██████████| 16/16 [00:00<00:00, 238.77it/s]\n",
      "Epoch 97: 100%|██████████| 16/16 [00:00<00:00, 457.16it/s]\n",
      "Epoch 98: 100%|██████████| 16/16 [00:00<00:00, 444.48it/s]\n",
      "Epoch 99: 100%|██████████| 16/16 [00:00<00:00, 516.13it/s]\n",
      "Epoch 0: 100%|██████████| 16/16 [00:00<00:00, 484.84it/s]5.63s/layer]\n",
      "Epoch 1: 100%|██████████| 16/16 [00:00<00:00, 516.15it/s]\n",
      "Epoch 2: 100%|██████████| 16/16 [00:00<00:00, 457.15it/s]\n",
      "Epoch 3: 100%|██████████| 16/16 [00:00<00:00, 500.01it/s]\n",
      "Epoch 4: 100%|██████████| 16/16 [00:00<00:00, 551.69it/s]\n",
      "Epoch 5: 100%|██████████| 16/16 [00:00<00:00, 444.49it/s]\n",
      "Epoch 6: 100%|██████████| 16/16 [00:00<00:00, 500.05it/s]\n",
      "Epoch 7: 100%|██████████| 16/16 [00:00<00:00, 516.13it/s]\n",
      "Epoch 8: 100%|██████████| 16/16 [00:00<00:00, 499.90it/s]\n",
      "Epoch 9: 100%|██████████| 16/16 [00:00<00:00, 470.59it/s]\n",
      "Epoch 10: 100%|██████████| 16/16 [00:00<00:00, 571.49it/s]\n",
      "Epoch 11: 100%|██████████| 16/16 [00:00<00:00, 551.78it/s]\n",
      "Epoch 12: 100%|██████████| 16/16 [00:00<00:00, 571.45it/s]\n",
      "Epoch 13: 100%|██████████| 16/16 [00:00<00:00, 551.76it/s]\n",
      "Epoch 14: 100%|██████████| 16/16 [00:00<00:00, 571.40it/s]\n",
      "Epoch 15: 100%|██████████| 16/16 [00:00<00:00, 516.14it/s]\n",
      "Epoch 16: 100%|██████████| 16/16 [00:00<00:00, 484.89it/s]\n",
      "Epoch 17: 100%|██████████| 16/16 [00:00<00:00, 516.12it/s]\n",
      "Epoch 18: 100%|██████████| 16/16 [00:00<00:00, 551.70it/s]\n",
      "Epoch 19: 100%|██████████| 16/16 [00:00<00:00, 592.63it/s]\n",
      "Epoch 20: 100%|██████████| 16/16 [00:00<00:00, 551.74it/s]\n",
      "Epoch 21: 100%|██████████| 16/16 [00:00<00:00, 592.55it/s]\n",
      "Epoch 22: 100%|██████████| 16/16 [00:00<00:00, 592.66it/s]\n",
      "Epoch 23: 100%|██████████| 16/16 [00:00<00:00, 551.72it/s]\n",
      "Epoch 24: 100%|██████████| 16/16 [00:00<00:00, 499.95it/s]\n",
      "Epoch 25: 100%|██████████| 16/16 [00:00<00:00, 326.54it/s]\n",
      "Epoch 26: 100%|██████████| 16/16 [00:00<00:00, 571.40it/s]\n",
      "Epoch 27: 100%|██████████| 16/16 [00:00<00:00, 533.34it/s]\n",
      "Epoch 28: 100%|██████████| 16/16 [00:00<00:00, 533.43it/s]\n",
      "Epoch 29: 100%|██████████| 16/16 [00:00<00:00, 615.43it/s]\n",
      "Epoch 30: 100%|██████████| 16/16 [00:00<00:00, 551.71it/s]\n",
      "Epoch 31: 100%|██████████| 16/16 [00:00<00:00, 516.12it/s]\n",
      "Epoch 32: 100%|██████████| 16/16 [00:00<00:00, 499.96it/s]\n",
      "Epoch 33: 100%|██████████| 16/16 [00:00<00:00, 399.99it/s]\n",
      "Epoch 34: 100%|██████████| 16/16 [00:00<00:00, 435.72it/s]\n",
      "Epoch 35: 100%|██████████| 16/16 [00:00<00:00, 484.85it/s]\n",
      "Epoch 36: 100%|██████████| 16/16 [00:00<00:00, 439.90it/s]\n",
      "Epoch 37: 100%|██████████| 16/16 [00:00<00:00, 318.84it/s]\n",
      "Epoch 38: 100%|██████████| 16/16 [00:00<00:00, 66.34it/s]\n",
      "Epoch 39: 100%|██████████| 16/16 [00:00<00:00, 444.44it/s]\n",
      "Epoch 40: 100%|██████████| 16/16 [00:00<00:00, 399.98it/s]\n",
      "Epoch 41: 100%|██████████| 16/16 [00:00<00:00, 390.26it/s]\n",
      "Epoch 42: 100%|██████████| 16/16 [00:00<00:00, 444.45it/s]\n",
      "Epoch 43: 100%|██████████| 16/16 [00:00<00:00, 372.07it/s]\n",
      "Epoch 44: 100%|██████████| 16/16 [00:00<00:00, 444.51it/s]\n",
      "Epoch 45: 100%|██████████| 16/16 [00:00<00:00, 499.98it/s]\n",
      "Epoch 46: 100%|██████████| 16/16 [00:00<00:00, 533.26it/s]\n",
      "Epoch 47: 100%|██████████| 16/16 [00:00<00:00, 516.04it/s]\n",
      "Epoch 48: 100%|██████████| 16/16 [00:00<00:00, 499.91it/s]\n",
      "Epoch 49: 100%|██████████| 16/16 [00:00<00:00, 516.11it/s]\n",
      "Epoch 50: 100%|██████████| 16/16 [00:00<00:00, 533.36it/s]\n",
      "Epoch 51: 100%|██████████| 16/16 [00:00<00:00, 400.01it/s]\n",
      "Epoch 52: 100%|██████████| 16/16 [00:00<00:00, 390.26it/s]\n",
      "Epoch 53: 100%|██████████| 16/16 [00:00<00:00, 421.07it/s]\n",
      "Epoch 54: 100%|██████████| 16/16 [00:00<00:00, 355.56it/s]\n",
      "Epoch 55: 100%|██████████| 16/16 [00:00<00:00, 400.04it/s]\n",
      "Epoch 56: 100%|██████████| 16/16 [00:00<00:00, 484.88it/s]\n",
      "Epoch 57: 100%|██████████| 16/16 [00:00<00:00, 500.20it/s]\n",
      "Epoch 58: 100%|██████████| 16/16 [00:00<00:00, 533.37it/s]\n",
      "Epoch 59: 100%|██████████| 16/16 [00:00<00:00, 533.29it/s]\n",
      "Epoch 60: 100%|██████████| 16/16 [00:00<00:00, 457.15it/s]\n",
      "Epoch 61: 100%|██████████| 16/16 [00:00<00:00, 516.11it/s]\n",
      "Epoch 62: 100%|██████████| 16/16 [00:00<00:00, 484.89it/s]\n",
      "Epoch 63: 100%|██████████| 16/16 [00:00<00:00, 516.11it/s]\n",
      "Epoch 64: 100%|██████████| 16/16 [00:00<00:00, 533.34it/s]\n",
      "Epoch 65: 100%|██████████| 16/16 [00:00<00:00, 515.96it/s]\n",
      "Epoch 66: 100%|██████████| 16/16 [00:00<00:00, 485.15it/s]\n",
      "Epoch 67: 100%|██████████| 16/16 [00:00<00:00, 457.15it/s]\n",
      "Epoch 68: 100%|██████████| 16/16 [00:00<00:00, 421.07it/s]\n",
      "Epoch 69: 100%|██████████| 16/16 [00:00<00:00, 432.44it/s]\n",
      "Epoch 70: 100%|██████████| 16/16 [00:00<00:00, 444.69it/s]\n",
      "Epoch 71: 100%|██████████| 16/16 [00:00<00:00, 432.44it/s]\n",
      "Epoch 72: 100%|██████████| 16/16 [00:00<00:00, 421.05it/s]\n",
      "Epoch 73: 100%|██████████| 16/16 [00:00<00:00, 380.96it/s]\n",
      "Epoch 74: 100%|██████████| 16/16 [00:00<00:00, 470.61it/s]\n",
      "Epoch 75: 100%|██████████| 16/16 [00:00<00:00, 470.75it/s]\n",
      "Epoch 76: 100%|██████████| 16/16 [00:00<00:00, 432.47it/s]\n",
      "Epoch 77: 100%|██████████| 16/16 [00:00<00:00, 470.64it/s]\n",
      "Epoch 78: 100%|██████████| 16/16 [00:00<00:00, 470.59it/s]\n",
      "Epoch 79: 100%|██████████| 16/16 [00:00<00:00, 484.75it/s]\n",
      "Epoch 80: 100%|██████████| 16/16 [00:00<00:00, 372.09it/s]\n",
      "Epoch 81: 100%|██████████| 16/16 [00:00<00:00, 262.29it/s]\n",
      "Epoch 82: 100%|██████████| 16/16 [00:00<00:00, 439.40it/s]\n",
      "Epoch 83: 100%|██████████| 16/16 [00:00<00:00, 432.46it/s]\n",
      "Epoch 84: 100%|██████████| 16/16 [00:00<00:00, 415.57it/s]\n",
      "Epoch 85: 100%|██████████| 16/16 [00:00<00:00, 401.78it/s]\n",
      "Epoch 86: 100%|██████████| 16/16 [00:00<00:00, 520.60it/s]\n",
      "Epoch 87: 100%|██████████| 16/16 [00:00<00:00, 561.14it/s]\n",
      "Epoch 88: 100%|██████████| 16/16 [00:00<00:00, 571.51it/s]\n",
      "Epoch 89: 100%|██████████| 16/16 [00:00<00:00, 615.42it/s]\n",
      "Epoch 90: 100%|██████████| 16/16 [00:00<00:00, 592.56it/s]\n",
      "Epoch 91: 100%|██████████| 16/16 [00:00<00:00, 592.66it/s]\n",
      "Epoch 92: 100%|██████████| 16/16 [00:00<00:00, 592.58it/s]\n",
      "Epoch 93: 100%|██████████| 16/16 [00:00<00:00, 533.37it/s]\n",
      "Epoch 94: 100%|██████████| 16/16 [00:00<00:00, 571.49it/s]\n",
      "Epoch 95: 100%|██████████| 16/16 [00:00<00:00, 499.97it/s]\n",
      "Epoch 96: 100%|██████████| 16/16 [00:00<00:00, 592.62it/s]\n",
      "Epoch 97: 100%|██████████| 16/16 [00:00<00:00, 210.50it/s]\n",
      "Epoch 98: 100%|██████████| 16/16 [00:00<00:00, 112.68it/s]\n",
      "Epoch 99: 100%|██████████| 16/16 [00:00<00:00, 533.32it/s]\n",
      "Epoch 0: 100%|██████████| 16/16 [00:00<00:00, 516.09it/s]5.10s/layer]\n",
      "Epoch 1: 100%|██████████| 16/16 [00:00<00:00, 516.11it/s]\n",
      "Epoch 2: 100%|██████████| 16/16 [00:00<00:00, 533.33it/s]\n",
      "Epoch 3: 100%|██████████| 16/16 [00:00<00:00, 571.56it/s]\n",
      "Epoch 4: 100%|██████████| 16/16 [00:00<00:00, 615.38it/s]\n",
      "Epoch 5: 100%|██████████| 16/16 [00:00<00:00, 340.42it/s]\n",
      "Epoch 6: 100%|██████████| 16/16 [00:00<00:00, 516.14it/s]\n",
      "Epoch 7: 100%|██████████| 16/16 [00:00<00:00, 551.70it/s]\n",
      "Epoch 8: 100%|██████████| 16/16 [00:00<00:00, 571.39it/s]\n",
      "Epoch 9: 100%|██████████| 16/16 [00:00<00:00, 551.71it/s]\n",
      "Epoch 10: 100%|██████████| 16/16 [00:00<00:00, 551.73it/s]\n",
      "Epoch 11: 100%|██████████| 16/16 [00:00<00:00, 592.60it/s]\n",
      "Epoch 12: 100%|██████████| 16/16 [00:00<00:00, 571.44it/s]\n",
      "Epoch 13: 100%|██████████| 16/16 [00:00<00:00, 551.74it/s]\n",
      "Epoch 14: 100%|██████████| 16/16 [00:00<00:00, 592.64it/s]\n",
      "Epoch 15: 100%|██████████| 16/16 [00:00<00:00, 615.42it/s]\n",
      "Epoch 16: 100%|██████████| 16/16 [00:00<00:00, 592.49it/s]\n",
      "Epoch 17: 100%|██████████| 16/16 [00:00<00:00, 592.55it/s]\n",
      "Epoch 18: 100%|██████████| 16/16 [00:00<00:00, 615.53it/s]\n",
      "Epoch 19: 100%|██████████| 16/16 [00:00<00:00, 551.68it/s]\n",
      "Epoch 20: 100%|██████████| 16/16 [00:00<00:00, 421.10it/s]\n",
      "Epoch 21: 100%|██████████| 16/16 [00:00<00:00, 551.76it/s]\n",
      "Epoch 22: 100%|██████████| 16/16 [00:00<00:00, 500.00it/s]\n",
      "Epoch 23: 100%|██████████| 16/16 [00:00<00:00, 457.15it/s]\n",
      "Epoch 24: 100%|██████████| 16/16 [00:00<00:00, 516.19it/s]\n",
      "Epoch 25: 100%|██████████| 16/16 [00:00<00:00, 571.40it/s]\n",
      "Epoch 26: 100%|██████████| 16/16 [00:00<00:00, 551.70it/s]\n",
      "Epoch 27: 100%|██████████| 16/16 [00:00<00:00, 500.01it/s]\n",
      "Epoch 28: 100%|██████████| 16/16 [00:00<00:00, 571.43it/s]\n",
      "Epoch 29: 100%|██████████| 16/16 [00:00<00:00, 313.72it/s]\n",
      "Epoch 30: 100%|██████████| 16/16 [00:00<00:00, 347.80it/s]\n",
      "Epoch 31: 100%|██████████| 16/16 [00:00<00:00, 372.12it/s]\n",
      "Epoch 32: 100%|██████████| 16/16 [00:00<00:00, 444.47it/s]\n",
      "Epoch 33: 100%|██████████| 16/16 [00:00<00:00, 457.21it/s]\n",
      "Epoch 34: 100%|██████████| 16/16 [00:00<00:00, 444.46it/s]\n",
      "Epoch 35: 100%|██████████| 16/16 [00:00<00:00, 444.40it/s]\n",
      "Epoch 36: 100%|██████████| 16/16 [00:00<00:00, 410.44it/s]\n",
      "Epoch 37: 100%|██████████| 16/16 [00:00<00:00, 457.15it/s]\n",
      "Epoch 38: 100%|██████████| 16/16 [00:00<00:00, 421.05it/s]\n",
      "Epoch 39: 100%|██████████| 16/16 [00:00<00:00, 362.59it/s]\n",
      "Epoch 40: 100%|██████████| 16/16 [00:00<00:00, 470.61it/s]\n",
      "Epoch 41: 100%|██████████| 16/16 [00:00<00:00, 404.75it/s]\n",
      "Epoch 42: 100%|██████████| 16/16 [00:00<00:00, 376.23it/s]\n",
      "Epoch 43: 100%|██████████| 16/16 [00:00<00:00, 464.51it/s]\n",
      "Epoch 44: 100%|██████████| 16/16 [00:00<00:00, 499.97it/s]\n",
      "Epoch 45: 100%|██████████| 16/16 [00:00<00:00, 470.59it/s]\n",
      "Epoch 46: 100%|██████████| 16/16 [00:00<00:00, 61.89it/s]\n",
      "Epoch 47: 100%|██████████| 16/16 [00:00<00:00, 457.12it/s]\n",
      "Epoch 48: 100%|██████████| 16/16 [00:00<00:00, 470.58it/s]\n",
      "Epoch 49: 100%|██████████| 16/16 [00:00<00:00, 444.46it/s]\n",
      "Epoch 50: 100%|██████████| 16/16 [00:00<00:00, 390.23it/s]\n",
      "Epoch 51: 100%|██████████| 16/16 [00:00<00:00, 421.10it/s]\n",
      "Epoch 52: 100%|██████████| 16/16 [00:00<00:00, 499.96it/s]\n",
      "Epoch 53: 100%|██████████| 16/16 [00:00<00:00, 457.14it/s]\n",
      "Epoch 54: 100%|██████████| 16/16 [00:00<00:00, 432.43it/s]\n",
      "Epoch 55: 100%|██████████| 16/16 [00:00<00:00, 457.17it/s]\n",
      "Epoch 56: 100%|██████████| 16/16 [00:00<00:00, 516.13it/s]\n",
      "Epoch 57: 100%|██████████| 16/16 [00:00<00:00, 516.14it/s]\n",
      "Epoch 58: 100%|██████████| 16/16 [00:00<00:00, 444.50it/s]\n",
      "Epoch 59: 100%|██████████| 16/16 [00:00<00:00, 516.08it/s]\n",
      "Epoch 60: 100%|██████████| 16/16 [00:00<00:00, 516.09it/s]\n",
      "Epoch 61: 100%|██████████| 16/16 [00:00<00:00, 444.40it/s]\n",
      "Epoch 62: 100%|██████████| 16/16 [00:00<00:00, 500.08it/s]\n",
      "Epoch 63: 100%|██████████| 16/16 [00:00<00:00, 457.17it/s]\n",
      "Epoch 64: 100%|██████████| 16/16 [00:00<00:00, 500.00it/s]\n",
      "Epoch 65: 100%|██████████| 16/16 [00:00<00:00, 571.46it/s]\n",
      "Epoch 66: 100%|██████████| 16/16 [00:00<00:00, 533.30it/s]\n",
      "Epoch 67: 100%|██████████| 16/16 [00:00<00:00, 500.02it/s]\n",
      "Epoch 68: 100%|██████████| 16/16 [00:00<00:00, 307.70it/s]\n",
      "Epoch 69: 100%|██████████| 16/16 [00:00<00:00, 516.19it/s]\n",
      "Epoch 70: 100%|██████████| 16/16 [00:00<00:00, 571.40it/s]\n",
      "Epoch 71: 100%|██████████| 16/16 [00:00<00:00, 533.26it/s]\n",
      "Epoch 72: 100%|██████████| 16/16 [00:00<00:00, 484.86it/s]\n",
      "Epoch 73: 100%|██████████| 16/16 [00:00<00:00, 571.43it/s]\n",
      "Epoch 74: 100%|██████████| 16/16 [00:00<00:00, 363.64it/s]\n",
      "Epoch 75: 100%|██████████| 16/16 [00:00<00:00, 444.47it/s]\n",
      "Epoch 76: 100%|██████████| 16/16 [00:00<00:00, 551.72it/s]\n",
      "Epoch 77: 100%|██████████| 16/16 [00:00<00:00, 484.74it/s]\n",
      "Epoch 78: 100%|██████████| 16/16 [00:00<00:00, 516.14it/s]\n",
      "Epoch 79: 100%|██████████| 16/16 [00:00<00:00, 500.02it/s]\n",
      "Epoch 80: 100%|██████████| 16/16 [00:00<00:00, 516.15it/s]\n",
      "Epoch 81: 100%|██████████| 16/16 [00:00<00:00, 551.70it/s]\n",
      "Epoch 82: 100%|██████████| 16/16 [00:00<00:00, 551.71it/s]\n",
      "Epoch 83: 100%|██████████| 16/16 [00:00<00:00, 533.38it/s]\n",
      "Epoch 84: 100%|██████████| 16/16 [00:00<00:00, 484.85it/s]\n",
      "Epoch 85: 100%|██████████| 16/16 [00:00<00:00, 533.34it/s]\n",
      "Epoch 86: 100%|██████████| 16/16 [00:00<00:00, 516.16it/s]\n",
      "Epoch 87: 100%|██████████| 16/16 [00:00<00:00, 533.33it/s]\n",
      "Epoch 88: 100%|██████████| 16/16 [00:00<00:00, 285.71it/s]\n",
      "Epoch 89: 100%|██████████| 16/16 [00:00<00:00, 444.42it/s]\n",
      "Epoch 90: 100%|██████████| 16/16 [00:00<00:00, 83.86it/s]\n",
      "Epoch 91: 100%|██████████| 16/16 [00:00<00:00, 359.26it/s]\n",
      "Epoch 92: 100%|██████████| 16/16 [00:00<00:00, 363.55it/s]\n",
      "Epoch 93: 100%|██████████| 16/16 [00:00<00:00, 355.56it/s]\n",
      "Epoch 94: 100%|██████████| 16/16 [00:00<00:00, 345.75it/s]\n",
      "Epoch 95: 100%|██████████| 16/16 [00:00<00:00, 457.15it/s]\n",
      "Epoch 96: 100%|██████████| 16/16 [00:00<00:00, 551.76it/s]\n",
      "Epoch 97: 100%|██████████| 16/16 [00:00<00:00, 500.03it/s]\n",
      "Epoch 98: 100%|██████████| 16/16 [00:00<00:00, 533.27it/s]\n",
      "Epoch 99: 100%|██████████| 16/16 [00:00<00:00, 592.57it/s]\n",
      "Training RBM layers: 100%|██████████| 5/5 [00:27<00:00,  5.46s/layer]\n"
     ]
    },
    {
     "name": "stdout",
     "output_type": "stream",
     "text": [
      "\n",
      "\n",
      "--------- BACKPROPAGATION --------\n"
     ]
    },
    {
     "name": "stderr",
     "output_type": "stream",
     "text": [
      "Training:   2%|▏         | 3/200 [00:00<00:08, 22.56epoch/s]"
     ]
    },
    {
     "name": "stdout",
     "output_type": "stream",
     "text": [
      "Epoch 1/200, Cross Entropy: 2.2790168240236275\n",
      "Epoch 2/200, Cross Entropy: 2.27564779655617\n",
      "Epoch 3/200, Cross Entropy: 2.2751890707136835\n",
      "Epoch 4/200, Cross Entropy: 2.2751128224718173\n"
     ]
    },
    {
     "name": "stderr",
     "output_type": "stream",
     "text": [
      "Training:   2%|▏         | 3/200 [00:00<00:08, 22.56epoch/s]"
     ]
    },
    {
     "name": "stdout",
     "output_type": "stream",
     "text": [
      "Epoch 5/200, Cross Entropy: 2.275098513197329\n"
     ]
    },
    {
     "name": "stderr",
     "output_type": "stream",
     "text": [
      "                                                            \r"
     ]
    },
    {
     "name": "stdout",
     "output_type": "stream",
     "text": [
      "Epoch 6/200, Cross Entropy: 2.2750955748010417\n",
      "Epoch 7/200, Cross Entropy: 2.2750949312238573\n",
      "Epoch 8/200, Cross Entropy: 2.2750947840310096\n"
     ]
    },
    {
     "name": "stderr",
     "output_type": "stream",
     "text": [
      "Training:   4%|▍         | 9/200 [00:00<00:08, 23.30epoch/s]"
     ]
    },
    {
     "name": "stdout",
     "output_type": "stream",
     "text": [
      "Epoch 9/200, Cross Entropy: 2.2750947494151084\n",
      "Epoch 10/200, Cross Entropy: 2.2750947411286875\n"
     ]
    },
    {
     "name": "stderr",
     "output_type": "stream",
     "text": [
      "Training:   6%|▌         | 12/200 [00:00<00:08, 22.66epoch/s]"
     ]
    },
    {
     "name": "stdout",
     "output_type": "stream",
     "text": [
      "Epoch 11/200, Cross Entropy: 2.2750947391222143\n",
      "Epoch 12/200, Cross Entropy: 2.275094738632628\n",
      "Epoch 13/200, Cross Entropy: 2.275094738512523\n"
     ]
    },
    {
     "name": "stderr",
     "output_type": "stream",
     "text": [
      "Training:   8%|▊         | 15/200 [00:00<00:07, 23.25epoch/s]"
     ]
    },
    {
     "name": "stdout",
     "output_type": "stream",
     "text": [
      "Epoch 14/200, Cross Entropy: 2.2750947384829407\n",
      "Epoch 15/200, Cross Entropy: 2.2750947384756324\n"
     ]
    },
    {
     "name": "stderr",
     "output_type": "stream",
     "text": [
      "Training:   9%|▉         | 18/200 [00:00<00:11, 15.94epoch/s]"
     ]
    },
    {
     "name": "stdout",
     "output_type": "stream",
     "text": [
      "Epoch 16/200, Cross Entropy: 2.2750947384738223\n",
      "Epoch 17/200, Cross Entropy: 2.2750947384733733\n",
      "Epoch 18/200, Cross Entropy: 2.2750947384732614\n",
      "Epoch 19/200, Cross Entropy: 2.2750947384732334\n"
     ]
    },
    {
     "name": "stderr",
     "output_type": "stream",
     "text": [
      "Training:  12%|█▏        | 24/200 [00:01<00:08, 20.10epoch/s]"
     ]
    },
    {
     "name": "stdout",
     "output_type": "stream",
     "text": [
      "Epoch 20/200, Cross Entropy: 2.2750947384732263\n",
      "Epoch 21/200, Cross Entropy: 2.275094738473225\n",
      "Epoch 22/200, Cross Entropy: 2.2750947384732245\n",
      "Epoch 23/200, Cross Entropy: 2.275094738473224\n",
      "Epoch 24/200, Cross Entropy: 2.275094738473224\n"
     ]
    },
    {
     "name": "stderr",
     "output_type": "stream",
     "text": [
      "Training:  14%|█▎        | 27/200 [00:01<00:07, 21.80epoch/s]"
     ]
    },
    {
     "name": "stdout",
     "output_type": "stream",
     "text": [
      "Epoch 25/200, Cross Entropy: 2.275094738473224\n",
      "Epoch 26/200, Cross Entropy: 2.275094738473224\n",
      "Epoch 27/200, Cross Entropy: 2.275094738473224\n",
      "Epoch 28/200, Cross Entropy: 2.275094738473224\n",
      "Epoch 29/200, Cross Entropy: 2.275094738473224\n"
     ]
    },
    {
     "name": "stderr",
     "output_type": "stream",
     "text": [
      "                                                             \r"
     ]
    },
    {
     "name": "stdout",
     "output_type": "stream",
     "text": [
      "Epoch 30/200, Cross Entropy: 2.275094738473224\n",
      "Epoch 31/200, Cross Entropy: 2.275094738473224\n",
      "Epoch 32/200, Cross Entropy: 2.275094738473224\n",
      "Epoch 33/200, Cross Entropy: 2.275094738473224\n",
      "Epoch 34/200, Cross Entropy: 2.275094738473224\n"
     ]
    },
    {
     "name": "stderr",
     "output_type": "stream",
     "text": [
      "Training:  20%|█▉        | 39/200 [00:01<00:06, 25.62epoch/s]"
     ]
    },
    {
     "name": "stdout",
     "output_type": "stream",
     "text": [
      "Epoch 35/200, Cross Entropy: 2.275094738473224\n",
      "Epoch 36/200, Cross Entropy: 2.275094738473224\n",
      "Epoch 37/200, Cross Entropy: 2.275094738473224\n",
      "Epoch 38/200, Cross Entropy: 2.275094738473224\n",
      "Epoch 39/200, Cross Entropy: 2.275094738473224\n",
      "Epoch 40/200, Cross Entropy: 2.275094738473224\n"
     ]
    },
    {
     "name": "stderr",
     "output_type": "stream",
     "text": [
      "Training:  21%|██        | 42/200 [00:01<00:06, 23.91epoch/s]"
     ]
    },
    {
     "name": "stdout",
     "output_type": "stream",
     "text": [
      "Epoch 41/200, Cross Entropy: 2.275094738473224\n",
      "Epoch 42/200, Cross Entropy: 2.275094738473224\n",
      "Epoch 43/200, Cross Entropy: 2.275094738473224\n",
      "Epoch 44/200, Cross Entropy: 2.275094738473224\n"
     ]
    },
    {
     "name": "stderr",
     "output_type": "stream",
     "text": [
      "Training:  24%|██▍       | 48/200 [00:02<00:06, 22.45epoch/s]"
     ]
    },
    {
     "name": "stdout",
     "output_type": "stream",
     "text": [
      "Epoch 45/200, Cross Entropy: 2.275094738473224\n",
      "Epoch 46/200, Cross Entropy: 2.275094738473224\n",
      "Epoch 47/200, Cross Entropy: 2.275094738473224\n",
      "Epoch 48/200, Cross Entropy: 2.275094738473224\n",
      "Epoch 49/200, Cross Entropy: 2.275094738473224\n"
     ]
    },
    {
     "name": "stderr",
     "output_type": "stream",
     "text": [
      "Training:  26%|██▌       | 51/200 [00:02<00:06, 23.32epoch/s]"
     ]
    },
    {
     "name": "stdout",
     "output_type": "stream",
     "text": [
      "Epoch 50/200, Cross Entropy: 2.275094738473224\n",
      "Epoch 51/200, Cross Entropy: 2.275094738473224\n"
     ]
    },
    {
     "name": "stderr",
     "output_type": "stream",
     "text": [
      "Training:  27%|██▋       | 54/200 [00:02<00:09, 16.12epoch/s]"
     ]
    },
    {
     "name": "stdout",
     "output_type": "stream",
     "text": [
      "Epoch 52/200, Cross Entropy: 2.275094738473224\n",
      "Epoch 53/200, Cross Entropy: 2.275094738473224\n",
      "Epoch 54/200, Cross Entropy: 2.275094738473224\n",
      "Epoch 55/200, Cross Entropy: 2.275094738473224\n"
     ]
    },
    {
     "name": "stderr",
     "output_type": "stream",
     "text": [
      "                                                             \r"
     ]
    },
    {
     "name": "stdout",
     "output_type": "stream",
     "text": [
      "Epoch 56/200, Cross Entropy: 2.275094738473224\n",
      "Epoch 57/200, Cross Entropy: 2.275094738473224\n",
      "Epoch 58/200, Cross Entropy: 2.275094738473224\n",
      "Epoch 59/200, Cross Entropy: 2.275094738473224\n"
     ]
    },
    {
     "name": "stderr",
     "output_type": "stream",
     "text": [
      "Training:  32%|███▏      | 63/200 [00:03<00:06, 20.30epoch/s]"
     ]
    },
    {
     "name": "stdout",
     "output_type": "stream",
     "text": [
      "Epoch 60/200, Cross Entropy: 2.275094738473224\n",
      "Epoch 61/200, Cross Entropy: 2.275094738473224\n",
      "Epoch 62/200, Cross Entropy: 2.275094738473224\n",
      "Epoch 63/200, Cross Entropy: 2.275094738473224\n",
      "Epoch 64/200, Cross Entropy: 2.275094738473224\n"
     ]
    },
    {
     "name": "stderr",
     "output_type": "stream",
     "text": [
      "Training:  34%|███▍      | 69/200 [00:03<00:05, 23.14epoch/s]"
     ]
    },
    {
     "name": "stdout",
     "output_type": "stream",
     "text": [
      "Epoch 65/200, Cross Entropy: 2.275094738473224\n",
      "Epoch 66/200, Cross Entropy: 2.275094738473224\n",
      "Epoch 67/200, Cross Entropy: 2.275094738473224\n",
      "Epoch 68/200, Cross Entropy: 2.275094738473224\n",
      "Epoch 69/200, Cross Entropy: 2.275094738473224\n",
      "Epoch 70/200, Cross Entropy: 2.275094738473224\n"
     ]
    },
    {
     "name": "stderr",
     "output_type": "stream",
     "text": [
      "Training:  38%|███▊      | 75/200 [00:03<00:05, 24.90epoch/s]"
     ]
    },
    {
     "name": "stdout",
     "output_type": "stream",
     "text": [
      "Epoch 71/200, Cross Entropy: 2.275094738473224\n",
      "Epoch 72/200, Cross Entropy: 2.275094738473224\n",
      "Epoch 73/200, Cross Entropy: 2.275094738473224\n",
      "Epoch 74/200, Cross Entropy: 2.275094738473224\n",
      "Epoch 75/200, Cross Entropy: 2.275094738473224\n"
     ]
    },
    {
     "name": "stderr",
     "output_type": "stream",
     "text": [
      "Training:  39%|███▉      | 78/200 [00:03<00:04, 25.12epoch/s]"
     ]
    },
    {
     "name": "stdout",
     "output_type": "stream",
     "text": [
      "Epoch 76/200, Cross Entropy: 2.275094738473224\n",
      "Epoch 77/200, Cross Entropy: 2.275094738473224\n",
      "Epoch 78/200, Cross Entropy: 2.275094738473224\n",
      "Epoch 79/200, Cross Entropy: 2.275094738473224\n",
      "Epoch 80/200, Cross Entropy: 2.275094738473224\n"
     ]
    },
    {
     "name": "stderr",
     "output_type": "stream",
     "text": [
      "Training:  42%|████▏     | 84/200 [00:03<00:04, 25.68epoch/s]"
     ]
    },
    {
     "name": "stdout",
     "output_type": "stream",
     "text": [
      "Epoch 81/200, Cross Entropy: 2.275094738473224\n",
      "Epoch 82/200, Cross Entropy: 2.275094738473224\n",
      "Epoch 83/200, Cross Entropy: 2.275094738473224\n",
      "Epoch 84/200, Cross Entropy: 2.275094738473224\n",
      "Epoch 85/200, Cross Entropy: 2.275094738473224\n"
     ]
    },
    {
     "name": "stderr",
     "output_type": "stream",
     "text": [
      "Training:  44%|████▎     | 87/200 [00:03<00:04, 26.00epoch/s]"
     ]
    },
    {
     "name": "stdout",
     "output_type": "stream",
     "text": [
      "Epoch 86/200, Cross Entropy: 2.275094738473224\n",
      "Epoch 87/200, Cross Entropy: 2.275094738473224\n"
     ]
    },
    {
     "name": "stderr",
     "output_type": "stream",
     "text": [
      "Training:  45%|████▌     | 90/200 [00:04<00:06, 17.39epoch/s]"
     ]
    },
    {
     "name": "stdout",
     "output_type": "stream",
     "text": [
      "Epoch 88/200, Cross Entropy: 2.275094738473224\n",
      "Epoch 89/200, Cross Entropy: 2.275094738473224\n",
      "Epoch 90/200, Cross Entropy: 2.275094738473224\n",
      "Epoch 91/200, Cross Entropy: 2.275094738473224\n"
     ]
    },
    {
     "name": "stderr",
     "output_type": "stream",
     "text": [
      "Training:  48%|████▊     | 96/200 [00:04<00:05, 20.41epoch/s]"
     ]
    },
    {
     "name": "stdout",
     "output_type": "stream",
     "text": [
      "Epoch 92/200, Cross Entropy: 2.275094738473224\n",
      "Epoch 93/200, Cross Entropy: 2.275094738473224\n",
      "Epoch 94/200, Cross Entropy: 2.275094738473224\n",
      "Epoch 95/200, Cross Entropy: 2.275094738473224\n",
      "Epoch 96/200, Cross Entropy: 2.275094738473224\n"
     ]
    },
    {
     "name": "stderr",
     "output_type": "stream",
     "text": [
      "Training:  50%|████▉     | 99/200 [00:04<00:04, 21.64epoch/s]"
     ]
    },
    {
     "name": "stdout",
     "output_type": "stream",
     "text": [
      "Epoch 97/200, Cross Entropy: 2.275094738473224\n",
      "Epoch 98/200, Cross Entropy: 2.275094738473224\n",
      "Epoch 99/200, Cross Entropy: 2.275094738473224\n",
      "Epoch 100/200, Cross Entropy: 2.275094738473224\n",
      "Epoch 101/200, Cross Entropy: 2.275094738473224\n"
     ]
    },
    {
     "name": "stderr",
     "output_type": "stream",
     "text": [
      "Training:  52%|█████▎    | 105/200 [00:04<00:03, 24.42epoch/s]"
     ]
    },
    {
     "name": "stdout",
     "output_type": "stream",
     "text": [
      "Epoch 102/200, Cross Entropy: 2.275094738473224\n",
      "Epoch 103/200, Cross Entropy: 2.275094738473224\n",
      "Epoch 104/200, Cross Entropy: 2.275094738473224\n",
      "Epoch 105/200, Cross Entropy: 2.275094738473224\n",
      "Epoch 106/200, Cross Entropy: 2.275094738473224\n",
      "Epoch 107/200, Cross Entropy: 2.275094738473224\n"
     ]
    },
    {
     "name": "stderr",
     "output_type": "stream",
     "text": [
      "Training:  56%|█████▌    | 111/200 [00:05<00:03, 26.40epoch/s]"
     ]
    },
    {
     "name": "stdout",
     "output_type": "stream",
     "text": [
      "Epoch 108/200, Cross Entropy: 2.275094738473224\n",
      "Epoch 109/200, Cross Entropy: 2.275094738473224\n",
      "Epoch 110/200, Cross Entropy: 2.275094738473224\n",
      "Epoch 111/200, Cross Entropy: 2.275094738473224\n",
      "Epoch 112/200, Cross Entropy: 2.275094738473224\n",
      "Epoch 113/200, Cross Entropy: 2.275094738473224\n"
     ]
    },
    {
     "name": "stderr",
     "output_type": "stream",
     "text": [
      "Training:  58%|█████▊    | 117/200 [00:05<00:03, 27.15epoch/s]"
     ]
    },
    {
     "name": "stdout",
     "output_type": "stream",
     "text": [
      "Epoch 114/200, Cross Entropy: 2.275094738473224\n",
      "Epoch 115/200, Cross Entropy: 2.275094738473224\n",
      "Epoch 116/200, Cross Entropy: 2.275094738473224\n",
      "Epoch 117/200, Cross Entropy: 2.275094738473224\n",
      "Epoch 118/200, Cross Entropy: 2.275094738473224\n",
      "Epoch 119/200, Cross Entropy: 2.275094738473224\n"
     ]
    },
    {
     "name": "stderr",
     "output_type": "stream",
     "text": [
      "Training:  62%|██████▏   | 123/200 [00:05<00:02, 27.55epoch/s]"
     ]
    },
    {
     "name": "stdout",
     "output_type": "stream",
     "text": [
      "Epoch 120/200, Cross Entropy: 2.275094738473224\n",
      "Epoch 121/200, Cross Entropy: 2.275094738473224\n",
      "Epoch 122/200, Cross Entropy: 2.275094738473224\n",
      "Epoch 123/200, Cross Entropy: 2.275094738473224\n",
      "Epoch 124/200, Cross Entropy: 2.275094738473224\n",
      "Epoch 125/200, Cross Entropy: 2.275094738473224\n"
     ]
    },
    {
     "name": "stderr",
     "output_type": "stream",
     "text": [
      "Training:  64%|██████▍   | 129/200 [00:05<00:02, 27.56epoch/s]"
     ]
    },
    {
     "name": "stdout",
     "output_type": "stream",
     "text": [
      "Epoch 126/200, Cross Entropy: 2.275094738473224\n",
      "Epoch 127/200, Cross Entropy: 2.275094738473224\n",
      "Epoch 128/200, Cross Entropy: 2.275094738473224\n",
      "Epoch 129/200, Cross Entropy: 2.275094738473224\n",
      "Epoch 130/200, Cross Entropy: 2.275094738473224\n",
      "Epoch 131/200, Cross Entropy: 2.275094738473224\n"
     ]
    },
    {
     "name": "stderr",
     "output_type": "stream",
     "text": [
      "Training:  68%|██████▊   | 135/200 [00:05<00:02, 26.71epoch/s]"
     ]
    },
    {
     "name": "stdout",
     "output_type": "stream",
     "text": [
      "Epoch 132/200, Cross Entropy: 2.275094738473224\n",
      "Epoch 133/200, Cross Entropy: 2.275094738473224\n",
      "Epoch 134/200, Cross Entropy: 2.275094738473224\n",
      "Epoch 135/200, Cross Entropy: 2.275094738473224\n",
      "Epoch 136/200, Cross Entropy: 2.275094738473224\n"
     ]
    },
    {
     "name": "stderr",
     "output_type": "stream",
     "text": [
      "Training:  70%|███████   | 141/200 [00:06<00:02, 25.29epoch/s]"
     ]
    },
    {
     "name": "stdout",
     "output_type": "stream",
     "text": [
      "Epoch 137/200, Cross Entropy: 2.275094738473224\n",
      "Epoch 138/200, Cross Entropy: 2.275094738473224\n",
      "Epoch 139/200, Cross Entropy: 2.275094738473224\n",
      "Epoch 140/200, Cross Entropy: 2.275094738473224\n",
      "Epoch 141/200, Cross Entropy: 2.275094738473224\n"
     ]
    },
    {
     "name": "stderr",
     "output_type": "stream",
     "text": [
      "Training:  72%|███████▏  | 144/200 [00:06<00:02, 24.89epoch/s]"
     ]
    },
    {
     "name": "stdout",
     "output_type": "stream",
     "text": [
      "Epoch 142/200, Cross Entropy: 2.275094738473224\n",
      "Epoch 143/200, Cross Entropy: 2.275094738473224\n",
      "Epoch 144/200, Cross Entropy: 2.275094738473224\n",
      "Epoch 145/200, Cross Entropy: 2.275094738473224\n",
      "Epoch 146/200, Cross Entropy: 2.275094738473224\n"
     ]
    },
    {
     "name": "stderr",
     "output_type": "stream",
     "text": [
      "Training:  75%|███████▌  | 150/200 [00:06<00:02, 23.63epoch/s]"
     ]
    },
    {
     "name": "stdout",
     "output_type": "stream",
     "text": [
      "Epoch 147/200, Cross Entropy: 2.275094738473224\n",
      "Epoch 148/200, Cross Entropy: 2.275094738473224\n",
      "Epoch 149/200, Cross Entropy: 2.275094738473224\n",
      "Epoch 150/200, Cross Entropy: 2.275094738473224\n"
     ]
    },
    {
     "name": "stderr",
     "output_type": "stream",
     "text": [
      "Training:  76%|███████▋  | 153/200 [00:06<00:02, 23.10epoch/s]"
     ]
    },
    {
     "name": "stdout",
     "output_type": "stream",
     "text": [
      "Epoch 151/200, Cross Entropy: 2.275094738473224\n",
      "Epoch 152/200, Cross Entropy: 2.275094738473224\n",
      "Epoch 153/200, Cross Entropy: 2.275094738473224\n",
      "Epoch 154/200, Cross Entropy: 2.275094738473224\n",
      "Epoch 155/200, Cross Entropy: 2.275094738473224\n"
     ]
    },
    {
     "name": "stderr",
     "output_type": "stream",
     "text": [
      "Training:  80%|███████▉  | 159/200 [00:06<00:01, 23.69epoch/s]"
     ]
    },
    {
     "name": "stdout",
     "output_type": "stream",
     "text": [
      "Epoch 156/200, Cross Entropy: 2.275094738473224\n",
      "Epoch 157/200, Cross Entropy: 2.275094738473224\n",
      "Epoch 158/200, Cross Entropy: 2.275094738473224\n",
      "Epoch 159/200, Cross Entropy: 2.275094738473224\n",
      "Epoch 160/200, Cross Entropy: 2.275094738473224\n"
     ]
    },
    {
     "name": "stderr",
     "output_type": "stream",
     "text": [
      "Training:  82%|████████▎ | 165/200 [00:07<00:01, 25.12epoch/s]"
     ]
    },
    {
     "name": "stdout",
     "output_type": "stream",
     "text": [
      "Epoch 161/200, Cross Entropy: 2.275094738473224\n",
      "Epoch 162/200, Cross Entropy: 2.275094738473224\n",
      "Epoch 163/200, Cross Entropy: 2.275094738473224\n",
      "Epoch 164/200, Cross Entropy: 2.275094738473224\n",
      "Epoch 165/200, Cross Entropy: 2.275094738473224\n"
     ]
    },
    {
     "name": "stderr",
     "output_type": "stream",
     "text": [
      "Training:  84%|████████▍ | 168/200 [00:07<00:01, 25.73epoch/s]"
     ]
    },
    {
     "name": "stdout",
     "output_type": "stream",
     "text": [
      "Epoch 166/200, Cross Entropy: 2.275094738473224\n",
      "Epoch 167/200, Cross Entropy: 2.275094738473224\n",
      "Epoch 168/200, Cross Entropy: 2.275094738473224\n",
      "Epoch 169/200, Cross Entropy: 2.275094738473224\n",
      "Epoch 170/200, Cross Entropy: 2.275094738473224\n"
     ]
    },
    {
     "name": "stderr",
     "output_type": "stream",
     "text": [
      "Training:  87%|████████▋ | 174/200 [00:07<00:01, 25.73epoch/s]"
     ]
    },
    {
     "name": "stdout",
     "output_type": "stream",
     "text": [
      "Epoch 171/200, Cross Entropy: 2.275094738473224\n",
      "Epoch 172/200, Cross Entropy: 2.275094738473224\n",
      "Epoch 173/200, Cross Entropy: 2.275094738473224\n",
      "Epoch 174/200, Cross Entropy: 2.275094738473224\n",
      "Epoch 175/200, Cross Entropy: 2.275094738473224\n"
     ]
    },
    {
     "name": "stderr",
     "output_type": "stream",
     "text": [
      "Training:  88%|████████▊ | 177/200 [00:07<00:00, 26.38epoch/s]"
     ]
    },
    {
     "name": "stdout",
     "output_type": "stream",
     "text": [
      "Epoch 176/200, Cross Entropy: 2.275094738473224\n",
      "Epoch 177/200, Cross Entropy: 2.275094738473224\n"
     ]
    },
    {
     "name": "stderr",
     "output_type": "stream",
     "text": [
      "Training:  90%|█████████ | 180/200 [00:07<00:01, 16.33epoch/s]"
     ]
    },
    {
     "name": "stdout",
     "output_type": "stream",
     "text": [
      "Epoch 178/200, Cross Entropy: 2.275094738473224\n",
      "Epoch 179/200, Cross Entropy: 2.275094738473224\n",
      "Epoch 180/200, Cross Entropy: 2.275094738473224\n",
      "Epoch 181/200, Cross Entropy: 2.275094738473224\n"
     ]
    },
    {
     "name": "stderr",
     "output_type": "stream",
     "text": [
      "Training:  93%|█████████▎| 186/200 [00:08<00:00, 19.10epoch/s]"
     ]
    },
    {
     "name": "stdout",
     "output_type": "stream",
     "text": [
      "Epoch 182/200, Cross Entropy: 2.275094738473224\n",
      "Epoch 183/200, Cross Entropy: 2.275094738473224\n",
      "Epoch 184/200, Cross Entropy: 2.275094738473224\n",
      "Epoch 185/200, Cross Entropy: 2.275094738473224\n",
      "Epoch 186/200, Cross Entropy: 2.275094738473224\n"
     ]
    },
    {
     "name": "stderr",
     "output_type": "stream",
     "text": [
      "Training:  94%|█████████▍| 189/200 [00:08<00:00, 20.51epoch/s]"
     ]
    },
    {
     "name": "stdout",
     "output_type": "stream",
     "text": [
      "Epoch 187/200, Cross Entropy: 2.275094738473224\n",
      "Epoch 188/200, Cross Entropy: 2.275094738473224\n",
      "Epoch 189/200, Cross Entropy: 2.275094738473224\n",
      "Epoch 190/200, Cross Entropy: 2.275094738473224\n",
      "Epoch 191/200, Cross Entropy: 2.275094738473224\n"
     ]
    },
    {
     "name": "stderr",
     "output_type": "stream",
     "text": [
      "Training:  98%|█████████▊| 195/200 [00:08<00:00, 22.50epoch/s]"
     ]
    },
    {
     "name": "stdout",
     "output_type": "stream",
     "text": [
      "Epoch 192/200, Cross Entropy: 2.275094738473224\n",
      "Epoch 193/200, Cross Entropy: 2.275094738473224\n",
      "Epoch 194/200, Cross Entropy: 2.275094738473224\n",
      "Epoch 195/200, Cross Entropy: 2.275094738473224\n",
      "Epoch 196/200, Cross Entropy: 2.275094738473224\n"
     ]
    },
    {
     "name": "stderr",
     "output_type": "stream",
     "text": [
      "Training: 100%|██████████| 200/200 [00:08<00:00, 22.79epoch/s]\n"
     ]
    },
    {
     "name": "stdout",
     "output_type": "stream",
     "text": [
      "Epoch 197/200, Cross Entropy: 2.275094738473224\n",
      "Epoch 198/200, Cross Entropy: 2.275094738473224\n",
      "Epoch 199/200, Cross Entropy: 2.275094738473224\n",
      "Epoch 200/200, Cross Entropy: 2.275094738473224\n"
     ]
    },
    {
     "name": "stderr",
     "output_type": "stream",
     "text": [
      "Training:   1%|          | 2/200 [00:00<00:10, 19.27epoch/s]"
     ]
    },
    {
     "name": "stdout",
     "output_type": "stream",
     "text": [
      "Epoch 1/200, Cross Entropy: 2.087949283264591\n",
      "Epoch 2/200, Cross Entropy: 1.9830239851065337\n",
      "Epoch 3/200, Cross Entropy: 1.9173160665191573\n",
      "Epoch 4/200, Cross Entropy: 1.8754112766759703\n"
     ]
    },
    {
     "name": "stderr",
     "output_type": "stream",
     "text": [
      "Training:   4%|▍         | 8/200 [00:00<00:08, 23.03epoch/s]"
     ]
    },
    {
     "name": "stdout",
     "output_type": "stream",
     "text": [
      "Epoch 5/200, Cross Entropy: 1.8480310564340805\n",
      "Epoch 6/200, Cross Entropy: 1.8294803312168817\n",
      "Epoch 7/200, Cross Entropy: 1.8164225830892395\n",
      "Epoch 8/200, Cross Entropy: 1.806902387173744\n",
      "Epoch 9/200, Cross Entropy: 1.799745680153044\n"
     ]
    },
    {
     "name": "stderr",
     "output_type": "stream",
     "text": [
      "Training:   7%|▋         | 14/200 [00:00<00:08, 23.24epoch/s]"
     ]
    },
    {
     "name": "stdout",
     "output_type": "stream",
     "text": [
      "Epoch 10/200, Cross Entropy: 1.7942243874792312\n",
      "Epoch 11/200, Cross Entropy: 1.789871600878095\n",
      "Epoch 12/200, Cross Entropy: 1.786378114948839\n",
      "Epoch 13/200, Cross Entropy: 1.7835329373351931\n",
      "Epoch 14/200, Cross Entropy: 1.7811880496921961\n"
     ]
    },
    {
     "name": "stderr",
     "output_type": "stream",
     "text": [
      "Training:   8%|▊         | 17/200 [00:00<00:07, 23.43epoch/s]"
     ]
    },
    {
     "name": "stdout",
     "output_type": "stream",
     "text": [
      "Epoch 15/200, Cross Entropy: 1.7792369162028876\n",
      "Epoch 16/200, Cross Entropy: 1.777601016975089\n",
      "Epoch 17/200, Cross Entropy: 1.7762211997516537\n",
      "Epoch 18/200, Cross Entropy: 1.7750520003021042\n",
      "Epoch 19/200, Cross Entropy: 1.7740578346156224\n"
     ]
    },
    {
     "name": "stderr",
     "output_type": "stream",
     "text": [
      "Training:  12%|█▏        | 23/200 [00:01<00:07, 23.79epoch/s]"
     ]
    },
    {
     "name": "stdout",
     "output_type": "stream",
     "text": [
      "Epoch 20/200, Cross Entropy: 1.773210395831746\n",
      "Epoch 21/200, Cross Entropy: 1.7724868411001133\n",
      "Epoch 22/200, Cross Entropy: 1.7718685053382774\n",
      "Epoch 23/200, Cross Entropy: 1.7713399722003325\n",
      "Epoch 24/200, Cross Entropy: 1.7708883910763276\n"
     ]
    },
    {
     "name": "stderr",
     "output_type": "stream",
     "text": [
      "Training:  14%|█▍        | 29/200 [00:01<00:07, 23.85epoch/s]"
     ]
    },
    {
     "name": "stdout",
     "output_type": "stream",
     "text": [
      "Epoch 25/200, Cross Entropy: 1.770502966224112\n",
      "Epoch 26/200, Cross Entropy: 1.7701745682391024\n",
      "Epoch 27/200, Cross Entropy: 1.7698954338568786\n",
      "Epoch 28/200, Cross Entropy: 1.769658930552982\n",
      "Epoch 29/200, Cross Entropy: 1.7694593694275607\n"
     ]
    },
    {
     "name": "stderr",
     "output_type": "stream",
     "text": [
      "Training:  16%|█▌        | 32/200 [00:01<00:07, 23.96epoch/s]"
     ]
    },
    {
     "name": "stdout",
     "output_type": "stream",
     "text": [
      "Epoch 30/200, Cross Entropy: 1.7692918546281255\n",
      "Epoch 31/200, Cross Entropy: 1.7691521608348044\n",
      "Epoch 32/200, Cross Entropy: 1.7690366326042473\n",
      "Epoch 33/200, Cross Entropy: 1.768942100965247\n",
      "Epoch 34/200, Cross Entropy: 1.7688658137957465\n"
     ]
    },
    {
     "name": "stderr",
     "output_type": "stream",
     "text": [
      "Training:  19%|█▉        | 38/200 [00:01<00:06, 24.18epoch/s]"
     ]
    },
    {
     "name": "stdout",
     "output_type": "stream",
     "text": [
      "Epoch 35/200, Cross Entropy: 1.7688053773303385\n",
      "Epoch 36/200, Cross Entropy: 1.768758706745976\n",
      "Epoch 37/200, Cross Entropy: 1.7687239842167357\n",
      "Epoch 38/200, Cross Entropy: 1.7686996231609442\n",
      "Epoch 39/200, Cross Entropy: 1.7686842376566965\n"
     ]
    },
    {
     "name": "stderr",
     "output_type": "stream",
     "text": [
      "Training:  22%|██▏       | 44/200 [00:01<00:06, 24.17epoch/s]"
     ]
    },
    {
     "name": "stdout",
     "output_type": "stream",
     "text": [
      "Epoch 40/200, Cross Entropy: 1.7686766161963736\n",
      "Epoch 41/200, Cross Entropy: 1.7686756991024353\n",
      "Epoch 42/200, Cross Entropy: 1.7686805590463262\n",
      "Epoch 43/200, Cross Entropy: 1.7686903842076394\n",
      "Epoch 44/200, Cross Entropy: 1.7687044636873537\n"
     ]
    },
    {
     "name": "stderr",
     "output_type": "stream",
     "text": [
      "Training:  24%|██▎       | 47/200 [00:02<00:06, 24.23epoch/s]"
     ]
    },
    {
     "name": "stdout",
     "output_type": "stream",
     "text": [
      "Epoch 45/200, Cross Entropy: 1.7687221748512356\n",
      "Epoch 46/200, Cross Entropy: 1.768742972330442\n",
      "Epoch 47/200, Cross Entropy: 1.7687663784483618\n",
      "Epoch 48/200, Cross Entropy: 1.7687919748775758\n",
      "Epoch 49/200, Cross Entropy: 1.7688193953598343\n"
     ]
    },
    {
     "name": "stderr",
     "output_type": "stream",
     "text": [
      "Training:  25%|██▌       | 50/200 [00:02<00:06, 24.10epoch/s]"
     ]
    },
    {
     "name": "stdout",
     "output_type": "stream",
     "text": [
      "Epoch 50/200, Cross Entropy: 1.7688483193463274\n"
     ]
    },
    {
     "name": "stderr",
     "output_type": "stream",
     "text": [
      "Training:  26%|██▋       | 53/200 [00:02<00:16,  8.82epoch/s]"
     ]
    },
    {
     "name": "stdout",
     "output_type": "stream",
     "text": [
      "Epoch 51/200, Cross Entropy: 1.7688784664359722\n",
      "Epoch 52/200, Cross Entropy: 1.7689095915067767\n",
      "Epoch 53/200, Cross Entropy: 1.7689414804499783\n"
     ]
    },
    {
     "name": "stderr",
     "output_type": "stream",
     "text": [
      "Training:  29%|██▉       | 58/200 [00:03<00:11, 12.39epoch/s]"
     ]
    },
    {
     "name": "stdout",
     "output_type": "stream",
     "text": [
      "Epoch 54/200, Cross Entropy: 1.768973946429135\n",
      "Epoch 55/200, Cross Entropy: 1.76900682659697\n",
      "Epoch 56/200, Cross Entropy: 1.769039979211847\n",
      "Epoch 57/200, Cross Entropy: 1.7690732811035192\n",
      "Epoch 58/200, Cross Entropy: 1.769106625444477\n"
     ]
    },
    {
     "name": "stderr",
     "output_type": "stream",
     "text": [
      "Training:  30%|███       | 61/200 [00:03<00:10, 13.89epoch/s]"
     ]
    },
    {
     "name": "stdout",
     "output_type": "stream",
     "text": [
      "Epoch 59/200, Cross Entropy: 1.7691399197889275\n",
      "Epoch 60/200, Cross Entropy: 1.7691730843464106\n",
      "Epoch 61/200, Cross Entropy: 1.7692060504612677\n",
      "Epoch 62/200, Cross Entropy: 1.769238759272892\n"
     ]
    },
    {
     "name": "stderr",
     "output_type": "stream",
     "text": [
      "Training:  32%|███▏      | 64/200 [00:03<00:08, 15.45epoch/s]"
     ]
    },
    {
     "name": "stdout",
     "output_type": "stream",
     "text": [
      "Epoch 63/200, Cross Entropy: 1.7692711605348594\n",
      "Epoch 64/200, Cross Entropy: 1.7693032115737808\n",
      "Epoch 65/200, Cross Entropy: 1.7693348763711334\n",
      "Epoch 66/200, Cross Entropy: 1.7693661247533803\n"
     ]
    },
    {
     "name": "stderr",
     "output_type": "stream",
     "text": [
      "Training:  35%|███▌      | 70/200 [00:03<00:06, 18.75epoch/s]"
     ]
    },
    {
     "name": "stdout",
     "output_type": "stream",
     "text": [
      "Epoch 67/200, Cross Entropy: 1.7693969316775195\n",
      "Epoch 68/200, Cross Entropy: 1.7694272766007493\n",
      "Epoch 69/200, Cross Entropy: 1.7694571429243378\n",
      "Epoch 70/200, Cross Entropy: 1.7694865175029642\n",
      "Epoch 71/200, Cross Entropy: 1.769515390211851\n"
     ]
    },
    {
     "name": "stderr",
     "output_type": "stream",
     "text": [
      "Training:  38%|███▊      | 76/200 [00:04<00:05, 20.73epoch/s]"
     ]
    },
    {
     "name": "stdout",
     "output_type": "stream",
     "text": [
      "Epoch 72/200, Cross Entropy: 1.7695437535649277\n",
      "Epoch 73/200, Cross Entropy: 1.769571602378063\n",
      "Epoch 74/200, Cross Entropy: 1.7695989334721147\n",
      "Epoch 75/200, Cross Entropy: 1.7696257454111577\n",
      "Epoch 76/200, Cross Entropy: 1.7696520382717935\n"
     ]
    },
    {
     "name": "stderr",
     "output_type": "stream",
     "text": [
      "Training:  40%|███▉      | 79/200 [00:04<00:05, 21.25epoch/s]"
     ]
    },
    {
     "name": "stdout",
     "output_type": "stream",
     "text": [
      "Epoch 77/200, Cross Entropy: 1.7696778134399331\n",
      "Epoch 78/200, Cross Entropy: 1.7697030734318484\n",
      "Epoch 79/200, Cross Entropy: 1.7697278217366776\n",
      "Epoch 80/200, Cross Entropy: 1.7697520626778769\n",
      "Epoch 81/200, Cross Entropy: 1.7697758012914182\n"
     ]
    },
    {
     "name": "stderr",
     "output_type": "stream",
     "text": [
      "Training:  42%|████▎     | 85/200 [00:04<00:05, 21.93epoch/s]"
     ]
    },
    {
     "name": "stdout",
     "output_type": "stream",
     "text": [
      "Epoch 82/200, Cross Entropy: 1.7697990432187711\n",
      "Epoch 83/200, Cross Entropy: 1.7698217946129442\n",
      "Epoch 84/200, Cross Entropy: 1.769844062056049\n",
      "Epoch 85/200, Cross Entropy: 1.7698658524870396\n",
      "Epoch 86/200, Cross Entropy: 1.7698871731384238\n"
     ]
    },
    {
     "name": "stderr",
     "output_type": "stream",
     "text": [
      "Training:  46%|████▌     | 91/200 [00:04<00:04, 22.85epoch/s]"
     ]
    },
    {
     "name": "stdout",
     "output_type": "stream",
     "text": [
      "Epoch 87/200, Cross Entropy: 1.769908031480881\n",
      "Epoch 88/200, Cross Entropy: 1.7699284351748592\n",
      "Epoch 89/200, Cross Entropy: 1.7699483920283066\n",
      "Epoch 90/200, Cross Entropy: 1.769967909959813\n",
      "Epoch 91/200, Cross Entropy: 1.7699869969665059\n"
     ]
    },
    {
     "name": "stderr",
     "output_type": "stream",
     "text": [
      "Training:  47%|████▋     | 94/200 [00:04<00:04, 23.13epoch/s]"
     ]
    },
    {
     "name": "stdout",
     "output_type": "stream",
     "text": [
      "Epoch 92/200, Cross Entropy: 1.770005661096129\n",
      "Epoch 93/200, Cross Entropy: 1.770023910422792\n",
      "Epoch 94/200, Cross Entropy: 1.7700417530259513\n",
      "Epoch 95/200, Cross Entropy: 1.7700591969722148\n",
      "Epoch 96/200, Cross Entropy: 1.7700762502996283\n"
     ]
    },
    {
     "name": "stderr",
     "output_type": "stream",
     "text": [
      "Training:  50%|█████     | 100/200 [00:05<00:04, 22.89epoch/s]"
     ]
    },
    {
     "name": "stdout",
     "output_type": "stream",
     "text": [
      "Epoch 97/200, Cross Entropy: 1.7700929210041358\n",
      "Epoch 98/200, Cross Entropy: 1.7701092170279398\n",
      "Epoch 99/200, Cross Entropy: 1.7701251462495222\n",
      "Epoch 100/200, Cross Entropy: 1.7701407164751175\n"
     ]
    },
    {
     "name": "stderr",
     "output_type": "stream",
     "text": [
      "Training:  52%|█████▏    | 103/200 [00:05<00:04, 21.56epoch/s]"
     ]
    },
    {
     "name": "stdout",
     "output_type": "stream",
     "text": [
      "Epoch 101/200, Cross Entropy: 1.7701559354314553\n",
      "Epoch 102/200, Cross Entropy: 1.7701708107596033\n",
      "Epoch 103/200, Cross Entropy: 1.7701853500097733\n",
      "Epoch 104/200, Cross Entropy: 1.7701995606369674\n"
     ]
    },
    {
     "name": "stderr",
     "output_type": "stream",
     "text": [
      "Training:  53%|█████▎    | 106/200 [00:05<00:04, 21.80epoch/s]"
     ]
    },
    {
     "name": "stdout",
     "output_type": "stream",
     "text": [
      "Epoch 105/200, Cross Entropy: 1.770213449997349\n",
      "Epoch 106/200, Cross Entropy: 1.7702270253452483\n",
      "Epoch 107/200, Cross Entropy: 1.7702402938307142\n",
      "Epoch 108/200, Cross Entropy: 1.7702532624975462\n"
     ]
    },
    {
     "name": "stderr",
     "output_type": "stream",
     "text": [
      "Training:  56%|█████▌    | 112/200 [00:05<00:04, 21.79epoch/s]"
     ]
    },
    {
     "name": "stdout",
     "output_type": "stream",
     "text": [
      "Epoch 109/200, Cross Entropy: 1.7702659382817365\n",
      "Epoch 110/200, Cross Entropy: 1.7702783280102707\n",
      "Epoch 111/200, Cross Entropy: 1.7702904384002358\n",
      "Epoch 112/200, Cross Entropy: 1.7703022760582026\n",
      "Epoch 113/200, Cross Entropy: 1.7703138474798323\n"
     ]
    },
    {
     "name": "stderr",
     "output_type": "stream",
     "text": [
      "Training:  59%|█████▉    | 118/200 [00:05<00:03, 23.22epoch/s]"
     ]
    },
    {
     "name": "stdout",
     "output_type": "stream",
     "text": [
      "Epoch 114/200, Cross Entropy: 1.7703251590496911\n",
      "Epoch 115/200, Cross Entropy: 1.7703362170412347\n",
      "Epoch 116/200, Cross Entropy: 1.7703470276169462\n",
      "Epoch 117/200, Cross Entropy: 1.7703575968286025\n",
      "Epoch 118/200, Cross Entropy: 1.770367930617659\n"
     ]
    },
    {
     "name": "stderr",
     "output_type": "stream",
     "text": [
      "Training:  60%|██████    | 121/200 [00:06<00:03, 24.07epoch/s]"
     ]
    },
    {
     "name": "stdout",
     "output_type": "stream",
     "text": [
      "Epoch 119/200, Cross Entropy: 1.7703780348157299\n",
      "Epoch 120/200, Cross Entropy: 1.7703879151451567\n",
      "Epoch 121/200, Cross Entropy: 1.770397577219653\n",
      "Epoch 122/200, Cross Entropy: 1.7704070265450134\n",
      "Epoch 123/200, Cross Entropy: 1.7704162685198894\n"
     ]
    },
    {
     "name": "stderr",
     "output_type": "stream",
     "text": [
      "Training:  62%|██████▏   | 124/200 [00:06<00:03, 23.26epoch/s]"
     ]
    },
    {
     "name": "stdout",
     "output_type": "stream",
     "text": [
      "Epoch 124/200, Cross Entropy: 1.7704253084366044\n",
      "Epoch 125/200, Cross Entropy: 1.770434151482028\n"
     ]
    },
    {
     "name": "stderr",
     "output_type": "stream",
     "text": [
      "Training:  64%|██████▍   | 129/200 [00:06<00:04, 16.11epoch/s]"
     ]
    },
    {
     "name": "stdout",
     "output_type": "stream",
     "text": [
      "Epoch 126/200, Cross Entropy: 1.7704428027384835\n",
      "Epoch 127/200, Cross Entropy: 1.7704512671846977\n",
      "Epoch 128/200, Cross Entropy: 1.7704595496967805\n",
      "Epoch 129/200, Cross Entropy: 1.770467655049238\n"
     ]
    },
    {
     "name": "stderr",
     "output_type": "stream",
     "text": [
      "Training:  67%|██████▋   | 134/200 [00:06<00:03, 19.02epoch/s]"
     ]
    },
    {
     "name": "stdout",
     "output_type": "stream",
     "text": [
      "Epoch 130/200, Cross Entropy: 1.770475587916015\n",
      "Epoch 131/200, Cross Entropy: 1.7704833528715551\n",
      "Epoch 132/200, Cross Entropy: 1.7704909543918965\n",
      "Epoch 133/200, Cross Entropy: 1.770498396855779\n",
      "Epoch 134/200, Cross Entropy: 1.7705056845457778\n"
     ]
    },
    {
     "name": "stderr",
     "output_type": "stream",
     "text": [
      "Training:  68%|██████▊   | 137/200 [00:06<00:03, 20.40epoch/s]"
     ]
    },
    {
     "name": "stdout",
     "output_type": "stream",
     "text": [
      "Epoch 135/200, Cross Entropy: 1.7705128216494512\n",
      "Epoch 136/200, Cross Entropy: 1.770519812260509\n",
      "Epoch 137/200, Cross Entropy: 1.770526660379997\n",
      "Epoch 138/200, Cross Entropy: 1.7705333699174937\n",
      "Epoch 139/200, Cross Entropy: 1.770539944692321\n"
     ]
    },
    {
     "name": "stderr",
     "output_type": "stream",
     "text": [
      "Training:  72%|███████▏  | 143/200 [00:07<00:02, 22.23epoch/s]"
     ]
    },
    {
     "name": "stdout",
     "output_type": "stream",
     "text": [
      "Epoch 140/200, Cross Entropy: 1.770546388434773\n",
      "Epoch 141/200, Cross Entropy: 1.7705527047873488\n",
      "Epoch 142/200, Cross Entropy: 1.7705588973060002\n",
      "Epoch 143/200, Cross Entropy: 1.7705649694613903\n",
      "Epoch 144/200, Cross Entropy: 1.7705709246401546\n"
     ]
    },
    {
     "name": "stderr",
     "output_type": "stream",
     "text": [
      "Training:  73%|███████▎  | 146/200 [00:07<00:02, 22.91epoch/s]"
     ]
    },
    {
     "name": "stdout",
     "output_type": "stream",
     "text": [
      "Epoch 145/200, Cross Entropy: 1.7705767661461795\n",
      "Epoch 146/200, Cross Entropy: 1.7705824972018775\n",
      "Epoch 147/200, Cross Entropy: 1.7705881209494763\n",
      "Epoch 148/200, Cross Entropy: 1.7705936404523066\n"
     ]
    },
    {
     "name": "stderr",
     "output_type": "stream",
     "text": [
      "Training:  76%|███████▌  | 152/200 [00:07<00:02, 21.90epoch/s]"
     ]
    },
    {
     "name": "stdout",
     "output_type": "stream",
     "text": [
      "Epoch 149/200, Cross Entropy: 1.7705990586960971\n",
      "Epoch 150/200, Cross Entropy: 1.7706043785902756\n",
      "Epoch 151/200, Cross Entropy: 1.770609602969263\n",
      "Epoch 152/200, Cross Entropy: 1.7706147345937768\n",
      "Epoch 153/200, Cross Entropy: 1.7706197761521332\n"
     ]
    },
    {
     "name": "stderr",
     "output_type": "stream",
     "text": [
      "                                                              \r"
     ]
    },
    {
     "name": "stdout",
     "output_type": "stream",
     "text": [
      "Epoch 154/200, Cross Entropy: 1.770624730261544\n",
      "Epoch 155/200, Cross Entropy: 1.77062959946942\n",
      "Epoch 156/200, Cross Entropy: 1.7706343862546627\n",
      "Epoch 157/200, Cross Entropy: 1.7706390930289615\n",
      "Epoch 158/200, Cross Entropy: 1.77064372213808\n",
      "Epoch 159/200, Cross Entropy: 1.7706482758631417\n"
     ]
    },
    {
     "name": "stderr",
     "output_type": "stream",
     "text": [
      "Training:  82%|████████▏ | 164/200 [00:08<00:01, 25.51epoch/s]"
     ]
    },
    {
     "name": "stdout",
     "output_type": "stream",
     "text": [
      "Epoch 160/200, Cross Entropy: 1.7706527564219088\n",
      "Epoch 161/200, Cross Entropy: 1.770657165970053\n",
      "Epoch 162/200, Cross Entropy: 1.770661506602422\n",
      "Epoch 163/200, Cross Entropy: 1.770665780354296\n",
      "Epoch 164/200, Cross Entropy: 1.7706699892026365\n"
     ]
    },
    {
     "name": "stderr",
     "output_type": "stream",
     "text": [
      "Training:  84%|████████▎ | 167/200 [00:08<00:01, 25.29epoch/s]"
     ]
    },
    {
     "name": "stdout",
     "output_type": "stream",
     "text": [
      "Epoch 165/200, Cross Entropy: 1.7706741350673252\n",
      "Epoch 166/200, Cross Entropy: 1.770678219812395\n",
      "Epoch 167/200, Cross Entropy: 1.770682245247246\n",
      "Epoch 168/200, Cross Entropy: 1.770686213127857\n",
      "Epoch 169/200, Cross Entropy: 1.7706901251579787\n"
     ]
    },
    {
     "name": "stderr",
     "output_type": "stream",
     "text": [
      "Training:  86%|████████▋ | 173/200 [00:08<00:01, 26.80epoch/s]"
     ]
    },
    {
     "name": "stdout",
     "output_type": "stream",
     "text": [
      "Epoch 170/200, Cross Entropy: 1.7706939829903212\n",
      "Epoch 171/200, Cross Entropy: 1.7706977882277215\n",
      "Epoch 172/200, Cross Entropy: 1.7707015424243067\n",
      "Epoch 173/200, Cross Entropy: 1.7707052470866345\n",
      "Epoch 174/200, Cross Entropy: 1.7707089036748271\n",
      "Epoch 175/200, Cross Entropy: 1.7707125136036885\n"
     ]
    },
    {
     "name": "stderr",
     "output_type": "stream",
     "text": [
      "Training:  90%|█████████ | 181/200 [00:08<00:00, 28.51epoch/s]"
     ]
    },
    {
     "name": "stdout",
     "output_type": "stream",
     "text": [
      "Epoch 176/200, Cross Entropy: 1.7707160782438038\n",
      "Epoch 177/200, Cross Entropy: 1.7707195989226299\n",
      "Epoch 178/200, Cross Entropy: 1.7707230769255642\n",
      "Epoch 179/200, Cross Entropy: 1.7707265134970023\n",
      "Epoch 180/200, Cross Entropy: 1.7707299098413813\n",
      "Epoch 181/200, Cross Entropy: 1.7707332671241993\n"
     ]
    },
    {
     "name": "stderr",
     "output_type": "stream",
     "text": [
      "Training:  92%|█████████▏| 184/200 [00:08<00:00, 27.95epoch/s]"
     ]
    },
    {
     "name": "stdout",
     "output_type": "stream",
     "text": [
      "Epoch 182/200, Cross Entropy: 1.77073658647303\n",
      "Epoch 183/200, Cross Entropy: 1.77073986897851\n",
      "Epoch 184/200, Cross Entropy: 1.7707431156953177\n",
      "Epoch 185/200, Cross Entropy: 1.7707463276431317\n",
      "Epoch 186/200, Cross Entropy: 1.7707495058075722\n"
     ]
    },
    {
     "name": "stderr",
     "output_type": "stream",
     "text": [
      "Training:  95%|█████████▌| 190/200 [00:09<00:00, 27.02epoch/s]"
     ]
    },
    {
     "name": "stdout",
     "output_type": "stream",
     "text": [
      "Epoch 187/200, Cross Entropy: 1.770752651141131\n",
      "Epoch 188/200, Cross Entropy: 1.770755764564075\n",
      "Epoch 189/200, Cross Entropy: 1.7707588469653437\n",
      "Epoch 190/200, Cross Entropy: 1.7707618992034213\n",
      "Epoch 191/200, Cross Entropy: 1.7707649221071982\n",
      "Epoch 192/200, Cross Entropy: 1.7707679164768102\n"
     ]
    },
    {
     "name": "stderr",
     "output_type": "stream",
     "text": [
      "Training:  98%|█████████▊| 197/200 [00:09<00:00, 27.69epoch/s]"
     ]
    },
    {
     "name": "stdout",
     "output_type": "stream",
     "text": [
      "Epoch 193/200, Cross Entropy: 1.7707708830844662\n",
      "Epoch 194/200, Cross Entropy: 1.7707738226752547\n",
      "Epoch 195/200, Cross Entropy: 1.770776735967937\n",
      "Epoch 196/200, Cross Entropy: 1.770779623655723\n",
      "Epoch 197/200, Cross Entropy: 1.7707824864070278\n"
     ]
    },
    {
     "name": "stderr",
     "output_type": "stream",
     "text": [
      "Training: 100%|██████████| 200/200 [00:09<00:00, 21.46epoch/s]\n"
     ]
    },
    {
     "name": "stdout",
     "output_type": "stream",
     "text": [
      "Epoch 198/200, Cross Entropy: 1.7707853248662169\n",
      "Epoch 199/200, Cross Entropy: 1.7707881396543308\n",
      "Epoch 200/200, Cross Entropy: 1.770790931369795\n",
      "Results saved to: ../results/layers/error_rates_layers_5_5layers_200_200_200_200_200_1000.txt\n"
     ]
    },
    {
     "data": {
      "text/plain": [
       "{2: (0.876, 0.617, 0.876, 0.617),\n",
       " 3: (0.876, 0.64, 0.876, 0.64),\n",
       " 4: (0.876, 0.614, 0.876, 0.614),\n",
       " 5: (0.876, 0.633, 0.876, 0.633)}"
      ]
     },
     "execution_count": 23,
     "metadata": {},
     "output_type": "execute_result"
    }
   ],
   "source": [
    "experiment_layers(train_1000, train_1000_labels, binary_mnist_test, mnist_train_labels, save_dir=RESULTS_LAYERS_PATH)"
   ]
  }
 ],
 "metadata": {
  "kernelspec": {
   "display_name": ".venv",
   "language": "python",
   "name": "python3"
  },
  "language_info": {
   "codemirror_mode": {
    "name": "ipython",
    "version": 3
   },
   "file_extension": ".py",
   "mimetype": "text/x-python",
   "name": "python",
   "nbconvert_exporter": "python",
   "pygments_lexer": "ipython3",
   "version": "3.10.11"
  }
 },
 "nbformat": 4,
 "nbformat_minor": 2
}
