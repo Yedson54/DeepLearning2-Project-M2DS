{
 "cells": [
  {
   "cell_type": "markdown",
   "metadata": {},
   "source": [
    "## Restricted Botlzman Machines (RBM)"
   ]
  },
  {
   "cell_type": "code",
   "execution_count": 2,
   "metadata": {},
   "outputs": [],
   "source": [
    "#FIXME: Review the generation process (theoretically) and fix the implementation "
   ]
  },
  {
   "cell_type": "code",
   "execution_count": 3,
   "metadata": {},
   "outputs": [],
   "source": [
    "import os\n",
    "from typing import List, Dict, Tuple, Literal, Optional, Union, Iterable\n",
    "\n",
    "import numpy as np\n",
    "import matplotlib.pyplot as plt\n",
    "import pandas as pd\n",
    "import scipy.io\n",
    "from tqdm import tqdm\n",
    "from numpy._typing import ArrayLike\n",
    "\n",
    "ArrayLike = Union[List, Tuple, np.ndarray]"
   ]
  },
  {
   "cell_type": "code",
   "execution_count": 4,
   "metadata": {},
   "outputs": [],
   "source": [
    "DATA_FOLDER = \"../data/\"\n",
    "ALPHA_DIGIT_PATH = os.path.join(DATA_FOLDER, \"binaryalphadigs.mat\")\n",
    "MNIST_PATH = os.path.join(DATA_FOLDER, \"mnist_all.mat\")\n",
    "\n",
    "if not os.path.exists(ALPHA_DIGIT_PATH):\n",
    "    raise FileNotFoundError(f\"The file {ALPHA_DIGIT_PATH} does not exist.\")"
   ]
  },
  {
   "cell_type": "markdown",
   "metadata": {},
   "source": [
    "### 3.1 Implementing a RBM and testing on Binary AlphaDigits"
   ]
  },
  {
   "cell_type": "code",
   "execution_count": 5,
   "metadata": {},
   "outputs": [
    {
     "data": {
      "text/html": [
       "<div>\n",
       "<style scoped>\n",
       "    .dataframe tbody tr th:only-of-type {\n",
       "        vertical-align: middle;\n",
       "    }\n",
       "\n",
       "    .dataframe tbody tr th {\n",
       "        vertical-align: top;\n",
       "    }\n",
       "\n",
       "    .dataframe thead th {\n",
       "        text-align: right;\n",
       "    }\n",
       "</style>\n",
       "<table border=\"1\" class=\"dataframe\">\n",
       "  <thead>\n",
       "    <tr style=\"text-align: right;\">\n",
       "      <th></th>\n",
       "      <th>Class Labels</th>\n",
       "      <th>Class Count</th>\n",
       "    </tr>\n",
       "  </thead>\n",
       "  <tbody>\n",
       "    <tr>\n",
       "      <th>0</th>\n",
       "      <td>0</td>\n",
       "      <td>39</td>\n",
       "    </tr>\n",
       "    <tr>\n",
       "      <th>1</th>\n",
       "      <td>1</td>\n",
       "      <td>39</td>\n",
       "    </tr>\n",
       "    <tr>\n",
       "      <th>2</th>\n",
       "      <td>2</td>\n",
       "      <td>39</td>\n",
       "    </tr>\n",
       "    <tr>\n",
       "      <th>3</th>\n",
       "      <td>3</td>\n",
       "      <td>39</td>\n",
       "    </tr>\n",
       "    <tr>\n",
       "      <th>4</th>\n",
       "      <td>4</td>\n",
       "      <td>39</td>\n",
       "    </tr>\n",
       "    <tr>\n",
       "      <th>5</th>\n",
       "      <td>5</td>\n",
       "      <td>39</td>\n",
       "    </tr>\n",
       "    <tr>\n",
       "      <th>6</th>\n",
       "      <td>6</td>\n",
       "      <td>39</td>\n",
       "    </tr>\n",
       "    <tr>\n",
       "      <th>7</th>\n",
       "      <td>7</td>\n",
       "      <td>39</td>\n",
       "    </tr>\n",
       "    <tr>\n",
       "      <th>8</th>\n",
       "      <td>8</td>\n",
       "      <td>39</td>\n",
       "    </tr>\n",
       "    <tr>\n",
       "      <th>9</th>\n",
       "      <td>9</td>\n",
       "      <td>39</td>\n",
       "    </tr>\n",
       "    <tr>\n",
       "      <th>10</th>\n",
       "      <td>A</td>\n",
       "      <td>39</td>\n",
       "    </tr>\n",
       "    <tr>\n",
       "      <th>11</th>\n",
       "      <td>B</td>\n",
       "      <td>39</td>\n",
       "    </tr>\n",
       "    <tr>\n",
       "      <th>12</th>\n",
       "      <td>C</td>\n",
       "      <td>39</td>\n",
       "    </tr>\n",
       "    <tr>\n",
       "      <th>13</th>\n",
       "      <td>D</td>\n",
       "      <td>39</td>\n",
       "    </tr>\n",
       "    <tr>\n",
       "      <th>14</th>\n",
       "      <td>E</td>\n",
       "      <td>39</td>\n",
       "    </tr>\n",
       "    <tr>\n",
       "      <th>15</th>\n",
       "      <td>F</td>\n",
       "      <td>39</td>\n",
       "    </tr>\n",
       "    <tr>\n",
       "      <th>16</th>\n",
       "      <td>G</td>\n",
       "      <td>39</td>\n",
       "    </tr>\n",
       "    <tr>\n",
       "      <th>17</th>\n",
       "      <td>H</td>\n",
       "      <td>39</td>\n",
       "    </tr>\n",
       "    <tr>\n",
       "      <th>18</th>\n",
       "      <td>I</td>\n",
       "      <td>39</td>\n",
       "    </tr>\n",
       "    <tr>\n",
       "      <th>19</th>\n",
       "      <td>J</td>\n",
       "      <td>39</td>\n",
       "    </tr>\n",
       "    <tr>\n",
       "      <th>20</th>\n",
       "      <td>K</td>\n",
       "      <td>39</td>\n",
       "    </tr>\n",
       "    <tr>\n",
       "      <th>21</th>\n",
       "      <td>L</td>\n",
       "      <td>39</td>\n",
       "    </tr>\n",
       "    <tr>\n",
       "      <th>22</th>\n",
       "      <td>M</td>\n",
       "      <td>39</td>\n",
       "    </tr>\n",
       "    <tr>\n",
       "      <th>23</th>\n",
       "      <td>N</td>\n",
       "      <td>39</td>\n",
       "    </tr>\n",
       "    <tr>\n",
       "      <th>24</th>\n",
       "      <td>O</td>\n",
       "      <td>39</td>\n",
       "    </tr>\n",
       "    <tr>\n",
       "      <th>25</th>\n",
       "      <td>P</td>\n",
       "      <td>39</td>\n",
       "    </tr>\n",
       "    <tr>\n",
       "      <th>26</th>\n",
       "      <td>Q</td>\n",
       "      <td>39</td>\n",
       "    </tr>\n",
       "    <tr>\n",
       "      <th>27</th>\n",
       "      <td>R</td>\n",
       "      <td>39</td>\n",
       "    </tr>\n",
       "    <tr>\n",
       "      <th>28</th>\n",
       "      <td>S</td>\n",
       "      <td>39</td>\n",
       "    </tr>\n",
       "    <tr>\n",
       "      <th>29</th>\n",
       "      <td>T</td>\n",
       "      <td>39</td>\n",
       "    </tr>\n",
       "    <tr>\n",
       "      <th>30</th>\n",
       "      <td>U</td>\n",
       "      <td>39</td>\n",
       "    </tr>\n",
       "    <tr>\n",
       "      <th>31</th>\n",
       "      <td>V</td>\n",
       "      <td>39</td>\n",
       "    </tr>\n",
       "    <tr>\n",
       "      <th>32</th>\n",
       "      <td>W</td>\n",
       "      <td>39</td>\n",
       "    </tr>\n",
       "    <tr>\n",
       "      <th>33</th>\n",
       "      <td>X</td>\n",
       "      <td>39</td>\n",
       "    </tr>\n",
       "    <tr>\n",
       "      <th>34</th>\n",
       "      <td>Y</td>\n",
       "      <td>39</td>\n",
       "    </tr>\n",
       "    <tr>\n",
       "      <th>35</th>\n",
       "      <td>Z</td>\n",
       "      <td>39</td>\n",
       "    </tr>\n",
       "  </tbody>\n",
       "</table>\n",
       "</div>"
      ],
      "text/plain": [
       "   Class Labels  Class Count\n",
       "0             0           39\n",
       "1             1           39\n",
       "2             2           39\n",
       "3             3           39\n",
       "4             4           39\n",
       "5             5           39\n",
       "6             6           39\n",
       "7             7           39\n",
       "8             8           39\n",
       "9             9           39\n",
       "10            A           39\n",
       "11            B           39\n",
       "12            C           39\n",
       "13            D           39\n",
       "14            E           39\n",
       "15            F           39\n",
       "16            G           39\n",
       "17            H           39\n",
       "18            I           39\n",
       "19            J           39\n",
       "20            K           39\n",
       "21            L           39\n",
       "22            M           39\n",
       "23            N           39\n",
       "24            O           39\n",
       "25            P           39\n",
       "26            Q           39\n",
       "27            R           39\n",
       "28            S           39\n",
       "29            T           39\n",
       "30            U           39\n",
       "31            V           39\n",
       "32            W           39\n",
       "33            X           39\n",
       "34            Y           39\n",
       "35            Z           39"
      ]
     },
     "execution_count": 5,
     "metadata": {},
     "output_type": "execute_result"
    }
   ],
   "source": [
    "def _load_data(file_path: str) -> Dict[str, np.ndarray]:\n",
    "    \"\"\"\n",
    "    Load Binary AlphaDigits data from a .mat file.\n",
    "\n",
    "    Parameters:\n",
    "    - file_path (str): Path to the .mat file containing the data.\n",
    "\n",
    "    Returns:\n",
    "    - data (dict): Loaded data dictionary.\n",
    "    \"\"\"\n",
    "    if file_path is None:\n",
    "        raise ValueError(\"File path must be provided.\")\n",
    "\n",
    "    return scipy.io.loadmat(file_path)\n",
    "\n",
    "\n",
    "data = _load_data(ALPHA_DIGIT_PATH)\n",
    "class_labels = data[\"classlabels\"].flatten() \n",
    "class_count = data[\"classcounts\"].flatten()\n",
    "df = pd.DataFrame(\n",
    "    {\n",
    "        \"Class Labels\": class_labels,\n",
    "        \"Class Count\": class_count\n",
    "    }\n",
    ")\n",
    "df[\"Class Labels\"] = df[\"Class Labels\"].apply(lambda x: x[0])\n",
    "df[\"Class Count\"] = df[\"Class Count\"].apply(lambda x: x[0][0])\n",
    "df"
   ]
  },
  {
   "cell_type": "code",
   "execution_count": 6,
   "metadata": {},
   "outputs": [
    {
     "name": "stdout",
     "output_type": "stream",
     "text": [
      "(36, 39)\n",
      "(20, 16)\n"
     ]
    }
   ],
   "source": [
    "def _load_data(file_path: str, which: Literal[\"alphadigit\", \"mnist\"]=\"alphadigit\") -> Dict[str, np.ndarray]:\n",
    "    \"\"\"\n",
    "    Load Binary AlphaDigits data from a .mat file.\n",
    "\n",
    "    Parameters:\n",
    "    - file_path (str): Path to the .mat file containing the data.\n",
    "    - which (Literal[\"alphadigit\", \"mnist\"], optional): Specifies \n",
    "        which data to load. The default value is \"alphadigit\".\n",
    "\n",
    "    Returns:\n",
    "    - data (dict): A dictionary containing the loaded data.\n",
    "\n",
    "    Raises:\n",
    "    - ValueError: If the file_path parameter is None.\n",
    "    - ValueError: If the which parameter is not \"alphadigit\".\n",
    "\n",
    "    Example Usage:\n",
    "    ```python\n",
    "    data = _load_data(\"data.mat\", \"alphadigit\")\n",
    "    ```\n",
    "    \"\"\"\n",
    "    if file_path is None:\n",
    "        raise ValueError(\"File path must be provided.\")\n",
    "    \n",
    "    if which == \"alphadigit\":\n",
    "        return scipy.io.loadmat(file_path)[\"dat\"]\n",
    "    \n",
    "    raise ValueError(\"MNIST NOT YET AVAILABLE.\")\n",
    "\n",
    "alphadigit_data = _load_data(ALPHA_DIGIT_PATH) \n",
    "print(alphadigit_data.shape)\n",
    "print(alphadigit_data[0][0].shape)"
   ]
  },
  {
   "cell_type": "code",
   "execution_count": 7,
   "metadata": {},
   "outputs": [
    {
     "name": "stdout",
     "output_type": "stream",
     "text": [
      "0 > map to > [0]\n",
      "10 > map to > [10]\n",
      "A > map to > [10]\n",
      "[1, 'C'] > map to > [[1], [12]]\n",
      "36 > no mapping available, out of range\n"
     ]
    }
   ],
   "source": [
    "def _map_characters_to_indices(characters: Union[str, int, List[Union[str, int]]]) -> List[int]:\n",
    "    \"\"\"\n",
    "    Map alphanumeric character to its corresponding index.\n",
    "\n",
    "    Parameters:\n",
    "    - character (str, int, list of str or int): Alphanumeric character or its index.\n",
    "\n",
    "    Returns:\n",
    "    - char_index (int): Corresponding index for the character.\n",
    "    \"\"\"\n",
    "    if isinstance(characters, list):\n",
    "        return [_map_characters_to_indices(char) for char in characters]\n",
    "    if isinstance(characters, int) and 0 <= characters <= 35:\n",
    "        return [characters]\n",
    "    if (isinstance(characters, str) and characters.isdigit()\n",
    "          and 0 <= int(characters) <= 9):\n",
    "        return [int(characters)]\n",
    "    if (isinstance(characters, str) and characters.isalpha()\n",
    "          and 'A' <= characters.upper() <= 'Z'):\n",
    "        return [ord(characters.upper()) - ord('A') + 10]\n",
    "    \n",
    "    raise ValueError(\n",
    "        \"Invalid character input. It should be an alphanumeric\" \n",
    "        \"character '[0-9|A-Z]' or its index representing '[0-35]'.\"\n",
    "    )\n",
    "\n",
    "for char in [0, 10, \"A\", [1, \"C\"], 36]:\n",
    "    try:\n",
    "        map = _map_characters_to_indices(char)\n",
    "        print(f\"{char} > map to > {map}\")\n",
    "    except:\n",
    "        print(f\"{char} > no mapping available, out of range\")"
   ]
  },
  {
   "cell_type": "code",
   "execution_count": 8,
   "metadata": {},
   "outputs": [
    {
     "data": {
      "image/png": "[encoded data removed]",
      "text/plain": [
       "<Figure size 800x200 with 4 Axes>"
      ]
     },
     "metadata": {},
     "output_type": "display_data"
    }
   ],
   "source": [
    "def read_alpha_digit(characters: Optional[Union[str, int, List[Union[str, int]]]] = None,\n",
    "                     file_path: Optional[str] = ALPHA_DIGIT_PATH,\n",
    "                     data: Optional[Dict[str, np.ndarray]] = None,\n",
    "                     use_data: bool = False,\n",
    "                     ) -> np.ndarray:\n",
    "    \"\"\"\n",
    "    Reads binary AlphaDigits data from a .mat file or uses already loaded data. \n",
    "    It extracts the data for a specified alphanumeric character or its index, and \n",
    "    flattens the images into one-dimensional vectors.\n",
    "\n",
    "    Parameters:\n",
    "    - characters (Union[str, int, List[Union[str, int]]], optional): Alphanumeric character \n",
    "        or its index whose data needs to be extracted. It can be a single character or \n",
    "        a list of characters. Default is None.\n",
    "    - file_path (str, optional): Path to the .mat file containing the data. \n",
    "        Default is None.\n",
    "    - data (dict, optional): Already loaded data dictionary. \n",
    "        Default is None.\n",
    "    - use_data (bool): Flag to indicate whether to use already loaded data.\n",
    "        Default is False.\n",
    "\n",
    "    Returns:\n",
    "    - flattened_images (numpy.ndarray): Flattened images for the specified character(s).\n",
    "    \"\"\"\n",
    "    if not use_data:\n",
    "        data = _load_data(file_path, which=\"alphadigit\")\n",
    "\n",
    "    char_indices = _map_characters_to_indices(characters)\n",
    "\n",
    "    # Select the rows corresponding to the characters indices.\n",
    "    char_data: np.ndarray = data[char_indices]\n",
    "    \n",
    "    # Flatten each image into a one-dimensional vector.\n",
    "    flattened_images = np.array([image.flatten() for image in char_data.flatten()])\n",
    "    return flattened_images\n",
    "\n",
    "def plot_characters(chars, data):\n",
    "    num_chars = len(chars)\n",
    "    num_images_per_char = data.shape[0] // num_chars\n",
    "    fig, ax = plt.subplots(1, num_chars, figsize=(num_chars * 2, 2))\n",
    "\n",
    "    for i, char in enumerate(chars):\n",
    "        # Find the index of the first image corresponding to the current char\n",
    "        start_index = i * num_images_per_char\n",
    "        image = data[start_index].reshape(20, 16)\n",
    "        ax[i].imshow(image, cmap='gray')\n",
    "        ax[i].set_title(f'Char: {char}')\n",
    "        ax[i].axis('off')\n",
    "\n",
    "    plt.tight_layout()\n",
    "    plt.show()\n",
    "\n",
    "# Example\n",
    "chars = [0, \"K\", 7, \"Z\"]\n",
    "data = read_alpha_digit(chars, data=alphadigit_data, use_data=True)\n",
    "plot_characters(chars, data)"
   ]
  },
  {
   "cell_type": "code",
   "execution_count": 9,
   "metadata": {},
   "outputs": [
    {
     "name": "stdout",
     "output_type": "stream",
     "text": [
      "data shape: (156, 320)\n"
     ]
    }
   ],
   "source": [
    "print(\"data shape:\", data.shape)"
   ]
  },
  {
   "cell_type": "code",
   "execution_count": 10,
   "metadata": {},
   "outputs": [],
   "source": [
    "class RBM:\n",
    "    def __init__(self, n_visible: int, n_hidden: int=100, random_state=None) -> None:\n",
    "        \"\"\"\n",
    "        Initialize the Restricted Boltzmann Machine.\n",
    "\n",
    "        Parameters:\n",
    "        - n_visible (int): Number of visible units.\n",
    "        - n_hidden (int): Number of hidden units. Default 100.\n",
    "        - random_state: Random seed for reproducibility.\n",
    "        \"\"\"\n",
    "        self.n_visible = n_visible\n",
    "        self.n_hidden = n_hidden\n",
    "        \n",
    "        self.a = np.zeros((1, n_visible))\n",
    "        self.b = np.zeros((1, n_hidden))\n",
    "        self.rng = np.random.default_rng(random_state)\n",
    "        self.W = 1e-4 * self.rng.standard_normal(size=(n_visible, n_hidden))\n",
    "\n",
    "    def __repr__(self) -> str:\n",
    "        return f\"RBM(n_visible={self.n_visible}, n_hidden={self.n_hidden})\"\n",
    "\n",
    "    def _sigmoid(self, x: np.ndarray) -> np.ndarray:\n",
    "        \"\"\"\n",
    "        Sigmoid activation function.\n",
    "\n",
    "        Parameters:\n",
    "        - x (numpy.ndarray): Input array.\n",
    "\n",
    "        Returns:\n",
    "        - numpy.ndarray: Result of applying the sigmoid function to the input.\n",
    "        \"\"\"\n",
    "        return 1 / (1 + np.exp(-x))\n",
    "    \n",
    "    def _reconstruction_error(self, input: np.ndarray, image: np.ndarray) -> float:\n",
    "        \"\"\"\n",
    "        Compute reconstruction error.\n",
    "\n",
    "        Parameters:\n",
    "        - input (numpy.ndarray): Original input data.\n",
    "        - image (numpy.ndarray): Reconstructed image.\n",
    "\n",
    "        Returns:\n",
    "        - float: Reconstruction error.\n",
    "        \"\"\"\n",
    "        return np.round(np.power(image - input, 2).mean(), 5)\n",
    "\n",
    "    def input_output(self, data: np.ndarray) -> np.ndarray:\n",
    "        \"\"\"\n",
    "        Compute hidden units given visible units.\n",
    "\n",
    "        Parameters:\n",
    "        - data (numpy.ndarray): Input data, shape (n_samples, n_visible).\n",
    "\n",
    "        Returns:\n",
    "        - numpy.ndarray: Hidden unit activations, shape (n_samples, n_hidden).\n",
    "        \"\"\"\n",
    "        return self._sigmoid(data @ self.W + self.b)\n",
    "\n",
    "    def output_input(self, data_h: np.ndarray) -> np.ndarray:\n",
    "        \"\"\"\n",
    "        Compute visible units given hidden units.\n",
    "\n",
    "        Parameters:\n",
    "        - data_h (numpy.ndarray): Hidden unit activations, shape (n_samples, n_hidden).\n",
    "\n",
    "        Returns:\n",
    "        - numpy.ndarray: Reconstructed visible units, shape (n_samples, n_visible).\n",
    "        \"\"\"\n",
    "        return self._sigmoid(data_h @ self.W.T + self.a)\n",
    "\n",
    "    def train(self, \n",
    "              data: np.ndarray,\n",
    "              learning_rate: float=0.1,\n",
    "              n_epochs: int=10,\n",
    "              batch_size: int=10,\n",
    "              print_each=10\n",
    "        ) -> 'RBM':\n",
    "        \"\"\"\n",
    "        Train the RBM using Contrastive Divergence.\n",
    "\n",
    "        Parameters:\n",
    "        - data (numpy.ndarray): Input data, shape (n_samples, n_visible).\n",
    "        - learning_rate (float): Learning rate for gradient descent. Default is 0.1.\n",
    "        - n_epochs (int): Number of training epochs. Default is 10.\n",
    "        - batch_size (int): Size of mini-batches. Default is 10.\n",
    "\n",
    "        Returns:\n",
    "        - RBM: Trained RBM instance.\n",
    "        \"\"\"\n",
    "        n_samples = data.shape[0]\n",
    "        for epoch in range(n_epochs):\n",
    "            self.rng.shuffle(data)\n",
    "            for i in tqdm(range(0, n_samples, batch_size), desc=f\"Epoch {epoch}\"):\n",
    "                batch = data[i:i+batch_size]\n",
    "                pos_h_probs = self.input_output(batch)\n",
    "                pos_v_probs = self.output_input(pos_h_probs)\n",
    "                neg_h_probs = self.input_output(pos_v_probs)\n",
    "                \n",
    "                # Update weights and biases\n",
    "                self.W += learning_rate * (batch.T @ pos_h_probs - pos_v_probs.T @ neg_h_probs) / batch_size\n",
    "                self.b += learning_rate * (pos_h_probs.mean(axis=0) - neg_h_probs.mean(axis=0))\n",
    "                self.a += learning_rate * (batch.mean(axis=0) - pos_v_probs.mean(axis=0))\n",
    "                \n",
    "            if epoch % print_each == 0:\n",
    "                tqdm.write(\n",
    "                    f\"Reconstruction error: {self._reconstruction_error(batch, pos_v_probs)}.\")\n",
    "\n",
    "        return self\n",
    "\n",
    "    def generate_image(self, n_samples: int=1, n_gibbs_steps: int=1) -> np.ndarray:\n",
    "        \"\"\"\n",
    "        Generate samples from the RBM using Gibbs sampling.\n",
    "\n",
    "        Parameters:\n",
    "        - n_samples (int): Number of samples to generate. Default is 10.\n",
    "        - n_gibbs_steps (int): Number of Gibbs sampling steps. Default is 1.\n",
    "\n",
    "        Returns:\n",
    "        - numpy.ndarray: Generated samples, shape (n_samples, n_visible).\n",
    "        \"\"\"\n",
    "        samples = np.zeros((n_samples, self.n_visible))\n",
    "        \n",
    "        # Matrix of initlization value of Gibbs samples for each sample. \n",
    "        V = self.rng.binomial(1, self.rng.random(), size=n_samples*self.n_visible).reshape((n_samples, self.n_visible))\n",
    "        for i in range(n_samples):\n",
    "            for _ in range(n_gibbs_steps):\n",
    "                h_probs = self._sigmoid(V[i] @ self.W + self.b) # vector\n",
    "                h = self.rng.binomial(1, h_probs)\n",
    "                v_probs = self._sigmoid(h @ self.W.T + self.a)\n",
    "                v = self.rng.binomial(1, v_probs)\n",
    "            samples[i] = v\n",
    "        return samples"
   ]
  },
  {
   "cell_type": "code",
   "execution_count": 11,
   "metadata": {},
   "outputs": [],
   "source": [
    "# Load the alpha_digit data\n",
    "data = read_alpha_digit(file_path=ALPHA_DIGIT_PATH, characters=['Z'])"
   ]
  },
  {
   "cell_type": "code",
   "execution_count": 12,
   "metadata": {},
   "outputs": [
    {
     "name": "stdout",
     "output_type": "stream",
     "text": [
      "RBM(n_visible=320, n_hidden=200)\n"
     ]
    },
    {
     "name": "stderr",
     "output_type": "stream",
     "text": [
      "Epoch 0: 100%|██████████| 4/4 [00:00<00:00, 666.77it/s]\n"
     ]
    },
    {
     "name": "stdout",
     "output_type": "stream",
     "text": [
      "Reconstruction error: 0.16569.\n"
     ]
    },
    {
     "name": "stderr",
     "output_type": "stream",
     "text": [
      "Epoch 1: 100%|██████████| 4/4 [00:00<00:00, 111.11it/s]\n",
      "Epoch 2: 100%|██████████| 4/4 [00:00<00:00, 250.02it/s]\n",
      "Epoch 3: 100%|██████████| 4/4 [00:00<00:00, 800.40it/s]\n",
      "Epoch 4: 100%|██████████| 4/4 [00:00<00:00, 666.77it/s]\n",
      "Epoch 5: 100%|██████████| 4/4 [00:00<00:00, 800.36it/s]\n",
      "Epoch 6: 100%|██████████| 4/4 [00:00<00:00, 800.13it/s]\n",
      "Epoch 7: 100%|██████████| 4/4 [00:00<00:00, 800.06it/s]\n",
      "Epoch 8: 100%|██████████| 4/4 [00:00<00:00, 666.56it/s]\n",
      "Epoch 9: 100%|██████████| 4/4 [00:00<00:00, 800.55it/s]\n",
      "Epoch 10: 100%|██████████| 4/4 [00:00<00:00, 800.36it/s]\n"
     ]
    },
    {
     "name": "stdout",
     "output_type": "stream",
     "text": [
      "Reconstruction error: 0.13308.\n"
     ]
    },
    {
     "name": "stderr",
     "output_type": "stream",
     "text": [
      "Epoch 11: 100%|██████████| 4/4 [00:00<00:00, 571.53it/s]\n",
      "Epoch 12: 100%|██████████| 4/4 [00:00<00:00, 500.01it/s]\n",
      "Epoch 13: 100%|██████████| 4/4 [00:00<00:00, 799.98it/s]\n",
      "Epoch 14: 100%|██████████| 4/4 [00:00<00:00, 667.14it/s]\n",
      "Epoch 15: 100%|██████████| 4/4 [00:00<00:00, 800.21it/s]\n",
      "Epoch 16: 100%|██████████| 4/4 [00:00<00:00, 666.56it/s]\n",
      "Epoch 17: 100%|██████████| 4/4 [00:00<00:00, 800.02it/s]\n",
      "Epoch 18: 100%|██████████| 4/4 [00:00<00:00, 666.69it/s]\n",
      "Epoch 19: 100%|██████████| 4/4 [00:00<00:00, 999.83it/s]\n",
      "Epoch 20: 100%|██████████| 4/4 [00:00<00:00, 666.77it/s]\n"
     ]
    },
    {
     "name": "stdout",
     "output_type": "stream",
     "text": [
      "Reconstruction error: 0.11447.\n"
     ]
    },
    {
     "name": "stderr",
     "output_type": "stream",
     "text": [
      "Epoch 21: 100%|██████████| 4/4 [00:00<00:00, 666.90it/s]\n",
      "Epoch 22: 100%|██████████| 4/4 [00:00<00:00, 799.98it/s]\n",
      "Epoch 23: 100%|██████████| 4/4 [00:00<00:00, 666.50it/s]\n",
      "Epoch 24: 100%|██████████| 4/4 [00:00<00:00, 800.29it/s]\n",
      "Epoch 25: 100%|██████████| 4/4 [00:00<00:00, 800.02it/s]\n",
      "Epoch 26: 100%|██████████| 4/4 [00:00<00:00, 666.95it/s]\n",
      "Epoch 27: 100%|██████████| 4/4 [00:00<00:00, 666.79it/s]\n",
      "Epoch 28: 100%|██████████| 4/4 [00:00<00:00, 571.45it/s]\n",
      "Epoch 29: 100%|██████████| 4/4 [00:00<00:00, 666.66it/s]\n",
      "Epoch 30: 100%|██████████| 4/4 [00:00<00:00, 666.87it/s]\n"
     ]
    },
    {
     "name": "stdout",
     "output_type": "stream",
     "text": [
      "Reconstruction error: 0.0752.\n"
     ]
    },
    {
     "name": "stderr",
     "output_type": "stream",
     "text": [
      "Epoch 31: 100%|██████████| 4/4 [00:00<00:00, 800.17it/s]\n",
      "Epoch 32: 100%|██████████| 4/4 [00:00<00:00, 800.40it/s]\n",
      "Epoch 33: 100%|██████████| 4/4 [00:00<00:00, 571.37it/s]\n",
      "Epoch 34: 100%|██████████| 4/4 [00:00<00:00, 666.74it/s]\n",
      "Epoch 35: 100%|██████████| 4/4 [00:00<00:00, 800.40it/s]\n",
      "Epoch 36: 100%|██████████| 4/4 [00:00<00:00, 666.45it/s]\n",
      "Epoch 37: 100%|██████████| 4/4 [00:00<00:00, 666.64it/s]\n",
      "Epoch 38: 100%|██████████| 4/4 [00:00<00:00, 800.13it/s]\n",
      "Epoch 39: 100%|██████████| 4/4 [00:00<00:00, 802.51it/s]\n",
      "Epoch 40: 100%|██████████| 4/4 [00:00<00:00, 800.33it/s]\n"
     ]
    },
    {
     "name": "stdout",
     "output_type": "stream",
     "text": [
      "Reconstruction error: 0.05648.\n"
     ]
    },
    {
     "name": "stderr",
     "output_type": "stream",
     "text": [
      "Epoch 41: 100%|██████████| 4/4 [00:00<00:00, 666.61it/s]\n",
      "Epoch 42: 100%|██████████| 4/4 [00:00<00:00, 667.03it/s]\n",
      "Epoch 43: 100%|██████████| 4/4 [00:00<00:00, 800.10it/s]\n",
      "Epoch 44: 100%|██████████| 4/4 [00:00<00:00, 666.93it/s]\n",
      "Epoch 45: 100%|██████████| 4/4 [00:00<00:00, 800.06it/s]\n",
      "Epoch 46: 100%|██████████| 4/4 [00:00<00:00, 666.69it/s]\n",
      "Epoch 47: 100%|██████████| 4/4 [00:00<00:00, 1000.85it/s]\n",
      "Epoch 48: 100%|██████████| 4/4 [00:00<00:00, 666.71it/s]\n",
      "Epoch 49: 100%|██████████| 4/4 [00:00<00:00, 666.69it/s]\n",
      "Epoch 50: 100%|██████████| 4/4 [00:00<00:00, 799.94it/s]\n"
     ]
    },
    {
     "name": "stdout",
     "output_type": "stream",
     "text": [
      "Reconstruction error: 0.04929.\n"
     ]
    },
    {
     "name": "stderr",
     "output_type": "stream",
     "text": [
      "Epoch 51: 100%|██████████| 4/4 [00:00<00:00, 666.42it/s]\n",
      "Epoch 52: 100%|██████████| 4/4 [00:00<00:00, 1000.37it/s]\n",
      "Epoch 53: 100%|██████████| 4/4 [00:00<00:00, 799.71it/s]\n",
      "Epoch 54: 100%|██████████| 4/4 [00:00<00:00, 801.43it/s]\n",
      "Epoch 55: 100%|██████████| 4/4 [00:00<00:00, 666.61it/s]\n",
      "Epoch 56: 100%|██████████| 4/4 [00:00<00:00, 500.05it/s]\n",
      "Epoch 57: 100%|██████████| 4/4 [00:00<00:00, 571.24it/s]\n",
      "Epoch 58: 100%|██████████| 4/4 [00:00<00:00, 571.14it/s]\n",
      "Epoch 59: 100%|██████████| 4/4 [00:00<00:00, 571.29it/s]\n",
      "Epoch 60: 100%|██████████| 4/4 [00:00<00:00, 499.87it/s]\n"
     ]
    },
    {
     "name": "stdout",
     "output_type": "stream",
     "text": [
      "Reconstruction error: 0.04607.\n"
     ]
    },
    {
     "name": "stderr",
     "output_type": "stream",
     "text": [
      "Epoch 61: 100%|██████████| 4/4 [00:00<00:00, 499.92it/s]\n",
      "Epoch 62: 100%|██████████| 4/4 [00:00<00:00, 363.67it/s]\n",
      "Epoch 63: 100%|██████████| 4/4 [00:00<00:00, 285.72it/s]\n",
      "Epoch 64: 100%|██████████| 4/4 [00:00<00:00, 799.94it/s]\n",
      "Epoch 65: 100%|██████████| 4/4 [00:00<00:00, 800.06it/s]\n",
      "Epoch 66: 100%|██████████| 4/4 [00:00<00:00, 1000.43it/s]\n",
      "Epoch 67: 100%|██████████| 4/4 [00:00<00:00, 1000.13it/s]\n",
      "Epoch 68: 100%|██████████| 4/4 [00:00<00:00, 800.25it/s]\n",
      "Epoch 69: 100%|██████████| 4/4 [00:00<00:00, 799.94it/s]\n",
      "Epoch 70: 100%|██████████| 4/4 [00:00<00:00, 1000.31it/s]\n"
     ]
    },
    {
     "name": "stdout",
     "output_type": "stream",
     "text": [
      "Reconstruction error: 0.02899.\n"
     ]
    },
    {
     "name": "stderr",
     "output_type": "stream",
     "text": [
      "Epoch 71: 100%|██████████| 4/4 [00:00<00:00, 800.10it/s]\n",
      "Epoch 72: 100%|██████████| 4/4 [00:00<00:00, 800.25it/s]\n",
      "Epoch 73: 100%|██████████| 4/4 [00:00<00:00, 1000.25it/s]\n",
      "Epoch 74: 100%|██████████| 4/4 [00:00<00:00, 800.13it/s]\n",
      "Epoch 75: 100%|██████████| 4/4 [00:00<00:00, 999.77it/s]\n",
      "Epoch 76: 100%|██████████| 4/4 [00:00<00:00, 800.02it/s]\n",
      "Epoch 77: 100%|██████████| 4/4 [00:00<00:00, 1000.13it/s]\n",
      "Epoch 78: 100%|██████████| 4/4 [00:00<00:00, 799.71it/s]\n",
      "Epoch 79: 100%|██████████| 4/4 [00:00<00:00, 800.29it/s]\n",
      "Epoch 80: 100%|██████████| 4/4 [00:00<00:00, 799.83it/s]\n"
     ]
    },
    {
     "name": "stdout",
     "output_type": "stream",
     "text": [
      "Reconstruction error: 0.01998.\n"
     ]
    },
    {
     "name": "stderr",
     "output_type": "stream",
     "text": [
      "Epoch 81: 100%|██████████| 4/4 [00:00<00:00, 800.48it/s]\n",
      "Epoch 82: 100%|██████████| 4/4 [00:00<00:00, 800.06it/s]\n",
      "Epoch 83: 100%|██████████| 4/4 [00:00<00:00, 800.59it/s]\n",
      "Epoch 84: 100%|██████████| 4/4 [00:00<00:00, 666.56it/s]\n",
      "Epoch 85: 100%|██████████| 4/4 [00:00<00:00, 800.17it/s]\n",
      "Epoch 86: 100%|██████████| 4/4 [00:00<00:00, 800.25it/s]\n",
      "Epoch 87: 100%|██████████| 4/4 [00:00<00:00, 800.52it/s]\n",
      "Epoch 88: 100%|██████████| 4/4 [00:00<00:00, 800.29it/s]\n",
      "Epoch 89: 100%|██████████| 4/4 [00:00<00:00, 800.52it/s]\n",
      "Epoch 90: 100%|██████████| 4/4 [00:00<00:00, 800.97it/s]\n"
     ]
    },
    {
     "name": "stdout",
     "output_type": "stream",
     "text": [
      "Reconstruction error: 0.01886.\n"
     ]
    },
    {
     "name": "stderr",
     "output_type": "stream",
     "text": [
      "Epoch 91: 100%|██████████| 4/4 [00:00<00:00, 799.98it/s]\n",
      "Epoch 92: 100%|██████████| 4/4 [00:00<00:00, 800.36it/s]\n",
      "Epoch 93: 100%|██████████| 4/4 [00:00<00:00, 800.55it/s]\n",
      "Epoch 94: 100%|██████████| 4/4 [00:00<00:00, 800.63it/s]\n",
      "Epoch 95: 100%|██████████| 4/4 [00:00<00:00, 800.17it/s]\n",
      "Epoch 96: 100%|██████████| 4/4 [00:00<00:00, 800.33it/s]\n",
      "Epoch 97: 100%|██████████| 4/4 [00:00<00:00, 666.66it/s]\n",
      "Epoch 98: 100%|██████████| 4/4 [00:00<00:00, 799.91it/s]\n",
      "Epoch 99: 100%|██████████| 4/4 [00:00<00:00, 800.25it/s]\n",
      "Epoch 100: 100%|██████████| 4/4 [00:00<00:00, 800.02it/s]\n"
     ]
    },
    {
     "name": "stdout",
     "output_type": "stream",
     "text": [
      "Reconstruction error: 0.01225.\n"
     ]
    },
    {
     "name": "stderr",
     "output_type": "stream",
     "text": [
      "Epoch 101: 100%|██████████| 4/4 [00:00<00:00, 800.17it/s]\n",
      "Epoch 102: 100%|██████████| 4/4 [00:00<00:00, 1000.79it/s]\n",
      "Epoch 103: 100%|██████████| 4/4 [00:00<00:00, 800.25it/s]\n",
      "Epoch 104: 100%|██████████| 4/4 [00:00<00:00, 800.02it/s]\n",
      "Epoch 105: 100%|██████████| 4/4 [00:00<00:00, 800.36it/s]\n",
      "Epoch 106: 100%|██████████| 4/4 [00:00<00:00, 799.94it/s]\n",
      "Epoch 107: 100%|██████████| 4/4 [00:00<00:00, 800.13it/s]\n",
      "Epoch 108: 100%|██████████| 4/4 [00:00<00:00, 800.17it/s]\n",
      "Epoch 109: 100%|██████████| 4/4 [00:00<00:00, 800.13it/s]\n",
      "Epoch 110: 100%|██████████| 4/4 [00:00<00:00, 1000.19it/s]\n"
     ]
    },
    {
     "name": "stdout",
     "output_type": "stream",
     "text": [
      "Reconstruction error: 0.00928.\n"
     ]
    },
    {
     "name": "stderr",
     "output_type": "stream",
     "text": [
      "Epoch 111: 100%|██████████| 4/4 [00:00<00:00, 666.66it/s]\n",
      "Epoch 112: 100%|██████████| 4/4 [00:00<00:00, 1000.73it/s]\n",
      "Epoch 113: 100%|██████████| 4/4 [00:00<00:00, 666.74it/s]\n",
      "Epoch 114: 100%|██████████| 4/4 [00:00<00:00, 800.13it/s]\n",
      "Epoch 115: 100%|██████████| 4/4 [00:00<00:00, 800.06it/s]\n",
      "Epoch 116: 100%|██████████| 4/4 [00:00<00:00, 800.02it/s]\n",
      "Epoch 117: 100%|██████████| 4/4 [00:00<00:00, 666.71it/s]\n",
      "Epoch 118: 100%|██████████| 4/4 [00:00<00:00, 799.71it/s]\n",
      "Epoch 119: 100%|██████████| 4/4 [00:00<00:00, 571.57it/s]\n",
      "Epoch 120: 100%|██████████| 4/4 [00:00<00:00, 666.85it/s]\n"
     ]
    },
    {
     "name": "stdout",
     "output_type": "stream",
     "text": [
      "Reconstruction error: 0.00509.\n"
     ]
    },
    {
     "name": "stderr",
     "output_type": "stream",
     "text": [
      "Epoch 121: 100%|██████████| 4/4 [00:00<00:00, 500.19it/s]\n",
      "Epoch 122: 100%|██████████| 4/4 [00:00<00:00, 726.98it/s]\n",
      "Epoch 123: 100%|██████████| 4/4 [00:00<00:00, 680.67it/s]\n",
      "Epoch 124: 100%|██████████| 4/4 [00:00<00:00, 688.27it/s]\n",
      "Epoch 125: 100%|██████████| 4/4 [00:00<00:00, 782.59it/s]\n",
      "Epoch 126: 100%|██████████| 4/4 [00:00<00:00, 683.06it/s]\n",
      "Epoch 127: 100%|██████████| 4/4 [00:00<00:00, 749.52it/s]\n",
      "Epoch 128: 100%|██████████| 4/4 [00:00<00:00, 610.88it/s]\n",
      "Epoch 129: 100%|██████████| 4/4 [00:00<00:00, 684.11it/s]\n",
      "Epoch 130: 100%|██████████| 4/4 [00:00<00:00, 672.41it/s]\n"
     ]
    },
    {
     "name": "stdout",
     "output_type": "stream",
     "text": [
      "Reconstruction error: 0.00601.\n"
     ]
    },
    {
     "name": "stderr",
     "output_type": "stream",
     "text": [
      "Epoch 131: 100%|██████████| 4/4 [00:00<00:00, 747.61it/s]\n",
      "Epoch 132: 100%|██████████| 4/4 [00:00<00:00, 536.22it/s]\n",
      "Epoch 133: 100%|██████████| 4/4 [00:00<00:00, 687.99it/s]\n",
      "Epoch 134: 100%|██████████| 4/4 [00:00<00:00, 622.42it/s]\n",
      "Epoch 135: 100%|██████████| 4/4 [00:00<00:00, 838.36it/s]\n",
      "Epoch 136: 100%|██████████| 4/4 [00:00<00:00, 783.73it/s]\n",
      "Epoch 137: 100%|██████████| 4/4 [00:00<00:00, 1000.55it/s]\n",
      "Epoch 138: 100%|██████████| 4/4 [00:00<00:00, 800.02it/s]\n",
      "Epoch 139: 100%|██████████| 4/4 [00:00<00:00, 788.74it/s]\n",
      "Epoch 140: 100%|██████████| 4/4 [00:00<00:00, 571.43it/s]\n"
     ]
    },
    {
     "name": "stdout",
     "output_type": "stream",
     "text": [
      "Reconstruction error: 0.00398.\n"
     ]
    },
    {
     "name": "stderr",
     "output_type": "stream",
     "text": [
      "Epoch 141: 100%|██████████| 4/4 [00:00<00:00, 571.63it/s]\n",
      "Epoch 142: 100%|██████████| 4/4 [00:00<00:00, 571.59it/s]\n",
      "Epoch 143: 100%|██████████| 4/4 [00:00<00:00, 666.90it/s]\n",
      "Epoch 144: 100%|██████████| 4/4 [00:00<00:00, 571.35it/s]\n",
      "Epoch 145: 100%|██████████| 4/4 [00:00<00:00, 499.99it/s]\n",
      "Epoch 146: 100%|██████████| 4/4 [00:00<00:00, 666.82it/s]\n",
      "Epoch 147: 100%|██████████| 4/4 [00:00<00:00, 571.29it/s]\n",
      "Epoch 148: 100%|██████████| 4/4 [00:00<00:00, 800.33it/s]\n",
      "Epoch 149: 100%|██████████| 4/4 [00:00<00:00, 666.69it/s]\n",
      "Epoch 150: 100%|██████████| 4/4 [00:00<00:00, 800.25it/s]\n"
     ]
    },
    {
     "name": "stdout",
     "output_type": "stream",
     "text": [
      "Reconstruction error: 0.00366.\n"
     ]
    },
    {
     "name": "stderr",
     "output_type": "stream",
     "text": [
      "Epoch 151: 100%|██████████| 4/4 [00:00<00:00, 799.94it/s]\n",
      "Epoch 152: 100%|██████████| 4/4 [00:00<00:00, 800.06it/s]\n",
      "Epoch 153: 100%|██████████| 4/4 [00:00<00:00, 800.06it/s]\n",
      "Epoch 154: 100%|██████████| 4/4 [00:00<00:00, 800.10it/s]\n",
      "Epoch 155: 100%|██████████| 4/4 [00:00<00:00, 799.98it/s]\n",
      "Epoch 156: 100%|██████████| 4/4 [00:00<00:00, 800.06it/s]\n",
      "Epoch 157: 100%|██████████| 4/4 [00:00<00:00, 800.29it/s]\n",
      "Epoch 158: 100%|██████████| 4/4 [00:00<00:00, 800.06it/s]\n",
      "Epoch 159: 100%|██████████| 4/4 [00:00<00:00, 800.29it/s]\n",
      "Epoch 160: 100%|██████████| 4/4 [00:00<00:00, 800.02it/s]\n"
     ]
    },
    {
     "name": "stdout",
     "output_type": "stream",
     "text": [
      "Reconstruction error: 0.00274.\n"
     ]
    },
    {
     "name": "stderr",
     "output_type": "stream",
     "text": [
      "Epoch 161: 100%|██████████| 4/4 [00:00<00:00, 800.52it/s]\n",
      "Epoch 162: 100%|██████████| 4/4 [00:00<00:00, 666.11it/s]\n",
      "Epoch 163: 100%|██████████| 4/4 [00:00<00:00, 800.36it/s]\n",
      "Epoch 164: 100%|██████████| 4/4 [00:00<00:00, 800.17it/s]\n",
      "Epoch 165: 100%|██████████| 4/4 [00:00<00:00, 799.98it/s]\n",
      "Epoch 166: 100%|██████████| 4/4 [00:00<00:00, 800.71it/s]\n",
      "Epoch 167: 100%|██████████| 4/4 [00:00<00:00, 1000.37it/s]\n",
      "Epoch 168: 100%|██████████| 4/4 [00:00<00:00, 800.06it/s]\n",
      "Epoch 169: 100%|██████████| 4/4 [00:00<00:00, 800.44it/s]\n",
      "Epoch 170: 100%|██████████| 4/4 [00:00<00:00, 800.71it/s]\n"
     ]
    },
    {
     "name": "stdout",
     "output_type": "stream",
     "text": [
      "Reconstruction error: 0.0018.\n"
     ]
    },
    {
     "name": "stderr",
     "output_type": "stream",
     "text": [
      "Epoch 171: 100%|██████████| 4/4 [00:00<00:00, 800.29it/s]\n",
      "Epoch 172: 100%|██████████| 4/4 [00:00<00:00, 801.40it/s]\n",
      "Epoch 173: 100%|██████████| 4/4 [00:00<00:00, 800.36it/s]\n",
      "Epoch 174: 100%|██████████| 4/4 [00:00<00:00, 800.25it/s]\n",
      "Epoch 175: 100%|██████████| 4/4 [00:00<00:00, 800.21it/s]\n",
      "Epoch 176: 100%|██████████| 4/4 [00:00<00:00, 1000.37it/s]\n",
      "Epoch 177: 100%|██████████| 4/4 [00:00<00:00, 800.13it/s]\n",
      "Epoch 178: 100%|██████████| 4/4 [00:00<00:00, 800.17it/s]\n",
      "Epoch 179: 100%|██████████| 4/4 [00:00<00:00, 666.53it/s]\n",
      "Epoch 180: 100%|██████████| 4/4 [00:00<00:00, 800.13it/s]\n"
     ]
    },
    {
     "name": "stdout",
     "output_type": "stream",
     "text": [
      "Reconstruction error: 0.00159.\n"
     ]
    },
    {
     "name": "stderr",
     "output_type": "stream",
     "text": [
      "Epoch 181: 100%|██████████| 4/4 [00:00<00:00, 666.53it/s]\n",
      "Epoch 182: 100%|██████████| 4/4 [00:00<00:00, 800.52it/s]\n",
      "Epoch 183: 100%|██████████| 4/4 [00:00<00:00, 800.21it/s]\n",
      "Epoch 184: 100%|██████████| 4/4 [00:00<00:00, 800.25it/s]\n",
      "Epoch 185: 100%|██████████| 4/4 [00:00<00:00, 800.52it/s]\n",
      "Epoch 186: 100%|██████████| 4/4 [00:00<00:00, 999.77it/s]\n",
      "Epoch 187: 100%|██████████| 4/4 [00:00<00:00, 800.21it/s]\n",
      "Epoch 188: 100%|██████████| 4/4 [00:00<00:00, 800.33it/s]\n",
      "Epoch 189: 100%|██████████| 4/4 [00:00<00:00, 799.94it/s]\n",
      "Epoch 190: 100%|██████████| 4/4 [00:00<00:00, 666.95it/s]\n"
     ]
    },
    {
     "name": "stdout",
     "output_type": "stream",
     "text": [
      "Reconstruction error: 0.00206.\n"
     ]
    },
    {
     "name": "stderr",
     "output_type": "stream",
     "text": [
      "Epoch 191: 100%|██████████| 4/4 [00:00<00:00, 799.56it/s]\n",
      "Epoch 192: 100%|██████████| 4/4 [00:00<00:00, 800.33it/s]\n",
      "Epoch 193: 100%|██████████| 4/4 [00:00<00:00, 800.78it/s]\n",
      "Epoch 194: 100%|██████████| 4/4 [00:00<00:00, 800.78it/s]\n",
      "Epoch 195: 100%|██████████| 4/4 [00:00<00:00, 666.95it/s]\n",
      "Epoch 196: 100%|██████████| 4/4 [00:00<00:00, 999.48it/s]\n",
      "Epoch 197: 100%|██████████| 4/4 [00:00<00:00, 800.21it/s]\n",
      "Epoch 198: 100%|██████████| 4/4 [00:00<00:00, 800.48it/s]\n",
      "Epoch 199: 100%|██████████| 4/4 [00:00<00:00, 666.56it/s]\n",
      "Epoch 200: 100%|██████████| 4/4 [00:00<00:00, 800.36it/s]\n"
     ]
    },
    {
     "name": "stdout",
     "output_type": "stream",
     "text": [
      "Reconstruction error: 0.0011.\n"
     ]
    },
    {
     "name": "stderr",
     "output_type": "stream",
     "text": [
      "Epoch 201: 100%|██████████| 4/4 [00:00<00:00, 800.13it/s]\n",
      "Epoch 202: 100%|██████████| 4/4 [00:00<00:00, 1001.03it/s]\n",
      "Epoch 203: 100%|██████████| 4/4 [00:00<00:00, 800.06it/s]\n",
      "Epoch 204: 100%|██████████| 4/4 [00:00<00:00, 800.06it/s]\n",
      "Epoch 205: 100%|██████████| 4/4 [00:00<00:00, 999.66it/s]\n",
      "Epoch 206: 100%|██████████| 4/4 [00:00<00:00, 800.25it/s]\n",
      "Epoch 207: 100%|██████████| 4/4 [00:00<00:00, 800.36it/s]\n",
      "Epoch 208: 100%|██████████| 4/4 [00:00<00:00, 1000.49it/s]\n",
      "Epoch 209: 100%|██████████| 4/4 [00:00<00:00, 799.98it/s]\n",
      "Epoch 210: 100%|██████████| 4/4 [00:00<00:00, 800.29it/s]\n"
     ]
    },
    {
     "name": "stdout",
     "output_type": "stream",
     "text": [
      "Reconstruction error: 0.00116.\n"
     ]
    },
    {
     "name": "stderr",
     "output_type": "stream",
     "text": [
      "Epoch 211: 100%|██████████| 4/4 [00:00<00:00, 222.22it/s]\n",
      "Epoch 212: 100%|██████████| 4/4 [00:00<00:00, 571.65it/s]\n",
      "Epoch 213: 100%|██████████| 4/4 [00:00<00:00, 571.55it/s]\n",
      "Epoch 214: 100%|██████████| 4/4 [00:00<00:00, 666.66it/s]\n",
      "Epoch 215: 100%|██████████| 4/4 [00:00<00:00, 800.52it/s]\n",
      "Epoch 216: 100%|██████████| 4/4 [00:00<00:00, 800.10it/s]\n",
      "Epoch 217: 100%|██████████| 4/4 [00:00<00:00, 800.13it/s]\n",
      "Epoch 218: 100%|██████████| 4/4 [00:00<00:00, 800.10it/s]\n",
      "Epoch 219: 100%|██████████| 4/4 [00:00<00:00, 800.40it/s]\n",
      "Epoch 220: 100%|██████████| 4/4 [00:00<00:00, 800.52it/s]\n"
     ]
    },
    {
     "name": "stdout",
     "output_type": "stream",
     "text": [
      "Reconstruction error: 0.00068.\n"
     ]
    },
    {
     "name": "stderr",
     "output_type": "stream",
     "text": [
      "Epoch 221: 100%|██████████| 4/4 [00:00<00:00, 799.87it/s]\n",
      "Epoch 222: 100%|██████████| 4/4 [00:00<00:00, 800.36it/s]\n",
      "Epoch 223: 100%|██████████| 4/4 [00:00<00:00, 799.79it/s]\n",
      "Epoch 224: 100%|██████████| 4/4 [00:00<00:00, 800.06it/s]\n",
      "Epoch 225: 100%|██████████| 4/4 [00:00<00:00, 800.10it/s]\n",
      "Epoch 226: 100%|██████████| 4/4 [00:00<00:00, 800.06it/s]\n",
      "Epoch 227: 100%|██████████| 4/4 [00:00<00:00, 666.64it/s]\n",
      "Epoch 228: 100%|██████████| 4/4 [00:00<00:00, 800.33it/s]\n",
      "Epoch 229: 100%|██████████| 4/4 [00:00<00:00, 799.83it/s]\n",
      "Epoch 230: 100%|██████████| 4/4 [00:00<00:00, 800.29it/s]\n"
     ]
    },
    {
     "name": "stdout",
     "output_type": "stream",
     "text": [
      "Reconstruction error: 0.00066.\n"
     ]
    },
    {
     "name": "stderr",
     "output_type": "stream",
     "text": [
      "Epoch 231: 100%|██████████| 4/4 [00:00<00:00, 999.83it/s]\n",
      "Epoch 232: 100%|██████████| 4/4 [00:00<00:00, 800.33it/s]\n",
      "Epoch 233: 100%|██████████| 4/4 [00:00<00:00, 799.91it/s]\n",
      "Epoch 234: 100%|██████████| 4/4 [00:00<00:00, 666.50it/s]\n",
      "Epoch 235: 100%|██████████| 4/4 [00:00<00:00, 666.32it/s]\n",
      "Epoch 236: 100%|██████████| 4/4 [00:00<00:00, 799.41it/s]\n",
      "Epoch 237: 100%|██████████| 4/4 [00:00<00:00, 666.74it/s]\n",
      "Epoch 238: 100%|██████████| 4/4 [00:00<00:00, 800.13it/s]\n",
      "Epoch 239: 100%|██████████| 4/4 [00:00<00:00, 800.25it/s]\n",
      "Epoch 240: 100%|██████████| 4/4 [00:00<00:00, 799.87it/s]\n"
     ]
    },
    {
     "name": "stdout",
     "output_type": "stream",
     "text": [
      "Reconstruction error: 0.00054.\n"
     ]
    },
    {
     "name": "stderr",
     "output_type": "stream",
     "text": [
      "Epoch 241: 100%|██████████| 4/4 [00:00<00:00, 800.82it/s]\n",
      "Epoch 242: 100%|██████████| 4/4 [00:00<00:00, 800.17it/s]\n",
      "Epoch 243: 100%|██████████| 4/4 [00:00<00:00, 800.48it/s]\n",
      "Epoch 244: 100%|██████████| 4/4 [00:00<00:00, 666.85it/s]\n",
      "Epoch 245: 100%|██████████| 4/4 [00:00<00:00, 666.74it/s]\n",
      "Epoch 246: 100%|██████████| 4/4 [00:00<00:00, 666.87it/s]\n",
      "Epoch 247: 100%|██████████| 4/4 [00:00<00:00, 571.28it/s]\n",
      "Epoch 248: 100%|██████████| 4/4 [00:00<00:00, 666.98it/s]\n",
      "Epoch 249: 100%|██████████| 4/4 [00:00<00:00, 666.58it/s]\n",
      "Epoch 250: 100%|██████████| 4/4 [00:00<00:00, 800.10it/s]\n"
     ]
    },
    {
     "name": "stdout",
     "output_type": "stream",
     "text": [
      "Reconstruction error: 0.00059.\n"
     ]
    },
    {
     "name": "stderr",
     "output_type": "stream",
     "text": [
      "Epoch 251: 100%|██████████| 4/4 [00:00<00:00, 666.82it/s]\n",
      "Epoch 252: 100%|██████████| 4/4 [00:00<00:00, 800.25it/s]\n",
      "Epoch 253: 100%|██████████| 4/4 [00:00<00:00, 666.50it/s]\n",
      "Epoch 254: 100%|██████████| 4/4 [00:00<00:00, 800.33it/s]\n",
      "Epoch 255: 100%|██████████| 4/4 [00:00<00:00, 666.82it/s]\n",
      "Epoch 256: 100%|██████████| 4/4 [00:00<00:00, 799.91it/s]\n",
      "Epoch 257: 100%|██████████| 4/4 [00:00<00:00, 800.02it/s]\n",
      "Epoch 258: 100%|██████████| 4/4 [00:00<00:00, 799.52it/s]\n",
      "Epoch 259: 100%|██████████| 4/4 [00:00<00:00, 666.85it/s]\n",
      "Epoch 260: 100%|██████████| 4/4 [00:00<00:00, 666.77it/s]\n"
     ]
    },
    {
     "name": "stdout",
     "output_type": "stream",
     "text": [
      "Reconstruction error: 0.00051.\n"
     ]
    },
    {
     "name": "stderr",
     "output_type": "stream",
     "text": [
      "Epoch 261: 100%|██████████| 4/4 [00:00<00:00, 799.52it/s]\n",
      "Epoch 262: 100%|██████████| 4/4 [00:00<00:00, 666.66it/s]\n",
      "Epoch 263: 100%|██████████| 4/4 [00:00<00:00, 799.91it/s]\n",
      "Epoch 264: 100%|██████████| 4/4 [00:00<00:00, 800.59it/s]\n",
      "Epoch 265: 100%|██████████| 4/4 [00:00<00:00, 799.98it/s]\n",
      "Epoch 266: 100%|██████████| 4/4 [00:00<00:00, 665.87it/s]\n",
      "Epoch 267: 100%|██████████| 4/4 [00:00<00:00, 799.75it/s]\n",
      "Epoch 268: 100%|██████████| 4/4 [00:00<00:00, 667.09it/s]\n",
      "Epoch 269: 100%|██████████| 4/4 [00:00<00:00, 799.94it/s]\n",
      "Epoch 270: 100%|██████████| 4/4 [00:00<00:00, 666.98it/s]\n"
     ]
    },
    {
     "name": "stdout",
     "output_type": "stream",
     "text": [
      "Reconstruction error: 0.00052.\n"
     ]
    },
    {
     "name": "stderr",
     "output_type": "stream",
     "text": [
      "Epoch 271: 100%|██████████| 4/4 [00:00<00:00, 800.48it/s]\n",
      "Epoch 272: 100%|██████████| 4/4 [00:00<00:00, 666.53it/s]\n",
      "Epoch 273: 100%|██████████| 4/4 [00:00<00:00, 666.64it/s]\n",
      "Epoch 274: 100%|██████████| 4/4 [00:00<00:00, 800.36it/s]\n",
      "Epoch 275: 100%|██████████| 4/4 [00:00<00:00, 666.87it/s]\n",
      "Epoch 276: 100%|██████████| 4/4 [00:00<00:00, 800.48it/s]\n",
      "Epoch 277: 100%|██████████| 4/4 [00:00<00:00, 666.87it/s]\n",
      "Epoch 278: 100%|██████████| 4/4 [00:00<00:00, 666.69it/s]\n",
      "Epoch 279: 100%|██████████| 4/4 [00:00<00:00, 666.90it/s]\n",
      "Epoch 280: 100%|██████████| 4/4 [00:00<00:00, 666.85it/s]\n"
     ]
    },
    {
     "name": "stdout",
     "output_type": "stream",
     "text": [
      "Reconstruction error: 0.00035.\n"
     ]
    },
    {
     "name": "stderr",
     "output_type": "stream",
     "text": [
      "Epoch 281: 100%|██████████| 4/4 [00:00<00:00, 666.42it/s]\n",
      "Epoch 282: 100%|██████████| 4/4 [00:00<00:00, 571.29it/s]\n",
      "Epoch 283: 100%|██████████| 4/4 [00:00<00:00, 667.40it/s]\n",
      "Epoch 284: 100%|██████████| 4/4 [00:00<00:00, 800.36it/s]\n",
      "Epoch 285: 100%|██████████| 4/4 [00:00<00:00, 667.11it/s]\n",
      "Epoch 286: 100%|██████████| 4/4 [00:00<00:00, 571.45it/s]\n",
      "Epoch 287: 100%|██████████| 4/4 [00:00<00:00, 800.25it/s]\n",
      "Epoch 288: 100%|██████████| 4/4 [00:00<00:00, 667.01it/s]\n",
      "Epoch 289: 100%|██████████| 4/4 [00:00<00:00, 666.71it/s]\n",
      "Epoch 290: 100%|██████████| 4/4 [00:00<00:00, 666.61it/s]\n"
     ]
    },
    {
     "name": "stdout",
     "output_type": "stream",
     "text": [
      "Reconstruction error: 0.00035.\n"
     ]
    },
    {
     "name": "stderr",
     "output_type": "stream",
     "text": [
      "Epoch 291: 100%|██████████| 4/4 [00:00<00:00, 800.17it/s]\n",
      "Epoch 292: 100%|██████████| 4/4 [00:00<00:00, 666.90it/s]\n",
      "Epoch 293: 100%|██████████| 4/4 [00:00<00:00, 800.06it/s]\n",
      "Epoch 294: 100%|██████████| 4/4 [00:00<00:00, 799.64it/s]\n",
      "Epoch 295: 100%|██████████| 4/4 [00:00<00:00, 800.10it/s]\n",
      "Epoch 296: 100%|██████████| 4/4 [00:00<00:00, 666.71it/s]\n",
      "Epoch 297: 100%|██████████| 4/4 [00:00<00:00, 800.02it/s]\n",
      "Epoch 298: 100%|██████████| 4/4 [00:00<00:00, 800.06it/s]\n",
      "Epoch 299: 100%|██████████| 4/4 [00:00<00:00, 666.53it/s]\n",
      "Epoch 300: 100%|██████████| 4/4 [00:00<00:00, 666.87it/s]\n"
     ]
    },
    {
     "name": "stdout",
     "output_type": "stream",
     "text": [
      "Reconstruction error: 0.00029.\n"
     ]
    },
    {
     "name": "stderr",
     "output_type": "stream",
     "text": [
      "Epoch 301: 100%|██████████| 4/4 [00:00<00:00, 800.10it/s]\n",
      "Epoch 302: 100%|██████████| 4/4 [00:00<00:00, 571.47it/s]\n",
      "Epoch 303: 100%|██████████| 4/4 [00:00<00:00, 666.13it/s]\n",
      "Epoch 304: 100%|██████████| 4/4 [00:00<00:00, 800.21it/s]\n",
      "Epoch 305: 100%|██████████| 4/4 [00:00<00:00, 666.77it/s]\n",
      "Epoch 306: 100%|██████████| 4/4 [00:00<00:00, 799.52it/s]\n",
      "Epoch 307: 100%|██████████| 4/4 [00:00<00:00, 666.87it/s]\n",
      "Epoch 308: 100%|██████████| 4/4 [00:00<00:00, 800.25it/s]\n",
      "Epoch 309: 100%|██████████| 4/4 [00:00<00:00, 800.21it/s]\n",
      "Epoch 310: 100%|██████████| 4/4 [00:00<00:00, 799.91it/s]\n"
     ]
    },
    {
     "name": "stdout",
     "output_type": "stream",
     "text": [
      "Reconstruction error: 0.0003.\n"
     ]
    },
    {
     "name": "stderr",
     "output_type": "stream",
     "text": [
      "Epoch 311: 100%|██████████| 4/4 [00:00<00:00, 571.66it/s]\n",
      "Epoch 312: 100%|██████████| 4/4 [00:00<00:00, 666.87it/s]\n",
      "Epoch 313: 100%|██████████| 4/4 [00:00<00:00, 800.29it/s]\n",
      "Epoch 314: 100%|██████████| 4/4 [00:00<00:00, 800.10it/s]\n",
      "Epoch 315: 100%|██████████| 4/4 [00:00<00:00, 800.36it/s]\n",
      "Epoch 316: 100%|██████████| 4/4 [00:00<00:00, 800.29it/s]\n",
      "Epoch 317: 100%|██████████| 4/4 [00:00<00:00, 666.66it/s]\n",
      "Epoch 318: 100%|██████████| 4/4 [00:00<00:00, 666.66it/s]\n",
      "Epoch 319: 100%|██████████| 4/4 [00:00<00:00, 667.01it/s]\n",
      "Epoch 320: 100%|██████████| 4/4 [00:00<00:00, 666.64it/s]\n"
     ]
    },
    {
     "name": "stdout",
     "output_type": "stream",
     "text": [
      "Reconstruction error: 0.00022.\n"
     ]
    },
    {
     "name": "stderr",
     "output_type": "stream",
     "text": [
      "Epoch 321: 100%|██████████| 4/4 [00:00<00:00, 667.06it/s]\n",
      "Epoch 322: 100%|██████████| 4/4 [00:00<00:00, 800.40it/s]\n",
      "Epoch 323: 100%|██████████| 4/4 [00:00<00:00, 999.48it/s]\n",
      "Epoch 324: 100%|██████████| 4/4 [00:00<00:00, 800.48it/s]\n",
      "Epoch 325: 100%|██████████| 4/4 [00:00<00:00, 800.29it/s]\n",
      "Epoch 326: 100%|██████████| 4/4 [00:00<00:00, 800.25it/s]\n",
      "Epoch 327: 100%|██████████| 4/4 [00:00<00:00, 800.29it/s]\n",
      "Epoch 328: 100%|██████████| 4/4 [00:00<00:00, 800.06it/s]\n",
      "Epoch 329: 100%|██████████| 4/4 [00:00<00:00, 800.06it/s]\n",
      "Epoch 330: 100%|██████████| 4/4 [00:00<00:00, 1000.01it/s]\n"
     ]
    },
    {
     "name": "stdout",
     "output_type": "stream",
     "text": [
      "Reconstruction error: 0.00025.\n"
     ]
    },
    {
     "name": "stderr",
     "output_type": "stream",
     "text": [
      "Epoch 331: 100%|██████████| 4/4 [00:00<00:00, 800.33it/s]\n",
      "Epoch 332: 100%|██████████| 4/4 [00:00<00:00, 800.44it/s]\n",
      "Epoch 333: 100%|██████████| 4/4 [00:00<00:00, 800.90it/s]\n",
      "Epoch 334: 100%|██████████| 4/4 [00:00<00:00, 800.40it/s]\n",
      "Epoch 335: 100%|██████████| 4/4 [00:00<00:00, 800.59it/s]\n",
      "Epoch 336: 100%|██████████| 4/4 [00:00<00:00, 800.21it/s]\n",
      "Epoch 337: 100%|██████████| 4/4 [00:00<00:00, 800.59it/s]\n",
      "Epoch 338: 100%|██████████| 4/4 [00:00<00:00, 666.61it/s]\n",
      "Epoch 339: 100%|██████████| 4/4 [00:00<00:00, 1000.13it/s]\n",
      "Epoch 340: 100%|██████████| 4/4 [00:00<00:00, 800.06it/s]\n"
     ]
    },
    {
     "name": "stdout",
     "output_type": "stream",
     "text": [
      "Reconstruction error: 0.00022.\n"
     ]
    },
    {
     "name": "stderr",
     "output_type": "stream",
     "text": [
      "Epoch 341: 100%|██████████| 4/4 [00:00<00:00, 1000.85it/s]\n",
      "Epoch 342: 100%|██████████| 4/4 [00:00<00:00, 799.79it/s]\n",
      "Epoch 343: 100%|██████████| 4/4 [00:00<00:00, 800.75it/s]\n",
      "Epoch 344: 100%|██████████| 4/4 [00:00<00:00, 799.64it/s]\n",
      "Epoch 345: 100%|██████████| 4/4 [00:00<00:00, 799.98it/s]\n",
      "Epoch 346: 100%|██████████| 4/4 [00:00<00:00, 1000.07it/s]\n",
      "Epoch 347: 100%|██████████| 4/4 [00:00<00:00, 800.48it/s]\n",
      "Epoch 348: 100%|██████████| 4/4 [00:00<00:00, 800.40it/s]\n",
      "Epoch 349: 100%|██████████| 4/4 [00:00<00:00, 667.06it/s]\n",
      "Epoch 350: 100%|██████████| 4/4 [00:00<00:00, 666.95it/s]\n"
     ]
    },
    {
     "name": "stdout",
     "output_type": "stream",
     "text": [
      "Reconstruction error: 0.00022.\n"
     ]
    },
    {
     "name": "stderr",
     "output_type": "stream",
     "text": [
      "Epoch 351: 100%|██████████| 4/4 [00:00<00:00, 800.33it/s]\n",
      "Epoch 352: 100%|██████████| 4/4 [00:00<00:00, 800.21it/s]\n",
      "Epoch 353: 100%|██████████| 4/4 [00:00<00:00, 666.90it/s]\n",
      "Epoch 354: 100%|██████████| 4/4 [00:00<00:00, 800.33it/s]\n",
      "Epoch 355: 100%|██████████| 4/4 [00:00<00:00, 800.67it/s]\n",
      "Epoch 356: 100%|██████████| 4/4 [00:00<00:00, 799.91it/s]\n",
      "Epoch 357: 100%|██████████| 4/4 [00:00<00:00, 799.87it/s]\n",
      "Epoch 358: 100%|██████████| 4/4 [00:00<00:00, 799.71it/s]\n",
      "Epoch 359: 100%|██████████| 4/4 [00:00<00:00, 799.75it/s]\n",
      "Epoch 360: 100%|██████████| 4/4 [00:00<00:00, 799.83it/s]\n"
     ]
    },
    {
     "name": "stdout",
     "output_type": "stream",
     "text": [
      "Reconstruction error: 0.00017.\n"
     ]
    },
    {
     "name": "stderr",
     "output_type": "stream",
     "text": [
      "Epoch 361: 100%|██████████| 4/4 [00:00<00:00, 799.98it/s]\n",
      "Epoch 362: 100%|██████████| 4/4 [00:00<00:00, 800.33it/s]\n",
      "Epoch 363: 100%|██████████| 4/4 [00:00<00:00, 800.48it/s]\n",
      "Epoch 364: 100%|██████████| 4/4 [00:00<00:00, 666.45it/s]\n",
      "Epoch 365: 100%|██████████| 4/4 [00:00<00:00, 800.40it/s]\n",
      "Epoch 366: 100%|██████████| 4/4 [00:00<00:00, 800.29it/s]\n",
      "Epoch 367: 100%|██████████| 4/4 [00:00<00:00, 799.94it/s]\n",
      "Epoch 368: 100%|██████████| 4/4 [00:00<00:00, 799.87it/s]\n",
      "Epoch 369: 100%|██████████| 4/4 [00:00<00:00, 800.25it/s]\n",
      "Epoch 370: 100%|██████████| 4/4 [00:00<00:00, 800.40it/s]\n"
     ]
    },
    {
     "name": "stdout",
     "output_type": "stream",
     "text": [
      "Reconstruction error: 0.00017.\n"
     ]
    },
    {
     "name": "stderr",
     "output_type": "stream",
     "text": [
      "Epoch 371: 100%|██████████| 4/4 [00:00<00:00, 666.71it/s]\n",
      "Epoch 372: 100%|██████████| 4/4 [00:00<00:00, 800.25it/s]\n",
      "Epoch 373: 100%|██████████| 4/4 [00:00<00:00, 666.87it/s]\n",
      "Epoch 374: 100%|██████████| 4/4 [00:00<00:00, 800.44it/s]\n",
      "Epoch 375: 100%|██████████| 4/4 [00:00<00:00, 800.17it/s]\n",
      "Epoch 376: 100%|██████████| 4/4 [00:00<00:00, 1000.07it/s]\n",
      "Epoch 377: 100%|██████████| 4/4 [00:00<00:00, 1000.85it/s]\n",
      "Epoch 378: 100%|██████████| 4/4 [00:00<00:00, 800.17it/s]\n",
      "Epoch 379: 100%|██████████| 4/4 [00:00<00:00, 800.25it/s]\n",
      "Epoch 380: 100%|██████████| 4/4 [00:00<00:00, 800.33it/s]\n"
     ]
    },
    {
     "name": "stdout",
     "output_type": "stream",
     "text": [
      "Reconstruction error: 0.0002.\n"
     ]
    },
    {
     "name": "stderr",
     "output_type": "stream",
     "text": [
      "Epoch 381: 100%|██████████| 4/4 [00:00<00:00, 799.98it/s]\n",
      "Epoch 382: 100%|██████████| 4/4 [00:00<00:00, 800.36it/s]\n",
      "Epoch 383: 100%|██████████| 4/4 [00:00<00:00, 800.36it/s]\n",
      "Epoch 384: 100%|██████████| 4/4 [00:00<00:00, 800.40it/s]\n",
      "Epoch 385: 100%|██████████| 4/4 [00:00<00:00, 800.94it/s]\n",
      "Epoch 386: 100%|██████████| 4/4 [00:00<00:00, 800.06it/s]\n",
      "Epoch 387: 100%|██████████| 4/4 [00:00<00:00, 800.17it/s]\n",
      "Epoch 388: 100%|██████████| 4/4 [00:00<00:00, 666.74it/s]\n",
      "Epoch 389: 100%|██████████| 4/4 [00:00<00:00, 800.48it/s]\n",
      "Epoch 390: 100%|██████████| 4/4 [00:00<00:00, 800.17it/s]\n"
     ]
    },
    {
     "name": "stdout",
     "output_type": "stream",
     "text": [
      "Reconstruction error: 0.00021.\n"
     ]
    },
    {
     "name": "stderr",
     "output_type": "stream",
     "text": [
      "Epoch 391: 100%|██████████| 4/4 [00:00<00:00, 800.13it/s]\n",
      "Epoch 392: 100%|██████████| 4/4 [00:00<00:00, 666.74it/s]\n",
      "Epoch 393: 100%|██████████| 4/4 [00:00<00:00, 667.01it/s]\n",
      "Epoch 394: 100%|██████████| 4/4 [00:00<00:00, 571.35it/s]\n",
      "Epoch 395: 100%|██████████| 4/4 [00:00<00:00, 799.68it/s]\n",
      "Epoch 396: 100%|██████████| 4/4 [00:00<00:00, 800.17it/s]\n",
      "Epoch 397: 100%|██████████| 4/4 [00:00<00:00, 666.48it/s]\n",
      "Epoch 398: 100%|██████████| 4/4 [00:00<00:00, 800.71it/s]\n",
      "Epoch 399: 100%|██████████| 4/4 [00:00<00:00, 800.13it/s]\n",
      "Epoch 400: 100%|██████████| 4/4 [00:00<00:00, 724.12it/s]\n"
     ]
    },
    {
     "name": "stdout",
     "output_type": "stream",
     "text": [
      "Reconstruction error: 0.00017.\n"
     ]
    },
    {
     "name": "stderr",
     "output_type": "stream",
     "text": [
      "Epoch 401: 100%|██████████| 4/4 [00:00<00:00, 824.07it/s]\n",
      "Epoch 402: 100%|██████████| 4/4 [00:00<00:00, 669.64it/s]\n",
      "Epoch 403: 100%|██████████| 4/4 [00:00<00:00, 731.54it/s]\n",
      "Epoch 404: 100%|██████████| 4/4 [00:00<00:00, 728.53it/s]\n",
      "Epoch 405: 100%|██████████| 4/4 [00:00<00:00, 628.83it/s]\n",
      "Epoch 406: 100%|██████████| 4/4 [00:00<00:00, 768.05it/s]\n",
      "Epoch 407: 100%|██████████| 4/4 [00:00<00:00, 800.06it/s]\n",
      "Epoch 408: 100%|██████████| 4/4 [00:00<00:00, 800.44it/s]\n",
      "Epoch 409: 100%|██████████| 4/4 [00:00<00:00, 767.70it/s]\n",
      "Epoch 410: 100%|██████████| 4/4 [00:00<00:00, 619.45it/s]\n"
     ]
    },
    {
     "name": "stdout",
     "output_type": "stream",
     "text": [
      "Reconstruction error: 0.00011.\n"
     ]
    },
    {
     "name": "stderr",
     "output_type": "stream",
     "text": [
      "Epoch 411: 100%|██████████| 4/4 [00:00<00:00, 839.32it/s]\n",
      "Epoch 412: 100%|██████████| 4/4 [00:00<00:00, 673.46it/s]\n",
      "Epoch 413: 100%|██████████| 4/4 [00:00<00:00, 755.36it/s]\n",
      "Epoch 414: 100%|██████████| 4/4 [00:00<00:00, 772.75it/s]\n",
      "Epoch 415: 100%|██████████| 4/4 [00:00<00:00, 704.95it/s]\n",
      "Epoch 416: 100%|██████████| 4/4 [00:00<00:00, 654.44it/s]\n",
      "Epoch 417: 100%|██████████| 4/4 [00:00<00:00, 666.95it/s]\n",
      "Epoch 418: 100%|██████████| 4/4 [00:00<00:00, 800.02it/s]\n",
      "Epoch 419: 100%|██████████| 4/4 [00:00<00:00, 800.55it/s]\n",
      "Epoch 420: 100%|██████████| 4/4 [00:00<00:00, 800.13it/s]\n"
     ]
    },
    {
     "name": "stdout",
     "output_type": "stream",
     "text": [
      "Reconstruction error: 0.00016.\n"
     ]
    },
    {
     "name": "stderr",
     "output_type": "stream",
     "text": [
      "Epoch 421: 100%|██████████| 4/4 [00:00<00:00, 1000.13it/s]\n",
      "Epoch 422: 100%|██████████| 4/4 [00:00<00:00, 666.40it/s]\n",
      "Epoch 423: 100%|██████████| 4/4 [00:00<00:00, 148.14it/s]\n",
      "Epoch 424: 100%|██████████| 4/4 [00:00<00:00, 499.80it/s]\n",
      "Epoch 425: 100%|██████████| 4/4 [00:00<00:00, 800.52it/s]\n",
      "Epoch 426: 100%|██████████| 4/4 [00:00<00:00, 666.42it/s]\n",
      "Epoch 427: 100%|██████████| 4/4 [00:00<00:00, 800.25it/s]\n",
      "Epoch 428: 100%|██████████| 4/4 [00:00<00:00, 800.29it/s]\n",
      "Epoch 429: 100%|██████████| 4/4 [00:00<00:00, 800.10it/s]\n",
      "Epoch 430: 100%|██████████| 4/4 [00:00<00:00, 800.17it/s]\n"
     ]
    },
    {
     "name": "stdout",
     "output_type": "stream",
     "text": [
      "Reconstruction error: 0.00012.\n"
     ]
    },
    {
     "name": "stderr",
     "output_type": "stream",
     "text": [
      "Epoch 431: 100%|██████████| 4/4 [00:00<00:00, 800.48it/s]\n",
      "Epoch 432: 100%|██████████| 4/4 [00:00<00:00, 666.69it/s]\n",
      "Epoch 433: 100%|██████████| 4/4 [00:00<00:00, 800.33it/s]\n",
      "Epoch 434: 100%|██████████| 4/4 [00:00<00:00, 1000.43it/s]\n",
      "Epoch 435: 100%|██████████| 4/4 [00:00<00:00, 800.29it/s]\n",
      "Epoch 436: 100%|██████████| 4/4 [00:00<00:00, 800.29it/s]\n",
      "Epoch 437: 100%|██████████| 4/4 [00:00<00:00, 800.52it/s]\n",
      "Epoch 438: 100%|██████████| 4/4 [00:00<00:00, 800.29it/s]\n",
      "Epoch 439: 100%|██████████| 4/4 [00:00<00:00, 800.71it/s]\n",
      "Epoch 440: 100%|██████████| 4/4 [00:00<00:00, 799.94it/s]\n"
     ]
    },
    {
     "name": "stdout",
     "output_type": "stream",
     "text": [
      "Reconstruction error: 0.00012.\n"
     ]
    },
    {
     "name": "stderr",
     "output_type": "stream",
     "text": [
      "Epoch 441: 100%|██████████| 4/4 [00:00<00:00, 800.59it/s]\n",
      "Epoch 442: 100%|██████████| 4/4 [00:00<00:00, 799.91it/s]\n",
      "Epoch 443: 100%|██████████| 4/4 [00:00<00:00, 800.67it/s]\n",
      "Epoch 444: 100%|██████████| 4/4 [00:00<00:00, 999.24it/s]\n",
      "Epoch 445: 100%|██████████| 4/4 [00:00<00:00, 800.06it/s]\n",
      "Epoch 446: 100%|██████████| 4/4 [00:00<00:00, 800.17it/s]\n",
      "Epoch 447: 100%|██████████| 4/4 [00:00<00:00, 800.29it/s]\n",
      "Epoch 448: 100%|██████████| 4/4 [00:00<00:00, 799.94it/s]\n",
      "Epoch 449: 100%|██████████| 4/4 [00:00<00:00, 800.25it/s]\n",
      "Epoch 450: 100%|██████████| 4/4 [00:00<00:00, 800.17it/s]\n"
     ]
    },
    {
     "name": "stdout",
     "output_type": "stream",
     "text": [
      "Reconstruction error: 0.00013.\n"
     ]
    },
    {
     "name": "stderr",
     "output_type": "stream",
     "text": [
      "Epoch 451: 100%|██████████| 4/4 [00:00<00:00, 999.60it/s]\n",
      "Epoch 452: 100%|██████████| 4/4 [00:00<00:00, 799.87it/s]\n",
      "Epoch 453: 100%|██████████| 4/4 [00:00<00:00, 1000.01it/s]\n",
      "Epoch 454: 100%|██████████| 4/4 [00:00<00:00, 800.02it/s]\n",
      "Epoch 455: 100%|██████████| 4/4 [00:00<00:00, 800.25it/s]\n",
      "Epoch 456: 100%|██████████| 4/4 [00:00<00:00, 799.68it/s]\n",
      "Epoch 457: 100%|██████████| 4/4 [00:00<00:00, 800.25it/s]\n",
      "Epoch 458: 100%|██████████| 4/4 [00:00<00:00, 800.25it/s]\n",
      "Epoch 459: 100%|██████████| 4/4 [00:00<00:00, 800.21it/s]\n",
      "Epoch 460: 100%|██████████| 4/4 [00:00<00:00, 800.33it/s]\n"
     ]
    },
    {
     "name": "stdout",
     "output_type": "stream",
     "text": [
      "Reconstruction error: 0.00012.\n"
     ]
    },
    {
     "name": "stderr",
     "output_type": "stream",
     "text": [
      "Epoch 461: 100%|██████████| 4/4 [00:00<00:00, 801.70it/s]\n",
      "Epoch 462: 100%|██████████| 4/4 [00:00<00:00, 800.13it/s]\n",
      "Epoch 463: 100%|██████████| 4/4 [00:00<00:00, 800.06it/s]\n",
      "Epoch 464: 100%|██████████| 4/4 [00:00<00:00, 800.06it/s]\n",
      "Epoch 465: 100%|██████████| 4/4 [00:00<00:00, 799.94it/s]\n",
      "Epoch 466: 100%|██████████| 4/4 [00:00<00:00, 800.25it/s]\n",
      "Epoch 467: 100%|██████████| 4/4 [00:00<00:00, 666.98it/s]\n",
      "Epoch 468: 100%|██████████| 4/4 [00:00<00:00, 800.13it/s]\n",
      "Epoch 469: 100%|██████████| 4/4 [00:00<00:00, 800.29it/s]\n",
      "Epoch 470: 100%|██████████| 4/4 [00:00<00:00, 801.09it/s]\n"
     ]
    },
    {
     "name": "stdout",
     "output_type": "stream",
     "text": [
      "Reconstruction error: 0.0001.\n"
     ]
    },
    {
     "name": "stderr",
     "output_type": "stream",
     "text": [
      "Epoch 471: 100%|██████████| 4/4 [00:00<00:00, 800.90it/s]\n",
      "Epoch 472: 100%|██████████| 4/4 [00:00<00:00, 800.13it/s]\n",
      "Epoch 473: 100%|██████████| 4/4 [00:00<00:00, 666.61it/s]\n",
      "Epoch 474: 100%|██████████| 4/4 [00:00<00:00, 799.83it/s]\n",
      "Epoch 475: 100%|██████████| 4/4 [00:00<00:00, 999.95it/s]\n",
      "Epoch 476: 100%|██████████| 4/4 [00:00<00:00, 800.40it/s]\n",
      "Epoch 477: 100%|██████████| 4/4 [00:00<00:00, 799.98it/s]\n",
      "Epoch 478: 100%|██████████| 4/4 [00:00<00:00, 800.63it/s]\n",
      "Epoch 479: 100%|██████████| 4/4 [00:00<00:00, 799.52it/s]\n",
      "Epoch 480: 100%|██████████| 4/4 [00:00<00:00, 800.17it/s]\n"
     ]
    },
    {
     "name": "stdout",
     "output_type": "stream",
     "text": [
      "Reconstruction error: 9e-05.\n"
     ]
    },
    {
     "name": "stderr",
     "output_type": "stream",
     "text": [
      "Epoch 481: 100%|██████████| 4/4 [00:00<00:00, 800.21it/s]\n",
      "Epoch 482: 100%|██████████| 4/4 [00:00<00:00, 800.52it/s]\n",
      "Epoch 483: 100%|██████████| 4/4 [00:00<00:00, 800.40it/s]\n",
      "Epoch 484: 100%|██████████| 4/4 [00:00<00:00, 999.18it/s]\n",
      "Epoch 485: 100%|██████████| 4/4 [00:00<00:00, 800.21it/s]\n",
      "Epoch 486: 100%|██████████| 4/4 [00:00<00:00, 800.06it/s]\n",
      "Epoch 487: 100%|██████████| 4/4 [00:00<00:00, 800.44it/s]\n",
      "Epoch 488: 100%|██████████| 4/4 [00:00<00:00, 666.50it/s]\n",
      "Epoch 489: 100%|██████████| 4/4 [00:00<00:00, 800.44it/s]\n",
      "Epoch 490: 100%|██████████| 4/4 [00:00<00:00, 666.40it/s]\n"
     ]
    },
    {
     "name": "stdout",
     "output_type": "stream",
     "text": [
      "Reconstruction error: 8e-05.\n"
     ]
    },
    {
     "name": "stderr",
     "output_type": "stream",
     "text": [
      "Epoch 491: 100%|██████████| 4/4 [00:00<00:00, 570.94it/s]\n",
      "Epoch 492: 100%|██████████| 4/4 [00:00<00:00, 800.55it/s]\n",
      "Epoch 493: 100%|██████████| 4/4 [00:00<00:00, 1000.19it/s]\n",
      "Epoch 494: 100%|██████████| 4/4 [00:00<00:00, 801.36it/s]\n",
      "Epoch 495: 100%|██████████| 4/4 [00:00<00:00, 666.85it/s]\n",
      "Epoch 496: 100%|██████████| 4/4 [00:00<00:00, 1000.13it/s]\n",
      "Epoch 497: 100%|██████████| 4/4 [00:00<00:00, 799.91it/s]\n",
      "Epoch 498: 100%|██████████| 4/4 [00:00<00:00, 800.36it/s]\n",
      "Epoch 499: 100%|██████████| 4/4 [00:00<00:00, 800.67it/s]\n"
     ]
    },
    {
     "data": {
      "text/plain": [
       "RBM(n_visible=320, n_hidden=200)"
      ]
     },
     "execution_count": 12,
     "metadata": {},
     "output_type": "execute_result"
    }
   ],
   "source": [
    "# Parameters\n",
    "n_visible = data.shape[1]  # Number of visible units (size of each image)\n",
    "n_hidden = 200  # Number of hidden units (hyperparameter)\n",
    "\n",
    "# Initialize RBM\n",
    "rbm = RBM(n_visible=n_visible, n_hidden=n_hidden, random_state=42)\n",
    "print(rbm)\n",
    "\n",
    "# Train RBM\n",
    "rbm.train(data, learning_rate=0.1, n_epochs=500, batch_size=10)"
   ]
  },
  {
   "cell_type": "code",
   "execution_count": 13,
   "metadata": {},
   "outputs": [
    {
     "data": {
      "image/png": "[encoded data removed]",
      "text/plain": [
       "<Figure size 1200x600 with 20 Axes>"
      ]
     },
     "metadata": {},
     "output_type": "display_data"
    }
   ],
   "source": [
    "# Generate samples\n",
    "generated_samples = rbm.generate_image(n_samples=10, n_gibbs_steps=1)\n",
    "\n",
    "# Plot original and generated samples\n",
    "plt.figure(figsize=(12, 6))\n",
    "for i in range(10):\n",
    "    plt.subplot(2, 10, i + 1)\n",
    "    plt.imshow(data[i].reshape(20, 16), cmap='gray')\n",
    "    plt.title('Original')\n",
    "    plt.axis('off')\n",
    "    \n",
    "    plt.subplot(2, 10, i + 11)\n",
    "    plt.imshow(generated_samples[i].reshape(20, 16), cmap='gray')\n",
    "    plt.title('Generated')\n",
    "    plt.axis('off')\n",
    "\n",
    "plt.show()"
   ]
  },
  {
   "cell_type": "code",
   "execution_count": 14,
   "metadata": {},
   "outputs": [
    {
     "name": "stdout",
     "output_type": "stream",
     "text": [
      "RBM(n_visible=320, n_hidden=200)\n"
     ]
    }
   ],
   "source": [
    "print(rbm)"
   ]
  },
  {
   "cell_type": "markdown",
   "metadata": {},
   "source": [
    "### 3.2 Implementing a Deep Belief Network (DBN) and test on Binary AlphaDigits"
   ]
  },
  {
   "cell_type": "code",
   "execution_count": 35,
   "metadata": {},
   "outputs": [],
   "source": [
    "class DBN:\n",
    "    def __init__(self, n_visible: int, hidden_layer_sizes: list[int], random_state=None):\n",
    "        \"\"\"\n",
    "        Initialize the Deep Belief Network.\n",
    "\n",
    "        Parameters:\n",
    "        - n_visible (int): Number of visible units.\n",
    "        - hidden_layer_sizes (list[int]): List of sizes for each hidden layer.\n",
    "        - random_state: Random seed for reproducibility.\n",
    "        \"\"\"\n",
    "        self.n_visible = n_visible\n",
    "        self.hidden_layer_sizes = hidden_layer_sizes\n",
    "        self.rbms: List[RBM] = []\n",
    "        self.rng = np.random.default_rng(random_state)\n",
    "\n",
    "        # Initialize the first RBM\n",
    "        first_rbm = RBM(\n",
    "            n_visible=n_visible,\n",
    "            n_hidden=hidden_layer_sizes[0],\n",
    "            random_state=random_state,\n",
    "        )\n",
    "        self.rbms.append(first_rbm)\n",
    "\n",
    "        # Initialize RBMs for subsequent hidden layers\n",
    "        for i, size in enumerate(hidden_layer_sizes[1:], start=1):\n",
    "            rbm = RBM(\n",
    "                n_visible=hidden_layer_sizes[i - 1],\n",
    "                n_hidden=size,\n",
    "                random_state=random_state,\n",
    "            )\n",
    "            self.rbms.append(rbm)\n",
    "\n",
    "\n",
    "    def __getitem__(self, key):\n",
    "        return self.rbms[key]\n",
    "    \n",
    "\n",
    "    def __repr__(self):\n",
    "        \"\"\"\n",
    "        Return a string representation of the DBN object.\n",
    "        \"\"\"\n",
    "        rbm_reprs = [repr(rbm) for rbm in self.rbms]\n",
    "        join_rbm_reprs = ',\\n '.join(rbm_reprs)\n",
    "        return f\"DBN([\\n {join_rbm_reprs}\\n])\"\n",
    "\n",
    "\n",
    "    def train(self,\n",
    "        data: np.ndarray,\n",
    "        learning_rate: float=0.1,\n",
    "        n_epochs: int=10,\n",
    "        batch_size: int=10,\n",
    "        print_each: int=10,\n",
    "    ) -> \"DBN\":\n",
    "        \"\"\"\n",
    "        Train the DBN using Greedy layer-wise procedure.\n",
    "\n",
    "        Parameters:\n",
    "        - data (numpy.ndarray): Input data, shape (n_samples, n_visible).\n",
    "        - learning_rate (float): Learning rate for gradient descent. Default is 0.1.\n",
    "        - n_epochs (int): Number of training epochs. Default is 10.\n",
    "        - batch_size (int): Size of mini-batches. Default is 10.\n",
    "        - print_each: Print reconstruction error each `print_each` epochs.\n",
    "        - verbose\n",
    "\n",
    "        Returns:\n",
    "        - DBN: Trained DBN instance.\n",
    "        \"\"\"\n",
    "        input_data = data\n",
    "        for rbm in self.rbms:\n",
    "            rbm.train(\n",
    "                input_data,\n",
    "                learning_rate=learning_rate,\n",
    "                n_epochs=n_epochs,\n",
    "                batch_size=batch_size,\n",
    "                print_each=print_each,\n",
    "            )\n",
    "            # Update input data for the next RBM\n",
    "            input_data = rbm.input_output(input_data)\n",
    "\n",
    "        return self\n",
    "\n",
    "    def generate_image(self, n_samples: int=1, n_gibbs_steps: int=1) -> np.ndarray:\n",
    "        \"\"\"\n",
    "        Generate samples from the DBN using Gibbs sampling.\n",
    "\n",
    "        Parameters:\n",
    "        - n_samples (int): Number of samples to generate. Default is 1.\n",
    "        - n_gibbs_steps (int): Number of Gibbs sampling steps. Default is 100.\n",
    "\n",
    "        Returns:\n",
    "        - numpy.ndarray: Generated samples, shape (n_samples, n_visible).\n",
    "        \"\"\"\n",
    "        # samples = np.zeros((n_samples, self.n_visible))\n",
    "\n",
    "        # Generate samples using the first RBM in the DBN\n",
    "        samples = self.rbms[-1].generate_image(n_samples, n_gibbs_steps)\n",
    "        for rbm in reversed(self.rbms[:-1]):\n",
    "            # Sample from the conditional probability of layer l-1 given layer l: p(h_{s-1}|h_{s}).\n",
    "            h_probs = rbm.output_input(samples)\n",
    "            h = self.rng.binomial(1, p=h_probs) \n",
    "            samples = h\n",
    "        return samples"
   ]
  },
  {
   "cell_type": "code",
   "execution_count": 36,
   "metadata": {},
   "outputs": [
    {
     "name": "stderr",
     "output_type": "stream",
     "text": [
      "Epoch 0: 100%|██████████| 4/4 [00:00<00:00, 1000.07it/s]\n"
     ]
    },
    {
     "name": "stdout",
     "output_type": "stream",
     "text": [
      "Reconstruction error: 0.18102.\n"
     ]
    },
    {
     "name": "stderr",
     "output_type": "stream",
     "text": [
      "Epoch 1: 100%|██████████| 4/4 [00:00<00:00, 999.77it/s]\n",
      "Epoch 2: 100%|██████████| 4/4 [00:00<00:00, 666.34it/s]\n",
      "Epoch 3: 100%|██████████| 4/4 [00:00<00:00, 1000.13it/s]\n",
      "Epoch 4: 100%|██████████| 4/4 [00:00<00:00, 800.63it/s]\n",
      "Epoch 5: 100%|██████████| 4/4 [00:00<00:00, 999.77it/s]\n",
      "Epoch 6: 100%|██████████| 4/4 [00:00<00:00, 666.85it/s]\n",
      "Epoch 7: 100%|██████████| 4/4 [00:00<00:00, 799.75it/s]\n",
      "Epoch 8: 100%|██████████| 4/4 [00:00<00:00, 800.44it/s]\n",
      "Epoch 9: 100%|██████████| 4/4 [00:00<00:00, 800.17it/s]\n",
      "Epoch 0: 100%|██████████| 4/4 [00:00<00:00, 3993.62it/s]\n"
     ]
    },
    {
     "name": "stdout",
     "output_type": "stream",
     "text": [
      "Reconstruction error: 0.01524.\n"
     ]
    },
    {
     "name": "stderr",
     "output_type": "stream",
     "text": [
      "Epoch 1: 100%|██████████| 4/4 [00:00<00:00, 2000.86it/s]\n",
      "Epoch 2: 100%|██████████| 4/4 [00:00<00:00, 1999.91it/s]\n",
      "Epoch 3: 100%|██████████| 4/4 [00:00<00:00, 2000.14it/s]\n",
      "Epoch 4: 100%|██████████| 4/4 [00:00<00:00, 1998.95it/s]\n",
      "Epoch 5: 100%|██████████| 4/4 [00:00<00:00, 3997.43it/s]\n",
      "Epoch 6: 100%|██████████| 4/4 [00:00<00:00, 3988.88it/s]\n",
      "Epoch 7: 100%|██████████| 4/4 [00:00<00:00, 1331.31it/s]\n",
      "Epoch 8: 100%|██████████| 4/4 [00:00<00:00, 4016.57it/s]\n",
      "Epoch 9: 100%|██████████| 4/4 [00:00<00:00, 4012.73it/s]\n",
      "Epoch 0: 100%|██████████| 4/4 [00:00<00:00, 1999.91it/s]\n"
     ]
    },
    {
     "name": "stdout",
     "output_type": "stream",
     "text": [
      "Reconstruction error: 0.00416.\n"
     ]
    },
    {
     "name": "stderr",
     "output_type": "stream",
     "text": [
      "Epoch 1: 100%|██████████| 4/4 [00:00<00:00, 2001.58it/s]\n",
      "Epoch 2: 100%|██████████| 4/4 [00:00<00:00, 4011.77it/s]\n",
      "Epoch 3: 100%|██████████| 4/4 [00:00<00:00, 4000.29it/s]\n",
      "Epoch 4: 100%|██████████| 4/4 [00:00<00:00, 4003.15it/s]\n",
      "Epoch 5: 100%|██████████| 4/4 [00:00<00:00, 4003.15it/s]\n",
      "Epoch 6: 100%|██████████| 4/4 [00:00<00:00, 4000.29it/s]\n",
      "Epoch 7: 100%|██████████| 4/4 [00:00<00:00, 3998.38it/s]\n",
      "Epoch 8: 100%|██████████| 4/4 [00:00<00:00, 4004.11it/s]\n",
      "Epoch 9: 100%|██████████| 4/4 [00:00<00:00, 4003.15it/s]\n"
     ]
    },
    {
     "data": {
      "text/plain": [
       "DBN([\n",
       " RBM(n_visible=320, n_hidden=100),\n",
       " RBM(n_visible=100, n_hidden=50),\n",
       " RBM(n_visible=50, n_hidden=25)\n",
       "])"
      ]
     },
     "execution_count": 36,
     "metadata": {},
     "output_type": "execute_result"
    }
   ],
   "source": [
    "n_visible=data.shape[1]\n",
    "hidden_layer_sizes = [100, 50, 25]\n",
    "\n",
    "dbn = DBN(n_visible=n_visible, hidden_layer_sizes=hidden_layer_sizes, random_state=42)\n",
    "dbn.train(data, learning_rate=0.1, n_epochs=10, batch_size=10)"
   ]
  },
  {
   "cell_type": "code",
   "execution_count": 42,
   "metadata": {},
   "outputs": [
    {
     "name": "stdout",
     "output_type": "stream",
     "text": [
      "[RBM(n_visible=100, n_hidden=50), RBM(n_visible=50, n_hidden=25)]\n"
     ]
    }
   ],
   "source": [
    "# Check if the RBM are accessibles via a slicing \n",
    "print(dbn[1:3])"
   ]
  },
  {
   "cell_type": "code",
   "execution_count": 41,
   "metadata": {},
   "outputs": [
    {
     "data": {
      "image/png": "[encoded data removed]",
      "text/plain": [
       "<Figure size 1200x400 with 5 Axes>"
      ]
     },
     "metadata": {},
     "output_type": "display_data"
    }
   ],
   "source": [
    "# # Generate images\n",
    "generated_images = dbn.generate_image(n_samples=5, n_gibbs_steps=1)\n",
    "\n",
    "# Display generated images\n",
    "fig, axes = plt.subplots(nrows=1, ncols=5, figsize=(12, 4))\n",
    "for i in range(5):\n",
    "    axes[i].imshow(generated_images[i].reshape(20, 16), cmap='gray')\n",
    "    axes[i].set_title(f\"Image {i+1}\")\n",
    "    axes[i].axis('off')\n",
    "plt.tight_layout()\n",
    "plt.show()"
   ]
  },
  {
   "cell_type": "code",
   "execution_count": null,
   "metadata": {},
   "outputs": [],
   "source": []
  }
 ],
 "metadata": {
  "kernelspec": {
   "display_name": ".venv",
   "language": "python",
   "name": "python3"
  },
  "language_info": {
   "codemirror_mode": {
    "name": "ipython",
    "version": 3
   },
   "file_extension": ".py",
   "mimetype": "text/x-python",
   "name": "python",
   "nbconvert_exporter": "python",
   "pygments_lexer": "ipython3",
   "version": "3.10.11"
  }
 },
 "nbformat": 4,
 "nbformat_minor": 2
}
