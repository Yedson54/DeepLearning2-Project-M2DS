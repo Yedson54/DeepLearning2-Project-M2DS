{
  "cells": [
    {
      "cell_type": "markdown",
      "metadata": {},
      "source": [
        "# 0.2 Load MNNIST"
      ]
    },
    {
      "cell_type": "code",
      "execution_count": 10,
      "metadata": {},
      "outputs": [],
      "source": [
        "import numpy as np\n",
        "import os\n",
        "import gzip\n",
        "import matplotlib.pyplot as plt\n",
        "\n",
        "def read_idx(filename):\n",
        "    \"\"\"Read an IDX file and return it as a numpy array.\"\"\"\n",
        "    with gzip.open(filename, 'rb') if filename.endswith('.gz') else open(filename, 'rb') as f:\n",
        "        zero, data_type, dims = int.from_bytes(f.read(2), 'big'), f.read(1), int.from_bytes(f.read(1), 'big')\n",
        "        shape = tuple(int.from_bytes(f.read(4), 'big') for _ in range(dims))\n",
        "        data = np.frombuffer(f.read(), dtype=np.uint8)\n",
        "        if data_type == b'\\x08':\n",
        "            data = data.astype(np.uint8)\n",
        "        elif data_type == b'\\x09':\n",
        "            data = data.astype(np.int8)\n",
        "        return data.reshape(shape)\n",
        "\n",
        "def binarize_images(images, threshold=128):\n",
        "    \"\"\"Binarize a set of images based on a threshold.\"\"\"\n",
        "    return np.where(images > threshold, 127, 0).astype(np.uint8)\n",
        "\n",
        "def load_mnist_and_binarize(path):\n",
        "    \"\"\"Load and binarize the MNIST dataset from the specified path.\"\"\"\n",
        "    train_images_path = os.path.join(path, 'train-images-idx3-ubyte.gz')\n",
        "    train_labels_path = os.path.join(path, 'train-labels-idx1-ubyte.gz')\n",
        "    test_images_path = os.path.join(path, 't10k-images-idx3-ubyte.gz')\n",
        "    test_labels_path = os.path.join(path, 't10k-labels-idx1-ubyte.gz')\n",
        "\n",
        "    x_train = binarize_images(read_idx(train_images_path))\n",
        "    y_train = read_idx(train_labels_path)\n",
        "    x_test = binarize_images(read_idx(test_images_path))\n",
        "    y_test = read_idx(test_labels_path)\n",
        "\n",
        "    return x_train, y_train, x_test, y_test\n"
      ]
    },
    {
      "cell_type": "code",
      "execution_count": 12,
      "metadata": {},
      "outputs": [
        {
          "name": "stdout",
          "output_type": "stream",
          "text": [
            "x_train shape: (60000, 28, 28)y_train shape: (60000,)x_test shape: (10000, 28, 28)y_test shape: (10000,)\n"
          ]
        },
        {
          "data": {
            "image/png": "[encoded data removed]",
            "text/plain": [
              "<Figure size 640x480 with 1 Axes>"
            ]
          },
          "metadata": {},
          "output_type": "display_data"
        }
      ],
      "source": [
        "# Assuming you have already loaded the dataset using the load_mnist function\n",
        "x_train, y_train, x_test, y_test = load_mnist_and_binarize('../data')\n",
        "\n",
        "print(f'x_train shape: {x_train.shape}'\n",
        "      f'y_train shape: {y_train.shape}'\n",
        "      f'x_test shape: {x_test.shape}'\n",
        "      f'y_test shape: {y_test.shape}')\n",
        "\n",
        "# Now, let's plot the first image in the training set\n",
        "image = x_train[0]  # This gets the first image in the dataset\n",
        "label = y_train[0]  # This gets the corresponding label for the first image\n",
        "\n",
        "# Plotting the image\n",
        "plt.imshow(image, cmap='gray')  # cmap='gray' displays the image in grayscale\n",
        "plt.title(f'Label: {label}')\n",
        "plt.show()\n"
      ]
    }
  ],
  "metadata": {
    "accelerator": "GPU",
    "colab": {
      "provenance": [],
      "toc_visible": true
    },
    "kernelspec": {
      "display_name": "Python 3",
      "name": "python3"
    },
    "language_info": {
      "codemirror_mode": {
        "name": "ipython",
        "version": 3
      },
      "file_extension": ".py",
      "mimetype": "text/x-python",
      "name": "python",
      "nbconvert_exporter": "python",
      "pygments_lexer": "ipython3",
      "version": "3.10.11"
    }
  },
  "nbformat": 4,
  "nbformat_minor": 0
}
