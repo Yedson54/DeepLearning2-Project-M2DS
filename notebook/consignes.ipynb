{
 "cells": [
  {
   "cell_type": "markdown",
   "metadata": {},
   "source": [
    "# Projet Deep Learning II\n",
    "*Institut Polytechnique de Paris*"
   ]
  },
  {
   "cell_type": "markdown",
   "metadata": {},
   "source": [
    "## 1. Consignes\n",
    "L'objectif du TP est de réaliser, dans un langage de votre choix (R, Python, Matlab, ...), un réseau de neurones profond pré-entraîné ou non pour la classification de chiffres manuscrits. Il vous est demandé de comparer les performances, en termes de \n",
    "\n",
    "* taux de bonnes classifications,\n",
    "* d'un réseau pré-entrainé et d'un réseau initialisé aléatoirement,\n",
    "* du nombre de données d'apprentissage,\n",
    "* du nombre de couches du réseau et\n",
    "* enfin du nombre de neurones par couches.\n",
    "\n",
    "Pour ce travail, vous devez rendre avant le XXX, 23h59mn59s (yohan.petetin@telecom-sudparis.eu):\n",
    "- Un compte rendu en .pdf contenant vos noms-prénoms, \"noms-TP-DNN.pdf\" détaillant l'analyse de vos résultats et comment exécuter votre code. Il est inutile de décrire chaque fonction que vous avez implémentée. L'étude à mener est spécifiée au Paragraphe 5;\n",
    "- Vos programmes dans une archive nom-codes.zip; cette archive ne contiendra pas les données.\n",
    "\n",
    "Les sections suivantes vous guideront sur le travail à réaliser."
   ]
  },
  {
   "cell_type": "markdown",
   "metadata": {},
   "source": [
    "## 2. Données\n",
    "On considère deux jeux de données. La première base de données contient des images de petite dimension et servira à tester rapidement vos différents programmes pour l'entrainement non supervisé. La seconde base de données MNIST est une base couramment utilisée en machine learning et sert de benchmark. C'est sur cette base que l'apport d'un pré-entrainement non supervisé sera évalué.\n",
    "\n",
    "### Les données\n",
    "Elles seront représentées par une matrice dont une ligne représentera une donnée et une colonne une composante de la donnée. If there is $n$ samples and $m$ features:\n",
    "\n",
    "$$\n",
    "   X = \\begin{bmatrix}\n",
    "   X_{11} & X_{12} & \\ldots & X_{1m} \\\\\n",
    "   X_{21} & X_{22} & \\ldots & X_{2m} \\\\\n",
    "   \\vdots & \\vdots & \\ddots & \\vdots \\\\\n",
    "   X_{n1} & X_{n2} & \\ldots & X_{nm} \\\\\n",
    "   \\end{bmatrix}\n",
    "$$\n",
    "\n",
    "### Les labels\n",
    "Ils seront également représentés par une matrice de 0 et de 1 dont la ligne représentera le numéro de la donnée et la colonne la classe correspondante à la donnée. Ces labels ne seront donnés que pour la base de données du MNIST.4\n",
    "\n",
    "For a sample $i$, class $k$:\n",
    "$$\n",
    "   Y_{ik} \\in \\{0,1\\}, \\quad \n",
    "   \n",
    "   Y_i = {\\begin{bmatrix}\n",
    "   0  \\ldots  0 & 1 & 0  \\ldots  0 \n",
    "   \\end{bmatrix}}^{T}, \\quad\n",
    "$$\n",
    "\n",
    "$$\n",
    "   Y = \\begin{bmatrix}\n",
    "   Y_{11} & Y_{12} & \\ldots & Y_{1c} \\\\\n",
    "   Y_{21} & Y_{22} & \\ldots & Y_{2c} \\\\\n",
    "   \\vdots & \\vdots & \\ddots & \\vdots \\\\\n",
    "   Y_{n1} & Y_{n2} & \\ldots & Y_{nc} \\\\\n",
    "   \\end{bmatrix}\n",
    "$$\n",
    "\n",
    "In these matrices, $n$ represents the number of data points, $m$ represents the number of features or components in each data point, and $c$ represents the number of classes.\n",
    "\n",
    "- Récupérer les images de la base de données Binary AlphaDigits à partir de l'adresse suivante : http://www.cs.nyu.edu/~roweis/data.html et la base de données MNIST http://yann.lecun.com/exdb/mnist/;\n",
    "- Pour la base Binary AlphaDigits, on écrira une fonction `lire_alpha_digit` permettant de récupérer les données sous forme matricielle (en ligne les données, en colonne les pixels) et qui prend en argument les caractères que l'on souhaite \"apprendre\". Pour cette base de données, on ne s'intéressera pas aux labels dans la mesure où elle ne servira qu'à vérifier les programmes associés à l'étape d'estimation non supervisée. Pour la base de données du MNIST, on pourra récupérer une fonction déjà écrite mais on veillera à transformer les images en niveau de gris en noir et blanc.\n"
   ]
  },
  {
   "cell_type": "markdown",
   "metadata": {},
   "source": [
    "## 3 Fonctions élémentaires\n",
    "\n",
    "Un RBM pourra être représenté par un objet/une structure contenant un champ W (matrice de poids reliant les variables visibles aux variables cachées), un champ a (biais des unités d’entrée) et un champ b (biais des unités de sortie)\n",
    "\n",
    "Un réseau de neurones (DNN) et un Deep Belief Network (DBN) pourront être représentés par une liste de RBM, la taille de cette liste étant égale au nombre de couches cachés du réseau (+ couche de de classfication dans le cas du DNN). Chaque élement de cette liste coincidera donc à un RBM et contiendra un champ W\n",
    "(matrice de poids reliant 2 couches consécutives), un champ a (biais des unités d’entrée qui coincident avec les paramètres variationnels estimés, sauf pour la première couche) et un champ b.\n",
    "\n",
    "Voici une liste de fonctions à implémenter qui vous permettra de construire/d’apprendre votre réseau de\n",
    "neurones."
   ]
  },
  {
   "cell_type": "markdown",
   "metadata": {},
   "source": [
    "### 3.1 Construction d’un RBM et test sur Binary AlphaDigits\n",
    "\n",
    "On complètera au fur et à mesure un script `principal_RBM_alpha` permettant d’apprendre les caractères de la base Binary AlphaDigits de votre choix via un RBM et de générer des caractères similaires à ceux appris.\n",
    "\n",
    "La construction de ce programme nécessite les fonctions suivantes:\n",
    "\n",
    "- [ ] Écrire une fonction `lire_alpha_digit` permettant de récupérer les données sous forme matricielle (en ligne les données, en colonne les pixels) et qui prend en argument les caractères (ou leur indice 0, · · · , 35) que l’on souhaite “apprendre”.\n",
    "\n",
    "- [ ] Écrire une fonction `init_RBM` permettant de construire et d’initialiser les poids et les biais d’un RBM. Cette fonction retournera une structure RBM avec des poids et biais initialisés. On initialisera les biais à 0 tandis que les poids seront initialisés aléatoirement suivant une loi normale centrée, de variance\n",
    "égale à 0.01.\n",
    "\n",
    "- [ ] Écrire une fonction `entree_sortie_RBM` qui prend en argument une structure RBM et des données d’entrée et qui retourne la valeur des unités de sortie calculées à partir de la fonction sigmoïde.\n",
    "\n",
    "- [ ] Écrire une fonction `sortie_entree_RBM` qui prend en argument un RBM, des données de sortie et qui retourne la valeur des unités d’entrée à partir de la fonction sigmoïde.\n",
    "\n",
    "- [ ] Écrire une fonction `train_RBM` permettant d’apprendre de manière non supervisée un RBM par l’algorithme Contrastive-Divergence-1. Cette fonction retournera un structure RBM et prendra en argument une structure RBM, le nombre d’itérations de la descente de gradient (epochs), le learning rate, la taille du mini-batch, des données d’entrées... À la fin de chaque itération du gradient, on affichera l’erreur quadratique entre les données d’entrées et les données reconstruites à partir de l’unité cachée afin de mesurer le pouvoir de reconstruction du RBM.\n",
    " \n",
    "- [ ] Écrire une fonction `generer_image_RBM` permettant de générer des échantillons suivant un RBM. Cette fonction retournera et affichera les images générées et prendra en argument une structure de type RBM, le nombre d’itérations à utiliser dans l’échantillonneur de Gibbs et le nombre d’images à générer.\n"
   ]
  }
 ],
 "metadata": {
  "language_info": {
   "name": "python"
  }
 },
 "nbformat": 4,
 "nbformat_minor": 2
}
