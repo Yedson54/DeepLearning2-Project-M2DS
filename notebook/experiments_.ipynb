{
 "cells": [
  {
   "cell_type": "markdown",
   "metadata": {},
   "source": [
    "## Restricted Botlzman Machines (RBM)"
   ]
  },
  {
   "cell_type": "code",
   "execution_count": 30,
   "metadata": {},
   "outputs": [],
   "source": [
    "#FIXME: Review the generation process (theoretically) and fix the implementation "
   ]
  },
  {
   "cell_type": "code",
   "execution_count": 31,
   "metadata": {},
   "outputs": [],
   "source": [
    "import os\n",
    "from typing import List, Dict, Tuple, Literal, Optional, Union, Iterable\n",
    "\n",
    "import numpy as np\n",
    "import matplotlib.pyplot as plt\n",
    "import pandas as pd\n",
    "import scipy.io\n",
    "from tqdm import tqdm\n",
    "from numpy._typing import ArrayLike\n",
    "\n",
    "ArrayLike = Union[List, Tuple, np.ndarray]"
   ]
  },
  {
   "cell_type": "code",
   "execution_count": 32,
   "metadata": {},
   "outputs": [],
   "source": [
    "DATA_FOLDER = \"../data/\"\n",
    "ALPHA_DIGIT_PATH = os.path.join(DATA_FOLDER, \"binaryalphadigs.mat\")\n",
    "MNIST_PATH = os.path.join(DATA_FOLDER, \"mnist_all.mat\")\n",
    "\n",
    "if not os.path.exists(ALPHA_DIGIT_PATH):\n",
    "    raise FileNotFoundError(f\"The file {ALPHA_DIGIT_PATH} does not exist.\")"
   ]
  },
  {
   "cell_type": "markdown",
   "metadata": {},
   "source": [
    "### 3.1 Implementing a RBM and testing on Binary AlphaDigits"
   ]
  },
  {
   "cell_type": "code",
   "execution_count": 33,
   "metadata": {},
   "outputs": [
    {
     "data": {
      "text/html": [
       "<div>\n",
       "<style scoped>\n",
       "    .dataframe tbody tr th:only-of-type {\n",
       "        vertical-align: middle;\n",
       "    }\n",
       "\n",
       "    .dataframe tbody tr th {\n",
       "        vertical-align: top;\n",
       "    }\n",
       "\n",
       "    .dataframe thead th {\n",
       "        text-align: right;\n",
       "    }\n",
       "</style>\n",
       "<table border=\"1\" class=\"dataframe\">\n",
       "  <thead>\n",
       "    <tr style=\"text-align: right;\">\n",
       "      <th></th>\n",
       "      <th>Class Labels</th>\n",
       "      <th>Class Count</th>\n",
       "    </tr>\n",
       "  </thead>\n",
       "  <tbody>\n",
       "    <tr>\n",
       "      <th>0</th>\n",
       "      <td>0</td>\n",
       "      <td>39</td>\n",
       "    </tr>\n",
       "    <tr>\n",
       "      <th>1</th>\n",
       "      <td>1</td>\n",
       "      <td>39</td>\n",
       "    </tr>\n",
       "    <tr>\n",
       "      <th>2</th>\n",
       "      <td>2</td>\n",
       "      <td>39</td>\n",
       "    </tr>\n",
       "    <tr>\n",
       "      <th>3</th>\n",
       "      <td>3</td>\n",
       "      <td>39</td>\n",
       "    </tr>\n",
       "    <tr>\n",
       "      <th>4</th>\n",
       "      <td>4</td>\n",
       "      <td>39</td>\n",
       "    </tr>\n",
       "    <tr>\n",
       "      <th>5</th>\n",
       "      <td>5</td>\n",
       "      <td>39</td>\n",
       "    </tr>\n",
       "    <tr>\n",
       "      <th>6</th>\n",
       "      <td>6</td>\n",
       "      <td>39</td>\n",
       "    </tr>\n",
       "    <tr>\n",
       "      <th>7</th>\n",
       "      <td>7</td>\n",
       "      <td>39</td>\n",
       "    </tr>\n",
       "    <tr>\n",
       "      <th>8</th>\n",
       "      <td>8</td>\n",
       "      <td>39</td>\n",
       "    </tr>\n",
       "    <tr>\n",
       "      <th>9</th>\n",
       "      <td>9</td>\n",
       "      <td>39</td>\n",
       "    </tr>\n",
       "    <tr>\n",
       "      <th>10</th>\n",
       "      <td>A</td>\n",
       "      <td>39</td>\n",
       "    </tr>\n",
       "    <tr>\n",
       "      <th>11</th>\n",
       "      <td>B</td>\n",
       "      <td>39</td>\n",
       "    </tr>\n",
       "    <tr>\n",
       "      <th>12</th>\n",
       "      <td>C</td>\n",
       "      <td>39</td>\n",
       "    </tr>\n",
       "    <tr>\n",
       "      <th>13</th>\n",
       "      <td>D</td>\n",
       "      <td>39</td>\n",
       "    </tr>\n",
       "    <tr>\n",
       "      <th>14</th>\n",
       "      <td>E</td>\n",
       "      <td>39</td>\n",
       "    </tr>\n",
       "    <tr>\n",
       "      <th>15</th>\n",
       "      <td>F</td>\n",
       "      <td>39</td>\n",
       "    </tr>\n",
       "    <tr>\n",
       "      <th>16</th>\n",
       "      <td>G</td>\n",
       "      <td>39</td>\n",
       "    </tr>\n",
       "    <tr>\n",
       "      <th>17</th>\n",
       "      <td>H</td>\n",
       "      <td>39</td>\n",
       "    </tr>\n",
       "    <tr>\n",
       "      <th>18</th>\n",
       "      <td>I</td>\n",
       "      <td>39</td>\n",
       "    </tr>\n",
       "    <tr>\n",
       "      <th>19</th>\n",
       "      <td>J</td>\n",
       "      <td>39</td>\n",
       "    </tr>\n",
       "    <tr>\n",
       "      <th>20</th>\n",
       "      <td>K</td>\n",
       "      <td>39</td>\n",
       "    </tr>\n",
       "    <tr>\n",
       "      <th>21</th>\n",
       "      <td>L</td>\n",
       "      <td>39</td>\n",
       "    </tr>\n",
       "    <tr>\n",
       "      <th>22</th>\n",
       "      <td>M</td>\n",
       "      <td>39</td>\n",
       "    </tr>\n",
       "    <tr>\n",
       "      <th>23</th>\n",
       "      <td>N</td>\n",
       "      <td>39</td>\n",
       "    </tr>\n",
       "    <tr>\n",
       "      <th>24</th>\n",
       "      <td>O</td>\n",
       "      <td>39</td>\n",
       "    </tr>\n",
       "    <tr>\n",
       "      <th>25</th>\n",
       "      <td>P</td>\n",
       "      <td>39</td>\n",
       "    </tr>\n",
       "    <tr>\n",
       "      <th>26</th>\n",
       "      <td>Q</td>\n",
       "      <td>39</td>\n",
       "    </tr>\n",
       "    <tr>\n",
       "      <th>27</th>\n",
       "      <td>R</td>\n",
       "      <td>39</td>\n",
       "    </tr>\n",
       "    <tr>\n",
       "      <th>28</th>\n",
       "      <td>S</td>\n",
       "      <td>39</td>\n",
       "    </tr>\n",
       "    <tr>\n",
       "      <th>29</th>\n",
       "      <td>T</td>\n",
       "      <td>39</td>\n",
       "    </tr>\n",
       "    <tr>\n",
       "      <th>30</th>\n",
       "      <td>U</td>\n",
       "      <td>39</td>\n",
       "    </tr>\n",
       "    <tr>\n",
       "      <th>31</th>\n",
       "      <td>V</td>\n",
       "      <td>39</td>\n",
       "    </tr>\n",
       "    <tr>\n",
       "      <th>32</th>\n",
       "      <td>W</td>\n",
       "      <td>39</td>\n",
       "    </tr>\n",
       "    <tr>\n",
       "      <th>33</th>\n",
       "      <td>X</td>\n",
       "      <td>39</td>\n",
       "    </tr>\n",
       "    <tr>\n",
       "      <th>34</th>\n",
       "      <td>Y</td>\n",
       "      <td>39</td>\n",
       "    </tr>\n",
       "    <tr>\n",
       "      <th>35</th>\n",
       "      <td>Z</td>\n",
       "      <td>39</td>\n",
       "    </tr>\n",
       "  </tbody>\n",
       "</table>\n",
       "</div>"
      ],
      "text/plain": [
       "   Class Labels  Class Count\n",
       "0             0           39\n",
       "1             1           39\n",
       "2             2           39\n",
       "3             3           39\n",
       "4             4           39\n",
       "5             5           39\n",
       "6             6           39\n",
       "7             7           39\n",
       "8             8           39\n",
       "9             9           39\n",
       "10            A           39\n",
       "11            B           39\n",
       "12            C           39\n",
       "13            D           39\n",
       "14            E           39\n",
       "15            F           39\n",
       "16            G           39\n",
       "17            H           39\n",
       "18            I           39\n",
       "19            J           39\n",
       "20            K           39\n",
       "21            L           39\n",
       "22            M           39\n",
       "23            N           39\n",
       "24            O           39\n",
       "25            P           39\n",
       "26            Q           39\n",
       "27            R           39\n",
       "28            S           39\n",
       "29            T           39\n",
       "30            U           39\n",
       "31            V           39\n",
       "32            W           39\n",
       "33            X           39\n",
       "34            Y           39\n",
       "35            Z           39"
      ]
     },
     "execution_count": 33,
     "metadata": {},
     "output_type": "execute_result"
    }
   ],
   "source": [
    "def _load_data(file_path: str) -> Dict[str, np.ndarray]:\n",
    "    \"\"\"\n",
    "    Load Binary AlphaDigits data from a .mat file.\n",
    "\n",
    "    Parameters:\n",
    "    - file_path (str): Path to the .mat file containing the data.\n",
    "\n",
    "    Returns:\n",
    "    - data (dict): Loaded data dictionary.\n",
    "    \"\"\"\n",
    "    if file_path is None:\n",
    "        raise ValueError(\"File path must be provided.\")\n",
    "\n",
    "    return scipy.io.loadmat(file_path)\n",
    "\n",
    "\n",
    "data = _load_data(ALPHA_DIGIT_PATH)\n",
    "class_labels = data[\"classlabels\"].flatten() \n",
    "class_count = data[\"classcounts\"].flatten()\n",
    "df = pd.DataFrame(\n",
    "    {\n",
    "        \"Class Labels\": class_labels,\n",
    "        \"Class Count\": class_count\n",
    "    }\n",
    ")\n",
    "df[\"Class Labels\"] = df[\"Class Labels\"].apply(lambda x: x[0])\n",
    "df[\"Class Count\"] = df[\"Class Count\"].apply(lambda x: x[0][0])\n",
    "df"
   ]
  },
  {
   "cell_type": "code",
   "execution_count": 34,
   "metadata": {},
   "outputs": [
    {
     "name": "stdout",
     "output_type": "stream",
     "text": [
      "(36, 39)\n",
      "(20, 16)\n"
     ]
    }
   ],
   "source": [
    "def _load_data(file_path: str, which: Literal[\"alphadigit\", \"mnist\"]=\"alphadigit\") -> Dict[str, np.ndarray]:\n",
    "    \"\"\"\n",
    "    Load Binary AlphaDigits data from a .mat file.\n",
    "\n",
    "    Parameters:\n",
    "    - file_path (str): Path to the .mat file containing the data.\n",
    "    - which (Literal[\"alphadigit\", \"mnist\"], optional): Specifies \n",
    "        which data to load. The default value is \"alphadigit\".\n",
    "\n",
    "    Returns:\n",
    "    - data (dict): A dictionary containing the loaded data.\n",
    "\n",
    "    Raises:\n",
    "    - ValueError: If the file_path parameter is None.\n",
    "    - ValueError: If the which parameter is not \"alphadigit\".\n",
    "\n",
    "    Example Usage:\n",
    "    ```python\n",
    "    data = _load_data(\"data.mat\", \"alphadigit\")\n",
    "    ```\n",
    "    \"\"\"\n",
    "    if file_path is None:\n",
    "        raise ValueError(\"File path must be provided.\")\n",
    "    \n",
    "    if which == \"alphadigit\":\n",
    "        return scipy.io.loadmat(file_path)[\"dat\"]\n",
    "    \n",
    "    raise ValueError(\"MNIST NOT YET AVAILABLE.\")\n",
    "\n",
    "alphadigit_data = _load_data(ALPHA_DIGIT_PATH) \n",
    "print(alphadigit_data.shape)\n",
    "print(alphadigit_data[0][0].shape)"
   ]
  },
  {
   "cell_type": "code",
   "execution_count": 35,
   "metadata": {},
   "outputs": [
    {
     "name": "stdout",
     "output_type": "stream",
     "text": [
      "0 > map to > [0]\n",
      "10 > map to > [10]\n",
      "A > map to > [10]\n",
      "[1, 'C'] > map to > [[1], [12]]\n",
      "36 > no mapping available, out of range\n"
     ]
    }
   ],
   "source": [
    "def _map_characters_to_indices(characters: Union[str, int, List[Union[str, int]]]) -> List[int]:\n",
    "    \"\"\"\n",
    "    Map alphanumeric character to its corresponding index.\n",
    "\n",
    "    Parameters:\n",
    "    - character (str, int, list of str or int): Alphanumeric character or its index.\n",
    "\n",
    "    Returns:\n",
    "    - char_index (int): Corresponding index for the character.\n",
    "    \"\"\"\n",
    "    if isinstance(characters, list):\n",
    "        return [_map_characters_to_indices(char) for char in characters]\n",
    "    if isinstance(characters, int) and 0 <= characters <= 35:\n",
    "        return [characters]\n",
    "    if (isinstance(characters, str) and characters.isdigit()\n",
    "          and 0 <= int(characters) <= 9):\n",
    "        return [int(characters)]\n",
    "    if (isinstance(characters, str) and characters.isalpha()\n",
    "          and 'A' <= characters.upper() <= 'Z'):\n",
    "        return [ord(characters.upper()) - ord('A') + 10]\n",
    "    \n",
    "    raise ValueError(\n",
    "        \"Invalid character input. It should be an alphanumeric\" \n",
    "        \"character '[0-9|A-Z]' or its index representing '[0-35]'.\"\n",
    "    )\n",
    "\n",
    "for char in [0, 10, \"A\", [1, \"C\"], 36]:\n",
    "    try:\n",
    "        map = _map_characters_to_indices(char)\n",
    "        print(f\"{char} > map to > {map}\")\n",
    "    except:\n",
    "        print(f\"{char} > no mapping available, out of range\")"
   ]
  },
  {
   "cell_type": "code",
   "execution_count": 36,
   "metadata": {},
   "outputs": [
    {
     "data": {
      "image/png": "[encoded data removed]",
      "text/plain": [
       "<Figure size 800x200 with 4 Axes>"
      ]
     },
     "metadata": {},
     "output_type": "display_data"
    }
   ],
   "source": [
    "def read_alpha_digit(characters: Optional[Union[str, int, List[Union[str, int]]]] = None,\n",
    "                     file_path: Optional[str] = ALPHA_DIGIT_PATH,\n",
    "                     data: Optional[Dict[str, np.ndarray]] = None,\n",
    "                     use_data: bool = False,\n",
    "                     ) -> np.ndarray:\n",
    "    \"\"\"\n",
    "    Reads binary AlphaDigits data from a .mat file or uses already loaded data. \n",
    "    It extracts the data for a specified alphanumeric character or its index, and \n",
    "    flattens the images into one-dimensional vectors.\n",
    "\n",
    "    Parameters:\n",
    "    - characters (Union[str, int, List[Union[str, int]]], optional): Alphanumeric character \n",
    "        or its index whose data needs to be extracted. It can be a single character or \n",
    "        a list of characters. Default is None.\n",
    "    - file_path (str, optional): Path to the .mat file containing the data. \n",
    "        Default is None.\n",
    "    - data (dict, optional): Already loaded data dictionary. \n",
    "        Default is None.\n",
    "    - use_data (bool): Flag to indicate whether to use already loaded data.\n",
    "        Default is False.\n",
    "\n",
    "    Returns:\n",
    "    - flattened_images (numpy.ndarray): Flattened images for the specified character(s).\n",
    "    \"\"\"\n",
    "    if not use_data:\n",
    "        data = _load_data(file_path, which=\"alphadigit\")\n",
    "\n",
    "    char_indices = _map_characters_to_indices(characters)\n",
    "\n",
    "    # Select the rows corresponding to the characters indices.\n",
    "    char_data: np.ndarray = data[char_indices]\n",
    "    \n",
    "    # Flatten each image into a one-dimensional vector.\n",
    "    flattened_images = np.array([image.flatten() for image in char_data.flatten()])\n",
    "    return flattened_images\n",
    "\n",
    "def plot_characters(chars, data):\n",
    "    num_chars = len(chars)\n",
    "    num_images_per_char = data.shape[0] // num_chars\n",
    "    fig, ax = plt.subplots(1, num_chars, figsize=(num_chars * 2, 2))\n",
    "\n",
    "    for i, char in enumerate(chars):\n",
    "        # Find the index of the first image corresponding to the current char\n",
    "        start_index = i * num_images_per_char\n",
    "        image = data[start_index].reshape(20, 16)\n",
    "        ax[i].imshow(image)\n",
    "        ax[i].set_title(f'Char: {char}')\n",
    "        ax[i].axis('off')\n",
    "\n",
    "    plt.tight_layout()\n",
    "    plt.show()\n",
    "\n",
    "# Example\n",
    "chars = [0, \"K\", 7, \"Z\"]\n",
    "data = read_alpha_digit(chars, data=alphadigit_data, use_data=True)\n",
    "plot_characters(chars, data)"
   ]
  },
  {
   "cell_type": "code",
   "execution_count": 37,
   "metadata": {},
   "outputs": [
    {
     "name": "stdout",
     "output_type": "stream",
     "text": [
      "data shape: (156, 320)\n"
     ]
    }
   ],
   "source": [
    "print(\"data shape:\", data.shape)"
   ]
  },
  {
   "cell_type": "code",
   "execution_count": 38,
   "metadata": {},
   "outputs": [],
   "source": [
    "class RBM:\n",
    "    def __init__(self, n_visible: int, n_hidden: int=100, random_state=None) -> None:\n",
    "        \"\"\"\n",
    "        Initialize the Restricted Boltzmann Machine.\n",
    "\n",
    "        Parameters:\n",
    "        - n_visible (int): Number of visible units.\n",
    "        - n_hidden (int): Number of hidden units. Default 100.\n",
    "        - random_state: Random seed for reproducibility.\n",
    "        \"\"\"\n",
    "        self.n_visible = n_visible\n",
    "        self.n_hidden = n_hidden\n",
    "        \n",
    "        self.a = np.zeros((1, n_visible)) # visible_bias\n",
    "        self.b = np.zeros((1, n_hidden)) # hidden_bias\n",
    "        self.rng = np.random.default_rng(random_state)\n",
    "        self.W = 1e-4 * self.rng.standard_normal(size=(n_visible, n_hidden)) # weights\n",
    "\n",
    "    def __repr__(self) -> str:\n",
    "        return f\"RBM(n_visible={self.n_visible}, n_hidden={self.n_hidden})\"\n",
    "\n",
    "    def _sigmoid(self, x: np.ndarray) -> np.ndarray:\n",
    "        \"\"\"\n",
    "        Sigmoid activation function.\n",
    "\n",
    "        Parameters:\n",
    "        - x (numpy.ndarray): Input array.\n",
    "\n",
    "        Returns:\n",
    "        - numpy.ndarray: Result of applying the sigmoid function to the input.\n",
    "        \"\"\"\n",
    "        return 1 / (1 + np.exp(-x))\n",
    "    \n",
    "    def _reconstruction_error(self, input: np.ndarray, image: np.ndarray) -> float:\n",
    "        \"\"\"\n",
    "        Compute reconstruction error.\n",
    "\n",
    "        Parameters:\n",
    "        - input (numpy.ndarray): Original input data.\n",
    "        - image (numpy.ndarray): Reconstructed image.\n",
    "\n",
    "        Returns:\n",
    "        - float: Reconstruction error.\n",
    "        \"\"\"\n",
    "        return np.round(np.power(image - input, 2).mean(), 5)\n",
    "\n",
    "    def input_output(self, data: np.ndarray) -> np.ndarray:\n",
    "        \"\"\"\n",
    "        Compute hidden units given visible units.\n",
    "\n",
    "        Parameters:\n",
    "        - data (numpy.ndarray): Input data, shape (n_samples, n_visible).\n",
    "\n",
    "        Returns:\n",
    "        - numpy.ndarray: Hidden unit activations, shape (n_samples, n_hidden).\n",
    "        \"\"\"\n",
    "        return self._sigmoid(data @ self.W + self.b)\n",
    "\n",
    "    def output_input(self, data_h: np.ndarray) -> np.ndarray:\n",
    "        \"\"\"\n",
    "        Compute visible units given hidden units.\n",
    "\n",
    "        Parameters:\n",
    "        - data_h (numpy.ndarray): Hidden unit activations, shape (n_samples, n_hidden).\n",
    "\n",
    "        Returns:\n",
    "        - numpy.ndarray: Reconstructed visible units, shape (n_samples, n_visible).\n",
    "        \"\"\"\n",
    "        return self._sigmoid(data_h @ self.W.T + self.a)\n",
    "    \n",
    "    def calcul_softmax(self, data: np.ndarray) -> np.ndarray:\n",
    "        \"\"\"\n",
    "        Calculate softmax probabilities for the output units.\n",
    "\n",
    "        Parameters:\n",
    "        - input_data (numpy.ndarray): Input data, shape (n_samples, n_visible).\n",
    "\n",
    "        Returns:\n",
    "        - numpy.ndarray: Softmax probabilities, shape (n_samples, n_hidden).\n",
    "        \"\"\"\n",
    "        # Compute activations for the hidden layer\n",
    "        hidden_activations = self.input_output(data)\n",
    "        \n",
    "        # Compute softmax probabilities for the output layer\n",
    "        exp_hidden_activations = np.exp(hidden_activations)\n",
    "        softmax_probs = exp_hidden_activations / np.sum(exp_hidden_activations, axis=1, keepdims=True)\n",
    "        \n",
    "        return softmax_probs\n",
    "\n",
    "    def update(\n",
    "            self, \n",
    "            batch: np.ndarray,\n",
    "            learning_rate: float=0.1,\n",
    "            batch_size: Optional[int]=None,\n",
    "            return_output: bool=False\n",
    "        ):\n",
    "        \"\"\"_summary_\n",
    "\n",
    "        Args:\n",
    "            batch (np.ndarray): _description_\n",
    "            learning_rate (float, optional): _description_. Defaults to 0.1.\n",
    "            batch_size (Optional[int], optional): _description_. Defaults to None.\n",
    "            return_output (bool, optional): _description_. Defaults to False.\n",
    "        \"\"\"\n",
    "        if not batch_size:\n",
    "            batch_size = batch.shape[0]\n",
    "        pos_h_probs = self.input_output(batch)\n",
    "        pos_v_probs = self.output_input(pos_h_probs)\n",
    "        neg_h_probs = self.input_output(pos_v_probs)\n",
    "        \n",
    "        # Update weights and biases\n",
    "        self.W += learning_rate * (batch.T @ pos_h_probs - pos_v_probs.T @ neg_h_probs) / batch_size\n",
    "        self.b += learning_rate * (pos_h_probs - neg_h_probs).mean(axis=0)\n",
    "        self.a += learning_rate * (batch - pos_v_probs).mean(axis=0)\n",
    "\n",
    "        if return_output:\n",
    "            return self, pos_v_probs\n",
    "        \n",
    "        return self \n",
    "\n",
    "    def train(self, \n",
    "              data: np.ndarray,\n",
    "              learning_rate: float=0.1,\n",
    "              n_epochs: int=10,\n",
    "              batch_size: int=10,\n",
    "              print_each=10\n",
    "        ) -> 'RBM':\n",
    "        \"\"\"\n",
    "        Train the RBM using Contrastive Divergence.\n",
    "\n",
    "        Parameters:\n",
    "        - data (numpy.ndarray): Input data, shape (n_samples, n_visible).\n",
    "        - learning_rate (float): Learning rate for gradient descent. Default is 0.1.\n",
    "        - n_epochs (int): Number of training epochs. Default is 10.\n",
    "        - batch_size (int): Size of mini-batches. Default is 10.\n",
    "\n",
    "        Returns:\n",
    "        - RBM: Trained RBM instance.\n",
    "        \"\"\"\n",
    "        n_samples = data.shape[0]\n",
    "        for epoch in range(n_epochs):\n",
    "            self.rng.shuffle(data)\n",
    "            for i in tqdm(range(0, n_samples, batch_size), desc=f\"Epoch {epoch}\"):\n",
    "                batch = data[i:i+batch_size]\n",
    "                _, pos_v_probs = self.update(\n",
    "                    batch=batch,\n",
    "                    learning_rate=learning_rate,\n",
    "                    batch_size=batch_size,\n",
    "                    return_output=True\n",
    "                )\n",
    "                \n",
    "            if epoch % print_each == 0:\n",
    "                tqdm.write(\n",
    "                    f\"Reconstruction error: {self._reconstruction_error(batch, pos_v_probs)}.\")\n",
    "\n",
    "        return self\n",
    "\n",
    "    def generate_image(self, n_samples: int=1, n_gibbs_steps: int=1) -> np.ndarray:\n",
    "        \"\"\"\n",
    "        Generate samples from the RBM using Gibbs sampling.\n",
    "\n",
    "        Parameters:\n",
    "        - n_samples (int): Number of samples to generate. Default is 10.\n",
    "        - n_gibbs_steps (int): Number of Gibbs sampling steps. Default is 1.\n",
    "\n",
    "        Returns:\n",
    "        - numpy.ndarray: Generated samples, shape (n_samples, n_visible).\n",
    "        \"\"\"\n",
    "        samples = np.zeros((n_samples, self.n_visible))\n",
    "        \n",
    "        # Matrix of initlization value of Gibbs samples for each sample. \n",
    "        V = self.rng.binomial(1, self.rng.random(), size=n_samples*self.n_visible).reshape((n_samples, self.n_visible))\n",
    "        for i in range(n_samples):\n",
    "            for _ in range(n_gibbs_steps):\n",
    "                h_probs = self._sigmoid(V[i] @ self.W + self.b) # vector\n",
    "                h = self.rng.binomial(1, h_probs)\n",
    "                v_probs = self._sigmoid(h @ self.W.T + self.a)\n",
    "                v = self.rng.binomial(1, v_probs)\n",
    "            samples[i] = v\n",
    "        return samples"
   ]
  },
  {
   "cell_type": "code",
   "execution_count": 39,
   "metadata": {},
   "outputs": [],
   "source": [
    "# Load the alpha_digit data\n",
    "data = read_alpha_digit(file_path=ALPHA_DIGIT_PATH, characters=['Z'])"
   ]
  },
  {
   "cell_type": "code",
   "execution_count": 40,
   "metadata": {},
   "outputs": [
    {
     "name": "stdout",
     "output_type": "stream",
     "text": [
      "RBM(n_visible=320, n_hidden=200)\n"
     ]
    },
    {
     "name": "stderr",
     "output_type": "stream",
     "text": [
      "Epoch 0: 100%|██████████| 4/4 [00:00<00:00, 497.34it/s]\n",
      "Epoch 0: 100%|██████████| 4/4 [00:00<00:00, 74.07it/s]\n"
     ]
    },
    {
     "name": "stdout",
     "output_type": "stream",
     "text": [
      "Reconstruction error: 0.16569.\n"
     ]
    },
    {
     "name": "stderr",
     "output_type": "stream",
     "text": [
      "Epoch 1: 100%|██████████| 4/4 [00:00<00:00, 505.84it/s]\n",
      "Epoch 2: 100%|██████████| 4/4 [00:00<00:00, 571.33it/s]\n",
      "Epoch 3: 100%|██████████| 4/4 [00:00<00:00, 576.60it/s]\n",
      "Epoch 4: 100%|██████████| 4/4 [00:00<00:00, 443.77it/s]\n",
      "Epoch 5: 100%|██████████| 4/4 [00:00<00:00, 621.10it/s]\n",
      "Epoch 6: 100%|██████████| 4/4 [00:00<00:00, 572.25it/s]\n",
      "Epoch 7: 100%|██████████| 4/4 [00:00<00:00, 577.21it/s]\n",
      "Epoch 8: 100%|██████████| 4/4 [00:00<00:00, 574.39it/s]\n",
      "Epoch 9: 100%|██████████| 4/4 [00:00<00:00, 521.86it/s]\n",
      "Epoch 10: 100%|██████████| 4/4 [00:00<00:00, 559.67it/s]\n",
      "Epoch 1: 100%|██████████| 4/4 [00:00<00:00, 571.51it/s]\n",
      "Epoch 2: 100%|██████████| 4/4 [00:00<00:00, 444.48it/s]\n",
      "Epoch 3: 100%|██████████| 4/4 [00:00<00:00, 571.57it/s]\n",
      "Epoch 4: 100%|██████████| 4/4 [00:00<00:00, 366.59it/s]\n",
      "Epoch 5: 100%|██████████| 4/4 [00:00<00:00, 483.88it/s]\n",
      "Epoch 6: 100%|██████████| 4/4 [00:00<00:00, 563.41it/s]\n",
      "Epoch 7: 100%|██████████| 4/4 [00:00<00:00, 55.67it/s]\n",
      "Epoch 8: 100%|██████████| 4/4 [00:00<00:00, 535.72it/s]\n",
      "Epoch 9: 100%|██████████| 4/4 [00:00<00:00, 102.07it/s]\n",
      "Epoch 10: 100%|██████████| 4/4 [00:00<00:00, 571.66it/s]\n"
     ]
    },
    {
     "name": "stdout",
     "output_type": "stream",
     "text": [
      "Reconstruction error: 0.13308.\n"
     ]
    },
    {
     "name": "stderr",
     "output_type": "stream",
     "text": [
      "Epoch 11: 100%|██████████| 4/4 [00:00<00:00, 571.59it/s]\n",
      "Epoch 12: 100%|██████████| 4/4 [00:00<00:00, 491.41it/s]\n",
      "Epoch 13: 100%|██████████| 4/4 [00:00<00:00, 499.74it/s]\n",
      "Epoch 14: 100%|██████████| 4/4 [00:00<00:00, 500.05it/s]\n",
      "Epoch 15: 100%|██████████| 4/4 [00:00<00:00, 666.79it/s]\n",
      "Epoch 16: 100%|██████████| 4/4 [00:00<00:00, 571.57it/s]\n",
      "Epoch 17: 100%|██████████| 4/4 [00:00<00:00, 800.48it/s]\n",
      "Epoch 18: 100%|██████████| 4/4 [00:00<00:00, 800.36it/s]\n",
      "Epoch 19: 100%|██████████| 4/4 [00:00<00:00, 666.77it/s]\n",
      "Epoch 20: 100%|██████████| 4/4 [00:00<00:00, 666.77it/s]\n",
      "Epoch 11: 100%|██████████| 4/4 [00:00<00:00, 222.21it/s]\n",
      "Epoch 12: 100%|██████████| 4/4 [00:00<00:00, 333.65it/s]\n",
      "Epoch 13: 100%|██████████| 4/4 [00:00<00:00, 571.41it/s]\n",
      "Epoch 14: 100%|██████████| 4/4 [00:00<00:00, 571.59it/s]\n",
      "Epoch 15: 100%|██████████| 4/4 [00:00<00:00, 444.38it/s]\n",
      "Epoch 16: 100%|██████████| 4/4 [00:00<00:00, 571.53it/s]\n",
      "Epoch 17: 100%|██████████| 4/4 [00:00<00:00, 571.14it/s]\n",
      "Epoch 18: 100%|██████████| 4/4 [00:00<00:00, 665.42it/s]\n",
      "Epoch 19: 100%|██████████| 4/4 [00:00<00:00, 667.01it/s]\n",
      "Epoch 20: 100%|██████████| 4/4 [00:00<00:00, 666.69it/s]\n"
     ]
    },
    {
     "name": "stdout",
     "output_type": "stream",
     "text": [
      "Reconstruction error: 0.11447.\n"
     ]
    },
    {
     "name": "stderr",
     "output_type": "stream",
     "text": [
      "Epoch 21: 100%|██████████| 4/4 [00:00<00:00, 666.66it/s]\n",
      "Epoch 22: 100%|██████████| 4/4 [00:00<00:00, 667.01it/s]\n",
      "Epoch 23: 100%|██████████| 4/4 [00:00<00:00, 799.94it/s]\n",
      "Epoch 24: 100%|██████████| 4/4 [00:00<00:00, 666.53it/s]\n",
      "Epoch 25: 100%|██████████| 4/4 [00:00<00:00, 666.37it/s]\n",
      "Epoch 26: 100%|██████████| 4/4 [00:00<00:00, 800.17it/s]\n",
      "Epoch 27: 100%|██████████| 4/4 [00:00<00:00, 666.50it/s]\n",
      "Epoch 28: 100%|██████████| 4/4 [00:00<00:00, 666.93it/s]\n",
      "Epoch 29: 100%|██████████| 4/4 [00:00<00:00, 666.69it/s]\n",
      "Epoch 30: 100%|██████████| 4/4 [00:00<00:00, 666.61it/s]\n",
      "Epoch 21: 100%|██████████| 4/4 [00:00<00:00, 285.70it/s]\n",
      "Epoch 22: 100%|██████████| 4/4 [00:00<00:00, 333.38it/s]\n",
      "Epoch 23: 100%|██████████| 4/4 [00:00<00:00, 285.72it/s]\n",
      "Epoch 24: 100%|██████████| 4/4 [00:00<00:00, 444.56it/s]\n",
      "Epoch 25: 100%|██████████| 4/4 [00:00<00:00, 400.07it/s]\n",
      "Epoch 26: 100%|██████████| 4/4 [00:00<00:00, 250.03it/s]\n",
      "Epoch 27: 100%|██████████| 4/4 [00:00<00:00, 666.21it/s]\n",
      "Epoch 28: 100%|██████████| 4/4 [00:00<00:00, 666.71it/s]\n",
      "Epoch 29: 100%|██████████| 4/4 [00:00<00:00, 571.41it/s]\n",
      "Epoch 30: 100%|██████████| 4/4 [00:00<00:00, 571.37it/s]\n"
     ]
    },
    {
     "name": "stdout",
     "output_type": "stream",
     "text": [
      "Reconstruction error: 0.0752.\n"
     ]
    },
    {
     "name": "stderr",
     "output_type": "stream",
     "text": [
      "Epoch 31: 100%|██████████| 4/4 [00:00<00:00, 799.83it/s]\n",
      "Epoch 32: 100%|██████████| 4/4 [00:00<00:00, 800.40it/s]\n",
      "Epoch 33: 100%|██████████| 4/4 [00:00<00:00, 800.13it/s]\n",
      "Epoch 34: 100%|██████████| 4/4 [00:00<00:00, 800.52it/s]\n",
      "Epoch 35: 100%|██████████| 4/4 [00:00<00:00, 800.25it/s]\n",
      "Epoch 36: 100%|██████████| 4/4 [00:00<00:00, 666.85it/s]\n",
      "Epoch 37: 100%|██████████| 4/4 [00:00<00:00, 800.25it/s]\n",
      "Epoch 38: 100%|██████████| 4/4 [00:00<00:00, 666.90it/s]\n",
      "Epoch 39: 100%|██████████| 4/4 [00:00<00:00, 800.21it/s]\n",
      "Epoch 40: 100%|██████████| 4/4 [00:00<00:00, 666.98it/s]\n",
      "Epoch 31: 100%|██████████| 4/4 [00:00<00:00, 666.74it/s]\n",
      "Epoch 32: 100%|██████████| 4/4 [00:00<00:00, 571.35it/s]\n",
      "Epoch 33: 100%|██████████| 4/4 [00:00<00:00, 400.00it/s]\n",
      "Epoch 34: 100%|██████████| 4/4 [00:00<00:00, 666.87it/s]\n",
      "Epoch 35: 100%|██████████| 4/4 [00:00<00:00, 570.38it/s]\n",
      "Epoch 36: 100%|██████████| 4/4 [00:00<00:00, 666.56it/s]\n",
      "Epoch 37: 100%|██████████| 4/4 [00:00<00:00, 667.25it/s]\n",
      "Epoch 38: 100%|██████████| 4/4 [00:00<00:00, 666.77it/s]\n",
      "Epoch 39: 100%|██████████| 4/4 [00:00<00:00, 571.65it/s]\n",
      "Epoch 40: 100%|██████████| 4/4 [00:00<00:00, 571.18it/s]\n"
     ]
    },
    {
     "name": "stdout",
     "output_type": "stream",
     "text": [
      "Reconstruction error: 0.05648.\n"
     ]
    },
    {
     "name": "stderr",
     "output_type": "stream",
     "text": [
      "Epoch 41: 100%|██████████| 4/4 [00:00<00:00, 666.61it/s]\n",
      "Epoch 42: 100%|██████████| 4/4 [00:00<00:00, 666.71it/s]\n",
      "Epoch 43: 100%|██████████| 4/4 [00:00<00:00, 800.10it/s]\n",
      "Epoch 44: 100%|██████████| 4/4 [00:00<00:00, 800.10it/s]\n",
      "Epoch 45: 100%|██████████| 4/4 [00:00<00:00, 666.53it/s]\n",
      "Epoch 46: 100%|██████████| 4/4 [00:00<00:00, 800.10it/s]\n",
      "Epoch 47: 100%|██████████| 4/4 [00:00<00:00, 800.33it/s]\n",
      "Epoch 48: 100%|██████████| 4/4 [00:00<00:00, 800.21it/s]\n",
      "Epoch 49: 100%|██████████| 4/4 [00:00<00:00, 800.10it/s]\n",
      "Epoch 50: 100%|██████████| 4/4 [00:00<00:00, 62.50it/s]\n",
      "Epoch 41: 100%|██████████| 4/4 [00:00<00:00, 666.77it/s]\n",
      "Epoch 42: 100%|██████████| 4/4 [00:00<00:00, 285.78it/s]\n",
      "Epoch 43: 100%|██████████| 4/4 [00:00<00:00, 571.55it/s]\n",
      "Epoch 44: 100%|██████████| 4/4 [00:00<00:00, 666.42it/s]\n",
      "Epoch 45: 100%|██████████| 4/4 [00:00<00:00, 666.90it/s]\n",
      "Epoch 46: 100%|██████████| 4/4 [00:00<00:00, 571.61it/s]\n",
      "Epoch 47: 100%|██████████| 4/4 [00:00<00:00, 799.79it/s]\n",
      "Epoch 48: 100%|██████████| 4/4 [00:00<00:00, 666.90it/s]\n",
      "Epoch 49: 100%|██████████| 4/4 [00:00<00:00, 799.87it/s]\n",
      "Epoch 50: 100%|██████████| 4/4 [00:00<00:00, 666.74it/s]\n"
     ]
    },
    {
     "name": "stdout",
     "output_type": "stream",
     "text": [
      "Reconstruction error: 0.04929.\n"
     ]
    },
    {
     "name": "stderr",
     "output_type": "stream",
     "text": [
      "Epoch 51: 100%|██████████| 4/4 [00:00<00:00, 499.92it/s]\n",
      "Epoch 52: 100%|██████████| 4/4 [00:00<00:00, 500.05it/s]\n",
      "Epoch 53: 100%|██████████| 4/4 [00:00<00:00, 500.05it/s]\n",
      "Epoch 54: 100%|██████████| 4/4 [00:00<00:00, 571.55it/s]\n",
      "Epoch 55: 100%|██████████| 4/4 [00:00<00:00, 666.40it/s]\n",
      "Epoch 56: 100%|██████████| 4/4 [00:00<00:00, 800.17it/s]\n",
      "Epoch 57: 100%|██████████| 4/4 [00:00<00:00, 800.13it/s]\n",
      "Epoch 58: 100%|██████████| 4/4 [00:00<00:00, 666.64it/s]\n",
      "Epoch 59: 100%|██████████| 4/4 [00:00<00:00, 800.21it/s]\n",
      "Epoch 60: 100%|██████████| 4/4 [00:00<00:00, 800.48it/s]\n",
      "Epoch 51: 100%|██████████| 4/4 [00:00<00:00, 666.37it/s]\n",
      "Epoch 52: 100%|██████████| 4/4 [00:00<00:00, 666.56it/s]\n",
      "Epoch 53: 100%|██████████| 4/4 [00:00<00:00, 444.37it/s]\n",
      "Epoch 54: 100%|██████████| 4/4 [00:00<00:00, 571.31it/s]\n",
      "Epoch 55: 100%|██████████| 4/4 [00:00<00:00, 666.87it/s]\n",
      "Epoch 56: 100%|██████████| 4/4 [00:00<00:00, 399.95it/s]\n",
      "Epoch 57: 100%|██████████| 4/4 [00:00<00:00, 285.72it/s]\n",
      "Epoch 58: 100%|██████████| 4/4 [00:00<00:00, 114.28it/s]\n",
      "Epoch 59: 100%|██████████| 4/4 [00:00<00:00, 399.88it/s]\n",
      "Epoch 60: 100%|██████████| 4/4 [00:00<00:00, 666.45it/s]\n"
     ]
    },
    {
     "name": "stdout",
     "output_type": "stream",
     "text": [
      "Reconstruction error: 0.04607.\n"
     ]
    },
    {
     "name": "stderr",
     "output_type": "stream",
     "text": [
      "Epoch 61: 100%|██████████| 4/4 [00:00<00:00, 800.10it/s]\n",
      "Epoch 62: 100%|██████████| 4/4 [00:00<00:00, 799.98it/s]\n",
      "Epoch 63: 100%|██████████| 4/4 [00:00<00:00, 799.98it/s]\n",
      "Epoch 64: 100%|██████████| 4/4 [00:00<00:00, 800.44it/s]\n",
      "Epoch 65: 100%|██████████| 4/4 [00:00<00:00, 800.29it/s]\n",
      "Epoch 66: 100%|██████████| 4/4 [00:00<00:00, 799.87it/s]\n",
      "Epoch 67: 100%|██████████| 4/4 [00:00<00:00, 799.98it/s]\n",
      "Epoch 68: 100%|██████████| 4/4 [00:00<00:00, 666.93it/s]\n",
      "Epoch 69: 100%|██████████| 4/4 [00:00<00:00, 800.21it/s]\n",
      "Epoch 70: 100%|██████████| 4/4 [00:00<00:00, 800.55it/s]\n",
      "Epoch 61: 100%|██████████| 4/4 [00:00<00:00, 666.82it/s]\n",
      "Epoch 62: 100%|██████████| 4/4 [00:00<00:00, 666.98it/s]\n",
      "Epoch 63: 100%|██████████| 4/4 [00:00<00:00, 666.71it/s]\n",
      "Epoch 64: 100%|██████████| 4/4 [00:00<00:00, 499.96it/s]\n",
      "Epoch 65: 100%|██████████| 4/4 [00:00<00:00, 666.40it/s]\n",
      "Epoch 66: 100%|██████████| 4/4 [00:00<00:00, 666.69it/s]\n",
      "Epoch 67: 100%|██████████| 4/4 [00:00<00:00, 571.06it/s]\n",
      "Epoch 68: 100%|██████████| 4/4 [00:00<00:00, 666.69it/s]\n",
      "Epoch 69: 100%|██████████| 4/4 [00:00<00:00, 571.53it/s]\n",
      "Epoch 70: 100%|██████████| 4/4 [00:00<00:00, 500.23it/s]\n"
     ]
    },
    {
     "name": "stdout",
     "output_type": "stream",
     "text": [
      "Reconstruction error: 0.02899.\n"
     ]
    },
    {
     "name": "stderr",
     "output_type": "stream",
     "text": [
      "Epoch 71: 100%|██████████| 4/4 [00:00<00:00, 666.98it/s]\n",
      "Epoch 72: 100%|██████████| 4/4 [00:00<00:00, 800.29it/s]\n",
      "Epoch 73: 100%|██████████| 4/4 [00:00<00:00, 666.50it/s]\n",
      "Epoch 74: 100%|██████████| 4/4 [00:00<00:00, 799.91it/s]\n",
      "Epoch 75: 100%|██████████| 4/4 [00:00<00:00, 800.13it/s]\n",
      "Epoch 76: 100%|██████████| 4/4 [00:00<00:00, 800.33it/s]\n",
      "Epoch 77: 100%|██████████| 4/4 [00:00<00:00, 800.44it/s]\n",
      "Epoch 78: 100%|██████████| 4/4 [00:00<00:00, 800.33it/s]\n",
      "Epoch 79: 100%|██████████| 4/4 [00:00<00:00, 800.17it/s]\n",
      "Epoch 80: 100%|██████████| 4/4 [00:00<00:00, 800.21it/s]\n",
      "Epoch 71: 100%|██████████| 4/4 [00:00<00:00, 571.68it/s]\n",
      "Epoch 72: 100%|██████████| 4/4 [00:00<00:00, 571.37it/s]\n",
      "Epoch 73: 100%|██████████| 4/4 [00:00<00:00, 666.93it/s]\n",
      "Epoch 74: 100%|██████████| 4/4 [00:00<00:00, 666.45it/s]\n",
      "Epoch 75: 100%|██████████| 4/4 [00:00<00:00, 666.69it/s]\n",
      "Epoch 76: 100%|██████████| 4/4 [00:00<00:00, 666.26it/s]\n",
      "Epoch 77: 100%|██████████| 4/4 [00:00<00:00, 800.17it/s]\n",
      "Epoch 78: 100%|██████████| 4/4 [00:00<00:00, 571.24it/s]\n",
      "Epoch 79: 100%|██████████| 4/4 [00:00<00:00, 800.10it/s]\n",
      "Epoch 80: 100%|██████████| 4/4 [00:00<00:00, 666.40it/s]\n"
     ]
    },
    {
     "name": "stdout",
     "output_type": "stream",
     "text": [
      "Reconstruction error: 0.01998.\n"
     ]
    },
    {
     "name": "stderr",
     "output_type": "stream",
     "text": [
      "Epoch 81: 100%|██████████| 4/4 [00:00<00:00, 800.21it/s]\n",
      "Epoch 82: 100%|██████████| 4/4 [00:00<00:00, 666.98it/s]\n",
      "Epoch 83: 100%|██████████| 4/4 [00:00<00:00, 800.59it/s]\n",
      "Epoch 84: 100%|██████████| 4/4 [00:00<00:00, 666.50it/s]\n",
      "Epoch 85: 100%|██████████| 4/4 [00:00<00:00, 799.75it/s]\n",
      "Epoch 86: 100%|██████████| 4/4 [00:00<00:00, 800.25it/s]\n",
      "Epoch 87: 100%|██████████| 4/4 [00:00<00:00, 666.82it/s]\n",
      "Epoch 88: 100%|██████████| 4/4 [00:00<00:00, 666.66it/s]\n",
      "Epoch 89: 100%|██████████| 4/4 [00:00<00:00, 800.48it/s]\n",
      "Epoch 90: 100%|██████████| 4/4 [00:00<00:00, 799.98it/s]\n"
     ]
    },
    {
     "name": "stdout",
     "output_type": "stream",
     "text": [
      "Reconstruction error: 0.01886.\n"
     ]
    },
    {
     "name": "stderr",
     "output_type": "stream",
     "text": [
      "Epoch 91: 100%|██████████| 4/4 [00:00<00:00, 799.91it/s]\n",
      "Epoch 92: 100%|██████████| 4/4 [00:00<00:00, 799.79it/s]\n",
      "Epoch 93: 100%|██████████| 4/4 [00:00<00:00, 666.74it/s]\n",
      "Epoch 94: 100%|██████████| 4/4 [00:00<00:00, 800.40it/s]\n",
      "Epoch 95: 100%|██████████| 4/4 [00:00<00:00, 800.63it/s]\n",
      "Epoch 96: 100%|██████████| 4/4 [00:00<00:00, 799.91it/s]\n",
      "Epoch 97: 100%|██████████| 4/4 [00:00<00:00, 800.44it/s]\n",
      "Epoch 98: 100%|██████████| 4/4 [00:00<00:00, 800.17it/s]\n",
      "Epoch 99: 100%|██████████| 4/4 [00:00<00:00, 666.93it/s]\n",
      "Epoch 100: 100%|██████████| 4/4 [00:00<00:00, 666.77it/s]\n",
      "Epoch 91: 100%|██████████| 4/4 [00:00<00:00, 666.98it/s]\n",
      "Epoch 92: 100%|██████████| 4/4 [00:00<00:00, 799.45it/s]\n",
      "Epoch 93: 100%|██████████| 4/4 [00:00<00:00, 800.78it/s]\n",
      "Epoch 94: 100%|██████████| 4/4 [00:00<00:00, 666.85it/s]\n",
      "Epoch 95: 100%|██████████| 4/4 [00:00<00:00, 666.87it/s]\n",
      "Epoch 96: 100%|██████████| 4/4 [00:00<00:00, 666.87it/s]\n",
      "Epoch 97: 100%|██████████| 4/4 [00:00<00:00, 800.25it/s]\n",
      "Epoch 98: 100%|██████████| 4/4 [00:00<00:00, 666.58it/s]\n",
      "Epoch 99: 100%|██████████| 4/4 [00:00<00:00, 666.98it/s]\n",
      "Epoch 100: 100%|██████████| 4/4 [00:00<00:00, 400.17it/s]\n"
     ]
    },
    {
     "name": "stdout",
     "output_type": "stream",
     "text": [
      "Reconstruction error: 0.01225.\n"
     ]
    },
    {
     "name": "stderr",
     "output_type": "stream",
     "text": [
      "Epoch 101: 100%|██████████| 4/4 [00:00<00:00, 666.93it/s]\n",
      "Epoch 102: 100%|██████████| 4/4 [00:00<00:00, 799.91it/s]\n",
      "Epoch 103: 100%|██████████| 4/4 [00:00<00:00, 800.48it/s]\n",
      "Epoch 104: 100%|██████████| 4/4 [00:00<00:00, 800.36it/s]\n",
      "Epoch 105: 100%|██████████| 4/4 [00:00<00:00, 667.01it/s]\n",
      "Epoch 106: 100%|██████████| 4/4 [00:00<00:00, 666.98it/s]\n",
      "Epoch 107: 100%|██████████| 4/4 [00:00<00:00, 666.61it/s]\n",
      "Epoch 108: 100%|██████████| 4/4 [00:00<00:00, 800.02it/s]\n",
      "Epoch 109: 100%|██████████| 4/4 [00:00<00:00, 800.52it/s]\n",
      "Epoch 110: 100%|██████████| 4/4 [00:00<00:00, 800.48it/s]\n",
      "Epoch 101: 100%|██████████| 4/4 [00:00<00:00, 571.28it/s]\n",
      "Epoch 102: 100%|██████████| 4/4 [00:00<00:00, 571.59it/s]\n",
      "Epoch 103: 100%|██████████| 4/4 [00:00<00:00, 666.40it/s]\n",
      "Epoch 104: 100%|██████████| 4/4 [00:00<00:00, 667.11it/s]\n",
      "Epoch 105: 100%|██████████| 4/4 [00:00<00:00, 666.69it/s]\n",
      "Epoch 106: 100%|██████████| 4/4 [00:00<00:00, 666.74it/s]\n",
      "Epoch 107: 100%|██████████| 4/4 [00:00<00:00, 667.25it/s]\n",
      "Epoch 108: 100%|██████████| 4/4 [00:00<00:00, 666.66it/s]\n",
      "Epoch 109: 100%|██████████| 4/4 [00:00<00:00, 802.24it/s]\n",
      "Epoch 110: 100%|██████████| 4/4 [00:00<00:00, 800.78it/s]\n"
     ]
    },
    {
     "name": "stdout",
     "output_type": "stream",
     "text": [
      "Reconstruction error: 0.00928.\n"
     ]
    },
    {
     "name": "stderr",
     "output_type": "stream",
     "text": [
      "Epoch 111: 100%|██████████| 4/4 [00:00<00:00, 666.61it/s]\n",
      "Epoch 112: 100%|██████████| 4/4 [00:00<00:00, 799.60it/s]\n",
      "Epoch 113: 100%|██████████| 4/4 [00:00<00:00, 800.44it/s]\n",
      "Epoch 114: 100%|██████████| 4/4 [00:00<00:00, 666.69it/s]\n",
      "Epoch 115: 100%|██████████| 4/4 [00:00<00:00, 799.91it/s]\n",
      "Epoch 116: 100%|██████████| 4/4 [00:00<00:00, 800.48it/s]\n",
      "Epoch 117: 100%|██████████| 4/4 [00:00<00:00, 666.71it/s]\n",
      "Epoch 118: 100%|██████████| 4/4 [00:00<00:00, 800.17it/s]\n",
      "Epoch 119: 100%|██████████| 4/4 [00:00<00:00, 800.25it/s]\n",
      "Epoch 120: 100%|██████████| 4/4 [00:00<00:00, 500.11it/s]\n",
      "Epoch 111: 100%|██████████| 4/4 [00:00<00:00, 667.06it/s]\n",
      "Epoch 112: 100%|██████████| 4/4 [00:00<00:00, 666.29it/s]\n",
      "Epoch 113: 100%|██████████| 4/4 [00:00<00:00, 333.36it/s]\n",
      "Epoch 114: 100%|██████████| 4/4 [00:00<00:00, 500.08it/s]\n",
      "Epoch 115: 100%|██████████| 4/4 [00:00<00:00, 500.04it/s]\n",
      "Epoch 116: 100%|██████████| 4/4 [00:00<00:00, 571.65it/s]\n",
      "Epoch 117: 100%|██████████| 4/4 [00:00<00:00, 307.69it/s]\n",
      "Epoch 118: 100%|██████████| 4/4 [00:00<00:00, 500.16it/s]\n",
      "Epoch 119: 100%|██████████| 4/4 [00:00<00:00, 666.69it/s]\n",
      "Epoch 120: 100%|██████████| 4/4 [00:00<00:00, 666.74it/s]\n"
     ]
    },
    {
     "name": "stdout",
     "output_type": "stream",
     "text": [
      "Reconstruction error: 0.00509.\n"
     ]
    },
    {
     "name": "stderr",
     "output_type": "stream",
     "text": [
      "Epoch 121: 100%|██████████| 4/4 [00:00<00:00, 666.58it/s]\n",
      "Epoch 122: 100%|██████████| 4/4 [00:00<00:00, 666.77it/s]\n",
      "Epoch 123: 100%|██████████| 4/4 [00:00<00:00, 666.79it/s]\n",
      "Epoch 124: 100%|██████████| 4/4 [00:00<00:00, 800.10it/s]\n",
      "Epoch 125: 100%|██████████| 4/4 [00:00<00:00, 800.13it/s]\n",
      "Epoch 126: 100%|██████████| 4/4 [00:00<00:00, 666.98it/s]\n",
      "Epoch 127: 100%|██████████| 4/4 [00:00<00:00, 800.02it/s]\n",
      "Epoch 128: 100%|██████████| 4/4 [00:00<00:00, 799.68it/s]\n",
      "Epoch 129: 100%|██████████| 4/4 [00:00<00:00, 800.25it/s]\n",
      "Epoch 130: 100%|██████████| 4/4 [00:00<00:00, 666.74it/s]\n",
      "Epoch 121: 100%|██████████| 4/4 [00:00<00:00, 667.17it/s]\n",
      "Epoch 122: 100%|██████████| 4/4 [00:00<00:00, 666.58it/s]\n",
      "Epoch 123: 100%|██████████| 4/4 [00:00<00:00, 666.19it/s]\n",
      "Epoch 124: 100%|██████████| 4/4 [00:00<00:00, 800.33it/s]\n",
      "Epoch 125: 100%|██████████| 4/4 [00:00<00:00, 500.10it/s]\n",
      "Epoch 126: 100%|██████████| 4/4 [00:00<00:00, 800.55it/s]\n",
      "Epoch 127: 100%|██████████| 4/4 [00:00<00:00, 666.45it/s]\n",
      "Epoch 128: 100%|██████████| 4/4 [00:00<00:00, 666.66it/s]\n",
      "Epoch 129: 100%|██████████| 4/4 [00:00<00:00, 285.73it/s]\n",
      "Epoch 130: 100%|██████████| 4/4 [00:00<00:00, 666.93it/s]\n"
     ]
    },
    {
     "name": "stdout",
     "output_type": "stream",
     "text": [
      "Reconstruction error: 0.00601.\n"
     ]
    },
    {
     "name": "stderr",
     "output_type": "stream",
     "text": [
      "Epoch 131: 100%|██████████| 4/4 [00:00<00:00, 800.29it/s]\n",
      "Epoch 132: 100%|██████████| 4/4 [00:00<00:00, 666.50it/s]\n",
      "Epoch 133: 100%|██████████| 4/4 [00:00<00:00, 800.13it/s]\n",
      "Epoch 134: 100%|██████████| 4/4 [00:00<00:00, 800.06it/s]\n",
      "Epoch 135: 100%|██████████| 4/4 [00:00<00:00, 799.91it/s]\n",
      "Epoch 136: 100%|██████████| 4/4 [00:00<00:00, 799.87it/s]\n",
      "Epoch 137: 100%|██████████| 4/4 [00:00<00:00, 800.36it/s]\n",
      "Epoch 138: 100%|██████████| 4/4 [00:00<00:00, 800.40it/s]\n",
      "Epoch 139: 100%|██████████| 4/4 [00:00<00:00, 800.40it/s]\n",
      "Epoch 140: 100%|██████████| 4/4 [00:00<00:00, 666.69it/s]\n",
      "Epoch 131: 100%|██████████| 4/4 [00:00<00:00, 666.71it/s]\n",
      "Epoch 132: 100%|██████████| 4/4 [00:00<00:00, 666.93it/s]\n",
      "Epoch 133: 100%|██████████| 4/4 [00:00<00:00, 666.74it/s]\n",
      "Epoch 134: 100%|██████████| 4/4 [00:00<00:00, 666.58it/s]\n",
      "Epoch 135: 100%|██████████| 4/4 [00:00<00:00, 800.33it/s]\n",
      "Epoch 136: 100%|██████████| 4/4 [00:00<00:00, 800.13it/s]\n",
      "Epoch 137: 100%|██████████| 4/4 [00:00<00:00, 799.68it/s]\n",
      "Epoch 138: 100%|██████████| 4/4 [00:00<00:00, 800.17it/s]\n",
      "Epoch 139: 100%|██████████| 4/4 [00:00<00:00, 571.39it/s]\n",
      "Epoch 140: 100%|██████████| 4/4 [00:00<00:00, 799.75it/s]\n"
     ]
    },
    {
     "name": "stdout",
     "output_type": "stream",
     "text": [
      "Reconstruction error: 0.00398.\n"
     ]
    },
    {
     "name": "stderr",
     "output_type": "stream",
     "text": [
      "Epoch 141: 100%|██████████| 4/4 [00:00<00:00, 800.13it/s]\n",
      "Epoch 142: 100%|██████████| 4/4 [00:00<00:00, 799.98it/s]\n",
      "Epoch 143: 100%|██████████| 4/4 [00:00<00:00, 800.36it/s]\n",
      "Epoch 144: 100%|██████████| 4/4 [00:00<00:00, 800.36it/s]\n",
      "Epoch 145: 100%|██████████| 4/4 [00:00<00:00, 800.06it/s]\n",
      "Epoch 146: 100%|██████████| 4/4 [00:00<00:00, 799.71it/s]\n",
      "Epoch 147: 100%|██████████| 4/4 [00:00<00:00, 800.02it/s]\n",
      "Epoch 148: 100%|██████████| 4/4 [00:00<00:00, 800.06it/s]\n",
      "Epoch 149: 100%|██████████| 4/4 [00:00<00:00, 800.36it/s]\n",
      "Epoch 150: 100%|██████████| 4/4 [00:00<00:00, 800.33it/s]\n",
      "Epoch 141: 100%|██████████| 4/4 [00:00<00:00, 666.56it/s]\n",
      "Epoch 142: 100%|██████████| 4/4 [00:00<00:00, 444.41it/s]\n",
      "Epoch 143: 100%|██████████| 4/4 [00:00<00:00, 571.43it/s]\n",
      "Epoch 144: 100%|██████████| 4/4 [00:00<00:00, 500.05it/s]\n",
      "Epoch 145: 100%|██████████| 4/4 [00:00<00:00, 500.20it/s]\n",
      "Epoch 146: 100%|██████████| 4/4 [00:00<00:00, 210.55it/s]\n",
      "Epoch 147: 100%|██████████| 4/4 [00:00<00:00, 444.59it/s]\n",
      "Epoch 148: 100%|██████████| 4/4 [00:00<00:00, 571.47it/s]\n",
      "Epoch 149: 100%|██████████| 4/4 [00:00<00:00, 666.77it/s]\n",
      "Epoch 150: 100%|██████████| 4/4 [00:00<00:00, 800.06it/s]\n"
     ]
    },
    {
     "name": "stdout",
     "output_type": "stream",
     "text": [
      "Reconstruction error: 0.00366.\n"
     ]
    },
    {
     "name": "stderr",
     "output_type": "stream",
     "text": [
      "Epoch 151: 100%|██████████| 4/4 [00:00<00:00, 800.40it/s]\n",
      "Epoch 152: 100%|██████████| 4/4 [00:00<00:00, 499.80it/s]\n",
      "Epoch 153: 100%|██████████| 4/4 [00:00<00:00, 666.87it/s]\n",
      "Epoch 154: 100%|██████████| 4/4 [00:00<00:00, 800.52it/s]\n",
      "Epoch 155: 100%|██████████| 4/4 [00:00<00:00, 571.41it/s]\n",
      "Epoch 156: 100%|██████████| 4/4 [00:00<00:00, 666.93it/s]\n",
      "Epoch 157: 100%|██████████| 4/4 [00:00<00:00, 666.00it/s]\n",
      "Epoch 158: 100%|██████████| 4/4 [00:00<00:00, 666.74it/s]\n",
      "Epoch 159: 100%|██████████| 4/4 [00:00<00:00, 667.03it/s]\n",
      "Epoch 160: 100%|██████████| 4/4 [00:00<00:00, 666.56it/s]\n",
      "Epoch 151: 100%|██████████| 4/4 [00:00<00:00, 800.10it/s]\n",
      "Epoch 152: 100%|██████████| 4/4 [00:00<00:00, 799.87it/s]\n",
      "Epoch 153: 100%|██████████| 4/4 [00:00<00:00, 500.07it/s]\n",
      "Epoch 154: 100%|██████████| 4/4 [00:00<00:00, 571.41it/s]\n",
      "Epoch 155: 100%|██████████| 4/4 [00:00<00:00, 666.21it/s]\n",
      "Epoch 156: 100%|██████████| 4/4 [00:00<00:00, 666.87it/s]\n",
      "Epoch 157: 100%|██████████| 4/4 [00:00<00:00, 1000.55it/s]\n",
      "Epoch 158: 100%|██████████| 4/4 [00:00<00:00, 800.21it/s]\n",
      "Epoch 159: 100%|██████████| 4/4 [00:00<00:00, 1000.19it/s]\n",
      "Epoch 160: 100%|██████████| 4/4 [00:00<00:00, 799.71it/s]\n"
     ]
    },
    {
     "name": "stdout",
     "output_type": "stream",
     "text": [
      "Reconstruction error: 0.00274.\n"
     ]
    },
    {
     "name": "stderr",
     "output_type": "stream",
     "text": [
      "Epoch 161: 100%|██████████| 4/4 [00:00<00:00, 666.98it/s]\n",
      "Epoch 162: 100%|██████████| 4/4 [00:00<00:00, 666.61it/s]\n",
      "Epoch 163: 100%|██████████| 4/4 [00:00<00:00, 666.93it/s]\n",
      "Epoch 164: 100%|██████████| 4/4 [00:00<00:00, 571.55it/s]\n",
      "Epoch 165: 100%|██████████| 4/4 [00:00<00:00, 571.47it/s]\n",
      "Epoch 166: 100%|██████████| 4/4 [00:00<00:00, 666.93it/s]\n",
      "Epoch 167: 100%|██████████| 4/4 [00:00<00:00, 800.36it/s]\n",
      "Epoch 168: 100%|██████████| 4/4 [00:00<00:00, 444.45it/s]\n",
      "Epoch 169: 100%|██████████| 4/4 [00:00<00:00, 571.47it/s]\n",
      "Epoch 170: 100%|██████████| 4/4 [00:00<00:00, 571.90it/s]\n",
      "Epoch 161: 100%|██████████| 4/4 [00:00<00:00, 800.13it/s]\n",
      "Epoch 162: 100%|██████████| 4/4 [00:00<00:00, 799.87it/s]\n",
      "Epoch 163: 100%|██████████| 4/4 [00:00<00:00, 799.79it/s]\n",
      "Epoch 164: 100%|██████████| 4/4 [00:00<00:00, 667.06it/s]\n",
      "Epoch 165: 100%|██████████| 4/4 [00:00<00:00, 666.64it/s]\n",
      "Epoch 166: 100%|██████████| 4/4 [00:00<00:00, 799.87it/s]\n",
      "Epoch 167: 100%|██████████| 4/4 [00:00<00:00, 571.26it/s]\n",
      "Epoch 168: 100%|██████████| 4/4 [00:00<00:00, 266.65it/s]\n",
      "Epoch 169: 100%|██████████| 4/4 [00:00<00:00, 666.61it/s]\n",
      "Epoch 170: 100%|██████████| 4/4 [00:00<00:00, 571.72it/s]\n"
     ]
    },
    {
     "name": "stdout",
     "output_type": "stream",
     "text": [
      "Reconstruction error: 0.0018.\n"
     ]
    },
    {
     "name": "stderr",
     "output_type": "stream",
     "text": [
      "Epoch 171: 100%|██████████| 4/4 [00:00<00:00, 444.46it/s]\n",
      "Epoch 172: 100%|██████████| 4/4 [00:00<00:00, 666.79it/s]\n",
      "Epoch 173: 100%|██████████| 4/4 [00:00<00:00, 571.53it/s]\n",
      "Epoch 174: 100%|██████████| 4/4 [00:00<00:00, 666.64it/s]\n",
      "Epoch 175: 100%|██████████| 4/4 [00:00<00:00, 43.48it/s]\n",
      "Epoch 176: 100%|██████████| 4/4 [00:00<00:00, 444.55it/s]\n",
      "Epoch 177: 100%|██████████| 4/4 [00:00<00:00, 499.49it/s]\n",
      "Epoch 178: 100%|██████████| 4/4 [00:00<00:00, 499.93it/s]\n",
      "Epoch 179: 100%|██████████| 4/4 [00:00<00:00, 666.82it/s]\n",
      "Epoch 180: 100%|██████████| 4/4 [00:00<00:00, 667.03it/s]\n",
      "Epoch 171: 100%|██████████| 4/4 [00:00<00:00, 499.86it/s]\n",
      "Epoch 172: 100%|██████████| 4/4 [00:00<00:00, 500.02it/s]\n",
      "Epoch 173: 100%|██████████| 4/4 [00:00<00:00, 666.71it/s]\n",
      "Epoch 174: 100%|██████████| 4/4 [00:00<00:00, 666.85it/s]\n",
      "Epoch 175: 100%|██████████| 4/4 [00:00<00:00, 666.56it/s]\n",
      "Epoch 176: 100%|██████████| 4/4 [00:00<00:00, 666.34it/s]\n",
      "Epoch 177: 100%|██████████| 4/4 [00:00<00:00, 666.61it/s]\n",
      "Epoch 178: 100%|██████████| 4/4 [00:00<00:00, 667.11it/s]\n",
      "Epoch 179: 100%|██████████| 4/4 [00:00<00:00, 799.94it/s]\n",
      "Epoch 180: 100%|██████████| 4/4 [00:00<00:00, 800.13it/s]\n"
     ]
    },
    {
     "name": "stdout",
     "output_type": "stream",
     "text": [
      "Reconstruction error: 0.00159.\n"
     ]
    },
    {
     "name": "stderr",
     "output_type": "stream",
     "text": [
      "Epoch 181: 100%|██████████| 4/4 [00:00<00:00, 801.40it/s]\n",
      "Epoch 182: 100%|██████████| 4/4 [00:00<00:00, 1000.25it/s]\n",
      "Epoch 183: 100%|██████████| 4/4 [00:00<00:00, 666.79it/s]\n",
      "Epoch 184: 100%|██████████| 4/4 [00:00<00:00, 666.79it/s]\n",
      "Epoch 185: 100%|██████████| 4/4 [00:00<00:00, 799.98it/s]\n",
      "Epoch 186: 100%|██████████| 4/4 [00:00<00:00, 800.25it/s]\n",
      "Epoch 187: 100%|██████████| 4/4 [00:00<00:00, 571.51it/s]\n",
      "Epoch 188: 100%|██████████| 4/4 [00:00<00:00, 571.04it/s]\n",
      "Epoch 189: 100%|██████████| 4/4 [00:00<00:00, 499.81it/s]\n",
      "Epoch 190: 100%|██████████| 4/4 [00:00<00:00, 500.10it/s]\n",
      "Epoch 181: 100%|██████████| 4/4 [00:00<00:00, 666.40it/s]\n",
      "Epoch 182: 100%|██████████| 4/4 [00:00<00:00, 571.33it/s]\n",
      "Epoch 183: 100%|██████████| 4/4 [00:00<00:00, 800.10it/s]\n",
      "Epoch 184: 100%|██████████| 4/4 [00:00<00:00, 666.66it/s]\n",
      "Epoch 185: 100%|██████████| 4/4 [00:00<00:00, 799.87it/s]\n",
      "Epoch 186: 100%|██████████| 4/4 [00:00<00:00, 666.61it/s]\n",
      "Epoch 187: 100%|██████████| 4/4 [00:00<00:00, 799.87it/s]\n",
      "Epoch 188: 100%|██████████| 4/4 [00:00<00:00, 800.06it/s]\n",
      "Epoch 189: 100%|██████████| 4/4 [00:00<00:00, 666.74it/s]\n",
      "Epoch 190: 100%|██████████| 4/4 [00:00<00:00, 800.17it/s]\n"
     ]
    },
    {
     "name": "stdout",
     "output_type": "stream",
     "text": [
      "Reconstruction error: 0.00206.\n"
     ]
    },
    {
     "name": "stderr",
     "output_type": "stream",
     "text": [
      "Epoch 191: 100%|██████████| 4/4 [00:00<00:00, 571.47it/s]\n",
      "Epoch 192: 100%|██████████| 4/4 [00:00<00:00, 666.66it/s]\n",
      "Epoch 193: 100%|██████████| 4/4 [00:00<00:00, 667.01it/s]\n",
      "Epoch 194: 100%|██████████| 4/4 [00:00<00:00, 800.17it/s]\n",
      "Epoch 195: 100%|██████████| 4/4 [00:00<00:00, 666.48it/s]\n",
      "Epoch 196: 100%|██████████| 4/4 [00:00<00:00, 666.85it/s]\n",
      "Epoch 197: 100%|██████████| 4/4 [00:00<00:00, 800.21it/s]\n",
      "Epoch 198: 100%|██████████| 4/4 [00:00<00:00, 800.13it/s]\n",
      "Epoch 199: 100%|██████████| 4/4 [00:00<00:00, 666.85it/s]\n",
      "Epoch 200: 100%|██████████| 4/4 [00:00<00:00, 800.33it/s]\n",
      "Epoch 191: 100%|██████████| 4/4 [00:00<00:00, 799.75it/s]\n",
      "Epoch 192: 100%|██████████| 4/4 [00:00<00:00, 799.83it/s]\n",
      "Epoch 193: 100%|██████████| 4/4 [00:00<00:00, 800.06it/s]\n",
      "Epoch 194: 100%|██████████| 4/4 [00:00<00:00, 800.25it/s]\n",
      "Epoch 195: 100%|██████████| 4/4 [00:00<00:00, 571.51it/s]\n",
      "Epoch 196: 100%|██████████| 4/4 [00:00<00:00, 571.65it/s]\n",
      "Epoch 197: 100%|██████████| 4/4 [00:00<00:00, 571.65it/s]\n",
      "Epoch 198: 100%|██████████| 4/4 [00:00<00:00, 571.65it/s]\n",
      "Epoch 199: 100%|██████████| 4/4 [00:00<00:00, 571.57it/s]\n",
      "Epoch 200: 100%|██████████| 4/4 [00:00<00:00, 499.96it/s]\n"
     ]
    },
    {
     "name": "stdout",
     "output_type": "stream",
     "text": [
      "Reconstruction error: 0.0011.\n"
     ]
    },
    {
     "name": "stderr",
     "output_type": "stream",
     "text": [
      "Epoch 201: 100%|██████████| 4/4 [00:00<00:00, 800.13it/s]\n",
      "Epoch 202: 100%|██████████| 4/4 [00:00<00:00, 666.50it/s]\n",
      "Epoch 203: 100%|██████████| 4/4 [00:00<00:00, 666.71it/s]\n",
      "Epoch 204: 100%|██████████| 4/4 [00:00<00:00, 800.36it/s]\n",
      "Epoch 205: 100%|██████████| 4/4 [00:00<00:00, 800.44it/s]\n",
      "Epoch 206: 100%|██████████| 4/4 [00:00<00:00, 666.42it/s]\n",
      "Epoch 207: 100%|██████████| 4/4 [00:00<00:00, 666.93it/s]\n",
      "Epoch 208: 100%|██████████| 4/4 [00:00<00:00, 799.68it/s]\n",
      "Epoch 209: 100%|██████████| 4/4 [00:00<00:00, 666.53it/s]\n",
      "Epoch 210: 100%|██████████| 4/4 [00:00<00:00, 666.77it/s]\n",
      "Epoch 201: 100%|██████████| 4/4 [00:00<00:00, 571.10it/s]\n",
      "Epoch 202: 100%|██████████| 4/4 [00:00<00:00, 666.71it/s]\n",
      "Epoch 203: 100%|██████████| 4/4 [00:00<00:00, 500.04it/s]\n",
      "Epoch 204: 100%|██████████| 4/4 [00:00<00:00, 800.13it/s]\n",
      "Epoch 205: 100%|██████████| 4/4 [00:00<00:00, 666.50it/s]\n",
      "Epoch 206: 100%|██████████| 4/4 [00:00<00:00, 666.77it/s]\n",
      "Epoch 207: 100%|██████████| 4/4 [00:00<00:00, 666.66it/s]\n",
      "Epoch 208: 100%|██████████| 4/4 [00:00<00:00, 666.71it/s]\n",
      "Epoch 209: 100%|██████████| 4/4 [00:00<00:00, 544.64it/s]\n",
      "Epoch 210: 100%|██████████| 4/4 [00:00<00:00, 630.94it/s]\n"
     ]
    },
    {
     "name": "stdout",
     "output_type": "stream",
     "text": [
      "Reconstruction error: 0.00116.\n"
     ]
    },
    {
     "name": "stderr",
     "output_type": "stream",
     "text": [
      "Epoch 211: 100%|██████████| 4/4 [00:00<00:00, 666.82it/s]\n",
      "Epoch 212: 100%|██████████| 4/4 [00:00<00:00, 666.66it/s]\n",
      "Epoch 213: 100%|██████████| 4/4 [00:00<00:00, 666.77it/s]\n",
      "Epoch 214: 100%|██████████| 4/4 [00:00<00:00, 666.71it/s]\n",
      "Epoch 215: 100%|██████████| 4/4 [00:00<00:00, 666.71it/s]\n",
      "Epoch 216: 100%|██████████| 4/4 [00:00<00:00, 666.95it/s]\n",
      "Epoch 217: 100%|██████████| 4/4 [00:00<00:00, 571.02it/s]\n",
      "Epoch 218: 100%|██████████| 4/4 [00:00<00:00, 666.42it/s]\n",
      "Epoch 219: 100%|██████████| 4/4 [00:00<00:00, 571.33it/s]\n",
      "Epoch 220: 100%|██████████| 4/4 [00:00<00:00, 666.61it/s]\n",
      "Epoch 211: 100%|██████████| 4/4 [00:00<00:00, 581.35it/s]\n",
      "Epoch 212: 100%|██████████| 4/4 [00:00<00:00, 499.89it/s]\n",
      "Epoch 213: 100%|██████████| 4/4 [00:00<00:00, 680.31it/s]\n",
      "Epoch 214: 100%|██████████| 4/4 [00:00<00:00, 690.02it/s]\n",
      "Epoch 215: 100%|██████████| 4/4 [00:00<00:00, 574.56it/s]\n",
      "Epoch 216: 100%|██████████| 4/4 [00:00<00:00, 687.31it/s]\n",
      "Epoch 217: 100%|██████████| 4/4 [00:00<00:00, 585.08it/s]\n",
      "Epoch 218: 100%|██████████| 4/4 [00:00<00:00, 682.33it/s]\n",
      "Epoch 219: 100%|██████████| 4/4 [00:00<00:00, 693.02it/s]\n",
      "Epoch 220: 100%|██████████| 4/4 [00:00<00:00, 687.93it/s]\n"
     ]
    },
    {
     "name": "stdout",
     "output_type": "stream",
     "text": [
      "Reconstruction error: 0.00068.\n"
     ]
    },
    {
     "name": "stderr",
     "output_type": "stream",
     "text": [
      "Epoch 221: 100%|██████████| 4/4 [00:00<00:00, 571.63it/s]\n",
      "Epoch 222: 100%|██████████| 4/4 [00:00<00:00, 500.27it/s]\n",
      "Epoch 223: 100%|██████████| 4/4 [00:00<00:00, 666.77it/s]\n",
      "Epoch 224: 100%|██████████| 4/4 [00:00<00:00, 571.59it/s]\n",
      "Epoch 225: 100%|██████████| 4/4 [00:00<00:00, 571.35it/s]\n",
      "Epoch 226: 100%|██████████| 4/4 [00:00<00:00, 666.82it/s]\n",
      "Epoch 227: 100%|██████████| 4/4 [00:00<00:00, 571.65it/s]\n",
      "Epoch 228: 100%|██████████| 4/4 [00:00<00:00, 571.43it/s]\n",
      "Epoch 229: 100%|██████████| 4/4 [00:00<00:00, 571.20it/s]\n",
      "Epoch 230: 100%|██████████| 4/4 [00:00<00:00, 444.58it/s]\n",
      "Epoch 221: 100%|██████████| 4/4 [00:00<00:00, 372.38it/s]\n",
      "Epoch 222: 100%|██████████| 4/4 [00:00<00:00, 441.65it/s]\n",
      "Epoch 223: 100%|██████████| 4/4 [00:00<00:00, 418.62it/s]\n",
      "Epoch 224: 100%|██████████| 4/4 [00:00<00:00, 571.33it/s]\n",
      "Epoch 225: 100%|██████████| 4/4 [00:00<00:00, 246.60it/s]\n",
      "Epoch 226: 100%|██████████| 4/4 [00:00<00:00, 571.53it/s]\n",
      "Epoch 227: 100%|██████████| 4/4 [00:00<00:00, 667.22it/s]\n",
      "Epoch 228: 100%|██████████| 4/4 [00:00<00:00, 799.75it/s]\n",
      "Epoch 229: 100%|██████████| 4/4 [00:00<00:00, 666.71it/s]\n",
      "Epoch 230: 100%|██████████| 4/4 [00:00<00:00, 666.79it/s]\n"
     ]
    },
    {
     "name": "stdout",
     "output_type": "stream",
     "text": [
      "Reconstruction error: 0.00066.\n"
     ]
    },
    {
     "name": "stderr",
     "output_type": "stream",
     "text": [
      "Epoch 231: 100%|██████████| 4/4 [00:00<00:00, 571.20it/s]\n",
      "Epoch 232: 100%|██████████| 4/4 [00:00<00:00, 399.97it/s]\n",
      "Epoch 233: 100%|██████████| 4/4 [00:00<00:00, 666.74it/s]\n",
      "Epoch 234: 100%|██████████| 4/4 [00:00<00:00, 500.11it/s]\n",
      "Epoch 235: 100%|██████████| 4/4 [00:00<00:00, 604.56it/s]\n",
      "Epoch 236: 100%|██████████| 4/4 [00:00<00:00, 531.06it/s]\n",
      "Epoch 237: 100%|██████████| 4/4 [00:00<00:00, 578.62it/s]\n",
      "Epoch 238: 100%|██████████| 4/4 [00:00<00:00, 571.72it/s]\n",
      "Epoch 239: 100%|██████████| 4/4 [00:00<00:00, 578.01it/s]\n",
      "Epoch 240: 100%|██████████| 4/4 [00:00<00:00, 499.98it/s]\n",
      "Epoch 231: 100%|██████████| 4/4 [00:00<00:00, 666.93it/s]\n",
      "Epoch 232: 100%|██████████| 4/4 [00:00<00:00, 666.53it/s]\n",
      "Epoch 233: 100%|██████████| 4/4 [00:00<00:00, 800.02it/s]\n",
      "Epoch 234: 100%|██████████| 4/4 [00:00<00:00, 800.06it/s]\n",
      "Epoch 235: 100%|██████████| 4/4 [00:00<00:00, 800.10it/s]\n",
      "Epoch 236: 100%|██████████| 4/4 [00:00<00:00, 800.13it/s]\n",
      "Epoch 237: 100%|██████████| 4/4 [00:00<00:00, 800.48it/s]\n",
      "Epoch 238: 100%|██████████| 4/4 [00:00<00:00, 800.25it/s]\n",
      "Epoch 239: 100%|██████████| 4/4 [00:00<00:00, 799.98it/s]\n",
      "Epoch 240: 100%|██████████| 4/4 [00:00<00:00, 799.71it/s]\n"
     ]
    },
    {
     "name": "stdout",
     "output_type": "stream",
     "text": [
      "Reconstruction error: 0.00054.\n"
     ]
    },
    {
     "name": "stderr",
     "output_type": "stream",
     "text": [
      "Epoch 241: 100%|██████████| 4/4 [00:00<00:00, 565.67it/s]\n",
      "Epoch 242: 100%|██████████| 4/4 [00:00<00:00, 691.10it/s]\n",
      "Epoch 243: 100%|██████████| 4/4 [00:00<00:00, 626.04it/s]\n",
      "Epoch 244: 100%|██████████| 4/4 [00:00<00:00, 631.15it/s]\n",
      "Epoch 245: 100%|██████████| 4/4 [00:00<00:00, 665.37it/s]\n",
      "Epoch 246: 100%|██████████| 4/4 [00:00<00:00, 585.84it/s]\n",
      "Epoch 247: 100%|██████████| 4/4 [00:00<00:00, 691.13it/s]\n",
      "Epoch 248: 100%|██████████| 4/4 [00:00<00:00, 703.59it/s]\n",
      "Epoch 249: 100%|██████████| 4/4 [00:00<00:00, 666.79it/s]\n",
      "Epoch 250: 100%|██████████| 4/4 [00:00<00:00, 665.45it/s]\n",
      "Epoch 241: 100%|██████████| 4/4 [00:00<00:00, 800.02it/s]\n",
      "Epoch 242: 100%|██████████| 4/4 [00:00<00:00, 666.56it/s]\n",
      "Epoch 243: 100%|██████████| 4/4 [00:00<00:00, 666.50it/s]\n",
      "Epoch 244: 100%|██████████| 4/4 [00:00<00:00, 667.22it/s]\n",
      "Epoch 245: 100%|██████████| 4/4 [00:00<00:00, 799.71it/s]\n",
      "Epoch 246: 100%|██████████| 4/4 [00:00<00:00, 799.79it/s]\n",
      "Epoch 247: 100%|██████████| 4/4 [00:00<00:00, 29.85it/s]\n",
      "Epoch 248: 100%|██████████| 4/4 [00:00<00:00, 100.01it/s]\n",
      "Epoch 249: 100%|██████████| 4/4 [00:00<00:00, 666.66it/s]\n",
      "Epoch 250: 100%|██████████| 4/4 [00:00<00:00, 571.45it/s]\n"
     ]
    },
    {
     "name": "stdout",
     "output_type": "stream",
     "text": [
      "Reconstruction error: 0.00059.\n"
     ]
    },
    {
     "name": "stderr",
     "output_type": "stream",
     "text": [
      "Epoch 251: 100%|██████████| 4/4 [00:00<00:00, 571.33it/s]\n",
      "Epoch 252: 100%|██████████| 4/4 [00:00<00:00, 444.68it/s]\n",
      "Epoch 253: 100%|██████████| 4/4 [00:00<00:00, 571.43it/s]\n",
      "Epoch 254: 100%|██████████| 4/4 [00:00<00:00, 571.43it/s]\n",
      "Epoch 255: 100%|██████████| 4/4 [00:00<00:00, 571.29it/s]\n",
      "Epoch 256: 100%|██████████| 4/4 [00:00<00:00, 666.90it/s]\n",
      "Epoch 257: 100%|██████████| 4/4 [00:00<00:00, 500.35it/s]\n",
      "Epoch 258: 100%|██████████| 4/4 [00:00<00:00, 499.99it/s]\n",
      "Epoch 259: 100%|██████████| 4/4 [00:00<00:00, 571.49it/s]\n",
      "Epoch 260: 100%|██████████| 4/4 [00:00<00:00, 666.98it/s]\n",
      "Epoch 251: 100%|██████████| 4/4 [00:00<00:00, 571.06it/s]\n",
      "Epoch 252: 100%|██████████| 4/4 [00:00<00:00, 222.22it/s]\n",
      "Epoch 253: 100%|██████████| 4/4 [00:00<00:00, 571.70it/s]\n",
      "Epoch 254: 100%|██████████| 4/4 [00:00<00:00, 444.45it/s]\n",
      "Epoch 255: 100%|██████████| 4/4 [00:00<00:00, 800.02it/s]\n",
      "Epoch 256: 100%|██████████| 4/4 [00:00<00:00, 666.74it/s]\n",
      "Epoch 257: 100%|██████████| 4/4 [00:00<00:00, 800.25it/s]\n",
      "Epoch 258: 100%|██████████| 4/4 [00:00<00:00, 800.36it/s]\n",
      "Epoch 259: 100%|██████████| 4/4 [00:00<00:00, 799.18it/s]\n",
      "Epoch 260: 100%|██████████| 4/4 [00:00<00:00, 799.68it/s]\n"
     ]
    },
    {
     "name": "stdout",
     "output_type": "stream",
     "text": [
      "Reconstruction error: 0.00051.\n"
     ]
    },
    {
     "name": "stderr",
     "output_type": "stream",
     "text": [
      "Epoch 261: 100%|██████████| 4/4 [00:00<00:00, 571.41it/s]\n",
      "Epoch 262: 100%|██████████| 4/4 [00:00<00:00, 571.24it/s]\n",
      "Epoch 263: 100%|██████████| 4/4 [00:00<00:00, 666.71it/s]\n",
      "Epoch 264: 100%|██████████| 4/4 [00:00<00:00, 666.74it/s]\n",
      "Epoch 265: 100%|██████████| 4/4 [00:00<00:00, 800.10it/s]\n",
      "Epoch 266: 100%|██████████| 4/4 [00:00<00:00, 666.77it/s]\n",
      "Epoch 267: 100%|██████████| 4/4 [00:00<00:00, 571.55it/s]\n",
      "Epoch 268: 100%|██████████| 4/4 [00:00<00:00, 666.64it/s]\n",
      "Epoch 269: 100%|██████████| 4/4 [00:00<00:00, 800.94it/s]\n",
      "Epoch 270: 100%|██████████| 4/4 [00:00<00:00, 666.71it/s]\n",
      "Epoch 261: 100%|██████████| 4/4 [00:00<00:00, 799.52it/s]\n",
      "Epoch 262: 100%|██████████| 4/4 [00:00<00:00, 799.56it/s]\n",
      "Epoch 263: 100%|██████████| 4/4 [00:00<00:00, 799.49it/s]\n",
      "Epoch 264: 100%|██████████| 4/4 [00:00<00:00, 571.12it/s]\n",
      "Epoch 265: 100%|██████████| 4/4 [00:00<00:00, 571.61it/s]\n",
      "Epoch 266: 100%|██████████| 4/4 [00:00<00:00, 571.51it/s]\n",
      "Epoch 267: 100%|██████████| 4/4 [00:00<00:00, 571.61it/s]\n",
      "Epoch 268: 100%|██████████| 4/4 [00:00<00:00, 499.99it/s]\n",
      "Epoch 269: 100%|██████████| 4/4 [00:00<00:00, 571.55it/s]\n",
      "Epoch 270: 100%|██████████| 4/4 [00:00<00:00, 571.43it/s]\n"
     ]
    },
    {
     "name": "stdout",
     "output_type": "stream",
     "text": [
      "Reconstruction error: 0.00052.\n"
     ]
    },
    {
     "name": "stderr",
     "output_type": "stream",
     "text": [
      "Epoch 271: 100%|██████████| 4/4 [00:00<00:00, 800.13it/s]\n",
      "Epoch 272: 100%|██████████| 4/4 [00:00<00:00, 800.25it/s]\n",
      "Epoch 273: 100%|██████████| 4/4 [00:00<00:00, 800.29it/s]\n",
      "Epoch 274: 100%|██████████| 4/4 [00:00<00:00, 666.93it/s]\n",
      "Epoch 275: 100%|██████████| 4/4 [00:00<00:00, 799.60it/s]\n",
      "Epoch 276: 100%|██████████| 4/4 [00:00<00:00, 799.98it/s]\n",
      "Epoch 277: 100%|██████████| 4/4 [00:00<00:00, 800.02it/s]\n",
      "Epoch 278: 100%|██████████| 4/4 [00:00<00:00, 800.33it/s]\n",
      "Epoch 279: 100%|██████████| 4/4 [00:00<00:00, 666.90it/s]\n",
      "Epoch 280: 100%|██████████| 4/4 [00:00<00:00, 800.10it/s]\n",
      "Epoch 271: 100%|██████████| 4/4 [00:00<00:00, 666.79it/s]\n",
      "Epoch 272: 100%|██████████| 4/4 [00:00<00:00, 800.13it/s]\n",
      "Epoch 273: 100%|██████████| 4/4 [00:00<00:00, 800.13it/s]\n",
      "Epoch 274: 100%|██████████| 4/4 [00:00<00:00, 1000.37it/s]\n",
      "Epoch 275: 100%|██████████| 4/4 [00:00<00:00, 800.29it/s]\n",
      "Epoch 276: 100%|██████████| 4/4 [00:00<00:00, 800.33it/s]\n",
      "Epoch 277: 100%|██████████| 4/4 [00:00<00:00, 799.91it/s]\n",
      "Epoch 278: 100%|██████████| 4/4 [00:00<00:00, 666.42it/s]\n",
      "Epoch 279: 100%|██████████| 4/4 [00:00<00:00, 799.98it/s]\n",
      "Epoch 280: 100%|██████████| 4/4 [00:00<00:00, 666.53it/s]\n"
     ]
    },
    {
     "name": "stdout",
     "output_type": "stream",
     "text": [
      "Reconstruction error: 0.00035.\n"
     ]
    },
    {
     "name": "stderr",
     "output_type": "stream",
     "text": [
      "Epoch 281: 100%|██████████| 4/4 [00:00<00:00, 800.36it/s]\n",
      "Epoch 282: 100%|██████████| 4/4 [00:00<00:00, 799.71it/s]\n",
      "Epoch 283: 100%|██████████| 4/4 [00:00<00:00, 800.06it/s]\n",
      "Epoch 284: 100%|██████████| 4/4 [00:00<00:00, 800.48it/s]\n",
      "Epoch 285: 100%|██████████| 4/4 [00:00<00:00, 800.17it/s]\n",
      "Epoch 286: 100%|██████████| 4/4 [00:00<00:00, 666.77it/s]\n",
      "Epoch 287: 100%|██████████| 4/4 [00:00<00:00, 1000.49it/s]\n",
      "Epoch 288: 100%|██████████| 4/4 [00:00<00:00, 800.36it/s]\n",
      "Epoch 289: 100%|██████████| 4/4 [00:00<00:00, 799.87it/s]\n",
      "Epoch 290: 100%|██████████| 4/4 [00:00<00:00, 800.33it/s]\n",
      "Epoch 281: 100%|██████████| 4/4 [00:00<00:00, 666.69it/s]\n",
      "Epoch 282: 100%|██████████| 4/4 [00:00<00:00, 800.02it/s]\n",
      "Epoch 283: 100%|██████████| 4/4 [00:00<00:00, 666.69it/s]\n",
      "Epoch 284: 100%|██████████| 4/4 [00:00<00:00, 571.37it/s]\n",
      "Epoch 285: 100%|██████████| 4/4 [00:00<00:00, 666.64it/s]\n",
      "Epoch 286: 100%|██████████| 4/4 [00:00<00:00, 666.64it/s]\n",
      "Epoch 287: 100%|██████████| 4/4 [00:00<00:00, 363.65it/s]\n",
      "Epoch 288: 100%|██████████| 4/4 [00:00<00:00, 666.90it/s]\n",
      "Epoch 289: 100%|██████████| 4/4 [00:00<00:00, 666.66it/s]\n",
      "Epoch 290: 100%|██████████| 4/4 [00:00<00:00, 666.61it/s]\n"
     ]
    },
    {
     "name": "stdout",
     "output_type": "stream",
     "text": [
      "Reconstruction error: 0.00035.\n"
     ]
    },
    {
     "name": "stderr",
     "output_type": "stream",
     "text": [
      "Epoch 291: 100%|██████████| 4/4 [00:00<00:00, 800.36it/s]\n",
      "Epoch 292: 100%|██████████| 4/4 [00:00<00:00, 571.16it/s]\n",
      "Epoch 293: 100%|██████████| 4/4 [00:00<00:00, 667.06it/s]\n",
      "Epoch 294: 100%|██████████| 4/4 [00:00<00:00, 666.58it/s]\n",
      "Epoch 295: 100%|██████████| 4/4 [00:00<00:00, 800.25it/s]\n",
      "Epoch 296: 100%|██████████| 4/4 [00:00<00:00, 799.83it/s]\n",
      "Epoch 297: 100%|██████████| 4/4 [00:00<00:00, 666.64it/s]\n",
      "Epoch 298: 100%|██████████| 4/4 [00:00<00:00, 800.02it/s]\n",
      "Epoch 299: 100%|██████████| 4/4 [00:00<00:00, 800.44it/s]\n",
      "Epoch 300: 100%|██████████| 4/4 [00:00<00:00, 799.94it/s]\n",
      "Epoch 291: 100%|██████████| 4/4 [00:00<00:00, 666.66it/s]\n",
      "Epoch 292: 100%|██████████| 4/4 [00:00<00:00, 500.11it/s]\n",
      "Epoch 293: 100%|██████████| 4/4 [00:00<00:00, 571.53it/s]\n",
      "Epoch 294: 100%|██████████| 4/4 [00:00<00:00, 571.63it/s]\n",
      "Epoch 295: 100%|██████████| 4/4 [00:00<00:00, 571.45it/s]\n",
      "Epoch 296: 100%|██████████| 4/4 [00:00<00:00, 190.45it/s]\n",
      "Epoch 297: 100%|██████████| 4/4 [00:00<00:00, 571.33it/s]\n",
      "Epoch 298: 100%|██████████| 4/4 [00:00<00:00, 97.56it/s]\n",
      "Epoch 299: 100%|██████████| 4/4 [00:00<00:00, 500.01it/s]\n",
      "Epoch 300: 100%|██████████| 4/4 [00:00<00:00, 571.53it/s]\n"
     ]
    },
    {
     "name": "stdout",
     "output_type": "stream",
     "text": [
      "Reconstruction error: 0.00029.\n"
     ]
    },
    {
     "name": "stderr",
     "output_type": "stream",
     "text": [
      "Epoch 301: 100%|██████████| 4/4 [00:00<00:00, 799.94it/s]\n",
      "Epoch 302: 100%|██████████| 4/4 [00:00<00:00, 800.21it/s]\n",
      "Epoch 303: 100%|██████████| 4/4 [00:00<00:00, 800.21it/s]\n",
      "Epoch 304: 100%|██████████| 4/4 [00:00<00:00, 800.13it/s]\n",
      "Epoch 305: 100%|██████████| 4/4 [00:00<00:00, 800.21it/s]\n",
      "Epoch 306: 100%|██████████| 4/4 [00:00<00:00, 666.66it/s]\n",
      "Epoch 307: 100%|██████████| 4/4 [00:00<00:00, 666.61it/s]\n",
      "Epoch 308: 100%|██████████| 4/4 [00:00<00:00, 666.50it/s]\n",
      "Epoch 309: 100%|██████████| 4/4 [00:00<00:00, 800.48it/s]\n",
      "Epoch 310: 100%|██████████| 4/4 [00:00<00:00, 666.85it/s]\n",
      "Epoch 301: 100%|██████████| 4/4 [00:00<00:00, 800.44it/s]\n",
      "Epoch 302: 100%|██████████| 4/4 [00:00<00:00, 666.58it/s]\n",
      "Epoch 303: 100%|██████████| 4/4 [00:00<00:00, 666.64it/s]\n",
      "Epoch 304: 100%|██████████| 4/4 [00:00<00:00, 799.94it/s]\n",
      "Epoch 305: 100%|██████████| 4/4 [00:00<00:00, 800.21it/s]\n",
      "Epoch 306: 100%|██████████| 4/4 [00:00<00:00, 799.94it/s]\n",
      "Epoch 307: 100%|██████████| 4/4 [00:00<00:00, 999.89it/s]\n",
      "Epoch 308: 100%|██████████| 4/4 [00:00<00:00, 800.06it/s]\n",
      "Epoch 309: 100%|██████████| 4/4 [00:00<00:00, 1014.77it/s]\n",
      "Epoch 310: 100%|██████████| 4/4 [00:00<00:00, 666.77it/s]\n"
     ]
    },
    {
     "name": "stdout",
     "output_type": "stream",
     "text": [
      "Reconstruction error: 0.0003.\n"
     ]
    },
    {
     "name": "stderr",
     "output_type": "stream",
     "text": [
      "Epoch 311: 100%|██████████| 4/4 [00:00<00:00, 799.56it/s]\n",
      "Epoch 312: 100%|██████████| 4/4 [00:00<00:00, 666.74it/s]\n",
      "Epoch 313: 100%|██████████| 4/4 [00:00<00:00, 800.40it/s]\n",
      "Epoch 314: 100%|██████████| 4/4 [00:00<00:00, 799.83it/s]\n",
      "Epoch 315: 100%|██████████| 4/4 [00:00<00:00, 666.71it/s]\n",
      "Epoch 316: 100%|██████████| 4/4 [00:00<00:00, 666.90it/s]\n",
      "Epoch 317: 100%|██████████| 4/4 [00:00<00:00, 666.56it/s]\n",
      "Epoch 318: 100%|██████████| 4/4 [00:00<00:00, 800.29it/s]\n",
      "Epoch 319: 100%|██████████| 4/4 [00:00<00:00, 799.79it/s]\n",
      "Epoch 320: 100%|██████████| 4/4 [00:00<00:00, 58.83it/s]\n",
      "Epoch 311: 100%|██████████| 4/4 [00:00<00:00, 799.60it/s]\n",
      "Epoch 312: 100%|██████████| 4/4 [00:00<00:00, 307.67it/s]\n",
      "Epoch 313: 100%|██████████| 4/4 [00:00<00:00, 666.71it/s]\n",
      "Epoch 314: 100%|██████████| 4/4 [00:00<00:00, 666.53it/s]\n",
      "Epoch 315: 100%|██████████| 4/4 [00:00<00:00, 800.02it/s]\n",
      "Epoch 316: 100%|██████████| 4/4 [00:00<00:00, 666.77it/s]\n",
      "Epoch 317: 100%|██████████| 4/4 [00:00<00:00, 666.56it/s]\n",
      "Epoch 318: 100%|██████████| 4/4 [00:00<00:00, 666.61it/s]\n",
      "Epoch 319: 100%|██████████| 4/4 [00:00<00:00, 799.94it/s]\n",
      "Epoch 320: 100%|██████████| 4/4 [00:00<00:00, 666.61it/s]\n"
     ]
    },
    {
     "name": "stdout",
     "output_type": "stream",
     "text": [
      "Reconstruction error: 0.00022.\n"
     ]
    },
    {
     "name": "stderr",
     "output_type": "stream",
     "text": [
      "Epoch 321: 100%|██████████| 4/4 [00:00<00:00, 400.11it/s]\n",
      "Epoch 322: 100%|██████████| 4/4 [00:00<00:00, 333.46it/s]\n",
      "Epoch 323: 100%|██████████| 4/4 [00:00<00:00, 666.71it/s]\n",
      "Epoch 324: 100%|██████████| 4/4 [00:00<00:00, 800.21it/s]\n",
      "Epoch 325: 100%|██████████| 4/4 [00:00<00:00, 666.53it/s]\n",
      "Epoch 326: 100%|██████████| 4/4 [00:00<00:00, 799.91it/s]\n",
      "Epoch 327: 100%|██████████| 4/4 [00:00<00:00, 799.91it/s]\n",
      "Epoch 328: 100%|██████████| 4/4 [00:00<00:00, 799.98it/s]\n",
      "Epoch 329: 100%|██████████| 4/4 [00:00<00:00, 800.52it/s]\n",
      "Epoch 330: 100%|██████████| 4/4 [00:00<00:00, 800.10it/s]\n",
      "Epoch 321: 100%|██████████| 4/4 [00:00<00:00, 800.06it/s]\n",
      "Epoch 322: 100%|██████████| 4/4 [00:00<00:00, 666.85it/s]\n",
      "Epoch 323: 100%|██████████| 4/4 [00:00<00:00, 799.87it/s]\n",
      "Epoch 324: 100%|██████████| 4/4 [00:00<00:00, 666.29it/s]\n",
      "Epoch 325: 100%|██████████| 4/4 [00:00<00:00, 499.86it/s]\n",
      "Epoch 326: 100%|██████████| 4/4 [00:00<00:00, 571.63it/s]\n",
      "Epoch 327: 100%|██████████| 4/4 [00:00<00:00, 499.93it/s]\n",
      "Epoch 328: 100%|██████████| 4/4 [00:00<00:00, 363.69it/s]\n",
      "Epoch 329: 100%|██████████| 4/4 [00:00<00:00, 444.46it/s]\n",
      "Epoch 330: 100%|██████████| 4/4 [00:00<00:00, 505.61it/s]\n"
     ]
    },
    {
     "name": "stdout",
     "output_type": "stream",
     "text": [
      "Reconstruction error: 0.00025.\n"
     ]
    },
    {
     "name": "stderr",
     "output_type": "stream",
     "text": [
      "Epoch 331: 100%|██████████| 4/4 [00:00<00:00, 666.69it/s]\n",
      "Epoch 332: 100%|██████████| 4/4 [00:00<00:00, 800.52it/s]\n",
      "Epoch 333: 100%|██████████| 4/4 [00:00<00:00, 800.10it/s]\n",
      "Epoch 334: 100%|██████████| 4/4 [00:00<00:00, 666.61it/s]\n",
      "Epoch 335: 100%|██████████| 4/4 [00:00<00:00, 799.91it/s]\n",
      "Epoch 336: 100%|██████████| 4/4 [00:00<00:00, 800.44it/s]\n",
      "Epoch 337: 100%|██████████| 4/4 [00:00<00:00, 666.82it/s]\n",
      "Epoch 338: 100%|██████████| 4/4 [00:00<00:00, 800.55it/s]\n",
      "Epoch 339: 100%|██████████| 4/4 [00:00<00:00, 571.45it/s]\n",
      "Epoch 340: 100%|██████████| 4/4 [00:00<00:00, 800.02it/s]\n",
      "Epoch 331: 100%|██████████| 4/4 [00:00<00:00, 666.90it/s]\n",
      "Epoch 332: 100%|██████████| 4/4 [00:00<00:00, 666.74it/s]\n",
      "Epoch 333: 100%|██████████| 4/4 [00:00<00:00, 800.10it/s]\n",
      "Epoch 334: 100%|██████████| 4/4 [00:00<00:00, 800.78it/s]\n",
      "Epoch 335: 100%|██████████| 4/4 [00:00<00:00, 800.10it/s]\n",
      "Epoch 336: 100%|██████████| 4/4 [00:00<00:00, 666.69it/s]\n",
      "Epoch 337: 100%|██████████| 4/4 [00:00<00:00, 667.19it/s]\n",
      "Epoch 338: 100%|██████████| 4/4 [00:00<00:00, 571.45it/s]\n",
      "Epoch 339: 100%|██████████| 4/4 [00:00<00:00, 444.41it/s]\n",
      "Epoch 340: 100%|██████████| 4/4 [00:00<00:00, 569.14it/s]\n"
     ]
    },
    {
     "name": "stdout",
     "output_type": "stream",
     "text": [
      "Reconstruction error: 0.00022.\n"
     ]
    },
    {
     "name": "stderr",
     "output_type": "stream",
     "text": [
      "Epoch 341: 100%|██████████| 4/4 [00:00<00:00, 666.66it/s]\n",
      "Epoch 342: 100%|██████████| 4/4 [00:00<00:00, 800.25it/s]\n",
      "Epoch 343: 100%|██████████| 4/4 [00:00<00:00, 800.40it/s]\n",
      "Epoch 344: 100%|██████████| 4/4 [00:00<00:00, 800.10it/s]\n",
      "Epoch 345: 100%|██████████| 4/4 [00:00<00:00, 800.44it/s]\n",
      "Epoch 346: 100%|██████████| 4/4 [00:00<00:00, 800.40it/s]\n",
      "Epoch 347: 100%|██████████| 4/4 [00:00<00:00, 666.69it/s]\n",
      "Epoch 348: 100%|██████████| 4/4 [00:00<00:00, 666.24it/s]\n",
      "Epoch 349: 100%|██████████| 4/4 [00:00<00:00, 799.79it/s]\n",
      "Epoch 350: 100%|██████████| 4/4 [00:00<00:00, 800.17it/s]\n",
      "Epoch 341: 100%|██████████| 4/4 [00:00<00:00, 800.10it/s]\n",
      "Epoch 342: 100%|██████████| 4/4 [00:00<00:00, 571.59it/s]\n",
      "Epoch 343: 100%|██████████| 4/4 [00:00<00:00, 800.40it/s]\n",
      "Epoch 344: 100%|██████████| 4/4 [00:00<00:00, 1000.61it/s]\n",
      "Epoch 345: 100%|██████████| 4/4 [00:00<00:00, 799.75it/s]\n",
      "Epoch 346: 100%|██████████| 4/4 [00:00<00:00, 800.21it/s]\n",
      "Epoch 347: 100%|██████████| 4/4 [00:00<00:00, 800.17it/s]\n",
      "Epoch 348: 100%|██████████| 4/4 [00:00<00:00, 666.87it/s]\n",
      "Epoch 349: 100%|██████████| 4/4 [00:00<00:00, 800.29it/s]\n",
      "Epoch 350: 100%|██████████| 4/4 [00:00<00:00, 444.35it/s]\n"
     ]
    },
    {
     "name": "stdout",
     "output_type": "stream",
     "text": [
      "Reconstruction error: 0.00022.\n"
     ]
    },
    {
     "name": "stderr",
     "output_type": "stream",
     "text": [
      "Epoch 351: 100%|██████████| 4/4 [00:00<00:00, 800.25it/s]\n",
      "Epoch 352: 100%|██████████| 4/4 [00:00<00:00, 799.60it/s]\n",
      "Epoch 353: 100%|██████████| 4/4 [00:00<00:00, 799.75it/s]\n",
      "Epoch 354: 100%|██████████| 4/4 [00:00<00:00, 799.64it/s]\n",
      "Epoch 355: 100%|██████████| 4/4 [00:00<00:00, 800.10it/s]\n",
      "Epoch 356: 100%|██████████| 4/4 [00:00<00:00, 800.10it/s]\n",
      "Epoch 357: 100%|██████████| 4/4 [00:00<00:00, 800.52it/s]\n",
      "Epoch 358: 100%|██████████| 4/4 [00:00<00:00, 800.10it/s]\n",
      "Epoch 359: 100%|██████████| 4/4 [00:00<00:00, 666.82it/s]\n",
      "Epoch 360: 100%|██████████| 4/4 [00:00<00:00, 799.94it/s]\n",
      "Epoch 351: 100%|██████████| 4/4 [00:00<00:00, 499.99it/s]\n",
      "Epoch 352: 100%|██████████| 4/4 [00:00<00:00, 125.00it/s]\n",
      "Epoch 353: 100%|██████████| 4/4 [00:00<00:00, 333.38it/s]\n",
      "Epoch 354: 100%|██████████| 4/4 [00:00<00:00, 571.53it/s]\n",
      "Epoch 355: 100%|██████████| 4/4 [00:00<00:00, 571.39it/s]\n",
      "Epoch 356: 100%|██████████| 4/4 [00:00<00:00, 666.61it/s]\n",
      "Epoch 357: 100%|██████████| 4/4 [00:00<00:00, 799.75it/s]\n",
      "Epoch 358: 100%|██████████| 4/4 [00:00<00:00, 666.79it/s]\n",
      "Epoch 359: 100%|██████████| 4/4 [00:00<00:00, 444.38it/s]\n",
      "Epoch 360: 100%|██████████| 4/4 [00:00<00:00, 500.26it/s]\n"
     ]
    },
    {
     "name": "stdout",
     "output_type": "stream",
     "text": [
      "Reconstruction error: 0.00017.\n"
     ]
    },
    {
     "name": "stderr",
     "output_type": "stream",
     "text": [
      "Epoch 361: 100%|██████████| 4/4 [00:00<00:00, 800.13it/s]\n",
      "Epoch 362: 100%|██████████| 4/4 [00:00<00:00, 666.56it/s]\n",
      "Epoch 363: 100%|██████████| 4/4 [00:00<00:00, 800.02it/s]\n",
      "Epoch 364: 100%|██████████| 4/4 [00:00<00:00, 801.01it/s]\n",
      "Epoch 365: 100%|██████████| 4/4 [00:00<00:00, 800.06it/s]\n",
      "Epoch 366: 100%|██████████| 4/4 [00:00<00:00, 800.06it/s]\n",
      "Epoch 367: 100%|██████████| 4/4 [00:00<00:00, 800.06it/s]\n",
      "Epoch 368: 100%|██████████| 4/4 [00:00<00:00, 799.56it/s]\n",
      "Epoch 369: 100%|██████████| 4/4 [00:00<00:00, 800.13it/s]\n",
      "Epoch 370: 100%|██████████| 4/4 [00:00<00:00, 800.48it/s]\n",
      "Epoch 361: 100%|██████████| 4/4 [00:00<00:00, 666.26it/s]\n",
      "Epoch 362: 100%|██████████| 4/4 [00:00<00:00, 667.19it/s]\n",
      "Epoch 363: 100%|██████████| 4/4 [00:00<00:00, 666.77it/s]\n",
      "Epoch 364: 100%|██████████| 4/4 [00:00<00:00, 800.13it/s]\n",
      "Epoch 365: 100%|██████████| 4/4 [00:00<00:00, 799.94it/s]\n",
      "Epoch 366: 100%|██████████| 4/4 [00:00<00:00, 799.83it/s]\n",
      "Epoch 367: 100%|██████████| 4/4 [00:00<00:00, 666.69it/s]\n",
      "Epoch 368: 100%|██████████| 4/4 [00:00<00:00, 666.93it/s]\n",
      "Epoch 369: 100%|██████████| 4/4 [00:00<00:00, 675.76it/s]\n",
      "Epoch 370: 100%|██████████| 4/4 [00:00<00:00, 800.55it/s]\n"
     ]
    },
    {
     "name": "stdout",
     "output_type": "stream",
     "text": [
      "Reconstruction error: 0.00017.\n"
     ]
    },
    {
     "name": "stderr",
     "output_type": "stream",
     "text": [
      "Epoch 371: 100%|██████████| 4/4 [00:00<00:00, 667.01it/s]\n",
      "Epoch 372: 100%|██████████| 4/4 [00:00<00:00, 667.01it/s]\n",
      "Epoch 373: 100%|██████████| 4/4 [00:00<00:00, 800.10it/s]\n",
      "Epoch 374: 100%|██████████| 4/4 [00:00<00:00, 666.90it/s]\n",
      "Epoch 375: 100%|██████████| 4/4 [00:00<00:00, 800.40it/s]\n",
      "Epoch 376: 100%|██████████| 4/4 [00:00<00:00, 800.55it/s]\n",
      "Epoch 377: 100%|██████████| 4/4 [00:00<00:00, 800.36it/s]\n",
      "Epoch 378: 100%|██████████| 4/4 [00:00<00:00, 800.59it/s]\n",
      "Epoch 379: 100%|██████████| 4/4 [00:00<00:00, 800.25it/s]\n",
      "Epoch 380: 100%|██████████| 4/4 [00:00<00:00, 800.25it/s]\n",
      "Epoch 371: 100%|██████████| 4/4 [00:00<00:00, 444.51it/s]\n",
      "Epoch 372: 100%|██████████| 4/4 [00:00<00:00, 499.98it/s]\n",
      "Epoch 373: 100%|██████████| 4/4 [00:00<00:00, 499.87it/s]\n",
      "Epoch 374: 100%|██████████| 4/4 [00:00<00:00, 108.11it/s]\n",
      "Epoch 375: 100%|██████████| 4/4 [00:00<00:00, 571.49it/s]\n",
      "Epoch 376: 100%|██████████| 4/4 [00:00<00:00, 666.08it/s]\n",
      "Epoch 377: 100%|██████████| 4/4 [00:00<00:00, 800.17it/s]\n",
      "Epoch 378: 100%|██████████| 4/4 [00:00<00:00, 800.59it/s]\n",
      "Epoch 379: 100%|██████████| 4/4 [00:00<00:00, 666.95it/s]\n",
      "Epoch 380: 100%|██████████| 4/4 [00:00<00:00, 666.95it/s]\n"
     ]
    },
    {
     "name": "stdout",
     "output_type": "stream",
     "text": [
      "Reconstruction error: 0.0002.\n"
     ]
    },
    {
     "name": "stderr",
     "output_type": "stream",
     "text": [
      "Epoch 381: 100%|██████████| 4/4 [00:00<00:00, 666.48it/s]\n",
      "Epoch 382: 100%|██████████| 4/4 [00:00<00:00, 800.21it/s]\n",
      "Epoch 383: 100%|██████████| 4/4 [00:00<00:00, 666.74it/s]\n",
      "Epoch 384: 100%|██████████| 4/4 [00:00<00:00, 571.57it/s]\n",
      "Epoch 385: 100%|██████████| 4/4 [00:00<00:00, 800.10it/s]\n",
      "Epoch 386: 100%|██████████| 4/4 [00:00<00:00, 800.06it/s]\n",
      "Epoch 387: 100%|██████████| 4/4 [00:00<00:00, 800.48it/s]\n",
      "Epoch 388: 100%|██████████| 4/4 [00:00<00:00, 666.69it/s]\n",
      "Epoch 389: 100%|██████████| 4/4 [00:00<00:00, 800.21it/s]\n",
      "Epoch 390: 100%|██████████| 4/4 [00:00<00:00, 800.33it/s]\n",
      "Epoch 381: 100%|██████████| 4/4 [00:00<00:00, 800.10it/s]\n",
      "Epoch 382: 100%|██████████| 4/4 [00:00<00:00, 801.01it/s]\n",
      "Epoch 383: 100%|██████████| 4/4 [00:00<00:00, 571.49it/s]\n",
      "Epoch 384: 100%|██████████| 4/4 [00:00<00:00, 666.21it/s]\n",
      "Epoch 385: 100%|██████████| 4/4 [00:00<00:00, 333.32it/s]\n",
      "Epoch 386: 100%|██████████| 4/4 [00:00<00:00, 666.64it/s]\n",
      "Epoch 387: 100%|██████████| 4/4 [00:00<00:00, 571.33it/s]\n",
      "Epoch 388: 100%|██████████| 4/4 [00:00<00:00, 666.66it/s]\n",
      "Epoch 389: 100%|██████████| 4/4 [00:00<00:00, 667.01it/s]\n",
      "Epoch 390: 100%|██████████| 4/4 [00:00<00:00, 666.66it/s]\n"
     ]
    },
    {
     "name": "stdout",
     "output_type": "stream",
     "text": [
      "Reconstruction error: 0.00021.\n"
     ]
    },
    {
     "name": "stderr",
     "output_type": "stream",
     "text": [
      "Epoch 391: 100%|██████████| 4/4 [00:00<00:00, 800.29it/s]\n",
      "Epoch 392: 100%|██████████| 4/4 [00:00<00:00, 666.69it/s]\n",
      "Epoch 393: 100%|██████████| 4/4 [00:00<00:00, 571.49it/s]\n",
      "Epoch 394: 100%|██████████| 4/4 [00:00<00:00, 666.82it/s]\n",
      "Epoch 395: 100%|██████████| 4/4 [00:00<00:00, 800.21it/s]\n",
      "Epoch 396: 100%|██████████| 4/4 [00:00<00:00, 800.52it/s]\n",
      "Epoch 397: 100%|██████████| 4/4 [00:00<00:00, 666.66it/s]\n",
      "Epoch 398: 100%|██████████| 4/4 [00:00<00:00, 800.48it/s]\n",
      "Epoch 399: 100%|██████████| 4/4 [00:00<00:00, 666.61it/s]\n",
      "Epoch 400: 100%|██████████| 4/4 [00:00<00:00, 666.64it/s]\n",
      "Epoch 391: 100%|██████████| 4/4 [00:00<00:00, 666.85it/s]\n",
      "Epoch 392: 100%|██████████| 4/4 [00:00<00:00, 499.95it/s]\n",
      "Epoch 393: 100%|██████████| 4/4 [00:00<00:00, 799.83it/s]\n",
      "Epoch 394: 100%|██████████| 4/4 [00:00<00:00, 800.33it/s]\n",
      "Epoch 395: 100%|██████████| 4/4 [00:00<00:00, 800.06it/s]\n",
      "Epoch 396: 100%|██████████| 4/4 [00:00<00:00, 666.93it/s]\n",
      "Epoch 397: 100%|██████████| 4/4 [00:00<00:00, 571.08it/s]\n",
      "Epoch 398: 100%|██████████| 4/4 [00:00<00:00, 500.05it/s]\n",
      "Epoch 399: 100%|██████████| 4/4 [00:00<00:00, 444.15it/s]\n",
      "Epoch 400: 100%|██████████| 4/4 [00:00<00:00, 444.56it/s]\n"
     ]
    },
    {
     "name": "stdout",
     "output_type": "stream",
     "text": [
      "Reconstruction error: 0.00017.\n"
     ]
    },
    {
     "name": "stderr",
     "output_type": "stream",
     "text": [
      "Epoch 401: 100%|██████████| 4/4 [00:00<00:00, 444.54it/s]\n",
      "Epoch 402: 100%|██████████| 4/4 [00:00<00:00, 285.78it/s]\n",
      "Epoch 403: 100%|██████████| 4/4 [00:00<00:00, 500.02it/s]\n",
      "Epoch 404: 100%|██████████| 4/4 [00:00<00:00, 666.74it/s]\n",
      "Epoch 405: 100%|██████████| 4/4 [00:00<00:00, 666.69it/s]\n",
      "Epoch 406: 100%|██████████| 4/4 [00:00<00:00, 666.48it/s]\n",
      "Epoch 407: 100%|██████████| 4/4 [00:00<00:00, 800.36it/s]\n",
      "Epoch 408: 100%|██████████| 4/4 [00:00<00:00, 571.59it/s]\n",
      "Epoch 409: 100%|██████████| 4/4 [00:00<00:00, 666.45it/s]\n",
      "Epoch 410: 100%|██████████| 4/4 [00:00<00:00, 399.89it/s]\n"
     ]
    },
    {
     "name": "stdout",
     "output_type": "stream",
     "text": [
      "Reconstruction error: 0.00011.\n"
     ]
    },
    {
     "name": "stderr",
     "output_type": "stream",
     "text": [
      "Epoch 411: 100%|██████████| 4/4 [00:00<00:00, 799.79it/s]\n",
      "Epoch 412: 100%|██████████| 4/4 [00:00<00:00, 799.98it/s]\n",
      "Epoch 413: 100%|██████████| 4/4 [00:00<00:00, 666.77it/s]\n",
      "Epoch 414: 100%|██████████| 4/4 [00:00<00:00, 800.29it/s]\n",
      "Epoch 415: 100%|██████████| 4/4 [00:00<00:00, 800.21it/s]\n",
      "Epoch 416: 100%|██████████| 4/4 [00:00<00:00, 800.36it/s]\n",
      "Epoch 417: 100%|██████████| 4/4 [00:00<00:00, 666.74it/s]\n",
      "Epoch 418: 100%|██████████| 4/4 [00:00<00:00, 800.17it/s]\n",
      "Epoch 419: 100%|██████████| 4/4 [00:00<00:00, 799.87it/s]\n",
      "Epoch 420: 100%|██████████| 4/4 [00:00<00:00, 800.36it/s]\n"
     ]
    },
    {
     "name": "stdout",
     "output_type": "stream",
     "text": [
      "Reconstruction error: 0.00016.\n"
     ]
    },
    {
     "name": "stderr",
     "output_type": "stream",
     "text": [
      "Epoch 421: 100%|██████████| 4/4 [00:00<00:00, 443.60it/s]\n",
      "Epoch 422: 100%|██████████| 4/4 [00:00<00:00, 363.61it/s]\n",
      "Epoch 423: 100%|██████████| 4/4 [00:00<00:00, 353.32it/s]\n",
      "Epoch 424: 100%|██████████| 4/4 [00:00<00:00, 418.86it/s]\n",
      "Epoch 425: 100%|██████████| 4/4 [00:00<00:00, 393.90it/s]\n",
      "Epoch 426: 100%|██████████| 4/4 [00:00<00:00, 462.90it/s]\n",
      "Epoch 427: 100%|██████████| 4/4 [00:00<00:00, 444.41it/s]\n",
      "Epoch 428: 100%|██████████| 4/4 [00:00<00:00, 666.90it/s]\n",
      "Epoch 429: 100%|██████████| 4/4 [00:00<00:00, 666.11it/s]\n",
      "Epoch 430: 100%|██████████| 4/4 [00:00<00:00, 666.79it/s]\n"
     ]
    },
    {
     "name": "stdout",
     "output_type": "stream",
     "text": [
      "Reconstruction error: 0.00012.\n"
     ]
    },
    {
     "name": "stderr",
     "output_type": "stream",
     "text": [
      "Epoch 431: 100%|██████████| 4/4 [00:00<00:00, 666.77it/s]\n",
      "Epoch 432: 100%|██████████| 4/4 [00:00<00:00, 571.57it/s]\n",
      "Epoch 433: 100%|██████████| 4/4 [00:00<00:00, 666.90it/s]\n",
      "Epoch 434: 100%|██████████| 4/4 [00:00<00:00, 666.50it/s]\n",
      "Epoch 435: 100%|██████████| 4/4 [00:00<00:00, 800.67it/s]\n",
      "Epoch 436: 100%|██████████| 4/4 [00:00<00:00, 800.17it/s]\n",
      "Epoch 437: 100%|██████████| 4/4 [00:00<00:00, 799.91it/s]\n",
      "Epoch 438: 100%|██████████| 4/4 [00:00<00:00, 666.66it/s]\n",
      "Epoch 439: 100%|██████████| 4/4 [00:00<00:00, 799.94it/s]\n",
      "Epoch 440: 100%|██████████| 4/4 [00:00<00:00, 800.06it/s]\n"
     ]
    },
    {
     "name": "stdout",
     "output_type": "stream",
     "text": [
      "Reconstruction error: 0.00012.\n"
     ]
    },
    {
     "name": "stderr",
     "output_type": "stream",
     "text": [
      "Epoch 441: 100%|██████████| 4/4 [00:00<00:00, 800.40it/s]\n",
      "Epoch 442: 100%|██████████| 4/4 [00:00<00:00, 800.40it/s]\n",
      "Epoch 443: 100%|██████████| 4/4 [00:00<00:00, 666.64it/s]\n",
      "Epoch 444: 100%|██████████| 4/4 [00:00<00:00, 799.91it/s]\n",
      "Epoch 445: 100%|██████████| 4/4 [00:00<00:00, 666.77it/s]\n",
      "Epoch 446: 100%|██████████| 4/4 [00:00<00:00, 800.78it/s]\n",
      "Epoch 447: 100%|██████████| 4/4 [00:00<00:00, 800.25it/s]\n",
      "Epoch 448: 100%|██████████| 4/4 [00:00<00:00, 800.36it/s]\n",
      "Epoch 449: 100%|██████████| 4/4 [00:00<00:00, 666.66it/s]\n",
      "Epoch 450: 100%|██████████| 4/4 [00:00<00:00, 800.40it/s]\n",
      "Epoch 441: 100%|██████████| 4/4 [00:00<00:00, 666.64it/s]\n",
      "Epoch 442: 100%|██████████| 4/4 [00:00<00:00, 800.02it/s]\n",
      "Epoch 443: 100%|██████████| 4/4 [00:00<00:00, 666.64it/s]\n",
      "Epoch 444: 100%|██████████| 4/4 [00:00<00:00, 399.96it/s]\n",
      "Epoch 445: 100%|██████████| 4/4 [00:00<00:00, 500.05it/s]\n",
      "Epoch 446: 100%|██████████| 4/4 [00:00<00:00, 571.70it/s]\n",
      "Epoch 447: 100%|██████████| 4/4 [00:00<00:00, 571.35it/s]\n",
      "Epoch 448: 100%|██████████| 4/4 [00:00<00:00, 571.39it/s]\n",
      "Epoch 449: 100%|██████████| 4/4 [00:00<00:00, 571.45it/s]\n",
      "Epoch 450: 100%|██████████| 4/4 [00:00<00:00, 666.69it/s]\n"
     ]
    },
    {
     "name": "stdout",
     "output_type": "stream",
     "text": [
      "Reconstruction error: 0.00013.\n"
     ]
    },
    {
     "name": "stderr",
     "output_type": "stream",
     "text": [
      "Epoch 451: 100%|██████████| 4/4 [00:00<00:00, 666.64it/s]\n",
      "Epoch 452: 100%|██████████| 4/4 [00:00<00:00, 800.44it/s]\n",
      "Epoch 453: 100%|██████████| 4/4 [00:00<00:00, 800.21it/s]\n",
      "Epoch 454: 100%|██████████| 4/4 [00:00<00:00, 800.21it/s]\n",
      "Epoch 455: 100%|██████████| 4/4 [00:00<00:00, 666.77it/s]\n",
      "Epoch 456: 100%|██████████| 4/4 [00:00<00:00, 666.95it/s]\n",
      "Epoch 457: 100%|██████████| 4/4 [00:00<00:00, 800.52it/s]\n",
      "Epoch 458: 100%|██████████| 4/4 [00:00<00:00, 799.87it/s]\n",
      "Epoch 459: 100%|██████████| 4/4 [00:00<00:00, 800.44it/s]\n",
      "Epoch 460: 100%|██████████| 4/4 [00:00<00:00, 666.26it/s]\n",
      "Epoch 451: 100%|██████████| 4/4 [00:00<00:00, 571.51it/s]\n",
      "Epoch 452: 100%|██████████| 4/4 [00:00<00:00, 666.64it/s]\n",
      "Epoch 453: 100%|██████████| 4/4 [00:00<00:00, 800.10it/s]\n",
      "Epoch 454: 100%|██████████| 4/4 [00:00<00:00, 666.74it/s]\n",
      "Epoch 455: 100%|██████████| 4/4 [00:00<00:00, 666.37it/s]\n",
      "Epoch 456: 100%|██████████| 4/4 [00:00<00:00, 1000.31it/s]\n",
      "Epoch 457: 100%|██████████| 4/4 [00:00<00:00, 800.06it/s]\n",
      "Epoch 458: 100%|██████████| 4/4 [00:00<00:00, 799.94it/s]\n",
      "Epoch 459: 100%|██████████| 4/4 [00:00<00:00, 800.17it/s]\n",
      "Epoch 460: 100%|██████████| 4/4 [00:00<00:00, 571.47it/s]\n"
     ]
    },
    {
     "name": "stdout",
     "output_type": "stream",
     "text": [
      "Reconstruction error: 0.00012.\n"
     ]
    },
    {
     "name": "stderr",
     "output_type": "stream",
     "text": [
      "Epoch 461: 100%|██████████| 4/4 [00:00<00:00, 666.58it/s]\n",
      "Epoch 462: 100%|██████████| 4/4 [00:00<00:00, 800.40it/s]\n",
      "Epoch 463: 100%|██████████| 4/4 [00:00<00:00, 800.33it/s]\n",
      "Epoch 464: 100%|██████████| 4/4 [00:00<00:00, 667.06it/s]\n",
      "Epoch 465: 100%|██████████| 4/4 [00:00<00:00, 799.94it/s]\n",
      "Epoch 466: 100%|██████████| 4/4 [00:00<00:00, 667.14it/s]\n",
      "Epoch 467: 100%|██████████| 4/4 [00:00<00:00, 666.69it/s]\n",
      "Epoch 468: 100%|██████████| 4/4 [00:00<00:00, 667.06it/s]\n",
      "Epoch 469: 100%|██████████| 4/4 [00:00<00:00, 800.48it/s]\n",
      "Epoch 470: 100%|██████████| 4/4 [00:00<00:00, 667.11it/s]\n",
      "Epoch 461: 100%|██████████| 4/4 [00:00<00:00, 500.02it/s]\n",
      "Epoch 462: 100%|██████████| 4/4 [00:00<00:00, 666.37it/s]\n",
      "Epoch 463: 100%|██████████| 4/4 [00:00<00:00, 666.93it/s]\n",
      "Epoch 464: 100%|██████████| 4/4 [00:00<00:00, 800.17it/s]\n",
      "Epoch 465: 100%|██████████| 4/4 [00:00<00:00, 799.98it/s]\n",
      "Epoch 466: 100%|██████████| 4/4 [00:00<00:00, 800.78it/s]\n",
      "Epoch 467: 100%|██████████| 4/4 [00:00<00:00, 800.55it/s]\n",
      "Epoch 468: 100%|██████████| 4/4 [00:00<00:00, 1001.27it/s]\n",
      "Epoch 469: 100%|██████████| 4/4 [00:00<00:00, 800.13it/s]\n",
      "Epoch 470: 100%|██████████| 4/4 [00:00<00:00, 800.25it/s]\n"
     ]
    },
    {
     "name": "stdout",
     "output_type": "stream",
     "text": [
      "Reconstruction error: 0.0001.\n"
     ]
    },
    {
     "name": "stderr",
     "output_type": "stream",
     "text": [
      "Epoch 471: 100%|██████████| 4/4 [00:00<00:00, 800.29it/s]\n",
      "Epoch 472: 100%|██████████| 4/4 [00:00<00:00, 800.21it/s]\n",
      "Epoch 473: 100%|██████████| 4/4 [00:00<00:00, 800.13it/s]\n",
      "Epoch 474: 100%|██████████| 4/4 [00:00<00:00, 571.53it/s]\n",
      "Epoch 475: 100%|██████████| 4/4 [00:00<00:00, 666.74it/s]\n",
      "Epoch 476: 100%|██████████| 4/4 [00:00<00:00, 800.17it/s]\n",
      "Epoch 477: 100%|██████████| 4/4 [00:00<00:00, 666.48it/s]\n",
      "Epoch 478: 100%|██████████| 4/4 [00:00<00:00, 800.13it/s]\n",
      "Epoch 479: 100%|██████████| 4/4 [00:00<00:00, 666.77it/s]\n",
      "Epoch 480: 100%|██████████| 4/4 [00:00<00:00, 667.01it/s]\n",
      "Epoch 471: 100%|██████████| 4/4 [00:00<00:00, 799.83it/s]\n",
      "Epoch 472: 100%|██████████| 4/4 [00:00<00:00, 571.57it/s]\n",
      "Epoch 473: 100%|██████████| 4/4 [00:00<00:00, 499.89it/s]\n",
      "Epoch 474: 100%|██████████| 4/4 [00:00<00:00, 571.37it/s]\n",
      "Epoch 475: 100%|██████████| 4/4 [00:00<00:00, 571.55it/s]\n",
      "Epoch 476: 100%|██████████| 4/4 [00:00<00:00, 571.43it/s]\n",
      "Epoch 477: 100%|██████████| 4/4 [00:00<00:00, 666.95it/s]\n",
      "Epoch 478: 100%|██████████| 4/4 [00:00<00:00, 666.77it/s]\n",
      "Epoch 479: 100%|██████████| 4/4 [00:00<00:00, 571.59it/s]\n",
      "Epoch 480: 100%|██████████| 4/4 [00:00<00:00, 571.66it/s]\n"
     ]
    },
    {
     "name": "stdout",
     "output_type": "stream",
     "text": [
      "Reconstruction error: 9e-05.\n"
     ]
    },
    {
     "name": "stderr",
     "output_type": "stream",
     "text": [
      "Epoch 481: 100%|██████████| 4/4 [00:00<00:00, 666.79it/s]\n",
      "Epoch 482: 100%|██████████| 4/4 [00:00<00:00, 666.48it/s]\n",
      "Epoch 483: 100%|██████████| 4/4 [00:00<00:00, 799.98it/s]\n",
      "Epoch 484: 100%|██████████| 4/4 [00:00<00:00, 800.48it/s]\n",
      "Epoch 485: 100%|██████████| 4/4 [00:00<00:00, 666.71it/s]\n",
      "Epoch 486: 100%|██████████| 4/4 [00:00<00:00, 799.91it/s]\n",
      "Epoch 487: 100%|██████████| 4/4 [00:00<00:00, 666.61it/s]\n",
      "Epoch 488: 100%|██████████| 4/4 [00:00<00:00, 666.64it/s]\n",
      "Epoch 489: 100%|██████████| 4/4 [00:00<00:00, 666.69it/s]\n",
      "Epoch 490: 100%|██████████| 4/4 [00:00<00:00, 666.77it/s]\n",
      "Epoch 481: 100%|██████████| 4/4 [00:00<00:00, 800.48it/s]\n",
      "Epoch 482: 100%|██████████| 4/4 [00:00<00:00, 35.09it/s]\n",
      "Epoch 483: 100%|██████████| 4/4 [00:00<00:00, 666.48it/s]\n",
      "Epoch 484: 100%|██████████| 4/4 [00:00<00:00, 499.81it/s]\n",
      "Epoch 485: 100%|██████████| 4/4 [00:00<00:00, 666.69it/s]\n",
      "Epoch 486: 100%|██████████| 4/4 [00:00<00:00, 666.53it/s]\n",
      "Epoch 487: 100%|██████████| 4/4 [00:00<00:00, 800.21it/s]\n",
      "Epoch 488: 100%|██████████| 4/4 [00:00<00:00, 666.56it/s]\n",
      "Epoch 489: 100%|██████████| 4/4 [00:00<00:00, 444.51it/s]\n",
      "Epoch 490: 100%|██████████| 4/4 [00:00<00:00, 666.82it/s]\n"
     ]
    },
    {
     "name": "stdout",
     "output_type": "stream",
     "text": [
      "Reconstruction error: 8e-05.\n"
     ]
    },
    {
     "name": "stderr",
     "output_type": "stream",
     "text": [
      "Epoch 491: 100%|██████████| 4/4 [00:00<00:00, 571.53it/s]\n",
      "Epoch 492: 100%|██████████| 4/4 [00:00<00:00, 571.33it/s]\n",
      "Epoch 493: 100%|██████████| 4/4 [00:00<00:00, 666.69it/s]\n",
      "Epoch 494: 100%|██████████| 4/4 [00:00<00:00, 685.82it/s]\n",
      "Epoch 495: 100%|██████████| 4/4 [00:00<00:00, 571.82it/s]\n",
      "Epoch 496: 100%|██████████| 4/4 [00:00<00:00, 578.11it/s]\n",
      "Epoch 497: 100%|██████████| 4/4 [00:00<00:00, 620.05it/s]\n",
      "Epoch 498: 100%|██████████| 4/4 [00:00<00:00, 716.94it/s]\n",
      "Epoch 499: 100%|██████████| 4/4 [00:00<00:00, 611.15it/s]\n"
     ]
    },
    {
     "data": {
      "text/plain": [
       "RBM(n_visible=320, n_hidden=200)"
      ]
     },
     "execution_count": 40,
     "metadata": {},
     "output_type": "execute_result"
    }
   ],
   "source": [
    "# Parameters\n",
    "n_visible = data.shape[1]  # Number of visible units (size of each image)\n",
    "n_hidden = 200  # Number of hidden units (hyperparameter)\n",
    "\n",
    "# Initialize RBM\n",
    "rbm = RBM(n_visible=n_visible, n_hidden=n_hidden, random_state=42)\n",
    "print(rbm)\n",
    "\n",
    "# Train RBM\n",
    "rbm.train(data, learning_rate=0.1, n_epochs=500, batch_size=10)"
   ]
  },
  {
   "cell_type": "code",
   "execution_count": 41,
   "metadata": {},
   "outputs": [],
   "source": [
    "np.testing.assert_allclose(rbm.calcul_softmax(data).sum(1), 1)"
   ]
  },
  {
   "cell_type": "code",
   "execution_count": 42,
   "metadata": {},
   "outputs": [
    {
     "data": {
      "image/png": "[encoded data removed]",
      "text/plain": [
       "<Figure size 1200x600 with 20 Axes>"
      ]
     },
     "metadata": {},
     "output_type": "display_data"
    }
   ],
   "source": [
    "# Generate samples\n",
    "generated_samples = rbm.generate_image(n_samples=10, n_gibbs_steps=1)\n",
    "\n",
    "# Plot original and generated samples\n",
    "plt.figure(figsize=(12, 6))\n",
    "\n",
    "n_images = 10\n",
    "for i in range(n_images):\n",
    "    plt.subplot(2, n_images, i + 1)\n",
    "    plt.imshow(data[i].reshape(20, 16))\n",
    "    plt.title('Original')\n",
    "    plt.axis('off')\n",
    "    \n",
    "    plt.subplot(2, 10, i + 11)\n",
    "    plt.imshow(generated_samples[i].reshape(20, 16))\n",
    "    plt.title('Generated')\n",
    "    plt.axis('off')\n",
    "\n",
    "plt.show()"
   ]
  },
  {
   "cell_type": "code",
   "execution_count": 43,
   "metadata": {},
   "outputs": [
    {
     "name": "stdout",
     "output_type": "stream",
     "text": [
      "RBM(n_visible=320, n_hidden=200)\n"
     ]
    }
   ],
   "source": [
    "print(rbm)"
   ]
  },
  {
   "cell_type": "markdown",
   "metadata": {},
   "source": [
    "### 3.2 Implementing a Deep Belief Network (DBN) and test on Binary AlphaDigits"
   ]
  },
  {
   "cell_type": "code",
   "execution_count": 44,
   "metadata": {},
   "outputs": [],
   "source": [
    "class DBN:\n",
    "    def __init__(self, n_visible: int, hidden_layer_sizes: list[int], random_state=None):\n",
    "        \"\"\"\n",
    "        Initialize the Deep Belief Network.\n",
    "\n",
    "        Parameters:\n",
    "        - n_visible (int): Number of visible units.\n",
    "        - hidden_layer_sizes (list[int]): List of sizes for each hidden layer.\n",
    "        - random_state: Random seed for reproducibility.\n",
    "        \"\"\"\n",
    "        self.n_visible = n_visible\n",
    "        self.hidden_layer_sizes = hidden_layer_sizes\n",
    "        self.rbms: List[RBM] = []\n",
    "        self.rng = np.random.default_rng(random_state)\n",
    "\n",
    "        # Initialize the first RBM\n",
    "        first_rbm = RBM(\n",
    "            n_visible=n_visible,\n",
    "            n_hidden=hidden_layer_sizes[0],\n",
    "            random_state=random_state,\n",
    "        )\n",
    "        self.rbms.append(first_rbm)\n",
    "\n",
    "        # Initialize RBMs for subsequent hidden layers\n",
    "        for i, size in enumerate(hidden_layer_sizes[1:], start=1):\n",
    "            rbm = RBM(\n",
    "                n_visible=hidden_layer_sizes[i - 1],\n",
    "                n_hidden=size,\n",
    "                random_state=random_state,\n",
    "            )\n",
    "            self.rbms.append(rbm)\n",
    "\n",
    "\n",
    "    def __getitem__(self, key):\n",
    "        return self.rbms[key]\n",
    "    \n",
    "\n",
    "    def __repr__(self):\n",
    "        \"\"\"\n",
    "        Return a string representation of the DBN object.\n",
    "        \"\"\"\n",
    "        rbm_reprs = [f\"{'':4}{repr(rbm)}\" for rbm in self.rbms]\n",
    "        join_rbm_reprs = ',\\n'.join(rbm_reprs)\n",
    "        return f\"DBN([\\n{join_rbm_reprs}\\n])\"\n",
    "\n",
    "\n",
    "    def train(self,\n",
    "        data: np.ndarray,\n",
    "        learning_rate: float=0.1,\n",
    "        n_epochs: int=10,\n",
    "        batch_size: int=10,\n",
    "        print_each: int=10,\n",
    "    ) -> \"DBN\":\n",
    "        \"\"\"\n",
    "        Train the DBN using Greedy layer-wise procedure.\n",
    "\n",
    "        Parameters:\n",
    "        - data (numpy.ndarray): Input data, shape (n_samples, n_visible).\n",
    "        - learning_rate (float): Learning rate for gradient descent. Default is 0.1.\n",
    "        - n_epochs (int): Number of training epochs. Default is 10.\n",
    "        - batch_size (int): Size of mini-batches. Default is 10.\n",
    "        - print_each: Print reconstruction error each `print_each` epochs.\n",
    "        - verbose\n",
    "\n",
    "        Returns:\n",
    "        - DBN: Trained DBN instance.\n",
    "        \"\"\"\n",
    "        input_data = data\n",
    "        for rbm in self.rbms:\n",
    "            rbm.train(\n",
    "                input_data,\n",
    "                learning_rate=learning_rate,\n",
    "                n_epochs=n_epochs,\n",
    "                batch_size=batch_size,\n",
    "                print_each=print_each,\n",
    "            )\n",
    "            # Update input data for the next RBM\n",
    "            input_data = rbm.input_output(input_data)\n",
    "\n",
    "        return self\n",
    "\n",
    "    def generate_image(self, n_samples: int=1, n_gibbs_steps: int=1) -> np.ndarray:\n",
    "        \"\"\"\n",
    "        Generate samples from the DBN using Gibbs sampling.\n",
    "\n",
    "        Parameters:\n",
    "        - n_samples (int): Number of samples to generate. Default is 1.\n",
    "        - n_gibbs_steps (int): Number of Gibbs sampling steps. Default is 1.\n",
    "\n",
    "        Returns:\n",
    "        - numpy.ndarray: Generated samples, shape (n_samples, n_visible).\n",
    "        \"\"\"\n",
    "        # samples = np.zeros((n_samples, self.n_visible))\n",
    "\n",
    "        # Generate samples using the first RBM in the DBN\n",
    "        samples = self.rbms[-1].generate_image(n_samples, n_gibbs_steps)\n",
    "        for rbm in reversed(self.rbms[:-1]):\n",
    "            # Sample from the conditional probability of layer l-1 given layer l: p(h_{s-1}|h_{s}).\n",
    "            h_probs = rbm.output_input(samples)\n",
    "            h = self.rng.binomial(1, p=h_probs) \n",
    "            samples = h\n",
    "        return samples"
   ]
  },
  {
   "cell_type": "code",
   "execution_count": 45,
   "metadata": {},
   "outputs": [],
   "source": [
    "# from principal_dbn_alpha import DBN"
   ]
  },
  {
   "cell_type": "code",
   "execution_count": 46,
   "metadata": {},
   "outputs": [
    {
     "name": "stderr",
     "output_type": "stream",
     "text": [
      "Epoch 0: 100%|██████████| 4/4 [00:00<00:00, 800.33it/s]\n",
      "Epoch 0: 100%|██████████| 4/4 [00:00<00:00, 333.36it/s]\n"
     ]
    },
    {
     "name": "stdout",
     "output_type": "stream",
     "text": [
      "Reconstruction error: 0.15919.\n"
     ]
    },
    {
     "name": "stderr",
     "output_type": "stream",
     "text": [
      "Epoch 1: 100%|██████████| 4/4 [00:00<00:00, 800.40it/s]\n",
      "Epoch 2: 100%|██████████| 4/4 [00:00<00:00, 800.36it/s]\n",
      "Epoch 3: 100%|██████████| 4/4 [00:00<00:00, 666.58it/s]\n",
      "Epoch 4: 100%|██████████| 4/4 [00:00<00:00, 665.92it/s]\n",
      "Epoch 5: 100%|██████████| 4/4 [00:00<00:00, 667.09it/s]\n",
      "Epoch 6: 100%|██████████| 4/4 [00:00<00:00, 800.29it/s]\n",
      "Epoch 7: 100%|██████████| 4/4 [00:00<00:00, 800.17it/s]\n",
      "Epoch 8: 100%|██████████| 4/4 [00:00<00:00, 800.13it/s]\n",
      "Epoch 9: 100%|██████████| 4/4 [00:00<00:00, 800.17it/s]\n",
      "Epoch 10: 100%|██████████| 4/4 [00:00<00:00, 1000.67it/s]\n",
      "Epoch 1: 100%|██████████| 4/4 [00:00<00:00, 499.90it/s]\n",
      "Epoch 2: 100%|██████████| 4/4 [00:00<00:00, 666.64it/s]\n",
      "Epoch 3: 100%|██████████| 4/4 [00:00<00:00, 666.77it/s]\n",
      "Epoch 4: 100%|██████████| 4/4 [00:00<00:00, 800.25it/s]\n",
      "Epoch 5: 100%|██████████| 4/4 [00:00<00:00, 666.50it/s]\n",
      "Epoch 6: 100%|██████████| 4/4 [00:00<00:00, 666.90it/s]\n",
      "Epoch 7: 100%|██████████| 4/4 [00:00<00:00, 200.01it/s]\n",
      "Epoch 8: 100%|██████████| 4/4 [00:00<00:00, 666.45it/s]\n",
      "Epoch 9: 100%|██████████| 4/4 [00:00<00:00, 666.64it/s]\n",
      "Epoch 10: 100%|██████████| 4/4 [00:00<00:00, 41.66it/s]\n"
     ]
    },
    {
     "name": "stdout",
     "output_type": "stream",
     "text": [
      "Reconstruction error: 0.15141.\n"
     ]
    },
    {
     "name": "stderr",
     "output_type": "stream",
     "text": [
      "Epoch 11: 100%|██████████| 4/4 [00:00<00:00, 800.33it/s]\n",
      "Epoch 12: 100%|██████████| 4/4 [00:00<00:00, 799.56it/s]\n",
      "Epoch 13: 100%|██████████| 4/4 [00:00<00:00, 173.91it/s]\n",
      "Epoch 14: 100%|██████████| 4/4 [00:00<00:00, 444.49it/s]\n",
      "Epoch 15: 100%|██████████| 4/4 [00:00<00:00, 500.13it/s]\n",
      "Epoch 16: 100%|██████████| 4/4 [00:00<00:00, 444.65it/s]\n",
      "Epoch 17: 100%|██████████| 4/4 [00:00<00:00, 571.43it/s]\n",
      "Epoch 18: 100%|██████████| 4/4 [00:00<00:00, 160.00it/s]\n",
      "Epoch 19: 100%|██████████| 4/4 [00:00<00:00, 799.71it/s]\n",
      "Epoch 20: 100%|██████████| 4/4 [00:00<00:00, 571.51it/s]\n"
     ]
    },
    {
     "name": "stdout",
     "output_type": "stream",
     "text": [
      "Reconstruction error: 0.00677.\n"
     ]
    },
    {
     "name": "stderr",
     "output_type": "stream",
     "text": [
      "Epoch 21: 100%|██████████| 4/4 [00:00<00:00, 666.90it/s]\n",
      "Epoch 22: 100%|██████████| 4/4 [00:00<00:00, 800.21it/s]\n",
      "Epoch 23: 100%|██████████| 4/4 [00:00<00:00, 666.90it/s]\n",
      "Epoch 24: 100%|██████████| 4/4 [00:00<00:00, 666.53it/s]\n",
      "Epoch 25: 100%|██████████| 4/4 [00:00<00:00, 666.85it/s]\n",
      "Epoch 26: 100%|██████████| 4/4 [00:00<00:00, 679.57it/s]\n",
      "Epoch 27: 100%|██████████| 4/4 [00:00<00:00, 813.56it/s]\n",
      "Epoch 28: 100%|██████████| 4/4 [00:00<00:00, 641.80it/s]\n",
      "Epoch 29: 100%|██████████| 4/4 [00:00<00:00, 675.30it/s]\n",
      "Epoch 30: 100%|██████████| 4/4 [00:00<00:00, 823.83it/s]\n"
     ]
    },
    {
     "name": "stdout",
     "output_type": "stream",
     "text": [
      "Reconstruction error: 0.09389.\n"
     ]
    },
    {
     "name": "stderr",
     "output_type": "stream",
     "text": [
      "Epoch 31: 100%|██████████| 4/4 [00:00<00:00, 1000.43it/s]\n",
      "Epoch 32: 100%|██████████| 4/4 [00:00<00:00, 1000.91it/s]\n",
      "Epoch 33: 100%|██████████| 4/4 [00:00<00:00, 800.25it/s]\n",
      "Epoch 34: 100%|██████████| 4/4 [00:00<00:00, 1000.25it/s]\n",
      "Epoch 35: 100%|██████████| 4/4 [00:00<00:00, 800.55it/s]\n",
      "Epoch 36: 100%|██████████| 4/4 [00:00<00:00, 1000.73it/s]\n",
      "Epoch 37: 100%|██████████| 4/4 [00:00<00:00, 800.17it/s]\n",
      "Epoch 38: 100%|██████████| 4/4 [00:00<00:00, 1000.37it/s]\n",
      "Epoch 39: 100%|██████████| 4/4 [00:00<00:00, 999.83it/s]\n",
      "Epoch 40: 100%|██████████| 4/4 [00:00<00:00, 999.89it/s]\n"
     ]
    },
    {
     "name": "stdout",
     "output_type": "stream",
     "text": [
      "Reconstruction error: 0.06596.\n"
     ]
    },
    {
     "name": "stderr",
     "output_type": "stream",
     "text": [
      "Epoch 41: 100%|██████████| 4/4 [00:00<00:00, 800.13it/s]\n",
      "Epoch 42: 100%|██████████| 4/4 [00:00<00:00, 999.89it/s]\n",
      "Epoch 43: 100%|██████████| 4/4 [00:00<00:00, 1000.07it/s]\n",
      "Epoch 44: 100%|██████████| 4/4 [00:00<00:00, 800.02it/s]\n",
      "Epoch 45: 100%|██████████| 4/4 [00:00<00:00, 999.42it/s]\n",
      "Epoch 46: 100%|██████████| 4/4 [00:00<00:00, 1000.13it/s]\n",
      "Epoch 47: 100%|██████████| 4/4 [00:00<00:00, 800.29it/s]\n",
      "Epoch 48: 100%|██████████| 4/4 [00:00<00:00, 999.95it/s]\n",
      "Epoch 49: 100%|██████████| 4/4 [00:00<00:00, 114.28it/s]\n",
      "Epoch 50: 100%|██████████| 4/4 [00:00<00:00, 148.15it/s]\n"
     ]
    },
    {
     "name": "stdout",
     "output_type": "stream",
     "text": [
      "Reconstruction error: 0.04872.\n"
     ]
    },
    {
     "name": "stderr",
     "output_type": "stream",
     "text": [
      "Epoch 51: 100%|██████████| 4/4 [00:00<00:00, 666.90it/s]\n",
      "Epoch 52: 100%|██████████| 4/4 [00:00<00:00, 800.33it/s]\n",
      "Epoch 53: 100%|██████████| 4/4 [00:00<00:00, 500.13it/s]\n",
      "Epoch 54: 100%|██████████| 4/4 [00:00<00:00, 799.83it/s]\n",
      "Epoch 55: 100%|██████████| 4/4 [00:00<00:00, 800.52it/s]\n",
      "Epoch 56: 100%|██████████| 4/4 [00:00<00:00, 1000.49it/s]\n",
      "Epoch 57: 100%|██████████| 4/4 [00:00<00:00, 666.82it/s]\n",
      "Epoch 58: 100%|██████████| 4/4 [00:00<00:00, 667.03it/s]\n",
      "Epoch 59: 100%|██████████| 4/4 [00:00<00:00, 799.52it/s]\n",
      "Epoch 60: 100%|██████████| 4/4 [00:00<00:00, 800.36it/s]\n"
     ]
    },
    {
     "name": "stdout",
     "output_type": "stream",
     "text": [
      "Reconstruction error: 0.04716.\n"
     ]
    },
    {
     "name": "stderr",
     "output_type": "stream",
     "text": [
      "Epoch 61: 100%|██████████| 4/4 [00:00<00:00, 1000.91it/s]\n",
      "Epoch 62: 100%|██████████| 4/4 [00:00<00:00, 800.29it/s]\n",
      "Epoch 63: 100%|██████████| 4/4 [00:00<00:00, 1000.19it/s]\n",
      "Epoch 64: 100%|██████████| 4/4 [00:00<00:00, 1000.79it/s]\n",
      "Epoch 65: 100%|██████████| 4/4 [00:00<00:00, 1000.55it/s]\n",
      "Epoch 66: 100%|██████████| 4/4 [00:00<00:00, 1000.37it/s]\n",
      "Epoch 67: 100%|██████████| 4/4 [00:00<00:00, 1000.49it/s]\n",
      "Epoch 68: 100%|██████████| 4/4 [00:00<00:00, 799.94it/s]\n",
      "Epoch 69: 100%|██████████| 4/4 [00:00<00:00, 1000.07it/s]\n",
      "Epoch 70: 100%|██████████| 4/4 [00:00<00:00, 799.94it/s]\n"
     ]
    },
    {
     "name": "stdout",
     "output_type": "stream",
     "text": [
      "Reconstruction error: 0.0338.\n"
     ]
    },
    {
     "name": "stderr",
     "output_type": "stream",
     "text": [
      "Epoch 71: 100%|██████████| 4/4 [00:00<00:00, 1000.43it/s]\n",
      "Epoch 72: 100%|██████████| 4/4 [00:00<00:00, 800.63it/s]\n",
      "Epoch 73: 100%|██████████| 4/4 [00:00<00:00, 800.06it/s]\n",
      "Epoch 74: 100%|██████████| 4/4 [00:00<00:00, 800.21it/s]\n",
      "Epoch 75: 100%|██████████| 4/4 [00:00<00:00, 799.79it/s]\n",
      "Epoch 76: 100%|██████████| 4/4 [00:00<00:00, 800.29it/s]\n",
      "Epoch 77: 100%|██████████| 4/4 [00:00<00:00, 1000.49it/s]\n",
      "Epoch 78: 100%|██████████| 4/4 [00:00<00:00, 999.30it/s]\n",
      "Epoch 79: 100%|██████████| 4/4 [00:00<00:00, 800.02it/s]\n",
      "Epoch 80: 100%|██████████| 4/4 [00:00<00:00, 666.71it/s]\n"
     ]
    },
    {
     "name": "stdout",
     "output_type": "stream",
     "text": [
      "Reconstruction error: 0.0301.\n"
     ]
    },
    {
     "name": "stderr",
     "output_type": "stream",
     "text": [
      "Epoch 81: 100%|██████████| 4/4 [00:00<00:00, 800.10it/s]\n",
      "Epoch 82: 100%|██████████| 4/4 [00:00<00:00, 800.13it/s]\n",
      "Epoch 83: 100%|██████████| 4/4 [00:00<00:00, 1001.27it/s]\n",
      "Epoch 84: 100%|██████████| 4/4 [00:00<00:00, 800.63it/s]\n",
      "Epoch 85: 100%|██████████| 4/4 [00:00<00:00, 800.59it/s]\n",
      "Epoch 86: 100%|██████████| 4/4 [00:00<00:00, 1000.13it/s]\n",
      "Epoch 87: 100%|██████████| 4/4 [00:00<00:00, 800.25it/s]\n",
      "Epoch 88: 100%|██████████| 4/4 [00:00<00:00, 799.98it/s]\n",
      "Epoch 89: 100%|██████████| 4/4 [00:00<00:00, 999.60it/s]\n",
      "Epoch 90: 100%|██████████| 4/4 [00:00<00:00, 799.75it/s]\n"
     ]
    },
    {
     "name": "stdout",
     "output_type": "stream",
     "text": [
      "Reconstruction error: 0.02988.\n"
     ]
    },
    {
     "name": "stderr",
     "output_type": "stream",
     "text": [
      "Epoch 91: 100%|██████████| 4/4 [00:00<00:00, 666.50it/s]\n",
      "Epoch 92: 100%|██████████| 4/4 [00:00<00:00, 799.94it/s]\n",
      "Epoch 93: 100%|██████████| 4/4 [00:00<00:00, 666.95it/s]\n",
      "Epoch 94: 100%|██████████| 4/4 [00:00<00:00, 800.10it/s]\n",
      "Epoch 95: 100%|██████████| 4/4 [00:00<00:00, 800.36it/s]\n",
      "Epoch 96: 100%|██████████| 4/4 [00:00<00:00, 801.13it/s]\n",
      "Epoch 97: 100%|██████████| 4/4 [00:00<00:00, 667.09it/s]\n",
      "Epoch 98: 100%|██████████| 4/4 [00:00<00:00, 571.45it/s]\n",
      "Epoch 99: 100%|██████████| 4/4 [00:00<00:00, 666.90it/s]\n",
      "Epoch 0: 100%|██████████| 4/4 [00:00<00:00, 3998.38it/s]\n"
     ]
    },
    {
     "name": "stdout",
     "output_type": "stream",
     "text": [
      "Reconstruction error: 0.18585.\n"
     ]
    },
    {
     "name": "stderr",
     "output_type": "stream",
     "text": [
      "Epoch 1: 100%|██████████| 4/4 [00:00<00:00, 4010.81it/s]\n",
      "Epoch 2: 100%|██████████| 4/4 [00:00<00:00, 1999.19it/s]\n",
      "Epoch 3: 100%|██████████| 4/4 [00:00<00:00, 4003.15it/s]\n",
      "Epoch 4: 100%|██████████| 4/4 [00:00<00:00, 4019.46it/s]\n",
      "Epoch 5: 100%|██████████| 4/4 [00:00<00:00, 2000.62it/s]\n",
      "Epoch 6: 100%|██████████| 4/4 [00:00<00:00, 3996.48it/s]\n",
      "Epoch 7: 100%|██████████| 4/4 [00:00<00:00, 4006.98it/s]\n",
      "Epoch 8: 100%|██████████| 4/4 [00:00<00:00, 1332.58it/s]\n",
      "Epoch 9: 100%|██████████| 4/4 [00:00<00:00, 1999.19it/s]\n",
      "Epoch 10: 100%|██████████| 4/4 [00:00<00:00, 3997.43it/s]\n"
     ]
    },
    {
     "name": "stdout",
     "output_type": "stream",
     "text": [
      "Reconstruction error: 0.18626.\n"
     ]
    },
    {
     "name": "stderr",
     "output_type": "stream",
     "text": [
      "Epoch 11: 100%|██████████| 4/4 [00:00<00:00, 1998.48it/s]\n",
      "Epoch 12: 100%|██████████| 4/4 [00:00<00:00, 2000.14it/s]\n",
      "Epoch 13: 100%|██████████| 4/4 [00:00<00:00, 4008.89it/s]\n",
      "Epoch 14: 100%|██████████| 4/4 [00:00<00:00, 2000.86it/s]\n",
      "Epoch 15: 100%|██████████| 4/4 [00:00<00:00, 1999.19it/s]\n",
      "Epoch 16: 100%|██████████| 4/4 [00:00<00:00, 2003.49it/s]\n",
      "Epoch 17: 100%|██████████| 4/4 [00:00<00:00, 3989.83it/s]\n",
      "Epoch 18: 100%|██████████| 4/4 [00:00<00:00, 1333.01it/s]\n",
      "Epoch 19: 100%|██████████| 4/4 [00:00<00:00, 4000.29it/s]\n",
      "Epoch 20: 100%|██████████| 4/4 [00:00<00:00, 3994.58it/s]\n"
     ]
    },
    {
     "name": "stdout",
     "output_type": "stream",
     "text": [
      "Reconstruction error: 0.14539.\n"
     ]
    },
    {
     "name": "stderr",
     "output_type": "stream",
     "text": [
      "Epoch 21: 100%|██████████| 4/4 [00:00<00:00, 1994.91it/s]\n",
      "Epoch 22: 100%|██████████| 4/4 [00:00<00:00, 1999.43it/s]\n",
      "Epoch 23: 100%|██████████| 4/4 [00:00<00:00, 3997.43it/s]\n",
      "Epoch 24: 100%|██████████| 4/4 [00:00<00:00, 3991.72it/s]\n",
      "Epoch 25: 100%|██████████| 4/4 [00:00<00:00, 3992.67it/s]\n",
      "Epoch 26: 100%|██████████| 4/4 [00:00<00:00, 3992.67it/s]\n",
      "Epoch 27: 100%|██████████| 4/4 [00:00<00:00, 2002.05it/s]\n",
      "Epoch 28: 100%|██████████| 4/4 [00:00<00:00, 3998.38it/s]\n",
      "Epoch 29: 100%|██████████| 4/4 [00:00<00:00, 4017.53it/s]\n",
      "Epoch 30: 100%|██████████| 4/4 [00:00<00:00, 2001.82it/s]\n"
     ]
    },
    {
     "name": "stdout",
     "output_type": "stream",
     "text": [
      "Reconstruction error: 0.12597.\n"
     ]
    },
    {
     "name": "stderr",
     "output_type": "stream",
     "text": [
      "Epoch 31: 100%|██████████| 4/4 [00:00<00:00, 1999.19it/s]\n",
      "Epoch 32: 100%|██████████| 4/4 [00:00<00:00, 4013.69it/s]\n",
      "Epoch 33: 100%|██████████| 4/4 [00:00<00:00, 1999.91it/s]\n",
      "Epoch 34: 100%|██████████| 4/4 [00:00<00:00, 4006.02it/s]\n",
      "Epoch 35: 100%|██████████| 4/4 [00:00<00:00, 4005.06it/s]\n",
      "Epoch 36: 100%|██████████| 4/4 [00:00<?, ?it/s]\n",
      "Epoch 37: 100%|██████████| 4/4 [00:00<00:00, 1999.43it/s]\n",
      "Epoch 38: 100%|██████████| 4/4 [00:00<00:00, 4001.24it/s]\n",
      "Epoch 39: 100%|██████████| 4/4 [00:00<00:00, 1999.43it/s]\n",
      "Epoch 40: 100%|██████████| 4/4 [00:00<00:00, 4006.98it/s]\n"
     ]
    },
    {
     "name": "stdout",
     "output_type": "stream",
     "text": [
      "Reconstruction error: 0.06908.\n"
     ]
    },
    {
     "name": "stderr",
     "output_type": "stream",
     "text": [
      "Epoch 41: 100%|██████████| 4/4 [00:00<00:00, 4004.11it/s]\n",
      "Epoch 42: 100%|██████████| 4/4 [00:00<00:00, 4012.73it/s]\n",
      "Epoch 43: 100%|██████████| 4/4 [00:00<00:00, 4010.81it/s]\n",
      "Epoch 44: 100%|██████████| 4/4 [00:00<00:00, 3991.72it/s]\n",
      "Epoch 45: 100%|██████████| 4/4 [00:00<00:00, 4010.81it/s]\n",
      "Epoch 46: 100%|██████████| 4/4 [00:00<00:00, 4008.89it/s]\n",
      "Epoch 47: 100%|██████████| 4/4 [00:00<00:00, 4007.94it/s]\n",
      "Epoch 48: 100%|██████████| 4/4 [00:00<00:00, 4004.11it/s]\n",
      "Epoch 49: 100%|██████████| 4/4 [00:00<?, ?it/s]\n",
      "Epoch 50: 100%|██████████| 4/4 [00:00<00:00, 1988.76it/s]\n"
     ]
    },
    {
     "name": "stdout",
     "output_type": "stream",
     "text": [
      "Reconstruction error: 0.06762.\n"
     ]
    },
    {
     "name": "stderr",
     "output_type": "stream",
     "text": [
      "Epoch 51: 100%|██████████| 4/4 [00:00<00:00, 2003.97it/s]\n",
      "Epoch 52: 100%|██████████| 4/4 [00:00<00:00, 2001.82it/s]\n",
      "Epoch 53: 100%|██████████| 4/4 [00:00<00:00, 3997.43it/s]\n",
      "Epoch 54: 100%|██████████| 4/4 [00:00<00:00, 4006.02it/s]\n",
      "Epoch 55: 100%|██████████| 4/4 [00:00<00:00, 4003.15it/s]\n",
      "Epoch 56: 100%|██████████| 4/4 [00:00<00:00, 3998.38it/s]\n",
      "Epoch 57: 100%|██████████| 4/4 [00:00<00:00, 3996.48it/s]\n",
      "Epoch 58: 100%|██████████| 4/4 [00:00<00:00, 4012.73it/s]\n",
      "Epoch 59: 100%|██████████| 4/4 [00:00<00:00, 4013.69it/s]\n",
      "Epoch 60: 100%|██████████| 4/4 [00:00<00:00, 4004.11it/s]\n"
     ]
    },
    {
     "name": "stdout",
     "output_type": "stream",
     "text": [
      "Reconstruction error: 0.05607.\n"
     ]
    },
    {
     "name": "stderr",
     "output_type": "stream",
     "text": [
      "Epoch 61: 100%|██████████| 4/4 [00:00<00:00, 2003.25it/s]\n",
      "Epoch 62: 100%|██████████| 4/4 [00:00<00:00, 4005.06it/s]\n",
      "Epoch 63: 100%|██████████| 4/4 [00:00<00:00, 4002.20it/s]\n",
      "Epoch 64: 100%|██████████| 4/4 [00:00<00:00, 1997.53it/s]\n",
      "Epoch 65: 100%|██████████| 4/4 [00:00<00:00, 4008.89it/s]\n",
      "Epoch 66: 100%|██████████| 4/4 [00:00<00:00, 1998.95it/s]\n",
      "Epoch 67: 100%|██████████| 4/4 [00:00<00:00, 4005.06it/s]\n",
      "Epoch 68: 100%|██████████| 4/4 [00:00<00:00, 1999.67it/s]\n",
      "Epoch 69: 100%|██████████| 4/4 [00:00<00:00, 4010.81it/s]\n",
      "Epoch 70: 100%|██████████| 4/4 [00:00<00:00, 4006.98it/s]\n"
     ]
    },
    {
     "name": "stdout",
     "output_type": "stream",
     "text": [
      "Reconstruction error: 0.05833.\n"
     ]
    },
    {
     "name": "stderr",
     "output_type": "stream",
     "text": [
      "Epoch 71: 100%|██████████| 4/4 [00:00<00:00, 4006.98it/s]\n",
      "Epoch 72: 100%|██████████| 4/4 [00:00<00:00, 2003.01it/s]\n",
      "Epoch 73: 100%|██████████| 4/4 [00:00<?, ?it/s]\n",
      "Epoch 74: 100%|██████████| 4/4 [00:00<00:00, 4009.85it/s]\n",
      "Epoch 75: 100%|██████████| 4/4 [00:00<00:00, 2002.53it/s]\n",
      "Epoch 76: 100%|██████████| 4/4 [00:00<00:00, 3994.58it/s]\n",
      "Epoch 77: 100%|██████████| 4/4 [00:00<00:00, 4005.06it/s]\n",
      "Epoch 78: 100%|██████████| 4/4 [00:00<00:00, 3986.98it/s]\n",
      "Epoch 79: 100%|██████████| 4/4 [00:00<00:00, 4006.98it/s]\n",
      "Epoch 80: 100%|██████████| 4/4 [00:00<00:00, 4006.02it/s]\n"
     ]
    },
    {
     "name": "stdout",
     "output_type": "stream",
     "text": [
      "Reconstruction error: 0.04983.\n"
     ]
    },
    {
     "name": "stderr",
     "output_type": "stream",
     "text": [
      "Epoch 81: 100%|██████████| 4/4 [00:00<00:00, 4004.11it/s]\n",
      "Epoch 82: 100%|██████████| 4/4 [00:00<00:00, 4004.11it/s]\n",
      "Epoch 83: 100%|██████████| 4/4 [00:00<00:00, 1998.48it/s]\n",
      "Epoch 84: 100%|██████████| 4/4 [00:00<00:00, 4004.11it/s]\n",
      "Epoch 85: 100%|██████████| 4/4 [00:00<00:00, 4001.24it/s]\n",
      "Epoch 86: 100%|██████████| 4/4 [00:00<?, ?it/s]\n",
      "Epoch 87: 100%|██████████| 4/4 [00:00<00:00, 4010.81it/s]\n",
      "Epoch 88: 100%|██████████| 4/4 [00:00<00:00, 3997.43it/s]\n",
      "Epoch 89: 100%|██████████| 4/4 [00:00<00:00, 4004.11it/s]\n",
      "Epoch 90: 100%|██████████| 4/4 [00:00<00:00, 4008.89it/s]\n"
     ]
    },
    {
     "name": "stdout",
     "output_type": "stream",
     "text": [
      "Reconstruction error: 0.03574.\n"
     ]
    },
    {
     "name": "stderr",
     "output_type": "stream",
     "text": [
      "Epoch 91: 100%|██████████| 4/4 [00:00<00:00, 4006.02it/s]\n",
      "Epoch 92: 100%|██████████| 4/4 [00:00<00:00, 4006.02it/s]\n",
      "Epoch 93: 100%|██████████| 4/4 [00:00<00:00, 3996.48it/s]\n",
      "Epoch 94: 100%|██████████| 4/4 [00:00<00:00, 4007.94it/s]\n",
      "Epoch 95: 100%|██████████| 4/4 [00:00<00:00, 3992.67it/s]\n",
      "Epoch 96: 100%|██████████| 4/4 [00:00<00:00, 4007.94it/s]\n",
      "Epoch 97: 100%|██████████| 4/4 [00:00<00:00, 3995.53it/s]\n",
      "Epoch 98: 100%|██████████| 4/4 [00:00<00:00, 4002.20it/s]\n",
      "Epoch 99: 100%|██████████| 4/4 [00:00<00:00, 3999.34it/s]\n",
      "Epoch 0: 100%|██████████| 4/4 [00:00<00:00, 2002.77it/s]\n"
     ]
    },
    {
     "name": "stdout",
     "output_type": "stream",
     "text": [
      "Reconstruction error: 0.19389.\n"
     ]
    },
    {
     "name": "stderr",
     "output_type": "stream",
     "text": [
      "Epoch 1: 100%|██████████| 4/4 [00:00<00:00, 4001.24it/s]\n",
      "Epoch 2: 100%|██████████| 4/4 [00:00<00:00, 3995.53it/s]\n",
      "Epoch 3: 100%|██████████| 4/4 [00:00<00:00, 2000.38it/s]\n",
      "Epoch 4: 100%|██████████| 4/4 [00:00<00:00, 1998.95it/s]\n",
      "Epoch 5: 100%|██████████| 4/4 [00:00<00:00, 3994.58it/s]\n",
      "Epoch 6: 100%|██████████| 4/4 [00:00<00:00, 2000.86it/s]\n",
      "Epoch 7: 100%|██████████| 4/4 [00:00<00:00, 3995.53it/s]\n",
      "Epoch 8: 100%|██████████| 4/4 [00:00<00:00, 1999.67it/s]\n",
      "Epoch 9: 100%|██████████| 4/4 [00:00<00:00, 4004.11it/s]\n",
      "Epoch 10: 100%|██████████| 4/4 [00:00<00:00, 3986.03it/s]\n"
     ]
    },
    {
     "name": "stdout",
     "output_type": "stream",
     "text": [
      "Reconstruction error: 0.16058.\n"
     ]
    },
    {
     "name": "stderr",
     "output_type": "stream",
     "text": [
      "Epoch 11: 100%|██████████| 4/4 [00:00<00:00, 3998.38it/s]\n",
      "Epoch 12: 100%|██████████| 4/4 [00:00<00:00, 2002.05it/s]\n",
      "Epoch 13: 100%|██████████| 4/4 [00:00<00:00, 3992.67it/s]\n",
      "Epoch 14: 100%|██████████| 4/4 [00:00<00:00, 3783.77it/s]\n",
      "Epoch 15: 100%|██████████| 4/4 [00:00<00:00, 3719.18it/s]\n",
      "Epoch 16: 100%|██████████| 4/4 [00:00<00:00, 2543.93it/s]\n",
      "Epoch 17: 100%|██████████| 4/4 [00:00<00:00, 3766.78it/s]\n",
      "Epoch 18: 100%|██████████| 4/4 [00:00<00:00, 3796.61it/s]\n",
      "Epoch 19: 100%|██████████| 4/4 [00:00<00:00, 3777.80it/s]\n",
      "Epoch 20: 100%|██████████| 4/4 [00:00<00:00, 3706.03it/s]\n"
     ]
    },
    {
     "name": "stdout",
     "output_type": "stream",
     "text": [
      "Reconstruction error: 0.16428.\n"
     ]
    },
    {
     "name": "stderr",
     "output_type": "stream",
     "text": [
      "Epoch 21: 100%|██████████| 4/4 [00:00<00:00, 3131.83it/s]\n",
      "Epoch 22: 100%|██████████| 4/4 [00:00<00:00, 3765.08it/s]\n",
      "Epoch 23: 100%|██████████| 4/4 [00:00<00:00, 2505.93it/s]\n",
      "Epoch 24: 100%|██████████| 4/4 [00:00<00:00, 7598.38it/s]\n",
      "Epoch 25: 100%|██████████| 4/4 [00:00<00:00, 3844.46it/s]\n",
      "Epoch 26: 100%|██████████| 4/4 [00:00<00:00, 7577.79it/s]\n",
      "Epoch 27: 100%|██████████| 4/4 [00:00<00:00, 3680.83it/s]\n",
      "Epoch 28: 100%|██████████| 4/4 [00:00<00:00, 3864.83it/s]\n",
      "Epoch 29: 100%|██████████| 4/4 [00:00<00:00, 2491.79it/s]\n",
      "Epoch 30: 100%|██████████| 4/4 [00:00<00:00, 3793.18it/s]\n"
     ]
    },
    {
     "name": "stdout",
     "output_type": "stream",
     "text": [
      "Reconstruction error: 0.10566.\n"
     ]
    },
    {
     "name": "stderr",
     "output_type": "stream",
     "text": [
      "Epoch 31: 100%|██████████| 4/4 [00:00<00:00, 7127.11it/s]\n",
      "Epoch 32: 100%|██████████| 4/4 [00:00<00:00, 7664.33it/s]\n",
      "Epoch 33: 100%|██████████| 4/4 [00:00<00:00, 3781.21it/s]\n",
      "Epoch 34: 100%|██████████| 4/4 [00:00<00:00, 3718.35it/s]\n",
      "Epoch 35: 100%|██████████| 4/4 [00:00<00:00, 7703.04it/s]\n",
      "Epoch 36: 100%|██████████| 4/4 [00:00<00:00, 7564.12it/s]\n",
      "Epoch 37: 100%|██████████| 4/4 [00:00<00:00, 7667.83it/s]\n",
      "Epoch 38: 100%|██████████| 4/4 [00:00<00:00, 7294.44it/s]\n",
      "Epoch 39: 100%|██████████| 4/4 [00:00<00:00, 7636.42it/s]\n",
      "Epoch 40: 100%|██████████| 4/4 [00:00<00:00, 7588.07it/s]\n"
     ]
    },
    {
     "name": "stdout",
     "output_type": "stream",
     "text": [
      "Reconstruction error: 0.07513.\n"
     ]
    },
    {
     "name": "stderr",
     "output_type": "stream",
     "text": [
      "Epoch 41: 100%|██████████| 4/4 [00:00<00:00, 2487.36it/s]\n",
      "Epoch 42: 100%|██████████| 4/4 [00:00<00:00, 7499.87it/s]\n",
      "Epoch 43: 100%|██████████| 4/4 [00:00<00:00, 4002.20it/s]\n",
      "Epoch 44: 100%|██████████| 4/4 [00:00<00:00, 3991.72it/s]\n",
      "Epoch 45: 100%|██████████| 4/4 [00:00<00:00, 4005.06it/s]\n",
      "Epoch 46: 100%|██████████| 4/4 [00:00<00:00, 3995.53it/s]\n",
      "Epoch 47: 100%|██████████| 4/4 [00:00<00:00, 3997.43it/s]\n",
      "Epoch 48: 100%|██████████| 4/4 [00:00<00:00, 3993.62it/s]\n",
      "Epoch 49: 100%|██████████| 4/4 [00:00<00:00, 4018.49it/s]\n",
      "Epoch 50: 100%|██████████| 4/4 [00:00<00:00, 1999.19it/s]\n"
     ]
    },
    {
     "name": "stdout",
     "output_type": "stream",
     "text": [
      "Reconstruction error: 0.06661.\n"
     ]
    },
    {
     "name": "stderr",
     "output_type": "stream",
     "text": [
      "Epoch 51: 100%|██████████| 4/4 [00:00<00:00, 3998.38it/s]\n",
      "Epoch 52: 100%|██████████| 4/4 [00:00<00:00, 4007.94it/s]\n",
      "Epoch 53: 100%|██████████| 4/4 [00:00<00:00, 1998.48it/s]\n",
      "Epoch 54: 100%|██████████| 4/4 [00:00<00:00, 4003.15it/s]\n",
      "Epoch 55: 100%|██████████| 4/4 [00:00<00:00, 4004.11it/s]\n",
      "Epoch 56: 100%|██████████| 4/4 [00:00<00:00, 4013.69it/s]\n",
      "Epoch 57: 100%|██████████| 4/4 [00:00<00:00, 4000.29it/s]\n",
      "Epoch 58: 100%|██████████| 4/4 [00:00<00:00, 4028.14it/s]\n",
      "Epoch 59: 100%|██████████| 4/4 [00:00<00:00, 3996.48it/s]\n",
      "Epoch 60: 100%|██████████| 4/4 [00:00<00:00, 4006.02it/s]\n"
     ]
    },
    {
     "name": "stdout",
     "output_type": "stream",
     "text": [
      "Reconstruction error: 0.06512.\n"
     ]
    },
    {
     "name": "stderr",
     "output_type": "stream",
     "text": [
      "Epoch 61: 100%|██████████| 4/4 [00:00<00:00, 4006.98it/s]\n",
      "Epoch 62: 100%|██████████| 4/4 [00:00<00:00, 4000.29it/s]\n",
      "Epoch 63: 100%|██████████| 4/4 [00:00<00:00, 1999.91it/s]\n",
      "Epoch 64: 100%|██████████| 4/4 [00:00<00:00, 2003.73it/s]\n",
      "Epoch 65: 100%|██████████| 4/4 [00:00<00:00, 1997.53it/s]\n",
      "Epoch 66: 100%|██████████| 4/4 [00:00<00:00, 4000.29it/s]\n",
      "Epoch 67: 100%|██████████| 4/4 [00:00<00:00, 1998.00it/s]\n",
      "Epoch 68: 100%|██████████| 4/4 [00:00<00:00, 2001.34it/s]\n",
      "Epoch 69: 100%|██████████| 4/4 [00:00<00:00, 4002.20it/s]\n",
      "Epoch 70: 100%|██████████| 4/4 [00:00<00:00, 4008.89it/s]\n"
     ]
    },
    {
     "name": "stdout",
     "output_type": "stream",
     "text": [
      "Reconstruction error: 0.07139.\n"
     ]
    },
    {
     "name": "stderr",
     "output_type": "stream",
     "text": [
      "Epoch 71: 100%|██████████| 4/4 [00:00<00:00, 1332.37it/s]\n",
      "Epoch 72: 100%|██████████| 4/4 [00:00<00:00, 571.39it/s]\n",
      "Epoch 73: 100%|██████████| 4/4 [00:00<00:00, 2001.10it/s]\n",
      "Epoch 74: 100%|██████████| 4/4 [00:00<00:00, 4006.02it/s]\n",
      "Epoch 75: 100%|██████████| 4/4 [00:00<00:00, 1995.86it/s]\n",
      "Epoch 76: 100%|██████████| 4/4 [00:00<00:00, 3994.58it/s]\n",
      "Epoch 77: 100%|██████████| 4/4 [00:00<00:00, 4006.98it/s]\n",
      "Epoch 78: 100%|██████████| 4/4 [00:00<00:00, 2001.82it/s]\n",
      "Epoch 79: 100%|██████████| 4/4 [00:00<00:00, 2000.38it/s]\n",
      "Epoch 80: 100%|██████████| 4/4 [00:00<00:00, 2002.53it/s]\n"
     ]
    },
    {
     "name": "stdout",
     "output_type": "stream",
     "text": [
      "Reconstruction error: 0.05689.\n"
     ]
    },
    {
     "name": "stderr",
     "output_type": "stream",
     "text": [
      "Epoch 81: 100%|██████████| 4/4 [00:00<00:00, 2002.29it/s]\n",
      "Epoch 82: 100%|██████████| 4/4 [00:00<00:00, 4006.02it/s]\n",
      "Epoch 83: 100%|██████████| 4/4 [00:00<00:00, 3997.43it/s]\n",
      "Epoch 84: 100%|██████████| 4/4 [00:00<00:00, 2002.29it/s]\n",
      "Epoch 85: 100%|██████████| 4/4 [00:00<00:00, 4003.15it/s]\n",
      "Epoch 86: 100%|██████████| 4/4 [00:00<00:00, 4008.89it/s]\n",
      "Epoch 87: 100%|██████████| 4/4 [00:00<00:00, 4007.94it/s]\n",
      "Epoch 88: 100%|██████████| 4/4 [00:00<00:00, 4001.24it/s]\n",
      "Epoch 89: 100%|██████████| 4/4 [00:00<00:00, 4004.11it/s]\n",
      "Epoch 90: 100%|██████████| 4/4 [00:00<00:00, 1999.91it/s]\n"
     ]
    },
    {
     "name": "stdout",
     "output_type": "stream",
     "text": [
      "Reconstruction error: 0.05546.\n"
     ]
    },
    {
     "name": "stderr",
     "output_type": "stream",
     "text": [
      "Epoch 91: 100%|██████████| 4/4 [00:00<00:00, 4008.89it/s]\n",
      "Epoch 92: 100%|██████████| 4/4 [00:00<00:00, 2000.86it/s]\n",
      "Epoch 93: 100%|██████████| 4/4 [00:00<00:00, 1996.57it/s]\n",
      "Epoch 94: 100%|██████████| 4/4 [00:00<00:00, 3999.34it/s]\n",
      "Epoch 95: 100%|██████████| 4/4 [00:00<00:00, 2000.14it/s]\n",
      "Epoch 96: 100%|██████████| 4/4 [00:00<00:00, 4001.24it/s]\n",
      "Epoch 97: 100%|██████████| 4/4 [00:00<00:00, 3995.53it/s]\n",
      "Epoch 98: 100%|██████████| 4/4 [00:00<00:00, 2003.01it/s]\n",
      "Epoch 99: 100%|██████████| 4/4 [00:00<00:00, 4002.20it/s]\n"
     ]
    },
    {
     "data": {
      "application/vnd.code.notebook.error": {
       "message": "INVALID mime type: execution_count. Must be in the format \"type/subtype[;optionalparameter]\"",
       "name": "Error",
       "stack": "Error: INVALID mime type: execution_count. Must be in the format \"type/subtype[;optionalparameter]\"\n    at new en (d:\\Users\\Yedidia AGNIMO\\AppData\\Local\\Programs\\Microsoft VS Code\\resources\\app\\out\\vs\\workbench\\api\\node\\extensionHostProcess.js:151:47064)\n    at Function.text (d:\\Users\\Yedidia AGNIMO\\AppData\\Local\\Programs\\Microsoft VS Code\\resources\\app\\out\\vs\\workbench\\api\\node\\extensionHostProcess.js:151:46876)\n    at u (d:\\Users\\Yedidia AGNIMO\\AppData\\Local\\Programs\\Microsoft VS Code\\resources\\app\\extensions\\ipynb\\dist\\ipynbMain.js:1:140430)\n    at m (d:\\Users\\Yedidia AGNIMO\\AppData\\Local\\Programs\\Microsoft VS Code\\resources\\app\\extensions\\ipynb\\dist\\ipynbMain.js:1:141640)\n    at h (d:\\Users\\Yedidia AGNIMO\\AppData\\Local\\Programs\\Microsoft VS Code\\resources\\app\\extensions\\ipynb\\dist\\ipynbMain.js:1:142395)\n    at Array.map (<anonymous>)\n    at d:\\Users\\Yedidia AGNIMO\\AppData\\Local\\Programs\\Microsoft VS Code\\resources\\app\\extensions\\ipynb\\dist\\ipynbMain.js:1:138700\n    at d:\\Users\\Yedidia AGNIMO\\AppData\\Local\\Programs\\Microsoft VS Code\\resources\\app\\extensions\\ipynb\\dist\\ipynbMain.js:1:139017\n    at d:\\Users\\Yedidia AGNIMO\\AppData\\Local\\Programs\\Microsoft VS Code\\resources\\app\\extensions\\ipynb\\dist\\ipynbMain.js:1:139024\n    at Array.map (<anonymous>)\n    at e.jupyterNotebookModelToNotebookData (d:\\Users\\Yedidia AGNIMO\\AppData\\Local\\Programs\\Microsoft VS Code\\resources\\app\\extensions\\ipynb\\dist\\ipynbMain.js:1:138276)\n    at e.NotebookSerializer.deserializeNotebook (d:\\Users\\Yedidia AGNIMO\\AppData\\Local\\Programs\\Microsoft VS Code\\resources\\app\\extensions\\ipynb\\dist\\ipynbMain.js:1:159443)\n    at r.$dataToNotebook (d:\\Users\\Yedidia AGNIMO\\AppData\\Local\\Programs\\Microsoft VS Code\\resources\\app\\out\\vs\\workbench\\api\\node\\extensionHostProcess.js:158:4459)\n    at c.S (d:\\Users\\Yedidia AGNIMO\\AppData\\Local\\Programs\\Microsoft VS Code\\resources\\app\\out\\vs\\workbench\\api\\node\\extensionHostProcess.js:150:5505)\n    at c.Q (d:\\Users\\Yedidia AGNIMO\\AppData\\Local\\Programs\\Microsoft VS Code\\resources\\app\\out\\vs\\workbench\\api\\node\\extensionHostProcess.js:150:5271)\n    at c.M (d:\\Users\\Yedidia AGNIMO\\AppData\\Local\\Programs\\Microsoft VS Code\\resources\\app\\out\\vs\\workbench\\api\\node\\extensionHostProcess.js:150:4323)\n    at c.L (d:\\Users\\Yedidia AGNIMO\\AppData\\Local\\Programs\\Microsoft VS Code\\resources\\app\\out\\vs\\workbench\\api\\node\\extensionHostProcess.js:150:3579)\n    at a.value (d:\\Users\\Yedidia AGNIMO\\AppData\\Local\\Programs\\Microsoft VS Code\\resources\\app\\out\\vs\\workbench\\api\\node\\extensionHostProcess.js:150:2227)\n    at o.y (d:\\Users\\Yedidia AGNIMO\\AppData\\Local\\Programs\\Microsoft VS Code\\resources\\app\\out\\vs\\workbench\\api\\node\\extensionHostProcess.js:82:660)\n    at o.fire (d:\\Users\\Yedidia AGNIMO\\AppData\\Local\\Programs\\Microsoft VS Code\\resources\\app\\out\\vs\\workbench\\api\\node\\extensionHostProcess.js:82:877)\n    at u.fire (d:\\Users\\Yedidia AGNIMO\\AppData\\Local\\Programs\\Microsoft VS Code\\resources\\app\\out\\vs\\workbench\\api\\node\\extensionHostProcess.js:107:14175)\n    at a.value (d:\\Users\\Yedidia AGNIMO\\AppData\\Local\\Programs\\Microsoft VS Code\\resources\\app\\out\\vs\\workbench\\api\\node\\extensionHostProcess.js:176:8023)\n    at o.y (d:\\Users\\Yedidia AGNIMO\\AppData\\Local\\Programs\\Microsoft VS Code\\resources\\app\\out\\vs\\workbench\\api\\node\\extensionHostProcess.js:82:660)\n    at o.fire (d:\\Users\\Yedidia AGNIMO\\AppData\\Local\\Programs\\Microsoft VS Code\\resources\\app\\out\\vs\\workbench\\api\\node\\extensionHostProcess.js:82:877)\n    at u.fire (d:\\Users\\Yedidia AGNIMO\\AppData\\Local\\Programs\\Microsoft VS Code\\resources\\app\\out\\vs\\workbench\\api\\node\\extensionHostProcess.js:107:14175)\n    at MessagePortMain.<anonymous> (d:\\Users\\Yedidia AGNIMO\\AppData\\Local\\Programs\\Microsoft VS Code\\resources\\app\\out\\vs\\workbench\\api\\node\\extensionHostProcess.js:176:6303)\n    at MessagePortMain.emit (node:events:517:28)\n    at Object.MessagePortMain._internalPort.emit (node:electron/js2c/utility_init:2:2285)"
      },
      "text/plain": [
       "DBN([\n",
       "    RBM(n_visible=320, n_hidden=100),\n",
       "    RBM(n_visible=100, n_hidden=50),\n",
       "    RBM(n_visible=50, n_hidden=25)\n",
       "])"
      ]
     },
     "metadata": {},
     "output_type": "display_data"
    }
   ],
   "source": [
    "n_visible=data.shape[1]\n",
    "hidden_layer_sizes = [100, 50, 25]\n",
    "\n",
    "dbn = DBN(n_visible=n_visible, hidden_layer_sizes=hidden_layer_sizes, random_state=42)\n",
    "dbn.train(data, learning_rate=0.1, n_epochs=100, batch_size=10)"
   ]
  },
  {
   "cell_type": "code",
   "execution_count": 47,
   "metadata": {},
   "outputs": [
    {
     "name": "stdout",
     "output_type": "stream",
     "text": [
      "[RBM(n_visible=100, n_hidden=50), RBM(n_visible=50, n_hidden=25)]\n"
     ]
    }
   ],
   "source": [
    "# Check if the RBM are accessibles via a slicing \n",
    "print(dbn[1:3])"
   ]
  },
  {
   "cell_type": "code",
   "execution_count": 48,
   "metadata": {},
   "outputs": [
    {
     "data": {
      "image/png": "[encoded data removed]",
      "text/plain": [
       "<Figure size 1200x400 with 5 Axes>"
      ]
     },
     "metadata": {},
     "output_type": "display_data"
    }
   ],
   "source": [
    "# # Generate images\n",
    "generated_images = dbn.generate_image(n_samples=5, n_gibbs_steps=1)\n",
    "\n",
    "# Display generated images\n",
    "fig, axes = plt.subplots(nrows=1, ncols=5, figsize=(12, 4))\n",
    "for i in range(5):\n",
    "    axes[i].imshow(generated_images[i].reshape(20, 16), cmap='gray')\n",
    "    axes[i].set_title(f\"Image {i+1}\")\n",
    "    axes[i].axis('off')\n",
    "plt.tight_layout()\n",
    "plt.show()"
   ]
  },
  {
   "cell_type": "code",
   "execution_count": 49,
   "metadata": {},
   "outputs": [
    {
     "name": "stdout",
     "output_type": "stream",
     "text": [
      "Predictions (One-Hot):\n",
      "[[0. 1. 0.]\n",
      " [1. 0. 0.]\n",
      " [0. 1. 0.]]\n"
     ]
    }
   ],
   "source": [
    "def get_predictions_one_hot(output_probs):\n",
    "    # Convert softmax probabilities to predictions\n",
    "    predictions = np.argmax(output_probs, axis=1)\n",
    "    # Create one-hot encoding\n",
    "    num_classes = output_probs.shape[1]\n",
    "    predictions_one_hot = np.eye(num_classes)[predictions]\n",
    "    return predictions_one_hot\n",
    "\n",
    "# Example usage:\n",
    "output_probs = np.array([[0.2, 0.5, 0.3],\n",
    "                         [0.7, 0.2, 0.1],\n",
    "                         [0.3, 0.4, 0.3]])\n",
    "\n",
    "predictions_one_hot = get_predictions_one_hot(output_probs)\n",
    "print(\"Predictions (One-Hot):\")\n",
    "print(predictions_one_hot)"
   ]
  },
  {
   "cell_type": "code",
   "execution_count": 50,
   "metadata": {},
   "outputs": [
    {
     "name": "stdout",
     "output_type": "stream",
     "text": [
      "Cross Entropy: (soft) 0.6852416716875042\n",
      "Cross Entropy: (hard) 23.025850929940457\n"
     ]
    }
   ],
   "source": [
    "def cross_entropy(batch_labels: np.ndarray, output_probs: np.ndarray, eps: float = 1e-15) -> float:\n",
    "        \"\"\"\n",
    "        Calculate the cross entropy between the batch labels and output probabilities.\n",
    "\n",
    "        Parameters:\n",
    "        - batch_labels (numpy.ndarray): True labels for the batch, shape (batch_size, n_classes).\n",
    "        - output_probs (numpy.ndarray): Predicted probabilities for the batch, shape (batch_size, n_classes).\n",
    "        - eps (float): Small value to avoid numerical instability in logarithm calculation. Default is 1e-15.\n",
    "\n",
    "        Returns:\n",
    "        - float: Cross entropy value.\n",
    "        \"\"\"\n",
    "        return -np.mean(np.sum(batch_labels * np.log(output_probs + eps), axis=1))\n",
    "\n",
    "\n",
    "# Example usage:\n",
    "# Define true labels and predicted probabilities\n",
    "batch_labels = np.array([[1, 0, 0], [1, 0, 0], [0, 0, 1]])  # Example one-hot encoded true labels\n",
    "output_probs = np.array([[0.8, 0.1, 0.1], [0.2, 0.7, 0.1], [0.1, 0.1, 0.8]])  # Example softmax output probabilities\n",
    "\n",
    "# Calculate cross entropy\n",
    "ce_soft = cross_entropy(batch_labels, output_probs)\n",
    "ce_hard = cross_entropy(batch_labels, predictions_one_hot)\n",
    "print(\"Cross Entropy: (soft)\", ce_soft)\n",
    "print(\"Cross Entropy: (hard)\", ce_hard)"
   ]
  },
  {
   "cell_type": "code",
   "execution_count": 51,
   "metadata": {},
   "outputs": [],
   "source": [
    "def sigmoid(x: np.ndarray):\n",
    "    return 1 / 1 + np.exp(-x)\n",
    "\n",
    "def sigmoid_derivative(x: np.ndarray):\n",
    "    return sigmoid(x) * (1 - sigmoid(x))\n",
    "\n",
    "def accuracy(predictions: np.ndarray, true_labels: np.ndarray) -> float:\n",
    "    \"\"\"\n",
    "    Calculate the accuracy of the model.\n",
    "\n",
    "    Parameters:\n",
    "    - predictions (numpy.ndarray): Predicted labels, shape (n_samples, n_classes).\n",
    "    - true_labels (numpy.ndarray): True labels, shape (n_samples, n_classes).\n",
    "\n",
    "    Returns:\n",
    "    - float: Accuracy of the model.\n",
    "    \"\"\"\n",
    "    # Count the number of correct predictions\n",
    "    correct_predictions = np.sum(np.argmax(predictions, axis=1) == np.argmax(true_labels, axis=1))\n",
    "    \n",
    "    # Calculate accuracy\n",
    "    accuracy = correct_predictions / len(true_labels)\n",
    "    \n",
    "    return accuracy\n",
    "\n",
    "\n",
    "def classification_error_rate(predictions: np.ndarray, true_labels: np.ndarray) -> float:\n",
    "    \"\"\"\n",
    "    Calculate the classification error rate.\n",
    "\n",
    "    Parameters:\n",
    "    - predictions (numpy.ndarray): Predicted labels, shape (n_samples, n_classes).\n",
    "    - true_labels (numpy.ndarray): True labels, shape (n_samples, n_classes).\n",
    "\n",
    "    Returns:\n",
    "    - float: Classification error rate.\n",
    "    \"\"\"\n",
    "    # Calculate accuracy\n",
    "    acc = accuracy(predictions, true_labels)\n",
    "    \n",
    "    # Calculate classification error rate\n",
    "    error_rate = 1 - acc\n",
    "    \n",
    "    return error_rate\n"
   ]
  },
  {
   "cell_type": "markdown",
   "metadata": {},
   "source": [
    "#### BACKPROPAGATION (CATEGORICAL CROSS ENTROPY)\n",
    "$$\n",
    "\\begin{align}\n",
    "dZ^{[l]} = \\dfrac{\\partial{\\mathcal{L}_{CCE}}}{\\partial{Z^{[l]}}} &\\quad \n",
    "dW^{[l]} = \\dfrac{\\partial{\\mathcal{L}_{CCE}}}{\\partial{W^{[l]}}} &\\quad\n",
    "db^{[l]} = \\dfrac{\\partial{\\mathcal{L}_{CCE}}}{\\partial{b^{[l]}}}\n",
    "\\end{align}\n",
    "$$\n",
    "\n",
    "* **Output Layer**\n",
    "> $$\n",
    "> \\begin{align}\n",
    "> dZ^{[L]} &= \\hat{y} - y := A^{[L]} - y  \\\\\n",
    "> dW^{[L]} &= 1/m \\times (A^{[L-1]})^{\\top} \\cdot dZ^{[L]} \\\\\n",
    "> db^{[L]} &= 1/m \\sum_{i=1}^{m} Row_{i}(dZ^{[L]})   \n",
    "> \\end{align}\n",
    "> $$\n",
    "\n",
    "* **Generalization for hidden layer**\n",
    "> $$\n",
    "> \\begin{align}\n",
    "> dZ^{[l]} &= dZ^{[l+1]} \\cdot (dW^{[l+1]})^{\\top} \\odot A^{[l]} \\odot (1 - A^{[l]}) \\\\\n",
    "> dW^{[l]} &= 1/m \\times (A^{[l-1]})^{\\top} \\cdot dZ^{[l]} \\\\\n",
    "> db^{[l]} &= 1/m \\sum_{i=1}^{m} Row_{i}(dZ^{[l]})\n",
    "> \\end{align}\n",
    "> $$\n",
    "\n",
    "* **NOTE**: in the implementation, I used a tiny variable change $dZ' := 1/m \\times dZ$."
   ]
  },
  {
   "cell_type": "markdown",
   "metadata": {},
   "source": [
    "* ```labels``` $:= y$\n",
    "* ```output_probs := layer_outputs[-1]``` $:= A_L =: \\hat{y}$\n",
    "* ```layer_outputs``` (L+1 elements) $:= [A^{[0]},A^{[1]},\\dots, A^{[L]}] := [X, A^{[1]},\\dots, A^{[L-1]}, \\hat{y}]$, where $X$ is the input data.\n",
    "* ```layer_outputs[i]``` := $A^{[i]}$\n",
    "* ```self.network``` (DNN, L elements) $:= [\\mathrm{RBM}^{[1]},\\dots,\\mathrm{RBM}^{[L]}]$\n",
    "* ```self.network[s].W``` $:= W^{[s]} := \\mathrm{RBM}_{s}.\\mathrm{weights}$\n",
    "* ```self.network[s].b``` $:= b^{[s]} := \\mathrm{RBM}_{s}.\\mathrm{hidden\\_bias}$\n",
    "\n",
    "\n",
    "- **m = batch_size**\n",
    "```Python\n",
    "dZ = (outputs_probs - labels) / batch_size\n",
    "dW = layer_outputs[-1].T @ dZ \n",
    "db = np.sum(dz, axis=0, keepdims=True)\n",
    "self.network[-1].W -= learning_rate * dW\n",
    "self.network[-1].b -= learning_rate * db\n",
    "\n",
    "L = len(layer_outputs)\n",
    "# Iterate (0, L-2] in reverse order: i.e., index=[L-2, L-1,...,0) // order=[L-1, L-2,...,1)\n",
    "for id_layer in range(L-2, 0, -1):\n",
    "    dZ = (dZ @ dW.T) * layer_outputs[id_layer] * (1 - layer_outputs[id_layer]) / batch_size \n",
    "    dW = layer_outputs[id_layer - 1].T @ dZ\n",
    "    db = dZ.sum(axis=0, keepdims=True)\n",
    "    self.network[-1].W -= learning_rate * dW\n",
    "    self.network[-1].b -= learning_rate * db\n",
    "\n",
    "```\n"
   ]
  },
  {
   "cell_type": "code",
   "execution_count": 52,
   "metadata": {},
   "outputs": [],
   "source": [
    "# HACK: The current setup requires the network to be pretrained before supervised learning backpropagation. \n",
    "# To accommodate this, I distinguish between two components: `self.rbms`, representing pretrainable RBMs, \n",
    "# and `self.networks`, which includes the classifier. This allows me to reuse the `train` method inherited \n",
    "# from the `DNN` class. However, this leads to an issue: if `self.network` is updated during supervised \n",
    "# learning backpropagation, `self.rbms` becomes outdated with respect to `self.network`, and vice versa.\n",
    "# This setup needs to be reconsidered for better integration and/or synchronization between the RBMs and the network.\n",
    "# --> For the moment `self.network` is updated during backpropagation then `self.rbms` is synchronized afterwards."
   ]
  },
  {
   "cell_type": "code",
   "execution_count": 65,
   "metadata": {},
   "outputs": [],
   "source": [
    "class DNN(DBN):\n",
    "    def __init__(\n",
    "        self,\n",
    "        input_dim: int,\n",
    "        output_dim: int,\n",
    "        hidden_layer_sizes: List[int],\n",
    "        random_state=None\n",
    "    ):\n",
    "        \"\"\"\n",
    "        Initialize the Deep Neural Network (DNN).\n",
    "\n",
    "        Parameters:\n",
    "        - input_dim (int): Dimension of the input.\n",
    "        - output_dim (int): Dimension of the output.\n",
    "        - hidden_layer_sizes (List[int]): List of sizes for each hidden layer.\n",
    "        - random_state: Random seed for reproducibility.\n",
    "        \"\"\"\n",
    "        super().__init__(\n",
    "            n_visible=input_dim,\n",
    "            hidden_layer_sizes=hidden_layer_sizes,\n",
    "            random_state=random_state\n",
    "        )\n",
    "        #--> self.rbms contains only the pre-trainable RBMs \n",
    "        self.clf = RBM(self.rbms[-1].n_hidden, output_dim)\n",
    "        self.network = self.rbms + [self.clf]  # DNN = [DBN + Classifier] ~ [RBM_0,...,RBM_N, RBM_Clf]\n",
    "        self.dZs = []\n",
    "        self.dWs = []\n",
    "\n",
    "    def __getitem__(self, key):\n",
    "        return self.network[key]\n",
    "    \n",
    "    def __len__(self):\n",
    "        return len(self.network)\n",
    "    \n",
    "    def __repr__(self):\n",
    "        join_repr = \"\\n\".join([f\"{'':4}{repr(rbm)},\" for rbm in self.network])\n",
    "        return f\"DNN([\\n{join_repr} <CLF>\\n])\"\n",
    "    \n",
    "    \n",
    "    def pretrain(self, n_epochs: int, learning_rate: float, batch_size: int, data: np.ndarray) -> \"DNN\":\n",
    "        \"\"\"\n",
    "        Pretrain the hidden layers of the DNN using the DBN training method.\n",
    "\n",
    "        Parameters:\n",
    "        - n_epochs (int): Number of training epochs.\n",
    "        - learning_rate (float): Learning rate for gradient descent.\n",
    "        - batch_size (int): Size of mini-batches.\n",
    "        - data (numpy.ndarray): Input data, shape (n_samples, n_visible).\n",
    "\n",
    "        Returns:\n",
    "        - DNN: Pretrained DNN instance.\n",
    "        \"\"\"\n",
    "        # NOTE: Use the inherited `train` method to perform pre-training since `self.rbms`\n",
    "        # only contains the pre-trainable RBMs.\n",
    "        return self.train(data, n_epochs=n_epochs, learning_rate=learning_rate, batch_size=batch_size)\n",
    "    \n",
    "    def input_output_network(self, input_data: np.ndarray) -> List[np.ndarray]:\n",
    "    def input_output(self, input_data: np.ndarray) -> List[np.ndarray]:\n",
    "        \"\"\"\n",
    "        Get the outputs on each layer of the DNN and the softmax probabilities on the output layer.\n",
    "\n",
    "        Parameters:\n",
    "        - input_data (numpy.ndarray): Input data, shape (n_samples, n_visible).\n",
    "\n",
    "        Returns:\n",
    "        - List[np.ndarray]: Input data, outputs on each layer and softmax probabilities.\n",
    "        \"\"\"\n",
    "        layer_outputs = [input_data]\n",
    "\n",
    "        for rbm in self.rbms:\n",
    "            layer_outputs.append(rbm.input_output(layer_outputs[-1]))\n",
    "        \n",
    "        layer_outputs.append(self.network[-1].calcul_softmax(layer_outputs[-1]))\n",
    "                \n",
    "        return layer_outputs\n",
    "\n",
    "    def update(\n",
    "            self, \n",
    "            dZ_lead: np.ndarray, \n",
    "            dW_lead: np.ndarray,\n",
    "            layer_outputs: List[np.ndarray],\n",
    "            id_layer: int,\n",
    "            batch_size: int,\n",
    "            learning_rate: int\n",
    "        ) -> Tuple[np.ndarray, np.ndarray]:\n",
    "        \"\"\"\n",
    "        Update the weights and biases of a layer.\n",
    "\n",
    "        Parameters:\n",
    "        - dZ_lead (numpy.ndarray): Gradient with respect to the layer's output.\n",
    "        - dW_lead (numpy.ndarray): Gradient with respect to the layer's weights.\n",
    "        - layer_outputs (List[np.ndarray]): Outputs of each layer.\n",
    "        - id_layer (int): Index of the layer.\n",
    "        - batch_size (int): Size of mini-batches.\n",
    "        - learning_rate (int): Learning rate.\n",
    "\n",
    "        Returns:\n",
    "        - Tuple[np.ndarray, np.ndarray]: Updated gradient with respect to the layer's output and weights.\n",
    "        \"\"\"\n",
    "        # Compute gradient (layer no. `id_layer` + 1)\n",
    "        dZ = (dZ_lead @ dW_lead.T) * layer_outputs[id_layer] * (1-layer_outputs[id_layer]) / batch_size \n",
    "        dW = layer_outputs[id_layer-1].T @ dZ\n",
    "        db = np.sum(dZ, axis=0, keepdims=True)\n",
    "        # Update hidden layer weights and biases (layer no. `id_layer` + 1).\n",
    "        self.network[id_layer].W -= learning_rate * dW\n",
    "        self.network[id_layer].b -= learning_rate * db\n",
    "        \n",
    "        return dZ, dW\n",
    "    \n",
    "\n",
    "\n",
    "    def backpropagation(\n",
    "            self,\n",
    "            input_data: np.ndarray,\n",
    "            labels: np.ndarray,\n",
    "            n_epochs: int=100,\n",
    "            learning_rate: float=0.1,\n",
    "            batch_size: int=10,\n",
    "            eps: float = 1e-15\n",
    "        ) -> \"DNN\":\n",
    "        \"\"\"\n",
    "        Estimate the weights/biases of the network using backpropagation algorithm.\n",
    "\n",
    "        Parameters:\n",
    "        - input_data (numpy.ndarray): Input data, shape (n_samples, n_visible).\n",
    "        - labels (numpy.ndarray): Labels for the input data, shape (n_samples, n_classes).\n",
    "        - n_epochs (int): Number of training epochs.\n",
    "        - learning_rate (float): Learning rate for gradient descent.\n",
    "        - batch_size (int): Size of mini-batches.\n",
    "        - eps (float): Small value to avoid numerical instability in logarithm calculation. Default is 1e-15.\n",
    "\n",
    "        Returns:\n",
    "        - DNN: Updated DNN instance.\n",
    "        \"\"\"\n",
    "        n_samples = input_data.shape[0]\n",
    "\n",
    "        \n",
    "        for epoch in tqdm(range(n_epochs), desc=\"Training\", unit=\"epoch\"):\n",
    "            for batch_start in range(0, n_samples, batch_size):\n",
    "                batch_end = min(batch_start + batch_size, n_samples)\n",
    "                batch_input = input_data[batch_start:batch_end]\n",
    "                batch_labels = labels[batch_start:batch_end]\n",
    "\n",
    "                # Forward pass\n",
    "                layer_outputs = self.input_output_network(batch_input)\n",
    "                layer_outputs = self.input_output(batch_input)\n",
    "\n",
    "                # Backward pass (update weights and biases)\n",
    "                # Compute output (last) layer gradients (layer L).\n",
    "                dZ = (layer_outputs[-1] - batch_labels) / batch_size # -> (n_samples, output_dim)\n",
    "                dW = layer_outputs[-2].T @ dZ # -> (self[-2].n_hidden, self[-1].n_hidden)\n",
    "                db = np.sum(dZ, axis=0, keepdims=True) # -> (1, self[-1].n_hidden)\n",
    "                # Update output (last) layer parameters (layer L).\n",
    "                self.network[-1].W -= learning_rate * dW\n",
    "                self.network[-1].b -= learning_rate * db\n",
    "\n",
    "                # Iterate layer in reverse order\n",
    "                for id_layer in range(-2, -len(self.network)):\n",
    "                    dZ, dW = self.update(\n",
    "                        dZ_lead=dZ,\n",
    "                        dW_lead=dW,\n",
    "                        id_layer=id_layer,\n",
    "                        layer_outputs=layer_outputs,\n",
    "                        batch_size=batch_size,\n",
    "                        learning_rate=learning_rate\n",
    "                    )\n",
    "            \n",
    "            # HACK: update discrepancy / force \n",
    "            self.rbms = self.network[:-1]\n",
    "            \n",
    "            # Calculate cross entropy after each epoch\n",
    "            loss = cross_entropy(batch_labels, layer_outputs[-1], eps)\n",
    "            tqdm.write(f\"Epoch {epoch + 1}/{n_epochs}, Cross Entropy: {loss}\")\n",
    "\n",
    "        return self\n",
    "    \n",
    "\n",
    "    def test(self, test_data: np.ndarray, true_labels: np.ndarray) -> float:\n",
    "        \"\"\"\n",
    "        Test the performance of the trained DNN on a test dataset.\n",
    "\n",
    "        Parameters:\n",
    "        - test_data (numpy.ndarray): Test data, shape (n_samples, n_visible).\n",
    "        - true_labels (numpy.ndarray): True labels for the test data,\n",
    "            shape (n_samples, n_classes).\n",
    "\n",
    "        Returns:\n",
    "        - float: Classification error rate.\n",
    "        \"\"\"\n",
    "        # Estimate labels using the trained DNN\n",
    "        estimated_labels = self.input_output_network(test_data)[-1]\n",
    "\n",
    "        # Convert softmax probabilities to one-hot encoded predictions\n",
    "        estimated_labels_one_hot = get_predictions_one_hot(estimated_labels)\n",
    "\n",
    "        # Calculate classification error rate\n",
    "        error_rate = classification_error_rate(estimated_labels_one_hot, true_labels)\n",
    "\n",
    "        return error_rate\n"
   ]
  },
  {
   "cell_type": "code",
   "execution_count": 66,
   "metadata": {},
   "outputs": [
    {
     "name": "stderr",
     "output_type": "stream",
     "text": [
      "Epoch 0: 100%|██████████| 4/4 [00:00<00:00, 666.48it/s]\n",
      "Epoch 0: 100%|██████████| 4/4 [00:00<00:00, 800.67it/s]\n"
     ]
    },
    {
     "name": "stdout",
     "output_type": "stream",
     "text": [
      "Reconstruction error: 0.158.\n",
      "Reconstruction error: 0.17809.\n"
     ]
    },
    {
     "name": "stderr",
     "output_type": "stream",
     "text": [
      "Epoch 1: 100%|██████████| 4/4 [00:00<00:00, 800.02it/s]\n",
      "Epoch 2: 100%|██████████| 4/4 [00:00<00:00, 666.85it/s]\n",
      "Epoch 3: 100%|██████████| 4/4 [00:00<00:00, 800.17it/s]\n",
      "Epoch 4: 100%|██████████| 4/4 [00:00<00:00, 800.44it/s]\n",
      "Epoch 5: 100%|██████████| 4/4 [00:00<00:00, 666.69it/s]\n",
      "Epoch 6: 100%|██████████| 4/4 [00:00<00:00, 666.61it/s]\n",
      "Epoch 7: 100%|██████████| 4/4 [00:00<00:00, 666.61it/s]\n",
      "Epoch 8: 100%|██████████| 4/4 [00:00<00:00, 800.10it/s]\n",
      "Epoch 9: 100%|██████████| 4/4 [00:00<00:00, 1000.19it/s]\n",
      "Epoch 0: 100%|██████████| 4/4 [00:00<00:00, 4002.20it/s]\n",
      "Epoch 1: 100%|██████████| 4/4 [00:00<00:00, 571.51it/s]\n",
      "Epoch 2: 100%|██████████| 4/4 [00:00<00:00, 1000.01it/s]\n",
      "Epoch 3: 100%|██████████| 4/4 [00:00<00:00, 1000.79it/s]\n",
      "Epoch 4: 100%|██████████| 4/4 [00:00<00:00, 1000.85it/s]\n",
      "Epoch 5: 100%|██████████| 4/4 [00:00<00:00, 1000.25it/s]\n",
      "Epoch 6: 100%|██████████| 4/4 [00:00<00:00, 1000.25it/s]\n",
      "Epoch 7: 100%|██████████| 4/4 [00:00<00:00, 799.87it/s]\n",
      "Epoch 8: 100%|██████████| 4/4 [00:00<00:00, 999.71it/s]\n",
      "Epoch 9: 100%|██████████| 4/4 [00:00<00:00, 666.69it/s]\n",
      "Epoch 0: 100%|██████████| 4/4 [00:00<00:00, 1996.81it/s]\n"
     ]
    },
    {
     "name": "stdout",
     "output_type": "stream",
     "text": [
      "Reconstruction error: 0.07016.\n",
      "Reconstruction error: 0.02867.\n"
     ]
    },
    {
     "name": "stderr",
     "output_type": "stream",
     "text": [
      "Epoch 1: 100%|██████████| 4/4 [00:00<00:00, 3993.62it/s]\n",
      "Epoch 2: 100%|██████████| 4/4 [00:00<00:00, 2001.10it/s]\n",
      "Epoch 3: 100%|██████████| 4/4 [00:00<00:00, 4011.77it/s]\n",
      "Epoch 4: 100%|██████████| 4/4 [00:00<00:00, 1999.43it/s]\n",
      "Epoch 5: 100%|██████████| 4/4 [00:00<00:00, 1994.20it/s]\n",
      "Epoch 6: 100%|██████████| 4/4 [00:00<00:00, 2000.62it/s]\n",
      "Epoch 7: 100%|██████████| 4/4 [00:00<00:00, 1994.68it/s]\n",
      "Epoch 8: 100%|██████████| 4/4 [00:00<00:00, 1996.57it/s]\n",
      "Epoch 9: 100%|██████████| 4/4 [00:00<00:00, 2000.86it/s]\n",
      "Epoch 0: 100%|██████████| 4/4 [00:00<00:00, 4004.11it/s]\n"
     ]
    },
    {
     "name": "stdout",
     "output_type": "stream",
     "text": [
      "Reconstruction error: 0.0058.\n"
     ]
    },
    {
     "name": "stderr",
     "output_type": "stream",
     "text": [
      "Epoch 1: 100%|██████████| 4/4 [00:00<00:00, 2000.86it/s]\n",
      "Epoch 2: 100%|██████████| 4/4 [00:00<00:00, 2000.62it/s]\n",
      "Epoch 3: 100%|██████████| 4/4 [00:00<00:00, 4000.29it/s]\n",
      "Epoch 4: 100%|██████████| 4/4 [00:00<00:00, 1333.01it/s]\n",
      "Epoch 5: 100%|██████████| 4/4 [00:00<00:00, 1332.27it/s]\n",
      "Epoch 6: 100%|██████████| 4/4 [00:00<00:00, 3999.34it/s]\n",
      "Epoch 7: 100%|██████████| 4/4 [00:00<00:00, 3995.53it/s]\n",
      "Epoch 8: 100%|██████████| 4/4 [00:00<?, ?it/s]\n",
      "Epoch 9: 100%|██████████| 4/4 [00:00<00:00, 4001.24it/s]\n",
      "Epoch 1: 100%|██████████| 4/4 [00:00<00:00, 4000.29it/s]\n",
      "Epoch 2: 100%|██████████| 4/4 [00:00<00:00, 3999.34it/s]\n",
      "Epoch 3: 100%|██████████| 4/4 [00:00<00:00, 4007.94it/s]\n",
      "Epoch 4: 100%|██████████| 4/4 [00:00<00:00, 3989.83it/s]\n",
      "Epoch 5: 100%|██████████| 4/4 [00:00<00:00, 1999.43it/s]\n",
      "Epoch 6: 100%|██████████| 4/4 [00:00<00:00, 3995.53it/s]\n",
      "Epoch 7: 100%|██████████| 4/4 [00:00<00:00, 3993.62it/s]\n",
      "Epoch 8: 100%|██████████| 4/4 [00:00<00:00, 2001.34it/s]\n",
      "Epoch 9: 100%|██████████| 4/4 [00:00<00:00, 4000.29it/s]\n",
      "Epoch 0: 100%|██████████| 4/4 [00:00<00:00, 4007.94it/s]\n"
     ]
    },
    {
     "name": "stdout",
     "output_type": "stream",
     "text": [
      "Reconstruction error: 0.00293.\n"
     ]
    },
    {
     "name": "stderr",
     "output_type": "stream",
     "text": [
      "Epoch 1: 100%|██████████| 4/4 [00:00<00:00, 4008.89it/s]\n",
      "Epoch 2: 100%|██████████| 4/4 [00:00<00:00, 1997.29it/s]\n",
      "Epoch 3: 100%|██████████| 4/4 [00:00<00:00, 4011.77it/s]\n",
      "Epoch 4: 100%|██████████| 4/4 [00:00<00:00, 4003.15it/s]\n",
      "Epoch 5: 100%|██████████| 4/4 [00:00<00:00, 1998.48it/s]\n",
      "Epoch 6: 100%|██████████| 4/4 [00:00<00:00, 1996.81it/s]\n",
      "Epoch 7: 100%|██████████| 4/4 [00:00<00:00, 4024.28it/s]\n",
      "Epoch 8: 100%|██████████| 4/4 [00:00<00:00, 3970.00it/s]\n",
      "Epoch 9: 100%|██████████| 4/4 [00:00<00:00, 4010.81it/s]\n"
     ]
    }
   ],
   "source": [
    "n_samples, n_visible = data.shape # n_samples, n_features\n",
    "hidden_layer_sizes = [100, 50, 25]\n",
    "output_dim = 20 # n_classes\n",
    "n_visible=data.shape[1]\n",
    "hidden_layer_sizes = [100, 50, 25]\n",
    "output_dim = 20\n",
    "\n",
    "dnn = DNN(input_dim=n_visible, hidden_layer_sizes=hidden_layer_sizes, output_dim=output_dim, random_state=42)\n",
    "# keep last RBM's weights for further test.\n",
    "weights = dnn[-1].W \n",
    "\n",
    "dnn.train(data, learning_rate=0.1, n_epochs=10, batch_size=10)\n",
    "\n",
    "# Check that the last RBM has not been trained.\n",
    "np.testing.assert_equal (dnn[-1].a, 0) # visible bias\n",
    "np.testing.assert_equal (dnn[-1].b, 0) # hidden bias\n",
    "np.testing.assert_equal (dnn[-1].W, weights) # weights"
   ]
  },
  {
   "cell_type": "code",
   "execution_count": 67,
   "metadata": {},
   "outputs": [
    {
     "name": "stdout",
     "output_type": "stream",
     "text": [
      "No. network output = 6\n",
      "Input data (0): (39, 320)\n",
      "Hidden layer input (1): (39, 100)\n",
      "Hidden layer input (2): (39, 50)\n",
      "Hidden layer input (3): (39, 25)\n",
      "Hidden layer input (4): (39, 20)\n",
      "Softmax output (5): (39, 20)\n"
     ]
    }
   ],
   "source": [
    "layer_outputs = dnn.input_output_network(data)\n",
    "layer_outputs = dnn.input_output(data)\n",
    "n_layers_net = len(layer_outputs) + 1\n",
    "print(\"No. network output =\", n_layers_net)\n",
    "\n",
    "print(f\"Input data (0): {layer_outputs[0].shape}\")\n",
    "for idx, layer_output in enumerate(layer_outputs[1:]):\n",
    "    print(f\"Hidden layer input ({idx+1}): {layer_output.shape}\")\n",
    "\n",
    "print(f\"Softmax output ({n_layers_net - 1}):\", layer_outputs[-1].shape)"
   ]
  },
  {
   "cell_type": "code",
   "execution_count": 68,
   "metadata": {},
   "outputs": [
    {
     "name": "stdout",
     "output_type": "stream",
     "text": [
      "(39, 20) [1. 1. 1. 1. 1. 1. 1. 1. 1. 1. 1. 1. 1. 1. 1. 1. 1. 1. 1. 1. 1. 1. 1. 1.\n",
      " 1. 1. 1. 1. 1. 1. 1. 1. 1. 1. 1. 1. 1. 1. 1.]\n"
     ]
    }
   ],
   "source": [
    "# Define the shape of the array\n",
    "num_rows = n_samples\n",
    "num_cols = output_dim\n",
    "rng = np.random.default_rng(42)\n",
    "\n",
    "# Generate random hot indices for each row\n",
    "hot_indices = rng.integers(low=0, high=num_cols, size=num_rows)\n",
    "\n",
    "# Create the one-hot-encoded array\n",
    "one_hot_array = np.eye(num_cols)[hot_indices]\n",
    "\n",
    "print(one_hot_array.shape, one_hot_array.sum(axis=1))\n",
    "labels = one_hot_array"
   ]
  },
  {
   "cell_type": "code",
   "execution_count": 69,
   "metadata": {},
   "outputs": [
    {
     "name": "stderr",
     "output_type": "stream",
     "text": [
      "Training:   0%|          | 0/100 [00:00<?, ?epoch/s]"
     ]
    },
    {
     "name": "stdout",
     "output_type": "stream",
     "text": [
      "Epoch 1/100, Cross Entropy: 3.008412961901712\n",
      "Epoch 2/100, Cross Entropy: 2.9730020699906317\n",
      "Epoch 3/100, Cross Entropy: 2.9471874215444362\n",
      "Epoch 4/100, Cross Entropy: 2.928470237707137\n",
      "Epoch 5/100, Cross Entropy: 2.914623835554577\n",
      "Epoch 6/100, Cross Entropy: 2.9041085702386007\n",
      "Epoch 7/100, Cross Entropy: 2.8959192087303753\n",
      "Epoch 8/100, Cross Entropy: 2.8893954870133265\n"
     ]
    },
    {
     "name": "stderr",
     "output_type": "stream",
     "text": [
      "Training:  21%|██        | 21/100 [00:00<00:00, 209.99epoch/s]"
     ]
    },
    {
     "name": "stdout",
     "output_type": "stream",
     "text": [
      "Epoch 9/100, Cross Entropy: 2.88409342807027\n",
      "Epoch 10/100, Cross Entropy: 2.8797070133124745\n",
      "Epoch 11/100, Cross Entropy: 2.876020669070432\n",
      "Epoch 12/100, Cross Entropy: 2.8728796488107697\n",
      "Epoch 13/100, Cross Entropy: 2.87017097791284\n",
      "Epoch 14/100, Cross Entropy: 2.867810858140453\n",
      "Epoch 15/100, Cross Entropy: 2.8657361654173257\n",
      "Epoch 16/100, Cross Entropy: 2.8638986173591037\n",
      "Epoch 17/100, Cross Entropy: 2.862260720113685\n",
      "Epoch 18/100, Cross Entropy: 2.860792920109758\n",
      "Epoch 19/100, Cross Entropy: 2.85947158176382\n",
      "Epoch 20/100, Cross Entropy: 2.858277537085997\n",
      "Epoch 21/100, Cross Entropy: 2.857195034824165\n",
      "Epoch 22/100, Cross Entropy: 2.856210971115255\n",
      "Epoch 23/100, Cross Entropy: 2.8553143201663302\n",
      "Epoch 24/100, Cross Entropy: 2.854495708300978\n",
      "Epoch 25/100, Cross Entropy: 2.8537470916740397\n",
      "Epoch 26/100, Cross Entropy: 2.853061509637749\n",
      "Epoch 27/100, Cross Entropy: 2.852432893834761\n",
      "Epoch 28/100, Cross Entropy: 2.8518559187370736\n",
      "Epoch 29/100, Cross Entropy: 2.851325883312031\n",
      "Epoch 30/100, Cross Entropy: 2.850838616297863\n",
      "Epoch 31/100, Cross Entropy: 2.850390399565907\n"
     ]
    },
    {
     "name": "stderr",
     "output_type": "stream",
     "text": [
      "                                                              \r"
     ]
    },
    {
     "name": "stdout",
     "output_type": "stream",
     "text": [
      "Epoch 32/100, Cross Entropy: 2.84997790547758\n",
      "Epoch 33/100, Cross Entropy: 2.849598145178248\n",
      "Epoch 34/100, Cross Entropy: 2.8492484255232395\n"
     ]
    },
    {
     "name": "stderr",
     "output_type": "stream",
     "text": [
      "Training:  21%|██        | 21/100 [00:00<00:00, 209.99epoch/s]"
     ]
    },
    {
     "name": "stdout",
     "output_type": "stream",
     "text": [
      "Epoch 35/100, Cross Entropy: 2.8489263128837363\n",
      "Epoch 36/100, Cross Entropy: 2.8486296024888036\n",
      "Epoch 37/100, Cross Entropy: 2.848356292264064\n",
      "Epoch 38/100, Cross Entropy: 2.848104560355906\n"
     ]
    },
    {
     "name": "stderr",
     "output_type": "stream",
     "text": [
      "                                                              \r"
     ]
    },
    {
     "name": "stdout",
     "output_type": "stream",
     "text": [
      "Epoch 39/100, Cross Entropy: 2.847872745702758\n",
      "Epoch 40/100, Cross Entropy: 2.8476593311465255\n",
      "Epoch 41/100, Cross Entropy: 2.847462928678203\n",
      "Epoch 42/100, Cross Entropy: 2.847282266489771\n",
      "Epoch 43/100, Cross Entropy: 2.8471161775652813\n",
      "Epoch 44/100, Cross Entropy: 2.846963589591793\n",
      "Epoch 45/100, Cross Entropy: 2.8468235160085924\n",
      "Epoch 46/100, Cross Entropy: 2.846695048043256\n",
      "Epoch 47/100, Cross Entropy: 2.8465773476072886\n",
      "Epoch 48/100, Cross Entropy: 2.8464696409436883\n",
      "Epoch 49/100, Cross Entropy: 2.8463712129347614\n"
     ]
    },
    {
     "name": "stderr",
     "output_type": "stream",
     "text": [
      "Training:  70%|███████   | 70/100 [00:00<00:00, 234.09epoch/s]"
     ]
    },
    {
     "name": "stdout",
     "output_type": "stream",
     "text": [
      "Epoch 50/100, Cross Entropy: 2.846281401991663\n",
      "Epoch 51/100, Cross Entropy: 2.84619959545803\n",
      "Epoch 52/100, Cross Entropy: 2.846125225469154\n",
      "Epoch 53/100, Cross Entropy: 2.846057765215788\n",
      "Epoch 54/100, Cross Entropy: 2.845996725568128\n",
      "Epoch 55/100, Cross Entropy: 2.845941652021011\n",
      "Epoch 56/100, Cross Entropy: 2.845892121926082\n",
      "Epoch 57/100, Cross Entropy: 2.845847741980719\n",
      "Epoch 58/100, Cross Entropy: 2.845808145947025\n",
      "Epoch 59/100, Cross Entropy: 2.845772992577216\n",
      "Epoch 60/100, Cross Entropy: 2.845741963724418\n",
      "Epoch 61/100, Cross Entropy: 2.845714762620174\n",
      "Epoch 62/100, Cross Entropy: 2.8456911123020494\n",
      "Epoch 63/100, Cross Entropy: 2.845670754176465\n",
      "Epoch 64/100, Cross Entropy: 2.8456534467035306\n",
      "Epoch 65/100, Cross Entropy: 2.8456389641920192\n",
      "Epoch 66/100, Cross Entropy: 2.845627095693884\n",
      "Epoch 67/100, Cross Entropy: 2.8456176439888288\n",
      "Epoch 68/100, Cross Entropy: 2.8456104246504115\n",
      "Epoch 69/100, Cross Entropy: 2.8456052651860664\n",
      "Epoch 70/100, Cross Entropy: 2.8456020042441708\n",
      "Epoch 71/100, Cross Entropy: 2.845600490882031\n",
      "Epoch 72/100, Cross Entropy: 2.8456005838892393\n",
      "Epoch 73/100, Cross Entropy: 2.845602151161434\n",
      "Epoch 74/100, Cross Entropy: 2.8456050691199994\n",
      "Epoch 75/100, Cross Entropy: 2.845609222173668\n",
      "Epoch 76/100, Cross Entropy: 2.8456145022183983\n",
      "Epoch 77/100, Cross Entropy: 2.845620808172269\n",
      "Epoch 78/100, Cross Entropy: 2.845628045542422\n"
     ]
    },
    {
     "name": "stderr",
     "output_type": "stream",
     "text": [
      "Training:  70%|███████   | 70/100 [00:00<00:00, 234.09epoch/s]"
     ]
    },
    {
     "name": "stdout",
     "output_type": "stream",
     "text": [
      "Epoch 79/100, Cross Entropy: 2.8456361260214083\n",
      "Epoch 80/100, Cross Entropy: 2.8456449671105246\n",
      "Epoch 81/100, Cross Entropy: 2.8456544917679594\n",
      "Epoch 82/100, Cross Entropy: 2.845664628079799\n"
     ]
    },
    {
     "name": "stderr",
     "output_type": "stream",
     "text": [
      "Training:  70%|███████   | 70/100 [00:00<00:00, 234.09epoch/s]"
     ]
    },
    {
     "name": "stdout",
     "output_type": "stream",
     "text": [
      "Epoch 83/100, Cross Entropy: 2.845675308952092\n",
      "Epoch 84/100, Cross Entropy: 2.845686471822368\n",
      "Epoch 85/100, Cross Entropy: 2.8456980583891465\n",
      "Epoch 86/100, Cross Entropy: 2.845710014358095\n"
     ]
    },
    {
     "name": "stderr",
     "output_type": "stream",
     "text": [
      "Training:  96%|█████████▌| 96/100 [00:00<00:00, 243.24epoch/s]"
     ]
    },
    {
     "name": "stdout",
     "output_type": "stream",
     "text": [
      "Epoch 87/100, Cross Entropy: 2.845722289203636\n",
      "Epoch 88/100, Cross Entropy: 2.8457348359448944\n",
      "Epoch 89/100, Cross Entropy: 2.84574761093498\n",
      "Epoch 90/100, Cross Entropy: 2.8457605736626896\n",
      "Epoch 91/100, Cross Entropy: 2.8457736865657886\n",
      "Epoch 92/100, Cross Entropy: 2.8457869148551054\n",
      "Epoch 93/100, Cross Entropy: 2.845800226348731\n",
      "Epoch 94/100, Cross Entropy: 2.8458135913156815\n",
      "Epoch 95/100, Cross Entropy: 2.845826982328421\n",
      "Epoch 96/100, Cross Entropy: 2.845840374123708\n",
      "Epoch 97/100, Cross Entropy: 2.8458537434712463\n",
      "Epoch 98/100, Cross Entropy: 2.845867069049683\n"
     ]
    },
    {
     "name": "stderr",
     "output_type": "stream",
     "text": [
      "Training: 100%|██████████| 100/100 [00:00<00:00, 236.41epoch/s]"
     ]
    },
    {
     "name": "stdout",
     "output_type": "stream",
     "text": [
      "Epoch 99/100, Cross Entropy: 2.845880331329516\n",
      "Epoch 100/100, Cross Entropy: 2.845893512462506\n"
     ]
    },
    {
     "name": "stderr",
     "output_type": "stream",
     "text": [
      "\n"
     ]
    },
    {
     "data": {
      "text/plain": [
       "DNN([\n",
       "    RBM(n_visible=320, n_hidden=100),\n",
       "    RBM(n_visible=100, n_hidden=50),\n",
       "    RBM(n_visible=50, n_hidden=25),\n",
       "    RBM(n_visible=25, n_hidden=20), <CLF>\n",
       "])"
      ]
     },
     "execution_count": 69,
     "metadata": {},
     "output_type": "execute_result"
    }
   ],
   "source": [
    "dnn.backpropagation(data, labels=labels)"
   ]
  },
  {
   "cell_type": "code",
   "execution_count": 70,
   "metadata": {},
   "outputs": [
    {
     "data": {
      "text/plain": [
       "((39, 20),)"
      ]
     },
     "execution_count": 70,
     "metadata": {},
     "output_type": "execute_result"
    }
   ],
   "source": [
    "labels.shape, "
   ]
  },
  {
   "cell_type": "code",
   "execution_count": 71,
   "metadata": {},
   "outputs": [
    {
     "data": {
      "text/plain": [
       "0.8717948717948718"
      ]
     },
     "execution_count": 71,
     "metadata": {},
     "output_type": "execute_result"
    }
   ],
   "source": [
    "dnn.test(data, labels)"
   ]
  }
 ],
 "metadata": {
  "kernelspec": {
   "display_name": ".venv",
   "language": "python",
   "name": "python3"
  },
  "language_info": {
   "codemirror_mode": {
    "name": "ipython",
    "version": 3
   },
   "file_extension": ".py",
   "mimetype": "text/x-python",
   "name": "python",
   "nbconvert_exporter": "python",
   "pygments_lexer": "ipython3",
   "version": "3.10.11"
  }
 },
 "nbformat": 4,
 "nbformat_minor": 2
}
