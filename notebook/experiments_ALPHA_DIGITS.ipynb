{
 "cells": [
  {
   "cell_type": "markdown",
   "metadata": {},
   "source": [
    "# Analysis on ALPHA DIGITS  "
   ]
  },
  {
   "cell_type": "code",
   "execution_count": null,
   "metadata": {},
   "outputs": [],
   "source": [
    "!pip install nbformat"
   ]
  },
  {
   "cell_type": "code",
   "execution_count": null,
   "metadata": {},
   "outputs": [],
   "source": [
    "%run experiments.ipynb"
   ]
  },
  {
   "cell_type": "markdown",
   "metadata": {},
   "source": [
    "## I- Effect of Layers and units"
   ]
  },
  {
   "cell_type": "markdown",
   "metadata": {},
   "source": [
    "we create a special function : generate_symmetric_configurations to create liste of hidden layer we want to use for the experiment"
   ]
  },
  {
   "cell_type": "code",
   "execution_count": null,
   "metadata": {},
   "outputs": [],
   "source": [
    "def generate_symmetric_configurations(min_layers, max_layers, min_neurons, max_neurons, step_neurons):\n",
    "    \"\"\"\n",
    "    Generate symmetrical configurations for the DBN's hidden layers.\n",
    "\n",
    "    Args:\n",
    "    min_layers (int): Minimum number of hidden layers.\n",
    "    max_layers (int): Maximum number of hidden layers.\n",
    "    min_neurons (int): Minimum number of neurons per layer.\n",
    "    max_neurons (int): Maximum number of neurons per layer.\n",
    "    step_neurons (int): No increase in the number of neurons.\n",
    "\n",
    "    Returns:\n",
    "    List[List[int]]: List of symmetrical configurations of hidden layers.\n",
    "    \"\"\"\n",
    "    configurations = []\n",
    "    for num_layers in range(min_layers, max_layers + 1):\n",
    "        for num_neurons in range(min_neurons, max_neurons + 1, step_neurons):\n",
    "            half = num_layers // 2\n",
    "            config = [num_neurons] * half + [num_neurons] * (num_layers - half)\n",
    "            configurations.append(config)\n",
    "    return configurations"
   ]
  },
  {
   "cell_type": "markdown",
   "metadata": {},
   "source": [
    "## 1.RBM launch function"
   ]
  },
  {
   "cell_type": "code",
   "execution_count": null,
   "metadata": {},
   "outputs": [],
   "source": [
    "def run_rbm_experiment(hidden_units_sizes, n_epochs=100, character_sets=[['A', 'B'], ['1', '2', '3', '4'], ['A', 'B', '1', '2']]):\n",
    "    \"\"\"\n",
    "    Conducts an experiment with Restricted Boltzmann Machines (RBMs) on different character sets.\n",
    "\n",
    "    Args:\n",
    "        hidden_units_sizes (list): A list of sizes for the hidden layers to experiment with.\n",
    "        n_epochs (int): The number of training epochs. Default is 100.\n",
    "        character_sets (list of lists): A list containing different sets of characters to train RBMs on.\n",
    "\n",
    "    This function trains an RBM for each combination of character set and hidden unit size,\n",
    "    generates and saves images representing the learned features, and plots the results in a grid.\n",
    "    \"\"\"\n",
    "    # Determine the unique number of units\n",
    "    unique_units = sorted(hidden_units_sizes)\n",
    "\n",
    "    # Prepare a grid of subplots\n",
    "    fig, axes = plt.subplots(len(character_sets), len(unique_units), figsize=(len(unique_units) * 3, len(character_sets) * 3), squeeze=False)\n",
    "\n",
    "    for row_idx, characters in enumerate(character_sets):\n",
    "        data = read_alpha_digit(characters, file_path=ALPHA_DIGIT_PATH)\n",
    "\n",
    "        for col_idx, num_units in enumerate(unique_units):\n",
    "            print(f\"\\nTraining RBM with {num_units} hidden units on characters {characters}\")\n",
    "            rbm = RBM(n_visible=data.shape[1], n_hidden=num_units, random_state=42)\n",
    "            rbm.train(data, learning_rate=0.1, n_epochs=n_epochs, batch_size=15, print_each=5000)\n",
    "\n",
    "            # Generate and display an image\n",
    "            generated_image = rbm.generate_image(n_samples=1)\n",
    "\n",
    "            # Save the image\n",
    "            save_path = f\"../resultat/rbm/{num_units}_Units_{len(characters)}_Chars.npy\"\n",
    "            os.makedirs(os.path.dirname(save_path), exist_ok=True)\n",
    "            np.save(save_path, generated_image)\n",
    "\n",
    "            ax = axes[row_idx, col_idx]\n",
    "            ax.imshow(generated_image[0].reshape(20, 16), cmap='plasma')\n",
    "            ax.set_title(f\"Units: {num_units}, N_Chars: {len(characters)}\")\n",
    "            ax.axis('off')\n",
    "\n",
    "    plt.tight_layout()\n",
    "    # Save the generated image\n",
    "    directory_image = \"../resultat/images/rbm\"\n",
    "    os.makedirs(directory_image, exist_ok=True)\n",
    "    plt.savefig(f\"{directory_image}/rbm_{len(characters)}_chars_Units_{num_units}_Layers_{character_sets}.png\")\n",
    "    plt.tight_layout()\n",
    "    plt.show()\n"
   ]
  },
  {
   "cell_type": "code",
   "execution_count": null,
   "metadata": {},
   "outputs": [],
   "source": [
    "hidden_units_sizes = [100, 200, 300, 400, 500, 600, 700]\n",
    "run_rbm_experiment(hidden_units_sizes, n_epochs=1000, character_sets=['E'])\n",
    "run_rbm_experiment(hidden_units_sizes, n_epochs=1000, character_sets=['A'])\n"
   ]
  },
  {
   "cell_type": "markdown",
   "metadata": {},
   "source": [
    "## 2. DBM launch function"
   ]
  },
  {
   "cell_type": "code",
   "execution_count": null,
   "metadata": {},
   "outputs": [],
   "source": [
    "import matplotlib.pyplot as plt\n",
    "\n",
    "def run_dbm_experiment(hidden_layers_sizes, n_epochs=100, characters=['A', 'B', '1', '2']):\n",
    "    \"\"\"\n",
    "    Conducts an experiment with Deep Belief Networks (DBNs) on a set of characters.\n",
    "\n",
    "    Args:\n",
    "        hidden_layers_sizes (list of lists): A list containing the sizes of hidden layers to experiment with.\n",
    "        n_epochs (int): The number of training epochs. Default is 100.\n",
    "        characters (list): The characters to use in the experiment. Default is ['A', 'B', '1', '2'].\n",
    "\n",
    "    This function trains a DBN for each specified configuration of hidden layer sizes,\n",
    "    generates and saves images representing the learned features, and plots the results in a grid.\n",
    "    \"\"\"\n",
    "    # Load the data\n",
    "    data = read_alpha_digit(characters, file_path=ALPHA_DIGIT_PATH)\n",
    "\n",
    "    # Determine the maximum number of layers and the unique number of units\n",
    "    max_layers = max(len(sizes) for sizes in hidden_layers_sizes)\n",
    "    unique_units = sorted({sizes[0] for sizes in hidden_layers_sizes})\n",
    "\n",
    "    # Prepare a grid of subplots\n",
    "    fig, axes = plt.subplots(len(unique_units), max_layers, figsize=(max_layers * 3, len(unique_units) * 3), squeeze=False)\n",
    "\n",
    "    # Initialize all axes as invisible; they will be activated when used\n",
    "    for ax_row in axes:\n",
    "        for ax in ax_row:\n",
    "            ax.set_visible(False)\n",
    "\n",
    "    for layer_sizes in hidden_layers_sizes:\n",
    "        print(f\"\\nTraining DBN with hidden layers: {layer_sizes}\")\n",
    "        dbn = DBN(n_visible=data.shape[1], hidden_layer_sizes=layer_sizes, random_state=42)\n",
    "        dbn.train(data, learning_rate=0.1, n_epochs=n_epochs, batch_size=16, print_each=1000000)\n",
    "\n",
    "        # Generate and display an image\n",
    "        generated_image = dbn.generate_image(n_samples=1)\n",
    "        unit_idx = unique_units.index(layer_sizes[0])\n",
    "        layer_idx = len(layer_sizes) - 2  # Index 0 for 2 layers, index 1 for 3 layers, etc.\n",
    "\n",
    "        ax = axes[unit_idx][layer_idx]\n",
    "        ax.set_visible(True)\n",
    "        ax.imshow(generated_image[0].reshape(20, 16), cmap='plasma')\n",
    "        ax.set_title(f\"N_Layers: {len(layer_sizes)}, N_Units: {layer_sizes[0]}\")\n",
    "        ax.axis('off')\n",
    "\n",
    "        # Save the generated image\n",
    "        directory = f\"../resultat/dbn/{layer_sizes[0]}_Units_{len(layer_sizes)}_Layers\"\n",
    "        os.makedirs(directory, exist_ok=True)\n",
    "        np.save(f\"{directory}/Units_{layer_sizes[0]}_Chars_{''.join(characters)}.npy\", generated_image[0])\n",
    "\n",
    "    # Save the figure\n",
    "    plt.tight_layout()\n",
    "    directory_image = \"../resultat/images/dbn\"\n",
    "    os.makedirs(directory_image, exist_ok=True)\n",
    "    plt.savefig(f\"{directory_image}/dbn_{len(characters)}_chars_{layer_sizes[0]}_Units_{len(layer_sizes)}_Layers.png\")\n",
    "    plt.tight_layout()\n",
    "    plt.show()\n"
   ]
  },
  {
   "cell_type": "code",
   "execution_count": null,
   "metadata": {},
   "outputs": [],
   "source": [
    "# Exemple d'utilisation avec des configurations générées\n",
    "configurations = generate_symmetric_configurations(min_layers = 2, max_layers = 5, min_neurons = 100, max_neurons = 700, step_neurons = 100)\n",
    "run_dbm_experiment(configurations, n_epochs=1, characters=['Y'])"
   ]
  },
  {
   "cell_type": "markdown",
   "metadata": {},
   "source": [
    "## I- Effect of the number of characters on reconstruction"
   ]
  },
  {
   "cell_type": "markdown",
   "metadata": {},
   "source": [
    "### 1. RBM"
   ]
  },
  {
   "cell_type": "markdown",
   "metadata": {},
   "source": [
    "we modify the above corresponding function to have plot adapted to our analysis"
   ]
  },
  {
   "cell_type": "code",
   "execution_count": null,
   "metadata": {},
   "outputs": [],
   "source": [
    "import matplotlib.pyplot as plt\n",
    "import numpy as np\n",
    "import os\n",
    "\n",
    "def run_rbm_experiment(hidden_units_sizes, n_epochs=100, character_sets=[['A', 'B'], ['1', '2', '3', '4'], ['A', 'B', '1', '2']]):\n",
    "    \"\"\"\n",
    "    Conducts an experiment with Restricted Boltzmann Machines (RBMs) on different character sets,\n",
    "    generating multiple samples for each configuration.\n",
    "\n",
    "    Args:\n",
    "        hidden_units_sizes (list): A list of sizes for the hidden units to experiment with.\n",
    "        n_epochs (int): The number of training epochs. Default is 100.\n",
    "        character_sets (list of lists): A list containing different sets of characters to train RBMs on.\n",
    "\n",
    "    This function trains an RBM for each combination of character set and hidden unit size,\n",
    "    generates and displays five samples from each trained RBM, and saves the results.\n",
    "    \"\"\"\n",
    "    unique_units = sorted(hidden_units_sizes)\n",
    "\n",
    "    # Prepare a grid of subplots; each configuration now has 5 columns for the 5 samples\n",
    "    fig, axes = plt.subplots(len(character_sets), len(unique_units) * 5, figsize=(len(unique_units) * 3 * 5, len(character_sets) * 3), squeeze=False)\n",
    "\n",
    "    for row_idx, characters in enumerate(character_sets):\n",
    "        data = read_alpha_digit(characters, file_path=ALPHA_DIGIT_PATH)\n",
    "\n",
    "        for col_idx, num_units in enumerate(unique_units):\n",
    "            print(f\"\\nTraining RBM with {num_units} hidden units on characters {characters}\")\n",
    "            rbm = RBM(n_visible=data.shape[1], n_hidden=num_units, random_state=42)\n",
    "            rbm.train(data, learning_rate=0.1, n_epochs=n_epochs, batch_size=15, print_each=5000)\n",
    "\n",
    "            # Generate 5 images\n",
    "            generated_images = rbm.generate_image(n_samples=5)\n",
    "\n",
    "            for sample_idx in range(5):\n",
    "                ax = axes[row_idx, col_idx * 5 + sample_idx]\n",
    "                ax.imshow(generated_images[sample_idx].reshape(20, 16), cmap='plasma')\n",
    "                ax.set_title(f\"N_chars {len(characters)}, Generation: {sample_idx + 1}\")\n",
    "                ax.axis('off')\n",
    "\n",
    "                # Save each generated sample\n",
    "                save_path = f\"../resultat/rbm/{num_units}_Units_{len(characters)}_Chars_Sample_{sample_idx}.npy\"\n",
    "                os.makedirs(os.path.dirname(save_path), exist_ok=True)\n",
    "                np.save(save_path, generated_images[sample_idx])\n",
    "\n",
    "    plt.tight_layout()\n",
    "    directory_image = \"../resultat/images/rbm\"\n",
    "    os.makedirs(directory_image, exist_ok=True)\n",
    "    plt.savefig(f\"{directory_image}/rbm_samples.png\")\n",
    "    plt.show()\n"
   ]
  },
  {
   "cell_type": "code",
   "execution_count": null,
   "metadata": {},
   "outputs": [],
   "source": [
    "# configuration = 2 layer with 200 units each\n",
    "configurations_fixe = [200]\n",
    "run_rbm_experiment(configurations_fixe, n_epochs=2, character_sets = [['E'],['E', 'O'], ['E', 'O', 'A'], ['E', 'O', 'A', '2'], ['E', 'O', 'A', '2', '7']])\n"
   ]
  },
  {
   "cell_type": "markdown",
   "metadata": {},
   "source": [
    "### 2. DBM"
   ]
  },
  {
   "cell_type": "markdown",
   "metadata": {},
   "source": [
    "we modify the above corresponding function to have plot adapted to our analysis"
   ]
  },
  {
   "cell_type": "code",
   "execution_count": null,
   "metadata": {},
   "outputs": [],
   "source": [
    "import matplotlib.pyplot as plt\n",
    "import numpy as np\n",
    "import os\n",
    "\n",
    "def run_dbm_experiment(hidden_layers_sizes, n_epochs=100, character_sets=[['A', 'B'], ['1', '2', '3', '4'], ['A', 'B', '1', '2']]):\n",
    "    \"\"\"\n",
    "    Conducts an experiment with Deep Boltzmann Machines (DBMs) on different character sets,\n",
    "    generating multiple samples for each configuration.\n",
    "\n",
    "    Args:\n",
    "        hidden_layers_sizes (list of lists): A list containing the sizes of hidden layers to experiment with.\n",
    "        n_epochs (int): The number of training epochs. Default is 100.\n",
    "        character_sets (list of lists): A list containing different sets of characters to train DBMs on.\n",
    "\n",
    "    For each character set, this function trains a DBM, generates and displays five samples,\n",
    "    and saves the generated images and the complete figure for each set.\n",
    "    \"\"\"\n",
    "    # Assumes there's only one configuration of hidden layers sizes provided\n",
    "    layer_sizes = hidden_layers_sizes[0]\n",
    "\n",
    "    # For each set of characters, generate and display images\n",
    "    for characters in character_sets:\n",
    "        data = read_alpha_digit(characters, file_path=ALPHA_DIGIT_PATH)\n",
    "\n",
    "        # Initialize a new figure\n",
    "        plt.figure(figsize=(15, 3))  # Adjusted size for the set of subplots\n",
    "\n",
    "        print(f\"\\nTraining DBN with hidden layers: {layer_sizes}\")\n",
    "        dbn = DBN(n_visible=data.shape[1], hidden_layer_sizes=layer_sizes, random_state=42)\n",
    "        dbn.train(data, learning_rate=0.1, n_epochs=n_epochs, batch_size=16, print_each=1000000)\n",
    "\n",
    "        # Generate 5 images\n",
    "        generated_images = dbn.generate_image(n_samples=5)\n",
    "\n",
    "        for img_idx in range(5):\n",
    "            ax = plt.subplot(1, 5, img_idx + 1)\n",
    "            ax.imshow(generated_images[img_idx].reshape(20, 16), cmap='plasma')  # Ensure the shape is correct\n",
    "            ax.set_title(f\"N_chars {len(characters)}, generation: {img_idx + 1}\")\n",
    "            ax.axis('off')\n",
    "\n",
    "        # Save the generated images\n",
    "        directory = f\"../resultat/dbn/{'_'.join([str(size) for size in layer_sizes])}_Units_{len(characters)}_Chars\"\n",
    "        os.makedirs(directory, exist_ok=True)\n",
    "        for img_idx, img in enumerate(generated_images):\n",
    "            np.save(f\"{directory}/Sample_{img_idx}_Chars_{''.join(characters)}.npy\", img)\n",
    "\n",
    "        # Save the complete figure for this set of characters\n",
    "        plt.tight_layout()\n",
    "        directory_image = f\"../resultat/images/dbn/{'_'.join(characters)}\"\n",
    "        os.makedirs(directory_image, exist_ok=True)\n",
    "        plt.savefig(f\"{directory_image}/dbn_{len(characters)}_chars_{'_'.join([str(size) for size in layer_sizes])}_Units.png\")\n",
    "\n",
    "    # Display all figures at the end of the loop\n",
    "    plt.show()\n"
   ]
  },
  {
   "cell_type": "code",
   "execution_count": null,
   "metadata": {},
   "outputs": [],
   "source": [
    "# Example fixed configuration: two layers with 200 units each\n",
    "fixed_configuration = [[400, 400, 400, 400]]\n",
    "\n",
    "# Run the experiment with the fixed configuration and different character sets\n",
    "run_dbm_experiment(fixed_configuration, n_epochs=2, character_sets=[['E'],['E', 'Y'], ['E', 'Y', 'A'], ['E', 'Y', 'A', '2'], ['E', 'Y', 'A', '2', '7']])\n"
   ]
  },
  {
   "cell_type": "markdown",
   "metadata": {},
   "source": [
    "# read saved files for RBM and DBM"
   ]
  },
  {
   "cell_type": "code",
   "execution_count": null,
   "metadata": {},
   "outputs": [],
   "source": [
    "import numpy as np\n",
    "import matplotlib.pyplot as plt\n",
    "\n",
    "def load_and_display_image(file_path):\n",
    "    \"\"\"\n",
    "    Charge et affiche une image à partir d'un fichier .npy.\n",
    "    \n",
    "    Args:\n",
    "    file_path (str): Le chemin du fichier .npy à charger.\n",
    "    \"\"\"\n",
    "    # Charger l'image à partir du fichier .npy\n",
    "    image = np.load(file_path)\n",
    "    \n",
    "    image_data_reshaped = image.reshape((20, 16))\n",
    "\n",
    "    # Afficher l'image\n",
    "    plt.imshow(image_data_reshaped, cmap='plasma') # ou 'gray ou 'viridis' ou 'inferno' ou 'plasma' ou 'magma' ou 'cividis')\n",
    "    plt.title(\"Loaded Image\")\n",
    "    plt.axis('off')  # Désactiver les axes pour une meilleure visualisation\n",
    "    plt.show()\n",
    "\n",
    "# Exemple d'utilisation\n",
    "file_path = \"../resultat/dbn/100_Units_2_Layers/Units_100_Chars_A.npy\"\n",
    "load_and_display_image(file_path)\n",
    "\n",
    "file_path2 = \"../resultat/rbn/100_Units_2_Chars.npy\"\n",
    "load_and_display_image(file_path2)"
   ]
  }
 ],
 "metadata": {
  "kernelspec": {
   "display_name": ".venv",
   "language": "python",
   "name": "python3"
  },
  "language_info": {
   "codemirror_mode": {
    "name": "ipython",
    "version": 3
   },
   "file_extension": ".py",
   "mimetype": "text/x-python",
   "name": "python",
   "nbconvert_exporter": "python",
   "pygments_lexer": "ipython3",
   "version": "3.10.11"
  }
 },
 "nbformat": 4,
 "nbformat_minor": 2
}
