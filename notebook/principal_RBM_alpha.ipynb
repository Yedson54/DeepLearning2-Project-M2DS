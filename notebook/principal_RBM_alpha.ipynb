{
 "cells": [
  {
   "cell_type": "markdown",
   "metadata": {},
   "source": [
    "# Restricted Botlzman Machines (RBM)"
   ]
  },
  {
   "cell_type": "code",
   "execution_count": 194,
   "metadata": {},
   "outputs": [],
   "source": [
    "import os\n",
    "from typing import List, Dict, Tuple, Literal, Optional, Union, Iterable\n",
    "\n",
    "import numpy as np\n",
    "import matplotlib.pyplot as plt\n",
    "import pandas as pd\n",
    "import scipy.io\n",
    "from tqdm import tqdm\n",
    "from numpy._typing import ArrayLike\n",
    "\n",
    "ArrayLike = Union[List, Tuple, np.ndarray]"
   ]
  },
  {
   "cell_type": "code",
   "execution_count": 52,
   "metadata": {},
   "outputs": [],
   "source": [
    "DATA_FOLDER = \"../data/\"\n",
    "ALPHA_DIGIT_PATH = os.path.join(DATA_FOLDER, \"binaryalphadigs.mat\")\n",
    "MNIST_PATH = os.path.join(DATA_FOLDER, \"mnist_all.mat\")\n",
    "\n",
    "if not os.path.exists(ALPHA_DIGIT_PATH):\n",
    "    raise FileNotFoundError(f\"The file {ALPHA_DIGIT_PATH} does not exist.\")"
   ]
  },
  {
   "cell_type": "markdown",
   "metadata": {},
   "source": [
    "### 3.1 Implementing a RBM and testing on Binary AlphaDigits"
   ]
  },
  {
   "cell_type": "code",
   "execution_count": 164,
   "metadata": {},
   "outputs": [
    {
     "data": {
      "text/html": [
       "<div>\n",
       "<style scoped>\n",
       "    .dataframe tbody tr th:only-of-type {\n",
       "        vertical-align: middle;\n",
       "    }\n",
       "\n",
       "    .dataframe tbody tr th {\n",
       "        vertical-align: top;\n",
       "    }\n",
       "\n",
       "    .dataframe thead th {\n",
       "        text-align: right;\n",
       "    }\n",
       "</style>\n",
       "<table border=\"1\" class=\"dataframe\">\n",
       "  <thead>\n",
       "    <tr style=\"text-align: right;\">\n",
       "      <th></th>\n",
       "      <th>Class Labels</th>\n",
       "      <th>Class Count</th>\n",
       "    </tr>\n",
       "  </thead>\n",
       "  <tbody>\n",
       "    <tr>\n",
       "      <th>0</th>\n",
       "      <td>0</td>\n",
       "      <td>39</td>\n",
       "    </tr>\n",
       "    <tr>\n",
       "      <th>1</th>\n",
       "      <td>1</td>\n",
       "      <td>39</td>\n",
       "    </tr>\n",
       "    <tr>\n",
       "      <th>2</th>\n",
       "      <td>2</td>\n",
       "      <td>39</td>\n",
       "    </tr>\n",
       "    <tr>\n",
       "      <th>3</th>\n",
       "      <td>3</td>\n",
       "      <td>39</td>\n",
       "    </tr>\n",
       "    <tr>\n",
       "      <th>4</th>\n",
       "      <td>4</td>\n",
       "      <td>39</td>\n",
       "    </tr>\n",
       "    <tr>\n",
       "      <th>5</th>\n",
       "      <td>5</td>\n",
       "      <td>39</td>\n",
       "    </tr>\n",
       "    <tr>\n",
       "      <th>6</th>\n",
       "      <td>6</td>\n",
       "      <td>39</td>\n",
       "    </tr>\n",
       "    <tr>\n",
       "      <th>7</th>\n",
       "      <td>7</td>\n",
       "      <td>39</td>\n",
       "    </tr>\n",
       "    <tr>\n",
       "      <th>8</th>\n",
       "      <td>8</td>\n",
       "      <td>39</td>\n",
       "    </tr>\n",
       "    <tr>\n",
       "      <th>9</th>\n",
       "      <td>9</td>\n",
       "      <td>39</td>\n",
       "    </tr>\n",
       "    <tr>\n",
       "      <th>10</th>\n",
       "      <td>A</td>\n",
       "      <td>39</td>\n",
       "    </tr>\n",
       "    <tr>\n",
       "      <th>11</th>\n",
       "      <td>B</td>\n",
       "      <td>39</td>\n",
       "    </tr>\n",
       "    <tr>\n",
       "      <th>12</th>\n",
       "      <td>C</td>\n",
       "      <td>39</td>\n",
       "    </tr>\n",
       "    <tr>\n",
       "      <th>13</th>\n",
       "      <td>D</td>\n",
       "      <td>39</td>\n",
       "    </tr>\n",
       "    <tr>\n",
       "      <th>14</th>\n",
       "      <td>E</td>\n",
       "      <td>39</td>\n",
       "    </tr>\n",
       "    <tr>\n",
       "      <th>15</th>\n",
       "      <td>F</td>\n",
       "      <td>39</td>\n",
       "    </tr>\n",
       "    <tr>\n",
       "      <th>16</th>\n",
       "      <td>G</td>\n",
       "      <td>39</td>\n",
       "    </tr>\n",
       "    <tr>\n",
       "      <th>17</th>\n",
       "      <td>H</td>\n",
       "      <td>39</td>\n",
       "    </tr>\n",
       "    <tr>\n",
       "      <th>18</th>\n",
       "      <td>I</td>\n",
       "      <td>39</td>\n",
       "    </tr>\n",
       "    <tr>\n",
       "      <th>19</th>\n",
       "      <td>J</td>\n",
       "      <td>39</td>\n",
       "    </tr>\n",
       "    <tr>\n",
       "      <th>20</th>\n",
       "      <td>K</td>\n",
       "      <td>39</td>\n",
       "    </tr>\n",
       "    <tr>\n",
       "      <th>21</th>\n",
       "      <td>L</td>\n",
       "      <td>39</td>\n",
       "    </tr>\n",
       "    <tr>\n",
       "      <th>22</th>\n",
       "      <td>M</td>\n",
       "      <td>39</td>\n",
       "    </tr>\n",
       "    <tr>\n",
       "      <th>23</th>\n",
       "      <td>N</td>\n",
       "      <td>39</td>\n",
       "    </tr>\n",
       "    <tr>\n",
       "      <th>24</th>\n",
       "      <td>O</td>\n",
       "      <td>39</td>\n",
       "    </tr>\n",
       "    <tr>\n",
       "      <th>25</th>\n",
       "      <td>P</td>\n",
       "      <td>39</td>\n",
       "    </tr>\n",
       "    <tr>\n",
       "      <th>26</th>\n",
       "      <td>Q</td>\n",
       "      <td>39</td>\n",
       "    </tr>\n",
       "    <tr>\n",
       "      <th>27</th>\n",
       "      <td>R</td>\n",
       "      <td>39</td>\n",
       "    </tr>\n",
       "    <tr>\n",
       "      <th>28</th>\n",
       "      <td>S</td>\n",
       "      <td>39</td>\n",
       "    </tr>\n",
       "    <tr>\n",
       "      <th>29</th>\n",
       "      <td>T</td>\n",
       "      <td>39</td>\n",
       "    </tr>\n",
       "    <tr>\n",
       "      <th>30</th>\n",
       "      <td>U</td>\n",
       "      <td>39</td>\n",
       "    </tr>\n",
       "    <tr>\n",
       "      <th>31</th>\n",
       "      <td>V</td>\n",
       "      <td>39</td>\n",
       "    </tr>\n",
       "    <tr>\n",
       "      <th>32</th>\n",
       "      <td>W</td>\n",
       "      <td>39</td>\n",
       "    </tr>\n",
       "    <tr>\n",
       "      <th>33</th>\n",
       "      <td>X</td>\n",
       "      <td>39</td>\n",
       "    </tr>\n",
       "    <tr>\n",
       "      <th>34</th>\n",
       "      <td>Y</td>\n",
       "      <td>39</td>\n",
       "    </tr>\n",
       "    <tr>\n",
       "      <th>35</th>\n",
       "      <td>Z</td>\n",
       "      <td>39</td>\n",
       "    </tr>\n",
       "  </tbody>\n",
       "</table>\n",
       "</div>"
      ],
      "text/plain": [
       "   Class Labels  Class Count\n",
       "0             0           39\n",
       "1             1           39\n",
       "2             2           39\n",
       "3             3           39\n",
       "4             4           39\n",
       "5             5           39\n",
       "6             6           39\n",
       "7             7           39\n",
       "8             8           39\n",
       "9             9           39\n",
       "10            A           39\n",
       "11            B           39\n",
       "12            C           39\n",
       "13            D           39\n",
       "14            E           39\n",
       "15            F           39\n",
       "16            G           39\n",
       "17            H           39\n",
       "18            I           39\n",
       "19            J           39\n",
       "20            K           39\n",
       "21            L           39\n",
       "22            M           39\n",
       "23            N           39\n",
       "24            O           39\n",
       "25            P           39\n",
       "26            Q           39\n",
       "27            R           39\n",
       "28            S           39\n",
       "29            T           39\n",
       "30            U           39\n",
       "31            V           39\n",
       "32            W           39\n",
       "33            X           39\n",
       "34            Y           39\n",
       "35            Z           39"
      ]
     },
     "execution_count": 164,
     "metadata": {},
     "output_type": "execute_result"
    }
   ],
   "source": [
    "def _load_data(file_path: str) -> Dict[str, np.ndarray]:\n",
    "    \"\"\"\n",
    "    Load Binary AlphaDigits data from a .mat file.\n",
    "\n",
    "    Parameters:\n",
    "    - file_path (str): Path to the .mat file containing the data.\n",
    "\n",
    "    Returns:\n",
    "    - data (dict): Loaded data dictionary.\n",
    "    \"\"\"\n",
    "    if file_path is None:\n",
    "        raise ValueError(\"File path must be provided.\")\n",
    "\n",
    "    return scipy.io.loadmat(file_path)\n",
    "\n",
    "\n",
    "data = _load_data(ALPHA_DIGIT_PATH)\n",
    "class_labels = data[\"classlabels\"].flatten() \n",
    "class_count = data[\"classcounts\"].flatten()\n",
    "df = pd.DataFrame(\n",
    "    {\n",
    "        \"Class Labels\": class_labels,\n",
    "        \"Class Count\": class_count\n",
    "    }\n",
    ")\n",
    "df[\"Class Labels\"] = df[\"Class Labels\"].apply(lambda x: x[0])\n",
    "df[\"Class Count\"] = df[\"Class Count\"].apply(lambda x: x[0][0])\n",
    "df"
   ]
  },
  {
   "cell_type": "code",
   "execution_count": 176,
   "metadata": {},
   "outputs": [
    {
     "name": "stdout",
     "output_type": "stream",
     "text": [
      "(36, 39)\n",
      "(20, 16)\n"
     ]
    }
   ],
   "source": [
    "def _load_data(file_path: str, which: Literal[\"alphadigit\", \"mnist\"]=\"alphadigit\") -> Dict[str, np.ndarray]:\n",
    "    \"\"\"\n",
    "    Load Binary AlphaDigits data from a .mat file.\n",
    "\n",
    "    Parameters:\n",
    "    - file_path (str): Path to the .mat file containing the data.\n",
    "    - which (Literal[\"alphadigit\", \"mnist\"], optional): Specifies \n",
    "        which data to load. The default value is \"alphadigit\".\n",
    "\n",
    "    Returns:\n",
    "    - data (dict): A dictionary containing the loaded data.\n",
    "\n",
    "    Raises:\n",
    "    - ValueError: If the file_path parameter is None.\n",
    "    - ValueError: If the which parameter is not \"alphadigit\".\n",
    "\n",
    "    Example Usage:\n",
    "    ```python\n",
    "    data = _load_data(\"data.mat\", \"alphadigit\")\n",
    "    ```\n",
    "    \"\"\"\n",
    "    if file_path is None:\n",
    "        raise ValueError(\"File path must be provided.\")\n",
    "    \n",
    "    if which == \"alphadigit\":\n",
    "        return scipy.io.loadmat(file_path)[\"dat\"]\n",
    "    \n",
    "    raise ValueError(\"MNIST NOT YET AVAILABLE.\")\n",
    "\n",
    "alphadigit_data = _load_data(ALPHA_DIGIT_PATH) \n",
    "print(alphadigit_data.shape)\n",
    "print(alphadigit_data[0][0].shape)"
   ]
  },
  {
   "cell_type": "code",
   "execution_count": 177,
   "metadata": {},
   "outputs": [
    {
     "name": "stdout",
     "output_type": "stream",
     "text": [
      "0 > map to > [0]\n",
      "10 > map to > [10]\n",
      "A > map to > [10]\n",
      "[1, 'C'] > map to > [[1], [12]]\n",
      "36 > no mapping available, out of range\n"
     ]
    }
   ],
   "source": [
    "def _map_characters_to_indices(characters: Union[str, int, List[Union[str, int]]]) -> List[int]:\n",
    "    \"\"\"\n",
    "    Map alphanumeric character to its corresponding index.\n",
    "\n",
    "    Parameters:\n",
    "    - character (str, int, list of str or int): Alphanumeric character or its index.\n",
    "\n",
    "    Returns:\n",
    "    - char_index (int): Corresponding index for the character.\n",
    "    \"\"\"\n",
    "    if isinstance(characters, list):\n",
    "        return [_map_characters_to_indices(char) for char in characters]\n",
    "    if isinstance(characters, int) and 0 <= characters <= 35:\n",
    "        return [characters]\n",
    "    if (isinstance(characters, str) and characters.isdigit()\n",
    "          and 0 <= int(characters) <= 9):\n",
    "        return [int(characters)]\n",
    "    if (isinstance(characters, str) and characters.isalpha()\n",
    "          and 'A' <= characters.upper() <= 'Z'):\n",
    "        return [ord(characters.upper()) - ord('A') + 10]\n",
    "    \n",
    "    raise ValueError(\n",
    "        \"Invalid character input. It should be an alphanumeric\" \n",
    "        \"character '[0-9|A-Z]' or its index representing '[0-35]'.\"\n",
    "    )\n",
    "\n",
    "for char in [0, 10, \"A\", [1, \"C\"], 36]:\n",
    "    try:\n",
    "        map = _map_characters_to_indices(char)\n",
    "        print(f\"{char} > map to > {map}\")\n",
    "    except:\n",
    "        print(f\"{char} > no mapping available, out of range\")"
   ]
  },
  {
   "cell_type": "code",
   "execution_count": 183,
   "metadata": {},
   "outputs": [
    {
     "name": "stdout",
     "output_type": "stream",
     "text": [
      "(78, 320)\n"
     ]
    },
    {
     "data": {
      "image/png": "[encoded data removed]",
      "text/plain": [
       "<Figure size 640x480 with 1 Axes>"
      ]
     },
     "metadata": {},
     "output_type": "display_data"
    },
    {
     "data": {
      "image/png": "[encoded data removed]",
      "text/plain": [
       "<Figure size 640x480 with 1 Axes>"
      ]
     },
     "metadata": {},
     "output_type": "display_data"
    }
   ],
   "source": [
    "def read_alpha_digit(characters: Optional[Union[str, int, List[Union[str, int]]]] = None,\n",
    "                     file_path: Optional[str] = ALPHA_DIGIT_PATH,\n",
    "                     data: Optional[Dict[str, np.ndarray]] = None,\n",
    "                     use_data: bool = False,\n",
    "                     ) -> np.ndarray:\n",
    "    \"\"\"\n",
    "    Reads binary AlphaDigits data from a .mat file or uses already loaded data. \n",
    "    It extracts the data for a specified alphanumeric character or its index, and \n",
    "    flattens the images into one-dimensional vectors.\n",
    "\n",
    "    Parameters:\n",
    "    - characters (Union[str, int, List[Union[str, int]]], optional): Alphanumeric character \n",
    "        or its index whose data needs to be extracted. It can be a single character or \n",
    "        a list of characters. Default is None.\n",
    "    - file_path (str, optional): Path to the .mat file containing the data. \n",
    "        Default is None.\n",
    "    - data (dict, optional): Already loaded data dictionary. \n",
    "        Default is None.\n",
    "    - use_data (bool): Flag to indicate whether to use already loaded data.\n",
    "        Default is False.\n",
    "\n",
    "    Returns:\n",
    "    - flattened_images (numpy.ndarray): Flattened images for the specified character(s).\n",
    "    \"\"\"\n",
    "    if not use_data:\n",
    "        data = _load_data(file_path, which=\"alphadigit\")\n",
    "\n",
    "    char_indices = _map_characters_to_indices(characters)\n",
    "\n",
    "    # Select the rows corresponding to the characters indices.\n",
    "    char_data: np.ndarray = data[char_indices]\n",
    "    \n",
    "    # Flatten each image into a one-dimensional vector.\n",
    "    flattened_images = np.array([image.flatten() for image in char_data.flatten()])\n",
    "    return flattened_images\n",
    "\n",
    "char = [20, \"Z\"]\n",
    "data = read_alpha_digit(char, ALPHA_DIGIT_PATH)\n",
    "print(data.shape)\n",
    "plt.imshow(data[0].reshape(20, 16), cmap=\"gray\")\n",
    "plt.show()\n",
    "plt.imshow(data[40].reshape(20, 16), cmap=\"gray\")\n",
    "plt.show()\n"
   ]
  },
  {
   "cell_type": "code",
   "execution_count": 179,
   "metadata": {},
   "outputs": [
    {
     "name": "stdout",
     "output_type": "stream",
     "text": [
      "data shape: (78, 320)\n"
     ]
    }
   ],
   "source": [
    "print(\"data shape:\", data.shape)"
   ]
  },
  {
   "cell_type": "code",
   "execution_count": 205,
   "metadata": {},
   "outputs": [],
   "source": [
    "class RBM:\n",
    "    def __init__(self, n_visible: int, n_hidden: int, random_state=None) -> None:\n",
    "        \"\"\"\n",
    "        Initialize the Restricted Boltzmann Machine.\n",
    "\n",
    "        Parameters:\n",
    "        - n_visible (int): Number of visible units.\n",
    "        - n_hidden (int): Number of hidden units.\n",
    "        - random_state: Random seed for reproducibility.\n",
    "        \"\"\"\n",
    "        self.n_visible = n_visible\n",
    "        self.n_hidden = n_hidden\n",
    "        \n",
    "        self.a = np.zeros((1, n_visible))\n",
    "        self.b = np.zeros((1, n_hidden))\n",
    "        self.rng = np.random.default_rng(random_state)\n",
    "        self.W = 1e-4 * self.rng.standard_normal(size=(n_visible, n_hidden))\n",
    "\n",
    "    def _sigmoid(self, x: np.ndarray) -> np.ndarray:\n",
    "        \"\"\"\n",
    "        Sigmoid activation function.\n",
    "\n",
    "        Parameters:\n",
    "        - x (numpy.ndarray): Input array.\n",
    "\n",
    "        Returns:\n",
    "        - numpy.ndarray: Result of applying the sigmoid function to the input.\n",
    "        \"\"\"\n",
    "        return 1 / (1 + np.exp(-x))\n",
    "    \n",
    "    def _reconstruction_error(self, input: np.ndarray, image: np.ndarray) -> float:\n",
    "        \"\"\"\n",
    "        Compute reconstruction error.\n",
    "\n",
    "        Parameters:\n",
    "        - input (numpy.ndarray): Original input data.\n",
    "        - image (numpy.ndarray): Reconstructed image.\n",
    "\n",
    "        Returns:\n",
    "        - float: Reconstruction error.\n",
    "        \"\"\"\n",
    "        return np.round(np.power(image - input, 2).mean(), 3)\n",
    "\n",
    "    def entree_sortie(self, data: np.ndarray) -> np.ndarray:\n",
    "        \"\"\"\n",
    "        Compute hidden units given visible units.\n",
    "\n",
    "        Parameters:\n",
    "        - data (numpy.ndarray): Input data, shape (n_samples, n_visible).\n",
    "\n",
    "        Returns:\n",
    "        - numpy.ndarray: Hidden unit activations, shape (n_samples, n_hidden).\n",
    "        \"\"\"\n",
    "        return self._sigmoid(data @ self.W + self.b)\n",
    "\n",
    "    def sortie_entree(self, data_h: np.ndarray) -> np.ndarray:\n",
    "        \"\"\"\n",
    "        Compute visible units given hidden units.\n",
    "\n",
    "        Parameters:\n",
    "        - data_h (numpy.ndarray): Hidden unit activations, shape (n_samples, n_hidden).\n",
    "\n",
    "        Returns:\n",
    "        - numpy.ndarray: Reconstructed visible units, shape (n_samples, n_visible).\n",
    "        \"\"\"\n",
    "        return self._sigmoid(data_h @ self.W.T + self.a)\n",
    "\n",
    "    def train(self, data: np.ndarray, learning_rate: float=0.1, n_epochs: int=10, batch_size: int=10, print_each=10) -> 'RBM':\n",
    "        \"\"\"\n",
    "        Train the RBM using Contrastive Divergence.\n",
    "\n",
    "        Parameters:\n",
    "        - data (numpy.ndarray): Input data, shape (n_samples, n_visible).\n",
    "        - learning_rate (float): Learning rate for gradient descent. Default is 0.1.\n",
    "        - n_epochs (int): Number of training epochs. Default is 10.\n",
    "        - batch_size (int): Size of mini-batches. Default is 10.\n",
    "\n",
    "        Returns:\n",
    "        - RBM: Trained RBM instance.\n",
    "        \"\"\"\n",
    "        n_samples = data.shape[0]\n",
    "        for epoch in range(n_epochs):\n",
    "            self.rng.shuffle(data)\n",
    "            for i in tqdm(range(0, n_samples, batch_size), desc=f\"Epoch {epoch}\"):\n",
    "                batch = data[i:i+batch_size]\n",
    "                pos_h_probs = self.entree_sortie(batch)\n",
    "                pos_v_probs = self.sortie_entree(pos_h_probs)\n",
    "                neg_h_probs = self.entree_sortie(pos_v_probs)\n",
    "                \n",
    "                # Update weights and biases\n",
    "                self.W += learning_rate * (batch.T @ pos_h_probs - pos_v_probs.T @ neg_h_probs) / batch_size\n",
    "                self.b += learning_rate * (pos_h_probs.mean(axis=0) - neg_h_probs.mean(axis=0))\n",
    "                self.a += learning_rate * (batch.mean(axis=0) - pos_v_probs.mean(axis=0))\n",
    "                \n",
    "            if epoch % print_each == 0:\n",
    "                tqdm.write(\n",
    "                    f\"Reconstruction error: {self._reconstruction_error(batch, pos_v_probs)}.\")\n",
    "\n",
    "        return self\n",
    "\n",
    "    def generer_image(self, n_samples: int=1, n_gibbs_steps: int=1) -> np.ndarray:\n",
    "        \"\"\"\n",
    "        Generate samples from the RBM using Gibbs sampling.\n",
    "\n",
    "        Parameters:\n",
    "        - n_samples (int): Number of samples to generate. Default is 1.\n",
    "        - n_gibbs_steps (int): Number of Gibbs sampling steps. Default is 100.\n",
    "\n",
    "        Returns:\n",
    "        - numpy.ndarray: Generated samples, shape (n_samples, n_visible).\n",
    "        \"\"\"\n",
    "        samples = np.zeros((n_samples, self.n_visible))\n",
    "        \n",
    "        # Matrix of initlization value of Gibbs samples for each sample. \n",
    "        V = self.rng.binomial(1, self.rng.random(), size=n_samples * self.n_visible).reshape((n_samples, self.n_visible))\n",
    "        for i in range(n_samples):\n",
    "            for _ in range(n_gibbs_steps):\n",
    "                h_probs = self._sigmoid(V[i] @ self.W + self.b)\n",
    "                h = self.rng.binomial(1, h_probs)\n",
    "                v_probs = self._sigmoid(h @ self.W.T + self.a)\n",
    "                v = self.rng.binomial(1, v_probs)\n",
    "            samples[i] = v\n",
    "        return samples\n"
   ]
  },
  {
   "cell_type": "code",
   "execution_count": 207,
   "metadata": {},
   "outputs": [
    {
     "name": "stderr",
     "output_type": "stream",
     "text": [
      "Epoch 0: 100%|██████████| 4/4 [00:00<00:00, 999.83it/s]\n"
     ]
    },
    {
     "name": "stdout",
     "output_type": "stream",
     "text": [
      "Reconstruction error: 0.163.\n"
     ]
    },
    {
     "name": "stderr",
     "output_type": "stream",
     "text": [
      "Epoch 1: 100%|██████████| 4/4 [00:00<00:00, 1333.64it/s]\n",
      "Epoch 2: 100%|██████████| 4/4 [00:00<00:00, 1000.67it/s]\n",
      "Epoch 3: 100%|██████████| 4/4 [00:00<00:00, 999.89it/s]\n",
      "Epoch 4: 100%|██████████| 4/4 [00:00<00:00, 998.94it/s]\n",
      "Epoch 5: 100%|██████████| 4/4 [00:00<00:00, 999.89it/s]\n",
      "Epoch 6: 100%|██████████| 4/4 [00:00<00:00, 799.37it/s]\n",
      "Epoch 7: 100%|██████████| 4/4 [00:00<00:00, 499.96it/s]\n",
      "Epoch 8: 100%|██████████| 4/4 [00:00<00:00, 800.36it/s]\n",
      "Epoch 9: 100%|██████████| 4/4 [00:00<00:00, 798.80it/s]\n",
      "Epoch 10: 100%|██████████| 4/4 [00:00<00:00, 799.56it/s]\n"
     ]
    },
    {
     "name": "stdout",
     "output_type": "stream",
     "text": [
      "Reconstruction error: 0.141.\n"
     ]
    },
    {
     "name": "stderr",
     "output_type": "stream",
     "text": [
      "Epoch 11: 100%|██████████| 4/4 [00:00<00:00, 800.52it/s]\n",
      "Epoch 12: 100%|██████████| 4/4 [00:00<00:00, 1000.01it/s]\n",
      "Epoch 13: 100%|██████████| 4/4 [00:00<00:00, 800.02it/s]\n",
      "Epoch 14: 100%|██████████| 4/4 [00:00<00:00, 999.77it/s]\n",
      "Epoch 15: 100%|██████████| 4/4 [00:00<00:00, 666.82it/s]\n",
      "Epoch 16: 100%|██████████| 4/4 [00:00<00:00, 801.09it/s]\n",
      "Epoch 17: 100%|██████████| 4/4 [00:00<00:00, 800.52it/s]\n",
      "Epoch 18: 100%|██████████| 4/4 [00:00<00:00, 800.33it/s]\n",
      "Epoch 19: 100%|██████████| 4/4 [00:00<00:00, 1001.57it/s]\n",
      "Epoch 20: 100%|██████████| 4/4 [00:00<00:00, 1000.19it/s]\n"
     ]
    },
    {
     "name": "stdout",
     "output_type": "stream",
     "text": [
      "Reconstruction error: 0.106.\n"
     ]
    },
    {
     "name": "stderr",
     "output_type": "stream",
     "text": [
      "Epoch 21: 100%|██████████| 4/4 [00:00<00:00, 798.34it/s]\n",
      "Epoch 22: 100%|██████████| 4/4 [00:00<00:00, 999.66it/s]\n",
      "Epoch 23: 100%|██████████| 4/4 [00:00<00:00, 666.50it/s]\n",
      "Epoch 24: 100%|██████████| 4/4 [00:00<00:00, 666.90it/s]\n",
      "Epoch 25: 100%|██████████| 4/4 [00:00<00:00, 85.11it/s]\n",
      "Epoch 26: 100%|██████████| 4/4 [00:00<00:00, 668.18it/s]\n",
      "Epoch 27: 100%|██████████| 4/4 [00:00<00:00, 666.79it/s]\n",
      "Epoch 28: 100%|██████████| 4/4 [00:00<00:00, 399.90it/s]\n",
      "Epoch 29: 100%|██████████| 4/4 [00:00<00:00, 666.93it/s]\n",
      "Epoch 30: 100%|██████████| 4/4 [00:00<00:00, 667.22it/s]\n"
     ]
    },
    {
     "name": "stdout",
     "output_type": "stream",
     "text": [
      "Reconstruction error: 0.088.\n"
     ]
    },
    {
     "name": "stderr",
     "output_type": "stream",
     "text": [
      "Epoch 31: 100%|██████████| 4/4 [00:00<00:00, 800.06it/s]\n",
      "Epoch 32: 100%|██████████| 4/4 [00:00<00:00, 799.87it/s]\n",
      "Epoch 33: 100%|██████████| 4/4 [00:00<00:00, 799.79it/s]\n",
      "Epoch 34: 100%|██████████| 4/4 [00:00<00:00, 666.74it/s]\n",
      "Epoch 35: 100%|██████████| 4/4 [00:00<00:00, 800.10it/s]\n",
      "Epoch 36: 100%|██████████| 4/4 [00:00<00:00, 800.10it/s]\n",
      "Epoch 37: 100%|██████████| 4/4 [00:00<00:00, 1000.01it/s]\n",
      "Epoch 38: 100%|██████████| 4/4 [00:00<00:00, 799.91it/s]\n",
      "Epoch 39: 100%|██████████| 4/4 [00:00<00:00, 799.98it/s]\n",
      "Epoch 40: 100%|██████████| 4/4 [00:00<00:00, 800.02it/s]\n"
     ]
    },
    {
     "name": "stdout",
     "output_type": "stream",
     "text": [
      "Reconstruction error: 0.074.\n"
     ]
    },
    {
     "name": "stderr",
     "output_type": "stream",
     "text": [
      "Epoch 41: 100%|██████████| 4/4 [00:00<00:00, 1333.75it/s]\n",
      "Epoch 42: 100%|██████████| 4/4 [00:00<00:00, 1000.49it/s]\n",
      "Epoch 43: 100%|██████████| 4/4 [00:00<00:00, 999.89it/s]\n",
      "Epoch 44: 100%|██████████| 4/4 [00:00<00:00, 798.88it/s]\n",
      "Epoch 45: 100%|██████████| 4/4 [00:00<00:00, 999.89it/s]\n",
      "Epoch 46: 100%|██████████| 4/4 [00:00<00:00, 1000.43it/s]\n",
      "Epoch 47: 100%|██████████| 4/4 [00:00<00:00, 799.87it/s]\n",
      "Epoch 48: 100%|██████████| 4/4 [00:00<00:00, 799.83it/s]\n",
      "Epoch 49: 100%|██████████| 4/4 [00:00<00:00, 999.54it/s]\n",
      "Epoch 50: 100%|██████████| 4/4 [00:00<00:00, 1000.13it/s]\n"
     ]
    },
    {
     "name": "stdout",
     "output_type": "stream",
     "text": [
      "Reconstruction error: 0.057.\n"
     ]
    },
    {
     "name": "stderr",
     "output_type": "stream",
     "text": [
      "Epoch 51: 100%|██████████| 4/4 [00:00<00:00, 1000.13it/s]\n",
      "Epoch 52: 100%|██████████| 4/4 [00:00<00:00, 999.12it/s]\n",
      "Epoch 53: 100%|██████████| 4/4 [00:00<00:00, 799.07it/s]\n",
      "Epoch 54: 100%|██████████| 4/4 [00:00<00:00, 799.71it/s]\n",
      "Epoch 55: 100%|██████████| 4/4 [00:00<00:00, 800.02it/s]\n",
      "Epoch 56: 100%|██████████| 4/4 [00:00<00:00, 799.98it/s]\n",
      "Epoch 57: 100%|██████████| 4/4 [00:00<00:00, 799.91it/s]\n",
      "Epoch 58: 100%|██████████| 4/4 [00:00<00:00, 799.60it/s]\n",
      "Epoch 59: 100%|██████████| 4/4 [00:00<00:00, 799.87it/s]\n",
      "Epoch 60: 100%|██████████| 4/4 [00:00<00:00, 799.49it/s]\n"
     ]
    },
    {
     "name": "stdout",
     "output_type": "stream",
     "text": [
      "Reconstruction error: 0.048.\n"
     ]
    },
    {
     "name": "stderr",
     "output_type": "stream",
     "text": [
      "Epoch 61: 100%|██████████| 4/4 [00:00<00:00, 800.63it/s]\n",
      "Epoch 62: 100%|██████████| 4/4 [00:00<00:00, 1000.07it/s]\n",
      "Epoch 63: 100%|██████████| 4/4 [00:00<00:00, 500.04it/s]\n",
      "Epoch 64: 100%|██████████| 4/4 [00:00<00:00, 801.09it/s]\n",
      "Epoch 65: 100%|██████████| 4/4 [00:00<00:00, 666.29it/s]\n",
      "Epoch 66: 100%|██████████| 4/4 [00:00<00:00, 443.71it/s]\n",
      "Epoch 67: 100%|██████████| 4/4 [00:00<00:00, 666.74it/s]\n",
      "Epoch 68: 100%|██████████| 4/4 [00:00<00:00, 799.79it/s]\n",
      "Epoch 69: 100%|██████████| 4/4 [00:00<00:00, 800.97it/s]\n",
      "Epoch 70: 100%|██████████| 4/4 [00:00<00:00, 800.02it/s]\n"
     ]
    },
    {
     "name": "stdout",
     "output_type": "stream",
     "text": [
      "Reconstruction error: 0.031.\n"
     ]
    },
    {
     "name": "stderr",
     "output_type": "stream",
     "text": [
      "Epoch 71: 100%|██████████| 4/4 [00:00<00:00, 799.83it/s]\n",
      "Epoch 72: 100%|██████████| 4/4 [00:00<00:00, 799.71it/s]\n",
      "Epoch 73: 100%|██████████| 4/4 [00:00<00:00, 666.69it/s]\n",
      "Epoch 74: 100%|██████████| 4/4 [00:00<00:00, 665.23it/s]\n",
      "Epoch 75: 100%|██████████| 4/4 [00:00<00:00, 666.58it/s]\n",
      "Epoch 76: 100%|██████████| 4/4 [00:00<00:00, 571.43it/s]\n",
      "Epoch 77: 100%|██████████| 4/4 [00:00<00:00, 799.71it/s]\n",
      "Epoch 78: 100%|██████████| 4/4 [00:00<00:00, 799.75it/s]\n",
      "Epoch 79: 100%|██████████| 4/4 [00:00<00:00, 666.69it/s]\n",
      "Epoch 80: 100%|██████████| 4/4 [00:00<00:00, 800.52it/s]\n"
     ]
    },
    {
     "name": "stdout",
     "output_type": "stream",
     "text": [
      "Reconstruction error: 0.036.\n"
     ]
    },
    {
     "name": "stderr",
     "output_type": "stream",
     "text": [
      "Epoch 81: 100%|██████████| 4/4 [00:00<00:00, 666.95it/s]\n",
      "Epoch 82: 100%|██████████| 4/4 [00:00<00:00, 799.94it/s]\n",
      "Epoch 83: 100%|██████████| 4/4 [00:00<00:00, 399.98it/s]\n",
      "Epoch 84: 100%|██████████| 4/4 [00:00<00:00, 571.41it/s]\n",
      "Epoch 85: 100%|██████████| 4/4 [00:00<00:00, 571.43it/s]\n",
      "Epoch 86: 100%|██████████| 4/4 [00:00<00:00, 571.39it/s]\n",
      "Epoch 87: 100%|██████████| 4/4 [00:00<00:00, 571.37it/s]\n",
      "Epoch 88: 100%|██████████| 4/4 [00:00<00:00, 137.94it/s]\n",
      "Epoch 89: 100%|██████████| 4/4 [00:00<00:00, 222.20it/s]\n",
      "Epoch 90: 100%|██████████| 4/4 [00:00<00:00, 571.68it/s]\n"
     ]
    },
    {
     "name": "stdout",
     "output_type": "stream",
     "text": [
      "Reconstruction error: 0.023.\n"
     ]
    },
    {
     "name": "stderr",
     "output_type": "stream",
     "text": [
      "Epoch 91: 100%|██████████| 4/4 [00:00<00:00, 363.50it/s]\n",
      "Epoch 92: 100%|██████████| 4/4 [00:00<00:00, 363.65it/s]\n",
      "Epoch 93: 100%|██████████| 4/4 [00:00<00:00, 666.71it/s]\n",
      "Epoch 94: 100%|██████████| 4/4 [00:00<00:00, 800.97it/s]\n",
      "Epoch 95: 100%|██████████| 4/4 [00:00<00:00, 799.79it/s]\n",
      "Epoch 96: 100%|██████████| 4/4 [00:00<00:00, 800.02it/s]\n",
      "Epoch 97: 100%|██████████| 4/4 [00:00<00:00, 666.58it/s]\n",
      "Epoch 98: 100%|██████████| 4/4 [00:00<00:00, 1000.79it/s]\n",
      "Epoch 99: 100%|██████████| 4/4 [00:00<00:00, 798.99it/s]\n"
     ]
    },
    {
     "data": {
      "image/png": "[encoded data removed]",
      "text/plain": [
       "<Figure size 1200x600 with 20 Axes>"
      ]
     },
     "metadata": {},
     "output_type": "display_data"
    }
   ],
   "source": [
    "# Load the alpha_digit data\n",
    "data = read_alpha_digit(file_path=ALPHA_DIGIT_PATH, characters='Z')\n",
    "\n",
    "# Initialize RBM\n",
    "n_visible = data.shape[1]  # Number of visible units (size of each image)\n",
    "n_hidden = 100  # Number of hidden units (hyperparameter)\n",
    "rbm = RBM(n_visible=n_visible, n_hidden=n_hidden, random_state=42)\n",
    "\n",
    "# Train RBM\n",
    "rbm.train(data, learning_rate=0.1, n_epochs=100, batch_size=10)\n",
    "\n",
    "# Generate samples\n",
    "generated_samples = rbm.generer_image(n_samples=10, n_gibbs_steps=1)\n",
    "\n",
    "# Plot original and generated samples\n",
    "plt.figure(figsize=(12, 6))\n",
    "for i in range(10):\n",
    "    plt.subplot(2, 10, i + 1)\n",
    "    plt.imshow(data[i].reshape(20, 16), cmap='gray')\n",
    "    plt.title('Original')\n",
    "    plt.axis('off')\n",
    "    \n",
    "    plt.subplot(2, 10, i + 11)\n",
    "    plt.imshow(generated_samples[i].reshape(20, 16), cmap='gray')\n",
    "    plt.title('Generated')\n",
    "    plt.axis('off')\n",
    "\n",
    "plt.show()"
   ]
  },
  {
   "cell_type": "code",
   "execution_count": null,
   "metadata": {},
   "outputs": [],
   "source": []
  }
 ],
 "metadata": {
  "kernelspec": {
   "display_name": ".venv",
   "language": "python",
   "name": "python3"
  },
  "language_info": {
   "codemirror_mode": {
    "name": "ipython",
    "version": 3
   },
   "file_extension": ".py",
   "mimetype": "text/x-python",
   "name": "python",
   "nbconvert_exporter": "python",
   "pygments_lexer": "ipython3",
   "version": "3.10.11"
  }
 },
 "nbformat": 4,
 "nbformat_minor": 2
}
